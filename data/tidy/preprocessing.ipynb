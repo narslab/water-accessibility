{
 "cells": [
  {
   "cell_type": "markdown",
   "metadata": {},
   "source": [
    "preprocessing"
   ]
  },
  {
   "cell_type": "code",
   "execution_count": 287,
   "metadata": {},
   "outputs": [],
   "source": [
    "library(readxl)\n",
    "library(tidyverse)\n",
    "library(writexl)\n",
    "library(dplyr)"
   ]
  },
  {
   "cell_type": "code",
   "execution_count": 288,
   "metadata": {},
   "outputs": [
    {
     "data": {
      "text/html": [
       "<table class=\"dataframe\">\n",
       "<caption>A tibble: 6 × 76</caption>\n",
       "<thead>\n",
       "\t<tr><th scope=col>Country</th><th scope=col>Year</th><th scope=col>Survey</th><th scope=col>imws</th><th scope=col>phom</th><th scope=col>pipy</th><th scope=col>ptap</th><th scope=col>H_PN</th><th scope=col>H_POP</th><th scope=col>bore</th><th scope=col>...</th><th scope=col>cart</th><th scope=col>mcyc</th><th scope=col>pcar</th><th scope=col>boat</th><th scope=col>P_LWQ</th><th scope=col>P_SWQ</th><th scope=col>P_MWQ</th><th scope=col>P_FWQ</th><th scope=col>P_HWQ</th><th scope=col>wigc</th></tr>\n",
       "\t<tr><th scope=col>&lt;chr&gt;</th><th scope=col>&lt;chr&gt;</th><th scope=col>&lt;chr&gt;</th><th scope=col>&lt;dbl&gt;</th><th scope=col>&lt;dbl&gt;</th><th scope=col>&lt;dbl&gt;</th><th scope=col>&lt;dbl&gt;</th><th scope=col>&lt;dbl&gt;</th><th scope=col>&lt;dbl&gt;</th><th scope=col>&lt;dbl&gt;</th><th scope=col>...</th><th scope=col>&lt;dbl&gt;</th><th scope=col>&lt;dbl&gt;</th><th scope=col>&lt;dbl&gt;</th><th scope=col>&lt;dbl&gt;</th><th scope=col>&lt;dbl&gt;</th><th scope=col>&lt;dbl&gt;</th><th scope=col>&lt;dbl&gt;</th><th scope=col>&lt;dbl&gt;</th><th scope=col>&lt;dbl&gt;</th><th scope=col>&lt;dbl&gt;</th></tr>\n",
       "</thead>\n",
       "<tbody>\n",
       "\t<tr><td>Afghanistan</td><td>2015   </td><td>DHS</td><td>71.2</td><td> 2.3</td><td> 4.8</td><td>14.2</td><td>  NA</td><td>NA</td><td>20.1</td><td>...</td><td>5.8</td><td>35.2</td><td>11.8</td><td> NA</td><td>20</td><td>20.0</td><td>20.0</td><td>20</td><td>20.0</td><td>0.1</td></tr>\n",
       "\t<tr><td>Albania    </td><td>2017-18</td><td>DHS</td><td>98.4</td><td>48.8</td><td> 5.2</td><td> 2.4</td><td>  NA</td><td>NA</td><td> 1.4</td><td>...</td><td>3.2</td><td> 9.6</td><td>37.0</td><td>0.7</td><td>20</td><td>20.0</td><td>20.0</td><td>20</td><td>20.0</td><td>0.1</td></tr>\n",
       "\t<tr><td>Albania    </td><td>2008-09</td><td>DHS</td><td>96.8</td><td>52.1</td><td> 9.7</td><td> 2.7</td><td>  NA</td><td>NA</td><td> 4.4</td><td>...</td><td>5.0</td><td>10.0</td><td>29.1</td><td>0.6</td><td>20</td><td>20.0</td><td>20.0</td><td>20</td><td>20.0</td><td> NA</td></tr>\n",
       "\t<tr><td>Angola     </td><td>2015-16</td><td>DHS</td><td>66.9</td><td> 4.3</td><td> 9.7</td><td>10.3</td><td>11.4</td><td>NA</td><td> 1.9</td><td>...</td><td>1.3</td><td>17.8</td><td>10.9</td><td>0.4</td><td>20</td><td>20.0</td><td>20.0</td><td>20</td><td>20.0</td><td>0.3</td></tr>\n",
       "\t<tr><td>Angola     </td><td>2011   </td><td>MIS</td><td>58.9</td><td> 5.7</td><td> 7.0</td><td>17.0</td><td>  NA</td><td>NA</td><td> 3.2</td><td>...</td><td> NA</td><td>14.6</td><td>12.2</td><td>1.0</td><td>20</td><td>20.0</td><td>20.0</td><td>20</td><td>20.0</td><td> NA</td></tr>\n",
       "\t<tr><td>Angola     </td><td>2006-07</td><td>MIS</td><td>65.6</td><td> 5.5</td><td>10.7</td><td> 9.6</td><td>  NA</td><td>NA</td><td> 1.1</td><td>...</td><td>1.4</td><td> 9.2</td><td>14.0</td><td> NA</td><td>20</td><td>20.1</td><td>19.9</td><td>20</td><td>20.1</td><td> NA</td></tr>\n",
       "</tbody>\n",
       "</table>\n"
      ],
      "text/latex": [
       "A tibble: 6 × 76\n",
       "\\begin{tabular}{lllllllllllllllllllll}\n",
       " Country & Year & Survey & imws & phom & pipy & ptap & H\\_PN & H\\_POP & bore & ... & cart & mcyc & pcar & boat & P\\_LWQ & P\\_SWQ & P\\_MWQ & P\\_FWQ & P\\_HWQ & wigc\\\\\n",
       " <chr> & <chr> & <chr> & <dbl> & <dbl> & <dbl> & <dbl> & <dbl> & <dbl> & <dbl> & ... & <dbl> & <dbl> & <dbl> & <dbl> & <dbl> & <dbl> & <dbl> & <dbl> & <dbl> & <dbl>\\\\\n",
       "\\hline\n",
       "\t Afghanistan & 2015    & DHS & 71.2 &  2.3 &  4.8 & 14.2 &   NA & NA & 20.1 & ... & 5.8 & 35.2 & 11.8 &  NA & 20 & 20.0 & 20.0 & 20 & 20.0 & 0.1\\\\\n",
       "\t Albania     & 2017-18 & DHS & 98.4 & 48.8 &  5.2 &  2.4 &   NA & NA &  1.4 & ... & 3.2 &  9.6 & 37.0 & 0.7 & 20 & 20.0 & 20.0 & 20 & 20.0 & 0.1\\\\\n",
       "\t Albania     & 2008-09 & DHS & 96.8 & 52.1 &  9.7 &  2.7 &   NA & NA &  4.4 & ... & 5.0 & 10.0 & 29.1 & 0.6 & 20 & 20.0 & 20.0 & 20 & 20.0 &  NA\\\\\n",
       "\t Angola      & 2015-16 & DHS & 66.9 &  4.3 &  9.7 & 10.3 & 11.4 & NA &  1.9 & ... & 1.3 & 17.8 & 10.9 & 0.4 & 20 & 20.0 & 20.0 & 20 & 20.0 & 0.3\\\\\n",
       "\t Angola      & 2011    & MIS & 58.9 &  5.7 &  7.0 & 17.0 &   NA & NA &  3.2 & ... &  NA & 14.6 & 12.2 & 1.0 & 20 & 20.0 & 20.0 & 20 & 20.0 &  NA\\\\\n",
       "\t Angola      & 2006-07 & MIS & 65.6 &  5.5 & 10.7 &  9.6 &   NA & NA &  1.1 & ... & 1.4 &  9.2 & 14.0 &  NA & 20 & 20.1 & 19.9 & 20 & 20.1 &  NA\\\\\n",
       "\\end{tabular}\n"
      ],
      "text/markdown": [
       "\n",
       "A tibble: 6 × 76\n",
       "\n",
       "| Country &lt;chr&gt; | Year &lt;chr&gt; | Survey &lt;chr&gt; | imws &lt;dbl&gt; | phom &lt;dbl&gt; | pipy &lt;dbl&gt; | ptap &lt;dbl&gt; | H_PN &lt;dbl&gt; | H_POP &lt;dbl&gt; | bore &lt;dbl&gt; | ... ... | cart &lt;dbl&gt; | mcyc &lt;dbl&gt; | pcar &lt;dbl&gt; | boat &lt;dbl&gt; | P_LWQ &lt;dbl&gt; | P_SWQ &lt;dbl&gt; | P_MWQ &lt;dbl&gt; | P_FWQ &lt;dbl&gt; | P_HWQ &lt;dbl&gt; | wigc &lt;dbl&gt; |\n",
       "|---|---|---|---|---|---|---|---|---|---|---|---|---|---|---|---|---|---|---|---|---|\n",
       "| Afghanistan | 2015    | DHS | 71.2 |  2.3 |  4.8 | 14.2 |   NA | NA | 20.1 | ... | 5.8 | 35.2 | 11.8 |  NA | 20 | 20.0 | 20.0 | 20 | 20.0 | 0.1 |\n",
       "| Albania     | 2017-18 | DHS | 98.4 | 48.8 |  5.2 |  2.4 |   NA | NA |  1.4 | ... | 3.2 |  9.6 | 37.0 | 0.7 | 20 | 20.0 | 20.0 | 20 | 20.0 | 0.1 |\n",
       "| Albania     | 2008-09 | DHS | 96.8 | 52.1 |  9.7 |  2.7 |   NA | NA |  4.4 | ... | 5.0 | 10.0 | 29.1 | 0.6 | 20 | 20.0 | 20.0 | 20 | 20.0 |  NA |\n",
       "| Angola      | 2015-16 | DHS | 66.9 |  4.3 |  9.7 | 10.3 | 11.4 | NA |  1.9 | ... | 1.3 | 17.8 | 10.9 | 0.4 | 20 | 20.0 | 20.0 | 20 | 20.0 | 0.3 |\n",
       "| Angola      | 2011    | MIS | 58.9 |  5.7 |  7.0 | 17.0 |   NA | NA |  3.2 | ... |  NA | 14.6 | 12.2 | 1.0 | 20 | 20.0 | 20.0 | 20 | 20.0 |  NA |\n",
       "| Angola      | 2006-07 | MIS | 65.6 |  5.5 | 10.7 |  9.6 |   NA | NA |  1.1 | ... | 1.4 |  9.2 | 14.0 |  NA | 20 | 20.1 | 19.9 | 20 | 20.1 |  NA |\n",
       "\n"
      ],
      "text/plain": [
       "  Country     Year    Survey imws phom pipy ptap H_PN H_POP bore ... cart mcyc\n",
       "1 Afghanistan 2015    DHS    71.2  2.3  4.8 14.2   NA NA    20.1 ... 5.8  35.2\n",
       "2 Albania     2017-18 DHS    98.4 48.8  5.2  2.4   NA NA     1.4 ... 3.2   9.6\n",
       "3 Albania     2008-09 DHS    96.8 52.1  9.7  2.7   NA NA     4.4 ... 5.0  10.0\n",
       "4 Angola      2015-16 DHS    66.9  4.3  9.7 10.3 11.4 NA     1.9 ... 1.3  17.8\n",
       "5 Angola      2011    MIS    58.9  5.7  7.0 17.0   NA NA     3.2 ...  NA  14.6\n",
       "6 Angola      2006-07 MIS    65.6  5.5 10.7  9.6   NA NA     1.1 ... 1.4   9.2\n",
       "  pcar boat P_LWQ P_SWQ P_MWQ P_FWQ P_HWQ wigc\n",
       "1 11.8  NA  20    20.0  20.0  20    20.0  0.1 \n",
       "2 37.0 0.7  20    20.0  20.0  20    20.0  0.1 \n",
       "3 29.1 0.6  20    20.0  20.0  20    20.0   NA \n",
       "4 10.9 0.4  20    20.0  20.0  20    20.0  0.3 \n",
       "5 12.2 1.0  20    20.0  20.0  20    20.0   NA \n",
       "6 14.0  NA  20    20.1  19.9  20    20.1   NA "
      ]
     },
     "metadata": {},
     "output_type": "display_data"
    },
    {
     "data": {
      "text/html": [
       "<table class=\"dataframe\">\n",
       "<caption>A tibble: 6 × 12</caption>\n",
       "<thead>\n",
       "\t<tr><th scope=col>Country Name</th><th scope=col>Country Code</th><th scope=col>Time</th><th scope=col>Time Code</th><th scope=col>GDP (current US$) [NY.GDP.MKTP.CD]</th><th scope=col>Population, total [SP.POP.TOTL]</th><th scope=col>Urban population (% of total population) [SP.URB.TOTL.IN.ZS]</th><th scope=col>Population density (people per sq. km of land area) [EN.POP.DNST]</th><th scope=col>Land area (sq. km) [AG.LND.TOTL.K2]</th><th scope=col>Literacy rate, adult total (% of people ages 15 and above) [SE.ADT.LITR.ZS]</th><th scope=col>Literacy rate, youth (ages 15-24), gender parity index (GPI) [SE.ADT.1524.LT.FM.ZS]</th><th scope=col>Mortality rate, under-5 (per 1,000 live births) [SH.DYN.MORT]</th></tr>\n",
       "\t<tr><th scope=col>&lt;chr&gt;</th><th scope=col>&lt;chr&gt;</th><th scope=col>&lt;dbl&gt;</th><th scope=col>&lt;chr&gt;</th><th scope=col>&lt;dbl&gt;</th><th scope=col>&lt;dbl&gt;</th><th scope=col>&lt;dbl&gt;</th><th scope=col>&lt;dbl&gt;</th><th scope=col>&lt;dbl&gt;</th><th scope=col>&lt;dbl&gt;</th><th scope=col>&lt;dbl&gt;</th><th scope=col>&lt;dbl&gt;</th></tr>\n",
       "</thead>\n",
       "<tbody>\n",
       "\t<tr><td>Afghanistan   </td><td>AFG</td><td>2018</td><td>YR2018</td><td> 18353881130</td><td>37172386</td><td>25.495</td><td> 56.93776</td><td> 652860</td><td>43.01972</td><td>0.75933</td><td>62.5</td></tr>\n",
       "\t<tr><td>Albania       </td><td>ALB</td><td>2018</td><td>YR2018</td><td> 15147020535</td><td> 2866376</td><td>60.319</td><td>104.61226</td><td>  27400</td><td>98.14115</td><td>1.00582</td><td> 9.5</td></tr>\n",
       "\t<tr><td>Algeria       </td><td>DZA</td><td>2018</td><td>YR2018</td><td>175405660377</td><td>42228429</td><td>72.629</td><td> 17.73008</td><td>2381740</td><td>81.40784</td><td>0.99650</td><td>23.8</td></tr>\n",
       "\t<tr><td>American Samoa</td><td>ASM</td><td>2018</td><td>YR2018</td><td>   636000000</td><td>   55465</td><td>87.153</td><td>277.32500</td><td>    200</td><td> 0.00000</td><td>0.00000</td><td> 0.0</td></tr>\n",
       "\t<tr><td>Andorra       </td><td>AND</td><td>2018</td><td>YR2018</td><td>  3218316013</td><td>   77006</td><td>88.062</td><td>163.84255</td><td>    470</td><td> 0.00000</td><td>0.00000</td><td> 3.1</td></tr>\n",
       "\t<tr><td>Angola        </td><td>AGO</td><td>2018</td><td>YR2018</td><td>101353230785</td><td>30809762</td><td>65.514</td><td> 24.71305</td><td>1246700</td><td> 0.00000</td><td>0.00000</td><td>77.7</td></tr>\n",
       "</tbody>\n",
       "</table>\n"
      ],
      "text/latex": [
       "A tibble: 6 × 12\n",
       "\\begin{tabular}{llllllllllll}\n",
       " Country Name & Country Code & Time & Time Code & GDP (current US\\$) {[}NY.GDP.MKTP.CD{]} & Population, total {[}SP.POP.TOTL{]} & Urban population (\\% of total population) {[}SP.URB.TOTL.IN.ZS{]} & Population density (people per sq. km of land area) {[}EN.POP.DNST{]} & Land area (sq. km) {[}AG.LND.TOTL.K2{]} & Literacy rate, adult total (\\% of people ages 15 and above) {[}SE.ADT.LITR.ZS{]} & Literacy rate, youth (ages 15-24), gender parity index (GPI) {[}SE.ADT.1524.LT.FM.ZS{]} & Mortality rate, under-5 (per 1,000 live births) {[}SH.DYN.MORT{]}\\\\\n",
       " <chr> & <chr> & <dbl> & <chr> & <dbl> & <dbl> & <dbl> & <dbl> & <dbl> & <dbl> & <dbl> & <dbl>\\\\\n",
       "\\hline\n",
       "\t Afghanistan    & AFG & 2018 & YR2018 &  18353881130 & 37172386 & 25.495 &  56.93776 &  652860 & 43.01972 & 0.75933 & 62.5\\\\\n",
       "\t Albania        & ALB & 2018 & YR2018 &  15147020535 &  2866376 & 60.319 & 104.61226 &   27400 & 98.14115 & 1.00582 &  9.5\\\\\n",
       "\t Algeria        & DZA & 2018 & YR2018 & 175405660377 & 42228429 & 72.629 &  17.73008 & 2381740 & 81.40784 & 0.99650 & 23.8\\\\\n",
       "\t American Samoa & ASM & 2018 & YR2018 &    636000000 &    55465 & 87.153 & 277.32500 &     200 &  0.00000 & 0.00000 &  0.0\\\\\n",
       "\t Andorra        & AND & 2018 & YR2018 &   3218316013 &    77006 & 88.062 & 163.84255 &     470 &  0.00000 & 0.00000 &  3.1\\\\\n",
       "\t Angola         & AGO & 2018 & YR2018 & 101353230785 & 30809762 & 65.514 &  24.71305 & 1246700 &  0.00000 & 0.00000 & 77.7\\\\\n",
       "\\end{tabular}\n"
      ],
      "text/markdown": [
       "\n",
       "A tibble: 6 × 12\n",
       "\n",
       "| Country Name &lt;chr&gt; | Country Code &lt;chr&gt; | Time &lt;dbl&gt; | Time Code &lt;chr&gt; | GDP (current US$) [NY.GDP.MKTP.CD] &lt;dbl&gt; | Population, total [SP.POP.TOTL] &lt;dbl&gt; | Urban population (% of total population) [SP.URB.TOTL.IN.ZS] &lt;dbl&gt; | Population density (people per sq. km of land area) [EN.POP.DNST] &lt;dbl&gt; | Land area (sq. km) [AG.LND.TOTL.K2] &lt;dbl&gt; | Literacy rate, adult total (% of people ages 15 and above) [SE.ADT.LITR.ZS] &lt;dbl&gt; | Literacy rate, youth (ages 15-24), gender parity index (GPI) [SE.ADT.1524.LT.FM.ZS] &lt;dbl&gt; | Mortality rate, under-5 (per 1,000 live births) [SH.DYN.MORT] &lt;dbl&gt; |\n",
       "|---|---|---|---|---|---|---|---|---|---|---|---|\n",
       "| Afghanistan    | AFG | 2018 | YR2018 |  18353881130 | 37172386 | 25.495 |  56.93776 |  652860 | 43.01972 | 0.75933 | 62.5 |\n",
       "| Albania        | ALB | 2018 | YR2018 |  15147020535 |  2866376 | 60.319 | 104.61226 |   27400 | 98.14115 | 1.00582 |  9.5 |\n",
       "| Algeria        | DZA | 2018 | YR2018 | 175405660377 | 42228429 | 72.629 |  17.73008 | 2381740 | 81.40784 | 0.99650 | 23.8 |\n",
       "| American Samoa | ASM | 2018 | YR2018 |    636000000 |    55465 | 87.153 | 277.32500 |     200 |  0.00000 | 0.00000 |  0.0 |\n",
       "| Andorra        | AND | 2018 | YR2018 |   3218316013 |    77006 | 88.062 | 163.84255 |     470 |  0.00000 | 0.00000 |  3.1 |\n",
       "| Angola         | AGO | 2018 | YR2018 | 101353230785 | 30809762 | 65.514 |  24.71305 | 1246700 |  0.00000 | 0.00000 | 77.7 |\n",
       "\n"
      ],
      "text/plain": [
       "  Country Name   Country Code Time Time Code GDP (current US$) [NY.GDP.MKTP.CD]\n",
       "1 Afghanistan    AFG          2018 YR2018     18353881130                      \n",
       "2 Albania        ALB          2018 YR2018     15147020535                      \n",
       "3 Algeria        DZA          2018 YR2018    175405660377                      \n",
       "4 American Samoa ASM          2018 YR2018       636000000                      \n",
       "5 Andorra        AND          2018 YR2018      3218316013                      \n",
       "6 Angola         AGO          2018 YR2018    101353230785                      \n",
       "  Population, total [SP.POP.TOTL]\n",
       "1 37172386                       \n",
       "2  2866376                       \n",
       "3 42228429                       \n",
       "4    55465                       \n",
       "5    77006                       \n",
       "6 30809762                       \n",
       "  Urban population (% of total population) [SP.URB.TOTL.IN.ZS]\n",
       "1 25.495                                                      \n",
       "2 60.319                                                      \n",
       "3 72.629                                                      \n",
       "4 87.153                                                      \n",
       "5 88.062                                                      \n",
       "6 65.514                                                      \n",
       "  Population density (people per sq. km of land area) [EN.POP.DNST]\n",
       "1  56.93776                                                        \n",
       "2 104.61226                                                        \n",
       "3  17.73008                                                        \n",
       "4 277.32500                                                        \n",
       "5 163.84255                                                        \n",
       "6  24.71305                                                        \n",
       "  Land area (sq. km) [AG.LND.TOTL.K2]\n",
       "1  652860                            \n",
       "2   27400                            \n",
       "3 2381740                            \n",
       "4     200                            \n",
       "5     470                            \n",
       "6 1246700                            \n",
       "  Literacy rate, adult total (% of people ages 15 and above) [SE.ADT.LITR.ZS]\n",
       "1 43.01972                                                                   \n",
       "2 98.14115                                                                   \n",
       "3 81.40784                                                                   \n",
       "4  0.00000                                                                   \n",
       "5  0.00000                                                                   \n",
       "6  0.00000                                                                   \n",
       "  Literacy rate, youth (ages 15-24), gender parity index (GPI) [SE.ADT.1524.LT.FM.ZS]\n",
       "1 0.75933                                                                            \n",
       "2 1.00582                                                                            \n",
       "3 0.99650                                                                            \n",
       "4 0.00000                                                                            \n",
       "5 0.00000                                                                            \n",
       "6 0.00000                                                                            \n",
       "  Mortality rate, under-5 (per 1,000 live births) [SH.DYN.MORT]\n",
       "1 62.5                                                         \n",
       "2  9.5                                                         \n",
       "3 23.8                                                         \n",
       "4  0.0                                                         \n",
       "5  3.1                                                         \n",
       "6 77.7                                                         "
      ]
     },
     "metadata": {},
     "output_type": "display_data"
    },
    {
     "data": {
      "text/html": [
       "<table class=\"dataframe\">\n",
       "<caption>A tibble: 6 × 4</caption>\n",
       "<thead>\n",
       "\t<tr><th scope=col>Country Name</th><th scope=col>Country Code</th><th scope=col>Average precipitation in depth (mm per year)</th><th scope=col>2014 [YR2014]</th></tr>\n",
       "\t<tr><th scope=col>&lt;chr&gt;</th><th scope=col>&lt;chr&gt;</th><th scope=col>&lt;chr&gt;</th><th scope=col>&lt;chr&gt;</th></tr>\n",
       "</thead>\n",
       "<tbody>\n",
       "\t<tr><td>Afghanistan   </td><td>AFG</td><td>327 </td><td>AG.LND.PRCP.MM</td></tr>\n",
       "\t<tr><td>Albania       </td><td>ALB</td><td>1485</td><td>NA            </td></tr>\n",
       "\t<tr><td>Algeria       </td><td>DZA</td><td>89  </td><td>NA            </td></tr>\n",
       "\t<tr><td>American Samoa</td><td>ASM</td><td>NA  </td><td>NA            </td></tr>\n",
       "\t<tr><td>Andorra       </td><td>AND</td><td>NA  </td><td>NA            </td></tr>\n",
       "\t<tr><td>Angola        </td><td>AGO</td><td>1010</td><td>NA            </td></tr>\n",
       "</tbody>\n",
       "</table>\n"
      ],
      "text/latex": [
       "A tibble: 6 × 4\n",
       "\\begin{tabular}{llll}\n",
       " Country Name & Country Code & Average precipitation in depth (mm per year) & 2014 {[}YR2014{]}\\\\\n",
       " <chr> & <chr> & <chr> & <chr>\\\\\n",
       "\\hline\n",
       "\t Afghanistan    & AFG & 327  & AG.LND.PRCP.MM\\\\\n",
       "\t Albania        & ALB & 1485 & NA            \\\\\n",
       "\t Algeria        & DZA & 89   & NA            \\\\\n",
       "\t American Samoa & ASM & NA   & NA            \\\\\n",
       "\t Andorra        & AND & NA   & NA            \\\\\n",
       "\t Angola         & AGO & 1010 & NA            \\\\\n",
       "\\end{tabular}\n"
      ],
      "text/markdown": [
       "\n",
       "A tibble: 6 × 4\n",
       "\n",
       "| Country Name &lt;chr&gt; | Country Code &lt;chr&gt; | Average precipitation in depth (mm per year) &lt;chr&gt; | 2014 [YR2014] &lt;chr&gt; |\n",
       "|---|---|---|---|\n",
       "| Afghanistan    | AFG | 327  | AG.LND.PRCP.MM |\n",
       "| Albania        | ALB | 1485 | NA             |\n",
       "| Algeria        | DZA | 89   | NA             |\n",
       "| American Samoa | ASM | NA   | NA             |\n",
       "| Andorra        | AND | NA   | NA             |\n",
       "| Angola         | AGO | 1010 | NA             |\n",
       "\n"
      ],
      "text/plain": [
       "  Country Name   Country Code Average precipitation in depth (mm per year)\n",
       "1 Afghanistan    AFG          327                                         \n",
       "2 Albania        ALB          1485                                        \n",
       "3 Algeria        DZA          89                                          \n",
       "4 American Samoa ASM          NA                                          \n",
       "5 Andorra        AND          NA                                          \n",
       "6 Angola         AGO          1010                                        \n",
       "  2014 [YR2014] \n",
       "1 AG.LND.PRCP.MM\n",
       "2 NA            \n",
       "3 NA            \n",
       "4 NA            \n",
       "5 NA            \n",
       "6 NA            "
      ]
     },
     "metadata": {},
     "output_type": "display_data"
    }
   ],
   "source": [
    "df <- read_excel(\"../../data/tidy/Cumulative_Data.xlsx\",sheet=1)\n",
    "head(df)\n",
    "df.wb = read_excel(\"../../data/tidy/wb-data.xlsx\",sheet=1)\n",
    "df.rain = read_excel(\"../../data/tidy/wb-rain.xlsx\",sheet=1)\n",
    "\n",
    "df.rain = read_excel(\"../../data/tidy/wb-rain.xlsx\",sheet=1)\n",
    "df.rain = read_excel(\"../../data/tidy/wb-rain.xlsx\",sheet=1)\n",
    "df.rain = read_excel(\"../../data/tidy/wb-rain.xlsx\",sheet=1)\n",
    "\n",
    "head(df.wb)\n",
    "head(df.rain)"
   ]
  },
  {
   "cell_type": "code",
   "execution_count": 289,
   "metadata": {},
   "outputs": [
    {
     "data": {
      "text/html": [
       "<table class=\"dataframe\">\n",
       "<caption>A tibble: 1 × 1</caption>\n",
       "<thead>\n",
       "\t<tr><th scope=col>n</th></tr>\n",
       "\t<tr><th scope=col>&lt;int&gt;</th></tr>\n",
       "</thead>\n",
       "<tbody>\n",
       "\t<tr><td>264</td></tr>\n",
       "</tbody>\n",
       "</table>\n"
      ],
      "text/latex": [
       "A tibble: 1 × 1\n",
       "\\begin{tabular}{l}\n",
       " n\\\\\n",
       " <int>\\\\\n",
       "\\hline\n",
       "\t 264\\\\\n",
       "\\end{tabular}\n"
      ],
      "text/markdown": [
       "\n",
       "A tibble: 1 × 1\n",
       "\n",
       "| n &lt;int&gt; |\n",
       "|---|\n",
       "| 264 |\n",
       "\n"
      ],
      "text/plain": [
       "  n  \n",
       "1 264"
      ]
     },
     "metadata": {},
     "output_type": "display_data"
    },
    {
     "data": {
      "text/html": [
       "<table class=\"dataframe\">\n",
       "<caption>A tibble: 1 × 1</caption>\n",
       "<thead>\n",
       "\t<tr><th scope=col>n</th></tr>\n",
       "\t<tr><th scope=col>&lt;int&gt;</th></tr>\n",
       "</thead>\n",
       "<tbody>\n",
       "\t<tr><td>217</td></tr>\n",
       "</tbody>\n",
       "</table>\n"
      ],
      "text/latex": [
       "A tibble: 1 × 1\n",
       "\\begin{tabular}{l}\n",
       " n\\\\\n",
       " <int>\\\\\n",
       "\\hline\n",
       "\t 217\\\\\n",
       "\\end{tabular}\n"
      ],
      "text/markdown": [
       "\n",
       "A tibble: 1 × 1\n",
       "\n",
       "| n &lt;int&gt; |\n",
       "|---|\n",
       "| 217 |\n",
       "\n"
      ],
      "text/plain": [
       "  n  \n",
       "1 217"
      ]
     },
     "metadata": {},
     "output_type": "display_data"
    }
   ],
   "source": [
    "count(df.rain)\n",
    "count(df.wb)\n",
    "df.rain <- df.rain %>% \n",
    "  rename(\n",
    "    Country = \"Country Name\",\n",
    "    prec = \"Average precipitation in depth (mm per year)\",\n",
    "       )\n"
   ]
  },
  {
   "cell_type": "code",
   "execution_count": 290,
   "metadata": {},
   "outputs": [
    {
     "name": "stderr",
     "output_type": "stream",
     "text": [
      "Warning message in lapply(X = X, FUN = FUN, ...):\n",
      "\"NAs introduced by coercion\"\n"
     ]
    }
   ],
   "source": [
    "df.rain[, 3] <- sapply(df.rain[, 3], as.numeric)"
   ]
  },
  {
   "cell_type": "code",
   "execution_count": 291,
   "metadata": {},
   "outputs": [
    {
     "data": {
      "text/html": [
       "<table class=\"dataframe\">\n",
       "<caption>A tibble: 6 × 4</caption>\n",
       "<thead>\n",
       "\t<tr><th scope=col>Country</th><th scope=col>Country Code</th><th scope=col>prec</th><th scope=col>2014 [YR2014]</th></tr>\n",
       "\t<tr><th scope=col>&lt;chr&gt;</th><th scope=col>&lt;chr&gt;</th><th scope=col>&lt;dbl&gt;</th><th scope=col>&lt;chr&gt;</th></tr>\n",
       "</thead>\n",
       "<tbody>\n",
       "\t<tr><td>Afghanistan   </td><td>AFG</td><td> 327</td><td>AG.LND.PRCP.MM</td></tr>\n",
       "\t<tr><td>Albania       </td><td>ALB</td><td>1485</td><td>NA            </td></tr>\n",
       "\t<tr><td>Algeria       </td><td>DZA</td><td>  89</td><td>NA            </td></tr>\n",
       "\t<tr><td>American Samoa</td><td>ASM</td><td>   0</td><td>NA            </td></tr>\n",
       "\t<tr><td>Andorra       </td><td>AND</td><td>   0</td><td>NA            </td></tr>\n",
       "\t<tr><td>Angola        </td><td>AGO</td><td>1010</td><td>NA            </td></tr>\n",
       "</tbody>\n",
       "</table>\n"
      ],
      "text/latex": [
       "A tibble: 6 × 4\n",
       "\\begin{tabular}{llll}\n",
       " Country & Country Code & prec & 2014 {[}YR2014{]}\\\\\n",
       " <chr> & <chr> & <dbl> & <chr>\\\\\n",
       "\\hline\n",
       "\t Afghanistan    & AFG &  327 & AG.LND.PRCP.MM\\\\\n",
       "\t Albania        & ALB & 1485 & NA            \\\\\n",
       "\t Algeria        & DZA &   89 & NA            \\\\\n",
       "\t American Samoa & ASM &    0 & NA            \\\\\n",
       "\t Andorra        & AND &    0 & NA            \\\\\n",
       "\t Angola         & AGO & 1010 & NA            \\\\\n",
       "\\end{tabular}\n"
      ],
      "text/markdown": [
       "\n",
       "A tibble: 6 × 4\n",
       "\n",
       "| Country &lt;chr&gt; | Country Code &lt;chr&gt; | prec &lt;dbl&gt; | 2014 [YR2014] &lt;chr&gt; |\n",
       "|---|---|---|---|\n",
       "| Afghanistan    | AFG |  327 | AG.LND.PRCP.MM |\n",
       "| Albania        | ALB | 1485 | NA             |\n",
       "| Algeria        | DZA |   89 | NA             |\n",
       "| American Samoa | ASM |    0 | NA             |\n",
       "| Andorra        | AND |    0 | NA             |\n",
       "| Angola         | AGO | 1010 | NA             |\n",
       "\n"
      ],
      "text/plain": [
       "  Country        Country Code prec 2014 [YR2014] \n",
       "1 Afghanistan    AFG           327 AG.LND.PRCP.MM\n",
       "2 Albania        ALB          1485 NA            \n",
       "3 Algeria        DZA            89 NA            \n",
       "4 American Samoa ASM             0 NA            \n",
       "5 Andorra        AND             0 NA            \n",
       "6 Angola         AGO          1010 NA            "
      ]
     },
     "metadata": {},
     "output_type": "display_data"
    }
   ],
   "source": [
    "df.rain[,3][is.na(df.rain[,3])] <- 0\n",
    "head(df.rain)"
   ]
  },
  {
   "cell_type": "markdown",
   "metadata": {},
   "source": [
    "Cleaning Column Years"
   ]
  },
  {
   "cell_type": "code",
   "execution_count": 292,
   "metadata": {},
   "outputs": [],
   "source": [
    "for (i in seq(1, nrow(df))) {\n",
    "    if (grepl(\"-\", df[i,'Year'])) {\n",
    "        yy1 = substr(df[i,\"Year\"], start=1,stop=2)\n",
    "        yy2 = substr(df[i,\"Year\"], start=6,stop=7)\n",
    "        yy3 = paste(yy1,yy2,sep = \"\")\n",
    "        #yy3 = as.integer(yy3)\n",
    "        df[i,\"Year\"] = yy3\n",
    "    }\n",
    "    }"
   ]
  },
  {
   "cell_type": "markdown",
   "metadata": {},
   "source": [
    "Renaming the column variables for the world bank data to be consistent with the rest of the data"
   ]
  },
  {
   "cell_type": "code",
   "execution_count": 293,
   "metadata": {},
   "outputs": [],
   "source": [
    "df.wb <- df.wb %>% \n",
    "  rename(\n",
    "    Year = Time,\n",
    "    Country = \"Country Name\",\n",
    "    cgdp = \"GDP (current US$) [NY.GDP.MKTP.CD]\",\n",
    "    tpop = \"Population, total [SP.POP.TOTL]\",\n",
    "    upop = \"Urban population (% of total population) [SP.URB.TOTL.IN.ZS]\",\n",
    "    popd = \"Population density (people per sq. km of land area) [EN.POP.DNST]\",\n",
    "    land =\"Land area (sq. km) [AG.LND.TOTL.K2]\", \n",
    "    lita = \"Literacy rate, adult total (% of people ages 15 and above) [SE.ADT.LITR.ZS]\",  \n",
    "    lity = \"Literacy rate, youth (ages 15-24), gender parity index (GPI) [SE.ADT.1524.LT.FM.ZS]\"  ,\n",
    "    mori = \"Mortality rate, under-5 (per 1,000 live births) [SH.DYN.MORT]\" \n",
    "       )\n"
   ]
  },
  {
   "cell_type": "markdown",
   "metadata": {},
   "source": [
    "turn character into numbers and factors"
   ]
  },
  {
   "cell_type": "code",
   "execution_count": 294,
   "metadata": {},
   "outputs": [
    {
     "data": {
      "text/html": [
       "<style>\n",
       ".list-inline {list-style: none; margin:0; padding: 0}\n",
       ".list-inline>li {display: inline-block}\n",
       ".list-inline>li:not(:last-child)::after {content: \"\\00b7\"; padding: 0 .5ex}\n",
       "</style>\n",
       "<ol class=list-inline><li>'tbl_df'</li><li>'tbl'</li><li>'data.frame'</li></ol>\n"
      ],
      "text/latex": [
       "\\begin{enumerate*}\n",
       "\\item 'tbl\\_df'\n",
       "\\item 'tbl'\n",
       "\\item 'data.frame'\n",
       "\\end{enumerate*}\n"
      ],
      "text/markdown": [
       "1. 'tbl_df'\n",
       "2. 'tbl'\n",
       "3. 'data.frame'\n",
       "\n",
       "\n"
      ],
      "text/plain": [
       "[1] \"tbl_df\"     \"tbl\"        \"data.frame\""
      ]
     },
     "metadata": {},
     "output_type": "display_data"
    },
    {
     "data": {
      "text/html": [
       "<table class=\"dataframe\">\n",
       "<caption>A tibble: 6 × 12</caption>\n",
       "<thead>\n",
       "\t<tr><th scope=col>Country</th><th scope=col>Country Code</th><th scope=col>Year</th><th scope=col>Time Code</th><th scope=col>cgdp</th><th scope=col>tpop</th><th scope=col>upop</th><th scope=col>popd</th><th scope=col>land</th><th scope=col>lita</th><th scope=col>lity</th><th scope=col>mori</th></tr>\n",
       "\t<tr><th scope=col>&lt;chr&gt;</th><th scope=col>&lt;chr&gt;</th><th scope=col>&lt;dbl&gt;</th><th scope=col>&lt;chr&gt;</th><th scope=col>&lt;dbl&gt;</th><th scope=col>&lt;dbl&gt;</th><th scope=col>&lt;dbl&gt;</th><th scope=col>&lt;dbl&gt;</th><th scope=col>&lt;dbl&gt;</th><th scope=col>&lt;dbl&gt;</th><th scope=col>&lt;dbl&gt;</th><th scope=col>&lt;dbl&gt;</th></tr>\n",
       "</thead>\n",
       "<tbody>\n",
       "\t<tr><td>Afghanistan   </td><td>AFG</td><td>2018</td><td>YR2018</td><td> 18353881130</td><td>37172386</td><td>25.495</td><td> 56.93776</td><td> 652860</td><td>43.01972</td><td>0.75933</td><td>62.5</td></tr>\n",
       "\t<tr><td>Albania       </td><td>ALB</td><td>2018</td><td>YR2018</td><td> 15147020535</td><td> 2866376</td><td>60.319</td><td>104.61226</td><td>  27400</td><td>98.14115</td><td>1.00582</td><td> 9.5</td></tr>\n",
       "\t<tr><td>Algeria       </td><td>DZA</td><td>2018</td><td>YR2018</td><td>175405660377</td><td>42228429</td><td>72.629</td><td> 17.73008</td><td>2381740</td><td>81.40784</td><td>0.99650</td><td>23.8</td></tr>\n",
       "\t<tr><td>American Samoa</td><td>ASM</td><td>2018</td><td>YR2018</td><td>   636000000</td><td>   55465</td><td>87.153</td><td>277.32500</td><td>    200</td><td> 0.00000</td><td>0.00000</td><td> 0.0</td></tr>\n",
       "\t<tr><td>Andorra       </td><td>AND</td><td>2018</td><td>YR2018</td><td>  3218316013</td><td>   77006</td><td>88.062</td><td>163.84255</td><td>    470</td><td> 0.00000</td><td>0.00000</td><td> 3.1</td></tr>\n",
       "\t<tr><td>Angola        </td><td>AGO</td><td>2018</td><td>YR2018</td><td>101353230785</td><td>30809762</td><td>65.514</td><td> 24.71305</td><td>1246700</td><td> 0.00000</td><td>0.00000</td><td>77.7</td></tr>\n",
       "</tbody>\n",
       "</table>\n"
      ],
      "text/latex": [
       "A tibble: 6 × 12\n",
       "\\begin{tabular}{llllllllllll}\n",
       " Country & Country Code & Year & Time Code & cgdp & tpop & upop & popd & land & lita & lity & mori\\\\\n",
       " <chr> & <chr> & <dbl> & <chr> & <dbl> & <dbl> & <dbl> & <dbl> & <dbl> & <dbl> & <dbl> & <dbl>\\\\\n",
       "\\hline\n",
       "\t Afghanistan    & AFG & 2018 & YR2018 &  18353881130 & 37172386 & 25.495 &  56.93776 &  652860 & 43.01972 & 0.75933 & 62.5\\\\\n",
       "\t Albania        & ALB & 2018 & YR2018 &  15147020535 &  2866376 & 60.319 & 104.61226 &   27400 & 98.14115 & 1.00582 &  9.5\\\\\n",
       "\t Algeria        & DZA & 2018 & YR2018 & 175405660377 & 42228429 & 72.629 &  17.73008 & 2381740 & 81.40784 & 0.99650 & 23.8\\\\\n",
       "\t American Samoa & ASM & 2018 & YR2018 &    636000000 &    55465 & 87.153 & 277.32500 &     200 &  0.00000 & 0.00000 &  0.0\\\\\n",
       "\t Andorra        & AND & 2018 & YR2018 &   3218316013 &    77006 & 88.062 & 163.84255 &     470 &  0.00000 & 0.00000 &  3.1\\\\\n",
       "\t Angola         & AGO & 2018 & YR2018 & 101353230785 & 30809762 & 65.514 &  24.71305 & 1246700 &  0.00000 & 0.00000 & 77.7\\\\\n",
       "\\end{tabular}\n"
      ],
      "text/markdown": [
       "\n",
       "A tibble: 6 × 12\n",
       "\n",
       "| Country &lt;chr&gt; | Country Code &lt;chr&gt; | Year &lt;dbl&gt; | Time Code &lt;chr&gt; | cgdp &lt;dbl&gt; | tpop &lt;dbl&gt; | upop &lt;dbl&gt; | popd &lt;dbl&gt; | land &lt;dbl&gt; | lita &lt;dbl&gt; | lity &lt;dbl&gt; | mori &lt;dbl&gt; |\n",
       "|---|---|---|---|---|---|---|---|---|---|---|---|\n",
       "| Afghanistan    | AFG | 2018 | YR2018 |  18353881130 | 37172386 | 25.495 |  56.93776 |  652860 | 43.01972 | 0.75933 | 62.5 |\n",
       "| Albania        | ALB | 2018 | YR2018 |  15147020535 |  2866376 | 60.319 | 104.61226 |   27400 | 98.14115 | 1.00582 |  9.5 |\n",
       "| Algeria        | DZA | 2018 | YR2018 | 175405660377 | 42228429 | 72.629 |  17.73008 | 2381740 | 81.40784 | 0.99650 | 23.8 |\n",
       "| American Samoa | ASM | 2018 | YR2018 |    636000000 |    55465 | 87.153 | 277.32500 |     200 |  0.00000 | 0.00000 |  0.0 |\n",
       "| Andorra        | AND | 2018 | YR2018 |   3218316013 |    77006 | 88.062 | 163.84255 |     470 |  0.00000 | 0.00000 |  3.1 |\n",
       "| Angola         | AGO | 2018 | YR2018 | 101353230785 | 30809762 | 65.514 |  24.71305 | 1246700 |  0.00000 | 0.00000 | 77.7 |\n",
       "\n"
      ],
      "text/plain": [
       "  Country        Country Code Year Time Code cgdp         tpop     upop  \n",
       "1 Afghanistan    AFG          2018 YR2018     18353881130 37172386 25.495\n",
       "2 Albania        ALB          2018 YR2018     15147020535  2866376 60.319\n",
       "3 Algeria        DZA          2018 YR2018    175405660377 42228429 72.629\n",
       "4 American Samoa ASM          2018 YR2018       636000000    55465 87.153\n",
       "5 Andorra        AND          2018 YR2018      3218316013    77006 88.062\n",
       "6 Angola         AGO          2018 YR2018    101353230785 30809762 65.514\n",
       "  popd      land    lita     lity    mori\n",
       "1  56.93776  652860 43.01972 0.75933 62.5\n",
       "2 104.61226   27400 98.14115 1.00582  9.5\n",
       "3  17.73008 2381740 81.40784 0.99650 23.8\n",
       "4 277.32500     200  0.00000 0.00000  0.0\n",
       "5 163.84255     470  0.00000 0.00000  3.1\n",
       "6  24.71305 1246700  0.00000 0.00000 77.7"
      ]
     },
     "metadata": {},
     "output_type": "display_data"
    }
   ],
   "source": [
    "df.wb[, 3] <- sapply(df.wb[, 3], as.numeric)\n",
    "df.wb[, 5:12] <- sapply(df.wb[, 5:12], as.numeric)\n",
    "#df.wb[is.na(df.wb)] <- 0 # Convert all your NA to 0 to keep numeric values\n",
    "class(df.wb) \n",
    "head(df.wb)"
   ]
  },
  {
   "cell_type": "markdown",
   "metadata": {},
   "source": [
    "Finding the Max Years"
   ]
  },
  {
   "cell_type": "code",
   "execution_count": 295,
   "metadata": {},
   "outputs": [],
   "source": [
    "df$Year = as.numeric(df$Year)\n",
    "df1 <- matrix(NA, nrow = 0, ncol = length(colnames(df))) #create new empty DF\n",
    "colnames(df1) = colnames(df) # assign column names to empty data frame\n",
    "for (country in unique(df$Country)) {\n",
    "    maxyear = max(df[df$Country==country,'Year'])\n",
    "    df1 = rbind( df1, df[(df$Country==country) & (df$Year==maxyear),])\n",
    "} "
   ]
  },
  {
   "cell_type": "markdown",
   "metadata": {},
   "source": [
    "Removing Population Variables (Removal of duplication)"
   ]
  },
  {
   "cell_type": "code",
   "execution_count": 296,
   "metadata": {},
   "outputs": [],
   "source": [
    "dfh = df1[,!grepl(\"^P_\",names(df1))]"
   ]
  },
  {
   "cell_type": "markdown",
   "metadata": {},
   "source": [
    "NA and zeros Analysis"
   ]
  },
  {
   "cell_type": "code",
   "execution_count": 297,
   "metadata": {},
   "outputs": [
    {
     "data": {
      "text/html": [
       "<style>\n",
       ".dl-inline {width: auto; margin:0; padding: 0}\n",
       ".dl-inline>dt, .dl-inline>dd {float: none; width: auto; display: inline-block}\n",
       ".dl-inline>dt::after {content: \":\\0020\"; padding-right: .5ex}\n",
       ".dl-inline>dt:not(:first-of-type) {padding-left: .5ex}\n",
       "</style><dl class=dl-inline><dt>Country</dt><dd>0</dd><dt>Year</dt><dd>0</dd><dt>Survey</dt><dd>0</dd><dt>imws</dt><dd>1</dd><dt>phom</dt><dd>4</dd><dt>pipy</dt><dd>6</dd><dt>ptap</dt><dd>5</dd><dt>H_PN</dt><dd>44</dd><dt>H_POP</dt><dd>77</dd><dt>bore</dt><dd>18</dd><dt>pwel</dt><dd>15</dd><dt>pspr</dt><dd>19</dd><dt>rain</dt><dd>17</dd><dt>truc</dt><dd>9</dd><dt>ctan</dt><dd>26</dd><dt>venw</dt><dd>76</dd><dt>bott</dt><dd>8</dd><dt>sacw</dt><dd>69</dd><dt>purf</dt><dd>74</dd><dt>uiws</dt><dd>1</dd><dt>wepu</dt><dd>68</dd><dt>uwel</dt><dd>13</dd><dt>sppu</dt><dd>69</dd><dt>uspr</dt><dd>21</dd><dt>surw</dt><dd>8</dd><dt>othw</dt><dd>11</dd><dt>iwsp</dt><dd>7</dd><dt>basw</dt><dd>7</dd><dt>liws</dt><dd>7</dd><dt>watp</dt><dd>7</dd><dt>tles</dt><dd>7</dd><dt>tmor</dt><dd>7</dd><dt>wnao</dt><dd>54</dd><dt>niod</dt><dd>54</dd><dt>bicy</dt><dd>5</dd><dt>cart</dt><dd>22</dd><dt>mcyc</dt><dd>4</dd><dt>pcar</dt><dd>1</dd><dt>boat</dt><dd>25</dd><dt>wigc</dt><dd>19</dd></dl>\n"
      ],
      "text/latex": [
       "\\begin{description*}\n",
       "\\item[Country] 0\n",
       "\\item[Year] 0\n",
       "\\item[Survey] 0\n",
       "\\item[imws] 1\n",
       "\\item[phom] 4\n",
       "\\item[pipy] 6\n",
       "\\item[ptap] 5\n",
       "\\item[H\\textbackslash{}\\_PN] 44\n",
       "\\item[H\\textbackslash{}\\_POP] 77\n",
       "\\item[bore] 18\n",
       "\\item[pwel] 15\n",
       "\\item[pspr] 19\n",
       "\\item[rain] 17\n",
       "\\item[truc] 9\n",
       "\\item[ctan] 26\n",
       "\\item[venw] 76\n",
       "\\item[bott] 8\n",
       "\\item[sacw] 69\n",
       "\\item[purf] 74\n",
       "\\item[uiws] 1\n",
       "\\item[wepu] 68\n",
       "\\item[uwel] 13\n",
       "\\item[sppu] 69\n",
       "\\item[uspr] 21\n",
       "\\item[surw] 8\n",
       "\\item[othw] 11\n",
       "\\item[iwsp] 7\n",
       "\\item[basw] 7\n",
       "\\item[liws] 7\n",
       "\\item[watp] 7\n",
       "\\item[tles] 7\n",
       "\\item[tmor] 7\n",
       "\\item[wnao] 54\n",
       "\\item[niod] 54\n",
       "\\item[bicy] 5\n",
       "\\item[cart] 22\n",
       "\\item[mcyc] 4\n",
       "\\item[pcar] 1\n",
       "\\item[boat] 25\n",
       "\\item[wigc] 19\n",
       "\\end{description*}\n"
      ],
      "text/markdown": [
       "Country\n",
       ":   0Year\n",
       ":   0Survey\n",
       ":   0imws\n",
       ":   1phom\n",
       ":   4pipy\n",
       ":   6ptap\n",
       ":   5H_PN\n",
       ":   44H_POP\n",
       ":   77bore\n",
       ":   18pwel\n",
       ":   15pspr\n",
       ":   19rain\n",
       ":   17truc\n",
       ":   9ctan\n",
       ":   26venw\n",
       ":   76bott\n",
       ":   8sacw\n",
       ":   69purf\n",
       ":   74uiws\n",
       ":   1wepu\n",
       ":   68uwel\n",
       ":   13sppu\n",
       ":   69uspr\n",
       ":   21surw\n",
       ":   8othw\n",
       ":   11iwsp\n",
       ":   7basw\n",
       ":   7liws\n",
       ":   7watp\n",
       ":   7tles\n",
       ":   7tmor\n",
       ":   7wnao\n",
       ":   54niod\n",
       ":   54bicy\n",
       ":   5cart\n",
       ":   22mcyc\n",
       ":   4pcar\n",
       ":   1boat\n",
       ":   25wigc\n",
       ":   19\n",
       "\n"
      ],
      "text/plain": [
       "Country    Year  Survey    imws    phom    pipy    ptap    H_PN   H_POP    bore \n",
       "      0       0       0       1       4       6       5      44      77      18 \n",
       "   pwel    pspr    rain    truc    ctan    venw    bott    sacw    purf    uiws \n",
       "     15      19      17       9      26      76       8      69      74       1 \n",
       "   wepu    uwel    sppu    uspr    surw    othw    iwsp    basw    liws    watp \n",
       "     68      13      69      21       8      11       7       7       7       7 \n",
       "   tles    tmor    wnao    niod    bicy    cart    mcyc    pcar    boat    wigc \n",
       "      7       7      54      54       5      22       4       1      25      19 "
      ]
     },
     "metadata": {},
     "output_type": "display_data"
    },
    {
     "data": {
      "text/html": [
       "<style>\n",
       ".dl-inline {width: auto; margin:0; padding: 0}\n",
       ".dl-inline>dt, .dl-inline>dd {float: none; width: auto; display: inline-block}\n",
       ".dl-inline>dt::after {content: \":\\0020\"; padding-right: .5ex}\n",
       ".dl-inline>dt:not(:first-of-type) {padding-left: .5ex}\n",
       "</style><dl class=dl-inline><dt>Country</dt><dd>0</dd><dt>Country Code</dt><dd>0</dd><dt>Year</dt><dd>0</dd><dt>Time Code</dt><dd>0</dd><dt>cgdp</dt><dd>0</dd><dt>tpop</dt><dd>0</dd><dt>upop</dt><dd>0</dd><dt>popd</dt><dd>0</dd><dt>land</dt><dd>0</dd><dt>lita</dt><dd>0</dd><dt>lity</dt><dd>0</dd><dt>mori</dt><dd>0</dd></dl>\n"
      ],
      "text/latex": [
       "\\begin{description*}\n",
       "\\item[Country] 0\n",
       "\\item[Country Code] 0\n",
       "\\item[Year] 0\n",
       "\\item[Time Code] 0\n",
       "\\item[cgdp] 0\n",
       "\\item[tpop] 0\n",
       "\\item[upop] 0\n",
       "\\item[popd] 0\n",
       "\\item[land] 0\n",
       "\\item[lita] 0\n",
       "\\item[lity] 0\n",
       "\\item[mori] 0\n",
       "\\end{description*}\n"
      ],
      "text/markdown": [
       "Country\n",
       ":   0Country Code\n",
       ":   0Year\n",
       ":   0Time Code\n",
       ":   0cgdp\n",
       ":   0tpop\n",
       ":   0upop\n",
       ":   0popd\n",
       ":   0land\n",
       ":   0lita\n",
       ":   0lity\n",
       ":   0mori\n",
       ":   0\n",
       "\n"
      ],
      "text/plain": [
       "     Country Country Code         Year    Time Code         cgdp         tpop \n",
       "           0            0            0            0            0            0 \n",
       "        upop         popd         land         lita         lity         mori \n",
       "           0            0            0            0            0            0 "
      ]
     },
     "metadata": {},
     "output_type": "display_data"
    }
   ],
   "source": [
    "na_count = colSums(is.na(dfh)) #Counting all your NA in each data frames\n",
    "na_count\n",
    "na.count.wb = colSums(is.na(df.wb))\n",
    "na.count.wb"
   ]
  },
  {
   "cell_type": "markdown",
   "metadata": {},
   "source": [
    "Removing column for household data frame if NA is greater than 50%`"
   ]
  },
  {
   "cell_type": "code",
   "execution_count": 298,
   "metadata": {},
   "outputs": [
    {
     "data": {
      "text/html": [
       "<table class=\"dataframe\">\n",
       "<caption>A tibble: 6 × 31</caption>\n",
       "<thead>\n",
       "\t<tr><th scope=col>Country</th><th scope=col>Year</th><th scope=col>Survey</th><th scope=col>imws</th><th scope=col>phom</th><th scope=col>pipy</th><th scope=col>ptap</th><th scope=col>bore</th><th scope=col>pwel</th><th scope=col>pspr</th><th scope=col>...</th><th scope=col>liws</th><th scope=col>watp</th><th scope=col>tles</th><th scope=col>tmor</th><th scope=col>bicy</th><th scope=col>cart</th><th scope=col>mcyc</th><th scope=col>pcar</th><th scope=col>boat</th><th scope=col>wigc</th></tr>\n",
       "\t<tr><th scope=col>&lt;chr&gt;</th><th scope=col>&lt;dbl&gt;</th><th scope=col>&lt;chr&gt;</th><th scope=col>&lt;dbl&gt;</th><th scope=col>&lt;dbl&gt;</th><th scope=col>&lt;dbl&gt;</th><th scope=col>&lt;dbl&gt;</th><th scope=col>&lt;dbl&gt;</th><th scope=col>&lt;dbl&gt;</th><th scope=col>&lt;dbl&gt;</th><th scope=col>...</th><th scope=col>&lt;dbl&gt;</th><th scope=col>&lt;dbl&gt;</th><th scope=col>&lt;dbl&gt;</th><th scope=col>&lt;dbl&gt;</th><th scope=col>&lt;dbl&gt;</th><th scope=col>&lt;dbl&gt;</th><th scope=col>&lt;dbl&gt;</th><th scope=col>&lt;dbl&gt;</th><th scope=col>&lt;dbl&gt;</th><th scope=col>&lt;dbl&gt;</th></tr>\n",
       "</thead>\n",
       "<tbody>\n",
       "\t<tr><td>Afghanistan</td><td>2015</td><td>DHS</td><td>71.2</td><td> 2.3</td><td> 4.8</td><td>14.2</td><td>20.1</td><td>18.5</td><td>4.7</td><td>...</td><td>5.0</td><td>45.3</td><td>45.2</td><td> 8.2</td><td>30.0</td><td>5.8</td><td>35.2</td><td>11.8</td><td> NA</td><td>0.1</td></tr>\n",
       "\t<tr><td>Albania    </td><td>2018</td><td>DHS</td><td>98.4</td><td>48.8</td><td> 5.2</td><td> 2.4</td><td> 1.4</td><td> 4.1</td><td>2.5</td><td>...</td><td>0.9</td><td>77.9</td><td>20.6</td><td> 1.1</td><td>26.4</td><td>3.2</td><td> 9.6</td><td>37.0</td><td>0.7</td><td>0.1</td></tr>\n",
       "\t<tr><td>Angola     </td><td>2016</td><td>DHS</td><td>66.9</td><td> 4.3</td><td> 9.7</td><td>10.3</td><td> 1.9</td><td> 9.1</td><td>3.3</td><td>...</td><td>7.5</td><td>34.5</td><td>46.1</td><td>15.6</td><td> 4.6</td><td>1.3</td><td>17.8</td><td>10.9</td><td>0.4</td><td>0.3</td></tr>\n",
       "\t<tr><td>Armenia    </td><td>2016</td><td>DHS</td><td>99.9</td><td>88.3</td><td> 8.0</td><td> 0.5</td><td> 0.2</td><td> 0.2</td><td>1.0</td><td>...</td><td>0.1</td><td>97.6</td><td> 1.6</td><td> 0.1</td><td> 8.6</td><td>0.4</td><td> 0.2</td><td>39.2</td><td>0.3</td><td>0.1</td></tr>\n",
       "\t<tr><td>Azerbaijan </td><td>2006</td><td>DHS</td><td>90.6</td><td>34.0</td><td>19.7</td><td> 3.5</td><td> 9.3</td><td> 6.2</td><td>7.5</td><td>...</td><td>3.4</td><td>75.9</td><td>18.7</td><td> 4.4</td><td> 6.9</td><td>3.3</td><td> 1.1</td><td>20.4</td><td>0.1</td><td> NA</td></tr>\n",
       "\t<tr><td>Bangladesh </td><td>2014</td><td>DHS</td><td>97.8</td><td> 4.3</td><td> 3.3</td><td> 2.7</td><td>86.4</td><td> 0.2</td><td>0.0</td><td>...</td><td>1.3</td><td>75.5</td><td>22.7</td><td> 1.6</td><td>25.1</td><td> NA</td><td> 6.4</td><td> 0.8</td><td> NA</td><td>0.3</td></tr>\n",
       "</tbody>\n",
       "</table>\n"
      ],
      "text/latex": [
       "A tibble: 6 × 31\n",
       "\\begin{tabular}{lllllllllllllllllllll}\n",
       " Country & Year & Survey & imws & phom & pipy & ptap & bore & pwel & pspr & ... & liws & watp & tles & tmor & bicy & cart & mcyc & pcar & boat & wigc\\\\\n",
       " <chr> & <dbl> & <chr> & <dbl> & <dbl> & <dbl> & <dbl> & <dbl> & <dbl> & <dbl> & ... & <dbl> & <dbl> & <dbl> & <dbl> & <dbl> & <dbl> & <dbl> & <dbl> & <dbl> & <dbl>\\\\\n",
       "\\hline\n",
       "\t Afghanistan & 2015 & DHS & 71.2 &  2.3 &  4.8 & 14.2 & 20.1 & 18.5 & 4.7 & ... & 5.0 & 45.3 & 45.2 &  8.2 & 30.0 & 5.8 & 35.2 & 11.8 &  NA & 0.1\\\\\n",
       "\t Albania     & 2018 & DHS & 98.4 & 48.8 &  5.2 &  2.4 &  1.4 &  4.1 & 2.5 & ... & 0.9 & 77.9 & 20.6 &  1.1 & 26.4 & 3.2 &  9.6 & 37.0 & 0.7 & 0.1\\\\\n",
       "\t Angola      & 2016 & DHS & 66.9 &  4.3 &  9.7 & 10.3 &  1.9 &  9.1 & 3.3 & ... & 7.5 & 34.5 & 46.1 & 15.6 &  4.6 & 1.3 & 17.8 & 10.9 & 0.4 & 0.3\\\\\n",
       "\t Armenia     & 2016 & DHS & 99.9 & 88.3 &  8.0 &  0.5 &  0.2 &  0.2 & 1.0 & ... & 0.1 & 97.6 &  1.6 &  0.1 &  8.6 & 0.4 &  0.2 & 39.2 & 0.3 & 0.1\\\\\n",
       "\t Azerbaijan  & 2006 & DHS & 90.6 & 34.0 & 19.7 &  3.5 &  9.3 &  6.2 & 7.5 & ... & 3.4 & 75.9 & 18.7 &  4.4 &  6.9 & 3.3 &  1.1 & 20.4 & 0.1 &  NA\\\\\n",
       "\t Bangladesh  & 2014 & DHS & 97.8 &  4.3 &  3.3 &  2.7 & 86.4 &  0.2 & 0.0 & ... & 1.3 & 75.5 & 22.7 &  1.6 & 25.1 &  NA &  6.4 &  0.8 &  NA & 0.3\\\\\n",
       "\\end{tabular}\n"
      ],
      "text/markdown": [
       "\n",
       "A tibble: 6 × 31\n",
       "\n",
       "| Country &lt;chr&gt; | Year &lt;dbl&gt; | Survey &lt;chr&gt; | imws &lt;dbl&gt; | phom &lt;dbl&gt; | pipy &lt;dbl&gt; | ptap &lt;dbl&gt; | bore &lt;dbl&gt; | pwel &lt;dbl&gt; | pspr &lt;dbl&gt; | ... ... | liws &lt;dbl&gt; | watp &lt;dbl&gt; | tles &lt;dbl&gt; | tmor &lt;dbl&gt; | bicy &lt;dbl&gt; | cart &lt;dbl&gt; | mcyc &lt;dbl&gt; | pcar &lt;dbl&gt; | boat &lt;dbl&gt; | wigc &lt;dbl&gt; |\n",
       "|---|---|---|---|---|---|---|---|---|---|---|---|---|---|---|---|---|---|---|---|---|\n",
       "| Afghanistan | 2015 | DHS | 71.2 |  2.3 |  4.8 | 14.2 | 20.1 | 18.5 | 4.7 | ... | 5.0 | 45.3 | 45.2 |  8.2 | 30.0 | 5.8 | 35.2 | 11.8 |  NA | 0.1 |\n",
       "| Albania     | 2018 | DHS | 98.4 | 48.8 |  5.2 |  2.4 |  1.4 |  4.1 | 2.5 | ... | 0.9 | 77.9 | 20.6 |  1.1 | 26.4 | 3.2 |  9.6 | 37.0 | 0.7 | 0.1 |\n",
       "| Angola      | 2016 | DHS | 66.9 |  4.3 |  9.7 | 10.3 |  1.9 |  9.1 | 3.3 | ... | 7.5 | 34.5 | 46.1 | 15.6 |  4.6 | 1.3 | 17.8 | 10.9 | 0.4 | 0.3 |\n",
       "| Armenia     | 2016 | DHS | 99.9 | 88.3 |  8.0 |  0.5 |  0.2 |  0.2 | 1.0 | ... | 0.1 | 97.6 |  1.6 |  0.1 |  8.6 | 0.4 |  0.2 | 39.2 | 0.3 | 0.1 |\n",
       "| Azerbaijan  | 2006 | DHS | 90.6 | 34.0 | 19.7 |  3.5 |  9.3 |  6.2 | 7.5 | ... | 3.4 | 75.9 | 18.7 |  4.4 |  6.9 | 3.3 |  1.1 | 20.4 | 0.1 |  NA |\n",
       "| Bangladesh  | 2014 | DHS | 97.8 |  4.3 |  3.3 |  2.7 | 86.4 |  0.2 | 0.0 | ... | 1.3 | 75.5 | 22.7 |  1.6 | 25.1 |  NA |  6.4 |  0.8 |  NA | 0.3 |\n",
       "\n"
      ],
      "text/plain": [
       "  Country     Year Survey imws phom pipy ptap bore pwel pspr ... liws watp tles\n",
       "1 Afghanistan 2015 DHS    71.2  2.3  4.8 14.2 20.1 18.5 4.7  ... 5.0  45.3 45.2\n",
       "2 Albania     2018 DHS    98.4 48.8  5.2  2.4  1.4  4.1 2.5  ... 0.9  77.9 20.6\n",
       "3 Angola      2016 DHS    66.9  4.3  9.7 10.3  1.9  9.1 3.3  ... 7.5  34.5 46.1\n",
       "4 Armenia     2016 DHS    99.9 88.3  8.0  0.5  0.2  0.2 1.0  ... 0.1  97.6  1.6\n",
       "5 Azerbaijan  2006 DHS    90.6 34.0 19.7  3.5  9.3  6.2 7.5  ... 3.4  75.9 18.7\n",
       "6 Bangladesh  2014 DHS    97.8  4.3  3.3  2.7 86.4  0.2 0.0  ... 1.3  75.5 22.7\n",
       "  tmor bicy cart mcyc pcar boat wigc\n",
       "1  8.2 30.0 5.8  35.2 11.8  NA  0.1 \n",
       "2  1.1 26.4 3.2   9.6 37.0 0.7  0.1 \n",
       "3 15.6  4.6 1.3  17.8 10.9 0.4  0.3 \n",
       "4  0.1  8.6 0.4   0.2 39.2 0.3  0.1 \n",
       "5  4.4  6.9 3.3   1.1 20.4 0.1   NA \n",
       "6  1.6 25.1  NA   6.4  0.8  NA  0.3 "
      ]
     },
     "metadata": {},
     "output_type": "display_data"
    },
    {
     "data": {
      "text/html": [
       "<style>\n",
       ".dl-inline {width: auto; margin:0; padding: 0}\n",
       ".dl-inline>dt, .dl-inline>dd {float: none; width: auto; display: inline-block}\n",
       ".dl-inline>dt::after {content: \":\\0020\"; padding-right: .5ex}\n",
       ".dl-inline>dt:not(:first-of-type) {padding-left: .5ex}\n",
       "</style><dl class=dl-inline><dt>Country</dt><dd>0</dd><dt>Year</dt><dd>0</dd><dt>Survey</dt><dd>0</dd><dt>imws</dt><dd>1</dd><dt>phom</dt><dd>4</dd><dt>pipy</dt><dd>6</dd><dt>ptap</dt><dd>5</dd><dt>bore</dt><dd>18</dd><dt>pwel</dt><dd>15</dd><dt>pspr</dt><dd>19</dd><dt>rain</dt><dd>17</dd><dt>truc</dt><dd>9</dd><dt>ctan</dt><dd>26</dd><dt>bott</dt><dd>8</dd><dt>uiws</dt><dd>1</dd><dt>uwel</dt><dd>13</dd><dt>uspr</dt><dd>21</dd><dt>surw</dt><dd>8</dd><dt>othw</dt><dd>11</dd><dt>iwsp</dt><dd>7</dd><dt>basw</dt><dd>7</dd><dt>liws</dt><dd>7</dd><dt>watp</dt><dd>7</dd><dt>tles</dt><dd>7</dd><dt>tmor</dt><dd>7</dd><dt>bicy</dt><dd>5</dd><dt>cart</dt><dd>22</dd><dt>mcyc</dt><dd>4</dd><dt>pcar</dt><dd>1</dd><dt>boat</dt><dd>25</dd><dt>wigc</dt><dd>19</dd></dl>\n"
      ],
      "text/latex": [
       "\\begin{description*}\n",
       "\\item[Country] 0\n",
       "\\item[Year] 0\n",
       "\\item[Survey] 0\n",
       "\\item[imws] 1\n",
       "\\item[phom] 4\n",
       "\\item[pipy] 6\n",
       "\\item[ptap] 5\n",
       "\\item[bore] 18\n",
       "\\item[pwel] 15\n",
       "\\item[pspr] 19\n",
       "\\item[rain] 17\n",
       "\\item[truc] 9\n",
       "\\item[ctan] 26\n",
       "\\item[bott] 8\n",
       "\\item[uiws] 1\n",
       "\\item[uwel] 13\n",
       "\\item[uspr] 21\n",
       "\\item[surw] 8\n",
       "\\item[othw] 11\n",
       "\\item[iwsp] 7\n",
       "\\item[basw] 7\n",
       "\\item[liws] 7\n",
       "\\item[watp] 7\n",
       "\\item[tles] 7\n",
       "\\item[tmor] 7\n",
       "\\item[bicy] 5\n",
       "\\item[cart] 22\n",
       "\\item[mcyc] 4\n",
       "\\item[pcar] 1\n",
       "\\item[boat] 25\n",
       "\\item[wigc] 19\n",
       "\\end{description*}\n"
      ],
      "text/markdown": [
       "Country\n",
       ":   0Year\n",
       ":   0Survey\n",
       ":   0imws\n",
       ":   1phom\n",
       ":   4pipy\n",
       ":   6ptap\n",
       ":   5bore\n",
       ":   18pwel\n",
       ":   15pspr\n",
       ":   19rain\n",
       ":   17truc\n",
       ":   9ctan\n",
       ":   26bott\n",
       ":   8uiws\n",
       ":   1uwel\n",
       ":   13uspr\n",
       ":   21surw\n",
       ":   8othw\n",
       ":   11iwsp\n",
       ":   7basw\n",
       ":   7liws\n",
       ":   7watp\n",
       ":   7tles\n",
       ":   7tmor\n",
       ":   7bicy\n",
       ":   5cart\n",
       ":   22mcyc\n",
       ":   4pcar\n",
       ":   1boat\n",
       ":   25wigc\n",
       ":   19\n",
       "\n"
      ],
      "text/plain": [
       "Country    Year  Survey    imws    phom    pipy    ptap    bore    pwel    pspr \n",
       "      0       0       0       1       4       6       5      18      15      19 \n",
       "   rain    truc    ctan    bott    uiws    uwel    uspr    surw    othw    iwsp \n",
       "     17       9      26       8       1      13      21       8      11       7 \n",
       "   basw    liws    watp    tles    tmor    bicy    cart    mcyc    pcar    boat \n",
       "      7       7       7       7       7       5      22       4       1      25 \n",
       "   wigc \n",
       "     19 "
      ]
     },
     "metadata": {},
     "output_type": "display_data"
    },
    {
     "data": {
      "image/png": "[encoded data removed]",
      "text/plain": [
       "Plot with title \"Histogram of na_count_cleaned\""
      ]
     },
     "metadata": {
      "image/png": {
       "height": 420,
       "width": 420
      }
     },
     "output_type": "display_data"
    }
   ],
   "source": [
    "dfsimple = dfh[, which(colMeans(!is.na(dfh)) > 0.5)]\n",
    "head(dfsimple)\n",
    "na_count_cleaned = colSums(is.na(dfsimple)) #Counting all your NA in each data frames\n",
    "na_count_cleaned\n",
    "hist(na_count_cleaned)\n",
    "zeros = colSums(dfsimple != 0) # Counting all your zeros in each data frame"
   ]
  },
  {
   "cell_type": "markdown",
   "metadata": {},
   "source": [
    "# Understanding wb data and clean up"
   ]
  },
  {
   "cell_type": "code",
   "execution_count": 299,
   "metadata": {},
   "outputs": [
    {
     "data": {
      "text/html": [
       "<table class=\"dataframe\">\n",
       "<caption>A tibble: 6 × 12</caption>\n",
       "<thead>\n",
       "\t<tr><th scope=col>Country</th><th scope=col>Country Code</th><th scope=col>Year</th><th scope=col>Time Code</th><th scope=col>cgdp</th><th scope=col>tpop</th><th scope=col>upop</th><th scope=col>popd</th><th scope=col>land</th><th scope=col>lita</th><th scope=col>lity</th><th scope=col>mori</th></tr>\n",
       "\t<tr><th scope=col>&lt;chr&gt;</th><th scope=col>&lt;chr&gt;</th><th scope=col>&lt;dbl&gt;</th><th scope=col>&lt;chr&gt;</th><th scope=col>&lt;dbl&gt;</th><th scope=col>&lt;dbl&gt;</th><th scope=col>&lt;dbl&gt;</th><th scope=col>&lt;dbl&gt;</th><th scope=col>&lt;dbl&gt;</th><th scope=col>&lt;dbl&gt;</th><th scope=col>&lt;dbl&gt;</th><th scope=col>&lt;dbl&gt;</th></tr>\n",
       "</thead>\n",
       "<tbody>\n",
       "\t<tr><td>Afghanistan   </td><td>AFG</td><td>2018</td><td>YR2018</td><td> 18353881130</td><td>37172386</td><td>25.495</td><td> 56.93776</td><td> 652860</td><td>43.01972</td><td>0.75933</td><td>62.5</td></tr>\n",
       "\t<tr><td>Albania       </td><td>ALB</td><td>2018</td><td>YR2018</td><td> 15147020535</td><td> 2866376</td><td>60.319</td><td>104.61226</td><td>  27400</td><td>98.14115</td><td>1.00582</td><td> 9.5</td></tr>\n",
       "\t<tr><td>Algeria       </td><td>DZA</td><td>2018</td><td>YR2018</td><td>175405660377</td><td>42228429</td><td>72.629</td><td> 17.73008</td><td>2381740</td><td>81.40784</td><td>0.99650</td><td>23.8</td></tr>\n",
       "\t<tr><td>American Samoa</td><td>ASM</td><td>2018</td><td>YR2018</td><td>   636000000</td><td>   55465</td><td>87.153</td><td>277.32500</td><td>    200</td><td> 0.00000</td><td>0.00000</td><td> 0.0</td></tr>\n",
       "\t<tr><td>Andorra       </td><td>AND</td><td>2018</td><td>YR2018</td><td>  3218316013</td><td>   77006</td><td>88.062</td><td>163.84255</td><td>    470</td><td> 0.00000</td><td>0.00000</td><td> 3.1</td></tr>\n",
       "\t<tr><td>Angola        </td><td>AGO</td><td>2018</td><td>YR2018</td><td>101353230785</td><td>30809762</td><td>65.514</td><td> 24.71305</td><td>1246700</td><td> 0.00000</td><td>0.00000</td><td>77.7</td></tr>\n",
       "</tbody>\n",
       "</table>\n"
      ],
      "text/latex": [
       "A tibble: 6 × 12\n",
       "\\begin{tabular}{llllllllllll}\n",
       " Country & Country Code & Year & Time Code & cgdp & tpop & upop & popd & land & lita & lity & mori\\\\\n",
       " <chr> & <chr> & <dbl> & <chr> & <dbl> & <dbl> & <dbl> & <dbl> & <dbl> & <dbl> & <dbl> & <dbl>\\\\\n",
       "\\hline\n",
       "\t Afghanistan    & AFG & 2018 & YR2018 &  18353881130 & 37172386 & 25.495 &  56.93776 &  652860 & 43.01972 & 0.75933 & 62.5\\\\\n",
       "\t Albania        & ALB & 2018 & YR2018 &  15147020535 &  2866376 & 60.319 & 104.61226 &   27400 & 98.14115 & 1.00582 &  9.5\\\\\n",
       "\t Algeria        & DZA & 2018 & YR2018 & 175405660377 & 42228429 & 72.629 &  17.73008 & 2381740 & 81.40784 & 0.99650 & 23.8\\\\\n",
       "\t American Samoa & ASM & 2018 & YR2018 &    636000000 &    55465 & 87.153 & 277.32500 &     200 &  0.00000 & 0.00000 &  0.0\\\\\n",
       "\t Andorra        & AND & 2018 & YR2018 &   3218316013 &    77006 & 88.062 & 163.84255 &     470 &  0.00000 & 0.00000 &  3.1\\\\\n",
       "\t Angola         & AGO & 2018 & YR2018 & 101353230785 & 30809762 & 65.514 &  24.71305 & 1246700 &  0.00000 & 0.00000 & 77.7\\\\\n",
       "\\end{tabular}\n"
      ],
      "text/markdown": [
       "\n",
       "A tibble: 6 × 12\n",
       "\n",
       "| Country &lt;chr&gt; | Country Code &lt;chr&gt; | Year &lt;dbl&gt; | Time Code &lt;chr&gt; | cgdp &lt;dbl&gt; | tpop &lt;dbl&gt; | upop &lt;dbl&gt; | popd &lt;dbl&gt; | land &lt;dbl&gt; | lita &lt;dbl&gt; | lity &lt;dbl&gt; | mori &lt;dbl&gt; |\n",
       "|---|---|---|---|---|---|---|---|---|---|---|---|\n",
       "| Afghanistan    | AFG | 2018 | YR2018 |  18353881130 | 37172386 | 25.495 |  56.93776 |  652860 | 43.01972 | 0.75933 | 62.5 |\n",
       "| Albania        | ALB | 2018 | YR2018 |  15147020535 |  2866376 | 60.319 | 104.61226 |   27400 | 98.14115 | 1.00582 |  9.5 |\n",
       "| Algeria        | DZA | 2018 | YR2018 | 175405660377 | 42228429 | 72.629 |  17.73008 | 2381740 | 81.40784 | 0.99650 | 23.8 |\n",
       "| American Samoa | ASM | 2018 | YR2018 |    636000000 |    55465 | 87.153 | 277.32500 |     200 |  0.00000 | 0.00000 |  0.0 |\n",
       "| Andorra        | AND | 2018 | YR2018 |   3218316013 |    77006 | 88.062 | 163.84255 |     470 |  0.00000 | 0.00000 |  3.1 |\n",
       "| Angola         | AGO | 2018 | YR2018 | 101353230785 | 30809762 | 65.514 |  24.71305 | 1246700 |  0.00000 | 0.00000 | 77.7 |\n",
       "\n"
      ],
      "text/plain": [
       "  Country        Country Code Year Time Code cgdp         tpop     upop  \n",
       "1 Afghanistan    AFG          2018 YR2018     18353881130 37172386 25.495\n",
       "2 Albania        ALB          2018 YR2018     15147020535  2866376 60.319\n",
       "3 Algeria        DZA          2018 YR2018    175405660377 42228429 72.629\n",
       "4 American Samoa ASM          2018 YR2018       636000000    55465 87.153\n",
       "5 Andorra        AND          2018 YR2018      3218316013    77006 88.062\n",
       "6 Angola         AGO          2018 YR2018    101353230785 30809762 65.514\n",
       "  popd      land    lita     lity    mori\n",
       "1  56.93776  652860 43.01972 0.75933 62.5\n",
       "2 104.61226   27400 98.14115 1.00582  9.5\n",
       "3  17.73008 2381740 81.40784 0.99650 23.8\n",
       "4 277.32500     200  0.00000 0.00000  0.0\n",
       "5 163.84255     470  0.00000 0.00000  3.1\n",
       "6  24.71305 1246700  0.00000 0.00000 77.7"
      ]
     },
     "metadata": {},
     "output_type": "display_data"
    },
    {
     "data": {
      "text/plain": [
       "     Min.   1st Qu.    Median      Mean   3rd Qu.      Max. \n",
       "0.000e+00 4.085e+09 2.411e+10 3.924e+11 1.754e+11 2.058e+13 "
      ]
     },
     "metadata": {},
     "output_type": "display_data"
    },
    {
     "data": {
      "image/png": "[encoded data removed]",
      "text/plain": [
       "Plot with title \"Year of surveys\""
      ]
     },
     "metadata": {
      "image/png": {
       "height": 420,
       "width": 420
      }
     },
     "output_type": "display_data"
    },
    {
     "data": {
      "text/plain": [
       "     Min.   1st Qu.    Median      Mean   3rd Qu.      Max. \n",
       "0.000e+00 4.085e+09 2.411e+10 3.924e+11 1.754e+11 2.058e+13 "
      ]
     },
     "metadata": {},
     "output_type": "display_data"
    },
    {
     "data": {
      "image/png": "[encoded data removed]",
      "text/plain": [
       "Plot with title \"Year of surveys\""
      ]
     },
     "metadata": {
      "image/png": {
       "height": 420,
       "width": 420
      }
     },
     "output_type": "display_data"
    }
   ],
   "source": [
    "head(df.wb)\n",
    "hist(df.wb$Year, main=\"Year of surveys\",\n",
    "     xlab=\"Years\",\n",
    "     ylab=\"Frequency\",\n",
    "     col.main=\"red\", col.lab=\"blue\")\n",
    "summary(df.wb$cgdp) # House hold with unimproved water source\n",
    "hist(df.wb$cgdp, main=\"Year of surveys\",\n",
    "     xlab=\"Years\",\n",
    "     ylab=\"GDP (current US$) \",\n",
    "     col.main=\"red\", col.lab=\"blue\")\n",
    "summary(df.wb$cgdp) # House hold with unimproved water source"
   ]
  },
  {
   "cell_type": "markdown",
   "metadata": {},
   "source": [
    "# Counting Year less than 2000. "
   ]
  },
  {
   "cell_type": "code",
   "execution_count": 300,
   "metadata": {},
   "outputs": [
    {
     "data": {
      "text/html": [
       "<style>\n",
       ".list-inline {list-style: none; margin:0; padding: 0}\n",
       ".list-inline>li {display: inline-block}\n",
       ".list-inline>li:not(:last-child)::after {content: \"\\00b7\"; padding: 0 .5ex}\n",
       "</style>\n",
       "<ol class=list-inline><li>2015</li><li>2018</li><li>2016</li><li>2016</li><li>2006</li><li>2014</li><li>2018</li></ol>\n"
      ],
      "text/latex": [
       "\\begin{enumerate*}\n",
       "\\item 2015\n",
       "\\item 2018\n",
       "\\item 2016\n",
       "\\item 2016\n",
       "\\item 2006\n",
       "\\item 2014\n",
       "\\item 2018\n",
       "\\end{enumerate*}\n"
      ],
      "text/markdown": [
       "1. 2015\n",
       "2. 2018\n",
       "3. 2016\n",
       "4. 2016\n",
       "5. 2006\n",
       "6. 2014\n",
       "7. 2018\n",
       "\n",
       "\n"
      ],
      "text/plain": [
       "[1] 2015 2018 2016 2016 2006 2014 2018"
      ]
     },
     "metadata": {},
     "output_type": "display_data"
    },
    {
     "data": {
      "text/html": [
       "5"
      ],
      "text/latex": [
       "5"
      ],
      "text/markdown": [
       "5"
      ],
      "text/plain": [
       "[1] 5"
      ]
     },
     "metadata": {},
     "output_type": "display_data"
    },
    {
     "data": {
      "text/html": [
       "<table class=\"dataframe\">\n",
       "<caption>A tibble: 5 × 31</caption>\n",
       "<thead>\n",
       "\t<tr><th scope=col>Country</th><th scope=col>Year</th><th scope=col>Survey</th><th scope=col>imws</th><th scope=col>phom</th><th scope=col>pipy</th><th scope=col>ptap</th><th scope=col>bore</th><th scope=col>pwel</th><th scope=col>pspr</th><th scope=col>...</th><th scope=col>liws</th><th scope=col>watp</th><th scope=col>tles</th><th scope=col>tmor</th><th scope=col>bicy</th><th scope=col>cart</th><th scope=col>mcyc</th><th scope=col>pcar</th><th scope=col>boat</th><th scope=col>wigc</th></tr>\n",
       "\t<tr><th scope=col>&lt;chr&gt;</th><th scope=col>&lt;dbl&gt;</th><th scope=col>&lt;chr&gt;</th><th scope=col>&lt;dbl&gt;</th><th scope=col>&lt;dbl&gt;</th><th scope=col>&lt;dbl&gt;</th><th scope=col>&lt;dbl&gt;</th><th scope=col>&lt;dbl&gt;</th><th scope=col>&lt;dbl&gt;</th><th scope=col>&lt;dbl&gt;</th><th scope=col>...</th><th scope=col>&lt;dbl&gt;</th><th scope=col>&lt;dbl&gt;</th><th scope=col>&lt;dbl&gt;</th><th scope=col>&lt;dbl&gt;</th><th scope=col>&lt;dbl&gt;</th><th scope=col>&lt;dbl&gt;</th><th scope=col>&lt;dbl&gt;</th><th scope=col>&lt;dbl&gt;</th><th scope=col>&lt;dbl&gt;</th><th scope=col>&lt;dbl&gt;</th></tr>\n",
       "</thead>\n",
       "<tbody>\n",
       "\t<tr><td>Brazil                  </td><td>1996</td><td>DHS</td><td>76.0</td><td>69.2</td><td>3.5</td><td>  NA</td><td>NA</td><td>NA</td><td>NA</td><td>...</td><td> NA</td><td>  NA</td><td>  NA</td><td>  NA</td><td>  NA</td><td>NA</td><td>  NA</td><td>30.2</td><td>NA</td><td>NA</td></tr>\n",
       "\t<tr><td>Central African Republic</td><td>1995</td><td>DHS</td><td>16.3</td><td>  NA</td><td>1.7</td><td>14.6</td><td>NA</td><td>NA</td><td>NA</td><td>...</td><td>1.1</td><td> 7.5</td><td>75.1</td><td>17.4</td><td>11.5</td><td>NA</td><td> 4.5</td><td> 1.4</td><td>NA</td><td>NA</td></tr>\n",
       "\t<tr><td>Kazakhstan              </td><td>1999</td><td>DHS</td><td>69.4</td><td>49.5</td><td>9.2</td><td> 7.6</td><td>NA</td><td>NA</td><td>NA</td><td>...</td><td>0.8</td><td>70.1</td><td>26.4</td><td> 2.9</td><td>14.0</td><td>NA</td><td> 9.1</td><td>26.7</td><td>NA</td><td>NA</td></tr>\n",
       "\t<tr><td>Paraguay                </td><td>1990</td><td>DHS</td><td>  NA</td><td>  NA</td><td> NA</td><td>  NA</td><td>NA</td><td>NA</td><td>NA</td><td>...</td><td> NA</td><td>  NA</td><td>  NA</td><td>  NA</td><td>  NA</td><td>NA</td><td>  NA</td><td>  NA</td><td>NA</td><td>NA</td></tr>\n",
       "\t<tr><td>Uzbekistan              </td><td>1996</td><td>DHS</td><td>80.6</td><td>59.7</td><td> NA</td><td>18.0</td><td>NA</td><td>NA</td><td>NA</td><td>...</td><td>1.3</td><td>72.5</td><td>24.5</td><td> 2.3</td><td>20.0</td><td>NA</td><td>10.2</td><td>21.2</td><td>NA</td><td>NA</td></tr>\n",
       "</tbody>\n",
       "</table>\n"
      ],
      "text/latex": [
       "A tibble: 5 × 31\n",
       "\\begin{tabular}{lllllllllllllllllllll}\n",
       " Country & Year & Survey & imws & phom & pipy & ptap & bore & pwel & pspr & ... & liws & watp & tles & tmor & bicy & cart & mcyc & pcar & boat & wigc\\\\\n",
       " <chr> & <dbl> & <chr> & <dbl> & <dbl> & <dbl> & <dbl> & <dbl> & <dbl> & <dbl> & ... & <dbl> & <dbl> & <dbl> & <dbl> & <dbl> & <dbl> & <dbl> & <dbl> & <dbl> & <dbl>\\\\\n",
       "\\hline\n",
       "\t Brazil                   & 1996 & DHS & 76.0 & 69.2 & 3.5 &   NA & NA & NA & NA & ... &  NA &   NA &   NA &   NA &   NA & NA &   NA & 30.2 & NA & NA\\\\\n",
       "\t Central African Republic & 1995 & DHS & 16.3 &   NA & 1.7 & 14.6 & NA & NA & NA & ... & 1.1 &  7.5 & 75.1 & 17.4 & 11.5 & NA &  4.5 &  1.4 & NA & NA\\\\\n",
       "\t Kazakhstan               & 1999 & DHS & 69.4 & 49.5 & 9.2 &  7.6 & NA & NA & NA & ... & 0.8 & 70.1 & 26.4 &  2.9 & 14.0 & NA &  9.1 & 26.7 & NA & NA\\\\\n",
       "\t Paraguay                 & 1990 & DHS &   NA &   NA &  NA &   NA & NA & NA & NA & ... &  NA &   NA &   NA &   NA &   NA & NA &   NA &   NA & NA & NA\\\\\n",
       "\t Uzbekistan               & 1996 & DHS & 80.6 & 59.7 &  NA & 18.0 & NA & NA & NA & ... & 1.3 & 72.5 & 24.5 &  2.3 & 20.0 & NA & 10.2 & 21.2 & NA & NA\\\\\n",
       "\\end{tabular}\n"
      ],
      "text/markdown": [
       "\n",
       "A tibble: 5 × 31\n",
       "\n",
       "| Country &lt;chr&gt; | Year &lt;dbl&gt; | Survey &lt;chr&gt; | imws &lt;dbl&gt; | phom &lt;dbl&gt; | pipy &lt;dbl&gt; | ptap &lt;dbl&gt; | bore &lt;dbl&gt; | pwel &lt;dbl&gt; | pspr &lt;dbl&gt; | ... ... | liws &lt;dbl&gt; | watp &lt;dbl&gt; | tles &lt;dbl&gt; | tmor &lt;dbl&gt; | bicy &lt;dbl&gt; | cart &lt;dbl&gt; | mcyc &lt;dbl&gt; | pcar &lt;dbl&gt; | boat &lt;dbl&gt; | wigc &lt;dbl&gt; |\n",
       "|---|---|---|---|---|---|---|---|---|---|---|---|---|---|---|---|---|---|---|---|---|\n",
       "| Brazil                   | 1996 | DHS | 76.0 | 69.2 | 3.5 |   NA | NA | NA | NA | ... |  NA |   NA |   NA |   NA |   NA | NA |   NA | 30.2 | NA | NA |\n",
       "| Central African Republic | 1995 | DHS | 16.3 |   NA | 1.7 | 14.6 | NA | NA | NA | ... | 1.1 |  7.5 | 75.1 | 17.4 | 11.5 | NA |  4.5 |  1.4 | NA | NA |\n",
       "| Kazakhstan               | 1999 | DHS | 69.4 | 49.5 | 9.2 |  7.6 | NA | NA | NA | ... | 0.8 | 70.1 | 26.4 |  2.9 | 14.0 | NA |  9.1 | 26.7 | NA | NA |\n",
       "| Paraguay                 | 1990 | DHS |   NA |   NA |  NA |   NA | NA | NA | NA | ... |  NA |   NA |   NA |   NA |   NA | NA |   NA |   NA | NA | NA |\n",
       "| Uzbekistan               | 1996 | DHS | 80.6 | 59.7 |  NA | 18.0 | NA | NA | NA | ... | 1.3 | 72.5 | 24.5 |  2.3 | 20.0 | NA | 10.2 | 21.2 | NA | NA |\n",
       "\n"
      ],
      "text/plain": [
       "  Country                  Year Survey imws phom pipy ptap bore pwel pspr ...\n",
       "1 Brazil                   1996 DHS    76.0 69.2 3.5    NA NA   NA   NA   ...\n",
       "2 Central African Republic 1995 DHS    16.3   NA 1.7  14.6 NA   NA   NA   ...\n",
       "3 Kazakhstan               1999 DHS    69.4 49.5 9.2   7.6 NA   NA   NA   ...\n",
       "4 Paraguay                 1990 DHS      NA   NA  NA    NA NA   NA   NA   ...\n",
       "5 Uzbekistan               1996 DHS    80.6 59.7  NA  18.0 NA   NA   NA   ...\n",
       "  liws watp tles tmor bicy cart mcyc pcar boat wigc\n",
       "1  NA    NA   NA   NA   NA NA     NA 30.2 NA   NA  \n",
       "2 1.1   7.5 75.1 17.4 11.5 NA    4.5  1.4 NA   NA  \n",
       "3 0.8  70.1 26.4  2.9 14.0 NA    9.1 26.7 NA   NA  \n",
       "4  NA    NA   NA   NA   NA NA     NA   NA NA   NA  \n",
       "5 1.3  72.5 24.5  2.3 20.0 NA   10.2 21.2 NA   NA  "
      ]
     },
     "metadata": {},
     "output_type": "display_data"
    },
    {
     "data": {
      "text/html": [
       "<table class=\"dataframe\">\n",
       "<caption>A tibble: 7 × 31</caption>\n",
       "<thead>\n",
       "\t<tr><th scope=col>Country</th><th scope=col>Year</th><th scope=col>Survey</th><th scope=col>imws</th><th scope=col>phom</th><th scope=col>pipy</th><th scope=col>ptap</th><th scope=col>bore</th><th scope=col>pwel</th><th scope=col>pspr</th><th scope=col>...</th><th scope=col>liws</th><th scope=col>watp</th><th scope=col>tles</th><th scope=col>tmor</th><th scope=col>bicy</th><th scope=col>cart</th><th scope=col>mcyc</th><th scope=col>pcar</th><th scope=col>boat</th><th scope=col>wigc</th></tr>\n",
       "\t<tr><th scope=col>&lt;chr&gt;</th><th scope=col>&lt;dbl&gt;</th><th scope=col>&lt;chr&gt;</th><th scope=col>&lt;dbl&gt;</th><th scope=col>&lt;dbl&gt;</th><th scope=col>&lt;dbl&gt;</th><th scope=col>&lt;dbl&gt;</th><th scope=col>&lt;dbl&gt;</th><th scope=col>&lt;dbl&gt;</th><th scope=col>&lt;dbl&gt;</th><th scope=col>...</th><th scope=col>&lt;dbl&gt;</th><th scope=col>&lt;dbl&gt;</th><th scope=col>&lt;dbl&gt;</th><th scope=col>&lt;dbl&gt;</th><th scope=col>&lt;dbl&gt;</th><th scope=col>&lt;dbl&gt;</th><th scope=col>&lt;dbl&gt;</th><th scope=col>&lt;dbl&gt;</th><th scope=col>&lt;dbl&gt;</th><th scope=col>&lt;dbl&gt;</th></tr>\n",
       "</thead>\n",
       "<tbody>\n",
       "\t<tr><td>Afghanistan</td><td>2015</td><td>DHS</td><td>71.2</td><td> 2.3</td><td> 4.8</td><td>14.2</td><td>20.1</td><td>18.5</td><td>4.7</td><td>...</td><td>5.0</td><td>45.3</td><td>45.2</td><td> 8.2</td><td>30.0</td><td>5.8</td><td>35.2</td><td>11.8</td><td> NA</td><td>0.1</td></tr>\n",
       "\t<tr><td>Albania    </td><td>2018</td><td>DHS</td><td>98.4</td><td>48.8</td><td> 5.2</td><td> 2.4</td><td> 1.4</td><td> 4.1</td><td>2.5</td><td>...</td><td>0.9</td><td>77.9</td><td>20.6</td><td> 1.1</td><td>26.4</td><td>3.2</td><td> 9.6</td><td>37.0</td><td>0.7</td><td>0.1</td></tr>\n",
       "\t<tr><td>Angola     </td><td>2016</td><td>DHS</td><td>66.9</td><td> 4.3</td><td> 9.7</td><td>10.3</td><td> 1.9</td><td> 9.1</td><td>3.3</td><td>...</td><td>7.5</td><td>34.5</td><td>46.1</td><td>15.6</td><td> 4.6</td><td>1.3</td><td>17.8</td><td>10.9</td><td>0.4</td><td>0.3</td></tr>\n",
       "\t<tr><td>Armenia    </td><td>2016</td><td>DHS</td><td>99.9</td><td>88.3</td><td> 8.0</td><td> 0.5</td><td> 0.2</td><td> 0.2</td><td>1.0</td><td>...</td><td>0.1</td><td>97.6</td><td> 1.6</td><td> 0.1</td><td> 8.6</td><td>0.4</td><td> 0.2</td><td>39.2</td><td>0.3</td><td>0.1</td></tr>\n",
       "\t<tr><td>Azerbaijan </td><td>2006</td><td>DHS</td><td>90.6</td><td>34.0</td><td>19.7</td><td> 3.5</td><td> 9.3</td><td> 6.2</td><td>7.5</td><td>...</td><td>3.4</td><td>75.9</td><td>18.7</td><td> 4.4</td><td> 6.9</td><td>3.3</td><td> 1.1</td><td>20.4</td><td>0.1</td><td> NA</td></tr>\n",
       "\t<tr><td>Bangladesh </td><td>2014</td><td>DHS</td><td>97.8</td><td> 4.3</td><td> 3.3</td><td> 2.7</td><td>86.4</td><td> 0.2</td><td>0.0</td><td>...</td><td>1.3</td><td>75.5</td><td>22.7</td><td> 1.6</td><td>25.1</td><td> NA</td><td> 6.4</td><td> 0.8</td><td> NA</td><td>0.3</td></tr>\n",
       "\t<tr><td>Benin      </td><td>2018</td><td>DHS</td><td>71.7</td><td> 5.1</td><td> 4.2</td><td>13.0</td><td>28.9</td><td> 4.4</td><td>0.3</td><td>...</td><td>7.3</td><td>37.4</td><td>49.8</td><td>12.1</td><td>19.4</td><td>3.2</td><td>56.1</td><td> 4.2</td><td>0.2</td><td>0.3</td></tr>\n",
       "</tbody>\n",
       "</table>\n"
      ],
      "text/latex": [
       "A tibble: 7 × 31\n",
       "\\begin{tabular}{lllllllllllllllllllll}\n",
       " Country & Year & Survey & imws & phom & pipy & ptap & bore & pwel & pspr & ... & liws & watp & tles & tmor & bicy & cart & mcyc & pcar & boat & wigc\\\\\n",
       " <chr> & <dbl> & <chr> & <dbl> & <dbl> & <dbl> & <dbl> & <dbl> & <dbl> & <dbl> & ... & <dbl> & <dbl> & <dbl> & <dbl> & <dbl> & <dbl> & <dbl> & <dbl> & <dbl> & <dbl>\\\\\n",
       "\\hline\n",
       "\t Afghanistan & 2015 & DHS & 71.2 &  2.3 &  4.8 & 14.2 & 20.1 & 18.5 & 4.7 & ... & 5.0 & 45.3 & 45.2 &  8.2 & 30.0 & 5.8 & 35.2 & 11.8 &  NA & 0.1\\\\\n",
       "\t Albania     & 2018 & DHS & 98.4 & 48.8 &  5.2 &  2.4 &  1.4 &  4.1 & 2.5 & ... & 0.9 & 77.9 & 20.6 &  1.1 & 26.4 & 3.2 &  9.6 & 37.0 & 0.7 & 0.1\\\\\n",
       "\t Angola      & 2016 & DHS & 66.9 &  4.3 &  9.7 & 10.3 &  1.9 &  9.1 & 3.3 & ... & 7.5 & 34.5 & 46.1 & 15.6 &  4.6 & 1.3 & 17.8 & 10.9 & 0.4 & 0.3\\\\\n",
       "\t Armenia     & 2016 & DHS & 99.9 & 88.3 &  8.0 &  0.5 &  0.2 &  0.2 & 1.0 & ... & 0.1 & 97.6 &  1.6 &  0.1 &  8.6 & 0.4 &  0.2 & 39.2 & 0.3 & 0.1\\\\\n",
       "\t Azerbaijan  & 2006 & DHS & 90.6 & 34.0 & 19.7 &  3.5 &  9.3 &  6.2 & 7.5 & ... & 3.4 & 75.9 & 18.7 &  4.4 &  6.9 & 3.3 &  1.1 & 20.4 & 0.1 &  NA\\\\\n",
       "\t Bangladesh  & 2014 & DHS & 97.8 &  4.3 &  3.3 &  2.7 & 86.4 &  0.2 & 0.0 & ... & 1.3 & 75.5 & 22.7 &  1.6 & 25.1 &  NA &  6.4 &  0.8 &  NA & 0.3\\\\\n",
       "\t Benin       & 2018 & DHS & 71.7 &  5.1 &  4.2 & 13.0 & 28.9 &  4.4 & 0.3 & ... & 7.3 & 37.4 & 49.8 & 12.1 & 19.4 & 3.2 & 56.1 &  4.2 & 0.2 & 0.3\\\\\n",
       "\\end{tabular}\n"
      ],
      "text/markdown": [
       "\n",
       "A tibble: 7 × 31\n",
       "\n",
       "| Country &lt;chr&gt; | Year &lt;dbl&gt; | Survey &lt;chr&gt; | imws &lt;dbl&gt; | phom &lt;dbl&gt; | pipy &lt;dbl&gt; | ptap &lt;dbl&gt; | bore &lt;dbl&gt; | pwel &lt;dbl&gt; | pspr &lt;dbl&gt; | ... ... | liws &lt;dbl&gt; | watp &lt;dbl&gt; | tles &lt;dbl&gt; | tmor &lt;dbl&gt; | bicy &lt;dbl&gt; | cart &lt;dbl&gt; | mcyc &lt;dbl&gt; | pcar &lt;dbl&gt; | boat &lt;dbl&gt; | wigc &lt;dbl&gt; |\n",
       "|---|---|---|---|---|---|---|---|---|---|---|---|---|---|---|---|---|---|---|---|---|\n",
       "| Afghanistan | 2015 | DHS | 71.2 |  2.3 |  4.8 | 14.2 | 20.1 | 18.5 | 4.7 | ... | 5.0 | 45.3 | 45.2 |  8.2 | 30.0 | 5.8 | 35.2 | 11.8 |  NA | 0.1 |\n",
       "| Albania     | 2018 | DHS | 98.4 | 48.8 |  5.2 |  2.4 |  1.4 |  4.1 | 2.5 | ... | 0.9 | 77.9 | 20.6 |  1.1 | 26.4 | 3.2 |  9.6 | 37.0 | 0.7 | 0.1 |\n",
       "| Angola      | 2016 | DHS | 66.9 |  4.3 |  9.7 | 10.3 |  1.9 |  9.1 | 3.3 | ... | 7.5 | 34.5 | 46.1 | 15.6 |  4.6 | 1.3 | 17.8 | 10.9 | 0.4 | 0.3 |\n",
       "| Armenia     | 2016 | DHS | 99.9 | 88.3 |  8.0 |  0.5 |  0.2 |  0.2 | 1.0 | ... | 0.1 | 97.6 |  1.6 |  0.1 |  8.6 | 0.4 |  0.2 | 39.2 | 0.3 | 0.1 |\n",
       "| Azerbaijan  | 2006 | DHS | 90.6 | 34.0 | 19.7 |  3.5 |  9.3 |  6.2 | 7.5 | ... | 3.4 | 75.9 | 18.7 |  4.4 |  6.9 | 3.3 |  1.1 | 20.4 | 0.1 |  NA |\n",
       "| Bangladesh  | 2014 | DHS | 97.8 |  4.3 |  3.3 |  2.7 | 86.4 |  0.2 | 0.0 | ... | 1.3 | 75.5 | 22.7 |  1.6 | 25.1 |  NA |  6.4 |  0.8 |  NA | 0.3 |\n",
       "| Benin       | 2018 | DHS | 71.7 |  5.1 |  4.2 | 13.0 | 28.9 |  4.4 | 0.3 | ... | 7.3 | 37.4 | 49.8 | 12.1 | 19.4 | 3.2 | 56.1 |  4.2 | 0.2 | 0.3 |\n",
       "\n"
      ],
      "text/plain": [
       "  Country     Year Survey imws phom pipy ptap bore pwel pspr ... liws watp tles\n",
       "1 Afghanistan 2015 DHS    71.2  2.3  4.8 14.2 20.1 18.5 4.7  ... 5.0  45.3 45.2\n",
       "2 Albania     2018 DHS    98.4 48.8  5.2  2.4  1.4  4.1 2.5  ... 0.9  77.9 20.6\n",
       "3 Angola      2016 DHS    66.9  4.3  9.7 10.3  1.9  9.1 3.3  ... 7.5  34.5 46.1\n",
       "4 Armenia     2016 DHS    99.9 88.3  8.0  0.5  0.2  0.2 1.0  ... 0.1  97.6  1.6\n",
       "5 Azerbaijan  2006 DHS    90.6 34.0 19.7  3.5  9.3  6.2 7.5  ... 3.4  75.9 18.7\n",
       "6 Bangladesh  2014 DHS    97.8  4.3  3.3  2.7 86.4  0.2 0.0  ... 1.3  75.5 22.7\n",
       "7 Benin       2018 DHS    71.7  5.1  4.2 13.0 28.9  4.4 0.3  ... 7.3  37.4 49.8\n",
       "  tmor bicy cart mcyc pcar boat wigc\n",
       "1  8.2 30.0 5.8  35.2 11.8  NA  0.1 \n",
       "2  1.1 26.4 3.2   9.6 37.0 0.7  0.1 \n",
       "3 15.6  4.6 1.3  17.8 10.9 0.4  0.3 \n",
       "4  0.1  8.6 0.4   0.2 39.2 0.3  0.1 \n",
       "5  4.4  6.9 3.3   1.1 20.4 0.1   NA \n",
       "6  1.6 25.1  NA   6.4  0.8  NA  0.3 \n",
       "7 12.1 19.4 3.2  56.1  4.2 0.2  0.3 "
      ]
     },
     "metadata": {},
     "output_type": "display_data"
    },
    {
     "data": {
      "text/html": [
       "<table class=\"dataframe\">\n",
       "<caption>A tibble: 1 × 1</caption>\n",
       "<thead>\n",
       "\t<tr><th scope=col>n</th></tr>\n",
       "\t<tr><th scope=col>&lt;int&gt;</th></tr>\n",
       "</thead>\n",
       "<tbody>\n",
       "\t<tr><td>73</td></tr>\n",
       "</tbody>\n",
       "</table>\n"
      ],
      "text/latex": [
       "A tibble: 1 × 1\n",
       "\\begin{tabular}{l}\n",
       " n\\\\\n",
       " <int>\\\\\n",
       "\\hline\n",
       "\t 73\\\\\n",
       "\\end{tabular}\n"
      ],
      "text/markdown": [
       "\n",
       "A tibble: 1 × 1\n",
       "\n",
       "| n &lt;int&gt; |\n",
       "|---|\n",
       "| 73 |\n",
       "\n"
      ],
      "text/plain": [
       "  n \n",
       "1 73"
      ]
     },
     "metadata": {},
     "output_type": "display_data"
    }
   ],
   "source": [
    "head(dfsimple$Year , 7)\n",
    "\n",
    "sum(dfsimple$Year < 2000)\n",
    "\n",
    "dfsimple[dfsimple$Year < 2000, ]\n",
    "\n",
    "dfsimplepost2000 = filter(dfsimple, Year >=2000 & Year < 2020)\n",
    "\n",
    "head(dfsimplepost2000,7)\n",
    "count(dfsimplepost2000)"
   ]
  },
  {
   "cell_type": "code",
   "execution_count": 301,
   "metadata": {},
   "outputs": [],
   "source": [
    "write_xlsx(dfsimplepost2000, '../../results/dfsimple.xlsx')"
   ]
  },
  {
   "cell_type": "markdown",
   "metadata": {},
   "source": [
    "# Preliminary Data Visualization"
   ]
  },
  {
   "cell_type": "code",
   "execution_count": 302,
   "metadata": {},
   "outputs": [
    {
     "data": {
      "text/plain": [
       "   Min. 1st Qu.  Median    Mean 3rd Qu.    Max. \n",
       "    0.1     6.9    17.1    18.9    28.3    65.6 "
      ]
     },
     "metadata": {},
     "output_type": "display_data"
    },
    {
     "data": {
      "image/png": "[encoded data removed]",
      "text/plain": [
       "Plot with title \"Year of surveys\""
      ]
     },
     "metadata": {
      "image/png": {
       "height": 420,
       "width": 420
      }
     },
     "output_type": "display_data"
    },
    {
     "data": {
      "image/png": "[encoded data removed]",
      "text/plain": [
       "Plot with title \"Households using an unimproved water source\""
      ]
     },
     "metadata": {
      "image/png": {
       "height": 420,
       "width": 420
      }
     },
     "output_type": "display_data"
    },
    {
     "data": {
      "text/plain": [
       "   Min. 1st Qu.  Median    Mean 3rd Qu.    Max.    NA's \n",
       "   2.30   10.50   22.45   24.13   35.15   82.00       3 "
      ]
     },
     "metadata": {},
     "output_type": "display_data"
    },
    {
     "data": {
      "image/png": "[encoded data removed]",
      "text/plain": [
       "Plot with title \"Households using an unimproved water source\""
      ]
     },
     "metadata": {
      "image/png": {
       "height": 420,
       "width": 420
      }
     },
     "output_type": "display_data"
    },
    {
     "data": {
      "image/png": "[encoded data removed]",
      "text/plain": [
       "Plot with title \"Households possessing a bicycle\""
      ]
     },
     "metadata": {
      "image/png": {
       "height": 420,
       "width": 420
      }
     },
     "output_type": "display_data"
    },
    {
     "data": {
      "text/plain": [
       "   Min. 1st Qu.  Median    Mean 3rd Qu.    Max. \n",
       "   2000    2012    2015    2014    2017    2019 "
      ]
     },
     "metadata": {},
     "output_type": "display_data"
    },
    {
     "data": {
      "text/plain": [
       "   Length     Class      Mode \n",
       "       73 character character "
      ]
     },
     "metadata": {},
     "output_type": "display_data"
    },
    {
     "data": {
      "image/png": "[encoded data removed]",
      "text/plain": [
       "Plot with title \"Households possessing a bicycle\""
      ]
     },
     "metadata": {
      "image/png": {
       "height": 420,
       "width": 420
      }
     },
     "output_type": "display_data"
    }
   ],
   "source": [
    "df <- dfsimplepost2000\n",
    "hist(df$Year, main=\"Year of surveys\",\n",
    "     xlab=\"Years\",\n",
    "     ylab=\"Frequency\",\n",
    "     col.main=\"red\", col.lab=\"blue\")\n",
    "summary(df$uiws ) # House hold with unimproved water source\n",
    "hist(df$uiws, main=\"Households using an unimproved water source\",\n",
    "     xlab=\"Total Percentage\",\n",
    "     ylab=\"Frequency\",\n",
    "     col.main=\"red\", col.lab=\"blue\")\n",
    "plot(df$uiws , main=\"Households using an unimproved water source\",\n",
    "     xlab=\"Index\",\n",
    "     ylab=\"Total Percentage\",\n",
    "     col.main=\"red\", col.lab=\"blue\")\n",
    "summary(df$bicy) # house hold with possession of bicycle. \n",
    "hist(df$bicy, main=\"Households possessing a bicycle\",\n",
    "     xlab=\"Total Percentage\",\n",
    "     ylab=\"Frequency\",\n",
    "     col.main=\"red\", col.lab=\"blue\")\n",
    "plot(df$bicy, main=\"Households possessing a bicycle\",\n",
    "     xlab=\"Index\",\n",
    "     ylab=\"Total Percentage\",\n",
    "     col.main=\"red\", col.lab=\"blue\")\n",
    "summary(df$Year)\n",
    "summary(df$Country)"
   ]
  },
  {
   "cell_type": "markdown",
   "metadata": {},
   "source": [
    "# additional clean up"
   ]
  },
  {
   "cell_type": "code",
   "execution_count": 303,
   "metadata": {},
   "outputs": [
    {
     "data": {
      "text/html": [
       "<style>\n",
       ".list-inline {list-style: none; margin:0; padding: 0}\n",
       ".list-inline>li {display: inline-block}\n",
       ".list-inline>li:not(:last-child)::after {content: \"\\00b7\"; padding: 0 .5ex}\n",
       "</style>\n",
       "<ol class=list-inline><li>'Congo'</li><li>'Congo Democratic Republic'</li><li>'Egypt'</li><li>'Gambia'</li><li>'Namibia'</li><li>'Yemen'</li></ol>\n"
      ],
      "text/latex": [
       "\\begin{enumerate*}\n",
       "\\item 'Congo'\n",
       "\\item 'Congo Democratic Republic'\n",
       "\\item 'Egypt'\n",
       "\\item 'Gambia'\n",
       "\\item 'Namibia'\n",
       "\\item 'Yemen'\n",
       "\\end{enumerate*}\n"
      ],
      "text/markdown": [
       "1. 'Congo'\n",
       "2. 'Congo Democratic Republic'\n",
       "3. 'Egypt'\n",
       "4. 'Gambia'\n",
       "5. 'Namibia'\n",
       "6. 'Yemen'\n",
       "\n",
       "\n"
      ],
      "text/plain": [
       "[1] \"Congo\"                     \"Congo Democratic Republic\"\n",
       "[3] \"Egypt\"                     \"Gambia\"                   \n",
       "[5] \"Namibia\"                   \"Yemen\"                    "
      ]
     },
     "metadata": {},
     "output_type": "display_data"
    }
   ],
   "source": [
    "setdiff(df$Country, df.wb$Country)"
   ]
  },
  {
   "cell_type": "code",
   "execution_count": 304,
   "metadata": {},
   "outputs": [],
   "source": [
    "# Correct the country names in DF\n",
    "\n",
    "df.wb [df.wb =='namibia'] = \"Namibia\"\n",
    "df.wb [df.wb =='Yemen, Rep.'] = \"Yemen\" \n",
    "df.wb [df.wb =='Gambia, The'] = \"Gambia\"\n",
    "df.wb [df.wb =='Egypt, Arab Rep.'] = \"Egypt\"\n",
    "df.wb [df.wb =='Congo, Dem. Rep.'] = \"Congo Democratic Republic\"\n",
    "df.wb [df.wb =='Congo, Rep.'] = \"Congo\""
   ]
  },
  {
   "cell_type": "code",
   "execution_count": 305,
   "metadata": {},
   "outputs": [
    {
     "data": {
      "text/html": [],
      "text/latex": [],
      "text/markdown": [],
      "text/plain": [
       "character(0)"
      ]
     },
     "metadata": {},
     "output_type": "display_data"
    }
   ],
   "source": [
    "setdiff(df$Country, df.wb$Country) # Double Check"
   ]
  },
  {
   "cell_type": "code",
   "execution_count": 306,
   "metadata": {},
   "outputs": [
    {
     "data": {
      "text/html": [
       "<table class=\"dataframe\">\n",
       "<caption>A data.frame: 6 × 42</caption>\n",
       "<thead>\n",
       "\t<tr><th></th><th scope=col>Country</th><th scope=col>Year.x</th><th scope=col>Survey</th><th scope=col>imws</th><th scope=col>phom</th><th scope=col>pipy</th><th scope=col>ptap</th><th scope=col>bore</th><th scope=col>pwel</th><th scope=col>pspr</th><th scope=col>...</th><th scope=col>Year.y</th><th scope=col>Time Code</th><th scope=col>cgdp</th><th scope=col>tpop</th><th scope=col>upop</th><th scope=col>popd</th><th scope=col>land</th><th scope=col>lita</th><th scope=col>lity</th><th scope=col>mori</th></tr>\n",
       "\t<tr><th></th><th scope=col>&lt;chr&gt;</th><th scope=col>&lt;dbl&gt;</th><th scope=col>&lt;chr&gt;</th><th scope=col>&lt;dbl&gt;</th><th scope=col>&lt;dbl&gt;</th><th scope=col>&lt;dbl&gt;</th><th scope=col>&lt;dbl&gt;</th><th scope=col>&lt;dbl&gt;</th><th scope=col>&lt;dbl&gt;</th><th scope=col>&lt;dbl&gt;</th><th scope=col>...</th><th scope=col>&lt;dbl&gt;</th><th scope=col>&lt;chr&gt;</th><th scope=col>&lt;dbl&gt;</th><th scope=col>&lt;dbl&gt;</th><th scope=col>&lt;dbl&gt;</th><th scope=col>&lt;dbl&gt;</th><th scope=col>&lt;dbl&gt;</th><th scope=col>&lt;dbl&gt;</th><th scope=col>&lt;dbl&gt;</th><th scope=col>&lt;dbl&gt;</th></tr>\n",
       "</thead>\n",
       "<tbody>\n",
       "\t<tr><th scope=row>1</th><td>Afghanistan</td><td>2015</td><td>DHS</td><td>71.2</td><td> 2.3</td><td> 4.8</td><td>14.2</td><td>20.1</td><td>18.5</td><td>4.7</td><td>...</td><td>2018</td><td>YR2018</td><td> 18353881130</td><td> 37172386</td><td>25.495</td><td>  56.93776</td><td> 652860</td><td>43.01972</td><td>0.75933</td><td>62.5</td></tr>\n",
       "\t<tr><th scope=row>2</th><td>Albania    </td><td>2018</td><td>DHS</td><td>98.4</td><td>48.8</td><td> 5.2</td><td> 2.4</td><td> 1.4</td><td> 4.1</td><td>2.5</td><td>...</td><td>2018</td><td>YR2018</td><td> 15147020535</td><td>  2866376</td><td>60.319</td><td> 104.61226</td><td>  27400</td><td>98.14115</td><td>1.00582</td><td> 9.5</td></tr>\n",
       "\t<tr><th scope=row>3</th><td>Angola     </td><td>2016</td><td>DHS</td><td>66.9</td><td> 4.3</td><td> 9.7</td><td>10.3</td><td> 1.9</td><td> 9.1</td><td>3.3</td><td>...</td><td>2018</td><td>YR2018</td><td>101353230785</td><td> 30809762</td><td>65.514</td><td>  24.71305</td><td>1246700</td><td> 0.00000</td><td>0.00000</td><td>77.7</td></tr>\n",
       "\t<tr><th scope=row>4</th><td>Armenia    </td><td>2016</td><td>DHS</td><td>99.9</td><td>88.3</td><td> 8.0</td><td> 0.5</td><td> 0.2</td><td> 0.2</td><td>1.0</td><td>...</td><td>2018</td><td>YR2018</td><td> 12457941907</td><td>  2951776</td><td>63.149</td><td> 103.68022</td><td>  28470</td><td> 0.00000</td><td>0.00000</td><td>12.4</td></tr>\n",
       "\t<tr><th scope=row>5</th><td>Azerbaijan </td><td>2006</td><td>DHS</td><td>90.6</td><td>34.0</td><td>19.7</td><td> 3.5</td><td> 9.3</td><td> 6.2</td><td>7.5</td><td>...</td><td>2018</td><td>YR2018</td><td> 47112941176</td><td>  9939771</td><td>55.680</td><td> 120.23432</td><td>  82670</td><td> 0.00000</td><td>0.00000</td><td>21.6</td></tr>\n",
       "\t<tr><th scope=row>6</th><td>Bangladesh </td><td>2014</td><td>DHS</td><td>97.8</td><td> 4.3</td><td> 3.3</td><td> 2.7</td><td>86.4</td><td> 0.2</td><td>0.0</td><td>...</td><td>2018</td><td>YR2018</td><td>274039092455</td><td>161356039</td><td>36.632</td><td>1239.57931</td><td> 130170</td><td>73.91220</td><td>1.03276</td><td>32.3</td></tr>\n",
       "</tbody>\n",
       "</table>\n"
      ],
      "text/latex": [
       "A data.frame: 6 × 42\n",
       "\\begin{tabular}{r|lllllllllllllllllllll}\n",
       "  & Country & Year.x & Survey & imws & phom & pipy & ptap & bore & pwel & pspr & ... & Year.y & Time Code & cgdp & tpop & upop & popd & land & lita & lity & mori\\\\\n",
       "  & <chr> & <dbl> & <chr> & <dbl> & <dbl> & <dbl> & <dbl> & <dbl> & <dbl> & <dbl> & ... & <dbl> & <chr> & <dbl> & <dbl> & <dbl> & <dbl> & <dbl> & <dbl> & <dbl> & <dbl>\\\\\n",
       "\\hline\n",
       "\t1 & Afghanistan & 2015 & DHS & 71.2 &  2.3 &  4.8 & 14.2 & 20.1 & 18.5 & 4.7 & ... & 2018 & YR2018 &  18353881130 &  37172386 & 25.495 &   56.93776 &  652860 & 43.01972 & 0.75933 & 62.5\\\\\n",
       "\t2 & Albania     & 2018 & DHS & 98.4 & 48.8 &  5.2 &  2.4 &  1.4 &  4.1 & 2.5 & ... & 2018 & YR2018 &  15147020535 &   2866376 & 60.319 &  104.61226 &   27400 & 98.14115 & 1.00582 &  9.5\\\\\n",
       "\t3 & Angola      & 2016 & DHS & 66.9 &  4.3 &  9.7 & 10.3 &  1.9 &  9.1 & 3.3 & ... & 2018 & YR2018 & 101353230785 &  30809762 & 65.514 &   24.71305 & 1246700 &  0.00000 & 0.00000 & 77.7\\\\\n",
       "\t4 & Armenia     & 2016 & DHS & 99.9 & 88.3 &  8.0 &  0.5 &  0.2 &  0.2 & 1.0 & ... & 2018 & YR2018 &  12457941907 &   2951776 & 63.149 &  103.68022 &   28470 &  0.00000 & 0.00000 & 12.4\\\\\n",
       "\t5 & Azerbaijan  & 2006 & DHS & 90.6 & 34.0 & 19.7 &  3.5 &  9.3 &  6.2 & 7.5 & ... & 2018 & YR2018 &  47112941176 &   9939771 & 55.680 &  120.23432 &   82670 &  0.00000 & 0.00000 & 21.6\\\\\n",
       "\t6 & Bangladesh  & 2014 & DHS & 97.8 &  4.3 &  3.3 &  2.7 & 86.4 &  0.2 & 0.0 & ... & 2018 & YR2018 & 274039092455 & 161356039 & 36.632 & 1239.57931 &  130170 & 73.91220 & 1.03276 & 32.3\\\\\n",
       "\\end{tabular}\n"
      ],
      "text/markdown": [
       "\n",
       "A data.frame: 6 × 42\n",
       "\n",
       "| <!--/--> | Country &lt;chr&gt; | Year.x &lt;dbl&gt; | Survey &lt;chr&gt; | imws &lt;dbl&gt; | phom &lt;dbl&gt; | pipy &lt;dbl&gt; | ptap &lt;dbl&gt; | bore &lt;dbl&gt; | pwel &lt;dbl&gt; | pspr &lt;dbl&gt; | ... ... | Year.y &lt;dbl&gt; | Time Code &lt;chr&gt; | cgdp &lt;dbl&gt; | tpop &lt;dbl&gt; | upop &lt;dbl&gt; | popd &lt;dbl&gt; | land &lt;dbl&gt; | lita &lt;dbl&gt; | lity &lt;dbl&gt; | mori &lt;dbl&gt; |\n",
       "|---|---|---|---|---|---|---|---|---|---|---|---|---|---|---|---|---|---|---|---|---|---|\n",
       "| 1 | Afghanistan | 2015 | DHS | 71.2 |  2.3 |  4.8 | 14.2 | 20.1 | 18.5 | 4.7 | ... | 2018 | YR2018 |  18353881130 |  37172386 | 25.495 |   56.93776 |  652860 | 43.01972 | 0.75933 | 62.5 |\n",
       "| 2 | Albania     | 2018 | DHS | 98.4 | 48.8 |  5.2 |  2.4 |  1.4 |  4.1 | 2.5 | ... | 2018 | YR2018 |  15147020535 |   2866376 | 60.319 |  104.61226 |   27400 | 98.14115 | 1.00582 |  9.5 |\n",
       "| 3 | Angola      | 2016 | DHS | 66.9 |  4.3 |  9.7 | 10.3 |  1.9 |  9.1 | 3.3 | ... | 2018 | YR2018 | 101353230785 |  30809762 | 65.514 |   24.71305 | 1246700 |  0.00000 | 0.00000 | 77.7 |\n",
       "| 4 | Armenia     | 2016 | DHS | 99.9 | 88.3 |  8.0 |  0.5 |  0.2 |  0.2 | 1.0 | ... | 2018 | YR2018 |  12457941907 |   2951776 | 63.149 |  103.68022 |   28470 |  0.00000 | 0.00000 | 12.4 |\n",
       "| 5 | Azerbaijan  | 2006 | DHS | 90.6 | 34.0 | 19.7 |  3.5 |  9.3 |  6.2 | 7.5 | ... | 2018 | YR2018 |  47112941176 |   9939771 | 55.680 |  120.23432 |   82670 |  0.00000 | 0.00000 | 21.6 |\n",
       "| 6 | Bangladesh  | 2014 | DHS | 97.8 |  4.3 |  3.3 |  2.7 | 86.4 |  0.2 | 0.0 | ... | 2018 | YR2018 | 274039092455 | 161356039 | 36.632 | 1239.57931 |  130170 | 73.91220 | 1.03276 | 32.3 |\n",
       "\n"
      ],
      "text/plain": [
       "  Country     Year.x Survey imws phom pipy ptap bore pwel pspr ... Year.y\n",
       "1 Afghanistan 2015   DHS    71.2  2.3  4.8 14.2 20.1 18.5 4.7  ... 2018  \n",
       "2 Albania     2018   DHS    98.4 48.8  5.2  2.4  1.4  4.1 2.5  ... 2018  \n",
       "3 Angola      2016   DHS    66.9  4.3  9.7 10.3  1.9  9.1 3.3  ... 2018  \n",
       "4 Armenia     2016   DHS    99.9 88.3  8.0  0.5  0.2  0.2 1.0  ... 2018  \n",
       "5 Azerbaijan  2006   DHS    90.6 34.0 19.7  3.5  9.3  6.2 7.5  ... 2018  \n",
       "6 Bangladesh  2014   DHS    97.8  4.3  3.3  2.7 86.4  0.2 0.0  ... 2018  \n",
       "  Time Code cgdp         tpop      upop   popd       land    lita     lity   \n",
       "1 YR2018     18353881130  37172386 25.495   56.93776  652860 43.01972 0.75933\n",
       "2 YR2018     15147020535   2866376 60.319  104.61226   27400 98.14115 1.00582\n",
       "3 YR2018    101353230785  30809762 65.514   24.71305 1246700  0.00000 0.00000\n",
       "4 YR2018     12457941907   2951776 63.149  103.68022   28470  0.00000 0.00000\n",
       "5 YR2018     47112941176   9939771 55.680  120.23432   82670  0.00000 0.00000\n",
       "6 YR2018    274039092455 161356039 36.632 1239.57931  130170 73.91220 1.03276\n",
       "  mori\n",
       "1 62.5\n",
       "2  9.5\n",
       "3 77.7\n",
       "4 12.4\n",
       "5 21.6\n",
       "6 32.3"
      ]
     },
     "metadata": {},
     "output_type": "display_data"
    },
    {
     "data": {
      "text/html": [
       "<table class=\"dataframe\">\n",
       "<caption>A data.frame: 7 × 11</caption>\n",
       "<thead>\n",
       "\t<tr><th></th><th scope=col>Country</th><th scope=col>Year.y</th><th scope=col>Time Code</th><th scope=col>cgdp</th><th scope=col>tpop</th><th scope=col>upop</th><th scope=col>popd</th><th scope=col>land</th><th scope=col>lita</th><th scope=col>lity</th><th scope=col>mori</th></tr>\n",
       "\t<tr><th></th><th scope=col>&lt;chr&gt;</th><th scope=col>&lt;dbl&gt;</th><th scope=col>&lt;chr&gt;</th><th scope=col>&lt;dbl&gt;</th><th scope=col>&lt;dbl&gt;</th><th scope=col>&lt;dbl&gt;</th><th scope=col>&lt;dbl&gt;</th><th scope=col>&lt;dbl&gt;</th><th scope=col>&lt;dbl&gt;</th><th scope=col>&lt;dbl&gt;</th><th scope=col>&lt;dbl&gt;</th></tr>\n",
       "</thead>\n",
       "<tbody>\n",
       "\t<tr><th scope=row>1</th><td>Afghanistan</td><td>2018</td><td>YR2018</td><td> 18353881130</td><td> 37172386</td><td>25.495</td><td>  56.93776</td><td> 652860</td><td>43.01972</td><td>0.75933</td><td>62.5</td></tr>\n",
       "\t<tr><th scope=row>2</th><td>Albania    </td><td>2018</td><td>YR2018</td><td> 15147020535</td><td>  2866376</td><td>60.319</td><td> 104.61226</td><td>  27400</td><td>98.14115</td><td>1.00582</td><td> 9.5</td></tr>\n",
       "\t<tr><th scope=row>3</th><td>Angola     </td><td>2018</td><td>YR2018</td><td>101353230785</td><td> 30809762</td><td>65.514</td><td>  24.71305</td><td>1246700</td><td> 0.00000</td><td>0.00000</td><td>77.7</td></tr>\n",
       "\t<tr><th scope=row>4</th><td>Armenia    </td><td>2018</td><td>YR2018</td><td> 12457941907</td><td>  2951776</td><td>63.149</td><td> 103.68022</td><td>  28470</td><td> 0.00000</td><td>0.00000</td><td>12.4</td></tr>\n",
       "\t<tr><th scope=row>5</th><td>Azerbaijan </td><td>2018</td><td>YR2018</td><td> 47112941176</td><td>  9939771</td><td>55.680</td><td> 120.23432</td><td>  82670</td><td> 0.00000</td><td>0.00000</td><td>21.6</td></tr>\n",
       "\t<tr><th scope=row>6</th><td>Bangladesh </td><td>2018</td><td>YR2018</td><td>274039092455</td><td>161356039</td><td>36.632</td><td>1239.57931</td><td> 130170</td><td>73.91220</td><td>1.03276</td><td>32.3</td></tr>\n",
       "\t<tr><th scope=row>7</th><td>Benin      </td><td>2018</td><td>YR2018</td><td> 14250985959</td><td> 11485048</td><td>47.312</td><td> 101.85392</td><td> 112760</td><td>42.36240</td><td>0.74459</td><td>92.8</td></tr>\n",
       "</tbody>\n",
       "</table>\n"
      ],
      "text/latex": [
       "A data.frame: 7 × 11\n",
       "\\begin{tabular}{r|lllllllllll}\n",
       "  & Country & Year.y & Time Code & cgdp & tpop & upop & popd & land & lita & lity & mori\\\\\n",
       "  & <chr> & <dbl> & <chr> & <dbl> & <dbl> & <dbl> & <dbl> & <dbl> & <dbl> & <dbl> & <dbl>\\\\\n",
       "\\hline\n",
       "\t1 & Afghanistan & 2018 & YR2018 &  18353881130 &  37172386 & 25.495 &   56.93776 &  652860 & 43.01972 & 0.75933 & 62.5\\\\\n",
       "\t2 & Albania     & 2018 & YR2018 &  15147020535 &   2866376 & 60.319 &  104.61226 &   27400 & 98.14115 & 1.00582 &  9.5\\\\\n",
       "\t3 & Angola      & 2018 & YR2018 & 101353230785 &  30809762 & 65.514 &   24.71305 & 1246700 &  0.00000 & 0.00000 & 77.7\\\\\n",
       "\t4 & Armenia     & 2018 & YR2018 &  12457941907 &   2951776 & 63.149 &  103.68022 &   28470 &  0.00000 & 0.00000 & 12.4\\\\\n",
       "\t5 & Azerbaijan  & 2018 & YR2018 &  47112941176 &   9939771 & 55.680 &  120.23432 &   82670 &  0.00000 & 0.00000 & 21.6\\\\\n",
       "\t6 & Bangladesh  & 2018 & YR2018 & 274039092455 & 161356039 & 36.632 & 1239.57931 &  130170 & 73.91220 & 1.03276 & 32.3\\\\\n",
       "\t7 & Benin       & 2018 & YR2018 &  14250985959 &  11485048 & 47.312 &  101.85392 &  112760 & 42.36240 & 0.74459 & 92.8\\\\\n",
       "\\end{tabular}\n"
      ],
      "text/markdown": [
       "\n",
       "A data.frame: 7 × 11\n",
       "\n",
       "| <!--/--> | Country &lt;chr&gt; | Year.y &lt;dbl&gt; | Time Code &lt;chr&gt; | cgdp &lt;dbl&gt; | tpop &lt;dbl&gt; | upop &lt;dbl&gt; | popd &lt;dbl&gt; | land &lt;dbl&gt; | lita &lt;dbl&gt; | lity &lt;dbl&gt; | mori &lt;dbl&gt; |\n",
       "|---|---|---|---|---|---|---|---|---|---|---|---|\n",
       "| 1 | Afghanistan | 2018 | YR2018 |  18353881130 |  37172386 | 25.495 |   56.93776 |  652860 | 43.01972 | 0.75933 | 62.5 |\n",
       "| 2 | Albania     | 2018 | YR2018 |  15147020535 |   2866376 | 60.319 |  104.61226 |   27400 | 98.14115 | 1.00582 |  9.5 |\n",
       "| 3 | Angola      | 2018 | YR2018 | 101353230785 |  30809762 | 65.514 |   24.71305 | 1246700 |  0.00000 | 0.00000 | 77.7 |\n",
       "| 4 | Armenia     | 2018 | YR2018 |  12457941907 |   2951776 | 63.149 |  103.68022 |   28470 |  0.00000 | 0.00000 | 12.4 |\n",
       "| 5 | Azerbaijan  | 2018 | YR2018 |  47112941176 |   9939771 | 55.680 |  120.23432 |   82670 |  0.00000 | 0.00000 | 21.6 |\n",
       "| 6 | Bangladesh  | 2018 | YR2018 | 274039092455 | 161356039 | 36.632 | 1239.57931 |  130170 | 73.91220 | 1.03276 | 32.3 |\n",
       "| 7 | Benin       | 2018 | YR2018 |  14250985959 |  11485048 | 47.312 |  101.85392 |  112760 | 42.36240 | 0.74459 | 92.8 |\n",
       "\n"
      ],
      "text/plain": [
       "  Country     Year.y Time Code cgdp         tpop      upop   popd       land   \n",
       "1 Afghanistan 2018   YR2018     18353881130  37172386 25.495   56.93776  652860\n",
       "2 Albania     2018   YR2018     15147020535   2866376 60.319  104.61226   27400\n",
       "3 Angola      2018   YR2018    101353230785  30809762 65.514   24.71305 1246700\n",
       "4 Armenia     2018   YR2018     12457941907   2951776 63.149  103.68022   28470\n",
       "5 Azerbaijan  2018   YR2018     47112941176   9939771 55.680  120.23432   82670\n",
       "6 Bangladesh  2018   YR2018    274039092455 161356039 36.632 1239.57931  130170\n",
       "7 Benin       2018   YR2018     14250985959  11485048 47.312  101.85392  112760\n",
       "  lita     lity    mori\n",
       "1 43.01972 0.75933 62.5\n",
       "2 98.14115 1.00582  9.5\n",
       "3  0.00000 0.00000 77.7\n",
       "4  0.00000 0.00000 12.4\n",
       "5  0.00000 0.00000 21.6\n",
       "6 73.91220 1.03276 32.3\n",
       "7 42.36240 0.74459 92.8"
      ]
     },
     "metadata": {},
     "output_type": "display_data"
    }
   ],
   "source": [
    "df.wb <- merge(x = df,\n",
    "              y = df.wb,\n",
    "              by = c(\"Country\"))\n",
    "\n",
    "head(df.wb)\n",
    "df.exp <- df.wb[, c(1,33:42 ) ]\n",
    "head(df.exp,7)\n",
    "#df.exp$Country\n",
    "#summary(df.exp)"
   ]
  },
  {
   "cell_type": "code",
   "execution_count": 307,
   "metadata": {},
   "outputs": [
    {
     "data": {
      "text/html": [
       "<style>\n",
       ".list-inline {list-style: none; margin:0; padding: 0}\n",
       ".list-inline>li {display: inline-block}\n",
       ".list-inline>li:not(:last-child)::after {content: \"\\00b7\"; padding: 0 .5ex}\n",
       "</style>\n",
       "<ol class=list-inline><li>'Congo'</li><li>'Congo Democratic Republic'</li><li>'Egypt'</li><li>'Gambia'</li><li>'Yemen'</li></ol>\n"
      ],
      "text/latex": [
       "\\begin{enumerate*}\n",
       "\\item 'Congo'\n",
       "\\item 'Congo Democratic Republic'\n",
       "\\item 'Egypt'\n",
       "\\item 'Gambia'\n",
       "\\item 'Yemen'\n",
       "\\end{enumerate*}\n"
      ],
      "text/markdown": [
       "1. 'Congo'\n",
       "2. 'Congo Democratic Republic'\n",
       "3. 'Egypt'\n",
       "4. 'Gambia'\n",
       "5. 'Yemen'\n",
       "\n",
       "\n"
      ],
      "text/plain": [
       "[1] \"Congo\"                     \"Congo Democratic Republic\"\n",
       "[3] \"Egypt\"                     \"Gambia\"                   \n",
       "[5] \"Yemen\"                    "
      ]
     },
     "metadata": {},
     "output_type": "display_data"
    }
   ],
   "source": [
    "setdiff(df$Country, df.rain$Country)"
   ]
  },
  {
   "cell_type": "code",
   "execution_count": 308,
   "metadata": {},
   "outputs": [],
   "source": [
    "# Correct the country names in DF\n",
    "\n",
    "df.rain [df.rain =='namibia'] = \"Namibia\"\n",
    "df.rain [df.rain =='Yemen, Rep.'] = \"Yemen\" \n",
    "df.rain [df.rain =='Gambia, The'] = \"Gambia\"\n",
    "df.rain [df.rain =='Egypt, Arab Rep.'] = \"Egypt\"\n",
    "df.rain [df.rain =='Congo, Dem. Rep.'] = \"Congo Democratic Republic\"\n",
    "df.rain [df.rain =='Congo, Rep.'] = \"Congo\""
   ]
  },
  {
   "cell_type": "code",
   "execution_count": 309,
   "metadata": {},
   "outputs": [
    {
     "data": {
      "text/html": [],
      "text/latex": [],
      "text/markdown": [],
      "text/plain": [
       "character(0)"
      ]
     },
     "metadata": {},
     "output_type": "display_data"
    }
   ],
   "source": [
    "setdiff(df$Country, df.rain$Country) # Double Check"
   ]
  },
  {
   "cell_type": "code",
   "execution_count": 310,
   "metadata": {},
   "outputs": [],
   "source": [
    "df.exp <- merge(x = df.exp,\n",
    "              y = df.rain,\n",
    "              by = c(\"Country\"))\n"
   ]
  },
  {
   "cell_type": "code",
   "execution_count": 311,
   "metadata": {},
   "outputs": [
    {
     "data": {
      "text/html": [
       "<table class=\"dataframe\">\n",
       "<caption>A data.frame: 6 × 12</caption>\n",
       "<thead>\n",
       "\t<tr><th></th><th scope=col>Country</th><th scope=col>Year.y</th><th scope=col>Time Code</th><th scope=col>cgdp</th><th scope=col>tpop</th><th scope=col>upop</th><th scope=col>popd</th><th scope=col>land</th><th scope=col>lita</th><th scope=col>lity</th><th scope=col>mori</th><th scope=col>prec</th></tr>\n",
       "\t<tr><th></th><th scope=col>&lt;chr&gt;</th><th scope=col>&lt;dbl&gt;</th><th scope=col>&lt;chr&gt;</th><th scope=col>&lt;dbl&gt;</th><th scope=col>&lt;dbl&gt;</th><th scope=col>&lt;dbl&gt;</th><th scope=col>&lt;dbl&gt;</th><th scope=col>&lt;dbl&gt;</th><th scope=col>&lt;dbl&gt;</th><th scope=col>&lt;dbl&gt;</th><th scope=col>&lt;dbl&gt;</th><th scope=col>&lt;dbl&gt;</th></tr>\n",
       "</thead>\n",
       "<tbody>\n",
       "\t<tr><th scope=row>1</th><td>Afghanistan</td><td>2018</td><td>YR2018</td><td> 18353881130</td><td> 37172386</td><td>25.495</td><td>  56.93776</td><td> 652860</td><td>43.01972</td><td>0.75933</td><td>62.5</td><td> 327</td></tr>\n",
       "\t<tr><th scope=row>2</th><td>Albania    </td><td>2018</td><td>YR2018</td><td> 15147020535</td><td>  2866376</td><td>60.319</td><td> 104.61226</td><td>  27400</td><td>98.14115</td><td>1.00582</td><td> 9.5</td><td>1485</td></tr>\n",
       "\t<tr><th scope=row>3</th><td>Angola     </td><td>2018</td><td>YR2018</td><td>101353230785</td><td> 30809762</td><td>65.514</td><td>  24.71305</td><td>1246700</td><td> 0.00000</td><td>0.00000</td><td>77.7</td><td>1010</td></tr>\n",
       "\t<tr><th scope=row>4</th><td>Armenia    </td><td>2018</td><td>YR2018</td><td> 12457941907</td><td>  2951776</td><td>63.149</td><td> 103.68022</td><td>  28470</td><td> 0.00000</td><td>0.00000</td><td>12.4</td><td> 562</td></tr>\n",
       "\t<tr><th scope=row>5</th><td>Azerbaijan </td><td>2018</td><td>YR2018</td><td> 47112941176</td><td>  9939771</td><td>55.680</td><td> 120.23432</td><td>  82670</td><td> 0.00000</td><td>0.00000</td><td>21.6</td><td> 447</td></tr>\n",
       "\t<tr><th scope=row>6</th><td>Bangladesh </td><td>2018</td><td>YR2018</td><td>274039092455</td><td>161356039</td><td>36.632</td><td>1239.57931</td><td> 130170</td><td>73.91220</td><td>1.03276</td><td>32.3</td><td>2666</td></tr>\n",
       "</tbody>\n",
       "</table>\n"
      ],
      "text/latex": [
       "A data.frame: 6 × 12\n",
       "\\begin{tabular}{r|llllllllllll}\n",
       "  & Country & Year.y & Time Code & cgdp & tpop & upop & popd & land & lita & lity & mori & prec\\\\\n",
       "  & <chr> & <dbl> & <chr> & <dbl> & <dbl> & <dbl> & <dbl> & <dbl> & <dbl> & <dbl> & <dbl> & <dbl>\\\\\n",
       "\\hline\n",
       "\t1 & Afghanistan & 2018 & YR2018 &  18353881130 &  37172386 & 25.495 &   56.93776 &  652860 & 43.01972 & 0.75933 & 62.5 &  327\\\\\n",
       "\t2 & Albania     & 2018 & YR2018 &  15147020535 &   2866376 & 60.319 &  104.61226 &   27400 & 98.14115 & 1.00582 &  9.5 & 1485\\\\\n",
       "\t3 & Angola      & 2018 & YR2018 & 101353230785 &  30809762 & 65.514 &   24.71305 & 1246700 &  0.00000 & 0.00000 & 77.7 & 1010\\\\\n",
       "\t4 & Armenia     & 2018 & YR2018 &  12457941907 &   2951776 & 63.149 &  103.68022 &   28470 &  0.00000 & 0.00000 & 12.4 &  562\\\\\n",
       "\t5 & Azerbaijan  & 2018 & YR2018 &  47112941176 &   9939771 & 55.680 &  120.23432 &   82670 &  0.00000 & 0.00000 & 21.6 &  447\\\\\n",
       "\t6 & Bangladesh  & 2018 & YR2018 & 274039092455 & 161356039 & 36.632 & 1239.57931 &  130170 & 73.91220 & 1.03276 & 32.3 & 2666\\\\\n",
       "\\end{tabular}\n"
      ],
      "text/markdown": [
       "\n",
       "A data.frame: 6 × 12\n",
       "\n",
       "| <!--/--> | Country &lt;chr&gt; | Year.y &lt;dbl&gt; | Time Code &lt;chr&gt; | cgdp &lt;dbl&gt; | tpop &lt;dbl&gt; | upop &lt;dbl&gt; | popd &lt;dbl&gt; | land &lt;dbl&gt; | lita &lt;dbl&gt; | lity &lt;dbl&gt; | mori &lt;dbl&gt; | prec &lt;dbl&gt; |\n",
       "|---|---|---|---|---|---|---|---|---|---|---|---|---|\n",
       "| 1 | Afghanistan | 2018 | YR2018 |  18353881130 |  37172386 | 25.495 |   56.93776 |  652860 | 43.01972 | 0.75933 | 62.5 |  327 |\n",
       "| 2 | Albania     | 2018 | YR2018 |  15147020535 |   2866376 | 60.319 |  104.61226 |   27400 | 98.14115 | 1.00582 |  9.5 | 1485 |\n",
       "| 3 | Angola      | 2018 | YR2018 | 101353230785 |  30809762 | 65.514 |   24.71305 | 1246700 |  0.00000 | 0.00000 | 77.7 | 1010 |\n",
       "| 4 | Armenia     | 2018 | YR2018 |  12457941907 |   2951776 | 63.149 |  103.68022 |   28470 |  0.00000 | 0.00000 | 12.4 |  562 |\n",
       "| 5 | Azerbaijan  | 2018 | YR2018 |  47112941176 |   9939771 | 55.680 |  120.23432 |   82670 |  0.00000 | 0.00000 | 21.6 |  447 |\n",
       "| 6 | Bangladesh  | 2018 | YR2018 | 274039092455 | 161356039 | 36.632 | 1239.57931 |  130170 | 73.91220 | 1.03276 | 32.3 | 2666 |\n",
       "\n"
      ],
      "text/plain": [
       "  Country     Year.y Time Code cgdp         tpop      upop   popd       land   \n",
       "1 Afghanistan 2018   YR2018     18353881130  37172386 25.495   56.93776  652860\n",
       "2 Albania     2018   YR2018     15147020535   2866376 60.319  104.61226   27400\n",
       "3 Angola      2018   YR2018    101353230785  30809762 65.514   24.71305 1246700\n",
       "4 Armenia     2018   YR2018     12457941907   2951776 63.149  103.68022   28470\n",
       "5 Azerbaijan  2018   YR2018     47112941176   9939771 55.680  120.23432   82670\n",
       "6 Bangladesh  2018   YR2018    274039092455 161356039 36.632 1239.57931  130170\n",
       "  lita     lity    mori prec\n",
       "1 43.01972 0.75933 62.5  327\n",
       "2 98.14115 1.00582  9.5 1485\n",
       "3  0.00000 0.00000 77.7 1010\n",
       "4  0.00000 0.00000 12.4  562\n",
       "5  0.00000 0.00000 21.6  447\n",
       "6 73.91220 1.03276 32.3 2666"
      ]
     },
     "metadata": {},
     "output_type": "display_data"
    }
   ],
   "source": [
    "df.exp <- df.exp[,c(1:11,13)] #Precitpation in mm and is from 2014 survey\n",
    "head(df.exp)"
   ]
  },
  {
   "cell_type": "code",
   "execution_count": 312,
   "metadata": {},
   "outputs": [
    {
     "data": {
      "text/plain": [
       "   Country              Year.y      Time Code              cgdp          \n",
       " Length:73          Min.   :2018   Length:73          Min.   :0.000e+00  \n",
       " Class :character   1st Qu.:2018   Class :character   1st Qu.:1.091e+10  \n",
       " Mode  :character   Median :2018   Mode  :character   Median :2.349e+10  \n",
       "                    Mean   :2018                      Mean   :1.237e+11  \n",
       "                    3rd Qu.:2018                      3rd Qu.:7.617e+10  \n",
       "                    Max.   :2018                      Max.   :2.713e+12  \n",
       "      tpop                upop            popd              land        \n",
       " Min.   :0.000e+00   Min.   : 0.00   Min.   :   0.00   Min.   :    300  \n",
       " 1st Qu.:6.323e+06   1st Qu.:29.36   1st Qu.:  37.51   1st Qu.:  94280  \n",
       " Median :1.585e+07   Median :42.63   Median :  82.24   Median : 273600  \n",
       " Mean   :5.239e+07   Mean   :44.43   Mean   : 152.64   Mean   : 496093  \n",
       " 3rd Qu.:3.717e+07   3rd Qu.:56.37   3rd Qu.: 147.75   3rd Qu.: 770880  \n",
       " Max.   :1.353e+09   Max.   :90.98   Max.   :1718.99   Max.   :2973190  \n",
       "      lita            lity             mori             prec     \n",
       " Min.   : 0.00   Min.   :0.0000   Min.   :  8.20   Min.   :  51  \n",
       " 1st Qu.: 0.00   1st Qu.:0.0000   1st Qu.: 27.00   1st Qu.: 565  \n",
       " Median : 0.00   Median :0.0000   Median : 45.60   Median :1146  \n",
       " Mean   :35.52   Mean   :0.4575   Mean   : 48.86   Mean   :1219  \n",
       " 3rd Qu.:76.53   3rd Qu.:0.9940   3rd Qu.: 65.10   3rd Qu.:1651  \n",
       " Max.   :99.59   Max.   :1.0472   Max.   :120.00   Max.   :3240  "
      ]
     },
     "metadata": {},
     "output_type": "display_data"
    }
   ],
   "source": [
    "summary(df.exp)\n",
    "write_xlsx(df.exp, '../../results/df-wb.xlsx')"
   ]
  },
  {
   "cell_type": "code",
   "execution_count": null,
   "metadata": {},
   "outputs": [],
   "source": []
  }
 ],
 "metadata": {
  "kernelspec": {
   "display_name": "R",
   "language": "R",
   "name": "ir"
  },
  "language_info": {
   "codemirror_mode": "r",
   "file_extension": ".r",
   "mimetype": "text/x-r-source",
   "name": "R",
   "pygments_lexer": "r",
   "version": "4.0.2"
  }
 },
 "nbformat": 4,
 "nbformat_minor": 4
}
