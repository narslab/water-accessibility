{
 "cells": [
  {
   "cell_type": "markdown",
   "metadata": {},
   "source": [
    "preprocessing"
   ]
  },
  {
   "cell_type": "code",
   "execution_count": 1,
   "metadata": {},
   "outputs": [],
   "source": [
    "library(readxl)"
   ]
  },
  {
   "cell_type": "code",
   "execution_count": 2,
   "metadata": {},
   "outputs": [
    {
     "data": {
      "text/html": [
       "<table>\n",
       "<caption>A tibble: 6 × 76</caption>\n",
       "<thead>\n",
       "\t<tr><th scope=col>Country</th><th scope=col>Year</th><th scope=col>Survey</th><th scope=col>imws</th><th scope=col>phom</th><th scope=col>pipy</th><th scope=col>ptap</th><th scope=col>H_PN</th><th scope=col>H_POP</th><th scope=col>bore</th><th scope=col>...</th><th scope=col>acar</th><th scope=col>mcyc</th><th scope=col>pcar</th><th scope=col>boat</th><th scope=col>P_LWQ</th><th scope=col>P_SWQ</th><th scope=col>P_MWQ</th><th scope=col>P_FWQ</th><th scope=col>P_HWQ</th><th scope=col>wigc</th></tr>\n",
       "\t<tr><th scope=col>&lt;chr&gt;</th><th scope=col>&lt;chr&gt;</th><th scope=col>&lt;chr&gt;</th><th scope=col>&lt;dbl&gt;</th><th scope=col>&lt;dbl&gt;</th><th scope=col>&lt;dbl&gt;</th><th scope=col>&lt;dbl&gt;</th><th scope=col>&lt;dbl&gt;</th><th scope=col>&lt;dbl&gt;</th><th scope=col>&lt;dbl&gt;</th><th scope=col>...</th><th scope=col>&lt;dbl&gt;</th><th scope=col>&lt;dbl&gt;</th><th scope=col>&lt;dbl&gt;</th><th scope=col>&lt;dbl&gt;</th><th scope=col>&lt;dbl&gt;</th><th scope=col>&lt;dbl&gt;</th><th scope=col>&lt;dbl&gt;</th><th scope=col>&lt;dbl&gt;</th><th scope=col>&lt;dbl&gt;</th><th scope=col>&lt;dbl&gt;</th></tr>\n",
       "</thead>\n",
       "<tbody>\n",
       "\t<tr><td>Afghanistan</td><td>2015   </td><td>DHS</td><td>71.2</td><td> 2.3</td><td> 4.8</td><td>14.2</td><td>  NA</td><td>NA</td><td>20.1</td><td>...</td><td>5.8</td><td>35.2</td><td>11.8</td><td> NA</td><td>20</td><td>20.0</td><td>20.0</td><td>20</td><td>20.0</td><td>0.1</td></tr>\n",
       "\t<tr><td>Albania    </td><td>2017-18</td><td>DHS</td><td>98.4</td><td>48.8</td><td> 5.2</td><td> 2.4</td><td>  NA</td><td>NA</td><td> 1.4</td><td>...</td><td>3.2</td><td> 9.6</td><td>37.0</td><td>0.7</td><td>20</td><td>20.0</td><td>20.0</td><td>20</td><td>20.0</td><td>0.1</td></tr>\n",
       "\t<tr><td>Albania    </td><td>2008-09</td><td>DHS</td><td>96.8</td><td>52.1</td><td> 9.7</td><td> 2.7</td><td>  NA</td><td>NA</td><td> 4.4</td><td>...</td><td>5.0</td><td>10.0</td><td>29.1</td><td>0.6</td><td>20</td><td>20.0</td><td>20.0</td><td>20</td><td>20.0</td><td> NA</td></tr>\n",
       "\t<tr><td>Angola     </td><td>2015-16</td><td>DHS</td><td>66.9</td><td> 4.3</td><td> 9.7</td><td>10.3</td><td>11.4</td><td>NA</td><td> 1.9</td><td>...</td><td>1.3</td><td>17.8</td><td>10.9</td><td>0.4</td><td>20</td><td>20.0</td><td>20.0</td><td>20</td><td>20.0</td><td>0.3</td></tr>\n",
       "\t<tr><td>Angola     </td><td>2011   </td><td>MIS</td><td>58.9</td><td> 5.7</td><td> 7.0</td><td>17.0</td><td>  NA</td><td>NA</td><td> 3.2</td><td>...</td><td> NA</td><td>14.6</td><td>12.2</td><td>1.0</td><td>20</td><td>20.0</td><td>20.0</td><td>20</td><td>20.0</td><td> NA</td></tr>\n",
       "\t<tr><td>Angola     </td><td>2006-07</td><td>MIS</td><td>65.6</td><td> 5.5</td><td>10.7</td><td> 9.6</td><td>  NA</td><td>NA</td><td> 1.1</td><td>...</td><td>1.4</td><td> 9.2</td><td>14.0</td><td> NA</td><td>20</td><td>20.1</td><td>19.9</td><td>20</td><td>20.1</td><td> NA</td></tr>\n",
       "</tbody>\n",
       "</table>\n"
      ],
      "text/latex": [
       "A tibble: 6 × 76\n",
       "\\begin{tabular}{lllllllllllllllllllll}\n",
       " Country & Year & Survey & imws & phom & pipy & ptap & H\\_PN & H\\_POP & bore & ... & acar & mcyc & pcar & boat & P\\_LWQ & P\\_SWQ & P\\_MWQ & P\\_FWQ & P\\_HWQ & wigc\\\\\n",
       " <chr> & <chr> & <chr> & <dbl> & <dbl> & <dbl> & <dbl> & <dbl> & <dbl> & <dbl> & ... & <dbl> & <dbl> & <dbl> & <dbl> & <dbl> & <dbl> & <dbl> & <dbl> & <dbl> & <dbl>\\\\\n",
       "\\hline\n",
       "\t Afghanistan & 2015    & DHS & 71.2 &  2.3 &  4.8 & 14.2 &   NA & NA & 20.1 & ... & 5.8 & 35.2 & 11.8 &  NA & 20 & 20.0 & 20.0 & 20 & 20.0 & 0.1\\\\\n",
       "\t Albania     & 2017-18 & DHS & 98.4 & 48.8 &  5.2 &  2.4 &   NA & NA &  1.4 & ... & 3.2 &  9.6 & 37.0 & 0.7 & 20 & 20.0 & 20.0 & 20 & 20.0 & 0.1\\\\\n",
       "\t Albania     & 2008-09 & DHS & 96.8 & 52.1 &  9.7 &  2.7 &   NA & NA &  4.4 & ... & 5.0 & 10.0 & 29.1 & 0.6 & 20 & 20.0 & 20.0 & 20 & 20.0 &  NA\\\\\n",
       "\t Angola      & 2015-16 & DHS & 66.9 &  4.3 &  9.7 & 10.3 & 11.4 & NA &  1.9 & ... & 1.3 & 17.8 & 10.9 & 0.4 & 20 & 20.0 & 20.0 & 20 & 20.0 & 0.3\\\\\n",
       "\t Angola      & 2011    & MIS & 58.9 &  5.7 &  7.0 & 17.0 &   NA & NA &  3.2 & ... &  NA & 14.6 & 12.2 & 1.0 & 20 & 20.0 & 20.0 & 20 & 20.0 &  NA\\\\\n",
       "\t Angola      & 2006-07 & MIS & 65.6 &  5.5 & 10.7 &  9.6 &   NA & NA &  1.1 & ... & 1.4 &  9.2 & 14.0 &  NA & 20 & 20.1 & 19.9 & 20 & 20.1 &  NA\\\\\n",
       "\\end{tabular}\n"
      ],
      "text/markdown": [
       "\n",
       "A tibble: 6 × 76\n",
       "\n",
       "| Country &lt;chr&gt; | Year &lt;chr&gt; | Survey &lt;chr&gt; | imws &lt;dbl&gt; | phom &lt;dbl&gt; | pipy &lt;dbl&gt; | ptap &lt;dbl&gt; | H_PN &lt;dbl&gt; | H_POP &lt;dbl&gt; | bore &lt;dbl&gt; | ... ... | acar &lt;dbl&gt; | mcyc &lt;dbl&gt; | pcar &lt;dbl&gt; | boat &lt;dbl&gt; | P_LWQ &lt;dbl&gt; | P_SWQ &lt;dbl&gt; | P_MWQ &lt;dbl&gt; | P_FWQ &lt;dbl&gt; | P_HWQ &lt;dbl&gt; | wigc &lt;dbl&gt; |\n",
       "|---|---|---|---|---|---|---|---|---|---|---|---|---|---|---|---|---|---|---|---|---|\n",
       "| Afghanistan | 2015    | DHS | 71.2 |  2.3 |  4.8 | 14.2 |   NA | NA | 20.1 | ... | 5.8 | 35.2 | 11.8 |  NA | 20 | 20.0 | 20.0 | 20 | 20.0 | 0.1 |\n",
       "| Albania     | 2017-18 | DHS | 98.4 | 48.8 |  5.2 |  2.4 |   NA | NA |  1.4 | ... | 3.2 |  9.6 | 37.0 | 0.7 | 20 | 20.0 | 20.0 | 20 | 20.0 | 0.1 |\n",
       "| Albania     | 2008-09 | DHS | 96.8 | 52.1 |  9.7 |  2.7 |   NA | NA |  4.4 | ... | 5.0 | 10.0 | 29.1 | 0.6 | 20 | 20.0 | 20.0 | 20 | 20.0 |  NA |\n",
       "| Angola      | 2015-16 | DHS | 66.9 |  4.3 |  9.7 | 10.3 | 11.4 | NA |  1.9 | ... | 1.3 | 17.8 | 10.9 | 0.4 | 20 | 20.0 | 20.0 | 20 | 20.0 | 0.3 |\n",
       "| Angola      | 2011    | MIS | 58.9 |  5.7 |  7.0 | 17.0 |   NA | NA |  3.2 | ... |  NA | 14.6 | 12.2 | 1.0 | 20 | 20.0 | 20.0 | 20 | 20.0 |  NA |\n",
       "| Angola      | 2006-07 | MIS | 65.6 |  5.5 | 10.7 |  9.6 |   NA | NA |  1.1 | ... | 1.4 |  9.2 | 14.0 |  NA | 20 | 20.1 | 19.9 | 20 | 20.1 |  NA |\n",
       "\n"
      ],
      "text/plain": [
       "  Country     Year    Survey imws phom pipy ptap H_PN H_POP bore ... acar mcyc\n",
       "1 Afghanistan 2015    DHS    71.2  2.3  4.8 14.2   NA NA    20.1 ... 5.8  35.2\n",
       "2 Albania     2017-18 DHS    98.4 48.8  5.2  2.4   NA NA     1.4 ... 3.2   9.6\n",
       "3 Albania     2008-09 DHS    96.8 52.1  9.7  2.7   NA NA     4.4 ... 5.0  10.0\n",
       "4 Angola      2015-16 DHS    66.9  4.3  9.7 10.3 11.4 NA     1.9 ... 1.3  17.8\n",
       "5 Angola      2011    MIS    58.9  5.7  7.0 17.0   NA NA     3.2 ...  NA  14.6\n",
       "6 Angola      2006-07 MIS    65.6  5.5 10.7  9.6   NA NA     1.1 ... 1.4   9.2\n",
       "  pcar boat P_LWQ P_SWQ P_MWQ P_FWQ P_HWQ wigc\n",
       "1 11.8  NA  20    20.0  20.0  20    20.0  0.1 \n",
       "2 37.0 0.7  20    20.0  20.0  20    20.0  0.1 \n",
       "3 29.1 0.6  20    20.0  20.0  20    20.0   NA \n",
       "4 10.9 0.4  20    20.0  20.0  20    20.0  0.3 \n",
       "5 12.2 1.0  20    20.0  20.0  20    20.0   NA \n",
       "6 14.0  NA  20    20.1  19.9  20    20.1   NA "
      ]
     },
     "metadata": {},
     "output_type": "display_data"
    }
   ],
   "source": [
    "df <- read_excel(\"C:/Users/hichul/Desktop/2020-2021/Fall of 2020/Independent Study/water-accessibility/data/tidy/Cumulative_Data.xlsx\",sheet=1)\n",
    "head(df)"
   ]
  },
  {
   "cell_type": "markdown",
   "metadata": {},
   "source": [
    "Cleaning Column Years"
   ]
  },
  {
   "cell_type": "code",
   "execution_count": 3,
   "metadata": {},
   "outputs": [],
   "source": [
    "for (i in seq(1, nrow(df))) {\n",
    "    if (grepl(\"-\", df[i,'Year'])) {\n",
    "        yy1 = substr(df[i,\"Year\"], start=1,stop=2)\n",
    "        yy2 = substr(df[i,\"Year\"], start=6,stop=7)\n",
    "        yy3 = paste(yy1,yy2,sep = \"\")\n",
    "        #yy3 = as.integer(yy3)\n",
    "        df[i,\"Year\"] = yy3\n",
    "    }\n",
    "    }"
   ]
  },
  {
   "cell_type": "markdown",
   "metadata": {},
   "source": [
    "Finding the Max Years"
   ]
  },
  {
   "cell_type": "code",
   "execution_count": 4,
   "metadata": {},
   "outputs": [],
   "source": [
    "df$Year = as.numeric(df$Year)\n",
    "df1 <- matrix(NA, nrow = 0, ncol = length(colnames(df))) #create new empty DF\n",
    "colnames(df1) = colnames(df) # assign column names to empty data frame\n",
    "for (country in unique(df$Country)) {\n",
    "    maxyear = max(df[df$Country==country,'Year'])\n",
    "    df1 = rbind( df1, df[(df$Country==country) & (df$Year==maxyear),])\n",
    "} "
   ]
  },
  {
   "cell_type": "markdown",
   "metadata": {},
   "source": [
    "Removing Population Variables (Removal of duplication)"
   ]
  },
  {
   "cell_type": "code",
   "execution_count": 5,
   "metadata": {},
   "outputs": [],
   "source": [
    "dfh = df1[,!grepl(\"^P_\",names(df1))]"
   ]
  },
  {
   "cell_type": "markdown",
   "metadata": {},
   "source": [
    "NA and zeros Analysis"
   ]
  },
  {
   "cell_type": "code",
   "execution_count": 6,
   "metadata": {},
   "outputs": [
    {
     "data": {
      "text/html": [
       "<style>\n",
       ".dl-inline {width: auto; margin:0; padding: 0}\n",
       ".dl-inline>dt, .dl-inline>dd {float: none; width: auto; display: inline-block}\n",
       ".dl-inline>dt::after {content: \":\\0020\"; padding-right: .5ex}\n",
       ".dl-inline>dt:not(:first-of-type) {padding-left: .5ex}\n",
       "</style><dl class=dl-inline><dt>Country</dt><dd>0</dd><dt>Year</dt><dd>0</dd><dt>Survey</dt><dd>0</dd><dt>imws</dt><dd>1</dd><dt>phom</dt><dd>4</dd><dt>pipy</dt><dd>6</dd><dt>ptap</dt><dd>5</dd><dt>H_PN</dt><dd>44</dd><dt>H_POP</dt><dd>77</dd><dt>bore</dt><dd>18</dd><dt>pwel</dt><dd>15</dd><dt>pspr</dt><dd>19</dd><dt>rain</dt><dd>17</dd><dt>truc</dt><dd>9</dd><dt>ctan</dt><dd>26</dd><dt>venw</dt><dd>76</dd><dt>bott</dt><dd>8</dd><dt>sacw</dt><dd>69</dd><dt>purf</dt><dd>74</dd><dt>uiws</dt><dd>1</dd><dt>wepu</dt><dd>68</dd><dt>uwel</dt><dd>13</dd><dt>sppu</dt><dd>69</dd><dt>uspr</dt><dd>21</dd><dt>surw</dt><dd>8</dd><dt>othw</dt><dd>11</dd><dt>iwsp</dt><dd>7</dd><dt>basw</dt><dd>7</dd><dt>liws</dt><dd>7</dd><dt>watp</dt><dd>7</dd><dt>tles</dt><dd>7</dd><dt>tmor</dt><dd>7</dd><dt>wnao</dt><dd>54</dd><dt>niod</dt><dd>54</dd><dt>bicy</dt><dd>5</dd><dt>acar</dt><dd>22</dd><dt>mcyc</dt><dd>4</dd><dt>pcar</dt><dd>1</dd><dt>boat</dt><dd>25</dd><dt>wigc</dt><dd>19</dd></dl>\n"
      ],
      "text/latex": [
       "\\begin{description*}\n",
       "\\item[Country] 0\n",
       "\\item[Year] 0\n",
       "\\item[Survey] 0\n",
       "\\item[imws] 1\n",
       "\\item[phom] 4\n",
       "\\item[pipy] 6\n",
       "\\item[ptap] 5\n",
       "\\item[H\\textbackslash{}\\_PN] 44\n",
       "\\item[H\\textbackslash{}\\_POP] 77\n",
       "\\item[bore] 18\n",
       "\\item[pwel] 15\n",
       "\\item[pspr] 19\n",
       "\\item[rain] 17\n",
       "\\item[truc] 9\n",
       "\\item[ctan] 26\n",
       "\\item[venw] 76\n",
       "\\item[bott] 8\n",
       "\\item[sacw] 69\n",
       "\\item[purf] 74\n",
       "\\item[uiws] 1\n",
       "\\item[wepu] 68\n",
       "\\item[uwel] 13\n",
       "\\item[sppu] 69\n",
       "\\item[uspr] 21\n",
       "\\item[surw] 8\n",
       "\\item[othw] 11\n",
       "\\item[iwsp] 7\n",
       "\\item[basw] 7\n",
       "\\item[liws] 7\n",
       "\\item[watp] 7\n",
       "\\item[tles] 7\n",
       "\\item[tmor] 7\n",
       "\\item[wnao] 54\n",
       "\\item[niod] 54\n",
       "\\item[bicy] 5\n",
       "\\item[acar] 22\n",
       "\\item[mcyc] 4\n",
       "\\item[pcar] 1\n",
       "\\item[boat] 25\n",
       "\\item[wigc] 19\n",
       "\\end{description*}\n"
      ],
      "text/markdown": [
       "Country\n",
       ":   0Year\n",
       ":   0Survey\n",
       ":   0imws\n",
       ":   1phom\n",
       ":   4pipy\n",
       ":   6ptap\n",
       ":   5H_PN\n",
       ":   44H_POP\n",
       ":   77bore\n",
       ":   18pwel\n",
       ":   15pspr\n",
       ":   19rain\n",
       ":   17truc\n",
       ":   9ctan\n",
       ":   26venw\n",
       ":   76bott\n",
       ":   8sacw\n",
       ":   69purf\n",
       ":   74uiws\n",
       ":   1wepu\n",
       ":   68uwel\n",
       ":   13sppu\n",
       ":   69uspr\n",
       ":   21surw\n",
       ":   8othw\n",
       ":   11iwsp\n",
       ":   7basw\n",
       ":   7liws\n",
       ":   7watp\n",
       ":   7tles\n",
       ":   7tmor\n",
       ":   7wnao\n",
       ":   54niod\n",
       ":   54bicy\n",
       ":   5acar\n",
       ":   22mcyc\n",
       ":   4pcar\n",
       ":   1boat\n",
       ":   25wigc\n",
       ":   19\n",
       "\n"
      ],
      "text/plain": [
       "Country    Year  Survey    imws    phom    pipy    ptap    H_PN   H_POP    bore \n",
       "      0       0       0       1       4       6       5      44      77      18 \n",
       "   pwel    pspr    rain    truc    ctan    venw    bott    sacw    purf    uiws \n",
       "     15      19      17       9      26      76       8      69      74       1 \n",
       "   wepu    uwel    sppu    uspr    surw    othw    iwsp    basw    liws    watp \n",
       "     68      13      69      21       8      11       7       7       7       7 \n",
       "   tles    tmor    wnao    niod    bicy    acar    mcyc    pcar    boat    wigc \n",
       "      7       7      54      54       5      22       4       1      25      19 "
      ]
     },
     "metadata": {},
     "output_type": "display_data"
    }
   ],
   "source": [
    "na_count = colSums(is.na(dfh)) #Counting all your NA in each data frames\n",
    "na_count"
   ]
  },
  {
   "cell_type": "markdown",
   "metadata": {},
   "source": [
    "Removing column for household data frame if NA is greater than 50%`"
   ]
  },
  {
   "cell_type": "code",
   "execution_count": 7,
   "metadata": {},
   "outputs": [
    {
     "data": {
      "text/html": [
       "<table>\n",
       "<caption>A tibble: 6 × 31</caption>\n",
       "<thead>\n",
       "\t<tr><th scope=col>Country</th><th scope=col>Year</th><th scope=col>Survey</th><th scope=col>imws</th><th scope=col>phom</th><th scope=col>pipy</th><th scope=col>ptap</th><th scope=col>bore</th><th scope=col>pwel</th><th scope=col>pspr</th><th scope=col>...</th><th scope=col>liws</th><th scope=col>watp</th><th scope=col>tles</th><th scope=col>tmor</th><th scope=col>bicy</th><th scope=col>acar</th><th scope=col>mcyc</th><th scope=col>pcar</th><th scope=col>boat</th><th scope=col>wigc</th></tr>\n",
       "\t<tr><th scope=col>&lt;chr&gt;</th><th scope=col>&lt;dbl&gt;</th><th scope=col>&lt;chr&gt;</th><th scope=col>&lt;dbl&gt;</th><th scope=col>&lt;dbl&gt;</th><th scope=col>&lt;dbl&gt;</th><th scope=col>&lt;dbl&gt;</th><th scope=col>&lt;dbl&gt;</th><th scope=col>&lt;dbl&gt;</th><th scope=col>&lt;dbl&gt;</th><th scope=col>...</th><th scope=col>&lt;dbl&gt;</th><th scope=col>&lt;dbl&gt;</th><th scope=col>&lt;dbl&gt;</th><th scope=col>&lt;dbl&gt;</th><th scope=col>&lt;dbl&gt;</th><th scope=col>&lt;dbl&gt;</th><th scope=col>&lt;dbl&gt;</th><th scope=col>&lt;dbl&gt;</th><th scope=col>&lt;dbl&gt;</th><th scope=col>&lt;dbl&gt;</th></tr>\n",
       "</thead>\n",
       "<tbody>\n",
       "\t<tr><td>Afghanistan</td><td>2015</td><td>DHS</td><td>71.2</td><td> 2.3</td><td> 4.8</td><td>14.2</td><td>20.1</td><td>18.5</td><td>4.7</td><td>...</td><td>5.0</td><td>45.3</td><td>45.2</td><td> 8.2</td><td>30.0</td><td>5.8</td><td>35.2</td><td>11.8</td><td> NA</td><td>0.1</td></tr>\n",
       "\t<tr><td>Albania    </td><td>2018</td><td>DHS</td><td>98.4</td><td>48.8</td><td> 5.2</td><td> 2.4</td><td> 1.4</td><td> 4.1</td><td>2.5</td><td>...</td><td>0.9</td><td>77.9</td><td>20.6</td><td> 1.1</td><td>26.4</td><td>3.2</td><td> 9.6</td><td>37.0</td><td>0.7</td><td>0.1</td></tr>\n",
       "\t<tr><td>Angola     </td><td>2016</td><td>DHS</td><td>66.9</td><td> 4.3</td><td> 9.7</td><td>10.3</td><td> 1.9</td><td> 9.1</td><td>3.3</td><td>...</td><td>7.5</td><td>34.5</td><td>46.1</td><td>15.6</td><td> 4.6</td><td>1.3</td><td>17.8</td><td>10.9</td><td>0.4</td><td>0.3</td></tr>\n",
       "\t<tr><td>Armenia    </td><td>2016</td><td>DHS</td><td>99.9</td><td>88.3</td><td> 8.0</td><td> 0.5</td><td> 0.2</td><td> 0.2</td><td>1.0</td><td>...</td><td>0.1</td><td>97.6</td><td> 1.6</td><td> 0.1</td><td> 8.6</td><td>0.4</td><td> 0.2</td><td>39.2</td><td>0.3</td><td>0.1</td></tr>\n",
       "\t<tr><td>Azerbaijan </td><td>2006</td><td>DHS</td><td>90.6</td><td>34.0</td><td>19.7</td><td> 3.5</td><td> 9.3</td><td> 6.2</td><td>7.5</td><td>...</td><td>3.4</td><td>75.9</td><td>18.7</td><td> 4.4</td><td> 6.9</td><td>3.3</td><td> 1.1</td><td>20.4</td><td>0.1</td><td> NA</td></tr>\n",
       "\t<tr><td>Bangladesh </td><td>2014</td><td>DHS</td><td>97.8</td><td> 4.3</td><td> 3.3</td><td> 2.7</td><td>86.4</td><td> 0.2</td><td>0.0</td><td>...</td><td>1.3</td><td>75.5</td><td>22.7</td><td> 1.6</td><td>25.1</td><td> NA</td><td> 6.4</td><td> 0.8</td><td> NA</td><td>0.3</td></tr>\n",
       "</tbody>\n",
       "</table>\n"
      ],
      "text/latex": [
       "A tibble: 6 × 31\n",
       "\\begin{tabular}{lllllllllllllllllllll}\n",
       " Country & Year & Survey & imws & phom & pipy & ptap & bore & pwel & pspr & ... & liws & watp & tles & tmor & bicy & acar & mcyc & pcar & boat & wigc\\\\\n",
       " <chr> & <dbl> & <chr> & <dbl> & <dbl> & <dbl> & <dbl> & <dbl> & <dbl> & <dbl> & ... & <dbl> & <dbl> & <dbl> & <dbl> & <dbl> & <dbl> & <dbl> & <dbl> & <dbl> & <dbl>\\\\\n",
       "\\hline\n",
       "\t Afghanistan & 2015 & DHS & 71.2 &  2.3 &  4.8 & 14.2 & 20.1 & 18.5 & 4.7 & ... & 5.0 & 45.3 & 45.2 &  8.2 & 30.0 & 5.8 & 35.2 & 11.8 &  NA & 0.1\\\\\n",
       "\t Albania     & 2018 & DHS & 98.4 & 48.8 &  5.2 &  2.4 &  1.4 &  4.1 & 2.5 & ... & 0.9 & 77.9 & 20.6 &  1.1 & 26.4 & 3.2 &  9.6 & 37.0 & 0.7 & 0.1\\\\\n",
       "\t Angola      & 2016 & DHS & 66.9 &  4.3 &  9.7 & 10.3 &  1.9 &  9.1 & 3.3 & ... & 7.5 & 34.5 & 46.1 & 15.6 &  4.6 & 1.3 & 17.8 & 10.9 & 0.4 & 0.3\\\\\n",
       "\t Armenia     & 2016 & DHS & 99.9 & 88.3 &  8.0 &  0.5 &  0.2 &  0.2 & 1.0 & ... & 0.1 & 97.6 &  1.6 &  0.1 &  8.6 & 0.4 &  0.2 & 39.2 & 0.3 & 0.1\\\\\n",
       "\t Azerbaijan  & 2006 & DHS & 90.6 & 34.0 & 19.7 &  3.5 &  9.3 &  6.2 & 7.5 & ... & 3.4 & 75.9 & 18.7 &  4.4 &  6.9 & 3.3 &  1.1 & 20.4 & 0.1 &  NA\\\\\n",
       "\t Bangladesh  & 2014 & DHS & 97.8 &  4.3 &  3.3 &  2.7 & 86.4 &  0.2 & 0.0 & ... & 1.3 & 75.5 & 22.7 &  1.6 & 25.1 &  NA &  6.4 &  0.8 &  NA & 0.3\\\\\n",
       "\\end{tabular}\n"
      ],
      "text/markdown": [
       "\n",
       "A tibble: 6 × 31\n",
       "\n",
       "| Country &lt;chr&gt; | Year &lt;dbl&gt; | Survey &lt;chr&gt; | imws &lt;dbl&gt; | phom &lt;dbl&gt; | pipy &lt;dbl&gt; | ptap &lt;dbl&gt; | bore &lt;dbl&gt; | pwel &lt;dbl&gt; | pspr &lt;dbl&gt; | ... ... | liws &lt;dbl&gt; | watp &lt;dbl&gt; | tles &lt;dbl&gt; | tmor &lt;dbl&gt; | bicy &lt;dbl&gt; | acar &lt;dbl&gt; | mcyc &lt;dbl&gt; | pcar &lt;dbl&gt; | boat &lt;dbl&gt; | wigc &lt;dbl&gt; |\n",
       "|---|---|---|---|---|---|---|---|---|---|---|---|---|---|---|---|---|---|---|---|---|\n",
       "| Afghanistan | 2015 | DHS | 71.2 |  2.3 |  4.8 | 14.2 | 20.1 | 18.5 | 4.7 | ... | 5.0 | 45.3 | 45.2 |  8.2 | 30.0 | 5.8 | 35.2 | 11.8 |  NA | 0.1 |\n",
       "| Albania     | 2018 | DHS | 98.4 | 48.8 |  5.2 |  2.4 |  1.4 |  4.1 | 2.5 | ... | 0.9 | 77.9 | 20.6 |  1.1 | 26.4 | 3.2 |  9.6 | 37.0 | 0.7 | 0.1 |\n",
       "| Angola      | 2016 | DHS | 66.9 |  4.3 |  9.7 | 10.3 |  1.9 |  9.1 | 3.3 | ... | 7.5 | 34.5 | 46.1 | 15.6 |  4.6 | 1.3 | 17.8 | 10.9 | 0.4 | 0.3 |\n",
       "| Armenia     | 2016 | DHS | 99.9 | 88.3 |  8.0 |  0.5 |  0.2 |  0.2 | 1.0 | ... | 0.1 | 97.6 |  1.6 |  0.1 |  8.6 | 0.4 |  0.2 | 39.2 | 0.3 | 0.1 |\n",
       "| Azerbaijan  | 2006 | DHS | 90.6 | 34.0 | 19.7 |  3.5 |  9.3 |  6.2 | 7.5 | ... | 3.4 | 75.9 | 18.7 |  4.4 |  6.9 | 3.3 |  1.1 | 20.4 | 0.1 |  NA |\n",
       "| Bangladesh  | 2014 | DHS | 97.8 |  4.3 |  3.3 |  2.7 | 86.4 |  0.2 | 0.0 | ... | 1.3 | 75.5 | 22.7 |  1.6 | 25.1 |  NA |  6.4 |  0.8 |  NA | 0.3 |\n",
       "\n"
      ],
      "text/plain": [
       "  Country     Year Survey imws phom pipy ptap bore pwel pspr ... liws watp tles\n",
       "1 Afghanistan 2015 DHS    71.2  2.3  4.8 14.2 20.1 18.5 4.7  ... 5.0  45.3 45.2\n",
       "2 Albania     2018 DHS    98.4 48.8  5.2  2.4  1.4  4.1 2.5  ... 0.9  77.9 20.6\n",
       "3 Angola      2016 DHS    66.9  4.3  9.7 10.3  1.9  9.1 3.3  ... 7.5  34.5 46.1\n",
       "4 Armenia     2016 DHS    99.9 88.3  8.0  0.5  0.2  0.2 1.0  ... 0.1  97.6  1.6\n",
       "5 Azerbaijan  2006 DHS    90.6 34.0 19.7  3.5  9.3  6.2 7.5  ... 3.4  75.9 18.7\n",
       "6 Bangladesh  2014 DHS    97.8  4.3  3.3  2.7 86.4  0.2 0.0  ... 1.3  75.5 22.7\n",
       "  tmor bicy acar mcyc pcar boat wigc\n",
       "1  8.2 30.0 5.8  35.2 11.8  NA  0.1 \n",
       "2  1.1 26.4 3.2   9.6 37.0 0.7  0.1 \n",
       "3 15.6  4.6 1.3  17.8 10.9 0.4  0.3 \n",
       "4  0.1  8.6 0.4   0.2 39.2 0.3  0.1 \n",
       "5  4.4  6.9 3.3   1.1 20.4 0.1   NA \n",
       "6  1.6 25.1  NA   6.4  0.8  NA  0.3 "
      ]
     },
     "metadata": {},
     "output_type": "display_data"
    },
    {
     "data": {
      "text/html": [
       "<style>\n",
       ".dl-inline {width: auto; margin:0; padding: 0}\n",
       ".dl-inline>dt, .dl-inline>dd {float: none; width: auto; display: inline-block}\n",
       ".dl-inline>dt::after {content: \":\\0020\"; padding-right: .5ex}\n",
       ".dl-inline>dt:not(:first-of-type) {padding-left: .5ex}\n",
       "</style><dl class=dl-inline><dt>Country</dt><dd>0</dd><dt>Year</dt><dd>0</dd><dt>Survey</dt><dd>0</dd><dt>imws</dt><dd>1</dd><dt>phom</dt><dd>4</dd><dt>pipy</dt><dd>6</dd><dt>ptap</dt><dd>5</dd><dt>bore</dt><dd>18</dd><dt>pwel</dt><dd>15</dd><dt>pspr</dt><dd>19</dd><dt>rain</dt><dd>17</dd><dt>truc</dt><dd>9</dd><dt>ctan</dt><dd>26</dd><dt>bott</dt><dd>8</dd><dt>uiws</dt><dd>1</dd><dt>uwel</dt><dd>13</dd><dt>uspr</dt><dd>21</dd><dt>surw</dt><dd>8</dd><dt>othw</dt><dd>11</dd><dt>iwsp</dt><dd>7</dd><dt>basw</dt><dd>7</dd><dt>liws</dt><dd>7</dd><dt>watp</dt><dd>7</dd><dt>tles</dt><dd>7</dd><dt>tmor</dt><dd>7</dd><dt>bicy</dt><dd>5</dd><dt>acar</dt><dd>22</dd><dt>mcyc</dt><dd>4</dd><dt>pcar</dt><dd>1</dd><dt>boat</dt><dd>25</dd><dt>wigc</dt><dd>19</dd></dl>\n"
      ],
      "text/latex": [
       "\\begin{description*}\n",
       "\\item[Country] 0\n",
       "\\item[Year] 0\n",
       "\\item[Survey] 0\n",
       "\\item[imws] 1\n",
       "\\item[phom] 4\n",
       "\\item[pipy] 6\n",
       "\\item[ptap] 5\n",
       "\\item[bore] 18\n",
       "\\item[pwel] 15\n",
       "\\item[pspr] 19\n",
       "\\item[rain] 17\n",
       "\\item[truc] 9\n",
       "\\item[ctan] 26\n",
       "\\item[bott] 8\n",
       "\\item[uiws] 1\n",
       "\\item[uwel] 13\n",
       "\\item[uspr] 21\n",
       "\\item[surw] 8\n",
       "\\item[othw] 11\n",
       "\\item[iwsp] 7\n",
       "\\item[basw] 7\n",
       "\\item[liws] 7\n",
       "\\item[watp] 7\n",
       "\\item[tles] 7\n",
       "\\item[tmor] 7\n",
       "\\item[bicy] 5\n",
       "\\item[acar] 22\n",
       "\\item[mcyc] 4\n",
       "\\item[pcar] 1\n",
       "\\item[boat] 25\n",
       "\\item[wigc] 19\n",
       "\\end{description*}\n"
      ],
      "text/markdown": [
       "Country\n",
       ":   0Year\n",
       ":   0Survey\n",
       ":   0imws\n",
       ":   1phom\n",
       ":   4pipy\n",
       ":   6ptap\n",
       ":   5bore\n",
       ":   18pwel\n",
       ":   15pspr\n",
       ":   19rain\n",
       ":   17truc\n",
       ":   9ctan\n",
       ":   26bott\n",
       ":   8uiws\n",
       ":   1uwel\n",
       ":   13uspr\n",
       ":   21surw\n",
       ":   8othw\n",
       ":   11iwsp\n",
       ":   7basw\n",
       ":   7liws\n",
       ":   7watp\n",
       ":   7tles\n",
       ":   7tmor\n",
       ":   7bicy\n",
       ":   5acar\n",
       ":   22mcyc\n",
       ":   4pcar\n",
       ":   1boat\n",
       ":   25wigc\n",
       ":   19\n",
       "\n"
      ],
      "text/plain": [
       "Country    Year  Survey    imws    phom    pipy    ptap    bore    pwel    pspr \n",
       "      0       0       0       1       4       6       5      18      15      19 \n",
       "   rain    truc    ctan    bott    uiws    uwel    uspr    surw    othw    iwsp \n",
       "     17       9      26       8       1      13      21       8      11       7 \n",
       "   basw    liws    watp    tles    tmor    bicy    acar    mcyc    pcar    boat \n",
       "      7       7       7       7       7       5      22       4       1      25 \n",
       "   wigc \n",
       "     19 "
      ]
     },
     "metadata": {},
     "output_type": "display_data"
    },
    {
     "data": {
      "image/png": "[encoded data removed]",
      "text/plain": [
       "Plot with title \"Histogram of na_count_cleaned\""
      ]
     },
     "metadata": {
      "image/png": {
       "height": 420,
       "width": 420
      }
     },
     "output_type": "display_data"
    }
   ],
   "source": [
    "dfsimple = dfh[, which(colMeans(!is.na(dfh)) > 0.5)]\n",
    "head(dfsimple)\n",
    "na_count_cleaned = colSums(is.na(dfsimple)) #Counting all your NA in each data frames\n",
    "na_count_cleaned\n",
    "hist(na_count_cleaned)\n",
    "zeros = colSums(dfsimple != 0) # Counting all your zeros in each data frame"
   ]
  },
  {
   "cell_type": "markdown",
   "metadata": {},
   "source": [
    "Preliminary Data Visualization"
   ]
  },
  {
   "cell_type": "code",
   "execution_count": 8,
   "metadata": {},
   "outputs": [
    {
     "data": {
      "text/plain": [
       "   Min. 1st Qu.  Median    Mean 3rd Qu.    Max.    NA's \n",
       "   0.10    7.20   19.10   19.96   28.60   83.60       1 "
      ]
     },
     "metadata": {},
     "output_type": "display_data"
    },
    {
     "data": {
      "image/png": "[encoded data removed]",
      "text/plain": [
       "Plot with title \"Year of surveys\""
      ]
     },
     "metadata": {
      "image/png": {
       "height": 420,
       "width": 420
      }
     },
     "output_type": "display_data"
    },
    {
     "data": {
      "image/png": "[encoded data removed]",
      "text/plain": [
       "Plot with title \"Households using an unimproved water source\""
      ]
     },
     "metadata": {
      "image/png": {
       "height": 420,
       "width": 420
      }
     },
     "output_type": "display_data"
    },
    {
     "data": {
      "text/plain": [
       "   Min. 1st Qu.  Median    Mean 3rd Qu.    Max.    NA's \n",
       "   2.30   10.50   20.70   23.76   33.50   82.00       5 "
      ]
     },
     "metadata": {},
     "output_type": "display_data"
    },
    {
     "data": {
      "image/png": "[encoded data removed]",
      "text/plain": [
       "Plot with title \"Households using an unimproved water source\""
      ]
     },
     "metadata": {
      "image/png": {
       "height": 420,
       "width": 420
      }
     },
     "output_type": "display_data"
    },
    {
     "data": {
      "image/png": "[encoded data removed]",
      "text/plain": [
       "Plot with title \"Households possessing a bicycle\""
      ]
     },
     "metadata": {
      "image/png": {
       "height": 420,
       "width": 420
      }
     },
     "output_type": "display_data"
    },
    {
     "data": {
      "text/plain": [
       "   Min. 1st Qu.  Median    Mean 3rd Qu.    Max. \n",
       "   1900    1999    2007    2006    2013    2019 "
      ]
     },
     "metadata": {},
     "output_type": "display_data"
    },
    {
     "data": {
      "text/plain": [
       "   Length     Class      Mode \n",
       "       78 character character "
      ]
     },
     "metadata": {},
     "output_type": "display_data"
    },
    {
     "data": {
      "image/png": "[encoded data removed]",
      "text/plain": [
       "Plot with title \"Households possessing a bicycle\""
      ]
     },
     "metadata": {
      "image/png": {
       "height": 420,
       "width": 420
      }
     },
     "output_type": "display_data"
    }
   ],
   "source": [
    "hist(dfsimple$ 'Year', main=\"Year of surveys\",\n",
    "     xlab=\"Years\",\n",
    "     ylab=\"Frequency\",\n",
    "     col.main=\"red\", col.lab=\"blue\")\n",
    "summary(dfsimple$uiws ) # House hold with unimproved water source\n",
    "hist(dfsimple$uiws, main=\"Households using an unimproved water source\",\n",
    "     xlab=\"Total Percentage\",\n",
    "     ylab=\"Frequency\",\n",
    "     col.main=\"red\", col.lab=\"blue\")\n",
    "plot(dfsimple$uiws , main=\"Households using an unimproved water source\",\n",
    "     xlab=\"Index\",\n",
    "     ylab=\"Total Percentage\",\n",
    "     col.main=\"red\", col.lab=\"blue\")\n",
    "summary(dfsimple$bicy) # house hold with possession of bicycle. \n",
    "hist(dfsimple$bicy, main=\"Households possessing a bicycle\",\n",
    "     xlab=\"Total Percentage\",\n",
    "     ylab=\"Frequency\",\n",
    "     col.main=\"red\", col.lab=\"blue\")\n",
    "plot(dfsimple$bicy, main=\"Households possessing a bicycle\",\n",
    "     xlab=\"Index\",\n",
    "     ylab=\"Total Percentage\",\n",
    "     col.main=\"red\", col.lab=\"blue\")\n",
    "summary(df$Year)\n",
    "summary(dfsimple$Country)"
   ]
  },
  {
   "cell_type": "code",
   "execution_count": 9,
   "metadata": {},
   "outputs": [],
   "source": [
    "write.csv(dfsimple, '../../results/dfsimple.csv')"
   ]
  }
 ],
 "metadata": {
  "kernelspec": {
   "display_name": "R",
   "language": "R",
   "name": "ir"
  },
  "language_info": {
   "codemirror_mode": "r",
   "file_extension": ".r",
   "mimetype": "text/x-r-source",
   "name": "R",
   "pygments_lexer": "r",
   "version": "4.0.2"
  }
 },
 "nbformat": 4,
 "nbformat_minor": 4
}
