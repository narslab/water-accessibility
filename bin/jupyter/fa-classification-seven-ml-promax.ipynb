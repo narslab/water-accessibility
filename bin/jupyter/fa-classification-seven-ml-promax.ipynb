{
 "cells": [
  {
   "cell_type": "code",
   "execution_count": 85,
   "metadata": {},
   "outputs": [
    {
     "name": "stderr",
     "output_type": "stream",
     "text": [
      "Warning message:\n",
      "\"package 'data.table' was built under R version 4.0.3\"\n",
      "\n",
      "Attaching package: 'data.table'\n",
      "\n",
      "\n",
      "The following objects are masked from 'package:xts':\n",
      "\n",
      "    first, last\n",
      "\n",
      "\n",
      "The following objects are masked from 'package:reshape2':\n",
      "\n",
      "    dcast, melt\n",
      "\n",
      "\n",
      "The following objects are masked from 'package:dplyr':\n",
      "\n",
      "    between, first, last\n",
      "\n",
      "\n",
      "The following object is masked from 'package:purrr':\n",
      "\n",
      "    transpose\n",
      "\n",
      "\n"
     ]
    }
   ],
   "source": [
    "#install.packages('randomForest')\n",
    "library(readxl)\n",
    "library(randomForest)\n",
    "library(readxl)\n",
    "library(tidyverse)\n",
    "#install.packages('dplyr')\n",
    "library(dplyr)\n",
    "library(Rcpp)\n",
    "\n",
    "\n",
    "library(rpart)# Popular decision tree algorithm\n",
    "#install.packages('rattle')\n",
    "library(rattle)# Fancy tree plot\n",
    "library(rpart.plot)# Enhanced tree plots\n",
    "library(RColorBrewer)# Color selection for fancy tree plot\n",
    "library(party) # Alternative decision tree algorithm\n",
    "#install.packages('partykit')\n",
    "library(partykit)# Convert rpart object to BinaryTree\n",
    "\n",
    "#install.packages('tree')\n",
    "library(tree)\n",
    "#install.packages('multcomp')\n",
    "library(multcomp)\n",
    "#install.packages('party')\n",
    "\n",
    "\n",
    "#install.packages('Metrics')\n",
    "library(Metrics)\n",
    "#install.packages('reprtree')\n",
    "#devtools::install_github(\"MI2DataLab/randomForestExplainer\")\n",
    "#install.packages('randomForestExplainer')\n",
    "library(randomForestExplainer)\n",
    "#install.packages(\"scales\")\n",
    "library(scales)\n",
    "#update.packages()\n",
    "#install.packages(\"packagename\")\n",
    "require(foreign)\n",
    "require(nnet)\n",
    "require(ggplot2)\n",
    "require(reshape2)\n",
    "#install.packages(\"stats4\")\n",
    "#install.packages(\"splines\")\n",
    "library(stats4) #Load package stats\n",
    "library(splines) #Load package splines\n",
    "#To load package VGAM, need to load package stats4 and splines.\n",
    "#install.packages(\"VGAM\")\n",
    "library(VGAM) #Load package VGAM\n",
    "\n",
    "\n",
    "#install.packages(\"psych\")\n",
    "#install.packages(\"PerformanceAnalytics\")\n",
    "library(corrplot)\n",
    "library(PerformanceAnalytics)\n",
    "library(psych)\n",
    "\n",
    "library(data.table)\n",
    "\n",
    "\n"
   ]
  },
  {
   "cell_type": "markdown",
   "metadata": {},
   "source": [
    "# FA (weighted) Classifcation"
   ]
  },
  {
   "cell_type": "code",
   "execution_count": 93,
   "metadata": {},
   "outputs": [
    {
     "data": {
      "text/html": [
       "<table class=\"dataframe\">\n",
       "<caption>A data.frame: 6 × 7</caption>\n",
       "<thead>\n",
       "\t<tr><th></th><th scope=col>cgdp</th><th scope=col>tpop</th><th scope=col>upop</th><th scope=col>popd</th><th scope=col>land</th><th scope=col>rifr</th><th scope=col>prec</th></tr>\n",
       "\t<tr><th></th><th scope=col>&lt;dbl&gt;</th><th scope=col>&lt;dbl&gt;</th><th scope=col>&lt;dbl&gt;</th><th scope=col>&lt;dbl&gt;</th><th scope=col>&lt;dbl&gt;</th><th scope=col>&lt;dbl&gt;</th><th scope=col>&lt;dbl&gt;</th></tr>\n",
       "</thead>\n",
       "<tbody>\n",
       "\t<tr><th scope=row>1</th><td> 0.6764749</td><td> 2.7481820</td><td>28.02295</td><td> 3.312286</td><td>21.9582334</td><td>0.4178560</td><td>10.09259</td></tr>\n",
       "\t<tr><th scope=row>2</th><td> 0.5582786</td><td> 0.2119133</td><td>66.29992</td><td> 6.085694</td><td> 0.9215691</td><td>3.0113141</td><td>45.83333</td></tr>\n",
       "\t<tr><th scope=row>3</th><td> 3.7356087</td><td> 2.2777885</td><td>72.01002</td><td> 1.437652</td><td>41.9313936</td><td>1.5966507</td><td>31.17284</td></tr>\n",
       "\t<tr><th scope=row>4</th><td> 0.4591664</td><td> 0.2182270</td><td>69.41052</td><td> 6.031473</td><td> 0.9575574</td><td>0.7492248</td><td>17.34568</td></tr>\n",
       "\t<tr><th scope=row>5</th><td> 1.7364569</td><td> 0.7348546</td><td>61.20094</td><td> 6.994488</td><td> 2.7805152</td><td>0.2649006</td><td>13.79630</td></tr>\n",
       "\t<tr><th scope=row>6</th><td>10.1003473</td><td>11.9291714</td><td>40.26424</td><td>72.111049</td><td> 4.3781259</td><td>0.2115304</td><td>82.28395</td></tr>\n",
       "</tbody>\n",
       "</table>\n"
      ],
      "text/latex": [
       "A data.frame: 6 × 7\n",
       "\\begin{tabular}{r|lllllll}\n",
       "  & cgdp & tpop & upop & popd & land & rifr & prec\\\\\n",
       "  & <dbl> & <dbl> & <dbl> & <dbl> & <dbl> & <dbl> & <dbl>\\\\\n",
       "\\hline\n",
       "\t1 &  0.6764749 &  2.7481820 & 28.02295 &  3.312286 & 21.9582334 & 0.4178560 & 10.09259\\\\\n",
       "\t2 &  0.5582786 &  0.2119133 & 66.29992 &  6.085694 &  0.9215691 & 3.0113141 & 45.83333\\\\\n",
       "\t3 &  3.7356087 &  2.2777885 & 72.01002 &  1.437652 & 41.9313936 & 1.5966507 & 31.17284\\\\\n",
       "\t4 &  0.4591664 &  0.2182270 & 69.41052 &  6.031473 &  0.9575574 & 0.7492248 & 17.34568\\\\\n",
       "\t5 &  1.7364569 &  0.7348546 & 61.20094 &  6.994488 &  2.7805152 & 0.2649006 & 13.79630\\\\\n",
       "\t6 & 10.1003473 & 11.9291714 & 40.26424 & 72.111049 &  4.3781259 & 0.2115304 & 82.28395\\\\\n",
       "\\end{tabular}\n"
      ],
      "text/markdown": [
       "\n",
       "A data.frame: 6 × 7\n",
       "\n",
       "| <!--/--> | cgdp &lt;dbl&gt; | tpop &lt;dbl&gt; | upop &lt;dbl&gt; | popd &lt;dbl&gt; | land &lt;dbl&gt; | rifr &lt;dbl&gt; | prec &lt;dbl&gt; |\n",
       "|---|---|---|---|---|---|---|---|\n",
       "| 1 |  0.6764749 |  2.7481820 | 28.02295 |  3.312286 | 21.9582334 | 0.4178560 | 10.09259 |\n",
       "| 2 |  0.5582786 |  0.2119133 | 66.29992 |  6.085694 |  0.9215691 | 3.0113141 | 45.83333 |\n",
       "| 3 |  3.7356087 |  2.2777885 | 72.01002 |  1.437652 | 41.9313936 | 1.5966507 | 31.17284 |\n",
       "| 4 |  0.4591664 |  0.2182270 | 69.41052 |  6.031473 |  0.9575574 | 0.7492248 | 17.34568 |\n",
       "| 5 |  1.7364569 |  0.7348546 | 61.20094 |  6.994488 |  2.7805152 | 0.2649006 | 13.79630 |\n",
       "| 6 | 10.1003473 | 11.9291714 | 40.26424 | 72.111049 |  4.3781259 | 0.2115304 | 82.28395 |\n",
       "\n"
      ],
      "text/plain": [
       "  cgdp       tpop       upop     popd      land       rifr      prec    \n",
       "1  0.6764749  2.7481820 28.02295  3.312286 21.9582334 0.4178560 10.09259\n",
       "2  0.5582786  0.2119133 66.29992  6.085694  0.9215691 3.0113141 45.83333\n",
       "3  3.7356087  2.2777885 72.01002  1.437652 41.9313936 1.5966507 31.17284\n",
       "4  0.4591664  0.2182270 69.41052  6.031473  0.9575574 0.7492248 17.34568\n",
       "5  1.7364569  0.7348546 61.20094  6.994488  2.7805152 0.2649006 13.79630\n",
       "6 10.1003473 11.9291714 40.26424 72.111049  4.3781259 0.2115304 82.28395"
      ]
     },
     "metadata": {},
     "output_type": "display_data"
    },
    {
     "data": {
      "text/html": [
       "<table class=\"dataframe\">\n",
       "<caption>A data.frame: 6 × 14</caption>\n",
       "<thead>\n",
       "\t<tr><th></th><th scope=col>Country</th><th scope=col>bicy</th><th scope=col>cart</th><th scope=col>mcyc</th><th scope=col>pcar</th><th scope=col>boat</th><th scope=col>clusters</th><th scope=col>cgdp</th><th scope=col>tpop</th><th scope=col>upop</th><th scope=col>popd</th><th scope=col>land</th><th scope=col>rifr</th><th scope=col>prec</th></tr>\n",
       "\t<tr><th></th><th scope=col>&lt;chr&gt;</th><th scope=col>&lt;dbl&gt;</th><th scope=col>&lt;dbl&gt;</th><th scope=col>&lt;dbl&gt;</th><th scope=col>&lt;dbl&gt;</th><th scope=col>&lt;dbl&gt;</th><th scope=col>&lt;fct&gt;</th><th scope=col>&lt;dbl&gt;</th><th scope=col>&lt;dbl&gt;</th><th scope=col>&lt;dbl&gt;</th><th scope=col>&lt;dbl&gt;</th><th scope=col>&lt;dbl&gt;</th><th scope=col>&lt;dbl&gt;</th><th scope=col>&lt;dbl&gt;</th></tr>\n",
       "</thead>\n",
       "<tbody>\n",
       "\t<tr><th scope=row>1</th><td>Afghanistan</td><td>30.0</td><td>5.8</td><td>35.2</td><td>11.8</td><td>0.0</td><td>1</td><td> 0.6764749</td><td> 2.7481820</td><td>28.02295</td><td> 3.312286</td><td>21.9582334</td><td>0.4178560</td><td>10.09259</td></tr>\n",
       "\t<tr><th scope=row>2</th><td>Albania    </td><td>26.4</td><td>3.2</td><td> 9.6</td><td>37.0</td><td>0.7</td><td>2</td><td> 0.5582786</td><td> 0.2119133</td><td>66.29992</td><td> 6.085694</td><td> 0.9215691</td><td>3.0113141</td><td>45.83333</td></tr>\n",
       "\t<tr><th scope=row>3</th><td>Angola     </td><td> 4.6</td><td>1.3</td><td>17.8</td><td>10.9</td><td>0.4</td><td>1</td><td> 3.7356087</td><td> 2.2777885</td><td>72.01002</td><td> 1.437652</td><td>41.9313936</td><td>1.5966507</td><td>31.17284</td></tr>\n",
       "\t<tr><th scope=row>4</th><td>Armenia    </td><td> 8.6</td><td>0.4</td><td> 0.2</td><td>39.2</td><td>0.3</td><td>3</td><td> 0.4591664</td><td> 0.2182270</td><td>69.41052</td><td> 6.031473</td><td> 0.9575574</td><td>0.7492248</td><td>17.34568</td></tr>\n",
       "\t<tr><th scope=row>5</th><td>Azerbaijan </td><td> 6.9</td><td>3.3</td><td> 1.1</td><td>20.4</td><td>0.1</td><td>3</td><td> 1.7364569</td><td> 0.7348546</td><td>61.20094</td><td> 6.994488</td><td> 2.7805152</td><td>0.2649006</td><td>13.79630</td></tr>\n",
       "\t<tr><th scope=row>6</th><td>Bangladesh </td><td>25.1</td><td>0.0</td><td> 6.4</td><td> 0.8</td><td>0.0</td><td>2</td><td>10.1003473</td><td>11.9291714</td><td>40.26424</td><td>72.111049</td><td> 4.3781259</td><td>0.2115304</td><td>82.28395</td></tr>\n",
       "</tbody>\n",
       "</table>\n"
      ],
      "text/latex": [
       "A data.frame: 6 × 14\n",
       "\\begin{tabular}{r|llllllllllllll}\n",
       "  & Country & bicy & cart & mcyc & pcar & boat & clusters & cgdp & tpop & upop & popd & land & rifr & prec\\\\\n",
       "  & <chr> & <dbl> & <dbl> & <dbl> & <dbl> & <dbl> & <fct> & <dbl> & <dbl> & <dbl> & <dbl> & <dbl> & <dbl> & <dbl>\\\\\n",
       "\\hline\n",
       "\t1 & Afghanistan & 30.0 & 5.8 & 35.2 & 11.8 & 0.0 & 1 &  0.6764749 &  2.7481820 & 28.02295 &  3.312286 & 21.9582334 & 0.4178560 & 10.09259\\\\\n",
       "\t2 & Albania     & 26.4 & 3.2 &  9.6 & 37.0 & 0.7 & 2 &  0.5582786 &  0.2119133 & 66.29992 &  6.085694 &  0.9215691 & 3.0113141 & 45.83333\\\\\n",
       "\t3 & Angola      &  4.6 & 1.3 & 17.8 & 10.9 & 0.4 & 1 &  3.7356087 &  2.2777885 & 72.01002 &  1.437652 & 41.9313936 & 1.5966507 & 31.17284\\\\\n",
       "\t4 & Armenia     &  8.6 & 0.4 &  0.2 & 39.2 & 0.3 & 3 &  0.4591664 &  0.2182270 & 69.41052 &  6.031473 &  0.9575574 & 0.7492248 & 17.34568\\\\\n",
       "\t5 & Azerbaijan  &  6.9 & 3.3 &  1.1 & 20.4 & 0.1 & 3 &  1.7364569 &  0.7348546 & 61.20094 &  6.994488 &  2.7805152 & 0.2649006 & 13.79630\\\\\n",
       "\t6 & Bangladesh  & 25.1 & 0.0 &  6.4 &  0.8 & 0.0 & 2 & 10.1003473 & 11.9291714 & 40.26424 & 72.111049 &  4.3781259 & 0.2115304 & 82.28395\\\\\n",
       "\\end{tabular}\n"
      ],
      "text/markdown": [
       "\n",
       "A data.frame: 6 × 14\n",
       "\n",
       "| <!--/--> | Country &lt;chr&gt; | bicy &lt;dbl&gt; | cart &lt;dbl&gt; | mcyc &lt;dbl&gt; | pcar &lt;dbl&gt; | boat &lt;dbl&gt; | clusters &lt;fct&gt; | cgdp &lt;dbl&gt; | tpop &lt;dbl&gt; | upop &lt;dbl&gt; | popd &lt;dbl&gt; | land &lt;dbl&gt; | rifr &lt;dbl&gt; | prec &lt;dbl&gt; |\n",
       "|---|---|---|---|---|---|---|---|---|---|---|---|---|---|---|\n",
       "| 1 | Afghanistan | 30.0 | 5.8 | 35.2 | 11.8 | 0.0 | 1 |  0.6764749 |  2.7481820 | 28.02295 |  3.312286 | 21.9582334 | 0.4178560 | 10.09259 |\n",
       "| 2 | Albania     | 26.4 | 3.2 |  9.6 | 37.0 | 0.7 | 2 |  0.5582786 |  0.2119133 | 66.29992 |  6.085694 |  0.9215691 | 3.0113141 | 45.83333 |\n",
       "| 3 | Angola      |  4.6 | 1.3 | 17.8 | 10.9 | 0.4 | 1 |  3.7356087 |  2.2777885 | 72.01002 |  1.437652 | 41.9313936 | 1.5966507 | 31.17284 |\n",
       "| 4 | Armenia     |  8.6 | 0.4 |  0.2 | 39.2 | 0.3 | 3 |  0.4591664 |  0.2182270 | 69.41052 |  6.031473 |  0.9575574 | 0.7492248 | 17.34568 |\n",
       "| 5 | Azerbaijan  |  6.9 | 3.3 |  1.1 | 20.4 | 0.1 | 3 |  1.7364569 |  0.7348546 | 61.20094 |  6.994488 |  2.7805152 | 0.2649006 | 13.79630 |\n",
       "| 6 | Bangladesh  | 25.1 | 0.0 |  6.4 |  0.8 | 0.0 | 2 | 10.1003473 | 11.9291714 | 40.26424 | 72.111049 |  4.3781259 | 0.2115304 | 82.28395 |\n",
       "\n"
      ],
      "text/plain": [
       "  Country     bicy cart mcyc pcar boat clusters cgdp       tpop       upop    \n",
       "1 Afghanistan 30.0 5.8  35.2 11.8 0.0  1         0.6764749  2.7481820 28.02295\n",
       "2 Albania     26.4 3.2   9.6 37.0 0.7  2         0.5582786  0.2119133 66.29992\n",
       "3 Angola       4.6 1.3  17.8 10.9 0.4  1         3.7356087  2.2777885 72.01002\n",
       "4 Armenia      8.6 0.4   0.2 39.2 0.3  3         0.4591664  0.2182270 69.41052\n",
       "5 Azerbaijan   6.9 3.3   1.1 20.4 0.1  3         1.7364569  0.7348546 61.20094\n",
       "6 Bangladesh  25.1 0.0   6.4  0.8 0.0  2        10.1003473 11.9291714 40.26424\n",
       "  popd      land       rifr      prec    \n",
       "1  3.312286 21.9582334 0.4178560 10.09259\n",
       "2  6.085694  0.9215691 3.0113141 45.83333\n",
       "3  1.437652 41.9313936 1.5966507 31.17284\n",
       "4  6.031473  0.9575574 0.7492248 17.34568\n",
       "5  6.994488  2.7805152 0.2649006 13.79630\n",
       "6 72.111049  4.3781259 0.2115304 82.28395"
      ]
     },
     "metadata": {},
     "output_type": "display_data"
    },
    {
     "data": {
      "image/png": "[encoded data removed]",
      "text/plain": [
       "Plot with title \"Histogram of df$cart\""
      ]
     },
     "metadata": {
      "image/png": {
       "height": 420,
       "width": 420
      }
     },
     "output_type": "display_data"
    },
    {
     "data": {
      "image/png": "[encoded data removed]",
      "text/plain": [
       "Plot with title \"\""
      ]
     },
     "metadata": {
      "image/png": {
       "height": 420,
       "width": 420
      }
     },
     "output_type": "display_data"
    }
   ],
   "source": [
    "df.wa = read_excel( \"../../results/df-water-access.xlsx\" ,sheet=1)\n",
    "df.exp =read_excel(\"../../results/df-water-explore.xlsx\" ,sheet=1)\n",
    "df.cluster = read_excel(\"../../results/df-fa-seven-cluster-rank.xlsx\" ,sheet=1)\n",
    "df.wb = read_excel(\"../../results/df-wb.xlsx\" ,sheet=1 )\n",
    "df.exp$clusters <- as.factor(df.cluster$clusters)\n",
    "df <- merge(x = df.exp,\n",
    "              y = df.wb,\n",
    "              by = c(\"Country\"))\n",
    "\n",
    "df <- df[, c(1:6,8:13, 17,21)]\n",
    "# ReScaling in 0 to 1 for all the necessary data\n",
    "#df.scale <- rescale(df, to = c(0, 1), from = range(x, na.rm = TRUE, finite = TRUE))\n",
    "\n",
    "\n",
    "#scaling the world bank data similar to DHS aggregation out of 100\n",
    "df.wb <- df[,c(8:14)]\n",
    "df.wb <- data.frame(lapply(df.wb, function(x) scale(x, center = FALSE, scale = max(x, na.rm = TRUE)/100)))\n",
    "df.scale <- cbind(df, df.wb)\n",
    "df.scale <- df.scale[,c(1:7,15:21)]\n",
    "\n",
    "head(df.scale)\n",
    "\n",
    "df.a <- df[, c(1:6,8)]\n",
    "hist(df$cart)\n",
    "\n",
    "explnatory <- df[,c(2:6, 8:14)]\n",
    "chart.Correlation(explnatory, histogram=TRUE, pch=19 , tl.cex = .7 )"
   ]
  },
  {
   "cell_type": "markdown",
   "metadata": {},
   "source": [
    "# Tree"
   ]
  },
  {
   "cell_type": "code",
   "execution_count": 46,
   "metadata": {
    "scrolled": false
   },
   "outputs": [
    {
     "data": {
      "image/png": "[encoded data removed]",
      "text/plain": [
       "plot without title"
      ]
     },
     "metadata": {
      "image/png": {
       "height": 420,
       "width": 420
      }
     },
     "output_type": "display_data"
    },
    {
     "name": "stdout",
     "output_type": "stream",
     "text": [
      "\n",
      "Classification tree:\n",
      "rpart(formula = form, data = df, control = rpart.control(minsplit = 7, \n",
      "    cp = 0.01, xval = nrow(df), maxsurrogate = 0))\n",
      "\n",
      "Variables actually used in tree construction:\n",
      "[1] boat cgdp pcar popd\n",
      "\n",
      "Root node error: 36/73 = 0.49315\n",
      "\n",
      "n= 73 \n",
      "\n",
      "        CP nsplit rel error  xerror    xstd\n",
      "1 0.388889      0   1.00000 1.00000 0.11866\n",
      "2 0.138889      1   0.61111 0.80556 0.11613\n",
      "3 0.083333      2   0.47222 0.75000 0.11458\n",
      "4 0.027778      4   0.30556 0.61111 0.10890\n",
      "5 0.010000      7   0.22222 0.69444 0.11262\n"
     ]
    },
    {
     "data": {
      "image/png": "[encoded data removed]",
      "text/plain": [
       "plot without title"
      ]
     },
     "metadata": {
      "image/png": {
       "height": 420,
       "width": 420
      }
     },
     "output_type": "display_data"
    }
   ],
   "source": [
    "# Make big tree\n",
    "form <- as.formula(clusters ~ . - Country)\n",
    "tree.fwa <- rpart(form,data=df,control=rpart.control(minsplit=7,cp=0.01, xval = nrow(df), maxsurrogate = 0\n",
    "))\n",
    "            \n",
    "# \n",
    "plot(tree.fwa)# Will make a mess of the plot\n",
    "\n",
    "text(tree.fwa)\n",
    "plotcp(tree.fwa)\n",
    "printcp(tree.fwa)\n",
    "\n",
    "#summary(tree.fwa) \n",
    "\n",
    "#prp(tree.fwa)# Will plot the tree\n",
    "#prp(tree.fwa,varlen=4)# Shorten variable names\n",
    "\n",
    "\n",
    "\n"
   ]
  },
  {
   "cell_type": "code",
   "execution_count": 47,
   "metadata": {
    "scrolled": false
   },
   "outputs": [
    {
     "name": "stdout",
     "output_type": "stream",
     "text": [
      "Call:\n",
      "rpart(formula = form, data = df, control = rpart.control(minsplit = 7, \n",
      "    cp = 0.01, xval = nrow(df), maxsurrogate = 0))\n",
      "  n= 73 \n",
      "\n",
      "          CP nsplit rel error    xerror      xstd\n",
      "1 0.38888889      0 1.0000000 1.0000000 0.1186556\n",
      "2 0.13888889      1 0.6111111 0.8055556 0.1161345\n",
      "3 0.08333333      2 0.4722222 0.7500000 0.1145768\n",
      "4 0.04800000      4 0.3055556 0.6111111 0.1089012\n",
      "\n",
      "Variable importance\n",
      "pcar cgdp popd \n",
      "  47   33   19 \n",
      "\n",
      "Node number 1: 73 observations,    complexity param=0.3888889\n",
      "  predicted class=1  expected loss=0.4931507  P(node) =1\n",
      "    class counts:    37    14    22\n",
      "   probabilities: 0.507 0.192 0.301 \n",
      "  left son=2 (49 obs) right son=3 (24 obs)\n",
      "  Primary splits:\n",
      "      pcar < 12.4         to the left,  improve=12.198510, (0 missing)\n",
      "      cgdp < 109724700000 to the left,  improve= 4.938771, (0 missing)\n",
      "      popd < 104.1462     to the right, improve= 4.453246, (0 missing)\n",
      "      prec < 719.5        to the right, improve= 3.300554, (0 missing)\n",
      "      tpop < 102537800    to the right, improve= 3.195576, (0 missing)\n",
      "\n",
      "Node number 2: 49 observations,    complexity param=0.08333333\n",
      "  predicted class=1  expected loss=0.2653061  P(node) =0.6712329\n",
      "    class counts:    36     6     7\n",
      "   probabilities: 0.735 0.122 0.143 \n",
      "  left son=4 (41 obs) right son=5 (8 obs)\n",
      "  Primary splits:\n",
      "      cgdp < 161699100000 to the left,  improve=5.432180, (0 missing)\n",
      "      popd < 250.2979     to the left,  improve=4.206070, (0 missing)\n",
      "      tpop < 89804240     to the left,  improve=3.718766, (0 missing)\n",
      "      boat < 0.95         to the left,  improve=2.530612, (0 missing)\n",
      "      pcar < 8.1          to the left,  improve=1.987755, (0 missing)\n",
      "\n",
      "Node number 3: 24 observations,    complexity param=0.1388889\n",
      "  predicted class=3  expected loss=0.375  P(node) =0.3287671\n",
      "    class counts:     1     8    15\n",
      "   probabilities: 0.042 0.333 0.625 \n",
      "  left son=6 (7 obs) right son=7 (17 obs)\n",
      "  Primary splits:\n",
      "      popd < 104.1462     to the right, improve=5.025910, (0 missing)\n",
      "      bicy < 3.1          to the left,  improve=2.869048, (0 missing)\n",
      "      prec < 579          to the right, improve=2.867716, (0 missing)\n",
      "      land < 125340       to the left,  improve=2.005556, (0 missing)\n",
      "      mcyc < 6.6          to the right, improve=2.000583, (0 missing)\n",
      "\n",
      "Node number 4: 41 observations\n",
      "  predicted class=1  expected loss=0.1463415  P(node) =0.5616438\n",
      "    class counts:    35     2     4\n",
      "   probabilities: 0.854 0.049 0.098 \n",
      "\n",
      "Node number 5: 8 observations,    complexity param=0.08333333\n",
      "  predicted class=2  expected loss=0.5  P(node) =0.109589\n",
      "    class counts:     1     4     3\n",
      "   probabilities: 0.125 0.500 0.375 \n",
      "  left son=10 (5 obs) right son=11 (3 obs)\n",
      "  Primary splits:\n",
      "      cgdp < 2.61876e+11  to the right, improve=3.150000, (0 missing)\n",
      "      tpop < 102537800    to the right, improve=3.150000, (0 missing)\n",
      "      popd < 332.9068     to the right, improve=1.950000, (0 missing)\n",
      "      bicy < 18.5         to the right, improve=1.816667, (0 missing)\n",
      "      land < 304120       to the left,  improve=1.083333, (0 missing)\n",
      "\n",
      "Node number 6: 7 observations\n",
      "  predicted class=2  expected loss=0.1428571  P(node) =0.09589041\n",
      "    class counts:     0     6     1\n",
      "   probabilities: 0.000 0.857 0.143 \n",
      "\n",
      "Node number 7: 17 observations\n",
      "  predicted class=3  expected loss=0.1764706  P(node) =0.2328767\n",
      "    class counts:     1     2    14\n",
      "   probabilities: 0.059 0.118 0.824 \n",
      "\n",
      "Node number 10: 5 observations\n",
      "  predicted class=2  expected loss=0.2  P(node) =0.06849315\n",
      "    class counts:     1     4     0\n",
      "   probabilities: 0.200 0.800 0.000 \n",
      "\n",
      "Node number 11: 3 observations\n",
      "  predicted class=3  expected loss=0  P(node) =0.04109589\n",
      "    class counts:     0     0     3\n",
      "   probabilities: 0.000 0.000 1.000 \n",
      "\n"
     ]
    },
    {
     "data": {
      "image/png": "[encoded data removed]",
      "text/plain": [
       "plot without title"
      ]
     },
     "metadata": {
      "image/png": {
       "height": 420,
       "width": 420
      }
     },
     "output_type": "display_data"
    }
   ],
   "source": [
    "#Interatively prune the tree\n",
    "tree.pru <- prune(tree.fwa, cp=0.048) # interactively trim the tree\n",
    "prp(tree.pru) # display the new tree\n",
    "summary(tree.pru)"
   ]
  },
  {
   "cell_type": "markdown",
   "metadata": {},
   "source": [
    "http://www.milbo.org/rpart-plot/prp.pdf\n",
    "http://www.di.fc.ul.pt/~jpn/r/tree/tree.html"
   ]
  },
  {
   "cell_type": "code",
   "execution_count": 94,
   "metadata": {},
   "outputs": [
    {
     "data": {
      "text/plain": [
       "\n",
       "Classification tree:\n",
       "tree(formula = clusters ~ . - Country, data = df.scale)\n",
       "Variables actually used in tree construction:\n",
       "[1] \"pcar\" \"cgdp\" \"land\" \"boat\" \"bicy\" \"popd\" \"prec\"\n",
       "Number of terminal nodes:  8 \n",
       "Residual mean deviance:  0.8264 = 53.72 / 65 \n",
       "Misclassification error rate: 0.1644 = 12 / 73 "
      ]
     },
     "metadata": {},
     "output_type": "display_data"
    },
    {
     "data": {
      "image/png": "[encoded data removed]",
      "text/plain": [
       "plot without title"
      ]
     },
     "metadata": {
      "image/png": {
       "height": 420,
       "width": 420
      }
     },
     "output_type": "display_data"
    }
   ],
   "source": [
    "tree.wa = tree(clusters ~ . - Country  , data = df.scale)\n",
    "summary(tree.wa) \n",
    "plot(tree.wa)\n",
    "text(tree.wa, pretty = 0) "
   ]
  },
  {
   "cell_type": "code",
   "execution_count": 108,
   "metadata": {},
   "outputs": [
    {
     "data": {
      "text/plain": [
       "\n",
       "Classification tree:\n",
       "tree(formula = clusters ~ . - Country, data = df.scale, mindev = 0.01)\n",
       "Variables actually used in tree construction:\n",
       "[1] \"pcar\" \"cgdp\" \"land\" \"boat\" \"bicy\" \"popd\" \"prec\"\n",
       "Number of terminal nodes:  8 \n",
       "Residual mean deviance:  0.8264 = 53.72 / 65 \n",
       "Misclassification error rate: 0.1644 = 12 / 73 "
      ]
     },
     "metadata": {},
     "output_type": "display_data"
    },
    {
     "data": {
      "image/png": "[encoded data removed]",
      "text/plain": [
       "plot without title"
      ]
     },
     "metadata": {
      "image/png": {
       "height": 420,
       "width": 420
      }
     },
     "output_type": "display_data"
    }
   ],
   "source": [
    "tree.wa = tree(clusters ~ . - Country  , data = df.scale, mindev=0.01)\n",
    "summary(tree.wa) \n",
    "plot(tree.wa)\n",
    "text(tree.wa, pretty = 0) "
   ]
  },
  {
   "cell_type": "code",
   "execution_count": 109,
   "metadata": {},
   "outputs": [
    {
     "data": {
      "text/html": [
       "<table class=\"dataframe\">\n",
       "<caption>A matrix: 6 × 3 of type dbl</caption>\n",
       "<thead>\n",
       "\t<tr><th></th><th scope=col>1</th><th scope=col>2</th><th scope=col>3</th></tr>\n",
       "</thead>\n",
       "<tbody>\n",
       "\t<tr><th scope=row>1</th><td>1.000</td><td>0.0000000</td><td>0.0000000</td></tr>\n",
       "\t<tr><th scope=row>2</th><td>0.000</td><td>0.8571429</td><td>0.1428571</td></tr>\n",
       "\t<tr><th scope=row>3</th><td>1.000</td><td>0.0000000</td><td>0.0000000</td></tr>\n",
       "\t<tr><th scope=row>4</th><td>0.000</td><td>0.0000000</td><td>1.0000000</td></tr>\n",
       "\t<tr><th scope=row>5</th><td>0.000</td><td>0.8571429</td><td>0.1428571</td></tr>\n",
       "\t<tr><th scope=row>6</th><td>0.125</td><td>0.5000000</td><td>0.3750000</td></tr>\n",
       "</tbody>\n",
       "</table>\n"
      ],
      "text/latex": [
       "A matrix: 6 × 3 of type dbl\n",
       "\\begin{tabular}{r|lll}\n",
       "  & 1 & 2 & 3\\\\\n",
       "\\hline\n",
       "\t1 & 1.000 & 0.0000000 & 0.0000000\\\\\n",
       "\t2 & 0.000 & 0.8571429 & 0.1428571\\\\\n",
       "\t3 & 1.000 & 0.0000000 & 0.0000000\\\\\n",
       "\t4 & 0.000 & 0.0000000 & 1.0000000\\\\\n",
       "\t5 & 0.000 & 0.8571429 & 0.1428571\\\\\n",
       "\t6 & 0.125 & 0.5000000 & 0.3750000\\\\\n",
       "\\end{tabular}\n"
      ],
      "text/markdown": [
       "\n",
       "A matrix: 6 × 3 of type dbl\n",
       "\n",
       "| <!--/--> | 1 | 2 | 3 |\n",
       "|---|---|---|---|\n",
       "| 1 | 1.000 | 0.0000000 | 0.0000000 |\n",
       "| 2 | 0.000 | 0.8571429 | 0.1428571 |\n",
       "| 3 | 1.000 | 0.0000000 | 0.0000000 |\n",
       "| 4 | 0.000 | 0.0000000 | 1.0000000 |\n",
       "| 5 | 0.000 | 0.8571429 | 0.1428571 |\n",
       "| 6 | 0.125 | 0.5000000 | 0.3750000 |\n",
       "\n"
      ],
      "text/plain": [
       "  1     2         3        \n",
       "1 1.000 0.0000000 0.0000000\n",
       "2 0.000 0.8571429 0.1428571\n",
       "3 1.000 0.0000000 0.0000000\n",
       "4 0.000 0.0000000 1.0000000\n",
       "5 0.000 0.8571429 0.1428571\n",
       "6 0.125 0.5000000 0.3750000"
      ]
     },
     "metadata": {},
     "output_type": "display_data"
    }
   ],
   "source": [
    "# Distributional prediction\n",
    "my.prediction <- predict(tree.wa) # gives the probability for each class\n",
    "head(my.prediction)"
   ]
  },
  {
   "cell_type": "code",
   "execution_count": 104,
   "metadata": {},
   "outputs": [
    {
     "data": {
      "text/plain": [
       "                     \n",
       "prediction             1  2  3\n",
       "  Best Water Source    2  3 17\n",
       "  Better Water Source  1 10  4\n",
       "  Worst Water Source  34  1  1"
      ]
     },
     "metadata": {},
     "output_type": "display_data"
    }
   ],
   "source": [
    "# Point prediction\n",
    "# Let's translate the probability output to categorical output\n",
    "maxidx <- function(arr) {\n",
    "    return(which(arr == max(arr)))\n",
    "}\n",
    "idx <- apply(my.prediction, c(1), maxidx)\n",
    "prediction <- c(\"Worst Water Source\", \"Better Water Source\", \"Best Water Source\")[idx]\n",
    "table(prediction, df.scale$clusters)"
   ]
  },
  {
   "cell_type": "code",
   "execution_count": 105,
   "metadata": {},
   "outputs": [
    {
     "data": {
      "image/png": "[encoded data removed]",
      "text/plain": [
       "plot without title"
      ]
     },
     "metadata": {
      "image/png": {
       "height": 420,
       "width": 420
      }
     },
     "output_type": "display_data"
    }
   ],
   "source": [
    "plot(tree.wa)\n",
    "text(tree.wa)"
   ]
  },
  {
   "cell_type": "code",
   "execution_count": 57,
   "metadata": {},
   "outputs": [
    {
     "data": {
      "image/png": "[encoded data removed]",
      "text/plain": [
       "plot without title"
      ]
     },
     "metadata": {
      "image/png": {
       "height": 420,
       "width": 420
      }
     },
     "output_type": "display_data"
    }
   ],
   "source": [
    "pru.wa <- prune.tree(tree.wa, best = 6 )\n",
    "plot(pru.wa)\n",
    "text(pru.wa, pretty = 0)"
   ]
  },
  {
   "cell_type": "markdown",
   "metadata": {},
   "source": [
    "# Random Forest"
   ]
  },
  {
   "cell_type": "code",
   "execution_count": 56,
   "metadata": {
    "scrolled": false
   },
   "outputs": [
    {
     "name": "stdout",
     "output_type": "stream",
     "text": [
      "\n",
      "Call:\n",
      " randomForest(formula = clusters ~ . - Country, data = df, ntree = 200,      mtry = 12) \n",
      "               Type of random forest: classification\n",
      "                     Number of trees: 200\n",
      "No. of variables tried at each split: 12\n",
      "\n",
      "        OOB estimate of  error rate: 35.62%\n",
      "Confusion matrix:\n",
      "   1 2  3 class.error\n",
      "1 31 2  4   0.1621622\n",
      "2  3 5  6   0.6428571\n",
      "3  6 5 11   0.5000000\n"
     ]
    },
    {
     "data": {
      "text/plain": [
       "                Length Class  Mode     \n",
       "call              5    -none- call     \n",
       "type              1    -none- character\n",
       "predicted        73    factor numeric  \n",
       "err.rate        800    -none- numeric  \n",
       "confusion        12    -none- numeric  \n",
       "votes           219    matrix numeric  \n",
       "oob.times        73    -none- numeric  \n",
       "classes           3    -none- character\n",
       "importance       12    -none- numeric  \n",
       "importanceSD      0    -none- NULL     \n",
       "localImportance   0    -none- NULL     \n",
       "proximity         0    -none- NULL     \n",
       "ntree             1    -none- numeric  \n",
       "mtry              1    -none- numeric  \n",
       "forest           14    -none- list     \n",
       "y                73    factor numeric  \n",
       "test              0    -none- NULL     \n",
       "inbag             0    -none- NULL     \n",
       "terms             3    terms  call     "
      ]
     },
     "metadata": {},
     "output_type": "display_data"
    },
    {
     "name": "stderr",
     "output_type": "stream",
     "text": [
      "Warning message in randomForest.default(m, y, ...):\n",
      "\"invalid mtry: reset to within valid range\"\n"
     ]
    },
    {
     "data": {
      "image/png": "[encoded data removed]",
      "text/plain": [
       "Plot with title \"rf.water\""
      ]
     },
     "metadata": {
      "image/png": {
       "height": 420,
       "width": 420
      }
     },
     "output_type": "display_data"
    },
    {
     "data": {
      "image/png": "[encoded data removed]"
     },
     "metadata": {
      "image/png": {
       "height": 420,
       "width": 420
      }
     },
     "output_type": "display_data"
    }
   ],
   "source": [
    "rf.water = randomForest(clusters~. -Country, data = df , ntree= 200,mtry=12)\n",
    "print(rf.water)\n",
    "\n",
    "summary(rf.water)\n",
    "\n",
    "#importance <- importance(rf.water, sort = TRUE)\n",
    "#importance\n",
    "\n",
    "# create an importance plot\n",
    "varImpPlot(rf.water, sort=TRUE, n.var=min(30, nrow(rf.water$importance)),\n",
    "           type=NULL, class=NULL, scale=TRUE )\n",
    "#plot\n",
    "plot(randomForest(clusters~. -Country, data = df ,ntree=200,  keep.forest=FALSE, mtry=13) )"
   ]
  },
  {
   "cell_type": "markdown",
   "metadata": {},
   "source": [
    "The MeanDecreaseGini measures the Gini importance = how important the features are over all splits done in the tree/forest - whereas for each individual split the Gini importance indicates how much the Gini criterion = \"unequality/heterogeneity\" was reduced using this split.\n",
    "mori, upop, pcar popd, mcyc important and contributed most to obtaining such splits, so they are considered more important."
   ]
  },
  {
   "cell_type": "markdown",
   "metadata": {},
   "source": [
    "# MULTINOMIAL LOGISTIC REGRESSION"
   ]
  },
  {
   "cell_type": "code",
   "execution_count": 102,
   "metadata": {
    "scrolled": false
   },
   "outputs": [
    {
     "data": {
      "text/html": [
       "<table class=\"dataframe\">\n",
       "<caption>A data.frame: 6 × 15</caption>\n",
       "<thead>\n",
       "\t<tr><th></th><th scope=col>Country</th><th scope=col>bicy</th><th scope=col>cart</th><th scope=col>mcyc</th><th scope=col>pcar</th><th scope=col>boat</th><th scope=col>wigc</th><th scope=col>clusters</th><th scope=col>cgdp</th><th scope=col>tpop</th><th scope=col>upop</th><th scope=col>popd</th><th scope=col>land</th><th scope=col>rifr</th><th scope=col>prec</th></tr>\n",
       "\t<tr><th></th><th scope=col>&lt;chr&gt;</th><th scope=col>&lt;dbl&gt;</th><th scope=col>&lt;dbl&gt;</th><th scope=col>&lt;dbl&gt;</th><th scope=col>&lt;dbl&gt;</th><th scope=col>&lt;dbl&gt;</th><th scope=col>&lt;dbl&gt;</th><th scope=col>&lt;fct&gt;</th><th scope=col>&lt;dbl&gt;</th><th scope=col>&lt;dbl&gt;</th><th scope=col>&lt;dbl&gt;</th><th scope=col>&lt;dbl&gt;</th><th scope=col>&lt;dbl&gt;</th><th scope=col>&lt;dbl&gt;</th><th scope=col>&lt;dbl&gt;</th></tr>\n",
       "</thead>\n",
       "<tbody>\n",
       "\t<tr><th scope=row>1</th><td>Afghanistan</td><td>30.0</td><td>5.8</td><td>35.2</td><td>11.8</td><td>0.0</td><td>0.1</td><td>1</td><td> 18353881130</td><td> 37172386</td><td>25.495</td><td>  56.93776</td><td> 652860</td><td>1299.0269</td><td> 327</td></tr>\n",
       "\t<tr><th scope=row>2</th><td>Albania    </td><td>26.4</td><td>3.2</td><td> 9.6</td><td>37.0</td><td>0.7</td><td>0.1</td><td>2</td><td> 15147020535</td><td>  2866376</td><td>60.319</td><td> 104.61226</td><td>  27400</td><td>9361.5460</td><td>1485</td></tr>\n",
       "\t<tr><th scope=row>3</th><td>Angola     </td><td> 4.6</td><td>1.3</td><td>17.8</td><td>10.9</td><td>0.4</td><td>0.3</td><td>1</td><td>101353230785</td><td> 30809762</td><td>65.514</td><td>  24.71305</td><td>1246700</td><td>4963.6533</td><td>1010</td></tr>\n",
       "\t<tr><th scope=row>4</th><td>Armenia    </td><td> 8.6</td><td>0.4</td><td> 0.2</td><td>39.2</td><td>0.3</td><td>0.1</td><td>3</td><td> 12457941907</td><td>  2951776</td><td>63.149</td><td> 103.68022</td><td>  28470</td><td>2329.1833</td><td> 562</td></tr>\n",
       "\t<tr><th scope=row>5</th><td>Azerbaijan </td><td> 6.9</td><td>3.3</td><td> 1.1</td><td>20.4</td><td>0.1</td><td>0.0</td><td>3</td><td> 47112941176</td><td>  9939771</td><td>55.680</td><td> 120.23432</td><td>  82670</td><td> 823.5207</td><td> 447</td></tr>\n",
       "\t<tr><th scope=row>6</th><td>Bangladesh </td><td>25.1</td><td>0.0</td><td> 6.4</td><td> 0.8</td><td>0.0</td><td>0.3</td><td>2</td><td>274039092455</td><td>161356039</td><td>36.632</td><td>1239.57931</td><td> 130170</td><td> 657.6039</td><td>2666</td></tr>\n",
       "</tbody>\n",
       "</table>\n"
      ],
      "text/latex": [
       "A data.frame: 6 × 15\n",
       "\\begin{tabular}{r|lllllllllllllll}\n",
       "  & Country & bicy & cart & mcyc & pcar & boat & wigc & clusters & cgdp & tpop & upop & popd & land & rifr & prec\\\\\n",
       "  & <chr> & <dbl> & <dbl> & <dbl> & <dbl> & <dbl> & <dbl> & <fct> & <dbl> & <dbl> & <dbl> & <dbl> & <dbl> & <dbl> & <dbl>\\\\\n",
       "\\hline\n",
       "\t1 & Afghanistan & 30.0 & 5.8 & 35.2 & 11.8 & 0.0 & 0.1 & 1 &  18353881130 &  37172386 & 25.495 &   56.93776 &  652860 & 1299.0269 &  327\\\\\n",
       "\t2 & Albania     & 26.4 & 3.2 &  9.6 & 37.0 & 0.7 & 0.1 & 2 &  15147020535 &   2866376 & 60.319 &  104.61226 &   27400 & 9361.5460 & 1485\\\\\n",
       "\t3 & Angola      &  4.6 & 1.3 & 17.8 & 10.9 & 0.4 & 0.3 & 1 & 101353230785 &  30809762 & 65.514 &   24.71305 & 1246700 & 4963.6533 & 1010\\\\\n",
       "\t4 & Armenia     &  8.6 & 0.4 &  0.2 & 39.2 & 0.3 & 0.1 & 3 &  12457941907 &   2951776 & 63.149 &  103.68022 &   28470 & 2329.1833 &  562\\\\\n",
       "\t5 & Azerbaijan  &  6.9 & 3.3 &  1.1 & 20.4 & 0.1 & 0.0 & 3 &  47112941176 &   9939771 & 55.680 &  120.23432 &   82670 &  823.5207 &  447\\\\\n",
       "\t6 & Bangladesh  & 25.1 & 0.0 &  6.4 &  0.8 & 0.0 & 0.3 & 2 & 274039092455 & 161356039 & 36.632 & 1239.57931 &  130170 &  657.6039 & 2666\\\\\n",
       "\\end{tabular}\n"
      ],
      "text/markdown": [
       "\n",
       "A data.frame: 6 × 15\n",
       "\n",
       "| <!--/--> | Country &lt;chr&gt; | bicy &lt;dbl&gt; | cart &lt;dbl&gt; | mcyc &lt;dbl&gt; | pcar &lt;dbl&gt; | boat &lt;dbl&gt; | wigc &lt;dbl&gt; | clusters &lt;fct&gt; | cgdp &lt;dbl&gt; | tpop &lt;dbl&gt; | upop &lt;dbl&gt; | popd &lt;dbl&gt; | land &lt;dbl&gt; | rifr &lt;dbl&gt; | prec &lt;dbl&gt; |\n",
       "|---|---|---|---|---|---|---|---|---|---|---|---|---|---|---|---|\n",
       "| 1 | Afghanistan | 30.0 | 5.8 | 35.2 | 11.8 | 0.0 | 0.1 | 1 |  18353881130 |  37172386 | 25.495 |   56.93776 |  652860 | 1299.0269 |  327 |\n",
       "| 2 | Albania     | 26.4 | 3.2 |  9.6 | 37.0 | 0.7 | 0.1 | 2 |  15147020535 |   2866376 | 60.319 |  104.61226 |   27400 | 9361.5460 | 1485 |\n",
       "| 3 | Angola      |  4.6 | 1.3 | 17.8 | 10.9 | 0.4 | 0.3 | 1 | 101353230785 |  30809762 | 65.514 |   24.71305 | 1246700 | 4963.6533 | 1010 |\n",
       "| 4 | Armenia     |  8.6 | 0.4 |  0.2 | 39.2 | 0.3 | 0.1 | 3 |  12457941907 |   2951776 | 63.149 |  103.68022 |   28470 | 2329.1833 |  562 |\n",
       "| 5 | Azerbaijan  |  6.9 | 3.3 |  1.1 | 20.4 | 0.1 | 0.0 | 3 |  47112941176 |   9939771 | 55.680 |  120.23432 |   82670 |  823.5207 |  447 |\n",
       "| 6 | Bangladesh  | 25.1 | 0.0 |  6.4 |  0.8 | 0.0 | 0.3 | 2 | 274039092455 | 161356039 | 36.632 | 1239.57931 |  130170 |  657.6039 | 2666 |\n",
       "\n"
      ],
      "text/plain": [
       "  Country     bicy cart mcyc pcar boat wigc clusters cgdp         tpop     \n",
       "1 Afghanistan 30.0 5.8  35.2 11.8 0.0  0.1  1         18353881130  37172386\n",
       "2 Albania     26.4 3.2   9.6 37.0 0.7  0.1  2         15147020535   2866376\n",
       "3 Angola       4.6 1.3  17.8 10.9 0.4  0.3  1        101353230785  30809762\n",
       "4 Armenia      8.6 0.4   0.2 39.2 0.3  0.1  3         12457941907   2951776\n",
       "5 Azerbaijan   6.9 3.3   1.1 20.4 0.1  0.0  3         47112941176   9939771\n",
       "6 Bangladesh  25.1 0.0   6.4  0.8 0.0  0.3  2        274039092455 161356039\n",
       "  upop   popd       land    rifr      prec\n",
       "1 25.495   56.93776  652860 1299.0269  327\n",
       "2 60.319  104.61226   27400 9361.5460 1485\n",
       "3 65.514   24.71305 1246700 4963.6533 1010\n",
       "4 63.149  103.68022   28470 2329.1833  562\n",
       "5 55.680  120.23432   82670  823.5207  447\n",
       "6 36.632 1239.57931  130170  657.6039 2666"
      ]
     },
     "metadata": {},
     "output_type": "display_data"
    },
    {
     "data": {
      "text/plain": [
       "\n",
       " 1  2  3 \n",
       "37 14 22 "
      ]
     },
     "metadata": {},
     "output_type": "display_data"
    }
   ],
   "source": [
    "head(df)\n",
    "with(df, table( df[,8]), )\n"
   ]
  },
  {
   "cell_type": "code",
   "execution_count": 103,
   "metadata": {
    "scrolled": false
   },
   "outputs": [
    {
     "data": {
      "text/html": [
       "<table class=\"dataframe\">\n",
       "<caption>A data.frame: 6 × 15</caption>\n",
       "<thead>\n",
       "\t<tr><th></th><th scope=col>Country</th><th scope=col>bicy</th><th scope=col>cart</th><th scope=col>mcyc</th><th scope=col>pcar</th><th scope=col>boat</th><th scope=col>wigc</th><th scope=col>clusters</th><th scope=col>cgdp</th><th scope=col>tpop</th><th scope=col>upop</th><th scope=col>popd</th><th scope=col>land</th><th scope=col>rifr</th><th scope=col>prec</th></tr>\n",
       "\t<tr><th></th><th scope=col>&lt;chr&gt;</th><th scope=col>&lt;dbl&gt;</th><th scope=col>&lt;dbl&gt;</th><th scope=col>&lt;dbl&gt;</th><th scope=col>&lt;dbl&gt;</th><th scope=col>&lt;dbl&gt;</th><th scope=col>&lt;dbl&gt;</th><th scope=col>&lt;fct&gt;</th><th scope=col>&lt;dbl&gt;</th><th scope=col>&lt;dbl&gt;</th><th scope=col>&lt;dbl&gt;</th><th scope=col>&lt;dbl&gt;</th><th scope=col>&lt;dbl&gt;</th><th scope=col>&lt;dbl&gt;</th><th scope=col>&lt;dbl&gt;</th></tr>\n",
       "</thead>\n",
       "<tbody>\n",
       "\t<tr><th scope=row>1</th><td>Afghanistan</td><td>30.0</td><td>5.8</td><td>35.2</td><td>11.8</td><td>0.0</td><td>0.1</td><td>1</td><td> 18353881130</td><td> 37172386</td><td>25.495</td><td>  56.93776</td><td> 652860</td><td>1299.0269</td><td> 327</td></tr>\n",
       "\t<tr><th scope=row>2</th><td>Albania    </td><td>26.4</td><td>3.2</td><td> 9.6</td><td>37.0</td><td>0.7</td><td>0.1</td><td>2</td><td> 15147020535</td><td>  2866376</td><td>60.319</td><td> 104.61226</td><td>  27400</td><td>9361.5460</td><td>1485</td></tr>\n",
       "\t<tr><th scope=row>3</th><td>Angola     </td><td> 4.6</td><td>1.3</td><td>17.8</td><td>10.9</td><td>0.4</td><td>0.3</td><td>1</td><td>101353230785</td><td> 30809762</td><td>65.514</td><td>  24.71305</td><td>1246700</td><td>4963.6533</td><td>1010</td></tr>\n",
       "\t<tr><th scope=row>4</th><td>Armenia    </td><td> 8.6</td><td>0.4</td><td> 0.2</td><td>39.2</td><td>0.3</td><td>0.1</td><td>3</td><td> 12457941907</td><td>  2951776</td><td>63.149</td><td> 103.68022</td><td>  28470</td><td>2329.1833</td><td> 562</td></tr>\n",
       "\t<tr><th scope=row>5</th><td>Azerbaijan </td><td> 6.9</td><td>3.3</td><td> 1.1</td><td>20.4</td><td>0.1</td><td>0.0</td><td>3</td><td> 47112941176</td><td>  9939771</td><td>55.680</td><td> 120.23432</td><td>  82670</td><td> 823.5207</td><td> 447</td></tr>\n",
       "\t<tr><th scope=row>6</th><td>Bangladesh </td><td>25.1</td><td>0.0</td><td> 6.4</td><td> 0.8</td><td>0.0</td><td>0.3</td><td>2</td><td>274039092455</td><td>161356039</td><td>36.632</td><td>1239.57931</td><td> 130170</td><td> 657.6039</td><td>2666</td></tr>\n",
       "</tbody>\n",
       "</table>\n"
      ],
      "text/latex": [
       "A data.frame: 6 × 15\n",
       "\\begin{tabular}{r|lllllllllllllll}\n",
       "  & Country & bicy & cart & mcyc & pcar & boat & wigc & clusters & cgdp & tpop & upop & popd & land & rifr & prec\\\\\n",
       "  & <chr> & <dbl> & <dbl> & <dbl> & <dbl> & <dbl> & <dbl> & <fct> & <dbl> & <dbl> & <dbl> & <dbl> & <dbl> & <dbl> & <dbl>\\\\\n",
       "\\hline\n",
       "\t1 & Afghanistan & 30.0 & 5.8 & 35.2 & 11.8 & 0.0 & 0.1 & 1 &  18353881130 &  37172386 & 25.495 &   56.93776 &  652860 & 1299.0269 &  327\\\\\n",
       "\t2 & Albania     & 26.4 & 3.2 &  9.6 & 37.0 & 0.7 & 0.1 & 2 &  15147020535 &   2866376 & 60.319 &  104.61226 &   27400 & 9361.5460 & 1485\\\\\n",
       "\t3 & Angola      &  4.6 & 1.3 & 17.8 & 10.9 & 0.4 & 0.3 & 1 & 101353230785 &  30809762 & 65.514 &   24.71305 & 1246700 & 4963.6533 & 1010\\\\\n",
       "\t4 & Armenia     &  8.6 & 0.4 &  0.2 & 39.2 & 0.3 & 0.1 & 3 &  12457941907 &   2951776 & 63.149 &  103.68022 &   28470 & 2329.1833 &  562\\\\\n",
       "\t5 & Azerbaijan  &  6.9 & 3.3 &  1.1 & 20.4 & 0.1 & 0.0 & 3 &  47112941176 &   9939771 & 55.680 &  120.23432 &   82670 &  823.5207 &  447\\\\\n",
       "\t6 & Bangladesh  & 25.1 & 0.0 &  6.4 &  0.8 & 0.0 & 0.3 & 2 & 274039092455 & 161356039 & 36.632 & 1239.57931 &  130170 &  657.6039 & 2666\\\\\n",
       "\\end{tabular}\n"
      ],
      "text/markdown": [
       "\n",
       "A data.frame: 6 × 15\n",
       "\n",
       "| <!--/--> | Country &lt;chr&gt; | bicy &lt;dbl&gt; | cart &lt;dbl&gt; | mcyc &lt;dbl&gt; | pcar &lt;dbl&gt; | boat &lt;dbl&gt; | wigc &lt;dbl&gt; | clusters &lt;fct&gt; | cgdp &lt;dbl&gt; | tpop &lt;dbl&gt; | upop &lt;dbl&gt; | popd &lt;dbl&gt; | land &lt;dbl&gt; | rifr &lt;dbl&gt; | prec &lt;dbl&gt; |\n",
       "|---|---|---|---|---|---|---|---|---|---|---|---|---|---|---|---|\n",
       "| 1 | Afghanistan | 30.0 | 5.8 | 35.2 | 11.8 | 0.0 | 0.1 | 1 |  18353881130 |  37172386 | 25.495 |   56.93776 |  652860 | 1299.0269 |  327 |\n",
       "| 2 | Albania     | 26.4 | 3.2 |  9.6 | 37.0 | 0.7 | 0.1 | 2 |  15147020535 |   2866376 | 60.319 |  104.61226 |   27400 | 9361.5460 | 1485 |\n",
       "| 3 | Angola      |  4.6 | 1.3 | 17.8 | 10.9 | 0.4 | 0.3 | 1 | 101353230785 |  30809762 | 65.514 |   24.71305 | 1246700 | 4963.6533 | 1010 |\n",
       "| 4 | Armenia     |  8.6 | 0.4 |  0.2 | 39.2 | 0.3 | 0.1 | 3 |  12457941907 |   2951776 | 63.149 |  103.68022 |   28470 | 2329.1833 |  562 |\n",
       "| 5 | Azerbaijan  |  6.9 | 3.3 |  1.1 | 20.4 | 0.1 | 0.0 | 3 |  47112941176 |   9939771 | 55.680 |  120.23432 |   82670 |  823.5207 |  447 |\n",
       "| 6 | Bangladesh  | 25.1 | 0.0 |  6.4 |  0.8 | 0.0 | 0.3 | 2 | 274039092455 | 161356039 | 36.632 | 1239.57931 |  130170 |  657.6039 | 2666 |\n",
       "\n"
      ],
      "text/plain": [
       "  Country     bicy cart mcyc pcar boat wigc clusters cgdp         tpop     \n",
       "1 Afghanistan 30.0 5.8  35.2 11.8 0.0  0.1  1         18353881130  37172386\n",
       "2 Albania     26.4 3.2   9.6 37.0 0.7  0.1  2         15147020535   2866376\n",
       "3 Angola       4.6 1.3  17.8 10.9 0.4  0.3  1        101353230785  30809762\n",
       "4 Armenia      8.6 0.4   0.2 39.2 0.3  0.1  3         12457941907   2951776\n",
       "5 Azerbaijan   6.9 3.3   1.1 20.4 0.1  0.0  3         47112941176   9939771\n",
       "6 Bangladesh  25.1 0.0   6.4  0.8 0.0  0.3  2        274039092455 161356039\n",
       "  upop   popd       land    rifr      prec\n",
       "1 25.495   56.93776  652860 1299.0269  327\n",
       "2 60.319  104.61226   27400 9361.5460 1485\n",
       "3 65.514   24.71305 1246700 4963.6533 1010\n",
       "4 63.149  103.68022   28470 2329.1833  562\n",
       "5 55.680  120.23432   82670  823.5207  447\n",
       "6 36.632 1239.57931  130170  657.6039 2666"
      ]
     },
     "metadata": {},
     "output_type": "display_data"
    },
    {
     "name": "stdout",
     "output_type": "stream",
     "text": [
      "# weights:  45 (28 variable)\n",
      "initial  value 80.198697 \n",
      "iter  10 value 58.061005\n",
      "iter  20 value 50.152344\n",
      "iter  30 value 47.266801\n",
      "iter  40 value 36.751882\n",
      "iter  50 value 14.121753\n",
      "iter  60 value 10.313087\n",
      "iter  70 value 9.665696\n",
      "iter  80 value 9.404948\n",
      "iter  90 value 9.383250\n",
      "iter 100 value 9.377675\n",
      "final  value 9.377675 \n",
      "stopped after 100 iterations\n"
     ]
    },
    {
     "data": {
      "text/plain": [
       "Call:\n",
       "nnet::multinom(formula = clusters ~ . - Country, data = df)\n",
       "\n",
       "Coefficients:\n",
       "  (Intercept)        bicy       cart      mcyc     pcar       boat       wigc\n",
       "2   -65.87625  0.74372506 -1.6491019 0.8508328 2.011537 -20.004327   2.095217\n",
       "3    -5.50672 -0.05525467  0.0101058 0.1370160 0.393473   3.561614 -17.074510\n",
       "          cgdp          tpop        upop        popd          land         rifr\n",
       "2 1.829884e-10  5.021029e-07 -0.28518550 0.043695759 -1.730291e-04 0.0005869496\n",
       "3 7.084605e-11 -1.439000e-07  0.06959758 0.003163357 -3.080163e-06 0.0001031240\n",
       "          prec\n",
       "2  0.014501776\n",
       "3 -0.002122235\n",
       "\n",
       "Std. Errors:\n",
       "   (Intercept)         bicy         cart         mcyc         pcar         boat\n",
       "2 1.143801e-22 1.498158e-21 2.239588e-22 1.855283e-21 2.732538e-21 3.115736e-23\n",
       "3 3.227843e-23 5.011871e-22 2.215412e-22 7.218089e-22 1.760728e-21 2.258123e-23\n",
       "          wigc         cgdp         tpop         upop         popd         land\n",
       "2 2.330818e-23 2.842053e-11 1.138901e-14 6.554658e-21 1.937502e-20 5.801226e-17\n",
       "3 9.476302e-24 6.068765e-12 3.556114e-15 2.031376e-21 3.270034e-21 4.035775e-17\n",
       "          rifr         prec\n",
       "2 2.405825e-19 9.950062e-20\n",
       "3 2.490882e-19 3.013474e-20\n",
       "\n",
       "Residual Deviance: 18.75535 \n",
       "AIC: 74.75535 "
      ]
     },
     "metadata": {},
     "output_type": "display_data"
    },
    {
     "data": {
      "text/html": [
       "<table class=\"dataframe\">\n",
       "<caption>A matrix: 2 × 14 of type dbl</caption>\n",
       "<thead>\n",
       "\t<tr><th></th><th scope=col>(Intercept)</th><th scope=col>bicy</th><th scope=col>cart</th><th scope=col>mcyc</th><th scope=col>pcar</th><th scope=col>boat</th><th scope=col>wigc</th><th scope=col>cgdp</th><th scope=col>tpop</th><th scope=col>upop</th><th scope=col>popd</th><th scope=col>land</th><th scope=col>rifr</th><th scope=col>prec</th></tr>\n",
       "</thead>\n",
       "<tbody>\n",
       "\t<tr><th scope=row>2</th><td>-5.759416e+23</td><td> 4.964263e+20</td><td>-7.363418e+21</td><td>4.585999e+20</td><td>7.361423e+20</td><td>-6.420419e+23</td><td> 8.989194e+22</td><td> 6.43860</td><td> 44086627</td><td>-4.350883e+19</td><td>2.255262e+18</td><td>-2.982630e+12</td><td>2.439702e+15</td><td> 1.457456e+17</td></tr>\n",
       "\t<tr><th scope=row>3</th><td>-1.706006e+23</td><td>-1.102476e+20</td><td> 4.561587e+19</td><td>1.898230e+20</td><td>2.234718e+20</td><td> 1.577245e+23</td><td>-1.801811e+24</td><td>11.67388</td><td>-40465524</td><td> 3.426130e+19</td><td>9.673772e+17</td><td>-7.632147e+10</td><td>4.140059e+14</td><td>-7.042485e+16</td></tr>\n",
       "</tbody>\n",
       "</table>\n"
      ],
      "text/latex": [
       "A matrix: 2 × 14 of type dbl\n",
       "\\begin{tabular}{r|llllllllllllll}\n",
       "  & (Intercept) & bicy & cart & mcyc & pcar & boat & wigc & cgdp & tpop & upop & popd & land & rifr & prec\\\\\n",
       "\\hline\n",
       "\t2 & -5.759416e+23 &  4.964263e+20 & -7.363418e+21 & 4.585999e+20 & 7.361423e+20 & -6.420419e+23 &  8.989194e+22 &  6.43860 &  44086627 & -4.350883e+19 & 2.255262e+18 & -2.982630e+12 & 2.439702e+15 &  1.457456e+17\\\\\n",
       "\t3 & -1.706006e+23 & -1.102476e+20 &  4.561587e+19 & 1.898230e+20 & 2.234718e+20 &  1.577245e+23 & -1.801811e+24 & 11.67388 & -40465524 &  3.426130e+19 & 9.673772e+17 & -7.632147e+10 & 4.140059e+14 & -7.042485e+16\\\\\n",
       "\\end{tabular}\n"
      ],
      "text/markdown": [
       "\n",
       "A matrix: 2 × 14 of type dbl\n",
       "\n",
       "| <!--/--> | (Intercept) | bicy | cart | mcyc | pcar | boat | wigc | cgdp | tpop | upop | popd | land | rifr | prec |\n",
       "|---|---|---|---|---|---|---|---|---|---|---|---|---|---|---|\n",
       "| 2 | -5.759416e+23 |  4.964263e+20 | -7.363418e+21 | 4.585999e+20 | 7.361423e+20 | -6.420419e+23 |  8.989194e+22 |  6.43860 |  44086627 | -4.350883e+19 | 2.255262e+18 | -2.982630e+12 | 2.439702e+15 |  1.457456e+17 |\n",
       "| 3 | -1.706006e+23 | -1.102476e+20 |  4.561587e+19 | 1.898230e+20 | 2.234718e+20 |  1.577245e+23 | -1.801811e+24 | 11.67388 | -40465524 |  3.426130e+19 | 9.673772e+17 | -7.632147e+10 | 4.140059e+14 | -7.042485e+16 |\n",
       "\n"
      ],
      "text/plain": [
       "  (Intercept)   bicy          cart          mcyc         pcar        \n",
       "2 -5.759416e+23  4.964263e+20 -7.363418e+21 4.585999e+20 7.361423e+20\n",
       "3 -1.706006e+23 -1.102476e+20  4.561587e+19 1.898230e+20 2.234718e+20\n",
       "  boat          wigc          cgdp     tpop      upop          popd        \n",
       "2 -6.420419e+23  8.989194e+22  6.43860  44086627 -4.350883e+19 2.255262e+18\n",
       "3  1.577245e+23 -1.801811e+24 11.67388 -40465524  3.426130e+19 9.673772e+17\n",
       "  land          rifr         prec         \n",
       "2 -2.982630e+12 2.439702e+15  1.457456e+17\n",
       "3 -7.632147e+10 4.140059e+14 -7.042485e+16"
      ]
     },
     "metadata": {},
     "output_type": "display_data"
    },
    {
     "data": {
      "text/html": [
       "<table class=\"dataframe\">\n",
       "<caption>A matrix: 2 × 14 of type dbl</caption>\n",
       "<thead>\n",
       "\t<tr><th></th><th scope=col>(Intercept)</th><th scope=col>bicy</th><th scope=col>cart</th><th scope=col>mcyc</th><th scope=col>pcar</th><th scope=col>boat</th><th scope=col>wigc</th><th scope=col>cgdp</th><th scope=col>tpop</th><th scope=col>upop</th><th scope=col>popd</th><th scope=col>land</th><th scope=col>rifr</th><th scope=col>prec</th></tr>\n",
       "</thead>\n",
       "<tbody>\n",
       "\t<tr><th scope=row>2</th><td>0</td><td>0</td><td>0</td><td>0</td><td>0</td><td>0</td><td>0</td><td>1.205804e-10</td><td>0</td><td>0</td><td>0</td><td>0</td><td>0</td><td>0</td></tr>\n",
       "\t<tr><th scope=row>3</th><td>0</td><td>0</td><td>0</td><td>0</td><td>0</td><td>0</td><td>0</td><td>0.000000e+00</td><td>0</td><td>0</td><td>0</td><td>0</td><td>0</td><td>0</td></tr>\n",
       "</tbody>\n",
       "</table>\n"
      ],
      "text/latex": [
       "A matrix: 2 × 14 of type dbl\n",
       "\\begin{tabular}{r|llllllllllllll}\n",
       "  & (Intercept) & bicy & cart & mcyc & pcar & boat & wigc & cgdp & tpop & upop & popd & land & rifr & prec\\\\\n",
       "\\hline\n",
       "\t2 & 0 & 0 & 0 & 0 & 0 & 0 & 0 & 1.205804e-10 & 0 & 0 & 0 & 0 & 0 & 0\\\\\n",
       "\t3 & 0 & 0 & 0 & 0 & 0 & 0 & 0 & 0.000000e+00 & 0 & 0 & 0 & 0 & 0 & 0\\\\\n",
       "\\end{tabular}\n"
      ],
      "text/markdown": [
       "\n",
       "A matrix: 2 × 14 of type dbl\n",
       "\n",
       "| <!--/--> | (Intercept) | bicy | cart | mcyc | pcar | boat | wigc | cgdp | tpop | upop | popd | land | rifr | prec |\n",
       "|---|---|---|---|---|---|---|---|---|---|---|---|---|---|---|\n",
       "| 2 | 0 | 0 | 0 | 0 | 0 | 0 | 0 | 1.205804e-10 | 0 | 0 | 0 | 0 | 0 | 0 |\n",
       "| 3 | 0 | 0 | 0 | 0 | 0 | 0 | 0 | 0.000000e+00 | 0 | 0 | 0 | 0 | 0 | 0 |\n",
       "\n"
      ],
      "text/plain": [
       "  (Intercept) bicy cart mcyc pcar boat wigc cgdp         tpop upop popd land\n",
       "2 0           0    0    0    0    0    0    1.205804e-10 0    0    0    0   \n",
       "3 0           0    0    0    0    0    0    0.000000e+00 0    0    0    0   \n",
       "  rifr prec\n",
       "2 0    0   \n",
       "3 0    0   "
      ]
     },
     "metadata": {},
     "output_type": "display_data"
    },
    {
     "data": {
      "text/html": [
       "<table class=\"dataframe\">\n",
       "<caption>A matrix: 2 × 14 of type dbl</caption>\n",
       "<thead>\n",
       "\t<tr><th></th><th scope=col>(Intercept)</th><th scope=col>bicy</th><th scope=col>cart</th><th scope=col>mcyc</th><th scope=col>pcar</th><th scope=col>boat</th><th scope=col>wigc</th><th scope=col>cgdp</th><th scope=col>tpop</th><th scope=col>upop</th><th scope=col>popd</th><th scope=col>land</th><th scope=col>rifr</th><th scope=col>prec</th></tr>\n",
       "</thead>\n",
       "<tbody>\n",
       "\t<tr><th scope=row>2</th><td>2.456451e-29</td><td>2.1037576</td><td>0.1922225</td><td>2.341596</td><td>7.474795</td><td>2.052255e-09</td><td>8.127205e+00</td><td>1</td><td>1.0000005</td><td>0.7518748</td><td>1.044664</td><td>0.9998270</td><td>1.000587</td><td>1.014607</td></tr>\n",
       "\t<tr><th scope=row>3</th><td>4.059399e-03</td><td>0.9462441</td><td>1.0101570</td><td>1.146846</td><td>1.482119</td><td>3.521999e+01</td><td>3.842685e-08</td><td>1</td><td>0.9999999</td><td>1.0720767</td><td>1.003168</td><td>0.9999969</td><td>1.000103</td><td>0.997880</td></tr>\n",
       "</tbody>\n",
       "</table>\n"
      ],
      "text/latex": [
       "A matrix: 2 × 14 of type dbl\n",
       "\\begin{tabular}{r|llllllllllllll}\n",
       "  & (Intercept) & bicy & cart & mcyc & pcar & boat & wigc & cgdp & tpop & upop & popd & land & rifr & prec\\\\\n",
       "\\hline\n",
       "\t2 & 2.456451e-29 & 2.1037576 & 0.1922225 & 2.341596 & 7.474795 & 2.052255e-09 & 8.127205e+00 & 1 & 1.0000005 & 0.7518748 & 1.044664 & 0.9998270 & 1.000587 & 1.014607\\\\\n",
       "\t3 & 4.059399e-03 & 0.9462441 & 1.0101570 & 1.146846 & 1.482119 & 3.521999e+01 & 3.842685e-08 & 1 & 0.9999999 & 1.0720767 & 1.003168 & 0.9999969 & 1.000103 & 0.997880\\\\\n",
       "\\end{tabular}\n"
      ],
      "text/markdown": [
       "\n",
       "A matrix: 2 × 14 of type dbl\n",
       "\n",
       "| <!--/--> | (Intercept) | bicy | cart | mcyc | pcar | boat | wigc | cgdp | tpop | upop | popd | land | rifr | prec |\n",
       "|---|---|---|---|---|---|---|---|---|---|---|---|---|---|---|\n",
       "| 2 | 2.456451e-29 | 2.1037576 | 0.1922225 | 2.341596 | 7.474795 | 2.052255e-09 | 8.127205e+00 | 1 | 1.0000005 | 0.7518748 | 1.044664 | 0.9998270 | 1.000587 | 1.014607 |\n",
       "| 3 | 4.059399e-03 | 0.9462441 | 1.0101570 | 1.146846 | 1.482119 | 3.521999e+01 | 3.842685e-08 | 1 | 0.9999999 | 1.0720767 | 1.003168 | 0.9999969 | 1.000103 | 0.997880 |\n",
       "\n"
      ],
      "text/plain": [
       "  (Intercept)  bicy      cart      mcyc     pcar     boat         wigc        \n",
       "2 2.456451e-29 2.1037576 0.1922225 2.341596 7.474795 2.052255e-09 8.127205e+00\n",
       "3 4.059399e-03 0.9462441 1.0101570 1.146846 1.482119 3.521999e+01 3.842685e-08\n",
       "  cgdp tpop      upop      popd     land      rifr     prec    \n",
       "2 1    1.0000005 0.7518748 1.044664 0.9998270 1.000587 1.014607\n",
       "3 1    0.9999999 1.0720767 1.003168 0.9999969 1.000103 0.997880"
      ]
     },
     "metadata": {},
     "output_type": "display_data"
    },
    {
     "data": {
      "text/html": [
       "<style>\n",
       ".list-inline {list-style: none; margin:0; padding: 0}\n",
       ".list-inline>li {display: inline-block}\n",
       ".list-inline>li:not(:last-child)::after {content: \"\\00b7\"; padding: 0 .5ex}\n",
       "</style>\n",
       "<ol class=list-inline><li>1</li><li>2</li><li>1</li><li>3</li><li>3</li><li>2</li></ol>\n",
       "\n",
       "<details>\n",
       "\t<summary style=display:list-item;cursor:pointer>\n",
       "\t\t<strong>Levels</strong>:\n",
       "\t</summary>\n",
       "\t<style>\n",
       "\t.list-inline {list-style: none; margin:0; padding: 0}\n",
       "\t.list-inline>li {display: inline-block}\n",
       "\t.list-inline>li:not(:last-child)::after {content: \"\\00b7\"; padding: 0 .5ex}\n",
       "\t</style>\n",
       "\t<ol class=list-inline><li>'1'</li><li>'2'</li><li>'3'</li></ol>\n",
       "</details>"
      ],
      "text/latex": [
       "\\begin{enumerate*}\n",
       "\\item 1\n",
       "\\item 2\n",
       "\\item 1\n",
       "\\item 3\n",
       "\\item 3\n",
       "\\item 2\n",
       "\\end{enumerate*}\n",
       "\n",
       "\\emph{Levels}: \\begin{enumerate*}\n",
       "\\item '1'\n",
       "\\item '2'\n",
       "\\item '3'\n",
       "\\end{enumerate*}\n"
      ],
      "text/markdown": [
       "1. 1\n",
       "2. 2\n",
       "3. 1\n",
       "4. 3\n",
       "5. 3\n",
       "6. 2\n",
       "\n",
       "\n",
       "\n",
       "**Levels**: 1. '1'\n",
       "2. '2'\n",
       "3. '3'\n",
       "\n",
       "\n"
      ],
      "text/plain": [
       "[1] 1 2 1 3 3 2\n",
       "Levels: 1 2 3"
      ]
     },
     "metadata": {},
     "output_type": "display_data"
    },
    {
     "data": {
      "text/html": [
       "<table class=\"dataframe\">\n",
       "<caption>A matrix: 6 × 3 of type dbl</caption>\n",
       "<thead>\n",
       "\t<tr><th></th><th scope=col>1</th><th scope=col>2</th><th scope=col>3</th></tr>\n",
       "</thead>\n",
       "<tbody>\n",
       "\t<tr><th scope=row>1</th><td>9.822329e-01</td><td>1.390109e-39</td><td>1.776707e-02</td></tr>\n",
       "\t<tr><th scope=row>2</th><td>2.959525e-14</td><td>1.000000e+00</td><td>9.185569e-09</td></tr>\n",
       "\t<tr><th scope=row>3</th><td>6.909582e-01</td><td>5.649387e-95</td><td>3.090418e-01</td></tr>\n",
       "\t<tr><th scope=row>4</th><td>2.301398e-06</td><td>6.622490e-03</td><td>9.933752e-01</td></tr>\n",
       "\t<tr><th scope=row>5</th><td>4.420177e-04</td><td>2.344073e-17</td><td>9.995580e-01</td></tr>\n",
       "\t<tr><th scope=row>6</th><td>1.095237e-66</td><td>1.000000e+00</td><td>7.845618e-73</td></tr>\n",
       "</tbody>\n",
       "</table>\n"
      ],
      "text/latex": [
       "A matrix: 6 × 3 of type dbl\n",
       "\\begin{tabular}{r|lll}\n",
       "  & 1 & 2 & 3\\\\\n",
       "\\hline\n",
       "\t1 & 9.822329e-01 & 1.390109e-39 & 1.776707e-02\\\\\n",
       "\t2 & 2.959525e-14 & 1.000000e+00 & 9.185569e-09\\\\\n",
       "\t3 & 6.909582e-01 & 5.649387e-95 & 3.090418e-01\\\\\n",
       "\t4 & 2.301398e-06 & 6.622490e-03 & 9.933752e-01\\\\\n",
       "\t5 & 4.420177e-04 & 2.344073e-17 & 9.995580e-01\\\\\n",
       "\t6 & 1.095237e-66 & 1.000000e+00 & 7.845618e-73\\\\\n",
       "\\end{tabular}\n"
      ],
      "text/markdown": [
       "\n",
       "A matrix: 6 × 3 of type dbl\n",
       "\n",
       "| <!--/--> | 1 | 2 | 3 |\n",
       "|---|---|---|---|\n",
       "| 1 | 9.822329e-01 | 1.390109e-39 | 1.776707e-02 |\n",
       "| 2 | 2.959525e-14 | 1.000000e+00 | 9.185569e-09 |\n",
       "| 3 | 6.909582e-01 | 5.649387e-95 | 3.090418e-01 |\n",
       "| 4 | 2.301398e-06 | 6.622490e-03 | 9.933752e-01 |\n",
       "| 5 | 4.420177e-04 | 2.344073e-17 | 9.995580e-01 |\n",
       "| 6 | 1.095237e-66 | 1.000000e+00 | 7.845618e-73 |\n",
       "\n"
      ],
      "text/plain": [
       "  1            2            3           \n",
       "1 9.822329e-01 1.390109e-39 1.776707e-02\n",
       "2 2.959525e-14 1.000000e+00 9.185569e-09\n",
       "3 6.909582e-01 5.649387e-95 3.090418e-01\n",
       "4 2.301398e-06 6.622490e-03 9.933752e-01\n",
       "5 4.420177e-04 2.344073e-17 9.995580e-01\n",
       "6 1.095237e-66 1.000000e+00 7.845618e-73"
      ]
     },
     "metadata": {},
     "output_type": "display_data"
    },
    {
     "data": {
      "text/html": [
       "0.945205479452055"
      ],
      "text/latex": [
       "0.945205479452055"
      ],
      "text/markdown": [
       "0.945205479452055"
      ],
      "text/plain": [
       "[1] 0.9452055"
      ]
     },
     "metadata": {},
     "output_type": "display_data"
    },
    {
     "name": "stderr",
     "output_type": "stream",
     "text": [
      "Warning message in slot(family, \"linkinv\")(eta, extra = extra):\n",
      "\"fitted probabilities numerically 0 or 1 occurred\"\n",
      "Warning message in tfun(mu = mu, y = y, w = w, res = FALSE, eta = eta, extra = extra):\n",
      "\"fitted values close to 0 or 1\"\n",
      "Warning message in checkwz(wz, M = M, trace = trace, wzepsilon = control$wzepsilon):\n",
      "\"2 diagonal elements of the working weights variable 'wz' have been replaced by 1.819e-12\"\n",
      "Warning message in slot(family, \"linkinv\")(eta, extra = extra):\n",
      "\"fitted probabilities numerically 0 or 1 occurred\"\n",
      "Warning message in tfun(mu = mu, y = y, w = w, res = FALSE, eta = eta, extra = extra):\n",
      "\"fitted values close to 0 or 1\"\n",
      "Warning message in slot(family, \"linkinv\")(eta, extra = extra):\n",
      "\"fitted probabilities numerically 0 or 1 occurred\"\n",
      "Warning message in tfun(mu = mu, y = y, w = w, res = FALSE, eta = eta, extra = extra):\n",
      "\"fitted values close to 0 or 1\"\n",
      "Warning message in checkwz(wz, M = M, trace = trace, wzepsilon = control$wzepsilon):\n",
      "\"2 diagonal elements of the working weights variable 'wz' have been replaced by 1.819e-12\"\n",
      "Warning message in slot(family, \"linkinv\")(eta, extra = extra):\n",
      "\"fitted probabilities numerically 0 or 1 occurred\"\n",
      "Warning message in tfun(mu = mu, y = y, w = w, res = FALSE, eta = eta, extra = extra):\n",
      "\"fitted values close to 0 or 1\"\n",
      "Warning message in slot(family, \"linkinv\")(eta, extra = extra):\n",
      "\"fitted probabilities numerically 0 or 1 occurred\"\n",
      "Warning message in tfun(mu = mu, y = y, w = w, res = FALSE, eta = eta, extra = extra):\n",
      "\"fitted values close to 0 or 1\"\n",
      "Warning message in slot(family, \"linkinv\")(eta, extra = extra):\n",
      "\"fitted probabilities numerically 0 or 1 occurred\"\n",
      "Warning message in tfun(mu = mu, y = y, w = w, res = FALSE, eta = eta, extra = extra):\n",
      "\"fitted values close to 0 or 1\"\n",
      "Warning message in slot(family, \"linkinv\")(eta, extra = extra):\n",
      "\"fitted probabilities numerically 0 or 1 occurred\"\n",
      "Warning message in tfun(mu = mu, y = y, w = w, res = FALSE, eta = eta, extra = extra):\n",
      "\"fitted values close to 0 or 1\"\n",
      "Warning message in slot(family, \"linkinv\")(eta, extra = extra):\n",
      "\"fitted probabilities numerically 0 or 1 occurred\"\n",
      "Warning message in tfun(mu = mu, y = y, w = w, res = FALSE, eta = eta, extra = extra):\n",
      "\"fitted values close to 0 or 1\"\n",
      "Warning message in checkwz(wz, M = M, trace = trace, wzepsilon = control$wzepsilon):\n",
      "\"2 diagonal elements of the working weights variable 'wz' have been replaced by 1.819e-12\"\n",
      "Warning message in slot(family, \"linkinv\")(eta, extra = extra):\n",
      "\"fitted probabilities numerically 0 or 1 occurred\"\n",
      "Warning message in tfun(mu = mu, y = y, w = w, res = FALSE, eta = eta, extra = extra):\n",
      "\"fitted values close to 0 or 1\"\n",
      "Warning message in slot(family, \"linkinv\")(eta, extra = extra):\n",
      "\"fitted probabilities numerically 0 or 1 occurred\"\n",
      "Warning message in tfun(mu = mu, y = y, w = w, res = FALSE, eta = eta, extra = extra):\n",
      "\"fitted values close to 0 or 1\"\n",
      "Warning message in slot(family, \"linkinv\")(eta, extra = extra):\n",
      "\"fitted probabilities numerically 0 or 1 occurred\"\n",
      "Warning message in tfun(mu = mu, y = y, w = w, res = FALSE, eta = eta, extra = extra):\n",
      "\"fitted values close to 0 or 1\"\n",
      "Warning message in slot(family, \"linkinv\")(eta, extra = extra):\n",
      "\"fitted probabilities numerically 0 or 1 occurred\"\n",
      "Warning message in tfun(mu = mu, y = y, w = w, res = FALSE, eta = eta, extra = extra):\n",
      "\"fitted values close to 0 or 1\"\n",
      "Warning message in slot(family, \"linkinv\")(eta, extra = extra):\n",
      "\"fitted probabilities numerically 0 or 1 occurred\"\n",
      "Warning message in tfun(mu = mu, y = y, w = w, res = FALSE, eta = eta, extra = extra):\n",
      "\"fitted values close to 0 or 1\"\n",
      "Warning message in slot(family, \"linkinv\")(eta, extra = extra):\n",
      "\"fitted probabilities numerically 0 or 1 occurred\"\n",
      "Warning message in tfun(mu = mu, y = y, w = w, res = FALSE, eta = eta, extra = extra):\n",
      "\"fitted values close to 0 or 1\"\n",
      "Warning message in slot(family, \"linkinv\")(eta, extra = extra):\n",
      "\"fitted probabilities numerically 0 or 1 occurred\"\n",
      "Warning message in tfun(mu = mu, y = y, w = w, res = FALSE, eta = eta, extra = extra):\n",
      "\"fitted values close to 0 or 1\"\n",
      "Warning message in slot(family, \"linkinv\")(eta, extra = extra):\n",
      "\"fitted probabilities numerically 0 or 1 occurred\"\n",
      "Warning message in tfun(mu = mu, y = y, w = w, res = FALSE, eta = eta, extra = extra):\n",
      "\"fitted values close to 0 or 1\"\n",
      "Warning message in slot(family, \"linkinv\")(eta, extra = extra):\n",
      "\"fitted probabilities numerically 0 or 1 occurred\"\n",
      "Warning message in tfun(mu = mu, y = y, w = w, res = FALSE, eta = eta, extra = extra):\n",
      "\"fitted values close to 0 or 1\"\n",
      "Warning message in slot(family, \"linkinv\")(eta, extra = extra):\n",
      "\"fitted probabilities numerically 0 or 1 occurred\"\n",
      "Warning message in tfun(mu = mu, y = y, w = w, res = FALSE, eta = eta, extra = extra):\n",
      "\"fitted values close to 0 or 1\"\n",
      "Warning message in slot(family, \"linkinv\")(eta, extra = extra):\n",
      "\"fitted probabilities numerically 0 or 1 occurred\"\n",
      "Warning message in tfun(mu = mu, y = y, w = w, res = FALSE, eta = eta, extra = extra):\n",
      "\"fitted values close to 0 or 1\"\n",
      "Warning message in checkwz(wz, M = M, trace = trace, wzepsilon = control$wzepsilon):\n",
      "\"2 diagonal elements of the working weights variable 'wz' have been replaced by 1.819e-12\"\n",
      "Warning message in slot(family, \"linkinv\")(eta, extra = extra):\n",
      "\"fitted probabilities numerically 0 or 1 occurred\"\n",
      "Warning message in tfun(mu = mu, y = y, w = w, res = FALSE, eta = eta, extra = extra):\n",
      "\"fitted values close to 0 or 1\"\n",
      "Warning message in slot(family, \"linkinv\")(eta, extra = extra):\n",
      "\"fitted probabilities numerically 0 or 1 occurred\"\n",
      "Warning message in tfun(mu = mu, y = y, w = w, res = FALSE, eta = eta, extra = extra):\n",
      "\"fitted values close to 0 or 1\"\n",
      "Warning message in slot(family, \"linkinv\")(eta, extra = extra):\n",
      "\"fitted probabilities numerically 0 or 1 occurred\"\n",
      "Warning message in tfun(mu = mu, y = y, w = w, res = FALSE, eta = eta, extra = extra):\n",
      "\"fitted values close to 0 or 1\"\n",
      "Warning message in slot(family, \"linkinv\")(eta, extra = extra):\n",
      "\"fitted probabilities numerically 0 or 1 occurred\"\n",
      "Warning message in tfun(mu = mu, y = y, w = w, res = FALSE, eta = eta, extra = extra):\n",
      "\"fitted values close to 0 or 1\"\n",
      "Warning message in slot(family, \"linkinv\")(eta, extra = extra):\n",
      "\"fitted probabilities numerically 0 or 1 occurred\"\n",
      "Warning message in tfun(mu = mu, y = y, w = w, res = FALSE, eta = eta, extra = extra):\n",
      "\"fitted values close to 0 or 1\"\n",
      "Warning message in slot(family, \"linkinv\")(eta, extra = extra):\n",
      "\"fitted probabilities numerically 0 or 1 occurred\"\n",
      "Warning message in tfun(mu = mu, y = y, w = w, res = FALSE, eta = eta, extra = extra):\n",
      "\"fitted values close to 0 or 1\"\n",
      "Warning message in slot(family, \"linkinv\")(eta, extra = extra):\n",
      "\"fitted probabilities numerically 0 or 1 occurred\"\n",
      "Warning message in tfun(mu = mu, y = y, w = w, res = FALSE, eta = eta, extra = extra):\n",
      "\"fitted values close to 0 or 1\"\n",
      "Warning message in slot(family, \"linkinv\")(eta, extra = extra):\n",
      "\"fitted probabilities numerically 0 or 1 occurred\"\n",
      "Warning message in tfun(mu = mu, y = y, w = w, res = FALSE, eta = eta, extra = extra):\n",
      "\"fitted values close to 0 or 1\"\n",
      "Warning message in slot(family, \"linkinv\")(eta, extra = extra):\n",
      "\"fitted probabilities numerically 0 or 1 occurred\"\n",
      "Warning message in tfun(mu = mu, y = y, w = w, res = FALSE, eta = eta, extra = extra):\n",
      "\"fitted values close to 0 or 1\"\n",
      "Warning message in slot(family, \"linkinv\")(eta, extra = extra):\n",
      "\"fitted probabilities numerically 0 or 1 occurred\"\n",
      "Warning message in tfun(mu = mu, y = y, w = w, res = FALSE, eta = eta, extra = extra):\n",
      "\"fitted values close to 0 or 1\"\n",
      "Warning message in slot(family, \"linkinv\")(eta, extra = extra):\n",
      "\"fitted probabilities numerically 0 or 1 occurred\"\n",
      "Warning message in tfun(mu = mu, y = y, w = w, res = FALSE, eta = eta, extra = extra):\n",
      "\"fitted values close to 0 or 1\"\n",
      "Warning message in slot(family, \"linkinv\")(eta, extra = extra):\n",
      "\"fitted probabilities numerically 0 or 1 occurred\"\n",
      "Warning message in tfun(mu = mu, y = y, w = w, res = FALSE, eta = eta, extra = extra):\n",
      "\"fitted values close to 0 or 1\"\n",
      "Warning message in checkwz(wz, M = M, trace = trace, wzepsilon = control$wzepsilon):\n",
      "\"2 diagonal elements of the working weights variable 'wz' have been replaced by 1.819e-12\"\n",
      "Warning message in slot(family, \"linkinv\")(eta, extra = extra):\n",
      "\"fitted probabilities numerically 0 or 1 occurred\"\n"
     ]
    },
    {
     "name": "stderr",
     "output_type": "stream",
     "text": [
      "Warning message in tfun(mu = mu, y = y, w = w, res = FALSE, eta = eta, extra = extra):\n",
      "\"fitted values close to 0 or 1\"\n",
      "Warning message in slot(family, \"linkinv\")(eta, extra = extra):\n",
      "\"fitted probabilities numerically 0 or 1 occurred\"\n",
      "Warning message in tfun(mu = mu, y = y, w = w, res = FALSE, eta = eta, extra = extra):\n",
      "\"fitted values close to 0 or 1\"\n",
      "Warning message in slot(family, \"linkinv\")(eta, extra = extra):\n",
      "\"fitted probabilities numerically 0 or 1 occurred\"\n",
      "Warning message in tfun(mu = mu, y = y, w = w, res = FALSE, eta = eta, extra = extra):\n",
      "\"fitted values close to 0 or 1\"\n",
      "Warning message in slot(family, \"linkinv\")(eta, extra = extra):\n",
      "\"fitted probabilities numerically 0 or 1 occurred\"\n",
      "Warning message in tfun(mu = mu, y = y, w = w, res = FALSE, eta = eta, extra = extra):\n",
      "\"fitted values close to 0 or 1\"\n",
      "Warning message in slot(family, \"linkinv\")(eta, extra = extra):\n",
      "\"fitted probabilities numerically 0 or 1 occurred\"\n",
      "Warning message in tfun(mu = mu, y = y, w = w, res = FALSE, eta = eta, extra = extra):\n",
      "\"fitted values close to 0 or 1\"\n",
      "Warning message in slot(family, \"linkinv\")(eta, extra = extra):\n",
      "\"fitted probabilities numerically 0 or 1 occurred\"\n",
      "Warning message in tfun(mu = mu, y = y, w = w, res = FALSE, eta = eta, extra = extra):\n",
      "\"fitted values close to 0 or 1\"\n",
      "Warning message in slot(family, \"linkinv\")(eta, extra = extra):\n",
      "\"fitted probabilities numerically 0 or 1 occurred\"\n",
      "Warning message in tfun(mu = mu, y = y, w = w, res = FALSE, eta = eta, extra = extra):\n",
      "\"fitted values close to 0 or 1\"\n",
      "Warning message in slot(family, \"linkinv\")(eta, extra = extra):\n",
      "\"fitted probabilities numerically 0 or 1 occurred\"\n",
      "Warning message in tfun(mu = mu, y = y, w = w, res = FALSE, eta = eta, extra = extra):\n",
      "\"fitted values close to 0 or 1\"\n",
      "Warning message in slot(family, \"linkinv\")(eta, extra = extra):\n",
      "\"fitted probabilities numerically 0 or 1 occurred\"\n",
      "Warning message in tfun(mu = mu, y = y, w = w, res = FALSE, eta = eta, extra = extra):\n",
      "\"fitted values close to 0 or 1\"\n",
      "Warning message in slot(family, \"linkinv\")(eta, extra = extra):\n",
      "\"fitted probabilities numerically 0 or 1 occurred\"\n",
      "Warning message in tfun(mu = mu, y = y, w = w, res = FALSE, eta = eta, extra = extra):\n",
      "\"fitted values close to 0 or 1\"\n",
      "Warning message in slot(family, \"linkinv\")(eta, extra = extra):\n",
      "\"fitted probabilities numerically 0 or 1 occurred\"\n",
      "Warning message in tfun(mu = mu, y = y, w = w, res = FALSE, eta = eta, extra = extra):\n",
      "\"fitted values close to 0 or 1\"\n",
      "Warning message in slot(family, \"linkinv\")(eta, extra = extra):\n",
      "\"fitted probabilities numerically 0 or 1 occurred\"\n",
      "Warning message in tfun(mu = mu, y = y, w = w, res = FALSE, eta = eta, extra = extra):\n",
      "\"fitted values close to 0 or 1\"\n",
      "Warning message in slot(family, \"linkinv\")(eta, extra = extra):\n",
      "\"fitted probabilities numerically 0 or 1 occurred\"\n",
      "Warning message in tfun(mu = mu, y = y, w = w, res = FALSE, eta = eta, extra = extra):\n",
      "\"fitted values close to 0 or 1\"\n",
      "Warning message in checkwz(wz, M = M, trace = trace, wzepsilon = control$wzepsilon):\n",
      "\"2 diagonal elements of the working weights variable 'wz' have been replaced by 1.819e-12\"\n",
      "Warning message in slot(family, \"linkinv\")(eta, extra = extra):\n",
      "\"fitted probabilities numerically 0 or 1 occurred\"\n",
      "Warning message in tfun(mu = mu, y = y, w = w, res = FALSE, eta = eta, extra = extra):\n",
      "\"fitted values close to 0 or 1\"\n",
      "Warning message in slot(family, \"linkinv\")(eta, extra = extra):\n",
      "\"fitted probabilities numerically 0 or 1 occurred\"\n",
      "Warning message in tfun(mu = mu, y = y, w = w, res = FALSE, eta = eta, extra = extra):\n",
      "\"fitted values close to 0 or 1\"\n",
      "Warning message in slot(family, \"linkinv\")(eta, extra = extra):\n",
      "\"fitted probabilities numerically 0 or 1 occurred\"\n",
      "Warning message in tfun(mu = mu, y = y, w = w, res = FALSE, eta = eta, extra = extra):\n",
      "\"fitted values close to 0 or 1\"\n",
      "Warning message in slot(family, \"linkinv\")(eta, extra = extra):\n",
      "\"fitted probabilities numerically 0 or 1 occurred\"\n",
      "Warning message in tfun(mu = mu, y = y, w = w, res = FALSE, eta = eta, extra = extra):\n",
      "\"fitted values close to 0 or 1\"\n",
      "Warning message in slot(family, \"linkinv\")(eta, extra = extra):\n",
      "\"fitted probabilities numerically 0 or 1 occurred\"\n",
      "Warning message in tfun(mu = mu, y = y, w = w, res = FALSE, eta = eta, extra = extra):\n",
      "\"fitted values close to 0 or 1\"\n",
      "Warning message in slot(family, \"linkinv\")(eta, extra = extra):\n",
      "\"fitted probabilities numerically 0 or 1 occurred\"\n",
      "Warning message in tfun(mu = mu, y = y, w = w, res = FALSE, eta = eta, extra = extra):\n",
      "\"fitted values close to 0 or 1\"\n",
      "Warning message in slot(family, \"linkinv\")(eta, extra = extra):\n",
      "\"fitted probabilities numerically 0 or 1 occurred\"\n",
      "Warning message in tfun(mu = mu, y = y, w = w, res = FALSE, eta = eta, extra = extra):\n",
      "\"fitted values close to 0 or 1\"\n",
      "Warning message in slot(family, \"linkinv\")(eta, extra = extra):\n",
      "\"fitted probabilities numerically 0 or 1 occurred\"\n",
      "Warning message in tfun(mu = mu, y = y, w = w, res = FALSE, eta = eta, extra = extra):\n",
      "\"fitted values close to 0 or 1\"\n",
      "Warning message in slot(family, \"linkinv\")(eta, extra = extra):\n",
      "\"fitted probabilities numerically 0 or 1 occurred\"\n",
      "Warning message in tfun(mu = mu, y = y, w = w, res = FALSE, eta = eta, extra = extra):\n",
      "\"fitted values close to 0 or 1\"\n",
      "Warning message in slot(family, \"linkinv\")(eta, extra = extra):\n",
      "\"fitted probabilities numerically 0 or 1 occurred\"\n",
      "Warning message in tfun(mu = mu, y = y, w = w, res = FALSE, eta = eta, extra = extra):\n",
      "\"fitted values close to 0 or 1\"\n",
      "Warning message in slot(family, \"linkinv\")(eta, extra = extra):\n",
      "\"fitted probabilities numerically 0 or 1 occurred\"\n",
      "Warning message in tfun(mu = mu, y = y, w = w, res = FALSE, eta = eta, extra = extra):\n",
      "\"fitted values close to 0 or 1\"\n",
      "Warning message in slot(family, \"linkinv\")(eta, extra = extra):\n",
      "\"fitted probabilities numerically 0 or 1 occurred\"\n",
      "Warning message in tfun(mu = mu, y = y, w = w, res = FALSE, eta = eta, extra = extra):\n",
      "\"fitted values close to 0 or 1\"\n",
      "Warning message in slot(family, \"linkinv\")(eta, extra = extra):\n",
      "\"fitted probabilities numerically 0 or 1 occurred\"\n",
      "Warning message in tfun(mu = mu, y = y, w = w, res = FALSE, eta = eta, extra = extra):\n",
      "\"fitted values close to 0 or 1\"\n",
      "Warning message in slot(family, \"linkinv\")(eta, extra = extra):\n",
      "\"fitted probabilities numerically 0 or 1 occurred\"\n",
      "Warning message in tfun(mu = mu, y = y, w = w, res = FALSE, eta = eta, extra = extra):\n",
      "\"fitted values close to 0 or 1\"\n",
      "Warning message in slot(family, \"linkinv\")(eta, extra = extra):\n",
      "\"fitted probabilities numerically 0 or 1 occurred\"\n",
      "Warning message in tfun(mu = mu, y = y, w = w, res = FALSE, eta = eta, extra = extra):\n",
      "\"fitted values close to 0 or 1\"\n",
      "Warning message in checkwz(wz, M = M, trace = trace, wzepsilon = control$wzepsilon):\n",
      "\"2 diagonal elements of the working weights variable 'wz' have been replaced by 1.819e-12\"\n",
      "Warning message in slot(family, \"linkinv\")(eta, extra = extra):\n",
      "\"fitted probabilities numerically 0 or 1 occurred\"\n",
      "Warning message in tfun(mu = mu, y = y, w = w, res = FALSE, eta = eta, extra = extra):\n",
      "\"fitted values close to 0 or 1\"\n",
      "Warning message in slot(family, \"linkinv\")(eta, extra = extra):\n",
      "\"fitted probabilities numerically 0 or 1 occurred\"\n",
      "Warning message in tfun(mu = mu, y = y, w = w, res = FALSE, eta = eta, extra = extra):\n",
      "\"fitted values close to 0 or 1\"\n",
      "Warning message in slot(family, \"linkinv\")(eta, extra = extra):\n",
      "\"fitted probabilities numerically 0 or 1 occurred\"\n",
      "Warning message in tfun(mu = mu, y = y, w = w, res = FALSE, eta = eta, extra = extra):\n",
      "\"fitted values close to 0 or 1\"\n",
      "Warning message in slot(family, \"linkinv\")(eta, extra = extra):\n",
      "\"fitted probabilities numerically 0 or 1 occurred\"\n",
      "Warning message in tfun(mu = mu, y = y, w = w, res = FALSE, eta = eta, extra = extra):\n",
      "\"fitted values close to 0 or 1\"\n",
      "Warning message in slot(family, \"linkinv\")(eta, extra = extra):\n",
      "\"fitted probabilities numerically 0 or 1 occurred\"\n",
      "Warning message in tfun(mu = mu, y = y, w = w, res = FALSE, eta = eta, extra = extra):\n",
      "\"fitted values close to 0 or 1\"\n",
      "Warning message in slot(family, \"linkinv\")(eta, extra = extra):\n",
      "\"fitted probabilities numerically 0 or 1 occurred\"\n",
      "Warning message in tfun(mu = mu, y = y, w = w, res = FALSE, eta = eta, extra = extra):\n",
      "\"fitted values close to 0 or 1\"\n"
     ]
    },
    {
     "name": "stderr",
     "output_type": "stream",
     "text": [
      "Warning message in slot(family, \"linkinv\")(eta, extra = extra):\n",
      "\"fitted probabilities numerically 0 or 1 occurred\"\n",
      "Warning message in tfun(mu = mu, y = y, w = w, res = FALSE, eta = eta, extra = extra):\n",
      "\"fitted values close to 0 or 1\"\n",
      "Warning message in slot(family, \"linkinv\")(eta, extra = extra):\n",
      "\"fitted probabilities numerically 0 or 1 occurred\"\n",
      "Warning message in tfun(mu = mu, y = y, w = w, res = FALSE, eta = eta, extra = extra):\n",
      "\"fitted values close to 0 or 1\"\n",
      "Warning message in slot(family, \"linkinv\")(eta, extra = extra):\n",
      "\"fitted probabilities numerically 0 or 1 occurred\"\n",
      "Warning message in tfun(mu = mu, y = y, w = w, res = FALSE, eta = eta, extra = extra):\n",
      "\"fitted values close to 0 or 1\"\n",
      "Warning message in slot(family, \"linkinv\")(eta, extra = extra):\n",
      "\"fitted probabilities numerically 0 or 1 occurred\"\n",
      "Warning message in tfun(mu = mu, y = y, w = w, res = FALSE, eta = eta, extra = extra):\n",
      "\"fitted values close to 0 or 1\"\n",
      "Warning message in slot(family, \"linkinv\")(eta, extra = extra):\n",
      "\"fitted probabilities numerically 0 or 1 occurred\"\n",
      "Warning message in tfun(mu = mu, y = y, w = w, res = FALSE, eta = eta, extra = extra):\n",
      "\"fitted values close to 0 or 1\"\n",
      "Warning message in slot(family, \"linkinv\")(eta, extra = extra):\n",
      "\"fitted probabilities numerically 0 or 1 occurred\"\n",
      "Warning message in tfun(mu = mu, y = y, w = w, res = FALSE, eta = eta, extra = extra):\n",
      "\"fitted values close to 0 or 1\"\n",
      "Warning message in slot(family, \"linkinv\")(eta, extra = extra):\n",
      "\"fitted probabilities numerically 0 or 1 occurred\"\n",
      "Warning message in tfun(mu = mu, y = y, w = w, res = FALSE, eta = eta, extra = extra):\n",
      "\"fitted values close to 0 or 1\"\n",
      "Warning message in slot(family, \"linkinv\")(eta, extra = extra):\n",
      "\"fitted probabilities numerically 0 or 1 occurred\"\n",
      "Warning message in tfun(mu = mu, y = y, w = w, res = FALSE, eta = eta, extra = extra):\n",
      "\"fitted values close to 0 or 1\"\n",
      "Warning message in slot(family, \"linkinv\")(eta, extra = extra):\n",
      "\"fitted probabilities numerically 0 or 1 occurred\"\n",
      "Warning message in tfun(mu = mu, y = y, w = w, res = FALSE, eta = eta, extra = extra):\n",
      "\"fitted values close to 0 or 1\"\n",
      "Warning message in slot(family, \"linkinv\")(eta, extra = extra):\n",
      "\"fitted probabilities numerically 0 or 1 occurred\"\n",
      "Warning message in tfun(mu = mu, y = y, w = w, res = FALSE, eta = eta, extra = extra):\n",
      "\"fitted values close to 0 or 1\"\n",
      "Warning message in checkwz(wz, M = M, trace = trace, wzepsilon = control$wzepsilon):\n",
      "\"2 diagonal elements of the working weights variable 'wz' have been replaced by 1.819e-12\"\n",
      "Warning message in slot(family, \"linkinv\")(eta, extra = extra):\n",
      "\"fitted probabilities numerically 0 or 1 occurred\"\n",
      "Warning message in tfun(mu = mu, y = y, w = w, res = FALSE, eta = eta, extra = extra):\n",
      "\"fitted values close to 0 or 1\"\n",
      "Warning message in slot(family, \"linkinv\")(eta, extra = extra):\n",
      "\"fitted probabilities numerically 0 or 1 occurred\"\n",
      "Warning message in tfun(mu = mu, y = y, w = w, res = FALSE, eta = eta, extra = extra):\n",
      "\"fitted values close to 0 or 1\"\n",
      "Warning message in slot(family, \"linkinv\")(eta, extra = extra):\n",
      "\"fitted probabilities numerically 0 or 1 occurred\"\n",
      "Warning message in tfun(mu = mu, y = y, w = w, res = FALSE, eta = eta, extra = extra):\n",
      "\"fitted values close to 0 or 1\"\n",
      "Warning message in slot(family, \"linkinv\")(eta, extra = extra):\n",
      "\"fitted probabilities numerically 0 or 1 occurred\"\n",
      "Warning message in tfun(mu = mu, y = y, w = w, res = FALSE, eta = eta, extra = extra):\n",
      "\"fitted values close to 0 or 1\"\n",
      "Warning message in slot(family, \"linkinv\")(eta, extra = extra):\n",
      "\"fitted probabilities numerically 0 or 1 occurred\"\n",
      "Warning message in tfun(mu = mu, y = y, w = w, res = FALSE, eta = eta, extra = extra):\n",
      "\"fitted values close to 0 or 1\"\n",
      "Warning message in slot(family, \"linkinv\")(eta, extra = extra):\n",
      "\"fitted probabilities numerically 0 or 1 occurred\"\n",
      "Warning message in tfun(mu = mu, y = y, w = w, res = FALSE, eta = eta, extra = extra):\n",
      "\"fitted values close to 0 or 1\"\n",
      "Warning message in slot(family, \"linkinv\")(eta, extra = extra):\n",
      "\"fitted probabilities numerically 0 or 1 occurred\"\n",
      "Warning message in tfun(mu = mu, y = y, w = w, res = FALSE, eta = eta, extra = extra):\n",
      "\"fitted values close to 0 or 1\"\n",
      "Warning message in slot(family, \"linkinv\")(eta, extra = extra):\n",
      "\"fitted probabilities numerically 0 or 1 occurred\"\n",
      "Warning message in tfun(mu = mu, y = y, w = w, res = FALSE, eta = eta, extra = extra):\n",
      "\"fitted values close to 0 or 1\"\n",
      "Warning message in slot(family, \"linkinv\")(eta, extra = extra):\n",
      "\"fitted probabilities numerically 0 or 1 occurred\"\n",
      "Warning message in tfun(mu = mu, y = y, w = w, res = FALSE, eta = eta, extra = extra):\n",
      "\"fitted values close to 0 or 1\"\n",
      "Warning message in slot(family, \"linkinv\")(eta, extra = extra):\n",
      "\"fitted probabilities numerically 0 or 1 occurred\"\n",
      "Warning message in tfun(mu = mu, y = y, w = w, res = FALSE, eta = eta, extra = extra):\n",
      "\"fitted values close to 0 or 1\"\n",
      "Warning message in slot(family, \"linkinv\")(eta, extra = extra):\n",
      "\"fitted probabilities numerically 0 or 1 occurred\"\n",
      "Warning message in tfun(mu = mu, y = y, w = w, res = FALSE, eta = eta, extra = extra):\n",
      "\"fitted values close to 0 or 1\"\n",
      "Warning message in slot(family, \"linkinv\")(eta, extra = extra):\n",
      "\"fitted probabilities numerically 0 or 1 occurred\"\n",
      "Warning message in tfun(mu = mu, y = y, w = w, res = FALSE, eta = eta, extra = extra):\n",
      "\"fitted values close to 0 or 1\"\n",
      "Warning message in slot(family, \"linkinv\")(eta, extra = extra):\n",
      "\"fitted probabilities numerically 0 or 1 occurred\"\n",
      "Warning message in tfun(mu = mu, y = y, w = w, res = FALSE, eta = eta, extra = extra):\n",
      "\"fitted values close to 0 or 1\"\n",
      "Warning message in slot(family, \"linkinv\")(eta, extra = extra):\n",
      "\"fitted probabilities numerically 0 or 1 occurred\"\n",
      "Warning message in tfun(mu = mu, y = y, w = w, res = FALSE, eta = eta, extra = extra):\n",
      "\"fitted values close to 0 or 1\"\n",
      "Warning message in slot(family, \"linkinv\")(eta, extra = extra):\n",
      "\"fitted probabilities numerically 0 or 1 occurred\"\n",
      "Warning message in tfun(mu = mu, y = y, w = w, res = FALSE, eta = eta, extra = extra):\n",
      "\"fitted values close to 0 or 1\"\n",
      "Warning message in slot(family, \"linkinv\")(eta, extra = extra):\n",
      "\"fitted probabilities numerically 0 or 1 occurred\"\n",
      "Warning message in tfun(mu = mu, y = y, w = w, res = FALSE, eta = eta, extra = extra):\n",
      "\"fitted values close to 0 or 1\"\n",
      "Warning message in slot(family, \"linkinv\")(eta, extra = extra):\n",
      "\"fitted probabilities numerically 0 or 1 occurred\"\n",
      "Warning message in tfun(mu = mu, y = y, w = w, res = FALSE, eta = eta, extra = extra):\n",
      "\"fitted values close to 0 or 1\"\n",
      "Warning message in checkwz(wz, M = M, trace = trace, wzepsilon = control$wzepsilon):\n",
      "\"2 diagonal elements of the working weights variable 'wz' have been replaced by 1.819e-12\"\n",
      "Warning message in slot(family, \"linkinv\")(eta, extra = extra):\n",
      "\"fitted probabilities numerically 0 or 1 occurred\"\n",
      "Warning message in tfun(mu = mu, y = y, w = w, res = FALSE, eta = eta, extra = extra):\n",
      "\"fitted values close to 0 or 1\"\n",
      "Warning message in slot(family, \"linkinv\")(eta, extra = extra):\n",
      "\"fitted probabilities numerically 0 or 1 occurred\"\n",
      "Warning message in tfun(mu = mu, y = y, w = w, res = FALSE, eta = eta, extra = extra):\n",
      "\"fitted values close to 0 or 1\"\n",
      "Warning message in slot(family, \"linkinv\")(eta, extra = extra):\n",
      "\"fitted probabilities numerically 0 or 1 occurred\"\n",
      "Warning message in tfun(mu = mu, y = y, w = w, res = FALSE, eta = eta, extra = extra):\n",
      "\"fitted values close to 0 or 1\"\n",
      "Warning message in slot(family, \"linkinv\")(eta, extra = extra):\n",
      "\"fitted probabilities numerically 0 or 1 occurred\"\n",
      "Warning message in tfun(mu = mu, y = y, w = w, res = FALSE, eta = eta, extra = extra):\n",
      "\"fitted values close to 0 or 1\"\n",
      "Warning message in slot(family, \"linkinv\")(eta, extra = extra):\n",
      "\"fitted probabilities numerically 0 or 1 occurred\"\n",
      "Warning message in tfun(mu = mu, y = y, w = w, res = FALSE, eta = eta, extra = extra):\n",
      "\"fitted values close to 0 or 1\"\n",
      "Warning message in slot(family, \"linkinv\")(eta, extra = extra):\n",
      "\"fitted probabilities numerically 0 or 1 occurred\"\n",
      "Warning message in tfun(mu = mu, y = y, w = w, res = FALSE, eta = eta, extra = extra):\n",
      "\"fitted values close to 0 or 1\"\n",
      "Warning message in slot(family, \"linkinv\")(eta, extra = extra):\n",
      "\"fitted probabilities numerically 0 or 1 occurred\"\n",
      "Warning message in tfun(mu = mu, y = y, w = w, res = FALSE, eta = eta, extra = extra):\n",
      "\"fitted values close to 0 or 1\"\n"
     ]
    },
    {
     "name": "stderr",
     "output_type": "stream",
     "text": [
      "Warning message in slot(family, \"linkinv\")(eta, extra = extra):\n",
      "\"fitted probabilities numerically 0 or 1 occurred\"\n",
      "Warning message in tfun(mu = mu, y = y, w = w, res = FALSE, eta = eta, extra = extra):\n",
      "\"fitted values close to 0 or 1\"\n",
      "Warning message in slot(family, \"linkinv\")(eta, extra = extra):\n",
      "\"fitted probabilities numerically 0 or 1 occurred\"\n",
      "Warning message in tfun(mu = mu, y = y, w = w, res = FALSE, eta = eta, extra = extra):\n",
      "\"fitted values close to 0 or 1\"\n",
      "Warning message in slot(family, \"linkinv\")(eta, extra = extra):\n",
      "\"fitted probabilities numerically 0 or 1 occurred\"\n",
      "Warning message in tfun(mu = mu, y = y, w = w, res = FALSE, eta = eta, extra = extra):\n",
      "\"fitted values close to 0 or 1\"\n",
      "Warning message in slot(family, \"linkinv\")(eta, extra = extra):\n",
      "\"fitted probabilities numerically 0 or 1 occurred\"\n",
      "Warning message in tfun(mu = mu, y = y, w = w, res = FALSE, eta = eta, extra = extra):\n",
      "\"fitted values close to 0 or 1\"\n",
      "Warning message in slot(family, \"linkinv\")(eta, extra = extra):\n",
      "\"fitted probabilities numerically 0 or 1 occurred\"\n",
      "Warning message in tfun(mu = mu, y = y, w = w, res = FALSE, eta = eta, extra = extra):\n",
      "\"fitted values close to 0 or 1\"\n",
      "Warning message in slot(family, \"linkinv\")(eta, extra = extra):\n",
      "\"fitted probabilities numerically 0 or 1 occurred\"\n",
      "Warning message in tfun(mu = mu, y = y, w = w, res = FALSE, eta = eta, extra = extra):\n",
      "\"fitted values close to 0 or 1\"\n",
      "Warning message in slot(family, \"linkinv\")(eta, extra = extra):\n",
      "\"fitted probabilities numerically 0 or 1 occurred\"\n",
      "Warning message in tfun(mu = mu, y = y, w = w, res = FALSE, eta = eta, extra = extra):\n",
      "\"fitted values close to 0 or 1\"\n",
      "Warning message in slot(family, \"linkinv\")(eta, extra = extra):\n",
      "\"fitted probabilities numerically 0 or 1 occurred\"\n",
      "Warning message in tfun(mu = mu, y = y, w = w, res = FALSE, eta = eta, extra = extra):\n",
      "\"fitted values close to 0 or 1\"\n",
      "Warning message in slot(family, \"linkinv\")(eta, extra = extra):\n",
      "\"fitted probabilities numerically 0 or 1 occurred\"\n",
      "Warning message in tfun(mu = mu, y = y, w = w, res = FALSE, eta = eta, extra = extra):\n",
      "\"fitted values close to 0 or 1\"\n",
      "Warning message in slot(family, \"linkinv\")(eta, extra = extra):\n",
      "\"fitted probabilities numerically 0 or 1 occurred\"\n",
      "Warning message in tfun(mu = mu, y = y, w = w, res = FALSE, eta = eta, extra = extra):\n",
      "\"fitted values close to 0 or 1\"\n",
      "Warning message in slot(family, \"linkinv\")(eta, extra = extra):\n",
      "\"fitted probabilities numerically 0 or 1 occurred\"\n",
      "Warning message in tfun(mu = mu, y = y, w = w, res = FALSE, eta = eta, extra = extra):\n",
      "\"fitted values close to 0 or 1\"\n",
      "Warning message in slot(family, \"linkinv\")(eta, extra = extra):\n",
      "\"fitted probabilities numerically 0 or 1 occurred\"\n",
      "Warning message in tfun(mu = mu, y = y, w = w, res = FALSE, eta = eta, extra = extra):\n",
      "\"fitted values close to 0 or 1\"\n",
      "Warning message in checkwz(wz, M = M, trace = trace, wzepsilon = control$wzepsilon):\n",
      "\"2 diagonal elements of the working weights variable 'wz' have been replaced by 1.819e-12\"\n",
      "Warning message in slot(family, \"linkinv\")(eta, extra = extra):\n",
      "\"fitted probabilities numerically 0 or 1 occurred\"\n",
      "Warning message in tfun(mu = mu, y = y, w = w, res = FALSE, eta = eta, extra = extra):\n",
      "\"fitted values close to 0 or 1\"\n",
      "Warning message in slot(family, \"linkinv\")(eta, extra = extra):\n",
      "\"fitted probabilities numerically 0 or 1 occurred\"\n",
      "Warning message in tfun(mu = mu, y = y, w = w, res = FALSE, eta = eta, extra = extra):\n",
      "\"fitted values close to 0 or 1\"\n",
      "Warning message in slot(family, \"linkinv\")(eta, extra = extra):\n",
      "\"fitted probabilities numerically 0 or 1 occurred\"\n",
      "Warning message in tfun(mu = mu, y = y, w = w, res = FALSE, eta = eta, extra = extra):\n",
      "\"fitted values close to 0 or 1\"\n",
      "Warning message in slot(family, \"linkinv\")(eta, extra = extra):\n",
      "\"fitted probabilities numerically 0 or 1 occurred\"\n",
      "Warning message in tfun(mu = mu, y = y, w = w, res = FALSE, eta = eta, extra = extra):\n",
      "\"fitted values close to 0 or 1\"\n",
      "Warning message in slot(family, \"linkinv\")(eta, extra = extra):\n",
      "\"fitted probabilities numerically 0 or 1 occurred\"\n",
      "Warning message in tfun(mu = mu, y = y, w = w, res = FALSE, eta = eta, extra = extra):\n",
      "\"fitted values close to 0 or 1\"\n",
      "Warning message in slot(family, \"linkinv\")(eta, extra = extra):\n",
      "\"fitted probabilities numerically 0 or 1 occurred\"\n",
      "Warning message in tfun(mu = mu, y = y, w = w, res = FALSE, eta = eta, extra = extra):\n",
      "\"fitted values close to 0 or 1\"\n",
      "Warning message in slot(family, \"linkinv\")(eta, extra = extra):\n",
      "\"fitted probabilities numerically 0 or 1 occurred\"\n",
      "Warning message in tfun(mu = mu, y = y, w = w, res = FALSE, eta = eta, extra = extra):\n",
      "\"fitted values close to 0 or 1\"\n",
      "Warning message in slot(family, \"linkinv\")(eta, extra = extra):\n",
      "\"fitted probabilities numerically 0 or 1 occurred\"\n",
      "Warning message in tfun(mu = mu, y = y, w = w, res = FALSE, eta = eta, extra = extra):\n",
      "\"fitted values close to 0 or 1\"\n",
      "Warning message in slot(family, \"linkinv\")(eta, extra = extra):\n",
      "\"fitted probabilities numerically 0 or 1 occurred\"\n",
      "Warning message in tfun(mu = mu, y = y, w = w, res = FALSE, eta = eta, extra = extra):\n",
      "\"fitted values close to 0 or 1\"\n",
      "Warning message in slot(family, \"linkinv\")(eta, extra = extra):\n",
      "\"fitted probabilities numerically 0 or 1 occurred\"\n",
      "Warning message in tfun(mu = mu, y = y, w = w, res = FALSE, eta = eta, extra = extra):\n",
      "\"fitted values close to 0 or 1\"\n",
      "Warning message in slot(family, \"linkinv\")(eta, extra = extra):\n",
      "\"fitted probabilities numerically 0 or 1 occurred\"\n",
      "Warning message in tfun(mu = mu, y = y, w = w, res = FALSE, eta = eta, extra = extra):\n",
      "\"fitted values close to 0 or 1\"\n",
      "Warning message in slot(family, \"linkinv\")(eta, extra = extra):\n",
      "\"fitted probabilities numerically 0 or 1 occurred\"\n",
      "Warning message in tfun(mu = mu, y = y, w = w, res = FALSE, eta = eta, extra = extra):\n",
      "\"fitted values close to 0 or 1\"\n",
      "Warning message in slot(family, \"linkinv\")(eta, extra = extra):\n",
      "\"fitted probabilities numerically 0 or 1 occurred\"\n",
      "Warning message in tfun(mu = mu, y = y, w = w, res = FALSE, eta = eta, extra = extra):\n",
      "\"fitted values close to 0 or 1\"\n",
      "Warning message in slot(family, \"linkinv\")(eta, extra = extra):\n",
      "\"fitted probabilities numerically 0 or 1 occurred\"\n",
      "Warning message in tfun(mu = mu, y = y, w = w, res = FALSE, eta = eta, extra = extra):\n",
      "\"fitted values close to 0 or 1\"\n",
      "Warning message in slot(family, \"linkinv\")(eta, extra = extra):\n",
      "\"fitted probabilities numerically 0 or 1 occurred\"\n",
      "Warning message in tfun(mu = mu, y = y, w = w, res = FALSE, eta = eta, extra = extra):\n",
      "\"fitted values close to 0 or 1\"\n",
      "Warning message in slot(family, \"linkinv\")(eta, extra = extra):\n",
      "\"fitted probabilities numerically 0 or 1 occurred\"\n",
      "Warning message in tfun(mu = mu, y = y, w = w, res = FALSE, eta = eta, extra = extra):\n",
      "\"fitted values close to 0 or 1\"\n",
      "Warning message in slot(family, \"linkinv\")(eta, extra = extra):\n",
      "\"fitted probabilities numerically 0 or 1 occurred\"\n",
      "Warning message in tfun(mu = mu, y = y, w = w, res = FALSE, eta = eta, extra = extra):\n",
      "\"fitted values close to 0 or 1\"\n",
      "Warning message in slot(family, \"linkinv\")(eta, extra = extra):\n",
      "\"fitted probabilities numerically 0 or 1 occurred\"\n",
      "Warning message in tfun(mu = mu, y = y, w = w, res = FALSE, eta = eta, extra = extra):\n",
      "\"fitted values close to 0 or 1\"\n",
      "Warning message in slot(family, \"linkinv\")(eta, extra = extra):\n",
      "\"fitted probabilities numerically 0 or 1 occurred\"\n",
      "Warning message in tfun(mu = mu, y = y, w = w, res = FALSE, eta = eta, extra = extra):\n",
      "\"fitted values close to 0 or 1\"\n",
      "Warning message in slot(family, \"linkinv\")(eta, extra = extra):\n",
      "\"fitted probabilities numerically 0 or 1 occurred\"\n",
      "Warning message in tfun(mu = mu, y = y, w = w, res = FALSE, eta = eta, extra = extra):\n",
      "\"fitted values close to 0 or 1\"\n",
      "Warning message in vglm.fitter(x = x, y = y, w = w, offset = offset, Xm2 = Xm2, :\n",
      "\"iterations terminated because half-step sizes are very small\"\n",
      "Warning message in vglm.fitter(x = x, y = y, w = w, offset = offset, Xm2 = Xm2, :\n",
      "\"some quantities such as z, residuals, SEs may be inaccurate due to convergence at a half-step\"\n",
      "Warning message in temp1@family@linkinv(eta = temp1@predictors, extra = temp1@extra):\n",
      "\"fitted probabilities numerically 0 or 1 occurred\"\n",
      "Warning message in temp1@family@linkinv(eta = temp1@predictors, extra = temp1@extra):\n",
      "\"fitted probabilities numerically 0 or 1 occurred\"\n"
     ]
    },
    {
     "name": "stderr",
     "output_type": "stream",
     "text": [
      "Warning message in temp1@family@linkinv(eta = temp1@predictors, extra = temp1@extra):\n",
      "\"fitted probabilities numerically 0 or 1 occurred\"\n",
      "Warning message in temp1@family@linkinv(eta = temp1@predictors, extra = temp1@extra):\n",
      "\"fitted probabilities numerically 0 or 1 occurred\"\n",
      "Warning message in temp1@family@linkinv(eta = temp1@predictors, extra = temp1@extra):\n",
      "\"fitted probabilities numerically 0 or 1 occurred\"\n",
      "Warning message in temp1@family@linkinv(eta = temp1@predictors, extra = temp1@extra):\n",
      "\"fitted probabilities numerically 0 or 1 occurred\"\n",
      "Warning message in temp1@family@linkinv(eta = temp1@predictors, extra = temp1@extra):\n",
      "\"fitted probabilities numerically 0 or 1 occurred\"\n",
      "Warning message in temp1@family@linkinv(eta = temp1@predictors, extra = temp1@extra):\n",
      "\"fitted probabilities numerically 0 or 1 occurred\"\n",
      "Warning message in temp1@family@linkinv(eta = temp1@predictors, extra = temp1@extra):\n",
      "\"fitted probabilities numerically 0 or 1 occurred\"\n",
      "Warning message in temp1@family@linkinv(eta = temp1@predictors, extra = temp1@extra):\n",
      "\"fitted probabilities numerically 0 or 1 occurred\"\n",
      "Warning message in temp1@family@linkinv(eta = temp1@predictors, extra = temp1@extra):\n",
      "\"fitted probabilities numerically 0 or 1 occurred\"\n",
      "Warning message in temp1@family@linkinv(eta = temp1@predictors, extra = temp1@extra):\n",
      "\"fitted probabilities numerically 0 or 1 occurred\"\n",
      "Warning message in temp1@family@linkinv(eta = temp1@predictors, extra = temp1@extra):\n",
      "\"fitted probabilities numerically 0 or 1 occurred\"\n",
      "Warning message in temp1@family@linkinv(eta = temp1@predictors, extra = temp1@extra):\n",
      "\"fitted probabilities numerically 0 or 1 occurred\"\n",
      "Warning message in temp1@family@linkinv(eta = temp1@predictors, extra = temp1@extra):\n",
      "\"fitted probabilities numerically 0 or 1 occurred\"\n",
      "Warning message in temp1@family@linkinv(eta = temp1@predictors, extra = temp1@extra):\n",
      "\"fitted probabilities numerically 0 or 1 occurred\"\n",
      "Warning message in temp1@family@linkinv(eta = temp1@predictors, extra = temp1@extra):\n",
      "\"fitted probabilities numerically 0 or 1 occurred\"\n",
      "Warning message in temp1@family@linkinv(eta = temp1@predictors, extra = temp1@extra):\n",
      "\"fitted probabilities numerically 0 or 1 occurred\"\n",
      "Warning message in temp1@family@linkinv(eta = temp1@predictors, extra = temp1@extra):\n",
      "\"fitted probabilities numerically 0 or 1 occurred\"\n",
      "Warning message in temp1@family@linkinv(eta = temp1@predictors, extra = temp1@extra):\n",
      "\"fitted probabilities numerically 0 or 1 occurred\"\n",
      "Warning message in temp1@family@linkinv(eta = temp1@predictors, extra = temp1@extra):\n",
      "\"fitted probabilities numerically 0 or 1 occurred\"\n",
      "Warning message in temp1@family@linkinv(eta = temp1@predictors, extra = temp1@extra):\n",
      "\"fitted probabilities numerically 0 or 1 occurred\"\n",
      "Warning message in temp1@family@linkinv(eta = temp1@predictors, extra = temp1@extra):\n",
      "\"fitted probabilities numerically 0 or 1 occurred\"\n",
      "Warning message in temp1@family@linkinv(eta = temp1@predictors, extra = temp1@extra):\n",
      "\"fitted probabilities numerically 0 or 1 occurred\"\n",
      "Warning message in temp1@family@linkinv(eta = temp1@predictors, extra = temp1@extra):\n",
      "\"fitted probabilities numerically 0 or 1 occurred\"\n",
      "Warning message in temp1@family@linkinv(eta = temp1@predictors, extra = temp1@extra):\n",
      "\"fitted probabilities numerically 0 or 1 occurred\"\n",
      "Warning message in temp1@family@linkinv(eta = temp1@predictors, extra = temp1@extra):\n",
      "\"fitted probabilities numerically 0 or 1 occurred\"\n",
      "Warning message in temp1@family@linkinv(eta = temp1@predictors, extra = temp1@extra):\n",
      "\"fitted probabilities numerically 0 or 1 occurred\"\n"
     ]
    },
    {
     "data": {
      "text/plain": [
       "\n",
       "Call:\n",
       "vglm(formula = clusters ~ bicy + cart + mcyc + pcar + boat + \n",
       "    wigc + cgdp + tpop + upop + popd + land + rifr + prec, family = multinomial, \n",
       "    data = df)\n",
       "\n",
       "Coefficients: \n",
       "                Estimate Std. Error z value Pr(>|z|)  \n",
       "(Intercept):1  2.116e+00  2.135e+00   0.991   0.3215  \n",
       "(Intercept):2 -8.524e+00  4.954e+00      NA       NA  \n",
       "bicy:1        -4.629e-03  4.648e-02  -0.100   0.9207  \n",
       "bicy:2         1.145e-01  8.862e-02   1.292   0.1965  \n",
       "cart:1         5.103e-03  8.117e-02   0.063   0.9499  \n",
       "cart:2        -2.589e-01  2.009e-01      NA       NA  \n",
       "mcyc:1        -1.030e-02  4.744e-02  -0.217   0.8281  \n",
       "mcyc:2         8.432e-02  6.420e-02   1.313   0.1891  \n",
       "pcar:1        -2.261e-01  9.518e-02      NA       NA  \n",
       "pcar:2         1.372e-01  7.788e-02   1.761   0.0782 .\n",
       "boat:1        -1.758e+00  1.309e+00  -1.343   0.1793  \n",
       "boat:2        -2.559e+00  1.561e+00      NA       NA  \n",
       "wigc:1         8.587e+00  4.585e+00   1.873   0.0611 .\n",
       "wigc:2         1.096e+01  7.047e+00   1.556   0.1198  \n",
       "cgdp:1        -1.466e-11  1.658e-11  -0.885   0.3764  \n",
       "cgdp:2         7.110e-12  6.816e-12      NA       NA  \n",
       "tpop:1         2.650e-08  3.759e-08   0.705   0.4809  \n",
       "tpop:2         2.706e-08  2.811e-08   0.963   0.3357  \n",
       "upop:1        -3.040e-03  3.205e-02  -0.095   0.9244  \n",
       "upop:2         3.533e-03  4.876e-02   0.072   0.9422  \n",
       "popd:1        -1.426e-03  5.746e-03  -0.248   0.8040  \n",
       "popd:2         8.145e-03  9.639e-03   0.845   0.3981  \n",
       "land:1         5.086e-07  1.849e-06   0.275   0.7833  \n",
       "land:2        -8.653e-06  5.103e-06  -1.696   0.0900 .\n",
       "rifr:1        -2.773e-05  4.063e-05  -0.683   0.4948  \n",
       "rifr:2         4.206e-05  2.604e-05      NA       NA  \n",
       "prec:1         6.993e-04  1.077e-03   0.649   0.5160  \n",
       "prec:2         4.037e-04  1.406e-03   0.287   0.7739  \n",
       "---\n",
       "Signif. codes:  0 '***' 0.001 '**' 0.01 '*' 0.05 '.' 0.1 ' ' 1\n",
       "\n",
       "Names of linear predictors: log(mu[,1]/mu[,3]), log(mu[,2]/mu[,3])\n",
       "\n",
       "Residual deviance: 36.5171 on 118 degrees of freedom\n",
       "\n",
       "Log-likelihood: -18.2585 on 118 degrees of freedom\n",
       "\n",
       "Number of Fisher scoring iterations: 14 \n",
       "\n",
       "Warning: Hauck-Donner effect detected in the following estimate(s):\n",
       "'(Intercept):2', 'cart:2', 'pcar:1', 'boat:2', 'cgdp:2', 'rifr:2'\n",
       "\n",
       "\n",
       "Reference group is level  3  of the response"
      ]
     },
     "metadata": {},
     "output_type": "display_data"
    }
   ],
   "source": [
    "head(df)\n",
    "\n",
    "# Fit the model\n",
    "model <- nnet::multinom(clusters ~. -Country  , data = df)\n",
    "# Summarize the model\n",
    "summary(model)\n",
    "\n",
    "#z values\n",
    "z <- summary(model)$coefficients/summary(model)$standard.errors\n",
    "z\n",
    "# 2-tailed z test\n",
    "p <- (1 - pnorm(abs(z), 0, 1)) * 2\n",
    "p\n",
    "\n",
    "## extract the coefficients from the model and exponentiate\n",
    "exp(coef(model))\n",
    "\n",
    "# Make predictions\n",
    "predicted.classes <- model %>% predict(df)\n",
    "head(predicted.classes)\n",
    "\n",
    "head(pp <- fitted(model))\n",
    "# Model accuracy\n",
    "mean(predicted.classes == df$clusters)\n",
    "\n",
    "fit.MLR <- vglm( clusters ~ bicy + cart + mcyc +\n",
    "                pcar+boat+wigc+cgdp+tpop+upop+popd+land+rifr+prec ,\n",
    "                family=multinomial, df)\n",
    "summary(fit.MLR)\n",
    "\n",
    "\n"
   ]
  },
  {
   "cell_type": "code",
   "execution_count": null,
   "metadata": {},
   "outputs": [],
   "source": []
  }
 ],
 "metadata": {
  "kernelspec": {
   "display_name": "R",
   "language": "R",
   "name": "ir"
  },
  "language_info": {
   "codemirror_mode": "r",
   "file_extension": ".r",
   "mimetype": "text/x-r-source",
   "name": "R",
   "pygments_lexer": "r",
   "version": "4.0.2"
  }
 },
 "nbformat": 4,
 "nbformat_minor": 4
}
