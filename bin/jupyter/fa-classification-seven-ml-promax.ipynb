{
 "cells": [
  {
   "cell_type": "code",
   "execution_count": 2,
   "metadata": {},
   "outputs": [
    {
     "name": "stderr",
     "output_type": "stream",
     "text": [
      "Warning message:\n",
      "\"package 'randomForest' was built under R version 4.0.3\"\n",
      "randomForest 4.6-14\n",
      "\n",
      "Type rfNews() to see new features/changes/bug fixes.\n",
      "\n",
      "Warning message:\n",
      "\"package 'tidyverse' was built under R version 4.0.3\"\n",
      "-- \u001b[1mAttaching packages\u001b[22m ------------------------------------------------------------------------------- tidyverse 1.3.0 --\n",
      "\n",
      "\u001b[32mv\u001b[39m \u001b[34mggplot2\u001b[39m 3.3.3     \u001b[32mv\u001b[39m \u001b[34mpurrr  \u001b[39m 0.3.4\n",
      "\u001b[32mv\u001b[39m \u001b[34mtibble \u001b[39m 3.0.6     \u001b[32mv\u001b[39m \u001b[34mdplyr  \u001b[39m 1.0.4\n",
      "\u001b[32mv\u001b[39m \u001b[34mtidyr  \u001b[39m 1.1.2     \u001b[32mv\u001b[39m \u001b[34mstringr\u001b[39m 1.4.0\n",
      "\u001b[32mv\u001b[39m \u001b[34mreadr  \u001b[39m 1.4.0     \u001b[32mv\u001b[39m \u001b[34mforcats\u001b[39m 0.5.1\n",
      "\n",
      "Warning message:\n",
      "\"package 'ggplot2' was built under R version 4.0.3\"\n",
      "Warning message:\n",
      "\"package 'tibble' was built under R version 4.0.3\"\n",
      "Warning message:\n",
      "\"package 'dplyr' was built under R version 4.0.3\"\n",
      "Warning message:\n",
      "\"package 'forcats' was built under R version 4.0.3\"\n",
      "-- \u001b[1mConflicts\u001b[22m ---------------------------------------------------------------------------------- tidyverse_conflicts() --\n",
      "\u001b[31mx\u001b[39m \u001b[34mdplyr\u001b[39m::\u001b[32mcombine()\u001b[39m  masks \u001b[34mrandomForest\u001b[39m::combine()\n",
      "\u001b[31mx\u001b[39m \u001b[34mdplyr\u001b[39m::\u001b[32mfilter()\u001b[39m   masks \u001b[34mstats\u001b[39m::filter()\n",
      "\u001b[31mx\u001b[39m \u001b[34mdplyr\u001b[39m::\u001b[32mlag()\u001b[39m      masks \u001b[34mstats\u001b[39m::lag()\n",
      "\u001b[31mx\u001b[39m \u001b[34mggplot2\u001b[39m::\u001b[32mmargin()\u001b[39m masks \u001b[34mrandomForest\u001b[39m::margin()\n",
      "\n",
      "Warning message:\n",
      "\"package 'Rcpp' was built under R version 4.0.3\"\n",
      "Warning message:\n",
      "\"package 'rattle' was built under R version 4.0.4\"\n",
      "Loading required package: bitops\n",
      "\n",
      "Warning message:\n",
      "\"package 'bitops' was built under R version 4.0.3\"\n",
      "Rattle: A free graphical interface for data science with R.\n",
      "Version 5.4.0 Copyright (c) 2006-2020 Togaware Pty Ltd.\n",
      "Type 'rattle()' to shake, rattle, and roll your data.\n",
      "\n",
      "\n",
      "Attaching package: 'rattle'\n",
      "\n",
      "\n",
      "The following object is masked from 'package:randomForest':\n",
      "\n",
      "    importance\n",
      "\n",
      "\n",
      "Warning message:\n",
      "\"package 'rpart.plot' was built under R version 4.0.4\"\n",
      "Warning message:\n",
      "\"package 'party' was built under R version 4.0.3\"\n",
      "Loading required package: grid\n",
      "\n",
      "Loading required package: mvtnorm\n",
      "\n",
      "Loading required package: modeltools\n",
      "\n",
      "Warning message:\n",
      "\"package 'modeltools' was built under R version 4.0.3\"\n",
      "Loading required package: stats4\n",
      "\n",
      "Loading required package: strucchange\n",
      "\n",
      "Warning message:\n",
      "\"package 'strucchange' was built under R version 4.0.3\"\n",
      "Loading required package: zoo\n",
      "\n",
      "\n",
      "Attaching package: 'zoo'\n",
      "\n",
      "\n",
      "The following objects are masked from 'package:base':\n",
      "\n",
      "    as.Date, as.Date.numeric\n",
      "\n",
      "\n",
      "Loading required package: sandwich\n",
      "\n",
      "Warning message:\n",
      "\"package 'sandwich' was built under R version 4.0.3\"\n",
      "\n",
      "Attaching package: 'strucchange'\n",
      "\n",
      "\n",
      "The following object is masked from 'package:stringr':\n",
      "\n",
      "    boundary\n",
      "\n",
      "\n",
      "Warning message:\n",
      "\"package 'partykit' was built under R version 4.0.4\"\n",
      "Loading required package: libcoin\n",
      "\n",
      "Warning message:\n",
      "\"package 'libcoin' was built under R version 4.0.3\"\n",
      "\n",
      "Attaching package: 'partykit'\n",
      "\n",
      "\n",
      "The following objects are masked from 'package:party':\n",
      "\n",
      "    cforest, ctree, ctree_control, edge_simple, mob, mob_control,\n",
      "    node_barplot, node_bivplot, node_boxplot, node_inner, node_surv,\n",
      "    node_terminal, varimp\n",
      "\n",
      "\n",
      "Warning message:\n",
      "\"package 'tree' was built under R version 4.0.3\"\n",
      "Registered S3 method overwritten by 'tree':\n",
      "  method     from\n",
      "  print.tree cli \n",
      "\n",
      "Loading required package: survival\n",
      "\n",
      "Loading required package: TH.data\n",
      "\n",
      "Warning message:\n",
      "\"package 'TH.data' was built under R version 4.0.3\"\n",
      "Loading required package: MASS\n",
      "\n",
      "\n",
      "Attaching package: 'MASS'\n",
      "\n",
      "\n",
      "The following object is masked from 'package:dplyr':\n",
      "\n",
      "    select\n",
      "\n",
      "\n",
      "\n",
      "Attaching package: 'TH.data'\n",
      "\n",
      "\n",
      "The following object is masked from 'package:MASS':\n",
      "\n",
      "    geyser\n",
      "\n",
      "\n",
      "Warning message:\n",
      "\"package 'Metrics' was built under R version 4.0.4\"\n",
      "Warning message:\n",
      "\"package 'randomForestExplainer' was built under R version 4.0.4\"\n",
      "Registered S3 method overwritten by 'GGally':\n",
      "  method from   \n",
      "  +.gg   ggplot2\n",
      "\n",
      "Warning message:\n",
      "\"package 'scales' was built under R version 4.0.4\"\n",
      "\n",
      "Attaching package: 'scales'\n",
      "\n",
      "\n",
      "The following object is masked from 'package:purrr':\n",
      "\n",
      "    discard\n",
      "\n",
      "\n",
      "The following object is masked from 'package:readr':\n",
      "\n",
      "    col_factor\n",
      "\n",
      "\n",
      "Loading required package: foreign\n",
      "\n",
      "Loading required package: nnet\n",
      "\n",
      "Loading required package: reshape2\n",
      "\n",
      "\n",
      "Attaching package: 'reshape2'\n",
      "\n",
      "\n",
      "The following object is masked from 'package:tidyr':\n",
      "\n",
      "    smiths\n",
      "\n",
      "\n",
      "Warning message:\n",
      "\"package 'VGAM' was built under R version 4.0.4\"\n",
      "\n",
      "Attaching package: 'VGAM'\n",
      "\n",
      "\n",
      "The following object is masked from 'package:rattle':\n",
      "\n",
      "    wine\n",
      "\n",
      "\n",
      "The following object is masked from 'package:tidyr':\n",
      "\n",
      "    fill\n",
      "\n",
      "\n",
      "corrplot 0.84 loaded\n",
      "\n",
      "Warning message:\n",
      "\"package 'PerformanceAnalytics' was built under R version 4.0.3\"\n",
      "Loading required package: xts\n",
      "\n",
      "\n",
      "Attaching package: 'xts'\n",
      "\n",
      "\n",
      "The following objects are masked from 'package:dplyr':\n",
      "\n",
      "    first, last\n",
      "\n",
      "\n",
      "\n",
      "Attaching package: 'PerformanceAnalytics'\n",
      "\n",
      "\n",
      "The following object is masked from 'package:graphics':\n",
      "\n",
      "    legend\n",
      "\n",
      "\n",
      "Warning message:\n",
      "\"package 'psych' was built under R version 4.0.4\"\n",
      "\n",
      "Attaching package: 'psych'\n",
      "\n",
      "\n",
      "The following objects are masked from 'package:VGAM':\n",
      "\n",
      "    fisherz, logistic, logit\n",
      "\n",
      "\n",
      "The following objects are masked from 'package:scales':\n",
      "\n",
      "    alpha, rescale\n",
      "\n",
      "\n",
      "The following objects are masked from 'package:ggplot2':\n",
      "\n",
      "    %+%, alpha\n",
      "\n",
      "\n",
      "The following object is masked from 'package:randomForest':\n",
      "\n",
      "    outlier\n",
      "\n",
      "\n",
      "Warning message:\n",
      "\"package 'data.table' was built under R version 4.0.3\"\n",
      "\n",
      "Attaching package: 'data.table'\n",
      "\n",
      "\n",
      "The following objects are masked from 'package:xts':\n",
      "\n",
      "    first, last\n",
      "\n",
      "\n",
      "The following objects are masked from 'package:reshape2':\n",
      "\n",
      "    dcast, melt\n",
      "\n",
      "\n",
      "The following objects are masked from 'package:dplyr':\n",
      "\n",
      "    between, first, last\n",
      "\n",
      "\n",
      "The following object is masked from 'package:purrr':\n",
      "\n",
      "    transpose\n",
      "\n",
      "\n",
      "Warning message:\n",
      "\"package 'writexl' was built under R version 4.0.3\"\n"
     ]
    }
   ],
   "source": [
    "#install.packages('randomForest')\n",
    "library(readxl)\n",
    "library(randomForest)\n",
    "library(tidyverse)\n",
    "#install.packages('dplyr')\n",
    "library(dplyr)\n",
    "library(Rcpp)\n",
    "\n",
    "\n",
    "library(rpart)# Popular decision tree algorithm\n",
    "#install.packages('rattle')\n",
    "library(rattle)# Fancy tree plot\n",
    "library(rpart.plot)# Enhanced tree plots\n",
    "library(RColorBrewer)# Color selection for fancy tree plot\n",
    "library(party) # Alternative decision tree algorithm\n",
    "#install.packages('partykit')\n",
    "library(partykit)# Convert rpart object to BinaryTree\n",
    "\n",
    "#install.packages('tree')\n",
    "library(tree)\n",
    "#install.packages('multcomp')\n",
    "library(multcomp)\n",
    "#install.packages('party')\n",
    "\n",
    "\n",
    "#install.packages('Metrics')\n",
    "library(Metrics)\n",
    "#install.packages('reprtree')\n",
    "#devtools::install_github(\"MI2DataLab/randomForestExplainer\")\n",
    "#install.packages('randomForestExplainer')\n",
    "library(randomForestExplainer)\n",
    "#install.packages(\"scales\")\n",
    "library(scales)\n",
    "#update.packages()\n",
    "#install.packages(\"packagename\")\n",
    "require(foreign)\n",
    "require(nnet)\n",
    "require(ggplot2)\n",
    "require(reshape2)\n",
    "#install.packages(\"stats4\")\n",
    "#install.packages(\"splines\")\n",
    "library(stats4) #Load package stats\n",
    "library(splines) #Load package splines\n",
    "#To load package VGAM, need to load package stats4 and splines.\n",
    "#install.packages(\"VGAM\")\n",
    "library(VGAM) #Load package VGAM\n",
    "\n",
    "\n",
    "#install.packages(\"psych\")\n",
    "#install.packages(\"PerformanceAnalytics\")\n",
    "library(corrplot)\n",
    "library(PerformanceAnalytics)\n",
    "library(psych)\n",
    "\n",
    "library(data.table)\n",
    "library(writexl)\n",
    "\n"
   ]
  },
  {
   "cell_type": "markdown",
   "metadata": {},
   "source": [
    "# FA (weighted) Classifcation"
   ]
  },
  {
   "cell_type": "code",
   "execution_count": 3,
   "metadata": {},
   "outputs": [
    {
     "data": {
      "image/png": "[encoded data removed]",
      "text/plain": [
       "Plot with title \"Histogram of df$cart\""
      ]
     },
     "metadata": {
      "image/png": {
       "height": 600,
       "width": 600
      }
     },
     "output_type": "display_data"
    },
    {
     "data": {
      "image/png": "[encoded data removed]",
      "text/plain": [
       "Plot with title \"\""
      ]
     },
     "metadata": {
      "image/png": {
       "height": 600,
       "width": 600
      }
     },
     "output_type": "display_data"
    }
   ],
   "source": [
    "df.wa = read_excel( \"../../results/df-water-access.xlsx\" ,sheet=1)\n",
    "df.exp =read_excel(\"../../results/df-water-explore.xlsx\" ,sheet=1)\n",
    "df.cluster = read_excel(\"../../results/df-fa-seven-cluster-rank.xlsx\" ,sheet=1)\n",
    "df.wb = read_excel(\"../../results/df-wb.xlsx\" ,sheet=1 )\n",
    "df.exp$clusters <- as.factor(df.cluster$clusters)\n",
    "df <- merge(x = df.exp,\n",
    "              y = df.wb,\n",
    "              by = c(\"Country\"))\n",
    "\n",
    "df <- df[, c(1:13, 17,21)]\n",
    "\n",
    "#scaling the world bank data similar to DHS aggregation out of 100\n",
    "df.wb <- df[,c(9:15)]\n",
    "df.wb <- data.frame(lapply(df.wb, function(x) scale(x, center = FALSE, scale = max(x, na.rm = TRUE)/100)))\n",
    "df.scale <- cbind(df, df.wb)\n",
    "df.scale <- df.scale[,c(1:8,15:21)]\n",
    "\n",
    "\n",
    "df.a <- df[, c(1:6,8)]\n",
    "hist(df$cart)\n",
    "\n",
    "explnatory <- df[,c(2:7, 9:15)]\n",
    "chart.Correlation(explnatory, histogram=TRUE, pch=19 , tl.cex = .7 )\n",
    "                           \n"
   ]
  },
  {
   "cell_type": "code",
   "execution_count": 4,
   "metadata": {
    "scrolled": false
   },
   "outputs": [],
   "source": [
    "# \"\"Off-premise\", \"Market\", \"Piping\"\n",
    "df <- df%>%\n",
    "  mutate(clusters=case_when(\n",
    "    .$clusters==\"1\" ~ \"Off-premise\",\n",
    "    .$clusters==\"2\" ~ \"Market\",\n",
    "    .$clusters==\"3\" ~ \"Piping\",\n",
    "      ))\n",
    "\n",
    "df.scale <- df.scale%>%\n",
    "  mutate(clusters=case_when(\n",
    "    .$clusters==\"1\" ~ \"Off-premise\",\n",
    "    .$clusters==\"2\" ~ \"Market\",\n",
    "    .$clusters==\"3\" ~ \"Piping\",\n",
    "      ))\n"
   ]
  },
  {
   "cell_type": "code",
   "execution_count": 5,
   "metadata": {},
   "outputs": [
    {
     "data": {
      "text/html": [
       "<table class=\"dataframe\">\n",
       "<caption>A data.frame: 6 × 15</caption>\n",
       "<thead>\n",
       "\t<tr><th></th><th scope=col>Country</th><th scope=col>bicy</th><th scope=col>cart</th><th scope=col>mcyc</th><th scope=col>pcar</th><th scope=col>boat</th><th scope=col>wigc</th><th scope=col>clusters</th><th scope=col>cgdp</th><th scope=col>tpop</th><th scope=col>upop</th><th scope=col>popd</th><th scope=col>land</th><th scope=col>rifr</th><th scope=col>prec</th></tr>\n",
       "\t<tr><th></th><th scope=col>&lt;chr&gt;</th><th scope=col>&lt;dbl&gt;</th><th scope=col>&lt;dbl&gt;</th><th scope=col>&lt;dbl&gt;</th><th scope=col>&lt;dbl&gt;</th><th scope=col>&lt;dbl&gt;</th><th scope=col>&lt;dbl&gt;</th><th scope=col>&lt;fct&gt;</th><th scope=col>&lt;dbl&gt;</th><th scope=col>&lt;dbl&gt;</th><th scope=col>&lt;dbl&gt;</th><th scope=col>&lt;dbl&gt;</th><th scope=col>&lt;dbl&gt;</th><th scope=col>&lt;dbl&gt;</th><th scope=col>&lt;dbl&gt;</th></tr>\n",
       "</thead>\n",
       "<tbody>\n",
       "\t<tr><th scope=row>1</th><td>Afghanistan</td><td>30.0</td><td>5.8</td><td>35.2</td><td>11.8</td><td>0.0</td><td>0.1</td><td>Off-premise</td><td> 18353881130</td><td> 37172386</td><td>25.495</td><td>  56.93776</td><td> 652860</td><td>1299.0269</td><td> 327</td></tr>\n",
       "\t<tr><th scope=row>2</th><td>Albania    </td><td>26.4</td><td>3.2</td><td> 9.6</td><td>37.0</td><td>0.7</td><td>0.1</td><td>Market     </td><td> 15147020535</td><td>  2866376</td><td>60.319</td><td> 104.61226</td><td>  27400</td><td>9361.5460</td><td>1485</td></tr>\n",
       "\t<tr><th scope=row>3</th><td>Angola     </td><td> 4.6</td><td>1.3</td><td>17.8</td><td>10.9</td><td>0.4</td><td>0.3</td><td>Off-premise</td><td>101353230785</td><td> 30809762</td><td>65.514</td><td>  24.71305</td><td>1246700</td><td>4963.6533</td><td>1010</td></tr>\n",
       "\t<tr><th scope=row>4</th><td>Armenia    </td><td> 8.6</td><td>0.4</td><td> 0.2</td><td>39.2</td><td>0.3</td><td>0.1</td><td>Piping     </td><td> 12457941907</td><td>  2951776</td><td>63.149</td><td> 103.68022</td><td>  28470</td><td>2329.1833</td><td> 562</td></tr>\n",
       "\t<tr><th scope=row>5</th><td>Azerbaijan </td><td> 6.9</td><td>3.3</td><td> 1.1</td><td>20.4</td><td>0.1</td><td>0.0</td><td>Piping     </td><td> 47112941176</td><td>  9939771</td><td>55.680</td><td> 120.23432</td><td>  82670</td><td> 823.5207</td><td> 447</td></tr>\n",
       "\t<tr><th scope=row>6</th><td>Bangladesh </td><td>25.1</td><td>0.0</td><td> 6.4</td><td> 0.8</td><td>0.0</td><td>0.3</td><td>Market     </td><td>274039092455</td><td>161356039</td><td>36.632</td><td>1239.57931</td><td> 130170</td><td> 657.6039</td><td>2666</td></tr>\n",
       "</tbody>\n",
       "</table>\n"
      ],
      "text/latex": [
       "A data.frame: 6 × 15\n",
       "\\begin{tabular}{r|lllllllllllllll}\n",
       "  & Country & bicy & cart & mcyc & pcar & boat & wigc & clusters & cgdp & tpop & upop & popd & land & rifr & prec\\\\\n",
       "  & <chr> & <dbl> & <dbl> & <dbl> & <dbl> & <dbl> & <dbl> & <fct> & <dbl> & <dbl> & <dbl> & <dbl> & <dbl> & <dbl> & <dbl>\\\\\n",
       "\\hline\n",
       "\t1 & Afghanistan & 30.0 & 5.8 & 35.2 & 11.8 & 0.0 & 0.1 & Off-premise &  18353881130 &  37172386 & 25.495 &   56.93776 &  652860 & 1299.0269 &  327\\\\\n",
       "\t2 & Albania     & 26.4 & 3.2 &  9.6 & 37.0 & 0.7 & 0.1 & Market      &  15147020535 &   2866376 & 60.319 &  104.61226 &   27400 & 9361.5460 & 1485\\\\\n",
       "\t3 & Angola      &  4.6 & 1.3 & 17.8 & 10.9 & 0.4 & 0.3 & Off-premise & 101353230785 &  30809762 & 65.514 &   24.71305 & 1246700 & 4963.6533 & 1010\\\\\n",
       "\t4 & Armenia     &  8.6 & 0.4 &  0.2 & 39.2 & 0.3 & 0.1 & Piping      &  12457941907 &   2951776 & 63.149 &  103.68022 &   28470 & 2329.1833 &  562\\\\\n",
       "\t5 & Azerbaijan  &  6.9 & 3.3 &  1.1 & 20.4 & 0.1 & 0.0 & Piping      &  47112941176 &   9939771 & 55.680 &  120.23432 &   82670 &  823.5207 &  447\\\\\n",
       "\t6 & Bangladesh  & 25.1 & 0.0 &  6.4 &  0.8 & 0.0 & 0.3 & Market      & 274039092455 & 161356039 & 36.632 & 1239.57931 &  130170 &  657.6039 & 2666\\\\\n",
       "\\end{tabular}\n"
      ],
      "text/markdown": [
       "\n",
       "A data.frame: 6 × 15\n",
       "\n",
       "| <!--/--> | Country &lt;chr&gt; | bicy &lt;dbl&gt; | cart &lt;dbl&gt; | mcyc &lt;dbl&gt; | pcar &lt;dbl&gt; | boat &lt;dbl&gt; | wigc &lt;dbl&gt; | clusters &lt;fct&gt; | cgdp &lt;dbl&gt; | tpop &lt;dbl&gt; | upop &lt;dbl&gt; | popd &lt;dbl&gt; | land &lt;dbl&gt; | rifr &lt;dbl&gt; | prec &lt;dbl&gt; |\n",
       "|---|---|---|---|---|---|---|---|---|---|---|---|---|---|---|---|\n",
       "| 1 | Afghanistan | 30.0 | 5.8 | 35.2 | 11.8 | 0.0 | 0.1 | Off-premise |  18353881130 |  37172386 | 25.495 |   56.93776 |  652860 | 1299.0269 |  327 |\n",
       "| 2 | Albania     | 26.4 | 3.2 |  9.6 | 37.0 | 0.7 | 0.1 | Market      |  15147020535 |   2866376 | 60.319 |  104.61226 |   27400 | 9361.5460 | 1485 |\n",
       "| 3 | Angola      |  4.6 | 1.3 | 17.8 | 10.9 | 0.4 | 0.3 | Off-premise | 101353230785 |  30809762 | 65.514 |   24.71305 | 1246700 | 4963.6533 | 1010 |\n",
       "| 4 | Armenia     |  8.6 | 0.4 |  0.2 | 39.2 | 0.3 | 0.1 | Piping      |  12457941907 |   2951776 | 63.149 |  103.68022 |   28470 | 2329.1833 |  562 |\n",
       "| 5 | Azerbaijan  |  6.9 | 3.3 |  1.1 | 20.4 | 0.1 | 0.0 | Piping      |  47112941176 |   9939771 | 55.680 |  120.23432 |   82670 |  823.5207 |  447 |\n",
       "| 6 | Bangladesh  | 25.1 | 0.0 |  6.4 |  0.8 | 0.0 | 0.3 | Market      | 274039092455 | 161356039 | 36.632 | 1239.57931 |  130170 |  657.6039 | 2666 |\n",
       "\n"
      ],
      "text/plain": [
       "  Country     bicy cart mcyc pcar boat wigc clusters    cgdp         tpop     \n",
       "1 Afghanistan 30.0 5.8  35.2 11.8 0.0  0.1  Off-premise  18353881130  37172386\n",
       "2 Albania     26.4 3.2   9.6 37.0 0.7  0.1  Market       15147020535   2866376\n",
       "3 Angola       4.6 1.3  17.8 10.9 0.4  0.3  Off-premise 101353230785  30809762\n",
       "4 Armenia      8.6 0.4   0.2 39.2 0.3  0.1  Piping       12457941907   2951776\n",
       "5 Azerbaijan   6.9 3.3   1.1 20.4 0.1  0.0  Piping       47112941176   9939771\n",
       "6 Bangladesh  25.1 0.0   6.4  0.8 0.0  0.3  Market      274039092455 161356039\n",
       "  upop   popd       land    rifr      prec\n",
       "1 25.495   56.93776  652860 1299.0269  327\n",
       "2 60.319  104.61226   27400 9361.5460 1485\n",
       "3 65.514   24.71305 1246700 4963.6533 1010\n",
       "4 63.149  103.68022   28470 2329.1833  562\n",
       "5 55.680  120.23432   82670  823.5207  447\n",
       "6 36.632 1239.57931  130170  657.6039 2666"
      ]
     },
     "metadata": {},
     "output_type": "display_data"
    }
   ],
   "source": [
    "df$clusters <- as.factor(df$clusters)\n",
    "df.scale$clusters <- as.factor(df.scale$clusters)\n",
    "write_xlsx(df , '../../results/class.xlsx')\n",
    "write_xlsx(df.scale , '../../results/class-scale.xlsx')\n",
    "head(df)"
   ]
  },
  {
   "cell_type": "markdown",
   "metadata": {},
   "source": [
    "# Tree"
   ]
  },
  {
   "cell_type": "code",
   "execution_count": 10,
   "metadata": {
    "scrolled": false
   },
   "outputs": [
    {
     "name": "stdout",
     "output_type": "stream",
     "text": [
      "\n",
      "Classification tree:\n",
      "rpart(formula = form, data = df, control = rpart.control(minsplit = 4, \n",
      "    cp = 0.01, xval = nrow(df), maxsurrogate = 0, minbucket = 4))\n",
      "\n",
      "Variables actually used in tree construction:\n",
      "[1] boat cgdp pcar popd prec\n",
      "\n",
      "Root node error: 36/73 = 0.49315\n",
      "\n",
      "n= 73 \n",
      "\n",
      "        CP nsplit rel error  xerror    xstd\n",
      "1 0.388889      0   1.00000 1.00000 0.11866\n",
      "2 0.138889      1   0.61111 0.80556 0.11613\n",
      "3 0.083333      2   0.47222 0.75000 0.11458\n",
      "4 0.055556      3   0.38889 0.72222 0.11365\n",
      "5 0.027778      4   0.33333 0.61111 0.10890\n",
      "6 0.010000      6   0.27778 0.61111 0.10890\n"
     ]
    },
    {
     "data": {
      "image/png": "[encoded data removed]",
      "text/plain": [
       "plot without title"
      ]
     },
     "metadata": {
      "image/png": {
       "height": 420,
       "width": 420
      }
     },
     "output_type": "display_data"
    }
   ],
   "source": [
    "# Make big tree\n",
    "form <- as.formula(clusters ~ . - Country)\n",
    "tree.fwa <- rpart(form,data=df,control=rpart.control(minsplit=4,cp=0.01, xval = nrow(df), maxsurrogate = 0, minbucket = 4 )\n",
    "                 )\n",
    "\n",
    "\n",
    "#plot(tree.fwa)# Will make a mess of the plot\n",
    "#text(tree.fwa)\n",
    "plotcp(tree.fwa)\n",
    "printcp(tree.fwa)\n",
    "#summary(tree.fwa) \n",
    "#prp(tree.fwa)# Will plot the tree\n",
    "#prp(tree.fwa,varlen=4)# Shorten variable names"
   ]
  },
  {
   "cell_type": "code",
   "execution_count": 7,
   "metadata": {
    "scrolled": false
   },
   "outputs": [
    {
     "ename": "ERROR",
     "evalue": "Error in legend(x = x, y = y, legend = legend, col = 0, xpd = NA, bty = \"n\", : argument 8 matches multiple formal arguments\n",
     "output_type": "error",
     "traceback": [
      "Error in legend(x = x, y = y, legend = legend, col = 0, xpd = NA, bty = \"n\", : argument 8 matches multiple formal arguments\nTraceback:\n",
      "1. rpart.plot(tree.pru)",
      "2. prp(x, type = type, extra = extra, under = under, fallen.leaves = fallen.leaves, \n .     digits = digits, varlen = varlen, faclen = faclen, roundint = roundint, \n .     cex = cex, tweak = tweak, clip.facs = clip.facs, clip.right.labs = clip.right.labs, \n .     snip = snip, box.palette = box.palette, shadow.col = shadow.col, \n .     ...)",
      "3. possible.palette.legend(ret, class.stats, box.col, box.palette, \n .     legend.x, legend.y, legend.cex, tweak, trace)"
     ]
    },
    {
     "data": {
      "image/png": "[encoded data removed]",
      "text/plain": [
       "plot without title"
      ]
     },
     "metadata": {
      "image/png": {
       "height": 600,
       "width": 600
      }
     },
     "output_type": "display_data"
    }
   ],
   "source": [
    "#size of the plot \n",
    "options(repr.plot.width=10, repr.plot.height=10)\n",
    "par(mar = c(1,1,1,1))\n",
    "par(cex=1)\n",
    "\n",
    "#Interatively prune the tree\n",
    "tree.pru <- prune(tree.fwa, cp=0.017) # interactively trim the tree\n",
    "#prp(tree.pru) # display the new tree\n",
    "rpart.plot(tree.pru)"
   ]
  },
  {
   "cell_type": "code",
   "execution_count": 8,
   "metadata": {
    "scrolled": false
   },
   "outputs": [
    {
     "name": "stdout",
     "output_type": "stream",
     "text": [
      "Call:\n",
      "rpart(formula = form, data = df, control = rpart.control(minsplit = 4, \n",
      "    cp = 0.01, xval = nrow(df), maxsurrogate = 0, minbucket = 4))\n",
      "  n= 73 \n",
      "\n",
      "          CP nsplit rel error    xerror      xstd\n",
      "1 0.38888889      0 1.0000000 1.0000000 0.1186556\n",
      "2 0.13888889      1 0.6111111 0.8055556 0.1161345\n",
      "3 0.08333333      2 0.4722222 0.7500000 0.1145768\n",
      "4 0.05555556      3 0.3888889 0.7222222 0.1136506\n",
      "5 0.02777778      4 0.3333333 0.6111111 0.1089012\n",
      "6 0.01000000      6 0.2777778 0.6111111 0.1089012\n",
      "\n",
      "Variable importance\n",
      "pcar cgdp popd boat prec \n",
      "  43   25   18    7    6 \n",
      "\n",
      "Node number 1: 73 observations,    complexity param=0.3888889\n",
      "  predicted class=Off-premise  expected loss=0.4931507  P(node) =1\n",
      "    class counts:    14    37    22\n",
      "   probabilities: 0.192 0.507 0.301 \n",
      "  left son=2 (49 obs) right son=3 (24 obs)\n",
      "  Primary splits:\n",
      "      pcar < 12.4         to the left,  improve=12.198510, (0 missing)\n",
      "      wigc < 0.25         to the right, improve= 6.923826, (0 missing)\n",
      "      cgdp < 109724700000 to the right, improve= 4.938771, (0 missing)\n",
      "      popd < 104.1462     to the right, improve= 4.453246, (0 missing)\n",
      "      prec < 719.5        to the right, improve= 3.300554, (0 missing)\n",
      "\n",
      "Node number 2: 49 observations,    complexity param=0.08333333\n",
      "  predicted class=Off-premise  expected loss=0.2653061  P(node) =0.6712329\n",
      "    class counts:     6    36     7\n",
      "   probabilities: 0.122 0.735 0.143 \n",
      "  left son=4 (8 obs) right son=5 (41 obs)\n",
      "  Primary splits:\n",
      "      cgdp < 161699100000 to the right, improve=5.432180, (0 missing)\n",
      "      popd < 250.2979     to the right, improve=4.206070, (0 missing)\n",
      "      tpop < 89804240     to the right, improve=3.718766, (0 missing)\n",
      "      boat < 0.95         to the left,  improve=2.530612, (0 missing)\n",
      "      pcar < 8.1          to the left,  improve=1.987755, (0 missing)\n",
      "\n",
      "Node number 3: 24 observations,    complexity param=0.1388889\n",
      "  predicted class=Piping       expected loss=0.375  P(node) =0.3287671\n",
      "    class counts:     8     1    15\n",
      "   probabilities: 0.333 0.042 0.625 \n",
      "  left son=6 (7 obs) right son=7 (17 obs)\n",
      "  Primary splits:\n",
      "      popd < 104.1462     to the right, improve=5.025910, (0 missing)\n",
      "      prec < 579          to the right, improve=2.867716, (0 missing)\n",
      "      land < 125340       to the left,  improve=2.005556, (0 missing)\n",
      "      mcyc < 6.6          to the right, improve=2.000583, (0 missing)\n",
      "      cart < 3.25         to the left,  improve=1.600877, (0 missing)\n",
      "\n",
      "Node number 4: 8 observations,    complexity param=0.05555556\n",
      "  predicted class=Market       expected loss=0.5  P(node) =0.109589\n",
      "    class counts:     4     1     3\n",
      "   probabilities: 0.500 0.125 0.375 \n",
      "  left son=8 (4 obs) right son=9 (4 obs)\n",
      "  Primary splits:\n",
      "      cgdp < 294303300000 to the right, improve=1.75, (0 missing)\n",
      "      tpop < 134004000    to the right, improve=1.75, (0 missing)\n",
      "      bicy < 19.85        to the right, improve=0.75, (0 missing)\n",
      "      mcyc < 31.55        to the right, improve=0.75, (0 missing)\n",
      "      boat < 0.2          to the left,  improve=0.75, (0 missing)\n",
      "\n",
      "Node number 5: 41 observations,    complexity param=0.02777778\n",
      "  predicted class=Off-premise  expected loss=0.1463415  P(node) =0.5616438\n",
      "    class counts:     2    35     4\n",
      "   probabilities: 0.049 0.854 0.098 \n",
      "  left son=10 (33 obs) right son=11 (8 obs)\n",
      "  Primary splits:\n",
      "      boat < 0.55         to the left,  improve=2.065965, (0 missing)\n",
      "      tpop < 1688052      to the right, improve=1.823035, (0 missing)\n",
      "      land < 19770        to the right, improve=1.823035, (0 missing)\n",
      "      pcar < 8.95         to the left,  improve=1.308389, (0 missing)\n",
      "      cgdp < 1615283000   to the right, improve=1.282795, (0 missing)\n",
      "\n",
      "Node number 6: 7 observations\n",
      "  predicted class=Market       expected loss=0.1428571  P(node) =0.09589041\n",
      "    class counts:     6     0     1\n",
      "   probabilities: 0.857 0.000 0.143 \n",
      "\n",
      "Node number 7: 17 observations\n",
      "  predicted class=Piping       expected loss=0.1764706  P(node) =0.2328767\n",
      "    class counts:     2     1    14\n",
      "   probabilities: 0.118 0.059 0.824 \n",
      "\n",
      "Node number 8: 4 observations\n",
      "  predicted class=Market       expected loss=0.25  P(node) =0.05479452\n",
      "    class counts:     3     1     0\n",
      "   probabilities: 0.750 0.250 0.000 \n",
      "\n",
      "Node number 9: 4 observations\n",
      "  predicted class=Piping       expected loss=0.25  P(node) =0.05479452\n",
      "    class counts:     1     0     3\n",
      "   probabilities: 0.250 0.000 0.750 \n",
      "\n",
      "Node number 10: 33 observations\n",
      "  predicted class=Off-premise  expected loss=0.06060606  P(node) =0.4520548\n",
      "    class counts:     1    31     1\n",
      "   probabilities: 0.030 0.939 0.030 \n",
      "\n",
      "Node number 11: 8 observations,    complexity param=0.02777778\n",
      "  predicted class=Off-premise  expected loss=0.5  P(node) =0.109589\n",
      "    class counts:     1     4     3\n",
      "   probabilities: 0.125 0.500 0.375 \n",
      "  left son=22 (4 obs) right son=23 (4 obs)\n",
      "  Primary splits:\n",
      "      prec < 1736         to the right, improve=1.75, (0 missing)\n",
      "      pcar < 5.2          to the right, improve=0.75, (0 missing)\n",
      "      wigc < 0.25         to the right, improve=0.75, (0 missing)\n",
      "      cgdp < 14267890000  to the right, improve=0.75, (0 missing)\n",
      "      tpop < 8128235      to the right, improve=0.75, (0 missing)\n",
      "\n",
      "Node number 22: 4 observations\n",
      "  predicted class=Off-premise  expected loss=0.25  P(node) =0.05479452\n",
      "    class counts:     1     3     0\n",
      "   probabilities: 0.250 0.750 0.000 \n",
      "\n",
      "Node number 23: 4 observations\n",
      "  predicted class=Piping       expected loss=0.25  P(node) =0.05479452\n",
      "    class counts:     0     1     3\n",
      "   probabilities: 0.000 0.250 0.750 \n",
      "\n"
     ]
    },
    {
     "data": {
      "image/png": "[encoded data removed]",
      "text/plain": [
       "Plot with title \"\""
      ]
     },
     "metadata": {
      "image/png": {
       "height": 600,
       "width": 600
      }
     },
     "output_type": "display_data"
    }
   ],
   "source": [
    "fancyRpartPlot(tree.pru)\n",
    "summary(tree.pru)"
   ]
  },
  {
   "cell_type": "code",
   "execution_count": null,
   "metadata": {},
   "outputs": [],
   "source": [
    "prp(tree.fwa, snip=TRUE)"
   ]
  },
  {
   "cell_type": "markdown",
   "metadata": {},
   "source": [
    "http://www.milbo.org/rpart-plot/prp.pdf\n",
    "http://www.di.fc.ul.pt/~jpn/r/tree/tree.html"
   ]
  },
  {
   "cell_type": "code",
   "execution_count": null,
   "metadata": {},
   "outputs": [],
   "source": [
    "tree.wa = tree(clusters ~ . - Country  , data = df.scale)\n",
    "summary(tree.wa) \n",
    "plot(tree.wa)\n",
    "text(tree.wa, pretty = 0 , cex=.8) "
   ]
  },
  {
   "cell_type": "code",
   "execution_count": null,
   "metadata": {},
   "outputs": [],
   "source": [
    "tree.wa = tree(clusters ~ . - Country  , data = df, mindev=0.01, )\n",
    "summary(tree.wa) \n",
    "plot(tree.wa)\n",
    "text(tree.wa, pretty = 0 , cex=.90) "
   ]
  },
  {
   "cell_type": "markdown",
   "metadata": {},
   "source": [
    "# Distributional prediction\n",
    "my.prediction <- predict(tree.wa) # gives the probability for each class\n",
    "head(my.prediction)"
   ]
  },
  {
   "cell_type": "markdown",
   "metadata": {},
   "source": [
    "# Point prediction\n",
    "# Let's translate the probability output to categorical output\n",
    "maxidx <- function(arr) {\n",
    "    return(which(arr == max(arr)))\n",
    "}\n",
    "idx <- apply(my.prediction, c(1), maxidx)\n",
    "prediction <- c(\"Worst Water Source\", \"Better Water Source\", \"Best Water Source\")[idx]\n",
    "table(prediction, df.scale$clusters)"
   ]
  },
  {
   "cell_type": "code",
   "execution_count": null,
   "metadata": {},
   "outputs": [],
   "source": [
    "plot(tree.wa)\n",
    "text(tree.wa)"
   ]
  },
  {
   "cell_type": "code",
   "execution_count": null,
   "metadata": {},
   "outputs": [],
   "source": [
    "pru.wa <- prune.tree(tree.wa, best = 6 )\n",
    "summary(pru.wa)\n",
    "plot(pru.wa)\n",
    "text(pru.wa, pretty = 0)\n"
   ]
  },
  {
   "cell_type": "markdown",
   "metadata": {},
   "source": [
    "# Random Forest"
   ]
  },
  {
   "cell_type": "code",
   "execution_count": null,
   "metadata": {
    "scrolled": false
   },
   "outputs": [],
   "source": [
    "rf.water = randomForest(clusters~. -Country, data = df , ntree= 200,mtry=12)\n",
    "print(rf.water)\n",
    "\n",
    "summary(rf.water)\n",
    "\n",
    "#importance <- importance(rf.water, sort = TRUE)\n",
    "#importance\n",
    "\n",
    "# create an importance plot\n",
    "varImpPlot(rf.water, sort=TRUE, n.var=min(30, nrow(rf.water$importance)),\n",
    "           type=NULL, class=NULL, scale=TRUE )\n",
    "#plot\n",
    "plot(randomForest(clusters~. -Country, data = df ,ntree=200,  keep.forest=FALSE, mtry=5) )"
   ]
  },
  {
   "cell_type": "markdown",
   "metadata": {},
   "source": [
    "The MeanDecreaseGini measures the Gini importance = how important the features are over all splits done in the tree/forest - whereas for each individual split the Gini importance indicates how much the Gini criterion = \"unequality/heterogeneity\" was reduced using this split.\n",
    "mori, upop, pcar popd, mcyc important and contributed most to obtaining such splits, so they are considered more important."
   ]
  },
  {
   "cell_type": "markdown",
   "metadata": {},
   "source": [
    "# MULTINOMIAL LOGISTIC REGRESSION"
   ]
  },
  {
   "cell_type": "code",
   "execution_count": null,
   "metadata": {
    "scrolled": false
   },
   "outputs": [],
   "source": [
    "head(df)\n",
    "with(df, table( df[,8]),)\n"
   ]
  },
  {
   "cell_type": "code",
   "execution_count": null,
   "metadata": {
    "scrolled": false
   },
   "outputs": [],
   "source": [
    "head(df)\n",
    "\n",
    "# Fit the model\n",
    "model <- nnet::multinom(clusters ~. -Country  , data = df)\n",
    "# Summarize the model\n",
    "summary(model)\n",
    "\n",
    "#z values\n",
    "z <- summary(model)$coefficients/summary(model)$standard.errors\n",
    "z\n",
    "# 2-tailed z test\n",
    "p <- (1 - pnorm(abs(z), 0, 1)) * 2\n",
    "p\n",
    "\n",
    "## extract the coefficients from the model and exponentiate\n",
    "exp(coef(model))\n",
    "\n",
    "# Make predictions\n",
    "predicted.classes <- model %>% predict(df)\n",
    "head(predicted.classes)\n",
    "\n",
    "head(pp <- fitted(model))\n",
    "# Model accuracy\n",
    "mean(predicted.classes == df$clusters)\n",
    "\n",
    "fit.MLR <- vglm( clusters ~ bicy + cart + mcyc +\n",
    "                pcar+boat+wigc+cgdp+tpop+upop+popd+land+rifr+prec ,\n",
    "                family=multinomial, df)\n",
    "summary(fit.MLR)\n",
    "\n",
    "\n"
   ]
  },
  {
   "cell_type": "code",
   "execution_count": null,
   "metadata": {},
   "outputs": [],
   "source": []
  }
 ],
 "metadata": {
  "kernelspec": {
   "display_name": "R",
   "language": "R",
   "name": "ir"
  },
  "language_info": {
   "codemirror_mode": "r",
   "file_extension": ".r",
   "mimetype": "text/x-r-source",
   "name": "R",
   "pygments_lexer": "r",
   "version": "4.0.2"
  }
 },
 "nbformat": 4,
 "nbformat_minor": 4
}
