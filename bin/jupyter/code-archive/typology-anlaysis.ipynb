{
 "cells": [
  {
   "cell_type": "code",
   "execution_count": 11,
   "metadata": {},
   "outputs": [
    {
     "name": "stderr",
     "output_type": "stream",
     "text": [
      "Warning message:\n",
      "\"package 'clustree' was built under R version 4.0.3\"\n",
      "Loading required package: ggraph\n",
      "\n",
      "Warning message:\n",
      "\"package 'ggraph' was built under R version 4.0.3\"\n",
      "\n",
      "Attaching package: 'ggraph'\n",
      "\n",
      "\n",
      "The following object is masked from 'package:sp':\n",
      "\n",
      "    geometry\n",
      "\n",
      "\n"
     ]
    }
   ],
   "source": [
    "library(readxl)\n",
    "library(ggplot2)\n",
    "library(\"FactoMineR\")\n",
    "library(tidyverse) #data Manipulation\n",
    "library(cluster) #Clustering algorithms\n",
    "library(factoextra)#Clustering Algorithms & Visualization\n",
    "library(gridExtra)\n",
    "#install.packages(\"dendextend\")\n",
    "#install.packages(\"ggplot2\")\n",
    "#install.packages(\"rlang\")\n",
    "library(dendextend) # For fancy deprograms\n",
    "library(rlang) # clustering cutting\n",
    "library(\"np\") #npreg: you may need to install it\n",
    "library(PerformanceAnalytics)\n",
    "library(psych)\n",
    "#install.packages('fmsb')\n",
    "library(fmsb) #For Spider Plots\n",
    "#install.packages('countrycode')\n",
    "library(countrycode)\n",
    "#install.packages(c('hrbrthemes','viridis'))\n",
    "#library(hrbrthemes)\n",
    "#library(viridis)\n",
    "#install.packages('GGally')\n",
    "library(GGally)\n",
    "library(dplyr)\n",
    "library(ggmap)\n",
    "library(leaflet)\n",
    "library(htmltools)\n",
    "library(dplyr) #getMap()\n",
    "library(rgeos)\n",
    "#install.packages('rworldmap')\n",
    "library(rworldmap) #joinCountryData2Map\n",
    "library(grid)\n",
    "library(tidyr)\n",
    "#install.packages(c(\"cowplot\", \"googleway\", \"ggplot2\", \"ggrepel\", \"ggspatial\", \"sf\", \"rnaturalearth\", \"rnaturalearthdata\"))\n",
    "library(\"sf\")\n",
    "library(\"rnaturalearth\")\n",
    "library(\"rnaturalearthdata\")\n",
    "#install.packages('writexl')\n",
    "library(writexl)\n",
    "library(clustree)"
   ]
  },
  {
   "cell_type": "code",
   "execution_count": 13,
   "metadata": {},
   "outputs": [
    {
     "data": {
      "text/html": [
       "<table class=\"dataframe\">\n",
       "<caption>A tibble: 6 × 32</caption>\n",
       "<thead>\n",
       "\t<tr><th scope=col>Country</th><th scope=col>Year</th><th scope=col>Survey</th><th scope=col>imws</th><th scope=col>phom</th><th scope=col>pipy</th><th scope=col>ptap</th><th scope=col>bore</th><th scope=col>pwel</th><th scope=col>pspr</th><th scope=col>...</th><th scope=col>watp</th><th scope=col>tles</th><th scope=col>tmor</th><th scope=col>bicy</th><th scope=col>cart</th><th scope=col>mcyc</th><th scope=col>pcar</th><th scope=col>boat</th><th scope=col>wigc</th><th scope=col>clusters</th></tr>\n",
       "\t<tr><th scope=col>&lt;chr&gt;</th><th scope=col>&lt;dbl&gt;</th><th scope=col>&lt;chr&gt;</th><th scope=col>&lt;dbl&gt;</th><th scope=col>&lt;dbl&gt;</th><th scope=col>&lt;dbl&gt;</th><th scope=col>&lt;dbl&gt;</th><th scope=col>&lt;dbl&gt;</th><th scope=col>&lt;dbl&gt;</th><th scope=col>&lt;dbl&gt;</th><th scope=col>...</th><th scope=col>&lt;dbl&gt;</th><th scope=col>&lt;dbl&gt;</th><th scope=col>&lt;dbl&gt;</th><th scope=col>&lt;dbl&gt;</th><th scope=col>&lt;dbl&gt;</th><th scope=col>&lt;dbl&gt;</th><th scope=col>&lt;dbl&gt;</th><th scope=col>&lt;dbl&gt;</th><th scope=col>&lt;dbl&gt;</th><th scope=col>&lt;dbl&gt;</th></tr>\n",
       "</thead>\n",
       "<tbody>\n",
       "\t<tr><td>Afghanistan</td><td>2015</td><td>DHS</td><td>71.2</td><td> 2.3</td><td> 4.8</td><td>14.2</td><td>20.1</td><td>18.5</td><td>4.7</td><td>...</td><td>45.3</td><td>45.2</td><td> 8.2</td><td>30.0</td><td>5.8</td><td>35.2</td><td>11.8</td><td>0.0</td><td>0.1</td><td>1</td></tr>\n",
       "\t<tr><td>Albania    </td><td>2018</td><td>DHS</td><td>98.4</td><td>48.8</td><td> 5.2</td><td> 2.4</td><td> 1.4</td><td> 4.1</td><td>2.5</td><td>...</td><td>77.9</td><td>20.6</td><td> 1.1</td><td>26.4</td><td>3.2</td><td> 9.6</td><td>37.0</td><td>0.7</td><td>0.1</td><td>2</td></tr>\n",
       "\t<tr><td>Angola     </td><td>2016</td><td>DHS</td><td>66.9</td><td> 4.3</td><td> 9.7</td><td>10.3</td><td> 1.9</td><td> 9.1</td><td>3.3</td><td>...</td><td>34.5</td><td>46.1</td><td>15.6</td><td> 4.6</td><td>1.3</td><td>17.8</td><td>10.9</td><td>0.4</td><td>0.3</td><td>1</td></tr>\n",
       "\t<tr><td>Armenia    </td><td>2016</td><td>DHS</td><td>99.9</td><td>88.3</td><td> 8.0</td><td> 0.5</td><td> 0.2</td><td> 0.2</td><td>1.0</td><td>...</td><td>97.6</td><td> 1.6</td><td> 0.1</td><td> 8.6</td><td>0.4</td><td> 0.2</td><td>39.2</td><td>0.3</td><td>0.1</td><td>2</td></tr>\n",
       "\t<tr><td>Azerbaijan </td><td>2006</td><td>DHS</td><td>90.6</td><td>34.0</td><td>19.7</td><td> 3.5</td><td> 9.3</td><td> 6.2</td><td>7.5</td><td>...</td><td>75.9</td><td>18.7</td><td> 4.4</td><td> 6.9</td><td>3.3</td><td> 1.1</td><td>20.4</td><td>0.1</td><td>0.0</td><td>3</td></tr>\n",
       "\t<tr><td>Bangladesh </td><td>2014</td><td>DHS</td><td>97.8</td><td> 4.3</td><td> 3.3</td><td> 2.7</td><td>86.4</td><td> 0.2</td><td>0.0</td><td>...</td><td>75.5</td><td>22.7</td><td> 1.6</td><td>25.1</td><td>0.0</td><td> 6.4</td><td> 0.8</td><td>0.0</td><td>0.3</td><td>1</td></tr>\n",
       "</tbody>\n",
       "</table>\n"
      ],
      "text/latex": [
       "A tibble: 6 × 32\n",
       "\\begin{tabular}{lllllllllllllllllllll}\n",
       " Country & Year & Survey & imws & phom & pipy & ptap & bore & pwel & pspr & ... & watp & tles & tmor & bicy & cart & mcyc & pcar & boat & wigc & clusters\\\\\n",
       " <chr> & <dbl> & <chr> & <dbl> & <dbl> & <dbl> & <dbl> & <dbl> & <dbl> & <dbl> & ... & <dbl> & <dbl> & <dbl> & <dbl> & <dbl> & <dbl> & <dbl> & <dbl> & <dbl> & <dbl>\\\\\n",
       "\\hline\n",
       "\t Afghanistan & 2015 & DHS & 71.2 &  2.3 &  4.8 & 14.2 & 20.1 & 18.5 & 4.7 & ... & 45.3 & 45.2 &  8.2 & 30.0 & 5.8 & 35.2 & 11.8 & 0.0 & 0.1 & 1\\\\\n",
       "\t Albania     & 2018 & DHS & 98.4 & 48.8 &  5.2 &  2.4 &  1.4 &  4.1 & 2.5 & ... & 77.9 & 20.6 &  1.1 & 26.4 & 3.2 &  9.6 & 37.0 & 0.7 & 0.1 & 2\\\\\n",
       "\t Angola      & 2016 & DHS & 66.9 &  4.3 &  9.7 & 10.3 &  1.9 &  9.1 & 3.3 & ... & 34.5 & 46.1 & 15.6 &  4.6 & 1.3 & 17.8 & 10.9 & 0.4 & 0.3 & 1\\\\\n",
       "\t Armenia     & 2016 & DHS & 99.9 & 88.3 &  8.0 &  0.5 &  0.2 &  0.2 & 1.0 & ... & 97.6 &  1.6 &  0.1 &  8.6 & 0.4 &  0.2 & 39.2 & 0.3 & 0.1 & 2\\\\\n",
       "\t Azerbaijan  & 2006 & DHS & 90.6 & 34.0 & 19.7 &  3.5 &  9.3 &  6.2 & 7.5 & ... & 75.9 & 18.7 &  4.4 &  6.9 & 3.3 &  1.1 & 20.4 & 0.1 & 0.0 & 3\\\\\n",
       "\t Bangladesh  & 2014 & DHS & 97.8 &  4.3 &  3.3 &  2.7 & 86.4 &  0.2 & 0.0 & ... & 75.5 & 22.7 &  1.6 & 25.1 & 0.0 &  6.4 &  0.8 & 0.0 & 0.3 & 1\\\\\n",
       "\\end{tabular}\n"
      ],
      "text/markdown": [
       "\n",
       "A tibble: 6 × 32\n",
       "\n",
       "| Country &lt;chr&gt; | Year &lt;dbl&gt; | Survey &lt;chr&gt; | imws &lt;dbl&gt; | phom &lt;dbl&gt; | pipy &lt;dbl&gt; | ptap &lt;dbl&gt; | bore &lt;dbl&gt; | pwel &lt;dbl&gt; | pspr &lt;dbl&gt; | ... ... | watp &lt;dbl&gt; | tles &lt;dbl&gt; | tmor &lt;dbl&gt; | bicy &lt;dbl&gt; | cart &lt;dbl&gt; | mcyc &lt;dbl&gt; | pcar &lt;dbl&gt; | boat &lt;dbl&gt; | wigc &lt;dbl&gt; | clusters &lt;dbl&gt; |\n",
       "|---|---|---|---|---|---|---|---|---|---|---|---|---|---|---|---|---|---|---|---|---|\n",
       "| Afghanistan | 2015 | DHS | 71.2 |  2.3 |  4.8 | 14.2 | 20.1 | 18.5 | 4.7 | ... | 45.3 | 45.2 |  8.2 | 30.0 | 5.8 | 35.2 | 11.8 | 0.0 | 0.1 | 1 |\n",
       "| Albania     | 2018 | DHS | 98.4 | 48.8 |  5.2 |  2.4 |  1.4 |  4.1 | 2.5 | ... | 77.9 | 20.6 |  1.1 | 26.4 | 3.2 |  9.6 | 37.0 | 0.7 | 0.1 | 2 |\n",
       "| Angola      | 2016 | DHS | 66.9 |  4.3 |  9.7 | 10.3 |  1.9 |  9.1 | 3.3 | ... | 34.5 | 46.1 | 15.6 |  4.6 | 1.3 | 17.8 | 10.9 | 0.4 | 0.3 | 1 |\n",
       "| Armenia     | 2016 | DHS | 99.9 | 88.3 |  8.0 |  0.5 |  0.2 |  0.2 | 1.0 | ... | 97.6 |  1.6 |  0.1 |  8.6 | 0.4 |  0.2 | 39.2 | 0.3 | 0.1 | 2 |\n",
       "| Azerbaijan  | 2006 | DHS | 90.6 | 34.0 | 19.7 |  3.5 |  9.3 |  6.2 | 7.5 | ... | 75.9 | 18.7 |  4.4 |  6.9 | 3.3 |  1.1 | 20.4 | 0.1 | 0.0 | 3 |\n",
       "| Bangladesh  | 2014 | DHS | 97.8 |  4.3 |  3.3 |  2.7 | 86.4 |  0.2 | 0.0 | ... | 75.5 | 22.7 |  1.6 | 25.1 | 0.0 |  6.4 |  0.8 | 0.0 | 0.3 | 1 |\n",
       "\n"
      ],
      "text/plain": [
       "  Country     Year Survey imws phom pipy ptap bore pwel pspr ... watp tles tmor\n",
       "1 Afghanistan 2015 DHS    71.2  2.3  4.8 14.2 20.1 18.5 4.7  ... 45.3 45.2  8.2\n",
       "2 Albania     2018 DHS    98.4 48.8  5.2  2.4  1.4  4.1 2.5  ... 77.9 20.6  1.1\n",
       "3 Angola      2016 DHS    66.9  4.3  9.7 10.3  1.9  9.1 3.3  ... 34.5 46.1 15.6\n",
       "4 Armenia     2016 DHS    99.9 88.3  8.0  0.5  0.2  0.2 1.0  ... 97.6  1.6  0.1\n",
       "5 Azerbaijan  2006 DHS    90.6 34.0 19.7  3.5  9.3  6.2 7.5  ... 75.9 18.7  4.4\n",
       "6 Bangladesh  2014 DHS    97.8  4.3  3.3  2.7 86.4  0.2 0.0  ... 75.5 22.7  1.6\n",
       "  bicy cart mcyc pcar boat wigc clusters\n",
       "1 30.0 5.8  35.2 11.8 0.0  0.1  1       \n",
       "2 26.4 3.2   9.6 37.0 0.7  0.1  2       \n",
       "3  4.6 1.3  17.8 10.9 0.4  0.3  1       \n",
       "4  8.6 0.4   0.2 39.2 0.3  0.1  2       \n",
       "5  6.9 3.3   1.1 20.4 0.1  0.0  3       \n",
       "6 25.1 0.0   6.4  0.8 0.0  0.3  1       "
      ]
     },
     "metadata": {},
     "output_type": "display_data"
    }
   ],
   "source": [
    "df.water.access <- read_excel(\"../../results/df-water-access.xlsx\",sheet=1)\n",
    "dfsimple <- read_excel(\"../../results/dfsimple.xlsx\",sheet=1)\n",
    "head(dfsimple)\n",
    "#dfsimple$clusters <- cutree(hc.ward2,4)\n",
    "df.wa <- df.water.access[,c(1:18)]"
   ]
  },
  {
   "cell_type": "code",
   "execution_count": 14,
   "metadata": {},
   "outputs": [
    {
     "data": {
      "text/plain": [
       "   Country               phom            pipy            ptap      \n",
       " Length:73          Min.   : 0.00   Min.   : 0.00   Min.   : 0.00  \n",
       " Class :character   1st Qu.: 2.70   1st Qu.: 3.30   1st Qu.: 3.00  \n",
       " Mode  :character   Median : 8.30   Median : 6.60   Median :10.30  \n",
       "                    Mean   :18.31   Mean   :11.59   Mean   :12.01  \n",
       "                    3rd Qu.:25.40   3rd Qu.:19.70   3rd Qu.:17.70  \n",
       "                    Max.   :90.60   Max.   :54.10   Max.   :57.70  \n",
       "      bore            pwel             pspr             rain       \n",
       " Min.   : 0.00   Min.   : 0.000   Min.   : 0.000   Min.   : 0.000  \n",
       " 1st Qu.: 0.60   1st Qu.: 1.500   1st Qu.: 0.100   1st Qu.: 0.000  \n",
       " Median : 5.70   Median : 4.100   Median : 0.800   Median : 0.300  \n",
       " Mean   :13.43   Mean   : 6.747   Mean   : 3.342   Mean   : 2.742  \n",
       " 3rd Qu.:22.90   3rd Qu.: 9.000   3rd Qu.: 4.200   3rd Qu.: 1.700  \n",
       " Max.   :86.40   Max.   :48.100   Max.   :47.900   Max.   :46.700  \n",
       "      uwel             uspr             truc             ctan       \n",
       " Min.   : 0.000   Min.   : 0.000   Min.   : 0.000   Min.   :0.0000  \n",
       " 1st Qu.: 0.700   1st Qu.: 0.100   1st Qu.: 0.100   1st Qu.:0.0000  \n",
       " Median : 4.200   Median : 1.200   Median : 0.300   Median :0.1000  \n",
       " Mean   : 6.892   Mean   : 3.889   Mean   : 1.449   Mean   :0.5466  \n",
       " 3rd Qu.:10.700   3rd Qu.: 3.300   3rd Qu.: 1.300   3rd Qu.:0.5000  \n",
       " Max.   :33.000   Max.   :36.300   Max.   :14.100   Max.   :6.1000  \n",
       "      bott             othw             surw             tles      \n",
       " Min.   : 0.000   Min.   :0.0000   Min.   : 0.000   Min.   : 0.00  \n",
       " 1st Qu.: 0.100   1st Qu.:0.0000   1st Qu.: 1.200   1st Qu.:14.90  \n",
       " Median : 0.600   Median :0.1000   Median : 4.400   Median :36.80  \n",
       " Mean   : 6.716   Mean   :0.4466   Mean   : 5.282   Mean   :33.06  \n",
       " 3rd Qu.: 3.800   3rd Qu.:0.5000   3rd Qu.: 7.600   3rd Qu.:49.90  \n",
       " Max.   :77.800   Max.   :4.6000   Max.   :19.200   Max.   :73.90  \n",
       "      tmor             watp      \n",
       " Min.   : 0.000   Min.   : 0.00  \n",
       " 1st Qu.: 1.200   1st Qu.:26.90  \n",
       " Median : 6.700   Median :44.20  \n",
       " Mean   : 9.677   Mean   :49.38  \n",
       " 3rd Qu.:13.200   3rd Qu.:76.10  \n",
       " Max.   :49.300   Max.   :99.30  "
      ]
     },
     "metadata": {},
     "output_type": "display_data"
    },
    {
     "data": {
      "text/html": [
       "<table class=\"dataframe\">\n",
       "<caption>A tibble: 6 × 18</caption>\n",
       "<thead>\n",
       "\t<tr><th scope=col>Country</th><th scope=col>phom</th><th scope=col>pipy</th><th scope=col>ptap</th><th scope=col>bore</th><th scope=col>pwel</th><th scope=col>pspr</th><th scope=col>rain</th><th scope=col>uwel</th><th scope=col>uspr</th><th scope=col>truc</th><th scope=col>ctan</th><th scope=col>bott</th><th scope=col>othw</th><th scope=col>surw</th><th scope=col>tles</th><th scope=col>tmor</th><th scope=col>watp</th></tr>\n",
       "\t<tr><th scope=col>&lt;chr&gt;</th><th scope=col>&lt;dbl&gt;</th><th scope=col>&lt;dbl&gt;</th><th scope=col>&lt;dbl&gt;</th><th scope=col>&lt;dbl&gt;</th><th scope=col>&lt;dbl&gt;</th><th scope=col>&lt;dbl&gt;</th><th scope=col>&lt;dbl&gt;</th><th scope=col>&lt;dbl&gt;</th><th scope=col>&lt;dbl&gt;</th><th scope=col>&lt;dbl&gt;</th><th scope=col>&lt;dbl&gt;</th><th scope=col>&lt;dbl&gt;</th><th scope=col>&lt;dbl&gt;</th><th scope=col>&lt;dbl&gt;</th><th scope=col>&lt;dbl&gt;</th><th scope=col>&lt;dbl&gt;</th><th scope=col>&lt;dbl&gt;</th></tr>\n",
       "</thead>\n",
       "<tbody>\n",
       "\t<tr><td>Afghanistan</td><td> 2.3</td><td> 4.8</td><td>14.2</td><td>20.1</td><td>18.5</td><td>4.7</td><td>0.4</td><td>11.1</td><td>8.6</td><td> 1.5</td><td>4.4</td><td> 0.2</td><td>1.7</td><td> 7.3</td><td>45.2</td><td> 8.2</td><td>45.3</td></tr>\n",
       "\t<tr><td>Albania    </td><td>48.8</td><td> 5.2</td><td> 2.4</td><td> 1.4</td><td> 4.1</td><td>2.5</td><td>0.0</td><td> 0.8</td><td>0.8</td><td>14.1</td><td>0.2</td><td>19.6</td><td>0.1</td><td> 0.0</td><td>20.6</td><td> 1.1</td><td>77.9</td></tr>\n",
       "\t<tr><td>Angola     </td><td> 4.3</td><td> 9.7</td><td>10.3</td><td> 1.9</td><td> 9.1</td><td>3.3</td><td>1.7</td><td> 8.3</td><td>4.8</td><td> 9.7</td><td>4.3</td><td> 1.2</td><td>1.8</td><td>18.0</td><td>46.1</td><td>15.6</td><td>34.5</td></tr>\n",
       "\t<tr><td>Armenia    </td><td>88.3</td><td> 8.0</td><td> 0.5</td><td> 0.2</td><td> 0.2</td><td>1.0</td><td>0.0</td><td> 0.0</td><td>0.1</td><td> 1.5</td><td>0.0</td><td> 0.0</td><td>0.0</td><td> 0.0</td><td> 1.6</td><td> 0.1</td><td>97.6</td></tr>\n",
       "\t<tr><td>Azerbaijan </td><td>34.0</td><td>19.7</td><td> 3.5</td><td> 9.3</td><td> 6.2</td><td>7.5</td><td>0.0</td><td> 0.2</td><td>1.1</td><td> 9.5</td><td>0.7</td><td> 0.1</td><td>1.1</td><td> 7.0</td><td>18.7</td><td> 4.4</td><td>75.9</td></tr>\n",
       "\t<tr><td>Bangladesh </td><td> 4.3</td><td> 3.3</td><td> 2.7</td><td>86.4</td><td> 0.2</td><td>0.0</td><td>0.4</td><td> 0.6</td><td>0.3</td><td> 0.0</td><td>0.1</td><td> 0.3</td><td>0.1</td><td> 1.2</td><td>22.7</td><td> 1.6</td><td>75.5</td></tr>\n",
       "</tbody>\n",
       "</table>\n"
      ],
      "text/latex": [
       "A tibble: 6 × 18\n",
       "\\begin{tabular}{llllllllllllllllll}\n",
       " Country & phom & pipy & ptap & bore & pwel & pspr & rain & uwel & uspr & truc & ctan & bott & othw & surw & tles & tmor & watp\\\\\n",
       " <chr> & <dbl> & <dbl> & <dbl> & <dbl> & <dbl> & <dbl> & <dbl> & <dbl> & <dbl> & <dbl> & <dbl> & <dbl> & <dbl> & <dbl> & <dbl> & <dbl> & <dbl>\\\\\n",
       "\\hline\n",
       "\t Afghanistan &  2.3 &  4.8 & 14.2 & 20.1 & 18.5 & 4.7 & 0.4 & 11.1 & 8.6 &  1.5 & 4.4 &  0.2 & 1.7 &  7.3 & 45.2 &  8.2 & 45.3\\\\\n",
       "\t Albania     & 48.8 &  5.2 &  2.4 &  1.4 &  4.1 & 2.5 & 0.0 &  0.8 & 0.8 & 14.1 & 0.2 & 19.6 & 0.1 &  0.0 & 20.6 &  1.1 & 77.9\\\\\n",
       "\t Angola      &  4.3 &  9.7 & 10.3 &  1.9 &  9.1 & 3.3 & 1.7 &  8.3 & 4.8 &  9.7 & 4.3 &  1.2 & 1.8 & 18.0 & 46.1 & 15.6 & 34.5\\\\\n",
       "\t Armenia     & 88.3 &  8.0 &  0.5 &  0.2 &  0.2 & 1.0 & 0.0 &  0.0 & 0.1 &  1.5 & 0.0 &  0.0 & 0.0 &  0.0 &  1.6 &  0.1 & 97.6\\\\\n",
       "\t Azerbaijan  & 34.0 & 19.7 &  3.5 &  9.3 &  6.2 & 7.5 & 0.0 &  0.2 & 1.1 &  9.5 & 0.7 &  0.1 & 1.1 &  7.0 & 18.7 &  4.4 & 75.9\\\\\n",
       "\t Bangladesh  &  4.3 &  3.3 &  2.7 & 86.4 &  0.2 & 0.0 & 0.4 &  0.6 & 0.3 &  0.0 & 0.1 &  0.3 & 0.1 &  1.2 & 22.7 &  1.6 & 75.5\\\\\n",
       "\\end{tabular}\n"
      ],
      "text/markdown": [
       "\n",
       "A tibble: 6 × 18\n",
       "\n",
       "| Country &lt;chr&gt; | phom &lt;dbl&gt; | pipy &lt;dbl&gt; | ptap &lt;dbl&gt; | bore &lt;dbl&gt; | pwel &lt;dbl&gt; | pspr &lt;dbl&gt; | rain &lt;dbl&gt; | uwel &lt;dbl&gt; | uspr &lt;dbl&gt; | truc &lt;dbl&gt; | ctan &lt;dbl&gt; | bott &lt;dbl&gt; | othw &lt;dbl&gt; | surw &lt;dbl&gt; | tles &lt;dbl&gt; | tmor &lt;dbl&gt; | watp &lt;dbl&gt; |\n",
       "|---|---|---|---|---|---|---|---|---|---|---|---|---|---|---|---|---|---|\n",
       "| Afghanistan |  2.3 |  4.8 | 14.2 | 20.1 | 18.5 | 4.7 | 0.4 | 11.1 | 8.6 |  1.5 | 4.4 |  0.2 | 1.7 |  7.3 | 45.2 |  8.2 | 45.3 |\n",
       "| Albania     | 48.8 |  5.2 |  2.4 |  1.4 |  4.1 | 2.5 | 0.0 |  0.8 | 0.8 | 14.1 | 0.2 | 19.6 | 0.1 |  0.0 | 20.6 |  1.1 | 77.9 |\n",
       "| Angola      |  4.3 |  9.7 | 10.3 |  1.9 |  9.1 | 3.3 | 1.7 |  8.3 | 4.8 |  9.7 | 4.3 |  1.2 | 1.8 | 18.0 | 46.1 | 15.6 | 34.5 |\n",
       "| Armenia     | 88.3 |  8.0 |  0.5 |  0.2 |  0.2 | 1.0 | 0.0 |  0.0 | 0.1 |  1.5 | 0.0 |  0.0 | 0.0 |  0.0 |  1.6 |  0.1 | 97.6 |\n",
       "| Azerbaijan  | 34.0 | 19.7 |  3.5 |  9.3 |  6.2 | 7.5 | 0.0 |  0.2 | 1.1 |  9.5 | 0.7 |  0.1 | 1.1 |  7.0 | 18.7 |  4.4 | 75.9 |\n",
       "| Bangladesh  |  4.3 |  3.3 |  2.7 | 86.4 |  0.2 | 0.0 | 0.4 |  0.6 | 0.3 |  0.0 | 0.1 |  0.3 | 0.1 |  1.2 | 22.7 |  1.6 | 75.5 |\n",
       "\n"
      ],
      "text/plain": [
       "  Country     phom pipy ptap bore pwel pspr rain uwel uspr truc ctan bott othw\n",
       "1 Afghanistan  2.3  4.8 14.2 20.1 18.5 4.7  0.4  11.1 8.6   1.5 4.4   0.2 1.7 \n",
       "2 Albania     48.8  5.2  2.4  1.4  4.1 2.5  0.0   0.8 0.8  14.1 0.2  19.6 0.1 \n",
       "3 Angola       4.3  9.7 10.3  1.9  9.1 3.3  1.7   8.3 4.8   9.7 4.3   1.2 1.8 \n",
       "4 Armenia     88.3  8.0  0.5  0.2  0.2 1.0  0.0   0.0 0.1   1.5 0.0   0.0 0.0 \n",
       "5 Azerbaijan  34.0 19.7  3.5  9.3  6.2 7.5  0.0   0.2 1.1   9.5 0.7   0.1 1.1 \n",
       "6 Bangladesh   4.3  3.3  2.7 86.4  0.2 0.0  0.4   0.6 0.3   0.0 0.1   0.3 0.1 \n",
       "  surw tles tmor watp\n",
       "1  7.3 45.2  8.2 45.3\n",
       "2  0.0 20.6  1.1 77.9\n",
       "3 18.0 46.1 15.6 34.5\n",
       "4  0.0  1.6  0.1 97.6\n",
       "5  7.0 18.7  4.4 75.9\n",
       "6  1.2 22.7  1.6 75.5"
      ]
     },
     "metadata": {},
     "output_type": "display_data"
    },
    {
     "data": {
      "image/png": "[encoded data removed]",
      "text/plain": [
       "Plot with title \"\""
      ]
     },
     "metadata": {
      "image/png": {
       "height": 420,
       "width": 420
      }
     },
     "output_type": "display_data"
    },
    {
     "data": {
      "image/png": "[encoded data removed]",
      "text/plain": [
       "Plot with title \"\""
      ]
     },
     "metadata": {
      "image/png": {
       "height": 420,
       "width": 420
      }
     },
     "output_type": "display_data"
    }
   ],
   "source": [
    "summary(df.wa)\n",
    "head(df.wa)\n",
    "chart.Correlation(df.wa[,2:10], histogram=TRUE, pch=19 , tl.cex = .7 )\n",
    "chart.Correlation(df.wa[,11:18], histogram=TRUE, pch=19 , tl.cex = .7 )"
   ]
  },
  {
   "cell_type": "markdown",
   "metadata": {},
   "source": [
    "# Spider Plots of the variables"
   ]
  },
  {
   "cell_type": "code",
   "execution_count": 15,
   "metadata": {},
   "outputs": [
    {
     "data": {
      "text/html": [
       "<table class=\"dataframe\">\n",
       "<caption>A tibble: 6 × 17</caption>\n",
       "<thead>\n",
       "\t<tr><th scope=col>phom</th><th scope=col>pipy</th><th scope=col>ptap</th><th scope=col>bore</th><th scope=col>pwel</th><th scope=col>pspr</th><th scope=col>rain</th><th scope=col>uwel</th><th scope=col>uspr</th><th scope=col>truc</th><th scope=col>ctan</th><th scope=col>bott</th><th scope=col>othw</th><th scope=col>surw</th><th scope=col>tles</th><th scope=col>tmor</th><th scope=col>watp</th></tr>\n",
       "\t<tr><th scope=col>&lt;dbl&gt;</th><th scope=col>&lt;dbl&gt;</th><th scope=col>&lt;dbl&gt;</th><th scope=col>&lt;dbl&gt;</th><th scope=col>&lt;dbl&gt;</th><th scope=col>&lt;dbl&gt;</th><th scope=col>&lt;dbl&gt;</th><th scope=col>&lt;dbl&gt;</th><th scope=col>&lt;dbl&gt;</th><th scope=col>&lt;dbl&gt;</th><th scope=col>&lt;dbl&gt;</th><th scope=col>&lt;dbl&gt;</th><th scope=col>&lt;dbl&gt;</th><th scope=col>&lt;dbl&gt;</th><th scope=col>&lt;dbl&gt;</th><th scope=col>&lt;dbl&gt;</th><th scope=col>&lt;dbl&gt;</th></tr>\n",
       "</thead>\n",
       "<tbody>\n",
       "\t<tr><td> 2.3</td><td> 4.8</td><td>14.2</td><td>20.1</td><td>18.5</td><td>4.7</td><td>0.4</td><td>11.1</td><td>8.6</td><td> 1.5</td><td>4.4</td><td> 0.2</td><td>1.7</td><td> 7.3</td><td>45.2</td><td> 8.2</td><td>45.3</td></tr>\n",
       "\t<tr><td>48.8</td><td> 5.2</td><td> 2.4</td><td> 1.4</td><td> 4.1</td><td>2.5</td><td>0.0</td><td> 0.8</td><td>0.8</td><td>14.1</td><td>0.2</td><td>19.6</td><td>0.1</td><td> 0.0</td><td>20.6</td><td> 1.1</td><td>77.9</td></tr>\n",
       "\t<tr><td> 4.3</td><td> 9.7</td><td>10.3</td><td> 1.9</td><td> 9.1</td><td>3.3</td><td>1.7</td><td> 8.3</td><td>4.8</td><td> 9.7</td><td>4.3</td><td> 1.2</td><td>1.8</td><td>18.0</td><td>46.1</td><td>15.6</td><td>34.5</td></tr>\n",
       "\t<tr><td>88.3</td><td> 8.0</td><td> 0.5</td><td> 0.2</td><td> 0.2</td><td>1.0</td><td>0.0</td><td> 0.0</td><td>0.1</td><td> 1.5</td><td>0.0</td><td> 0.0</td><td>0.0</td><td> 0.0</td><td> 1.6</td><td> 0.1</td><td>97.6</td></tr>\n",
       "\t<tr><td>34.0</td><td>19.7</td><td> 3.5</td><td> 9.3</td><td> 6.2</td><td>7.5</td><td>0.0</td><td> 0.2</td><td>1.1</td><td> 9.5</td><td>0.7</td><td> 0.1</td><td>1.1</td><td> 7.0</td><td>18.7</td><td> 4.4</td><td>75.9</td></tr>\n",
       "\t<tr><td> 4.3</td><td> 3.3</td><td> 2.7</td><td>86.4</td><td> 0.2</td><td>0.0</td><td>0.4</td><td> 0.6</td><td>0.3</td><td> 0.0</td><td>0.1</td><td> 0.3</td><td>0.1</td><td> 1.2</td><td>22.7</td><td> 1.6</td><td>75.5</td></tr>\n",
       "</tbody>\n",
       "</table>\n"
      ],
      "text/latex": [
       "A tibble: 6 × 17\n",
       "\\begin{tabular}{lllllllllllllllll}\n",
       " phom & pipy & ptap & bore & pwel & pspr & rain & uwel & uspr & truc & ctan & bott & othw & surw & tles & tmor & watp\\\\\n",
       " <dbl> & <dbl> & <dbl> & <dbl> & <dbl> & <dbl> & <dbl> & <dbl> & <dbl> & <dbl> & <dbl> & <dbl> & <dbl> & <dbl> & <dbl> & <dbl> & <dbl>\\\\\n",
       "\\hline\n",
       "\t  2.3 &  4.8 & 14.2 & 20.1 & 18.5 & 4.7 & 0.4 & 11.1 & 8.6 &  1.5 & 4.4 &  0.2 & 1.7 &  7.3 & 45.2 &  8.2 & 45.3\\\\\n",
       "\t 48.8 &  5.2 &  2.4 &  1.4 &  4.1 & 2.5 & 0.0 &  0.8 & 0.8 & 14.1 & 0.2 & 19.6 & 0.1 &  0.0 & 20.6 &  1.1 & 77.9\\\\\n",
       "\t  4.3 &  9.7 & 10.3 &  1.9 &  9.1 & 3.3 & 1.7 &  8.3 & 4.8 &  9.7 & 4.3 &  1.2 & 1.8 & 18.0 & 46.1 & 15.6 & 34.5\\\\\n",
       "\t 88.3 &  8.0 &  0.5 &  0.2 &  0.2 & 1.0 & 0.0 &  0.0 & 0.1 &  1.5 & 0.0 &  0.0 & 0.0 &  0.0 &  1.6 &  0.1 & 97.6\\\\\n",
       "\t 34.0 & 19.7 &  3.5 &  9.3 &  6.2 & 7.5 & 0.0 &  0.2 & 1.1 &  9.5 & 0.7 &  0.1 & 1.1 &  7.0 & 18.7 &  4.4 & 75.9\\\\\n",
       "\t  4.3 &  3.3 &  2.7 & 86.4 &  0.2 & 0.0 & 0.4 &  0.6 & 0.3 &  0.0 & 0.1 &  0.3 & 0.1 &  1.2 & 22.7 &  1.6 & 75.5\\\\\n",
       "\\end{tabular}\n"
      ],
      "text/markdown": [
       "\n",
       "A tibble: 6 × 17\n",
       "\n",
       "| phom &lt;dbl&gt; | pipy &lt;dbl&gt; | ptap &lt;dbl&gt; | bore &lt;dbl&gt; | pwel &lt;dbl&gt; | pspr &lt;dbl&gt; | rain &lt;dbl&gt; | uwel &lt;dbl&gt; | uspr &lt;dbl&gt; | truc &lt;dbl&gt; | ctan &lt;dbl&gt; | bott &lt;dbl&gt; | othw &lt;dbl&gt; | surw &lt;dbl&gt; | tles &lt;dbl&gt; | tmor &lt;dbl&gt; | watp &lt;dbl&gt; |\n",
       "|---|---|---|---|---|---|---|---|---|---|---|---|---|---|---|---|---|\n",
       "|  2.3 |  4.8 | 14.2 | 20.1 | 18.5 | 4.7 | 0.4 | 11.1 | 8.6 |  1.5 | 4.4 |  0.2 | 1.7 |  7.3 | 45.2 |  8.2 | 45.3 |\n",
       "| 48.8 |  5.2 |  2.4 |  1.4 |  4.1 | 2.5 | 0.0 |  0.8 | 0.8 | 14.1 | 0.2 | 19.6 | 0.1 |  0.0 | 20.6 |  1.1 | 77.9 |\n",
       "|  4.3 |  9.7 | 10.3 |  1.9 |  9.1 | 3.3 | 1.7 |  8.3 | 4.8 |  9.7 | 4.3 |  1.2 | 1.8 | 18.0 | 46.1 | 15.6 | 34.5 |\n",
       "| 88.3 |  8.0 |  0.5 |  0.2 |  0.2 | 1.0 | 0.0 |  0.0 | 0.1 |  1.5 | 0.0 |  0.0 | 0.0 |  0.0 |  1.6 |  0.1 | 97.6 |\n",
       "| 34.0 | 19.7 |  3.5 |  9.3 |  6.2 | 7.5 | 0.0 |  0.2 | 1.1 |  9.5 | 0.7 |  0.1 | 1.1 |  7.0 | 18.7 |  4.4 | 75.9 |\n",
       "|  4.3 |  3.3 |  2.7 | 86.4 |  0.2 | 0.0 | 0.4 |  0.6 | 0.3 |  0.0 | 0.1 |  0.3 | 0.1 |  1.2 | 22.7 |  1.6 | 75.5 |\n",
       "\n"
      ],
      "text/plain": [
       "  phom pipy ptap bore pwel pspr rain uwel uspr truc ctan bott othw surw tles\n",
       "1  2.3  4.8 14.2 20.1 18.5 4.7  0.4  11.1 8.6   1.5 4.4   0.2 1.7   7.3 45.2\n",
       "2 48.8  5.2  2.4  1.4  4.1 2.5  0.0   0.8 0.8  14.1 0.2  19.6 0.1   0.0 20.6\n",
       "3  4.3  9.7 10.3  1.9  9.1 3.3  1.7   8.3 4.8   9.7 4.3   1.2 1.8  18.0 46.1\n",
       "4 88.3  8.0  0.5  0.2  0.2 1.0  0.0   0.0 0.1   1.5 0.0   0.0 0.0   0.0  1.6\n",
       "5 34.0 19.7  3.5  9.3  6.2 7.5  0.0   0.2 1.1   9.5 0.7   0.1 1.1   7.0 18.7\n",
       "6  4.3  3.3  2.7 86.4  0.2 0.0  0.4   0.6 0.3   0.0 0.1   0.3 0.1   1.2 22.7\n",
       "  tmor watp\n",
       "1  8.2 45.3\n",
       "2  1.1 77.9\n",
       "3 15.6 34.5\n",
       "4  0.1 97.6\n",
       "5  4.4 75.9\n",
       "6  1.6 75.5"
      ]
     },
     "metadata": {},
     "output_type": "display_data"
    },
    {
     "data": {
      "text/html": [
       "<table class=\"dataframe\">\n",
       "<caption>A data.frame: 5 × 18</caption>\n",
       "<thead>\n",
       "\t<tr><th scope=col>clusters</th><th scope=col>phom</th><th scope=col>pipy</th><th scope=col>ptap</th><th scope=col>bore</th><th scope=col>pwel</th><th scope=col>pspr</th><th scope=col>rain</th><th scope=col>uwel</th><th scope=col>uspr</th><th scope=col>truc</th><th scope=col>ctan</th><th scope=col>bott</th><th scope=col>othw</th><th scope=col>surw</th><th scope=col>tles</th><th scope=col>tmor</th><th scope=col>watp</th></tr>\n",
       "\t<tr><th scope=col>&lt;dbl&gt;</th><th scope=col>&lt;dbl&gt;</th><th scope=col>&lt;dbl&gt;</th><th scope=col>&lt;dbl&gt;</th><th scope=col>&lt;dbl&gt;</th><th scope=col>&lt;dbl&gt;</th><th scope=col>&lt;dbl&gt;</th><th scope=col>&lt;dbl&gt;</th><th scope=col>&lt;dbl&gt;</th><th scope=col>&lt;dbl&gt;</th><th scope=col>&lt;dbl&gt;</th><th scope=col>&lt;dbl&gt;</th><th scope=col>&lt;dbl&gt;</th><th scope=col>&lt;dbl&gt;</th><th scope=col>&lt;dbl&gt;</th><th scope=col>&lt;dbl&gt;</th><th scope=col>&lt;dbl&gt;</th><th scope=col>&lt;dbl&gt;</th></tr>\n",
       "</thead>\n",
       "<tbody>\n",
       "\t<tr><td>1</td><td> 6.542308</td><td> 6.450000</td><td>12.7115385</td><td>29.869231</td><td>9.557692</td><td> 1.303846</td><td> 0.6115385</td><td>13.207692</td><td> 2.6346154</td><td>1.330769</td><td>0.6269231</td><td> 1.407692</td><td>0.2923077</td><td> 6.111538</td><td>46.834615</td><td>14.4923077</td><td>37.27308</td></tr>\n",
       "\t<tr><td>2</td><td>61.190909</td><td> 4.027273</td><td> 2.2818182</td><td> 1.172727</td><td>7.436364</td><td> 1.336364</td><td> 0.6090909</td><td> 1.709091</td><td> 0.1909091</td><td>2.054545</td><td>0.2818182</td><td>14.000000</td><td>0.6454545</td><td> 1.663636</td><td> 6.145455</td><td> 0.5727273</td><td>65.80909</td></tr>\n",
       "\t<tr><td>3</td><td>19.309091</td><td>26.031818</td><td>17.2863636</td><td> 4.036364</td><td>3.586364</td><td> 2.231818</td><td> 3.0454545</td><td> 3.690909</td><td> 2.1863636</td><td>1.481818</td><td>0.4090909</td><td> 3.650000</td><td>0.7000000</td><td> 5.222727</td><td>27.431818</td><td> 6.7863636</td><td>60.03636</td></tr>\n",
       "\t<tr><td>4</td><td> 1.837500</td><td> 5.775000</td><td>17.0250000</td><td> 4.450000</td><td>7.500000</td><td>16.150000</td><td> 2.4375000</td><td> 5.625000</td><td>20.0375000</td><td>0.225000</td><td>0.4000000</td><td> 0.525000</td><td>0.1125000</td><td>10.200000</td><td>59.837500</td><td>20.3250000</td><td>18.80000</td></tr>\n",
       "\t<tr><td>5</td><td> 9.033333</td><td> 2.550000</td><td> 0.7666667</td><td>11.100000</td><td>3.883333</td><td> 2.850000</td><td>15.1833333</td><td> 2.450000</td><td> 0.8166667</td><td>2.366667</td><td>1.3833333</td><td>35.866667</td><td>0.2666667</td><td> 1.983333</td><td> 7.700000</td><td> 1.9000000</td><td>73.41667</td></tr>\n",
       "</tbody>\n",
       "</table>\n"
      ],
      "text/latex": [
       "A data.frame: 5 × 18\n",
       "\\begin{tabular}{llllllllllllllllll}\n",
       " clusters & phom & pipy & ptap & bore & pwel & pspr & rain & uwel & uspr & truc & ctan & bott & othw & surw & tles & tmor & watp\\\\\n",
       " <dbl> & <dbl> & <dbl> & <dbl> & <dbl> & <dbl> & <dbl> & <dbl> & <dbl> & <dbl> & <dbl> & <dbl> & <dbl> & <dbl> & <dbl> & <dbl> & <dbl> & <dbl>\\\\\n",
       "\\hline\n",
       "\t 1 &  6.542308 &  6.450000 & 12.7115385 & 29.869231 & 9.557692 &  1.303846 &  0.6115385 & 13.207692 &  2.6346154 & 1.330769 & 0.6269231 &  1.407692 & 0.2923077 &  6.111538 & 46.834615 & 14.4923077 & 37.27308\\\\\n",
       "\t 2 & 61.190909 &  4.027273 &  2.2818182 &  1.172727 & 7.436364 &  1.336364 &  0.6090909 &  1.709091 &  0.1909091 & 2.054545 & 0.2818182 & 14.000000 & 0.6454545 &  1.663636 &  6.145455 &  0.5727273 & 65.80909\\\\\n",
       "\t 3 & 19.309091 & 26.031818 & 17.2863636 &  4.036364 & 3.586364 &  2.231818 &  3.0454545 &  3.690909 &  2.1863636 & 1.481818 & 0.4090909 &  3.650000 & 0.7000000 &  5.222727 & 27.431818 &  6.7863636 & 60.03636\\\\\n",
       "\t 4 &  1.837500 &  5.775000 & 17.0250000 &  4.450000 & 7.500000 & 16.150000 &  2.4375000 &  5.625000 & 20.0375000 & 0.225000 & 0.4000000 &  0.525000 & 0.1125000 & 10.200000 & 59.837500 & 20.3250000 & 18.80000\\\\\n",
       "\t 5 &  9.033333 &  2.550000 &  0.7666667 & 11.100000 & 3.883333 &  2.850000 & 15.1833333 &  2.450000 &  0.8166667 & 2.366667 & 1.3833333 & 35.866667 & 0.2666667 &  1.983333 &  7.700000 &  1.9000000 & 73.41667\\\\\n",
       "\\end{tabular}\n"
      ],
      "text/markdown": [
       "\n",
       "A data.frame: 5 × 18\n",
       "\n",
       "| clusters &lt;dbl&gt; | phom &lt;dbl&gt; | pipy &lt;dbl&gt; | ptap &lt;dbl&gt; | bore &lt;dbl&gt; | pwel &lt;dbl&gt; | pspr &lt;dbl&gt; | rain &lt;dbl&gt; | uwel &lt;dbl&gt; | uspr &lt;dbl&gt; | truc &lt;dbl&gt; | ctan &lt;dbl&gt; | bott &lt;dbl&gt; | othw &lt;dbl&gt; | surw &lt;dbl&gt; | tles &lt;dbl&gt; | tmor &lt;dbl&gt; | watp &lt;dbl&gt; |\n",
       "|---|---|---|---|---|---|---|---|---|---|---|---|---|---|---|---|---|---|\n",
       "| 1 |  6.542308 |  6.450000 | 12.7115385 | 29.869231 | 9.557692 |  1.303846 |  0.6115385 | 13.207692 |  2.6346154 | 1.330769 | 0.6269231 |  1.407692 | 0.2923077 |  6.111538 | 46.834615 | 14.4923077 | 37.27308 |\n",
       "| 2 | 61.190909 |  4.027273 |  2.2818182 |  1.172727 | 7.436364 |  1.336364 |  0.6090909 |  1.709091 |  0.1909091 | 2.054545 | 0.2818182 | 14.000000 | 0.6454545 |  1.663636 |  6.145455 |  0.5727273 | 65.80909 |\n",
       "| 3 | 19.309091 | 26.031818 | 17.2863636 |  4.036364 | 3.586364 |  2.231818 |  3.0454545 |  3.690909 |  2.1863636 | 1.481818 | 0.4090909 |  3.650000 | 0.7000000 |  5.222727 | 27.431818 |  6.7863636 | 60.03636 |\n",
       "| 4 |  1.837500 |  5.775000 | 17.0250000 |  4.450000 | 7.500000 | 16.150000 |  2.4375000 |  5.625000 | 20.0375000 | 0.225000 | 0.4000000 |  0.525000 | 0.1125000 | 10.200000 | 59.837500 | 20.3250000 | 18.80000 |\n",
       "| 5 |  9.033333 |  2.550000 |  0.7666667 | 11.100000 | 3.883333 |  2.850000 | 15.1833333 |  2.450000 |  0.8166667 | 2.366667 | 1.3833333 | 35.866667 | 0.2666667 |  1.983333 |  7.700000 |  1.9000000 | 73.41667 |\n",
       "\n"
      ],
      "text/plain": [
       "  clusters phom      pipy      ptap       bore      pwel     pspr     \n",
       "1 1         6.542308  6.450000 12.7115385 29.869231 9.557692  1.303846\n",
       "2 2        61.190909  4.027273  2.2818182  1.172727 7.436364  1.336364\n",
       "3 3        19.309091 26.031818 17.2863636  4.036364 3.586364  2.231818\n",
       "4 4         1.837500  5.775000 17.0250000  4.450000 7.500000 16.150000\n",
       "5 5         9.033333  2.550000  0.7666667 11.100000 3.883333  2.850000\n",
       "  rain       uwel      uspr       truc     ctan      bott      othw     \n",
       "1  0.6115385 13.207692  2.6346154 1.330769 0.6269231  1.407692 0.2923077\n",
       "2  0.6090909  1.709091  0.1909091 2.054545 0.2818182 14.000000 0.6454545\n",
       "3  3.0454545  3.690909  2.1863636 1.481818 0.4090909  3.650000 0.7000000\n",
       "4  2.4375000  5.625000 20.0375000 0.225000 0.4000000  0.525000 0.1125000\n",
       "5 15.1833333  2.450000  0.8166667 2.366667 1.3833333 35.866667 0.2666667\n",
       "  surw      tles      tmor       watp    \n",
       "1  6.111538 46.834615 14.4923077 37.27308\n",
       "2  1.663636  6.145455  0.5727273 65.80909\n",
       "3  5.222727 27.431818  6.7863636 60.03636\n",
       "4 10.200000 59.837500 20.3250000 18.80000\n",
       "5  1.983333  7.700000  1.9000000 73.41667"
      ]
     },
     "metadata": {},
     "output_type": "display_data"
    }
   ],
   "source": [
    "# Create data: Water Accessibility Aggregate\n",
    "df.wa <- df.wa[,c(2:18)]\n",
    "head(df.wa)\n",
    "df.wa.aggregate <- aggregate(df.wa, list(clusters=dfsimple$clusters), mean)\n",
    "df.wa.aggregate <- df.wa.aggregate[,1:18]\n",
    "df.wa.aggregate"
   ]
  },
  {
   "cell_type": "markdown",
   "metadata": {},
   "source": [
    "# Extract table of cluster centroids."
   ]
  },
  {
   "cell_type": "code",
   "execution_count": 17,
   "metadata": {},
   "outputs": [
    {
     "data": {
      "text/html": [
       "<style>\n",
       ".list-inline {list-style: none; margin:0; padding: 0}\n",
       ".list-inline>li {display: inline-block}\n",
       ".list-inline>li:not(:last-child)::after {content: \"\\00b7\"; padding: 0 .5ex}\n",
       "</style>\n",
       "<ol class=list-inline><li>72.4454182420141</li><li>91.6731041065422</li><li>76.5931120535625</li><li>74.6334176575748</li><li>85.1360757193382</li></ol>\n"
      ],
      "text/latex": [
       "\\begin{enumerate*}\n",
       "\\item 72.4454182420141\n",
       "\\item 91.6731041065422\n",
       "\\item 76.5931120535625\n",
       "\\item 74.6334176575748\n",
       "\\item 85.1360757193382\n",
       "\\end{enumerate*}\n"
      ],
      "text/markdown": [
       "1. 72.4454182420141\n",
       "2. 91.6731041065422\n",
       "3. 76.5931120535625\n",
       "4. 74.6334176575748\n",
       "5. 85.1360757193382\n",
       "\n",
       "\n"
      ],
      "text/plain": [
       "[1] 72.44542 91.67310 76.59311 74.63342 85.13608"
      ]
     },
     "metadata": {},
     "output_type": "display_data"
    },
    {
     "data": {
      "image/png": "[encoded data removed]",
      "text/plain": [
       "Plot with title \"Centroid of the Clusters\""
      ]
     },
     "metadata": {
      "image/png": {
       "height": 420,
       "width": 420
      }
     },
     "output_type": "display_data"
    },
    {
     "data": {
      "text/html": [
       "<style>\n",
       ".list-inline {list-style: none; margin:0; padding: 0}\n",
       ".list-inline>li {display: inline-block}\n",
       ".list-inline>li:not(:last-child)::after {content: \"\\00b7\"; padding: 0 .5ex}\n",
       "</style>\n",
       "<ol class=list-inline><li>73.7282171220761</li><li>97.5578802557743</li><li>66.4144562576552</li><li>131.881803142056</li><li>89.4963127732087</li><li>117.140641965118</li></ol>\n"
      ],
      "text/latex": [
       "\\begin{enumerate*}\n",
       "\\item 73.7282171220761\n",
       "\\item 97.5578802557743\n",
       "\\item 66.4144562576552\n",
       "\\item 131.881803142056\n",
       "\\item 89.4963127732087\n",
       "\\item 117.140641965118\n",
       "\\end{enumerate*}\n"
      ],
      "text/markdown": [
       "1. 73.7282171220761\n",
       "2. 97.5578802557743\n",
       "3. 66.4144562576552\n",
       "4. 131.881803142056\n",
       "5. 89.4963127732087\n",
       "6. 117.140641965118\n",
       "\n",
       "\n"
      ],
      "text/plain": [
       "[1]  73.72822  97.55788  66.41446 131.88180  89.49631 117.14064"
      ]
     },
     "metadata": {},
     "output_type": "display_data"
    },
    {
     "data": {
      "image/png": "[encoded data removed]",
      "text/plain": [
       "Plot with title \"Typology average of Clusters\""
      ]
     },
     "metadata": {
      "image/png": {
       "height": 1020,
       "width": 1020
      }
     },
     "output_type": "display_data"
    }
   ],
   "source": [
    "centroid <- apply(df.wa.aggregate, 1, function(x) sqrt(sum(x^2)) ) #How close is each country to the centroid of the cluster\n",
    "centroid\n",
    "old.par <- par(mar = c(0, 0, 0, 0))\n",
    "par(old.par)\n",
    "\n",
    "bp <- barplot(centroid,\n",
    "        main = \"Centroid of the Clusters\", xlab = \"Clusters\", ylab = \"fitness of Centroid\",\n",
    "        col = c(\"#1B9E77\" ,\"#D95F02\" ,\"#7570B3\" ,\"#E7298A\"),\n",
    "        ylim = c(0, 200), names.arg = c(\"A\", \"B\", \"C\",\"D\",\"E\"))\n",
    "text(bp, 0, round(centroid, 1),cex=1,pos=3)\n",
    "options(repr.plot.width=17, repr.plot.height=17)\n",
    "barplot(as.matrix(df.wa.aggregate[,c(2:18)]),\n",
    "        beside = TRUE,\n",
    "        main = \"Typology average of Clusters\", xlab = \"Water variables\", ylab = \"Average\",\n",
    "        col = c(\"#1B9E77\" ,\"#D95F02\" ,\"#7570B3\" ,\"#E7298A\"),\n",
    "        legend = c(\"A\", \"B\", \"C\",\"D\"), \n",
    "        args.legend = list(title = \"Clusters\", x = \"topright\", cex = .7), ylim = c(0, 100))\n",
    "                  \n",
    "\n",
    "\n",
    "centroiddf.wa <- apply(df.wa, 1, function(x) sqrt(sum(x^2)) ) #How close is each country to the cen-troid of the cluster\n",
    "head(centroiddf.wa)\n"
   ]
  },
  {
   "cell_type": "code",
   "execution_count": null,
   "metadata": {},
   "outputs": [],
   "source": [
    "centroiddf.wa\n",
    "str(centroiddf.wa)"
   ]
  },
  {
   "cell_type": "markdown",
   "metadata": {},
   "source": [
    "# Radar Plot for the aggregated data"
   ]
  },
  {
   "cell_type": "code",
   "execution_count": null,
   "metadata": {},
   "outputs": [],
   "source": [
    "# To use the fmsb package, I have to add 2 lines to the data frame: the max and min of each topic to show on the plot!\n",
    "#max.aggregate = apply(df.wa.aggregate,2,max)\n",
    "#apply(df.wa.aggregate,2,min)\n",
    "#max.aggregate\n",
    "#norm.df.wa <- sweep(df.wa.aggregate, 2, max.aggregate, FUN = '/')\n",
    "\n",
    "data.spider <- rbind(rep(100,50) , rep(0,10) , df.wa.aggregate[,c(2:18)])\n",
    "\n",
    "head(data.spider,7)\n",
    "colnames(data.spider) <- c(\n",
    "                            \n",
    "    \"Piped Into Dwelling\",\n",
    "    'Piped Into Yard',\n",
    "    \"Public Tap\" ,\n",
    "    \"Borehole\" , \n",
    "     \"Protected Well\" ,\n",
    "       \"Protected Spring\", \n",
    "    \"Rainwater\" ,\n",
    "    \n",
    "    \"Unprotected Well Water\", \n",
    "    \"Unprotected Spring\", \n",
    "    'Tanker Truck',\n",
    "    'Cart With Tank',\n",
    "    'Bottled Water',\n",
    "    'Other Water Source',\n",
    "    \"Surface Water\" ,\n",
    "     \"Water 30 minutes or < away round trip\" , \n",
    "    \"Water > 30 minutes away round trip\" , \n",
    "    'Water on Premise')                       \n",
    "options(repr.plot.width=17, repr.plot.height=17)\n",
    "par(mar = c(1,1,1,1))\n",
    "par(cex=1)\n",
    "\n",
    "# The default radar chart for First Cluster\n",
    "r.c. <- radarchart(data.spider,\n",
    "           #custom polygon\n",
    "           pcol= c(\"#1B9E77\" ,\"#D95F02\" ,\"#7570B3\" ,\"#E7298A\") ,\n",
    "           plwd=4 , plty=1,\n",
    "           #custom the grid\n",
    "           cglcol=\"grey\", cglty=1, axislabcol=\"grey\", caxislabels= seq(0,100,25), cglwd=0.8, axistype = 4,\n",
    "           title = 'Cluster Centroid',\n",
    "           vlcex=1,\n",
    "           calcex = 1 ,\n",
    "                   \n",
    "           )"
   ]
  },
  {
   "cell_type": "markdown",
   "metadata": {},
   "source": [
    "# Box Plot of Water Accessibility Variables (Violin Plots)"
   ]
  },
  {
   "cell_type": "code",
   "execution_count": null,
   "metadata": {},
   "outputs": [],
   "source": [
    "df.wa.aggregate <- aggregate(df.wa, list(clusters=dfsimple$clusters), mean)\n",
    "df.wa.aggregate <- df.wa.aggregate[,2:18]\n",
    "df.wa.aggregate\n",
    "rownames(df.wa.aggregate) <- c('A','B','C','D')\n",
    "\n",
    "data_wa_one <- df.wa.aggregate[  ,1:10]\n",
    "\n",
    "df.wa.aggregate <- as.factor(df.wa.aggregate[,])\n",
    "sapply(df.wa.aggregate, class)\n",
    "\n",
    "\n",
    "options(repr.plot.width=17, repr.plot.height=17)\n",
    "par(mar = c(1,1,1,1))\n",
    "par(cex=5)\n",
    "\n",
    "p <- data_wa_one %>% \n",
    "    gather(key=\"MesureType\", value=\"Val\") %>%\n",
    "    ggplot( aes(x=MesureType, y=Val, fill=MesureType)) +\n",
    "    geom_violin(trim=FALSE, width=1.5, size=.3) + \n",
    "    \n",
    "    stat_summary(fun.data=mean_sdl, geom=\"pointrange\", color=\"red\") + \n",
    "    scale_color_brewer(palette=\"Dark2\") +\n",
    "    xlab('water accessibility') +\n",
    "    geom_dotplot(binaxis='y', stackdir='center', dotsize=.3) +\n",
    "    guides(fill =guide_legend(\"water accessibility type\"))\n",
    "p <- p + theme_grey(base_size = 22)\n",
    "p \n",
    "\n",
    "\n"
   ]
  },
  {
   "cell_type": "code",
   "execution_count": null,
   "metadata": {},
   "outputs": [],
   "source": [
    "df.wa.aggregate <- aggregate(df.wa, list(clusters=dfsimple$clusters), mean)\n",
    "df.wa.aggregate <- df.wa.aggregate[,2:18]\n",
    "df.wa.aggregate\n",
    "rownames(df.wa.aggregate) <- c('A','B','C','D')\n",
    "\n",
    "data_wa_one <- df.wa.aggregate[  , 11:17]\n",
    "\n",
    "df.wa.aggregate <- as.factor(df.wa.aggregate[,])\n",
    "sapply(df.wa.aggregate, class)\n",
    "\n",
    "\n",
    "options(repr.plot.width=17, repr.plot.height=17)\n",
    "par(mar = c(1,1,1,1))\n",
    "par(cex=5)\n",
    "\n",
    "p <- data_wa_one %>% \n",
    "    gather(key=\"MesureType\", value=\"Val\") %>%\n",
    "    ggplot( aes(x=MesureType, y=Val, fill=MesureType)) +\n",
    "    geom_violin(trim=FALSE, scale = \"width\"  , size=.3, adjust = .75) + \n",
    "    stat_summary(fun.data=mean_sdl, geom=\"pointrange\", color=\"red\") + \n",
    "    scale_color_brewer(palette=\"Dark2\") +\n",
    "    xlab('water accessibility') +\n",
    "    geom_dotplot(binaxis='y', stackdir='center', dotsize=.3) +\n",
    "    guides(fill =guide_legend(\"water accessibility type\"))\n",
    "p <- p + theme_grey(base_size = 22)\n",
    "p \n",
    "\n",
    "\n"
   ]
  },
  {
   "cell_type": "markdown",
   "metadata": {},
   "source": [
    "# Country's Centroids Rankings Demo"
   ]
  },
  {
   "cell_type": "code",
   "execution_count": null,
   "metadata": {},
   "outputs": [],
   "source": [
    "#data_wa$cluster <- cutree(hc.ward2,4) \n",
    "df.wa \n",
    "hc.ward2=hclust(dist(df.wa), method =\"ward.D2\")\n",
    "df.wa$clusters <- cutree(hc.ward2,4)\n",
    "df.wa$clusters <- as.factor(df.wa$clusters)\n",
    "\n",
    "p <- ggplot(df.wa, aes(clusters, ptap, color = clusters, fill = clusters)) +\n",
    "  geom_point(alpha = 0.6) +\n",
    "  geom_jitter() +\n",
    "  geom_point() +\n",
    "  ggtitle(\"Distribution of clusters by NARS Lab\") +\n",
    "  scale_color_manual(values=c(\"#1B9E77\" ,\"#D95F02\" ,\"#7570B3\" ,\"#E7298A\")) \n",
    "p <- p + theme_grey(base_size = 22) \n",
    "p \n",
    "\n",
    "table(df.wa$clusters)\n",
    "\n",
    "#Group by the cluster assignment and calculate averages\n",
    "df4_clus_avg <- df.wa %>%\n",
    "  group_by(clusters) %>%\n",
    "  summarize_if(is.numeric, mean, na.rm=TRUE)\n",
    "\n",
    "\n",
    "head(df4_clus_avg,7) \n",
    "\n",
    "sapply(df4_clus_avg, class)\n",
    "#Create a parallel coordinate plot of the values:\n",
    "ggparcoord <- ggparcoord(df4_clus_avg, columns = c(2:18), \n",
    "           groupColumn = \"clusters\", scale = \"globalminmax\", order = \"skewness\") +\n",
    "  theme(axis.text.x = element_text(angle = 45, vjust = 1, hjust = 1)) + geom_point(color = \"#00AFBB\") \n",
    "    \n",
    "#make a dot plot\n",
    "countries4_gathered <- df.wa %>% gather(Measure, Ranking, ptap:watp) \n",
    "\n",
    "g <- ggplot(countries4_gathered, aes(Measure, Ranking, color = clusters )) +\n",
    "  geom_point(alpha = 0.3) +\n",
    "  geom_jitter() +\n",
    "  theme(axis.text.x = element_text(angle = 45, vjust = 1, hjust = 1)) +\n",
    "  ggtitle(\"Distribution of clusters per measure - 4 clusters\") \n",
    "   \n",
    "g <- g + theme_grey(base_size = 22) +  scale_color_manual(values=c(\"#1B9E77\" ,\"#D95F02\" ,\"#7570B3\" ,\"#E7298A\")) \n",
    "g \n",
    "countries4_gathered %>% \n",
    "\n",
    "ggplot(aes(clusters, Ranking, col = clusters)) +\n",
    "  geom_point(alpha = 0.3) +\n",
    "  geom_jitter() +\n",
    "  theme(axis.text.x = element_text(angle = 45, vjust = 1, hjust = 1)) +\n",
    "  ggtitle(\"Distribution of 4 clusters - facetted by measure\") +\n",
    "  facet_wrap(~Measure) +\n",
    " theme_grey(base_size = 22) +  \n",
    "scale_color_manual(values=c(\"#1B9E77\" ,\"#D95F02\" ,\"#7570B3\" ,\"#E7298A\"))\n",
    "# set the set factor as for the clusters\n"
   ]
  },
  {
   "cell_type": "markdown",
   "metadata": {},
   "source": [
    "# Rank Countries"
   ]
  },
  {
   "cell_type": "code",
   "execution_count": null,
   "metadata": {},
   "outputs": [],
   "source": [
    "df = read_excel( \"../../results/df-water-access.xlsx\")\n",
    "count(df)"
   ]
  },
  {
   "cell_type": "code",
   "execution_count": null,
   "metadata": {},
   "outputs": [],
   "source": [
    "head(df,7) # clean df at next save (2 cluster columns - only 1 needed; etc) #df also needs to be only water accessibility variables"
   ]
  },
  {
   "cell_type": "code",
   "execution_count": null,
   "metadata": {},
   "outputs": [],
   "source": [
    "df[\"norm\"] <- apply(df[2:18], 1, function(x) sqrt(sum(x^2)) ) #assuming columns 5:10 are the water accessibility variables\n",
    "# Ideally, df should just be the countries and the water access. variables ONLY. This, way, the code should then be:\n",
    "# df[\"norm\"] <- apply(df, 1, function(x) sqrt(sum(x^2)) )"
   ]
  },
  {
   "cell_type": "code",
   "execution_count": null,
   "metadata": {},
   "outputs": [],
   "source": [
    "df[\"distToCentroid\"] = 0 # initialize"
   ]
  },
  {
   "cell_type": "code",
   "execution_count": null,
   "metadata": {
    "scrolled": true
   },
   "outputs": [],
   "source": [
    "df.wa$clusters <- as.numeric(df.wa$clusters)\n",
    "head(df.wa)\n",
    "#Turn into numeric to find centroids"
   ]
  },
  {
   "cell_type": "code",
   "execution_count": null,
   "metadata": {},
   "outputs": [],
   "source": [
    "# assuming centroiddf.wa is your vector of cluster centroids\n",
    "\n",
    "# copied this from your earlier notebook\n",
    "df.wa.aggregate <- aggregate(df.wa, list(clusters=dfsimple$clusters), mean)\n",
    "df.wa.aggregate <- df.wa.aggregate[,1:18]\n",
    "centroiddf.wa <- apply(df.wa.aggregate, 1, function(x) sqrt(sum(x^2)) ) #How close is each country to the cen-troid of the cluster\n",
    "\n",
    "head(centroiddf.wa)       \n",
    "                       \n",
    "                       \n",
    "df$clusters <- dfsimple$clusters                      \n",
    "head(df,7)"
   ]
  },
  {
   "cell_type": "code",
   "execution_count": null,
   "metadata": {},
   "outputs": [],
   "source": [
    "# Then here, you compute the distance to centroid cluster by cluster\n",
    "df[df$clusters == 1, \"distToCentroid\"] = abs(df[df$clusters == 1, \"norm\"] - centroiddf.wa[1])\n",
    "df[df$clusters == 2, \"distToCentroid\"] = abs(df[df$clusters == 2, \"norm\"] - centroiddf.wa[2])\n",
    "df[df$clusters == 3, \"distToCentroid\"] = abs(df[df$clusters == 3, \"norm\"] - centroiddf.wa[3])\n",
    "df[df$clusters == 4, \"distToCentroid\"] = abs(df[df$clusters == 4, \"norm\"] - centroiddf.wa[4])\n",
    "                       \n",
    "\n",
    "head(df)\n",
    "write_xlsx(df , '../../results/dfcluster-rank.xlsx')"
   ]
  },
  {
   "cell_type": "code",
   "execution_count": null,
   "metadata": {},
   "outputs": [],
   "source": [
    "# You can then sort each subset by the size of \"distToCentroid\"\n",
    "df %>% \n",
    "  arrange_at(\"Country\", desc) %>%\n",
    "  arrange_at(\"distToCentroid\") %>%\n",
    "  select(1, 20, 21)"
   ]
  },
  {
   "cell_type": "code",
   "execution_count": null,
   "metadata": {},
   "outputs": [],
   "source": [
    "#Cluster 1\n",
    "df %>%\n",
    "  filter(clusters == 1) %>%\n",
    "  select(Country) %>%\n",
    "  head(7)"
   ]
  },
  {
   "cell_type": "code",
   "execution_count": null,
   "metadata": {},
   "outputs": [],
   "source": [
    "#Cluster 2\n",
    "df %>%\n",
    "  filter(clusters == 2) %>%\n",
    "  select(Country) %>%\n",
    "  head(7)"
   ]
  },
  {
   "cell_type": "code",
   "execution_count": null,
   "metadata": {},
   "outputs": [],
   "source": [
    "#Cluster 3\n",
    "df %>%\n",
    "  filter(clusters == 3) %>%\n",
    "  select(Country) %>%\n",
    "  head(7)"
   ]
  },
  {
   "cell_type": "code",
   "execution_count": null,
   "metadata": {},
   "outputs": [],
   "source": [
    "#Cluster 4\n",
    "df %>%\n",
    "  filter(clusters == 4) %>%\n",
    "  select(Country) %>%\n",
    "  head(7)"
   ]
  },
  {
   "cell_type": "code",
   "execution_count": null,
   "metadata": {},
   "outputs": [],
   "source": [
    "# You can then sort each subset by the size of \"distToCentroid\"\n",
    "df1 = df %>% \n",
    "  arrange_at(\"Country\", desc) %>%\n",
    "   arrange_at(\"distToCentroid\") %>%\n",
    "    arrange_at(\"clusters\") %>%\n",
    "  select(1, 20, 21)\n",
    "\n"
   ]
  },
  {
   "cell_type": "code",
   "execution_count": null,
   "metadata": {},
   "outputs": [],
   "source": [
    "head(df1)\n",
    "cluster.one <- subset(df1, clusters == 1 )\n",
    "cluster.two <- subset(df1, clusters == 2 )\n",
    "cluster.three <- subset(df1, clusters == 3 )\n",
    "cluster.four <- subset(df1, clusters == 4 )\n",
    "head(cluster.one)\n",
    "summary(cluster.one)"
   ]
  },
  {
   "cell_type": "code",
   "execution_count": null,
   "metadata": {},
   "outputs": [],
   "source": [
    "cluster.one %>% \n",
    "  arrange_at(\"Country\", desc) %>%\n",
    "   arrange_at(\"distToCentroid\") %>%\n",
    "    arrange_at(\"clusters\") %>%\n",
    "  select(1:3)\n",
    "cluster.two %>% \n",
    "  arrange_at(\"Country\", desc) %>%\n",
    "   arrange_at(\"distToCentroid\") %>%\n",
    "    arrange_at(\"clusters\") %>%\n",
    "  select(1:3)\n",
    "cluster.three %>% \n",
    "  arrange_at(\"Country\", desc) %>%\n",
    "   arrange_at(\"distToCentroid\") %>%\n",
    "    arrange_at(\"clusters\") %>%\n",
    "  select(1:3)\n",
    "cluster.four %>% \n",
    "  arrange_at(\"Country\", desc) %>%\n",
    "   arrange_at(\"distToCentroid\") %>%\n",
    "   arrange_at(\"clusters\") %>%\n",
    " select(1:3)"
   ]
  },
  {
   "cell_type": "markdown",
   "metadata": {},
   "source": [
    "# World Map"
   ]
  },
  {
   "cell_type": "code",
   "execution_count": null,
   "metadata": {},
   "outputs": [],
   "source": [
    "df = read_excel('../../results/dfcluster-rank.xlsx') #change name of file to sth descriptive (e.g. country-clusters)\n",
    "head(df)"
   ]
  },
  {
   "cell_type": "code",
   "execution_count": null,
   "metadata": {},
   "outputs": [],
   "source": [
    "df = df[, c(1,21)] # select only country name and cluster number\n",
    "head(df)"
   ]
  },
  {
   "cell_type": "code",
   "execution_count": null,
   "metadata": {},
   "outputs": [],
   "source": [
    "colnames(df) = c('region', 'value') # change column names for ggplot\n",
    "dim(df)\n",
    "head(df)"
   ]
  },
  {
   "cell_type": "code",
   "execution_count": null,
   "metadata": {},
   "outputs": [],
   "source": [
    "# This is to convert country names in df to match those in the worldMap dataframe\n",
    "coords <- joinCountryData2Map(df, joinCode = \"NAME\", nameJoinColumn = \"region\")\n",
    "coords = data.frame(coords)\n",
    "colnames(coords) = tolower(colnames(coords))\n",
    "colnames(coords)\n",
    "coords = drop_na(coords, value)\n",
    "coords$name"
   ]
  },
  {
   "cell_type": "code",
   "execution_count": null,
   "metadata": {},
   "outputs": [],
   "source": [
    "setdiff(df$region,coords$name)"
   ]
  },
  {
   "cell_type": "code",
   "execution_count": null,
   "metadata": {},
   "outputs": [],
   "source": [
    "# Correct the country names in DF\n",
    "df[df=='Timor-Leste'] = \"East Timor\"\n",
    "df[df=='Central African Republic'] = \"Central African Rep.\"\n",
    "df[df=='Cote d\\'Ivoire'] = \"Ivory Coast\"\n",
    "df[df=='Dominican Republic'] = \"Dominican Rep.\"\n",
    "df[df=='Kyrgyz Republic'] = \"Kyrgyzstan\"\n",
    "df[df=='Eswatini'] = \"Swaziland\"\n",
    "df[df=='Congo'] = \"Congo (Brazzaville)\"\n",
    "df[df=='Congo Democratic Republic'] = \"Congo (Kinshasa)\""
   ]
  },
  {
   "cell_type": "code",
   "execution_count": null,
   "metadata": {},
   "outputs": [],
   "source": [
    "# Get world map data (lat/long)\n",
    "countrynames = df$region\n",
    "worldMap <- getMap()\n",
    "country_indices <- which(worldMap$NAME%in%countrynames)"
   ]
  },
  {
   "cell_type": "code",
   "execution_count": null,
   "metadata": {},
   "outputs": [],
   "source": [
    "# Get coordinates for all countries to plot base map\n",
    "allCoords <- lapply(seq(1,243), function(i){\n",
    "  dfn <- data.frame(worldMap@polygons[[i]]@Polygons[[1]]@coords)\n",
    "  dfn$region =as.character(worldMap$NAME[i])\n",
    "  colnames(dfn) <- list(\"long\", \"lat\", \"region\")\n",
    "  return(dfn)\n",
    "})\n",
    "allCoords <- do.call(\"rbind\", allCoords)\n"
   ]
  },
  {
   "cell_type": "code",
   "execution_count": null,
   "metadata": {},
   "outputs": [],
   "source": [
    "# Get coordinates strictly for those in water accessibility dataset\n",
    "waterCoords <- lapply(country_indices, function(i){\n",
    "  dfn <- data.frame(worldMap@polygons[[i]]@Polygons[[1]]@coords)\n",
    "  dfn$region =as.character(worldMap$NAME[i])\n",
    "  colnames(dfn) <- list(\"long\", \"lat\", \"region\")\n",
    "  return(dfn)\n",
    "})\n",
    "\n",
    "waterCoords <- do.call(\"rbind\", waterCoords)\n",
    "waterCoords$value <- df$value[match(waterCoords$region,df$region)]\n",
    "waterCoords$value <- factor(waterCoords$value)"
   ]
  },
  {
   "cell_type": "code",
   "execution_count": null,
   "metadata": {},
   "outputs": [],
   "source": [
    "# Plot\n",
    "options(repr.plot.width=17, repr.plot.height=17)\n",
    "par(mar = c(1,1,1,1))\n",
    "par(cex=1)\n",
    "ggplot() +\n",
    "    geom_sf(color = \"black\", fill= 'antiquewhite') +\n",
    "    xlab(\"Longitude\") + ylab(\"Latitude\") +\n",
    "    geom_polygon(data= allCoords, mapping = aes(x =long, y=lat,group = region),color=\"grey\",fill=NA) + \n",
    "    geom_polygon( data = waterCoords, mapping = aes(x =long, y=lat,group = region, fill=value), size=.3,color=\"black\") +\n",
    "    expand_limits(x = waterCoords$long, y = waterCoords$lat)  + \n",
    "    scale_fill_brewer(palette='Dark2', name=\"Water Accessibility Typologies\", na.value=\"grey\", labels = c(\"A\", \"B\", \"C\",\"D\")) +  #labels = c())+\n",
    "    ggtitle(\"World Map\", subtitle = paste0(\"(\", length(unique(df$region)), \" Countries)\")) +\n",
    "    theme_minimal() +\n",
    "    theme(legend.position = \"bottom\",\n",
    "        axis.ticks = element_blank(), \n",
    "        axis.title = element_blank(), \n",
    "        axis.text =  element_blank()) \n",
    "#     #guides(fill = guide_colorbar(barwidth = 10, barheight = .5))\n"
   ]
  },
  {
   "cell_type": "markdown",
   "metadata": {},
   "source": [
    "#Ref: https://egallic.fr/en/european-map-using-r/"
   ]
  }
 ],
 "metadata": {
  "kernelspec": {
   "display_name": "R",
   "language": "R",
   "name": "ir"
  },
  "language_info": {
   "codemirror_mode": "r",
   "file_extension": ".r",
   "mimetype": "text/x-r-source",
   "name": "R",
   "pygments_lexer": "r",
   "version": "4.2.2"
  }
 },
 "nbformat": 4,
 "nbformat_minor": 4
}
