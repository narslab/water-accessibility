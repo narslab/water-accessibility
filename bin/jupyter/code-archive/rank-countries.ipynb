{
 "cells": [
  {
   "cell_type": "code",
   "execution_count": 6,
   "metadata": {},
   "outputs": [],
   "source": [
    "df = read.csv(file = \"../../results/df-water-access.csv\")"
   ]
  },
  {
   "cell_type": "code",
   "execution_count": 7,
   "metadata": {},
   "outputs": [
    {
     "data": {
      "text/html": [
       "<table>\n",
       "<caption>A data.frame: 6 × 24</caption>\n",
       "<thead>\n",
       "\t<tr><th></th><th scope=col>X</th><th scope=col>Country</th><th scope=col>ptap</th><th scope=col>bore</th><th scope=col>pspr</th><th scope=col>uspr</th><th scope=col>pwel</th><th scope=col>uwel</th><th scope=col>surw</th><th scope=col>tles</th><th scope=col>...</th><th scope=col>pipy</th><th scope=col>truc</th><th scope=col>ctan</th><th scope=col>bott</th><th scope=col>uiws</th><th scope=col>othw</th><th scope=col>iwsp</th><th scope=col>basw</th><th scope=col>liws</th><th scope=col>watp</th></tr>\n",
       "\t<tr><th></th><th scope=col>&lt;int&gt;</th><th scope=col>&lt;chr&gt;</th><th scope=col>&lt;dbl&gt;</th><th scope=col>&lt;dbl&gt;</th><th scope=col>&lt;dbl&gt;</th><th scope=col>&lt;dbl&gt;</th><th scope=col>&lt;dbl&gt;</th><th scope=col>&lt;dbl&gt;</th><th scope=col>&lt;dbl&gt;</th><th scope=col>&lt;dbl&gt;</th><th scope=col>...</th><th scope=col>&lt;dbl&gt;</th><th scope=col>&lt;dbl&gt;</th><th scope=col>&lt;dbl&gt;</th><th scope=col>&lt;dbl&gt;</th><th scope=col>&lt;dbl&gt;</th><th scope=col>&lt;dbl&gt;</th><th scope=col>&lt;dbl&gt;</th><th scope=col>&lt;dbl&gt;</th><th scope=col>&lt;dbl&gt;</th><th scope=col>&lt;dbl&gt;</th></tr>\n",
       "</thead>\n",
       "<tbody>\n",
       "\t<tr><th scope=row>1</th><td>1</td><td>Afghanistan</td><td>14.2</td><td>20.1</td><td>4.7</td><td>8.6</td><td>18.5</td><td>11.1</td><td> 7.3</td><td>45.2</td><td>...</td><td> 4.8</td><td> 1.5</td><td>4.4</td><td> 0.2</td><td>28.7</td><td>1.7</td><td>35.4</td><td>65.3</td><td>5.0</td><td>45.3</td></tr>\n",
       "\t<tr><th scope=row>2</th><td>2</td><td>Albania    </td><td> 2.4</td><td> 1.4</td><td>2.5</td><td>0.8</td><td> 4.1</td><td> 0.8</td><td> 0.0</td><td>20.6</td><td>...</td><td> 5.2</td><td>14.1</td><td>0.2</td><td>19.6</td><td> 1.6</td><td>0.1</td><td>77.0</td><td>97.0</td><td>0.9</td><td>77.9</td></tr>\n",
       "\t<tr><th scope=row>3</th><td>3</td><td>Angola     </td><td>10.3</td><td> 1.9</td><td>3.3</td><td>4.8</td><td> 9.1</td><td> 8.3</td><td>18.0</td><td>46.1</td><td>...</td><td> 9.7</td><td> 9.7</td><td>4.3</td><td> 1.2</td><td>33.1</td><td>1.8</td><td>32.6</td><td>57.0</td><td>7.5</td><td>34.5</td></tr>\n",
       "\t<tr><th scope=row>4</th><td>4</td><td>Armenia    </td><td> 0.5</td><td> 0.2</td><td>1.0</td><td>0.1</td><td> 0.2</td><td> 0.0</td><td> 0.0</td><td> 1.6</td><td>...</td><td> 8.0</td><td> 1.5</td><td>0.0</td><td> 0.0</td><td> 0.1</td><td>0.0</td><td>97.6</td><td>99.1</td><td>0.1</td><td>97.6</td></tr>\n",
       "\t<tr><th scope=row>5</th><td>5</td><td>Azerbaijan </td><td> 3.5</td><td> 9.3</td><td>7.5</td><td>1.1</td><td> 6.2</td><td> 0.2</td><td> 7.0</td><td>18.7</td><td>...</td><td>19.7</td><td> 9.5</td><td>0.7</td><td> 0.1</td><td> 9.4</td><td>1.1</td><td>71.2</td><td>86.4</td><td>3.4</td><td>75.9</td></tr>\n",
       "\t<tr><th scope=row>6</th><td>6</td><td>Bangladesh </td><td> 2.7</td><td>86.4</td><td>0.0</td><td>0.3</td><td> 0.2</td><td> 0.6</td><td> 1.2</td><td>22.7</td><td>...</td><td> 3.3</td><td> 0.0</td><td>0.1</td><td> 0.3</td><td> 2.2</td><td>0.1</td><td>75.1</td><td>96.4</td><td>1.3</td><td>75.5</td></tr>\n",
       "</tbody>\n",
       "</table>\n"
      ],
      "text/latex": [
       "A data.frame: 6 × 24\n",
       "\\begin{tabular}{r|lllllllllllllllllllll}\n",
       "  & X & Country & ptap & bore & pspr & uspr & pwel & uwel & surw & tles & ... & pipy & truc & ctan & bott & uiws & othw & iwsp & basw & liws & watp\\\\\n",
       "  & <int> & <chr> & <dbl> & <dbl> & <dbl> & <dbl> & <dbl> & <dbl> & <dbl> & <dbl> & ... & <dbl> & <dbl> & <dbl> & <dbl> & <dbl> & <dbl> & <dbl> & <dbl> & <dbl> & <dbl>\\\\\n",
       "\\hline\n",
       "\t1 & 1 & Afghanistan & 14.2 & 20.1 & 4.7 & 8.6 & 18.5 & 11.1 &  7.3 & 45.2 & ... &  4.8 &  1.5 & 4.4 &  0.2 & 28.7 & 1.7 & 35.4 & 65.3 & 5.0 & 45.3\\\\\n",
       "\t2 & 2 & Albania     &  2.4 &  1.4 & 2.5 & 0.8 &  4.1 &  0.8 &  0.0 & 20.6 & ... &  5.2 & 14.1 & 0.2 & 19.6 &  1.6 & 0.1 & 77.0 & 97.0 & 0.9 & 77.9\\\\\n",
       "\t3 & 3 & Angola      & 10.3 &  1.9 & 3.3 & 4.8 &  9.1 &  8.3 & 18.0 & 46.1 & ... &  9.7 &  9.7 & 4.3 &  1.2 & 33.1 & 1.8 & 32.6 & 57.0 & 7.5 & 34.5\\\\\n",
       "\t4 & 4 & Armenia     &  0.5 &  0.2 & 1.0 & 0.1 &  0.2 &  0.0 &  0.0 &  1.6 & ... &  8.0 &  1.5 & 0.0 &  0.0 &  0.1 & 0.0 & 97.6 & 99.1 & 0.1 & 97.6\\\\\n",
       "\t5 & 5 & Azerbaijan  &  3.5 &  9.3 & 7.5 & 1.1 &  6.2 &  0.2 &  7.0 & 18.7 & ... & 19.7 &  9.5 & 0.7 &  0.1 &  9.4 & 1.1 & 71.2 & 86.4 & 3.4 & 75.9\\\\\n",
       "\t6 & 6 & Bangladesh  &  2.7 & 86.4 & 0.0 & 0.3 &  0.2 &  0.6 &  1.2 & 22.7 & ... &  3.3 &  0.0 & 0.1 &  0.3 &  2.2 & 0.1 & 75.1 & 96.4 & 1.3 & 75.5\\\\\n",
       "\\end{tabular}\n"
      ],
      "text/markdown": [
       "\n",
       "A data.frame: 6 × 24\n",
       "\n",
       "| <!--/--> | X &lt;int&gt; | Country &lt;chr&gt; | ptap &lt;dbl&gt; | bore &lt;dbl&gt; | pspr &lt;dbl&gt; | uspr &lt;dbl&gt; | pwel &lt;dbl&gt; | uwel &lt;dbl&gt; | surw &lt;dbl&gt; | tles &lt;dbl&gt; | ... ... | pipy &lt;dbl&gt; | truc &lt;dbl&gt; | ctan &lt;dbl&gt; | bott &lt;dbl&gt; | uiws &lt;dbl&gt; | othw &lt;dbl&gt; | iwsp &lt;dbl&gt; | basw &lt;dbl&gt; | liws &lt;dbl&gt; | watp &lt;dbl&gt; |\n",
       "|---|---|---|---|---|---|---|---|---|---|---|---|---|---|---|---|---|---|---|---|---|---|\n",
       "| 1 | 1 | Afghanistan | 14.2 | 20.1 | 4.7 | 8.6 | 18.5 | 11.1 |  7.3 | 45.2 | ... |  4.8 |  1.5 | 4.4 |  0.2 | 28.7 | 1.7 | 35.4 | 65.3 | 5.0 | 45.3 |\n",
       "| 2 | 2 | Albania     |  2.4 |  1.4 | 2.5 | 0.8 |  4.1 |  0.8 |  0.0 | 20.6 | ... |  5.2 | 14.1 | 0.2 | 19.6 |  1.6 | 0.1 | 77.0 | 97.0 | 0.9 | 77.9 |\n",
       "| 3 | 3 | Angola      | 10.3 |  1.9 | 3.3 | 4.8 |  9.1 |  8.3 | 18.0 | 46.1 | ... |  9.7 |  9.7 | 4.3 |  1.2 | 33.1 | 1.8 | 32.6 | 57.0 | 7.5 | 34.5 |\n",
       "| 4 | 4 | Armenia     |  0.5 |  0.2 | 1.0 | 0.1 |  0.2 |  0.0 |  0.0 |  1.6 | ... |  8.0 |  1.5 | 0.0 |  0.0 |  0.1 | 0.0 | 97.6 | 99.1 | 0.1 | 97.6 |\n",
       "| 5 | 5 | Azerbaijan  |  3.5 |  9.3 | 7.5 | 1.1 |  6.2 |  0.2 |  7.0 | 18.7 | ... | 19.7 |  9.5 | 0.7 |  0.1 |  9.4 | 1.1 | 71.2 | 86.4 | 3.4 | 75.9 |\n",
       "| 6 | 6 | Bangladesh  |  2.7 | 86.4 | 0.0 | 0.3 |  0.2 |  0.6 |  1.2 | 22.7 | ... |  3.3 |  0.0 | 0.1 |  0.3 |  2.2 | 0.1 | 75.1 | 96.4 | 1.3 | 75.5 |\n",
       "\n"
      ],
      "text/plain": [
       "  X Country     ptap bore pspr uspr pwel uwel surw tles ... pipy truc ctan bott\n",
       "1 1 Afghanistan 14.2 20.1 4.7  8.6  18.5 11.1  7.3 45.2 ...  4.8  1.5 4.4   0.2\n",
       "2 2 Albania      2.4  1.4 2.5  0.8   4.1  0.8  0.0 20.6 ...  5.2 14.1 0.2  19.6\n",
       "3 3 Angola      10.3  1.9 3.3  4.8   9.1  8.3 18.0 46.1 ...  9.7  9.7 4.3   1.2\n",
       "4 4 Armenia      0.5  0.2 1.0  0.1   0.2  0.0  0.0  1.6 ...  8.0  1.5 0.0   0.0\n",
       "5 5 Azerbaijan   3.5  9.3 7.5  1.1   6.2  0.2  7.0 18.7 ... 19.7  9.5 0.7   0.1\n",
       "6 6 Bangladesh   2.7 86.4 0.0  0.3   0.2  0.6  1.2 22.7 ...  3.3  0.0 0.1   0.3\n",
       "  uiws othw iwsp basw liws watp\n",
       "1 28.7 1.7  35.4 65.3 5.0  45.3\n",
       "2  1.6 0.1  77.0 97.0 0.9  77.9\n",
       "3 33.1 1.8  32.6 57.0 7.5  34.5\n",
       "4  0.1 0.0  97.6 99.1 0.1  97.6\n",
       "5  9.4 1.1  71.2 86.4 3.4  75.9\n",
       "6  2.2 0.1  75.1 96.4 1.3  75.5"
      ]
     },
     "metadata": {},
     "output_type": "display_data"
    }
   ],
   "source": [
    "head(df) # clean df at next save (2 cluster columns - only 1 needed; etc) #df also needs to be only water accessibility variables"
   ]
  },
  {
   "cell_type": "code",
   "execution_count": 8,
   "metadata": {},
   "outputs": [],
   "source": [
    "df[\"norm\"] <- apply(df[3:13], 1, function(x) sqrt(sum(x^2)) ) #assuming columns 5:10 are the water accessibility variables\n",
    "# Ideally, df should just be the countries and the water access. variables ONLY. This, way, the code should then be:\n",
    "# df[\"norm\"] <- apply(df, 1, function(x) sqrt(sum(x^2)) )"
   ]
  },
  {
   "cell_type": "code",
   "execution_count": 9,
   "metadata": {},
   "outputs": [
    {
     "ename": "ERROR",
     "evalue": "Error in aggregate(df.wa, list(clusters = dfsimple$clusters4), mean): object 'df.wa' not found\n",
     "output_type": "error",
     "traceback": [
      "Error in aggregate(df.wa, list(clusters = dfsimple$clusters4), mean): object 'df.wa' not found\nTraceback:\n",
      "1. aggregate(df.wa, list(clusters = dfsimple$clusters4), mean)"
     ]
    }
   ],
   "source": [
    "df[\"distToCentroid\"] = 0 # initialize\n",
    "\n",
    "# assuming centroiddf.wa is your vector of cluster centroids\n",
    "\n",
    "# copied this from your earlier notebook\n",
    "df.wa.aggregate <- aggregate(df.wa, list(clusters=dfsimple$clusters4), mean)\n",
    "df.wa.aggregate <- df.wa.aggregate[,2:12]\n",
    "centroiddf.wa <- apply(df.wa.aggregate, 1, function(x) sqrt(sum(x^2)) ) #How close is each country to the cen-troid of the cluster\n",
    "\n",
    "                       \n",
    "# Then here, you compute the distance to centroid cluster by cluster\n",
    "df[df$clusters4 == 1, \"distToCentroid\"] = df[df$clusters4 == 1, \"norm\"] - centroiddf.wa[1]\n",
    "df[df$clusters4 == 2, \"distToCentroid\"] = df[df$clusters4 == 1, \"norm\"] - centroiddf.wa[2]\n",
    "df[df$clusters4 == 3, \"distToCentroid\"] = df[df$clusters4 == 1, \"norm\"] - centroiddf.wa[3]\n",
    "df[df$clusters4 == 4, \"distToCentroid\"] = df[df$clusters4 == 1, \"norm\"] - centroiddf.wa[4]\n",
    "                       \n",
    "# You can then sort each subset by the size of \"distToCentroid\""
   ]
  },
  {
   "cell_type": "code",
   "execution_count": null,
   "metadata": {},
   "outputs": [],
   "source": []
  }
 ],
 "metadata": {
  "kernelspec": {
   "display_name": "R",
   "language": "R",
   "name": "ir"
  },
  "language_info": {
   "codemirror_mode": "r",
   "file_extension": ".r",
   "mimetype": "text/x-r-source",
   "name": "R",
   "pygments_lexer": "r",
   "version": "4.0.2"
  }
 },
 "nbformat": 4,
 "nbformat_minor": 4
}
