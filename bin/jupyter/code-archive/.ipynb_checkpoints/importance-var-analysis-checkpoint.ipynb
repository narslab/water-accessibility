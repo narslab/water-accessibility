{
 "cells": [
  {
   "cell_type": "code",
   "execution_count": 205,
   "metadata": {},
   "outputs": [],
   "source": [
    "library(readxl)\n",
    "library(ggplot2)\n",
    "library(writexl)\n",
    "library(dplyr)\n",
    "#install.packages(\"gridExtra\")\n",
    "library(gridExtra)\n",
    "library(ggrepel)"
   ]
  },
  {
   "cell_type": "code",
   "execution_count": 206,
   "metadata": {},
   "outputs": [
    {
     "data": {
      "text/html": [
       "<table class=\"dataframe\">\n",
       "<caption>A data.frame: 6 × 12</caption>\n",
       "<thead>\n",
       "\t<tr><th></th><th scope=col>Country</th><th scope=col>clusters</th><th scope=col>pcar</th><th scope=col>cgdp</th><th scope=col>popd</th><th scope=col>FarWell</th><th scope=col>FarSpring</th><th scope=col>PipedIndoors</th><th scope=col>PipedOutdoors</th><th scope=col>Vended</th><th scope=col>NearbySurface</th><th scope=col>NearbyImproved</th></tr>\n",
       "\t<tr><th></th><th scope=col>&lt;chr&gt;</th><th scope=col>&lt;fct&gt;</th><th scope=col>&lt;dbl&gt;</th><th scope=col>&lt;dbl&gt;</th><th scope=col>&lt;dbl&gt;</th><th scope=col>&lt;dbl&gt;</th><th scope=col>&lt;dbl&gt;</th><th scope=col>&lt;dbl&gt;</th><th scope=col>&lt;dbl&gt;</th><th scope=col>&lt;dbl&gt;</th><th scope=col>&lt;dbl&gt;</th><th scope=col>&lt;dbl&gt;</th></tr>\n",
       "</thead>\n",
       "<tbody>\n",
       "\t<tr><th scope=row>1</th><td>Afghanistan</td><td>Decentralized</td><td>11.8</td><td> 18353881130</td><td>  56.93776</td><td>0.572418217</td><td>0.27948505</td><td>0.4740642</td><td>0.48905269</td><td>0.3327190</td><td>0.6406390</td><td>0.5244550</td></tr>\n",
       "\t<tr><th scope=row>2</th><td>Albania    </td><td>Hybrid       </td><td>37.0</td><td> 15147020535</td><td> 104.61226</td><td>0.173347287</td><td>0.16631234</td><td>0.7812555</td><td>0.21604457</td><td>0.3179487</td><td>0.2668756</td><td>0.5813036</td></tr>\n",
       "\t<tr><th scope=row>3</th><td>Angola     </td><td>Decentralized</td><td>10.9</td><td>101353230785</td><td>  24.71305</td><td>0.555402896</td><td>0.26567935</td><td>0.6221088</td><td>0.51799504</td><td>0.4010244</td><td>0.8739405</td><td>0.4280040</td></tr>\n",
       "\t<tr><th scope=row>4</th><td>Armenia    </td><td>Centralized  </td><td>39.2</td><td> 12457941907</td><td> 103.68022</td><td>0.006249719</td><td>0.01802207</td><td>0.9992766</td><td>0.05567089</td><td>0.0000000</td><td>0.1978413</td><td>0.5088645</td></tr>\n",
       "\t<tr><th scope=row>5</th><td>Azerbaijan </td><td>Centralized  </td><td>20.4</td><td> 47112941176</td><td> 120.23432</td><td>0.172305543</td><td>0.17209406</td><td>0.6946237</td><td>0.41693952</td><td>0.2060016</td><td>0.4634648</td><td>0.4247652</td></tr>\n",
       "\t<tr><th scope=row>6</th><td>Bangladesh </td><td>Hybrid       </td><td> 0.8</td><td>274039092455</td><td>1239.57931</td><td>0.116506831</td><td>0.08746231</td><td>0.0000000</td><td>0.29168400</td><td>0.1829046</td><td>0.1907371</td><td>0.5876124</td></tr>\n",
       "</tbody>\n",
       "</table>\n"
      ],
      "text/latex": [
       "A data.frame: 6 × 12\n",
       "\\begin{tabular}{r|llllllllllll}\n",
       "  & Country & clusters & pcar & cgdp & popd & FarWell & FarSpring & PipedIndoors & PipedOutdoors & Vended & NearbySurface & NearbyImproved\\\\\n",
       "  & <chr> & <fct> & <dbl> & <dbl> & <dbl> & <dbl> & <dbl> & <dbl> & <dbl> & <dbl> & <dbl> & <dbl>\\\\\n",
       "\\hline\n",
       "\t1 & Afghanistan & Decentralized & 11.8 &  18353881130 &   56.93776 & 0.572418217 & 0.27948505 & 0.4740642 & 0.48905269 & 0.3327190 & 0.6406390 & 0.5244550\\\\\n",
       "\t2 & Albania     & Hybrid        & 37.0 &  15147020535 &  104.61226 & 0.173347287 & 0.16631234 & 0.7812555 & 0.21604457 & 0.3179487 & 0.2668756 & 0.5813036\\\\\n",
       "\t3 & Angola      & Decentralized & 10.9 & 101353230785 &   24.71305 & 0.555402896 & 0.26567935 & 0.6221088 & 0.51799504 & 0.4010244 & 0.8739405 & 0.4280040\\\\\n",
       "\t4 & Armenia     & Centralized   & 39.2 &  12457941907 &  103.68022 & 0.006249719 & 0.01802207 & 0.9992766 & 0.05567089 & 0.0000000 & 0.1978413 & 0.5088645\\\\\n",
       "\t5 & Azerbaijan  & Centralized   & 20.4 &  47112941176 &  120.23432 & 0.172305543 & 0.17209406 & 0.6946237 & 0.41693952 & 0.2060016 & 0.4634648 & 0.4247652\\\\\n",
       "\t6 & Bangladesh  & Hybrid        &  0.8 & 274039092455 & 1239.57931 & 0.116506831 & 0.08746231 & 0.0000000 & 0.29168400 & 0.1829046 & 0.1907371 & 0.5876124\\\\\n",
       "\\end{tabular}\n"
      ],
      "text/markdown": [
       "\n",
       "A data.frame: 6 × 12\n",
       "\n",
       "| <!--/--> | Country &lt;chr&gt; | clusters &lt;fct&gt; | pcar &lt;dbl&gt; | cgdp &lt;dbl&gt; | popd &lt;dbl&gt; | FarWell &lt;dbl&gt; | FarSpring &lt;dbl&gt; | PipedIndoors &lt;dbl&gt; | PipedOutdoors &lt;dbl&gt; | Vended &lt;dbl&gt; | NearbySurface &lt;dbl&gt; | NearbyImproved &lt;dbl&gt; |\n",
       "|---|---|---|---|---|---|---|---|---|---|---|---|---|\n",
       "| 1 | Afghanistan | Decentralized | 11.8 |  18353881130 |   56.93776 | 0.572418217 | 0.27948505 | 0.4740642 | 0.48905269 | 0.3327190 | 0.6406390 | 0.5244550 |\n",
       "| 2 | Albania     | Hybrid        | 37.0 |  15147020535 |  104.61226 | 0.173347287 | 0.16631234 | 0.7812555 | 0.21604457 | 0.3179487 | 0.2668756 | 0.5813036 |\n",
       "| 3 | Angola      | Decentralized | 10.9 | 101353230785 |   24.71305 | 0.555402896 | 0.26567935 | 0.6221088 | 0.51799504 | 0.4010244 | 0.8739405 | 0.4280040 |\n",
       "| 4 | Armenia     | Centralized   | 39.2 |  12457941907 |  103.68022 | 0.006249719 | 0.01802207 | 0.9992766 | 0.05567089 | 0.0000000 | 0.1978413 | 0.5088645 |\n",
       "| 5 | Azerbaijan  | Centralized   | 20.4 |  47112941176 |  120.23432 | 0.172305543 | 0.17209406 | 0.6946237 | 0.41693952 | 0.2060016 | 0.4634648 | 0.4247652 |\n",
       "| 6 | Bangladesh  | Hybrid        |  0.8 | 274039092455 | 1239.57931 | 0.116506831 | 0.08746231 | 0.0000000 | 0.29168400 | 0.1829046 | 0.1907371 | 0.5876124 |\n",
       "\n"
      ],
      "text/plain": [
       "  Country     clusters      pcar cgdp         popd       FarWell     FarSpring \n",
       "1 Afghanistan Decentralized 11.8  18353881130   56.93776 0.572418217 0.27948505\n",
       "2 Albania     Hybrid        37.0  15147020535  104.61226 0.173347287 0.16631234\n",
       "3 Angola      Decentralized 10.9 101353230785   24.71305 0.555402896 0.26567935\n",
       "4 Armenia     Centralized   39.2  12457941907  103.68022 0.006249719 0.01802207\n",
       "5 Azerbaijan  Centralized   20.4  47112941176  120.23432 0.172305543 0.17209406\n",
       "6 Bangladesh  Hybrid         0.8 274039092455 1239.57931 0.116506831 0.08746231\n",
       "  PipedIndoors PipedOutdoors Vended    NearbySurface NearbyImproved\n",
       "1 0.4740642    0.48905269    0.3327190 0.6406390     0.5244550     \n",
       "2 0.7812555    0.21604457    0.3179487 0.2668756     0.5813036     \n",
       "3 0.6221088    0.51799504    0.4010244 0.8739405     0.4280040     \n",
       "4 0.9992766    0.05567089    0.0000000 0.1978413     0.5088645     \n",
       "5 0.6946237    0.41693952    0.2060016 0.4634648     0.4247652     \n",
       "6 0.0000000    0.29168400    0.1829046 0.1907371     0.5876124     "
      ]
     },
     "metadata": {},
     "output_type": "display_data"
    }
   ],
   "source": [
    "df.class = read_excel(\"../../results/class.xlsx\" ,sheet=1 )\n",
    "df.scale = read_excel(\"../../results/class-scale.xlsx\" ,sheet=1 )\n",
    "df.wa = read_excel( \"../../results/df-water-access.xlsx\" ,sheet=1)\n",
    "df.fa <- read_excel(\"../../results/df-seven-scores.xlsx\",sheet=1)\n",
    "df.fa <- df.fa %>% \n",
    "  rename(\n",
    "      'FarWell' = ML1,\n",
    "      'Vended'= ML2,\n",
    "      'PipedIndoors'= ML3,\n",
    "      'NearbyImproved'= ML4,\n",
    "      'PipedOutdoors' = ML5,\n",
    "      'FarSpring' = ML6,\n",
    "      'NearbySurface'= ML7\n",
    "     )\n",
    "df <- merge(x = df.class,\n",
    "              y = df.fa,\n",
    "              by = c(\"Country\"))\n",
    "df$clusters <- as.factor(df$clusters)\n",
    "\n",
    "df <- df[,c(1,8,5,9, 12, 16:22 )] # 3 important explnatory variables from classification decision tree\n",
    "head(df)\n"
   ]
  },
  {
   "cell_type": "markdown",
   "metadata": {},
   "source": [
    "# Scatter Analysis PCAR"
   ]
  },
  {
   "cell_type": "code",
   "execution_count": 207,
   "metadata": {
    "scrolled": false
   },
   "outputs": [],
   "source": [
    "# '#E41A1C':RED,'#377EB8':BLUE, '#4DAF4A':GREEN (Alphabatical order of cluster)\n",
    "\n",
    "\n",
    "spd <- ggplot(df, aes(x=pcar, y= FarWell, color=clusters)) +\n",
    "  geom_point() + \n",
    "theme_minimal() +\n",
    "  scale_color_manual(values=c('#8da0cb','#66c2a5', '#fc8d62')) + \n",
    "  labs(title=,\n",
    "       x=\"Private Car Ownership (Percent)\", y = \"Far Well (scaled)\") +\n",
    "  geom_text_repel(\n",
    "   aes(label= Country), size = 2.5,\n",
    "     force= 1,\n",
    "      force_pull = 1,\n",
    "      angle = 0,\n",
    "      fontface = 2,\n",
    "      segment.linetype = 5,\n",
    "    max.overlaps = Inf) + \n",
    "    theme(legend.position = \"none\") \n",
    "    \n",
    "\n",
    "sps <- ggplot(df, aes(x=pcar, y= FarSpring, color=clusters)) +\n",
    "  geom_point() + \n",
    "theme_minimal() +\n",
    "  scale_color_manual(values=c('#8da0cb','#66c2a5', '#fc8d62'))+ \n",
    "  labs(title=,\n",
    "       x=\"Private Car Ownership (Percent)\", y = \"Far Spring (scaled)\")  +\n",
    "  geom_text_repel(\n",
    "   aes(label= Country), size = 2.5,\n",
    "     force= 1,\n",
    "      force_pull = 1,\n",
    "      angle = 0,\n",
    "      fontface = 2,\n",
    "      segment.linetype = 5,\n",
    "    max.overlaps = Inf) + theme(legend.position = \"none\") \n",
    "\n",
    "spp <- ggplot(df, aes(x=pcar, y= PipedIndoors, color=clusters)) +\n",
    "  geom_point() + \n",
    "theme_minimal() +\n",
    "  scale_color_manual(values=c('#8da0cb','#66c2a5', '#fc8d62'))+ \n",
    "  labs(title=,\n",
    "       x=\"Private Car Ownership (Percent)\", y = \"Piped Indoors (scaled)\")  +\n",
    "  geom_text_repel(\n",
    "   aes(label= Country), size = 2.5,\n",
    "     force= 1,\n",
    "      force_pull = 1,\n",
    "      angle = 0,\n",
    "      fontface = 2,\n",
    "      segment.linetype = 5,\n",
    "    max.overlaps = Inf)+ theme(legend.position = \"none\") \n",
    "\n",
    "spy <- ggplot(df, aes(x=pcar, y= PipedOutdoors, color=clusters)) +\n",
    "  geom_point() + \n",
    "theme_minimal() +\n",
    "  scale_color_manual(values=c('#8da0cb','#66c2a5', '#fc8d62'))+ \n",
    "  labs(title=,\n",
    "       x=\"Private Car Ownership (Percent)\", y = \"Piped Outdoors (scaled)\")  +\n",
    "  geom_text_repel(\n",
    "   aes(label= Country), size = 2.5,\n",
    "     force= 1,\n",
    "      force_pull = 1,\n",
    "      angle = 0,\n",
    "      fontface = 2,\n",
    "      segment.linetype = 5,\n",
    "    max.overlaps = Inf)+ theme(legend.position = \"none\") \n",
    "\n",
    "sppw <- ggplot(df, aes(x=pcar, y= Vended, color=clusters)) +\n",
    "  geom_point() + \n",
    "theme_minimal() +\n",
    "  scale_color_manual(values=c('#8da0cb','#66c2a5', '#fc8d62'))+ \n",
    "  labs(\n",
    "       x=\"Private Car Ownership (Aggregation)\", y = \"Vended (scaled)\") +\n",
    "  geom_text_repel(\n",
    "   aes(label= Country), size = 2.5,\n",
    "     force= 1,\n",
    "      force_pull = 1,\n",
    "      angle = 0,\n",
    "      fontface = 2,\n",
    "      segment.linetype = 5,\n",
    "    max.overlaps = Inf)+ theme(legend.position = \"none\")  \n",
    "\n",
    "spns <- ggplot(df, aes(x=pcar, y= NearbySurface, color=clusters)) +\n",
    "  geom_point() + \n",
    "theme_minimal() +\n",
    "  scale_color_manual(values=c('#8da0cb','#66c2a5', '#fc8d62'))+ \n",
    "  labs(title=,\n",
    "       x=\"Private Car Ownership (Percent)\", y = \"Nearby Surface (scaled)\") +\n",
    "  geom_text_repel(\n",
    "   aes(label= Country), size = 2.5,\n",
    "     force= 1,\n",
    "      force_pull = 1,\n",
    "      angle = 0,\n",
    "      fontface = 2,\n",
    "      segment.linetype = 5,\n",
    "    max.overlaps = Inf) + theme(legend.position = \"none\") \n",
    "\n",
    "spb <- ggplot(df, aes(x=pcar, y= NearbyImproved, color=clusters)) +\n",
    "  geom_point() +\n",
    "theme_minimal() +\n",
    "  scale_color_manual(values=c('#8da0cb','#66c2a5', '#fc8d62'))+ \n",
    "  labs(title=,\n",
    "       x=\"Private Car Ownership (Percent)\", y = \"Nearby Improved (scaled)\") +\n",
    "  geom_text_repel(\n",
    "   aes(label= Country), size = 2.5,\n",
    "     force= 1,\n",
    "      force_pull = 1,\n",
    "      angle = 0,\n",
    "      fontface = 2,\n",
    "      segment.linetype = 5,\n",
    "    max.overlaps = Inf) + theme(legend.position = \"none\") \n",
    "\n",
    "options(repr.plot.width=14, repr.plot.height=14)\n",
    " "
   ]
  },
  {
   "cell_type": "code",
   "execution_count": 208,
   "metadata": {},
   "outputs": [
    {
     "data": {
      "text/html": [
       "<strong>png:</strong> 2"
      ],
      "text/latex": [
       "\\textbf{png:} 2"
      ],
      "text/markdown": [
       "**png:** 2"
      ],
      "text/plain": [
       "png \n",
       "  2 "
      ]
     },
     "metadata": {},
     "output_type": "display_data"
    },
    {
     "data": {
      "text/html": [
       "<strong>png:</strong> 2"
      ],
      "text/latex": [
       "\\textbf{png:} 2"
      ],
      "text/markdown": [
       "**png:** 2"
      ],
      "text/plain": [
       "png \n",
       "  2 "
      ]
     },
     "metadata": {},
     "output_type": "display_data"
    }
   ],
   "source": [
    " options(repr.plot.width=14, repr.plot.height=14)\n",
    "par(mar = c(1,1,1,1))\n",
    "par(cex=1.4)\n",
    "\n",
    "pdf(file = \"../../docs/manuscript/pdf-image/scatter-pcar-2.pdf\"\n",
    "  ,\n",
    "  width     = 14,\n",
    "  height    = 14 )\n",
    "\n",
    "grid.arrange(sppw,spns,spb,  ncol=2, nrow=2, widths=c(5, 5), heights=c(5, 5))  \n",
    "dev.off()"
   ]
  },
  {
   "cell_type": "code",
   "execution_count": null,
   "metadata": {},
   "outputs": [],
   "source": [
    "pdf(file = \"../../docs/manuscript/pdf-image/scatter-pcar-1.pdf\"\n",
    "  ,\n",
    "  width     = 14,\n",
    "  height    = 14 )\n",
    "grid.arrange(spd,sps,spp,spy , ncol=2, nrow=2, widths=c(5, 5), heights=c(5, 5))  \n",
    "dev.off()"
   ]
  },
  {
   "cell_type": "markdown",
   "metadata": {},
   "source": [
    "# Scatter Analysis CGDP"
   ]
  },
  {
   "cell_type": "code",
   "execution_count": 209,
   "metadata": {},
   "outputs": [
    {
     "data": {
      "text/html": [
       "<strong>png:</strong> 2"
      ],
      "text/latex": [
       "\\textbf{png:} 2"
      ],
      "text/markdown": [
       "**png:** 2"
      ],
      "text/plain": [
       "png \n",
       "  2 "
      ]
     },
     "metadata": {},
     "output_type": "display_data"
    },
    {
     "data": {
      "text/html": [
       "<strong>png:</strong> 2"
      ],
      "text/latex": [
       "\\textbf{png:} 2"
      ],
      "text/markdown": [
       "**png:** 2"
      ],
      "text/plain": [
       "png \n",
       "  2 "
      ]
     },
     "metadata": {},
     "output_type": "display_data"
    }
   ],
   "source": [
    "spd <- ggplot(df, aes(x=log(cgdp), y= FarWell, color=clusters)) +\n",
    "  geom_point() + \n",
    "theme_minimal() +\n",
    "  scale_color_manual(values=c('#8da0cb','#66c2a5', '#fc8d62'))+ \n",
    "  labs(title=,\n",
    "       x=\"GDP (current US $) \", y = \"Faraway Well (scaled)\")+\n",
    "  geom_text_repel(\n",
    "   aes(label= Country), size = 2.5,\n",
    "     force= 1,\n",
    "      force_pull = 1,\n",
    "      angle = 0,\n",
    "      fontface = 2,\n",
    "      segment.linetype = 5,\n",
    "    max.overlaps = Inf) + theme(legend.position = \"none\") \n",
    "\n",
    "sps <- ggplot(df, aes(x=log(cgdp), y= FarSpring, color=clusters)) +\n",
    "  geom_point() + \n",
    "theme_minimal() +\n",
    "  scale_color_manual(values=c('#8da0cb','#66c2a5', '#fc8d62'))+ \n",
    "  labs(title=,\n",
    "       x=\"GDP (current US $) \", y = \"Far Spring (scaled)\")  +\n",
    "  geom_text_repel(\n",
    "   aes(label= Country), size = 2.5,\n",
    "     force= 1,\n",
    "      force_pull = 1,\n",
    "      angle = 0,\n",
    "      fontface = 2,\n",
    "      segment.linetype = 5,\n",
    "    max.overlaps = Inf) + theme(legend.position = \"none\") \n",
    "\n",
    "spp <- ggplot(df, aes(x=log(cgdp), y= PipedIndoors, color=clusters)) +\n",
    "  geom_point() + \n",
    "theme_minimal() +\n",
    "  scale_color_manual(values=c('#8da0cb','#66c2a5', '#fc8d62'))+ \n",
    "  labs(title=,\n",
    "       x=\"GDP (current US $)\", y = \"Piped Indoors (scaled)\") +\n",
    "  geom_text_repel(\n",
    "   aes(label= Country), size = 2.5,\n",
    "     force= 1,\n",
    "      force_pull = 1,\n",
    "      angle = 0,\n",
    "      fontface = 2,\n",
    "      segment.linetype = 5,\n",
    "    max.overlaps = Inf) + theme(legend.position = \"none\") \n",
    "\n",
    "spy <- ggplot(df, aes(x=log(cgdp), y= PipedOutdoors, color=clusters)) +\n",
    "  geom_point() + \n",
    "theme_minimal() +\n",
    "  scale_color_manual(values=c('#8da0cb','#66c2a5', '#fc8d62'))+ \n",
    "  labs(title=,\n",
    "       x=\"GDP (current US $)\", y = \"Piped Outdoors (scaled)\")  +\n",
    "  geom_text_repel(\n",
    "   aes(label= Country), size = 2.5,\n",
    "     force= 1,\n",
    "      force_pull = 1,\n",
    "      angle = 0,\n",
    "      fontface = 2,\n",
    "      segment.linetype = 5,\n",
    "    max.overlaps = Inf) + theme(legend.position = \"none\") \n",
    "\n",
    "sppw <- ggplot(df, aes(x=log(cgdp), y= Vended, color=clusters)) +\n",
    "  geom_point() + \n",
    "theme_minimal() +\n",
    "  scale_color_manual(values=c('#8da0cb','#66c2a5', '#fc8d62'))+ \n",
    "  labs(title=,\n",
    "       x=\"GDP (current US $)\", y = \"Vended (scaled)\") +\n",
    "  geom_text_repel(\n",
    "   aes(label= Country), size = 2.5,\n",
    "     force= 1,\n",
    "      force_pull = 1,\n",
    "      angle = 0,\n",
    "      fontface = 2,\n",
    "      segment.linetype = 5,\n",
    "    max.overlaps = Inf) + theme(legend.position = \"none\") \n",
    "\n",
    "spns <- ggplot(df, aes(x=log(cgdp), y= NearbySurface, color=clusters)) +\n",
    "  geom_point() + \n",
    "theme_minimal() +\n",
    "  scale_color_manual(values=c('#8da0cb','#66c2a5', '#fc8d62'))+ \n",
    "  labs(title=,\n",
    "       x=\"GDP (current US $)\", y = \"Nearby Surface (scaled)\") +\n",
    "  geom_text_repel(\n",
    "   aes(label= Country), size = 2.5,\n",
    "     force= 1,\n",
    "      force_pull = 1,\n",
    "      angle = 0,\n",
    "      fontface = 2,\n",
    "      segment.linetype = 5,\n",
    "    max.overlaps = Inf) + theme(legend.position = \"none\") \n",
    "\n",
    "spb <- ggplot(df, aes(x=log(cgdp), y= NearbyImproved, color=clusters)) +\n",
    "  geom_point() + \n",
    "theme_minimal() +\n",
    "  scale_color_manual(values=c('#8da0cb','#66c2a5', '#fc8d62'))+ \n",
    "  labs(title=,\n",
    "       x=\"GDP (current US $)\", y = \"Nearby Improved (scaled)\") +\n",
    "  geom_text_repel(\n",
    "   aes(label= Country), size = 2.5,\n",
    "     force= 1,\n",
    "      force_pull = 1,\n",
    "      angle = 0,\n",
    "      fontface = 2,\n",
    "      segment.linetype = 5,\n",
    "    max.overlaps = Inf) + theme(legend.position = \"none\") "
   ]
  },
  {
   "cell_type": "code",
   "execution_count": null,
   "metadata": {},
   "outputs": [],
   "source": [
    "options(repr.plot.width=14, repr.plot.height=14)\n",
    "par(mar = c(1,1,1,1))\n",
    "par(cex=1.4)\n",
    "\n",
    "\n",
    "\n",
    "pdf(file = \"../../docs/manuscript/pdf-image/scatter-cgdp-1.pdf\"\n",
    "  ,\n",
    "  width     = 14,\n",
    "  height    = 14 )\n",
    "\n",
    "grid.arrange(spd,sps,spp,spy , ncol=2, nrow=2, widths=c(5, 5), heights=c(5, 5))  \n",
    "dev.off()\n",
    "\n",
    "\n",
    "\n"
   ]
  },
  {
   "cell_type": "code",
   "execution_count": null,
   "metadata": {},
   "outputs": [],
   "source": [
    "pdf(file = \"../../docs/manuscript/pdf-image/scatter-cgdp-2.pdf\"\n",
    "  ,\n",
    "  width     = 14,\n",
    "  height    = 14 )\n",
    "\n",
    "grid.arrange(sppw,spns,spb,  ncol=2, nrow=2, widths=c(5, 5), heights=c(5, 5))  \n",
    "dev.off()"
   ]
  },
  {
   "cell_type": "markdown",
   "metadata": {},
   "source": [
    "# Scatter popd"
   ]
  },
  {
   "cell_type": "code",
   "execution_count": 210,
   "metadata": {},
   "outputs": [
    {
     "data": {
      "text/html": [
       "<strong>png:</strong> 2"
      ],
      "text/latex": [
       "\\textbf{png:} 2"
      ],
      "text/markdown": [
       "**png:** 2"
      ],
      "text/plain": [
       "png \n",
       "  2 "
      ]
     },
     "metadata": {},
     "output_type": "display_data"
    },
    {
     "data": {
      "text/html": [
       "<strong>png:</strong> 2"
      ],
      "text/latex": [
       "\\textbf{png:} 2"
      ],
      "text/markdown": [
       "**png:** 2"
      ],
      "text/plain": [
       "png \n",
       "  2 "
      ]
     },
     "metadata": {},
     "output_type": "display_data"
    }
   ],
   "source": [
    "spd <- ggplot(df, aes(x=log(popd), y= FarWell, color=clusters)) +\n",
    "  geom_point() + \n",
    "theme_minimal() +\n",
    "  scale_color_manual(values=c('#8da0cb','#66c2a5', '#fc8d62'))+ \n",
    "  labs(title=,\n",
    "       x=\"Population Density (people / sq. km of land area)\", y = \"Far Well (scaled)\")+\n",
    "  geom_text_repel(\n",
    "   aes(label= Country), size = 2.5,\n",
    "     force= 1,\n",
    "      force_pull = 1,\n",
    "      angle = 0,\n",
    "      fontface = 2,\n",
    "      segment.linetype = 5,\n",
    "    max.overlaps = Inf) + theme(legend.position = \"none\") \n",
    "\n",
    "\n",
    "sps <- ggplot(df, aes(x=log(popd), y= FarSpring, color=clusters)) +\n",
    "  geom_point() + \n",
    "theme_minimal() +\n",
    "  scale_color_manual(values=c('#8da0cb','#66c2a5', '#fc8d62'))+ \n",
    "  labs(title=,\n",
    "       x=\"Population Density (people / sq. km of land area)\", y = \"Far Spring (scaled)\")  +\n",
    "  geom_text_repel(\n",
    "   aes(label= Country), size = 2.5,\n",
    "     force= 1,\n",
    "      force_pull = 1,\n",
    "      angle = 0,\n",
    "      fontface = 2,\n",
    "      segment.linetype = 5,\n",
    "    max.overlaps = Inf) + theme(legend.position = \"none\") \n",
    "\n",
    "spp <- ggplot(df, aes(x=log(popd), y= PipedIndoors, color=clusters)) +\n",
    "  geom_point() + \n",
    "theme_minimal() +\n",
    "  scale_color_manual(values=c('#8da0cb','#66c2a5', '#fc8d62'))+ \n",
    "  labs(title=,\n",
    "       x=\"Population Density (people / sq. km of land area)\", y = \"Piped Indoors (scaled)\")  +\n",
    "  geom_text_repel(\n",
    "   aes(label= Country), size = 2.5,\n",
    "     force= 1,\n",
    "      force_pull = 1,\n",
    "      angle = 0,\n",
    "      fontface = 2,\n",
    "      segment.linetype = 5,\n",
    "    max.overlaps = Inf) + theme(legend.position = \"none\") \n",
    "\n",
    "spy <- ggplot(df, aes(x=log(popd), y= PipedOutdoors, color=clusters)) +\n",
    "  geom_point() + \n",
    "theme_minimal() +\n",
    "  scale_color_manual(values=c('#8da0cb','#66c2a5', '#fc8d62'))+ \n",
    "  labs(title=,\n",
    "       x=\"Population Density (people / sq. km of land area)\", y = \"Piped Outdoors (scaled)\")  +\n",
    "  geom_text_repel(\n",
    "   aes(label= Country), size = 2.5,\n",
    "     force= 1,\n",
    "      force_pull = 1,\n",
    "      angle = 0,\n",
    "      fontface = 2,\n",
    "      segment.linetype = 5,\n",
    "    max.overlaps = Inf) + theme(legend.position = \"none\") \n",
    "\n",
    "sppw <- ggplot(df, aes(x=log(popd), y= Vended, color=clusters)) +\n",
    "  geom_point() + \n",
    "theme_minimal() +\n",
    "  scale_color_manual(values=c('#8da0cb','#66c2a5', '#fc8d62'))+ \n",
    "  labs(title=,\n",
    "       x=\"Population Density (people/ sq. km of land area)\", y = \"Vended (scaled)\") +\n",
    "  geom_text_repel(\n",
    "   aes(label= Country), size = 2.5,\n",
    "     force= 1,\n",
    "      force_pull = 1,\n",
    "      angle = 0,\n",
    "      fontface = 2,\n",
    "      segment.linetype = 5,\n",
    "    max.overlaps = Inf) + theme(legend.position = \"none\") \n",
    "\n",
    "spns <- ggplot(df, aes(x=log(popd), y= NearbySurface, color=clusters)) +\n",
    "  geom_point() + \n",
    "theme_minimal() +\n",
    "  scale_color_manual(values=c('#8da0cb','#66c2a5', '#fc8d62'))+ \n",
    "  labs(title=,\n",
    "       x=\"Population Density (people / sq. km of land area)\", y = \"Nearby Surface (scaled)\") +\n",
    "  geom_text_repel(\n",
    "   aes(label= Country), size = 2.5,\n",
    "     force= 1,\n",
    "      force_pull = 1,\n",
    "      angle = 0,\n",
    "      fontface = 2,\n",
    "      segment.linetype = 5,\n",
    "    max.overlaps = Inf) + theme(legend.position = \"none\") \n",
    "\n",
    "spb <- ggplot(df, aes(x=log(popd), y= NearbyImproved, color=clusters)) +\n",
    "  geom_point() + \n",
    "theme_minimal() +\n",
    "  scale_color_manual(values=c('#8da0cb','#66c2a5', '#fc8d62'))+ \n",
    "  labs(title=,\n",
    "       x=\"Population Density (people / sq. km of land area)\", y = \"Nearby Improved (scaled)\") +\n",
    "  geom_text_repel(\n",
    "   aes(label= Country), size = 2.5,\n",
    "     force= 1,\n",
    "      force_pull = 1,\n",
    "      angle = 0,\n",
    "      fontface = 2,\n",
    "      segment.linetype = 5,\n",
    "    max.overlaps = Inf) + theme(legend.position = \"none\") \n",
    "\n",
    "\n"
   ]
  },
  {
   "cell_type": "code",
   "execution_count": null,
   "metadata": {},
   "outputs": [],
   "source": [
    "options(repr.plot.width=14, repr.plot.height=14)\n",
    "par(mar = c(1,1,1,1))\n",
    "par(cex=1.4)\n",
    "\n",
    "\n",
    "pdf(file = \"../../docs/manuscript/pdf-image/scatter-popd-1.pdf\"\n",
    "  ,\n",
    "  width     = 14,\n",
    "  height    = 14 )\n",
    "\n",
    "grid.arrange(spd,sps,spp,spy , ncol=2, nrow=2, widths=c(5, 5), heights=c(5, 5))  \n",
    "dev.off()\n",
    "\n",
    "\n"
   ]
  },
  {
   "cell_type": "code",
   "execution_count": null,
   "metadata": {},
   "outputs": [],
   "source": [
    "pdf(file = \"../../docs/manuscript/pdf-image/scatter-popd-2.pdf\"\n",
    "  ,\n",
    "  width     = 14,\n",
    "  height    = 14 )\n",
    "grid.arrange(sppw,spns,spb,  ncol=2, nrow=2, widths=c(5, 5), heights=c(5, 5))  \n",
    "dev.off()"
   ]
  },
  {
   "cell_type": "markdown",
   "metadata": {},
   "source": [
    "# unimproved or improved comparison"
   ]
  },
  {
   "cell_type": "code",
   "execution_count": 211,
   "metadata": {
    "scrolled": false
   },
   "outputs": [
    {
     "data": {
      "text/html": [
       "<strong>png:</strong> 2"
      ],
      "text/latex": [
       "\\textbf{png:} 2"
      ],
      "text/markdown": [
       "**png:** 2"
      ],
      "text/plain": [
       "png \n",
       "  2 "
      ]
     },
     "metadata": {},
     "output_type": "display_data"
    }
   ],
   "source": [
    "df.pro = read_excel(\"../../results/dfsimple.xlsx\" ,sheet=1 )\n",
    "df.pro <- df.pro[,c(1,4,15)]\n",
    "df <- merge(x = df.class,\n",
    "              y = df.pro,\n",
    "              by = c(\"Country\"))\n",
    "df$clusters <- as.factor(df$clusters)\n",
    "df <- df[,c(1,8,5,6,9,13,12,16:17)]\n",
    "\n",
    "sp.pcar.imws <- ggplot(df, aes(x=pcar, y= imws, color=clusters)) +\n",
    "  geom_point() + \n",
    "theme_minimal() +\n",
    "  scale_color_manual(values=c('#8da0cb','#66c2a5', '#fc8d62'))+ \n",
    "  labs(title=,\n",
    "       x=\"Private Car Ownership (Percent)\", y = \"Improved Households (Percent)\")+\n",
    "  geom_text_repel(\n",
    "   aes(label= Country), size = 2.5,\n",
    "     force= 1,\n",
    "      force_pull = 1,\n",
    "      angle = 0,\n",
    "      fontface = 2,\n",
    "      segment.linetype = 5,\n",
    "    max.overlaps = Inf) + theme(legend.position = \"none\") \n",
    "\n",
    "sp.cgdp.imws <- ggplot(df, aes(x=log(cgdp), y= imws, color=clusters)) +\n",
    "  geom_point() + \n",
    "theme_minimal() +\n",
    "  scale_color_manual(values=c('#8da0cb','#66c2a5', '#fc8d62'))+ \n",
    "  labs(title=,\n",
    "       x=\"GDP (current US $)\", y = \"Improved Households (Percent)\")+\n",
    "  geom_text_repel(\n",
    "   aes(label= Country), size = 2.5,\n",
    "     force= 1,\n",
    "      force_pull = 1,\n",
    "      angle = 0,\n",
    "      fontface = 2,\n",
    "      segment.linetype = 5,\n",
    "    max.overlaps = Inf) + theme(legend.position = \"none\") \n",
    "\n",
    "sp.popd.imws <- ggplot(df, aes(x=popd, y= imws, color=clusters)) +\n",
    "  geom_point() + \n",
    "theme_minimal() +\n",
    "  scale_color_manual(values=c('#8da0cb','#66c2a5', '#fc8d62'))+ \n",
    "  labs(title=,\n",
    "       x=\"Population Density (people/sq. km of land area)\", y = \"Improved Households (Percent)\")+\n",
    "  geom_text_repel(\n",
    "   aes(label= Country), size = 2.5,\n",
    "     force= 1,\n",
    "      force_pull = 1,\n",
    "      angle = 0,\n",
    "      fontface = 2,\n",
    "      segment.linetype = 5,\n",
    "    max.overlaps = Inf) + theme(legend.position = \"none\") \n",
    "\n",
    "sp.boat.imws <- ggplot(df, aes(x=boat, y= imws, color=clusters)) +\n",
    "  geom_point() + \n",
    "    theme_minimal() +\n",
    "  scale_color_manual(values=c('#8da0cb','#66c2a5', '#fc8d62'))+ \n",
    "  labs(title=,\n",
    "       x=\"Private Boat Ownership (Percent)\", y = \"Improved Households (Percent)\")+\n",
    "  geom_text_repel(\n",
    "   aes(label= Country), size = 2.5,\n",
    "     force= 1,\n",
    "      force_pull = 1,\n",
    "      angle = 0,\n",
    "      fontface = 2,\n",
    "      segment.linetype = 5,\n",
    "    max.overlaps = Inf) + theme(legend.position = \"none\") \n",
    "\n",
    "\n",
    "\n",
    "\n"
   ]
  },
  {
   "cell_type": "code",
   "execution_count": null,
   "metadata": {},
   "outputs": [],
   "source": [
    "options(repr.plot.width=14, repr.plot.height=14)\n",
    "par(mar = c(1,1,1,1))\n",
    "par(cex=1.4)\n",
    "\n",
    "\n",
    "\n",
    "pdf(file = \"../../docs/manuscript/pdf-image/scatter-improve-importance.pdf\"\n",
    "  ,\n",
    "  width     = 14,\n",
    "  height    = 14 )\n",
    "\n",
    "\n",
    "grid.arrange(sp.pcar.imws, sp.cgdp.imws ,sp.popd.imws,sp.boat.imws ,ncol=2, nrow=2, widths=c(5,5), heights=c(5,5))  \n",
    "dev.off()"
   ]
  },
  {
   "cell_type": "markdown",
   "metadata": {},
   "source": [
    "# Transportation"
   ]
  },
  {
   "cell_type": "code",
   "execution_count": 212,
   "metadata": {},
   "outputs": [
    {
     "data": {
      "text/html": [
       "<table class=\"dataframe\">\n",
       "<caption>A data.frame: 6 × 16</caption>\n",
       "<thead>\n",
       "\t<tr><th></th><th scope=col>Country</th><th scope=col>bicy</th><th scope=col>cart</th><th scope=col>mcyc</th><th scope=col>pcar</th><th scope=col>boat</th><th scope=col>wigc</th><th scope=col>clusters</th><th scope=col>cgdp</th><th scope=col>tpop</th><th scope=col>upop</th><th scope=col>popd</th><th scope=col>land</th><th scope=col>rifr</th><th scope=col>prec</th><th scope=col>imws</th></tr>\n",
       "\t<tr><th></th><th scope=col>&lt;chr&gt;</th><th scope=col>&lt;dbl&gt;</th><th scope=col>&lt;dbl&gt;</th><th scope=col>&lt;dbl&gt;</th><th scope=col>&lt;dbl&gt;</th><th scope=col>&lt;dbl&gt;</th><th scope=col>&lt;dbl&gt;</th><th scope=col>&lt;chr&gt;</th><th scope=col>&lt;dbl&gt;</th><th scope=col>&lt;dbl&gt;</th><th scope=col>&lt;dbl&gt;</th><th scope=col>&lt;dbl&gt;</th><th scope=col>&lt;dbl&gt;</th><th scope=col>&lt;dbl&gt;</th><th scope=col>&lt;dbl&gt;</th><th scope=col>&lt;dbl&gt;</th></tr>\n",
       "</thead>\n",
       "<tbody>\n",
       "\t<tr><th scope=row>1</th><td>Afghanistan</td><td>30.0</td><td>5.8</td><td>35.2</td><td>11.8</td><td>0.0</td><td>0.1</td><td>Decentralized</td><td> 18353881130</td><td> 37172386</td><td>25.495</td><td>  56.93776</td><td> 652860</td><td>1299.0269</td><td> 327</td><td>71.2</td></tr>\n",
       "\t<tr><th scope=row>2</th><td>Albania    </td><td>26.4</td><td>3.2</td><td> 9.6</td><td>37.0</td><td>0.7</td><td>0.1</td><td>Hybrid       </td><td> 15147020535</td><td>  2866376</td><td>60.319</td><td> 104.61226</td><td>  27400</td><td>9361.5460</td><td>1485</td><td>98.4</td></tr>\n",
       "\t<tr><th scope=row>3</th><td>Angola     </td><td> 4.6</td><td>1.3</td><td>17.8</td><td>10.9</td><td>0.4</td><td>0.3</td><td>Decentralized</td><td>101353230785</td><td> 30809762</td><td>65.514</td><td>  24.71305</td><td>1246700</td><td>4963.6533</td><td>1010</td><td>66.9</td></tr>\n",
       "\t<tr><th scope=row>4</th><td>Armenia    </td><td> 8.6</td><td>0.4</td><td> 0.2</td><td>39.2</td><td>0.3</td><td>0.1</td><td>Centralized  </td><td> 12457941907</td><td>  2951776</td><td>63.149</td><td> 103.68022</td><td>  28470</td><td>2329.1833</td><td> 562</td><td>99.9</td></tr>\n",
       "\t<tr><th scope=row>5</th><td>Azerbaijan </td><td> 6.9</td><td>3.3</td><td> 1.1</td><td>20.4</td><td>0.1</td><td>0.0</td><td>Centralized  </td><td> 47112941176</td><td>  9939771</td><td>55.680</td><td> 120.23432</td><td>  82670</td><td> 823.5207</td><td> 447</td><td>90.6</td></tr>\n",
       "\t<tr><th scope=row>6</th><td>Bangladesh </td><td>25.1</td><td>0.0</td><td> 6.4</td><td> 0.8</td><td>0.0</td><td>0.3</td><td>Hybrid       </td><td>274039092455</td><td>161356039</td><td>36.632</td><td>1239.57931</td><td> 130170</td><td> 657.6039</td><td>2666</td><td>97.8</td></tr>\n",
       "</tbody>\n",
       "</table>\n"
      ],
      "text/latex": [
       "A data.frame: 6 × 16\n",
       "\\begin{tabular}{r|llllllllllllllll}\n",
       "  & Country & bicy & cart & mcyc & pcar & boat & wigc & clusters & cgdp & tpop & upop & popd & land & rifr & prec & imws\\\\\n",
       "  & <chr> & <dbl> & <dbl> & <dbl> & <dbl> & <dbl> & <dbl> & <chr> & <dbl> & <dbl> & <dbl> & <dbl> & <dbl> & <dbl> & <dbl> & <dbl>\\\\\n",
       "\\hline\n",
       "\t1 & Afghanistan & 30.0 & 5.8 & 35.2 & 11.8 & 0.0 & 0.1 & Decentralized &  18353881130 &  37172386 & 25.495 &   56.93776 &  652860 & 1299.0269 &  327 & 71.2\\\\\n",
       "\t2 & Albania     & 26.4 & 3.2 &  9.6 & 37.0 & 0.7 & 0.1 & Hybrid        &  15147020535 &   2866376 & 60.319 &  104.61226 &   27400 & 9361.5460 & 1485 & 98.4\\\\\n",
       "\t3 & Angola      &  4.6 & 1.3 & 17.8 & 10.9 & 0.4 & 0.3 & Decentralized & 101353230785 &  30809762 & 65.514 &   24.71305 & 1246700 & 4963.6533 & 1010 & 66.9\\\\\n",
       "\t4 & Armenia     &  8.6 & 0.4 &  0.2 & 39.2 & 0.3 & 0.1 & Centralized   &  12457941907 &   2951776 & 63.149 &  103.68022 &   28470 & 2329.1833 &  562 & 99.9\\\\\n",
       "\t5 & Azerbaijan  &  6.9 & 3.3 &  1.1 & 20.4 & 0.1 & 0.0 & Centralized   &  47112941176 &   9939771 & 55.680 &  120.23432 &   82670 &  823.5207 &  447 & 90.6\\\\\n",
       "\t6 & Bangladesh  & 25.1 & 0.0 &  6.4 &  0.8 & 0.0 & 0.3 & Hybrid        & 274039092455 & 161356039 & 36.632 & 1239.57931 &  130170 &  657.6039 & 2666 & 97.8\\\\\n",
       "\\end{tabular}\n"
      ],
      "text/markdown": [
       "\n",
       "A data.frame: 6 × 16\n",
       "\n",
       "| <!--/--> | Country &lt;chr&gt; | bicy &lt;dbl&gt; | cart &lt;dbl&gt; | mcyc &lt;dbl&gt; | pcar &lt;dbl&gt; | boat &lt;dbl&gt; | wigc &lt;dbl&gt; | clusters &lt;chr&gt; | cgdp &lt;dbl&gt; | tpop &lt;dbl&gt; | upop &lt;dbl&gt; | popd &lt;dbl&gt; | land &lt;dbl&gt; | rifr &lt;dbl&gt; | prec &lt;dbl&gt; | imws &lt;dbl&gt; |\n",
       "|---|---|---|---|---|---|---|---|---|---|---|---|---|---|---|---|---|\n",
       "| 1 | Afghanistan | 30.0 | 5.8 | 35.2 | 11.8 | 0.0 | 0.1 | Decentralized |  18353881130 |  37172386 | 25.495 |   56.93776 |  652860 | 1299.0269 |  327 | 71.2 |\n",
       "| 2 | Albania     | 26.4 | 3.2 |  9.6 | 37.0 | 0.7 | 0.1 | Hybrid        |  15147020535 |   2866376 | 60.319 |  104.61226 |   27400 | 9361.5460 | 1485 | 98.4 |\n",
       "| 3 | Angola      |  4.6 | 1.3 | 17.8 | 10.9 | 0.4 | 0.3 | Decentralized | 101353230785 |  30809762 | 65.514 |   24.71305 | 1246700 | 4963.6533 | 1010 | 66.9 |\n",
       "| 4 | Armenia     |  8.6 | 0.4 |  0.2 | 39.2 | 0.3 | 0.1 | Centralized   |  12457941907 |   2951776 | 63.149 |  103.68022 |   28470 | 2329.1833 |  562 | 99.9 |\n",
       "| 5 | Azerbaijan  |  6.9 | 3.3 |  1.1 | 20.4 | 0.1 | 0.0 | Centralized   |  47112941176 |   9939771 | 55.680 |  120.23432 |   82670 |  823.5207 |  447 | 90.6 |\n",
       "| 6 | Bangladesh  | 25.1 | 0.0 |  6.4 |  0.8 | 0.0 | 0.3 | Hybrid        | 274039092455 | 161356039 | 36.632 | 1239.57931 |  130170 |  657.6039 | 2666 | 97.8 |\n",
       "\n"
      ],
      "text/plain": [
       "  Country     bicy cart mcyc pcar boat wigc clusters      cgdp        \n",
       "1 Afghanistan 30.0 5.8  35.2 11.8 0.0  0.1  Decentralized  18353881130\n",
       "2 Albania     26.4 3.2   9.6 37.0 0.7  0.1  Hybrid         15147020535\n",
       "3 Angola       4.6 1.3  17.8 10.9 0.4  0.3  Decentralized 101353230785\n",
       "4 Armenia      8.6 0.4   0.2 39.2 0.3  0.1  Centralized    12457941907\n",
       "5 Azerbaijan   6.9 3.3   1.1 20.4 0.1  0.0  Centralized    47112941176\n",
       "6 Bangladesh  25.1 0.0   6.4  0.8 0.0  0.3  Hybrid        274039092455\n",
       "  tpop      upop   popd       land    rifr      prec imws\n",
       "1  37172386 25.495   56.93776  652860 1299.0269  327 71.2\n",
       "2   2866376 60.319  104.61226   27400 9361.5460 1485 98.4\n",
       "3  30809762 65.514   24.71305 1246700 4963.6533 1010 66.9\n",
       "4   2951776 63.149  103.68022   28470 2329.1833  562 99.9\n",
       "5   9939771 55.680  120.23432   82670  823.5207  447 90.6\n",
       "6 161356039 36.632 1239.57931  130170  657.6039 2666 97.8"
      ]
     },
     "metadata": {},
     "output_type": "display_data"
    }
   ],
   "source": [
    "df.veh = read_excel(\"../../results/dfsimple.xlsx\" ,sheet=1 )\n",
    "df.veh <- df.veh[,c(1,4)]\n",
    "df <- merge(x = df.class,\n",
    "              y = df.veh,\n",
    "              by = c(\"Country\"))\n",
    "head(df)"
   ]
  },
  {
   "cell_type": "code",
   "execution_count": 213,
   "metadata": {},
   "outputs": [
    {
     "data": {
      "image/png": "[encoded data removed]",
      "text/plain": [
       "plot without title"
      ]
     },
     "metadata": {
      "image/png": {
       "height": 840,
       "width": 840
      }
     },
     "output_type": "display_data"
    }
   ],
   "source": [
    "# '#E41A1C' - Red '#4DAF4A', - green  '#377EB8' - blue\n",
    "sp.bicy.imws <- ggplot(df, aes(x=bicy, y= imws, color=clusters)) +\n",
    "  geom_point() + \n",
    "    theme_minimal() +\n",
    "  scale_color_manual(values=c('#66c2a5','#fc8d62', '#8da0cb'))+ \n",
    "  labs(title=,\n",
    "       x=\"Private Bicycle Ownership (Percent)\", y = \"Households using an improved water source (Percent)\")+\n",
    "  geom_text_repel(\n",
    "   aes(label= Country), size = 2.5,\n",
    "     force= 1,\n",
    "      force_pull = 1,\n",
    "      angle = 0,\n",
    "      fontface = 2,\n",
    "      segment.linetype = 5,\n",
    "    max.overlaps = Inf) + theme(legend.position = \"none\") \n",
    "\n",
    "sp.mcyc.imws <- ggplot(df, aes(x=mcyc, y= imws, color=clusters)) +\n",
    "  geom_point() + \n",
    "    theme_minimal() +\n",
    "  scale_color_manual(values=c('#8da0cb','#66c2a5', '#fc8d62'))+ \n",
    "  labs(title=,\n",
    "       x=\"Private Motorcycle Ownership (Percent)\", y = \"Households using an improved water source (Percent)\")+\n",
    "  geom_text_repel(\n",
    "   aes(label= Country), size = 2.5,\n",
    "     force= 1,\n",
    "      force_pull = 1,\n",
    "      angle = 0,\n",
    "      fontface = 2,\n",
    "      segment.linetype = 5,\n",
    "    max.overlaps = Inf) + theme(legend.position = \"none\") \n",
    "\n",
    "sp.cart.imws <- ggplot(df, aes(x=cart, y= imws, color=clusters)) +\n",
    "  geom_point() + \n",
    "theme_minimal() +\n",
    "  scale_color_manual(values=c('#8da0cb','#66c2a5', '#fc8d62'))+ \n",
    "  labs(title=,\n",
    "       x=\"Private Animal Drawn Cart Ownership (Percent)\", y = \"Households using an improved water source (Percent)\")+\n",
    "  geom_text_repel(\n",
    "   aes(label= Country), size = 2.5,\n",
    "     force= 1,\n",
    "      force_pull = 1,\n",
    "      angle = 0,\n",
    "      fontface = 2,\n",
    "      segment.linetype = 5,\n",
    "    max.overlaps = Inf) + theme(legend.position = \"none\") \n",
    "\n",
    "grid.arrange(sp.bicy.imws, sp.mcyc.imws ,sp.cart.imws ,ncol=2, nrow=2, widths=c(5,5), heights=c(5,5))"
   ]
  },
  {
   "cell_type": "markdown",
   "metadata": {},
   "source": [
    "# Unscaled Comparison"
   ]
  },
  {
   "cell_type": "code",
   "execution_count": 214,
   "metadata": {},
   "outputs": [
    {
     "data": {
      "text/html": [
       "<table class=\"dataframe\">\n",
       "<caption>A data.frame: 6 × 12</caption>\n",
       "<thead>\n",
       "\t<tr><th></th><th scope=col>Country</th><th scope=col>clusters</th><th scope=col>pcar</th><th scope=col>cgdp</th><th scope=col>popd</th><th scope=col>FarWell</th><th scope=col>FarSpring</th><th scope=col>PipedIndoors</th><th scope=col>PipedOutdoors</th><th scope=col>Vended</th><th scope=col>NearbySurface</th><th scope=col>NearbyImproved</th></tr>\n",
       "\t<tr><th></th><th scope=col>&lt;chr&gt;</th><th scope=col>&lt;fct&gt;</th><th scope=col>&lt;dbl&gt;</th><th scope=col>&lt;dbl&gt;</th><th scope=col>&lt;dbl&gt;</th><th scope=col>&lt;dbl&gt;</th><th scope=col>&lt;dbl&gt;</th><th scope=col>&lt;dbl&gt;</th><th scope=col>&lt;dbl&gt;</th><th scope=col>&lt;dbl&gt;</th><th scope=col>&lt;dbl&gt;</th><th scope=col>&lt;dbl&gt;</th></tr>\n",
       "</thead>\n",
       "<tbody>\n",
       "\t<tr><th scope=row>1</th><td>Afghanistan</td><td>Decentralized</td><td>11.8</td><td> 18353881130</td><td>  56.93776</td><td> 0.7697168</td><td> 0.12589699</td><td>-0.5933418</td><td> 0.1264002</td><td> 0.2423144</td><td> 1.1555535</td><td>-0.1981812</td></tr>\n",
       "\t<tr><th scope=row>2</th><td>Albania    </td><td>Hybrid       </td><td>37.0</td><td> 15147020535</td><td> 104.61226</td><td>-0.9038761</td><td>-0.51186772</td><td> 1.0624723</td><td>-1.2283912</td><td> 0.1420495</td><td>-0.5949199</td><td> 0.0954210</td></tr>\n",
       "\t<tr><th scope=row>3</th><td>Angola     </td><td>Decentralized</td><td>10.9</td><td>101353230785</td><td>  24.71305</td><td> 0.6983592</td><td> 0.04809742</td><td> 0.2046444</td><td> 0.2700254</td><td> 0.7059897</td><td> 2.2481914</td><td>-0.6963152</td></tr>\n",
       "\t<tr><th scope=row>4</th><td>Armenia    </td><td>Centralized  </td><td>39.2</td><td> 12457941907</td><td> 103.68022</td><td>-1.6046370</td><td>-1.34753126</td><td> 2.2376438</td><td>-2.0242389</td><td>-2.0162709</td><td>-0.9182333</td><td>-0.2787008</td></tr>\n",
       "\t<tr><th scope=row>5</th><td>Azerbaijan </td><td>Centralized  </td><td>20.4</td><td> 47112941176</td><td> 120.23432</td><td>-0.9082449</td><td>-0.47928590</td><td> 0.5955123</td><td>-0.2314584</td><td>-0.6178773</td><td> 0.3257808</td><td>-0.7130428</td></tr>\n",
       "\t<tr><th scope=row>6</th><td>Bangladesh </td><td>Hybrid       </td><td> 0.8</td><td>274039092455</td><td>1239.57931</td><td>-1.1422493</td><td>-0.95621309</td><td>-3.1486294</td><td>-0.8530337</td><td>-0.7746654</td><td>-0.9515049</td><td> 0.1280032</td></tr>\n",
       "</tbody>\n",
       "</table>\n"
      ],
      "text/latex": [
       "A data.frame: 6 × 12\n",
       "\\begin{tabular}{r|llllllllllll}\n",
       "  & Country & clusters & pcar & cgdp & popd & FarWell & FarSpring & PipedIndoors & PipedOutdoors & Vended & NearbySurface & NearbyImproved\\\\\n",
       "  & <chr> & <fct> & <dbl> & <dbl> & <dbl> & <dbl> & <dbl> & <dbl> & <dbl> & <dbl> & <dbl> & <dbl>\\\\\n",
       "\\hline\n",
       "\t1 & Afghanistan & Decentralized & 11.8 &  18353881130 &   56.93776 &  0.7697168 &  0.12589699 & -0.5933418 &  0.1264002 &  0.2423144 &  1.1555535 & -0.1981812\\\\\n",
       "\t2 & Albania     & Hybrid        & 37.0 &  15147020535 &  104.61226 & -0.9038761 & -0.51186772 &  1.0624723 & -1.2283912 &  0.1420495 & -0.5949199 &  0.0954210\\\\\n",
       "\t3 & Angola      & Decentralized & 10.9 & 101353230785 &   24.71305 &  0.6983592 &  0.04809742 &  0.2046444 &  0.2700254 &  0.7059897 &  2.2481914 & -0.6963152\\\\\n",
       "\t4 & Armenia     & Centralized   & 39.2 &  12457941907 &  103.68022 & -1.6046370 & -1.34753126 &  2.2376438 & -2.0242389 & -2.0162709 & -0.9182333 & -0.2787008\\\\\n",
       "\t5 & Azerbaijan  & Centralized   & 20.4 &  47112941176 &  120.23432 & -0.9082449 & -0.47928590 &  0.5955123 & -0.2314584 & -0.6178773 &  0.3257808 & -0.7130428\\\\\n",
       "\t6 & Bangladesh  & Hybrid        &  0.8 & 274039092455 & 1239.57931 & -1.1422493 & -0.95621309 & -3.1486294 & -0.8530337 & -0.7746654 & -0.9515049 &  0.1280032\\\\\n",
       "\\end{tabular}\n"
      ],
      "text/markdown": [
       "\n",
       "A data.frame: 6 × 12\n",
       "\n",
       "| <!--/--> | Country &lt;chr&gt; | clusters &lt;fct&gt; | pcar &lt;dbl&gt; | cgdp &lt;dbl&gt; | popd &lt;dbl&gt; | FarWell &lt;dbl&gt; | FarSpring &lt;dbl&gt; | PipedIndoors &lt;dbl&gt; | PipedOutdoors &lt;dbl&gt; | Vended &lt;dbl&gt; | NearbySurface &lt;dbl&gt; | NearbyImproved &lt;dbl&gt; |\n",
       "|---|---|---|---|---|---|---|---|---|---|---|---|---|\n",
       "| 1 | Afghanistan | Decentralized | 11.8 |  18353881130 |   56.93776 |  0.7697168 |  0.12589699 | -0.5933418 |  0.1264002 |  0.2423144 |  1.1555535 | -0.1981812 |\n",
       "| 2 | Albania     | Hybrid        | 37.0 |  15147020535 |  104.61226 | -0.9038761 | -0.51186772 |  1.0624723 | -1.2283912 |  0.1420495 | -0.5949199 |  0.0954210 |\n",
       "| 3 | Angola      | Decentralized | 10.9 | 101353230785 |   24.71305 |  0.6983592 |  0.04809742 |  0.2046444 |  0.2700254 |  0.7059897 |  2.2481914 | -0.6963152 |\n",
       "| 4 | Armenia     | Centralized   | 39.2 |  12457941907 |  103.68022 | -1.6046370 | -1.34753126 |  2.2376438 | -2.0242389 | -2.0162709 | -0.9182333 | -0.2787008 |\n",
       "| 5 | Azerbaijan  | Centralized   | 20.4 |  47112941176 |  120.23432 | -0.9082449 | -0.47928590 |  0.5955123 | -0.2314584 | -0.6178773 |  0.3257808 | -0.7130428 |\n",
       "| 6 | Bangladesh  | Hybrid        |  0.8 | 274039092455 | 1239.57931 | -1.1422493 | -0.95621309 | -3.1486294 | -0.8530337 | -0.7746654 | -0.9515049 |  0.1280032 |\n",
       "\n"
      ],
      "text/plain": [
       "  Country     clusters      pcar cgdp         popd       FarWell    FarSpring  \n",
       "1 Afghanistan Decentralized 11.8  18353881130   56.93776  0.7697168  0.12589699\n",
       "2 Albania     Hybrid        37.0  15147020535  104.61226 -0.9038761 -0.51186772\n",
       "3 Angola      Decentralized 10.9 101353230785   24.71305  0.6983592  0.04809742\n",
       "4 Armenia     Centralized   39.2  12457941907  103.68022 -1.6046370 -1.34753126\n",
       "5 Azerbaijan  Centralized   20.4  47112941176  120.23432 -0.9082449 -0.47928590\n",
       "6 Bangladesh  Hybrid         0.8 274039092455 1239.57931 -1.1422493 -0.95621309\n",
       "  PipedIndoors PipedOutdoors Vended     NearbySurface NearbyImproved\n",
       "1 -0.5933418    0.1264002     0.2423144  1.1555535    -0.1981812    \n",
       "2  1.0624723   -1.2283912     0.1420495 -0.5949199     0.0954210    \n",
       "3  0.2046444    0.2700254     0.7059897  2.2481914    -0.6963152    \n",
       "4  2.2376438   -2.0242389    -2.0162709 -0.9182333    -0.2787008    \n",
       "5  0.5955123   -0.2314584    -0.6178773  0.3257808    -0.7130428    \n",
       "6 -3.1486294   -0.8530337    -0.7746654 -0.9515049     0.1280032    "
      ]
     },
     "metadata": {},
     "output_type": "display_data"
    }
   ],
   "source": [
    "df.class = read_excel(\"../../results/class.xlsx\" ,sheet=1 )\n",
    "df.scale = read_excel(\"../../results/class-scale.xlsx\" ,sheet=1 )\n",
    "df.wa = read_excel( \"../../results/df-water-access.xlsx\" ,sheet=1)\n",
    "df.fa <- read_excel(\"../../results/seven-scores-no-scale.xlsx\",sheet=1)\n",
    "df.fa <- df.fa %>% \n",
    "  rename(\n",
    "      'FarWell' = ML1,\n",
    "      'Vended'= ML2,\n",
    "      'PipedIndoors'= ML3,\n",
    "      'NearbyImproved'= ML4,\n",
    "      'PipedOutdoors' = ML5,\n",
    "      'FarSpring' = ML6,\n",
    "      'NearbySurface'= ML7\n",
    "     )\n",
    "df <- merge(x = df.class,\n",
    "              y = df.fa,\n",
    "              by = c(\"Country\"))\n",
    "df$clusters <- as.factor(df$clusters)\n",
    "\n",
    "df <- df[,c(1,8,5,9, 12, 16:22 )] # 3 important explnatory variables from classification decision tree\n",
    "head(df)"
   ]
  },
  {
   "cell_type": "code",
   "execution_count": null,
   "metadata": {
    "scrolled": false
   },
   "outputs": [
    {
     "name": "stderr",
     "output_type": "stream",
     "text": [
      "`geom_smooth()` using formula 'y ~ s(x, bs = \"cs\")'\n",
      "\n"
     ]
    },
    {
     "data": {
      "text/html": [
       "<strong>png:</strong> 2"
      ],
      "text/latex": [
       "\\textbf{png:} 2"
      ],
      "text/markdown": [
       "**png:** 2"
      ],
      "text/plain": [
       "png \n",
       "  2 "
      ]
     },
     "metadata": {},
     "output_type": "display_data"
    },
    {
     "name": "stderr",
     "output_type": "stream",
     "text": [
      "`geom_smooth()` using formula 'y ~ s(x, bs = \"cs\")'\n",
      "\n"
     ]
    },
    {
     "data": {
      "text/html": [
       "<strong>png:</strong> 2"
      ],
      "text/latex": [
       "\\textbf{png:} 2"
      ],
      "text/markdown": [
       "**png:** 2"
      ],
      "text/plain": [
       "png \n",
       "  2 "
      ]
     },
     "metadata": {},
     "output_type": "display_data"
    },
    {
     "name": "stderr",
     "output_type": "stream",
     "text": [
      "`geom_smooth()` using formula 'y ~ s(x, bs = \"cs\")'\n",
      "\n"
     ]
    }
   ],
   "source": [
    "# '#E41A1C':RED,'#377EB8':BLUE, '#4DAF4A':GREEN (Alphabatical order of cluster)\n",
    "# \\textit{Far Well} score plotted against household private car ownership.\n",
    "spd <- ggplot(df, aes(x=pcar, y= FarWell , color=clusters)) +\n",
    "  geom_point() + \n",
    "  theme_minimal() +\n",
    "  scale_color_manual(values=c('#8da0cb','#66c2a5', '#fc8d62')) + \n",
    "  labs(title=,\n",
    "       x=\"Private Car Ownership (Percent)\", y = \"Far Well\" ,color = 'Typology') +\n",
    "   geom_text_repel(\n",
    "   aes(label= Country), size = 2.5,\n",
    "     force= 1,\n",
    "      force_pull = 1,\n",
    "      angle = 0,\n",
    "      fontface = 2,\n",
    "      segment.linetype = 5,\n",
    "    max.overlaps = Inf) + \n",
    "    theme(legend.position = \"right\") +\n",
    "    theme(text = element_text(size=18)) + #Font size\n",
    "    theme(axis.text = element_text(size = 16)) + #All tick size  \n",
    "    theme(axis.title = element_text(size = 18)) + # Adjusting Axis Title  \n",
    "    geom_smooth( aes(x=pcar, y= FarWell), method = 'gam' ,color = 'gray' )\n",
    "\n",
    "\n",
    "pdf(file = \"../../docs/manuscript/pdf-image/scatter-car-farwell.pdf\"\n",
    "  ,\n",
    "  width     = 10,\n",
    "  height    = 7 )\n",
    "\n",
    "spd\n",
    "\n",
    "dev.off()"
   ]
  },
  {
   "cell_type": "code",
   "execution_count": null,
   "metadata": {},
   "outputs": [],
   "source": [
    "#\\textit{Far Spring} score plotted against household private car ownership.\n",
    "sps <- ggplot(df, aes(x=pcar, y= FarSpring, color=clusters)) +\n",
    "  geom_point() + \n",
    "  theme_minimal() +\n",
    "  scale_color_manual(values=c('#8da0cb','#66c2a5', '#fc8d62'))+ \n",
    "  labs(title=,\n",
    "       x=\"Private Car Ownership (Percent)\", y = \"Far Spring\" ,color = 'Typology') +\n",
    "   geom_text_repel(\n",
    "   aes(label= Country), size = 2.5,\n",
    "     force= 1,\n",
    "      force_pull = 1,\n",
    "      angle = 0,\n",
    "      fontface = 2,\n",
    "      segment.linetype = 5,\n",
    "    max.overlaps = Inf) + \n",
    "    theme(legend.position = \"right\") +\n",
    "    theme(text = element_text(size=18)) + #Font size\n",
    "    theme(axis.text = element_text(size = 16)) + #All tick size  \n",
    "    theme(axis.title = element_text(size = 18)) + # Adjusting Axis Title  \n",
    "    geom_smooth( aes(x=pcar, y= FarSpring ), method = 'gam' ,color = 'gray' ) \n",
    "\n",
    "\n",
    "pdf(file = \"../../docs/manuscript/pdf-image/scatter-car-spring.pdf\"\n",
    "  ,\n",
    "  width     = 10,\n",
    "  height    = 10 )\n",
    "\n",
    "sps\n",
    "\n",
    "dev.off()\n",
    "\n",
    " "
   ]
  },
  {
   "cell_type": "code",
   "execution_count": null,
   "metadata": {},
   "outputs": [],
   "source": [
    "# \\textit{Piped Indoors} score plotted against household private car ownership.\n",
    "spp <- ggplot(df, aes(x=pcar, y= PipedIndoors, color=clusters)) +\n",
    "  geom_point() + \n",
    "  theme_minimal() +\n",
    "  scale_color_manual(values=c('#8da0cb','#66c2a5', '#fc8d62'))+ \n",
    "  labs(title=,\n",
    "       x=\"Private Car Ownership (Percent)\", y = \"Piped Indoors\" ,color = 'Typology') +\n",
    "   geom_text_repel(\n",
    "   aes(label= Country), size = 2.5,\n",
    "     force= 1,\n",
    "      force_pull = 1,\n",
    "      angle = 0,\n",
    "      fontface = 2,\n",
    "      segment.linetype = 5,\n",
    "    max.overlaps = Inf) + \n",
    "    theme(legend.position = \"right\") +\n",
    "    theme(text = element_text(size=18)) + #Font size\n",
    "    theme(axis.text = element_text(size = 16)) + #All tick size  \n",
    "    theme(axis.title = element_text(size = 18)) + # Adjusting Axis Title  \n",
    "    geom_smooth( aes(x=pcar, y= PipedIndoors ), method = 'gam' ,color = 'gray' ) \n",
    "\n",
    "pdf(file = \"../../docs/manuscript/pdf-image/scatter-car-indoors.pdf\"\n",
    "  ,\n",
    "  width     = 10,\n",
    "  height    = 10 )\n",
    "spp\n",
    "dev.off()\n"
   ]
  },
  {
   "cell_type": "code",
   "execution_count": null,
   "metadata": {},
   "outputs": [],
   "source": [
    "# \\textit{Piped Outdoors} score plotted against household private car ownership.\n",
    "spy <- ggplot(df, aes(x=pcar, y= PipedOutdoors, color=clusters)) +\n",
    "  geom_point() + \n",
    "  theme_minimal() +\n",
    "  scale_color_manual(values=c('#8da0cb','#66c2a5', '#fc8d62'))+ \n",
    "  labs(title=,\n",
    "       x=\"Private Car Ownership (Percent)\", y = \"Piped Outdoors\" ,color = 'Typology') +\n",
    "   geom_text_repel(\n",
    "   aes(label= Country), size = 2.5,\n",
    "     force= 1,\n",
    "      force_pull = 1,\n",
    "      angle = 0,\n",
    "      fontface = 2,\n",
    "      segment.linetype = 5,\n",
    "    max.overlaps = Inf) + \n",
    "    theme(legend.position = \"right\") +\n",
    "    theme(text = element_text(size=18)) + #Font size\n",
    "    theme(axis.text = element_text(size = 16)) + #All tick size  \n",
    "    theme(axis.title = element_text(size = 18)) + # Adjusting Axis Title  \n",
    "    geom_smooth( aes(x=pcar, y= PipedOutdoors ), method = 'gam' ,color = 'gray' ) \n",
    "\n",
    "pdf(file = \"../../docs/manuscript/pdf-image/scatter-car-outdoors.pdf\"\n",
    "  ,\n",
    "  width     = 10,\n",
    "  height    = 10 )\n",
    "spy\n",
    "dev.off()\n"
   ]
  },
  {
   "cell_type": "code",
   "execution_count": null,
   "metadata": {},
   "outputs": [],
   "source": [
    "#\\textit{Vended} plotted against household private car ownership.\n",
    "\n",
    "sppw <- ggplot(df, aes(x=pcar, y= Vended, color=clusters)) +\n",
    "  geom_point() + \n",
    "  theme_minimal() +\n",
    "  scale_color_manual(values=c('#8da0cb','#66c2a5', '#fc8d62'))+ \n",
    "  labs(title=,\n",
    "       x=\"Private Car Ownership (Percent)\", y = \"Vended\" ,color = 'Typology') +\n",
    "   geom_text_repel(\n",
    "   aes(label= Country), size = 2.5,\n",
    "     force= 1,\n",
    "      force_pull = 1,\n",
    "      angle = 0,\n",
    "      fontface = 2,\n",
    "      segment.linetype = 5,\n",
    "    max.overlaps = Inf) + \n",
    "    theme(legend.position = \"right\") +\n",
    "    theme(text = element_text(size=18)) + #Font size\n",
    "    theme(axis.text = element_text(size = 16)) + #All tick size  \n",
    "    theme(axis.title = element_text(size = 18)) + # Adjusting Axis Title  \n",
    "    geom_smooth( aes(x=pcar, y= Vended), method = 'gam' ,color = 'gray' ) \n",
    "\n",
    "pdf(file = \"../../docs/manuscript/pdf-image/scatter-car-vended.pdf\"\n",
    "  ,\n",
    "  width     = 10,\n",
    "  height    = 10 )\n",
    "sppw\n",
    "dev.off()"
   ]
  },
  {
   "cell_type": "code",
   "execution_count": null,
   "metadata": {},
   "outputs": [],
   "source": [
    "# \\textit{Nearby Surface} score plotted against household private car ownership\n",
    "spns <- ggplot(df, aes(x=pcar, y= NearbySurface, color=clusters)) +\n",
    "  geom_point() + \n",
    "  theme_minimal() +\n",
    "  scale_color_manual(values=c('#8da0cb','#66c2a5', '#fc8d62'))+ \n",
    "  labs(title=,\n",
    "       x=\"Private Car Ownership (Percent)\", y = \"Nearby Surface\" ,color = 'Typology') +\n",
    "   geom_text_repel(\n",
    "   aes(label= Country), size = 2.5,\n",
    "     force= 1,\n",
    "      force_pull = 1,\n",
    "      angle = 0,\n",
    "      fontface = 2,\n",
    "      segment.linetype = 5,\n",
    "    max.overlaps = Inf) + \n",
    "    theme(legend.position = \"right\") +\n",
    "    theme(text = element_text(size=18)) + #Font size\n",
    "    theme(axis.text = element_text(size = 16)) + #All tick size  \n",
    "    theme(axis.title = element_text(size = 18)) + # Adjusting Axis Title  \n",
    "    geom_smooth( aes(x=pcar, y= NearbySurface ), method = 'gam' ,color = 'gray' ) \n",
    "\n",
    "pdf(file = \"../../docs/manuscript/pdf-image/scatter-car-surface.pdf\"\n",
    "  ,\n",
    "  width     = 10,\n",
    "  height    = 10 )\n",
    "spns\n",
    "dev.off()\n"
   ]
  },
  {
   "cell_type": "code",
   "execution_count": null,
   "metadata": {},
   "outputs": [],
   "source": [
    "# \\textit{Nearby Improved} score plotted against household private car ownership.\n",
    "spb <- ggplot(df, aes(x=pcar, y= NearbyImproved, color=clusters)) +\n",
    "  geom_point() + \n",
    "  theme_minimal() +\n",
    "  scale_color_manual(values=c('#8da0cb','#66c2a5', '#fc8d62'))+ \n",
    "  labs(title=,\n",
    "       x=\"Private Car Ownership (Percent)\", y = \"Nearby Improved\" ,color = 'Typology') +\n",
    "   geom_text_repel(\n",
    "   aes(label= Country), size = 2.5,\n",
    "     force= 1,\n",
    "      force_pull = 1,\n",
    "      angle = 0,\n",
    "      fontface = 2,\n",
    "      segment.linetype = 5,\n",
    "    max.overlaps = Inf) + \n",
    "    theme(legend.position = \"right\") +\n",
    "    theme(text = element_text(size=18)) + #Font size\n",
    "    theme(axis.text = element_text(size = 16)) + #All tick size  \n",
    "    theme(axis.title = element_text(size = 18)) + # Adjusting Axis Title  \n",
    "    geom_smooth( aes(x=pcar, y= NearbyImproved), method = 'gam' ,color = 'gray' ) \n",
    "\n",
    "pdf(file = \"../../docs/manuscript/pdf-image/scatter-car-improved.pdf\"\n",
    "  ,\n",
    "  width     = 10,\n",
    "  height    = 10 )\n",
    "spb\n",
    "dev.off()"
   ]
  },
  {
   "cell_type": "code",
   "execution_count": null,
   "metadata": {
    "scrolled": false
   },
   "outputs": [],
   "source": [
    "df.class = read_excel(\"../../results/class.xlsx\" ,sheet=1 )\n",
    "df.scale = read_excel(\"../../results/class-scale.xlsx\" ,sheet=1 )\n",
    "df.wa = read_excel( \"../../results/df-water-access.xlsx\" ,sheet=1)\n",
    "df.fa <- read_excel(\"../../results/seven-scores-no-scale.xlsx\",sheet=1)\n",
    "df.fa <- df.fa %>% \n",
    "  rename(\n",
    "      'Far Well' = ML1,\n",
    "      'Vended'= ML2,\n",
    "      'Piped Indoors'= ML3,\n",
    "      'Nearby Improved'= ML4,\n",
    "      'Piped Outdoors' = ML5,\n",
    "      'Far Spring' = ML6,\n",
    "      'Nearby Surface'= ML7\n",
    "     )\n",
    "df <- merge(x = df.class,\n",
    "              y = df.fa,\n",
    "              by = c(\"Country\"))\n",
    "df$clusters <- as.factor(df$clusters)\n",
    "\n",
    "df <- df[,c(1,8,5,9, 12, 16:22 )] # 3 important explnatory variables from classification decision tree\n",
    "var_list = combn(names(df)[6:13], 2, simplify=FALSE)\n",
    "# Make plots.\n",
    "plot_list = list()\n",
    "\n",
    "# Selected water accessibility factors plotted against GDP (log scale).\n",
    "for(i in 6:13){\n",
    " p = ggplot(df, aes(x=log(cgdp), y= df[,i], colour=clusters) ) +\n",
    "  geom_point() + \n",
    "  theme_minimal() +\n",
    "  scale_color_manual(values=c('#8da0cb','#66c2a5', '#fc8d62'))+ \n",
    "  labs(title=,\n",
    "       x=\"GDP (current US $)\" ,y = names(df)[i] ,color = 'Typology') +\n",
    "   geom_text_repel(\n",
    "   aes(label= Country), size = 2.5,\n",
    "     force= 1,\n",
    "      force_pull = 1,\n",
    "      angle = 0,\n",
    "      fontface = 2,\n",
    "      segment.linetype = 5,\n",
    "    max.overlaps = Inf) + \n",
    "    theme(legend.position = \"right\") +\n",
    "    theme(text = element_text(size=18)) + #Font size\n",
    "    theme(axis.text = element_text(size = 16)) + #All tick size  \n",
    "    theme(axis.title = element_text(size = 18)) + # Adjusting Axis Title  \n",
    "    geom_smooth( aes(x=log(cgdp), y= df[,i]), method = 'gam' ,color = 'gray' ) \n",
    "    \n",
    "    plot_list[[i]] = p\n",
    "    }\n",
    "\n",
    "# for (i in 6:13) {\n",
    "#     print(plot_list[[i]])\n",
    "# }\n",
    "\n",
    "\n",
    "for (i in 6:13) {\n",
    "    file_name = paste(\"../../docs/manuscript/pdf-image/scatter-cgdp\", names(df)[i], \".pdf\", sep=\"\")\n",
    "    pdf(file_name,  \n",
    "    width     = 10,\n",
    "    height    = 10)\n",
    "    print(plot_list[[i]])\n",
    "    dev.off()\n",
    "}\n",
    "dev.off()"
   ]
  },
  {
   "cell_type": "code",
   "execution_count": null,
   "metadata": {},
   "outputs": [],
   "source": [
    "# Selected water accessibility factors plotted against Population Density.\n",
    "for(i in 6:13){\n",
    " p = ggplot(df, aes(x=log(popd), y= df[,i], colour=clusters) ) +\n",
    "  geom_point() + \n",
    "  theme_minimal() +\n",
    "  scale_color_manual(values=c('#8da0cb','#66c2a5', '#fc8d62'))+ \n",
    "  labs(title=,\n",
    "       x=\"Population Density (people/sq. km of land area)\" ,y = names(df)[i] ,color = 'Typology') +\n",
    "   geom_text_repel(\n",
    "   aes(label= Country), size = 2.5,\n",
    "     force= 1,\n",
    "      force_pull = 1,\n",
    "      angle = 0,\n",
    "      fontface = 2,\n",
    "      segment.linetype = 5,\n",
    "    max.overlaps = Inf) + \n",
    "    theme(legend.position = \"right\") +\n",
    "    theme(text = element_text(size=18)) + #Font size\n",
    "    theme(axis.text = element_text(size = 16)) + #All tick size  \n",
    "    theme(axis.title = element_text(size = 18)) + # Adjusting Axis Title  \n",
    "    geom_smooth( aes(x=log(popd), y= df[,i]), method = 'gam' ,color = 'gray' ) \n",
    "    \n",
    "    plot_list[[i]] = p\n",
    "    }\n",
    "\n",
    "# for (i in 6:13) {\n",
    "#     print(plot_list[[i]])\n",
    "# }\n",
    "\n",
    "\n",
    "for (i in 6:13) {\n",
    "    file_name = paste(\"../../docs/manuscript/pdf-image/scatter-popd\", names(df)[i], \".pdf\", sep=\"\")\n",
    "    pdf(file_name,  \n",
    "    width     = 10,\n",
    "    height    = 10)\n",
    "    print(plot_list[[i]])\n",
    "    dev.off()\n",
    "}\n",
    "dev.off()"
   ]
  }
 ],
 "metadata": {
  "kernelspec": {
   "display_name": "R",
   "language": "R",
   "name": "ir"
  },
  "language_info": {
   "codemirror_mode": "r",
   "file_extension": ".r",
   "mimetype": "text/x-r-source",
   "name": "R",
   "pygments_lexer": "r",
   "version": "4.0.2"
  }
 },
 "nbformat": 4,
 "nbformat_minor": 4
}
