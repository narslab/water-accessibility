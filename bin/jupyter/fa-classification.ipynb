{
 "cells": [
  {
   "cell_type": "code",
   "execution_count": 75,
   "metadata": {},
   "outputs": [],
   "source": [
    "#install.packages('randomForest')\n",
    "library(readxl)\n",
    "library(randomForest)\n",
    "library(readxl)\n",
    "library(tidyverse)\n",
    "#install.packages('dplyr')\n",
    "library(dplyr)\n",
    "#install.packages('caret')\n",
    "library(Rcpp)\n",
    "library(caret)\n",
    "library(rpart)\n",
    "#install.packages('tree')\n",
    "library(tree)\n",
    "#install.packages('multcomp')\n",
    "library(multcomp)\n",
    "#install.packages('party')\n",
    "library(party)\n",
    "library(tree)\n",
    "#install.packages('Metrics')\n",
    "library(Metrics)\n",
    "#install.packages('reprtree')\n",
    "#devtools::install_github(\"MI2DataLab/randomForestExplainer\")\n",
    "#install.packages('randomForestExplainer')\n",
    "library(randomForestExplainer)\n",
    "\n"
   ]
  },
  {
   "cell_type": "markdown",
   "metadata": {},
   "source": [
    "# FA (weighted) Classifcation"
   ]
  },
  {
   "cell_type": "code",
   "execution_count": 76,
   "metadata": {},
   "outputs": [],
   "source": [
    "df.wa = read_excel( \"../../results/df-water-access.xlsx\" ,sheet=1)\n",
    "df.exp =read_excel(\"../../results/df-water-explore.xlsx\" ,sheet=1)\n",
    "df.cluster = read_excel(\"../../results/df-fa-cluster-rank.xlsx\" ,sheet=1)\n",
    "df.wb = read_excel(\"../../results/df-wb.xlsx\" ,sheet=1 )\n",
    "df.exp$clusters <- as.factor(df.cluster$clusters)\n"
   ]
  },
  {
   "cell_type": "code",
   "execution_count": 77,
   "metadata": {},
   "outputs": [
    {
     "data": {
      "text/html": [
       "<table class=\"dataframe\">\n",
       "<caption>A data.frame: 6 × 21</caption>\n",
       "<thead>\n",
       "\t<tr><th></th><th scope=col>Country</th><th scope=col>bicy</th><th scope=col>cart</th><th scope=col>mcyc</th><th scope=col>pcar</th><th scope=col>boat</th><th scope=col>wigc</th><th scope=col>clusters</th><th scope=col>cgdp</th><th scope=col>tpop</th><th scope=col>...</th><th scope=col>popd</th><th scope=col>land</th><th scope=col>lita</th><th scope=col>lity</th><th scope=col>mori</th><th scope=col>rifr</th><th scope=col>cotw</th><th scope=col>moru</th><th scope=col>ppfg</th><th scope=col>prec</th></tr>\n",
       "\t<tr><th></th><th scope=col>&lt;chr&gt;</th><th scope=col>&lt;dbl&gt;</th><th scope=col>&lt;dbl&gt;</th><th scope=col>&lt;dbl&gt;</th><th scope=col>&lt;dbl&gt;</th><th scope=col>&lt;dbl&gt;</th><th scope=col>&lt;dbl&gt;</th><th scope=col>&lt;fct&gt;</th><th scope=col>&lt;dbl&gt;</th><th scope=col>&lt;dbl&gt;</th><th scope=col>...</th><th scope=col>&lt;dbl&gt;</th><th scope=col>&lt;dbl&gt;</th><th scope=col>&lt;dbl&gt;</th><th scope=col>&lt;dbl&gt;</th><th scope=col>&lt;dbl&gt;</th><th scope=col>&lt;dbl&gt;</th><th scope=col>&lt;dbl&gt;</th><th scope=col>&lt;dbl&gt;</th><th scope=col>&lt;dbl&gt;</th><th scope=col>&lt;dbl&gt;</th></tr>\n",
       "</thead>\n",
       "<tbody>\n",
       "\t<tr><th scope=row>1</th><td>Afghanistan</td><td>30.0</td><td>5.8</td><td>35.2</td><td>11.8</td><td>0.0</td><td>0.1</td><td>1</td><td> 18353881130</td><td> 37172386</td><td>...</td><td>  56.93776</td><td> 652860</td><td>43.01972</td><td>0.75933</td><td>62.5</td><td>1299.0269</td><td> 0.00000</td><td>13.9</td><td>0.70</td><td> 327</td></tr>\n",
       "\t<tr><th scope=row>2</th><td>Albania    </td><td>26.4</td><td>3.2</td><td> 9.6</td><td>37.0</td><td>0.7</td><td>0.1</td><td>2</td><td> 15147020535</td><td>  2866376</td><td>...</td><td> 104.61226</td><td>  27400</td><td>98.14115</td><td>1.00582</td><td> 9.5</td><td>9361.5460</td><td>59.95146</td><td> 0.2</td><td>1.36</td><td>1485</td></tr>\n",
       "\t<tr><th scope=row>3</th><td>Angola     </td><td> 4.6</td><td>1.3</td><td>17.8</td><td>10.9</td><td>0.4</td><td>0.3</td><td>1</td><td>101353230785</td><td> 30809762</td><td>...</td><td>  24.71305</td><td>1246700</td><td> 0.00000</td><td>0.00000</td><td>77.7</td><td>4963.6533</td><td>43.98964</td><td>48.8</td><td>0.97</td><td>1010</td></tr>\n",
       "\t<tr><th scope=row>4</th><td>Armenia    </td><td> 8.6</td><td>0.4</td><td> 0.2</td><td>39.2</td><td>0.3</td><td>0.1</td><td>2</td><td> 12457941907</td><td>  2951776</td><td>...</td><td> 103.68022</td><td>  28470</td><td> 0.00000</td><td>0.00000</td><td>12.4</td><td>2329.1833</td><td>27.77778</td><td> 0.2</td><td>0.77</td><td> 562</td></tr>\n",
       "\t<tr><th scope=row>5</th><td>Azerbaijan </td><td> 6.9</td><td>3.3</td><td> 1.1</td><td>20.4</td><td>0.1</td><td>0.0</td><td>3</td><td> 47112941176</td><td>  9939771</td><td>...</td><td> 120.23432</td><td>  82670</td><td> 0.00000</td><td>0.00000</td><td>21.6</td><td> 823.5207</td><td>24.48847</td><td> 1.1</td><td>0.56</td><td> 447</td></tr>\n",
       "\t<tr><th scope=row>6</th><td>Bangladesh </td><td>25.1</td><td>0.0</td><td> 6.4</td><td> 0.8</td><td>0.0</td><td>0.3</td><td>1</td><td>274039092455</td><td>161356039</td><td>...</td><td>1239.57931</td><td> 130170</td><td>73.91220</td><td>1.03276</td><td>32.3</td><td> 657.6039</td><td>14.19624</td><td>11.9</td><td>1.12</td><td>2666</td></tr>\n",
       "</tbody>\n",
       "</table>\n"
      ],
      "text/latex": [
       "A data.frame: 6 × 21\n",
       "\\begin{tabular}{r|lllllllllllllllllllll}\n",
       "  & Country & bicy & cart & mcyc & pcar & boat & wigc & clusters & cgdp & tpop & ... & popd & land & lita & lity & mori & rifr & cotw & moru & ppfg & prec\\\\\n",
       "  & <chr> & <dbl> & <dbl> & <dbl> & <dbl> & <dbl> & <dbl> & <fct> & <dbl> & <dbl> & ... & <dbl> & <dbl> & <dbl> & <dbl> & <dbl> & <dbl> & <dbl> & <dbl> & <dbl> & <dbl>\\\\\n",
       "\\hline\n",
       "\t1 & Afghanistan & 30.0 & 5.8 & 35.2 & 11.8 & 0.0 & 0.1 & 1 &  18353881130 &  37172386 & ... &   56.93776 &  652860 & 43.01972 & 0.75933 & 62.5 & 1299.0269 &  0.00000 & 13.9 & 0.70 &  327\\\\\n",
       "\t2 & Albania     & 26.4 & 3.2 &  9.6 & 37.0 & 0.7 & 0.1 & 2 &  15147020535 &   2866376 & ... &  104.61226 &   27400 & 98.14115 & 1.00582 &  9.5 & 9361.5460 & 59.95146 &  0.2 & 1.36 & 1485\\\\\n",
       "\t3 & Angola      &  4.6 & 1.3 & 17.8 & 10.9 & 0.4 & 0.3 & 1 & 101353230785 &  30809762 & ... &   24.71305 & 1246700 &  0.00000 & 0.00000 & 77.7 & 4963.6533 & 43.98964 & 48.8 & 0.97 & 1010\\\\\n",
       "\t4 & Armenia     &  8.6 & 0.4 &  0.2 & 39.2 & 0.3 & 0.1 & 2 &  12457941907 &   2951776 & ... &  103.68022 &   28470 &  0.00000 & 0.00000 & 12.4 & 2329.1833 & 27.77778 &  0.2 & 0.77 &  562\\\\\n",
       "\t5 & Azerbaijan  &  6.9 & 3.3 &  1.1 & 20.4 & 0.1 & 0.0 & 3 &  47112941176 &   9939771 & ... &  120.23432 &   82670 &  0.00000 & 0.00000 & 21.6 &  823.5207 & 24.48847 &  1.1 & 0.56 &  447\\\\\n",
       "\t6 & Bangladesh  & 25.1 & 0.0 &  6.4 &  0.8 & 0.0 & 0.3 & 1 & 274039092455 & 161356039 & ... & 1239.57931 &  130170 & 73.91220 & 1.03276 & 32.3 &  657.6039 & 14.19624 & 11.9 & 1.12 & 2666\\\\\n",
       "\\end{tabular}\n"
      ],
      "text/markdown": [
       "\n",
       "A data.frame: 6 × 21\n",
       "\n",
       "| <!--/--> | Country &lt;chr&gt; | bicy &lt;dbl&gt; | cart &lt;dbl&gt; | mcyc &lt;dbl&gt; | pcar &lt;dbl&gt; | boat &lt;dbl&gt; | wigc &lt;dbl&gt; | clusters &lt;fct&gt; | cgdp &lt;dbl&gt; | tpop &lt;dbl&gt; | ... ... | popd &lt;dbl&gt; | land &lt;dbl&gt; | lita &lt;dbl&gt; | lity &lt;dbl&gt; | mori &lt;dbl&gt; | rifr &lt;dbl&gt; | cotw &lt;dbl&gt; | moru &lt;dbl&gt; | ppfg &lt;dbl&gt; | prec &lt;dbl&gt; |\n",
       "|---|---|---|---|---|---|---|---|---|---|---|---|---|---|---|---|---|---|---|---|---|---|\n",
       "| 1 | Afghanistan | 30.0 | 5.8 | 35.2 | 11.8 | 0.0 | 0.1 | 1 |  18353881130 |  37172386 | ... |   56.93776 |  652860 | 43.01972 | 0.75933 | 62.5 | 1299.0269 |  0.00000 | 13.9 | 0.70 |  327 |\n",
       "| 2 | Albania     | 26.4 | 3.2 |  9.6 | 37.0 | 0.7 | 0.1 | 2 |  15147020535 |   2866376 | ... |  104.61226 |   27400 | 98.14115 | 1.00582 |  9.5 | 9361.5460 | 59.95146 |  0.2 | 1.36 | 1485 |\n",
       "| 3 | Angola      |  4.6 | 1.3 | 17.8 | 10.9 | 0.4 | 0.3 | 1 | 101353230785 |  30809762 | ... |   24.71305 | 1246700 |  0.00000 | 0.00000 | 77.7 | 4963.6533 | 43.98964 | 48.8 | 0.97 | 1010 |\n",
       "| 4 | Armenia     |  8.6 | 0.4 |  0.2 | 39.2 | 0.3 | 0.1 | 2 |  12457941907 |   2951776 | ... |  103.68022 |   28470 |  0.00000 | 0.00000 | 12.4 | 2329.1833 | 27.77778 |  0.2 | 0.77 |  562 |\n",
       "| 5 | Azerbaijan  |  6.9 | 3.3 |  1.1 | 20.4 | 0.1 | 0.0 | 3 |  47112941176 |   9939771 | ... |  120.23432 |   82670 |  0.00000 | 0.00000 | 21.6 |  823.5207 | 24.48847 |  1.1 | 0.56 |  447 |\n",
       "| 6 | Bangladesh  | 25.1 | 0.0 |  6.4 |  0.8 | 0.0 | 0.3 | 1 | 274039092455 | 161356039 | ... | 1239.57931 |  130170 | 73.91220 | 1.03276 | 32.3 |  657.6039 | 14.19624 | 11.9 | 1.12 | 2666 |\n",
       "\n"
      ],
      "text/plain": [
       "  Country     bicy cart mcyc pcar boat wigc clusters cgdp         tpop      ...\n",
       "1 Afghanistan 30.0 5.8  35.2 11.8 0.0  0.1  1         18353881130  37172386 ...\n",
       "2 Albania     26.4 3.2   9.6 37.0 0.7  0.1  2         15147020535   2866376 ...\n",
       "3 Angola       4.6 1.3  17.8 10.9 0.4  0.3  1        101353230785  30809762 ...\n",
       "4 Armenia      8.6 0.4   0.2 39.2 0.3  0.1  2         12457941907   2951776 ...\n",
       "5 Azerbaijan   6.9 3.3   1.1 20.4 0.1  0.0  3         47112941176   9939771 ...\n",
       "6 Bangladesh  25.1 0.0   6.4  0.8 0.0  0.3  1        274039092455 161356039 ...\n",
       "  popd       land    lita     lity    mori rifr      cotw     moru ppfg prec\n",
       "1   56.93776  652860 43.01972 0.75933 62.5 1299.0269  0.00000 13.9 0.70  327\n",
       "2  104.61226   27400 98.14115 1.00582  9.5 9361.5460 59.95146  0.2 1.36 1485\n",
       "3   24.71305 1246700  0.00000 0.00000 77.7 4963.6533 43.98964 48.8 0.97 1010\n",
       "4  103.68022   28470  0.00000 0.00000 12.4 2329.1833 27.77778  0.2 0.77  562\n",
       "5  120.23432   82670  0.00000 0.00000 21.6  823.5207 24.48847  1.1 0.56  447\n",
       "6 1239.57931  130170 73.91220 1.03276 32.3  657.6039 14.19624 11.9 1.12 2666"
      ]
     },
     "metadata": {},
     "output_type": "display_data"
    },
    {
     "data": {
      "text/html": [
       "<table class=\"dataframe\">\n",
       "<caption>A data.frame: 1 × 1</caption>\n",
       "<thead>\n",
       "\t<tr><th scope=col>n</th></tr>\n",
       "\t<tr><th scope=col>&lt;int&gt;</th></tr>\n",
       "</thead>\n",
       "<tbody>\n",
       "\t<tr><td>73</td></tr>\n",
       "</tbody>\n",
       "</table>\n"
      ],
      "text/latex": [
       "A data.frame: 1 × 1\n",
       "\\begin{tabular}{l}\n",
       " n\\\\\n",
       " <int>\\\\\n",
       "\\hline\n",
       "\t 73\\\\\n",
       "\\end{tabular}\n"
      ],
      "text/markdown": [
       "\n",
       "A data.frame: 1 × 1\n",
       "\n",
       "| n &lt;int&gt; |\n",
       "|---|\n",
       "| 73 |\n",
       "\n"
      ],
      "text/plain": [
       "  n \n",
       "1 73"
      ]
     },
     "metadata": {},
     "output_type": "display_data"
    }
   ],
   "source": [
    "df <- merge(x = df.exp,\n",
    "              y = df.wb,\n",
    "              by = c(\"Country\"))\n",
    "\n",
    "head(df)\n",
    "count(df)"
   ]
  },
  {
   "cell_type": "code",
   "execution_count": 78,
   "metadata": {},
   "outputs": [
    {
     "data": {
      "text/html": [
       "<table class=\"dataframe\">\n",
       "<caption>A data.frame: 6 × 20</caption>\n",
       "<thead>\n",
       "\t<tr><th></th><th scope=col>Country</th><th scope=col>bicy</th><th scope=col>cart</th><th scope=col>mcyc</th><th scope=col>pcar</th><th scope=col>boat</th><th scope=col>wigc</th><th scope=col>clusters</th><th scope=col>cgdp</th><th scope=col>tpop</th><th scope=col>upop</th><th scope=col>popd</th><th scope=col>land</th><th scope=col>lita</th><th scope=col>lity</th><th scope=col>rifr</th><th scope=col>cotw</th><th scope=col>moru</th><th scope=col>ppfg</th><th scope=col>prec</th></tr>\n",
       "\t<tr><th></th><th scope=col>&lt;chr&gt;</th><th scope=col>&lt;dbl&gt;</th><th scope=col>&lt;dbl&gt;</th><th scope=col>&lt;dbl&gt;</th><th scope=col>&lt;dbl&gt;</th><th scope=col>&lt;dbl&gt;</th><th scope=col>&lt;dbl&gt;</th><th scope=col>&lt;fct&gt;</th><th scope=col>&lt;dbl&gt;</th><th scope=col>&lt;dbl&gt;</th><th scope=col>&lt;dbl&gt;</th><th scope=col>&lt;dbl&gt;</th><th scope=col>&lt;dbl&gt;</th><th scope=col>&lt;dbl&gt;</th><th scope=col>&lt;dbl&gt;</th><th scope=col>&lt;dbl&gt;</th><th scope=col>&lt;dbl&gt;</th><th scope=col>&lt;dbl&gt;</th><th scope=col>&lt;dbl&gt;</th><th scope=col>&lt;dbl&gt;</th></tr>\n",
       "</thead>\n",
       "<tbody>\n",
       "\t<tr><th scope=row>1</th><td>Afghanistan</td><td>30.0</td><td>5.8</td><td>35.2</td><td>11.8</td><td>0.0</td><td>0.1</td><td>1</td><td> 18353881130</td><td> 37172386</td><td>25.495</td><td>  56.93776</td><td> 652860</td><td>43.01972</td><td>0.75933</td><td>1299.0269</td><td> 0.00000</td><td>13.9</td><td>0.70</td><td> 327</td></tr>\n",
       "\t<tr><th scope=row>2</th><td>Albania    </td><td>26.4</td><td>3.2</td><td> 9.6</td><td>37.0</td><td>0.7</td><td>0.1</td><td>2</td><td> 15147020535</td><td>  2866376</td><td>60.319</td><td> 104.61226</td><td>  27400</td><td>98.14115</td><td>1.00582</td><td>9361.5460</td><td>59.95146</td><td> 0.2</td><td>1.36</td><td>1485</td></tr>\n",
       "\t<tr><th scope=row>3</th><td>Angola     </td><td> 4.6</td><td>1.3</td><td>17.8</td><td>10.9</td><td>0.4</td><td>0.3</td><td>1</td><td>101353230785</td><td> 30809762</td><td>65.514</td><td>  24.71305</td><td>1246700</td><td> 0.00000</td><td>0.00000</td><td>4963.6533</td><td>43.98964</td><td>48.8</td><td>0.97</td><td>1010</td></tr>\n",
       "\t<tr><th scope=row>4</th><td>Armenia    </td><td> 8.6</td><td>0.4</td><td> 0.2</td><td>39.2</td><td>0.3</td><td>0.1</td><td>2</td><td> 12457941907</td><td>  2951776</td><td>63.149</td><td> 103.68022</td><td>  28470</td><td> 0.00000</td><td>0.00000</td><td>2329.1833</td><td>27.77778</td><td> 0.2</td><td>0.77</td><td> 562</td></tr>\n",
       "\t<tr><th scope=row>5</th><td>Azerbaijan </td><td> 6.9</td><td>3.3</td><td> 1.1</td><td>20.4</td><td>0.1</td><td>0.0</td><td>3</td><td> 47112941176</td><td>  9939771</td><td>55.680</td><td> 120.23432</td><td>  82670</td><td> 0.00000</td><td>0.00000</td><td> 823.5207</td><td>24.48847</td><td> 1.1</td><td>0.56</td><td> 447</td></tr>\n",
       "\t<tr><th scope=row>6</th><td>Bangladesh </td><td>25.1</td><td>0.0</td><td> 6.4</td><td> 0.8</td><td>0.0</td><td>0.3</td><td>1</td><td>274039092455</td><td>161356039</td><td>36.632</td><td>1239.57931</td><td> 130170</td><td>73.91220</td><td>1.03276</td><td> 657.6039</td><td>14.19624</td><td>11.9</td><td>1.12</td><td>2666</td></tr>\n",
       "</tbody>\n",
       "</table>\n"
      ],
      "text/latex": [
       "A data.frame: 6 × 20\n",
       "\\begin{tabular}{r|llllllllllllllllllll}\n",
       "  & Country & bicy & cart & mcyc & pcar & boat & wigc & clusters & cgdp & tpop & upop & popd & land & lita & lity & rifr & cotw & moru & ppfg & prec\\\\\n",
       "  & <chr> & <dbl> & <dbl> & <dbl> & <dbl> & <dbl> & <dbl> & <fct> & <dbl> & <dbl> & <dbl> & <dbl> & <dbl> & <dbl> & <dbl> & <dbl> & <dbl> & <dbl> & <dbl> & <dbl>\\\\\n",
       "\\hline\n",
       "\t1 & Afghanistan & 30.0 & 5.8 & 35.2 & 11.8 & 0.0 & 0.1 & 1 &  18353881130 &  37172386 & 25.495 &   56.93776 &  652860 & 43.01972 & 0.75933 & 1299.0269 &  0.00000 & 13.9 & 0.70 &  327\\\\\n",
       "\t2 & Albania     & 26.4 & 3.2 &  9.6 & 37.0 & 0.7 & 0.1 & 2 &  15147020535 &   2866376 & 60.319 &  104.61226 &   27400 & 98.14115 & 1.00582 & 9361.5460 & 59.95146 &  0.2 & 1.36 & 1485\\\\\n",
       "\t3 & Angola      &  4.6 & 1.3 & 17.8 & 10.9 & 0.4 & 0.3 & 1 & 101353230785 &  30809762 & 65.514 &   24.71305 & 1246700 &  0.00000 & 0.00000 & 4963.6533 & 43.98964 & 48.8 & 0.97 & 1010\\\\\n",
       "\t4 & Armenia     &  8.6 & 0.4 &  0.2 & 39.2 & 0.3 & 0.1 & 2 &  12457941907 &   2951776 & 63.149 &  103.68022 &   28470 &  0.00000 & 0.00000 & 2329.1833 & 27.77778 &  0.2 & 0.77 &  562\\\\\n",
       "\t5 & Azerbaijan  &  6.9 & 3.3 &  1.1 & 20.4 & 0.1 & 0.0 & 3 &  47112941176 &   9939771 & 55.680 &  120.23432 &   82670 &  0.00000 & 0.00000 &  823.5207 & 24.48847 &  1.1 & 0.56 &  447\\\\\n",
       "\t6 & Bangladesh  & 25.1 & 0.0 &  6.4 &  0.8 & 0.0 & 0.3 & 1 & 274039092455 & 161356039 & 36.632 & 1239.57931 &  130170 & 73.91220 & 1.03276 &  657.6039 & 14.19624 & 11.9 & 1.12 & 2666\\\\\n",
       "\\end{tabular}\n"
      ],
      "text/markdown": [
       "\n",
       "A data.frame: 6 × 20\n",
       "\n",
       "| <!--/--> | Country &lt;chr&gt; | bicy &lt;dbl&gt; | cart &lt;dbl&gt; | mcyc &lt;dbl&gt; | pcar &lt;dbl&gt; | boat &lt;dbl&gt; | wigc &lt;dbl&gt; | clusters &lt;fct&gt; | cgdp &lt;dbl&gt; | tpop &lt;dbl&gt; | upop &lt;dbl&gt; | popd &lt;dbl&gt; | land &lt;dbl&gt; | lita &lt;dbl&gt; | lity &lt;dbl&gt; | rifr &lt;dbl&gt; | cotw &lt;dbl&gt; | moru &lt;dbl&gt; | ppfg &lt;dbl&gt; | prec &lt;dbl&gt; |\n",
       "|---|---|---|---|---|---|---|---|---|---|---|---|---|---|---|---|---|---|---|---|---|\n",
       "| 1 | Afghanistan | 30.0 | 5.8 | 35.2 | 11.8 | 0.0 | 0.1 | 1 |  18353881130 |  37172386 | 25.495 |   56.93776 |  652860 | 43.01972 | 0.75933 | 1299.0269 |  0.00000 | 13.9 | 0.70 |  327 |\n",
       "| 2 | Albania     | 26.4 | 3.2 |  9.6 | 37.0 | 0.7 | 0.1 | 2 |  15147020535 |   2866376 | 60.319 |  104.61226 |   27400 | 98.14115 | 1.00582 | 9361.5460 | 59.95146 |  0.2 | 1.36 | 1485 |\n",
       "| 3 | Angola      |  4.6 | 1.3 | 17.8 | 10.9 | 0.4 | 0.3 | 1 | 101353230785 |  30809762 | 65.514 |   24.71305 | 1246700 |  0.00000 | 0.00000 | 4963.6533 | 43.98964 | 48.8 | 0.97 | 1010 |\n",
       "| 4 | Armenia     |  8.6 | 0.4 |  0.2 | 39.2 | 0.3 | 0.1 | 2 |  12457941907 |   2951776 | 63.149 |  103.68022 |   28470 |  0.00000 | 0.00000 | 2329.1833 | 27.77778 |  0.2 | 0.77 |  562 |\n",
       "| 5 | Azerbaijan  |  6.9 | 3.3 |  1.1 | 20.4 | 0.1 | 0.0 | 3 |  47112941176 |   9939771 | 55.680 |  120.23432 |   82670 |  0.00000 | 0.00000 |  823.5207 | 24.48847 |  1.1 | 0.56 |  447 |\n",
       "| 6 | Bangladesh  | 25.1 | 0.0 |  6.4 |  0.8 | 0.0 | 0.3 | 1 | 274039092455 | 161356039 | 36.632 | 1239.57931 |  130170 | 73.91220 | 1.03276 |  657.6039 | 14.19624 | 11.9 | 1.12 | 2666 |\n",
       "\n"
      ],
      "text/plain": [
       "  Country     bicy cart mcyc pcar boat wigc clusters cgdp         tpop     \n",
       "1 Afghanistan 30.0 5.8  35.2 11.8 0.0  0.1  1         18353881130  37172386\n",
       "2 Albania     26.4 3.2   9.6 37.0 0.7  0.1  2         15147020535   2866376\n",
       "3 Angola       4.6 1.3  17.8 10.9 0.4  0.3  1        101353230785  30809762\n",
       "4 Armenia      8.6 0.4   0.2 39.2 0.3  0.1  2         12457941907   2951776\n",
       "5 Azerbaijan   6.9 3.3   1.1 20.4 0.1  0.0  3         47112941176   9939771\n",
       "6 Bangladesh  25.1 0.0   6.4  0.8 0.0  0.3  1        274039092455 161356039\n",
       "  upop   popd       land    lita     lity    rifr      cotw     moru ppfg prec\n",
       "1 25.495   56.93776  652860 43.01972 0.75933 1299.0269  0.00000 13.9 0.70  327\n",
       "2 60.319  104.61226   27400 98.14115 1.00582 9361.5460 59.95146  0.2 1.36 1485\n",
       "3 65.514   24.71305 1246700  0.00000 0.00000 4963.6533 43.98964 48.8 0.97 1010\n",
       "4 63.149  103.68022   28470  0.00000 0.00000 2329.1833 27.77778  0.2 0.77  562\n",
       "5 55.680  120.23432   82670  0.00000 0.00000  823.5207 24.48847  1.1 0.56  447\n",
       "6 36.632 1239.57931  130170 73.91220 1.03276  657.6039 14.19624 11.9 1.12 2666"
      ]
     },
     "metadata": {},
     "output_type": "display_data"
    }
   ],
   "source": [
    "df <- df[, c(1:15,17:21)]\n",
    "head(df)"
   ]
  },
  {
   "cell_type": "markdown",
   "metadata": {},
   "source": [
    "ReScaling in Billions for GDP"
   ]
  },
  {
   "cell_type": "code",
   "execution_count": 79,
   "metadata": {},
   "outputs": [],
   "source": [
    "df$cgdp <- paste(format(round(df$cgdp / 1e9, 1), trim = TRUE))"
   ]
  },
  {
   "cell_type": "code",
   "execution_count": 80,
   "metadata": {},
   "outputs": [],
   "source": [
    "df$tpop <- paste(format(round(df$tpop / 1e6, 1), trim = TRUE)) # tpop in millions\n",
    "df$land <- paste(format(round(df$land / 1e3, 1), trim = TRUE)) # land in thousands (sq. km)\n"
   ]
  },
  {
   "cell_type": "code",
   "execution_count": 81,
   "metadata": {},
   "outputs": [
    {
     "name": "stdout",
     "output_type": "stream",
     "text": [
      "'data.frame':\t73 obs. of  20 variables:\n",
      " $ Country : chr  \"Afghanistan\" \"Albania\" \"Angola\" \"Armenia\" ...\n",
      " $ bicy    : num  30 26.4 4.6 8.6 6.9 25.1 19.4 36.6 82 20.7 ...\n",
      " $ cart    : num  5.8 3.2 1.3 0.4 3.3 0 3.2 0 38.6 0.2 ...\n",
      " $ mcyc    : num  35.2 9.6 17.8 0.2 1.1 6.4 56.1 6.5 58.2 2.2 ...\n",
      " $ pcar    : num  11.8 37 10.9 39.2 20.4 0.8 4.2 15.6 3 1.1 ...\n",
      " $ boat    : num  0 0.7 0.4 0.3 0.1 0 0.2 0 0 0.2 ...\n",
      " $ wigc    : num  0.1 0.1 0.3 0.1 0 0.3 0.3 0 0.2 0.3 ...\n",
      " $ clusters: Factor w/ 3 levels \"1\",\"2\",\"3\": 1 2 1 2 3 1 1 3 1 1 ...\n",
      " $ cgdp    : num  18.4 15.1 101.4 12.5 47.1 ...\n",
      " $ tpop    : num  37.2 2.9 30.8 3 9.9 ...\n",
      " $ upop    : num  25.5 60.3 65.5 63.1 55.7 ...\n",
      " $ popd    : num  56.9 104.6 24.7 103.7 120.2 ...\n",
      " $ land    : num  652.9 27.4 1246.7 28.5 82.7 ...\n",
      " $ lita    : num  43 98.1 0 0 0 ...\n",
      " $ lity    : num  0.759 1.006 0 0 0 ...\n",
      " $ rifr    : num  1299 9362 4964 2329 824 ...\n",
      " $ cotw    : num  0 60 44 27.8 24.5 ...\n",
      " $ moru    : num  13.9 0.2 48.8 0.2 1.1 11.9 59.7 5.6 49.6 65.4 ...\n",
      " $ ppfg    : num  0.7 1.36 0.97 0.77 0.56 1.12 0.72 0.71 0.98 1.21 ...\n",
      " $ prec    : num  0.3 1.5 1 0.6 0.4 2.7 1 1.1 0.7 1.3 ...\n"
     ]
    },
    {
     "data": {
      "text/html": [
       "<table class=\"dataframe\">\n",
       "<caption>A data.frame: 6 × 20</caption>\n",
       "<thead>\n",
       "\t<tr><th></th><th scope=col>Country</th><th scope=col>bicy</th><th scope=col>cart</th><th scope=col>mcyc</th><th scope=col>pcar</th><th scope=col>boat</th><th scope=col>wigc</th><th scope=col>clusters</th><th scope=col>cgdp</th><th scope=col>tpop</th><th scope=col>upop</th><th scope=col>popd</th><th scope=col>land</th><th scope=col>lita</th><th scope=col>lity</th><th scope=col>rifr</th><th scope=col>cotw</th><th scope=col>moru</th><th scope=col>ppfg</th><th scope=col>prec</th></tr>\n",
       "\t<tr><th></th><th scope=col>&lt;chr&gt;</th><th scope=col>&lt;dbl&gt;</th><th scope=col>&lt;dbl&gt;</th><th scope=col>&lt;dbl&gt;</th><th scope=col>&lt;dbl&gt;</th><th scope=col>&lt;dbl&gt;</th><th scope=col>&lt;dbl&gt;</th><th scope=col>&lt;fct&gt;</th><th scope=col>&lt;dbl&gt;</th><th scope=col>&lt;dbl&gt;</th><th scope=col>&lt;dbl&gt;</th><th scope=col>&lt;dbl&gt;</th><th scope=col>&lt;dbl&gt;</th><th scope=col>&lt;dbl&gt;</th><th scope=col>&lt;dbl&gt;</th><th scope=col>&lt;dbl&gt;</th><th scope=col>&lt;dbl&gt;</th><th scope=col>&lt;dbl&gt;</th><th scope=col>&lt;dbl&gt;</th><th scope=col>&lt;dbl&gt;</th></tr>\n",
       "</thead>\n",
       "<tbody>\n",
       "\t<tr><th scope=row>1</th><td>Afghanistan</td><td>30.0</td><td>5.8</td><td>35.2</td><td>11.8</td><td>0.0</td><td>0.1</td><td>1</td><td> 18.4</td><td> 37.2</td><td>25.495</td><td>  56.93776</td><td> 652.9</td><td>43.01972</td><td>0.75933</td><td>1299.0269</td><td> 0.00000</td><td>13.9</td><td>0.70</td><td>0.3</td></tr>\n",
       "\t<tr><th scope=row>2</th><td>Albania    </td><td>26.4</td><td>3.2</td><td> 9.6</td><td>37.0</td><td>0.7</td><td>0.1</td><td>2</td><td> 15.1</td><td>  2.9</td><td>60.319</td><td> 104.61226</td><td>  27.4</td><td>98.14115</td><td>1.00582</td><td>9361.5460</td><td>59.95146</td><td> 0.2</td><td>1.36</td><td>1.5</td></tr>\n",
       "\t<tr><th scope=row>3</th><td>Angola     </td><td> 4.6</td><td>1.3</td><td>17.8</td><td>10.9</td><td>0.4</td><td>0.3</td><td>1</td><td>101.4</td><td> 30.8</td><td>65.514</td><td>  24.71305</td><td>1246.7</td><td> 0.00000</td><td>0.00000</td><td>4963.6533</td><td>43.98964</td><td>48.8</td><td>0.97</td><td>1.0</td></tr>\n",
       "\t<tr><th scope=row>4</th><td>Armenia    </td><td> 8.6</td><td>0.4</td><td> 0.2</td><td>39.2</td><td>0.3</td><td>0.1</td><td>2</td><td> 12.5</td><td>  3.0</td><td>63.149</td><td> 103.68022</td><td>  28.5</td><td> 0.00000</td><td>0.00000</td><td>2329.1833</td><td>27.77778</td><td> 0.2</td><td>0.77</td><td>0.6</td></tr>\n",
       "\t<tr><th scope=row>5</th><td>Azerbaijan </td><td> 6.9</td><td>3.3</td><td> 1.1</td><td>20.4</td><td>0.1</td><td>0.0</td><td>3</td><td> 47.1</td><td>  9.9</td><td>55.680</td><td> 120.23432</td><td>  82.7</td><td> 0.00000</td><td>0.00000</td><td> 823.5207</td><td>24.48847</td><td> 1.1</td><td>0.56</td><td>0.4</td></tr>\n",
       "\t<tr><th scope=row>6</th><td>Bangladesh </td><td>25.1</td><td>0.0</td><td> 6.4</td><td> 0.8</td><td>0.0</td><td>0.3</td><td>1</td><td>274.0</td><td>161.4</td><td>36.632</td><td>1239.57931</td><td> 130.2</td><td>73.91220</td><td>1.03276</td><td> 657.6039</td><td>14.19624</td><td>11.9</td><td>1.12</td><td>2.7</td></tr>\n",
       "</tbody>\n",
       "</table>\n"
      ],
      "text/latex": [
       "A data.frame: 6 × 20\n",
       "\\begin{tabular}{r|llllllllllllllllllll}\n",
       "  & Country & bicy & cart & mcyc & pcar & boat & wigc & clusters & cgdp & tpop & upop & popd & land & lita & lity & rifr & cotw & moru & ppfg & prec\\\\\n",
       "  & <chr> & <dbl> & <dbl> & <dbl> & <dbl> & <dbl> & <dbl> & <fct> & <dbl> & <dbl> & <dbl> & <dbl> & <dbl> & <dbl> & <dbl> & <dbl> & <dbl> & <dbl> & <dbl> & <dbl>\\\\\n",
       "\\hline\n",
       "\t1 & Afghanistan & 30.0 & 5.8 & 35.2 & 11.8 & 0.0 & 0.1 & 1 &  18.4 &  37.2 & 25.495 &   56.93776 &  652.9 & 43.01972 & 0.75933 & 1299.0269 &  0.00000 & 13.9 & 0.70 & 0.3\\\\\n",
       "\t2 & Albania     & 26.4 & 3.2 &  9.6 & 37.0 & 0.7 & 0.1 & 2 &  15.1 &   2.9 & 60.319 &  104.61226 &   27.4 & 98.14115 & 1.00582 & 9361.5460 & 59.95146 &  0.2 & 1.36 & 1.5\\\\\n",
       "\t3 & Angola      &  4.6 & 1.3 & 17.8 & 10.9 & 0.4 & 0.3 & 1 & 101.4 &  30.8 & 65.514 &   24.71305 & 1246.7 &  0.00000 & 0.00000 & 4963.6533 & 43.98964 & 48.8 & 0.97 & 1.0\\\\\n",
       "\t4 & Armenia     &  8.6 & 0.4 &  0.2 & 39.2 & 0.3 & 0.1 & 2 &  12.5 &   3.0 & 63.149 &  103.68022 &   28.5 &  0.00000 & 0.00000 & 2329.1833 & 27.77778 &  0.2 & 0.77 & 0.6\\\\\n",
       "\t5 & Azerbaijan  &  6.9 & 3.3 &  1.1 & 20.4 & 0.1 & 0.0 & 3 &  47.1 &   9.9 & 55.680 &  120.23432 &   82.7 &  0.00000 & 0.00000 &  823.5207 & 24.48847 &  1.1 & 0.56 & 0.4\\\\\n",
       "\t6 & Bangladesh  & 25.1 & 0.0 &  6.4 &  0.8 & 0.0 & 0.3 & 1 & 274.0 & 161.4 & 36.632 & 1239.57931 &  130.2 & 73.91220 & 1.03276 &  657.6039 & 14.19624 & 11.9 & 1.12 & 2.7\\\\\n",
       "\\end{tabular}\n"
      ],
      "text/markdown": [
       "\n",
       "A data.frame: 6 × 20\n",
       "\n",
       "| <!--/--> | Country &lt;chr&gt; | bicy &lt;dbl&gt; | cart &lt;dbl&gt; | mcyc &lt;dbl&gt; | pcar &lt;dbl&gt; | boat &lt;dbl&gt; | wigc &lt;dbl&gt; | clusters &lt;fct&gt; | cgdp &lt;dbl&gt; | tpop &lt;dbl&gt; | upop &lt;dbl&gt; | popd &lt;dbl&gt; | land &lt;dbl&gt; | lita &lt;dbl&gt; | lity &lt;dbl&gt; | rifr &lt;dbl&gt; | cotw &lt;dbl&gt; | moru &lt;dbl&gt; | ppfg &lt;dbl&gt; | prec &lt;dbl&gt; |\n",
       "|---|---|---|---|---|---|---|---|---|---|---|---|---|---|---|---|---|---|---|---|---|\n",
       "| 1 | Afghanistan | 30.0 | 5.8 | 35.2 | 11.8 | 0.0 | 0.1 | 1 |  18.4 |  37.2 | 25.495 |   56.93776 |  652.9 | 43.01972 | 0.75933 | 1299.0269 |  0.00000 | 13.9 | 0.70 | 0.3 |\n",
       "| 2 | Albania     | 26.4 | 3.2 |  9.6 | 37.0 | 0.7 | 0.1 | 2 |  15.1 |   2.9 | 60.319 |  104.61226 |   27.4 | 98.14115 | 1.00582 | 9361.5460 | 59.95146 |  0.2 | 1.36 | 1.5 |\n",
       "| 3 | Angola      |  4.6 | 1.3 | 17.8 | 10.9 | 0.4 | 0.3 | 1 | 101.4 |  30.8 | 65.514 |   24.71305 | 1246.7 |  0.00000 | 0.00000 | 4963.6533 | 43.98964 | 48.8 | 0.97 | 1.0 |\n",
       "| 4 | Armenia     |  8.6 | 0.4 |  0.2 | 39.2 | 0.3 | 0.1 | 2 |  12.5 |   3.0 | 63.149 |  103.68022 |   28.5 |  0.00000 | 0.00000 | 2329.1833 | 27.77778 |  0.2 | 0.77 | 0.6 |\n",
       "| 5 | Azerbaijan  |  6.9 | 3.3 |  1.1 | 20.4 | 0.1 | 0.0 | 3 |  47.1 |   9.9 | 55.680 |  120.23432 |   82.7 |  0.00000 | 0.00000 |  823.5207 | 24.48847 |  1.1 | 0.56 | 0.4 |\n",
       "| 6 | Bangladesh  | 25.1 | 0.0 |  6.4 |  0.8 | 0.0 | 0.3 | 1 | 274.0 | 161.4 | 36.632 | 1239.57931 |  130.2 | 73.91220 | 1.03276 |  657.6039 | 14.19624 | 11.9 | 1.12 | 2.7 |\n",
       "\n"
      ],
      "text/plain": [
       "  Country     bicy cart mcyc pcar boat wigc clusters cgdp  tpop  upop  \n",
       "1 Afghanistan 30.0 5.8  35.2 11.8 0.0  0.1  1         18.4  37.2 25.495\n",
       "2 Albania     26.4 3.2   9.6 37.0 0.7  0.1  2         15.1   2.9 60.319\n",
       "3 Angola       4.6 1.3  17.8 10.9 0.4  0.3  1        101.4  30.8 65.514\n",
       "4 Armenia      8.6 0.4   0.2 39.2 0.3  0.1  2         12.5   3.0 63.149\n",
       "5 Azerbaijan   6.9 3.3   1.1 20.4 0.1  0.0  3         47.1   9.9 55.680\n",
       "6 Bangladesh  25.1 0.0   6.4  0.8 0.0  0.3  1        274.0 161.4 36.632\n",
       "  popd       land   lita     lity    rifr      cotw     moru ppfg prec\n",
       "1   56.93776  652.9 43.01972 0.75933 1299.0269  0.00000 13.9 0.70 0.3 \n",
       "2  104.61226   27.4 98.14115 1.00582 9361.5460 59.95146  0.2 1.36 1.5 \n",
       "3   24.71305 1246.7  0.00000 0.00000 4963.6533 43.98964 48.8 0.97 1.0 \n",
       "4  103.68022   28.5  0.00000 0.00000 2329.1833 27.77778  0.2 0.77 0.6 \n",
       "5  120.23432   82.7  0.00000 0.00000  823.5207 24.48847  1.1 0.56 0.4 \n",
       "6 1239.57931  130.2 73.91220 1.03276  657.6039 14.19624 11.9 1.12 2.7 "
      ]
     },
     "metadata": {},
     "output_type": "display_data"
    }
   ],
   "source": [
    "df$prec <- paste(format(round(df$prec / 1e3, 1), trim = TRUE)) # Preciptiation depth in thousands of mm\n",
    "df$cgdp <- as.numeric(df$cgdp)\n",
    "df$tpop <- as.numeric(df$tpop)\n",
    "df$land <- as.numeric(df$land)\n",
    "df$prec <- as.numeric(df$prec)\n",
    "str(df)\n",
    "head(df)"
   ]
  },
  {
   "cell_type": "code",
   "execution_count": 82,
   "metadata": {},
   "outputs": [
    {
     "data": {
      "image/png": "[encoded data removed]",
      "text/plain": [
       "Plot with title \"Histogram of df$cart\""
      ]
     },
     "metadata": {
      "image/png": {
       "height": 420,
       "width": 420
      }
     },
     "output_type": "display_data"
    }
   ],
   "source": [
    "hist(df$cart)"
   ]
  },
  {
   "cell_type": "code",
   "execution_count": 83,
   "metadata": {},
   "outputs": [],
   "source": [
    "tree.wa = tree(clusters ~ . - Country  , data = df)"
   ]
  },
  {
   "cell_type": "code",
   "execution_count": 84,
   "metadata": {},
   "outputs": [
    {
     "data": {
      "text/plain": [
       "\n",
       "Classification tree:\n",
       "tree(formula = clusters ~ . - Country, data = df)\n",
       "Variables actually used in tree construction:\n",
       "[1] \"moru\" \"tpop\" \"ppfg\" \"cotw\" \"bicy\"\n",
       "Number of terminal nodes:  9 \n",
       "Residual mean deviance:  0.4429 = 28.35 / 64 \n",
       "Misclassification error rate: 0.09589 = 7 / 73 "
      ]
     },
     "metadata": {},
     "output_type": "display_data"
    }
   ],
   "source": [
    "summary(tree.wa) "
   ]
  },
  {
   "cell_type": "code",
   "execution_count": 85,
   "metadata": {},
   "outputs": [
    {
     "data": {
      "image/png": "[encoded data removed]",
      "text/plain": [
       "plot without title"
      ]
     },
     "metadata": {
      "image/png": {
       "height": 420,
       "width": 420
      }
     },
     "output_type": "display_data"
    }
   ],
   "source": [
    "plot(tree.wa)\n",
    "text(tree.wa, pretty = 0) #population density High density for six cluster group."
   ]
  },
  {
   "cell_type": "code",
   "execution_count": 86,
   "metadata": {},
   "outputs": [
    {
     "data": {
      "text/plain": [
       "node), split, n, deviance, yval, (yprob)\n",
       "      * denotes terminal node\n",
       "\n",
       " 1) root 73 154.300 1 ( 0.4658 0.2329 0.3014 )  \n",
       "   2) moru < 11.65 28  37.520 2 ( 0.0000 0.6071 0.3929 )  \n",
       "     4) moru < 0.7 7   0.000 2 ( 0.0000 1.0000 0.0000 ) *\n",
       "     5) moru > 0.7 21  29.060 3 ( 0.0000 0.4762 0.5238 )  \n",
       "      10) tpop < 9.35 7   0.000 3 ( 0.0000 0.0000 1.0000 ) *\n",
       "      11) tpop > 9.35 14  16.750 2 ( 0.0000 0.7143 0.2857 )  \n",
       "        22) ppfg < 0.83 7   9.561 3 ( 0.0000 0.4286 0.5714 ) *\n",
       "        23) ppfg > 0.83 7   0.000 2 ( 0.0000 1.0000 0.0000 ) *\n",
       "   3) moru > 11.65 45  50.050 1 ( 0.7556 0.0000 0.2444 )  \n",
       "     6) tpop < 3.4 7   5.742 3 ( 0.1429 0.0000 0.8571 ) *\n",
       "     7) tpop > 3.4 38  29.590 1 ( 0.8684 0.0000 0.1316 )  \n",
       "      14) ppfg < 0.915 16   0.000 1 ( 1.0000 0.0000 0.0000 ) *\n",
       "      15) ppfg > 0.915 22  23.580 1 ( 0.7727 0.0000 0.2273 )  \n",
       "        30) cotw < 11.764 10   0.000 1 ( 1.0000 0.0000 0.0000 ) *\n",
       "        31) cotw > 11.764 12  16.300 1 ( 0.5833 0.0000 0.4167 )  \n",
       "          62) bicy < 20.8 6   7.638 3 ( 0.3333 0.0000 0.6667 ) *\n",
       "          63) bicy > 20.8 6   5.407 1 ( 0.8333 0.0000 0.1667 ) *"
      ]
     },
     "metadata": {},
     "output_type": "display_data"
    }
   ],
   "source": [
    "tree.wa"
   ]
  },
  {
   "cell_type": "code",
   "execution_count": 87,
   "metadata": {},
   "outputs": [
    {
     "data": {
      "text/html": [
       "<style>\n",
       ".list-inline {list-style: none; margin:0; padding: 0}\n",
       ".list-inline>li {display: inline-block}\n",
       ".list-inline>li:not(:last-child)::after {content: \"\\00b7\"; padding: 0 .5ex}\n",
       "</style>\n",
       "<ol class=list-inline><li>73</li><li>57</li><li>46</li><li>58</li><li>61</li><li>60</li></ol>\n"
      ],
      "text/latex": [
       "\\begin{enumerate*}\n",
       "\\item 73\n",
       "\\item 57\n",
       "\\item 46\n",
       "\\item 58\n",
       "\\item 61\n",
       "\\item 60\n",
       "\\end{enumerate*}\n"
      ],
      "text/markdown": [
       "1. 73\n",
       "2. 57\n",
       "3. 46\n",
       "4. 58\n",
       "5. 61\n",
       "6. 60\n",
       "\n",
       "\n"
      ],
      "text/plain": [
       "[1] 73 57 46 58 61 60"
      ]
     },
     "metadata": {},
     "output_type": "display_data"
    }
   ],
   "source": [
    "set.seed(101)\n",
    "train = sample(1:nrow(df), 50)\n",
    "head(train)"
   ]
  },
  {
   "cell_type": "code",
   "execution_count": 88,
   "metadata": {},
   "outputs": [
    {
     "name": "stdout",
     "output_type": "stream",
     "text": [
      "\n",
      "Call:\n",
      " randomForest(formula = clusters ~ . - Country, data = df, ntree = 500,      mtry = 2, ) \n",
      "               Type of random forest: classification\n",
      "                     Number of trees: 500\n",
      "No. of variables tried at each split: 2\n",
      "\n",
      "        OOB estimate of  error rate: 28.77%\n",
      "Confusion matrix:\n",
      "   1  2  3 class.error\n",
      "1 31  0  3  0.08823529\n",
      "2  0 11  6  0.35294118\n",
      "3  5  7 10  0.54545455\n"
     ]
    }
   ],
   "source": [
    "rf.water = randomForest(clusters~. -Country, data = df ,ntree=500,mtry=2,)\n",
    "print(rf.water)"
   ]
  },
  {
   "cell_type": "markdown",
   "metadata": {},
   "source": [
    "oob.err = double(13)\n",
    "test.err = double(13)\n",
    "for(mtry in 1:13){\n",
    "  fit = randomForest(clusters~. -Country, data = df, subset=train, mtry=mtry, ntree = 350)\n",
    "  oob.err[mtry] = fit$mse[350]\n",
    "  pred = predict(fit, df[-train,])\n",
    "  test.err[mtry] = with(df[-train,], mean( (clusters-pred)^2 ))\n",
    "}"
   ]
  },
  {
   "cell_type": "markdown",
   "metadata": {},
   "source": [
    "matplot(1:mtry, cbind(test.err, oob.err), pch = 23, col = c(\"red\", \"blue\"), type = \"b\", ylab=\"Mean Squared Error\")\n",
    "legend(\"topright\", legend = c(\"OOB\", \"Test\"), pch = 23, col = c(\"red\", \"blue\"))"
   ]
  },
  {
   "cell_type": "code",
   "execution_count": 89,
   "metadata": {},
   "outputs": [
    {
     "data": {
      "text/plain": [
       "                Length Class  Mode     \n",
       "call               6   -none- call     \n",
       "type               1   -none- character\n",
       "predicted         73   factor numeric  \n",
       "err.rate        2000   -none- numeric  \n",
       "confusion         12   -none- numeric  \n",
       "votes            219   matrix numeric  \n",
       "oob.times         73   -none- numeric  \n",
       "classes            3   -none- character\n",
       "importance        18   -none- numeric  \n",
       "importanceSD       0   -none- NULL     \n",
       "localImportance    0   -none- NULL     \n",
       "proximity          0   -none- NULL     \n",
       "ntree              1   -none- numeric  \n",
       "mtry               1   -none- numeric  \n",
       "forest            14   -none- list     \n",
       "y                 73   factor numeric  \n",
       "test               0   -none- NULL     \n",
       "inbag              0   -none- NULL     \n",
       "terms              3   terms  call     "
      ]
     },
     "metadata": {},
     "output_type": "display_data"
    }
   ],
   "source": [
    "summary(rf.water)"
   ]
  },
  {
   "cell_type": "markdown",
   "metadata": {},
   "source": [
    "The MeanDecreaseGini measures the Gini importance = how important the features are over all splits done in the tree/forest - whereas for each individual split the Gini importance indicates how much the Gini criterion = \"unequality/heterogeneity\" was reduced using this split.\n",
    "mori, upop, pcar popd, mcyc important and contributed most to obtaining such splits, so they are considered more important."
   ]
  },
  {
   "cell_type": "code",
   "execution_count": 90,
   "metadata": {},
   "outputs": [
    {
     "data": {
      "text/html": [
       "<table class=\"dataframe\">\n",
       "<caption>A matrix: 18 × 1 of type dbl</caption>\n",
       "<thead>\n",
       "\t<tr><th></th><th scope=col>MeanDecreaseGini</th></tr>\n",
       "</thead>\n",
       "<tbody>\n",
       "\t<tr><th scope=row>bicy</th><td>1.719680</td></tr>\n",
       "\t<tr><th scope=row>cart</th><td>1.504538</td></tr>\n",
       "\t<tr><th scope=row>mcyc</th><td>2.108939</td></tr>\n",
       "\t<tr><th scope=row>pcar</th><td>5.560081</td></tr>\n",
       "\t<tr><th scope=row>boat</th><td>1.677601</td></tr>\n",
       "\t<tr><th scope=row>wigc</th><td>2.204245</td></tr>\n",
       "\t<tr><th scope=row>cgdp</th><td>2.561020</td></tr>\n",
       "\t<tr><th scope=row>tpop</th><td>3.486096</td></tr>\n",
       "\t<tr><th scope=row>upop</th><td>3.189446</td></tr>\n",
       "\t<tr><th scope=row>popd</th><td>2.208434</td></tr>\n",
       "\t<tr><th scope=row>land</th><td>2.329145</td></tr>\n",
       "\t<tr><th scope=row>lita</th><td>1.604668</td></tr>\n",
       "\t<tr><th scope=row>lity</th><td>1.359507</td></tr>\n",
       "\t<tr><th scope=row>rifr</th><td>2.478198</td></tr>\n",
       "\t<tr><th scope=row>cotw</th><td>1.868890</td></tr>\n",
       "\t<tr><th scope=row>moru</th><td>6.672301</td></tr>\n",
       "\t<tr><th scope=row>ppfg</th><td>1.832010</td></tr>\n",
       "\t<tr><th scope=row>prec</th><td>1.592297</td></tr>\n",
       "</tbody>\n",
       "</table>\n"
      ],
      "text/latex": [
       "A matrix: 18 × 1 of type dbl\n",
       "\\begin{tabular}{r|l}\n",
       "  & MeanDecreaseGini\\\\\n",
       "\\hline\n",
       "\tbicy & 1.719680\\\\\n",
       "\tcart & 1.504538\\\\\n",
       "\tmcyc & 2.108939\\\\\n",
       "\tpcar & 5.560081\\\\\n",
       "\tboat & 1.677601\\\\\n",
       "\twigc & 2.204245\\\\\n",
       "\tcgdp & 2.561020\\\\\n",
       "\ttpop & 3.486096\\\\\n",
       "\tupop & 3.189446\\\\\n",
       "\tpopd & 2.208434\\\\\n",
       "\tland & 2.329145\\\\\n",
       "\tlita & 1.604668\\\\\n",
       "\tlity & 1.359507\\\\\n",
       "\trifr & 2.478198\\\\\n",
       "\tcotw & 1.868890\\\\\n",
       "\tmoru & 6.672301\\\\\n",
       "\tppfg & 1.832010\\\\\n",
       "\tprec & 1.592297\\\\\n",
       "\\end{tabular}\n"
      ],
      "text/markdown": [
       "\n",
       "A matrix: 18 × 1 of type dbl\n",
       "\n",
       "| <!--/--> | MeanDecreaseGini |\n",
       "|---|---|\n",
       "| bicy | 1.719680 |\n",
       "| cart | 1.504538 |\n",
       "| mcyc | 2.108939 |\n",
       "| pcar | 5.560081 |\n",
       "| boat | 1.677601 |\n",
       "| wigc | 2.204245 |\n",
       "| cgdp | 2.561020 |\n",
       "| tpop | 3.486096 |\n",
       "| upop | 3.189446 |\n",
       "| popd | 2.208434 |\n",
       "| land | 2.329145 |\n",
       "| lita | 1.604668 |\n",
       "| lity | 1.359507 |\n",
       "| rifr | 2.478198 |\n",
       "| cotw | 1.868890 |\n",
       "| moru | 6.672301 |\n",
       "| ppfg | 1.832010 |\n",
       "| prec | 1.592297 |\n",
       "\n"
      ],
      "text/plain": [
       "     MeanDecreaseGini\n",
       "bicy 1.719680        \n",
       "cart 1.504538        \n",
       "mcyc 2.108939        \n",
       "pcar 5.560081        \n",
       "boat 1.677601        \n",
       "wigc 2.204245        \n",
       "cgdp 2.561020        \n",
       "tpop 3.486096        \n",
       "upop 3.189446        \n",
       "popd 2.208434        \n",
       "land 2.329145        \n",
       "lita 1.604668        \n",
       "lity 1.359507        \n",
       "rifr 2.478198        \n",
       "cotw 1.868890        \n",
       "moru 6.672301        \n",
       "ppfg 1.832010        \n",
       "prec 1.592297        "
      ]
     },
     "metadata": {},
     "output_type": "display_data"
    }
   ],
   "source": [
    "importance <- importance(rf.water, sort = TRUE)\n",
    "importance"
   ]
  },
  {
   "cell_type": "code",
   "execution_count": 91,
   "metadata": {},
   "outputs": [
    {
     "data": {
      "image/png": "[encoded data removed]",
      "text/plain": [
       "Plot with title \"rf.water\""
      ]
     },
     "metadata": {
      "image/png": {
       "height": 420,
       "width": 420
      }
     },
     "output_type": "display_data"
    }
   ],
   "source": [
    "# create an importance plot\n",
    "varImpPlot(rf.water, sort=TRUE, n.var=min(30, nrow(rf.water$importance)),\n",
    "           type=NULL, class=NULL, scale=TRUE )\n",
    "\n",
    "\n"
   ]
  },
  {
   "cell_type": "code",
   "execution_count": 92,
   "metadata": {},
   "outputs": [
    {
     "data": {
      "image/png": "[encoded data removed]"
     },
     "metadata": {
      "image/png": {
       "height": 420,
       "width": 420
      }
     },
     "output_type": "display_data"
    }
   ],
   "source": [
    "plot(randomForest(clusters~. -Country, data = df ,ntree=500,keep.forest=FALSE, mtry=2) )\n"
   ]
  },
  {
   "cell_type": "markdown",
   "metadata": {},
   "source": [
    "# randomForestExplainer"
   ]
  },
  {
   "cell_type": "code",
   "execution_count": 93,
   "metadata": {},
   "outputs": [],
   "source": [
    "rf.water = randomForest(clusters~. -Country, data = df ,ntree=500,mtry=2, localImp = TRUE)"
   ]
  },
  {
   "cell_type": "code",
   "execution_count": 94,
   "metadata": {},
   "outputs": [
    {
     "data": {
      "text/html": [
       "<table class=\"dataframe\">\n",
       "<caption>A data.frame: 10 × 3</caption>\n",
       "<thead>\n",
       "\t<tr><th></th><th scope=col>tree</th><th scope=col>variable</th><th scope=col>minimal_depth</th></tr>\n",
       "\t<tr><th></th><th scope=col>&lt;int&gt;</th><th scope=col>&lt;chr&gt;</th><th scope=col>&lt;dbl&gt;</th></tr>\n",
       "</thead>\n",
       "<tbody>\n",
       "\t<tr><th scope=row>1</th><td>1</td><td>bicy</td><td>5</td></tr>\n",
       "\t<tr><th scope=row>2</th><td>1</td><td>boat</td><td>4</td></tr>\n",
       "\t<tr><th scope=row>3</th><td>1</td><td>cart</td><td>3</td></tr>\n",
       "\t<tr><th scope=row>4</th><td>1</td><td>cgdp</td><td>1</td></tr>\n",
       "\t<tr><th scope=row>5</th><td>1</td><td>lity</td><td>3</td></tr>\n",
       "\t<tr><th scope=row>6</th><td>1</td><td>mcyc</td><td>1</td></tr>\n",
       "\t<tr><th scope=row>7</th><td>1</td><td>moru</td><td>4</td></tr>\n",
       "\t<tr><th scope=row>8</th><td>1</td><td>pcar</td><td>5</td></tr>\n",
       "\t<tr><th scope=row>9</th><td>1</td><td>ppfg</td><td>0</td></tr>\n",
       "\t<tr><th scope=row>10</th><td>1</td><td>prec</td><td>6</td></tr>\n",
       "</tbody>\n",
       "</table>\n"
      ],
      "text/latex": [
       "A data.frame: 10 × 3\n",
       "\\begin{tabular}{r|lll}\n",
       "  & tree & variable & minimal\\_depth\\\\\n",
       "  & <int> & <chr> & <dbl>\\\\\n",
       "\\hline\n",
       "\t1 & 1 & bicy & 5\\\\\n",
       "\t2 & 1 & boat & 4\\\\\n",
       "\t3 & 1 & cart & 3\\\\\n",
       "\t4 & 1 & cgdp & 1\\\\\n",
       "\t5 & 1 & lity & 3\\\\\n",
       "\t6 & 1 & mcyc & 1\\\\\n",
       "\t7 & 1 & moru & 4\\\\\n",
       "\t8 & 1 & pcar & 5\\\\\n",
       "\t9 & 1 & ppfg & 0\\\\\n",
       "\t10 & 1 & prec & 6\\\\\n",
       "\\end{tabular}\n"
      ],
      "text/markdown": [
       "\n",
       "A data.frame: 10 × 3\n",
       "\n",
       "| <!--/--> | tree &lt;int&gt; | variable &lt;chr&gt; | minimal_depth &lt;dbl&gt; |\n",
       "|---|---|---|---|\n",
       "| 1 | 1 | bicy | 5 |\n",
       "| 2 | 1 | boat | 4 |\n",
       "| 3 | 1 | cart | 3 |\n",
       "| 4 | 1 | cgdp | 1 |\n",
       "| 5 | 1 | lity | 3 |\n",
       "| 6 | 1 | mcyc | 1 |\n",
       "| 7 | 1 | moru | 4 |\n",
       "| 8 | 1 | pcar | 5 |\n",
       "| 9 | 1 | ppfg | 0 |\n",
       "| 10 | 1 | prec | 6 |\n",
       "\n"
      ],
      "text/plain": [
       "   tree variable minimal_depth\n",
       "1  1    bicy     5            \n",
       "2  1    boat     4            \n",
       "3  1    cart     3            \n",
       "4  1    cgdp     1            \n",
       "5  1    lity     3            \n",
       "6  1    mcyc     1            \n",
       "7  1    moru     4            \n",
       "8  1    pcar     5            \n",
       "9  1    ppfg     0            \n",
       "10 1    prec     6            "
      ]
     },
     "metadata": {},
     "output_type": "display_data"
    }
   ],
   "source": [
    "min_depth_frame <- min_depth_distribution(rf.water)\n",
    "save(min_depth_frame, file = \"min_depth_frame.rda\")\n",
    "load(\"min_depth_frame.rda\")\n",
    "head(min_depth_frame, n = 10)"
   ]
  },
  {
   "cell_type": "code",
   "execution_count": 95,
   "metadata": {},
   "outputs": [
    {
     "data": {
      "image/png": "[encoded data removed]",
      "text/plain": [
       "plot without title"
      ]
     },
     "metadata": {
      "image/png": {
       "height": 420,
       "width": 420
      }
     },
     "output_type": "display_data"
    }
   ],
   "source": [
    "plot_min_depth_distribution(min_depth_frame)"
   ]
  },
  {
   "cell_type": "markdown",
   "metadata": {},
   "source": [
    "The function plot_min_depth_distribution offers three possibilities when it comes to calculating the mean minimal depth, which differ in he way they treat missing values that appear when a variable is not used for splitting in a tree. They can be described as follows:"
   ]
  },
  {
   "cell_type": "code",
   "execution_count": 96,
   "metadata": {},
   "outputs": [
    {
     "data": {
      "image/png": "[encoded data removed]",
      "text/plain": [
       "plot without title"
      ]
     },
     "metadata": {
      "image/png": {
       "height": 420,
       "width": 420
      }
     },
     "output_type": "display_data"
    }
   ],
   "source": [
    "plot_min_depth_distribution(min_depth_frame, mean_sample = \"relevant_trees\", k = 15)"
   ]
  },
  {
   "cell_type": "markdown",
   "metadata": {},
   "source": [
    "Clearly, using only relevant trees for calculating the mean does not change it for variables that have no missing values. Also, in this case the change does not influence the ordering of variables, but of course this usually not the case in more complex examples.\n",
    "\n",
    "Regardless of the exact parameters used in plot_min_depth_distribution, looking at the whole distribution of minimal depth offers a lot more insight into the role that a predictor plays in a forest in contrast to looking only at the mean, especially as it can be calculated in more than one way. Additionally, the function allows us to specify the maximum number of variables plotted k, whether the values of mean minimal depth should be scaled to the [0,1] interval (mean_scale, logical), the number of digits to round the mean to for display (mean_round) and the title of the plot (main)."
   ]
  },
  {
   "cell_type": "code",
   "execution_count": 97,
   "metadata": {},
   "outputs": [
    {
     "data": {
      "text/html": [
       "<table class=\"dataframe\">\n",
       "<caption>A data.frame: 18 × 8</caption>\n",
       "<thead>\n",
       "\t<tr><th scope=col>variable</th><th scope=col>mean_min_depth</th><th scope=col>no_of_nodes</th><th scope=col>accuracy_decrease</th><th scope=col>gini_decrease</th><th scope=col>no_of_trees</th><th scope=col>times_a_root</th><th scope=col>p_value</th></tr>\n",
       "\t<tr><th scope=col>&lt;fct&gt;</th><th scope=col>&lt;dbl&gt;</th><th scope=col>&lt;int&gt;</th><th scope=col>&lt;dbl&gt;</th><th scope=col>&lt;dbl&gt;</th><th scope=col>&lt;int&gt;</th><th scope=col>&lt;int&gt;</th><th scope=col>&lt;dbl&gt;</th></tr>\n",
       "</thead>\n",
       "<tbody>\n",
       "\t<tr><td>bicy</td><td>4.134628</td><td>425</td><td>-0.0046061638</td><td>1.643574</td><td>289</td><td>14</td><td>9.692080e-01</td></tr>\n",
       "\t<tr><td>boat</td><td>4.263260</td><td>365</td><td> 0.0013354812</td><td>1.487702</td><td>261</td><td>18</td><td>9.999995e-01</td></tr>\n",
       "\t<tr><td>cart</td><td>4.281990</td><td>374</td><td> 0.0009348037</td><td>1.454698</td><td>262</td><td>15</td><td>9.999952e-01</td></tr>\n",
       "\t<tr><td>cgdp</td><td>3.425434</td><td>499</td><td> 0.0061484588</td><td>2.470309</td><td>327</td><td>28</td><td>4.705692e-02</td></tr>\n",
       "\t<tr><td>cotw</td><td>4.046015</td><td>403</td><td> 0.0006264545</td><td>1.632549</td><td>281</td><td>16</td><td>9.984574e-01</td></tr>\n",
       "\t<tr><td>land</td><td>3.699541</td><td>456</td><td> 0.0064094461</td><td>2.060542</td><td>302</td><td>24</td><td>6.417211e-01</td></tr>\n",
       "\t<tr><td>lita</td><td>3.900010</td><td>352</td><td> 0.0076732424</td><td>1.950139</td><td>254</td><td>35</td><td>1.000000e+00</td></tr>\n",
       "\t<tr><td>lity</td><td>4.387663</td><td>300</td><td> 0.0054550747</td><td>1.469592</td><td>234</td><td>23</td><td>1.000000e+00</td></tr>\n",
       "\t<tr><td>mcyc</td><td>3.821990</td><td>460</td><td> 0.0017497253</td><td>2.048831</td><td>302</td><td>20</td><td>5.679228e-01</td></tr>\n",
       "\t<tr><td>moru</td><td>2.204082</td><td>673</td><td> 0.0696283488</td><td>6.883191</td><td>392</td><td>58</td><td>2.429467e-21</td></tr>\n",
       "\t<tr><td>pcar</td><td>2.591505</td><td>651</td><td> 0.0473198021</td><td>5.320455</td><td>377</td><td>43</td><td>1.202637e-17</td></tr>\n",
       "\t<tr><td>popd</td><td>3.625087</td><td>508</td><td> 0.0055848620</td><td>2.389826</td><td>319</td><td>18</td><td>1.815877e-02</td></tr>\n",
       "\t<tr><td>ppfg</td><td>4.058163</td><td>430</td><td>-0.0029922573</td><td>1.840806</td><td>292</td><td>14</td><td>9.478196e-01</td></tr>\n",
       "\t<tr><td>prec</td><td>4.102005</td><td>406</td><td> 0.0005290284</td><td>1.699857</td><td>275</td><td>19</td><td>9.975185e-01</td></tr>\n",
       "\t<tr><td>rifr</td><td>3.292173</td><td>532</td><td> 0.0041430722</td><td>2.567105</td><td>338</td><td>33</td><td>6.868264e-04</td></tr>\n",
       "\t<tr><td>tpop</td><td>3.092653</td><td>551</td><td> 0.0144850997</td><td>3.308536</td><td>352</td><td>40</td><td>2.399760e-05</td></tr>\n",
       "\t<tr><td>upop</td><td>2.878500</td><td>591</td><td> 0.0169838441</td><td>3.618926</td><td>358</td><td>51</td><td>2.368424e-09</td></tr>\n",
       "\t<tr><td>wigc</td><td>3.888592</td><td>362</td><td> 0.0121584181</td><td>2.099278</td><td>276</td><td>31</td><td>9.999998e-01</td></tr>\n",
       "</tbody>\n",
       "</table>\n"
      ],
      "text/latex": [
       "A data.frame: 18 × 8\n",
       "\\begin{tabular}{llllllll}\n",
       " variable & mean\\_min\\_depth & no\\_of\\_nodes & accuracy\\_decrease & gini\\_decrease & no\\_of\\_trees & times\\_a\\_root & p\\_value\\\\\n",
       " <fct> & <dbl> & <int> & <dbl> & <dbl> & <int> & <int> & <dbl>\\\\\n",
       "\\hline\n",
       "\t bicy & 4.134628 & 425 & -0.0046061638 & 1.643574 & 289 & 14 & 9.692080e-01\\\\\n",
       "\t boat & 4.263260 & 365 &  0.0013354812 & 1.487702 & 261 & 18 & 9.999995e-01\\\\\n",
       "\t cart & 4.281990 & 374 &  0.0009348037 & 1.454698 & 262 & 15 & 9.999952e-01\\\\\n",
       "\t cgdp & 3.425434 & 499 &  0.0061484588 & 2.470309 & 327 & 28 & 4.705692e-02\\\\\n",
       "\t cotw & 4.046015 & 403 &  0.0006264545 & 1.632549 & 281 & 16 & 9.984574e-01\\\\\n",
       "\t land & 3.699541 & 456 &  0.0064094461 & 2.060542 & 302 & 24 & 6.417211e-01\\\\\n",
       "\t lita & 3.900010 & 352 &  0.0076732424 & 1.950139 & 254 & 35 & 1.000000e+00\\\\\n",
       "\t lity & 4.387663 & 300 &  0.0054550747 & 1.469592 & 234 & 23 & 1.000000e+00\\\\\n",
       "\t mcyc & 3.821990 & 460 &  0.0017497253 & 2.048831 & 302 & 20 & 5.679228e-01\\\\\n",
       "\t moru & 2.204082 & 673 &  0.0696283488 & 6.883191 & 392 & 58 & 2.429467e-21\\\\\n",
       "\t pcar & 2.591505 & 651 &  0.0473198021 & 5.320455 & 377 & 43 & 1.202637e-17\\\\\n",
       "\t popd & 3.625087 & 508 &  0.0055848620 & 2.389826 & 319 & 18 & 1.815877e-02\\\\\n",
       "\t ppfg & 4.058163 & 430 & -0.0029922573 & 1.840806 & 292 & 14 & 9.478196e-01\\\\\n",
       "\t prec & 4.102005 & 406 &  0.0005290284 & 1.699857 & 275 & 19 & 9.975185e-01\\\\\n",
       "\t rifr & 3.292173 & 532 &  0.0041430722 & 2.567105 & 338 & 33 & 6.868264e-04\\\\\n",
       "\t tpop & 3.092653 & 551 &  0.0144850997 & 3.308536 & 352 & 40 & 2.399760e-05\\\\\n",
       "\t upop & 2.878500 & 591 &  0.0169838441 & 3.618926 & 358 & 51 & 2.368424e-09\\\\\n",
       "\t wigc & 3.888592 & 362 &  0.0121584181 & 2.099278 & 276 & 31 & 9.999998e-01\\\\\n",
       "\\end{tabular}\n"
      ],
      "text/markdown": [
       "\n",
       "A data.frame: 18 × 8\n",
       "\n",
       "| variable &lt;fct&gt; | mean_min_depth &lt;dbl&gt; | no_of_nodes &lt;int&gt; | accuracy_decrease &lt;dbl&gt; | gini_decrease &lt;dbl&gt; | no_of_trees &lt;int&gt; | times_a_root &lt;int&gt; | p_value &lt;dbl&gt; |\n",
       "|---|---|---|---|---|---|---|---|\n",
       "| bicy | 4.134628 | 425 | -0.0046061638 | 1.643574 | 289 | 14 | 9.692080e-01 |\n",
       "| boat | 4.263260 | 365 |  0.0013354812 | 1.487702 | 261 | 18 | 9.999995e-01 |\n",
       "| cart | 4.281990 | 374 |  0.0009348037 | 1.454698 | 262 | 15 | 9.999952e-01 |\n",
       "| cgdp | 3.425434 | 499 |  0.0061484588 | 2.470309 | 327 | 28 | 4.705692e-02 |\n",
       "| cotw | 4.046015 | 403 |  0.0006264545 | 1.632549 | 281 | 16 | 9.984574e-01 |\n",
       "| land | 3.699541 | 456 |  0.0064094461 | 2.060542 | 302 | 24 | 6.417211e-01 |\n",
       "| lita | 3.900010 | 352 |  0.0076732424 | 1.950139 | 254 | 35 | 1.000000e+00 |\n",
       "| lity | 4.387663 | 300 |  0.0054550747 | 1.469592 | 234 | 23 | 1.000000e+00 |\n",
       "| mcyc | 3.821990 | 460 |  0.0017497253 | 2.048831 | 302 | 20 | 5.679228e-01 |\n",
       "| moru | 2.204082 | 673 |  0.0696283488 | 6.883191 | 392 | 58 | 2.429467e-21 |\n",
       "| pcar | 2.591505 | 651 |  0.0473198021 | 5.320455 | 377 | 43 | 1.202637e-17 |\n",
       "| popd | 3.625087 | 508 |  0.0055848620 | 2.389826 | 319 | 18 | 1.815877e-02 |\n",
       "| ppfg | 4.058163 | 430 | -0.0029922573 | 1.840806 | 292 | 14 | 9.478196e-01 |\n",
       "| prec | 4.102005 | 406 |  0.0005290284 | 1.699857 | 275 | 19 | 9.975185e-01 |\n",
       "| rifr | 3.292173 | 532 |  0.0041430722 | 2.567105 | 338 | 33 | 6.868264e-04 |\n",
       "| tpop | 3.092653 | 551 |  0.0144850997 | 3.308536 | 352 | 40 | 2.399760e-05 |\n",
       "| upop | 2.878500 | 591 |  0.0169838441 | 3.618926 | 358 | 51 | 2.368424e-09 |\n",
       "| wigc | 3.888592 | 362 |  0.0121584181 | 2.099278 | 276 | 31 | 9.999998e-01 |\n",
       "\n"
      ],
      "text/plain": [
       "   variable mean_min_depth no_of_nodes accuracy_decrease gini_decrease\n",
       "1  bicy     4.134628       425         -0.0046061638     1.643574     \n",
       "2  boat     4.263260       365          0.0013354812     1.487702     \n",
       "3  cart     4.281990       374          0.0009348037     1.454698     \n",
       "4  cgdp     3.425434       499          0.0061484588     2.470309     \n",
       "5  cotw     4.046015       403          0.0006264545     1.632549     \n",
       "6  land     3.699541       456          0.0064094461     2.060542     \n",
       "7  lita     3.900010       352          0.0076732424     1.950139     \n",
       "8  lity     4.387663       300          0.0054550747     1.469592     \n",
       "9  mcyc     3.821990       460          0.0017497253     2.048831     \n",
       "10 moru     2.204082       673          0.0696283488     6.883191     \n",
       "11 pcar     2.591505       651          0.0473198021     5.320455     \n",
       "12 popd     3.625087       508          0.0055848620     2.389826     \n",
       "13 ppfg     4.058163       430         -0.0029922573     1.840806     \n",
       "14 prec     4.102005       406          0.0005290284     1.699857     \n",
       "15 rifr     3.292173       532          0.0041430722     2.567105     \n",
       "16 tpop     3.092653       551          0.0144850997     3.308536     \n",
       "17 upop     2.878500       591          0.0169838441     3.618926     \n",
       "18 wigc     3.888592       362          0.0121584181     2.099278     \n",
       "   no_of_trees times_a_root p_value     \n",
       "1  289         14           9.692080e-01\n",
       "2  261         18           9.999995e-01\n",
       "3  262         15           9.999952e-01\n",
       "4  327         28           4.705692e-02\n",
       "5  281         16           9.984574e-01\n",
       "6  302         24           6.417211e-01\n",
       "7  254         35           1.000000e+00\n",
       "8  234         23           1.000000e+00\n",
       "9  302         20           5.679228e-01\n",
       "10 392         58           2.429467e-21\n",
       "11 377         43           1.202637e-17\n",
       "12 319         18           1.815877e-02\n",
       "13 292         14           9.478196e-01\n",
       "14 275         19           9.975185e-01\n",
       "15 338         33           6.868264e-04\n",
       "16 352         40           2.399760e-05\n",
       "17 358         51           2.368424e-09\n",
       "18 276         31           9.999998e-01"
      ]
     },
     "metadata": {},
     "output_type": "display_data"
    }
   ],
   "source": [
    "importance_frame <- measure_importance(rf.water)\n",
    "save(importance_frame, file = \"importance_frame.rda\")\n",
    "load(\"importance_frame.rda\")\n",
    "importance_frame"
   ]
  },
  {
   "cell_type": "markdown",
   "metadata": {},
   "source": [
    "accuracy_decrease (classification) – mean decrease of prediction accuracy after Xj is permuted,\n",
    "\n",
    "gini_decrease (classification) – mean decrease in the Gini index of node impurity (i.e. increase of node purity) by splits on Xj,\n",
    "\n",
    "mse_increase (regression) – mean increase of mean squared error after Xj is permuted,\n",
    "\n",
    "node_purity_increase (regression) – mean node purity increase by splits on Xj, as measured by the decrease in sum of squares,\n",
    "\n",
    "mean_minimal_depth – mean minimal depth calculated in one of three ways specified by the parameter mean_sample,\n",
    "\n",
    "no_of_trees – total number of trees in which a split on Xj occurs,\n",
    "\n",
    "no_of_nodes – total number of nodes that use Xj for splitting (it is usually equal to no_of_trees if trees are shallow),\n",
    "\n",
    "times_a_root – total number of trees in which Xj is used for splitting the root node (i.e., the whole sample is divided into two based on the value of Xj),\n",
    "\n",
    "p_value – p-value for the one-sided binomial test using the following distribution:"
   ]
  },
  {
   "cell_type": "code",
   "execution_count": 98,
   "metadata": {},
   "outputs": [
    {
     "data": {
      "image/png": "[encoded data removed]",
      "text/plain": [
       "plot without title"
      ]
     },
     "metadata": {
      "image/png": {
       "height": 420,
       "width": 420
      }
     },
     "output_type": "display_data"
    }
   ],
   "source": [
    "plot_multi_way_importance(importance_frame, size_measure = \"no_of_nodes\")"
   ]
  },
  {
   "cell_type": "code",
   "execution_count": 99,
   "metadata": {},
   "outputs": [
    {
     "data": {
      "image/png": "[encoded data removed]",
      "text/plain": [
       "plot without title"
      ]
     },
     "metadata": {
      "image/png": {
       "height": 420,
       "width": 420
      }
     },
     "output_type": "display_data"
    }
   ],
   "source": [
    "plot_importance_ggpairs(importance_frame)"
   ]
  },
  {
   "cell_type": "markdown",
   "metadata": {},
   "source": [
    "We can see that all depicted measures are highly correlated (of course the correlation of any measure with mean minimal depth is negative as the latter is lowest for best variables), but some less than others. Moreover, regardless of which measures we compare, there always seem to be two points that stand out and these most likely correspond to lstat and rm (to now for sure we could just examine the importance_frame)."
   ]
  },
  {
   "cell_type": "code",
   "execution_count": 100,
   "metadata": {},
   "outputs": [
    {
     "name": "stderr",
     "output_type": "stream",
     "text": [
      "`geom_smooth()` using formula 'y ~ x'\n",
      "\n",
      "`geom_smooth()` using formula 'y ~ x'\n",
      "\n",
      "`geom_smooth()` using formula 'y ~ x'\n",
      "\n",
      "`geom_smooth()` using formula 'y ~ x'\n",
      "\n",
      "`geom_smooth()` using formula 'y ~ x'\n",
      "\n",
      "`geom_smooth()` using formula 'y ~ x'\n",
      "\n",
      "`geom_smooth()` using formula 'y ~ x'\n",
      "\n",
      "`geom_smooth()` using formula 'y ~ x'\n",
      "\n",
      "`geom_smooth()` using formula 'y ~ x'\n",
      "\n",
      "`geom_smooth()` using formula 'y ~ x'\n",
      "\n"
     ]
    },
    {
     "data": {
      "image/png": "[encoded data removed]",
      "text/plain": [
       "plot without title"
      ]
     },
     "metadata": {
      "image/png": {
       "height": 420,
       "width": 420
      }
     },
     "output_type": "display_data"
    }
   ],
   "source": [
    "plot_importance_rankings(importance_frame)"
   ]
  },
  {
   "cell_type": "markdown",
   "metadata": {},
   "source": [
    "The above density estimates show that skewness was eliminated for all of our importance measures (this is not always the case, e.g., when ties in rankings are frequent, and this is likely for discrete importance measures such as times_a_root, then the distribution of the ranking will also be skewed)."
   ]
  },
  {
   "cell_type": "markdown",
   "metadata": {},
   "source": [
    "# Variable interactions"
   ]
  },
  {
   "cell_type": "code",
   "execution_count": 101,
   "metadata": {},
   "outputs": [],
   "source": [
    "# (vars <- important_variables(forest, k = 5, measures = c(\"mean_min_depth\", \"no_of_trees\"))) # gives the same result as below but takes longer\n",
    "vars <- important_variables(importance_frame, k = 5, measures = c(\"mean_min_depth\", \"no_of_trees\"))"
   ]
  },
  {
   "cell_type": "code",
   "execution_count": 102,
   "metadata": {},
   "outputs": [
    {
     "data": {
      "text/html": [
       "<table class=\"dataframe\">\n",
       "<caption>A data.frame: 6 × 6</caption>\n",
       "<thead>\n",
       "\t<tr><th></th><th scope=col>variable</th><th scope=col>root_variable</th><th scope=col>mean_min_depth</th><th scope=col>occurrences</th><th scope=col>interaction</th><th scope=col>uncond_mean_min_depth</th></tr>\n",
       "\t<tr><th></th><th scope=col>&lt;chr&gt;</th><th scope=col>&lt;fct&gt;</th><th scope=col>&lt;dbl&gt;</th><th scope=col>&lt;int&gt;</th><th scope=col>&lt;chr&gt;</th><th scope=col>&lt;dbl&gt;</th></tr>\n",
       "</thead>\n",
       "<tbody>\n",
       "\t<tr><th scope=row>58</th><td>tpop</td><td>pcar</td><td>1.510870</td><td>184</td><td>pcar:tpop</td><td>2.976456</td></tr>\n",
       "\t<tr><th scope=row>38</th><td>mcyc</td><td>pcar</td><td>1.675057</td><td>177</td><td>pcar:mcyc</td><td>2.606684</td></tr>\n",
       "\t<tr><th scope=row>3</th><td>bicy</td><td>pcar</td><td>1.618707</td><td>175</td><td>pcar:bicy</td><td>3.383509</td></tr>\n",
       "\t<tr><th scope=row>63</th><td>upop</td><td>pcar</td><td>1.801201</td><td>170</td><td>pcar:upop</td><td>2.770737</td></tr>\n",
       "\t<tr><th scope=row>43</th><td>pcar</td><td>pcar</td><td>1.909611</td><td>167</td><td>pcar:pcar</td><td>2.489035</td></tr>\n",
       "\t<tr><th scope=row>23</th><td>land</td><td>pcar</td><td>1.889588</td><td>166</td><td>pcar:land</td><td>3.341772</td></tr>\n",
       "</tbody>\n",
       "</table>\n"
      ],
      "text/latex": [
       "A data.frame: 6 × 6\n",
       "\\begin{tabular}{r|llllll}\n",
       "  & variable & root\\_variable & mean\\_min\\_depth & occurrences & interaction & uncond\\_mean\\_min\\_depth\\\\\n",
       "  & <chr> & <fct> & <dbl> & <int> & <chr> & <dbl>\\\\\n",
       "\\hline\n",
       "\t58 & tpop & pcar & 1.510870 & 184 & pcar:tpop & 2.976456\\\\\n",
       "\t38 & mcyc & pcar & 1.675057 & 177 & pcar:mcyc & 2.606684\\\\\n",
       "\t3 & bicy & pcar & 1.618707 & 175 & pcar:bicy & 3.383509\\\\\n",
       "\t63 & upop & pcar & 1.801201 & 170 & pcar:upop & 2.770737\\\\\n",
       "\t43 & pcar & pcar & 1.909611 & 167 & pcar:pcar & 2.489035\\\\\n",
       "\t23 & land & pcar & 1.889588 & 166 & pcar:land & 3.341772\\\\\n",
       "\\end{tabular}\n"
      ],
      "text/markdown": [
       "\n",
       "A data.frame: 6 × 6\n",
       "\n",
       "| <!--/--> | variable &lt;chr&gt; | root_variable &lt;fct&gt; | mean_min_depth &lt;dbl&gt; | occurrences &lt;int&gt; | interaction &lt;chr&gt; | uncond_mean_min_depth &lt;dbl&gt; |\n",
       "|---|---|---|---|---|---|---|\n",
       "| 58 | tpop | pcar | 1.510870 | 184 | pcar:tpop | 2.976456 |\n",
       "| 38 | mcyc | pcar | 1.675057 | 177 | pcar:mcyc | 2.606684 |\n",
       "| 3 | bicy | pcar | 1.618707 | 175 | pcar:bicy | 3.383509 |\n",
       "| 63 | upop | pcar | 1.801201 | 170 | pcar:upop | 2.770737 |\n",
       "| 43 | pcar | pcar | 1.909611 | 167 | pcar:pcar | 2.489035 |\n",
       "| 23 | land | pcar | 1.889588 | 166 | pcar:land | 3.341772 |\n",
       "\n"
      ],
      "text/plain": [
       "   variable root_variable mean_min_depth occurrences interaction\n",
       "58 tpop     pcar          1.510870       184         pcar:tpop  \n",
       "38 mcyc     pcar          1.675057       177         pcar:mcyc  \n",
       "3  bicy     pcar          1.618707       175         pcar:bicy  \n",
       "63 upop     pcar          1.801201       170         pcar:upop  \n",
       "43 pcar     pcar          1.909611       167         pcar:pcar  \n",
       "23 land     pcar          1.889588       166         pcar:land  \n",
       "   uncond_mean_min_depth\n",
       "58 2.976456             \n",
       "38 2.606684             \n",
       "3  3.383509             \n",
       "63 2.770737             \n",
       "43 2.489035             \n",
       "23 3.341772             "
      ]
     },
     "metadata": {},
     "output_type": "display_data"
    }
   ],
   "source": [
    "#interactions_frame <- min_depth_interactions(rf.water, vars)\n",
    "#save(interactions_frame, file = \"interactions_frame.rda\")\n",
    "load(\"interactions_frame.rda\")\n",
    "head(interactions_frame[order(interactions_frame$occurrences, decreasing = TRUE), ])"
   ]
  },
  {
   "cell_type": "code",
   "execution_count": 103,
   "metadata": {},
   "outputs": [
    {
     "data": {
      "image/png": "[encoded data removed]",
      "text/plain": [
       "plot without title"
      ]
     },
     "metadata": {
      "image/png": {
       "height": 420,
       "width": 420
      }
     },
     "output_type": "display_data"
    }
   ],
   "source": [
    "plot_min_depth_interactions(interactions_frame)"
   ]
  },
  {
   "cell_type": "markdown",
   "metadata": {},
   "source": [
    "Note that the interactions are ordered by decreasing number of occurrences – the most frequent one, pcar:tpop, is also the one with minimal mean conditional minimal depth. Remarkably, the unconditional mean minimal depth of pcar in the forest is almost equal to its mean minimal depth across maximal subtrees with tpop as the root variable."
   ]
  },
  {
   "cell_type": "code",
   "execution_count": 104,
   "metadata": {},
   "outputs": [
    {
     "data": {
      "image/png": "[encoded data removed]",
      "text/plain": [
       "plot without title"
      ]
     },
     "metadata": {
      "image/png": {
       "height": 420,
       "width": 420
      }
     },
     "output_type": "display_data"
    }
   ],
   "source": [
    "#interactions_frame <- min_depth_interactions(rf.water, vars, mean_sample = \"relevant_trees\", uncond_mean_sample = \"relevant_trees\")\n",
    "#save(interactions_frame, file = \"interactions_frame_relevant.rda\")\n",
    "load(\"interactions_frame_relevant.rda\")\n",
    "plot_min_depth_interactions(interactions_frame)"
   ]
  },
  {
   "cell_type": "markdown",
   "metadata": {},
   "source": [
    "Comparing this plot with the previous one we see that removing penalization of missing values lowers the mean conditional minimal depth of all interactions except the most frequent one."
   ]
  },
  {
   "cell_type": "markdown",
   "metadata": {},
   "source": [
    "# Confusion Matrix"
   ]
  },
  {
   "cell_type": "markdown",
   "metadata": {},
   "source": [
    "df$pred <- predict(rf.water , df)\n",
    "df$pred <- as.factor(df$pred)\n",
    "confusionMatrix(df$pred, df$clusters)"
   ]
  },
  {
   "cell_type": "markdown",
   "metadata": {},
   "source": [
    "pred <- predict(object = rf.water,\n",
    "            newdata = df,\n",
    "            type = \"prob\")\n",
    "for (i in 1:5) {\n",
    "auc <-    auc(actual = df$clusters, \n",
    "    predicted = pred[,i])\n",
    "print(auc(actual = df$clusters, \n",
    "    predicted = pred[,i]))\n",
    "    }"
   ]
  },
  {
   "cell_type": "markdown",
   "metadata": {},
   "source": [
    "AUC is intended to determine the degree of separability, or the ability to correct predict class. The higher the AUC the better. 1 would be perfect, and .5 would be random."
   ]
  }
 ],
 "metadata": {
  "kernelspec": {
   "display_name": "R",
   "language": "R",
   "name": "ir"
  },
  "language_info": {
   "codemirror_mode": "r",
   "file_extension": ".r",
   "mimetype": "text/x-r-source",
   "name": "R",
   "pygments_lexer": "r",
   "version": "4.0.2"
  }
 },
 "nbformat": 4,
 "nbformat_minor": 4
}
