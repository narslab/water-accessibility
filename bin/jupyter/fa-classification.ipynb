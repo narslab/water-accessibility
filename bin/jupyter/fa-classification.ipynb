{
 "cells": [
  {
   "cell_type": "code",
   "execution_count": 246,
   "metadata": {},
   "outputs": [
    {
     "name": "stderr",
     "output_type": "stream",
     "text": [
      "Installing package into 'C:/Users/hichul/Documents/R/win-library/4.0'\n",
      "(as 'lib' is unspecified)\n",
      "\n"
     ]
    },
    {
     "name": "stdout",
     "output_type": "stream",
     "text": [
      "package 'Metrics' successfully unpacked and MD5 sums checked\n",
      "\n",
      "The downloaded binary packages are in\n",
      "\tC:\\Users\\hichul\\AppData\\Local\\Temp\\RtmpOgRWUs\\downloaded_packages\n"
     ]
    },
    {
     "name": "stderr",
     "output_type": "stream",
     "text": [
      "Warning message:\n",
      "\"package 'Metrics' was built under R version 4.0.4\"\n",
      "\n",
      "Attaching package: 'Metrics'\n",
      "\n",
      "\n",
      "The following objects are masked from 'package:caret':\n",
      "\n",
      "    precision, recall\n",
      "\n",
      "\n"
     ]
    }
   ],
   "source": [
    "#install.packages('randomForest')\n",
    "library(readxl)\n",
    "library(randomForest)\n",
    "library(readxl)\n",
    "library(tidyverse)\n",
    "#install.packages('dplyr')\n",
    "library(dplyr)\n",
    "#install.packages('caret')\n",
    "library(Rcpp)\n",
    "library(caret)\n",
    "library(rpart)\n",
    "#install.packages('tree')\n",
    "library(tree)\n",
    "#install.packages('multcomp')\n",
    "library(multcomp)\n",
    "#install.packages('party')\n",
    "library(party)\n",
    "library(tree)\n",
    "install.packages('Metrics')\n",
    "library(Metrics)\n"
   ]
  },
  {
   "cell_type": "markdown",
   "metadata": {},
   "source": [
    "# FA (weighted) Classifcation"
   ]
  },
  {
   "cell_type": "code",
   "execution_count": 208,
   "metadata": {},
   "outputs": [],
   "source": [
    "df.wa = read_excel( \"../../results/df-water-access.xlsx\" ,sheet=1)\n",
    "df.exp =read_excel(\"../../results/df-water-explore.xlsx\" ,sheet=1)\n",
    "df.cluster = read_excel(\"../../results/df-fa-cluster-rank.xlsx\" ,sheet=1)\n",
    "df.wb = read_excel(\"../../results/df-wb.xlsx\" ,sheet=1 )\n",
    "df.exp$clusters <- as.factor(df.cluster$clusters)\n"
   ]
  },
  {
   "cell_type": "code",
   "execution_count": 209,
   "metadata": {},
   "outputs": [],
   "source": [
    "df <- merge(x = df.exp,\n",
    "              y = df.wb,\n",
    "              by = c(\"Country\"))\n",
    "df <- df[, c(1:8,11:19)]"
   ]
  },
  {
   "cell_type": "markdown",
   "metadata": {},
   "source": [
    "ReScaling in Billions for GDP"
   ]
  },
  {
   "cell_type": "code",
   "execution_count": 210,
   "metadata": {},
   "outputs": [],
   "source": [
    "df$cgdp <- paste(format(round(df$cgdp / 1e9, 1), trim = TRUE))\n"
   ]
  },
  {
   "cell_type": "code",
   "execution_count": 211,
   "metadata": {},
   "outputs": [
    {
     "data": {
      "text/html": [
       "<table class=\"dataframe\">\n",
       "<caption>A data.frame: 6 × 17</caption>\n",
       "<thead>\n",
       "\t<tr><th></th><th scope=col>Country</th><th scope=col>bicy</th><th scope=col>cart</th><th scope=col>mcyc</th><th scope=col>pcar</th><th scope=col>boat</th><th scope=col>wigc</th><th scope=col>clusters</th><th scope=col>cgdp</th><th scope=col>tpop</th><th scope=col>upop</th><th scope=col>popd</th><th scope=col>land</th><th scope=col>lita</th><th scope=col>lity</th><th scope=col>mori</th><th scope=col>prec</th></tr>\n",
       "\t<tr><th></th><th scope=col>&lt;chr&gt;</th><th scope=col>&lt;dbl&gt;</th><th scope=col>&lt;dbl&gt;</th><th scope=col>&lt;dbl&gt;</th><th scope=col>&lt;dbl&gt;</th><th scope=col>&lt;dbl&gt;</th><th scope=col>&lt;dbl&gt;</th><th scope=col>&lt;fct&gt;</th><th scope=col>&lt;chr&gt;</th><th scope=col>&lt;chr&gt;</th><th scope=col>&lt;dbl&gt;</th><th scope=col>&lt;dbl&gt;</th><th scope=col>&lt;chr&gt;</th><th scope=col>&lt;dbl&gt;</th><th scope=col>&lt;dbl&gt;</th><th scope=col>&lt;dbl&gt;</th><th scope=col>&lt;dbl&gt;</th></tr>\n",
       "</thead>\n",
       "<tbody>\n",
       "\t<tr><th scope=row>1</th><td>Afghanistan</td><td>30.0</td><td>5.8</td><td>35.2</td><td>11.8</td><td>0.0</td><td>0.1</td><td>1</td><td>18.4 </td><td>37.2 </td><td>25.495</td><td>  56.93776</td><td>652.9 </td><td>43.01972</td><td>0.75933</td><td>62.5</td><td> 327</td></tr>\n",
       "\t<tr><th scope=row>2</th><td>Albania    </td><td>26.4</td><td>3.2</td><td> 9.6</td><td>37.0</td><td>0.7</td><td>0.1</td><td>2</td><td>15.1 </td><td>2.9  </td><td>60.319</td><td> 104.61226</td><td>27.4  </td><td>98.14115</td><td>1.00582</td><td> 9.5</td><td>1485</td></tr>\n",
       "\t<tr><th scope=row>3</th><td>Angola     </td><td> 4.6</td><td>1.3</td><td>17.8</td><td>10.9</td><td>0.4</td><td>0.3</td><td>1</td><td>101.4</td><td>30.8 </td><td>65.514</td><td>  24.71305</td><td>1246.7</td><td> 0.00000</td><td>0.00000</td><td>77.7</td><td>1010</td></tr>\n",
       "\t<tr><th scope=row>4</th><td>Armenia    </td><td> 8.6</td><td>0.4</td><td> 0.2</td><td>39.2</td><td>0.3</td><td>0.1</td><td>2</td><td>12.5 </td><td>3.0  </td><td>63.149</td><td> 103.68022</td><td>28.5  </td><td> 0.00000</td><td>0.00000</td><td>12.4</td><td> 562</td></tr>\n",
       "\t<tr><th scope=row>5</th><td>Azerbaijan </td><td> 6.9</td><td>3.3</td><td> 1.1</td><td>20.4</td><td>0.1</td><td>0.0</td><td>3</td><td>47.1 </td><td>9.9  </td><td>55.680</td><td> 120.23432</td><td>82.7  </td><td> 0.00000</td><td>0.00000</td><td>21.6</td><td> 447</td></tr>\n",
       "\t<tr><th scope=row>6</th><td>Bangladesh </td><td>25.1</td><td>0.0</td><td> 6.4</td><td> 0.8</td><td>0.0</td><td>0.3</td><td>4</td><td>274.0</td><td>161.4</td><td>36.632</td><td>1239.57931</td><td>130.2 </td><td>73.91220</td><td>1.03276</td><td>32.3</td><td>2666</td></tr>\n",
       "</tbody>\n",
       "</table>\n"
      ],
      "text/latex": [
       "A data.frame: 6 × 17\n",
       "\\begin{tabular}{r|lllllllllllllllll}\n",
       "  & Country & bicy & cart & mcyc & pcar & boat & wigc & clusters & cgdp & tpop & upop & popd & land & lita & lity & mori & prec\\\\\n",
       "  & <chr> & <dbl> & <dbl> & <dbl> & <dbl> & <dbl> & <dbl> & <fct> & <chr> & <chr> & <dbl> & <dbl> & <chr> & <dbl> & <dbl> & <dbl> & <dbl>\\\\\n",
       "\\hline\n",
       "\t1 & Afghanistan & 30.0 & 5.8 & 35.2 & 11.8 & 0.0 & 0.1 & 1 & 18.4  & 37.2  & 25.495 &   56.93776 & 652.9  & 43.01972 & 0.75933 & 62.5 &  327\\\\\n",
       "\t2 & Albania     & 26.4 & 3.2 &  9.6 & 37.0 & 0.7 & 0.1 & 2 & 15.1  & 2.9   & 60.319 &  104.61226 & 27.4   & 98.14115 & 1.00582 &  9.5 & 1485\\\\\n",
       "\t3 & Angola      &  4.6 & 1.3 & 17.8 & 10.9 & 0.4 & 0.3 & 1 & 101.4 & 30.8  & 65.514 &   24.71305 & 1246.7 &  0.00000 & 0.00000 & 77.7 & 1010\\\\\n",
       "\t4 & Armenia     &  8.6 & 0.4 &  0.2 & 39.2 & 0.3 & 0.1 & 2 & 12.5  & 3.0   & 63.149 &  103.68022 & 28.5   &  0.00000 & 0.00000 & 12.4 &  562\\\\\n",
       "\t5 & Azerbaijan  &  6.9 & 3.3 &  1.1 & 20.4 & 0.1 & 0.0 & 3 & 47.1  & 9.9   & 55.680 &  120.23432 & 82.7   &  0.00000 & 0.00000 & 21.6 &  447\\\\\n",
       "\t6 & Bangladesh  & 25.1 & 0.0 &  6.4 &  0.8 & 0.0 & 0.3 & 4 & 274.0 & 161.4 & 36.632 & 1239.57931 & 130.2  & 73.91220 & 1.03276 & 32.3 & 2666\\\\\n",
       "\\end{tabular}\n"
      ],
      "text/markdown": [
       "\n",
       "A data.frame: 6 × 17\n",
       "\n",
       "| <!--/--> | Country &lt;chr&gt; | bicy &lt;dbl&gt; | cart &lt;dbl&gt; | mcyc &lt;dbl&gt; | pcar &lt;dbl&gt; | boat &lt;dbl&gt; | wigc &lt;dbl&gt; | clusters &lt;fct&gt; | cgdp &lt;chr&gt; | tpop &lt;chr&gt; | upop &lt;dbl&gt; | popd &lt;dbl&gt; | land &lt;chr&gt; | lita &lt;dbl&gt; | lity &lt;dbl&gt; | mori &lt;dbl&gt; | prec &lt;dbl&gt; |\n",
       "|---|---|---|---|---|---|---|---|---|---|---|---|---|---|---|---|---|---|\n",
       "| 1 | Afghanistan | 30.0 | 5.8 | 35.2 | 11.8 | 0.0 | 0.1 | 1 | 18.4  | 37.2  | 25.495 |   56.93776 | 652.9  | 43.01972 | 0.75933 | 62.5 |  327 |\n",
       "| 2 | Albania     | 26.4 | 3.2 |  9.6 | 37.0 | 0.7 | 0.1 | 2 | 15.1  | 2.9   | 60.319 |  104.61226 | 27.4   | 98.14115 | 1.00582 |  9.5 | 1485 |\n",
       "| 3 | Angola      |  4.6 | 1.3 | 17.8 | 10.9 | 0.4 | 0.3 | 1 | 101.4 | 30.8  | 65.514 |   24.71305 | 1246.7 |  0.00000 | 0.00000 | 77.7 | 1010 |\n",
       "| 4 | Armenia     |  8.6 | 0.4 |  0.2 | 39.2 | 0.3 | 0.1 | 2 | 12.5  | 3.0   | 63.149 |  103.68022 | 28.5   |  0.00000 | 0.00000 | 12.4 |  562 |\n",
       "| 5 | Azerbaijan  |  6.9 | 3.3 |  1.1 | 20.4 | 0.1 | 0.0 | 3 | 47.1  | 9.9   | 55.680 |  120.23432 | 82.7   |  0.00000 | 0.00000 | 21.6 |  447 |\n",
       "| 6 | Bangladesh  | 25.1 | 0.0 |  6.4 |  0.8 | 0.0 | 0.3 | 4 | 274.0 | 161.4 | 36.632 | 1239.57931 | 130.2  | 73.91220 | 1.03276 | 32.3 | 2666 |\n",
       "\n"
      ],
      "text/plain": [
       "  Country     bicy cart mcyc pcar boat wigc clusters cgdp  tpop  upop  \n",
       "1 Afghanistan 30.0 5.8  35.2 11.8 0.0  0.1  1        18.4  37.2  25.495\n",
       "2 Albania     26.4 3.2   9.6 37.0 0.7  0.1  2        15.1  2.9   60.319\n",
       "3 Angola       4.6 1.3  17.8 10.9 0.4  0.3  1        101.4 30.8  65.514\n",
       "4 Armenia      8.6 0.4   0.2 39.2 0.3  0.1  2        12.5  3.0   63.149\n",
       "5 Azerbaijan   6.9 3.3   1.1 20.4 0.1  0.0  3        47.1  9.9   55.680\n",
       "6 Bangladesh  25.1 0.0   6.4  0.8 0.0  0.3  4        274.0 161.4 36.632\n",
       "  popd       land   lita     lity    mori prec\n",
       "1   56.93776 652.9  43.01972 0.75933 62.5  327\n",
       "2  104.61226 27.4   98.14115 1.00582  9.5 1485\n",
       "3   24.71305 1246.7  0.00000 0.00000 77.7 1010\n",
       "4  103.68022 28.5    0.00000 0.00000 12.4  562\n",
       "5  120.23432 82.7    0.00000 0.00000 21.6  447\n",
       "6 1239.57931 130.2  73.91220 1.03276 32.3 2666"
      ]
     },
     "metadata": {},
     "output_type": "display_data"
    }
   ],
   "source": [
    "df$tpop <- paste(format(round(df$tpop / 1e6, 1), trim = TRUE)) # tpop in millions\n",
    "df$land <- paste(format(round(df$land / 1e3, 1), trim = TRUE)) # land in thousands (sq. km)\n"
   ]
  },
  {
   "cell_type": "code",
   "execution_count": 212,
   "metadata": {},
   "outputs": [
    {
     "data": {
      "text/html": [
       "<table class=\"dataframe\">\n",
       "<caption>A data.frame: 6 × 17</caption>\n",
       "<thead>\n",
       "\t<tr><th></th><th scope=col>Country</th><th scope=col>bicy</th><th scope=col>cart</th><th scope=col>mcyc</th><th scope=col>pcar</th><th scope=col>boat</th><th scope=col>wigc</th><th scope=col>clusters</th><th scope=col>cgdp</th><th scope=col>tpop</th><th scope=col>upop</th><th scope=col>popd</th><th scope=col>land</th><th scope=col>lita</th><th scope=col>lity</th><th scope=col>mori</th><th scope=col>prec</th></tr>\n",
       "\t<tr><th></th><th scope=col>&lt;chr&gt;</th><th scope=col>&lt;dbl&gt;</th><th scope=col>&lt;dbl&gt;</th><th scope=col>&lt;dbl&gt;</th><th scope=col>&lt;dbl&gt;</th><th scope=col>&lt;dbl&gt;</th><th scope=col>&lt;dbl&gt;</th><th scope=col>&lt;fct&gt;</th><th scope=col>&lt;chr&gt;</th><th scope=col>&lt;chr&gt;</th><th scope=col>&lt;dbl&gt;</th><th scope=col>&lt;dbl&gt;</th><th scope=col>&lt;chr&gt;</th><th scope=col>&lt;dbl&gt;</th><th scope=col>&lt;dbl&gt;</th><th scope=col>&lt;dbl&gt;</th><th scope=col>&lt;chr&gt;</th></tr>\n",
       "</thead>\n",
       "<tbody>\n",
       "\t<tr><th scope=row>1</th><td>Afghanistan</td><td>30.0</td><td>5.8</td><td>35.2</td><td>11.8</td><td>0.0</td><td>0.1</td><td>1</td><td>18.4 </td><td>37.2 </td><td>25.495</td><td>  56.93776</td><td>652.9 </td><td>43.01972</td><td>0.75933</td><td>62.5</td><td>0.3</td></tr>\n",
       "\t<tr><th scope=row>2</th><td>Albania    </td><td>26.4</td><td>3.2</td><td> 9.6</td><td>37.0</td><td>0.7</td><td>0.1</td><td>2</td><td>15.1 </td><td>2.9  </td><td>60.319</td><td> 104.61226</td><td>27.4  </td><td>98.14115</td><td>1.00582</td><td> 9.5</td><td>1.5</td></tr>\n",
       "\t<tr><th scope=row>3</th><td>Angola     </td><td> 4.6</td><td>1.3</td><td>17.8</td><td>10.9</td><td>0.4</td><td>0.3</td><td>1</td><td>101.4</td><td>30.8 </td><td>65.514</td><td>  24.71305</td><td>1246.7</td><td> 0.00000</td><td>0.00000</td><td>77.7</td><td>1.0</td></tr>\n",
       "\t<tr><th scope=row>4</th><td>Armenia    </td><td> 8.6</td><td>0.4</td><td> 0.2</td><td>39.2</td><td>0.3</td><td>0.1</td><td>2</td><td>12.5 </td><td>3.0  </td><td>63.149</td><td> 103.68022</td><td>28.5  </td><td> 0.00000</td><td>0.00000</td><td>12.4</td><td>0.6</td></tr>\n",
       "\t<tr><th scope=row>5</th><td>Azerbaijan </td><td> 6.9</td><td>3.3</td><td> 1.1</td><td>20.4</td><td>0.1</td><td>0.0</td><td>3</td><td>47.1 </td><td>9.9  </td><td>55.680</td><td> 120.23432</td><td>82.7  </td><td> 0.00000</td><td>0.00000</td><td>21.6</td><td>0.4</td></tr>\n",
       "\t<tr><th scope=row>6</th><td>Bangladesh </td><td>25.1</td><td>0.0</td><td> 6.4</td><td> 0.8</td><td>0.0</td><td>0.3</td><td>4</td><td>274.0</td><td>161.4</td><td>36.632</td><td>1239.57931</td><td>130.2 </td><td>73.91220</td><td>1.03276</td><td>32.3</td><td>2.7</td></tr>\n",
       "</tbody>\n",
       "</table>\n"
      ],
      "text/latex": [
       "A data.frame: 6 × 17\n",
       "\\begin{tabular}{r|lllllllllllllllll}\n",
       "  & Country & bicy & cart & mcyc & pcar & boat & wigc & clusters & cgdp & tpop & upop & popd & land & lita & lity & mori & prec\\\\\n",
       "  & <chr> & <dbl> & <dbl> & <dbl> & <dbl> & <dbl> & <dbl> & <fct> & <chr> & <chr> & <dbl> & <dbl> & <chr> & <dbl> & <dbl> & <dbl> & <chr>\\\\\n",
       "\\hline\n",
       "\t1 & Afghanistan & 30.0 & 5.8 & 35.2 & 11.8 & 0.0 & 0.1 & 1 & 18.4  & 37.2  & 25.495 &   56.93776 & 652.9  & 43.01972 & 0.75933 & 62.5 & 0.3\\\\\n",
       "\t2 & Albania     & 26.4 & 3.2 &  9.6 & 37.0 & 0.7 & 0.1 & 2 & 15.1  & 2.9   & 60.319 &  104.61226 & 27.4   & 98.14115 & 1.00582 &  9.5 & 1.5\\\\\n",
       "\t3 & Angola      &  4.6 & 1.3 & 17.8 & 10.9 & 0.4 & 0.3 & 1 & 101.4 & 30.8  & 65.514 &   24.71305 & 1246.7 &  0.00000 & 0.00000 & 77.7 & 1.0\\\\\n",
       "\t4 & Armenia     &  8.6 & 0.4 &  0.2 & 39.2 & 0.3 & 0.1 & 2 & 12.5  & 3.0   & 63.149 &  103.68022 & 28.5   &  0.00000 & 0.00000 & 12.4 & 0.6\\\\\n",
       "\t5 & Azerbaijan  &  6.9 & 3.3 &  1.1 & 20.4 & 0.1 & 0.0 & 3 & 47.1  & 9.9   & 55.680 &  120.23432 & 82.7   &  0.00000 & 0.00000 & 21.6 & 0.4\\\\\n",
       "\t6 & Bangladesh  & 25.1 & 0.0 &  6.4 &  0.8 & 0.0 & 0.3 & 4 & 274.0 & 161.4 & 36.632 & 1239.57931 & 130.2  & 73.91220 & 1.03276 & 32.3 & 2.7\\\\\n",
       "\\end{tabular}\n"
      ],
      "text/markdown": [
       "\n",
       "A data.frame: 6 × 17\n",
       "\n",
       "| <!--/--> | Country &lt;chr&gt; | bicy &lt;dbl&gt; | cart &lt;dbl&gt; | mcyc &lt;dbl&gt; | pcar &lt;dbl&gt; | boat &lt;dbl&gt; | wigc &lt;dbl&gt; | clusters &lt;fct&gt; | cgdp &lt;chr&gt; | tpop &lt;chr&gt; | upop &lt;dbl&gt; | popd &lt;dbl&gt; | land &lt;chr&gt; | lita &lt;dbl&gt; | lity &lt;dbl&gt; | mori &lt;dbl&gt; | prec &lt;chr&gt; |\n",
       "|---|---|---|---|---|---|---|---|---|---|---|---|---|---|---|---|---|---|\n",
       "| 1 | Afghanistan | 30.0 | 5.8 | 35.2 | 11.8 | 0.0 | 0.1 | 1 | 18.4  | 37.2  | 25.495 |   56.93776 | 652.9  | 43.01972 | 0.75933 | 62.5 | 0.3 |\n",
       "| 2 | Albania     | 26.4 | 3.2 |  9.6 | 37.0 | 0.7 | 0.1 | 2 | 15.1  | 2.9   | 60.319 |  104.61226 | 27.4   | 98.14115 | 1.00582 |  9.5 | 1.5 |\n",
       "| 3 | Angola      |  4.6 | 1.3 | 17.8 | 10.9 | 0.4 | 0.3 | 1 | 101.4 | 30.8  | 65.514 |   24.71305 | 1246.7 |  0.00000 | 0.00000 | 77.7 | 1.0 |\n",
       "| 4 | Armenia     |  8.6 | 0.4 |  0.2 | 39.2 | 0.3 | 0.1 | 2 | 12.5  | 3.0   | 63.149 |  103.68022 | 28.5   |  0.00000 | 0.00000 | 12.4 | 0.6 |\n",
       "| 5 | Azerbaijan  |  6.9 | 3.3 |  1.1 | 20.4 | 0.1 | 0.0 | 3 | 47.1  | 9.9   | 55.680 |  120.23432 | 82.7   |  0.00000 | 0.00000 | 21.6 | 0.4 |\n",
       "| 6 | Bangladesh  | 25.1 | 0.0 |  6.4 |  0.8 | 0.0 | 0.3 | 4 | 274.0 | 161.4 | 36.632 | 1239.57931 | 130.2  | 73.91220 | 1.03276 | 32.3 | 2.7 |\n",
       "\n"
      ],
      "text/plain": [
       "  Country     bicy cart mcyc pcar boat wigc clusters cgdp  tpop  upop  \n",
       "1 Afghanistan 30.0 5.8  35.2 11.8 0.0  0.1  1        18.4  37.2  25.495\n",
       "2 Albania     26.4 3.2   9.6 37.0 0.7  0.1  2        15.1  2.9   60.319\n",
       "3 Angola       4.6 1.3  17.8 10.9 0.4  0.3  1        101.4 30.8  65.514\n",
       "4 Armenia      8.6 0.4   0.2 39.2 0.3  0.1  2        12.5  3.0   63.149\n",
       "5 Azerbaijan   6.9 3.3   1.1 20.4 0.1  0.0  3        47.1  9.9   55.680\n",
       "6 Bangladesh  25.1 0.0   6.4  0.8 0.0  0.3  4        274.0 161.4 36.632\n",
       "  popd       land   lita     lity    mori prec\n",
       "1   56.93776 652.9  43.01972 0.75933 62.5 0.3 \n",
       "2  104.61226 27.4   98.14115 1.00582  9.5 1.5 \n",
       "3   24.71305 1246.7  0.00000 0.00000 77.7 1.0 \n",
       "4  103.68022 28.5    0.00000 0.00000 12.4 0.6 \n",
       "5  120.23432 82.7    0.00000 0.00000 21.6 0.4 \n",
       "6 1239.57931 130.2  73.91220 1.03276 32.3 2.7 "
      ]
     },
     "metadata": {},
     "output_type": "display_data"
    }
   ],
   "source": [
    "df$prec <- paste(format(round(df$prec / 1e3, 1), trim = TRUE)) # Preciptiation depth in thousands of mm\n",
    "head(df)"
   ]
  },
  {
   "cell_type": "code",
   "execution_count": 213,
   "metadata": {},
   "outputs": [
    {
     "data": {
      "image/png": "[encoded data removed]",
      "text/plain": [
       "Plot with title \"Histogram of df$cart\""
      ]
     },
     "metadata": {
      "image/png": {
       "height": 420,
       "width": 420
      }
     },
     "output_type": "display_data"
    }
   ],
   "source": [
    "hist(df$cart)"
   ]
  },
  {
   "cell_type": "code",
   "execution_count": 214,
   "metadata": {},
   "outputs": [],
   "source": [
    "tree.wa = tree(clusters ~ . - Country  , data = df)"
   ]
  },
  {
   "cell_type": "code",
   "execution_count": 215,
   "metadata": {},
   "outputs": [
    {
     "data": {
      "text/plain": [
       "\n",
       "Classification tree:\n",
       "tree(formula = clusters ~ . - Country, data = df)\n",
       "Variables actually used in tree construction:\n",
       "[1] \"mori\" \"upop\" \"cart\" \"pcar\" \"tpop\" \"bicy\"\n",
       "Number of terminal nodes:  11 \n",
       "Residual mean deviance:  0.9892 = 61.33 / 62 \n",
       "Misclassification error rate: 0.1781 = 13 / 73 "
      ]
     },
     "metadata": {},
     "output_type": "display_data"
    }
   ],
   "source": [
    "summary(tree.wa) "
   ]
  },
  {
   "cell_type": "code",
   "execution_count": 216,
   "metadata": {},
   "outputs": [
    {
     "data": {
      "image/png": "[encoded data removed]",
      "text/plain": [
       "plot without title"
      ]
     },
     "metadata": {
      "image/png": {
       "height": 420,
       "width": 420
      }
     },
     "output_type": "display_data"
    }
   ],
   "source": [
    "plot(tree.wa)\n",
    "text(tree.wa, pretty = 0) #population density High density for six cluster group."
   ]
  },
  {
   "cell_type": "code",
   "execution_count": 217,
   "metadata": {},
   "outputs": [
    {
     "data": {
      "text/plain": [
       "node), split, n, deviance, yval, (yprob)\n",
       "      * denotes terminal node\n",
       "\n",
       " 1) root 73 221.900 1 ( 0.34247 0.13699 0.19178 0.23288 0.09589 )  \n",
       "   2) mori < 35.45 28  60.560 4 ( 0.00000 0.35714 0.25000 0.39286 0.00000 )  \n",
       "     4) upop < 55.5025 13  17.860 4 ( 0.00000 0.07692 0.15385 0.76923 0.00000 )  \n",
       "       8) cart < 3.6 8   0.000 4 ( 0.00000 0.00000 0.00000 1.00000 0.00000 ) *\n",
       "       9) cart > 3.6 5  10.550 3 ( 0.00000 0.20000 0.40000 0.40000 0.00000 ) *\n",
       "     5) upop > 55.5025 15  25.600 2 ( 0.00000 0.60000 0.33333 0.06667 0.00000 )  \n",
       "      10) mori < 16.7 7   0.000 2 ( 0.00000 1.00000 0.00000 0.00000 0.00000 ) *\n",
       "      11) mori > 16.7 8  14.400 3 ( 0.00000 0.25000 0.62500 0.12500 0.00000 ) *\n",
       "   3) mori > 35.45 45 105.700 1 ( 0.55556 0.00000 0.15556 0.13333 0.15556 )  \n",
       "     6) pcar < 1.7 5   0.000 5 ( 0.00000 0.00000 0.00000 0.00000 1.00000 ) *\n",
       "     7) pcar > 1.7 40  82.650 1 ( 0.62500 0.00000 0.17500 0.15000 0.05000 )  \n",
       "      14) tpop < 16.65 21  49.030 1 ( 0.47619 0.00000 0.33333 0.09524 0.09524 )  \n",
       "        28) mori < 54.5 9  18.050 3 ( 0.11111 0.00000 0.66667 0.11111 0.11111 ) *\n",
       "        29) mori > 54.5 12  20.090 1 ( 0.75000 0.00000 0.08333 0.08333 0.08333 )  \n",
       "          58) bicy < 6.5 5  13.320 1 ( 0.40000 0.00000 0.20000 0.20000 0.20000 ) *\n",
       "          59) bicy > 6.5 7   0.000 1 ( 1.00000 0.00000 0.00000 0.00000 0.00000 ) *\n",
       "      15) tpop > 16.65 19  19.560 1 ( 0.78947 0.00000 0.00000 0.21053 0.00000 )  \n",
       "        30) pcar < 5.8 9   0.000 1 ( 1.00000 0.00000 0.00000 0.00000 0.00000 ) *\n",
       "        31) pcar > 5.8 10  13.460 1 ( 0.60000 0.00000 0.00000 0.40000 0.00000 )  \n",
       "          62) upop < 40.0935 5   5.004 4 ( 0.20000 0.00000 0.00000 0.80000 0.00000 ) *\n",
       "          63) upop > 40.0935 5   0.000 1 ( 1.00000 0.00000 0.00000 0.00000 0.00000 ) *"
      ]
     },
     "metadata": {},
     "output_type": "display_data"
    }
   ],
   "source": [
    "tree.wa"
   ]
  },
  {
   "cell_type": "code",
   "execution_count": 218,
   "metadata": {},
   "outputs": [
    {
     "data": {
      "text/html": [
       "<style>\n",
       ".list-inline {list-style: none; margin:0; padding: 0}\n",
       ".list-inline>li {display: inline-block}\n",
       ".list-inline>li:not(:last-child)::after {content: \"\\00b7\"; padding: 0 .5ex}\n",
       "</style>\n",
       "<ol class=list-inline><li>73</li><li>57</li><li>46</li><li>58</li><li>61</li><li>60</li></ol>\n"
      ],
      "text/latex": [
       "\\begin{enumerate*}\n",
       "\\item 73\n",
       "\\item 57\n",
       "\\item 46\n",
       "\\item 58\n",
       "\\item 61\n",
       "\\item 60\n",
       "\\end{enumerate*}\n"
      ],
      "text/markdown": [
       "1. 73\n",
       "2. 57\n",
       "3. 46\n",
       "4. 58\n",
       "5. 61\n",
       "6. 60\n",
       "\n",
       "\n"
      ],
      "text/plain": [
       "[1] 73 57 46 58 61 60"
      ]
     },
     "metadata": {},
     "output_type": "display_data"
    }
   ],
   "source": [
    "set.seed(101)\n",
    "train = sample(1:nrow(df), 73)\n",
    "head(train)"
   ]
  },
  {
   "cell_type": "code",
   "execution_count": 236,
   "metadata": {},
   "outputs": [
    {
     "name": "stdout",
     "output_type": "stream",
     "text": [
      "\n",
      "Call:\n",
      " randomForest(formula = clusters ~ . - Country, data = df, ntree = 500,      mtry = 2) \n",
      "               Type of random forest: classification\n",
      "                     Number of trees: 500\n",
      "No. of variables tried at each split: 2\n",
      "\n",
      "        OOB estimate of  error rate: 42.47%\n",
      "Confusion matrix:\n",
      "   1 2 3 4 5 class.error\n",
      "1 20 0 4 1 0   0.2000000\n",
      "2  0 6 3 1 0   0.4000000\n",
      "3  4 2 6 1 1   0.5714286\n",
      "4  6 1 0 9 1   0.4705882\n",
      "5  5 0 0 1 1   0.8571429\n"
     ]
    }
   ],
   "source": [
    "rf.water = randomForest(clusters~. -Country, data = df ,ntree=500,mtry=2)\n",
    "print(rf.water)"
   ]
  },
  {
   "cell_type": "markdown",
   "metadata": {},
   "source": [
    "oob.err = double(13)\n",
    "test.err = double(13)\n",
    "for(mtry in 1:13){\n",
    "  fit = randomForest(clusters~. -Country, data = df, subset=train, mtry=mtry, ntree = 350)\n",
    "  oob.err[mtry] = fit$mse[350]\n",
    "  pred = predict(fit, df[-train,])\n",
    "  test.err[mtry] = with(df[-train,], mean( (clusters-pred)^2 ))\n",
    "}"
   ]
  },
  {
   "cell_type": "markdown",
   "metadata": {},
   "source": [
    "matplot(1:mtry, cbind(test.err, oob.err), pch = 23, col = c(\"red\", \"blue\"), type = \"b\", ylab=\"Mean Squared Error\")\n",
    "legend(\"topright\", legend = c(\"OOB\", \"Test\"), pch = 23, col = c(\"red\", \"blue\"))"
   ]
  },
  {
   "cell_type": "code",
   "execution_count": 232,
   "metadata": {},
   "outputs": [
    {
     "data": {
      "text/plain": [
       "                Length Class  Mode     \n",
       "call               5   -none- call     \n",
       "type               1   -none- character\n",
       "predicted         73   factor numeric  \n",
       "err.rate        3000   -none- numeric  \n",
       "confusion         30   -none- numeric  \n",
       "votes            365   matrix numeric  \n",
       "oob.times         73   -none- numeric  \n",
       "classes            5   -none- character\n",
       "importance        15   -none- numeric  \n",
       "importanceSD       0   -none- NULL     \n",
       "localImportance    0   -none- NULL     \n",
       "proximity          0   -none- NULL     \n",
       "ntree              1   -none- numeric  \n",
       "mtry               1   -none- numeric  \n",
       "forest            14   -none- list     \n",
       "y                 73   factor numeric  \n",
       "test               0   -none- NULL     \n",
       "inbag              0   -none- NULL     \n",
       "terms              3   terms  call     "
      ]
     },
     "metadata": {},
     "output_type": "display_data"
    }
   ],
   "source": [
    "summary(rf.water)"
   ]
  },
  {
   "cell_type": "markdown",
   "metadata": {},
   "source": [
    "The MeanDecreaseGini measures the Gini importance = how important the features are over all splits done in the tree/forest - whereas for each individual split the Gini importance indicates how much the Gini criterion = \"unequality/heterogeneity\" was reduced using this split.\n",
    "mori, upop, pcar popd, mcyc important and contributed most to obtaining such splits, so they are considered more important."
   ]
  },
  {
   "cell_type": "code",
   "execution_count": 233,
   "metadata": {},
   "outputs": [
    {
     "data": {
      "text/html": [
       "<table class=\"dataframe\">\n",
       "<caption>A matrix: 15 × 1 of type dbl</caption>\n",
       "<thead>\n",
       "\t<tr><th></th><th scope=col>MeanDecreaseGini</th></tr>\n",
       "</thead>\n",
       "<tbody>\n",
       "\t<tr><th scope=row>bicy</th><td>3.090358</td></tr>\n",
       "\t<tr><th scope=row>cart</th><td>2.534243</td></tr>\n",
       "\t<tr><th scope=row>mcyc</th><td>4.938542</td></tr>\n",
       "\t<tr><th scope=row>pcar</th><td>5.871104</td></tr>\n",
       "\t<tr><th scope=row>boat</th><td>2.339616</td></tr>\n",
       "\t<tr><th scope=row>wigc</th><td>2.066340</td></tr>\n",
       "\t<tr><th scope=row>cgdp</th><td>2.835924</td></tr>\n",
       "\t<tr><th scope=row>tpop</th><td>3.460628</td></tr>\n",
       "\t<tr><th scope=row>upop</th><td>5.282377</td></tr>\n",
       "\t<tr><th scope=row>popd</th><td>4.924798</td></tr>\n",
       "\t<tr><th scope=row>land</th><td>2.947347</td></tr>\n",
       "\t<tr><th scope=row>lita</th><td>1.977629</td></tr>\n",
       "\t<tr><th scope=row>lity</th><td>1.603499</td></tr>\n",
       "\t<tr><th scope=row>mori</th><td>7.688237</td></tr>\n",
       "\t<tr><th scope=row>prec</th><td>3.367067</td></tr>\n",
       "</tbody>\n",
       "</table>\n"
      ],
      "text/latex": [
       "A matrix: 15 × 1 of type dbl\n",
       "\\begin{tabular}{r|l}\n",
       "  & MeanDecreaseGini\\\\\n",
       "\\hline\n",
       "\tbicy & 3.090358\\\\\n",
       "\tcart & 2.534243\\\\\n",
       "\tmcyc & 4.938542\\\\\n",
       "\tpcar & 5.871104\\\\\n",
       "\tboat & 2.339616\\\\\n",
       "\twigc & 2.066340\\\\\n",
       "\tcgdp & 2.835924\\\\\n",
       "\ttpop & 3.460628\\\\\n",
       "\tupop & 5.282377\\\\\n",
       "\tpopd & 4.924798\\\\\n",
       "\tland & 2.947347\\\\\n",
       "\tlita & 1.977629\\\\\n",
       "\tlity & 1.603499\\\\\n",
       "\tmori & 7.688237\\\\\n",
       "\tprec & 3.367067\\\\\n",
       "\\end{tabular}\n"
      ],
      "text/markdown": [
       "\n",
       "A matrix: 15 × 1 of type dbl\n",
       "\n",
       "| <!--/--> | MeanDecreaseGini |\n",
       "|---|---|\n",
       "| bicy | 3.090358 |\n",
       "| cart | 2.534243 |\n",
       "| mcyc | 4.938542 |\n",
       "| pcar | 5.871104 |\n",
       "| boat | 2.339616 |\n",
       "| wigc | 2.066340 |\n",
       "| cgdp | 2.835924 |\n",
       "| tpop | 3.460628 |\n",
       "| upop | 5.282377 |\n",
       "| popd | 4.924798 |\n",
       "| land | 2.947347 |\n",
       "| lita | 1.977629 |\n",
       "| lity | 1.603499 |\n",
       "| mori | 7.688237 |\n",
       "| prec | 3.367067 |\n",
       "\n"
      ],
      "text/plain": [
       "     MeanDecreaseGini\n",
       "bicy 3.090358        \n",
       "cart 2.534243        \n",
       "mcyc 4.938542        \n",
       "pcar 5.871104        \n",
       "boat 2.339616        \n",
       "wigc 2.066340        \n",
       "cgdp 2.835924        \n",
       "tpop 3.460628        \n",
       "upop 5.282377        \n",
       "popd 4.924798        \n",
       "land 2.947347        \n",
       "lita 1.977629        \n",
       "lity 1.603499        \n",
       "mori 7.688237        \n",
       "prec 3.367067        "
      ]
     },
     "metadata": {},
     "output_type": "display_data"
    }
   ],
   "source": [
    "importance(rf.water, sort = TRUE)"
   ]
  },
  {
   "cell_type": "code",
   "execution_count": 234,
   "metadata": {},
   "outputs": [
    {
     "ename": "ERROR",
     "evalue": "Error in xy.coords(x, y, recycle = TRUE, setLab = FALSE): 'x' is a list, but does not have components 'x' and 'y'\n",
     "output_type": "error",
     "traceback": [
      "Error in xy.coords(x, y, recycle = TRUE, setLab = FALSE): 'x' is a list, but does not have components 'x' and 'y'\nTraceback:\n",
      "1. text(rf.water, pretty = 0)",
      "2. text.default(rf.water, pretty = 0)",
      "3. xy.coords(x, y, recycle = TRUE, setLab = FALSE)",
      "4. stop(\"'x' is a list, but does not have components 'x' and 'y'\")"
     ]
    },
    {
     "data": {
      "image/png": "[encoded data removed]",
      "text/plain": [
       "Plot with title \"rf.water\""
      ]
     },
     "metadata": {
      "image/png": {
       "height": 420,
       "width": 420
      }
     },
     "output_type": "display_data"
    }
   ],
   "source": [
    "plot(rf.water)\n",
    "text(rf.water, pretty = 0)"
   ]
  },
  {
   "cell_type": "code",
   "execution_count": 235,
   "metadata": {},
   "outputs": [
    {
     "ename": "ERROR",
     "evalue": "Error in h(simpleError(msg, call)): error in evaluating the argument 'x' in selecting a method for function 'plot': 'list' object cannot be coerced to type 'double'\n",
     "output_type": "error",
     "traceback": [
      "Error in h(simpleError(msg, call)): error in evaluating the argument 'x' in selecting a method for function 'plot': 'list' object cannot be coerced to type 'double'\nTraceback:\n",
      "1. plot(margin(rf.water, df$clusters))",
      "2. margin(rf.water, df$clusters)",
      "3. unit(c(t, r, b, l), unit)",
      "4. .handleSimpleError(function (cond) \n . .Internal(C_tryCatchHelper(addr, 1L, cond)), \"'list' object cannot be coerced to type 'double'\", \n .     base::quote(unit(c(t, r, b, l), unit)))",
      "5. h(simpleError(msg, call))"
     ]
    }
   ],
   "source": [
    "#plot(margin(rf.water ,df$clusters))"
   ]
  },
  {
   "cell_type": "markdown",
   "metadata": {},
   "source": [
    "# Confusion Matrix"
   ]
  },
  {
   "cell_type": "code",
   "execution_count": 238,
   "metadata": {},
   "outputs": [
    {
     "data": {
      "text/plain": [
       "Confusion Matrix and Statistics\n",
       "\n",
       "          Reference\n",
       "Prediction  1  2  3  4  5\n",
       "         1 25  0  0  0  0\n",
       "         2  0 10  0  0  0\n",
       "         3  0  0 14  0  0\n",
       "         4  0  0  0 17  0\n",
       "         5  0  0  0  0  7\n",
       "\n",
       "Overall Statistics\n",
       "                                     \n",
       "               Accuracy : 1          \n",
       "                 95% CI : (0.9507, 1)\n",
       "    No Information Rate : 0.3425     \n",
       "    P-Value [Acc > NIR] : < 2.2e-16  \n",
       "                                     \n",
       "                  Kappa : 1          \n",
       "                                     \n",
       " Mcnemar's Test P-Value : NA         \n",
       "\n",
       "Statistics by Class:\n",
       "\n",
       "                     Class: 1 Class: 2 Class: 3 Class: 4 Class: 5\n",
       "Sensitivity            1.0000    1.000   1.0000   1.0000  1.00000\n",
       "Specificity            1.0000    1.000   1.0000   1.0000  1.00000\n",
       "Pos Pred Value         1.0000    1.000   1.0000   1.0000  1.00000\n",
       "Neg Pred Value         1.0000    1.000   1.0000   1.0000  1.00000\n",
       "Prevalence             0.3425    0.137   0.1918   0.2329  0.09589\n",
       "Detection Rate         0.3425    0.137   0.1918   0.2329  0.09589\n",
       "Detection Prevalence   0.3425    0.137   0.1918   0.2329  0.09589\n",
       "Balanced Accuracy      1.0000    1.000   1.0000   1.0000  1.00000"
      ]
     },
     "metadata": {},
     "output_type": "display_data"
    }
   ],
   "source": [
    "df$pred <- predict(rf.water , df)\n",
    "df$pred <- as.factor(df$pred)\n",
    "confusionMatrix(df$pred, df$clusters)"
   ]
  },
  {
   "cell_type": "code",
   "execution_count": 270,
   "metadata": {},
   "outputs": [
    {
     "name": "stdout",
     "output_type": "stream",
     "text": [
      "[1] 1\n",
      "[1] 0.2141667\n",
      "[1] 0.2554167\n",
      "[1] 0.2779167\n",
      "[1] 0.6170833\n"
     ]
    }
   ],
   "source": [
    "pred <- predict(object = rf.water,\n",
    "            newdata = df,\n",
    "            type = \"prob\")\n",
    "for (i in 1:5) {\n",
    "auc <-    auc(actual = df$clusters, \n",
    "    predicted = pred[,i])\n",
    "print(auc(actual = df$clusters, \n",
    "    predicted = pred[,i]))\n",
    "    }"
   ]
  },
  {
   "cell_type": "markdown",
   "metadata": {},
   "source": [
    "AUC is intended to determine the degree of separability, or the ability to correct predict class. The higher the AUC the better. 1 would be perfect, and .5 would be random."
   ]
  }
 ],
 "metadata": {
  "kernelspec": {
   "display_name": "R",
   "language": "R",
   "name": "ir"
  },
  "language_info": {
   "codemirror_mode": "r",
   "file_extension": ".r",
   "mimetype": "text/x-r-source",
   "name": "R",
   "pygments_lexer": "r",
   "version": "4.0.2"
  }
 },
 "nbformat": 4,
 "nbformat_minor": 4
}
