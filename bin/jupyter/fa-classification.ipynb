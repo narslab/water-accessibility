{
 "cells": [
  {
   "cell_type": "code",
   "execution_count": 37,
   "metadata": {},
   "outputs": [],
   "source": [
    "#install.packages('randomForest')\n",
    "library(readxl)\n",
    "library(randomForest)\n",
    "library(readxl)\n",
    "library(tidyverse)\n",
    "#install.packages('dplyr')\n",
    "library(dplyr)\n",
    "#install.packages('caret')\n",
    "library(Rcpp)\n",
    "library(caret)\n",
    "library(rpart)\n",
    "#install.packages('tree')\n",
    "library(tree)\n",
    "#install.packages('multcomp')\n",
    "library(multcomp)\n",
    "#install.packages('party')\n",
    "library(party)\n",
    "library(tree)\n"
   ]
  },
  {
   "cell_type": "markdown",
   "metadata": {},
   "source": [
    "# FA (weighted) Classifcation"
   ]
  },
  {
   "cell_type": "code",
   "execution_count": 54,
   "metadata": {},
   "outputs": [],
   "source": [
    "df.wa = read_excel( \"../../results/df-water-access.xlsx\" ,sheet=1)\n",
    "df.explore =read_excel( '../../results/df-exp.xlsx' ,sheet=1)\n",
    "df.cluster = read_excel(\"../../results/df-fa-cluster-rank.xlsx\" ,sheet=1)\n",
    "df.wb = read_excel(\"../../results/df-wb.xlsx\" ,sheet=1 )\n",
    "df.explore$clusters <- as.factor(df.cluster$clusters)\n",
    "df <- df.explore"
   ]
  },
  {
   "cell_type": "code",
   "execution_count": 55,
   "metadata": {},
   "outputs": [
    {
     "ename": "ERROR",
     "evalue": "Error in hist.default(df$clusters): 'x' must be numeric\n",
     "output_type": "error",
     "traceback": [
      "Error in hist.default(df$clusters): 'x' must be numeric\nTraceback:\n",
      "1. hist(df$clusters)",
      "2. hist.default(df$clusters)",
      "3. stop(\"'x' must be numeric\")"
     ]
    },
    {
     "data": {
      "image/png": "[encoded data removed]",
      "text/plain": [
       "Plot with title \"Histogram of df$cart\""
      ]
     },
     "metadata": {
      "image/png": {
       "height": 420,
       "width": 420
      }
     },
     "output_type": "display_data"
    }
   ],
   "source": [
    "hist(df$cart)\n",
    "hist(df$clusters)"
   ]
  },
  {
   "cell_type": "code",
   "execution_count": 66,
   "metadata": {},
   "outputs": [],
   "source": [
    "tree.wa = tree(clusters ~ . - Country  , data = df)"
   ]
  },
  {
   "cell_type": "code",
   "execution_count": 67,
   "metadata": {},
   "outputs": [
    {
     "data": {
      "text/plain": [
       "\n",
       "Classification tree:\n",
       "tree(formula = clusters ~ . - Country, data = df)\n",
       "Variables actually used in tree construction:\n",
       "[1] \"mori\" \"popd\" \"mcyc\" \"pcar\" \"bicy\" \"lita\" \"land\"\n",
       "Number of terminal nodes:  10 \n",
       "Residual mean deviance:  1.376 = 86.69 / 63 \n",
       "Misclassification error rate: 0.2466 = 18 / 73 "
      ]
     },
     "metadata": {},
     "output_type": "display_data"
    }
   ],
   "source": [
    "summary(tree.wa) "
   ]
  },
  {
   "cell_type": "code",
   "execution_count": 68,
   "metadata": {},
   "outputs": [
    {
     "data": {
      "image/png": "[encoded data removed]",
      "text/plain": [
       "plot without title"
      ]
     },
     "metadata": {
      "image/png": {
       "height": 420,
       "width": 420
      }
     },
     "output_type": "display_data"
    }
   ],
   "source": [
    "plot(tree.wa)\n",
    "text(tree.wa, pretty = 0) #population density High density for six cluster group."
   ]
  },
  {
   "cell_type": "code",
   "execution_count": 59,
   "metadata": {},
   "outputs": [
    {
     "ename": "ERROR",
     "evalue": "Error in UseMethod(\"importance\"): no applicable method for 'importance' applied to an object of class \"tree\"\n",
     "output_type": "error",
     "traceback": [
      "Error in UseMethod(\"importance\"): no applicable method for 'importance' applied to an object of class \"tree\"\nTraceback:\n",
      "1. importance(tree.wa)"
     ]
    }
   ],
   "source": [
    "importance(tree.wa)"
   ]
  },
  {
   "cell_type": "code",
   "execution_count": 43,
   "metadata": {},
   "outputs": [
    {
     "data": {
      "text/plain": [
       "node), split, n, deviance, yval\n",
       "      * denotes terminal node\n",
       "\n",
       " 1) root 73 186.700 3.178  \n",
       "   2) popd < 106.474 48  89.250 2.625  \n",
       "     4) land < 574215 29  46.690 3.103  \n",
       "       8) popd < 93.1604 24  27.960 3.458  \n",
       "        16) bicy < 29.5 18  12.500 3.167  \n",
       "          32) wigc < 0.35 13   5.692 2.846 *\n",
       "          33) wigc > 0.35 5   2.000 4.000 *\n",
       "        17) bicy > 29.5 6   9.333 4.333 *\n",
       "       9) popd > 93.1604 5   1.200 1.400 *\n",
       "     5) land > 574215 19  25.790 1.895  \n",
       "      10) tpop < 5.16847e+007 14   7.500 1.500  \n",
       "        20) mori < 47.8 5   1.200 2.400 *\n",
       "        21) mori > 47.8 9   0.000 1.000 *\n",
       "      11) tpop > 5.16847e+007 5  10.000 3.000 *\n",
       "   3) popd > 106.474 25  54.560 4.240  \n",
       "     6) mori < 29.85 9  14.000 5.333 *\n",
       "     7) mori > 29.85 16  23.750 3.625  \n",
       "      14) upop < 39.184 10   3.600 4.200 *\n",
       "      15) upop > 39.184 6  11.330 2.667 *"
      ]
     },
     "metadata": {},
     "output_type": "display_data"
    }
   ],
   "source": [
    "tree.wa"
   ]
  },
  {
   "cell_type": "code",
   "execution_count": 79,
   "metadata": {},
   "outputs": [
    {
     "data": {
      "text/html": [
       "<style>\n",
       ".list-inline {list-style: none; margin:0; padding: 0}\n",
       ".list-inline>li {display: inline-block}\n",
       ".list-inline>li:not(:last-child)::after {content: \"\\00b7\"; padding: 0 .5ex}\n",
       "</style>\n",
       "<ol class=list-inline><li>73</li><li>57</li><li>46</li><li>58</li><li>61</li><li>60</li></ol>\n"
      ],
      "text/latex": [
       "\\begin{enumerate*}\n",
       "\\item 73\n",
       "\\item 57\n",
       "\\item 46\n",
       "\\item 58\n",
       "\\item 61\n",
       "\\item 60\n",
       "\\end{enumerate*}\n"
      ],
      "text/markdown": [
       "1. 73\n",
       "2. 57\n",
       "3. 46\n",
       "4. 58\n",
       "5. 61\n",
       "6. 60\n",
       "\n",
       "\n"
      ],
      "text/plain": [
       "[1] 73 57 46 58 61 60"
      ]
     },
     "metadata": {},
     "output_type": "display_data"
    }
   ],
   "source": [
    "set.seed(101)\n",
    "train = sample(1:nrow(df), 73)\n",
    "head(train)"
   ]
  },
  {
   "cell_type": "code",
   "execution_count": 80,
   "metadata": {},
   "outputs": [
    {
     "data": {
      "text/plain": [
       "\n",
       "Call:\n",
       " randomForest(formula = clusters ~ . - Country, data = df, subset = train) \n",
       "               Type of random forest: classification\n",
       "                     Number of trees: 500\n",
       "No. of variables tried at each split: 3\n",
       "\n",
       "        OOB estimate of  error rate: 57.53%\n",
       "Confusion matrix:\n",
       "  1 2  3 4 5 6 class.error\n",
       "1 7 0  5 4 0 0   0.5625000\n",
       "2 0 3  4 0 0 0   0.5714286\n",
       "3 2 1 15 2 0 2   0.3181818\n",
       "4 5 0  3 2 2 1   0.8461538\n",
       "5 2 0  1 1 2 0   0.6666667\n",
       "6 0 2  4 1 0 2   0.7777778"
      ]
     },
     "metadata": {},
     "output_type": "display_data"
    }
   ],
   "source": [
    "rf.water = randomForest(clusters~. -Country, data = df, subset = train)\n",
    "rf.water"
   ]
  },
  {
   "cell_type": "code",
   "execution_count": 81,
   "metadata": {},
   "outputs": [
    {
     "ename": "ERROR",
     "evalue": "Error in oob.err[mtry] <- fit$mse[350]: replacement has length zero\n",
     "output_type": "error",
     "traceback": [
      "Error in oob.err[mtry] <- fit$mse[350]: replacement has length zero\nTraceback:\n"
     ]
    }
   ],
   "source": [
    "oob.err = double(13)\n",
    "test.err = double(13)\n",
    "for(mtry in 1:13){\n",
    "  fit = randomForest(clusters~. -Country, data = df, subset=train, mtry=mtry, ntree = 350)\n",
    "  oob.err[mtry] = fit$mse[350]\n",
    "  pred = predict(fit, df[-train,])\n",
    "  test.err[mtry] = with(df[-train,], mean( (clusters-pred)^2 ))\n",
    "}"
   ]
  },
  {
   "cell_type": "code",
   "execution_count": 78,
   "metadata": {},
   "outputs": [
    {
     "ename": "ERROR",
     "evalue": "Error in matplot(1:mtry, cbind(test.err, oob.err), pch = 23, col = c(\"red\", : 'x' and 'y' must have same number of rows\n",
     "output_type": "error",
     "traceback": [
      "Error in matplot(1:mtry, cbind(test.err, oob.err), pch = 23, col = c(\"red\", : 'x' and 'y' must have same number of rows\nTraceback:\n",
      "1. matplot(1:mtry, cbind(test.err, oob.err), pch = 23, col = c(\"red\", \n .     \"blue\"), type = \"b\", ylab = \"Mean Squared Error\")",
      "2. stop(\"'x' and 'y' must have same number of rows\")"
     ]
    }
   ],
   "source": [
    "matplot(1:mtry, cbind(test.err, oob.err), pch = 23, col = c(\"red\", \"blue\"), type = \"b\", ylab=\"Mean Squared Error\")\n",
    "legend(\"topright\", legend = c(\"OOB\", \"Test\"), pch = 23, col = c(\"red\", \"blue\"))"
   ]
  },
  {
   "cell_type": "code",
   "execution_count": 82,
   "metadata": {},
   "outputs": [
    {
     "data": {
      "text/plain": [
       "                Length Class  Mode     \n",
       "call               4   -none- call     \n",
       "type               1   -none- character\n",
       "predicted         73   factor numeric  \n",
       "err.rate        3500   -none- numeric  \n",
       "confusion         42   -none- numeric  \n",
       "votes            438   matrix numeric  \n",
       "oob.times         73   -none- numeric  \n",
       "classes            6   -none- character\n",
       "importance        14   -none- numeric  \n",
       "importanceSD       0   -none- NULL     \n",
       "localImportance    0   -none- NULL     \n",
       "proximity          0   -none- NULL     \n",
       "ntree              1   -none- numeric  \n",
       "mtry               1   -none- numeric  \n",
       "forest            14   -none- list     \n",
       "y                 73   factor numeric  \n",
       "test               0   -none- NULL     \n",
       "inbag              0   -none- NULL     \n",
       "terms              3   terms  call     "
      ]
     },
     "metadata": {},
     "output_type": "display_data"
    }
   ],
   "source": [
    "summary(rf.water)"
   ]
  },
  {
   "cell_type": "code",
   "execution_count": 83,
   "metadata": {},
   "outputs": [
    {
     "data": {
      "text/html": [
       "<table class=\"dataframe\">\n",
       "<caption>A matrix: 14 × 1 of type dbl</caption>\n",
       "<thead>\n",
       "\t<tr><th></th><th scope=col>MeanDecreaseGini</th></tr>\n",
       "</thead>\n",
       "<tbody>\n",
       "\t<tr><th scope=row>bicy</th><td>3.638402</td></tr>\n",
       "\t<tr><th scope=row>cart</th><td>3.031376</td></tr>\n",
       "\t<tr><th scope=row>mcyc</th><td>4.729427</td></tr>\n",
       "\t<tr><th scope=row>pcar</th><td>5.840664</td></tr>\n",
       "\t<tr><th scope=row>boat</th><td>2.528568</td></tr>\n",
       "\t<tr><th scope=row>wigc</th><td>2.760126</td></tr>\n",
       "\t<tr><th scope=row>cgdp</th><td>3.896986</td></tr>\n",
       "\t<tr><th scope=row>tpop</th><td>4.399770</td></tr>\n",
       "\t<tr><th scope=row>upop</th><td>5.199674</td></tr>\n",
       "\t<tr><th scope=row>popd</th><td>5.039859</td></tr>\n",
       "\t<tr><th scope=row>land</th><td>4.747850</td></tr>\n",
       "\t<tr><th scope=row>lita</th><td>2.232756</td></tr>\n",
       "\t<tr><th scope=row>lity</th><td>1.832787</td></tr>\n",
       "\t<tr><th scope=row>mori</th><td>7.668001</td></tr>\n",
       "</tbody>\n",
       "</table>\n"
      ],
      "text/latex": [
       "A matrix: 14 × 1 of type dbl\n",
       "\\begin{tabular}{r|l}\n",
       "  & MeanDecreaseGini\\\\\n",
       "\\hline\n",
       "\tbicy & 3.638402\\\\\n",
       "\tcart & 3.031376\\\\\n",
       "\tmcyc & 4.729427\\\\\n",
       "\tpcar & 5.840664\\\\\n",
       "\tboat & 2.528568\\\\\n",
       "\twigc & 2.760126\\\\\n",
       "\tcgdp & 3.896986\\\\\n",
       "\ttpop & 4.399770\\\\\n",
       "\tupop & 5.199674\\\\\n",
       "\tpopd & 5.039859\\\\\n",
       "\tland & 4.747850\\\\\n",
       "\tlita & 2.232756\\\\\n",
       "\tlity & 1.832787\\\\\n",
       "\tmori & 7.668001\\\\\n",
       "\\end{tabular}\n"
      ],
      "text/markdown": [
       "\n",
       "A matrix: 14 × 1 of type dbl\n",
       "\n",
       "| <!--/--> | MeanDecreaseGini |\n",
       "|---|---|\n",
       "| bicy | 3.638402 |\n",
       "| cart | 3.031376 |\n",
       "| mcyc | 4.729427 |\n",
       "| pcar | 5.840664 |\n",
       "| boat | 2.528568 |\n",
       "| wigc | 2.760126 |\n",
       "| cgdp | 3.896986 |\n",
       "| tpop | 4.399770 |\n",
       "| upop | 5.199674 |\n",
       "| popd | 5.039859 |\n",
       "| land | 4.747850 |\n",
       "| lita | 2.232756 |\n",
       "| lity | 1.832787 |\n",
       "| mori | 7.668001 |\n",
       "\n"
      ],
      "text/plain": [
       "     MeanDecreaseGini\n",
       "bicy 3.638402        \n",
       "cart 3.031376        \n",
       "mcyc 4.729427        \n",
       "pcar 5.840664        \n",
       "boat 2.528568        \n",
       "wigc 2.760126        \n",
       "cgdp 3.896986        \n",
       "tpop 4.399770        \n",
       "upop 5.199674        \n",
       "popd 5.039859        \n",
       "land 4.747850        \n",
       "lita 2.232756        \n",
       "lity 1.832787        \n",
       "mori 7.668001        "
      ]
     },
     "metadata": {},
     "output_type": "display_data"
    }
   ],
   "source": [
    "importance(rf.water, sort = TRUE)"
   ]
  },
  {
   "cell_type": "code",
   "execution_count": 84,
   "metadata": {},
   "outputs": [
    {
     "ename": "ERROR",
     "evalue": "Error in xy.coords(x, y, recycle = TRUE, setLab = FALSE): 'x' is a list, but does not have components 'x' and 'y'\n",
     "output_type": "error",
     "traceback": [
      "Error in xy.coords(x, y, recycle = TRUE, setLab = FALSE): 'x' is a list, but does not have components 'x' and 'y'\nTraceback:\n",
      "1. text(rf.water, pretty = 0)",
      "2. text.default(rf.water, pretty = 0)",
      "3. xy.coords(x, y, recycle = TRUE, setLab = FALSE)",
      "4. stop(\"'x' is a list, but does not have components 'x' and 'y'\")"
     ]
    },
    {
     "data": {
      "image/png": "[encoded data removed]",
      "text/plain": [
       "Plot with title \"rf.water\""
      ]
     },
     "metadata": {
      "image/png": {
       "height": 420,
       "width": 420
      }
     },
     "output_type": "display_data"
    }
   ],
   "source": [
    "plot(rf.water)\n",
    "text(rf.water, pretty = 0)"
   ]
  },
  {
   "cell_type": "code",
   "execution_count": null,
   "metadata": {},
   "outputs": [],
   "source": []
  }
 ],
 "metadata": {
  "kernelspec": {
   "display_name": "R",
   "language": "R",
   "name": "ir"
  },
  "language_info": {
   "codemirror_mode": "r",
   "file_extension": ".r",
   "mimetype": "text/x-r-source",
   "name": "R",
   "pygments_lexer": "r",
   "version": "4.0.2"
  }
 },
 "nbformat": 4,
 "nbformat_minor": 4
}
