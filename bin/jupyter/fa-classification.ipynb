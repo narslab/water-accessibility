{
 "cells": [
  {
   "cell_type": "code",
   "execution_count": 96,
   "metadata": {},
   "outputs": [
    {
     "name": "stderr",
     "output_type": "stream",
     "text": [
      "Installing package into 'C:/Users/hichul/Documents/R/win-library/4.0'\n",
      "(as 'lib' is unspecified)\n",
      "\n",
      "also installing the dependency 'ranger'\n",
      "\n",
      "\n"
     ]
    },
    {
     "name": "stdout",
     "output_type": "stream",
     "text": [
      "package 'ranger' successfully unpacked and MD5 sums checked\n",
      "package 'randomForestExplainer' successfully unpacked and MD5 sums checked\n",
      "\n",
      "The downloaded binary packages are in\n",
      "\tC:\\Users\\hichul\\AppData\\Local\\Temp\\Rtmpio1VmN\\downloaded_packages\n"
     ]
    },
    {
     "name": "stderr",
     "output_type": "stream",
     "text": [
      "Warning message:\n",
      "\"package 'randomForestExplainer' was built under R version 4.0.4\"\n",
      "Registered S3 method overwritten by 'GGally':\n",
      "  method from   \n",
      "  +.gg   ggplot2\n",
      "\n"
     ]
    }
   ],
   "source": [
    "#install.packages('randomForest')\n",
    "library(readxl)\n",
    "library(randomForest)\n",
    "library(readxl)\n",
    "library(tidyverse)\n",
    "#install.packages('dplyr')\n",
    "library(dplyr)\n",
    "#install.packages('caret')\n",
    "library(Rcpp)\n",
    "library(caret)\n",
    "library(rpart)\n",
    "#install.packages('tree')\n",
    "library(tree)\n",
    "#install.packages('multcomp')\n",
    "library(multcomp)\n",
    "#install.packages('party')\n",
    "library(party)\n",
    "library(tree)\n",
    "#install.packages('Metrics')\n",
    "library(Metrics)\n",
    "#install.packages('reprtree')\n",
    "#devtools::install_github(\"MI2DataLab/randomForestExplainer\")\n",
    "#install.packages('randomForestExplainer')\n",
    "library(randomForestExplainer)\n",
    "\n"
   ]
  },
  {
   "cell_type": "markdown",
   "metadata": {},
   "source": [
    "# FA (weighted) Classifcation"
   ]
  },
  {
   "cell_type": "code",
   "execution_count": 18,
   "metadata": {},
   "outputs": [],
   "source": [
    "df.wa = read_excel( \"../../results/df-water-access.xlsx\" ,sheet=1)\n",
    "df.exp =read_excel(\"../../results/df-water-explore.xlsx\" ,sheet=1)\n",
    "df.cluster = read_excel(\"../../results/df-fa-cluster-rank.xlsx\" ,sheet=1)\n",
    "df.wb = read_excel(\"../../results/df-wb.xlsx\" ,sheet=1 )\n",
    "df.exp$clusters <- as.factor(df.cluster$clusters)\n"
   ]
  },
  {
   "cell_type": "code",
   "execution_count": 36,
   "metadata": {},
   "outputs": [],
   "source": [
    "df <- merge(x = df.exp,\n",
    "              y = df.wb,\n",
    "              by = c(\"Country\"))\n",
    "df <- df[, c(1:8,11:17,19)]"
   ]
  },
  {
   "cell_type": "markdown",
   "metadata": {},
   "source": [
    "ReScaling in Billions for GDP"
   ]
  },
  {
   "cell_type": "code",
   "execution_count": 37,
   "metadata": {},
   "outputs": [],
   "source": [
    "df$cgdp <- paste(format(round(df$cgdp / 1e9, 1), trim = TRUE))\n"
   ]
  },
  {
   "cell_type": "code",
   "execution_count": 38,
   "metadata": {},
   "outputs": [],
   "source": [
    "df$tpop <- paste(format(round(df$tpop / 1e6, 1), trim = TRUE)) # tpop in millions\n",
    "df$land <- paste(format(round(df$land / 1e3, 1), trim = TRUE)) # land in thousands (sq. km)\n"
   ]
  },
  {
   "cell_type": "code",
   "execution_count": 39,
   "metadata": {},
   "outputs": [
    {
     "data": {
      "text/html": [
       "<table class=\"dataframe\">\n",
       "<caption>A data.frame: 6 × 16</caption>\n",
       "<thead>\n",
       "\t<tr><th></th><th scope=col>Country</th><th scope=col>bicy</th><th scope=col>cart</th><th scope=col>mcyc</th><th scope=col>pcar</th><th scope=col>boat</th><th scope=col>wigc</th><th scope=col>clusters</th><th scope=col>cgdp</th><th scope=col>tpop</th><th scope=col>upop</th><th scope=col>popd</th><th scope=col>land</th><th scope=col>lita</th><th scope=col>lity</th><th scope=col>prec</th></tr>\n",
       "\t<tr><th></th><th scope=col>&lt;chr&gt;</th><th scope=col>&lt;dbl&gt;</th><th scope=col>&lt;dbl&gt;</th><th scope=col>&lt;dbl&gt;</th><th scope=col>&lt;dbl&gt;</th><th scope=col>&lt;dbl&gt;</th><th scope=col>&lt;dbl&gt;</th><th scope=col>&lt;fct&gt;</th><th scope=col>&lt;chr&gt;</th><th scope=col>&lt;chr&gt;</th><th scope=col>&lt;dbl&gt;</th><th scope=col>&lt;dbl&gt;</th><th scope=col>&lt;chr&gt;</th><th scope=col>&lt;dbl&gt;</th><th scope=col>&lt;dbl&gt;</th><th scope=col>&lt;chr&gt;</th></tr>\n",
       "</thead>\n",
       "<tbody>\n",
       "\t<tr><th scope=row>1</th><td>Afghanistan</td><td>30.0</td><td>5.8</td><td>35.2</td><td>11.8</td><td>0.0</td><td>0.1</td><td>1</td><td>18.4 </td><td>37.2 </td><td>25.495</td><td>  56.93776</td><td>652.9 </td><td>43.01972</td><td>0.75933</td><td>0.3</td></tr>\n",
       "\t<tr><th scope=row>2</th><td>Albania    </td><td>26.4</td><td>3.2</td><td> 9.6</td><td>37.0</td><td>0.7</td><td>0.1</td><td>2</td><td>15.1 </td><td>2.9  </td><td>60.319</td><td> 104.61226</td><td>27.4  </td><td>98.14115</td><td>1.00582</td><td>1.5</td></tr>\n",
       "\t<tr><th scope=row>3</th><td>Angola     </td><td> 4.6</td><td>1.3</td><td>17.8</td><td>10.9</td><td>0.4</td><td>0.3</td><td>1</td><td>101.4</td><td>30.8 </td><td>65.514</td><td>  24.71305</td><td>1246.7</td><td> 0.00000</td><td>0.00000</td><td>1.0</td></tr>\n",
       "\t<tr><th scope=row>4</th><td>Armenia    </td><td> 8.6</td><td>0.4</td><td> 0.2</td><td>39.2</td><td>0.3</td><td>0.1</td><td>2</td><td>12.5 </td><td>3.0  </td><td>63.149</td><td> 103.68022</td><td>28.5  </td><td> 0.00000</td><td>0.00000</td><td>0.6</td></tr>\n",
       "\t<tr><th scope=row>5</th><td>Azerbaijan </td><td> 6.9</td><td>3.3</td><td> 1.1</td><td>20.4</td><td>0.1</td><td>0.0</td><td>3</td><td>47.1 </td><td>9.9  </td><td>55.680</td><td> 120.23432</td><td>82.7  </td><td> 0.00000</td><td>0.00000</td><td>0.4</td></tr>\n",
       "\t<tr><th scope=row>6</th><td>Bangladesh </td><td>25.1</td><td>0.0</td><td> 6.4</td><td> 0.8</td><td>0.0</td><td>0.3</td><td>1</td><td>274.0</td><td>161.4</td><td>36.632</td><td>1239.57931</td><td>130.2 </td><td>73.91220</td><td>1.03276</td><td>2.7</td></tr>\n",
       "</tbody>\n",
       "</table>\n"
      ],
      "text/latex": [
       "A data.frame: 6 × 16\n",
       "\\begin{tabular}{r|llllllllllllllll}\n",
       "  & Country & bicy & cart & mcyc & pcar & boat & wigc & clusters & cgdp & tpop & upop & popd & land & lita & lity & prec\\\\\n",
       "  & <chr> & <dbl> & <dbl> & <dbl> & <dbl> & <dbl> & <dbl> & <fct> & <chr> & <chr> & <dbl> & <dbl> & <chr> & <dbl> & <dbl> & <chr>\\\\\n",
       "\\hline\n",
       "\t1 & Afghanistan & 30.0 & 5.8 & 35.2 & 11.8 & 0.0 & 0.1 & 1 & 18.4  & 37.2  & 25.495 &   56.93776 & 652.9  & 43.01972 & 0.75933 & 0.3\\\\\n",
       "\t2 & Albania     & 26.4 & 3.2 &  9.6 & 37.0 & 0.7 & 0.1 & 2 & 15.1  & 2.9   & 60.319 &  104.61226 & 27.4   & 98.14115 & 1.00582 & 1.5\\\\\n",
       "\t3 & Angola      &  4.6 & 1.3 & 17.8 & 10.9 & 0.4 & 0.3 & 1 & 101.4 & 30.8  & 65.514 &   24.71305 & 1246.7 &  0.00000 & 0.00000 & 1.0\\\\\n",
       "\t4 & Armenia     &  8.6 & 0.4 &  0.2 & 39.2 & 0.3 & 0.1 & 2 & 12.5  & 3.0   & 63.149 &  103.68022 & 28.5   &  0.00000 & 0.00000 & 0.6\\\\\n",
       "\t5 & Azerbaijan  &  6.9 & 3.3 &  1.1 & 20.4 & 0.1 & 0.0 & 3 & 47.1  & 9.9   & 55.680 &  120.23432 & 82.7   &  0.00000 & 0.00000 & 0.4\\\\\n",
       "\t6 & Bangladesh  & 25.1 & 0.0 &  6.4 &  0.8 & 0.0 & 0.3 & 1 & 274.0 & 161.4 & 36.632 & 1239.57931 & 130.2  & 73.91220 & 1.03276 & 2.7\\\\\n",
       "\\end{tabular}\n"
      ],
      "text/markdown": [
       "\n",
       "A data.frame: 6 × 16\n",
       "\n",
       "| <!--/--> | Country &lt;chr&gt; | bicy &lt;dbl&gt; | cart &lt;dbl&gt; | mcyc &lt;dbl&gt; | pcar &lt;dbl&gt; | boat &lt;dbl&gt; | wigc &lt;dbl&gt; | clusters &lt;fct&gt; | cgdp &lt;chr&gt; | tpop &lt;chr&gt; | upop &lt;dbl&gt; | popd &lt;dbl&gt; | land &lt;chr&gt; | lita &lt;dbl&gt; | lity &lt;dbl&gt; | prec &lt;chr&gt; |\n",
       "|---|---|---|---|---|---|---|---|---|---|---|---|---|---|---|---|---|\n",
       "| 1 | Afghanistan | 30.0 | 5.8 | 35.2 | 11.8 | 0.0 | 0.1 | 1 | 18.4  | 37.2  | 25.495 |   56.93776 | 652.9  | 43.01972 | 0.75933 | 0.3 |\n",
       "| 2 | Albania     | 26.4 | 3.2 |  9.6 | 37.0 | 0.7 | 0.1 | 2 | 15.1  | 2.9   | 60.319 |  104.61226 | 27.4   | 98.14115 | 1.00582 | 1.5 |\n",
       "| 3 | Angola      |  4.6 | 1.3 | 17.8 | 10.9 | 0.4 | 0.3 | 1 | 101.4 | 30.8  | 65.514 |   24.71305 | 1246.7 |  0.00000 | 0.00000 | 1.0 |\n",
       "| 4 | Armenia     |  8.6 | 0.4 |  0.2 | 39.2 | 0.3 | 0.1 | 2 | 12.5  | 3.0   | 63.149 |  103.68022 | 28.5   |  0.00000 | 0.00000 | 0.6 |\n",
       "| 5 | Azerbaijan  |  6.9 | 3.3 |  1.1 | 20.4 | 0.1 | 0.0 | 3 | 47.1  | 9.9   | 55.680 |  120.23432 | 82.7   |  0.00000 | 0.00000 | 0.4 |\n",
       "| 6 | Bangladesh  | 25.1 | 0.0 |  6.4 |  0.8 | 0.0 | 0.3 | 1 | 274.0 | 161.4 | 36.632 | 1239.57931 | 130.2  | 73.91220 | 1.03276 | 2.7 |\n",
       "\n"
      ],
      "text/plain": [
       "  Country     bicy cart mcyc pcar boat wigc clusters cgdp  tpop  upop  \n",
       "1 Afghanistan 30.0 5.8  35.2 11.8 0.0  0.1  1        18.4  37.2  25.495\n",
       "2 Albania     26.4 3.2   9.6 37.0 0.7  0.1  2        15.1  2.9   60.319\n",
       "3 Angola       4.6 1.3  17.8 10.9 0.4  0.3  1        101.4 30.8  65.514\n",
       "4 Armenia      8.6 0.4   0.2 39.2 0.3  0.1  2        12.5  3.0   63.149\n",
       "5 Azerbaijan   6.9 3.3   1.1 20.4 0.1  0.0  3        47.1  9.9   55.680\n",
       "6 Bangladesh  25.1 0.0   6.4  0.8 0.0  0.3  1        274.0 161.4 36.632\n",
       "  popd       land   lita     lity    prec\n",
       "1   56.93776 652.9  43.01972 0.75933 0.3 \n",
       "2  104.61226 27.4   98.14115 1.00582 1.5 \n",
       "3   24.71305 1246.7  0.00000 0.00000 1.0 \n",
       "4  103.68022 28.5    0.00000 0.00000 0.6 \n",
       "5  120.23432 82.7    0.00000 0.00000 0.4 \n",
       "6 1239.57931 130.2  73.91220 1.03276 2.7 "
      ]
     },
     "metadata": {},
     "output_type": "display_data"
    }
   ],
   "source": [
    "df$prec <- paste(format(round(df$prec / 1e3, 1), trim = TRUE)) # Preciptiation depth in thousands of mm\n",
    "head(df)"
   ]
  },
  {
   "cell_type": "code",
   "execution_count": 40,
   "metadata": {},
   "outputs": [
    {
     "data": {
      "image/png": "[encoded data removed]",
      "text/plain": [
       "Plot with title \"Histogram of df$cart\""
      ]
     },
     "metadata": {
      "image/png": {
       "height": 420,
       "width": 420
      }
     },
     "output_type": "display_data"
    }
   ],
   "source": [
    "hist(df$cart)"
   ]
  },
  {
   "cell_type": "code",
   "execution_count": 41,
   "metadata": {},
   "outputs": [],
   "source": [
    "tree.wa = tree(clusters ~ . - Country  , data = df)"
   ]
  },
  {
   "cell_type": "code",
   "execution_count": 42,
   "metadata": {},
   "outputs": [
    {
     "data": {
      "text/plain": [
       "\n",
       "Classification tree:\n",
       "tree(formula = clusters ~ . - Country, data = df)\n",
       "Variables actually used in tree construction:\n",
       "[1] \"pcar\" \"mcyc\" \"cart\" \"land\" \"boat\" \"popd\"\n",
       "Number of terminal nodes:  10 \n",
       "Residual mean deviance:  1.145 = 72.13 / 63 \n",
       "Misclassification error rate: 0.2192 = 16 / 73 "
      ]
     },
     "metadata": {},
     "output_type": "display_data"
    }
   ],
   "source": [
    "summary(tree.wa) "
   ]
  },
  {
   "cell_type": "code",
   "execution_count": 43,
   "metadata": {},
   "outputs": [
    {
     "data": {
      "image/png": "[encoded data removed]",
      "text/plain": [
       "plot without title"
      ]
     },
     "metadata": {
      "image/png": {
       "height": 420,
       "width": 420
      }
     },
     "output_type": "display_data"
    }
   ],
   "source": [
    "plot(tree.wa)\n",
    "text(tree.wa, pretty = 0) #population density High density for six cluster group."
   ]
  },
  {
   "cell_type": "code",
   "execution_count": 44,
   "metadata": {},
   "outputs": [
    {
     "data": {
      "text/plain": [
       "node), split, n, deviance, yval, (yprob)\n",
       "      * denotes terminal node\n",
       "\n",
       " 1) root 73 213.500 1 ( 0.35616 0.15068 0.30137 0.10959 0.08219 )  \n",
       "   2) pcar < 12.4 49 120.400 1 ( 0.53061 0.04082 0.22449 0.16327 0.04082 )  \n",
       "     4) mcyc < 10.6 24  58.760 1 ( 0.33333 0.04167 0.29167 0.33333 0.00000 )  \n",
       "       8) pcar < 5.4 14  24.530 4 ( 0.35714 0.00000 0.07143 0.57143 0.00000 )  \n",
       "        16) cart < 0.05 5   9.503 1 ( 0.60000 0.00000 0.20000 0.20000 0.00000 ) *\n",
       "        17) cart > 0.05 9   9.535 4 ( 0.22222 0.00000 0.00000 0.77778 0.00000 ) *\n",
       "       9) pcar > 5.4 10  17.960 3 ( 0.30000 0.10000 0.60000 0.00000 0.00000 )  \n",
       "        18) land < 253.6 5   0.000 3 ( 0.00000 0.00000 1.00000 0.00000 0.00000 ) *\n",
       "        19) land > 253.6 5   9.503 1 ( 0.60000 0.20000 0.20000 0.00000 0.00000 ) *\n",
       "     5) mcyc > 10.6 25  43.030 1 ( 0.72000 0.04000 0.16000 0.00000 0.08000 )  \n",
       "      10) boat < 0.95 20  20.730 1 ( 0.85000 0.05000 0.10000 0.00000 0.00000 )  \n",
       "        20) cart < 2.15 7  13.380 1 ( 0.57143 0.14286 0.28571 0.00000 0.00000 ) *\n",
       "        21) cart > 2.15 13   0.000 1 ( 1.00000 0.00000 0.00000 0.00000 0.00000 ) *\n",
       "      11) boat > 0.95 5  10.550 3 ( 0.20000 0.00000 0.40000 0.00000 0.40000 ) *\n",
       "   3) pcar > 12.4 24  49.150 3 ( 0.00000 0.37500 0.45833 0.00000 0.16667 )  \n",
       "     6) mcyc < 12 17  23.510 3 ( 0.00000 0.47059 0.52941 0.00000 0.00000 )  \n",
       "      12) popd < 71.5436 8   0.000 3 ( 0.00000 0.00000 1.00000 0.00000 0.00000 ) *\n",
       "      13) popd > 71.5436 9   6.279 2 ( 0.00000 0.88889 0.11111 0.00000 0.00000 ) *\n",
       "     7) mcyc > 12 7  13.380 5 ( 0.00000 0.14286 0.28571 0.00000 0.57143 ) *"
      ]
     },
     "metadata": {},
     "output_type": "display_data"
    }
   ],
   "source": [
    "tree.wa"
   ]
  },
  {
   "cell_type": "code",
   "execution_count": 45,
   "metadata": {},
   "outputs": [
    {
     "data": {
      "text/html": [
       "<style>\n",
       ".list-inline {list-style: none; margin:0; padding: 0}\n",
       ".list-inline>li {display: inline-block}\n",
       ".list-inline>li:not(:last-child)::after {content: \"\\00b7\"; padding: 0 .5ex}\n",
       "</style>\n",
       "<ol class=list-inline><li>73</li><li>57</li><li>46</li><li>58</li><li>61</li><li>60</li></ol>\n"
      ],
      "text/latex": [
       "\\begin{enumerate*}\n",
       "\\item 73\n",
       "\\item 57\n",
       "\\item 46\n",
       "\\item 58\n",
       "\\item 61\n",
       "\\item 60\n",
       "\\end{enumerate*}\n"
      ],
      "text/markdown": [
       "1. 73\n",
       "2. 57\n",
       "3. 46\n",
       "4. 58\n",
       "5. 61\n",
       "6. 60\n",
       "\n",
       "\n"
      ],
      "text/plain": [
       "[1] 73 57 46 58 61 60"
      ]
     },
     "metadata": {},
     "output_type": "display_data"
    }
   ],
   "source": [
    "set.seed(101)\n",
    "train = sample(1:nrow(df), 73)\n",
    "head(train)"
   ]
  },
  {
   "cell_type": "code",
   "execution_count": 116,
   "metadata": {},
   "outputs": [
    {
     "name": "stdout",
     "output_type": "stream",
     "text": [
      "\n",
      "Call:\n",
      " randomForest(formula = clusters ~ . - Country, data = df, ntree = 500,      mtry = 2, ) \n",
      "               Type of random forest: classification\n",
      "                     Number of trees: 500\n",
      "No. of variables tried at each split: 2\n",
      "\n",
      "        OOB estimate of  error rate: 17.81%\n",
      "Confusion matrix:\n",
      "   1 2  3 4 5 class.error\n",
      "1 26 0  0 0 0  0.00000000\n",
      "2  0 8  3 0 0  0.27272727\n",
      "3  1 0 20 0 1  0.09090909\n",
      "4  1 0  1 6 0  0.25000000\n",
      "5  0 1  5 0 0  1.00000000\n"
     ]
    }
   ],
   "source": [
    "rf.water = randomForest(clusters~. -Country, data = df ,ntree=500,mtry=2,)\n",
    "print(rf.water)"
   ]
  },
  {
   "cell_type": "markdown",
   "metadata": {},
   "source": [
    "oob.err = double(13)\n",
    "test.err = double(13)\n",
    "for(mtry in 1:13){\n",
    "  fit = randomForest(clusters~. -Country, data = df, subset=train, mtry=mtry, ntree = 350)\n",
    "  oob.err[mtry] = fit$mse[350]\n",
    "  pred = predict(fit, df[-train,])\n",
    "  test.err[mtry] = with(df[-train,], mean( (clusters-pred)^2 ))\n",
    "}"
   ]
  },
  {
   "cell_type": "markdown",
   "metadata": {},
   "source": [
    "matplot(1:mtry, cbind(test.err, oob.err), pch = 23, col = c(\"red\", \"blue\"), type = \"b\", ylab=\"Mean Squared Error\")\n",
    "legend(\"topright\", legend = c(\"OOB\", \"Test\"), pch = 23, col = c(\"red\", \"blue\"))"
   ]
  },
  {
   "cell_type": "code",
   "execution_count": 117,
   "metadata": {},
   "outputs": [
    {
     "data": {
      "text/plain": [
       "                Length Class  Mode     \n",
       "call               6   -none- call     \n",
       "type               1   -none- character\n",
       "predicted         73   factor numeric  \n",
       "err.rate        3000   -none- numeric  \n",
       "confusion         30   -none- numeric  \n",
       "votes            365   matrix numeric  \n",
       "oob.times         73   -none- numeric  \n",
       "classes            5   -none- character\n",
       "importance        15   -none- numeric  \n",
       "importanceSD       0   -none- NULL     \n",
       "localImportance    0   -none- NULL     \n",
       "proximity          0   -none- NULL     \n",
       "ntree              1   -none- numeric  \n",
       "mtry               1   -none- numeric  \n",
       "forest            14   -none- list     \n",
       "y                 73   factor numeric  \n",
       "test               0   -none- NULL     \n",
       "inbag              0   -none- NULL     \n",
       "terms              3   terms  call     "
      ]
     },
     "metadata": {},
     "output_type": "display_data"
    }
   ],
   "source": [
    "summary(rf.water)"
   ]
  },
  {
   "cell_type": "markdown",
   "metadata": {},
   "source": [
    "The MeanDecreaseGini measures the Gini importance = how important the features are over all splits done in the tree/forest - whereas for each individual split the Gini importance indicates how much the Gini criterion = \"unequality/heterogeneity\" was reduced using this split.\n",
    "mori, upop, pcar popd, mcyc important and contributed most to obtaining such splits, so they are considered more important."
   ]
  },
  {
   "cell_type": "code",
   "execution_count": 118,
   "metadata": {},
   "outputs": [
    {
     "data": {
      "text/html": [
       "<table class=\"dataframe\">\n",
       "<caption>A matrix: 15 × 1 of type dbl</caption>\n",
       "<thead>\n",
       "\t<tr><th></th><th scope=col>MeanDecreaseGini</th></tr>\n",
       "</thead>\n",
       "<tbody>\n",
       "\t<tr><th scope=row>bicy</th><td> 2.359295</td></tr>\n",
       "\t<tr><th scope=row>cart</th><td> 2.363477</td></tr>\n",
       "\t<tr><th scope=row>mcyc</th><td> 4.041915</td></tr>\n",
       "\t<tr><th scope=row>pcar</th><td> 5.576697</td></tr>\n",
       "\t<tr><th scope=row>boat</th><td> 2.104938</td></tr>\n",
       "\t<tr><th scope=row>wigc</th><td> 2.480141</td></tr>\n",
       "\t<tr><th scope=row>cgdp</th><td> 2.441175</td></tr>\n",
       "\t<tr><th scope=row>tpop</th><td> 2.998850</td></tr>\n",
       "\t<tr><th scope=row>upop</th><td> 3.775366</td></tr>\n",
       "\t<tr><th scope=row>popd</th><td> 2.377186</td></tr>\n",
       "\t<tr><th scope=row>land</th><td> 2.544908</td></tr>\n",
       "\t<tr><th scope=row>lita</th><td> 1.925302</td></tr>\n",
       "\t<tr><th scope=row>lity</th><td> 1.650927</td></tr>\n",
       "\t<tr><th scope=row>prec</th><td> 2.624617</td></tr>\n",
       "\t<tr><th scope=row>pred</th><td>14.046891</td></tr>\n",
       "</tbody>\n",
       "</table>\n"
      ],
      "text/latex": [
       "A matrix: 15 × 1 of type dbl\n",
       "\\begin{tabular}{r|l}\n",
       "  & MeanDecreaseGini\\\\\n",
       "\\hline\n",
       "\tbicy &  2.359295\\\\\n",
       "\tcart &  2.363477\\\\\n",
       "\tmcyc &  4.041915\\\\\n",
       "\tpcar &  5.576697\\\\\n",
       "\tboat &  2.104938\\\\\n",
       "\twigc &  2.480141\\\\\n",
       "\tcgdp &  2.441175\\\\\n",
       "\ttpop &  2.998850\\\\\n",
       "\tupop &  3.775366\\\\\n",
       "\tpopd &  2.377186\\\\\n",
       "\tland &  2.544908\\\\\n",
       "\tlita &  1.925302\\\\\n",
       "\tlity &  1.650927\\\\\n",
       "\tprec &  2.624617\\\\\n",
       "\tpred & 14.046891\\\\\n",
       "\\end{tabular}\n"
      ],
      "text/markdown": [
       "\n",
       "A matrix: 15 × 1 of type dbl\n",
       "\n",
       "| <!--/--> | MeanDecreaseGini |\n",
       "|---|---|\n",
       "| bicy |  2.359295 |\n",
       "| cart |  2.363477 |\n",
       "| mcyc |  4.041915 |\n",
       "| pcar |  5.576697 |\n",
       "| boat |  2.104938 |\n",
       "| wigc |  2.480141 |\n",
       "| cgdp |  2.441175 |\n",
       "| tpop |  2.998850 |\n",
       "| upop |  3.775366 |\n",
       "| popd |  2.377186 |\n",
       "| land |  2.544908 |\n",
       "| lita |  1.925302 |\n",
       "| lity |  1.650927 |\n",
       "| prec |  2.624617 |\n",
       "| pred | 14.046891 |\n",
       "\n"
      ],
      "text/plain": [
       "     MeanDecreaseGini\n",
       "bicy  2.359295       \n",
       "cart  2.363477       \n",
       "mcyc  4.041915       \n",
       "pcar  5.576697       \n",
       "boat  2.104938       \n",
       "wigc  2.480141       \n",
       "cgdp  2.441175       \n",
       "tpop  2.998850       \n",
       "upop  3.775366       \n",
       "popd  2.377186       \n",
       "land  2.544908       \n",
       "lita  1.925302       \n",
       "lity  1.650927       \n",
       "prec  2.624617       \n",
       "pred 14.046891       "
      ]
     },
     "metadata": {},
     "output_type": "display_data"
    }
   ],
   "source": [
    "importance <- importance(rf.water, sort = TRUE)\n",
    "importance"
   ]
  },
  {
   "cell_type": "code",
   "execution_count": 119,
   "metadata": {},
   "outputs": [
    {
     "data": {
      "image/png": "[encoded data removed]",
      "text/plain": [
       "Plot with title \"rf.water\""
      ]
     },
     "metadata": {
      "image/png": {
       "height": 420,
       "width": 420
      }
     },
     "output_type": "display_data"
    }
   ],
   "source": [
    "# create an importance plot\n",
    "varImpPlot(rf.water, sort=TRUE, n.var=min(30, nrow(rf.water$importance)),\n",
    "           type=NULL, class=NULL, scale=TRUE )\n",
    "\n",
    "\n"
   ]
  },
  {
   "cell_type": "code",
   "execution_count": 120,
   "metadata": {},
   "outputs": [
    {
     "data": {
      "image/png": "[encoded data removed]"
     },
     "metadata": {
      "image/png": {
       "height": 420,
       "width": 420
      }
     },
     "output_type": "display_data"
    }
   ],
   "source": [
    "plot(randomForest(clusters~. -Country, data = df ,ntree=500,keep.forest=FALSE, mtry=2) )\n"
   ]
  },
  {
   "cell_type": "markdown",
   "metadata": {},
   "source": [
    "# randomForestExplainer"
   ]
  },
  {
   "cell_type": "code",
   "execution_count": 121,
   "metadata": {},
   "outputs": [],
   "source": [
    "rf.water = randomForest(clusters~. -Country, data = df ,ntree=500,mtry=2, localImp = TRUE)"
   ]
  },
  {
   "cell_type": "code",
   "execution_count": 122,
   "metadata": {},
   "outputs": [
    {
     "data": {
      "text/html": [
       "<table class=\"dataframe\">\n",
       "<caption>A data.frame: 10 × 3</caption>\n",
       "<thead>\n",
       "\t<tr><th></th><th scope=col>tree</th><th scope=col>variable</th><th scope=col>minimal_depth</th></tr>\n",
       "\t<tr><th></th><th scope=col>&lt;int&gt;</th><th scope=col>&lt;chr&gt;</th><th scope=col>&lt;dbl&gt;</th></tr>\n",
       "</thead>\n",
       "<tbody>\n",
       "\t<tr><th scope=row>1</th><td>1</td><td>bicy</td><td>3</td></tr>\n",
       "\t<tr><th scope=row>2</th><td>1</td><td>boat</td><td>3</td></tr>\n",
       "\t<tr><th scope=row>3</th><td>1</td><td>cart</td><td>2</td></tr>\n",
       "\t<tr><th scope=row>4</th><td>1</td><td>land</td><td>1</td></tr>\n",
       "\t<tr><th scope=row>5</th><td>1</td><td>lita</td><td>2</td></tr>\n",
       "\t<tr><th scope=row>6</th><td>1</td><td>lity</td><td>4</td></tr>\n",
       "\t<tr><th scope=row>7</th><td>1</td><td>mcyc</td><td>5</td></tr>\n",
       "\t<tr><th scope=row>8</th><td>1</td><td>pcar</td><td>0</td></tr>\n",
       "\t<tr><th scope=row>9</th><td>1</td><td>popd</td><td>3</td></tr>\n",
       "\t<tr><th scope=row>10</th><td>1</td><td>pred</td><td>2</td></tr>\n",
       "</tbody>\n",
       "</table>\n"
      ],
      "text/latex": [
       "A data.frame: 10 × 3\n",
       "\\begin{tabular}{r|lll}\n",
       "  & tree & variable & minimal\\_depth\\\\\n",
       "  & <int> & <chr> & <dbl>\\\\\n",
       "\\hline\n",
       "\t1 & 1 & bicy & 3\\\\\n",
       "\t2 & 1 & boat & 3\\\\\n",
       "\t3 & 1 & cart & 2\\\\\n",
       "\t4 & 1 & land & 1\\\\\n",
       "\t5 & 1 & lita & 2\\\\\n",
       "\t6 & 1 & lity & 4\\\\\n",
       "\t7 & 1 & mcyc & 5\\\\\n",
       "\t8 & 1 & pcar & 0\\\\\n",
       "\t9 & 1 & popd & 3\\\\\n",
       "\t10 & 1 & pred & 2\\\\\n",
       "\\end{tabular}\n"
      ],
      "text/markdown": [
       "\n",
       "A data.frame: 10 × 3\n",
       "\n",
       "| <!--/--> | tree &lt;int&gt; | variable &lt;chr&gt; | minimal_depth &lt;dbl&gt; |\n",
       "|---|---|---|---|\n",
       "| 1 | 1 | bicy | 3 |\n",
       "| 2 | 1 | boat | 3 |\n",
       "| 3 | 1 | cart | 2 |\n",
       "| 4 | 1 | land | 1 |\n",
       "| 5 | 1 | lita | 2 |\n",
       "| 6 | 1 | lity | 4 |\n",
       "| 7 | 1 | mcyc | 5 |\n",
       "| 8 | 1 | pcar | 0 |\n",
       "| 9 | 1 | popd | 3 |\n",
       "| 10 | 1 | pred | 2 |\n",
       "\n"
      ],
      "text/plain": [
       "   tree variable minimal_depth\n",
       "1  1    bicy     3            \n",
       "2  1    boat     3            \n",
       "3  1    cart     2            \n",
       "4  1    land     1            \n",
       "5  1    lita     2            \n",
       "6  1    lity     4            \n",
       "7  1    mcyc     5            \n",
       "8  1    pcar     0            \n",
       "9  1    popd     3            \n",
       "10 1    pred     2            "
      ]
     },
     "metadata": {},
     "output_type": "display_data"
    }
   ],
   "source": [
    "min_depth_frame <- min_depth_distribution(rf.water)\n",
    "save(min_depth_frame, file = \"min_depth_frame.rda\")\n",
    "load(\"min_depth_frame.rda\")\n",
    "head(min_depth_frame, n = 10)"
   ]
  },
  {
   "cell_type": "code",
   "execution_count": 123,
   "metadata": {},
   "outputs": [
    {
     "data": {
      "image/png": "[encoded data removed]",
      "text/plain": [
       "plot without title"
      ]
     },
     "metadata": {
      "image/png": {
       "height": 420,
       "width": 420
      }
     },
     "output_type": "display_data"
    }
   ],
   "source": [
    "plot_min_depth_distribution(min_depth_frame)"
   ]
  },
  {
   "cell_type": "markdown",
   "metadata": {},
   "source": [
    "The function plot_min_depth_distribution offers three possibilities when it comes to calculating the mean minimal depth, which differ in he way they treat missing values that appear when a variable is not used for splitting in a tree. They can be described as follows:"
   ]
  },
  {
   "cell_type": "code",
   "execution_count": 124,
   "metadata": {},
   "outputs": [
    {
     "data": {
      "image/png": "[encoded data removed]",
      "text/plain": [
       "plot without title"
      ]
     },
     "metadata": {
      "image/png": {
       "height": 420,
       "width": 420
      }
     },
     "output_type": "display_data"
    }
   ],
   "source": [
    "plot_min_depth_distribution(min_depth_frame, mean_sample = \"relevant_trees\", k = 15)"
   ]
  },
  {
   "cell_type": "markdown",
   "metadata": {},
   "source": [
    "Clearly, using only relevant trees for calculating the mean does not change it for variables that have no missing values. Also, in this case the change does not influence the ordering of variables, but of course this usually not the case in more complex examples.\n",
    "\n",
    "Regardless of the exact parameters used in plot_min_depth_distribution, looking at the whole distribution of minimal depth offers a lot more insight into the role that a predictor plays in a forest in contrast to looking only at the mean, especially as it can be calculated in more than one way. Additionally, the function allows us to specify the maximum number of variables plotted k, whether the values of mean minimal depth should be scaled to the [0,1] interval (mean_scale, logical), the number of digits to round the mean to for display (mean_round) and the title of the plot (main)."
   ]
  },
  {
   "cell_type": "code",
   "execution_count": 125,
   "metadata": {},
   "outputs": [
    {
     "data": {
      "text/html": [
       "<table class=\"dataframe\">\n",
       "<caption>A data.frame: 15 × 8</caption>\n",
       "<thead>\n",
       "\t<tr><th scope=col>variable</th><th scope=col>mean_min_depth</th><th scope=col>no_of_nodes</th><th scope=col>accuracy_decrease</th><th scope=col>gini_decrease</th><th scope=col>no_of_trees</th><th scope=col>times_a_root</th><th scope=col>p_value</th></tr>\n",
       "\t<tr><th scope=col>&lt;fct&gt;</th><th scope=col>&lt;dbl&gt;</th><th scope=col>&lt;int&gt;</th><th scope=col>&lt;dbl&gt;</th><th scope=col>&lt;dbl&gt;</th><th scope=col>&lt;int&gt;</th><th scope=col>&lt;int&gt;</th><th scope=col>&lt;dbl&gt;</th></tr>\n",
       "</thead>\n",
       "<tbody>\n",
       "\t<tr><td>bicy</td><td>4.105135</td><td>533</td><td>-0.0011137559</td><td> 2.390882</td><td>322</td><td>21</td><td>9.971126e-01</td></tr>\n",
       "\t<tr><td>boat</td><td>4.165382</td><td>495</td><td> 0.0052409451</td><td> 2.234894</td><td>320</td><td>17</td><td>9.999956e-01</td></tr>\n",
       "\t<tr><td>cart</td><td>3.994896</td><td>526</td><td> 0.0048977268</td><td> 2.382750</td><td>325</td><td>25</td><td>9.989231e-01</td></tr>\n",
       "\t<tr><td>cgdp</td><td>4.051550</td><td>587</td><td>-0.0016336398</td><td> 2.445690</td><td>341</td><td>16</td><td>6.648806e-01</td></tr>\n",
       "\t<tr><td>land</td><td>3.813002</td><td>594</td><td> 0.0018450781</td><td> 2.745756</td><td>338</td><td>29</td><td>5.509933e-01</td></tr>\n",
       "\t<tr><td>lita</td><td>4.433426</td><td>383</td><td> 0.0027841385</td><td> 1.808436</td><td>276</td><td>22</td><td>1.000000e+00</td></tr>\n",
       "\t<tr><td>lity</td><td>4.485488</td><td>388</td><td> 0.0004637673</td><td> 1.695795</td><td>272</td><td>24</td><td>1.000000e+00</td></tr>\n",
       "\t<tr><td>mcyc</td><td>2.887024</td><td>737</td><td> 0.0221264420</td><td> 4.314589</td><td>396</td><td>60</td><td>4.862026e-09</td></tr>\n",
       "\t<tr><td>pcar</td><td>3.039245</td><td>773</td><td> 0.0417854761</td><td> 5.713992</td><td>410</td><td>66</td><td>4.221627e-13</td></tr>\n",
       "\t<tr><td>popd</td><td>3.871042</td><td>611</td><td> 0.0059727220</td><td> 2.815776</td><td>336</td><td>22</td><td>2.775257e-01</td></tr>\n",
       "\t<tr><td>prec</td><td>3.853422</td><td>621</td><td> 0.0051078209</td><td> 2.734023</td><td>353</td><td>14</td><td>1.562746e-01</td></tr>\n",
       "\t<tr><td>pred</td><td>2.269316</td><td>959</td><td> 0.1711340986</td><td>12.675851</td><td>453</td><td>57</td><td>6.087402e-46</td></tr>\n",
       "\t<tr><td>tpop</td><td>3.636949</td><td>649</td><td> 0.0057475586</td><td> 3.130554</td><td>350</td><td>34</td><td>1.485249e-02</td></tr>\n",
       "\t<tr><td>upop</td><td>3.218989</td><td>640</td><td> 0.0142771762</td><td> 3.710091</td><td>366</td><td>62</td><td>3.580780e-02</td></tr>\n",
       "\t<tr><td>wigc</td><td>4.095620</td><td>454</td><td> 0.0118596459</td><td> 2.350789</td><td>307</td><td>31</td><td>1.000000e+00</td></tr>\n",
       "</tbody>\n",
       "</table>\n"
      ],
      "text/latex": [
       "A data.frame: 15 × 8\n",
       "\\begin{tabular}{llllllll}\n",
       " variable & mean\\_min\\_depth & no\\_of\\_nodes & accuracy\\_decrease & gini\\_decrease & no\\_of\\_trees & times\\_a\\_root & p\\_value\\\\\n",
       " <fct> & <dbl> & <int> & <dbl> & <dbl> & <int> & <int> & <dbl>\\\\\n",
       "\\hline\n",
       "\t bicy & 4.105135 & 533 & -0.0011137559 &  2.390882 & 322 & 21 & 9.971126e-01\\\\\n",
       "\t boat & 4.165382 & 495 &  0.0052409451 &  2.234894 & 320 & 17 & 9.999956e-01\\\\\n",
       "\t cart & 3.994896 & 526 &  0.0048977268 &  2.382750 & 325 & 25 & 9.989231e-01\\\\\n",
       "\t cgdp & 4.051550 & 587 & -0.0016336398 &  2.445690 & 341 & 16 & 6.648806e-01\\\\\n",
       "\t land & 3.813002 & 594 &  0.0018450781 &  2.745756 & 338 & 29 & 5.509933e-01\\\\\n",
       "\t lita & 4.433426 & 383 &  0.0027841385 &  1.808436 & 276 & 22 & 1.000000e+00\\\\\n",
       "\t lity & 4.485488 & 388 &  0.0004637673 &  1.695795 & 272 & 24 & 1.000000e+00\\\\\n",
       "\t mcyc & 2.887024 & 737 &  0.0221264420 &  4.314589 & 396 & 60 & 4.862026e-09\\\\\n",
       "\t pcar & 3.039245 & 773 &  0.0417854761 &  5.713992 & 410 & 66 & 4.221627e-13\\\\\n",
       "\t popd & 3.871042 & 611 &  0.0059727220 &  2.815776 & 336 & 22 & 2.775257e-01\\\\\n",
       "\t prec & 3.853422 & 621 &  0.0051078209 &  2.734023 & 353 & 14 & 1.562746e-01\\\\\n",
       "\t pred & 2.269316 & 959 &  0.1711340986 & 12.675851 & 453 & 57 & 6.087402e-46\\\\\n",
       "\t tpop & 3.636949 & 649 &  0.0057475586 &  3.130554 & 350 & 34 & 1.485249e-02\\\\\n",
       "\t upop & 3.218989 & 640 &  0.0142771762 &  3.710091 & 366 & 62 & 3.580780e-02\\\\\n",
       "\t wigc & 4.095620 & 454 &  0.0118596459 &  2.350789 & 307 & 31 & 1.000000e+00\\\\\n",
       "\\end{tabular}\n"
      ],
      "text/markdown": [
       "\n",
       "A data.frame: 15 × 8\n",
       "\n",
       "| variable &lt;fct&gt; | mean_min_depth &lt;dbl&gt; | no_of_nodes &lt;int&gt; | accuracy_decrease &lt;dbl&gt; | gini_decrease &lt;dbl&gt; | no_of_trees &lt;int&gt; | times_a_root &lt;int&gt; | p_value &lt;dbl&gt; |\n",
       "|---|---|---|---|---|---|---|---|\n",
       "| bicy | 4.105135 | 533 | -0.0011137559 |  2.390882 | 322 | 21 | 9.971126e-01 |\n",
       "| boat | 4.165382 | 495 |  0.0052409451 |  2.234894 | 320 | 17 | 9.999956e-01 |\n",
       "| cart | 3.994896 | 526 |  0.0048977268 |  2.382750 | 325 | 25 | 9.989231e-01 |\n",
       "| cgdp | 4.051550 | 587 | -0.0016336398 |  2.445690 | 341 | 16 | 6.648806e-01 |\n",
       "| land | 3.813002 | 594 |  0.0018450781 |  2.745756 | 338 | 29 | 5.509933e-01 |\n",
       "| lita | 4.433426 | 383 |  0.0027841385 |  1.808436 | 276 | 22 | 1.000000e+00 |\n",
       "| lity | 4.485488 | 388 |  0.0004637673 |  1.695795 | 272 | 24 | 1.000000e+00 |\n",
       "| mcyc | 2.887024 | 737 |  0.0221264420 |  4.314589 | 396 | 60 | 4.862026e-09 |\n",
       "| pcar | 3.039245 | 773 |  0.0417854761 |  5.713992 | 410 | 66 | 4.221627e-13 |\n",
       "| popd | 3.871042 | 611 |  0.0059727220 |  2.815776 | 336 | 22 | 2.775257e-01 |\n",
       "| prec | 3.853422 | 621 |  0.0051078209 |  2.734023 | 353 | 14 | 1.562746e-01 |\n",
       "| pred | 2.269316 | 959 |  0.1711340986 | 12.675851 | 453 | 57 | 6.087402e-46 |\n",
       "| tpop | 3.636949 | 649 |  0.0057475586 |  3.130554 | 350 | 34 | 1.485249e-02 |\n",
       "| upop | 3.218989 | 640 |  0.0142771762 |  3.710091 | 366 | 62 | 3.580780e-02 |\n",
       "| wigc | 4.095620 | 454 |  0.0118596459 |  2.350789 | 307 | 31 | 1.000000e+00 |\n",
       "\n"
      ],
      "text/plain": [
       "   variable mean_min_depth no_of_nodes accuracy_decrease gini_decrease\n",
       "1  bicy     4.105135       533         -0.0011137559      2.390882    \n",
       "2  boat     4.165382       495          0.0052409451      2.234894    \n",
       "3  cart     3.994896       526          0.0048977268      2.382750    \n",
       "4  cgdp     4.051550       587         -0.0016336398      2.445690    \n",
       "5  land     3.813002       594          0.0018450781      2.745756    \n",
       "6  lita     4.433426       383          0.0027841385      1.808436    \n",
       "7  lity     4.485488       388          0.0004637673      1.695795    \n",
       "8  mcyc     2.887024       737          0.0221264420      4.314589    \n",
       "9  pcar     3.039245       773          0.0417854761      5.713992    \n",
       "10 popd     3.871042       611          0.0059727220      2.815776    \n",
       "11 prec     3.853422       621          0.0051078209      2.734023    \n",
       "12 pred     2.269316       959          0.1711340986     12.675851    \n",
       "13 tpop     3.636949       649          0.0057475586      3.130554    \n",
       "14 upop     3.218989       640          0.0142771762      3.710091    \n",
       "15 wigc     4.095620       454          0.0118596459      2.350789    \n",
       "   no_of_trees times_a_root p_value     \n",
       "1  322         21           9.971126e-01\n",
       "2  320         17           9.999956e-01\n",
       "3  325         25           9.989231e-01\n",
       "4  341         16           6.648806e-01\n",
       "5  338         29           5.509933e-01\n",
       "6  276         22           1.000000e+00\n",
       "7  272         24           1.000000e+00\n",
       "8  396         60           4.862026e-09\n",
       "9  410         66           4.221627e-13\n",
       "10 336         22           2.775257e-01\n",
       "11 353         14           1.562746e-01\n",
       "12 453         57           6.087402e-46\n",
       "13 350         34           1.485249e-02\n",
       "14 366         62           3.580780e-02\n",
       "15 307         31           1.000000e+00"
      ]
     },
     "metadata": {},
     "output_type": "display_data"
    }
   ],
   "source": [
    "importance_frame <- measure_importance(rf.water)\n",
    "save(importance_frame, file = \"importance_frame.rda\")\n",
    "load(\"importance_frame.rda\")\n",
    "importance_frame"
   ]
  },
  {
   "cell_type": "markdown",
   "metadata": {},
   "source": [
    "accuracy_decrease (classification) – mean decrease of prediction accuracy after Xj is permuted,\n",
    "\n",
    "gini_decrease (classification) – mean decrease in the Gini index of node impurity (i.e. increase of node purity) by splits on Xj,\n",
    "\n",
    "mse_increase (regression) – mean increase of mean squared error after Xj is permuted,\n",
    "\n",
    "node_purity_increase (regression) – mean node purity increase by splits on Xj, as measured by the decrease in sum of squares,\n",
    "\n",
    "mean_minimal_depth – mean minimal depth calculated in one of three ways specified by the parameter mean_sample,\n",
    "\n",
    "no_of_trees – total number of trees in which a split on Xj occurs,\n",
    "\n",
    "no_of_nodes – total number of nodes that use Xj for splitting (it is usually equal to no_of_trees if trees are shallow),\n",
    "\n",
    "times_a_root – total number of trees in which Xj is used for splitting the root node (i.e., the whole sample is divided into two based on the value of Xj),\n",
    "\n",
    "p_value – p-value for the one-sided binomial test using the following distribution:"
   ]
  },
  {
   "cell_type": "code",
   "execution_count": 126,
   "metadata": {},
   "outputs": [
    {
     "data": {
      "image/png": "[encoded data removed]",
      "text/plain": [
       "plot without title"
      ]
     },
     "metadata": {
      "image/png": {
       "height": 420,
       "width": 420
      }
     },
     "output_type": "display_data"
    }
   ],
   "source": [
    "plot_multi_way_importance(importance_frame, size_measure = \"no_of_nodes\")"
   ]
  },
  {
   "cell_type": "code",
   "execution_count": 128,
   "metadata": {},
   "outputs": [
    {
     "data": {
      "image/png": "[encoded data removed]",
      "text/plain": [
       "plot without title"
      ]
     },
     "metadata": {
      "image/png": {
       "height": 420,
       "width": 420
      }
     },
     "output_type": "display_data"
    }
   ],
   "source": [
    "plot_importance_ggpairs(importance_frame)"
   ]
  },
  {
   "cell_type": "markdown",
   "metadata": {},
   "source": [
    "We can see that all depicted measures are highly correlated (of course the correlation of any measure with mean minimal depth is negative as the latter is lowest for best variables), but some less than others. Moreover, regardless of which measures we compare, there always seem to be two points that stand out and these most likely correspond to lstat and rm (to now for sure we could just examine the importance_frame)."
   ]
  },
  {
   "cell_type": "code",
   "execution_count": 129,
   "metadata": {},
   "outputs": [
    {
     "name": "stderr",
     "output_type": "stream",
     "text": [
      "`geom_smooth()` using formula 'y ~ x'\n",
      "\n",
      "`geom_smooth()` using formula 'y ~ x'\n",
      "\n",
      "`geom_smooth()` using formula 'y ~ x'\n",
      "\n",
      "`geom_smooth()` using formula 'y ~ x'\n",
      "\n",
      "`geom_smooth()` using formula 'y ~ x'\n",
      "\n",
      "`geom_smooth()` using formula 'y ~ x'\n",
      "\n",
      "`geom_smooth()` using formula 'y ~ x'\n",
      "\n",
      "`geom_smooth()` using formula 'y ~ x'\n",
      "\n",
      "`geom_smooth()` using formula 'y ~ x'\n",
      "\n",
      "`geom_smooth()` using formula 'y ~ x'\n",
      "\n"
     ]
    },
    {
     "data": {
      "image/png": "[encoded data removed]",
      "text/plain": [
       "plot without title"
      ]
     },
     "metadata": {
      "image/png": {
       "height": 420,
       "width": 420
      }
     },
     "output_type": "display_data"
    }
   ],
   "source": [
    "plot_importance_rankings(importance_frame)"
   ]
  },
  {
   "cell_type": "code",
   "execution_count": null,
   "metadata": {},
   "outputs": [],
   "source": [
    "The above density estimates show that skewness was eliminated for all of our importance measures (this is not always the case, e.g., when ties in rankings are frequent, and this is likely for discrete importance measures such as times_a_root, then the distribution of the ranking will also be skewed)."
   ]
  },
  {
   "cell_type": "markdown",
   "metadata": {},
   "source": [
    "# Confusion Matrix"
   ]
  },
  {
   "cell_type": "code",
   "execution_count": 51,
   "metadata": {},
   "outputs": [
    {
     "data": {
      "text/plain": [
       "Confusion Matrix and Statistics\n",
       "\n",
       "          Reference\n",
       "Prediction  1  2  3  4  5\n",
       "         1 26  0  0  0  0\n",
       "         2  0 11  0  0  0\n",
       "         3  0  0 22  0  0\n",
       "         4  0  0  0  8  0\n",
       "         5  0  0  0  0  6\n",
       "\n",
       "Overall Statistics\n",
       "                                     \n",
       "               Accuracy : 1          \n",
       "                 95% CI : (0.9507, 1)\n",
       "    No Information Rate : 0.3562     \n",
       "    P-Value [Acc > NIR] : < 2.2e-16  \n",
       "                                     \n",
       "                  Kappa : 1          \n",
       "                                     \n",
       " Mcnemar's Test P-Value : NA         \n",
       "\n",
       "Statistics by Class:\n",
       "\n",
       "                     Class: 1 Class: 2 Class: 3 Class: 4 Class: 5\n",
       "Sensitivity            1.0000   1.0000   1.0000   1.0000  1.00000\n",
       "Specificity            1.0000   1.0000   1.0000   1.0000  1.00000\n",
       "Pos Pred Value         1.0000   1.0000   1.0000   1.0000  1.00000\n",
       "Neg Pred Value         1.0000   1.0000   1.0000   1.0000  1.00000\n",
       "Prevalence             0.3562   0.1507   0.3014   0.1096  0.08219\n",
       "Detection Rate         0.3562   0.1507   0.3014   0.1096  0.08219\n",
       "Detection Prevalence   0.3562   0.1507   0.3014   0.1096  0.08219\n",
       "Balanced Accuracy      1.0000   1.0000   1.0000   1.0000  1.00000"
      ]
     },
     "metadata": {},
     "output_type": "display_data"
    }
   ],
   "source": [
    "df$pred <- predict(rf.water , df)\n",
    "df$pred <- as.factor(df$pred)\n",
    "confusionMatrix(df$pred, df$clusters)"
   ]
  },
  {
   "cell_type": "code",
   "execution_count": 52,
   "metadata": {},
   "outputs": [
    {
     "name": "stdout",
     "output_type": "stream",
     "text": [
      "[1] 1\n",
      "[1] 0.2336334\n",
      "[1] 0.1599836\n",
      "[1] 0.5883797\n",
      "[1] 0.3134206\n"
     ]
    }
   ],
   "source": [
    "pred <- predict(object = rf.water,\n",
    "            newdata = df,\n",
    "            type = \"prob\")\n",
    "for (i in 1:5) {\n",
    "auc <-    auc(actual = df$clusters, \n",
    "    predicted = pred[,i])\n",
    "print(auc(actual = df$clusters, \n",
    "    predicted = pred[,i]))\n",
    "    }"
   ]
  },
  {
   "cell_type": "markdown",
   "metadata": {},
   "source": [
    "AUC is intended to determine the degree of separability, or the ability to correct predict class. The higher the AUC the better. 1 would be perfect, and .5 would be random."
   ]
  }
 ],
 "metadata": {
  "kernelspec": {
   "display_name": "R",
   "language": "R",
   "name": "ir"
  },
  "language_info": {
   "codemirror_mode": "r",
   "file_extension": ".r",
   "mimetype": "text/x-r-source",
   "name": "R",
   "pygments_lexer": "r",
   "version": "4.0.2"
  }
 },
 "nbformat": 4,
 "nbformat_minor": 4
}
