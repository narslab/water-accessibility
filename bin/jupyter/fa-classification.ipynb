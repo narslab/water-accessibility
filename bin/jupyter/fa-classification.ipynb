{
 "cells": [
  {
   "cell_type": "code",
   "execution_count": 21,
   "metadata": {},
   "outputs": [],
   "source": [
    "#install.packages('randomForest')\n",
    "library(readxl)\n",
    "library(randomForest)\n",
    "library(readxl)\n",
    "library(tidyverse)\n",
    "#install.packages('dplyr')\n",
    "library(dplyr)\n",
    "#install.packages('caret')\n",
    "library(Rcpp)\n",
    "library(caret)\n",
    "library(rpart)\n",
    "#install.packages('tree')\n",
    "library(tree)\n",
    "#install.packages('multcomp')\n",
    "library(multcomp)\n",
    "#install.packages('party')\n",
    "library(party)\n",
    "library(tree)\n",
    "#install.packages('Metrics')\n",
    "library(Metrics)\n",
    "#install.packages('reprtree')\n",
    "#devtools::install_github(\"MI2DataLab/randomForestExplainer\")\n",
    "#install.packages('randomForestExplainer')\n",
    "library(randomForestExplainer)\n",
    "\n"
   ]
  },
  {
   "cell_type": "markdown",
   "metadata": {},
   "source": [
    "# FA (weighted) Classifcation"
   ]
  },
  {
   "cell_type": "code",
   "execution_count": 22,
   "metadata": {},
   "outputs": [],
   "source": [
    "df.wa = read_excel( \"../../results/df-water-access.xlsx\" ,sheet=1)\n",
    "df.exp =read_excel(\"../../results/df-water-explore.xlsx\" ,sheet=1)\n",
    "df.cluster = read_excel(\"../../results/df-fa-cluster-rank.xlsx\" ,sheet=1)\n",
    "df.wb = read_excel(\"../../results/df-wb.xlsx\" ,sheet=1 )\n",
    "df.exp$clusters <- as.factor(df.cluster$clusters)\n"
   ]
  },
  {
   "cell_type": "code",
   "execution_count": 23,
   "metadata": {},
   "outputs": [],
   "source": [
    "df <- merge(x = df.exp,\n",
    "              y = df.wb,\n",
    "              by = c(\"Country\"))\n",
    "df <- df[, c(1:8,11:17,19)]"
   ]
  },
  {
   "cell_type": "markdown",
   "metadata": {},
   "source": [
    "ReScaling in Billions for GDP"
   ]
  },
  {
   "cell_type": "code",
   "execution_count": 24,
   "metadata": {},
   "outputs": [],
   "source": [
    "df$cgdp <- paste(format(round(df$cgdp / 1e9, 1), trim = TRUE))\n"
   ]
  },
  {
   "cell_type": "code",
   "execution_count": 25,
   "metadata": {},
   "outputs": [],
   "source": [
    "df$tpop <- paste(format(round(df$tpop / 1e6, 1), trim = TRUE)) # tpop in millions\n",
    "df$land <- paste(format(round(df$land / 1e3, 1), trim = TRUE)) # land in thousands (sq. km)\n"
   ]
  },
  {
   "cell_type": "code",
   "execution_count": 26,
   "metadata": {},
   "outputs": [
    {
     "name": "stdout",
     "output_type": "stream",
     "text": [
      "'data.frame':\t73 obs. of  16 variables:\n",
      " $ Country : chr  \"Afghanistan\" \"Albania\" \"Angola\" \"Armenia\" ...\n",
      " $ bicy    : num  30 26.4 4.6 8.6 6.9 25.1 19.4 36.6 82 20.7 ...\n",
      " $ cart    : num  5.8 3.2 1.3 0.4 3.3 0 3.2 0 38.6 0.2 ...\n",
      " $ mcyc    : num  35.2 9.6 17.8 0.2 1.1 6.4 56.1 6.5 58.2 2.2 ...\n",
      " $ pcar    : num  11.8 37 10.9 39.2 20.4 0.8 4.2 15.6 3 1.1 ...\n",
      " $ boat    : num  0 0.7 0.4 0.3 0.1 0 0.2 0 0 0.2 ...\n",
      " $ wigc    : num  0.1 0.1 0.3 0.1 0 0.3 0.3 0 0.2 0.3 ...\n",
      " $ clusters: Factor w/ 3 levels \"1\",\"2\",\"3\": 1 2 1 2 3 1 1 3 1 1 ...\n",
      " $ cgdp    : num  18.4 15.1 101.4 12.5 47.1 ...\n",
      " $ tpop    : num  37.2 2.9 30.8 3 9.9 ...\n",
      " $ upop    : num  25.5 60.3 65.5 63.1 55.7 ...\n",
      " $ popd    : num  56.9 104.6 24.7 103.7 120.2 ...\n",
      " $ land    : num  652.9 27.4 1246.7 28.5 82.7 ...\n",
      " $ lita    : num  43 98.1 0 0 0 ...\n",
      " $ lity    : num  0.759 1.006 0 0 0 ...\n",
      " $ prec    : num  0.3 1.5 1 0.6 0.4 2.7 1 1.1 0.7 1.3 ...\n"
     ]
    },
    {
     "data": {
      "text/html": [
       "<table class=\"dataframe\">\n",
       "<caption>A data.frame: 6 × 16</caption>\n",
       "<thead>\n",
       "\t<tr><th></th><th scope=col>Country</th><th scope=col>bicy</th><th scope=col>cart</th><th scope=col>mcyc</th><th scope=col>pcar</th><th scope=col>boat</th><th scope=col>wigc</th><th scope=col>clusters</th><th scope=col>cgdp</th><th scope=col>tpop</th><th scope=col>upop</th><th scope=col>popd</th><th scope=col>land</th><th scope=col>lita</th><th scope=col>lity</th><th scope=col>prec</th></tr>\n",
       "\t<tr><th></th><th scope=col>&lt;chr&gt;</th><th scope=col>&lt;dbl&gt;</th><th scope=col>&lt;dbl&gt;</th><th scope=col>&lt;dbl&gt;</th><th scope=col>&lt;dbl&gt;</th><th scope=col>&lt;dbl&gt;</th><th scope=col>&lt;dbl&gt;</th><th scope=col>&lt;fct&gt;</th><th scope=col>&lt;dbl&gt;</th><th scope=col>&lt;dbl&gt;</th><th scope=col>&lt;dbl&gt;</th><th scope=col>&lt;dbl&gt;</th><th scope=col>&lt;dbl&gt;</th><th scope=col>&lt;dbl&gt;</th><th scope=col>&lt;dbl&gt;</th><th scope=col>&lt;dbl&gt;</th></tr>\n",
       "</thead>\n",
       "<tbody>\n",
       "\t<tr><th scope=row>1</th><td>Afghanistan</td><td>30.0</td><td>5.8</td><td>35.2</td><td>11.8</td><td>0.0</td><td>0.1</td><td>1</td><td> 18.4</td><td> 37.2</td><td>25.495</td><td>  56.93776</td><td> 652.9</td><td>43.01972</td><td>0.75933</td><td>0.3</td></tr>\n",
       "\t<tr><th scope=row>2</th><td>Albania    </td><td>26.4</td><td>3.2</td><td> 9.6</td><td>37.0</td><td>0.7</td><td>0.1</td><td>2</td><td> 15.1</td><td>  2.9</td><td>60.319</td><td> 104.61226</td><td>  27.4</td><td>98.14115</td><td>1.00582</td><td>1.5</td></tr>\n",
       "\t<tr><th scope=row>3</th><td>Angola     </td><td> 4.6</td><td>1.3</td><td>17.8</td><td>10.9</td><td>0.4</td><td>0.3</td><td>1</td><td>101.4</td><td> 30.8</td><td>65.514</td><td>  24.71305</td><td>1246.7</td><td> 0.00000</td><td>0.00000</td><td>1.0</td></tr>\n",
       "\t<tr><th scope=row>4</th><td>Armenia    </td><td> 8.6</td><td>0.4</td><td> 0.2</td><td>39.2</td><td>0.3</td><td>0.1</td><td>2</td><td> 12.5</td><td>  3.0</td><td>63.149</td><td> 103.68022</td><td>  28.5</td><td> 0.00000</td><td>0.00000</td><td>0.6</td></tr>\n",
       "\t<tr><th scope=row>5</th><td>Azerbaijan </td><td> 6.9</td><td>3.3</td><td> 1.1</td><td>20.4</td><td>0.1</td><td>0.0</td><td>3</td><td> 47.1</td><td>  9.9</td><td>55.680</td><td> 120.23432</td><td>  82.7</td><td> 0.00000</td><td>0.00000</td><td>0.4</td></tr>\n",
       "\t<tr><th scope=row>6</th><td>Bangladesh </td><td>25.1</td><td>0.0</td><td> 6.4</td><td> 0.8</td><td>0.0</td><td>0.3</td><td>1</td><td>274.0</td><td>161.4</td><td>36.632</td><td>1239.57931</td><td> 130.2</td><td>73.91220</td><td>1.03276</td><td>2.7</td></tr>\n",
       "</tbody>\n",
       "</table>\n"
      ],
      "text/latex": [
       "A data.frame: 6 × 16\n",
       "\\begin{tabular}{r|llllllllllllllll}\n",
       "  & Country & bicy & cart & mcyc & pcar & boat & wigc & clusters & cgdp & tpop & upop & popd & land & lita & lity & prec\\\\\n",
       "  & <chr> & <dbl> & <dbl> & <dbl> & <dbl> & <dbl> & <dbl> & <fct> & <dbl> & <dbl> & <dbl> & <dbl> & <dbl> & <dbl> & <dbl> & <dbl>\\\\\n",
       "\\hline\n",
       "\t1 & Afghanistan & 30.0 & 5.8 & 35.2 & 11.8 & 0.0 & 0.1 & 1 &  18.4 &  37.2 & 25.495 &   56.93776 &  652.9 & 43.01972 & 0.75933 & 0.3\\\\\n",
       "\t2 & Albania     & 26.4 & 3.2 &  9.6 & 37.0 & 0.7 & 0.1 & 2 &  15.1 &   2.9 & 60.319 &  104.61226 &   27.4 & 98.14115 & 1.00582 & 1.5\\\\\n",
       "\t3 & Angola      &  4.6 & 1.3 & 17.8 & 10.9 & 0.4 & 0.3 & 1 & 101.4 &  30.8 & 65.514 &   24.71305 & 1246.7 &  0.00000 & 0.00000 & 1.0\\\\\n",
       "\t4 & Armenia     &  8.6 & 0.4 &  0.2 & 39.2 & 0.3 & 0.1 & 2 &  12.5 &   3.0 & 63.149 &  103.68022 &   28.5 &  0.00000 & 0.00000 & 0.6\\\\\n",
       "\t5 & Azerbaijan  &  6.9 & 3.3 &  1.1 & 20.4 & 0.1 & 0.0 & 3 &  47.1 &   9.9 & 55.680 &  120.23432 &   82.7 &  0.00000 & 0.00000 & 0.4\\\\\n",
       "\t6 & Bangladesh  & 25.1 & 0.0 &  6.4 &  0.8 & 0.0 & 0.3 & 1 & 274.0 & 161.4 & 36.632 & 1239.57931 &  130.2 & 73.91220 & 1.03276 & 2.7\\\\\n",
       "\\end{tabular}\n"
      ],
      "text/markdown": [
       "\n",
       "A data.frame: 6 × 16\n",
       "\n",
       "| <!--/--> | Country &lt;chr&gt; | bicy &lt;dbl&gt; | cart &lt;dbl&gt; | mcyc &lt;dbl&gt; | pcar &lt;dbl&gt; | boat &lt;dbl&gt; | wigc &lt;dbl&gt; | clusters &lt;fct&gt; | cgdp &lt;dbl&gt; | tpop &lt;dbl&gt; | upop &lt;dbl&gt; | popd &lt;dbl&gt; | land &lt;dbl&gt; | lita &lt;dbl&gt; | lity &lt;dbl&gt; | prec &lt;dbl&gt; |\n",
       "|---|---|---|---|---|---|---|---|---|---|---|---|---|---|---|---|---|\n",
       "| 1 | Afghanistan | 30.0 | 5.8 | 35.2 | 11.8 | 0.0 | 0.1 | 1 |  18.4 |  37.2 | 25.495 |   56.93776 |  652.9 | 43.01972 | 0.75933 | 0.3 |\n",
       "| 2 | Albania     | 26.4 | 3.2 |  9.6 | 37.0 | 0.7 | 0.1 | 2 |  15.1 |   2.9 | 60.319 |  104.61226 |   27.4 | 98.14115 | 1.00582 | 1.5 |\n",
       "| 3 | Angola      |  4.6 | 1.3 | 17.8 | 10.9 | 0.4 | 0.3 | 1 | 101.4 |  30.8 | 65.514 |   24.71305 | 1246.7 |  0.00000 | 0.00000 | 1.0 |\n",
       "| 4 | Armenia     |  8.6 | 0.4 |  0.2 | 39.2 | 0.3 | 0.1 | 2 |  12.5 |   3.0 | 63.149 |  103.68022 |   28.5 |  0.00000 | 0.00000 | 0.6 |\n",
       "| 5 | Azerbaijan  |  6.9 | 3.3 |  1.1 | 20.4 | 0.1 | 0.0 | 3 |  47.1 |   9.9 | 55.680 |  120.23432 |   82.7 |  0.00000 | 0.00000 | 0.4 |\n",
       "| 6 | Bangladesh  | 25.1 | 0.0 |  6.4 |  0.8 | 0.0 | 0.3 | 1 | 274.0 | 161.4 | 36.632 | 1239.57931 |  130.2 | 73.91220 | 1.03276 | 2.7 |\n",
       "\n"
      ],
      "text/plain": [
       "  Country     bicy cart mcyc pcar boat wigc clusters cgdp  tpop  upop  \n",
       "1 Afghanistan 30.0 5.8  35.2 11.8 0.0  0.1  1         18.4  37.2 25.495\n",
       "2 Albania     26.4 3.2   9.6 37.0 0.7  0.1  2         15.1   2.9 60.319\n",
       "3 Angola       4.6 1.3  17.8 10.9 0.4  0.3  1        101.4  30.8 65.514\n",
       "4 Armenia      8.6 0.4   0.2 39.2 0.3  0.1  2         12.5   3.0 63.149\n",
       "5 Azerbaijan   6.9 3.3   1.1 20.4 0.1  0.0  3         47.1   9.9 55.680\n",
       "6 Bangladesh  25.1 0.0   6.4  0.8 0.0  0.3  1        274.0 161.4 36.632\n",
       "  popd       land   lita     lity    prec\n",
       "1   56.93776  652.9 43.01972 0.75933 0.3 \n",
       "2  104.61226   27.4 98.14115 1.00582 1.5 \n",
       "3   24.71305 1246.7  0.00000 0.00000 1.0 \n",
       "4  103.68022   28.5  0.00000 0.00000 0.6 \n",
       "5  120.23432   82.7  0.00000 0.00000 0.4 \n",
       "6 1239.57931  130.2 73.91220 1.03276 2.7 "
      ]
     },
     "metadata": {},
     "output_type": "display_data"
    }
   ],
   "source": [
    "df$prec <- paste(format(round(df$prec / 1e3, 1), trim = TRUE)) # Preciptiation depth in thousands of mm\n",
    "df$cgdp <- as.numeric(df$cgdp)\n",
    "df$tpop <- as.numeric(df$tpop)\n",
    "df$land <- as.numeric(df$land)\n",
    "df$prec <- as.numeric(df$prec)\n",
    "str(df)\n",
    "head(df)"
   ]
  },
  {
   "cell_type": "code",
   "execution_count": 27,
   "metadata": {},
   "outputs": [
    {
     "data": {
      "image/png": "[encoded data removed]",
      "text/plain": [
       "Plot with title \"Histogram of df$cart\""
      ]
     },
     "metadata": {
      "image/png": {
       "height": 420,
       "width": 420
      }
     },
     "output_type": "display_data"
    }
   ],
   "source": [
    "hist(df$cart)"
   ]
  },
  {
   "cell_type": "code",
   "execution_count": 28,
   "metadata": {},
   "outputs": [],
   "source": [
    "tree.wa = tree(clusters ~ . - Country  , data = df)"
   ]
  },
  {
   "cell_type": "code",
   "execution_count": 29,
   "metadata": {},
   "outputs": [
    {
     "data": {
      "text/plain": [
       "\n",
       "Classification tree:\n",
       "tree(formula = clusters ~ . - Country, data = df)\n",
       "Variables actually used in tree construction:\n",
       "[1] \"pcar\" \"land\" \"cgdp\" \"popd\" \"cart\" \"mcyc\"\n",
       "Number of terminal nodes:  10 \n",
       "Residual mean deviance:  0.6627 = 41.75 / 63 \n",
       "Misclassification error rate: 0.1233 = 9 / 73 "
      ]
     },
     "metadata": {},
     "output_type": "display_data"
    }
   ],
   "source": [
    "summary(tree.wa) "
   ]
  },
  {
   "cell_type": "code",
   "execution_count": 30,
   "metadata": {},
   "outputs": [
    {
     "data": {
      "image/png": "[encoded data removed]",
      "text/plain": [
       "plot without title"
      ]
     },
     "metadata": {
      "image/png": {
       "height": 420,
       "width": 420
      }
     },
     "output_type": "display_data"
    }
   ],
   "source": [
    "plot(tree.wa)\n",
    "text(tree.wa, pretty = 0) #population density High density for six cluster group."
   ]
  },
  {
   "cell_type": "code",
   "execution_count": 31,
   "metadata": {},
   "outputs": [
    {
     "data": {
      "text/plain": [
       "node), split, n, deviance, yval, (yprob)\n",
       "      * denotes terminal node\n",
       "\n",
       " 1) root 73 154.300 1 ( 0.46575 0.23288 0.30137 )  \n",
       "   2) pcar < 12.4 49  77.760 1 ( 0.69388 0.08163 0.22449 )  \n",
       "     4) land < 19.8 5   5.004 3 ( 0.00000 0.20000 0.80000 ) *\n",
       "     5) land > 19.8 44  59.380 1 ( 0.77273 0.06818 0.15909 )  \n",
       "      10) cgdp < 161.7 36  32.440 1 ( 0.83333 0.00000 0.16667 )  \n",
       "        20) land < 575.45 23  26.400 1 ( 0.73913 0.00000 0.26087 )  \n",
       "          40) popd < 96.0767 13  17.940 1 ( 0.53846 0.00000 0.46154 )  \n",
       "            80) popd < 53.5355 7   5.742 1 ( 0.85714 0.00000 0.14286 ) *\n",
       "            81) popd > 53.5355 6   5.407 3 ( 0.16667 0.00000 0.83333 ) *\n",
       "          41) popd > 96.0767 10   0.000 1 ( 1.00000 0.00000 0.00000 ) *\n",
       "        21) land > 575.45 13   0.000 1 ( 1.00000 0.00000 0.00000 ) *\n",
       "      11) cgdp > 161.7 8  15.590 1 ( 0.50000 0.37500 0.12500 ) *\n",
       "   3) pcar > 12.4 24  33.100 2 ( 0.00000 0.54167 0.45833 )  \n",
       "     6) popd < 38.8627 6   0.000 3 ( 0.00000 0.00000 1.00000 ) *\n",
       "     7) popd > 38.8627 18  21.270 2 ( 0.00000 0.72222 0.27778 )  \n",
       "      14) cart < 0.45 8   0.000 2 ( 0.00000 1.00000 0.00000 ) *\n",
       "      15) cart > 0.45 10  13.860 3 ( 0.00000 0.50000 0.50000 )  \n",
       "        30) mcyc < 9.25 5   5.004 3 ( 0.00000 0.20000 0.80000 ) *\n",
       "        31) mcyc > 9.25 5   5.004 2 ( 0.00000 0.80000 0.20000 ) *"
      ]
     },
     "metadata": {},
     "output_type": "display_data"
    }
   ],
   "source": [
    "tree.wa"
   ]
  },
  {
   "cell_type": "code",
   "execution_count": 32,
   "metadata": {},
   "outputs": [
    {
     "data": {
      "text/html": [
       "<style>\n",
       ".list-inline {list-style: none; margin:0; padding: 0}\n",
       ".list-inline>li {display: inline-block}\n",
       ".list-inline>li:not(:last-child)::after {content: \"\\00b7\"; padding: 0 .5ex}\n",
       "</style>\n",
       "<ol class=list-inline><li>73</li><li>57</li><li>46</li><li>58</li><li>61</li><li>60</li></ol>\n"
      ],
      "text/latex": [
       "\\begin{enumerate*}\n",
       "\\item 73\n",
       "\\item 57\n",
       "\\item 46\n",
       "\\item 58\n",
       "\\item 61\n",
       "\\item 60\n",
       "\\end{enumerate*}\n"
      ],
      "text/markdown": [
       "1. 73\n",
       "2. 57\n",
       "3. 46\n",
       "4. 58\n",
       "5. 61\n",
       "6. 60\n",
       "\n",
       "\n"
      ],
      "text/plain": [
       "[1] 73 57 46 58 61 60"
      ]
     },
     "metadata": {},
     "output_type": "display_data"
    }
   ],
   "source": [
    "set.seed(101)\n",
    "train = sample(1:nrow(df), 50)\n",
    "head(train)"
   ]
  },
  {
   "cell_type": "code",
   "execution_count": 33,
   "metadata": {},
   "outputs": [
    {
     "name": "stdout",
     "output_type": "stream",
     "text": [
      "\n",
      "Call:\n",
      " randomForest(formula = clusters ~ . - Country, data = df, ntree = 500,      mtry = 2, ) \n",
      "               Type of random forest: classification\n",
      "                     Number of trees: 500\n",
      "No. of variables tried at each split: 2\n",
      "\n",
      "        OOB estimate of  error rate: 36.99%\n",
      "Confusion matrix:\n",
      "   1 2 3 class.error\n",
      "1 28 0 6   0.1764706\n",
      "2  3 9 5   0.4705882\n",
      "3  8 5 9   0.5909091\n"
     ]
    }
   ],
   "source": [
    "rf.water = randomForest(clusters~. -Country, data = df ,ntree=500,mtry=2,)\n",
    "print(rf.water)"
   ]
  },
  {
   "cell_type": "markdown",
   "metadata": {},
   "source": [
    "oob.err = double(13)\n",
    "test.err = double(13)\n",
    "for(mtry in 1:13){\n",
    "  fit = randomForest(clusters~. -Country, data = df, subset=train, mtry=mtry, ntree = 350)\n",
    "  oob.err[mtry] = fit$mse[350]\n",
    "  pred = predict(fit, df[-train,])\n",
    "  test.err[mtry] = with(df[-train,], mean( (clusters-pred)^2 ))\n",
    "}"
   ]
  },
  {
   "cell_type": "markdown",
   "metadata": {},
   "source": [
    "matplot(1:mtry, cbind(test.err, oob.err), pch = 23, col = c(\"red\", \"blue\"), type = \"b\", ylab=\"Mean Squared Error\")\n",
    "legend(\"topright\", legend = c(\"OOB\", \"Test\"), pch = 23, col = c(\"red\", \"blue\"))"
   ]
  },
  {
   "cell_type": "code",
   "execution_count": 34,
   "metadata": {},
   "outputs": [
    {
     "data": {
      "text/plain": [
       "                Length Class  Mode     \n",
       "call               6   -none- call     \n",
       "type               1   -none- character\n",
       "predicted         73   factor numeric  \n",
       "err.rate        2000   -none- numeric  \n",
       "confusion         12   -none- numeric  \n",
       "votes            219   matrix numeric  \n",
       "oob.times         73   -none- numeric  \n",
       "classes            3   -none- character\n",
       "importance        14   -none- numeric  \n",
       "importanceSD       0   -none- NULL     \n",
       "localImportance    0   -none- NULL     \n",
       "proximity          0   -none- NULL     \n",
       "ntree              1   -none- numeric  \n",
       "mtry               1   -none- numeric  \n",
       "forest            14   -none- list     \n",
       "y                 73   factor numeric  \n",
       "test               0   -none- NULL     \n",
       "inbag              0   -none- NULL     \n",
       "terms              3   terms  call     "
      ]
     },
     "metadata": {},
     "output_type": "display_data"
    }
   ],
   "source": [
    "summary(rf.water)"
   ]
  },
  {
   "cell_type": "markdown",
   "metadata": {},
   "source": [
    "The MeanDecreaseGini measures the Gini importance = how important the features are over all splits done in the tree/forest - whereas for each individual split the Gini importance indicates how much the Gini criterion = \"unequality/heterogeneity\" was reduced using this split.\n",
    "mori, upop, pcar popd, mcyc important and contributed most to obtaining such splits, so they are considered more important."
   ]
  },
  {
   "cell_type": "code",
   "execution_count": 35,
   "metadata": {},
   "outputs": [
    {
     "data": {
      "text/html": [
       "<table class=\"dataframe\">\n",
       "<caption>A matrix: 14 × 1 of type dbl</caption>\n",
       "<thead>\n",
       "\t<tr><th></th><th scope=col>MeanDecreaseGini</th></tr>\n",
       "</thead>\n",
       "<tbody>\n",
       "\t<tr><th scope=row>bicy</th><td>2.163664</td></tr>\n",
       "\t<tr><th scope=row>cart</th><td>2.230936</td></tr>\n",
       "\t<tr><th scope=row>mcyc</th><td>2.982770</td></tr>\n",
       "\t<tr><th scope=row>pcar</th><td>7.584377</td></tr>\n",
       "\t<tr><th scope=row>boat</th><td>2.193530</td></tr>\n",
       "\t<tr><th scope=row>wigc</th><td>2.825585</td></tr>\n",
       "\t<tr><th scope=row>cgdp</th><td>3.169528</td></tr>\n",
       "\t<tr><th scope=row>tpop</th><td>4.565837</td></tr>\n",
       "\t<tr><th scope=row>upop</th><td>4.722258</td></tr>\n",
       "\t<tr><th scope=row>popd</th><td>3.315268</td></tr>\n",
       "\t<tr><th scope=row>land</th><td>3.085274</td></tr>\n",
       "\t<tr><th scope=row>lita</th><td>2.632034</td></tr>\n",
       "\t<tr><th scope=row>lity</th><td>1.724124</td></tr>\n",
       "\t<tr><th scope=row>prec</th><td>2.711186</td></tr>\n",
       "</tbody>\n",
       "</table>\n"
      ],
      "text/latex": [
       "A matrix: 14 × 1 of type dbl\n",
       "\\begin{tabular}{r|l}\n",
       "  & MeanDecreaseGini\\\\\n",
       "\\hline\n",
       "\tbicy & 2.163664\\\\\n",
       "\tcart & 2.230936\\\\\n",
       "\tmcyc & 2.982770\\\\\n",
       "\tpcar & 7.584377\\\\\n",
       "\tboat & 2.193530\\\\\n",
       "\twigc & 2.825585\\\\\n",
       "\tcgdp & 3.169528\\\\\n",
       "\ttpop & 4.565837\\\\\n",
       "\tupop & 4.722258\\\\\n",
       "\tpopd & 3.315268\\\\\n",
       "\tland & 3.085274\\\\\n",
       "\tlita & 2.632034\\\\\n",
       "\tlity & 1.724124\\\\\n",
       "\tprec & 2.711186\\\\\n",
       "\\end{tabular}\n"
      ],
      "text/markdown": [
       "\n",
       "A matrix: 14 × 1 of type dbl\n",
       "\n",
       "| <!--/--> | MeanDecreaseGini |\n",
       "|---|---|\n",
       "| bicy | 2.163664 |\n",
       "| cart | 2.230936 |\n",
       "| mcyc | 2.982770 |\n",
       "| pcar | 7.584377 |\n",
       "| boat | 2.193530 |\n",
       "| wigc | 2.825585 |\n",
       "| cgdp | 3.169528 |\n",
       "| tpop | 4.565837 |\n",
       "| upop | 4.722258 |\n",
       "| popd | 3.315268 |\n",
       "| land | 3.085274 |\n",
       "| lita | 2.632034 |\n",
       "| lity | 1.724124 |\n",
       "| prec | 2.711186 |\n",
       "\n"
      ],
      "text/plain": [
       "     MeanDecreaseGini\n",
       "bicy 2.163664        \n",
       "cart 2.230936        \n",
       "mcyc 2.982770        \n",
       "pcar 7.584377        \n",
       "boat 2.193530        \n",
       "wigc 2.825585        \n",
       "cgdp 3.169528        \n",
       "tpop 4.565837        \n",
       "upop 4.722258        \n",
       "popd 3.315268        \n",
       "land 3.085274        \n",
       "lita 2.632034        \n",
       "lity 1.724124        \n",
       "prec 2.711186        "
      ]
     },
     "metadata": {},
     "output_type": "display_data"
    }
   ],
   "source": [
    "importance <- importance(rf.water, sort = TRUE)\n",
    "importance"
   ]
  },
  {
   "cell_type": "code",
   "execution_count": 36,
   "metadata": {},
   "outputs": [
    {
     "data": {
      "image/png": "[encoded data removed]",
      "text/plain": [
       "Plot with title \"rf.water\""
      ]
     },
     "metadata": {
      "image/png": {
       "height": 420,
       "width": 420
      }
     },
     "output_type": "display_data"
    }
   ],
   "source": [
    "# create an importance plot\n",
    "varImpPlot(rf.water, sort=TRUE, n.var=min(30, nrow(rf.water$importance)),\n",
    "           type=NULL, class=NULL, scale=TRUE )\n",
    "\n",
    "\n"
   ]
  },
  {
   "cell_type": "code",
   "execution_count": 37,
   "metadata": {},
   "outputs": [
    {
     "data": {
      "image/png": "[encoded data removed]"
     },
     "metadata": {
      "image/png": {
       "height": 420,
       "width": 420
      }
     },
     "output_type": "display_data"
    }
   ],
   "source": [
    "plot(randomForest(clusters~. -Country, data = df ,ntree=500,keep.forest=FALSE, mtry=2) )\n"
   ]
  },
  {
   "cell_type": "markdown",
   "metadata": {},
   "source": [
    "# randomForestExplainer"
   ]
  },
  {
   "cell_type": "code",
   "execution_count": 38,
   "metadata": {},
   "outputs": [],
   "source": [
    "rf.water = randomForest(clusters~. -Country, data = df ,ntree=500,mtry=2, localImp = TRUE)"
   ]
  },
  {
   "cell_type": "code",
   "execution_count": 39,
   "metadata": {},
   "outputs": [
    {
     "data": {
      "text/html": [
       "<table class=\"dataframe\">\n",
       "<caption>A data.frame: 10 × 3</caption>\n",
       "<thead>\n",
       "\t<tr><th></th><th scope=col>tree</th><th scope=col>variable</th><th scope=col>minimal_depth</th></tr>\n",
       "\t<tr><th></th><th scope=col>&lt;int&gt;</th><th scope=col>&lt;chr&gt;</th><th scope=col>&lt;dbl&gt;</th></tr>\n",
       "</thead>\n",
       "<tbody>\n",
       "\t<tr><th scope=row>1</th><td>1</td><td>cart</td><td>2</td></tr>\n",
       "\t<tr><th scope=row>2</th><td>1</td><td>cgdp</td><td>6</td></tr>\n",
       "\t<tr><th scope=row>3</th><td>1</td><td>land</td><td>3</td></tr>\n",
       "\t<tr><th scope=row>4</th><td>1</td><td>lita</td><td>3</td></tr>\n",
       "\t<tr><th scope=row>5</th><td>1</td><td>mcyc</td><td>1</td></tr>\n",
       "\t<tr><th scope=row>6</th><td>1</td><td>pcar</td><td>1</td></tr>\n",
       "\t<tr><th scope=row>7</th><td>1</td><td>popd</td><td>2</td></tr>\n",
       "\t<tr><th scope=row>8</th><td>1</td><td>prec</td><td>4</td></tr>\n",
       "\t<tr><th scope=row>9</th><td>1</td><td>upop</td><td>0</td></tr>\n",
       "\t<tr><th scope=row>10</th><td>2</td><td>bicy</td><td>3</td></tr>\n",
       "</tbody>\n",
       "</table>\n"
      ],
      "text/latex": [
       "A data.frame: 10 × 3\n",
       "\\begin{tabular}{r|lll}\n",
       "  & tree & variable & minimal\\_depth\\\\\n",
       "  & <int> & <chr> & <dbl>\\\\\n",
       "\\hline\n",
       "\t1 & 1 & cart & 2\\\\\n",
       "\t2 & 1 & cgdp & 6\\\\\n",
       "\t3 & 1 & land & 3\\\\\n",
       "\t4 & 1 & lita & 3\\\\\n",
       "\t5 & 1 & mcyc & 1\\\\\n",
       "\t6 & 1 & pcar & 1\\\\\n",
       "\t7 & 1 & popd & 2\\\\\n",
       "\t8 & 1 & prec & 4\\\\\n",
       "\t9 & 1 & upop & 0\\\\\n",
       "\t10 & 2 & bicy & 3\\\\\n",
       "\\end{tabular}\n"
      ],
      "text/markdown": [
       "\n",
       "A data.frame: 10 × 3\n",
       "\n",
       "| <!--/--> | tree &lt;int&gt; | variable &lt;chr&gt; | minimal_depth &lt;dbl&gt; |\n",
       "|---|---|---|---|\n",
       "| 1 | 1 | cart | 2 |\n",
       "| 2 | 1 | cgdp | 6 |\n",
       "| 3 | 1 | land | 3 |\n",
       "| 4 | 1 | lita | 3 |\n",
       "| 5 | 1 | mcyc | 1 |\n",
       "| 6 | 1 | pcar | 1 |\n",
       "| 7 | 1 | popd | 2 |\n",
       "| 8 | 1 | prec | 4 |\n",
       "| 9 | 1 | upop | 0 |\n",
       "| 10 | 2 | bicy | 3 |\n",
       "\n"
      ],
      "text/plain": [
       "   tree variable minimal_depth\n",
       "1  1    cart     2            \n",
       "2  1    cgdp     6            \n",
       "3  1    land     3            \n",
       "4  1    lita     3            \n",
       "5  1    mcyc     1            \n",
       "6  1    pcar     1            \n",
       "7  1    popd     2            \n",
       "8  1    prec     4            \n",
       "9  1    upop     0            \n",
       "10 2    bicy     3            "
      ]
     },
     "metadata": {},
     "output_type": "display_data"
    }
   ],
   "source": [
    "min_depth_frame <- min_depth_distribution(rf.water)\n",
    "save(min_depth_frame, file = \"min_depth_frame.rda\")\n",
    "load(\"min_depth_frame.rda\")\n",
    "head(min_depth_frame, n = 10)"
   ]
  },
  {
   "cell_type": "code",
   "execution_count": 40,
   "metadata": {},
   "outputs": [
    {
     "data": {
      "image/png": "[encoded data removed]",
      "text/plain": [
       "plot without title"
      ]
     },
     "metadata": {
      "image/png": {
       "height": 420,
       "width": 420
      }
     },
     "output_type": "display_data"
    }
   ],
   "source": [
    "plot_min_depth_distribution(min_depth_frame)"
   ]
  },
  {
   "cell_type": "markdown",
   "metadata": {},
   "source": [
    "The function plot_min_depth_distribution offers three possibilities when it comes to calculating the mean minimal depth, which differ in he way they treat missing values that appear when a variable is not used for splitting in a tree. They can be described as follows:"
   ]
  },
  {
   "cell_type": "code",
   "execution_count": 41,
   "metadata": {},
   "outputs": [
    {
     "data": {
      "image/png": "[encoded data removed]",
      "text/plain": [
       "plot without title"
      ]
     },
     "metadata": {
      "image/png": {
       "height": 420,
       "width": 420
      }
     },
     "output_type": "display_data"
    }
   ],
   "source": [
    "plot_min_depth_distribution(min_depth_frame, mean_sample = \"relevant_trees\", k = 15)"
   ]
  },
  {
   "cell_type": "markdown",
   "metadata": {},
   "source": [
    "Clearly, using only relevant trees for calculating the mean does not change it for variables that have no missing values. Also, in this case the change does not influence the ordering of variables, but of course this usually not the case in more complex examples.\n",
    "\n",
    "Regardless of the exact parameters used in plot_min_depth_distribution, looking at the whole distribution of minimal depth offers a lot more insight into the role that a predictor plays in a forest in contrast to looking only at the mean, especially as it can be calculated in more than one way. Additionally, the function allows us to specify the maximum number of variables plotted k, whether the values of mean minimal depth should be scaled to the [0,1] interval (mean_scale, logical), the number of digits to round the mean to for display (mean_round) and the title of the plot (main)."
   ]
  },
  {
   "cell_type": "code",
   "execution_count": 42,
   "metadata": {},
   "outputs": [
    {
     "data": {
      "text/html": [
       "<table class=\"dataframe\">\n",
       "<caption>A data.frame: 14 × 8</caption>\n",
       "<thead>\n",
       "\t<tr><th scope=col>variable</th><th scope=col>mean_min_depth</th><th scope=col>no_of_nodes</th><th scope=col>accuracy_decrease</th><th scope=col>gini_decrease</th><th scope=col>no_of_trees</th><th scope=col>times_a_root</th><th scope=col>p_value</th></tr>\n",
       "\t<tr><th scope=col>&lt;fct&gt;</th><th scope=col>&lt;dbl&gt;</th><th scope=col>&lt;int&gt;</th><th scope=col>&lt;dbl&gt;</th><th scope=col>&lt;dbl&gt;</th><th scope=col>&lt;int&gt;</th><th scope=col>&lt;int&gt;</th><th scope=col>&lt;dbl&gt;</th></tr>\n",
       "</thead>\n",
       "<tbody>\n",
       "\t<tr><td>bicy</td><td>3.826129</td><td>617</td><td>-0.0065308678</td><td>2.285899</td><td>358</td><td>15</td><td>9.175691e-01</td></tr>\n",
       "\t<tr><td>boat</td><td>3.845853</td><td>536</td><td>-0.0022144135</td><td>2.110652</td><td>348</td><td>16</td><td>9.999992e-01</td></tr>\n",
       "\t<tr><td>cart</td><td>3.951747</td><td>569</td><td> 0.0019729924</td><td>2.226996</td><td>340</td><td>16</td><td>9.996617e-01</td></tr>\n",
       "\t<tr><td>cgdp</td><td>2.944598</td><td>738</td><td> 0.0080126566</td><td>3.664983</td><td>385</td><td>46</td><td>2.539287e-04</td></tr>\n",
       "\t<tr><td>land</td><td>3.527352</td><td>648</td><td> 0.0056870506</td><td>2.915157</td><td>354</td><td>36</td><td>5.463055e-01</td></tr>\n",
       "\t<tr><td>lita</td><td>3.707880</td><td>445</td><td> 0.0086053505</td><td>2.349796</td><td>319</td><td>46</td><td>1.000000e+00</td></tr>\n",
       "\t<tr><td>lity</td><td>4.057526</td><td>441</td><td> 0.0025065362</td><td>1.974046</td><td>307</td><td>23</td><td>1.000000e+00</td></tr>\n",
       "\t<tr><td>mcyc</td><td>3.235922</td><td>702</td><td> 0.0022673768</td><td>3.050635</td><td>388</td><td>31</td><td>1.986240e-02</td></tr>\n",
       "\t<tr><td>pcar</td><td>2.324138</td><td>865</td><td> 0.0619247373</td><td>7.263762</td><td>435</td><td>69</td><td>4.232953e-17</td></tr>\n",
       "\t<tr><td>popd</td><td>3.124317</td><td>755</td><td> 0.0061343466</td><td>3.516681</td><td>394</td><td>25</td><td>1.739112e-05</td></tr>\n",
       "\t<tr><td>prec</td><td>3.555274</td><td>643</td><td> 0.0003229384</td><td>2.572555</td><td>367</td><td>22</td><td>6.256284e-01</td></tr>\n",
       "\t<tr><td>tpop</td><td>2.875264</td><td>802</td><td> 0.0243322164</td><td>4.367702</td><td>405</td><td>55</td><td>1.345991e-09</td></tr>\n",
       "\t<tr><td>upop</td><td>2.865030</td><td>796</td><td> 0.0195404148</td><td>4.297610</td><td>399</td><td>46</td><td>5.320117e-09</td></tr>\n",
       "\t<tr><td>wigc</td><td>3.372143</td><td>550</td><td> 0.0170367397</td><td>3.308936</td><td>356</td><td>54</td><td>9.999872e-01</td></tr>\n",
       "</tbody>\n",
       "</table>\n"
      ],
      "text/latex": [
       "A data.frame: 14 × 8\n",
       "\\begin{tabular}{llllllll}\n",
       " variable & mean\\_min\\_depth & no\\_of\\_nodes & accuracy\\_decrease & gini\\_decrease & no\\_of\\_trees & times\\_a\\_root & p\\_value\\\\\n",
       " <fct> & <dbl> & <int> & <dbl> & <dbl> & <int> & <int> & <dbl>\\\\\n",
       "\\hline\n",
       "\t bicy & 3.826129 & 617 & -0.0065308678 & 2.285899 & 358 & 15 & 9.175691e-01\\\\\n",
       "\t boat & 3.845853 & 536 & -0.0022144135 & 2.110652 & 348 & 16 & 9.999992e-01\\\\\n",
       "\t cart & 3.951747 & 569 &  0.0019729924 & 2.226996 & 340 & 16 & 9.996617e-01\\\\\n",
       "\t cgdp & 2.944598 & 738 &  0.0080126566 & 3.664983 & 385 & 46 & 2.539287e-04\\\\\n",
       "\t land & 3.527352 & 648 &  0.0056870506 & 2.915157 & 354 & 36 & 5.463055e-01\\\\\n",
       "\t lita & 3.707880 & 445 &  0.0086053505 & 2.349796 & 319 & 46 & 1.000000e+00\\\\\n",
       "\t lity & 4.057526 & 441 &  0.0025065362 & 1.974046 & 307 & 23 & 1.000000e+00\\\\\n",
       "\t mcyc & 3.235922 & 702 &  0.0022673768 & 3.050635 & 388 & 31 & 1.986240e-02\\\\\n",
       "\t pcar & 2.324138 & 865 &  0.0619247373 & 7.263762 & 435 & 69 & 4.232953e-17\\\\\n",
       "\t popd & 3.124317 & 755 &  0.0061343466 & 3.516681 & 394 & 25 & 1.739112e-05\\\\\n",
       "\t prec & 3.555274 & 643 &  0.0003229384 & 2.572555 & 367 & 22 & 6.256284e-01\\\\\n",
       "\t tpop & 2.875264 & 802 &  0.0243322164 & 4.367702 & 405 & 55 & 1.345991e-09\\\\\n",
       "\t upop & 2.865030 & 796 &  0.0195404148 & 4.297610 & 399 & 46 & 5.320117e-09\\\\\n",
       "\t wigc & 3.372143 & 550 &  0.0170367397 & 3.308936 & 356 & 54 & 9.999872e-01\\\\\n",
       "\\end{tabular}\n"
      ],
      "text/markdown": [
       "\n",
       "A data.frame: 14 × 8\n",
       "\n",
       "| variable &lt;fct&gt; | mean_min_depth &lt;dbl&gt; | no_of_nodes &lt;int&gt; | accuracy_decrease &lt;dbl&gt; | gini_decrease &lt;dbl&gt; | no_of_trees &lt;int&gt; | times_a_root &lt;int&gt; | p_value &lt;dbl&gt; |\n",
       "|---|---|---|---|---|---|---|---|\n",
       "| bicy | 3.826129 | 617 | -0.0065308678 | 2.285899 | 358 | 15 | 9.175691e-01 |\n",
       "| boat | 3.845853 | 536 | -0.0022144135 | 2.110652 | 348 | 16 | 9.999992e-01 |\n",
       "| cart | 3.951747 | 569 |  0.0019729924 | 2.226996 | 340 | 16 | 9.996617e-01 |\n",
       "| cgdp | 2.944598 | 738 |  0.0080126566 | 3.664983 | 385 | 46 | 2.539287e-04 |\n",
       "| land | 3.527352 | 648 |  0.0056870506 | 2.915157 | 354 | 36 | 5.463055e-01 |\n",
       "| lita | 3.707880 | 445 |  0.0086053505 | 2.349796 | 319 | 46 | 1.000000e+00 |\n",
       "| lity | 4.057526 | 441 |  0.0025065362 | 1.974046 | 307 | 23 | 1.000000e+00 |\n",
       "| mcyc | 3.235922 | 702 |  0.0022673768 | 3.050635 | 388 | 31 | 1.986240e-02 |\n",
       "| pcar | 2.324138 | 865 |  0.0619247373 | 7.263762 | 435 | 69 | 4.232953e-17 |\n",
       "| popd | 3.124317 | 755 |  0.0061343466 | 3.516681 | 394 | 25 | 1.739112e-05 |\n",
       "| prec | 3.555274 | 643 |  0.0003229384 | 2.572555 | 367 | 22 | 6.256284e-01 |\n",
       "| tpop | 2.875264 | 802 |  0.0243322164 | 4.367702 | 405 | 55 | 1.345991e-09 |\n",
       "| upop | 2.865030 | 796 |  0.0195404148 | 4.297610 | 399 | 46 | 5.320117e-09 |\n",
       "| wigc | 3.372143 | 550 |  0.0170367397 | 3.308936 | 356 | 54 | 9.999872e-01 |\n",
       "\n"
      ],
      "text/plain": [
       "   variable mean_min_depth no_of_nodes accuracy_decrease gini_decrease\n",
       "1  bicy     3.826129       617         -0.0065308678     2.285899     \n",
       "2  boat     3.845853       536         -0.0022144135     2.110652     \n",
       "3  cart     3.951747       569          0.0019729924     2.226996     \n",
       "4  cgdp     2.944598       738          0.0080126566     3.664983     \n",
       "5  land     3.527352       648          0.0056870506     2.915157     \n",
       "6  lita     3.707880       445          0.0086053505     2.349796     \n",
       "7  lity     4.057526       441          0.0025065362     1.974046     \n",
       "8  mcyc     3.235922       702          0.0022673768     3.050635     \n",
       "9  pcar     2.324138       865          0.0619247373     7.263762     \n",
       "10 popd     3.124317       755          0.0061343466     3.516681     \n",
       "11 prec     3.555274       643          0.0003229384     2.572555     \n",
       "12 tpop     2.875264       802          0.0243322164     4.367702     \n",
       "13 upop     2.865030       796          0.0195404148     4.297610     \n",
       "14 wigc     3.372143       550          0.0170367397     3.308936     \n",
       "   no_of_trees times_a_root p_value     \n",
       "1  358         15           9.175691e-01\n",
       "2  348         16           9.999992e-01\n",
       "3  340         16           9.996617e-01\n",
       "4  385         46           2.539287e-04\n",
       "5  354         36           5.463055e-01\n",
       "6  319         46           1.000000e+00\n",
       "7  307         23           1.000000e+00\n",
       "8  388         31           1.986240e-02\n",
       "9  435         69           4.232953e-17\n",
       "10 394         25           1.739112e-05\n",
       "11 367         22           6.256284e-01\n",
       "12 405         55           1.345991e-09\n",
       "13 399         46           5.320117e-09\n",
       "14 356         54           9.999872e-01"
      ]
     },
     "metadata": {},
     "output_type": "display_data"
    }
   ],
   "source": [
    "importance_frame <- measure_importance(rf.water)\n",
    "save(importance_frame, file = \"importance_frame.rda\")\n",
    "load(\"importance_frame.rda\")\n",
    "importance_frame"
   ]
  },
  {
   "cell_type": "markdown",
   "metadata": {},
   "source": [
    "accuracy_decrease (classification) – mean decrease of prediction accuracy after Xj is permuted,\n",
    "\n",
    "gini_decrease (classification) – mean decrease in the Gini index of node impurity (i.e. increase of node purity) by splits on Xj,\n",
    "\n",
    "mse_increase (regression) – mean increase of mean squared error after Xj is permuted,\n",
    "\n",
    "node_purity_increase (regression) – mean node purity increase by splits on Xj, as measured by the decrease in sum of squares,\n",
    "\n",
    "mean_minimal_depth – mean minimal depth calculated in one of three ways specified by the parameter mean_sample,\n",
    "\n",
    "no_of_trees – total number of trees in which a split on Xj occurs,\n",
    "\n",
    "no_of_nodes – total number of nodes that use Xj for splitting (it is usually equal to no_of_trees if trees are shallow),\n",
    "\n",
    "times_a_root – total number of trees in which Xj is used for splitting the root node (i.e., the whole sample is divided into two based on the value of Xj),\n",
    "\n",
    "p_value – p-value for the one-sided binomial test using the following distribution:"
   ]
  },
  {
   "cell_type": "code",
   "execution_count": 43,
   "metadata": {},
   "outputs": [
    {
     "data": {
      "image/png": "[encoded data removed]",
      "text/plain": [
       "plot without title"
      ]
     },
     "metadata": {
      "image/png": {
       "height": 420,
       "width": 420
      }
     },
     "output_type": "display_data"
    }
   ],
   "source": [
    "plot_multi_way_importance(importance_frame, size_measure = \"no_of_nodes\")"
   ]
  },
  {
   "cell_type": "code",
   "execution_count": 44,
   "metadata": {},
   "outputs": [
    {
     "data": {
      "image/png": "[encoded data removed]",
      "text/plain": [
       "plot without title"
      ]
     },
     "metadata": {
      "image/png": {
       "height": 420,
       "width": 420
      }
     },
     "output_type": "display_data"
    }
   ],
   "source": [
    "plot_importance_ggpairs(importance_frame)"
   ]
  },
  {
   "cell_type": "markdown",
   "metadata": {},
   "source": [
    "We can see that all depicted measures are highly correlated (of course the correlation of any measure with mean minimal depth is negative as the latter is lowest for best variables), but some less than others. Moreover, regardless of which measures we compare, there always seem to be two points that stand out and these most likely correspond to lstat and rm (to now for sure we could just examine the importance_frame)."
   ]
  },
  {
   "cell_type": "code",
   "execution_count": 45,
   "metadata": {},
   "outputs": [
    {
     "name": "stderr",
     "output_type": "stream",
     "text": [
      "`geom_smooth()` using formula 'y ~ x'\n",
      "\n",
      "`geom_smooth()` using formula 'y ~ x'\n",
      "\n",
      "`geom_smooth()` using formula 'y ~ x'\n",
      "\n",
      "`geom_smooth()` using formula 'y ~ x'\n",
      "\n",
      "`geom_smooth()` using formula 'y ~ x'\n",
      "\n",
      "`geom_smooth()` using formula 'y ~ x'\n",
      "\n",
      "`geom_smooth()` using formula 'y ~ x'\n",
      "\n",
      "`geom_smooth()` using formula 'y ~ x'\n",
      "\n",
      "`geom_smooth()` using formula 'y ~ x'\n",
      "\n",
      "`geom_smooth()` using formula 'y ~ x'\n",
      "\n"
     ]
    },
    {
     "data": {
      "image/png": "[encoded data removed]",
      "text/plain": [
       "plot without title"
      ]
     },
     "metadata": {
      "image/png": {
       "height": 420,
       "width": 420
      }
     },
     "output_type": "display_data"
    }
   ],
   "source": [
    "plot_importance_rankings(importance_frame)"
   ]
  },
  {
   "cell_type": "markdown",
   "metadata": {},
   "source": [
    "The above density estimates show that skewness was eliminated for all of our importance measures (this is not always the case, e.g., when ties in rankings are frequent, and this is likely for discrete importance measures such as times_a_root, then the distribution of the ranking will also be skewed)."
   ]
  },
  {
   "cell_type": "markdown",
   "metadata": {},
   "source": [
    "# Variable interactions"
   ]
  },
  {
   "cell_type": "code",
   "execution_count": 46,
   "metadata": {},
   "outputs": [],
   "source": [
    "# (vars <- important_variables(forest, k = 5, measures = c(\"mean_min_depth\", \"no_of_trees\"))) # gives the same result as below but takes longer\n",
    "vars <- important_variables(importance_frame, k = 5, measures = c(\"mean_min_depth\", \"no_of_trees\"))"
   ]
  },
  {
   "cell_type": "code",
   "execution_count": 47,
   "metadata": {},
   "outputs": [
    {
     "data": {
      "text/html": [
       "<table class=\"dataframe\">\n",
       "<caption>A data.frame: 6 × 6</caption>\n",
       "<thead>\n",
       "\t<tr><th></th><th scope=col>variable</th><th scope=col>root_variable</th><th scope=col>mean_min_depth</th><th scope=col>occurrences</th><th scope=col>interaction</th><th scope=col>uncond_mean_min_depth</th></tr>\n",
       "\t<tr><th></th><th scope=col>&lt;chr&gt;</th><th scope=col>&lt;fct&gt;</th><th scope=col>&lt;dbl&gt;</th><th scope=col>&lt;int&gt;</th><th scope=col>&lt;chr&gt;</th><th scope=col>&lt;dbl&gt;</th></tr>\n",
       "</thead>\n",
       "<tbody>\n",
       "\t<tr><th scope=row>58</th><td>tpop</td><td>pcar</td><td>1.510870</td><td>184</td><td>pcar:tpop</td><td>2.976456</td></tr>\n",
       "\t<tr><th scope=row>38</th><td>mcyc</td><td>pcar</td><td>1.675057</td><td>177</td><td>pcar:mcyc</td><td>2.606684</td></tr>\n",
       "\t<tr><th scope=row>3</th><td>bicy</td><td>pcar</td><td>1.618707</td><td>175</td><td>pcar:bicy</td><td>3.383509</td></tr>\n",
       "\t<tr><th scope=row>63</th><td>upop</td><td>pcar</td><td>1.801201</td><td>170</td><td>pcar:upop</td><td>2.770737</td></tr>\n",
       "\t<tr><th scope=row>43</th><td>pcar</td><td>pcar</td><td>1.909611</td><td>167</td><td>pcar:pcar</td><td>2.489035</td></tr>\n",
       "\t<tr><th scope=row>23</th><td>land</td><td>pcar</td><td>1.889588</td><td>166</td><td>pcar:land</td><td>3.341772</td></tr>\n",
       "</tbody>\n",
       "</table>\n"
      ],
      "text/latex": [
       "A data.frame: 6 × 6\n",
       "\\begin{tabular}{r|llllll}\n",
       "  & variable & root\\_variable & mean\\_min\\_depth & occurrences & interaction & uncond\\_mean\\_min\\_depth\\\\\n",
       "  & <chr> & <fct> & <dbl> & <int> & <chr> & <dbl>\\\\\n",
       "\\hline\n",
       "\t58 & tpop & pcar & 1.510870 & 184 & pcar:tpop & 2.976456\\\\\n",
       "\t38 & mcyc & pcar & 1.675057 & 177 & pcar:mcyc & 2.606684\\\\\n",
       "\t3 & bicy & pcar & 1.618707 & 175 & pcar:bicy & 3.383509\\\\\n",
       "\t63 & upop & pcar & 1.801201 & 170 & pcar:upop & 2.770737\\\\\n",
       "\t43 & pcar & pcar & 1.909611 & 167 & pcar:pcar & 2.489035\\\\\n",
       "\t23 & land & pcar & 1.889588 & 166 & pcar:land & 3.341772\\\\\n",
       "\\end{tabular}\n"
      ],
      "text/markdown": [
       "\n",
       "A data.frame: 6 × 6\n",
       "\n",
       "| <!--/--> | variable &lt;chr&gt; | root_variable &lt;fct&gt; | mean_min_depth &lt;dbl&gt; | occurrences &lt;int&gt; | interaction &lt;chr&gt; | uncond_mean_min_depth &lt;dbl&gt; |\n",
       "|---|---|---|---|---|---|---|\n",
       "| 58 | tpop | pcar | 1.510870 | 184 | pcar:tpop | 2.976456 |\n",
       "| 38 | mcyc | pcar | 1.675057 | 177 | pcar:mcyc | 2.606684 |\n",
       "| 3 | bicy | pcar | 1.618707 | 175 | pcar:bicy | 3.383509 |\n",
       "| 63 | upop | pcar | 1.801201 | 170 | pcar:upop | 2.770737 |\n",
       "| 43 | pcar | pcar | 1.909611 | 167 | pcar:pcar | 2.489035 |\n",
       "| 23 | land | pcar | 1.889588 | 166 | pcar:land | 3.341772 |\n",
       "\n"
      ],
      "text/plain": [
       "   variable root_variable mean_min_depth occurrences interaction\n",
       "58 tpop     pcar          1.510870       184         pcar:tpop  \n",
       "38 mcyc     pcar          1.675057       177         pcar:mcyc  \n",
       "3  bicy     pcar          1.618707       175         pcar:bicy  \n",
       "63 upop     pcar          1.801201       170         pcar:upop  \n",
       "43 pcar     pcar          1.909611       167         pcar:pcar  \n",
       "23 land     pcar          1.889588       166         pcar:land  \n",
       "   uncond_mean_min_depth\n",
       "58 2.976456             \n",
       "38 2.606684             \n",
       "3  3.383509             \n",
       "63 2.770737             \n",
       "43 2.489035             \n",
       "23 3.341772             "
      ]
     },
     "metadata": {},
     "output_type": "display_data"
    }
   ],
   "source": [
    "#interactions_frame <- min_depth_interactions(rf.water, vars)\n",
    "#save(interactions_frame, file = \"interactions_frame.rda\")\n",
    "load(\"interactions_frame.rda\")\n",
    "head(interactions_frame[order(interactions_frame$occurrences, decreasing = TRUE), ])"
   ]
  },
  {
   "cell_type": "code",
   "execution_count": 48,
   "metadata": {},
   "outputs": [
    {
     "data": {
      "image/png": "[encoded data removed]",
      "text/plain": [
       "plot without title"
      ]
     },
     "metadata": {
      "image/png": {
       "height": 420,
       "width": 420
      }
     },
     "output_type": "display_data"
    }
   ],
   "source": [
    "plot_min_depth_interactions(interactions_frame)"
   ]
  },
  {
   "cell_type": "markdown",
   "metadata": {},
   "source": [
    "Note that the interactions are ordered by decreasing number of occurrences – the most frequent one, pcar:tpop, is also the one with minimal mean conditional minimal depth. Remarkably, the unconditional mean minimal depth of pcar in the forest is almost equal to its mean minimal depth across maximal subtrees with tpop as the root variable."
   ]
  },
  {
   "cell_type": "code",
   "execution_count": 49,
   "metadata": {},
   "outputs": [
    {
     "data": {
      "image/png": "[encoded data removed]",
      "text/plain": [
       "plot without title"
      ]
     },
     "metadata": {
      "image/png": {
       "height": 420,
       "width": 420
      }
     },
     "output_type": "display_data"
    }
   ],
   "source": [
    "#interactions_frame <- min_depth_interactions(rf.water, vars, mean_sample = \"relevant_trees\", uncond_mean_sample = \"relevant_trees\")\n",
    "#save(interactions_frame, file = \"interactions_frame_relevant.rda\")\n",
    "load(\"interactions_frame_relevant.rda\")\n",
    "plot_min_depth_interactions(interactions_frame)"
   ]
  },
  {
   "cell_type": "markdown",
   "metadata": {},
   "source": [
    "Comparing this plot with the previous one we see that removing penalization of missing values lowers the mean conditional minimal depth of all interactions except the most frequent one."
   ]
  },
  {
   "cell_type": "markdown",
   "metadata": {},
   "source": [
    "# Confusion Matrix"
   ]
  },
  {
   "cell_type": "markdown",
   "metadata": {},
   "source": [
    "df$pred <- predict(rf.water , df)\n",
    "df$pred <- as.factor(df$pred)\n",
    "confusionMatrix(df$pred, df$clusters)"
   ]
  },
  {
   "cell_type": "markdown",
   "metadata": {},
   "source": [
    "pred <- predict(object = rf.water,\n",
    "            newdata = df,\n",
    "            type = \"prob\")\n",
    "for (i in 1:5) {\n",
    "auc <-    auc(actual = df$clusters, \n",
    "    predicted = pred[,i])\n",
    "print(auc(actual = df$clusters, \n",
    "    predicted = pred[,i]))\n",
    "    }"
   ]
  },
  {
   "cell_type": "markdown",
   "metadata": {},
   "source": [
    "AUC is intended to determine the degree of separability, or the ability to correct predict class. The higher the AUC the better. 1 would be perfect, and .5 would be random."
   ]
  }
 ],
 "metadata": {
  "kernelspec": {
   "display_name": "R",
   "language": "R",
   "name": "ir"
  },
  "language_info": {
   "codemirror_mode": "r",
   "file_extension": ".r",
   "mimetype": "text/x-r-source",
   "name": "R",
   "pygments_lexer": "r",
   "version": "4.0.2"
  }
 },
 "nbformat": 4,
 "nbformat_minor": 4
}
