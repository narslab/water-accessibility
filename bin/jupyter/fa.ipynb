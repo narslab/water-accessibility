{
 "cells": [
  {
   "cell_type": "code",
   "execution_count": 1,
   "metadata": {
    "collapsed": true,
    "jupyter": {
     "outputs_hidden": true
    },
    "tags": []
   },
   "outputs": [
    {
     "name": "stderr",
     "output_type": "stream",
     "text": [
      "Loading required package: ggplot2\n",
      "\n",
      "Welcome! Want to learn more? See two factoextra-related books at https://goo.gl/ve3WBa\n",
      "\n",
      "\n",
      "Attaching package: ‘dplyr’\n",
      "\n",
      "\n",
      "The following objects are masked from ‘package:stats’:\n",
      "\n",
      "    filter, lag\n",
      "\n",
      "\n",
      "The following objects are masked from ‘package:base’:\n",
      "\n",
      "    intersect, setdiff, setequal, union\n",
      "\n",
      "\n",
      "\n",
      "Attaching package: ‘psych’\n",
      "\n",
      "\n",
      "The following objects are masked from ‘package:ggplot2’:\n",
      "\n",
      "    %+%, alpha\n",
      "\n",
      "\n"
     ]
    },
    {
     "ename": "ERROR",
     "evalue": "Error in library(psy): there is no package called ‘psy’\n",
     "output_type": "error",
     "traceback": [
      "Error in library(psy): there is no package called ‘psy’\nTraceback:\n",
      "1. library(psy)"
     ]
    }
   ],
   "source": [
    "#install.packages(c(\"FactoMineR\", \"factoextra\"))\n",
    "#install.packages(\"GPArotation\")\n",
    "#install.packages(\"psy\")\n",
    "#install.packages(\"nFactors\")\n",
    "#install.packages(\"scales\")\n",
    "#install.packages(\"Rcsdp\")\n",
    "#install.packages('reshape2')\n",
    "#install.packages('Rcpp')\n",
    "\n",
    "library(Rcpp)\n",
    "\n",
    "library(\"FactoMineR\")\n",
    "library(\"factoextra\")\n",
    "library(readxl)\n",
    "library(dplyr)\n",
    "library(psych)\n",
    "\n",
    "library(GPArotation)\n",
    "\n",
    "library(psy)\n",
    "\n",
    "library(nFactors)\n",
    "library(mvtnorm) # col.norm\n",
    "library(tilting) # col.norm\n",
    "library(corrplot)\n",
    "library(writexl)\n",
    "\n",
    "library(scales)\n",
    "\n",
    "library(Rcsdp)\n",
    "\n",
    "library(reshape2)\n",
    "library(ggplot2)\n",
    "library(devtools)\n",
    "library(factoextra)"
   ]
  },
  {
   "cell_type": "code",
   "execution_count": 2,
   "metadata": {},
   "outputs": [],
   "source": [
    "library(GPArotation)"
   ]
  },
  {
   "cell_type": "code",
   "execution_count": 3,
   "metadata": {},
   "outputs": [
    {
     "data": {
      "text/html": [
       "<table class=\"dataframe\">\n",
       "<caption>A tibble: 6 × 18</caption>\n",
       "<thead>\n",
       "\t<tr><th scope=col>Country</th><th scope=col>phom</th><th scope=col>pipy</th><th scope=col>ptap</th><th scope=col>bore</th><th scope=col>pwel</th><th scope=col>pspr</th><th scope=col>rain</th><th scope=col>uwel</th><th scope=col>uspr</th><th scope=col>truc</th><th scope=col>ctan</th><th scope=col>bott</th><th scope=col>othw</th><th scope=col>surw</th><th scope=col>tles</th><th scope=col>tmor</th><th scope=col>watp</th></tr>\n",
       "\t<tr><th scope=col>&lt;chr&gt;</th><th scope=col>&lt;dbl&gt;</th><th scope=col>&lt;dbl&gt;</th><th scope=col>&lt;dbl&gt;</th><th scope=col>&lt;dbl&gt;</th><th scope=col>&lt;dbl&gt;</th><th scope=col>&lt;dbl&gt;</th><th scope=col>&lt;dbl&gt;</th><th scope=col>&lt;dbl&gt;</th><th scope=col>&lt;dbl&gt;</th><th scope=col>&lt;dbl&gt;</th><th scope=col>&lt;dbl&gt;</th><th scope=col>&lt;dbl&gt;</th><th scope=col>&lt;dbl&gt;</th><th scope=col>&lt;dbl&gt;</th><th scope=col>&lt;dbl&gt;</th><th scope=col>&lt;dbl&gt;</th><th scope=col>&lt;dbl&gt;</th></tr>\n",
       "</thead>\n",
       "<tbody>\n",
       "\t<tr><td>Afghanistan</td><td> 2.3</td><td> 4.8</td><td>14.2</td><td>20.1</td><td>18.5</td><td>4.7</td><td>0.4</td><td>11.1</td><td>8.6</td><td> 1.5</td><td>4.4</td><td> 0.2</td><td>1.7</td><td> 7.3</td><td>45.2</td><td> 8.2</td><td>45.3</td></tr>\n",
       "\t<tr><td>Albania    </td><td>48.8</td><td> 5.2</td><td> 2.4</td><td> 1.4</td><td> 4.1</td><td>2.5</td><td>0.0</td><td> 0.8</td><td>0.8</td><td>14.1</td><td>0.2</td><td>19.6</td><td>0.1</td><td> 0.0</td><td>20.6</td><td> 1.1</td><td>77.9</td></tr>\n",
       "\t<tr><td>Angola     </td><td> 4.3</td><td> 9.7</td><td>10.3</td><td> 1.9</td><td> 9.1</td><td>3.3</td><td>1.7</td><td> 8.3</td><td>4.8</td><td> 9.7</td><td>4.3</td><td> 1.2</td><td>1.8</td><td>18.0</td><td>46.1</td><td>15.6</td><td>34.5</td></tr>\n",
       "\t<tr><td>Armenia    </td><td>88.3</td><td> 8.0</td><td> 0.5</td><td> 0.2</td><td> 0.2</td><td>1.0</td><td>0.0</td><td> 0.0</td><td>0.1</td><td> 1.5</td><td>0.0</td><td> 0.0</td><td>0.0</td><td> 0.0</td><td> 1.6</td><td> 0.1</td><td>97.6</td></tr>\n",
       "\t<tr><td>Azerbaijan </td><td>34.0</td><td>19.7</td><td> 3.5</td><td> 9.3</td><td> 6.2</td><td>7.5</td><td>0.0</td><td> 0.2</td><td>1.1</td><td> 9.5</td><td>0.7</td><td> 0.1</td><td>1.1</td><td> 7.0</td><td>18.7</td><td> 4.4</td><td>75.9</td></tr>\n",
       "\t<tr><td>Bangladesh </td><td> 4.3</td><td> 3.3</td><td> 2.7</td><td>86.4</td><td> 0.2</td><td>0.0</td><td>0.4</td><td> 0.6</td><td>0.3</td><td> 0.0</td><td>0.1</td><td> 0.3</td><td>0.1</td><td> 1.2</td><td>22.7</td><td> 1.6</td><td>75.5</td></tr>\n",
       "</tbody>\n",
       "</table>\n"
      ],
      "text/latex": [
       "A tibble: 6 × 18\n",
       "\\begin{tabular}{llllllllllllllllll}\n",
       " Country & phom & pipy & ptap & bore & pwel & pspr & rain & uwel & uspr & truc & ctan & bott & othw & surw & tles & tmor & watp\\\\\n",
       " <chr> & <dbl> & <dbl> & <dbl> & <dbl> & <dbl> & <dbl> & <dbl> & <dbl> & <dbl> & <dbl> & <dbl> & <dbl> & <dbl> & <dbl> & <dbl> & <dbl> & <dbl>\\\\\n",
       "\\hline\n",
       "\t Afghanistan &  2.3 &  4.8 & 14.2 & 20.1 & 18.5 & 4.7 & 0.4 & 11.1 & 8.6 &  1.5 & 4.4 &  0.2 & 1.7 &  7.3 & 45.2 &  8.2 & 45.3\\\\\n",
       "\t Albania     & 48.8 &  5.2 &  2.4 &  1.4 &  4.1 & 2.5 & 0.0 &  0.8 & 0.8 & 14.1 & 0.2 & 19.6 & 0.1 &  0.0 & 20.6 &  1.1 & 77.9\\\\\n",
       "\t Angola      &  4.3 &  9.7 & 10.3 &  1.9 &  9.1 & 3.3 & 1.7 &  8.3 & 4.8 &  9.7 & 4.3 &  1.2 & 1.8 & 18.0 & 46.1 & 15.6 & 34.5\\\\\n",
       "\t Armenia     & 88.3 &  8.0 &  0.5 &  0.2 &  0.2 & 1.0 & 0.0 &  0.0 & 0.1 &  1.5 & 0.0 &  0.0 & 0.0 &  0.0 &  1.6 &  0.1 & 97.6\\\\\n",
       "\t Azerbaijan  & 34.0 & 19.7 &  3.5 &  9.3 &  6.2 & 7.5 & 0.0 &  0.2 & 1.1 &  9.5 & 0.7 &  0.1 & 1.1 &  7.0 & 18.7 &  4.4 & 75.9\\\\\n",
       "\t Bangladesh  &  4.3 &  3.3 &  2.7 & 86.4 &  0.2 & 0.0 & 0.4 &  0.6 & 0.3 &  0.0 & 0.1 &  0.3 & 0.1 &  1.2 & 22.7 &  1.6 & 75.5\\\\\n",
       "\\end{tabular}\n"
      ],
      "text/markdown": [
       "\n",
       "A tibble: 6 × 18\n",
       "\n",
       "| Country &lt;chr&gt; | phom &lt;dbl&gt; | pipy &lt;dbl&gt; | ptap &lt;dbl&gt; | bore &lt;dbl&gt; | pwel &lt;dbl&gt; | pspr &lt;dbl&gt; | rain &lt;dbl&gt; | uwel &lt;dbl&gt; | uspr &lt;dbl&gt; | truc &lt;dbl&gt; | ctan &lt;dbl&gt; | bott &lt;dbl&gt; | othw &lt;dbl&gt; | surw &lt;dbl&gt; | tles &lt;dbl&gt; | tmor &lt;dbl&gt; | watp &lt;dbl&gt; |\n",
       "|---|---|---|---|---|---|---|---|---|---|---|---|---|---|---|---|---|---|\n",
       "| Afghanistan |  2.3 |  4.8 | 14.2 | 20.1 | 18.5 | 4.7 | 0.4 | 11.1 | 8.6 |  1.5 | 4.4 |  0.2 | 1.7 |  7.3 | 45.2 |  8.2 | 45.3 |\n",
       "| Albania     | 48.8 |  5.2 |  2.4 |  1.4 |  4.1 | 2.5 | 0.0 |  0.8 | 0.8 | 14.1 | 0.2 | 19.6 | 0.1 |  0.0 | 20.6 |  1.1 | 77.9 |\n",
       "| Angola      |  4.3 |  9.7 | 10.3 |  1.9 |  9.1 | 3.3 | 1.7 |  8.3 | 4.8 |  9.7 | 4.3 |  1.2 | 1.8 | 18.0 | 46.1 | 15.6 | 34.5 |\n",
       "| Armenia     | 88.3 |  8.0 |  0.5 |  0.2 |  0.2 | 1.0 | 0.0 |  0.0 | 0.1 |  1.5 | 0.0 |  0.0 | 0.0 |  0.0 |  1.6 |  0.1 | 97.6 |\n",
       "| Azerbaijan  | 34.0 | 19.7 |  3.5 |  9.3 |  6.2 | 7.5 | 0.0 |  0.2 | 1.1 |  9.5 | 0.7 |  0.1 | 1.1 |  7.0 | 18.7 |  4.4 | 75.9 |\n",
       "| Bangladesh  |  4.3 |  3.3 |  2.7 | 86.4 |  0.2 | 0.0 | 0.4 |  0.6 | 0.3 |  0.0 | 0.1 |  0.3 | 0.1 |  1.2 | 22.7 |  1.6 | 75.5 |\n",
       "\n"
      ],
      "text/plain": [
       "  Country     phom pipy ptap bore pwel pspr rain uwel uspr truc ctan bott othw\n",
       "1 Afghanistan  2.3  4.8 14.2 20.1 18.5 4.7  0.4  11.1 8.6   1.5 4.4   0.2 1.7 \n",
       "2 Albania     48.8  5.2  2.4  1.4  4.1 2.5  0.0   0.8 0.8  14.1 0.2  19.6 0.1 \n",
       "3 Angola       4.3  9.7 10.3  1.9  9.1 3.3  1.7   8.3 4.8   9.7 4.3   1.2 1.8 \n",
       "4 Armenia     88.3  8.0  0.5  0.2  0.2 1.0  0.0   0.0 0.1   1.5 0.0   0.0 0.0 \n",
       "5 Azerbaijan  34.0 19.7  3.5  9.3  6.2 7.5  0.0   0.2 1.1   9.5 0.7   0.1 1.1 \n",
       "6 Bangladesh   4.3  3.3  2.7 86.4  0.2 0.0  0.4   0.6 0.3   0.0 0.1   0.3 0.1 \n",
       "  surw tles tmor watp\n",
       "1  7.3 45.2  8.2 45.3\n",
       "2  0.0 20.6  1.1 77.9\n",
       "3 18.0 46.1 15.6 34.5\n",
       "4  0.0  1.6  0.1 97.6\n",
       "5  7.0 18.7  4.4 75.9\n",
       "6  1.2 22.7  1.6 75.5"
      ]
     },
     "metadata": {},
     "output_type": "display_data"
    }
   ],
   "source": [
    "df.wa <- read_excel(\"../../results/df-water-access.xlsx\",sheet=1)\n",
    "df.wa.nocountry <- df.wa[,c(2:18)]\n",
    "head(df.wa)"
   ]
  },
  {
   "cell_type": "code",
   "execution_count": 3,
   "metadata": {},
   "outputs": [
    {
     "name": "stdout",
     "output_type": "stream",
     "text": [
      "\n",
      "Loadings:\n",
      "     ML1   ML6   ML3   ML5   ML2   ML7   ML4  \n",
      "pwel  0.72                                    \n",
      "uwel  0.92 -0.36                              \n",
      "watp -0.62 -0.24              0.21            \n",
      "pspr -0.25  0.90                              \n",
      "uspr        0.72                    0.43      \n",
      "phom              0.52 -0.49 -0.27            \n",
      "bore       -0.43 -1.04       -0.34        0.24\n",
      "pipy -0.36 -0.23        0.87                  \n",
      "ptap  0.26        0.22  0.52              0.28\n",
      "bott                   -0.22  0.86 -0.32      \n",
      "surw                                0.70      \n",
      "tles  0.21                          0.37  0.61\n",
      "rain                          0.22       -0.45\n",
      "truc                                     -0.30\n",
      "ctan                          0.42            \n",
      "othw              0.28                        \n",
      "tmor  0.50  0.39                              \n",
      "\n",
      "                ML1  ML6  ML3  ML5  ML2  ML7  ML4\n",
      "SS loadings    2.42 2.01 1.61 1.42 1.26 1.00 0.91\n",
      "Proportion Var 0.14 0.12 0.09 0.08 0.07 0.06 0.05\n",
      "Cumulative Var 0.14 0.26 0.36 0.44 0.51 0.57 0.63\n"
     ]
    }
   ],
   "source": [
    "solution <- fa(df.wa.nocountry, nfactors = 7, rotate = \"promax\", fm = \"ml\", scores=\"tenBerge\", impute =\"mean\", max.iter = 1000 )\n",
    "scores.seven.factors = solution$scores\n",
    "scores.seven.factors = as.data.frame.matrix(scores.seven.factors) #df.wa multiply by scores matrix\n",
    "write_xlsx(scores.seven.factors, '../../results/scores-7-factors.xlsx')\n",
    "print(solution$loadings, digits=2, cutoff=.2, sort=TRUE) #sort out by the low numbers"
   ]
  },
  {
   "cell_type": "code",
   "execution_count": 5,
   "metadata": {},
   "outputs": [],
   "source": [
    "solution <- fa(df.wa.nocountry, nfactors = 10, rotate = \"promax\", fm = \"ml\", scores=\"tenBerge\", impute =\"mean\", max.iter = 1000 )\n"
   ]
  },
  {
   "cell_type": "code",
   "execution_count": 6,
   "metadata": {},
   "outputs": [
    {
     "data": {
      "text/html": [
       "<style>\n",
       ".list-inline {list-style: none; margin:0; padding: 0}\n",
       ".list-inline>li {display: inline-block}\n",
       ".list-inline>li:not(:last-child)::after {content: \"\\00b7\"; padding: 0 .5ex}\n",
       "</style>\n",
       "<ol class=list-inline><li>4.53948005931475</li><li>1.85908768309779</li><li>1.68424854475926</li><li>1.42603885558986</li><li>1.20204382483089</li><li>0.997031395829348</li><li>0.984672190808971</li><li>0.904938225778741</li><li>0.823677224475175</li><li>0.645734933867347</li><li>0.474066622541299</li><li>0.415373393858977</li><li>0.348204677634142</li><li>0.279863855830604</li><li>0.22452656691371</li><li>0.124703521269297</li><li>0.0663084235998495</li></ol>\n"
      ],
      "text/latex": [
       "\\begin{enumerate*}\n",
       "\\item 4.53948005931475\n",
       "\\item 1.85908768309779\n",
       "\\item 1.68424854475926\n",
       "\\item 1.42603885558986\n",
       "\\item 1.20204382483089\n",
       "\\item 0.997031395829348\n",
       "\\item 0.984672190808971\n",
       "\\item 0.904938225778741\n",
       "\\item 0.823677224475175\n",
       "\\item 0.645734933867347\n",
       "\\item 0.474066622541299\n",
       "\\item 0.415373393858977\n",
       "\\item 0.348204677634142\n",
       "\\item 0.279863855830604\n",
       "\\item 0.22452656691371\n",
       "\\item 0.124703521269297\n",
       "\\item 0.0663084235998495\n",
       "\\end{enumerate*}\n"
      ],
      "text/markdown": [
       "1. 4.53948005931475\n",
       "2. 1.85908768309779\n",
       "3. 1.68424854475926\n",
       "4. 1.42603885558986\n",
       "5. 1.20204382483089\n",
       "6. 0.997031395829348\n",
       "7. 0.984672190808971\n",
       "8. 0.904938225778741\n",
       "9. 0.823677224475175\n",
       "10. 0.645734933867347\n",
       "11. 0.474066622541299\n",
       "12. 0.415373393858977\n",
       "13. 0.348204677634142\n",
       "14. 0.279863855830604\n",
       "15. 0.22452656691371\n",
       "16. 0.124703521269297\n",
       "17. 0.0663084235998495\n",
       "\n",
       "\n"
      ],
      "text/plain": [
       " [1] 4.53948006 1.85908768 1.68424854 1.42603886 1.20204382 0.99703140\n",
       " [7] 0.98467219 0.90493823 0.82367722 0.64573493 0.47406662 0.41537339\n",
       "[13] 0.34820468 0.27986386 0.22452657 0.12470352 0.06630842"
      ]
     },
     "metadata": {},
     "output_type": "display_data"
    }
   ],
   "source": [
    "solution$e.values"
   ]
  },
  {
   "cell_type": "markdown",
   "metadata": {},
   "source": [
    "## Scree Plot"
   ]
  },
  {
   "cell_type": "code",
   "execution_count": 13,
   "metadata": {},
   "outputs": [
    {
     "data": {
      "text/html": [
       "<strong>png:</strong> 2"
      ],
      "text/latex": [
       "\\textbf{png:} 2"
      ],
      "text/markdown": [
       "**png:** 2"
      ],
      "text/plain": [
       "png \n",
       "  2 "
      ]
     },
     "metadata": {},
     "output_type": "display_data"
    }
   ],
   "source": [
    "# Scree plot is a good rule of thumb to determine the best factors \n",
    "#n_factors <- length(solution$e.values)\n",
    "\n",
    "solution <- fa(df.wa.nocountry, nfactors = 10, rotate = \"promax\", fm = \"ml\", scores=\"tenBerge\", impute =\"mean\", max.iter = 1000 )\n",
    "\n",
    "scree     <- data.frame(\n",
    "               Factor_n =  as.factor(1:10), \n",
    "             Eigenvalue = solution$e.values[1:10])\n",
    "pdf(file = \"../../docs/manuscript/pdf-image/scree-plot.pdf\",\n",
    "  width     = 5,\n",
    "  height    = 5 )\n",
    "\n",
    "ggplot(scree, aes(x = Factor_n, y = Eigenvalue, group = 1)) + \n",
    "    geom_point() + \n",
    "    geom_line() +\n",
    "    theme_minimal() +\n",
    "    geom_vline(xintercept = 7 , linetype = \"dashed\", color='red',  size=1) + \n",
    "    theme(axis.text=element_text(size=18), axis.title=element_text(size=18)) +\n",
    "    xlab(\"Number of factors\") +\n",
    "    ylab(\"Eigenvalue\") \n",
    "\n",
    "dev.off()"
   ]
  },
  {
   "cell_type": "markdown",
   "metadata": {},
   "source": [
    "# A bar graph of factor loadings"
   ]
  },
  {
   "cell_type": "markdown",
   "metadata": {},
   "source": [
    "https://www.r-graph-gallery.com/239-custom-layout-legend-ggplot2.html#:~:text=You%20can%20place%20the%20legend,the%20x%20and%20y%20coordinates.\n",
    "https://rstudio-pubs-static.s3.amazonaws.com/74109_5a0572586ce34b668a9280fd026602da.html#a-bar-graph-of-factor-loadings"
   ]
  },
  {
   "cell_type": "code",
   "execution_count": 5,
   "metadata": {},
   "outputs": [
    {
     "data": {
      "text/html": [
       "<table class=\"dataframe\">\n",
       "<caption>A data.frame: 6 × 8</caption>\n",
       "<thead>\n",
       "\t<tr><th></th><th scope=col>Variable</th><th scope=col>Far Well</th><th scope=col>Far Spring</th><th scope=col>Piped Indoors</th><th scope=col>Piped Outdoors</th><th scope=col>Vended</th><th scope=col>Nearby Surface</th><th scope=col>Nearby Improved</th></tr>\n",
       "\t<tr><th></th><th scope=col>&lt;fct&gt;</th><th scope=col>&lt;dbl&gt;</th><th scope=col>&lt;dbl&gt;</th><th scope=col>&lt;dbl&gt;</th><th scope=col>&lt;dbl&gt;</th><th scope=col>&lt;dbl&gt;</th><th scope=col>&lt;dbl&gt;</th><th scope=col>&lt;dbl&gt;</th></tr>\n",
       "</thead>\n",
       "<tbody>\n",
       "\t<tr><th scope=row>1</th><td>Unprotected Well  </td><td> 0.92</td><td>-0.36</td><td> 0.06</td><td>-0.05</td><td> 0.12</td><td> 0.00</td><td> 0.15</td></tr>\n",
       "\t<tr><th scope=row>2</th><td>Unprotected Spring</td><td>-0.13</td><td> 0.72</td><td> 0.09</td><td>-0.16</td><td> 0.01</td><td> 0.43</td><td>-0.01</td></tr>\n",
       "\t<tr><th scope=row>3</th><td>Truck             </td><td> 0.10</td><td>-0.01</td><td> 0.14</td><td> 0.01</td><td>-0.06</td><td> 0.01</td><td>-0.30</td></tr>\n",
       "\t<tr><th scope=row>4</th><td>Tanker Cart       </td><td> 0.08</td><td>-0.10</td><td> 0.06</td><td>-0.03</td><td> 0.42</td><td> 0.14</td><td>-0.04</td></tr>\n",
       "\t<tr><th scope=row>5</th><td><span style=white-space:pre-wrap>T&gt;30min           </span></td><td> 0.50</td><td> 0.39</td><td>-0.02</td><td>-0.01</td><td>-0.09</td><td>-0.08</td><td> 0.04</td></tr>\n",
       "\t<tr><th scope=row>6</th><td><span style=white-space:pre-wrap>T&lt;30min           </span></td><td> 0.21</td><td> 0.15</td><td>-0.09</td><td> 0.06</td><td> 0.04</td><td> 0.37</td><td> 0.61</td></tr>\n",
       "</tbody>\n",
       "</table>\n"
      ],
      "text/latex": [
       "A data.frame: 6 × 8\n",
       "\\begin{tabular}{r|llllllll}\n",
       "  & Variable & Far Well & Far Spring & Piped Indoors & Piped Outdoors & Vended & Nearby Surface & Nearby Improved\\\\\n",
       "  & <fct> & <dbl> & <dbl> & <dbl> & <dbl> & <dbl> & <dbl> & <dbl>\\\\\n",
       "\\hline\n",
       "\t1 & Unprotected Well   &  0.92 & -0.36 &  0.06 & -0.05 &  0.12 &  0.00 &  0.15\\\\\n",
       "\t2 & Unprotected Spring & -0.13 &  0.72 &  0.09 & -0.16 &  0.01 &  0.43 & -0.01\\\\\n",
       "\t3 & Truck              &  0.10 & -0.01 &  0.14 &  0.01 & -0.06 &  0.01 & -0.30\\\\\n",
       "\t4 & Tanker Cart        &  0.08 & -0.10 &  0.06 & -0.03 &  0.42 &  0.14 & -0.04\\\\\n",
       "\t5 & T>30min            &  0.50 &  0.39 & -0.02 & -0.01 & -0.09 & -0.08 &  0.04\\\\\n",
       "\t6 & T<30min            &  0.21 &  0.15 & -0.09 &  0.06 &  0.04 &  0.37 &  0.61\\\\\n",
       "\\end{tabular}\n"
      ],
      "text/markdown": [
       "\n",
       "A data.frame: 6 × 8\n",
       "\n",
       "| <!--/--> | Variable &lt;fct&gt; | Far Well &lt;dbl&gt; | Far Spring &lt;dbl&gt; | Piped Indoors &lt;dbl&gt; | Piped Outdoors &lt;dbl&gt; | Vended &lt;dbl&gt; | Nearby Surface &lt;dbl&gt; | Nearby Improved &lt;dbl&gt; |\n",
       "|---|---|---|---|---|---|---|---|---|\n",
       "| 1 | Unprotected Well   |  0.92 | -0.36 |  0.06 | -0.05 |  0.12 |  0.00 |  0.15 |\n",
       "| 2 | Unprotected Spring | -0.13 |  0.72 |  0.09 | -0.16 |  0.01 |  0.43 | -0.01 |\n",
       "| 3 | Truck              |  0.10 | -0.01 |  0.14 |  0.01 | -0.06 |  0.01 | -0.30 |\n",
       "| 4 | Tanker Cart        |  0.08 | -0.10 |  0.06 | -0.03 |  0.42 |  0.14 | -0.04 |\n",
       "| 5 | T&gt;30min            |  0.50 |  0.39 | -0.02 | -0.01 | -0.09 | -0.08 |  0.04 |\n",
       "| 6 | T&lt;30min            |  0.21 |  0.15 | -0.09 |  0.06 |  0.04 |  0.37 |  0.61 |\n",
       "\n"
      ],
      "text/plain": [
       "  Variable           Far Well Far Spring Piped Indoors Piped Outdoors Vended\n",
       "1 Unprotected Well    0.92    -0.36       0.06         -0.05           0.12 \n",
       "2 Unprotected Spring -0.13     0.72       0.09         -0.16           0.01 \n",
       "3 Truck               0.10    -0.01       0.14          0.01          -0.06 \n",
       "4 Tanker Cart         0.08    -0.10       0.06         -0.03           0.42 \n",
       "5 T>30min             0.50     0.39      -0.02         -0.01          -0.09 \n",
       "6 T<30min             0.21     0.15      -0.09          0.06           0.04 \n",
       "  Nearby Surface Nearby Improved\n",
       "1  0.00           0.15          \n",
       "2  0.43          -0.01          \n",
       "3  0.01          -0.30          \n",
       "4  0.14          -0.04          \n",
       "5 -0.08           0.04          \n",
       "6  0.37           0.61          "
      ]
     },
     "metadata": {},
     "output_type": "display_data"
    },
    {
     "name": "stderr",
     "output_type": "stream",
     "text": [
      "Warning message:\n",
      "\"It is deprecated to specify `guide = FALSE` to remove a guide. Please use `guide = \"none\"` instead.\"\n"
     ]
    },
    {
     "data": {
      "text/html": [
       "<strong>png:</strong> 2"
      ],
      "text/latex": [
       "\\textbf{png:} 2"
      ],
      "text/markdown": [
       "**png:** 2"
      ],
      "text/plain": [
       "png \n",
       "  2 "
      ]
     },
     "metadata": {},
     "output_type": "display_data"
    },
    {
     "name": "stderr",
     "output_type": "stream",
     "text": [
      "Warning message:\n",
      "\"It is deprecated to specify `guide = FALSE` to remove a guide. Please use `guide = \"none\"` instead.\"\n"
     ]
    },
    {
     "data": {
      "text/html": [
       "<strong>png:</strong> 2"
      ],
      "text/latex": [
       "\\textbf{png:} 2"
      ],
      "text/markdown": [
       "**png:** 2"
      ],
      "text/plain": [
       "png \n",
       "  2 "
      ]
     },
     "metadata": {},
     "output_type": "display_data"
    }
   ],
   "source": [
    "df.fl <- read_excel(\"../../results/factor-7-loadings.xlsx\",sheet=1) #customized excel\n",
    "\n",
    "df.fl <- as.data.frame(df.fl)\n",
    "\n",
    "df.fl[,c(1)] <- as.factor(df.fl[,c(1)])\n",
    "head(df.fl)\n",
    "\n",
    "loadings.m <- melt(df.fl, id=\"Variable\", # if the name is changed, then change the name in the excel as well\n",
    "                   measure=c(    \n",
    "        'Far Spring',\n",
    "        'Far Well',\n",
    "        'Nearby Improved',\n",
    "        'Nearby Surface',\n",
    "      'Piped Indoors' ,\n",
    "      'Piped Outdoors' ,\n",
    "      'Vended'\n",
    "       ), \n",
    "                   variable.name=\"Factor\", value.name=\"Loading\")\n",
    "\n",
    "#size of the plot \n",
    "options(repr.plot.width=15, repr.plot.height=7)\n",
    "par(mar = c(1,1,1,1))\n",
    "par(cex=1)\n",
    "\n",
    "#For each ws (water sources), plot the loading as length and fill color of a bar\n",
    "# note that the length will be the absolute value of the loading but the \n",
    "# fill color will be the signed value, more on this below\n",
    "g <- ggplot(data = loadings.m, aes(x = Variable, y = abs(Loading), fill=Loading)) + \n",
    "  facet_wrap(~ Factor, nrow=1) + #place the factors in separate facets\n",
    "  geom_bar(stat=\"identity\" ,aes()) + #make the bars\n",
    "  coord_flip() + #flip the axes so the test names can be horizontal  \n",
    "  #define the fill color gradient: blue=positive, red=negative\n",
    "  scale_fill_gradient2(name = \"Loading\", \n",
    "                       high = \"blue\", mid = \"white\", low = \"red\", \n",
    "                       midpoint=0, guide=F) +\n",
    "  ylab(\"Loading Strength\") + #improve y-axis label\n",
    "  theme_bw(base_size= 14) + #use a black-and white theme with set font size \n",
    " scale_x_discrete(limits = rev) \n",
    "\n",
    "png(\n",
    "  \"fa-7-loadings.png\",\n",
    "  width     = 14,\n",
    "  height    = 5,\n",
    "  units     = \"in\",\n",
    "  res       = 700,\n",
    "  #pointsize = 6 \n",
    ")\n",
    "g + theme(legend.position=\"bottom\")\n",
    "dev.off()\n",
    "\n",
    "pdf(file = \"../../docs/manuscript/pdf-image/fa-7-loadings.pdf\"\n",
    "  ,\n",
    "  width     = 14,\n",
    "  height    = 5 \n",
    "   )\n",
    "g + theme(legend.position=\"bottom\")\n",
    "dev.off()"
   ]
  },
  {
   "cell_type": "markdown",
   "metadata": {},
   "source": [
    "# For Loop for FA"
   ]
  },
  {
   "cell_type": "code",
   "execution_count": 6,
   "metadata": {
    "scrolled": true
   },
   "outputs": [
    {
     "name": "stdout",
     "output_type": "stream",
     "text": [
      "[1] -149.8712\n",
      "[1] 0.5139894\n",
      "[1] 0.07425473\n",
      "[1] 167.6228\n",
      "[1] 3.213399e-09\n",
      "[1] 2.667737\n",
      "[1] -208.0127\n",
      "[1] 74\n",
      "[1] 109.4813\n",
      "     RMSEA      lower      upper confidence \n",
      " 0.1309232  0.1059674  0.1592644  0.9000000 \n",
      "[1] -120.648\n",
      "[1] 0.4882458\n",
      "[1] 0.06400577\n",
      "[1] 141.0701\n",
      "[1] 2.753781e-08\n",
      "[1] 2.269224\n",
      "[1] -180.3732\n",
      "[1] 61\n",
      "[1] 81.34485\n",
      "     RMSEA      lower      upper confidence \n",
      " 0.1333825  0.1059175  0.1643193  0.9000000 \n",
      "[1] -112.6251\n",
      "[1] 0.6074006\n",
      "[1] 0.05533547\n",
      "[1] 97.60746\n",
      "[1] 4.514153e-05\n",
      "[1] 1.587113\n",
      "[1] -149.4332\n",
      "[1] 49\n",
      "[1] 60.79935\n",
      "     RMSEA      lower      upper confidence \n",
      "0.11575245 0.08298078 0.15124692 0.90000000 \n",
      "[1] -97.21088\n",
      "[1] 0.7057339\n",
      "[1] 0.04629849\n",
      "[1] 65.82658\n",
      "[1] 0.003378166\n",
      "[1] 1.082081\n",
      "[1] -120.4751\n",
      "[1] 38\n",
      "[1] 42.56234\n",
      "     RMSEA      lower      upper confidence \n",
      "0.09920157 0.05783114 0.14095585 0.90000000 \n"
     ]
    }
   ],
   "source": [
    "#For loop for factors of 4-7 fm = \"minchi\"\n",
    "for (i in 4:7) {\n",
    "iteration <- fa(df.wa.nocountry, nfactors = i, rotate = \"promax\", fm = \"minchi\" , scores= \"tenBerge\", impute =\"mean\", max.iter = 1000)\n",
    "    #print(iteration$loadings, digits=2, cutoff=.2, sort=TRUE)\n",
    "    print(iteration$BIC)\n",
    "    print(iteration$TLI)\n",
    "    print(iteration$rms)\n",
    "    print(iteration$STATISTIC)\n",
    "    print(iteration$PVAL)\n",
    "    print(iteration$objective)\n",
    "    print(iteration$EBIC )\n",
    "    print(iteration$dof)\n",
    "    print(iteration$chi)\n",
    "    print(iteration$RMSEA)\n",
    "} "
   ]
  },
  {
   "cell_type": "markdown",
   "metadata": {},
   "source": [
    "\"none\", \"varimax\", \"quartimax\", \"bentlerT\", \"equamax\", \"varimin\", \"geominT\" and \"bifactor\" are orthogonal rotations. \"Promax\", \"promax\", \"oblimin\", \"simplimax\", \"bentlerQ, \"geominQ\" and \"biquartimin\" and \"cluster\" are possible oblique transformations of the solution. = rotation varimin = correction"
   ]
  },
  {
   "cell_type": "markdown",
   "metadata": {},
   "source": [
    "Factoring method fm=\"minres\" will do a minimum residual as will fm=\"uls\".  fm=\"ols\" differs very slightly from \"minres\". fm=\"wls\" will do a weighted least squares (WLS) solution, fm=\"gls\" does a generalized weighted least squares (GLS), fm=\"pa\" will do the principal factor solution, fm=\"ml\" will do a maximum likelihood factor analysis. fm=\"minchi\" will minimize the sample size weighted chi square when treating pairwise correlations with different number of subjects per pair. fm =\"minrank\" will do a minimum rank factor analysis. \"old.min\" will do minimal residual the way it was done prior to April, 2017 (see discussion below). fm=\"alpha\" will do alpha factor analysis as described in Kaiser and Coffey (1965)\n",
    "Correction WLS and GLS, minrank, old.min\n",
    "Correct for Oblimin works with minrank and old.min, ml, minchi,  = fm works with"
   ]
  },
  {
   "cell_type": "code",
   "execution_count": 7,
   "metadata": {
    "scrolled": true
   },
   "outputs": [
    {
     "name": "stdout",
     "output_type": "stream",
     "text": [
      "[1] -109.791\n",
      "[1] 0.3059272\n",
      "[1] 0.07880537\n",
      "[1] 207.703\n",
      "[1] 1.258365e-14\n",
      "[1] 3.305618\n",
      "[1] -194.1825\n",
      "[1] 74\n",
      "[1] 123.3115\n",
      "     RMSEA      lower      upper confidence \n",
      " 0.1567175  0.1331740  0.1840926  0.9000000 \n",
      "[1] -92.77161\n",
      "[1] 0.310079\n",
      "[1] 0.06670218\n",
      "[1] 168.9464\n",
      "[1] 4.479558e-12\n",
      "[1] 2.717637\n",
      "[1] -173.3751\n",
      "[1] 61\n",
      "[1] 88.34293\n",
      "     RMSEA      lower      upper confidence \n",
      " 0.1550839  0.1289284  0.1851401  0.9000000 \n",
      "[1] -64.45358\n",
      "[1] 0.2183226\n",
      "[1] 0.05814903\n",
      "[1] 145.7789\n",
      "[1] 1.520132e-11\n",
      "[1] 2.370389\n",
      "[1] -143.0932\n",
      "[1] 49\n",
      "[1] 67.13928\n",
      "     RMSEA      lower      upper confidence \n",
      " 0.1639074  0.1350047  0.1969808  0.9000000 \n",
      "[1] -42.93439\n",
      "[1] 0.13176\n",
      "[1] 0.04852613\n",
      "[1] 120.1031\n",
      "[1] 1.895192e-10\n",
      "[1] 1.974297\n",
      "[1] -116.2808\n",
      "[1] 38\n",
      "[1] 46.75662\n",
      "     RMSEA      lower      upper confidence \n",
      " 0.1714850  0.1388673  0.2086084  0.9000000 \n"
     ]
    }
   ],
   "source": [
    "#For loop for factors of 4-7 fm = \"minrank\" \n",
    "for (i in 4:7) {\n",
    "iteration <- fa(df.wa.nocountry, nfactors = i, rotate = \"promax\", fm = \"minrank\" , scores= \"tenBerge\", impute =\"mean\", max.iter = 1000)\n",
    "    print(iteration$BIC)\n",
    "    print(iteration$TLI)\n",
    "    print(iteration$rms)\n",
    "    print(iteration$STATISTIC)\n",
    "    print(iteration$PVAL)\n",
    "    print(iteration$objective)\n",
    "    print(iteration$EBIC )\n",
    "    print(iteration$dof)\n",
    "    print(iteration$chi)\n",
    "    print(iteration$RMSEA)\n",
    "} \n"
   ]
  },
  {
   "cell_type": "code",
   "execution_count": 8,
   "metadata": {
    "scrolled": true
   },
   "outputs": [
    {
     "name": "stdout",
     "output_type": "stream",
     "text": [
      "\n",
      "Loadings:\n",
      "     MRFA1 MRFA3 MRFA2 MRFA4\n",
      "pwel  0.64        0.29      \n",
      "uwel  0.87                  \n",
      "bott -0.60        0.49      \n",
      "watp -0.55 -0.34            \n",
      "pspr -0.32  0.83            \n",
      "uspr        0.88            \n",
      "tmor  0.45  0.53            \n",
      "pipy -0.30       -0.83      \n",
      "ptap        0.32 -0.61      \n",
      "phom       -0.38        0.53\n",
      "bore  0.29 -0.46       -0.84\n",
      "truc  0.25        0.22  0.59\n",
      "rain -0.38        0.22      \n",
      "ctan              0.34      \n",
      "othw                    0.34\n",
      "surw  0.20  0.38            \n",
      "tles  0.40  0.42       -0.33\n",
      "\n",
      "               MRFA1 MRFA3 MRFA2 MRFA4\n",
      "SS loadings     2.78  2.70  1.68  1.67\n",
      "Proportion Var  0.16  0.16  0.10  0.10\n",
      "Cumulative Var  0.16  0.32  0.42  0.52\n",
      "\n",
      "Loadings:\n",
      "     MRFA1 MRFA3 MRFA2 MRFA4 MRFA5\n",
      "pwel  0.70       -0.23            \n",
      "uwel  0.97 -0.35                  \n",
      "watp -0.56 -0.28                  \n",
      "pspr -0.36  0.93                  \n",
      "uspr        0.93                  \n",
      "pipy -0.30 -0.35  0.99            \n",
      "ptap              0.59       -0.30\n",
      "bore  0.25 -0.42 -0.23 -0.87      \n",
      "truc                    0.60      \n",
      "rain                          0.50\n",
      "bott -0.29       -0.21        0.71\n",
      "phom -0.47       -0.30  0.41 -0.41\n",
      "ctan  0.32                    0.50\n",
      "othw                    0.36      \n",
      "surw  0.31  0.30                  \n",
      "tles  0.42  0.31       -0.30      \n",
      "tmor  0.42  0.50                  \n",
      "\n",
      "               MRFA1 MRFA3 MRFA2 MRFA4 MRFA5\n",
      "SS loadings     2.97  2.74  1.71  1.61  1.41\n",
      "Proportion Var  0.17  0.16  0.10  0.09  0.08\n",
      "Cumulative Var  0.17  0.34  0.44  0.53  0.61\n",
      "\n",
      "Loadings:\n",
      "     MRFA3 MRFA1 MRFA4 MRFA2 MRFA5 MRFA6\n",
      "pspr  0.97 -0.37  0.21                  \n",
      "uspr  0.99                              \n",
      "tmor  0.58  0.30             -0.21      \n",
      "pwel        0.84       -0.23            \n",
      "uwel -0.31  1.05                        \n",
      "watp -0.33 -0.65                    0.25\n",
      "phom -0.27        0.59 -0.31 -0.34      \n",
      "bore -0.38 -0.23 -1.17 -0.25 -0.30      \n",
      "pipy -0.34 -0.35        1.02            \n",
      "ptap  0.22              0.61 -0.28      \n",
      "rain                          0.56 -0.26\n",
      "bott       -0.21       -0.21  0.73      \n",
      "truc                   -0.20 -0.21  0.85\n",
      "ctan                          0.44  0.30\n",
      "othw              0.23              0.27\n",
      "surw  0.39                              \n",
      "tles  0.43       -0.43       -0.22      \n",
      "\n",
      "               MRFA3 MRFA1 MRFA4 MRFA2 MRFA5 MRFA6\n",
      "SS loadings     3.21  2.75  2.12  1.82  1.48  1.13\n",
      "Proportion Var  0.19  0.16  0.12  0.11  0.09  0.07\n",
      "Cumulative Var  0.19  0.35  0.48  0.58  0.67  0.74\n",
      "\n",
      "Loadings:\n",
      "     MRFA1 MRFA3 MRFA4 MRFA2 MRFA5 MRFA7 MRFA6\n",
      "pwel  0.83             -0.23                  \n",
      "uwel  1.08 -0.28                              \n",
      "watp -0.65 -0.21                   -0.24  0.24\n",
      "pspr -0.34  1.00  0.22                        \n",
      "uspr        0.78                    0.46      \n",
      "tmor  0.36  0.63                          0.20\n",
      "bore -0.23 -0.43 -1.26 -0.25                  \n",
      "pipy -0.36 -0.35  0.20  1.03                  \n",
      "ptap        0.36  0.21  0.70                  \n",
      "phom              0.49 -0.34 -0.52            \n",
      "ctan                          0.58        0.21\n",
      "bott                   -0.20  0.67 -0.57      \n",
      "surw                                0.63      \n",
      "truc                   -0.22  0.20        0.86\n",
      "rain              0.21        0.26       -0.39\n",
      "othw              0.26                    0.23\n",
      "tles        0.33 -0.40              0.23      \n",
      "\n",
      "               MRFA1 MRFA3 MRFA4 MRFA2 MRFA5 MRFA7 MRFA6\n",
      "SS loadings     2.83  2.79  2.31  1.96  1.25  1.18  1.17\n",
      "Proportion Var  0.17  0.16  0.14  0.12  0.07  0.07  0.07\n",
      "Cumulative Var  0.17  0.33  0.47  0.58  0.66  0.73  0.79\n"
     ]
    }
   ],
   "source": [
    "#For loop for factors of 4-7 fm = \"minrank\" \n",
    "for (i in 4:7) {\n",
    "iteration <- fa(df.wa.nocountry, nfactors = i, rotate = \"promax\", fm = \"minrank\" , scores= \"tenBerge\", impute =\"mean\", max.iter = 1000)\n",
    "    print(iteration$loadings, digits=2, cutoff=.2, sort=TRUE)}"
   ]
  },
  {
   "cell_type": "code",
   "execution_count": 10,
   "metadata": {
    "scrolled": true
   },
   "outputs": [
    {
     "name": "stdout",
     "output_type": "stream",
     "text": [
      "[1] -155.9394\n",
      "[1] 0.5454905\n",
      "[1] 0.07266365\n",
      "[1] 161.5546\n",
      "[1] 1.818802e-08\n",
      "[1] 2.571161\n",
      "[1] -212.6542\n",
      "[1] 74\n",
      "[1] 104.8398\n",
      "     RMSEA      lower      upper confidence \n",
      " 0.1265605  0.1012783  0.1551192  0.9000000 \n",
      "[1] -141.6407\n",
      "[1] 0.6224172\n",
      "[1] 0.06062073\n",
      "[1] 120.0774\n",
      "[1] 9.714238e-06\n",
      "[1] 1.931539\n",
      "[1] -188.7497\n",
      "[1] 61\n",
      "[1] 72.96829\n",
      "     RMSEA      lower      upper confidence \n",
      "0.11435299 0.08504696 0.14643504 0.90000000 \n",
      "[1] -118.6551\n",
      "[1] 0.6561049\n",
      "[1] 0.05827336\n",
      "[1] 91.57741\n",
      "[1] 0.0002172846\n",
      "[1] 1.489064\n",
      "[1] -142.8058\n",
      "[1] 49\n",
      "[1] 67.42669\n",
      "     RMSEA      lower      upper confidence \n",
      " 0.1082259  0.0742744  0.1443460  0.9000000 \n",
      "[1] -97.62591\n",
      "[1] 0.7101229\n",
      "[1] 0.04654598\n",
      "[1] 65.41155\n",
      "[1] 0.003732864\n",
      "[1] 1.075258\n",
      "[1] -120.0189\n",
      "[1] 38\n",
      "[1] 43.01859\n",
      "     RMSEA      lower      upper confidence \n",
      "0.09844459 0.05683249 0.14028934 0.90000000 \n"
     ]
    }
   ],
   "source": [
    "#For loop for factors of 4-7 fm = \"ml\"\n",
    "for (i in 4:7) {\n",
    "iteration <- fa(df.wa.nocountry, nfactors = i, rotate = \"promax\", fm = \"ml\" , scores= \"tenBerge\", impute =\"mean\", max.iter = 1000)\n",
    "    print(iteration$BIC) \n",
    "    print(iteration$TLI)\n",
    "    print(iteration$rms)\n",
    "    print(iteration$STATISTIC)\n",
    "    print(iteration$PVAL)\n",
    "    print(iteration$objective)\n",
    "    print(iteration$EBIC )\n",
    "    print(iteration$dof)\n",
    "    print(iteration$chi)\n",
    "    print(iteration$RMSEA)\n",
    "} "
   ]
  },
  {
   "cell_type": "code",
   "execution_count": null,
   "metadata": {
    "scrolled": true
   },
   "outputs": [],
   "source": [
    "# possible oblique transformations of the solution for better interpreation\n",
    "for (i in 2:7) {\n",
    "iteration <- fa(df.wa.nocountry, nfactors = i, rotate = \"oblimin\", fm = \"ml\" , scores= \"tenBerge\", impute =\"mean\", max.iter = 1000)\n",
    "    print(iteration$loadings, digits=2, cutoff=.2, sort=TRUE)}\n",
    "for (i in 2:7) {\n",
    "iteration <- fa(df.wa.nocountry, nfactors = i, rotate = \"bentlerQ\", fm = \"ml\" , scores= \"tenBerge\", impute =\"mean\", max.iter = 2000)\n",
    "    print(iteration$loadings, digits=2, cutoff=.2, sort=TRUE)}\n",
    "for (i in 2:7) {\n",
    "iteration <- fa(df.wa.nocountry, nfactors = i, rotate = \"promax\", fm = \"ml\" , scores= \"tenBerge\", impute =\"mean\", max.iter = 1000)\n",
    "    print(iteration$loadings, digits=2, cutoff=.2, sort=TRUE)}\n",
    "#  are orthogonal rotations for stronger interpreation\n",
    "for (i in 2:7) {\n",
    "iteration <- fa(df.wa.nocountry, nfactors = i, rotate = \"varimax\", fm = \"ml\" , scores= \"tenBerge\", impute =\"mean\", max.iter = 1000)\n",
    "    print(iteration$loadings, digits=2, cutoff=.2, sort=TRUE)}\n",
    "for (i in 2:7) {\n",
    "iteration <- fa(df.wa.nocountry, nfactors = i, rotate = \"bentlerT\", fm = \"ml\" , scores= \"tenBerge\", impute =\"mean\", max.iter = 1000)\n",
    "    print(iteration$loadings, digits=2, cutoff=.2, sort=TRUE)}\n",
    "for (i in 2:7) {\n",
    "iteration <- fa(df.wa.nocountry, nfactors = i, rotate = \"geominT\", fm = \"ml\" , scores= \"tenBerge\", impute =\"mean\", max.iter = 1000)\n",
    "    print(iteration$loadings, digits=2, cutoff=.2, sort=TRUE)}"
   ]
  },
  {
   "cell_type": "code",
   "execution_count": null,
   "metadata": {},
   "outputs": [],
   "source": [
    "df.wa.nocountry <- as.matrix(df.wa.nocountry)\n",
    "scores <- as.matrix(scores.seven.factors)\n",
    "df.seven.scores <-  scores\n",
    "df.seven.scores #plot this without scaling "
   ]
  },
  {
   "cell_type": "markdown",
   "metadata": {},
   "source": [
    "# New FA 7 data frame"
   ]
  },
  {
   "cell_type": "code",
   "execution_count": null,
   "metadata": {},
   "outputs": [],
   "source": [
    "# Without Scaling\n",
    "df.wa.nocountry <- as.matrix(df.wa.nocountry)\n",
    "scores <- as.matrix(scores.seven.factors)\n",
    "df.seven.scores <-  scores\n",
    "df.seven.scores <- cbind(df.wa,df.seven.scores)\n",
    "score.no.scale <- df.seven.scores[,c(1,19:25)]\n",
    "head(score.no.scale,7)\n",
    "summary(score.no.scale)\n",
    "write_xlsx(score.no.scale, '../../results/seven-scores-no-scale.xlsx')"
   ]
  },
  {
   "cell_type": "code",
   "execution_count": null,
   "metadata": {},
   "outputs": [],
   "source": [
    "df.wa.nocountry <- as.matrix(df.wa.nocountry)\n",
    "scores <- as.matrix(scores.seven.factors)\n",
    "df.seven.scores <-  scores\n",
    "df.seven.scores = as.data.frame(apply(as.matrix(df.seven.scores[,c(1:7)]), 2, rescale))\n",
    "df.seven.scores <- cbind(df.wa,df.seven.scores)\n",
    "df.seven.scores <- df.seven.scores[,c(1,19:25)]\n",
    "head(df.seven.scores,7)\n",
    "summary(df.seven.scores)\n",
    "write_xlsx(df.seven.scores, '../../results/df-seven-scores.xlsx')"
   ]
  },
  {
   "cell_type": "markdown",
   "metadata": {},
   "source": [
    "# Six factors - ml - promax"
   ]
  },
  {
   "cell_type": "code",
   "execution_count": null,
   "metadata": {},
   "outputs": [],
   "source": [
    "solution.six <- fa(df.wa.nocountry, nfactors = 6, rotate = \"promax\", fm = \"ml\", scores=\"tenBerge\", impute =\"mean\", max.iter = 1000 )\n",
    "scores.six.factors = solution.six$scores\n",
    "scores.six.factors = as.data.frame.matrix(scores.six.factors) #df.wa multiply by scores matrix\n",
    "write_xlsx(scores.six.factors, '../../results/scores-6-factors.xlsx')\n",
    "print(solution.six$loadings, digits=2, cutoff=.2, sort=TRUE) #sort out by the low numbers\n",
    "df.wa.nocountry <- df.wa[,c(2:18)]\n",
    "df.wa.nocountry <- as.matrix(df.wa.nocountry)\n",
    "scores <- as.matrix(scores.six.factors)\n",
    "df.six.scores <-  scores\n",
    "df.six.scores = as.data.frame(apply(as.matrix(df.six.scores[,c(1:6)]), 2, rescale))\n",
    "df.six.scores <- cbind(df.wa,df.six.scores)\n",
    "df.six.scores <- df.six.scores[,c(1,19:24)]\n",
    "head(df.six.scores,7)\n",
    "summary(df.six.scores)\n",
    "write_xlsx(df.six.scores, '../../archive-explore/df-six-scores.xlsx')"
   ]
  },
  {
   "cell_type": "markdown",
   "metadata": {},
   "source": [
    "# Five factors - ml - promax"
   ]
  },
  {
   "cell_type": "code",
   "execution_count": 1,
   "metadata": {},
   "outputs": [
    {
     "ename": "ERROR",
     "evalue": "Error in fa(df.wa.nocountry, nfactors = 5, rotate = \"promax\", fm = \"ml\", : could not find function \"fa\"\n",
     "output_type": "error",
     "traceback": [
      "Error in fa(df.wa.nocountry, nfactors = 5, rotate = \"promax\", fm = \"ml\", : could not find function \"fa\"\nTraceback:\n"
     ]
    }
   ],
   "source": [
    "solution.five <- fa(df.wa.nocountry, nfactors = 5, rotate = \"promax\", fm = \"ml\", scores=\"tenBerge\", impute =\"mean\", max.iter = 1000 )\n",
    "scores.five.factors = solution.five$scores\n",
    "scores.five.factors = as.data.frame.matrix(scores.five.factors) #df.wa multiply by scores matrix\n",
    "write_xlsx(scores.five.factors, '../../results/scores-5-factors.xlsx')\n",
    "print(solution$loadings, digits=2, cutoff=.2, sort=TRUE) #sort out by the low numbers\n",
    "df.wa.nocountry <- df.wa[,c(2:18)]\n",
    "df.wa.nocountry <- as.matrix(df.wa.nocountry)\n",
    "scores <- as.matrix(scores.five.factors)\n",
    "df.five.scores <-  scores\n",
    "df.five.scores = as.data.frame(apply(as.matrix(df.five.scores[,c(1:5)]), 2, rescale))\n",
    "df.five.scores <- cbind(df.wa,df.five.scores)\n",
    "df.five.scores <- df.five.scores[,c(1,19:23)]\n",
    "head(df.five.scores,7)\n",
    "summary(df.five.scores)\n",
    "write_xlsx(df.five.scores, '../../archive-explore/df-five-scores.xlsx')"
   ]
  }
 ],
 "metadata": {
  "kernelspec": {
   "display_name": "R",
   "language": "R",
   "name": "ir"
  },
  "language_info": {
   "codemirror_mode": "r",
   "file_extension": ".r",
   "mimetype": "text/x-r-source",
   "name": "R",
   "pygments_lexer": "r",
   "version": "4.1.2"
  }
 },
 "nbformat": 4,
 "nbformat_minor": 4
}
