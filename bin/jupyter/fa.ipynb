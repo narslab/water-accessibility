{
 "cells": [
  {
   "cell_type": "code",
   "execution_count": 8,
   "metadata": {
    "scrolled": false
   },
   "outputs": [
    {
     "name": "stderr",
     "output_type": "stream",
     "text": [
      "Installing package into 'C:/Users/hichul/Documents/R/win-library/4.0'\n",
      "(as 'lib' is unspecified)\n",
      "\n"
     ]
    },
    {
     "name": "stdout",
     "output_type": "stream",
     "text": [
      "package 'Rcpp' successfully unpacked and MD5 sums checked\n"
     ]
    },
    {
     "name": "stderr",
     "output_type": "stream",
     "text": [
      "Warning message:\n",
      "\"cannot remove prior installation of package 'Rcpp'\"\n",
      "Warning message in file.copy(savedcopy, lib, recursive = TRUE):\n",
      "\"problem copying C:\\Users\\hichul\\Documents\\R\\win-library\\4.0\\00LOCK\\Rcpp\\libs\\x64\\Rcpp.dll to C:\\Users\\hichul\\Documents\\R\\win-library\\4.0\\Rcpp\\libs\\x64\\Rcpp.dll: Permission denied\"\n",
      "Warning message:\n",
      "\"restored 'Rcpp'\"\n"
     ]
    },
    {
     "name": "stdout",
     "output_type": "stream",
     "text": [
      "\n",
      "The downloaded binary packages are in\n",
      "\tC:\\Users\\hichul\\AppData\\Local\\Temp\\RtmpcttfxO\\downloaded_packages\n"
     ]
    },
    {
     "name": "stderr",
     "output_type": "stream",
     "text": [
      "Warning message:\n",
      "\"package 'Rcpp' was built under R version 4.0.3\"\n"
     ]
    }
   ],
   "source": [
    "#install.packages(c(\"FactoMineR\", \"factoextra\"))\n",
    "#install.packages(\"GPArotation\")\n",
    "#install.packages(\"psy\")\n",
    "#install.packages(\"nFactors\")\n",
    "#install.packages(\"scales\")\n",
    "#install.packages(\"Rcsdp\")\n",
    "#install.packages('reshape2')\n",
    "#install.packages('Rcpp')\n",
    "\n",
    "library(Rcpp)\n",
    "\n",
    "library(\"FactoMineR\")\n",
    "library(\"factoextra\")\n",
    "library(readxl)\n",
    "library(dplyr)\n",
    "library(psych)\n",
    "\n",
    "library(GPArotation)\n",
    "\n",
    "library(psy)\n",
    "\n",
    "library(nFactors)\n",
    "library(mvtnorm) # col.norm\n",
    "library(tilting) # col.norm\n",
    "library(corrplot)\n",
    "library(writexl)\n",
    "\n",
    "library(scales)\n",
    "\n",
    "library(Rcsdp)\n",
    "\n",
    "library(reshape2)\n",
    "library(ggplot2)\n",
    "library(devtools)\n",
    "library(factoextra)"
   ]
  },
  {
   "cell_type": "code",
   "execution_count": 3,
   "metadata": {},
   "outputs": [
    {
     "data": {
      "text/html": [
       "<table class=\"dataframe\">\n",
       "<caption>A tibble: 6 × 18</caption>\n",
       "<thead>\n",
       "\t<tr><th scope=col>Country</th><th scope=col>phom</th><th scope=col>pipy</th><th scope=col>ptap</th><th scope=col>bore</th><th scope=col>pwel</th><th scope=col>pspr</th><th scope=col>rain</th><th scope=col>uwel</th><th scope=col>uspr</th><th scope=col>truc</th><th scope=col>ctan</th><th scope=col>bott</th><th scope=col>othw</th><th scope=col>surw</th><th scope=col>tles</th><th scope=col>tmor</th><th scope=col>watp</th></tr>\n",
       "\t<tr><th scope=col>&lt;chr&gt;</th><th scope=col>&lt;dbl&gt;</th><th scope=col>&lt;dbl&gt;</th><th scope=col>&lt;dbl&gt;</th><th scope=col>&lt;dbl&gt;</th><th scope=col>&lt;dbl&gt;</th><th scope=col>&lt;dbl&gt;</th><th scope=col>&lt;dbl&gt;</th><th scope=col>&lt;dbl&gt;</th><th scope=col>&lt;dbl&gt;</th><th scope=col>&lt;dbl&gt;</th><th scope=col>&lt;dbl&gt;</th><th scope=col>&lt;dbl&gt;</th><th scope=col>&lt;dbl&gt;</th><th scope=col>&lt;dbl&gt;</th><th scope=col>&lt;dbl&gt;</th><th scope=col>&lt;dbl&gt;</th><th scope=col>&lt;dbl&gt;</th></tr>\n",
       "</thead>\n",
       "<tbody>\n",
       "\t<tr><td>Afghanistan</td><td> 2.3</td><td> 4.8</td><td>14.2</td><td>20.1</td><td>18.5</td><td>4.7</td><td>0.4</td><td>11.1</td><td>8.6</td><td> 1.5</td><td>4.4</td><td> 0.2</td><td>1.7</td><td> 7.3</td><td>45.2</td><td> 8.2</td><td>45.3</td></tr>\n",
       "\t<tr><td>Albania    </td><td>48.8</td><td> 5.2</td><td> 2.4</td><td> 1.4</td><td> 4.1</td><td>2.5</td><td>0.0</td><td> 0.8</td><td>0.8</td><td>14.1</td><td>0.2</td><td>19.6</td><td>0.1</td><td> 0.0</td><td>20.6</td><td> 1.1</td><td>77.9</td></tr>\n",
       "\t<tr><td>Angola     </td><td> 4.3</td><td> 9.7</td><td>10.3</td><td> 1.9</td><td> 9.1</td><td>3.3</td><td>1.7</td><td> 8.3</td><td>4.8</td><td> 9.7</td><td>4.3</td><td> 1.2</td><td>1.8</td><td>18.0</td><td>46.1</td><td>15.6</td><td>34.5</td></tr>\n",
       "\t<tr><td>Armenia    </td><td>88.3</td><td> 8.0</td><td> 0.5</td><td> 0.2</td><td> 0.2</td><td>1.0</td><td>0.0</td><td> 0.0</td><td>0.1</td><td> 1.5</td><td>0.0</td><td> 0.0</td><td>0.0</td><td> 0.0</td><td> 1.6</td><td> 0.1</td><td>97.6</td></tr>\n",
       "\t<tr><td>Azerbaijan </td><td>34.0</td><td>19.7</td><td> 3.5</td><td> 9.3</td><td> 6.2</td><td>7.5</td><td>0.0</td><td> 0.2</td><td>1.1</td><td> 9.5</td><td>0.7</td><td> 0.1</td><td>1.1</td><td> 7.0</td><td>18.7</td><td> 4.4</td><td>75.9</td></tr>\n",
       "\t<tr><td>Bangladesh </td><td> 4.3</td><td> 3.3</td><td> 2.7</td><td>86.4</td><td> 0.2</td><td>0.0</td><td>0.4</td><td> 0.6</td><td>0.3</td><td> 0.0</td><td>0.1</td><td> 0.3</td><td>0.1</td><td> 1.2</td><td>22.7</td><td> 1.6</td><td>75.5</td></tr>\n",
       "</tbody>\n",
       "</table>\n"
      ],
      "text/latex": [
       "A tibble: 6 × 18\n",
       "\\begin{tabular}{llllllllllllllllll}\n",
       " Country & phom & pipy & ptap & bore & pwel & pspr & rain & uwel & uspr & truc & ctan & bott & othw & surw & tles & tmor & watp\\\\\n",
       " <chr> & <dbl> & <dbl> & <dbl> & <dbl> & <dbl> & <dbl> & <dbl> & <dbl> & <dbl> & <dbl> & <dbl> & <dbl> & <dbl> & <dbl> & <dbl> & <dbl> & <dbl>\\\\\n",
       "\\hline\n",
       "\t Afghanistan &  2.3 &  4.8 & 14.2 & 20.1 & 18.5 & 4.7 & 0.4 & 11.1 & 8.6 &  1.5 & 4.4 &  0.2 & 1.7 &  7.3 & 45.2 &  8.2 & 45.3\\\\\n",
       "\t Albania     & 48.8 &  5.2 &  2.4 &  1.4 &  4.1 & 2.5 & 0.0 &  0.8 & 0.8 & 14.1 & 0.2 & 19.6 & 0.1 &  0.0 & 20.6 &  1.1 & 77.9\\\\\n",
       "\t Angola      &  4.3 &  9.7 & 10.3 &  1.9 &  9.1 & 3.3 & 1.7 &  8.3 & 4.8 &  9.7 & 4.3 &  1.2 & 1.8 & 18.0 & 46.1 & 15.6 & 34.5\\\\\n",
       "\t Armenia     & 88.3 &  8.0 &  0.5 &  0.2 &  0.2 & 1.0 & 0.0 &  0.0 & 0.1 &  1.5 & 0.0 &  0.0 & 0.0 &  0.0 &  1.6 &  0.1 & 97.6\\\\\n",
       "\t Azerbaijan  & 34.0 & 19.7 &  3.5 &  9.3 &  6.2 & 7.5 & 0.0 &  0.2 & 1.1 &  9.5 & 0.7 &  0.1 & 1.1 &  7.0 & 18.7 &  4.4 & 75.9\\\\\n",
       "\t Bangladesh  &  4.3 &  3.3 &  2.7 & 86.4 &  0.2 & 0.0 & 0.4 &  0.6 & 0.3 &  0.0 & 0.1 &  0.3 & 0.1 &  1.2 & 22.7 &  1.6 & 75.5\\\\\n",
       "\\end{tabular}\n"
      ],
      "text/markdown": [
       "\n",
       "A tibble: 6 × 18\n",
       "\n",
       "| Country &lt;chr&gt; | phom &lt;dbl&gt; | pipy &lt;dbl&gt; | ptap &lt;dbl&gt; | bore &lt;dbl&gt; | pwel &lt;dbl&gt; | pspr &lt;dbl&gt; | rain &lt;dbl&gt; | uwel &lt;dbl&gt; | uspr &lt;dbl&gt; | truc &lt;dbl&gt; | ctan &lt;dbl&gt; | bott &lt;dbl&gt; | othw &lt;dbl&gt; | surw &lt;dbl&gt; | tles &lt;dbl&gt; | tmor &lt;dbl&gt; | watp &lt;dbl&gt; |\n",
       "|---|---|---|---|---|---|---|---|---|---|---|---|---|---|---|---|---|---|\n",
       "| Afghanistan |  2.3 |  4.8 | 14.2 | 20.1 | 18.5 | 4.7 | 0.4 | 11.1 | 8.6 |  1.5 | 4.4 |  0.2 | 1.7 |  7.3 | 45.2 |  8.2 | 45.3 |\n",
       "| Albania     | 48.8 |  5.2 |  2.4 |  1.4 |  4.1 | 2.5 | 0.0 |  0.8 | 0.8 | 14.1 | 0.2 | 19.6 | 0.1 |  0.0 | 20.6 |  1.1 | 77.9 |\n",
       "| Angola      |  4.3 |  9.7 | 10.3 |  1.9 |  9.1 | 3.3 | 1.7 |  8.3 | 4.8 |  9.7 | 4.3 |  1.2 | 1.8 | 18.0 | 46.1 | 15.6 | 34.5 |\n",
       "| Armenia     | 88.3 |  8.0 |  0.5 |  0.2 |  0.2 | 1.0 | 0.0 |  0.0 | 0.1 |  1.5 | 0.0 |  0.0 | 0.0 |  0.0 |  1.6 |  0.1 | 97.6 |\n",
       "| Azerbaijan  | 34.0 | 19.7 |  3.5 |  9.3 |  6.2 | 7.5 | 0.0 |  0.2 | 1.1 |  9.5 | 0.7 |  0.1 | 1.1 |  7.0 | 18.7 |  4.4 | 75.9 |\n",
       "| Bangladesh  |  4.3 |  3.3 |  2.7 | 86.4 |  0.2 | 0.0 | 0.4 |  0.6 | 0.3 |  0.0 | 0.1 |  0.3 | 0.1 |  1.2 | 22.7 |  1.6 | 75.5 |\n",
       "\n"
      ],
      "text/plain": [
       "  Country     phom pipy ptap bore pwel pspr rain uwel uspr truc ctan bott othw\n",
       "1 Afghanistan  2.3  4.8 14.2 20.1 18.5 4.7  0.4  11.1 8.6   1.5 4.4   0.2 1.7 \n",
       "2 Albania     48.8  5.2  2.4  1.4  4.1 2.5  0.0   0.8 0.8  14.1 0.2  19.6 0.1 \n",
       "3 Angola       4.3  9.7 10.3  1.9  9.1 3.3  1.7   8.3 4.8   9.7 4.3   1.2 1.8 \n",
       "4 Armenia     88.3  8.0  0.5  0.2  0.2 1.0  0.0   0.0 0.1   1.5 0.0   0.0 0.0 \n",
       "5 Azerbaijan  34.0 19.7  3.5  9.3  6.2 7.5  0.0   0.2 1.1   9.5 0.7   0.1 1.1 \n",
       "6 Bangladesh   4.3  3.3  2.7 86.4  0.2 0.0  0.4   0.6 0.3   0.0 0.1   0.3 0.1 \n",
       "  surw tles tmor watp\n",
       "1  7.3 45.2  8.2 45.3\n",
       "2  0.0 20.6  1.1 77.9\n",
       "3 18.0 46.1 15.6 34.5\n",
       "4  0.0  1.6  0.1 97.6\n",
       "5  7.0 18.7  4.4 75.9\n",
       "6  1.2 22.7  1.6 75.5"
      ]
     },
     "metadata": {},
     "output_type": "display_data"
    }
   ],
   "source": [
    "df.wa <- read_excel(\"../../results/df-water-access.xlsx\",sheet=1)\n",
    "df.wa.nocountry <- df.wa[,c(2:18)]\n",
    "head(df.wa)"
   ]
  },
  {
   "cell_type": "code",
   "execution_count": 4,
   "metadata": {
    "scrolled": false
   },
   "outputs": [
    {
     "name": "stdout",
     "output_type": "stream",
     "text": [
      "\n",
      "Loadings:\n",
      "     ML1   ML6   ML3   ML5   ML2   ML7   ML4  \n",
      "pwel  0.72                                    \n",
      "uwel  0.92 -0.36                              \n",
      "watp -0.62 -0.24              0.21            \n",
      "pspr -0.25  0.90                              \n",
      "uspr        0.72                    0.43      \n",
      "phom              0.52 -0.49 -0.27            \n",
      "bore       -0.43 -1.04       -0.34        0.24\n",
      "pipy -0.36 -0.23        0.87                  \n",
      "ptap  0.26        0.22  0.52              0.28\n",
      "bott                   -0.22  0.86 -0.32      \n",
      "surw                                0.70      \n",
      "tles  0.21                          0.37  0.61\n",
      "rain                          0.22       -0.45\n",
      "truc                                     -0.30\n",
      "ctan                          0.42            \n",
      "othw              0.28                        \n",
      "tmor  0.50  0.39                              \n",
      "\n",
      "                ML1  ML6  ML3  ML5  ML2  ML7  ML4\n",
      "SS loadings    2.42 2.01 1.61 1.42 1.26 1.00 0.91\n",
      "Proportion Var 0.14 0.12 0.09 0.08 0.07 0.06 0.05\n",
      "Cumulative Var 0.14 0.26 0.36 0.44 0.51 0.57 0.63\n"
     ]
    }
   ],
   "source": [
    "solution <- fa(df.wa.nocountry, nfactors = 7, rotate = \"promax\", fm = \"ml\", scores=\"tenBerge\", impute =\"mean\", max.iter = 1000 )\n",
    "scores.seven.factors = solution$scores\n",
    "scores.seven.factors = as.data.frame.matrix(scores.seven.factors) #df.wa multiply by scores matrix\n",
    "write_xlsx(scores.seven.factors, '../../results/scores-7-factors.xlsx')\n",
    "print(solution$loadings, digits=2, cutoff=.2, sort=TRUE) #sort out by the low numbers"
   ]
  },
  {
   "cell_type": "code",
   "execution_count": 5,
   "metadata": {},
   "outputs": [
    {
     "data": {
      "text/html": [
       "<strong>png:</strong> 2"
      ],
      "text/latex": [
       "\\textbf{png:} 2"
      ],
      "text/markdown": [
       "**png:** 2"
      ],
      "text/plain": [
       "png \n",
       "  2 "
      ]
     },
     "metadata": {},
     "output_type": "display_data"
    }
   ],
   "source": [
    "# Scree plot is a good rule of thumb to determine the best factors \n",
    "n_factors <- length(solution$e.values)\n",
    "\n",
    "\n",
    "scree     <- data.frame(\n",
    "               Factor_n =  as.factor(1:8), \n",
    "             Eigenvalue = solution$e.values[1:8])\n",
    " s <- ggplot(scree, aes(x = Factor_n, y = Eigenvalue, group = 1)) + \n",
    "  geom_point() + \n",
    "    geom_line() +\n",
    "  theme_minimal()+\n",
    "  xlab(\"Number of factors\") +\n",
    "  ylab(\"Eigenvalue\") +\n",
    " geom_vline(xintercept = 7 , linetype=\"dotted\",  size=1.5) + theme(axis.text=element_text(size=18),\n",
    "        axis.title=element_text(size=18))\n",
    "\n",
    "pdf(file = \"../../docs/manuscript/pdf-image/scree-plot.pdf\"\n",
    "  ,\n",
    "  width     = 5,\n",
    "  height    = 5 )\n",
    "s\n",
    "dev.off()"
   ]
  },
  {
   "cell_type": "markdown",
   "metadata": {},
   "source": [
    "# A bar graph of factor loadings"
   ]
  },
  {
   "cell_type": "markdown",
   "metadata": {},
   "source": [
    "https://www.r-graph-gallery.com/239-custom-layout-legend-ggplot2.html#:~:text=You%20can%20place%20the%20legend,the%20x%20and%20y%20coordinates.\n",
    "https://rstudio-pubs-static.s3.amazonaws.com/74109_5a0572586ce34b668a9280fd026602da.html#a-bar-graph-of-factor-loadings"
   ]
  },
  {
   "cell_type": "code",
   "execution_count": null,
   "metadata": {
    "scrolled": false
   },
   "outputs": [
    {
     "data": {
      "text/html": [
       "<table class=\"dataframe\">\n",
       "<caption>A data.frame: 6 × 8</caption>\n",
       "<thead>\n",
       "\t<tr><th></th><th scope=col>Variable</th><th scope=col>Far Well</th><th scope=col>Far Spring</th><th scope=col>Piped Indoors</th><th scope=col>Piped Outdoors</th><th scope=col>Vended</th><th scope=col>Nearby Surface</th><th scope=col>Nearby Improved</th></tr>\n",
       "\t<tr><th></th><th scope=col>&lt;fct&gt;</th><th scope=col>&lt;dbl&gt;</th><th scope=col>&lt;dbl&gt;</th><th scope=col>&lt;dbl&gt;</th><th scope=col>&lt;dbl&gt;</th><th scope=col>&lt;dbl&gt;</th><th scope=col>&lt;dbl&gt;</th><th scope=col>&lt;dbl&gt;</th></tr>\n",
       "</thead>\n",
       "<tbody>\n",
       "\t<tr><th scope=row>1</th><td>Unprotected Well  </td><td> 0.92</td><td>-0.36</td><td> 0.06</td><td>-0.05</td><td> 0.12</td><td> 0.00</td><td> 0.15</td></tr>\n",
       "\t<tr><th scope=row>2</th><td>Unprotected Spring</td><td>-0.13</td><td> 0.72</td><td> 0.09</td><td>-0.16</td><td> 0.01</td><td> 0.43</td><td>-0.01</td></tr>\n",
       "\t<tr><th scope=row>3</th><td>Truck             </td><td> 0.10</td><td>-0.01</td><td> 0.14</td><td> 0.01</td><td>-0.06</td><td> 0.01</td><td>-0.30</td></tr>\n",
       "\t<tr><th scope=row>4</th><td>Tanker Cart       </td><td> 0.08</td><td>-0.10</td><td> 0.06</td><td>-0.03</td><td> 0.42</td><td> 0.14</td><td>-0.04</td></tr>\n",
       "\t<tr><th scope=row>5</th><td><span style=white-space:pre-wrap>T&gt;30min           </span></td><td> 0.50</td><td> 0.39</td><td>-0.02</td><td>-0.01</td><td>-0.09</td><td>-0.08</td><td> 0.04</td></tr>\n",
       "\t<tr><th scope=row>6</th><td><span style=white-space:pre-wrap>T&lt;30min           </span></td><td> 0.21</td><td> 0.15</td><td>-0.09</td><td> 0.06</td><td> 0.04</td><td> 0.37</td><td> 0.61</td></tr>\n",
       "</tbody>\n",
       "</table>\n"
      ],
      "text/latex": [
       "A data.frame: 6 × 8\n",
       "\\begin{tabular}{r|llllllll}\n",
       "  & Variable & Far Well & Far Spring & Piped Indoors & Piped Outdoors & Vended & Nearby Surface & Nearby Improved\\\\\n",
       "  & <fct> & <dbl> & <dbl> & <dbl> & <dbl> & <dbl> & <dbl> & <dbl>\\\\\n",
       "\\hline\n",
       "\t1 & Unprotected Well   &  0.92 & -0.36 &  0.06 & -0.05 &  0.12 &  0.00 &  0.15\\\\\n",
       "\t2 & Unprotected Spring & -0.13 &  0.72 &  0.09 & -0.16 &  0.01 &  0.43 & -0.01\\\\\n",
       "\t3 & Truck              &  0.10 & -0.01 &  0.14 &  0.01 & -0.06 &  0.01 & -0.30\\\\\n",
       "\t4 & Tanker Cart        &  0.08 & -0.10 &  0.06 & -0.03 &  0.42 &  0.14 & -0.04\\\\\n",
       "\t5 & T>30min            &  0.50 &  0.39 & -0.02 & -0.01 & -0.09 & -0.08 &  0.04\\\\\n",
       "\t6 & T<30min            &  0.21 &  0.15 & -0.09 &  0.06 &  0.04 &  0.37 &  0.61\\\\\n",
       "\\end{tabular}\n"
      ],
      "text/markdown": [
       "\n",
       "A data.frame: 6 × 8\n",
       "\n",
       "| <!--/--> | Variable &lt;fct&gt; | Far Well &lt;dbl&gt; | Far Spring &lt;dbl&gt; | Piped Indoors &lt;dbl&gt; | Piped Outdoors &lt;dbl&gt; | Vended &lt;dbl&gt; | Nearby Surface &lt;dbl&gt; | Nearby Improved &lt;dbl&gt; |\n",
       "|---|---|---|---|---|---|---|---|---|\n",
       "| 1 | Unprotected Well   |  0.92 | -0.36 |  0.06 | -0.05 |  0.12 |  0.00 |  0.15 |\n",
       "| 2 | Unprotected Spring | -0.13 |  0.72 |  0.09 | -0.16 |  0.01 |  0.43 | -0.01 |\n",
       "| 3 | Truck              |  0.10 | -0.01 |  0.14 |  0.01 | -0.06 |  0.01 | -0.30 |\n",
       "| 4 | Tanker Cart        |  0.08 | -0.10 |  0.06 | -0.03 |  0.42 |  0.14 | -0.04 |\n",
       "| 5 | T&gt;30min            |  0.50 |  0.39 | -0.02 | -0.01 | -0.09 | -0.08 |  0.04 |\n",
       "| 6 | T&lt;30min            |  0.21 |  0.15 | -0.09 |  0.06 |  0.04 |  0.37 |  0.61 |\n",
       "\n"
      ],
      "text/plain": [
       "  Variable           Far Well Far Spring Piped Indoors Piped Outdoors Vended\n",
       "1 Unprotected Well    0.92    -0.36       0.06         -0.05           0.12 \n",
       "2 Unprotected Spring -0.13     0.72       0.09         -0.16           0.01 \n",
       "3 Truck               0.10    -0.01       0.14          0.01          -0.06 \n",
       "4 Tanker Cart         0.08    -0.10       0.06         -0.03           0.42 \n",
       "5 T>30min             0.50     0.39      -0.02         -0.01          -0.09 \n",
       "6 T<30min             0.21     0.15      -0.09          0.06           0.04 \n",
       "  Nearby Surface Nearby Improved\n",
       "1  0.00           0.15          \n",
       "2  0.43          -0.01          \n",
       "3  0.01          -0.30          \n",
       "4  0.14          -0.04          \n",
       "5 -0.08           0.04          \n",
       "6  0.37           0.61          "
      ]
     },
     "metadata": {},
     "output_type": "display_data"
    }
   ],
   "source": [
    "df.fl <- read_excel(\"../../results/factor-7-loadings.xlsx\",sheet=1) #customized excel\n",
    "\n",
    "df.fl <- as.data.frame(df.fl)\n",
    "\n",
    "df.fl[,c(1)] <- as.factor(df.fl[,c(1)])\n",
    "head(df.fl)\n",
    "\n",
    "loadings.m <- melt(df.fl, id=\"Variable\", # if the name is changed, then change the name in the excel as well\n",
    "                   measure=c(    \n",
    "        'Far Spring',\n",
    "        'Far Well',\n",
    "        'Nearby Improved',\n",
    "        'Nearby Surface',\n",
    "      'Piped Indoors' ,\n",
    "      'Piped Outdoors' ,\n",
    "      'Vended'\n",
    "       ), \n",
    "                   variable.name=\"Factor\", value.name=\"Loading\")\n",
    "\n",
    "#size of the plot \n",
    "options(repr.plot.width=15, repr.plot.height=7)\n",
    "par(mar = c(1,1,1,1))\n",
    "par(cex=1)\n",
    "\n",
    "#For each ws (water sources), plot the loading as length and fill color of a bar\n",
    "# note that the length will be the absolute value of the loading but the \n",
    "# fill color will be the signed value, more on this below\n",
    "g <- ggplot(data = loadings.m, aes(x = Variable, y = abs(Loading), fill=Loading)) + \n",
    "  facet_wrap(~ Factor, nrow=1) + #place the factors in separate facets\n",
    "  geom_bar(stat=\"identity\" ,aes()) + #make the bars\n",
    "  coord_flip() + #flip the axes so the test names can be horizontal  \n",
    "  #define the fill color gradient: blue=positive, red=negative\n",
    "  scale_fill_gradient2(name = \"Loading\", \n",
    "                       high = \"blue\", mid = \"white\", low = \"red\", \n",
    "                       midpoint=0, guide=F) +\n",
    "  ylab(\"Loading Strength\") + #improve y-axis label\n",
    "  theme_bw(base_size= 14) + #use a black-and white theme with set font size \n",
    " scale_x_discrete(limits = rev) \n",
    "\n",
    "png(\n",
    "  \"fa-7-loadings.png\",\n",
    "  width     = 14,\n",
    "  height    = 5,\n",
    "  units     = \"in\",\n",
    "  res       = 700,\n",
    "  #pointsize = 6 \n",
    ")\n",
    "g + theme(legend.position=\"bottom\")\n",
    "dev.off()\n",
    "\n",
    "pdf(file = \"../../docs/manuscript/pdf-image/fa-7-loadings.pdf\"\n",
    "  ,\n",
    "  width     = 14,\n",
    "  height    = 5 \n",
    "   )\n",
    "g + theme(legend.position=\"bottom\")\n",
    "dev.off()"
   ]
  },
  {
   "cell_type": "markdown",
   "metadata": {},
   "source": [
    "# For Loop for FA"
   ]
  },
  {
   "cell_type": "code",
   "execution_count": 6,
   "metadata": {
    "scrolled": true
   },
   "outputs": [
    {
     "name": "stdout",
     "output_type": "stream",
     "text": [
      "[1] -149.8712\n",
      "[1] 0.5139894\n",
      "[1] 0.07425473\n",
      "[1] 167.6228\n",
      "[1] 3.213399e-09\n",
      "[1] 2.667737\n",
      "[1] -208.0127\n",
      "[1] 74\n",
      "[1] 109.4813\n",
      "     RMSEA      lower      upper confidence \n",
      " 0.1309232  0.1059674  0.1592644  0.9000000 \n",
      "[1] -120.648\n",
      "[1] 0.4882458\n",
      "[1] 0.06400577\n",
      "[1] 141.0701\n",
      "[1] 2.753781e-08\n",
      "[1] 2.269224\n",
      "[1] -180.3732\n",
      "[1] 61\n",
      "[1] 81.34485\n",
      "     RMSEA      lower      upper confidence \n",
      " 0.1333825  0.1059175  0.1643193  0.9000000 \n",
      "[1] -112.6251\n",
      "[1] 0.6074006\n",
      "[1] 0.05533547\n",
      "[1] 97.60746\n",
      "[1] 4.514153e-05\n",
      "[1] 1.587113\n",
      "[1] -149.4332\n",
      "[1] 49\n",
      "[1] 60.79935\n",
      "     RMSEA      lower      upper confidence \n",
      "0.11575245 0.08298078 0.15124692 0.90000000 \n",
      "[1] -97.21088\n",
      "[1] 0.7057339\n",
      "[1] 0.04629849\n",
      "[1] 65.82658\n",
      "[1] 0.003378166\n",
      "[1] 1.082081\n",
      "[1] -120.4751\n",
      "[1] 38\n",
      "[1] 42.56234\n",
      "     RMSEA      lower      upper confidence \n",
      "0.09920157 0.05783114 0.14095585 0.90000000 \n"
     ]
    }
   ],
   "source": [
    "#For loop for factors of 3-5 fm = \"minchi\"\n",
    "for (i in 4:7) {\n",
    "iteration <- fa(df.wa.nocountry, nfactors = i, rotate = \"promax\", fm = \"minchi\" , scores= \"tenBerge\", impute =\"mean\", max.iter = 1000)\n",
    "    #print(iteration$loadings, digits=2, cutoff=.2, sort=TRUE)\n",
    "    print(iteration$BIC)\n",
    "    print(iteration$TLI)\n",
    "    print(iteration$rms)\n",
    "    print(iteration$STATISTIC)\n",
    "    print(iteration$PVAL)\n",
    "    print(iteration$objective)\n",
    "    print(iteration$EBIC )\n",
    "    print(iteration$dof)\n",
    "    print(iteration$chi)\n",
    "    print(iteration$RMSEA)\n",
    "} "
   ]
  },
  {
   "cell_type": "markdown",
   "metadata": {},
   "source": [
    "\"none\", \"varimax\", \"quartimax\", \"bentlerT\", \"equamax\", \"varimin\", \"geominT\" and \"bifactor\" are orthogonal rotations. \"Promax\", \"promax\", \"oblimin\", \"simplimax\", \"bentlerQ, \"geominQ\" and \"biquartimin\" and \"cluster\" are possible oblique transformations of the solution. = rotation varimin = correction"
   ]
  },
  {
   "cell_type": "markdown",
   "metadata": {},
   "source": [
    "Factoring method fm=\"minres\" will do a minimum residual as will fm=\"uls\".  fm=\"ols\" differs very slightly from \"minres\". fm=\"wls\" will do a weighted least squares (WLS) solution, fm=\"gls\" does a generalized weighted least squares (GLS), fm=\"pa\" will do the principal factor solution, fm=\"ml\" will do a maximum likelihood factor analysis. fm=\"minchi\" will minimize the sample size weighted chi square when treating pairwise correlations with different number of subjects per pair. fm =\"minrank\" will do a minimum rank factor analysis. \"old.min\" will do minimal residual the way it was done prior to April, 2017 (see discussion below). fm=\"alpha\" will do alpha factor analysis as described in Kaiser and Coffey (1965)\n",
    "Correction WLS and GLS, minrank, old.min\n",
    "Correct for Oblimin works with minrank and old.min, ml, minchi,  = fm works with"
   ]
  },
  {
   "cell_type": "code",
   "execution_count": null,
   "metadata": {
    "scrolled": true
   },
   "outputs": [],
   "source": [
    "#For loop for factors of 2-6 fm = \"minrank\" \n",
    "for (i in 4:7) {\n",
    "iteration <- fa(df.wa.nocountry, nfactors = i, rotate = \"promax\", fm = \"minrank\" , scores= \"tenBerge\", impute =\"mean\", max.iter = 1000)\n",
    "    print(iteration$BIC)\n",
    "    print(iteration$TLI)\n",
    "    print(iteration$rms)\n",
    "    print(iteration$STATISTIC)\n",
    "    print(iteration$PVAL)\n",
    "    print(iteration$objective)\n",
    "    print(iteration$EBIC )\n",
    "    print(iteration$dof)\n",
    "    print(iteration$chi)\n",
    "    print(iteration$RMSEA)\n",
    "} \n"
   ]
  },
  {
   "cell_type": "code",
   "execution_count": null,
   "metadata": {
    "scrolled": true
   },
   "outputs": [],
   "source": [
    "#For loop for factors of 2-6 fm = \"minrank\" \n",
    "for (i in 4:7) {\n",
    "iteration <- fa(df.wa.nocountry, nfactors = i, rotate = \"promax\", fm = \"minrank\" , scores= \"tenBerge\", impute =\"mean\", max.iter = 1000)\n",
    "    print(iteration$loadings, digits=2, cutoff=.2, sort=TRUE)}"
   ]
  },
  {
   "cell_type": "code",
   "execution_count": null,
   "metadata": {
    "scrolled": true
   },
   "outputs": [],
   "source": [
    "#For loop for factors of 2-10 fm = \"ml\"\n",
    "for (i in 4:7) {\n",
    "iteration <- fa(df.wa.nocountry, nfactors = i, rotate = \"promax\", fm = \"ml\" , scores= \"tenBerge\", impute =\"mean\", max.iter = 1000)\n",
    "    print(iteration$BIC) \n",
    "    print(iteration$TLI)\n",
    "    print(iteration$rms)\n",
    "    print(iteration$STATISTIC)\n",
    "    print(iteration$PVAL)\n",
    "    print(iteration$objective)\n",
    "    print(iteration$EBIC )\n",
    "    print(iteration$dof)\n",
    "    print(iteration$chi)\n",
    "     print(iteration$values)\n",
    "    print(iteration$RMSEA)\n",
    "} "
   ]
  },
  {
   "cell_type": "code",
   "execution_count": null,
   "metadata": {
    "scrolled": true
   },
   "outputs": [],
   "source": [
    "# possible oblique transformations of the solution for better interpreation\n",
    "for (i in 2:7) {\n",
    "iteration <- fa(df.wa.nocountry, nfactors = i, rotate = \"oblimin\", fm = \"ml\" , scores= \"tenBerge\", impute =\"mean\", max.iter = 1000)\n",
    "    print(iteration$loadings, digits=2, cutoff=.2, sort=TRUE)}\n",
    "for (i in 2:7) {\n",
    "iteration <- fa(df.wa.nocountry, nfactors = i, rotate = \"bentlerQ\", fm = \"ml\" , scores= \"tenBerge\", impute =\"mean\", max.iter = 2000)\n",
    "    print(iteration$loadings, digits=2, cutoff=.2, sort=TRUE)}\n",
    "for (i in 2:7) {\n",
    "iteration <- fa(df.wa.nocountry, nfactors = i, rotate = \"promax\", fm = \"ml\" , scores= \"tenBerge\", impute =\"mean\", max.iter = 1000)\n",
    "    print(iteration$loadings, digits=2, cutoff=.2, sort=TRUE)}\n",
    "#  are orthogonal rotations for stronger interpreation\n",
    "for (i in 2:7) {\n",
    "iteration <- fa(df.wa.nocountry, nfactors = i, rotate = \"varimax\", fm = \"ml\" , scores= \"tenBerge\", impute =\"mean\", max.iter = 1000)\n",
    "    print(iteration$loadings, digits=2, cutoff=.2, sort=TRUE)}\n",
    "for (i in 2:7) {\n",
    "iteration <- fa(df.wa.nocountry, nfactors = i, rotate = \"bentlerT\", fm = \"ml\" , scores= \"tenBerge\", impute =\"mean\", max.iter = 1000)\n",
    "    print(iteration$loadings, digits=2, cutoff=.2, sort=TRUE)}\n",
    "for (i in 2:7) {\n",
    "iteration <- fa(df.wa.nocountry, nfactors = i, rotate = \"geominT\", fm = \"ml\" , scores= \"tenBerge\", impute =\"mean\", max.iter = 1000)\n",
    "    print(iteration$loadings, digits=2, cutoff=.2, sort=TRUE)}"
   ]
  },
  {
   "cell_type": "code",
   "execution_count": null,
   "metadata": {},
   "outputs": [],
   "source": [
    "df.wa.nocountry <- as.matrix(df.wa.nocountry)\n",
    "scores <- as.matrix(scores.seven.factors)\n",
    "df.seven.scores <-  scores\n",
    "df.seven.scores #plot this without scaling "
   ]
  },
  {
   "cell_type": "markdown",
   "metadata": {},
   "source": [
    "# New FA 7 data frame"
   ]
  },
  {
   "cell_type": "code",
   "execution_count": null,
   "metadata": {},
   "outputs": [],
   "source": [
    "# Without Scaling\n",
    "df.wa.nocountry <- as.matrix(df.wa.nocountry)\n",
    "scores <- as.matrix(scores.seven.factors)\n",
    "df.seven.scores <-  scores\n",
    "df.seven.scores <- cbind(df.wa,df.seven.scores)\n",
    "score.no.scale <- df.seven.scores[,c(1,19:25)]\n",
    "head(score.no.scale,7)\n",
    "summary(score.no.scale)\n",
    "write_xlsx(score.no.scale, '../../results/seven-scores-no-scale.xlsx')"
   ]
  },
  {
   "cell_type": "code",
   "execution_count": null,
   "metadata": {
    "scrolled": false
   },
   "outputs": [],
   "source": [
    "df.wa.nocountry <- as.matrix(df.wa.nocountry)\n",
    "scores <- as.matrix(scores.seven.factors)\n",
    "df.seven.scores <-  scores\n",
    "df.seven.scores = as.data.frame(apply(as.matrix(df.seven.scores[,c(1:7)]), 2, rescale))\n",
    "df.seven.scores <- cbind(df.wa,df.seven.scores)\n",
    "df.seven.scores <- df.seven.scores[,c(1,19:25)]\n",
    "head(df.seven.scores,7)\n",
    "summary(df.seven.scores)\n",
    "write_xlsx(df.seven.scores, '../../results/df-seven-scores.xlsx')"
   ]
  },
  {
   "cell_type": "markdown",
   "metadata": {},
   "source": [
    "# Six factors - ml - promax"
   ]
  },
  {
   "cell_type": "code",
   "execution_count": null,
   "metadata": {},
   "outputs": [],
   "source": [
    "solution.six <- fa(df.wa.nocountry, nfactors = 6, rotate = \"promax\", fm = \"ml\", scores=\"tenBerge\", impute =\"mean\", max.iter = 1000 )\n",
    "scores.six.factors = solution.six$scores\n",
    "scores.six.factors = as.data.frame.matrix(scores.six.factors) #df.wa multiply by scores matrix\n",
    "write_xlsx(scores.six.factors, '../../results/scores-6-factors.xlsx')\n",
    "print(solution.six$loadings, digits=2, cutoff=.2, sort=TRUE) #sort out by the low numbers\n",
    "df.wa.nocountry <- df.wa[,c(2:18)]\n",
    "df.wa.nocountry <- as.matrix(df.wa.nocountry)\n",
    "scores <- as.matrix(scores.six.factors)\n",
    "df.six.scores <-  scores\n",
    "df.six.scores = as.data.frame(apply(as.matrix(df.six.scores[,c(1:6)]), 2, rescale))\n",
    "df.six.scores <- cbind(df.wa,df.six.scores)\n",
    "df.six.scores <- df.six.scores[,c(1,19:24)]\n",
    "head(df.six.scores,7)\n",
    "summary(df.six.scores)\n",
    "write_xlsx(df.six.scores, '../../archive-explore/df-six-scores.xlsx')"
   ]
  },
  {
   "cell_type": "markdown",
   "metadata": {},
   "source": [
    "# Five factors - ml - promax"
   ]
  },
  {
   "cell_type": "code",
   "execution_count": 1,
   "metadata": {},
   "outputs": [
    {
     "ename": "ERROR",
     "evalue": "Error in fa(df.wa.nocountry, nfactors = 5, rotate = \"promax\", fm = \"ml\", : could not find function \"fa\"\n",
     "output_type": "error",
     "traceback": [
      "Error in fa(df.wa.nocountry, nfactors = 5, rotate = \"promax\", fm = \"ml\", : could not find function \"fa\"\nTraceback:\n"
     ]
    }
   ],
   "source": [
    "solution.five <- fa(df.wa.nocountry, nfactors = 5, rotate = \"promax\", fm = \"ml\", scores=\"tenBerge\", impute =\"mean\", max.iter = 1000 )\n",
    "scores.five.factors = solution.five$scores\n",
    "scores.five.factors = as.data.frame.matrix(scores.five.factors) #df.wa multiply by scores matrix\n",
    "write_xlsx(scores.five.factors, '../../results/scores-5-factors.xlsx')\n",
    "print(solution$loadings, digits=2, cutoff=.2, sort=TRUE) #sort out by the low numbers\n",
    "df.wa.nocountry <- df.wa[,c(2:18)]\n",
    "df.wa.nocountry <- as.matrix(df.wa.nocountry)\n",
    "scores <- as.matrix(scores.five.factors)\n",
    "df.five.scores <-  scores\n",
    "df.five.scores = as.data.frame(apply(as.matrix(df.five.scores[,c(1:5)]), 2, rescale))\n",
    "df.five.scores <- cbind(df.wa,df.five.scores)\n",
    "df.five.scores <- df.five.scores[,c(1,19:23)]\n",
    "head(df.five.scores,7)\n",
    "summary(df.five.scores)\n",
    "write_xlsx(df.five.scores, '../../archive-explore/df-five-scores.xlsx')"
   ]
  }
 ],
 "metadata": {
  "kernelspec": {
   "display_name": "R",
   "language": "R",
   "name": "ir"
  },
  "language_info": {
   "codemirror_mode": "r",
   "file_extension": ".r",
   "mimetype": "text/x-r-source",
   "name": "R",
   "pygments_lexer": "r",
   "version": "4.0.2"
  }
 },
 "nbformat": 4,
 "nbformat_minor": 4
}
