{
 "cells": [
  {
   "cell_type": "code",
   "execution_count": 12,
   "metadata": {},
   "outputs": [],
   "source": [
    "#install.packages('randomForest')\n",
    "library(readxl)\n",
    "library(randomForest)\n",
    "library(readxl)\n",
    "library(tidyverse)\n",
    "#install.packages('dplyr')\n",
    "library(dplyr)\n",
    "#install.packages('caret')\n",
    "library(Rcpp)\n",
    "library(caret)\n",
    "library(rpart)\n",
    "#install.packages('tree')\n",
    "library(tree)\n",
    "#install.packages('multcomp')\n",
    "library(multcomp)\n",
    "#install.packages('party')\n",
    "library(party)\n",
    "library(tree)\n",
    "#install.packages('Metrics')\n",
    "library(Metrics)\n",
    "#install.packages('reprtree')\n",
    "#devtools::install_github(\"MI2DataLab/randomForestExplainer\")\n",
    "#install.packages('randomForestExplainer')\n",
    "library(randomForestExplainer)\n",
    "#install.packages(\"scales\")\n",
    "library(scales)\n",
    "#update.packages()\n",
    "#install.packages(\"packagename\")\n",
    "require(foreign)\n",
    "require(nnet)\n",
    "require(ggplot2)\n",
    "require(reshape2)"
   ]
  },
  {
   "cell_type": "code",
   "execution_count": null,
   "metadata": {},
   "outputs": [],
   "source": [
    "# FA (weighted) Classifcation"
   ]
  },
  {
   "cell_type": "code",
   "execution_count": 33,
   "metadata": {},
   "outputs": [
    {
     "data": {
      "text/html": [
       "<table class=\"dataframe\">\n",
       "<caption>A data.frame: 6 × 21</caption>\n",
       "<thead>\n",
       "\t<tr><th></th><th scope=col>Country</th><th scope=col>bicy</th><th scope=col>cart</th><th scope=col>mcyc</th><th scope=col>pcar</th><th scope=col>boat</th><th scope=col>wigc</th><th scope=col>clusters</th><th scope=col>cgdp</th><th scope=col>tpop</th><th scope=col>...</th><th scope=col>popd</th><th scope=col>land</th><th scope=col>lita</th><th scope=col>lity</th><th scope=col>mori</th><th scope=col>rifr</th><th scope=col>cotw</th><th scope=col>moru</th><th scope=col>ppfg</th><th scope=col>prec</th></tr>\n",
       "\t<tr><th></th><th scope=col>&lt;chr&gt;</th><th scope=col>&lt;dbl&gt;</th><th scope=col>&lt;dbl&gt;</th><th scope=col>&lt;dbl&gt;</th><th scope=col>&lt;dbl&gt;</th><th scope=col>&lt;dbl&gt;</th><th scope=col>&lt;dbl&gt;</th><th scope=col>&lt;fct&gt;</th><th scope=col>&lt;dbl&gt;</th><th scope=col>&lt;dbl&gt;</th><th scope=col>...</th><th scope=col>&lt;dbl&gt;</th><th scope=col>&lt;dbl&gt;</th><th scope=col>&lt;dbl&gt;</th><th scope=col>&lt;dbl&gt;</th><th scope=col>&lt;dbl&gt;</th><th scope=col>&lt;dbl&gt;</th><th scope=col>&lt;dbl&gt;</th><th scope=col>&lt;dbl&gt;</th><th scope=col>&lt;dbl&gt;</th><th scope=col>&lt;dbl&gt;</th></tr>\n",
       "</thead>\n",
       "<tbody>\n",
       "\t<tr><th scope=row>1</th><td>Afghanistan</td><td>30.0</td><td>5.8</td><td>35.2</td><td>11.8</td><td>0.0</td><td>0.1</td><td>1</td><td> 18353881130</td><td> 37172386</td><td>...</td><td>  56.93776</td><td> 652860</td><td>43.01972</td><td>0.75933</td><td>62.5</td><td>1299.0269</td><td>      NA</td><td>13.9</td><td>0.70</td><td> 327</td></tr>\n",
       "\t<tr><th scope=row>2</th><td>Albania    </td><td>26.4</td><td>3.2</td><td> 9.6</td><td>37.0</td><td>0.7</td><td>0.1</td><td>2</td><td> 15147020535</td><td>  2866376</td><td>...</td><td> 104.61226</td><td>  27400</td><td>98.14115</td><td>1.00582</td><td> 9.5</td><td>9361.5460</td><td>59.95146</td><td> 0.2</td><td>1.36</td><td>1485</td></tr>\n",
       "\t<tr><th scope=row>3</th><td>Angola     </td><td> 4.6</td><td>1.3</td><td>17.8</td><td>10.9</td><td>0.4</td><td>0.3</td><td>1</td><td>101353230785</td><td> 30809762</td><td>...</td><td>  24.71305</td><td>1246700</td><td> 0.00000</td><td>0.00000</td><td>77.7</td><td>4963.6533</td><td>43.98964</td><td>48.8</td><td>0.97</td><td>1010</td></tr>\n",
       "\t<tr><th scope=row>4</th><td>Armenia    </td><td> 8.6</td><td>0.4</td><td> 0.2</td><td>39.2</td><td>0.3</td><td>0.1</td><td>2</td><td> 12457941907</td><td>  2951776</td><td>...</td><td> 103.68022</td><td>  28470</td><td> 0.00000</td><td>0.00000</td><td>12.4</td><td>2329.1833</td><td>27.77778</td><td> 0.2</td><td>0.77</td><td> 562</td></tr>\n",
       "\t<tr><th scope=row>5</th><td>Azerbaijan </td><td> 6.9</td><td>3.3</td><td> 1.1</td><td>20.4</td><td>0.1</td><td>0.0</td><td>3</td><td> 47112941176</td><td>  9939771</td><td>...</td><td> 120.23432</td><td>  82670</td><td> 0.00000</td><td>0.00000</td><td>21.6</td><td> 823.5207</td><td>24.48847</td><td> 1.1</td><td>0.56</td><td> 447</td></tr>\n",
       "\t<tr><th scope=row>6</th><td>Bangladesh </td><td>25.1</td><td>0.0</td><td> 6.4</td><td> 0.8</td><td>0.0</td><td>0.3</td><td>1</td><td>274039092455</td><td>161356039</td><td>...</td><td>1239.57931</td><td> 130170</td><td>73.91220</td><td>1.03276</td><td>32.3</td><td> 657.6039</td><td>14.19624</td><td>11.9</td><td>1.12</td><td>2666</td></tr>\n",
       "</tbody>\n",
       "</table>\n"
      ],
      "text/latex": [
       "A data.frame: 6 × 21\n",
       "\\begin{tabular}{r|lllllllllllllllllllll}\n",
       "  & Country & bicy & cart & mcyc & pcar & boat & wigc & clusters & cgdp & tpop & ... & popd & land & lita & lity & mori & rifr & cotw & moru & ppfg & prec\\\\\n",
       "  & <chr> & <dbl> & <dbl> & <dbl> & <dbl> & <dbl> & <dbl> & <fct> & <dbl> & <dbl> & ... & <dbl> & <dbl> & <dbl> & <dbl> & <dbl> & <dbl> & <dbl> & <dbl> & <dbl> & <dbl>\\\\\n",
       "\\hline\n",
       "\t1 & Afghanistan & 30.0 & 5.8 & 35.2 & 11.8 & 0.0 & 0.1 & 1 &  18353881130 &  37172386 & ... &   56.93776 &  652860 & 43.01972 & 0.75933 & 62.5 & 1299.0269 &       NA & 13.9 & 0.70 &  327\\\\\n",
       "\t2 & Albania     & 26.4 & 3.2 &  9.6 & 37.0 & 0.7 & 0.1 & 2 &  15147020535 &   2866376 & ... &  104.61226 &   27400 & 98.14115 & 1.00582 &  9.5 & 9361.5460 & 59.95146 &  0.2 & 1.36 & 1485\\\\\n",
       "\t3 & Angola      &  4.6 & 1.3 & 17.8 & 10.9 & 0.4 & 0.3 & 1 & 101353230785 &  30809762 & ... &   24.71305 & 1246700 &  0.00000 & 0.00000 & 77.7 & 4963.6533 & 43.98964 & 48.8 & 0.97 & 1010\\\\\n",
       "\t4 & Armenia     &  8.6 & 0.4 &  0.2 & 39.2 & 0.3 & 0.1 & 2 &  12457941907 &   2951776 & ... &  103.68022 &   28470 &  0.00000 & 0.00000 & 12.4 & 2329.1833 & 27.77778 &  0.2 & 0.77 &  562\\\\\n",
       "\t5 & Azerbaijan  &  6.9 & 3.3 &  1.1 & 20.4 & 0.1 & 0.0 & 3 &  47112941176 &   9939771 & ... &  120.23432 &   82670 &  0.00000 & 0.00000 & 21.6 &  823.5207 & 24.48847 &  1.1 & 0.56 &  447\\\\\n",
       "\t6 & Bangladesh  & 25.1 & 0.0 &  6.4 &  0.8 & 0.0 & 0.3 & 1 & 274039092455 & 161356039 & ... & 1239.57931 &  130170 & 73.91220 & 1.03276 & 32.3 &  657.6039 & 14.19624 & 11.9 & 1.12 & 2666\\\\\n",
       "\\end{tabular}\n"
      ],
      "text/markdown": [
       "\n",
       "A data.frame: 6 × 21\n",
       "\n",
       "| <!--/--> | Country &lt;chr&gt; | bicy &lt;dbl&gt; | cart &lt;dbl&gt; | mcyc &lt;dbl&gt; | pcar &lt;dbl&gt; | boat &lt;dbl&gt; | wigc &lt;dbl&gt; | clusters &lt;fct&gt; | cgdp &lt;dbl&gt; | tpop &lt;dbl&gt; | ... ... | popd &lt;dbl&gt; | land &lt;dbl&gt; | lita &lt;dbl&gt; | lity &lt;dbl&gt; | mori &lt;dbl&gt; | rifr &lt;dbl&gt; | cotw &lt;dbl&gt; | moru &lt;dbl&gt; | ppfg &lt;dbl&gt; | prec &lt;dbl&gt; |\n",
       "|---|---|---|---|---|---|---|---|---|---|---|---|---|---|---|---|---|---|---|---|---|---|\n",
       "| 1 | Afghanistan | 30.0 | 5.8 | 35.2 | 11.8 | 0.0 | 0.1 | 1 |  18353881130 |  37172386 | ... |   56.93776 |  652860 | 43.01972 | 0.75933 | 62.5 | 1299.0269 |       NA | 13.9 | 0.70 |  327 |\n",
       "| 2 | Albania     | 26.4 | 3.2 |  9.6 | 37.0 | 0.7 | 0.1 | 2 |  15147020535 |   2866376 | ... |  104.61226 |   27400 | 98.14115 | 1.00582 |  9.5 | 9361.5460 | 59.95146 |  0.2 | 1.36 | 1485 |\n",
       "| 3 | Angola      |  4.6 | 1.3 | 17.8 | 10.9 | 0.4 | 0.3 | 1 | 101353230785 |  30809762 | ... |   24.71305 | 1246700 |  0.00000 | 0.00000 | 77.7 | 4963.6533 | 43.98964 | 48.8 | 0.97 | 1010 |\n",
       "| 4 | Armenia     |  8.6 | 0.4 |  0.2 | 39.2 | 0.3 | 0.1 | 2 |  12457941907 |   2951776 | ... |  103.68022 |   28470 |  0.00000 | 0.00000 | 12.4 | 2329.1833 | 27.77778 |  0.2 | 0.77 |  562 |\n",
       "| 5 | Azerbaijan  |  6.9 | 3.3 |  1.1 | 20.4 | 0.1 | 0.0 | 3 |  47112941176 |   9939771 | ... |  120.23432 |   82670 |  0.00000 | 0.00000 | 21.6 |  823.5207 | 24.48847 |  1.1 | 0.56 |  447 |\n",
       "| 6 | Bangladesh  | 25.1 | 0.0 |  6.4 |  0.8 | 0.0 | 0.3 | 1 | 274039092455 | 161356039 | ... | 1239.57931 |  130170 | 73.91220 | 1.03276 | 32.3 |  657.6039 | 14.19624 | 11.9 | 1.12 | 2666 |\n",
       "\n"
      ],
      "text/plain": [
       "  Country     bicy cart mcyc pcar boat wigc clusters cgdp         tpop      ...\n",
       "1 Afghanistan 30.0 5.8  35.2 11.8 0.0  0.1  1         18353881130  37172386 ...\n",
       "2 Albania     26.4 3.2   9.6 37.0 0.7  0.1  2         15147020535   2866376 ...\n",
       "3 Angola       4.6 1.3  17.8 10.9 0.4  0.3  1        101353230785  30809762 ...\n",
       "4 Armenia      8.6 0.4   0.2 39.2 0.3  0.1  2         12457941907   2951776 ...\n",
       "5 Azerbaijan   6.9 3.3   1.1 20.4 0.1  0.0  3         47112941176   9939771 ...\n",
       "6 Bangladesh  25.1 0.0   6.4  0.8 0.0  0.3  1        274039092455 161356039 ...\n",
       "  popd       land    lita     lity    mori rifr      cotw     moru ppfg prec\n",
       "1   56.93776  652860 43.01972 0.75933 62.5 1299.0269       NA 13.9 0.70  327\n",
       "2  104.61226   27400 98.14115 1.00582  9.5 9361.5460 59.95146  0.2 1.36 1485\n",
       "3   24.71305 1246700  0.00000 0.00000 77.7 4963.6533 43.98964 48.8 0.97 1010\n",
       "4  103.68022   28470  0.00000 0.00000 12.4 2329.1833 27.77778  0.2 0.77  562\n",
       "5  120.23432   82670  0.00000 0.00000 21.6  823.5207 24.48847  1.1 0.56  447\n",
       "6 1239.57931  130170 73.91220 1.03276 32.3  657.6039 14.19624 11.9 1.12 2666"
      ]
     },
     "metadata": {},
     "output_type": "display_data"
    },
    {
     "data": {
      "text/html": [
       "<table class=\"dataframe\">\n",
       "<caption>A data.frame: 1 × 1</caption>\n",
       "<thead>\n",
       "\t<tr><th scope=col>n</th></tr>\n",
       "\t<tr><th scope=col>&lt;int&gt;</th></tr>\n",
       "</thead>\n",
       "<tbody>\n",
       "\t<tr><td>73</td></tr>\n",
       "</tbody>\n",
       "</table>\n"
      ],
      "text/latex": [
       "A data.frame: 1 × 1\n",
       "\\begin{tabular}{l}\n",
       " n\\\\\n",
       " <int>\\\\\n",
       "\\hline\n",
       "\t 73\\\\\n",
       "\\end{tabular}\n"
      ],
      "text/markdown": [
       "\n",
       "A data.frame: 1 × 1\n",
       "\n",
       "| n &lt;int&gt; |\n",
       "|---|\n",
       "| 73 |\n",
       "\n"
      ],
      "text/plain": [
       "  n \n",
       "1 73"
      ]
     },
     "metadata": {},
     "output_type": "display_data"
    },
    {
     "data": {
      "text/html": [
       "<style>\n",
       ".list-inline {list-style: none; margin:0; padding: 0}\n",
       ".list-inline>li {display: inline-block}\n",
       ".list-inline>li:not(:last-child)::after {content: \"\\00b7\"; padding: 0 .5ex}\n",
       "</style>\n",
       "<ol class=list-inline><li>1</li><li>2</li><li>1</li><li>2</li><li>3</li><li>1</li><li>1</li><li>3</li><li>1</li><li>1</li><li>4</li><li>1</li><li>1</li><li>2</li><li>3</li><li>1</li><li>1</li><li>1</li><li>4</li><li>2</li><li>1</li><li>1</li><li>1</li><li>3</li><li>1</li><li>1</li><li>4</li><li>1</li><li>4</li><li>1</li><li>2</li><li>1</li><li>4</li><li>2</li><li>3</li><li>3</li><li>1</li><li>1</li><li>1</li><li>1</li><li>4</li><li>1</li><li>1</li><li>2</li><li>2</li><li>1</li><li>1</li><li>3</li><li>1</li><li>3</li><li>1</li><li>1</li><li>1</li><li>1</li><li>2</li><li>4</li><li>1</li><li>1</li><li>3</li><li>1</li><li>3</li><li>3</li><li>1</li><li>3</li><li>1</li><li>2</li><li>3</li><li>1</li><li>2</li><li>3</li><li>4</li><li>1</li><li>1</li></ol>\n",
       "\n",
       "<details>\n",
       "\t<summary style=display:list-item;cursor:pointer>\n",
       "\t\t<strong>Levels</strong>:\n",
       "\t</summary>\n",
       "\t<style>\n",
       "\t.list-inline {list-style: none; margin:0; padding: 0}\n",
       "\t.list-inline>li {display: inline-block}\n",
       "\t.list-inline>li:not(:last-child)::after {content: \"\\00b7\"; padding: 0 .5ex}\n",
       "\t</style>\n",
       "\t<ol class=list-inline><li>'1'</li><li>'2'</li><li>'3'</li><li>'4'</li></ol>\n",
       "</details>"
      ],
      "text/latex": [
       "\\begin{enumerate*}\n",
       "\\item 1\n",
       "\\item 2\n",
       "\\item 1\n",
       "\\item 2\n",
       "\\item 3\n",
       "\\item 1\n",
       "\\item 1\n",
       "\\item 3\n",
       "\\item 1\n",
       "\\item 1\n",
       "\\item 4\n",
       "\\item 1\n",
       "\\item 1\n",
       "\\item 2\n",
       "\\item 3\n",
       "\\item 1\n",
       "\\item 1\n",
       "\\item 1\n",
       "\\item 4\n",
       "\\item 2\n",
       "\\item 1\n",
       "\\item 1\n",
       "\\item 1\n",
       "\\item 3\n",
       "\\item 1\n",
       "\\item 1\n",
       "\\item 4\n",
       "\\item 1\n",
       "\\item 4\n",
       "\\item 1\n",
       "\\item 2\n",
       "\\item 1\n",
       "\\item 4\n",
       "\\item 2\n",
       "\\item 3\n",
       "\\item 3\n",
       "\\item 1\n",
       "\\item 1\n",
       "\\item 1\n",
       "\\item 1\n",
       "\\item 4\n",
       "\\item 1\n",
       "\\item 1\n",
       "\\item 2\n",
       "\\item 2\n",
       "\\item 1\n",
       "\\item 1\n",
       "\\item 3\n",
       "\\item 1\n",
       "\\item 3\n",
       "\\item 1\n",
       "\\item 1\n",
       "\\item 1\n",
       "\\item 1\n",
       "\\item 2\n",
       "\\item 4\n",
       "\\item 1\n",
       "\\item 1\n",
       "\\item 3\n",
       "\\item 1\n",
       "\\item 3\n",
       "\\item 3\n",
       "\\item 1\n",
       "\\item 3\n",
       "\\item 1\n",
       "\\item 2\n",
       "\\item 3\n",
       "\\item 1\n",
       "\\item 2\n",
       "\\item 3\n",
       "\\item 4\n",
       "\\item 1\n",
       "\\item 1\n",
       "\\end{enumerate*}\n",
       "\n",
       "\\emph{Levels}: \\begin{enumerate*}\n",
       "\\item '1'\n",
       "\\item '2'\n",
       "\\item '3'\n",
       "\\item '4'\n",
       "\\end{enumerate*}\n"
      ],
      "text/markdown": [
       "1. 1\n",
       "2. 2\n",
       "3. 1\n",
       "4. 2\n",
       "5. 3\n",
       "6. 1\n",
       "7. 1\n",
       "8. 3\n",
       "9. 1\n",
       "10. 1\n",
       "11. 4\n",
       "12. 1\n",
       "13. 1\n",
       "14. 2\n",
       "15. 3\n",
       "16. 1\n",
       "17. 1\n",
       "18. 1\n",
       "19. 4\n",
       "20. 2\n",
       "21. 1\n",
       "22. 1\n",
       "23. 1\n",
       "24. 3\n",
       "25. 1\n",
       "26. 1\n",
       "27. 4\n",
       "28. 1\n",
       "29. 4\n",
       "30. 1\n",
       "31. 2\n",
       "32. 1\n",
       "33. 4\n",
       "34. 2\n",
       "35. 3\n",
       "36. 3\n",
       "37. 1\n",
       "38. 1\n",
       "39. 1\n",
       "40. 1\n",
       "41. 4\n",
       "42. 1\n",
       "43. 1\n",
       "44. 2\n",
       "45. 2\n",
       "46. 1\n",
       "47. 1\n",
       "48. 3\n",
       "49. 1\n",
       "50. 3\n",
       "51. 1\n",
       "52. 1\n",
       "53. 1\n",
       "54. 1\n",
       "55. 2\n",
       "56. 4\n",
       "57. 1\n",
       "58. 1\n",
       "59. 3\n",
       "60. 1\n",
       "61. 3\n",
       "62. 3\n",
       "63. 1\n",
       "64. 3\n",
       "65. 1\n",
       "66. 2\n",
       "67. 3\n",
       "68. 1\n",
       "69. 2\n",
       "70. 3\n",
       "71. 4\n",
       "72. 1\n",
       "73. 1\n",
       "\n",
       "\n",
       "\n",
       "**Levels**: 1. '1'\n",
       "2. '2'\n",
       "3. '3'\n",
       "4. '4'\n",
       "\n",
       "\n"
      ],
      "text/plain": [
       " [1] 1 2 1 2 3 1 1 3 1 1 4 1 1 2 3 1 1 1 4 2 1 1 1 3 1 1 4 1 4 1 2 1 4 2 3 3 1 1\n",
       "[39] 1 1 4 1 1 2 2 1 1 3 1 3 1 1 1 1 2 4 1 1 3 1 3 3 1 3 1 2 3 1 2 3 4 1 1\n",
       "Levels: 1 2 3 4"
      ]
     },
     "metadata": {},
     "output_type": "display_data"
    },
    {
     "data": {
      "text/html": [
       "<table class=\"dataframe\">\n",
       "<caption>A data.frame: 6 × 7</caption>\n",
       "<thead>\n",
       "\t<tr><th></th><th scope=col>Country</th><th scope=col>bicy</th><th scope=col>cart</th><th scope=col>mcyc</th><th scope=col>pcar</th><th scope=col>boat</th><th scope=col>clusters</th></tr>\n",
       "\t<tr><th></th><th scope=col>&lt;chr&gt;</th><th scope=col>&lt;dbl&gt;</th><th scope=col>&lt;dbl&gt;</th><th scope=col>&lt;dbl&gt;</th><th scope=col>&lt;dbl&gt;</th><th scope=col>&lt;dbl&gt;</th><th scope=col>&lt;fct&gt;</th></tr>\n",
       "</thead>\n",
       "<tbody>\n",
       "\t<tr><th scope=row>1</th><td>Afghanistan</td><td>30.0</td><td>5.8</td><td>35.2</td><td>11.8</td><td>0.0</td><td>1</td></tr>\n",
       "\t<tr><th scope=row>2</th><td>Albania    </td><td>26.4</td><td>3.2</td><td> 9.6</td><td>37.0</td><td>0.7</td><td>2</td></tr>\n",
       "\t<tr><th scope=row>3</th><td>Angola     </td><td> 4.6</td><td>1.3</td><td>17.8</td><td>10.9</td><td>0.4</td><td>1</td></tr>\n",
       "\t<tr><th scope=row>4</th><td>Armenia    </td><td> 8.6</td><td>0.4</td><td> 0.2</td><td>39.2</td><td>0.3</td><td>2</td></tr>\n",
       "\t<tr><th scope=row>5</th><td>Azerbaijan </td><td> 6.9</td><td>3.3</td><td> 1.1</td><td>20.4</td><td>0.1</td><td>3</td></tr>\n",
       "\t<tr><th scope=row>6</th><td>Bangladesh </td><td>25.1</td><td>0.0</td><td> 6.4</td><td> 0.8</td><td>0.0</td><td>1</td></tr>\n",
       "</tbody>\n",
       "</table>\n"
      ],
      "text/latex": [
       "A data.frame: 6 × 7\n",
       "\\begin{tabular}{r|lllllll}\n",
       "  & Country & bicy & cart & mcyc & pcar & boat & clusters\\\\\n",
       "  & <chr> & <dbl> & <dbl> & <dbl> & <dbl> & <dbl> & <fct>\\\\\n",
       "\\hline\n",
       "\t1 & Afghanistan & 30.0 & 5.8 & 35.2 & 11.8 & 0.0 & 1\\\\\n",
       "\t2 & Albania     & 26.4 & 3.2 &  9.6 & 37.0 & 0.7 & 2\\\\\n",
       "\t3 & Angola      &  4.6 & 1.3 & 17.8 & 10.9 & 0.4 & 1\\\\\n",
       "\t4 & Armenia     &  8.6 & 0.4 &  0.2 & 39.2 & 0.3 & 2\\\\\n",
       "\t5 & Azerbaijan  &  6.9 & 3.3 &  1.1 & 20.4 & 0.1 & 3\\\\\n",
       "\t6 & Bangladesh  & 25.1 & 0.0 &  6.4 &  0.8 & 0.0 & 1\\\\\n",
       "\\end{tabular}\n"
      ],
      "text/markdown": [
       "\n",
       "A data.frame: 6 × 7\n",
       "\n",
       "| <!--/--> | Country &lt;chr&gt; | bicy &lt;dbl&gt; | cart &lt;dbl&gt; | mcyc &lt;dbl&gt; | pcar &lt;dbl&gt; | boat &lt;dbl&gt; | clusters &lt;fct&gt; |\n",
       "|---|---|---|---|---|---|---|---|\n",
       "| 1 | Afghanistan | 30.0 | 5.8 | 35.2 | 11.8 | 0.0 | 1 |\n",
       "| 2 | Albania     | 26.4 | 3.2 |  9.6 | 37.0 | 0.7 | 2 |\n",
       "| 3 | Angola      |  4.6 | 1.3 | 17.8 | 10.9 | 0.4 | 1 |\n",
       "| 4 | Armenia     |  8.6 | 0.4 |  0.2 | 39.2 | 0.3 | 2 |\n",
       "| 5 | Azerbaijan  |  6.9 | 3.3 |  1.1 | 20.4 | 0.1 | 3 |\n",
       "| 6 | Bangladesh  | 25.1 | 0.0 |  6.4 |  0.8 | 0.0 | 1 |\n",
       "\n"
      ],
      "text/plain": [
       "  Country     bicy cart mcyc pcar boat clusters\n",
       "1 Afghanistan 30.0 5.8  35.2 11.8 0.0  1       \n",
       "2 Albania     26.4 3.2   9.6 37.0 0.7  2       \n",
       "3 Angola       4.6 1.3  17.8 10.9 0.4  1       \n",
       "4 Armenia      8.6 0.4   0.2 39.2 0.3  2       \n",
       "5 Azerbaijan   6.9 3.3   1.1 20.4 0.1  3       \n",
       "6 Bangladesh  25.1 0.0   6.4  0.8 0.0  1       "
      ]
     },
     "metadata": {},
     "output_type": "display_data"
    },
    {
     "data": {
      "image/png": "[encoded data removed]",
      "text/plain": [
       "Plot with title \"Histogram of df$cart\""
      ]
     },
     "metadata": {
      "image/png": {
       "height": 420,
       "width": 420
      }
     },
     "output_type": "display_data"
    }
   ],
   "source": [
    "df.wa = read_excel( \"../../results/df-water-access.xlsx\" ,sheet=1)\n",
    "df.exp =read_excel(\"../../results/df-water-explore.xlsx\" ,sheet=1)\n",
    "df.cluster = read_excel(\"../../results/df-fa-five-cluster-rank.xlsx\" ,sheet=1)\n",
    "df.wb = read_excel(\"../../results/df-wb.xlsx\" ,sheet=1 )\n",
    "df.exp$clusters <- as.factor(df.cluster$clusters)\n",
    "df <- merge(x = df.exp,\n",
    "              y = df.wb,\n",
    "              by = c(\"Country\"))\n",
    "\n",
    "head(df)\n",
    "count(df)\n",
    "df <- df[, c(1:13, 17,21)]\n",
    "# ReScaling in 0 to 1 for all the necessary data\n",
    "#df.scale = as.data.frame(apply(as.matrix(df[, c(2:7, 9:15)]), 2, rescale))\n",
    "#df <- cbind(df,df.scale)\n",
    "#df <- df[,c(1,8,16:28)]\n",
    "#head(df)\n",
    "\n",
    "df.a <- df[, c(1:6,8)]\n",
    "head(df.a)\n",
    "\n",
    "hist(df$cart)"
   ]
  },
  {
   "cell_type": "markdown",
   "metadata": {},
   "source": [
    "# Tree"
   ]
  },
  {
   "cell_type": "code",
   "execution_count": 7,
   "metadata": {},
   "outputs": [
    {
     "data": {
      "text/plain": [
       "\n",
       "Classification tree:\n",
       "tree(formula = clusters ~ . - Country, data = df.a)\n",
       "Number of terminal nodes:  10 \n",
       "Residual mean deviance:  0.9255 = 58.3 / 63 \n",
       "Misclassification error rate: 0.1781 = 13 / 73 "
      ]
     },
     "metadata": {},
     "output_type": "display_data"
    },
    {
     "data": {
      "text/plain": [
       "node), split, n, deviance, yval, (yprob)\n",
       "      * denotes terminal node\n",
       "\n",
       " 1) root 73 171.400 1 ( 0.54795 0.15068 0.19178 0.10959 )  \n",
       "   2) pcar < 12.4 49  68.590 1 ( 0.79592 0.04082 0.12245 0.04082 )  \n",
       "     4) boat < 0.95 42  37.390 1 ( 0.88095 0.04762 0.07143 0.00000 )  \n",
       "       8) pcar < 4.6 20   0.000 1 ( 1.00000 0.00000 0.00000 0.00000 ) *\n",
       "       9) pcar > 4.6 22  30.310 1 ( 0.77273 0.09091 0.13636 0.00000 )  \n",
       "        18) cart < 2.45 10  17.960 1 ( 0.60000 0.10000 0.30000 0.00000 )  \n",
       "          36) bicy < 12.15 5   0.000 1 ( 1.00000 0.00000 0.00000 0.00000 ) *\n",
       "          37) bicy > 12.15 5   9.503 3 ( 0.20000 0.20000 0.60000 0.00000 ) *\n",
       "        19) cart > 2.45 12   6.884 1 ( 0.91667 0.08333 0.00000 0.00000 )  \n",
       "          38) bicy < 23.3 5   5.004 1 ( 0.80000 0.20000 0.00000 0.00000 ) *\n",
       "          39) bicy > 23.3 7   0.000 1 ( 1.00000 0.00000 0.00000 0.00000 ) *\n",
       "     5) boat > 0.95 7  15.110 3 ( 0.28571 0.00000 0.42857 0.28571 ) *\n",
       "   3) pcar > 12.4 24  58.220 2 ( 0.04167 0.37500 0.33333 0.25000 )  \n",
       "     6) mcyc < 6.6 11  18.920 3 ( 0.09091 0.27273 0.63636 0.00000 )  \n",
       "      12) cart < 0.75 5   6.730 2 ( 0.00000 0.60000 0.40000 0.00000 ) *\n",
       "      13) cart > 0.75 6   5.407 3 ( 0.16667 0.00000 0.83333 0.00000 ) *\n",
       "     7) mcyc > 6.6 13  23.690 2 ( 0.00000 0.46154 0.07692 0.46154 )  \n",
       "      14) mcyc < 12 6   5.407 2 ( 0.00000 0.83333 0.00000 0.16667 ) *\n",
       "      15) mcyc > 12 7  11.150 4 ( 0.00000 0.14286 0.14286 0.71429 ) *"
      ]
     },
     "metadata": {},
     "output_type": "display_data"
    },
    {
     "data": {
      "image/png": "[encoded data removed]",
      "text/plain": [
       "plot without title"
      ]
     },
     "metadata": {
      "image/png": {
       "height": 420,
       "width": 420
      }
     },
     "output_type": "display_data"
    }
   ],
   "source": [
    "tree.wa = tree(clusters ~ . - Country  , data = df.a)\n",
    "summary(tree.wa) \n",
    "plot(tree.wa)\n",
    "text(tree.wa, pretty = 0) #population density High density for six cluster group.\n",
    "tree.wa"
   ]
  },
  {
   "cell_type": "markdown",
   "metadata": {},
   "source": [
    "# Random Forest"
   ]
  },
  {
   "cell_type": "code",
   "execution_count": 5,
   "metadata": {
    "scrolled": false
   },
   "outputs": [
    {
     "name": "stdout",
     "output_type": "stream",
     "text": [
      "\n",
      "Call:\n",
      " randomForest(formula = clusters ~ . - Country, data = df, ntree = 200,      mtry = 13) \n",
      "               Type of random forest: classification\n",
      "                     Number of trees: 200\n",
      "No. of variables tried at each split: 13\n",
      "\n",
      "        OOB estimate of  error rate: 35.62%\n",
      "Confusion matrix:\n",
      "   1 2 3 4 class.error\n",
      "1 35 1 4 0   0.1250000\n",
      "2  2 7 1 1   0.3636364\n",
      "3  6 3 4 1   0.7142857\n",
      "4  2 2 3 1   0.8750000\n"
     ]
    },
    {
     "data": {
      "text/plain": [
       "                Length Class  Mode     \n",
       "call               5   -none- call     \n",
       "type               1   -none- character\n",
       "predicted         73   factor numeric  \n",
       "err.rate        1000   -none- numeric  \n",
       "confusion         20   -none- numeric  \n",
       "votes            292   matrix numeric  \n",
       "oob.times         73   -none- numeric  \n",
       "classes            4   -none- character\n",
       "importance        13   -none- numeric  \n",
       "importanceSD       0   -none- NULL     \n",
       "localImportance    0   -none- NULL     \n",
       "proximity          0   -none- NULL     \n",
       "ntree              1   -none- numeric  \n",
       "mtry               1   -none- numeric  \n",
       "forest            14   -none- list     \n",
       "y                 73   factor numeric  \n",
       "test               0   -none- NULL     \n",
       "inbag              0   -none- NULL     \n",
       "terms              3   terms  call     "
      ]
     },
     "metadata": {},
     "output_type": "display_data"
    },
    {
     "data": {
      "text/html": [
       "<table class=\"dataframe\">\n",
       "<caption>A matrix: 13 × 1 of type dbl</caption>\n",
       "<thead>\n",
       "\t<tr><th></th><th scope=col>MeanDecreaseGini</th></tr>\n",
       "</thead>\n",
       "<tbody>\n",
       "\t<tr><th scope=row>bicy</th><td> 0.9080382</td></tr>\n",
       "\t<tr><th scope=row>cart</th><td> 1.2957744</td></tr>\n",
       "\t<tr><th scope=row>mcyc</th><td> 4.8419659</td></tr>\n",
       "\t<tr><th scope=row>pcar</th><td>14.8456180</td></tr>\n",
       "\t<tr><th scope=row>boat</th><td> 4.2275348</td></tr>\n",
       "\t<tr><th scope=row>wigc</th><td> 1.3228108</td></tr>\n",
       "\t<tr><th scope=row>cgdp</th><td> 1.5869645</td></tr>\n",
       "\t<tr><th scope=row>tpop</th><td> 1.4498247</td></tr>\n",
       "\t<tr><th scope=row>upop</th><td> 3.6252754</td></tr>\n",
       "\t<tr><th scope=row>popd</th><td> 4.3795501</td></tr>\n",
       "\t<tr><th scope=row>land</th><td> 1.8113315</td></tr>\n",
       "\t<tr><th scope=row>rifr</th><td> 2.5260637</td></tr>\n",
       "\t<tr><th scope=row>prec</th><td> 2.4565082</td></tr>\n",
       "</tbody>\n",
       "</table>\n"
      ],
      "text/latex": [
       "A matrix: 13 × 1 of type dbl\n",
       "\\begin{tabular}{r|l}\n",
       "  & MeanDecreaseGini\\\\\n",
       "\\hline\n",
       "\tbicy &  0.9080382\\\\\n",
       "\tcart &  1.2957744\\\\\n",
       "\tmcyc &  4.8419659\\\\\n",
       "\tpcar & 14.8456180\\\\\n",
       "\tboat &  4.2275348\\\\\n",
       "\twigc &  1.3228108\\\\\n",
       "\tcgdp &  1.5869645\\\\\n",
       "\ttpop &  1.4498247\\\\\n",
       "\tupop &  3.6252754\\\\\n",
       "\tpopd &  4.3795501\\\\\n",
       "\tland &  1.8113315\\\\\n",
       "\trifr &  2.5260637\\\\\n",
       "\tprec &  2.4565082\\\\\n",
       "\\end{tabular}\n"
      ],
      "text/markdown": [
       "\n",
       "A matrix: 13 × 1 of type dbl\n",
       "\n",
       "| <!--/--> | MeanDecreaseGini |\n",
       "|---|---|\n",
       "| bicy |  0.9080382 |\n",
       "| cart |  1.2957744 |\n",
       "| mcyc |  4.8419659 |\n",
       "| pcar | 14.8456180 |\n",
       "| boat |  4.2275348 |\n",
       "| wigc |  1.3228108 |\n",
       "| cgdp |  1.5869645 |\n",
       "| tpop |  1.4498247 |\n",
       "| upop |  3.6252754 |\n",
       "| popd |  4.3795501 |\n",
       "| land |  1.8113315 |\n",
       "| rifr |  2.5260637 |\n",
       "| prec |  2.4565082 |\n",
       "\n"
      ],
      "text/plain": [
       "     MeanDecreaseGini\n",
       "bicy  0.9080382      \n",
       "cart  1.2957744      \n",
       "mcyc  4.8419659      \n",
       "pcar 14.8456180      \n",
       "boat  4.2275348      \n",
       "wigc  1.3228108      \n",
       "cgdp  1.5869645      \n",
       "tpop  1.4498247      \n",
       "upop  3.6252754      \n",
       "popd  4.3795501      \n",
       "land  1.8113315      \n",
       "rifr  2.5260637      \n",
       "prec  2.4565082      "
      ]
     },
     "metadata": {},
     "output_type": "display_data"
    },
    {
     "data": {
      "image/png": "[encoded data removed]",
      "text/plain": [
       "Plot with title \"rf.water\""
      ]
     },
     "metadata": {
      "image/png": {
       "height": 420,
       "width": 420
      }
     },
     "output_type": "display_data"
    },
    {
     "data": {
      "image/png": "[encoded data removed]"
     },
     "metadata": {
      "image/png": {
       "height": 420,
       "width": 420
      }
     },
     "output_type": "display_data"
    }
   ],
   "source": [
    "rf.water = randomForest(clusters~. -Country, data = df , ntree= 200,mtry=13)\n",
    "print(rf.water)\n",
    "\n",
    "summary(rf.water)\n",
    "\n",
    "importance <- importance(rf.water, sort = TRUE)\n",
    "importance\n",
    "\n",
    "# create an importance plot\n",
    "varImpPlot(rf.water, sort=TRUE, n.var=min(30, nrow(rf.water$importance)),\n",
    "           type=NULL, class=NULL, scale=TRUE )\n",
    "#plot\n",
    "plot(randomForest(clusters~. -Country, data = df ,ntree=200,  keep.forest=FALSE, mtry=13) )"
   ]
  },
  {
   "cell_type": "markdown",
   "metadata": {},
   "source": [
    "The MeanDecreaseGini measures the Gini importance = how important the features are over all splits done in the tree/forest - whereas for each individual split the Gini importance indicates how much the Gini criterion = \"unequality/heterogeneity\" was reduced using this split.\n",
    "mori, upop, pcar popd, mcyc important and contributed most to obtaining such splits, so they are considered more important."
   ]
  },
  {
   "cell_type": "markdown",
   "metadata": {},
   "source": [
    "# MULTINOMIAL LOGISTIC REGRESSION"
   ]
  },
  {
   "cell_type": "code",
   "execution_count": 36,
   "metadata": {
    "scrolled": false
   },
   "outputs": [
    {
     "data": {
      "text/html": [
       "<table class=\"dataframe\">\n",
       "<caption>A data.frame: 6 × 15</caption>\n",
       "<thead>\n",
       "\t<tr><th></th><th scope=col>Country</th><th scope=col>bicy</th><th scope=col>cart</th><th scope=col>mcyc</th><th scope=col>pcar</th><th scope=col>boat</th><th scope=col>wigc</th><th scope=col>clusters</th><th scope=col>cgdp</th><th scope=col>tpop</th><th scope=col>upop</th><th scope=col>popd</th><th scope=col>land</th><th scope=col>rifr</th><th scope=col>prec</th></tr>\n",
       "\t<tr><th></th><th scope=col>&lt;chr&gt;</th><th scope=col>&lt;dbl&gt;</th><th scope=col>&lt;dbl&gt;</th><th scope=col>&lt;dbl&gt;</th><th scope=col>&lt;dbl&gt;</th><th scope=col>&lt;dbl&gt;</th><th scope=col>&lt;dbl&gt;</th><th scope=col>&lt;fct&gt;</th><th scope=col>&lt;dbl&gt;</th><th scope=col>&lt;dbl&gt;</th><th scope=col>&lt;dbl&gt;</th><th scope=col>&lt;dbl&gt;</th><th scope=col>&lt;dbl&gt;</th><th scope=col>&lt;dbl&gt;</th><th scope=col>&lt;dbl&gt;</th></tr>\n",
       "</thead>\n",
       "<tbody>\n",
       "\t<tr><th scope=row>1</th><td>Afghanistan</td><td>30.0</td><td>5.8</td><td>35.2</td><td>11.8</td><td>0.0</td><td>0.1</td><td>1</td><td> 18353881130</td><td> 37172386</td><td>25.495</td><td>  56.93776</td><td> 652860</td><td>1299.0269</td><td> 327</td></tr>\n",
       "\t<tr><th scope=row>2</th><td>Albania    </td><td>26.4</td><td>3.2</td><td> 9.6</td><td>37.0</td><td>0.7</td><td>0.1</td><td>2</td><td> 15147020535</td><td>  2866376</td><td>60.319</td><td> 104.61226</td><td>  27400</td><td>9361.5460</td><td>1485</td></tr>\n",
       "\t<tr><th scope=row>3</th><td>Angola     </td><td> 4.6</td><td>1.3</td><td>17.8</td><td>10.9</td><td>0.4</td><td>0.3</td><td>1</td><td>101353230785</td><td> 30809762</td><td>65.514</td><td>  24.71305</td><td>1246700</td><td>4963.6533</td><td>1010</td></tr>\n",
       "\t<tr><th scope=row>4</th><td>Armenia    </td><td> 8.6</td><td>0.4</td><td> 0.2</td><td>39.2</td><td>0.3</td><td>0.1</td><td>2</td><td> 12457941907</td><td>  2951776</td><td>63.149</td><td> 103.68022</td><td>  28470</td><td>2329.1833</td><td> 562</td></tr>\n",
       "\t<tr><th scope=row>5</th><td>Azerbaijan </td><td> 6.9</td><td>3.3</td><td> 1.1</td><td>20.4</td><td>0.1</td><td>0.0</td><td>3</td><td> 47112941176</td><td>  9939771</td><td>55.680</td><td> 120.23432</td><td>  82670</td><td> 823.5207</td><td> 447</td></tr>\n",
       "\t<tr><th scope=row>6</th><td>Bangladesh </td><td>25.1</td><td>0.0</td><td> 6.4</td><td> 0.8</td><td>0.0</td><td>0.3</td><td>1</td><td>274039092455</td><td>161356039</td><td>36.632</td><td>1239.57931</td><td> 130170</td><td> 657.6039</td><td>2666</td></tr>\n",
       "</tbody>\n",
       "</table>\n"
      ],
      "text/latex": [
       "A data.frame: 6 × 15\n",
       "\\begin{tabular}{r|lllllllllllllll}\n",
       "  & Country & bicy & cart & mcyc & pcar & boat & wigc & clusters & cgdp & tpop & upop & popd & land & rifr & prec\\\\\n",
       "  & <chr> & <dbl> & <dbl> & <dbl> & <dbl> & <dbl> & <dbl> & <fct> & <dbl> & <dbl> & <dbl> & <dbl> & <dbl> & <dbl> & <dbl>\\\\\n",
       "\\hline\n",
       "\t1 & Afghanistan & 30.0 & 5.8 & 35.2 & 11.8 & 0.0 & 0.1 & 1 &  18353881130 &  37172386 & 25.495 &   56.93776 &  652860 & 1299.0269 &  327\\\\\n",
       "\t2 & Albania     & 26.4 & 3.2 &  9.6 & 37.0 & 0.7 & 0.1 & 2 &  15147020535 &   2866376 & 60.319 &  104.61226 &   27400 & 9361.5460 & 1485\\\\\n",
       "\t3 & Angola      &  4.6 & 1.3 & 17.8 & 10.9 & 0.4 & 0.3 & 1 & 101353230785 &  30809762 & 65.514 &   24.71305 & 1246700 & 4963.6533 & 1010\\\\\n",
       "\t4 & Armenia     &  8.6 & 0.4 &  0.2 & 39.2 & 0.3 & 0.1 & 2 &  12457941907 &   2951776 & 63.149 &  103.68022 &   28470 & 2329.1833 &  562\\\\\n",
       "\t5 & Azerbaijan  &  6.9 & 3.3 &  1.1 & 20.4 & 0.1 & 0.0 & 3 &  47112941176 &   9939771 & 55.680 &  120.23432 &   82670 &  823.5207 &  447\\\\\n",
       "\t6 & Bangladesh  & 25.1 & 0.0 &  6.4 &  0.8 & 0.0 & 0.3 & 1 & 274039092455 & 161356039 & 36.632 & 1239.57931 &  130170 &  657.6039 & 2666\\\\\n",
       "\\end{tabular}\n"
      ],
      "text/markdown": [
       "\n",
       "A data.frame: 6 × 15\n",
       "\n",
       "| <!--/--> | Country &lt;chr&gt; | bicy &lt;dbl&gt; | cart &lt;dbl&gt; | mcyc &lt;dbl&gt; | pcar &lt;dbl&gt; | boat &lt;dbl&gt; | wigc &lt;dbl&gt; | clusters &lt;fct&gt; | cgdp &lt;dbl&gt; | tpop &lt;dbl&gt; | upop &lt;dbl&gt; | popd &lt;dbl&gt; | land &lt;dbl&gt; | rifr &lt;dbl&gt; | prec &lt;dbl&gt; |\n",
       "|---|---|---|---|---|---|---|---|---|---|---|---|---|---|---|---|\n",
       "| 1 | Afghanistan | 30.0 | 5.8 | 35.2 | 11.8 | 0.0 | 0.1 | 1 |  18353881130 |  37172386 | 25.495 |   56.93776 |  652860 | 1299.0269 |  327 |\n",
       "| 2 | Albania     | 26.4 | 3.2 |  9.6 | 37.0 | 0.7 | 0.1 | 2 |  15147020535 |   2866376 | 60.319 |  104.61226 |   27400 | 9361.5460 | 1485 |\n",
       "| 3 | Angola      |  4.6 | 1.3 | 17.8 | 10.9 | 0.4 | 0.3 | 1 | 101353230785 |  30809762 | 65.514 |   24.71305 | 1246700 | 4963.6533 | 1010 |\n",
       "| 4 | Armenia     |  8.6 | 0.4 |  0.2 | 39.2 | 0.3 | 0.1 | 2 |  12457941907 |   2951776 | 63.149 |  103.68022 |   28470 | 2329.1833 |  562 |\n",
       "| 5 | Azerbaijan  |  6.9 | 3.3 |  1.1 | 20.4 | 0.1 | 0.0 | 3 |  47112941176 |   9939771 | 55.680 |  120.23432 |   82670 |  823.5207 |  447 |\n",
       "| 6 | Bangladesh  | 25.1 | 0.0 |  6.4 |  0.8 | 0.0 | 0.3 | 1 | 274039092455 | 161356039 | 36.632 | 1239.57931 |  130170 |  657.6039 | 2666 |\n",
       "\n"
      ],
      "text/plain": [
       "  Country     bicy cart mcyc pcar boat wigc clusters cgdp         tpop     \n",
       "1 Afghanistan 30.0 5.8  35.2 11.8 0.0  0.1  1         18353881130  37172386\n",
       "2 Albania     26.4 3.2   9.6 37.0 0.7  0.1  2         15147020535   2866376\n",
       "3 Angola       4.6 1.3  17.8 10.9 0.4  0.3  1        101353230785  30809762\n",
       "4 Armenia      8.6 0.4   0.2 39.2 0.3  0.1  2         12457941907   2951776\n",
       "5 Azerbaijan   6.9 3.3   1.1 20.4 0.1  0.0  3         47112941176   9939771\n",
       "6 Bangladesh  25.1 0.0   6.4  0.8 0.0  0.3  1        274039092455 161356039\n",
       "  upop   popd       land    rifr      prec\n",
       "1 25.495   56.93776  652860 1299.0269  327\n",
       "2 60.319  104.61226   27400 9361.5460 1485\n",
       "3 65.514   24.71305 1246700 4963.6533 1010\n",
       "4 63.149  103.68022   28470 2329.1833  562\n",
       "5 55.680  120.23432   82670  823.5207  447\n",
       "6 36.632 1239.57931  130170  657.6039 2666"
      ]
     },
     "metadata": {},
     "output_type": "display_data"
    },
    {
     "name": "stdout",
     "output_type": "stream",
     "text": [
      "# weights:  60 (42 variable)\n",
      "initial  value 101.199488 \n",
      "iter  10 value 69.669802\n",
      "iter  20 value 63.042352\n",
      "iter  30 value 61.422295\n",
      "iter  40 value 59.545925\n",
      "iter  50 value 58.969923\n",
      "iter  60 value 58.532982\n",
      "iter  70 value 58.411535\n",
      "iter  80 value 58.157931\n",
      "iter  90 value 58.093090\n",
      "iter 100 value 58.079081\n",
      "final  value 58.079081 \n",
      "stopped after 100 iterations\n"
     ]
    },
    {
     "data": {
      "text/plain": [
       "Call:\n",
       "nnet::multinom(formula = clusters ~ . - Country, data = df)\n",
       "\n",
       "Coefficients:\n",
       "    (Intercept)          bicy          cart          mcyc          pcar\n",
       "2  8.444210e-07  3.708219e-05 -1.537247e-05 -5.775042e-05  1.072697e-04\n",
       "3  1.784276e-06  5.423777e-05  4.249791e-05 -1.635789e-05  8.273921e-05\n",
       "4 -2.970999e-06 -1.484816e-05 -1.129823e-05  1.103323e-04 -5.488714e-05\n",
       "           boat          wigc         cgdp          tpop          upop\n",
       "2 -2.044280e-06 -7.645875e-07 7.563374e-11 -1.673582e-07  1.626340e-04\n",
       "3  6.470531e-06  1.113563e-07 6.325461e-11 -1.369998e-07  3.504701e-05\n",
       "4  2.974525e-06 -3.722453e-07 7.405028e-11 -1.405979e-07 -1.758034e-04\n",
       "           popd          land         rifr          prec\n",
       "2 -0.0002947228 -1.727088e-06 9.476682e-06 -0.0009000602\n",
       "3 -0.0001065837 -7.162959e-07 9.810960e-06 -0.0006732697\n",
       "4  0.0007517460 -4.529365e-06 2.155174e-05 -0.0009147203\n",
       "\n",
       "Std. Errors:\n",
       "   (Intercept)         bicy         cart         mcyc         pcar         boat\n",
       "2 4.162097e-24 9.787736e-23 6.536189e-24 1.516105e-22 7.740922e-23 2.945249e-24\n",
       "3 1.445491e-23 3.510086e-22 3.869727e-23 3.038407e-22 2.017533e-22 1.226301e-23\n",
       "4 4.406980e-24 8.726271e-23 5.568353e-24 1.838915e-22 1.041072e-22 6.653350e-24\n",
       "          wigc         cgdp         tpop         upop         popd         land\n",
       "2 6.491022e-25 2.410485e-12 5.372523e-16 2.531243e-22 5.713243e-22 3.982010e-18\n",
       "3 2.162364e-24 3.174709e-12 9.149763e-16 8.152627e-22 1.675269e-21 1.066141e-17\n",
       "4 3.096397e-25 1.920878e-12 1.885206e-15 3.146599e-22 4.218533e-22 1.814418e-18\n",
       "          rifr         prec\n",
       "2 6.977768e-20 6.366608e-21\n",
       "3 1.703610e-19 1.893831e-20\n",
       "4 4.759396e-20 8.959774e-21\n",
       "\n",
       "Residual Deviance: 116.1582 \n",
       "AIC: 200.1582 "
      ]
     },
     "metadata": {},
     "output_type": "display_data"
    },
    {
     "data": {
      "text/html": [
       "<table class=\"dataframe\">\n",
       "<caption>A matrix: 3 × 14 of type dbl</caption>\n",
       "<thead>\n",
       "\t<tr><th></th><th scope=col>(Intercept)</th><th scope=col>bicy</th><th scope=col>cart</th><th scope=col>mcyc</th><th scope=col>pcar</th><th scope=col>boat</th><th scope=col>wigc</th><th scope=col>cgdp</th><th scope=col>tpop</th><th scope=col>upop</th><th scope=col>popd</th><th scope=col>land</th><th scope=col>rifr</th><th scope=col>prec</th></tr>\n",
       "</thead>\n",
       "<tbody>\n",
       "\t<tr><th scope=row>2</th><td> 2.028835e+17</td><td> 3.788638e+17</td><td>-2.351902e+18</td><td>-3.809130e+17</td><td> 1.385748e+18</td><td>-6.940943e+17</td><td>-1.177916e+18</td><td>31.37698</td><td>-311507633</td><td> 6.425066e+17</td><td>-5.158591e+17</td><td>-4.337227e+11</td><td>1.358125e+14</td><td>-1.413720e+17</td></tr>\n",
       "\t<tr><th scope=row>3</th><td> 1.234374e+17</td><td> 1.545198e+17</td><td> 1.098215e+18</td><td>-5.383706e+16</td><td> 4.101008e+17</td><td> 5.276464e+17</td><td> 5.149747e+16</td><td>19.92453</td><td>-149730379</td><td> 4.298861e+16</td><td>-6.362184e+16</td><td>-6.718585e+10</td><td>5.758922e+13</td><td>-3.555068e+16</td></tr>\n",
       "\t<tr><th scope=row>4</th><td>-6.741575e+17</td><td>-1.701547e+17</td><td>-2.029007e+18</td><td> 5.999859e+17</td><td>-5.272176e+17</td><td> 4.470718e+17</td><td>-1.202189e+18</td><td>38.55022</td><td> -74579592</td><td>-5.587093e+17</td><td> 1.782008e+18</td><td>-2.496318e+12</td><td>4.528252e+14</td><td>-1.020919e+17</td></tr>\n",
       "</tbody>\n",
       "</table>\n"
      ],
      "text/latex": [
       "A matrix: 3 × 14 of type dbl\n",
       "\\begin{tabular}{r|llllllllllllll}\n",
       "  & (Intercept) & bicy & cart & mcyc & pcar & boat & wigc & cgdp & tpop & upop & popd & land & rifr & prec\\\\\n",
       "\\hline\n",
       "\t2 &  2.028835e+17 &  3.788638e+17 & -2.351902e+18 & -3.809130e+17 &  1.385748e+18 & -6.940943e+17 & -1.177916e+18 & 31.37698 & -311507633 &  6.425066e+17 & -5.158591e+17 & -4.337227e+11 & 1.358125e+14 & -1.413720e+17\\\\\n",
       "\t3 &  1.234374e+17 &  1.545198e+17 &  1.098215e+18 & -5.383706e+16 &  4.101008e+17 &  5.276464e+17 &  5.149747e+16 & 19.92453 & -149730379 &  4.298861e+16 & -6.362184e+16 & -6.718585e+10 & 5.758922e+13 & -3.555068e+16\\\\\n",
       "\t4 & -6.741575e+17 & -1.701547e+17 & -2.029007e+18 &  5.999859e+17 & -5.272176e+17 &  4.470718e+17 & -1.202189e+18 & 38.55022 &  -74579592 & -5.587093e+17 &  1.782008e+18 & -2.496318e+12 & 4.528252e+14 & -1.020919e+17\\\\\n",
       "\\end{tabular}\n"
      ],
      "text/markdown": [
       "\n",
       "A matrix: 3 × 14 of type dbl\n",
       "\n",
       "| <!--/--> | (Intercept) | bicy | cart | mcyc | pcar | boat | wigc | cgdp | tpop | upop | popd | land | rifr | prec |\n",
       "|---|---|---|---|---|---|---|---|---|---|---|---|---|---|---|\n",
       "| 2 |  2.028835e+17 |  3.788638e+17 | -2.351902e+18 | -3.809130e+17 |  1.385748e+18 | -6.940943e+17 | -1.177916e+18 | 31.37698 | -311507633 |  6.425066e+17 | -5.158591e+17 | -4.337227e+11 | 1.358125e+14 | -1.413720e+17 |\n",
       "| 3 |  1.234374e+17 |  1.545198e+17 |  1.098215e+18 | -5.383706e+16 |  4.101008e+17 |  5.276464e+17 |  5.149747e+16 | 19.92453 | -149730379 |  4.298861e+16 | -6.362184e+16 | -6.718585e+10 | 5.758922e+13 | -3.555068e+16 |\n",
       "| 4 | -6.741575e+17 | -1.701547e+17 | -2.029007e+18 |  5.999859e+17 | -5.272176e+17 |  4.470718e+17 | -1.202189e+18 | 38.55022 |  -74579592 | -5.587093e+17 |  1.782008e+18 | -2.496318e+12 | 4.528252e+14 | -1.020919e+17 |\n",
       "\n"
      ],
      "text/plain": [
       "  (Intercept)   bicy          cart          mcyc          pcar         \n",
       "2  2.028835e+17  3.788638e+17 -2.351902e+18 -3.809130e+17  1.385748e+18\n",
       "3  1.234374e+17  1.545198e+17  1.098215e+18 -5.383706e+16  4.101008e+17\n",
       "4 -6.741575e+17 -1.701547e+17 -2.029007e+18  5.999859e+17 -5.272176e+17\n",
       "  boat          wigc          cgdp     tpop       upop          popd         \n",
       "2 -6.940943e+17 -1.177916e+18 31.37698 -311507633  6.425066e+17 -5.158591e+17\n",
       "3  5.276464e+17  5.149747e+16 19.92453 -149730379  4.298861e+16 -6.362184e+16\n",
       "4  4.470718e+17 -1.202189e+18 38.55022  -74579592 -5.587093e+17  1.782008e+18\n",
       "  land          rifr         prec         \n",
       "2 -4.337227e+11 1.358125e+14 -1.413720e+17\n",
       "3 -6.718585e+10 5.758922e+13 -3.555068e+16\n",
       "4 -2.496318e+12 4.528252e+14 -1.020919e+17"
      ]
     },
     "metadata": {},
     "output_type": "display_data"
    },
    {
     "data": {
      "text/html": [
       "<table class=\"dataframe\">\n",
       "<caption>A matrix: 3 × 14 of type dbl</caption>\n",
       "<thead>\n",
       "\t<tr><th></th><th scope=col>(Intercept)</th><th scope=col>bicy</th><th scope=col>cart</th><th scope=col>mcyc</th><th scope=col>pcar</th><th scope=col>boat</th><th scope=col>wigc</th><th scope=col>cgdp</th><th scope=col>tpop</th><th scope=col>upop</th><th scope=col>popd</th><th scope=col>land</th><th scope=col>rifr</th><th scope=col>prec</th></tr>\n",
       "</thead>\n",
       "<tbody>\n",
       "\t<tr><th scope=row>2</th><td>0</td><td>0</td><td>0</td><td>0</td><td>0</td><td>0</td><td>0</td><td>0</td><td>0</td><td>0</td><td>0</td><td>0</td><td>0</td><td>0</td></tr>\n",
       "\t<tr><th scope=row>3</th><td>0</td><td>0</td><td>0</td><td>0</td><td>0</td><td>0</td><td>0</td><td>0</td><td>0</td><td>0</td><td>0</td><td>0</td><td>0</td><td>0</td></tr>\n",
       "\t<tr><th scope=row>4</th><td>0</td><td>0</td><td>0</td><td>0</td><td>0</td><td>0</td><td>0</td><td>0</td><td>0</td><td>0</td><td>0</td><td>0</td><td>0</td><td>0</td></tr>\n",
       "</tbody>\n",
       "</table>\n"
      ],
      "text/latex": [
       "A matrix: 3 × 14 of type dbl\n",
       "\\begin{tabular}{r|llllllllllllll}\n",
       "  & (Intercept) & bicy & cart & mcyc & pcar & boat & wigc & cgdp & tpop & upop & popd & land & rifr & prec\\\\\n",
       "\\hline\n",
       "\t2 & 0 & 0 & 0 & 0 & 0 & 0 & 0 & 0 & 0 & 0 & 0 & 0 & 0 & 0\\\\\n",
       "\t3 & 0 & 0 & 0 & 0 & 0 & 0 & 0 & 0 & 0 & 0 & 0 & 0 & 0 & 0\\\\\n",
       "\t4 & 0 & 0 & 0 & 0 & 0 & 0 & 0 & 0 & 0 & 0 & 0 & 0 & 0 & 0\\\\\n",
       "\\end{tabular}\n"
      ],
      "text/markdown": [
       "\n",
       "A matrix: 3 × 14 of type dbl\n",
       "\n",
       "| <!--/--> | (Intercept) | bicy | cart | mcyc | pcar | boat | wigc | cgdp | tpop | upop | popd | land | rifr | prec |\n",
       "|---|---|---|---|---|---|---|---|---|---|---|---|---|---|---|\n",
       "| 2 | 0 | 0 | 0 | 0 | 0 | 0 | 0 | 0 | 0 | 0 | 0 | 0 | 0 | 0 |\n",
       "| 3 | 0 | 0 | 0 | 0 | 0 | 0 | 0 | 0 | 0 | 0 | 0 | 0 | 0 | 0 |\n",
       "| 4 | 0 | 0 | 0 | 0 | 0 | 0 | 0 | 0 | 0 | 0 | 0 | 0 | 0 | 0 |\n",
       "\n"
      ],
      "text/plain": [
       "  (Intercept) bicy cart mcyc pcar boat wigc cgdp tpop upop popd land rifr prec\n",
       "2 0           0    0    0    0    0    0    0    0    0    0    0    0    0   \n",
       "3 0           0    0    0    0    0    0    0    0    0    0    0    0    0   \n",
       "4 0           0    0    0    0    0    0    0    0    0    0    0    0    0   "
      ]
     },
     "metadata": {},
     "output_type": "display_data"
    },
    {
     "data": {
      "text/html": [
       "<table class=\"dataframe\">\n",
       "<caption>A matrix: 3 × 14 of type dbl</caption>\n",
       "<thead>\n",
       "\t<tr><th></th><th scope=col>(Intercept)</th><th scope=col>bicy</th><th scope=col>cart</th><th scope=col>mcyc</th><th scope=col>pcar</th><th scope=col>boat</th><th scope=col>wigc</th><th scope=col>cgdp</th><th scope=col>tpop</th><th scope=col>upop</th><th scope=col>popd</th><th scope=col>land</th><th scope=col>rifr</th><th scope=col>prec</th></tr>\n",
       "</thead>\n",
       "<tbody>\n",
       "\t<tr><th scope=row>2</th><td>1.000001</td><td>1.0000371</td><td>0.9999846</td><td>0.9999423</td><td>1.0001073</td><td>0.999998</td><td>0.9999992</td><td>1</td><td>0.9999998</td><td>1.0001626</td><td>0.9997053</td><td>0.9999983</td><td>1.000009</td><td>0.9991003</td></tr>\n",
       "\t<tr><th scope=row>3</th><td>1.000002</td><td>1.0000542</td><td>1.0000425</td><td>0.9999836</td><td>1.0000827</td><td>1.000006</td><td>1.0000001</td><td>1</td><td>0.9999999</td><td>1.0000350</td><td>0.9998934</td><td>0.9999993</td><td>1.000010</td><td>0.9993270</td></tr>\n",
       "\t<tr><th scope=row>4</th><td>0.999997</td><td>0.9999852</td><td>0.9999887</td><td>1.0001103</td><td>0.9999451</td><td>1.000003</td><td>0.9999996</td><td>1</td><td>0.9999999</td><td>0.9998242</td><td>1.0007520</td><td>0.9999955</td><td>1.000022</td><td>0.9990857</td></tr>\n",
       "</tbody>\n",
       "</table>\n"
      ],
      "text/latex": [
       "A matrix: 3 × 14 of type dbl\n",
       "\\begin{tabular}{r|llllllllllllll}\n",
       "  & (Intercept) & bicy & cart & mcyc & pcar & boat & wigc & cgdp & tpop & upop & popd & land & rifr & prec\\\\\n",
       "\\hline\n",
       "\t2 & 1.000001 & 1.0000371 & 0.9999846 & 0.9999423 & 1.0001073 & 0.999998 & 0.9999992 & 1 & 0.9999998 & 1.0001626 & 0.9997053 & 0.9999983 & 1.000009 & 0.9991003\\\\\n",
       "\t3 & 1.000002 & 1.0000542 & 1.0000425 & 0.9999836 & 1.0000827 & 1.000006 & 1.0000001 & 1 & 0.9999999 & 1.0000350 & 0.9998934 & 0.9999993 & 1.000010 & 0.9993270\\\\\n",
       "\t4 & 0.999997 & 0.9999852 & 0.9999887 & 1.0001103 & 0.9999451 & 1.000003 & 0.9999996 & 1 & 0.9999999 & 0.9998242 & 1.0007520 & 0.9999955 & 1.000022 & 0.9990857\\\\\n",
       "\\end{tabular}\n"
      ],
      "text/markdown": [
       "\n",
       "A matrix: 3 × 14 of type dbl\n",
       "\n",
       "| <!--/--> | (Intercept) | bicy | cart | mcyc | pcar | boat | wigc | cgdp | tpop | upop | popd | land | rifr | prec |\n",
       "|---|---|---|---|---|---|---|---|---|---|---|---|---|---|---|\n",
       "| 2 | 1.000001 | 1.0000371 | 0.9999846 | 0.9999423 | 1.0001073 | 0.999998 | 0.9999992 | 1 | 0.9999998 | 1.0001626 | 0.9997053 | 0.9999983 | 1.000009 | 0.9991003 |\n",
       "| 3 | 1.000002 | 1.0000542 | 1.0000425 | 0.9999836 | 1.0000827 | 1.000006 | 1.0000001 | 1 | 0.9999999 | 1.0000350 | 0.9998934 | 0.9999993 | 1.000010 | 0.9993270 |\n",
       "| 4 | 0.999997 | 0.9999852 | 0.9999887 | 1.0001103 | 0.9999451 | 1.000003 | 0.9999996 | 1 | 0.9999999 | 0.9998242 | 1.0007520 | 0.9999955 | 1.000022 | 0.9990857 |\n",
       "\n"
      ],
      "text/plain": [
       "  (Intercept) bicy      cart      mcyc      pcar      boat     wigc      cgdp\n",
       "2 1.000001    1.0000371 0.9999846 0.9999423 1.0001073 0.999998 0.9999992 1   \n",
       "3 1.000002    1.0000542 1.0000425 0.9999836 1.0000827 1.000006 1.0000001 1   \n",
       "4 0.999997    0.9999852 0.9999887 1.0001103 0.9999451 1.000003 0.9999996 1   \n",
       "  tpop      upop      popd      land      rifr     prec     \n",
       "2 0.9999998 1.0001626 0.9997053 0.9999983 1.000009 0.9991003\n",
       "3 0.9999999 1.0000350 0.9998934 0.9999993 1.000010 0.9993270\n",
       "4 0.9999999 0.9998242 1.0007520 0.9999955 1.000022 0.9990857"
      ]
     },
     "metadata": {},
     "output_type": "display_data"
    },
    {
     "data": {
      "text/html": [
       "<style>\n",
       ".list-inline {list-style: none; margin:0; padding: 0}\n",
       ".list-inline>li {display: inline-block}\n",
       ".list-inline>li:not(:last-child)::after {content: \"\\00b7\"; padding: 0 .5ex}\n",
       "</style>\n",
       "<ol class=list-inline><li>1</li><li>1</li><li>3</li><li>3</li><li>4</li><li>1</li></ol>\n",
       "\n",
       "<details>\n",
       "\t<summary style=display:list-item;cursor:pointer>\n",
       "\t\t<strong>Levels</strong>:\n",
       "\t</summary>\n",
       "\t<style>\n",
       "\t.list-inline {list-style: none; margin:0; padding: 0}\n",
       "\t.list-inline>li {display: inline-block}\n",
       "\t.list-inline>li:not(:last-child)::after {content: \"\\00b7\"; padding: 0 .5ex}\n",
       "\t</style>\n",
       "\t<ol class=list-inline><li>'1'</li><li>'2'</li><li>'3'</li><li>'4'</li></ol>\n",
       "</details>"
      ],
      "text/latex": [
       "\\begin{enumerate*}\n",
       "\\item 1\n",
       "\\item 1\n",
       "\\item 3\n",
       "\\item 3\n",
       "\\item 4\n",
       "\\item 1\n",
       "\\end{enumerate*}\n",
       "\n",
       "\\emph{Levels}: \\begin{enumerate*}\n",
       "\\item '1'\n",
       "\\item '2'\n",
       "\\item '3'\n",
       "\\item '4'\n",
       "\\end{enumerate*}\n"
      ],
      "text/markdown": [
       "1. 1\n",
       "2. 1\n",
       "3. 3\n",
       "4. 3\n",
       "5. 4\n",
       "6. 1\n",
       "\n",
       "\n",
       "\n",
       "**Levels**: 1. '1'\n",
       "2. '2'\n",
       "3. '3'\n",
       "4. '4'\n",
       "\n",
       "\n"
      ],
      "text/plain": [
       "[1] 1 1 3 3 4 1\n",
       "Levels: 1 2 3 4"
      ]
     },
     "metadata": {},
     "output_type": "display_data"
    },
    {
     "data": {
      "text/html": [
       "<table class=\"dataframe\">\n",
       "<caption>A matrix: 6 × 4 of type dbl</caption>\n",
       "<thead>\n",
       "\t<tr><th></th><th scope=col>1</th><th scope=col>2</th><th scope=col>3</th><th scope=col>4</th></tr>\n",
       "</thead>\n",
       "<tbody>\n",
       "\t<tr><th scope=row>1</th><td>0.98741971</td><td>1.896920e-03</td><td>0.009830605</td><td>0.0008527662</td></tr>\n",
       "\t<tr><th scope=row>2</th><td>0.35379810</td><td>1.854467e-01</td><td>0.245183951</td><td>0.2155712365</td></tr>\n",
       "\t<tr><th scope=row>3</th><td>0.27854721</td><td>1.685996e-01</td><td>0.542391487</td><td>0.0104617451</td></tr>\n",
       "\t<tr><th scope=row>4</th><td>0.25730250</td><td>2.327065e-01</td><td>0.257972483</td><td>0.2520185643</td></tr>\n",
       "\t<tr><th scope=row>5</th><td>0.08060539</td><td>3.073665e-01</td><td>0.283486615</td><td>0.3285415265</td></tr>\n",
       "\t<tr><th scope=row>6</th><td>0.98761582</td><td>9.449307e-05</td><td>0.001119134</td><td>0.0111705552</td></tr>\n",
       "</tbody>\n",
       "</table>\n"
      ],
      "text/latex": [
       "A matrix: 6 × 4 of type dbl\n",
       "\\begin{tabular}{r|llll}\n",
       "  & 1 & 2 & 3 & 4\\\\\n",
       "\\hline\n",
       "\t1 & 0.98741971 & 1.896920e-03 & 0.009830605 & 0.0008527662\\\\\n",
       "\t2 & 0.35379810 & 1.854467e-01 & 0.245183951 & 0.2155712365\\\\\n",
       "\t3 & 0.27854721 & 1.685996e-01 & 0.542391487 & 0.0104617451\\\\\n",
       "\t4 & 0.25730250 & 2.327065e-01 & 0.257972483 & 0.2520185643\\\\\n",
       "\t5 & 0.08060539 & 3.073665e-01 & 0.283486615 & 0.3285415265\\\\\n",
       "\t6 & 0.98761582 & 9.449307e-05 & 0.001119134 & 0.0111705552\\\\\n",
       "\\end{tabular}\n"
      ],
      "text/markdown": [
       "\n",
       "A matrix: 6 × 4 of type dbl\n",
       "\n",
       "| <!--/--> | 1 | 2 | 3 | 4 |\n",
       "|---|---|---|---|---|\n",
       "| 1 | 0.98741971 | 1.896920e-03 | 0.009830605 | 0.0008527662 |\n",
       "| 2 | 0.35379810 | 1.854467e-01 | 0.245183951 | 0.2155712365 |\n",
       "| 3 | 0.27854721 | 1.685996e-01 | 0.542391487 | 0.0104617451 |\n",
       "| 4 | 0.25730250 | 2.327065e-01 | 0.257972483 | 0.2520185643 |\n",
       "| 5 | 0.08060539 | 3.073665e-01 | 0.283486615 | 0.3285415265 |\n",
       "| 6 | 0.98761582 | 9.449307e-05 | 0.001119134 | 0.0111705552 |\n",
       "\n"
      ],
      "text/plain": [
       "  1          2            3           4           \n",
       "1 0.98741971 1.896920e-03 0.009830605 0.0008527662\n",
       "2 0.35379810 1.854467e-01 0.245183951 0.2155712365\n",
       "3 0.27854721 1.685996e-01 0.542391487 0.0104617451\n",
       "4 0.25730250 2.327065e-01 0.257972483 0.2520185643\n",
       "5 0.08060539 3.073665e-01 0.283486615 0.3285415265\n",
       "6 0.98761582 9.449307e-05 0.001119134 0.0111705552"
      ]
     },
     "metadata": {},
     "output_type": "display_data"
    },
    {
     "data": {
      "text/html": [
       "0.671232876712329"
      ],
      "text/latex": [
       "0.671232876712329"
      ],
      "text/markdown": [
       "0.671232876712329"
      ],
      "text/plain": [
       "[1] 0.6712329"
      ]
     },
     "metadata": {},
     "output_type": "display_data"
    }
   ],
   "source": [
    "head(df)\n",
    "\n",
    "# Fit the model\n",
    "model <- nnet::multinom(clusters ~. -Country , data = df)\n",
    "# Summarize the model\n",
    "summary(model)\n",
    "\n",
    "#z values\n",
    "z <- summary(model)$coefficients/summary(model)$standard.errors\n",
    "z\n",
    "# 2-tailed z test\n",
    "p <- (1 - pnorm(abs(z), 0, 1)) * 2\n",
    "p\n",
    "\n",
    "## extract the coefficients from the model and exponentiate\n",
    "exp(coef(model))\n",
    "\n",
    "# Make predictions\n",
    "predicted.classes <- model %>% predict(df)\n",
    "head(predicted.classes)\n",
    "\n",
    "head(pp <- fitted(model))\n",
    "\n",
    "# Model accuracy\n",
    "mean(predicted.classes == df$clusters)"
   ]
  },
  {
   "cell_type": "code",
   "execution_count": null,
   "metadata": {},
   "outputs": [],
   "source": []
  }
 ],
 "metadata": {
  "kernelspec": {
   "display_name": "R",
   "language": "R",
   "name": "ir"
  },
  "language_info": {
   "codemirror_mode": "r",
   "file_extension": ".r",
   "mimetype": "text/x-r-source",
   "name": "R",
   "pygments_lexer": "r",
   "version": "4.0.2"
  }
 },
 "nbformat": 4,
 "nbformat_minor": 4
}
