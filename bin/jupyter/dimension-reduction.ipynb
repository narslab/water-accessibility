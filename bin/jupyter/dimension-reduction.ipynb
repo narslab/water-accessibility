{
 "cells": [
  {
   "cell_type": "code",
   "execution_count": 55,
   "metadata": {},
   "outputs": [],
   "source": [
    "#install.packages(c(\"FactoMineR\", \"factoextra\"))\n",
    "library(\"FactoMineR\")\n",
    "library(\"factoextra\")\n",
    "library(readxl)\n",
    "library(dplyr)\n",
    "library(psych)\n",
    "#install.packages(\"GPArotation\")\n",
    "library(GPArotation)\n",
    "#install.packages(\"psy\")\n",
    "library(psy)\n",
    "#install.packages(\"nFactors\")\n",
    "library(nFactors)"
   ]
  },
  {
   "cell_type": "code",
   "execution_count": 93,
   "metadata": {},
   "outputs": [
    {
     "data": {
      "text/plain": [
       "   Country               ptap             bore             pspr       \n",
       " Length:78          Min.   : 0.000   Min.   : 0.000   Min.   : 0.000  \n",
       " Class :character   1st Qu.: 2.775   1st Qu.: 0.225   1st Qu.: 0.000  \n",
       " Mode  :character   Median :10.300   Median : 3.900   Median : 0.550  \n",
       "                    Mean   :11.755   Mean   :12.571   Mean   : 3.128  \n",
       "                    3rd Qu.:17.675   3rd Qu.:19.925   3rd Qu.: 3.675  \n",
       "                    Max.   :57.700   Max.   :86.400   Max.   :47.900  \n",
       "      uspr             pwel             uwel             surw       \n",
       " Min.   : 0.000   Min.   : 0.000   Min.   : 0.000   Min.   : 0.000  \n",
       " 1st Qu.: 0.000   1st Qu.: 0.525   1st Qu.: 0.425   1st Qu.: 1.200  \n",
       " Median : 1.050   Median : 3.950   Median : 3.750   Median : 4.100  \n",
       " Mean   : 3.640   Mean   : 6.314   Mean   : 6.821   Mean   : 5.124  \n",
       " 3rd Qu.: 2.775   3rd Qu.: 8.825   3rd Qu.:10.425   3rd Qu.: 7.525  \n",
       " Max.   :36.300   Max.   :48.100   Max.   :33.000   Max.   :19.200  \n",
       "      tles            tmor             rain             phom       \n",
       " Min.   : 0.00   Min.   : 0.000   Min.   : 0.000   Min.   : 0.000  \n",
       " 1st Qu.:12.72   1st Qu.: 1.200   1st Qu.: 0.000   1st Qu.: 2.625  \n",
       " Median :30.65   Median : 5.850   Median : 0.200   Median : 8.850  \n",
       " Mean   :32.56   Mean   : 9.346   Mean   : 2.569   Mean   :19.427  \n",
       " 3rd Qu.:49.88   3rd Qu.:13.175   3rd Qu.: 1.425   3rd Qu.:25.775  \n",
       " Max.   :75.10   Max.   :49.300   Max.   :46.700   Max.   :90.600  \n",
       "      imws            pipy            truc             cart       \n",
       " Min.   : 0.00   Min.   : 0.00   Min.   : 0.000   Min.   :0.0000  \n",
       " 1st Qu.:71.25   1st Qu.: 3.15   1st Qu.: 0.100   1st Qu.:0.0000  \n",
       " Median :80.75   Median : 6.35   Median : 0.300   Median :0.1000  \n",
       " Mean   :78.95   Mean   :11.03   Mean   : 1.424   Mean   :0.5115  \n",
       " 3rd Qu.:92.35   3rd Qu.:17.35   3rd Qu.: 1.375   3rd Qu.:0.4750  \n",
       " Max.   :99.90   Max.   :54.10   Max.   :14.100   Max.   :6.1000  \n",
       "      bott             uiws             othw             iwsp      \n",
       " Min.   : 0.000   Min.   : 0.000   Min.   :0.0000   Min.   : 0.00  \n",
       " 1st Qu.: 0.100   1st Qu.: 6.975   1st Qu.:0.0000   1st Qu.:20.12  \n",
       " Median : 0.500   Median :18.350   Median :0.1000   Median :38.85  \n",
       " Mean   : 6.333   Mean   :19.709   Mean   :0.4667   Mean   :44.96  \n",
       " 3rd Qu.: 3.525   3rd Qu.:28.525   3rd Qu.:0.5000   3rd Qu.:70.62  \n",
       " Max.   :77.800   Max.   :83.600   Max.   :4.6000   Max.   :99.20  \n",
       "      basw            liws             watp      \n",
       " Min.   : 0.00   Min.   : 0.000   Min.   : 0.00  \n",
       " 1st Qu.:57.00   1st Qu.: 0.725   1st Qu.:23.62  \n",
       " Median :71.30   Median : 3.050   Median :43.60  \n",
       " Mean   :67.02   Mean   : 5.269   Mean   :48.14  \n",
       " 3rd Qu.:87.08   3rd Qu.: 7.450   3rd Qu.:75.80  \n",
       " Max.   :99.60   Max.   :28.500   Max.   :99.30  "
      ]
     },
     "metadata": {},
     "output_type": "display_data"
    },
    {
     "data": {
      "text/html": [
       "<style>\n",
       ".list-inline {list-style: none; margin:0; padding: 0}\n",
       ".list-inline>li {display: inline-block}\n",
       ".list-inline>li:not(:last-child)::after {content: \"\\00b7\"; padding: 0 .5ex}\n",
       "</style>\n",
       "<ol class=list-inline><li>'Country'</li><li>'ptap'</li><li>'bore'</li><li>'pspr'</li><li>'uspr'</li><li>'pwel'</li><li>'uwel'</li><li>'surw'</li><li>'tles'</li><li>'tmor'</li><li>'rain'</li><li>'phom'</li><li>'imws'</li><li>'pipy'</li><li>'truc'</li><li>'cart'</li><li>'bott'</li><li>'uiws'</li><li>'othw'</li><li>'iwsp'</li><li>'basw'</li><li>'liws'</li><li>'watp'</li></ol>\n"
      ],
      "text/latex": [
       "\\begin{enumerate*}\n",
       "\\item 'Country'\n",
       "\\item 'ptap'\n",
       "\\item 'bore'\n",
       "\\item 'pspr'\n",
       "\\item 'uspr'\n",
       "\\item 'pwel'\n",
       "\\item 'uwel'\n",
       "\\item 'surw'\n",
       "\\item 'tles'\n",
       "\\item 'tmor'\n",
       "\\item 'rain'\n",
       "\\item 'phom'\n",
       "\\item 'imws'\n",
       "\\item 'pipy'\n",
       "\\item 'truc'\n",
       "\\item 'cart'\n",
       "\\item 'bott'\n",
       "\\item 'uiws'\n",
       "\\item 'othw'\n",
       "\\item 'iwsp'\n",
       "\\item 'basw'\n",
       "\\item 'liws'\n",
       "\\item 'watp'\n",
       "\\end{enumerate*}\n"
      ],
      "text/markdown": [
       "1. 'Country'\n",
       "2. 'ptap'\n",
       "3. 'bore'\n",
       "4. 'pspr'\n",
       "5. 'uspr'\n",
       "6. 'pwel'\n",
       "7. 'uwel'\n",
       "8. 'surw'\n",
       "9. 'tles'\n",
       "10. 'tmor'\n",
       "11. 'rain'\n",
       "12. 'phom'\n",
       "13. 'imws'\n",
       "14. 'pipy'\n",
       "15. 'truc'\n",
       "16. 'cart'\n",
       "17. 'bott'\n",
       "18. 'uiws'\n",
       "19. 'othw'\n",
       "20. 'iwsp'\n",
       "21. 'basw'\n",
       "22. 'liws'\n",
       "23. 'watp'\n",
       "\n",
       "\n"
      ],
      "text/plain": [
       " [1] \"Country\" \"ptap\"    \"bore\"    \"pspr\"    \"uspr\"    \"pwel\"    \"uwel\"   \n",
       " [8] \"surw\"    \"tles\"    \"tmor\"    \"rain\"    \"phom\"    \"imws\"    \"pipy\"   \n",
       "[15] \"truc\"    \"cart\"    \"bott\"    \"uiws\"    \"othw\"    \"iwsp\"    \"basw\"   \n",
       "[22] \"liws\"    \"watp\"   "
      ]
     },
     "metadata": {},
     "output_type": "display_data"
    },
    {
     "name": "stdout",
     "output_type": "stream",
     "text": [
      "tibble [78 x 23] (S3: tbl_df/tbl/data.frame)\n",
      " $ Country: chr [1:78] \"Afghanistan\" \"Albania\" \"Angola\" \"Armenia\" ...\n",
      " $ ptap   : num [1:78] 14.2 2.4 10.3 0.5 3.5 2.7 13 5.3 0 18.4 ...\n",
      " $ bore   : num [1:78] 20.1 1.4 1.9 0.2 9.3 86.4 28.9 0 0 40.6 ...\n",
      " $ pspr   : num [1:78] 4.7 2.5 3.3 1 7.5 0 0.3 0 0 0.2 ...\n",
      " $ uspr   : num [1:78] 8.6 0.8 4.8 0.1 1.1 0.3 1.2 0 0 1.5 ...\n",
      " $ pwel   : num [1:78] 18.5 4.1 9.1 0.2 6.2 0.2 4.4 1.7 0 9 ...\n",
      " $ uwel   : num [1:78] 11.1 0.8 8.3 0 0.2 0.6 20.8 6.2 0 16.3 ...\n",
      " $ surw   : num [1:78] 7.3 0 18 0 7 1.2 5.8 5.2 0 0.8 ...\n",
      " $ tles   : num [1:78] 45.2 20.6 46.1 1.6 18.7 22.7 49.8 11.2 0 49.8 ...\n",
      " $ tmor   : num [1:78] 8.2 1.1 15.6 0.1 4.4 1.6 12.1 0.7 0 32.6 ...\n",
      " $ rain   : num [1:78] 0.4 0 1.7 0 0 0.4 0.4 0 0 0 ...\n",
      " $ phom   : num [1:78] 2.3 48.8 4.3 88.3 34 4.3 5.1 24.6 69.2 2.6 ...\n",
      " $ imws   : num [1:78] 71.2 98.4 66.9 99.9 90.6 97.8 71.7 87.3 76 80.9 ...\n",
      " $ pipy   : num [1:78] 4.8 5.2 9.7 8 19.7 3.3 4.2 54.1 3.5 9.6 ...\n",
      " $ truc   : num [1:78] 1.5 14.1 9.7 1.5 9.5 0 0.2 1.7 0 0 ...\n",
      " $ cart   : num [1:78] 4.4 0.2 4.3 0 0.7 0.1 0.3 0 0 0.2 ...\n",
      " $ bott   : num [1:78] 0.2 19.6 1.2 0 0.1 0.3 0 0 3.3 0.2 ...\n",
      " $ uiws   : num [1:78] 28.7 1.6 33.1 0.1 9.4 2.2 28.3 12.3 24 19.1 ...\n",
      " $ othw   : num [1:78] 1.7 0.1 1.8 0 1.1 0.1 0.4 0.9 2.7 0.5 ...\n",
      " $ iwsp   : num [1:78] 35.4 77 32.6 97.6 71.2 75.1 29.6 85.7 0 14.4 ...\n",
      " $ basw   : num [1:78] 65.3 97 57 99.1 86.4 96.4 64 87.3 0 52.1 ...\n",
      " $ liws   : num [1:78] 5 0.9 7.5 0.1 3.4 1.3 7.3 0 0 28.5 ...\n",
      " $ watp   : num [1:78] 45.3 77.9 34.5 97.6 75.9 75.5 37.4 88 0 17.1 ...\n"
     ]
    },
    {
     "data": {
      "text/html": [
       "<table class=\"dataframe\">\n",
       "<caption>A tibble: 7 × 23</caption>\n",
       "<thead>\n",
       "\t<tr><th scope=col>Country</th><th scope=col>ptap</th><th scope=col>bore</th><th scope=col>pspr</th><th scope=col>uspr</th><th scope=col>pwel</th><th scope=col>uwel</th><th scope=col>surw</th><th scope=col>tles</th><th scope=col>tmor</th><th scope=col>...</th><th scope=col>pipy</th><th scope=col>truc</th><th scope=col>cart</th><th scope=col>bott</th><th scope=col>uiws</th><th scope=col>othw</th><th scope=col>iwsp</th><th scope=col>basw</th><th scope=col>liws</th><th scope=col>watp</th></tr>\n",
       "\t<tr><th scope=col>&lt;chr&gt;</th><th scope=col>&lt;dbl&gt;</th><th scope=col>&lt;dbl&gt;</th><th scope=col>&lt;dbl&gt;</th><th scope=col>&lt;dbl&gt;</th><th scope=col>&lt;dbl&gt;</th><th scope=col>&lt;dbl&gt;</th><th scope=col>&lt;dbl&gt;</th><th scope=col>&lt;dbl&gt;</th><th scope=col>&lt;dbl&gt;</th><th scope=col>...</th><th scope=col>&lt;dbl&gt;</th><th scope=col>&lt;dbl&gt;</th><th scope=col>&lt;dbl&gt;</th><th scope=col>&lt;dbl&gt;</th><th scope=col>&lt;dbl&gt;</th><th scope=col>&lt;dbl&gt;</th><th scope=col>&lt;dbl&gt;</th><th scope=col>&lt;dbl&gt;</th><th scope=col>&lt;dbl&gt;</th><th scope=col>&lt;dbl&gt;</th></tr>\n",
       "</thead>\n",
       "<tbody>\n",
       "\t<tr><td>Afghanistan</td><td>14.2</td><td>20.1</td><td>4.7</td><td>8.6</td><td>18.5</td><td>11.1</td><td> 7.3</td><td>45.2</td><td> 8.2</td><td>...</td><td> 4.8</td><td> 1.5</td><td>4.4</td><td> 0.2</td><td>28.7</td><td>1.7</td><td>35.4</td><td>65.3</td><td>5.0</td><td>45.3</td></tr>\n",
       "\t<tr><td>Albania    </td><td> 2.4</td><td> 1.4</td><td>2.5</td><td>0.8</td><td> 4.1</td><td> 0.8</td><td> 0.0</td><td>20.6</td><td> 1.1</td><td>...</td><td> 5.2</td><td>14.1</td><td>0.2</td><td>19.6</td><td> 1.6</td><td>0.1</td><td>77.0</td><td>97.0</td><td>0.9</td><td>77.9</td></tr>\n",
       "\t<tr><td>Angola     </td><td>10.3</td><td> 1.9</td><td>3.3</td><td>4.8</td><td> 9.1</td><td> 8.3</td><td>18.0</td><td>46.1</td><td>15.6</td><td>...</td><td> 9.7</td><td> 9.7</td><td>4.3</td><td> 1.2</td><td>33.1</td><td>1.8</td><td>32.6</td><td>57.0</td><td>7.5</td><td>34.5</td></tr>\n",
       "\t<tr><td>Armenia    </td><td> 0.5</td><td> 0.2</td><td>1.0</td><td>0.1</td><td> 0.2</td><td> 0.0</td><td> 0.0</td><td> 1.6</td><td> 0.1</td><td>...</td><td> 8.0</td><td> 1.5</td><td>0.0</td><td> 0.0</td><td> 0.1</td><td>0.0</td><td>97.6</td><td>99.1</td><td>0.1</td><td>97.6</td></tr>\n",
       "\t<tr><td>Azerbaijan </td><td> 3.5</td><td> 9.3</td><td>7.5</td><td>1.1</td><td> 6.2</td><td> 0.2</td><td> 7.0</td><td>18.7</td><td> 4.4</td><td>...</td><td>19.7</td><td> 9.5</td><td>0.7</td><td> 0.1</td><td> 9.4</td><td>1.1</td><td>71.2</td><td>86.4</td><td>3.4</td><td>75.9</td></tr>\n",
       "\t<tr><td>Bangladesh </td><td> 2.7</td><td>86.4</td><td>0.0</td><td>0.3</td><td> 0.2</td><td> 0.6</td><td> 1.2</td><td>22.7</td><td> 1.6</td><td>...</td><td> 3.3</td><td> 0.0</td><td>0.1</td><td> 0.3</td><td> 2.2</td><td>0.1</td><td>75.1</td><td>96.4</td><td>1.3</td><td>75.5</td></tr>\n",
       "\t<tr><td>Benin      </td><td>13.0</td><td>28.9</td><td>0.3</td><td>1.2</td><td> 4.4</td><td>20.8</td><td> 5.8</td><td>49.8</td><td>12.1</td><td>...</td><td> 4.2</td><td> 0.2</td><td>0.3</td><td> 0.0</td><td>28.3</td><td>0.4</td><td>29.6</td><td>64.0</td><td>7.3</td><td>37.4</td></tr>\n",
       "</tbody>\n",
       "</table>\n"
      ],
      "text/latex": [
       "A tibble: 7 × 23\n",
       "\\begin{tabular}{lllllllllllllllllllll}\n",
       " Country & ptap & bore & pspr & uspr & pwel & uwel & surw & tles & tmor & ... & pipy & truc & cart & bott & uiws & othw & iwsp & basw & liws & watp\\\\\n",
       " <chr> & <dbl> & <dbl> & <dbl> & <dbl> & <dbl> & <dbl> & <dbl> & <dbl> & <dbl> & ... & <dbl> & <dbl> & <dbl> & <dbl> & <dbl> & <dbl> & <dbl> & <dbl> & <dbl> & <dbl>\\\\\n",
       "\\hline\n",
       "\t Afghanistan & 14.2 & 20.1 & 4.7 & 8.6 & 18.5 & 11.1 &  7.3 & 45.2 &  8.2 & ... &  4.8 &  1.5 & 4.4 &  0.2 & 28.7 & 1.7 & 35.4 & 65.3 & 5.0 & 45.3\\\\\n",
       "\t Albania     &  2.4 &  1.4 & 2.5 & 0.8 &  4.1 &  0.8 &  0.0 & 20.6 &  1.1 & ... &  5.2 & 14.1 & 0.2 & 19.6 &  1.6 & 0.1 & 77.0 & 97.0 & 0.9 & 77.9\\\\\n",
       "\t Angola      & 10.3 &  1.9 & 3.3 & 4.8 &  9.1 &  8.3 & 18.0 & 46.1 & 15.6 & ... &  9.7 &  9.7 & 4.3 &  1.2 & 33.1 & 1.8 & 32.6 & 57.0 & 7.5 & 34.5\\\\\n",
       "\t Armenia     &  0.5 &  0.2 & 1.0 & 0.1 &  0.2 &  0.0 &  0.0 &  1.6 &  0.1 & ... &  8.0 &  1.5 & 0.0 &  0.0 &  0.1 & 0.0 & 97.6 & 99.1 & 0.1 & 97.6\\\\\n",
       "\t Azerbaijan  &  3.5 &  9.3 & 7.5 & 1.1 &  6.2 &  0.2 &  7.0 & 18.7 &  4.4 & ... & 19.7 &  9.5 & 0.7 &  0.1 &  9.4 & 1.1 & 71.2 & 86.4 & 3.4 & 75.9\\\\\n",
       "\t Bangladesh  &  2.7 & 86.4 & 0.0 & 0.3 &  0.2 &  0.6 &  1.2 & 22.7 &  1.6 & ... &  3.3 &  0.0 & 0.1 &  0.3 &  2.2 & 0.1 & 75.1 & 96.4 & 1.3 & 75.5\\\\\n",
       "\t Benin       & 13.0 & 28.9 & 0.3 & 1.2 &  4.4 & 20.8 &  5.8 & 49.8 & 12.1 & ... &  4.2 &  0.2 & 0.3 &  0.0 & 28.3 & 0.4 & 29.6 & 64.0 & 7.3 & 37.4\\\\\n",
       "\\end{tabular}\n"
      ],
      "text/markdown": [
       "\n",
       "A tibble: 7 × 23\n",
       "\n",
       "| Country &lt;chr&gt; | ptap &lt;dbl&gt; | bore &lt;dbl&gt; | pspr &lt;dbl&gt; | uspr &lt;dbl&gt; | pwel &lt;dbl&gt; | uwel &lt;dbl&gt; | surw &lt;dbl&gt; | tles &lt;dbl&gt; | tmor &lt;dbl&gt; | ... ... | pipy &lt;dbl&gt; | truc &lt;dbl&gt; | cart &lt;dbl&gt; | bott &lt;dbl&gt; | uiws &lt;dbl&gt; | othw &lt;dbl&gt; | iwsp &lt;dbl&gt; | basw &lt;dbl&gt; | liws &lt;dbl&gt; | watp &lt;dbl&gt; |\n",
       "|---|---|---|---|---|---|---|---|---|---|---|---|---|---|---|---|---|---|---|---|---|\n",
       "| Afghanistan | 14.2 | 20.1 | 4.7 | 8.6 | 18.5 | 11.1 |  7.3 | 45.2 |  8.2 | ... |  4.8 |  1.5 | 4.4 |  0.2 | 28.7 | 1.7 | 35.4 | 65.3 | 5.0 | 45.3 |\n",
       "| Albania     |  2.4 |  1.4 | 2.5 | 0.8 |  4.1 |  0.8 |  0.0 | 20.6 |  1.1 | ... |  5.2 | 14.1 | 0.2 | 19.6 |  1.6 | 0.1 | 77.0 | 97.0 | 0.9 | 77.9 |\n",
       "| Angola      | 10.3 |  1.9 | 3.3 | 4.8 |  9.1 |  8.3 | 18.0 | 46.1 | 15.6 | ... |  9.7 |  9.7 | 4.3 |  1.2 | 33.1 | 1.8 | 32.6 | 57.0 | 7.5 | 34.5 |\n",
       "| Armenia     |  0.5 |  0.2 | 1.0 | 0.1 |  0.2 |  0.0 |  0.0 |  1.6 |  0.1 | ... |  8.0 |  1.5 | 0.0 |  0.0 |  0.1 | 0.0 | 97.6 | 99.1 | 0.1 | 97.6 |\n",
       "| Azerbaijan  |  3.5 |  9.3 | 7.5 | 1.1 |  6.2 |  0.2 |  7.0 | 18.7 |  4.4 | ... | 19.7 |  9.5 | 0.7 |  0.1 |  9.4 | 1.1 | 71.2 | 86.4 | 3.4 | 75.9 |\n",
       "| Bangladesh  |  2.7 | 86.4 | 0.0 | 0.3 |  0.2 |  0.6 |  1.2 | 22.7 |  1.6 | ... |  3.3 |  0.0 | 0.1 |  0.3 |  2.2 | 0.1 | 75.1 | 96.4 | 1.3 | 75.5 |\n",
       "| Benin       | 13.0 | 28.9 | 0.3 | 1.2 |  4.4 | 20.8 |  5.8 | 49.8 | 12.1 | ... |  4.2 |  0.2 | 0.3 |  0.0 | 28.3 | 0.4 | 29.6 | 64.0 | 7.3 | 37.4 |\n",
       "\n"
      ],
      "text/plain": [
       "  Country     ptap bore pspr uspr pwel uwel surw tles tmor ... pipy truc cart\n",
       "1 Afghanistan 14.2 20.1 4.7  8.6  18.5 11.1  7.3 45.2  8.2 ...  4.8  1.5 4.4 \n",
       "2 Albania      2.4  1.4 2.5  0.8   4.1  0.8  0.0 20.6  1.1 ...  5.2 14.1 0.2 \n",
       "3 Angola      10.3  1.9 3.3  4.8   9.1  8.3 18.0 46.1 15.6 ...  9.7  9.7 4.3 \n",
       "4 Armenia      0.5  0.2 1.0  0.1   0.2  0.0  0.0  1.6  0.1 ...  8.0  1.5 0.0 \n",
       "5 Azerbaijan   3.5  9.3 7.5  1.1   6.2  0.2  7.0 18.7  4.4 ... 19.7  9.5 0.7 \n",
       "6 Bangladesh   2.7 86.4 0.0  0.3   0.2  0.6  1.2 22.7  1.6 ...  3.3  0.0 0.1 \n",
       "7 Benin       13.0 28.9 0.3  1.2   4.4 20.8  5.8 49.8 12.1 ...  4.2  0.2 0.3 \n",
       "  bott uiws othw iwsp basw liws watp\n",
       "1  0.2 28.7 1.7  35.4 65.3 5.0  45.3\n",
       "2 19.6  1.6 0.1  77.0 97.0 0.9  77.9\n",
       "3  1.2 33.1 1.8  32.6 57.0 7.5  34.5\n",
       "4  0.0  0.1 0.0  97.6 99.1 0.1  97.6\n",
       "5  0.1  9.4 1.1  71.2 86.4 3.4  75.9\n",
       "6  0.3  2.2 0.1  75.1 96.4 1.3  75.5\n",
       "7  0.0 28.3 0.4  29.6 64.0 7.3  37.4"
      ]
     },
     "metadata": {},
     "output_type": "display_data"
    }
   ],
   "source": [
    "df.wa <- read_excel(\"../../results/df-water-access.xlsx\",sheet=1)\n",
    "summary(df.wa)\n",
    "colnames(df.wa)\n",
    "str(df.wa)\n",
    "head(df.wa, 7)"
   ]
  },
  {
   "cell_type": "markdown",
   "metadata": {},
   "source": [
    "The goal of this study is to analyze the characteristics of the water accessibility variables."
   ]
  },
  {
   "cell_type": "code",
   "execution_count": 3,
   "metadata": {},
   "outputs": [
    {
     "data": {
      "text/plain": [
       "Importance of components:\n",
       "                          Comp.1    Comp.2     Comp.3     Comp.4     Comp.5\n",
       "Standard deviation     2.5545745 1.5169601 1.33879378 1.30098955 1.19651265\n",
       "Proportion of Variance 0.2966296 0.1045985 0.08147131 0.07693517 0.06507466\n",
       "Cumulative Proportion  0.2966296 0.4012281 0.48269943 0.55963460 0.62470926\n",
       "                           Comp.6     Comp.7     Comp.8     Comp.9    Comp.10\n",
       "Standard deviation     1.18120970 1.06219269 1.00724046 0.92978320 0.89052132\n",
       "Proportion of Variance 0.06342074 0.05128424 0.04611515 0.03929531 0.03604674\n",
       "Cumulative Proportion  0.68813000 0.73941424 0.78552940 0.82482471 0.86087144\n",
       "                          Comp.11    Comp.12    Comp.13    Comp.14    Comp.15\n",
       "Standard deviation     0.84536550 0.72437372 0.66273386 0.63266944 0.60076161\n",
       "Proportion of Variance 0.03248377 0.02385079 0.01996437 0.01819412 0.01640521\n",
       "Cumulative Proportion  0.89335521 0.91720599 0.93717036 0.95536448 0.97176969\n",
       "                          Comp.16     Comp.17     Comp.18     Comp.19\n",
       "Standard deviation     0.46974392 0.435420650 0.376047030 0.173194428\n",
       "Proportion of Variance 0.01002997 0.008617779 0.006427789 0.001363469\n",
       "Cumulative Proportion  0.98179966 0.990417439 0.996845229 0.998208697\n",
       "                           Comp.20      Comp.21      Comp.22\n",
       "Standard deviation     0.162617199 0.1009938712 0.0525789257\n",
       "Proportion of Variance 0.001202016 0.0004636255 0.0001256611\n",
       "Cumulative Proportion  0.999410713 0.9998743389 1.0000000000"
      ]
     },
     "metadata": {},
     "output_type": "display_data"
    },
    {
     "data": {
      "text/plain": [
       "\n",
       "Loadings:\n",
       "     Comp.1 Comp.2 Comp.3 Comp.4 Comp.5 Comp.6 Comp.7 Comp.8 Comp.9 Comp.10\n",
       "ptap  0.180  0.376  0.153  0.255                0.271                      \n",
       "bore         0.152 -0.557                0.197 -0.229        -0.244 -0.341 \n",
       "pspr  0.122  0.255  0.269 -0.295 -0.393               -0.224               \n",
       "uspr  0.209         0.279 -0.363                      -0.207 -0.114        \n",
       "pwel  0.143 -0.103 -0.344               -0.313  0.306 -0.297  0.109        \n",
       "uwel  0.208        -0.271  0.161  0.241 -0.175         0.214         0.493 \n",
       "surw  0.201         0.151 -0.205  0.426        -0.115 -0.166        -0.279 \n",
       "tles  0.297  0.266                0.214  0.111               -0.177        \n",
       "tmor  0.295  0.243               -0.111 -0.268         0.245         0.110 \n",
       "rain        -0.177        -0.316         0.145  0.254  0.648        -0.234 \n",
       "phom -0.248 -0.129  0.134  0.278 -0.202 -0.137 -0.235 -0.214 -0.177  0.197 \n",
       "imws -0.258  0.316 -0.198        -0.156         0.168               -0.156 \n",
       "pipy         0.199  0.268  0.274  0.258  0.237  0.433         0.313        \n",
       "truc                0.144         0.130 -0.575 -0.293  0.122  0.351 -0.454 \n",
       "ctan                      -0.322  0.294 -0.382  0.425 -0.244               \n",
       "bott -0.223               -0.443        -0.126  0.131  0.123         0.332 \n",
       "uiws  0.282 -0.214  0.210         0.275        -0.172                0.183 \n",
       "othw                0.271  0.218  0.118 -0.264  0.186  0.183 -0.772 -0.112 \n",
       "iwsp -0.343  0.193                0.190        -0.132                0.124 \n",
       "basw -0.235  0.449        -0.108  0.248        -0.134                      \n",
       "liws  0.254  0.335               -0.220 -0.253         0.257               \n",
       "watp -0.335  0.177                0.232        -0.158                0.130 \n",
       "     Comp.11 Comp.12 Comp.13 Comp.14 Comp.15 Comp.16 Comp.17 Comp.18 Comp.19\n",
       "ptap          0.491   0.139           0.305           0.119   0.465         \n",
       "bore -0.222  -0.215                          -0.107           0.317         \n",
       "pspr                         -0.445  -0.550                   0.133         \n",
       "uspr  0.207  -0.382          -0.128   0.587  -0.272   0.172                 \n",
       "pwel  0.482          -0.441                   0.265                         \n",
       "uwel  0.214  -0.116   0.260  -0.366  -0.205  -0.315   0.274                 \n",
       "surw  0.353           0.137   0.462  -0.355           0.287                 \n",
       "tles          0.282          -0.106                  -0.350  -0.551         \n",
       "tmor         -0.224           0.322           0.129                   0.688 \n",
       "rain  0.376           0.231  -0.116           0.151  -0.125                 \n",
       "phom  0.245  -0.100   0.382   0.214                  -0.193                 \n",
       "imws  0.284           0.192   0.115          -0.426  -0.379   0.171         \n",
       "pipy -0.121  -0.425  -0.112          -0.147  -0.253          -0.133         \n",
       "truc          0.174          -0.228   0.144  -0.254                         \n",
       "ctan -0.367           0.457           0.121   0.188                         \n",
       "bott -0.113   0.288  -0.346   0.266          -0.425                         \n",
       "uiws                 -0.104                          -0.665   0.407  -0.134 \n",
       "othw                 -0.285                                                 \n",
       "iwsp         -0.135                           0.226           0.141   0.131 \n",
       "basw  0.113                                   0.169          -0.230         \n",
       "liws -0.111  -0.223           0.301           0.118                  -0.662 \n",
       "watp         -0.131          -0.100           0.246           0.201  -0.135 \n",
       "     Comp.20 Comp.21 Comp.22\n",
       "ptap  0.219                 \n",
       "bore  0.398                 \n",
       "pspr  0.118                 \n",
       "uspr                        \n",
       "pwel  0.170                 \n",
       "uwel                        \n",
       "surw                        \n",
       "tles  0.152   0.391  -0.154 \n",
       "tmor -0.108           0.143 \n",
       "rain  0.186                 \n",
       "phom  0.529                 \n",
       "imws -0.445                 \n",
       "pipy  0.254                 \n",
       "truc  0.127                 \n",
       "ctan                        \n",
       "bott  0.321                 \n",
       "uiws         -0.182         \n",
       "othw                        \n",
       "iwsp                 -0.792 \n",
       "basw         -0.661   0.290 \n",
       "liws                 -0.113 \n",
       "watp          0.602   0.463 \n",
       "\n",
       "               Comp.1 Comp.2 Comp.3 Comp.4 Comp.5 Comp.6 Comp.7 Comp.8 Comp.9\n",
       "SS loadings     1.000  1.000  1.000  1.000  1.000  1.000  1.000  1.000  1.000\n",
       "Proportion Var  0.045  0.045  0.045  0.045  0.045  0.045  0.045  0.045  0.045\n",
       "Cumulative Var  0.045  0.091  0.136  0.182  0.227  0.273  0.318  0.364  0.409\n",
       "               Comp.10 Comp.11 Comp.12 Comp.13 Comp.14 Comp.15 Comp.16 Comp.17\n",
       "SS loadings      1.000   1.000   1.000   1.000   1.000   1.000   1.000   1.000\n",
       "Proportion Var   0.045   0.045   0.045   0.045   0.045   0.045   0.045   0.045\n",
       "Cumulative Var   0.455   0.500   0.545   0.591   0.636   0.682   0.727   0.773\n",
       "               Comp.18 Comp.19 Comp.20 Comp.21 Comp.22\n",
       "SS loadings      1.000   1.000   1.000   1.000   1.000\n",
       "Proportion Var   0.045   0.045   0.045   0.045   0.045\n",
       "Cumulative Var   0.818   0.864   0.909   0.955   1.000"
      ]
     },
     "metadata": {},
     "output_type": "display_data"
    },
    {
     "data": {
      "text/html": [
       "<table class=\"dataframe\">\n",
       "<caption>A matrix: 78 × 22 of type dbl</caption>\n",
       "<thead>\n",
       "\t<tr><th scope=col>Comp.1</th><th scope=col>Comp.2</th><th scope=col>Comp.3</th><th scope=col>Comp.4</th><th scope=col>Comp.5</th><th scope=col>Comp.6</th><th scope=col>Comp.7</th><th scope=col>Comp.8</th><th scope=col>Comp.9</th><th scope=col>Comp.10</th><th scope=col>...</th><th scope=col>Comp.13</th><th scope=col>Comp.14</th><th scope=col>Comp.15</th><th scope=col>Comp.16</th><th scope=col>Comp.17</th><th scope=col>Comp.18</th><th scope=col>Comp.19</th><th scope=col>Comp.20</th><th scope=col>Comp.21</th><th scope=col>Comp.22</th></tr>\n",
       "</thead>\n",
       "<tbody>\n",
       "\t<tr><td> 1.4267305</td><td>-0.427672110</td><td>-0.495034608</td><td>-1.09882686</td><td> 1.68909918</td><td>-1.99223923</td><td> 1.7370609</td><td>-1.257469210</td><td>-1.58191505</td><td>-0.25893829</td><td>...</td><td> 0.42738106</td><td>-0.77303538</td><td> 0.5209875058</td><td> 0.84051414</td><td>-0.030500665</td><td> 0.389797932</td><td>-0.142486034</td><td> 0.108249102</td><td>-0.015936613</td><td> 0.059673587</td></tr>\n",
       "\t<tr><td>-3.5088718</td><td> 0.281825887</td><td> 0.360488977</td><td> 0.18354132</td><td>-0.28098199</td><td>-2.69127058</td><td>-1.9250677</td><td>-0.111949218</td><td> 1.64296460</td><td>-1.28497647</td><td>...</td><td>-0.07150078</td><td>-0.95942893</td><td> 0.7486569758</td><td>-1.08138312</td><td>-0.339091311</td><td>-0.769539087</td><td> 0.012326940</td><td> 0.368079660</td><td>-0.102774021</td><td>-0.087308692</td></tr>\n",
       "\t<tr><td> 1.7952348</td><td>-0.777975232</td><td> 1.349849957</td><td>-1.02782045</td><td> 2.81636002</td><td>-3.45659405</td><td> 0.6256211</td><td>-0.490166454</td><td>-0.38576057</td><td>-1.86921290</td><td>...</td><td> 1.00569421</td><td> 0.41132085</td><td>-0.2607123137</td><td>-0.12047886</td><td> 0.198515540</td><td>-0.309529189</td><td>-0.012813120</td><td>-0.058666457</td><td>-0.012408917</td><td>-0.099896768</td></tr>\n",
       "\t<tr><td>-4.4017036</td><td> 0.114596246</td><td> 0.361233065</td><td> 0.93578553</td><td>-0.92271609</td><td>-0.07041174</td><td>-1.5281745</td><td>-0.924730657</td><td> 0.06439318</td><td> 0.63747045</td><td>...</td><td> 1.11279447</td><td> 0.15261669</td><td> 0.1414629011</td><td> 0.71982499</td><td>-0.217540517</td><td>-0.260316451</td><td> 0.023726760</td><td> 0.018350364</td><td>-0.072568470</td><td>-0.034146310</td></tr>\n",
       "\t<tr><td>-2.0508988</td><td> 0.505375745</td><td> 1.099512379</td><td> 0.47447107</td><td> 0.59326861</td><td>-1.76685274</td><td>-0.7870105</td><td>-0.502659144</td><td> 0.50478829</td><td>-1.94916149</td><td>...</td><td>-0.06511625</td><td>-0.64043671</td><td>-0.5056031965</td><td>-0.32521911</td><td> 0.054374250</td><td>-0.258186010</td><td>-0.006299988</td><td> 0.149501060</td><td>-0.032281175</td><td>-0.016457009</td></tr>\n",
       "\t<tr><td>-2.0437455</td><td> 1.258782018</td><td>-3.202158724</td><td>-0.41458686</td><td> 0.23433923</td><td> 1.70268475</td><td>-1.6404682</td><td> 0.085047522</td><td>-1.11494314</td><td>-1.64887299</td><td>...</td><td>-0.05339075</td><td>-0.60094710</td><td> 0.3058909114</td><td> 0.13183009</td><td> 0.216469905</td><td> 1.069193142</td><td> 0.293682832</td><td> 0.117493336</td><td>-0.005178543</td><td>-0.062886518</td></tr>\n",
       "\t<tr><td> 1.6269557</td><td> 0.007620627</td><td>-1.288206642</td><td> 0.43572244</td><td> 0.72578696</td><td> 0.30895687</td><td>-0.5468868</td><td> 0.635250288</td><td>-0.41509784</td><td> 0.66198355</td><td>...</td><td> 0.35907402</td><td>-0.41536367</td><td>-0.3131049104</td><td>-0.22152592</td><td> 0.178743121</td><td> 0.043046343</td><td>-0.094165929</td><td>-0.237080001</td><td> 0.062052263</td><td> 0.017438821</td></tr>\n",
       "\t<tr><td>-2.7304022</td><td> 0.697779447</td><td> 1.544418465</td><td> 1.62573738</td><td> 1.67535249</td><td> 0.99751229</td><td> 1.0155379</td><td>-0.217329792</td><td> 1.06840960</td><td>-0.20800285</td><td>...</td><td>-0.55240834</td><td>-0.23759644</td><td>-0.8445601494</td><td>-0.56250885</td><td> 0.202659700</td><td>-0.355349377</td><td> 0.101203988</td><td>-0.044837812</td><td> 0.030276874</td><td>-0.057458560</td></tr>\n",
       "\t<tr><td>-0.6394664</td><td>-3.661774631</td><td> 1.167937633</td><td> 2.04177473</td><td>-2.14637789</td><td>-0.16696720</td><td> 0.2071313</td><td>-0.213727756</td><td>-2.42373008</td><td>-0.13860833</td><td>...</td><td> 0.15341873</td><td> 0.48725515</td><td>-0.1545119162</td><td>-0.98250713</td><td>-0.334655855</td><td> 0.053830475</td><td> 0.008181981</td><td>-0.066090753</td><td>-0.055309582</td><td> 0.039400137</td></tr>\n",
       "\t<tr><td> 3.1690100</td><td> 1.894272646</td><td>-1.945531667</td><td> 1.04653349</td><td>-1.22130724</td><td>-0.86693715</td><td> 0.1059415</td><td> 1.803630766</td><td>-0.34750690</td><td> 0.34354129</td><td>...</td><td>-0.03562086</td><td> 1.10215260</td><td>-0.0001633723</td><td> 0.09291906</td><td>-0.111973870</td><td>-0.152618637</td><td>-0.705840386</td><td> 0.217364102</td><td> 0.155370773</td><td>-0.093167051</td></tr>\n",
       "\t<tr><td> 3.6015049</td><td> 3.394536540</td><td> 2.223635441</td><td>-1.96636471</td><td>-4.05625348</td><td>-0.16686618</td><td> 0.1677276</td><td>-0.989147870</td><td>-0.23524029</td><td>-0.33859500</td><td>...</td><td> 0.63332935</td><td>-1.64972989</td><td>-2.4406856998</td><td> 0.22306249</td><td>-0.204025640</td><td>-0.093933595</td><td>-0.029132137</td><td> 0.003984304</td><td> 0.017255297</td><td>-0.008864295</td></tr>\n",
       "\t<tr><td> 0.1843790</td><td>-3.704816244</td><td>-0.957653901</td><td>-1.49146592</td><td>-1.40544717</td><td> 1.37829261</td><td> 1.3965914</td><td> 2.601523081</td><td> 0.15993741</td><td>-1.84862130</td><td>...</td><td> 1.73696081</td><td> 0.01714342</td><td>-0.1875106990</td><td>-0.75618737</td><td> 0.129766667</td><td> 0.265708258</td><td> 0.075412322</td><td> 0.024434983</td><td> 0.133334290</td><td> 0.003331458</td></tr>\n",
       "\t<tr><td> 1.1936255</td><td> 0.608909273</td><td>-0.832102788</td><td>-0.42258093</td><td>-0.01073008</td><td> 0.65963922</td><td>-0.5232988</td><td>-0.140772114</td><td>-0.37988836</td><td>-0.03002034</td><td>...</td><td> 0.21625221</td><td>-0.21577665</td><td>-0.0217284179</td><td>-0.24879226</td><td>-0.121433079</td><td>-0.285632930</td><td>-0.077163737</td><td>-0.022727037</td><td> 0.022946289</td><td>-0.054003550</td></tr>\n",
       "\t<tr><td> 4.1898678</td><td>-2.902541662</td><td> 1.829595055</td><td> 0.12739476</td><td> 1.24854658</td><td> 1.34534561</td><td>-1.2053527</td><td> 0.401558723</td><td>-0.16418647</td><td> 0.64954512</td><td>...</td><td>-0.95135062</td><td> 0.49686287</td><td>-0.2535549463</td><td> 1.08333123</td><td>-1.763640763</td><td> 0.048391958</td><td> 0.458398348</td><td> 0.173968985</td><td> 0.270013938</td><td>-0.131722548</td></tr>\n",
       "\t<tr><td> 4.0656582</td><td>-0.686165235</td><td>-1.691575952</td><td> 0.33260556</td><td> 0.95509334</td><td>-0.28780426</td><td>-0.7106235</td><td> 1.051701756</td><td> 0.02648893</td><td> 1.47945836</td><td>...</td><td> 0.66466114</td><td>-0.10128031</td><td>-0.7819695973</td><td>-0.49808629</td><td> 0.157440471</td><td> 0.005291422</td><td> 0.324665317</td><td> 0.031955035</td><td>-0.019906049</td><td> 0.040043374</td></tr>\n",
       "\t<tr><td>-3.7967910</td><td>-0.535662966</td><td> 0.444855411</td><td> 0.21035328</td><td>-0.25009138</td><td>-0.33766027</td><td>-1.4297869</td><td>-0.627755135</td><td>-0.87008042</td><td> 0.66650547</td><td>...</td><td> 1.01314589</td><td> 0.66590004</td><td>-0.2299302082</td><td> 0.71676378</td><td> 0.083951815</td><td> 0.036522662</td><td>-0.082304862</td><td>-0.030034752</td><td>-0.022960204</td><td> 0.057203046</td></tr>\n",
       "\t<tr><td>-1.5228205</td><td> 0.820274196</td><td> 1.888542181</td><td> 1.18378978</td><td> 0.06812798</td><td>-0.87306122</td><td> 2.0430943</td><td> 2.100341143</td><td>-2.15136132</td><td>-1.19438610</td><td>...</td><td>-0.86395971</td><td>-0.84360252</td><td> 0.2440612305</td><td> 0.27840926</td><td> 0.176793986</td><td> 0.075244868</td><td> 0.039628960</td><td>-0.016821937</td><td>-0.008898974</td><td>-0.021377708</td></tr>\n",
       "\t<tr><td> 1.7965978</td><td> 1.318080515</td><td> 1.580014835</td><td> 0.73399976</td><td> 0.10900834</td><td>-0.13185488</td><td> 0.9887712</td><td> 0.936589264</td><td>-1.42680992</td><td>-0.25063621</td><td>...</td><td>-0.85504361</td><td> 0.80939464</td><td> 0.0866938836</td><td>-0.20619080</td><td> 0.460480585</td><td> 0.401022242</td><td> 0.024669894</td><td>-0.014341046</td><td> 0.027329057</td><td> 0.026235026</td></tr>\n",
       "\t<tr><td> 5.1283636</td><td> 0.125637346</td><td> 2.770868494</td><td>-2.47734675</td><td>-1.24881066</td><td> 0.22399493</td><td>-1.1996267</td><td>-0.785706539</td><td>-0.45022952</td><td> 0.66254094</td><td>...</td><td>-0.64583506</td><td>-0.24963929</td><td> 1.2471036310</td><td>-0.70043806</td><td> 0.036992474</td><td>-0.081805413</td><td> 0.373419905</td><td>-0.023456477</td><td>-0.070295780</td><td> 0.035487703</td></tr>\n",
       "\t<tr><td> 0.7917524</td><td> 0.343836764</td><td>-0.593922383</td><td> 1.03321579</td><td> 0.59982280</td><td> 0.17582815</td><td> 0.8405879</td><td>-0.316391906</td><td> 0.05069582</td><td> 0.32850036</td><td>...</td><td>-0.87227807</td><td>-0.34390843</td><td>-0.1070722386</td><td> 0.11890420</td><td>-0.068382520</td><td>-0.231978187</td><td>-0.038251691</td><td> 0.078080471</td><td>-0.045996579</td><td> 0.020531315</td></tr>\n",
       "\t<tr><td>-4.3847843</td><td>-0.068247808</td><td>-0.976423170</td><td>-4.37567277</td><td> 1.10854893</td><td>-2.19664824</td><td> 2.6554281</td><td>-0.432391073</td><td>-0.15125398</td><td> 1.84243913</td><td>...</td><td> 0.19070187</td><td> 1.14354928</td><td> 0.3422343323</td><td>-0.65400136</td><td>-0.138469377</td><td>-0.042241927</td><td> 0.012866995</td><td> 0.099066834</td><td>-0.015403202</td><td> 0.023345317</td></tr>\n",
       "\t<tr><td>-4.2189332</td><td> 0.013635105</td><td> 0.259690730</td><td> 0.89486782</td><td>-1.01408507</td><td>-0.44537686</td><td>-1.6201237</td><td>-0.787178149</td><td>-0.53358685</td><td> 0.70350607</td><td>...</td><td> 1.08299966</td><td> 0.25759159</td><td> 0.3457152404</td><td> 0.73492908</td><td>-0.214516470</td><td>-0.230052147</td><td>-0.014056048</td><td> 0.047680729</td><td>-0.082162104</td><td>-0.023793222</td></tr>\n",
       "\t<tr><td> 3.3253027</td><td> 0.674483818</td><td> 0.004314938</td><td> 1.42982928</td><td>-0.87019428</td><td>-4.54239143</td><td>-1.3289503</td><td> 2.131407517</td><td> 2.28029616</td><td>-0.40688499</td><td>...</td><td>-0.32533064</td><td> 1.20738814</td><td> 0.2393962622</td><td> 0.42957141</td><td>-0.003708653</td><td> 0.250591742</td><td> 0.349283398</td><td> 0.044841634</td><td>-0.094551901</td><td> 0.023325827</td></tr>\n",
       "\t<tr><td> 1.1892292</td><td> 0.212452602</td><td> 0.954448930</td><td> 0.39276399</td><td> 1.44762342</td><td> 0.57590789</td><td>-0.2628222</td><td>-0.216246915</td><td> 0.49446522</td><td>-0.28204442</td><td>...</td><td> 0.21118759</td><td> 0.95174083</td><td>-0.7105265307</td><td>-0.28814014</td><td> 0.374719454</td><td> 0.024423732</td><td> 0.261200802</td><td> 0.011135034</td><td>-0.029046491</td><td> 0.020032683</td></tr>\n",
       "\t<tr><td> 3.6601715</td><td> 1.041055146</td><td> 1.470200035</td><td>-1.22144371</td><td>-0.66954545</td><td> 0.23725007</td><td>-0.3329512</td><td>-0.316762254</td><td> 0.11214690</td><td>-0.07792632</td><td>...</td><td>-0.24622256</td><td> 0.68469240</td><td> 0.3776534115</td><td>-0.18927160</td><td> 0.151347540</td><td> 0.102531438</td><td> 0.038018258</td><td> 0.053381709</td><td> 0.006661206</td><td> 0.010774453</td></tr>\n",
       "\t<tr><td>-1.3749480</td><td> 1.689254244</td><td> 1.139940662</td><td> 1.28505634</td><td> 0.09265137</td><td> 0.82436079</td><td> 1.1721693</td><td>-0.068712189</td><td> 0.73729338</td><td>-0.14316288</td><td>...</td><td>-0.04305401</td><td> 0.58652590</td><td>-0.4047934571</td><td> 0.06688119</td><td> 0.080834771</td><td>-0.151831872</td><td> 0.028736787</td><td>-0.022594883</td><td>-0.004101433</td><td> 0.005128433</td></tr>\n",
       "\t<tr><td>-0.3225799</td><td> 1.901362792</td><td> 0.162343919</td><td> 1.98035029</td><td> 0.57542537</td><td> 1.20978523</td><td> 2.0345940</td><td> 0.061849665</td><td> 0.37613259</td><td> 0.07324575</td><td>...</td><td>-0.51255623</td><td>-0.55628015</td><td> 0.5319711064</td><td>-0.34678153</td><td>-0.133707192</td><td>-0.232176010</td><td> 0.048467945</td><td> 0.104404411</td><td>-0.042031804</td><td> 0.025098508</td></tr>\n",
       "\t<tr><td>-0.3695477</td><td> 1.026345006</td><td>-1.000924909</td><td> 0.04106496</td><td>-0.14298406</td><td> 0.86974059</td><td>-0.1784342</td><td>-0.071420971</td><td>-0.06656606</td><td>-0.49786479</td><td>...</td><td> 0.03079393</td><td> 0.21816791</td><td> 0.3956760128</td><td> 0.31034332</td><td>-0.026331083</td><td>-0.429151935</td><td>-0.155657417</td><td>-0.822422120</td><td> 0.011019089</td><td>-0.097603387</td></tr>\n",
       "\t<tr><td>-3.1827353</td><td> 0.235110211</td><td> 0.767860139</td><td>-0.37392505</td><td> 0.29319864</td><td> 0.95639732</td><td> 0.3943271</td><td>-0.000536207</td><td> 1.00358797</td><td> 0.80723293</td><td>...</td><td>-1.10892632</td><td> 0.27626392</td><td>-0.3043067477</td><td>-0.53032696</td><td>-0.090180640</td><td>-0.097245973</td><td>-0.027967531</td><td>-0.060259131</td><td> 0.073172484</td><td> 0.062054839</td></tr>\n",
       "\t<tr><td> 2.0110144</td><td> 0.772380322</td><td>-1.401339568</td><td>-0.63264210</td><td>-0.82418482</td><td>-0.08034788</td><td>-0.8758960</td><td> 0.178019387</td><td>-0.29550085</td><td>-0.52060639</td><td>...</td><td>-0.39043658</td><td> 0.91127994</td><td> 0.2443702972</td><td> 0.15165941</td><td>-0.085949874</td><td>-0.106815238</td><td>-0.195550696</td><td> 0.042472575</td><td> 0.018493084</td><td> 0.006689042</td></tr>\n",
       "\t<tr><td>...</td><td>...</td><td>...</td><td>...</td><td>...</td><td>...</td><td>...</td><td>...</td><td>...</td><td>...</td><td></td><td>...</td><td>...</td><td>...</td><td>...</td><td>...</td><td>...</td><td>...</td><td>...</td><td>...</td><td>...</td></tr>\n",
       "\t<tr><td> 2.1948283</td><td>-0.46064668</td><td>-0.48443117</td><td> 0.66570991</td><td> 1.23578399</td><td> 0.27586650</td><td> 0.14932809</td><td> 0.532819521</td><td> 0.406266251</td><td> 0.95704218</td><td>...</td><td> 0.030361643</td><td>-0.308618032</td><td>-0.70014319</td><td>-0.27063356</td><td> 0.36753620</td><td> 0.17436731</td><td>-0.009735040</td><td>-0.151396653</td><td>-0.0028566571</td><td>-0.0414336456</td></tr>\n",
       "\t<tr><td>-0.1499418</td><td>-0.35074569</td><td>-1.96943532</td><td>-0.99630278</td><td> 0.72646374</td><td>-0.34063405</td><td> 0.25168293</td><td>-0.874619118</td><td> 0.017522360</td><td>-0.39595857</td><td>...</td><td>-1.105529583</td><td>-0.509313521</td><td>-0.33610213</td><td> 0.18416887</td><td>-0.13603851</td><td>-0.11651009</td><td>-0.048696651</td><td> 0.159329113</td><td>-0.0655550183</td><td> 0.0170369549</td></tr>\n",
       "\t<tr><td>-0.8029291</td><td> 0.89913993</td><td> 0.97212472</td><td> 1.70459752</td><td> 0.31753045</td><td>-0.18703667</td><td> 0.70351823</td><td> 0.346328706</td><td>-2.186045294</td><td> 0.11930751</td><td>...</td><td> 0.007299157</td><td> 0.200361242</td><td> 0.21426576</td><td> 0.04917567</td><td> 0.18409866</td><td> 0.11230558</td><td> 0.045363309</td><td> 0.019522721</td><td>-0.0240795676</td><td>-0.0076538849</td></tr>\n",
       "\t<tr><td>-1.7620464</td><td> 1.74421241</td><td>-0.76855900</td><td> 0.51723563</td><td> 0.37776058</td><td> 1.63619195</td><td> 0.20160956</td><td>-0.215644776</td><td> 0.334803410</td><td>-0.70086195</td><td>...</td><td>-0.134016948</td><td>-0.346627788</td><td> 0.41176074</td><td>-0.12688576</td><td> 0.14198146</td><td> 0.51034402</td><td> 0.214393239</td><td> 0.036478101</td><td>-0.0223161226</td><td>-0.0385016063</td></tr>\n",
       "\t<tr><td>-1.6955624</td><td>-0.53467238</td><td> 1.25935302</td><td> 0.82916062</td><td> 0.80393274</td><td> 1.42978953</td><td>-0.15530041</td><td>-0.413597359</td><td> 0.933598591</td><td> 0.32649778</td><td>...</td><td>-0.303684096</td><td> 0.074950476</td><td>-0.42685494</td><td> 0.42362454</td><td>-0.60177466</td><td>-0.21152936</td><td>-0.038390115</td><td>-0.051206622</td><td> 0.1401043124</td><td>-0.0661757473</td></tr>\n",
       "\t<tr><td> 4.0654124</td><td> 0.58477368</td><td>-1.91024234</td><td> 1.46018984</td><td>-0.52643828</td><td>-1.27384751</td><td> 0.52501813</td><td> 1.374034232</td><td> 0.547506623</td><td> 1.90785912</td><td>...</td><td>-0.243055247</td><td>-0.023199761</td><td>-0.10970926</td><td> 0.31643851</td><td>-0.05727384</td><td>-0.00409964</td><td> 0.151571656</td><td> 0.007579234</td><td>-0.0816276091</td><td> 0.0033178608</td></tr>\n",
       "\t<tr><td> 1.4031281</td><td>-0.35157229</td><td>-1.98211588</td><td>-0.74453030</td><td> 1.38675598</td><td> 0.04434028</td><td>-0.05838279</td><td>-0.529448018</td><td>-0.517531285</td><td>-0.42555915</td><td>...</td><td> 0.590513628</td><td>-0.266907566</td><td>-0.16322881</td><td> 0.19880969</td><td>-0.17368396</td><td>-0.28170726</td><td> 0.005592765</td><td>-0.035852147</td><td>-0.0256020540</td><td> 0.0624291375</td></tr>\n",
       "\t<tr><td>-1.9132233</td><td> 1.00712239</td><td>-2.01288547</td><td>-0.32324534</td><td>-0.20651944</td><td> 0.68332489</td><td>-1.23314838</td><td>-0.149647924</td><td>-0.712706978</td><td>-0.82432440</td><td>...</td><td> 0.270989468</td><td>-0.158276191</td><td> 0.36848112</td><td> 0.40164231</td><td> 0.14888638</td><td> 0.73268488</td><td> 0.110760130</td><td>-0.038634475</td><td>-0.0037048351</td><td>-0.0675173097</td></tr>\n",
       "\t<tr><td> 3.1572397</td><td>-1.91999478</td><td> 2.22845791</td><td>-3.28333505</td><td> 1.32496310</td><td> 0.51432896</td><td>-0.42562006</td><td>-0.229698727</td><td>-0.434420342</td><td> 0.20715675</td><td>...</td><td> 0.865288590</td><td>-0.422124481</td><td> 1.20627031</td><td>-0.04680064</td><td> 0.06371735</td><td>-0.02956605</td><td>-0.023096900</td><td> 0.175264054</td><td> 0.0512243536</td><td> 0.0088897847</td></tr>\n",
       "\t<tr><td> 1.0313295</td><td>-4.17182567</td><td> 0.33255401</td><td> 0.51439611</td><td>-1.74490156</td><td> 1.40391770</td><td>-0.29375657</td><td>-0.005734858</td><td> 0.857689366</td><td>-0.04702380</td><td>...</td><td>-0.613519167</td><td>-0.384946838</td><td> 0.35601068</td><td> 1.29836127</td><td> 2.58668486</td><td>-1.05695941</td><td> 0.059874179</td><td> 0.176235868</td><td> 0.0051768812</td><td>-0.0018053069</td></tr>\n",
       "\t<tr><td>-3.1574889</td><td>-0.75275099</td><td> 1.95817175</td><td> 1.72047873</td><td> 0.19743054</td><td>-1.30482915</td><td>-0.51321346</td><td> 0.309921208</td><td>-4.207405858</td><td> 0.01968384</td><td>...</td><td>-0.861554286</td><td>-0.006993885</td><td>-0.39600776</td><td> 0.05376471</td><td> 0.00857906</td><td>-0.31428787</td><td> 0.058083895</td><td>-0.031079365</td><td>-0.0298718161</td><td> 0.0059179091</td></tr>\n",
       "\t<tr><td>-3.2147883</td><td> 0.55399201</td><td>-0.82906393</td><td>-1.69677789</td><td>-0.82346504</td><td> 0.06651846</td><td>-0.29787179</td><td>-0.153575539</td><td> 0.226314709</td><td> 1.10992861</td><td>...</td><td>-1.051793365</td><td> 0.124709828</td><td>-0.19451314</td><td>-0.60809741</td><td> 0.10815725</td><td> 0.16664772</td><td> 0.031173316</td><td>-0.013644960</td><td>-0.0205563917</td><td>-0.0126806191</td></tr>\n",
       "\t<tr><td> 3.4506069</td><td> 2.82925711</td><td> 2.05045040</td><td>-1.60220294</td><td>-2.81243799</td><td>-0.02696928</td><td> 0.39565165</td><td>-0.616285167</td><td> 0.056049269</td><td>-0.21169416</td><td>...</td><td> 0.561248768</td><td>-0.566309569</td><td>-0.95152154</td><td> 0.19751329</td><td>-0.06138870</td><td> 0.12205548</td><td> 0.007939606</td><td> 0.029010476</td><td> 0.0072913139</td><td> 0.0102654135</td></tr>\n",
       "\t<tr><td> 1.2570206</td><td> 3.26529822</td><td> 0.99660236</td><td> 1.63759584</td><td>-0.51791084</td><td> 1.33047219</td><td> 1.92926263</td><td> 0.123078219</td><td> 0.761284271</td><td>-0.25627138</td><td>...</td><td> 0.717071397</td><td> 0.875039772</td><td> 0.83842209</td><td> 0.04472541</td><td> 0.12579338</td><td> 0.40179270</td><td>-0.164549634</td><td> 0.130294977</td><td> 0.0325804710</td><td> 0.0016182524</td></tr>\n",
       "\t<tr><td>-1.7903899</td><td> 0.30120472</td><td>-0.06501446</td><td>-0.07423084</td><td> 1.84457639</td><td>-0.87654829</td><td> 2.41014028</td><td>-0.816826501</td><td> 0.594997908</td><td> 1.08161833</td><td>...</td><td> 1.694300628</td><td>-0.462125722</td><td> 0.08614519</td><td> 0.49814827</td><td>-0.26632481</td><td>-0.25536612</td><td> 0.112929206</td><td>-0.141669234</td><td>-0.0129337574</td><td>-0.0191197809</td></tr>\n",
       "\t<tr><td> 2.6895945</td><td>-0.26976230</td><td>-0.72386232</td><td>-0.54236127</td><td> 0.81552150</td><td> 0.30267364</td><td> 0.04935123</td><td>-1.294770433</td><td> 0.083190483</td><td>-0.71471527</td><td>...</td><td>-0.983850635</td><td> 0.698369511</td><td>-0.02359748</td><td> 0.46711380</td><td> 0.01215918</td><td>-0.20999525</td><td>-0.145801543</td><td> 0.047965540</td><td>-0.0725068767</td><td>-0.0123745342</td></tr>\n",
       "\t<tr><td>-2.6705351</td><td> 0.97967997</td><td> 0.73767759</td><td> 0.96951899</td><td> 0.24267781</td><td> 0.17099040</td><td> 0.20698179</td><td>-0.443030816</td><td> 0.521912584</td><td>-0.01087298</td><td>...</td><td> 0.715617283</td><td> 0.180500570</td><td> 0.34580464</td><td> 0.19888399</td><td>-0.05909628</td><td>-0.14076990</td><td> 0.102599804</td><td>-0.018873734</td><td>-0.0465523405</td><td>-0.0283584223</td></tr>\n",
       "\t<tr><td>-1.4852334</td><td> 0.56265055</td><td> 1.03905064</td><td> 0.47021093</td><td> 1.36604150</td><td> 0.13122764</td><td>-0.66242090</td><td>-0.595828299</td><td> 1.289765780</td><td>-1.42273830</td><td>...</td><td> 0.296994469</td><td> 0.402340851</td><td>-0.19692728</td><td>-0.30612920</td><td> 0.36644444</td><td> 0.17760701</td><td>-0.120077026</td><td> 0.059418913</td><td> 0.0472489605</td><td> 0.0346573963</td></tr>\n",
       "\t<tr><td> 2.1809305</td><td>-0.13148683</td><td> 0.29548277</td><td>-0.15307292</td><td> 0.73001852</td><td>-0.42268093</td><td>-0.14820788</td><td> 0.369792010</td><td> 0.705800902</td><td> 0.83718927</td><td>...</td><td> 0.279894168</td><td> 0.346728804</td><td>-0.13082291</td><td> 0.22704320</td><td> 0.39061561</td><td> 0.29789416</td><td> 0.247689403</td><td>-0.376372730</td><td>-0.0209412937</td><td> 0.0175198992</td></tr>\n",
       "\t<tr><td>-0.3243756</td><td> 0.72209711</td><td> 0.88600423</td><td>-0.27865715</td><td>-0.37121530</td><td> 0.41031196</td><td>-0.16851901</td><td>-0.687876222</td><td> 0.381293279</td><td> 0.54480897</td><td>...</td><td>-0.060342472</td><td>-0.290062315</td><td> 1.12461248</td><td> 0.23584160</td><td> 0.31261063</td><td> 0.82369006</td><td>-0.039017480</td><td>-0.018219564</td><td> 0.0005130431</td><td> 0.0006725721</td></tr>\n",
       "\t<tr><td> 1.9322209</td><td>-0.07911742</td><td>-1.12671906</td><td>-0.05612837</td><td> 1.38067449</td><td> 1.07953841</td><td>-0.64668640</td><td>-0.136776460</td><td>-0.226515452</td><td>-0.29390863</td><td>...</td><td> 0.343413454</td><td> 0.373814625</td><td>-0.54668932</td><td>-0.22706612</td><td> 0.18866324</td><td>-0.10143912</td><td> 0.152760927</td><td>-0.171238547</td><td>-0.0172072862</td><td> 0.0930604639</td></tr>\n",
       "\t<tr><td>-4.0478324</td><td> 0.46191617</td><td>-0.11973889</td><td>-1.14371770</td><td>-1.38984437</td><td>-0.17419685</td><td>-0.84356768</td><td>-0.457567222</td><td>-0.009837082</td><td> 1.32301233</td><td>...</td><td>-0.350816979</td><td> 0.230350121</td><td>-0.51084751</td><td>-0.07239036</td><td> 0.10306958</td><td> 0.20242701</td><td> 0.018593159</td><td>-0.020657069</td><td>-0.0321990352</td><td>-0.0211209605</td></tr>\n",
       "\t<tr><td>-1.6504666</td><td>-0.71033431</td><td> 1.52572840</td><td> 1.25127547</td><td> 0.61827513</td><td> 0.46174316</td><td>-0.32664593</td><td> 0.097469536</td><td> 1.143407239</td><td>-0.11628651</td><td>...</td><td>-0.605293972</td><td>-0.660086188</td><td> 0.11636023</td><td> 0.23976845</td><td>-0.62828061</td><td> 0.07459029</td><td>-0.228668450</td><td> 0.088559880</td><td> 0.2129710173</td><td> 0.2238443793</td></tr>\n",
       "\t<tr><td> 2.9873743</td><td> 1.16945665</td><td>-1.44004361</td><td>-0.45996039</td><td>-0.82198938</td><td>-0.37484611</td><td>-0.68328345</td><td> 0.890721775</td><td>-0.253672511</td><td>-0.18871235</td><td>...</td><td> 0.321641829</td><td> 0.885041713</td><td>-0.28775208</td><td> 0.01024010</td><td>-0.08039984</td><td>-0.14845945</td><td>-0.246203433</td><td> 0.091004255</td><td> 0.0687770111</td><td> 0.0032051620</td></tr>\n",
       "\t<tr><td>-0.6122931</td><td>-2.77278039</td><td>-1.20899601</td><td> 1.62211233</td><td>-2.89181866</td><td>-0.23054611</td><td> 1.27124670</td><td>-1.640734328</td><td> 0.452100831</td><td>-0.72140566</td><td>...</td><td>-0.036809247</td><td> 0.554044953</td><td> 0.18176126</td><td>-0.77280441</td><td>-0.21750433</td><td>-0.06418155</td><td> 0.160519601</td><td>-0.005868833</td><td> 0.2341480129</td><td> 0.0057696065</td></tr>\n",
       "\t<tr><td>-1.7342931</td><td>-0.23668158</td><td> 0.65778660</td><td> 0.85461300</td><td>-0.38838497</td><td> 0.18545352</td><td>-1.33439192</td><td>-0.477459586</td><td> 0.134984899</td><td> 0.40387927</td><td>...</td><td> 0.886795739</td><td> 0.264549656</td><td> 0.60175755</td><td> 0.78234606</td><td>-0.36606596</td><td> 0.26616006</td><td>-0.173982157</td><td> 0.100634353</td><td> 0.0607623715</td><td> 0.1344266315</td></tr>\n",
       "\t<tr><td> 1.7263813</td><td>-4.38182923</td><td> 1.66208147</td><td> 0.17012178</td><td> 0.05215802</td><td> 1.89130670</td><td> 0.34187862</td><td> 0.991322420</td><td> 1.277440292</td><td>-0.58188850</td><td>...</td><td>-0.359004714</td><td> 0.026637377</td><td>-0.55800885</td><td> 0.13879297</td><td>-0.84559932</td><td> 0.70371467</td><td>-0.421403845</td><td>-0.051683573</td><td>-0.6101168670</td><td>-0.0151808809</td></tr>\n",
       "\t<tr><td>-1.7700428</td><td>-0.67513350</td><td> 0.64185294</td><td>-0.46566852</td><td> 0.43626364</td><td>-2.37374953</td><td>-1.98298403</td><td> 1.335057525</td><td> 1.168014097</td><td>-1.76297779</td><td>...</td><td>-0.768375660</td><td>-1.020183713</td><td> 0.34362960</td><td>-0.12234946</td><td>-0.01593005</td><td> 0.56295066</td><td>-0.206003165</td><td>-0.505245631</td><td> 0.1996864521</td><td> 0.0688465369</td></tr>\n",
       "\t<tr><td> 1.5296628</td><td>-0.16939329</td><td>-1.23999835</td><td> 0.34484146</td><td> 0.81982330</td><td> 0.48052662</td><td>-0.22974055</td><td>-0.128265633</td><td> 0.129243198</td><td> 0.35797544</td><td>...</td><td>-0.324866500</td><td>-0.254646301</td><td>-0.45695302</td><td>-0.13778983</td><td>-0.03290740</td><td>-0.33418929</td><td>-0.064467452</td><td>-0.029548549</td><td> 0.0007216059</td><td>-0.0126177415</td></tr>\n",
       "\t<tr><td> 1.3842749</td><td> 0.25334576</td><td>-1.51124736</td><td> 0.14385209</td><td> 0.07649363</td><td>-0.09974536</td><td>-0.34986973</td><td>-0.227275916</td><td> 0.012442323</td><td>-0.14007442</td><td>...</td><td>-0.517494986</td><td> 0.429644246</td><td>-0.39211118</td><td> 0.27156447</td><td>-0.13062752</td><td>-0.30034712</td><td>-0.047622185</td><td> 0.095998405</td><td>-0.0484035741</td><td> 0.0325680344</td></tr>\n",
       "</tbody>\n",
       "</table>\n"
      ],
      "text/latex": [
       "A matrix: 78 × 22 of type dbl\n",
       "\\begin{tabular}{lllllllllllllllllllll}\n",
       " Comp.1 & Comp.2 & Comp.3 & Comp.4 & Comp.5 & Comp.6 & Comp.7 & Comp.8 & Comp.9 & Comp.10 & ... & Comp.13 & Comp.14 & Comp.15 & Comp.16 & Comp.17 & Comp.18 & Comp.19 & Comp.20 & Comp.21 & Comp.22\\\\\n",
       "\\hline\n",
       "\t  1.4267305 & -0.427672110 & -0.495034608 & -1.09882686 &  1.68909918 & -1.99223923 &  1.7370609 & -1.257469210 & -1.58191505 & -0.25893829 & ... &  0.42738106 & -0.77303538 &  0.5209875058 &  0.84051414 & -0.030500665 &  0.389797932 & -0.142486034 &  0.108249102 & -0.015936613 &  0.059673587\\\\\n",
       "\t -3.5088718 &  0.281825887 &  0.360488977 &  0.18354132 & -0.28098199 & -2.69127058 & -1.9250677 & -0.111949218 &  1.64296460 & -1.28497647 & ... & -0.07150078 & -0.95942893 &  0.7486569758 & -1.08138312 & -0.339091311 & -0.769539087 &  0.012326940 &  0.368079660 & -0.102774021 & -0.087308692\\\\\n",
       "\t  1.7952348 & -0.777975232 &  1.349849957 & -1.02782045 &  2.81636002 & -3.45659405 &  0.6256211 & -0.490166454 & -0.38576057 & -1.86921290 & ... &  1.00569421 &  0.41132085 & -0.2607123137 & -0.12047886 &  0.198515540 & -0.309529189 & -0.012813120 & -0.058666457 & -0.012408917 & -0.099896768\\\\\n",
       "\t -4.4017036 &  0.114596246 &  0.361233065 &  0.93578553 & -0.92271609 & -0.07041174 & -1.5281745 & -0.924730657 &  0.06439318 &  0.63747045 & ... &  1.11279447 &  0.15261669 &  0.1414629011 &  0.71982499 & -0.217540517 & -0.260316451 &  0.023726760 &  0.018350364 & -0.072568470 & -0.034146310\\\\\n",
       "\t -2.0508988 &  0.505375745 &  1.099512379 &  0.47447107 &  0.59326861 & -1.76685274 & -0.7870105 & -0.502659144 &  0.50478829 & -1.94916149 & ... & -0.06511625 & -0.64043671 & -0.5056031965 & -0.32521911 &  0.054374250 & -0.258186010 & -0.006299988 &  0.149501060 & -0.032281175 & -0.016457009\\\\\n",
       "\t -2.0437455 &  1.258782018 & -3.202158724 & -0.41458686 &  0.23433923 &  1.70268475 & -1.6404682 &  0.085047522 & -1.11494314 & -1.64887299 & ... & -0.05339075 & -0.60094710 &  0.3058909114 &  0.13183009 &  0.216469905 &  1.069193142 &  0.293682832 &  0.117493336 & -0.005178543 & -0.062886518\\\\\n",
       "\t  1.6269557 &  0.007620627 & -1.288206642 &  0.43572244 &  0.72578696 &  0.30895687 & -0.5468868 &  0.635250288 & -0.41509784 &  0.66198355 & ... &  0.35907402 & -0.41536367 & -0.3131049104 & -0.22152592 &  0.178743121 &  0.043046343 & -0.094165929 & -0.237080001 &  0.062052263 &  0.017438821\\\\\n",
       "\t -2.7304022 &  0.697779447 &  1.544418465 &  1.62573738 &  1.67535249 &  0.99751229 &  1.0155379 & -0.217329792 &  1.06840960 & -0.20800285 & ... & -0.55240834 & -0.23759644 & -0.8445601494 & -0.56250885 &  0.202659700 & -0.355349377 &  0.101203988 & -0.044837812 &  0.030276874 & -0.057458560\\\\\n",
       "\t -0.6394664 & -3.661774631 &  1.167937633 &  2.04177473 & -2.14637789 & -0.16696720 &  0.2071313 & -0.213727756 & -2.42373008 & -0.13860833 & ... &  0.15341873 &  0.48725515 & -0.1545119162 & -0.98250713 & -0.334655855 &  0.053830475 &  0.008181981 & -0.066090753 & -0.055309582 &  0.039400137\\\\\n",
       "\t  3.1690100 &  1.894272646 & -1.945531667 &  1.04653349 & -1.22130724 & -0.86693715 &  0.1059415 &  1.803630766 & -0.34750690 &  0.34354129 & ... & -0.03562086 &  1.10215260 & -0.0001633723 &  0.09291906 & -0.111973870 & -0.152618637 & -0.705840386 &  0.217364102 &  0.155370773 & -0.093167051\\\\\n",
       "\t  3.6015049 &  3.394536540 &  2.223635441 & -1.96636471 & -4.05625348 & -0.16686618 &  0.1677276 & -0.989147870 & -0.23524029 & -0.33859500 & ... &  0.63332935 & -1.64972989 & -2.4406856998 &  0.22306249 & -0.204025640 & -0.093933595 & -0.029132137 &  0.003984304 &  0.017255297 & -0.008864295\\\\\n",
       "\t  0.1843790 & -3.704816244 & -0.957653901 & -1.49146592 & -1.40544717 &  1.37829261 &  1.3965914 &  2.601523081 &  0.15993741 & -1.84862130 & ... &  1.73696081 &  0.01714342 & -0.1875106990 & -0.75618737 &  0.129766667 &  0.265708258 &  0.075412322 &  0.024434983 &  0.133334290 &  0.003331458\\\\\n",
       "\t  1.1936255 &  0.608909273 & -0.832102788 & -0.42258093 & -0.01073008 &  0.65963922 & -0.5232988 & -0.140772114 & -0.37988836 & -0.03002034 & ... &  0.21625221 & -0.21577665 & -0.0217284179 & -0.24879226 & -0.121433079 & -0.285632930 & -0.077163737 & -0.022727037 &  0.022946289 & -0.054003550\\\\\n",
       "\t  4.1898678 & -2.902541662 &  1.829595055 &  0.12739476 &  1.24854658 &  1.34534561 & -1.2053527 &  0.401558723 & -0.16418647 &  0.64954512 & ... & -0.95135062 &  0.49686287 & -0.2535549463 &  1.08333123 & -1.763640763 &  0.048391958 &  0.458398348 &  0.173968985 &  0.270013938 & -0.131722548\\\\\n",
       "\t  4.0656582 & -0.686165235 & -1.691575952 &  0.33260556 &  0.95509334 & -0.28780426 & -0.7106235 &  1.051701756 &  0.02648893 &  1.47945836 & ... &  0.66466114 & -0.10128031 & -0.7819695973 & -0.49808629 &  0.157440471 &  0.005291422 &  0.324665317 &  0.031955035 & -0.019906049 &  0.040043374\\\\\n",
       "\t -3.7967910 & -0.535662966 &  0.444855411 &  0.21035328 & -0.25009138 & -0.33766027 & -1.4297869 & -0.627755135 & -0.87008042 &  0.66650547 & ... &  1.01314589 &  0.66590004 & -0.2299302082 &  0.71676378 &  0.083951815 &  0.036522662 & -0.082304862 & -0.030034752 & -0.022960204 &  0.057203046\\\\\n",
       "\t -1.5228205 &  0.820274196 &  1.888542181 &  1.18378978 &  0.06812798 & -0.87306122 &  2.0430943 &  2.100341143 & -2.15136132 & -1.19438610 & ... & -0.86395971 & -0.84360252 &  0.2440612305 &  0.27840926 &  0.176793986 &  0.075244868 &  0.039628960 & -0.016821937 & -0.008898974 & -0.021377708\\\\\n",
       "\t  1.7965978 &  1.318080515 &  1.580014835 &  0.73399976 &  0.10900834 & -0.13185488 &  0.9887712 &  0.936589264 & -1.42680992 & -0.25063621 & ... & -0.85504361 &  0.80939464 &  0.0866938836 & -0.20619080 &  0.460480585 &  0.401022242 &  0.024669894 & -0.014341046 &  0.027329057 &  0.026235026\\\\\n",
       "\t  5.1283636 &  0.125637346 &  2.770868494 & -2.47734675 & -1.24881066 &  0.22399493 & -1.1996267 & -0.785706539 & -0.45022952 &  0.66254094 & ... & -0.64583506 & -0.24963929 &  1.2471036310 & -0.70043806 &  0.036992474 & -0.081805413 &  0.373419905 & -0.023456477 & -0.070295780 &  0.035487703\\\\\n",
       "\t  0.7917524 &  0.343836764 & -0.593922383 &  1.03321579 &  0.59982280 &  0.17582815 &  0.8405879 & -0.316391906 &  0.05069582 &  0.32850036 & ... & -0.87227807 & -0.34390843 & -0.1070722386 &  0.11890420 & -0.068382520 & -0.231978187 & -0.038251691 &  0.078080471 & -0.045996579 &  0.020531315\\\\\n",
       "\t -4.3847843 & -0.068247808 & -0.976423170 & -4.37567277 &  1.10854893 & -2.19664824 &  2.6554281 & -0.432391073 & -0.15125398 &  1.84243913 & ... &  0.19070187 &  1.14354928 &  0.3422343323 & -0.65400136 & -0.138469377 & -0.042241927 &  0.012866995 &  0.099066834 & -0.015403202 &  0.023345317\\\\\n",
       "\t -4.2189332 &  0.013635105 &  0.259690730 &  0.89486782 & -1.01408507 & -0.44537686 & -1.6201237 & -0.787178149 & -0.53358685 &  0.70350607 & ... &  1.08299966 &  0.25759159 &  0.3457152404 &  0.73492908 & -0.214516470 & -0.230052147 & -0.014056048 &  0.047680729 & -0.082162104 & -0.023793222\\\\\n",
       "\t  3.3253027 &  0.674483818 &  0.004314938 &  1.42982928 & -0.87019428 & -4.54239143 & -1.3289503 &  2.131407517 &  2.28029616 & -0.40688499 & ... & -0.32533064 &  1.20738814 &  0.2393962622 &  0.42957141 & -0.003708653 &  0.250591742 &  0.349283398 &  0.044841634 & -0.094551901 &  0.023325827\\\\\n",
       "\t  1.1892292 &  0.212452602 &  0.954448930 &  0.39276399 &  1.44762342 &  0.57590789 & -0.2628222 & -0.216246915 &  0.49446522 & -0.28204442 & ... &  0.21118759 &  0.95174083 & -0.7105265307 & -0.28814014 &  0.374719454 &  0.024423732 &  0.261200802 &  0.011135034 & -0.029046491 &  0.020032683\\\\\n",
       "\t  3.6601715 &  1.041055146 &  1.470200035 & -1.22144371 & -0.66954545 &  0.23725007 & -0.3329512 & -0.316762254 &  0.11214690 & -0.07792632 & ... & -0.24622256 &  0.68469240 &  0.3776534115 & -0.18927160 &  0.151347540 &  0.102531438 &  0.038018258 &  0.053381709 &  0.006661206 &  0.010774453\\\\\n",
       "\t -1.3749480 &  1.689254244 &  1.139940662 &  1.28505634 &  0.09265137 &  0.82436079 &  1.1721693 & -0.068712189 &  0.73729338 & -0.14316288 & ... & -0.04305401 &  0.58652590 & -0.4047934571 &  0.06688119 &  0.080834771 & -0.151831872 &  0.028736787 & -0.022594883 & -0.004101433 &  0.005128433\\\\\n",
       "\t -0.3225799 &  1.901362792 &  0.162343919 &  1.98035029 &  0.57542537 &  1.20978523 &  2.0345940 &  0.061849665 &  0.37613259 &  0.07324575 & ... & -0.51255623 & -0.55628015 &  0.5319711064 & -0.34678153 & -0.133707192 & -0.232176010 &  0.048467945 &  0.104404411 & -0.042031804 &  0.025098508\\\\\n",
       "\t -0.3695477 &  1.026345006 & -1.000924909 &  0.04106496 & -0.14298406 &  0.86974059 & -0.1784342 & -0.071420971 & -0.06656606 & -0.49786479 & ... &  0.03079393 &  0.21816791 &  0.3956760128 &  0.31034332 & -0.026331083 & -0.429151935 & -0.155657417 & -0.822422120 &  0.011019089 & -0.097603387\\\\\n",
       "\t -3.1827353 &  0.235110211 &  0.767860139 & -0.37392505 &  0.29319864 &  0.95639732 &  0.3943271 & -0.000536207 &  1.00358797 &  0.80723293 & ... & -1.10892632 &  0.27626392 & -0.3043067477 & -0.53032696 & -0.090180640 & -0.097245973 & -0.027967531 & -0.060259131 &  0.073172484 &  0.062054839\\\\\n",
       "\t  2.0110144 &  0.772380322 & -1.401339568 & -0.63264210 & -0.82418482 & -0.08034788 & -0.8758960 &  0.178019387 & -0.29550085 & -0.52060639 & ... & -0.39043658 &  0.91127994 &  0.2443702972 &  0.15165941 & -0.085949874 & -0.106815238 & -0.195550696 &  0.042472575 &  0.018493084 &  0.006689042\\\\\n",
       "\t ... & ... & ... & ... & ... & ... & ... & ... & ... & ... &  & ... & ... & ... & ... & ... & ... & ... & ... & ... & ...\\\\\n",
       "\t  2.1948283 & -0.46064668 & -0.48443117 &  0.66570991 &  1.23578399 &  0.27586650 &  0.14932809 &  0.532819521 &  0.406266251 &  0.95704218 & ... &  0.030361643 & -0.308618032 & -0.70014319 & -0.27063356 &  0.36753620 &  0.17436731 & -0.009735040 & -0.151396653 & -0.0028566571 & -0.0414336456\\\\\n",
       "\t -0.1499418 & -0.35074569 & -1.96943532 & -0.99630278 &  0.72646374 & -0.34063405 &  0.25168293 & -0.874619118 &  0.017522360 & -0.39595857 & ... & -1.105529583 & -0.509313521 & -0.33610213 &  0.18416887 & -0.13603851 & -0.11651009 & -0.048696651 &  0.159329113 & -0.0655550183 &  0.0170369549\\\\\n",
       "\t -0.8029291 &  0.89913993 &  0.97212472 &  1.70459752 &  0.31753045 & -0.18703667 &  0.70351823 &  0.346328706 & -2.186045294 &  0.11930751 & ... &  0.007299157 &  0.200361242 &  0.21426576 &  0.04917567 &  0.18409866 &  0.11230558 &  0.045363309 &  0.019522721 & -0.0240795676 & -0.0076538849\\\\\n",
       "\t -1.7620464 &  1.74421241 & -0.76855900 &  0.51723563 &  0.37776058 &  1.63619195 &  0.20160956 & -0.215644776 &  0.334803410 & -0.70086195 & ... & -0.134016948 & -0.346627788 &  0.41176074 & -0.12688576 &  0.14198146 &  0.51034402 &  0.214393239 &  0.036478101 & -0.0223161226 & -0.0385016063\\\\\n",
       "\t -1.6955624 & -0.53467238 &  1.25935302 &  0.82916062 &  0.80393274 &  1.42978953 & -0.15530041 & -0.413597359 &  0.933598591 &  0.32649778 & ... & -0.303684096 &  0.074950476 & -0.42685494 &  0.42362454 & -0.60177466 & -0.21152936 & -0.038390115 & -0.051206622 &  0.1401043124 & -0.0661757473\\\\\n",
       "\t  4.0654124 &  0.58477368 & -1.91024234 &  1.46018984 & -0.52643828 & -1.27384751 &  0.52501813 &  1.374034232 &  0.547506623 &  1.90785912 & ... & -0.243055247 & -0.023199761 & -0.10970926 &  0.31643851 & -0.05727384 & -0.00409964 &  0.151571656 &  0.007579234 & -0.0816276091 &  0.0033178608\\\\\n",
       "\t  1.4031281 & -0.35157229 & -1.98211588 & -0.74453030 &  1.38675598 &  0.04434028 & -0.05838279 & -0.529448018 & -0.517531285 & -0.42555915 & ... &  0.590513628 & -0.266907566 & -0.16322881 &  0.19880969 & -0.17368396 & -0.28170726 &  0.005592765 & -0.035852147 & -0.0256020540 &  0.0624291375\\\\\n",
       "\t -1.9132233 &  1.00712239 & -2.01288547 & -0.32324534 & -0.20651944 &  0.68332489 & -1.23314838 & -0.149647924 & -0.712706978 & -0.82432440 & ... &  0.270989468 & -0.158276191 &  0.36848112 &  0.40164231 &  0.14888638 &  0.73268488 &  0.110760130 & -0.038634475 & -0.0037048351 & -0.0675173097\\\\\n",
       "\t  3.1572397 & -1.91999478 &  2.22845791 & -3.28333505 &  1.32496310 &  0.51432896 & -0.42562006 & -0.229698727 & -0.434420342 &  0.20715675 & ... &  0.865288590 & -0.422124481 &  1.20627031 & -0.04680064 &  0.06371735 & -0.02956605 & -0.023096900 &  0.175264054 &  0.0512243536 &  0.0088897847\\\\\n",
       "\t  1.0313295 & -4.17182567 &  0.33255401 &  0.51439611 & -1.74490156 &  1.40391770 & -0.29375657 & -0.005734858 &  0.857689366 & -0.04702380 & ... & -0.613519167 & -0.384946838 &  0.35601068 &  1.29836127 &  2.58668486 & -1.05695941 &  0.059874179 &  0.176235868 &  0.0051768812 & -0.0018053069\\\\\n",
       "\t -3.1574889 & -0.75275099 &  1.95817175 &  1.72047873 &  0.19743054 & -1.30482915 & -0.51321346 &  0.309921208 & -4.207405858 &  0.01968384 & ... & -0.861554286 & -0.006993885 & -0.39600776 &  0.05376471 &  0.00857906 & -0.31428787 &  0.058083895 & -0.031079365 & -0.0298718161 &  0.0059179091\\\\\n",
       "\t -3.2147883 &  0.55399201 & -0.82906393 & -1.69677789 & -0.82346504 &  0.06651846 & -0.29787179 & -0.153575539 &  0.226314709 &  1.10992861 & ... & -1.051793365 &  0.124709828 & -0.19451314 & -0.60809741 &  0.10815725 &  0.16664772 &  0.031173316 & -0.013644960 & -0.0205563917 & -0.0126806191\\\\\n",
       "\t  3.4506069 &  2.82925711 &  2.05045040 & -1.60220294 & -2.81243799 & -0.02696928 &  0.39565165 & -0.616285167 &  0.056049269 & -0.21169416 & ... &  0.561248768 & -0.566309569 & -0.95152154 &  0.19751329 & -0.06138870 &  0.12205548 &  0.007939606 &  0.029010476 &  0.0072913139 &  0.0102654135\\\\\n",
       "\t  1.2570206 &  3.26529822 &  0.99660236 &  1.63759584 & -0.51791084 &  1.33047219 &  1.92926263 &  0.123078219 &  0.761284271 & -0.25627138 & ... &  0.717071397 &  0.875039772 &  0.83842209 &  0.04472541 &  0.12579338 &  0.40179270 & -0.164549634 &  0.130294977 &  0.0325804710 &  0.0016182524\\\\\n",
       "\t -1.7903899 &  0.30120472 & -0.06501446 & -0.07423084 &  1.84457639 & -0.87654829 &  2.41014028 & -0.816826501 &  0.594997908 &  1.08161833 & ... &  1.694300628 & -0.462125722 &  0.08614519 &  0.49814827 & -0.26632481 & -0.25536612 &  0.112929206 & -0.141669234 & -0.0129337574 & -0.0191197809\\\\\n",
       "\t  2.6895945 & -0.26976230 & -0.72386232 & -0.54236127 &  0.81552150 &  0.30267364 &  0.04935123 & -1.294770433 &  0.083190483 & -0.71471527 & ... & -0.983850635 &  0.698369511 & -0.02359748 &  0.46711380 &  0.01215918 & -0.20999525 & -0.145801543 &  0.047965540 & -0.0725068767 & -0.0123745342\\\\\n",
       "\t -2.6705351 &  0.97967997 &  0.73767759 &  0.96951899 &  0.24267781 &  0.17099040 &  0.20698179 & -0.443030816 &  0.521912584 & -0.01087298 & ... &  0.715617283 &  0.180500570 &  0.34580464 &  0.19888399 & -0.05909628 & -0.14076990 &  0.102599804 & -0.018873734 & -0.0465523405 & -0.0283584223\\\\\n",
       "\t -1.4852334 &  0.56265055 &  1.03905064 &  0.47021093 &  1.36604150 &  0.13122764 & -0.66242090 & -0.595828299 &  1.289765780 & -1.42273830 & ... &  0.296994469 &  0.402340851 & -0.19692728 & -0.30612920 &  0.36644444 &  0.17760701 & -0.120077026 &  0.059418913 &  0.0472489605 &  0.0346573963\\\\\n",
       "\t  2.1809305 & -0.13148683 &  0.29548277 & -0.15307292 &  0.73001852 & -0.42268093 & -0.14820788 &  0.369792010 &  0.705800902 &  0.83718927 & ... &  0.279894168 &  0.346728804 & -0.13082291 &  0.22704320 &  0.39061561 &  0.29789416 &  0.247689403 & -0.376372730 & -0.0209412937 &  0.0175198992\\\\\n",
       "\t -0.3243756 &  0.72209711 &  0.88600423 & -0.27865715 & -0.37121530 &  0.41031196 & -0.16851901 & -0.687876222 &  0.381293279 &  0.54480897 & ... & -0.060342472 & -0.290062315 &  1.12461248 &  0.23584160 &  0.31261063 &  0.82369006 & -0.039017480 & -0.018219564 &  0.0005130431 &  0.0006725721\\\\\n",
       "\t  1.9322209 & -0.07911742 & -1.12671906 & -0.05612837 &  1.38067449 &  1.07953841 & -0.64668640 & -0.136776460 & -0.226515452 & -0.29390863 & ... &  0.343413454 &  0.373814625 & -0.54668932 & -0.22706612 &  0.18866324 & -0.10143912 &  0.152760927 & -0.171238547 & -0.0172072862 &  0.0930604639\\\\\n",
       "\t -4.0478324 &  0.46191617 & -0.11973889 & -1.14371770 & -1.38984437 & -0.17419685 & -0.84356768 & -0.457567222 & -0.009837082 &  1.32301233 & ... & -0.350816979 &  0.230350121 & -0.51084751 & -0.07239036 &  0.10306958 &  0.20242701 &  0.018593159 & -0.020657069 & -0.0321990352 & -0.0211209605\\\\\n",
       "\t -1.6504666 & -0.71033431 &  1.52572840 &  1.25127547 &  0.61827513 &  0.46174316 & -0.32664593 &  0.097469536 &  1.143407239 & -0.11628651 & ... & -0.605293972 & -0.660086188 &  0.11636023 &  0.23976845 & -0.62828061 &  0.07459029 & -0.228668450 &  0.088559880 &  0.2129710173 &  0.2238443793\\\\\n",
       "\t  2.9873743 &  1.16945665 & -1.44004361 & -0.45996039 & -0.82198938 & -0.37484611 & -0.68328345 &  0.890721775 & -0.253672511 & -0.18871235 & ... &  0.321641829 &  0.885041713 & -0.28775208 &  0.01024010 & -0.08039984 & -0.14845945 & -0.246203433 &  0.091004255 &  0.0687770111 &  0.0032051620\\\\\n",
       "\t -0.6122931 & -2.77278039 & -1.20899601 &  1.62211233 & -2.89181866 & -0.23054611 &  1.27124670 & -1.640734328 &  0.452100831 & -0.72140566 & ... & -0.036809247 &  0.554044953 &  0.18176126 & -0.77280441 & -0.21750433 & -0.06418155 &  0.160519601 & -0.005868833 &  0.2341480129 &  0.0057696065\\\\\n",
       "\t -1.7342931 & -0.23668158 &  0.65778660 &  0.85461300 & -0.38838497 &  0.18545352 & -1.33439192 & -0.477459586 &  0.134984899 &  0.40387927 & ... &  0.886795739 &  0.264549656 &  0.60175755 &  0.78234606 & -0.36606596 &  0.26616006 & -0.173982157 &  0.100634353 &  0.0607623715 &  0.1344266315\\\\\n",
       "\t  1.7263813 & -4.38182923 &  1.66208147 &  0.17012178 &  0.05215802 &  1.89130670 &  0.34187862 &  0.991322420 &  1.277440292 & -0.58188850 & ... & -0.359004714 &  0.026637377 & -0.55800885 &  0.13879297 & -0.84559932 &  0.70371467 & -0.421403845 & -0.051683573 & -0.6101168670 & -0.0151808809\\\\\n",
       "\t -1.7700428 & -0.67513350 &  0.64185294 & -0.46566852 &  0.43626364 & -2.37374953 & -1.98298403 &  1.335057525 &  1.168014097 & -1.76297779 & ... & -0.768375660 & -1.020183713 &  0.34362960 & -0.12234946 & -0.01593005 &  0.56295066 & -0.206003165 & -0.505245631 &  0.1996864521 &  0.0688465369\\\\\n",
       "\t  1.5296628 & -0.16939329 & -1.23999835 &  0.34484146 &  0.81982330 &  0.48052662 & -0.22974055 & -0.128265633 &  0.129243198 &  0.35797544 & ... & -0.324866500 & -0.254646301 & -0.45695302 & -0.13778983 & -0.03290740 & -0.33418929 & -0.064467452 & -0.029548549 &  0.0007216059 & -0.0126177415\\\\\n",
       "\t  1.3842749 &  0.25334576 & -1.51124736 &  0.14385209 &  0.07649363 & -0.09974536 & -0.34986973 & -0.227275916 &  0.012442323 & -0.14007442 & ... & -0.517494986 &  0.429644246 & -0.39211118 &  0.27156447 & -0.13062752 & -0.30034712 & -0.047622185 &  0.095998405 & -0.0484035741 &  0.0325680344\\\\\n",
       "\\end{tabular}\n"
      ],
      "text/markdown": [
       "\n",
       "A matrix: 78 × 22 of type dbl\n",
       "\n",
       "| Comp.1 | Comp.2 | Comp.3 | Comp.4 | Comp.5 | Comp.6 | Comp.7 | Comp.8 | Comp.9 | Comp.10 | ... | Comp.13 | Comp.14 | Comp.15 | Comp.16 | Comp.17 | Comp.18 | Comp.19 | Comp.20 | Comp.21 | Comp.22 |\n",
       "|---|---|---|---|---|---|---|---|---|---|---|---|---|---|---|---|---|---|---|---|---|\n",
       "|  1.4267305 | -0.427672110 | -0.495034608 | -1.09882686 |  1.68909918 | -1.99223923 |  1.7370609 | -1.257469210 | -1.58191505 | -0.25893829 | ... |  0.42738106 | -0.77303538 |  0.5209875058 |  0.84051414 | -0.030500665 |  0.389797932 | -0.142486034 |  0.108249102 | -0.015936613 |  0.059673587 |\n",
       "| -3.5088718 |  0.281825887 |  0.360488977 |  0.18354132 | -0.28098199 | -2.69127058 | -1.9250677 | -0.111949218 |  1.64296460 | -1.28497647 | ... | -0.07150078 | -0.95942893 |  0.7486569758 | -1.08138312 | -0.339091311 | -0.769539087 |  0.012326940 |  0.368079660 | -0.102774021 | -0.087308692 |\n",
       "|  1.7952348 | -0.777975232 |  1.349849957 | -1.02782045 |  2.81636002 | -3.45659405 |  0.6256211 | -0.490166454 | -0.38576057 | -1.86921290 | ... |  1.00569421 |  0.41132085 | -0.2607123137 | -0.12047886 |  0.198515540 | -0.309529189 | -0.012813120 | -0.058666457 | -0.012408917 | -0.099896768 |\n",
       "| -4.4017036 |  0.114596246 |  0.361233065 |  0.93578553 | -0.92271609 | -0.07041174 | -1.5281745 | -0.924730657 |  0.06439318 |  0.63747045 | ... |  1.11279447 |  0.15261669 |  0.1414629011 |  0.71982499 | -0.217540517 | -0.260316451 |  0.023726760 |  0.018350364 | -0.072568470 | -0.034146310 |\n",
       "| -2.0508988 |  0.505375745 |  1.099512379 |  0.47447107 |  0.59326861 | -1.76685274 | -0.7870105 | -0.502659144 |  0.50478829 | -1.94916149 | ... | -0.06511625 | -0.64043671 | -0.5056031965 | -0.32521911 |  0.054374250 | -0.258186010 | -0.006299988 |  0.149501060 | -0.032281175 | -0.016457009 |\n",
       "| -2.0437455 |  1.258782018 | -3.202158724 | -0.41458686 |  0.23433923 |  1.70268475 | -1.6404682 |  0.085047522 | -1.11494314 | -1.64887299 | ... | -0.05339075 | -0.60094710 |  0.3058909114 |  0.13183009 |  0.216469905 |  1.069193142 |  0.293682832 |  0.117493336 | -0.005178543 | -0.062886518 |\n",
       "|  1.6269557 |  0.007620627 | -1.288206642 |  0.43572244 |  0.72578696 |  0.30895687 | -0.5468868 |  0.635250288 | -0.41509784 |  0.66198355 | ... |  0.35907402 | -0.41536367 | -0.3131049104 | -0.22152592 |  0.178743121 |  0.043046343 | -0.094165929 | -0.237080001 |  0.062052263 |  0.017438821 |\n",
       "| -2.7304022 |  0.697779447 |  1.544418465 |  1.62573738 |  1.67535249 |  0.99751229 |  1.0155379 | -0.217329792 |  1.06840960 | -0.20800285 | ... | -0.55240834 | -0.23759644 | -0.8445601494 | -0.56250885 |  0.202659700 | -0.355349377 |  0.101203988 | -0.044837812 |  0.030276874 | -0.057458560 |\n",
       "| -0.6394664 | -3.661774631 |  1.167937633 |  2.04177473 | -2.14637789 | -0.16696720 |  0.2071313 | -0.213727756 | -2.42373008 | -0.13860833 | ... |  0.15341873 |  0.48725515 | -0.1545119162 | -0.98250713 | -0.334655855 |  0.053830475 |  0.008181981 | -0.066090753 | -0.055309582 |  0.039400137 |\n",
       "|  3.1690100 |  1.894272646 | -1.945531667 |  1.04653349 | -1.22130724 | -0.86693715 |  0.1059415 |  1.803630766 | -0.34750690 |  0.34354129 | ... | -0.03562086 |  1.10215260 | -0.0001633723 |  0.09291906 | -0.111973870 | -0.152618637 | -0.705840386 |  0.217364102 |  0.155370773 | -0.093167051 |\n",
       "|  3.6015049 |  3.394536540 |  2.223635441 | -1.96636471 | -4.05625348 | -0.16686618 |  0.1677276 | -0.989147870 | -0.23524029 | -0.33859500 | ... |  0.63332935 | -1.64972989 | -2.4406856998 |  0.22306249 | -0.204025640 | -0.093933595 | -0.029132137 |  0.003984304 |  0.017255297 | -0.008864295 |\n",
       "|  0.1843790 | -3.704816244 | -0.957653901 | -1.49146592 | -1.40544717 |  1.37829261 |  1.3965914 |  2.601523081 |  0.15993741 | -1.84862130 | ... |  1.73696081 |  0.01714342 | -0.1875106990 | -0.75618737 |  0.129766667 |  0.265708258 |  0.075412322 |  0.024434983 |  0.133334290 |  0.003331458 |\n",
       "|  1.1936255 |  0.608909273 | -0.832102788 | -0.42258093 | -0.01073008 |  0.65963922 | -0.5232988 | -0.140772114 | -0.37988836 | -0.03002034 | ... |  0.21625221 | -0.21577665 | -0.0217284179 | -0.24879226 | -0.121433079 | -0.285632930 | -0.077163737 | -0.022727037 |  0.022946289 | -0.054003550 |\n",
       "|  4.1898678 | -2.902541662 |  1.829595055 |  0.12739476 |  1.24854658 |  1.34534561 | -1.2053527 |  0.401558723 | -0.16418647 |  0.64954512 | ... | -0.95135062 |  0.49686287 | -0.2535549463 |  1.08333123 | -1.763640763 |  0.048391958 |  0.458398348 |  0.173968985 |  0.270013938 | -0.131722548 |\n",
       "|  4.0656582 | -0.686165235 | -1.691575952 |  0.33260556 |  0.95509334 | -0.28780426 | -0.7106235 |  1.051701756 |  0.02648893 |  1.47945836 | ... |  0.66466114 | -0.10128031 | -0.7819695973 | -0.49808629 |  0.157440471 |  0.005291422 |  0.324665317 |  0.031955035 | -0.019906049 |  0.040043374 |\n",
       "| -3.7967910 | -0.535662966 |  0.444855411 |  0.21035328 | -0.25009138 | -0.33766027 | -1.4297869 | -0.627755135 | -0.87008042 |  0.66650547 | ... |  1.01314589 |  0.66590004 | -0.2299302082 |  0.71676378 |  0.083951815 |  0.036522662 | -0.082304862 | -0.030034752 | -0.022960204 |  0.057203046 |\n",
       "| -1.5228205 |  0.820274196 |  1.888542181 |  1.18378978 |  0.06812798 | -0.87306122 |  2.0430943 |  2.100341143 | -2.15136132 | -1.19438610 | ... | -0.86395971 | -0.84360252 |  0.2440612305 |  0.27840926 |  0.176793986 |  0.075244868 |  0.039628960 | -0.016821937 | -0.008898974 | -0.021377708 |\n",
       "|  1.7965978 |  1.318080515 |  1.580014835 |  0.73399976 |  0.10900834 | -0.13185488 |  0.9887712 |  0.936589264 | -1.42680992 | -0.25063621 | ... | -0.85504361 |  0.80939464 |  0.0866938836 | -0.20619080 |  0.460480585 |  0.401022242 |  0.024669894 | -0.014341046 |  0.027329057 |  0.026235026 |\n",
       "|  5.1283636 |  0.125637346 |  2.770868494 | -2.47734675 | -1.24881066 |  0.22399493 | -1.1996267 | -0.785706539 | -0.45022952 |  0.66254094 | ... | -0.64583506 | -0.24963929 |  1.2471036310 | -0.70043806 |  0.036992474 | -0.081805413 |  0.373419905 | -0.023456477 | -0.070295780 |  0.035487703 |\n",
       "|  0.7917524 |  0.343836764 | -0.593922383 |  1.03321579 |  0.59982280 |  0.17582815 |  0.8405879 | -0.316391906 |  0.05069582 |  0.32850036 | ... | -0.87227807 | -0.34390843 | -0.1070722386 |  0.11890420 | -0.068382520 | -0.231978187 | -0.038251691 |  0.078080471 | -0.045996579 |  0.020531315 |\n",
       "| -4.3847843 | -0.068247808 | -0.976423170 | -4.37567277 |  1.10854893 | -2.19664824 |  2.6554281 | -0.432391073 | -0.15125398 |  1.84243913 | ... |  0.19070187 |  1.14354928 |  0.3422343323 | -0.65400136 | -0.138469377 | -0.042241927 |  0.012866995 |  0.099066834 | -0.015403202 |  0.023345317 |\n",
       "| -4.2189332 |  0.013635105 |  0.259690730 |  0.89486782 | -1.01408507 | -0.44537686 | -1.6201237 | -0.787178149 | -0.53358685 |  0.70350607 | ... |  1.08299966 |  0.25759159 |  0.3457152404 |  0.73492908 | -0.214516470 | -0.230052147 | -0.014056048 |  0.047680729 | -0.082162104 | -0.023793222 |\n",
       "|  3.3253027 |  0.674483818 |  0.004314938 |  1.42982928 | -0.87019428 | -4.54239143 | -1.3289503 |  2.131407517 |  2.28029616 | -0.40688499 | ... | -0.32533064 |  1.20738814 |  0.2393962622 |  0.42957141 | -0.003708653 |  0.250591742 |  0.349283398 |  0.044841634 | -0.094551901 |  0.023325827 |\n",
       "|  1.1892292 |  0.212452602 |  0.954448930 |  0.39276399 |  1.44762342 |  0.57590789 | -0.2628222 | -0.216246915 |  0.49446522 | -0.28204442 | ... |  0.21118759 |  0.95174083 | -0.7105265307 | -0.28814014 |  0.374719454 |  0.024423732 |  0.261200802 |  0.011135034 | -0.029046491 |  0.020032683 |\n",
       "|  3.6601715 |  1.041055146 |  1.470200035 | -1.22144371 | -0.66954545 |  0.23725007 | -0.3329512 | -0.316762254 |  0.11214690 | -0.07792632 | ... | -0.24622256 |  0.68469240 |  0.3776534115 | -0.18927160 |  0.151347540 |  0.102531438 |  0.038018258 |  0.053381709 |  0.006661206 |  0.010774453 |\n",
       "| -1.3749480 |  1.689254244 |  1.139940662 |  1.28505634 |  0.09265137 |  0.82436079 |  1.1721693 | -0.068712189 |  0.73729338 | -0.14316288 | ... | -0.04305401 |  0.58652590 | -0.4047934571 |  0.06688119 |  0.080834771 | -0.151831872 |  0.028736787 | -0.022594883 | -0.004101433 |  0.005128433 |\n",
       "| -0.3225799 |  1.901362792 |  0.162343919 |  1.98035029 |  0.57542537 |  1.20978523 |  2.0345940 |  0.061849665 |  0.37613259 |  0.07324575 | ... | -0.51255623 | -0.55628015 |  0.5319711064 | -0.34678153 | -0.133707192 | -0.232176010 |  0.048467945 |  0.104404411 | -0.042031804 |  0.025098508 |\n",
       "| -0.3695477 |  1.026345006 | -1.000924909 |  0.04106496 | -0.14298406 |  0.86974059 | -0.1784342 | -0.071420971 | -0.06656606 | -0.49786479 | ... |  0.03079393 |  0.21816791 |  0.3956760128 |  0.31034332 | -0.026331083 | -0.429151935 | -0.155657417 | -0.822422120 |  0.011019089 | -0.097603387 |\n",
       "| -3.1827353 |  0.235110211 |  0.767860139 | -0.37392505 |  0.29319864 |  0.95639732 |  0.3943271 | -0.000536207 |  1.00358797 |  0.80723293 | ... | -1.10892632 |  0.27626392 | -0.3043067477 | -0.53032696 | -0.090180640 | -0.097245973 | -0.027967531 | -0.060259131 |  0.073172484 |  0.062054839 |\n",
       "|  2.0110144 |  0.772380322 | -1.401339568 | -0.63264210 | -0.82418482 | -0.08034788 | -0.8758960 |  0.178019387 | -0.29550085 | -0.52060639 | ... | -0.39043658 |  0.91127994 |  0.2443702972 |  0.15165941 | -0.085949874 | -0.106815238 | -0.195550696 |  0.042472575 |  0.018493084 |  0.006689042 |\n",
       "| ... | ... | ... | ... | ... | ... | ... | ... | ... | ... | <!----> | ... | ... | ... | ... | ... | ... | ... | ... | ... | ... |\n",
       "|  2.1948283 | -0.46064668 | -0.48443117 |  0.66570991 |  1.23578399 |  0.27586650 |  0.14932809 |  0.532819521 |  0.406266251 |  0.95704218 | ... |  0.030361643 | -0.308618032 | -0.70014319 | -0.27063356 |  0.36753620 |  0.17436731 | -0.009735040 | -0.151396653 | -0.0028566571 | -0.0414336456 |\n",
       "| -0.1499418 | -0.35074569 | -1.96943532 | -0.99630278 |  0.72646374 | -0.34063405 |  0.25168293 | -0.874619118 |  0.017522360 | -0.39595857 | ... | -1.105529583 | -0.509313521 | -0.33610213 |  0.18416887 | -0.13603851 | -0.11651009 | -0.048696651 |  0.159329113 | -0.0655550183 |  0.0170369549 |\n",
       "| -0.8029291 |  0.89913993 |  0.97212472 |  1.70459752 |  0.31753045 | -0.18703667 |  0.70351823 |  0.346328706 | -2.186045294 |  0.11930751 | ... |  0.007299157 |  0.200361242 |  0.21426576 |  0.04917567 |  0.18409866 |  0.11230558 |  0.045363309 |  0.019522721 | -0.0240795676 | -0.0076538849 |\n",
       "| -1.7620464 |  1.74421241 | -0.76855900 |  0.51723563 |  0.37776058 |  1.63619195 |  0.20160956 | -0.215644776 |  0.334803410 | -0.70086195 | ... | -0.134016948 | -0.346627788 |  0.41176074 | -0.12688576 |  0.14198146 |  0.51034402 |  0.214393239 |  0.036478101 | -0.0223161226 | -0.0385016063 |\n",
       "| -1.6955624 | -0.53467238 |  1.25935302 |  0.82916062 |  0.80393274 |  1.42978953 | -0.15530041 | -0.413597359 |  0.933598591 |  0.32649778 | ... | -0.303684096 |  0.074950476 | -0.42685494 |  0.42362454 | -0.60177466 | -0.21152936 | -0.038390115 | -0.051206622 |  0.1401043124 | -0.0661757473 |\n",
       "|  4.0654124 |  0.58477368 | -1.91024234 |  1.46018984 | -0.52643828 | -1.27384751 |  0.52501813 |  1.374034232 |  0.547506623 |  1.90785912 | ... | -0.243055247 | -0.023199761 | -0.10970926 |  0.31643851 | -0.05727384 | -0.00409964 |  0.151571656 |  0.007579234 | -0.0816276091 |  0.0033178608 |\n",
       "|  1.4031281 | -0.35157229 | -1.98211588 | -0.74453030 |  1.38675598 |  0.04434028 | -0.05838279 | -0.529448018 | -0.517531285 | -0.42555915 | ... |  0.590513628 | -0.266907566 | -0.16322881 |  0.19880969 | -0.17368396 | -0.28170726 |  0.005592765 | -0.035852147 | -0.0256020540 |  0.0624291375 |\n",
       "| -1.9132233 |  1.00712239 | -2.01288547 | -0.32324534 | -0.20651944 |  0.68332489 | -1.23314838 | -0.149647924 | -0.712706978 | -0.82432440 | ... |  0.270989468 | -0.158276191 |  0.36848112 |  0.40164231 |  0.14888638 |  0.73268488 |  0.110760130 | -0.038634475 | -0.0037048351 | -0.0675173097 |\n",
       "|  3.1572397 | -1.91999478 |  2.22845791 | -3.28333505 |  1.32496310 |  0.51432896 | -0.42562006 | -0.229698727 | -0.434420342 |  0.20715675 | ... |  0.865288590 | -0.422124481 |  1.20627031 | -0.04680064 |  0.06371735 | -0.02956605 | -0.023096900 |  0.175264054 |  0.0512243536 |  0.0088897847 |\n",
       "|  1.0313295 | -4.17182567 |  0.33255401 |  0.51439611 | -1.74490156 |  1.40391770 | -0.29375657 | -0.005734858 |  0.857689366 | -0.04702380 | ... | -0.613519167 | -0.384946838 |  0.35601068 |  1.29836127 |  2.58668486 | -1.05695941 |  0.059874179 |  0.176235868 |  0.0051768812 | -0.0018053069 |\n",
       "| -3.1574889 | -0.75275099 |  1.95817175 |  1.72047873 |  0.19743054 | -1.30482915 | -0.51321346 |  0.309921208 | -4.207405858 |  0.01968384 | ... | -0.861554286 | -0.006993885 | -0.39600776 |  0.05376471 |  0.00857906 | -0.31428787 |  0.058083895 | -0.031079365 | -0.0298718161 |  0.0059179091 |\n",
       "| -3.2147883 |  0.55399201 | -0.82906393 | -1.69677789 | -0.82346504 |  0.06651846 | -0.29787179 | -0.153575539 |  0.226314709 |  1.10992861 | ... | -1.051793365 |  0.124709828 | -0.19451314 | -0.60809741 |  0.10815725 |  0.16664772 |  0.031173316 | -0.013644960 | -0.0205563917 | -0.0126806191 |\n",
       "|  3.4506069 |  2.82925711 |  2.05045040 | -1.60220294 | -2.81243799 | -0.02696928 |  0.39565165 | -0.616285167 |  0.056049269 | -0.21169416 | ... |  0.561248768 | -0.566309569 | -0.95152154 |  0.19751329 | -0.06138870 |  0.12205548 |  0.007939606 |  0.029010476 |  0.0072913139 |  0.0102654135 |\n",
       "|  1.2570206 |  3.26529822 |  0.99660236 |  1.63759584 | -0.51791084 |  1.33047219 |  1.92926263 |  0.123078219 |  0.761284271 | -0.25627138 | ... |  0.717071397 |  0.875039772 |  0.83842209 |  0.04472541 |  0.12579338 |  0.40179270 | -0.164549634 |  0.130294977 |  0.0325804710 |  0.0016182524 |\n",
       "| -1.7903899 |  0.30120472 | -0.06501446 | -0.07423084 |  1.84457639 | -0.87654829 |  2.41014028 | -0.816826501 |  0.594997908 |  1.08161833 | ... |  1.694300628 | -0.462125722 |  0.08614519 |  0.49814827 | -0.26632481 | -0.25536612 |  0.112929206 | -0.141669234 | -0.0129337574 | -0.0191197809 |\n",
       "|  2.6895945 | -0.26976230 | -0.72386232 | -0.54236127 |  0.81552150 |  0.30267364 |  0.04935123 | -1.294770433 |  0.083190483 | -0.71471527 | ... | -0.983850635 |  0.698369511 | -0.02359748 |  0.46711380 |  0.01215918 | -0.20999525 | -0.145801543 |  0.047965540 | -0.0725068767 | -0.0123745342 |\n",
       "| -2.6705351 |  0.97967997 |  0.73767759 |  0.96951899 |  0.24267781 |  0.17099040 |  0.20698179 | -0.443030816 |  0.521912584 | -0.01087298 | ... |  0.715617283 |  0.180500570 |  0.34580464 |  0.19888399 | -0.05909628 | -0.14076990 |  0.102599804 | -0.018873734 | -0.0465523405 | -0.0283584223 |\n",
       "| -1.4852334 |  0.56265055 |  1.03905064 |  0.47021093 |  1.36604150 |  0.13122764 | -0.66242090 | -0.595828299 |  1.289765780 | -1.42273830 | ... |  0.296994469 |  0.402340851 | -0.19692728 | -0.30612920 |  0.36644444 |  0.17760701 | -0.120077026 |  0.059418913 |  0.0472489605 |  0.0346573963 |\n",
       "|  2.1809305 | -0.13148683 |  0.29548277 | -0.15307292 |  0.73001852 | -0.42268093 | -0.14820788 |  0.369792010 |  0.705800902 |  0.83718927 | ... |  0.279894168 |  0.346728804 | -0.13082291 |  0.22704320 |  0.39061561 |  0.29789416 |  0.247689403 | -0.376372730 | -0.0209412937 |  0.0175198992 |\n",
       "| -0.3243756 |  0.72209711 |  0.88600423 | -0.27865715 | -0.37121530 |  0.41031196 | -0.16851901 | -0.687876222 |  0.381293279 |  0.54480897 | ... | -0.060342472 | -0.290062315 |  1.12461248 |  0.23584160 |  0.31261063 |  0.82369006 | -0.039017480 | -0.018219564 |  0.0005130431 |  0.0006725721 |\n",
       "|  1.9322209 | -0.07911742 | -1.12671906 | -0.05612837 |  1.38067449 |  1.07953841 | -0.64668640 | -0.136776460 | -0.226515452 | -0.29390863 | ... |  0.343413454 |  0.373814625 | -0.54668932 | -0.22706612 |  0.18866324 | -0.10143912 |  0.152760927 | -0.171238547 | -0.0172072862 |  0.0930604639 |\n",
       "| -4.0478324 |  0.46191617 | -0.11973889 | -1.14371770 | -1.38984437 | -0.17419685 | -0.84356768 | -0.457567222 | -0.009837082 |  1.32301233 | ... | -0.350816979 |  0.230350121 | -0.51084751 | -0.07239036 |  0.10306958 |  0.20242701 |  0.018593159 | -0.020657069 | -0.0321990352 | -0.0211209605 |\n",
       "| -1.6504666 | -0.71033431 |  1.52572840 |  1.25127547 |  0.61827513 |  0.46174316 | -0.32664593 |  0.097469536 |  1.143407239 | -0.11628651 | ... | -0.605293972 | -0.660086188 |  0.11636023 |  0.23976845 | -0.62828061 |  0.07459029 | -0.228668450 |  0.088559880 |  0.2129710173 |  0.2238443793 |\n",
       "|  2.9873743 |  1.16945665 | -1.44004361 | -0.45996039 | -0.82198938 | -0.37484611 | -0.68328345 |  0.890721775 | -0.253672511 | -0.18871235 | ... |  0.321641829 |  0.885041713 | -0.28775208 |  0.01024010 | -0.08039984 | -0.14845945 | -0.246203433 |  0.091004255 |  0.0687770111 |  0.0032051620 |\n",
       "| -0.6122931 | -2.77278039 | -1.20899601 |  1.62211233 | -2.89181866 | -0.23054611 |  1.27124670 | -1.640734328 |  0.452100831 | -0.72140566 | ... | -0.036809247 |  0.554044953 |  0.18176126 | -0.77280441 | -0.21750433 | -0.06418155 |  0.160519601 | -0.005868833 |  0.2341480129 |  0.0057696065 |\n",
       "| -1.7342931 | -0.23668158 |  0.65778660 |  0.85461300 | -0.38838497 |  0.18545352 | -1.33439192 | -0.477459586 |  0.134984899 |  0.40387927 | ... |  0.886795739 |  0.264549656 |  0.60175755 |  0.78234606 | -0.36606596 |  0.26616006 | -0.173982157 |  0.100634353 |  0.0607623715 |  0.1344266315 |\n",
       "|  1.7263813 | -4.38182923 |  1.66208147 |  0.17012178 |  0.05215802 |  1.89130670 |  0.34187862 |  0.991322420 |  1.277440292 | -0.58188850 | ... | -0.359004714 |  0.026637377 | -0.55800885 |  0.13879297 | -0.84559932 |  0.70371467 | -0.421403845 | -0.051683573 | -0.6101168670 | -0.0151808809 |\n",
       "| -1.7700428 | -0.67513350 |  0.64185294 | -0.46566852 |  0.43626364 | -2.37374953 | -1.98298403 |  1.335057525 |  1.168014097 | -1.76297779 | ... | -0.768375660 | -1.020183713 |  0.34362960 | -0.12234946 | -0.01593005 |  0.56295066 | -0.206003165 | -0.505245631 |  0.1996864521 |  0.0688465369 |\n",
       "|  1.5296628 | -0.16939329 | -1.23999835 |  0.34484146 |  0.81982330 |  0.48052662 | -0.22974055 | -0.128265633 |  0.129243198 |  0.35797544 | ... | -0.324866500 | -0.254646301 | -0.45695302 | -0.13778983 | -0.03290740 | -0.33418929 | -0.064467452 | -0.029548549 |  0.0007216059 | -0.0126177415 |\n",
       "|  1.3842749 |  0.25334576 | -1.51124736 |  0.14385209 |  0.07649363 | -0.09974536 | -0.34986973 | -0.227275916 |  0.012442323 | -0.14007442 | ... | -0.517494986 |  0.429644246 | -0.39211118 |  0.27156447 | -0.13062752 | -0.30034712 | -0.047622185 |  0.095998405 | -0.0484035741 |  0.0325680344 |\n",
       "\n"
      ],
      "text/plain": [
       "      Comp.1     Comp.2       Comp.3       Comp.4      Comp.5      Comp.6     \n",
       " [1,]  1.4267305 -0.427672110 -0.495034608 -1.09882686  1.68909918 -1.99223923\n",
       " [2,] -3.5088718  0.281825887  0.360488977  0.18354132 -0.28098199 -2.69127058\n",
       " [3,]  1.7952348 -0.777975232  1.349849957 -1.02782045  2.81636002 -3.45659405\n",
       " [4,] -4.4017036  0.114596246  0.361233065  0.93578553 -0.92271609 -0.07041174\n",
       " [5,] -2.0508988  0.505375745  1.099512379  0.47447107  0.59326861 -1.76685274\n",
       " [6,] -2.0437455  1.258782018 -3.202158724 -0.41458686  0.23433923  1.70268475\n",
       " [7,]  1.6269557  0.007620627 -1.288206642  0.43572244  0.72578696  0.30895687\n",
       " [8,] -2.7304022  0.697779447  1.544418465  1.62573738  1.67535249  0.99751229\n",
       " [9,] -0.6394664 -3.661774631  1.167937633  2.04177473 -2.14637789 -0.16696720\n",
       "[10,]  3.1690100  1.894272646 -1.945531667  1.04653349 -1.22130724 -0.86693715\n",
       "[11,]  3.6015049  3.394536540  2.223635441 -1.96636471 -4.05625348 -0.16686618\n",
       "[12,]  0.1843790 -3.704816244 -0.957653901 -1.49146592 -1.40544717  1.37829261\n",
       "[13,]  1.1936255  0.608909273 -0.832102788 -0.42258093 -0.01073008  0.65963922\n",
       "[14,]  4.1898678 -2.902541662  1.829595055  0.12739476  1.24854658  1.34534561\n",
       "[15,]  4.0656582 -0.686165235 -1.691575952  0.33260556  0.95509334 -0.28780426\n",
       "[16,] -3.7967910 -0.535662966  0.444855411  0.21035328 -0.25009138 -0.33766027\n",
       "[17,] -1.5228205  0.820274196  1.888542181  1.18378978  0.06812798 -0.87306122\n",
       "[18,]  1.7965978  1.318080515  1.580014835  0.73399976  0.10900834 -0.13185488\n",
       "[19,]  5.1283636  0.125637346  2.770868494 -2.47734675 -1.24881066  0.22399493\n",
       "[20,]  0.7917524  0.343836764 -0.593922383  1.03321579  0.59982280  0.17582815\n",
       "[21,] -4.3847843 -0.068247808 -0.976423170 -4.37567277  1.10854893 -2.19664824\n",
       "[22,] -4.2189332  0.013635105  0.259690730  0.89486782 -1.01408507 -0.44537686\n",
       "[23,]  3.3253027  0.674483818  0.004314938  1.42982928 -0.87019428 -4.54239143\n",
       "[24,]  1.1892292  0.212452602  0.954448930  0.39276399  1.44762342  0.57590789\n",
       "[25,]  3.6601715  1.041055146  1.470200035 -1.22144371 -0.66954545  0.23725007\n",
       "[26,] -1.3749480  1.689254244  1.139940662  1.28505634  0.09265137  0.82436079\n",
       "[27,] -0.3225799  1.901362792  0.162343919  1.98035029  0.57542537  1.20978523\n",
       "[28,] -0.3695477  1.026345006 -1.000924909  0.04106496 -0.14298406  0.86974059\n",
       "[29,] -3.1827353  0.235110211  0.767860139 -0.37392505  0.29319864  0.95639732\n",
       "[30,]  2.0110144  0.772380322 -1.401339568 -0.63264210 -0.82418482 -0.08034788\n",
       "[31,] ...        ...          ...          ...         ...         ...        \n",
       "[32,]  2.1948283 -0.46064668  -0.48443117   0.66570991  1.23578399  0.27586650\n",
       "[33,] -0.1499418 -0.35074569  -1.96943532  -0.99630278  0.72646374 -0.34063405\n",
       "[34,] -0.8029291  0.89913993   0.97212472   1.70459752  0.31753045 -0.18703667\n",
       "[35,] -1.7620464  1.74421241  -0.76855900   0.51723563  0.37776058  1.63619195\n",
       "[36,] -1.6955624 -0.53467238   1.25935302   0.82916062  0.80393274  1.42978953\n",
       "[37,]  4.0654124  0.58477368  -1.91024234   1.46018984 -0.52643828 -1.27384751\n",
       "[38,]  1.4031281 -0.35157229  -1.98211588  -0.74453030  1.38675598  0.04434028\n",
       "[39,] -1.9132233  1.00712239  -2.01288547  -0.32324534 -0.20651944  0.68332489\n",
       "[40,]  3.1572397 -1.91999478   2.22845791  -3.28333505  1.32496310  0.51432896\n",
       "[41,]  1.0313295 -4.17182567   0.33255401   0.51439611 -1.74490156  1.40391770\n",
       "[42,] -3.1574889 -0.75275099   1.95817175   1.72047873  0.19743054 -1.30482915\n",
       "[43,] -3.2147883  0.55399201  -0.82906393  -1.69677789 -0.82346504  0.06651846\n",
       "[44,]  3.4506069  2.82925711   2.05045040  -1.60220294 -2.81243799 -0.02696928\n",
       "[45,]  1.2570206  3.26529822   0.99660236   1.63759584 -0.51791084  1.33047219\n",
       "[46,] -1.7903899  0.30120472  -0.06501446  -0.07423084  1.84457639 -0.87654829\n",
       "[47,]  2.6895945 -0.26976230  -0.72386232  -0.54236127  0.81552150  0.30267364\n",
       "[48,] -2.6705351  0.97967997   0.73767759   0.96951899  0.24267781  0.17099040\n",
       "[49,] -1.4852334  0.56265055   1.03905064   0.47021093  1.36604150  0.13122764\n",
       "[50,]  2.1809305 -0.13148683   0.29548277  -0.15307292  0.73001852 -0.42268093\n",
       "[51,] -0.3243756  0.72209711   0.88600423  -0.27865715 -0.37121530  0.41031196\n",
       "[52,]  1.9322209 -0.07911742  -1.12671906  -0.05612837  1.38067449  1.07953841\n",
       "[53,] -4.0478324  0.46191617  -0.11973889  -1.14371770 -1.38984437 -0.17419685\n",
       "[54,] -1.6504666 -0.71033431   1.52572840   1.25127547  0.61827513  0.46174316\n",
       "[55,]  2.9873743  1.16945665  -1.44004361  -0.45996039 -0.82198938 -0.37484611\n",
       "[56,] -0.6122931 -2.77278039  -1.20899601   1.62211233 -2.89181866 -0.23054611\n",
       "[57,] -1.7342931 -0.23668158   0.65778660   0.85461300 -0.38838497  0.18545352\n",
       "[58,]  1.7263813 -4.38182923   1.66208147   0.17012178  0.05215802  1.89130670\n",
       "[59,] -1.7700428 -0.67513350   0.64185294  -0.46566852  0.43626364 -2.37374953\n",
       "[60,]  1.5296628 -0.16939329  -1.23999835   0.34484146  0.81982330  0.48052662\n",
       "[61,]  1.3842749  0.25334576  -1.51124736   0.14385209  0.07649363 -0.09974536\n",
       "      Comp.7      Comp.8       Comp.9       Comp.10     ... Comp.13     \n",
       " [1,]  1.7370609  -1.257469210 -1.58191505  -0.25893829 ...  0.42738106 \n",
       " [2,] -1.9250677  -0.111949218  1.64296460  -1.28497647 ... -0.07150078 \n",
       " [3,]  0.6256211  -0.490166454 -0.38576057  -1.86921290 ...  1.00569421 \n",
       " [4,] -1.5281745  -0.924730657  0.06439318   0.63747045 ...  1.11279447 \n",
       " [5,] -0.7870105  -0.502659144  0.50478829  -1.94916149 ... -0.06511625 \n",
       " [6,] -1.6404682   0.085047522 -1.11494314  -1.64887299 ... -0.05339075 \n",
       " [7,] -0.5468868   0.635250288 -0.41509784   0.66198355 ...  0.35907402 \n",
       " [8,]  1.0155379  -0.217329792  1.06840960  -0.20800285 ... -0.55240834 \n",
       " [9,]  0.2071313  -0.213727756 -2.42373008  -0.13860833 ...  0.15341873 \n",
       "[10,]  0.1059415   1.803630766 -0.34750690   0.34354129 ... -0.03562086 \n",
       "[11,]  0.1677276  -0.989147870 -0.23524029  -0.33859500 ...  0.63332935 \n",
       "[12,]  1.3965914   2.601523081  0.15993741  -1.84862130 ...  1.73696081 \n",
       "[13,] -0.5232988  -0.140772114 -0.37988836  -0.03002034 ...  0.21625221 \n",
       "[14,] -1.2053527   0.401558723 -0.16418647   0.64954512 ... -0.95135062 \n",
       "[15,] -0.7106235   1.051701756  0.02648893   1.47945836 ...  0.66466114 \n",
       "[16,] -1.4297869  -0.627755135 -0.87008042   0.66650547 ...  1.01314589 \n",
       "[17,]  2.0430943   2.100341143 -2.15136132  -1.19438610 ... -0.86395971 \n",
       "[18,]  0.9887712   0.936589264 -1.42680992  -0.25063621 ... -0.85504361 \n",
       "[19,] -1.1996267  -0.785706539 -0.45022952   0.66254094 ... -0.64583506 \n",
       "[20,]  0.8405879  -0.316391906  0.05069582   0.32850036 ... -0.87227807 \n",
       "[21,]  2.6554281  -0.432391073 -0.15125398   1.84243913 ...  0.19070187 \n",
       "[22,] -1.6201237  -0.787178149 -0.53358685   0.70350607 ...  1.08299966 \n",
       "[23,] -1.3289503   2.131407517  2.28029616  -0.40688499 ... -0.32533064 \n",
       "[24,] -0.2628222  -0.216246915  0.49446522  -0.28204442 ...  0.21118759 \n",
       "[25,] -0.3329512  -0.316762254  0.11214690  -0.07792632 ... -0.24622256 \n",
       "[26,]  1.1721693  -0.068712189  0.73729338  -0.14316288 ... -0.04305401 \n",
       "[27,]  2.0345940   0.061849665  0.37613259   0.07324575 ... -0.51255623 \n",
       "[28,] -0.1784342  -0.071420971 -0.06656606  -0.49786479 ...  0.03079393 \n",
       "[29,]  0.3943271  -0.000536207  1.00358797   0.80723293 ... -1.10892632 \n",
       "[30,] -0.8758960   0.178019387 -0.29550085  -0.52060639 ... -0.39043658 \n",
       "[31,] ...         ...          ...          ...             ...         \n",
       "[32,]  0.14932809  0.532819521  0.406266251  0.95704218 ...  0.030361643\n",
       "[33,]  0.25168293 -0.874619118  0.017522360 -0.39595857 ... -1.105529583\n",
       "[34,]  0.70351823  0.346328706 -2.186045294  0.11930751 ...  0.007299157\n",
       "[35,]  0.20160956 -0.215644776  0.334803410 -0.70086195 ... -0.134016948\n",
       "[36,] -0.15530041 -0.413597359  0.933598591  0.32649778 ... -0.303684096\n",
       "[37,]  0.52501813  1.374034232  0.547506623  1.90785912 ... -0.243055247\n",
       "[38,] -0.05838279 -0.529448018 -0.517531285 -0.42555915 ...  0.590513628\n",
       "[39,] -1.23314838 -0.149647924 -0.712706978 -0.82432440 ...  0.270989468\n",
       "[40,] -0.42562006 -0.229698727 -0.434420342  0.20715675 ...  0.865288590\n",
       "[41,] -0.29375657 -0.005734858  0.857689366 -0.04702380 ... -0.613519167\n",
       "[42,] -0.51321346  0.309921208 -4.207405858  0.01968384 ... -0.861554286\n",
       "[43,] -0.29787179 -0.153575539  0.226314709  1.10992861 ... -1.051793365\n",
       "[44,]  0.39565165 -0.616285167  0.056049269 -0.21169416 ...  0.561248768\n",
       "[45,]  1.92926263  0.123078219  0.761284271 -0.25627138 ...  0.717071397\n",
       "[46,]  2.41014028 -0.816826501  0.594997908  1.08161833 ...  1.694300628\n",
       "[47,]  0.04935123 -1.294770433  0.083190483 -0.71471527 ... -0.983850635\n",
       "[48,]  0.20698179 -0.443030816  0.521912584 -0.01087298 ...  0.715617283\n",
       "[49,] -0.66242090 -0.595828299  1.289765780 -1.42273830 ...  0.296994469\n",
       "[50,] -0.14820788  0.369792010  0.705800902  0.83718927 ...  0.279894168\n",
       "[51,] -0.16851901 -0.687876222  0.381293279  0.54480897 ... -0.060342472\n",
       "[52,] -0.64668640 -0.136776460 -0.226515452 -0.29390863 ...  0.343413454\n",
       "[53,] -0.84356768 -0.457567222 -0.009837082  1.32301233 ... -0.350816979\n",
       "[54,] -0.32664593  0.097469536  1.143407239 -0.11628651 ... -0.605293972\n",
       "[55,] -0.68328345  0.890721775 -0.253672511 -0.18871235 ...  0.321641829\n",
       "[56,]  1.27124670 -1.640734328  0.452100831 -0.72140566 ... -0.036809247\n",
       "[57,] -1.33439192 -0.477459586  0.134984899  0.40387927 ...  0.886795739\n",
       "[58,]  0.34187862  0.991322420  1.277440292 -0.58188850 ... -0.359004714\n",
       "[59,] -1.98298403  1.335057525  1.168014097 -1.76297779 ... -0.768375660\n",
       "[60,] -0.22974055 -0.128265633  0.129243198  0.35797544 ... -0.324866500\n",
       "[61,] -0.34986973 -0.227275916  0.012442323 -0.14007442 ... -0.517494986\n",
       "      Comp.14      Comp.15       Comp.16     Comp.17      Comp.18     \n",
       " [1,] -0.77303538   0.5209875058  0.84051414 -0.030500665  0.389797932\n",
       " [2,] -0.95942893   0.7486569758 -1.08138312 -0.339091311 -0.769539087\n",
       " [3,]  0.41132085  -0.2607123137 -0.12047886  0.198515540 -0.309529189\n",
       " [4,]  0.15261669   0.1414629011  0.71982499 -0.217540517 -0.260316451\n",
       " [5,] -0.64043671  -0.5056031965 -0.32521911  0.054374250 -0.258186010\n",
       " [6,] -0.60094710   0.3058909114  0.13183009  0.216469905  1.069193142\n",
       " [7,] -0.41536367  -0.3131049104 -0.22152592  0.178743121  0.043046343\n",
       " [8,] -0.23759644  -0.8445601494 -0.56250885  0.202659700 -0.355349377\n",
       " [9,]  0.48725515  -0.1545119162 -0.98250713 -0.334655855  0.053830475\n",
       "[10,]  1.10215260  -0.0001633723  0.09291906 -0.111973870 -0.152618637\n",
       "[11,] -1.64972989  -2.4406856998  0.22306249 -0.204025640 -0.093933595\n",
       "[12,]  0.01714342  -0.1875106990 -0.75618737  0.129766667  0.265708258\n",
       "[13,] -0.21577665  -0.0217284179 -0.24879226 -0.121433079 -0.285632930\n",
       "[14,]  0.49686287  -0.2535549463  1.08333123 -1.763640763  0.048391958\n",
       "[15,] -0.10128031  -0.7819695973 -0.49808629  0.157440471  0.005291422\n",
       "[16,]  0.66590004  -0.2299302082  0.71676378  0.083951815  0.036522662\n",
       "[17,] -0.84360252   0.2440612305  0.27840926  0.176793986  0.075244868\n",
       "[18,]  0.80939464   0.0866938836 -0.20619080  0.460480585  0.401022242\n",
       "[19,] -0.24963929   1.2471036310 -0.70043806  0.036992474 -0.081805413\n",
       "[20,] -0.34390843  -0.1070722386  0.11890420 -0.068382520 -0.231978187\n",
       "[21,]  1.14354928   0.3422343323 -0.65400136 -0.138469377 -0.042241927\n",
       "[22,]  0.25759159   0.3457152404  0.73492908 -0.214516470 -0.230052147\n",
       "[23,]  1.20738814   0.2393962622  0.42957141 -0.003708653  0.250591742\n",
       "[24,]  0.95174083  -0.7105265307 -0.28814014  0.374719454  0.024423732\n",
       "[25,]  0.68469240   0.3776534115 -0.18927160  0.151347540  0.102531438\n",
       "[26,]  0.58652590  -0.4047934571  0.06688119  0.080834771 -0.151831872\n",
       "[27,] -0.55628015   0.5319711064 -0.34678153 -0.133707192 -0.232176010\n",
       "[28,]  0.21816791   0.3956760128  0.31034332 -0.026331083 -0.429151935\n",
       "[29,]  0.27626392  -0.3043067477 -0.53032696 -0.090180640 -0.097245973\n",
       "[30,]  0.91127994   0.2443702972  0.15165941 -0.085949874 -0.106815238\n",
       "[31,] ...          ...           ...         ...          ...         \n",
       "[32,] -0.308618032 -0.70014319   -0.27063356  0.36753620   0.17436731 \n",
       "[33,] -0.509313521 -0.33610213    0.18416887 -0.13603851  -0.11651009 \n",
       "[34,]  0.200361242  0.21426576    0.04917567  0.18409866   0.11230558 \n",
       "[35,] -0.346627788  0.41176074   -0.12688576  0.14198146   0.51034402 \n",
       "[36,]  0.074950476 -0.42685494    0.42362454 -0.60177466  -0.21152936 \n",
       "[37,] -0.023199761 -0.10970926    0.31643851 -0.05727384  -0.00409964 \n",
       "[38,] -0.266907566 -0.16322881    0.19880969 -0.17368396  -0.28170726 \n",
       "[39,] -0.158276191  0.36848112    0.40164231  0.14888638   0.73268488 \n",
       "[40,] -0.422124481  1.20627031   -0.04680064  0.06371735  -0.02956605 \n",
       "[41,] -0.384946838  0.35601068    1.29836127  2.58668486  -1.05695941 \n",
       "[42,] -0.006993885 -0.39600776    0.05376471  0.00857906  -0.31428787 \n",
       "[43,]  0.124709828 -0.19451314   -0.60809741  0.10815725   0.16664772 \n",
       "[44,] -0.566309569 -0.95152154    0.19751329 -0.06138870   0.12205548 \n",
       "[45,]  0.875039772  0.83842209    0.04472541  0.12579338   0.40179270 \n",
       "[46,] -0.462125722  0.08614519    0.49814827 -0.26632481  -0.25536612 \n",
       "[47,]  0.698369511 -0.02359748    0.46711380  0.01215918  -0.20999525 \n",
       "[48,]  0.180500570  0.34580464    0.19888399 -0.05909628  -0.14076990 \n",
       "[49,]  0.402340851 -0.19692728   -0.30612920  0.36644444   0.17760701 \n",
       "[50,]  0.346728804 -0.13082291    0.22704320  0.39061561   0.29789416 \n",
       "[51,] -0.290062315  1.12461248    0.23584160  0.31261063   0.82369006 \n",
       "[52,]  0.373814625 -0.54668932   -0.22706612  0.18866324  -0.10143912 \n",
       "[53,]  0.230350121 -0.51084751   -0.07239036  0.10306958   0.20242701 \n",
       "[54,] -0.660086188  0.11636023    0.23976845 -0.62828061   0.07459029 \n",
       "[55,]  0.885041713 -0.28775208    0.01024010 -0.08039984  -0.14845945 \n",
       "[56,]  0.554044953  0.18176126   -0.77280441 -0.21750433  -0.06418155 \n",
       "[57,]  0.264549656  0.60175755    0.78234606 -0.36606596   0.26616006 \n",
       "[58,]  0.026637377 -0.55800885    0.13879297 -0.84559932   0.70371467 \n",
       "[59,] -1.020183713  0.34362960   -0.12234946 -0.01593005   0.56295066 \n",
       "[60,] -0.254646301 -0.45695302   -0.13778983 -0.03290740  -0.33418929 \n",
       "[61,]  0.429644246 -0.39211118    0.27156447 -0.13062752  -0.30034712 \n",
       "      Comp.19      Comp.20      Comp.21       Comp.22      \n",
       " [1,] -0.142486034  0.108249102 -0.015936613   0.059673587 \n",
       " [2,]  0.012326940  0.368079660 -0.102774021  -0.087308692 \n",
       " [3,] -0.012813120 -0.058666457 -0.012408917  -0.099896768 \n",
       " [4,]  0.023726760  0.018350364 -0.072568470  -0.034146310 \n",
       " [5,] -0.006299988  0.149501060 -0.032281175  -0.016457009 \n",
       " [6,]  0.293682832  0.117493336 -0.005178543  -0.062886518 \n",
       " [7,] -0.094165929 -0.237080001  0.062052263   0.017438821 \n",
       " [8,]  0.101203988 -0.044837812  0.030276874  -0.057458560 \n",
       " [9,]  0.008181981 -0.066090753 -0.055309582   0.039400137 \n",
       "[10,] -0.705840386  0.217364102  0.155370773  -0.093167051 \n",
       "[11,] -0.029132137  0.003984304  0.017255297  -0.008864295 \n",
       "[12,]  0.075412322  0.024434983  0.133334290   0.003331458 \n",
       "[13,] -0.077163737 -0.022727037  0.022946289  -0.054003550 \n",
       "[14,]  0.458398348  0.173968985  0.270013938  -0.131722548 \n",
       "[15,]  0.324665317  0.031955035 -0.019906049   0.040043374 \n",
       "[16,] -0.082304862 -0.030034752 -0.022960204   0.057203046 \n",
       "[17,]  0.039628960 -0.016821937 -0.008898974  -0.021377708 \n",
       "[18,]  0.024669894 -0.014341046  0.027329057   0.026235026 \n",
       "[19,]  0.373419905 -0.023456477 -0.070295780   0.035487703 \n",
       "[20,] -0.038251691  0.078080471 -0.045996579   0.020531315 \n",
       "[21,]  0.012866995  0.099066834 -0.015403202   0.023345317 \n",
       "[22,] -0.014056048  0.047680729 -0.082162104  -0.023793222 \n",
       "[23,]  0.349283398  0.044841634 -0.094551901   0.023325827 \n",
       "[24,]  0.261200802  0.011135034 -0.029046491   0.020032683 \n",
       "[25,]  0.038018258  0.053381709  0.006661206   0.010774453 \n",
       "[26,]  0.028736787 -0.022594883 -0.004101433   0.005128433 \n",
       "[27,]  0.048467945  0.104404411 -0.042031804   0.025098508 \n",
       "[28,] -0.155657417 -0.822422120  0.011019089  -0.097603387 \n",
       "[29,] -0.027967531 -0.060259131  0.073172484   0.062054839 \n",
       "[30,] -0.195550696  0.042472575  0.018493084   0.006689042 \n",
       "[31,] ...          ...          ...           ...          \n",
       "[32,] -0.009735040 -0.151396653 -0.0028566571 -0.0414336456\n",
       "[33,] -0.048696651  0.159329113 -0.0655550183  0.0170369549\n",
       "[34,]  0.045363309  0.019522721 -0.0240795676 -0.0076538849\n",
       "[35,]  0.214393239  0.036478101 -0.0223161226 -0.0385016063\n",
       "[36,] -0.038390115 -0.051206622  0.1401043124 -0.0661757473\n",
       "[37,]  0.151571656  0.007579234 -0.0816276091  0.0033178608\n",
       "[38,]  0.005592765 -0.035852147 -0.0256020540  0.0624291375\n",
       "[39,]  0.110760130 -0.038634475 -0.0037048351 -0.0675173097\n",
       "[40,] -0.023096900  0.175264054  0.0512243536  0.0088897847\n",
       "[41,]  0.059874179  0.176235868  0.0051768812 -0.0018053069\n",
       "[42,]  0.058083895 -0.031079365 -0.0298718161  0.0059179091\n",
       "[43,]  0.031173316 -0.013644960 -0.0205563917 -0.0126806191\n",
       "[44,]  0.007939606  0.029010476  0.0072913139  0.0102654135\n",
       "[45,] -0.164549634  0.130294977  0.0325804710  0.0016182524\n",
       "[46,]  0.112929206 -0.141669234 -0.0129337574 -0.0191197809\n",
       "[47,] -0.145801543  0.047965540 -0.0725068767 -0.0123745342\n",
       "[48,]  0.102599804 -0.018873734 -0.0465523405 -0.0283584223\n",
       "[49,] -0.120077026  0.059418913  0.0472489605  0.0346573963\n",
       "[50,]  0.247689403 -0.376372730 -0.0209412937  0.0175198992\n",
       "[51,] -0.039017480 -0.018219564  0.0005130431  0.0006725721\n",
       "[52,]  0.152760927 -0.171238547 -0.0172072862  0.0930604639\n",
       "[53,]  0.018593159 -0.020657069 -0.0321990352 -0.0211209605\n",
       "[54,] -0.228668450  0.088559880  0.2129710173  0.2238443793\n",
       "[55,] -0.246203433  0.091004255  0.0687770111  0.0032051620\n",
       "[56,]  0.160519601 -0.005868833  0.2341480129  0.0057696065\n",
       "[57,] -0.173982157  0.100634353  0.0607623715  0.1344266315\n",
       "[58,] -0.421403845 -0.051683573 -0.6101168670 -0.0151808809\n",
       "[59,] -0.206003165 -0.505245631  0.1996864521  0.0688465369\n",
       "[60,] -0.064467452 -0.029548549  0.0007216059 -0.0126177415\n",
       "[61,] -0.047622185  0.095998405 -0.0484035741  0.0325680344"
      ]
     },
     "metadata": {},
     "output_type": "display_data"
    },
    {
     "data": {
      "image/png": "[encoded data removed]",
      "text/plain": [
       "Plot with title \"fit\""
      ]
     },
     "metadata": {
      "image/png": {
       "height": 420,
       "width": 420
      }
     },
     "output_type": "display_data"
    },
    {
     "data": {
      "image/png": "[encoded data removed]",
      "text/plain": [
       "plot without title"
      ]
     },
     "metadata": {
      "image/png": {
       "height": 420,
       "width": 420
      }
     },
     "output_type": "display_data"
    }
   ],
   "source": [
    "fit <- princomp(df.wa[,c(2:23)], cor=TRUE)\n",
    "summary(fit) # print variance accounted for\n",
    "loadings(fit) # pc loadings\n",
    "plot(fit,type=\"lines\") # scree plot\n",
    "fit$scores # the principal components\n",
    "biplot(fit )"
   ]
  },
  {
   "cell_type": "code",
   "execution_count": 4,
   "metadata": {},
   "outputs": [
    {
     "data": {
      "text/plain": [
       "Principal Components Analysis\n",
       "Call: principal(r = df.wa[, c(2:23)], nfactors = 7, rotate = \"varimax\")\n",
       "Standardized loadings (pattern matrix) based upon correlation matrix\n",
       "       RC1   RC5   RC2   RC4   RC3   RC6   RC7   h2    u2 com\n",
       "ptap -0.11  0.04  0.42  0.39 -0.01  0.67 -0.01 0.78 0.219 2.5\n",
       "bore  0.06 -0.03 -0.11  0.30 -0.80 -0.12  0.09 0.77 0.228 1.4\n",
       "pspr -0.02  0.01  0.84 -0.15  0.02  0.01 -0.11 0.75 0.251 1.1\n",
       "uspr -0.11  0.50  0.62 -0.15 -0.04 -0.05 -0.06 0.68 0.321 2.2\n",
       "pwel -0.46 -0.13 -0.01  0.22 -0.11 -0.09  0.57 0.62 0.380 2.5\n",
       "uwel -0.32  0.24 -0.09  0.50 -0.20  0.01  0.36 0.59 0.414 3.6\n",
       "surw -0.03  0.79  0.10  0.06 -0.07  0.05  0.13 0.66 0.342 1.1\n",
       "tles -0.13  0.49  0.40  0.40 -0.43  0.26  0.12 0.84 0.156 4.8\n",
       "tmor -0.25  0.24  0.68  0.49 -0.06 -0.01  0.14 0.84 0.161 2.6\n",
       "rain -0.02  0.01 -0.03 -0.61 -0.02 -0.03  0.10 0.39 0.612 1.1\n",
       "phom  0.18 -0.44 -0.32  0.01  0.47 -0.25 -0.38 0.75 0.251 4.7\n",
       "imws  0.53 -0.71  0.00 -0.03 -0.08  0.10  0.12 0.81 0.188 2.0\n",
       "pipy  0.20 -0.02 -0.14 -0.03  0.23  0.81 -0.06 0.77 0.232 1.4\n",
       "truc  0.25  0.05  0.00  0.38  0.53 -0.37  0.14 0.65 0.346 3.4\n",
       "ctan  0.13  0.13 -0.01 -0.23  0.15 -0.05  0.79 0.73 0.272 1.4\n",
       "bott  0.43 -0.25  0.00 -0.55  0.00 -0.29  0.29 0.72 0.285 3.6\n",
       "uiws -0.41  0.81  0.08  0.14  0.07 -0.04 -0.01 0.85 0.151 1.6\n",
       "othw  0.03 -0.02 -0.11  0.09  0.58  0.17  0.10 0.40 0.605 1.4\n",
       "iwsp  0.87 -0.26 -0.24 -0.16  0.17 -0.03 -0.07 0.95 0.052 1.5\n",
       "basw  0.93 -0.19  0.00  0.09 -0.14  0.15  0.01 0.96 0.044 1.2\n",
       "liws -0.21  0.00  0.71  0.50 -0.12  0.06  0.15 0.84 0.160 2.2\n",
       "watp  0.87 -0.21 -0.27 -0.13  0.18 -0.05 -0.06 0.94 0.063 1.5\n",
       "\n",
       "                       RC1  RC5  RC2  RC4  RC3  RC6  RC7\n",
       "SS loadings           3.65 2.82 2.69 2.19 1.91 1.54 1.46\n",
       "Proportion Var        0.17 0.13 0.12 0.10 0.09 0.07 0.07\n",
       "Cumulative Var        0.17 0.29 0.42 0.52 0.60 0.67 0.74\n",
       "Proportion Explained  0.22 0.17 0.17 0.13 0.12 0.09 0.09\n",
       "Cumulative Proportion 0.22 0.40 0.56 0.70 0.82 0.91 1.00\n",
       "\n",
       "Mean item complexity =  2.2\n",
       "Test of the hypothesis that 7 components are sufficient.\n",
       "\n",
       "The root mean square of the residuals (RMSR) is  0.06 \n",
       " with the empirical chi square  141.04  with prob <  0.0029 \n",
       "\n",
       "Fit based upon off diagonal values = 0.96"
      ]
     },
     "metadata": {},
     "output_type": "display_data"
    }
   ],
   "source": [
    "# Varimax Rotated Principal Components\n",
    "# retaining 7 components\n",
    "fit <- principal(df.wa[,c(2:23)], nfactors=7, rotate=\"varimax\")\n",
    "fit # print results"
   ]
  },
  {
   "cell_type": "markdown",
   "metadata": {},
   "source": [
    "sources: https://www.statmethods.net/advstats/factor.html"
   ]
  },
  {
   "cell_type": "markdown",
   "metadata": {},
   "source": [
    "# Factor Analysis"
   ]
  },
  {
   "cell_type": "markdown",
   "metadata": {},
   "source": [
    "sources: http://www.di.fc.ul.pt/~jpn/r/factoranalysis/factoranalysis.html"
   ]
  },
  {
   "cell_type": "markdown",
   "metadata": {},
   "source": [
    "Factor analysis is a statistical method used to describe variability among observed, correlated variables in terms of a potentially lower number of unobserved variables called factors. […] Factor analysis searches for such joint variations in response to unobserved latent(*) variables."
   ]
  },
  {
   "cell_type": "markdown",
   "metadata": {},
   "source": [
    "test of 3 factors"
   ]
  },
  {
   "cell_type": "code",
   "execution_count": null,
   "metadata": {},
   "outputs": [],
   "source": [
    "df.wa <- df.wa[,c(2:23)]"
   ]
  },
  {
   "cell_type": "code",
   "execution_count": 17,
   "metadata": {},
   "outputs": [
    {
     "name": "stdout",
     "output_type": "stream",
     "text": [
      "\n",
      "Call:\n",
      "factanal(x = df.wa, factors = n.factors, scores = c(\"regression\"),     rotation = \"none\")\n",
      "\n",
      "Uniquenesses:\n",
      "ptap bore pspr uspr pwel uwel surw tles tmor rain phom imws pipy truc ctan bott \n",
      "0.63 0.88 0.82 0.79 0.84 0.76 0.71 0.00 0.12 0.92 0.58 0.61 0.94 0.91 0.99 0.70 \n",
      "uiws othw iwsp basw liws watp \n",
      "0.61 0.98 0.00 0.07 0.00 0.02 \n",
      "\n",
      "Loadings:\n",
      "     Factor1 Factor2 Factor3\n",
      "ptap  0.53                  \n",
      "tles  0.81            0.53  \n",
      "tmor  0.79    0.40   -0.31  \n",
      "phom -0.61                  \n",
      "bott -0.52                  \n",
      "uiws  0.55                  \n",
      "iwsp -0.86    0.51          \n",
      "liws  0.77    0.48   -0.42  \n",
      "watp -0.85    0.50          \n",
      "basw -0.49    0.76    0.33  \n",
      "bore                        \n",
      "pspr  0.35                  \n",
      "uspr  0.44                  \n",
      "pwel  0.34                  \n",
      "uwel  0.48                  \n",
      "surw  0.38            0.38  \n",
      "rain                        \n",
      "imws -0.48    0.40          \n",
      "pipy                        \n",
      "truc                        \n",
      "ctan                        \n",
      "othw                        \n",
      "\n",
      "               Factor1 Factor2 Factor3\n",
      "SS loadings       6.03    2.03    1.06\n",
      "Proportion Var    0.27    0.09    0.05\n",
      "Cumulative Var    0.27    0.37    0.41\n",
      "\n",
      "Test of the hypothesis that 3 factors are sufficient.\n",
      "The chi square statistic is 591.75 on 168 degrees of freedom.\n",
      "The p-value is 1.42e-48 \n"
     ]
    }
   ],
   "source": [
    "n.factors <- 3 \n",
    "\n",
    "fit.three <- factanal(df.wa, \n",
    "                n.factors,                # number of factors to extract\n",
    "                scores=c(\"regression\"),\n",
    "                rotation=\"none\")\n",
    "\n",
    "print(fit.three, digits=2, cutoff=.3, sort=TRUE)"
   ]
  },
  {
   "cell_type": "markdown",
   "metadata": {},
   "source": [
    "test of 2 factors"
   ]
  },
  {
   "cell_type": "code",
   "execution_count": 18,
   "metadata": {},
   "outputs": [
    {
     "name": "stdout",
     "output_type": "stream",
     "text": [
      "\n",
      "Call:\n",
      "factanal(x = df.wa, factors = n.factors, scores = c(\"regression\"),     rotation = \"none\")\n",
      "\n",
      "Uniquenesses:\n",
      "ptap bore pspr uspr pwel uwel surw tles tmor rain phom imws pipy truc ctan bott \n",
      "0.67 0.87 0.91 0.79 0.84 0.78 0.76 0.02 0.59 0.92 0.58 0.64 0.94 0.95 1.00 0.70 \n",
      "uiws othw iwsp basw liws watp \n",
      "0.64 0.98 0.00 0.07 0.66 0.02 \n",
      "\n",
      "Loadings:\n",
      "     Factor1 Factor2\n",
      "tmor -0.53    0.36  \n",
      "imws  0.60          \n",
      "bott  0.53          \n",
      "uiws -0.58          \n",
      "iwsp  1.00          \n",
      "basw  0.81    0.53  \n",
      "watp  0.99          \n",
      "tles -0.57    0.81  \n",
      "ptap -0.33    0.47  \n",
      "bore          0.32  \n",
      "pspr                \n",
      "uspr -0.35          \n",
      "pwel -0.40          \n",
      "uwel -0.40          \n",
      "surw -0.34    0.36  \n",
      "rain                \n",
      "phom  0.49   -0.42  \n",
      "pipy                \n",
      "truc                \n",
      "ctan                \n",
      "othw                \n",
      "liws -0.47    0.35  \n",
      "\n",
      "               Factor1 Factor2\n",
      "SS loadings       5.52    2.15\n",
      "Proportion Var    0.25    0.10\n",
      "Cumulative Var    0.25    0.35\n",
      "\n",
      "Test of the hypothesis that 2 factors are sufficient.\n",
      "The chi square statistic is 740.47 on 188 degrees of freedom.\n",
      "The p-value is 1.38e-66 \n"
     ]
    }
   ],
   "source": [
    "n.factors <- 2 \n",
    "\n",
    "fit.two <- factanal(df.wa, \n",
    "                n.factors,                # number of factors to extract\n",
    "                scores=c(\"regression\"),\n",
    "                rotation=\"none\")\n",
    "\n",
    "print(fit.two, digits=2, cutoff=.3, sort=TRUE)"
   ]
  },
  {
   "cell_type": "code",
   "execution_count": 19,
   "metadata": {},
   "outputs": [
    {
     "data": {
      "text/html": [
       "<table class=\"dataframe\">\n",
       "<caption>A matrix: 7 × 2 of type dbl</caption>\n",
       "<thead>\n",
       "\t<tr><th scope=col>Factor1</th><th scope=col>Factor2</th></tr>\n",
       "</thead>\n",
       "<tbody>\n",
       "\t<tr><td>-0.3028410</td><td> 0.46439023</td></tr>\n",
       "\t<tr><td> 1.0588278</td><td> 0.04677141</td></tr>\n",
       "\t<tr><td>-0.4561554</td><td> 0.37831403</td></tr>\n",
       "\t<tr><td> 1.7436868</td><td>-0.49476248</td></tr>\n",
       "\t<tr><td> 0.8877984</td><td>-0.11911901</td></tr>\n",
       "\t<tr><td> 0.9741913</td><td> 0.21974414</td></tr>\n",
       "\t<tr><td>-0.5090083</td><td> 0.57339573</td></tr>\n",
       "</tbody>\n",
       "</table>\n"
      ],
      "text/latex": [
       "A matrix: 7 × 2 of type dbl\n",
       "\\begin{tabular}{ll}\n",
       " Factor1 & Factor2\\\\\n",
       "\\hline\n",
       "\t -0.3028410 &  0.46439023\\\\\n",
       "\t  1.0588278 &  0.04677141\\\\\n",
       "\t -0.4561554 &  0.37831403\\\\\n",
       "\t  1.7436868 & -0.49476248\\\\\n",
       "\t  0.8877984 & -0.11911901\\\\\n",
       "\t  0.9741913 &  0.21974414\\\\\n",
       "\t -0.5090083 &  0.57339573\\\\\n",
       "\\end{tabular}\n"
      ],
      "text/markdown": [
       "\n",
       "A matrix: 7 × 2 of type dbl\n",
       "\n",
       "| Factor1 | Factor2 |\n",
       "|---|---|\n",
       "| -0.3028410 |  0.46439023 |\n",
       "|  1.0588278 |  0.04677141 |\n",
       "| -0.4561554 |  0.37831403 |\n",
       "|  1.7436868 | -0.49476248 |\n",
       "|  0.8877984 | -0.11911901 |\n",
       "|  0.9741913 |  0.21974414 |\n",
       "| -0.5090083 |  0.57339573 |\n",
       "\n"
      ],
      "text/plain": [
       "     Factor1    Factor2    \n",
       "[1,] -0.3028410  0.46439023\n",
       "[2,]  1.0588278  0.04677141\n",
       "[3,] -0.4561554  0.37831403\n",
       "[4,]  1.7436868 -0.49476248\n",
       "[5,]  0.8877984 -0.11911901\n",
       "[6,]  0.9741913  0.21974414\n",
       "[7,] -0.5090083  0.57339573"
      ]
     },
     "metadata": {},
     "output_type": "display_data"
    }
   ],
   "source": [
    "head(fit.two$scores , 7)"
   ]
  },
  {
   "cell_type": "code",
   "execution_count": 20,
   "metadata": {},
   "outputs": [
    {
     "data": {
      "image/png": "[encoded data removed]",
      "text/plain": [
       "plot without title"
      ]
     },
     "metadata": {
      "image/png": {
       "height": 420,
       "width": 420
      }
     },
     "output_type": "display_data"
    }
   ],
   "source": [
    "# plot factor 1 by factor 2 \n",
    "load <- fit$loadings[,1:2] \n",
    "plot(load,type=\"n\") # set up plot \n",
    "text(load,labels=names(df.wa),cex=.7) # add variable names"
   ]
  },
  {
   "cell_type": "markdown",
   "metadata": {},
   "source": [
    "The output maximizes variance for the 1st and subsequent factors, while all are orthogonal to each other.\n",
    "\n",
    "Rotation serves to make the output more understandable, by seeking so-called “Simple Structure”: A pattern of loadings where items load most strongly on one factor, and much more weakly on the other factors. Eg, varimax rotation is an orthogonal rotation of the factor axes to maximize the variance of the squared loadings of a factor (column) on all the variables (rows) in a factor matrix, which has the effect of differentiating the original variables by extracted factor. "
   ]
  },
  {
   "cell_type": "code",
   "execution_count": 23,
   "metadata": {},
   "outputs": [
    {
     "data": {
      "text/html": [
       "<table class=\"dataframe\">\n",
       "<caption>A matrix: 7 × 2 of type dbl</caption>\n",
       "<thead>\n",
       "\t<tr><th></th><th scope=col>Factor1</th><th scope=col>Factor2</th></tr>\n",
       "</thead>\n",
       "<tbody>\n",
       "\t<tr><th scope=row>ptap</th><td>-0.111134968</td><td>0.5654447</td></tr>\n",
       "\t<tr><th scope=row>bore</th><td>-0.002119038</td><td>0.3569892</td></tr>\n",
       "\t<tr><th scope=row>pspr</th><td>-0.109410342</td><td>0.2822579</td></tr>\n",
       "\t<tr><th scope=row>uspr</th><td>-0.204085365</td><td>0.4063478</td></tr>\n",
       "\t<tr><th scope=row>pwel</th><td>-0.375898200</td><td>0.1331218</td></tr>\n",
       "\t<tr><th scope=row>uwel</th><td>-0.268117985</td><td>0.3890323</td></tr>\n",
       "\t<tr><th scope=row>surw</th><td>-0.160084712</td><td>0.4671127</td></tr>\n",
       "</tbody>\n",
       "</table>\n"
      ],
      "text/latex": [
       "A matrix: 7 × 2 of type dbl\n",
       "\\begin{tabular}{r|ll}\n",
       "  & Factor1 & Factor2\\\\\n",
       "\\hline\n",
       "\tptap & -0.111134968 & 0.5654447\\\\\n",
       "\tbore & -0.002119038 & 0.3569892\\\\\n",
       "\tpspr & -0.109410342 & 0.2822579\\\\\n",
       "\tuspr & -0.204085365 & 0.4063478\\\\\n",
       "\tpwel & -0.375898200 & 0.1331218\\\\\n",
       "\tuwel & -0.268117985 & 0.3890323\\\\\n",
       "\tsurw & -0.160084712 & 0.4671127\\\\\n",
       "\\end{tabular}\n"
      ],
      "text/markdown": [
       "\n",
       "A matrix: 7 × 2 of type dbl\n",
       "\n",
       "| <!--/--> | Factor1 | Factor2 |\n",
       "|---|---|---|\n",
       "| ptap | -0.111134968 | 0.5654447 |\n",
       "| bore | -0.002119038 | 0.3569892 |\n",
       "| pspr | -0.109410342 | 0.2822579 |\n",
       "| uspr | -0.204085365 | 0.4063478 |\n",
       "| pwel | -0.375898200 | 0.1331218 |\n",
       "| uwel | -0.268117985 | 0.3890323 |\n",
       "| surw | -0.160084712 | 0.4671127 |\n",
       "\n"
      ],
      "text/plain": [
       "     Factor1      Factor2  \n",
       "ptap -0.111134968 0.5654447\n",
       "bore -0.002119038 0.3569892\n",
       "pspr -0.109410342 0.2822579\n",
       "uspr -0.204085365 0.4063478\n",
       "pwel -0.375898200 0.1331218\n",
       "uwel -0.268117985 0.3890323\n",
       "surw -0.160084712 0.4671127"
      ]
     },
     "metadata": {},
     "output_type": "display_data"
    }
   ],
   "source": [
    "fit <- factanal(df.wa, \n",
    "                n.factors,              # number of factors to extract\n",
    "                rotation=\"varimax\")     # 'varimax' is an ortho rotation\n",
    "\n",
    "load <- fit$loadings[,1:2] \n",
    "head(load , 7)"
   ]
  },
  {
   "cell_type": "code",
   "execution_count": 24,
   "metadata": {},
   "outputs": [
    {
     "data": {
      "image/png": "[encoded data removed]",
      "text/plain": [
       "plot without title"
      ]
     },
     "metadata": {
      "image/png": {
       "height": 420,
       "width": 420
      }
     },
     "output_type": "display_data"
    }
   ],
   "source": [
    "plot(load,type=\"n\") # set up plot \n",
    "text(load,labels=names(df.wa),cex=.7) # add variable names"
   ]
  },
  {
   "cell_type": "code",
   "execution_count": 41,
   "metadata": {},
   "outputs": [
    {
     "name": "stderr",
     "output_type": "stream",
     "text": [
      "Warning message in fa.stats(r = r, f = f, phi = phi, n.obs = n.obs, np.obs = np.obs, :\n",
      "\"The estimated weights for the factor scores are probably incorrect.  Try a different factor score estimation method.\"\n"
     ]
    }
   ],
   "source": [
    "solution <- fa(r = cor(df.wa), nfactors = 2, rotate = \"oblimin\", fm = \"pa\")"
   ]
  },
  {
   "cell_type": "code",
   "execution_count": 42,
   "metadata": {},
   "outputs": [
    {
     "data": {
      "image/png": "[encoded data removed]",
      "text/plain": [
       "Plot with title \"Factor Analysis\""
      ]
     },
     "metadata": {
      "image/png": {
       "height": 420,
       "width": 420
      }
     },
     "output_type": "display_data"
    }
   ],
   "source": [
    "plot(solution,labels=names(df.wa),cex=.7, ylim=c(-.1,1)) "
   ]
  },
  {
   "cell_type": "code",
   "execution_count": 43,
   "metadata": {},
   "outputs": [
    {
     "data": {
      "text/plain": [
       "Factor Analysis using method =  pa\n",
       "Call: fa(r = cor(df.wa), nfactors = 2, rotate = \"oblimin\", fm = \"pa\")\n",
       "Standardized loadings (pattern matrix) based upon correlation matrix\n",
       "       PA2   PA1     h2    u2 com\n",
       "ptap  0.66  0.15 0.3895 0.611 1.1\n",
       "bore  0.26  0.07 0.0577 0.942 1.2\n",
       "pspr  0.41  0.08 0.1541 0.846 1.1\n",
       "uspr  0.39 -0.19 0.2482 0.752 1.5\n",
       "pwel  0.12 -0.28 0.1168 0.883 1.3\n",
       "uwel  0.31 -0.27 0.2360 0.764 2.0\n",
       "surw  0.29 -0.28 0.2168 0.783 2.0\n",
       "tles  0.84 -0.06 0.7453 0.255 1.0\n",
       "tmor  0.79 -0.10 0.6950 0.305 1.0\n",
       "rain -0.26 -0.06 0.0587 0.941 1.1\n",
       "phom -0.53  0.18 0.3880 0.612 1.2\n",
       "imws -0.04  0.74 0.5652 0.435 1.0\n",
       "pipy  0.06  0.26 0.0610 0.939 1.1\n",
       "truc -0.06  0.08 0.0151 0.985 1.9\n",
       "ctan -0.06 -0.01 0.0032 0.997 1.1\n",
       "bott -0.33  0.31 0.2762 0.724 2.0\n",
       "uiws  0.21 -0.63 0.5354 0.465 1.2\n",
       "othw -0.12  0.03 0.0188 0.981 1.1\n",
       "iwsp -0.28  0.80 0.8902 0.110 1.2\n",
       "basw  0.26  1.02 0.9067 0.093 1.1\n",
       "liws  0.81  0.05 0.6291 0.371 1.0\n",
       "watp -0.29  0.76 0.8216 0.178 1.3\n",
       "\n",
       "                       PA2  PA1\n",
       "SS loadings           4.04 3.98\n",
       "Proportion Var        0.18 0.18\n",
       "Cumulative Var        0.18 0.36\n",
       "Proportion Explained  0.50 0.50\n",
       "Cumulative Proportion 0.50 1.00\n",
       "\n",
       " With factor correlations of \n",
       "      PA2   PA1\n",
       "PA2  1.00 -0.37\n",
       "PA1 -0.37  1.00\n",
       "\n",
       "Mean item complexity =  1.3\n",
       "Test of the hypothesis that 2 factors are sufficient.\n",
       "\n",
       "The degrees of freedom for the null model are  231  and the objective function was  22.22\n",
       "The degrees of freedom for the model are 188  and the objective function was  13.2 \n",
       "\n",
       "The root mean square of the residuals (RMSR) is  0.1 \n",
       "The df corrected root mean square of the residuals is  0.11 \n",
       "\n",
       "Fit based upon off diagonal values = 0.88"
      ]
     },
     "metadata": {},
     "output_type": "display_data"
    }
   ],
   "source": [
    "solution"
   ]
  },
  {
   "cell_type": "markdown",
   "metadata": {},
   "source": [
    "# Determining the Number of Factors to Extract"
   ]
  },
  {
   "cell_type": "code",
   "execution_count": 48,
   "metadata": {},
   "outputs": [
    {
     "data": {
      "image/png": "[encoded data removed]",
      "text/plain": [
       "Plot with title \"Scree Plot\""
      ]
     },
     "metadata": {
      "image/png": {
       "height": 420,
       "width": 420
      }
     },
     "output_type": "display_data"
    }
   ],
   "source": [
    "scree.plot(fit.two$correlation)"
   ]
  },
  {
   "cell_type": "markdown",
   "metadata": {},
   "source": [
    "simple = five factors"
   ]
  },
  {
   "cell_type": "code",
   "execution_count": 50,
   "metadata": {},
   "outputs": [
    {
     "data": {
      "image/png": "[encoded data removed]",
      "text/plain": [
       "Plot with title \"Non Graphical Solutions to Scree Test\""
      ]
     },
     "metadata": {
      "image/png": {
       "height": 420,
       "width": 420
      }
     },
     "output_type": "display_data"
    }
   ],
   "source": [
    "ev <- eigen(cor(df.wa)) # get eigenvalues\n",
    "ap <- parallel(subject=nrow(df.wa),var=ncol(df.wa), rep=100, cent=.05)\n",
    "nS <- nScree(x=ev$values, aparallel=ap$eigen$qevpea)\n",
    "plotnScree(nS)"
   ]
  },
  {
   "cell_type": "markdown",
   "metadata": {},
   "source": [
    "# FA"
   ]
  },
  {
   "cell_type": "markdown",
   "metadata": {},
   "source": [
    "The goal of this study is to analyze the characteristics of water accessibility"
   ]
  },
  {
   "cell_type": "markdown",
   "metadata": {},
   "source": [
    "sources: http://www.sthda.com/english/articles/31-principal-component-methods-in-r-practical-guide/115-famd-factor-analysis-of-mixed-data-in-r-essentials/"
   ]
  },
  {
   "cell_type": "code",
   "execution_count": 94,
   "metadata": {},
   "outputs": [
    {
     "name": "stdout",
     "output_type": "stream",
     "text": [
      "tibble [78 x 23] (S3: tbl_df/tbl/data.frame)\n",
      " $ Country: chr [1:78] \"Afghanistan\" \"Albania\" \"Angola\" \"Armenia\" ...\n",
      " $ ptap   : num [1:78] 14.2 2.4 10.3 0.5 3.5 2.7 13 5.3 0 18.4 ...\n",
      " $ bore   : num [1:78] 20.1 1.4 1.9 0.2 9.3 86.4 28.9 0 0 40.6 ...\n",
      " $ pspr   : num [1:78] 4.7 2.5 3.3 1 7.5 0 0.3 0 0 0.2 ...\n",
      " $ uspr   : num [1:78] 8.6 0.8 4.8 0.1 1.1 0.3 1.2 0 0 1.5 ...\n",
      " $ pwel   : num [1:78] 18.5 4.1 9.1 0.2 6.2 0.2 4.4 1.7 0 9 ...\n",
      " $ uwel   : num [1:78] 11.1 0.8 8.3 0 0.2 0.6 20.8 6.2 0 16.3 ...\n",
      " $ surw   : num [1:78] 7.3 0 18 0 7 1.2 5.8 5.2 0 0.8 ...\n",
      " $ tles   : num [1:78] 45.2 20.6 46.1 1.6 18.7 22.7 49.8 11.2 0 49.8 ...\n",
      " $ tmor   : num [1:78] 8.2 1.1 15.6 0.1 4.4 1.6 12.1 0.7 0 32.6 ...\n",
      " $ rain   : num [1:78] 0.4 0 1.7 0 0 0.4 0.4 0 0 0 ...\n",
      " $ phom   : num [1:78] 2.3 48.8 4.3 88.3 34 4.3 5.1 24.6 69.2 2.6 ...\n",
      " $ imws   : num [1:78] 71.2 98.4 66.9 99.9 90.6 97.8 71.7 87.3 76 80.9 ...\n",
      " $ pipy   : num [1:78] 4.8 5.2 9.7 8 19.7 3.3 4.2 54.1 3.5 9.6 ...\n",
      " $ truc   : num [1:78] 1.5 14.1 9.7 1.5 9.5 0 0.2 1.7 0 0 ...\n",
      " $ cart   : num [1:78] 4.4 0.2 4.3 0 0.7 0.1 0.3 0 0 0.2 ...\n",
      " $ bott   : num [1:78] 0.2 19.6 1.2 0 0.1 0.3 0 0 3.3 0.2 ...\n",
      " $ uiws   : num [1:78] 28.7 1.6 33.1 0.1 9.4 2.2 28.3 12.3 24 19.1 ...\n",
      " $ othw   : num [1:78] 1.7 0.1 1.8 0 1.1 0.1 0.4 0.9 2.7 0.5 ...\n",
      " $ iwsp   : num [1:78] 35.4 77 32.6 97.6 71.2 75.1 29.6 85.7 0 14.4 ...\n",
      " $ basw   : num [1:78] 65.3 97 57 99.1 86.4 96.4 64 87.3 0 52.1 ...\n",
      " $ liws   : num [1:78] 5 0.9 7.5 0.1 3.4 1.3 7.3 0 0 28.5 ...\n",
      " $ watp   : num [1:78] 45.3 77.9 34.5 97.6 75.9 75.5 37.4 88 0 17.1 ...\n"
     ]
    },
    {
     "ename": "ERROR",
     "evalue": "Error in eval(expr, envir, enclos): 'list' object cannot be coerced to type 'double'\n",
     "output_type": "error",
     "traceback": [
      "Error in eval(expr, envir, enclos): 'list' object cannot be coerced to type 'double'\nTraceback:\n"
     ]
    }
   ],
   "source": [
    "str(df.wa)\n",
    "df.wa <- as.numeric(df.wa[,c(2:23)])\n",
    "head(df.wa, 7)\n"
   ]
  },
  {
   "cell_type": "code",
   "execution_count": 95,
   "metadata": {},
   "outputs": [
    {
     "name": "stdout",
     "output_type": "stream",
     "text": [
      "*The results are available in the following objects:\n",
      "\n",
      "  name          description                             \n",
      "1 \"$eig\"        \"eigenvalues and inertia\"               \n",
      "2 \"$var\"        \"Results for the variables\"             \n",
      "3 \"$ind\"        \"results for the individuals\"           \n",
      "4 \"$quali.var\"  \"Results for the qualitative variables\" \n",
      "5 \"$quanti.var\" \"Results for the quantitative variables\"\n"
     ]
    }
   ],
   "source": [
    "res.famd <- FAMD(df.wa, graph = FALSE)\n",
    "print(res.famd)"
   ]
  },
  {
   "cell_type": "code",
   "execution_count": 96,
   "metadata": {},
   "outputs": [
    {
     "data": {
      "text/html": [
       "<table class=\"dataframe\">\n",
       "<caption>A matrix: 5 × 3 of type dbl</caption>\n",
       "<thead>\n",
       "\t<tr><th></th><th scope=col>eigenvalue</th><th scope=col>variance.percent</th><th scope=col>cumulative.variance.percent</th></tr>\n",
       "</thead>\n",
       "<tbody>\n",
       "\t<tr><th scope=row>Dim.1</th><td>7.525851</td><td>7.601869</td><td> 7.601869</td></tr>\n",
       "\t<tr><th scope=row>Dim.2</th><td>3.301168</td><td>3.334513</td><td>10.936382</td></tr>\n",
       "\t<tr><th scope=row>Dim.3</th><td>2.792369</td><td>2.820575</td><td>13.756957</td></tr>\n",
       "\t<tr><th scope=row>Dim.4</th><td>2.692574</td><td>2.719772</td><td>16.476728</td></tr>\n",
       "\t<tr><th scope=row>Dim.5</th><td>2.431643</td><td>2.456205</td><td>18.932933</td></tr>\n",
       "</tbody>\n",
       "</table>\n"
      ],
      "text/latex": [
       "A matrix: 5 × 3 of type dbl\n",
       "\\begin{tabular}{r|lll}\n",
       "  & eigenvalue & variance.percent & cumulative.variance.percent\\\\\n",
       "\\hline\n",
       "\tDim.1 & 7.525851 & 7.601869 &  7.601869\\\\\n",
       "\tDim.2 & 3.301168 & 3.334513 & 10.936382\\\\\n",
       "\tDim.3 & 2.792369 & 2.820575 & 13.756957\\\\\n",
       "\tDim.4 & 2.692574 & 2.719772 & 16.476728\\\\\n",
       "\tDim.5 & 2.431643 & 2.456205 & 18.932933\\\\\n",
       "\\end{tabular}\n"
      ],
      "text/markdown": [
       "\n",
       "A matrix: 5 × 3 of type dbl\n",
       "\n",
       "| <!--/--> | eigenvalue | variance.percent | cumulative.variance.percent |\n",
       "|---|---|---|---|\n",
       "| Dim.1 | 7.525851 | 7.601869 |  7.601869 |\n",
       "| Dim.2 | 3.301168 | 3.334513 | 10.936382 |\n",
       "| Dim.3 | 2.792369 | 2.820575 | 13.756957 |\n",
       "| Dim.4 | 2.692574 | 2.719772 | 16.476728 |\n",
       "| Dim.5 | 2.431643 | 2.456205 | 18.932933 |\n",
       "\n"
      ],
      "text/plain": [
       "      eigenvalue variance.percent cumulative.variance.percent\n",
       "Dim.1 7.525851   7.601869          7.601869                  \n",
       "Dim.2 3.301168   3.334513         10.936382                  \n",
       "Dim.3 2.792369   2.820575         13.756957                  \n",
       "Dim.4 2.692574   2.719772         16.476728                  \n",
       "Dim.5 2.431643   2.456205         18.932933                  "
      ]
     },
     "metadata": {},
     "output_type": "display_data"
    }
   ],
   "source": [
    "eig.val <- get_eigenvalue(res.famd)\n",
    "head(eig.val)"
   ]
  },
  {
   "cell_type": "code",
   "execution_count": 97,
   "metadata": {},
   "outputs": [
    {
     "data": {
      "image/png": "[encoded data removed]",
      "text/plain": [
       "plot without title"
      ]
     },
     "metadata": {
      "image/png": {
       "height": 420,
       "width": 420
      }
     },
     "output_type": "display_data"
    }
   ],
   "source": [
    "fviz_screeplot(res.famd)"
   ]
  },
  {
   "cell_type": "code",
   "execution_count": 98,
   "metadata": {},
   "outputs": [
    {
     "data": {
      "text/plain": [
       "FAMD results for variables \n",
       " ===================================================\n",
       "  Name       Description                      \n",
       "1 \"$coord\"   \"Coordinates\"                    \n",
       "2 \"$cos2\"    \"Cos2, quality of representation\"\n",
       "3 \"$contrib\" \"Contributions\"                  "
      ]
     },
     "metadata": {},
     "output_type": "display_data"
    }
   ],
   "source": [
    "var <- get_famd_var(res.famd)\n",
    "var"
   ]
  },
  {
   "cell_type": "code",
   "execution_count": 99,
   "metadata": {},
   "outputs": [
    {
     "data": {
      "text/html": [
       "<table class=\"dataframe\">\n",
       "<caption>A matrix: 7 × 5 of type dbl</caption>\n",
       "<thead>\n",
       "\t<tr><th></th><th scope=col>Dim.1</th><th scope=col>Dim.2</th><th scope=col>Dim.3</th><th scope=col>Dim.4</th><th scope=col>Dim.5</th></tr>\n",
       "</thead>\n",
       "<tbody>\n",
       "\t<tr><th scope=row>ptap</th><td>0.21097955</td><td>0.325910358</td><td>0.04205954</td><td>0.110446953</td><td>0.0003527694</td></tr>\n",
       "\t<tr><th scope=row>bore</th><td>0.03110368</td><td>0.053383286</td><td>0.55534158</td><td>0.004281551</td><td>0.0142737363</td></tr>\n",
       "\t<tr><th scope=row>pspr</th><td>0.09789584</td><td>0.149244513</td><td>0.13011419</td><td>0.147484191</td><td>0.2209695921</td></tr>\n",
       "\t<tr><th scope=row>uspr</th><td>0.28500757</td><td>0.012212543</td><td>0.13912423</td><td>0.223539102</td><td>0.0062574530</td></tr>\n",
       "\t<tr><th scope=row>pwel</th><td>0.13367447</td><td>0.024439319</td><td>0.21266083</td><td>0.005396741</td><td>0.0018375319</td></tr>\n",
       "\t<tr><th scope=row>uwel</th><td>0.28318344</td><td>0.001091357</td><td>0.13118957</td><td>0.044051893</td><td>0.0831197244</td></tr>\n",
       "\t<tr><th scope=row>surw</th><td>0.26495755</td><td>0.003377508</td><td>0.04099495</td><td>0.071027736</td><td>0.2599051632</td></tr>\n",
       "</tbody>\n",
       "</table>\n"
      ],
      "text/latex": [
       "A matrix: 7 × 5 of type dbl\n",
       "\\begin{tabular}{r|lllll}\n",
       "  & Dim.1 & Dim.2 & Dim.3 & Dim.4 & Dim.5\\\\\n",
       "\\hline\n",
       "\tptap & 0.21097955 & 0.325910358 & 0.04205954 & 0.110446953 & 0.0003527694\\\\\n",
       "\tbore & 0.03110368 & 0.053383286 & 0.55534158 & 0.004281551 & 0.0142737363\\\\\n",
       "\tpspr & 0.09789584 & 0.149244513 & 0.13011419 & 0.147484191 & 0.2209695921\\\\\n",
       "\tuspr & 0.28500757 & 0.012212543 & 0.13912423 & 0.223539102 & 0.0062574530\\\\\n",
       "\tpwel & 0.13367447 & 0.024439319 & 0.21266083 & 0.005396741 & 0.0018375319\\\\\n",
       "\tuwel & 0.28318344 & 0.001091357 & 0.13118957 & 0.044051893 & 0.0831197244\\\\\n",
       "\tsurw & 0.26495755 & 0.003377508 & 0.04099495 & 0.071027736 & 0.2599051632\\\\\n",
       "\\end{tabular}\n"
      ],
      "text/markdown": [
       "\n",
       "A matrix: 7 × 5 of type dbl\n",
       "\n",
       "| <!--/--> | Dim.1 | Dim.2 | Dim.3 | Dim.4 | Dim.5 |\n",
       "|---|---|---|---|---|---|\n",
       "| ptap | 0.21097955 | 0.325910358 | 0.04205954 | 0.110446953 | 0.0003527694 |\n",
       "| bore | 0.03110368 | 0.053383286 | 0.55534158 | 0.004281551 | 0.0142737363 |\n",
       "| pspr | 0.09789584 | 0.149244513 | 0.13011419 | 0.147484191 | 0.2209695921 |\n",
       "| uspr | 0.28500757 | 0.012212543 | 0.13912423 | 0.223539102 | 0.0062574530 |\n",
       "| pwel | 0.13367447 | 0.024439319 | 0.21266083 | 0.005396741 | 0.0018375319 |\n",
       "| uwel | 0.28318344 | 0.001091357 | 0.13118957 | 0.044051893 | 0.0831197244 |\n",
       "| surw | 0.26495755 | 0.003377508 | 0.04099495 | 0.071027736 | 0.2599051632 |\n",
       "\n"
      ],
      "text/plain": [
       "     Dim.1      Dim.2       Dim.3      Dim.4       Dim.5       \n",
       "ptap 0.21097955 0.325910358 0.04205954 0.110446953 0.0003527694\n",
       "bore 0.03110368 0.053383286 0.55534158 0.004281551 0.0142737363\n",
       "pspr 0.09789584 0.149244513 0.13011419 0.147484191 0.2209695921\n",
       "uspr 0.28500757 0.012212543 0.13912423 0.223539102 0.0062574530\n",
       "pwel 0.13367447 0.024439319 0.21266083 0.005396741 0.0018375319\n",
       "uwel 0.28318344 0.001091357 0.13118957 0.044051893 0.0831197244\n",
       "surw 0.26495755 0.003377508 0.04099495 0.071027736 0.2599051632"
      ]
     },
     "metadata": {},
     "output_type": "display_data"
    },
    {
     "data": {
      "text/html": [
       "<table class=\"dataframe\">\n",
       "<caption>A matrix: 7 × 5 of type dbl</caption>\n",
       "<thead>\n",
       "\t<tr><th></th><th scope=col>Dim.1</th><th scope=col>Dim.2</th><th scope=col>Dim.3</th><th scope=col>Dim.4</th><th scope=col>Dim.5</th></tr>\n",
       "</thead>\n",
       "<tbody>\n",
       "\t<tr><th scope=row>ptap</th><td>0.044512372</td><td>1.062176e-01</td><td>0.001769005</td><td>1.219853e-02</td><td>1.244463e-07</td></tr>\n",
       "\t<tr><th scope=row>bore</th><td>0.000967439</td><td>2.849775e-03</td><td>0.308404275</td><td>1.833168e-05</td><td>2.037395e-04</td></tr>\n",
       "\t<tr><th scope=row>pspr</th><td>0.009583595</td><td>2.227392e-02</td><td>0.016929703</td><td>2.175159e-02</td><td>4.882756e-02</td></tr>\n",
       "\t<tr><th scope=row>uspr</th><td>0.081229317</td><td>1.491462e-04</td><td>0.019355552</td><td>4.996973e-02</td><td>3.915572e-05</td></tr>\n",
       "\t<tr><th scope=row>pwel</th><td>0.017868865</td><td>5.972803e-04</td><td>0.045224630</td><td>2.912482e-05</td><td>3.376524e-06</td></tr>\n",
       "\t<tr><th scope=row>uwel</th><td>0.080192858</td><td>1.191059e-06</td><td>0.017210703</td><td>1.940569e-03</td><td>6.908889e-03</td></tr>\n",
       "\t<tr><th scope=row>surw</th><td>0.070202503</td><td>1.140756e-05</td><td>0.001680586</td><td>5.044939e-03</td><td>6.755069e-02</td></tr>\n",
       "</tbody>\n",
       "</table>\n"
      ],
      "text/latex": [
       "A matrix: 7 × 5 of type dbl\n",
       "\\begin{tabular}{r|lllll}\n",
       "  & Dim.1 & Dim.2 & Dim.3 & Dim.4 & Dim.5\\\\\n",
       "\\hline\n",
       "\tptap & 0.044512372 & 1.062176e-01 & 0.001769005 & 1.219853e-02 & 1.244463e-07\\\\\n",
       "\tbore & 0.000967439 & 2.849775e-03 & 0.308404275 & 1.833168e-05 & 2.037395e-04\\\\\n",
       "\tpspr & 0.009583595 & 2.227392e-02 & 0.016929703 & 2.175159e-02 & 4.882756e-02\\\\\n",
       "\tuspr & 0.081229317 & 1.491462e-04 & 0.019355552 & 4.996973e-02 & 3.915572e-05\\\\\n",
       "\tpwel & 0.017868865 & 5.972803e-04 & 0.045224630 & 2.912482e-05 & 3.376524e-06\\\\\n",
       "\tuwel & 0.080192858 & 1.191059e-06 & 0.017210703 & 1.940569e-03 & 6.908889e-03\\\\\n",
       "\tsurw & 0.070202503 & 1.140756e-05 & 0.001680586 & 5.044939e-03 & 6.755069e-02\\\\\n",
       "\\end{tabular}\n"
      ],
      "text/markdown": [
       "\n",
       "A matrix: 7 × 5 of type dbl\n",
       "\n",
       "| <!--/--> | Dim.1 | Dim.2 | Dim.3 | Dim.4 | Dim.5 |\n",
       "|---|---|---|---|---|---|\n",
       "| ptap | 0.044512372 | 1.062176e-01 | 0.001769005 | 1.219853e-02 | 1.244463e-07 |\n",
       "| bore | 0.000967439 | 2.849775e-03 | 0.308404275 | 1.833168e-05 | 2.037395e-04 |\n",
       "| pspr | 0.009583595 | 2.227392e-02 | 0.016929703 | 2.175159e-02 | 4.882756e-02 |\n",
       "| uspr | 0.081229317 | 1.491462e-04 | 0.019355552 | 4.996973e-02 | 3.915572e-05 |\n",
       "| pwel | 0.017868865 | 5.972803e-04 | 0.045224630 | 2.912482e-05 | 3.376524e-06 |\n",
       "| uwel | 0.080192858 | 1.191059e-06 | 0.017210703 | 1.940569e-03 | 6.908889e-03 |\n",
       "| surw | 0.070202503 | 1.140756e-05 | 0.001680586 | 5.044939e-03 | 6.755069e-02 |\n",
       "\n"
      ],
      "text/plain": [
       "     Dim.1       Dim.2        Dim.3       Dim.4        Dim.5       \n",
       "ptap 0.044512372 1.062176e-01 0.001769005 1.219853e-02 1.244463e-07\n",
       "bore 0.000967439 2.849775e-03 0.308404275 1.833168e-05 2.037395e-04\n",
       "pspr 0.009583595 2.227392e-02 0.016929703 2.175159e-02 4.882756e-02\n",
       "uspr 0.081229317 1.491462e-04 0.019355552 4.996973e-02 3.915572e-05\n",
       "pwel 0.017868865 5.972803e-04 0.045224630 2.912482e-05 3.376524e-06\n",
       "uwel 0.080192858 1.191059e-06 0.017210703 1.940569e-03 6.908889e-03\n",
       "surw 0.070202503 1.140756e-05 0.001680586 5.044939e-03 6.755069e-02"
      ]
     },
     "metadata": {},
     "output_type": "display_data"
    },
    {
     "data": {
      "text/html": [
       "<table class=\"dataframe\">\n",
       "<caption>A matrix: 7 × 5 of type dbl</caption>\n",
       "<thead>\n",
       "\t<tr><th></th><th scope=col>Dim.1</th><th scope=col>Dim.2</th><th scope=col>Dim.3</th><th scope=col>Dim.4</th><th scope=col>Dim.5</th></tr>\n",
       "</thead>\n",
       "<tbody>\n",
       "\t<tr><th scope=row>ptap</th><td>2.8033981</td><td>9.87257723</td><td> 1.506232</td><td>4.1019099</td><td> 0.01450745</td></tr>\n",
       "\t<tr><th scope=row>bore</th><td>0.4132912</td><td>1.61710300</td><td>19.887831</td><td>0.1590133</td><td> 0.58699978</td></tr>\n",
       "\t<tr><th scope=row>pspr</th><td>1.3007943</td><td>4.52096090</td><td> 4.659635</td><td>5.4774428</td><td> 9.08725649</td></tr>\n",
       "\t<tr><th scope=row>uspr</th><td>3.7870480</td><td>0.36994614</td><td> 4.982302</td><td>8.3020603</td><td> 0.25733441</td></tr>\n",
       "\t<tr><th scope=row>pwel</th><td>1.7762042</td><td>0.74032341</td><td> 7.615786</td><td>0.2004306</td><td> 0.07556752</td></tr>\n",
       "\t<tr><th scope=row>uwel</th><td>3.7628097</td><td>0.03305971</td><td> 4.698146</td><td>1.6360515</td><td> 3.41825428</td></tr>\n",
       "\t<tr><th scope=row>surw</th><td>3.5206326</td><td>0.10231251</td><td> 1.468107</td><td>2.6379123</td><td>10.68846106</td></tr>\n",
       "</tbody>\n",
       "</table>\n"
      ],
      "text/latex": [
       "A matrix: 7 × 5 of type dbl\n",
       "\\begin{tabular}{r|lllll}\n",
       "  & Dim.1 & Dim.2 & Dim.3 & Dim.4 & Dim.5\\\\\n",
       "\\hline\n",
       "\tptap & 2.8033981 & 9.87257723 &  1.506232 & 4.1019099 &  0.01450745\\\\\n",
       "\tbore & 0.4132912 & 1.61710300 & 19.887831 & 0.1590133 &  0.58699978\\\\\n",
       "\tpspr & 1.3007943 & 4.52096090 &  4.659635 & 5.4774428 &  9.08725649\\\\\n",
       "\tuspr & 3.7870480 & 0.36994614 &  4.982302 & 8.3020603 &  0.25733441\\\\\n",
       "\tpwel & 1.7762042 & 0.74032341 &  7.615786 & 0.2004306 &  0.07556752\\\\\n",
       "\tuwel & 3.7628097 & 0.03305971 &  4.698146 & 1.6360515 &  3.41825428\\\\\n",
       "\tsurw & 3.5206326 & 0.10231251 &  1.468107 & 2.6379123 & 10.68846106\\\\\n",
       "\\end{tabular}\n"
      ],
      "text/markdown": [
       "\n",
       "A matrix: 7 × 5 of type dbl\n",
       "\n",
       "| <!--/--> | Dim.1 | Dim.2 | Dim.3 | Dim.4 | Dim.5 |\n",
       "|---|---|---|---|---|---|\n",
       "| ptap | 2.8033981 | 9.87257723 |  1.506232 | 4.1019099 |  0.01450745 |\n",
       "| bore | 0.4132912 | 1.61710300 | 19.887831 | 0.1590133 |  0.58699978 |\n",
       "| pspr | 1.3007943 | 4.52096090 |  4.659635 | 5.4774428 |  9.08725649 |\n",
       "| uspr | 3.7870480 | 0.36994614 |  4.982302 | 8.3020603 |  0.25733441 |\n",
       "| pwel | 1.7762042 | 0.74032341 |  7.615786 | 0.2004306 |  0.07556752 |\n",
       "| uwel | 3.7628097 | 0.03305971 |  4.698146 | 1.6360515 |  3.41825428 |\n",
       "| surw | 3.5206326 | 0.10231251 |  1.468107 | 2.6379123 | 10.68846106 |\n",
       "\n"
      ],
      "text/plain": [
       "     Dim.1     Dim.2      Dim.3     Dim.4     Dim.5      \n",
       "ptap 2.8033981 9.87257723  1.506232 4.1019099  0.01450745\n",
       "bore 0.4132912 1.61710300 19.887831 0.1590133  0.58699978\n",
       "pspr 1.3007943 4.52096090  4.659635 5.4774428  9.08725649\n",
       "uspr 3.7870480 0.36994614  4.982302 8.3020603  0.25733441\n",
       "pwel 1.7762042 0.74032341  7.615786 0.2004306  0.07556752\n",
       "uwel 3.7628097 0.03305971  4.698146 1.6360515  3.41825428\n",
       "surw 3.5206326 0.10231251  1.468107 2.6379123 10.68846106"
      ]
     },
     "metadata": {},
     "output_type": "display_data"
    }
   ],
   "source": [
    "# Coordinates of variables\n",
    "head(var$coord,7)\n",
    "# Cos2: quality of representation on the factore map\n",
    "head(var$cos2,7)\n",
    "# Contributions to the  dimensions\n",
    "head(var$contrib,7)"
   ]
  },
  {
   "cell_type": "code",
   "execution_count": 100,
   "metadata": {},
   "outputs": [
    {
     "data": {
      "image/png": "[encoded data removed]",
      "text/plain": [
       "plot without title"
      ]
     },
     "metadata": {
      "image/png": {
       "height": 420,
       "width": 420
      }
     },
     "output_type": "display_data"
    },
    {
     "data": {
      "image/png": "[encoded data removed]",
      "text/plain": [
       "plot without title"
      ]
     },
     "metadata": {
      "image/png": {
       "height": 420,
       "width": 420
      }
     },
     "output_type": "display_data"
    },
    {
     "data": {
      "image/png": "[encoded data removed]",
      "text/plain": [
       "plot without title"
      ]
     },
     "metadata": {
      "image/png": {
       "height": 420,
       "width": 420
      }
     },
     "output_type": "display_data"
    }
   ],
   "source": [
    "# Plot of variables\n",
    "fviz_famd_var(res.famd, repel = TRUE)\n",
    "# Contribution to the first dimension\n",
    "fviz_contrib(res.famd, \"var\", axes = 1)\n",
    "# Contribution to the second dimension\n",
    "fviz_contrib(res.famd, \"var\", axes = 2)"
   ]
  },
  {
   "cell_type": "markdown",
   "metadata": {},
   "source": [
    "From the plots above, it can be seen that:\n",
    "\n",
    "variables that contribute the most to the first dimension are: iwsp and watp.\n",
    "\n",
    "variables that contribute the most to the second dimension are: basw and ptap."
   ]
  }
 ],
 "metadata": {
  "kernelspec": {
   "display_name": "R",
   "language": "R",
   "name": "ir"
  },
  "language_info": {
   "codemirror_mode": "r",
   "file_extension": ".r",
   "mimetype": "text/x-r-source",
   "name": "R",
   "pygments_lexer": "r",
   "version": "4.0.2"
  }
 },
 "nbformat": 4,
 "nbformat_minor": 4
}
