{
 "cells": [
  {
   "cell_type": "markdown",
   "metadata": {},
   "source": [
    "# Clustering of Factor Analysis Results"
   ]
  },
  {
   "cell_type": "code",
   "execution_count": 96,
   "metadata": {},
   "outputs": [
    {
     "name": "stderr",
     "output_type": "stream",
     "text": [
      "Warning message:\n",
      "\"package 'clusterSim' is in use and will not be installed\"\n"
     ]
    }
   ],
   "source": [
    "library(readxl)\n",
    "library(tidyverse) #data Manipulation\n",
    "library(magrittr)\n",
    "library(cluster) #Clustering algorithms\n",
    "#install.packages('cluster.datasets')\n",
    "library(cluster.datasets)\n",
    "library(cowplot)\n",
    "#install.packages('clValid')\n",
    "library(clValid)\n",
    "#install.packages('ggfortify')\n",
    "library(ggfortify)\n",
    "#install.packages('clustree')\n",
    "library(clustree)\n",
    "library(factoextra)#Clustering Algorithms & Visualization\n",
    "library(FactoMineR)\n",
    "library(gridExtra)\n",
    "library(corrplot)\n",
    "#install.packages(\"dendextend\")\n",
    "#install.packages(\"ggplot2\")\n",
    "#install.packages(\"rlang\")\n",
    "library(dendextend) # For fancy deprograms\n",
    "library(rlang) # clustering cutting\n",
    "#install.packages('NbClust')\n",
    "library(NbClust)\n",
    "#install.packages('writexl')\n",
    "library(writexl)\n",
    "library(GGally)\n",
    "#install.packages('ggiraphExtra')\n",
    "library(ggiraphExtra)\n",
    "library(knitr)\n",
    "library(kableExtra)\n",
    "library(\"RColorBrewer\")\n",
    "\n",
    "install.packages('clusterSim')\n",
    "library(clusterSim)"
   ]
  },
  {
   "cell_type": "code",
   "execution_count": 98,
   "metadata": {
    "scrolled": false
   },
   "outputs": [
    {
     "data": {
      "text/html": [
       "<table class=\"dataframe\">\n",
       "<caption>A tibble: 7 × 8</caption>\n",
       "<thead>\n",
       "\t<tr><th scope=col>Country</th><th scope=col>ML1</th><th scope=col>ML6</th><th scope=col>ML3</th><th scope=col>ML5</th><th scope=col>ML2</th><th scope=col>ML7</th><th scope=col>ML4</th></tr>\n",
       "\t<tr><th scope=col>&lt;chr&gt;</th><th scope=col>&lt;dbl&gt;</th><th scope=col>&lt;dbl&gt;</th><th scope=col>&lt;dbl&gt;</th><th scope=col>&lt;dbl&gt;</th><th scope=col>&lt;dbl&gt;</th><th scope=col>&lt;dbl&gt;</th><th scope=col>&lt;dbl&gt;</th></tr>\n",
       "</thead>\n",
       "<tbody>\n",
       "\t<tr><td>Afghanistan</td><td>0.572418217</td><td>0.27948505</td><td>0.4740642</td><td>0.48905269</td><td>0.3327190</td><td>0.6406390</td><td>0.5244550</td></tr>\n",
       "\t<tr><td>Albania    </td><td>0.173347287</td><td>0.16631234</td><td>0.7812555</td><td>0.21604457</td><td>0.3179487</td><td>0.2668756</td><td>0.5813036</td></tr>\n",
       "\t<tr><td>Angola     </td><td>0.555402896</td><td>0.26567935</td><td>0.6221088</td><td>0.51799504</td><td>0.4010244</td><td>0.8739405</td><td>0.4280040</td></tr>\n",
       "\t<tr><td>Armenia    </td><td>0.006249719</td><td>0.01802207</td><td>0.9992766</td><td>0.05567089</td><td>0.0000000</td><td>0.1978413</td><td>0.5088645</td></tr>\n",
       "\t<tr><td>Azerbaijan </td><td>0.172305543</td><td>0.17209406</td><td>0.6946237</td><td>0.41693952</td><td>0.2060016</td><td>0.4634648</td><td>0.4247652</td></tr>\n",
       "\t<tr><td>Bangladesh </td><td>0.116506831</td><td>0.08746231</td><td>0.0000000</td><td>0.29168400</td><td>0.1829046</td><td>0.1907371</td><td>0.5876124</td></tr>\n",
       "\t<tr><td>Benin      </td><td>0.637942432</td><td>0.21134166</td><td>0.4559905</td><td>0.49267200</td><td>0.2827230</td><td>0.4847495</td><td>0.6788342</td></tr>\n",
       "</tbody>\n",
       "</table>\n"
      ],
      "text/latex": [
       "A tibble: 7 × 8\n",
       "\\begin{tabular}{llllllll}\n",
       " Country & ML1 & ML6 & ML3 & ML5 & ML2 & ML7 & ML4\\\\\n",
       " <chr> & <dbl> & <dbl> & <dbl> & <dbl> & <dbl> & <dbl> & <dbl>\\\\\n",
       "\\hline\n",
       "\t Afghanistan & 0.572418217 & 0.27948505 & 0.4740642 & 0.48905269 & 0.3327190 & 0.6406390 & 0.5244550\\\\\n",
       "\t Albania     & 0.173347287 & 0.16631234 & 0.7812555 & 0.21604457 & 0.3179487 & 0.2668756 & 0.5813036\\\\\n",
       "\t Angola      & 0.555402896 & 0.26567935 & 0.6221088 & 0.51799504 & 0.4010244 & 0.8739405 & 0.4280040\\\\\n",
       "\t Armenia     & 0.006249719 & 0.01802207 & 0.9992766 & 0.05567089 & 0.0000000 & 0.1978413 & 0.5088645\\\\\n",
       "\t Azerbaijan  & 0.172305543 & 0.17209406 & 0.6946237 & 0.41693952 & 0.2060016 & 0.4634648 & 0.4247652\\\\\n",
       "\t Bangladesh  & 0.116506831 & 0.08746231 & 0.0000000 & 0.29168400 & 0.1829046 & 0.1907371 & 0.5876124\\\\\n",
       "\t Benin       & 0.637942432 & 0.21134166 & 0.4559905 & 0.49267200 & 0.2827230 & 0.4847495 & 0.6788342\\\\\n",
       "\\end{tabular}\n"
      ],
      "text/markdown": [
       "\n",
       "A tibble: 7 × 8\n",
       "\n",
       "| Country &lt;chr&gt; | ML1 &lt;dbl&gt; | ML6 &lt;dbl&gt; | ML3 &lt;dbl&gt; | ML5 &lt;dbl&gt; | ML2 &lt;dbl&gt; | ML7 &lt;dbl&gt; | ML4 &lt;dbl&gt; |\n",
       "|---|---|---|---|---|---|---|---|\n",
       "| Afghanistan | 0.572418217 | 0.27948505 | 0.4740642 | 0.48905269 | 0.3327190 | 0.6406390 | 0.5244550 |\n",
       "| Albania     | 0.173347287 | 0.16631234 | 0.7812555 | 0.21604457 | 0.3179487 | 0.2668756 | 0.5813036 |\n",
       "| Angola      | 0.555402896 | 0.26567935 | 0.6221088 | 0.51799504 | 0.4010244 | 0.8739405 | 0.4280040 |\n",
       "| Armenia     | 0.006249719 | 0.01802207 | 0.9992766 | 0.05567089 | 0.0000000 | 0.1978413 | 0.5088645 |\n",
       "| Azerbaijan  | 0.172305543 | 0.17209406 | 0.6946237 | 0.41693952 | 0.2060016 | 0.4634648 | 0.4247652 |\n",
       "| Bangladesh  | 0.116506831 | 0.08746231 | 0.0000000 | 0.29168400 | 0.1829046 | 0.1907371 | 0.5876124 |\n",
       "| Benin       | 0.637942432 | 0.21134166 | 0.4559905 | 0.49267200 | 0.2827230 | 0.4847495 | 0.6788342 |\n",
       "\n"
      ],
      "text/plain": [
       "  Country     ML1         ML6        ML3       ML5        ML2       ML7      \n",
       "1 Afghanistan 0.572418217 0.27948505 0.4740642 0.48905269 0.3327190 0.6406390\n",
       "2 Albania     0.173347287 0.16631234 0.7812555 0.21604457 0.3179487 0.2668756\n",
       "3 Angola      0.555402896 0.26567935 0.6221088 0.51799504 0.4010244 0.8739405\n",
       "4 Armenia     0.006249719 0.01802207 0.9992766 0.05567089 0.0000000 0.1978413\n",
       "5 Azerbaijan  0.172305543 0.17209406 0.6946237 0.41693952 0.2060016 0.4634648\n",
       "6 Bangladesh  0.116506831 0.08746231 0.0000000 0.29168400 0.1829046 0.1907371\n",
       "7 Benin       0.637942432 0.21134166 0.4559905 0.49267200 0.2827230 0.4847495\n",
       "  ML4      \n",
       "1 0.5244550\n",
       "2 0.5813036\n",
       "3 0.4280040\n",
       "4 0.5088645\n",
       "5 0.4247652\n",
       "6 0.5876124\n",
       "7 0.6788342"
      ]
     },
     "metadata": {},
     "output_type": "display_data"
    },
    {
     "data": {
      "text/plain": [
       "   Country               ML1              ML6              ML3        \n",
       " Length:73          Min.   :0.0000   Min.   :0.0000   Min.   :0.0000  \n",
       " Class :character   1st Qu.:0.1733   1st Qu.:0.1649   1st Qu.:0.4645  \n",
       " Mode  :character   Median :0.4295   Median :0.2146   Median :0.5688  \n",
       "                    Mean   :0.3889   Mean   :0.2571   Mean   :0.5841  \n",
       "                    3rd Qu.:0.5554   3rd Qu.:0.3083   3rd Qu.:0.7118  \n",
       "                    Max.   :1.0000   Max.   :1.0000   Max.   :1.0000  \n",
       "      ML5              ML2              ML7              ML4        \n",
       " Min.   :0.0000   Min.   :0.0000   Min.   :0.0000   Min.   :0.0000  \n",
       " 1st Qu.:0.3541   1st Qu.:0.2178   1st Qu.:0.2499   1st Qu.:0.4500  \n",
       " Median :0.4891   Median :0.2774   Median :0.3684   Median :0.5759  \n",
       " Mean   :0.4636   Mean   :0.2970   Mean   :0.3939   Mean   :0.5628  \n",
       " 3rd Qu.:0.5929   3rd Qu.:0.3286   3rd Qu.:0.5159   3rd Qu.:0.6788  \n",
       " Max.   :1.0000   Max.   :1.0000   Max.   :1.0000   Max.   :1.0000  "
      ]
     },
     "metadata": {},
     "output_type": "display_data"
    },
    {
     "name": "stdout",
     "output_type": "stream",
     "text": [
      "*** : The Hubert index is a graphical method of determining the number of clusters.\n",
      "                In the plot of Hubert index, we seek a significant knee that corresponds to a \n",
      "                significant increase of the value of the measure i.e the significant peak in Hubert\n",
      "                index second differences plot. \n",
      " \n",
      "*** : The D index is a graphical method of determining the number of clusters. \n",
      "                In the plot of D index, we seek a significant knee (the significant peak in Dindex\n",
      "                second differences plot) that corresponds to a significant increase of the value of\n",
      "                the measure. \n",
      " \n",
      "******************************************************************* \n",
      "* Among all indices:                                                \n",
      "* 7 proposed 3 as the best number of clusters \n",
      "* 4 proposed 4 as the best number of clusters \n",
      "* 3 proposed 5 as the best number of clusters \n",
      "* 3 proposed 6 as the best number of clusters \n",
      "* 10 proposed 7 as the best number of clusters \n",
      "\n",
      "                   ***** Conclusion *****                            \n",
      " \n",
      "* According to the majority rule, the best number of clusters is  7 \n",
      " \n",
      " \n",
      "******************************************************************* \n"
     ]
    },
    {
     "data": {
      "text/html": [
       "<strong>png:</strong> 2"
      ],
      "text/latex": [
       "\\textbf{png:} 2"
      ],
      "text/markdown": [
       "**png:** 2"
      ],
      "text/plain": [
       "png \n",
       "  2 "
      ]
     },
     "metadata": {},
     "output_type": "display_data"
    },
    {
     "data": {
      "image/png": "[encoded data removed]",
      "text/plain": [
       "Plot with title \"Countries\""
      ]
     },
     "metadata": {
      "image/png": {
       "height": 420,
       "width": 900
      }
     },
     "output_type": "display_data"
    },
    {
     "ename": "ERROR",
     "evalue": "Error in plot.xy(xy, type, ...): invalid graphics state\n",
     "output_type": "error",
     "traceback": [
      "Error in plot.xy(xy, type, ...): invalid graphics state\nTraceback:\n",
      "1. NbClust(data = df, distance = \"euclidean\", min.nc = 3, max.nc = 7, \n .     method = \"ward.D\", index = \"alllong\", alphaBeale = 0.1)",
      "2. plot(x_axis, res[, 27], tck = 0, type = \"b\", col = \"red\", xlab = expression(paste(\"Number of clusters \")), \n .     ylab = expression(paste(\"Hubert Statistic values\")))",
      "3. plot.default(x_axis, res[, 27], tck = 0, type = \"b\", col = \"red\", \n .     xlab = expression(paste(\"Number of clusters \")), ylab = expression(paste(\"Hubert Statistic values\")))",
      "4. plot.xy(xy, type, ...)"
     ]
    },
    {
     "data": {
      "image/png": "[encoded data removed]",
      "text/plain": [
       "plot without title"
      ]
     },
     "metadata": {
      "image/png": {
       "height": 420,
       "width": 900
      }
     },
     "output_type": "display_data"
    }
   ],
   "source": [
    "df.wa <- read_excel(\"../../results/df-seven-scores.xlsx\",sheet=1)\n",
    "head(df.wa,7)\n",
    "summary(df.wa)\n",
    "#Clustering using the optimal method\n",
    "df <- df.wa[,c(2:8)]\n",
    "hc.ward2=hclust(dist(df), method =\"ward.D2\")\n",
    "\n",
    "options(repr.plot.width=15, repr.plot.height=7)\n",
    "plot(hc.ward2, main=\"Countries\", xlab=\"\", \n",
    "     ylab=\"\", cex=.9, labels=df.wa$Country)\n",
    "\n",
    "#optimal cuts\n",
    "par(mar=c(1,1,1,1))\n",
    "png(\n",
    "  \"optimal-clusters-ward-d2.png\",\n",
    "  width     = 5,\n",
    "  height    = 5,\n",
    "  units     = \"in\",\n",
    "  res       = 700,\n",
    "  #pointsize = 6\n",
    ")\n",
    "\n",
    "optimald2 = NbClust(data= df, distance = \"euclidean\", min.nc = 3, max.nc = 7, method = \"ward.D2\", index = \"alllong\" ,alphaBeale = 0.1)\n",
    "\n",
    "dev.off()\n",
    "\n",
    "optimald = NbClust(data= df, distance = \"euclidean\", min.nc = 3, max.nc = 7, method = \"ward.D\", index = 'alllong',alphaBeale = 0.1)\n",
    "optimalcomplete = NbClust(data= df, distance = \"euclidean\", min.nc = 3, max.nc = 7, method = \"complete\", index = 'alllong',alphaBeale = 0.1)\n",
    "optimal.kmeans = NbClust(data= df, distance = \"euclidean\", min.nc = 3, max.nc = 7, method = \"kmeans\", index = 'alllong',alphaBeale = 0.1)\n",
    "\n",
    "par(mar=c(1,1,1,1))\n",
    "png(\n",
    "  \"optimal-clusters-wardd2.png\",\n",
    "  width     = 10,\n",
    "  height    = 5,\n",
    "  units     = \"in\",\n",
    "  res       = 700,\n",
    "  #pointsize = 6\n",
    ")\n",
    "factoextra::fviz_nbclust(optimald2) + theme_minimal() + ggtitle(\"\")\n",
    "dev.off()\n"
   ]
  },
  {
   "cell_type": "markdown",
   "metadata": {},
   "source": [
    "Due to low number of observation of 73 countries, we want to use 3 cuts to have a better clustering affects, and is the second best cutting option, where we will get to see better clustered results"
   ]
  },
  {
   "cell_type": "markdown",
   "metadata": {},
   "source": [
    "# Best cut Insight & Wisdom"
   ]
  },
  {
   "cell_type": "code",
   "execution_count": 99,
   "metadata": {
    "scrolled": false
   },
   "outputs": [
    {
     "data": {
      "text/html": [
       "<table class=\"dataframe\">\n",
       "<caption>A matrix: 7 × 2 of type int</caption>\n",
       "<thead>\n",
       "\t<tr><th></th><th scope=col>row</th><th scope=col>col</th></tr>\n",
       "</thead>\n",
       "<tbody>\n",
       "\t<tr><th scope=row>Number_clusters</th><td>1</td><td> 2</td></tr>\n",
       "\t<tr><th scope=row>Number_clusters</th><td>1</td><td> 4</td></tr>\n",
       "\t<tr><th scope=row>Number_clusters</th><td>1</td><td>14</td></tr>\n",
       "\t<tr><th scope=row>Number_clusters</th><td>1</td><td>15</td></tr>\n",
       "\t<tr><th scope=row>Number_clusters</th><td>1</td><td>17</td></tr>\n",
       "\t<tr><th scope=row>Number_clusters</th><td>1</td><td>20</td></tr>\n",
       "\t<tr><th scope=row>Number_clusters</th><td>1</td><td>22</td></tr>\n",
       "</tbody>\n",
       "</table>\n"
      ],
      "text/latex": [
       "A matrix: 7 × 2 of type int\n",
       "\\begin{tabular}{r|ll}\n",
       "  & row & col\\\\\n",
       "\\hline\n",
       "\tNumber\\_clusters & 1 &  2\\\\\n",
       "\tNumber\\_clusters & 1 &  4\\\\\n",
       "\tNumber\\_clusters & 1 & 14\\\\\n",
       "\tNumber\\_clusters & 1 & 15\\\\\n",
       "\tNumber\\_clusters & 1 & 17\\\\\n",
       "\tNumber\\_clusters & 1 & 20\\\\\n",
       "\tNumber\\_clusters & 1 & 22\\\\\n",
       "\\end{tabular}\n"
      ],
      "text/markdown": [
       "\n",
       "A matrix: 7 × 2 of type int\n",
       "\n",
       "| <!--/--> | row | col |\n",
       "|---|---|---|\n",
       "| Number_clusters | 1 |  2 |\n",
       "| Number_clusters | 1 |  4 |\n",
       "| Number_clusters | 1 | 14 |\n",
       "| Number_clusters | 1 | 15 |\n",
       "| Number_clusters | 1 | 17 |\n",
       "| Number_clusters | 1 | 20 |\n",
       "| Number_clusters | 1 | 22 |\n",
       "\n"
      ],
      "text/plain": [
       "                row col\n",
       "Number_clusters 1    2 \n",
       "Number_clusters 1    4 \n",
       "Number_clusters 1   14 \n",
       "Number_clusters 1   15 \n",
       "Number_clusters 1   17 \n",
       "Number_clusters 1   20 \n",
       "Number_clusters 1   22 "
      ]
     },
     "metadata": {},
     "output_type": "display_data"
    },
    {
     "data": {
      "text/html": [
       "<ol>\n",
       "\t<li><table class=\"dataframe\">\n",
       "<caption>A matrix: 2 × 6 of type dbl</caption>\n",
       "<thead>\n",
       "\t<tr><th></th><th scope=col>CH</th><th scope=col>Duda</th><th scope=col>PseudoT2</th><th scope=col>Ratkowsky</th><th scope=col>Gap</th><th scope=col>McClain</th></tr>\n",
       "</thead>\n",
       "<tbody>\n",
       "\t<tr><th scope=row>Number_clusters</th><td> 3.000</td><td>3.0000</td><td> 3.000</td><td>3.0000</td><td> 3.0000</td><td>3.0000</td></tr>\n",
       "\t<tr><th scope=row>Value_Index</th><td>23.663</td><td>0.6357</td><td>11.461</td><td>0.3495</td><td>-0.9487</td><td>1.1244</td></tr>\n",
       "</tbody>\n",
       "</table>\n",
       "</li>\n",
       "</ol>\n"
      ],
      "text/latex": [
       "\\begin{enumerate}\n",
       "\\item A matrix: 2 × 6 of type dbl\n",
       "\\begin{tabular}{r|llllll}\n",
       "  & CH & Duda & PseudoT2 & Ratkowsky & Gap & McClain\\\\\n",
       "\\hline\n",
       "\tNumber\\_clusters &  3.000 & 3.0000 &  3.000 & 3.0000 &  3.0000 & 3.0000\\\\\n",
       "\tValue\\_Index & 23.663 & 0.6357 & 11.461 & 0.3495 & -0.9487 & 1.1244\\\\\n",
       "\\end{tabular}\n",
       "\n",
       "\\end{enumerate}\n"
      ],
      "text/markdown": [
       "1. \n",
       "A matrix: 2 × 6 of type dbl\n",
       "\n",
       "| <!--/--> | CH | Duda | PseudoT2 | Ratkowsky | Gap | McClain |\n",
       "|---|---|---|---|---|---|---|\n",
       "| Number_clusters |  3.000 | 3.0000 |  3.000 | 3.0000 |  3.0000 | 3.0000 |\n",
       "| Value_Index | 23.663 | 0.6357 | 11.461 | 0.3495 | -0.9487 | 1.1244 |\n",
       "\n",
       "\n",
       "\n",
       "\n"
      ],
      "text/plain": [
       "[[1]]\n",
       "                    CH   Duda PseudoT2 Ratkowsky     Gap McClain\n",
       "Number_clusters  3.000 3.0000    3.000    3.0000  3.0000  3.0000\n",
       "Value_Index     23.663 0.6357   11.461    0.3495 -0.9487  1.1244\n"
      ]
     },
     "metadata": {},
     "output_type": "display_data"
    },
    {
     "data": {
      "text/html": [
       "<ol>\n",
       "\t<li><table class=\"dataframe\">\n",
       "<caption>A matrix: 5 × 6 of type dbl</caption>\n",
       "<thead>\n",
       "\t<tr><th></th><th scope=col>CH</th><th scope=col>Duda</th><th scope=col>Pseudot2</th><th scope=col>Ratkowsky</th><th scope=col>Gap</th><th scope=col>McClain</th></tr>\n",
       "</thead>\n",
       "<tbody>\n",
       "\t<tr><th scope=row>3</th><td>23.6630</td><td>0.6357</td><td>11.4610</td><td>0.3495</td><td>-0.9487</td><td>1.1244</td></tr>\n",
       "\t<tr><th scope=row>4</th><td>20.7867</td><td>0.7694</td><td>10.4914</td><td>0.3334</td><td>-1.3367</td><td>1.2320</td></tr>\n",
       "\t<tr><th scope=row>5</th><td>20.1583</td><td>0.5394</td><td>13.6622</td><td>0.3222</td><td>-1.5803</td><td>1.7228</td></tr>\n",
       "\t<tr><th scope=row>6</th><td>19.9513</td><td>0.5828</td><td> 8.5913</td><td>0.3092</td><td>-1.9398</td><td>1.9161</td></tr>\n",
       "\t<tr><th scope=row>7</th><td>19.7964</td><td>0.3670</td><td>10.3472</td><td>0.3015</td><td>-2.2621</td><td>2.0245</td></tr>\n",
       "</tbody>\n",
       "</table>\n",
       "</li>\n",
       "</ol>\n"
      ],
      "text/latex": [
       "\\begin{enumerate}\n",
       "\\item A matrix: 5 × 6 of type dbl\n",
       "\\begin{tabular}{r|llllll}\n",
       "  & CH & Duda & Pseudot2 & Ratkowsky & Gap & McClain\\\\\n",
       "\\hline\n",
       "\t3 & 23.6630 & 0.6357 & 11.4610 & 0.3495 & -0.9487 & 1.1244\\\\\n",
       "\t4 & 20.7867 & 0.7694 & 10.4914 & 0.3334 & -1.3367 & 1.2320\\\\\n",
       "\t5 & 20.1583 & 0.5394 & 13.6622 & 0.3222 & -1.5803 & 1.7228\\\\\n",
       "\t6 & 19.9513 & 0.5828 &  8.5913 & 0.3092 & -1.9398 & 1.9161\\\\\n",
       "\t7 & 19.7964 & 0.3670 & 10.3472 & 0.3015 & -2.2621 & 2.0245\\\\\n",
       "\\end{tabular}\n",
       "\n",
       "\\end{enumerate}\n"
      ],
      "text/markdown": [
       "1. \n",
       "A matrix: 5 × 6 of type dbl\n",
       "\n",
       "| <!--/--> | CH | Duda | Pseudot2 | Ratkowsky | Gap | McClain |\n",
       "|---|---|---|---|---|---|---|\n",
       "| 3 | 23.6630 | 0.6357 | 11.4610 | 0.3495 | -0.9487 | 1.1244 |\n",
       "| 4 | 20.7867 | 0.7694 | 10.4914 | 0.3334 | -1.3367 | 1.2320 |\n",
       "| 5 | 20.1583 | 0.5394 | 13.6622 | 0.3222 | -1.5803 | 1.7228 |\n",
       "| 6 | 19.9513 | 0.5828 |  8.5913 | 0.3092 | -1.9398 | 1.9161 |\n",
       "| 7 | 19.7964 | 0.3670 | 10.3472 | 0.3015 | -2.2621 | 2.0245 |\n",
       "\n",
       "\n",
       "\n",
       "\n"
      ],
      "text/plain": [
       "[[1]]\n",
       "       CH   Duda Pseudot2 Ratkowsky     Gap McClain\n",
       "3 23.6630 0.6357  11.4610    0.3495 -0.9487  1.1244\n",
       "4 20.7867 0.7694  10.4914    0.3334 -1.3367  1.2320\n",
       "5 20.1583 0.5394  13.6622    0.3222 -1.5803  1.7228\n",
       "6 19.9513 0.5828   8.5913    0.3092 -1.9398  1.9161\n",
       "7 19.7964 0.3670  10.3472    0.3015 -2.2621  2.0245\n"
      ]
     },
     "metadata": {},
     "output_type": "display_data"
    },
    {
     "data": {
      "text/html": [
       "<strong>png:</strong> 2"
      ],
      "text/latex": [
       "\\textbf{png:} 2"
      ],
      "text/markdown": [
       "**png:** 2"
      ],
      "text/plain": [
       "png \n",
       "  2 "
      ]
     },
     "metadata": {},
     "output_type": "display_data"
    },
    {
     "data": {
      "image/png": "[encoded data removed]",
      "text/plain": [
       "plot without title"
      ]
     },
     "metadata": {
      "image/png": {
       "height": 600,
       "width": 900
      }
     },
     "output_type": "display_data"
    }
   ],
   "source": [
    "which(optimald2$Best.nc == 3, arr.ind=TRUE)\n",
    "list(optimald2$Best.nc[,c(2,14,15,17,20,22)])\n",
    "list(optimald2$All.index[,c(2,14,15,17,20,22)])\n",
    "\n",
    "#sizing\n",
    "options(repr.plot.width=15, repr.plot.height=10)\n",
    "par(mar = c(7,7,7,10))\n",
    "\n",
    "#Graph showing which is the optimal cuts\n",
    "index <- optimald2$All.index[,c(14,17,22)]\n",
    "par(mar=c(1,1,1,1))\n",
    "png(\n",
    "  \"optimal-cuts.png\",\n",
    "  width     = 10,\n",
    "  height    = 5,\n",
    "  units     = \"in\",\n",
    "  res       = 700,\n",
    "  #pointsize = 6\n",
    ")\n",
    "\n",
    "pdf(file = \"../../docs/manuscript/pdf-image/optimal-cuts.pdf\"\n",
    "  ,\n",
    "  width     = 10,\n",
    "  height    = 5 )\n",
    "\n",
    "\n",
    "barplot(index, beside = TRUE, main = \"\",\n",
    "        col = c( \"green\",\"yellow\",\"orange\",\"red\",\"purple\"),\n",
    "        ylab = \"Value Index\", legend = c(\"3 clusters\",\"4 clusters\", \"5 clusters\", \"6 clusters\",\"7 clusters\"),        \n",
    "        args.legend = list(title = \"Number of Clusters\", cex = .7, x = \"topleft\", bty = \"n\",inset=c(0, 0) ))\n",
    "dev.off()\n",
    "# Duda - Smallest number of clusters such that index > criticalValue\n",
    "# Ratkowsky - Maximum value of the index\n",
    "#22. \"mcclain\" or \"all\" or \"alllong\" - Minimum value of the index"
   ]
  },
  {
   "cell_type": "code",
   "execution_count": 100,
   "metadata": {},
   "outputs": [
    {
     "data": {
      "text/html": [
       "<strong>png:</strong> 2"
      ],
      "text/latex": [
       "\\textbf{png:} 2"
      ],
      "text/markdown": [
       "**png:** 2"
      ],
      "text/plain": [
       "png \n",
       "  2 "
      ]
     },
     "metadata": {},
     "output_type": "display_data"
    }
   ],
   "source": [
    "par(mar=c(1,1,1,1))\n",
    "png(\n",
    "  \"gap-stat.png\",\n",
    "  width     = 10,\n",
    "  height    = 10,\n",
    "  units     = \"in\",\n",
    "  res       = 700,\n",
    "  #pointsize = 6\n",
    ")\n",
    "\n",
    "pdf(file = \"../../docs/manuscript/pdf-image/gap-stat.pdf\"\n",
    "  ,\n",
    "  width     = 10,\n",
    "  height    = 10 )\n",
    "\n",
    "set.seed(123)\n",
    "gap_stat <- clusGap(df, hcut, hc_method =\"ward.D2\" ,\n",
    "                   K.max = 7, B = 1000,  method = 'Tibs2001SEmax')\n",
    "fviz_gap_stat(gap_stat)\n",
    "dev.off()"
   ]
  },
  {
   "cell_type": "markdown",
   "metadata": {},
   "source": [
    "# Dendrogram "
   ]
  },
  {
   "cell_type": "code",
   "execution_count": 104,
   "metadata": {
    "scrolled": false
   },
   "outputs": [
    {
     "data": {
      "text/html": [
       "<style>\n",
       ".list-inline {list-style: none; margin:0; padding: 0}\n",
       ".list-inline>li {display: inline-block}\n",
       ".list-inline>li:not(:last-child)::after {content: \"\\00b7\"; padding: 0 .5ex}\n",
       "</style>\n",
       "<ol class=list-inline><li>'#E41A1C'</li><li>'#377EB8'</li><li>'#4DAF4A'</li><li>'#984EA3'</li><li>'#FF7F00'</li><li>'#FFFF33'</li></ol>\n"
      ],
      "text/latex": [
       "\\begin{enumerate*}\n",
       "\\item '\\#E41A1C'\n",
       "\\item '\\#377EB8'\n",
       "\\item '\\#4DAF4A'\n",
       "\\item '\\#984EA3'\n",
       "\\item '\\#FF7F00'\n",
       "\\item '\\#FFFF33'\n",
       "\\end{enumerate*}\n"
      ],
      "text/markdown": [
       "1. '#E41A1C'\n",
       "2. '#377EB8'\n",
       "3. '#4DAF4A'\n",
       "4. '#984EA3'\n",
       "5. '#FF7F00'\n",
       "6. '#FFFF33'\n",
       "\n",
       "\n"
      ],
      "text/plain": [
       "[1] \"#E41A1C\" \"#377EB8\" \"#4DAF4A\" \"#984EA3\" \"#FF7F00\" \"#FFFF33\""
      ]
     },
     "metadata": {},
     "output_type": "display_data"
    },
    {
     "data": {
      "text/html": [
       "<strong>png:</strong> 2"
      ],
      "text/latex": [
       "\\textbf{png:} 2"
      ],
      "text/markdown": [
       "**png:** 2"
      ],
      "text/plain": [
       "png \n",
       "  2 "
      ]
     },
     "metadata": {},
     "output_type": "display_data"
    },
    {
     "ename": "ERROR",
     "evalue": "Error in value[[3L]](cond): invalid graphics state\n",
     "output_type": "error",
     "traceback": [
      "Error in value[[3L]](cond): invalid graphics state\nTraceback:\n"
     ]
    },
    {
     "data": {
      "text/plain": [
       "plot without title"
      ]
     },
     "metadata": {
      "image/png": {
       "height": 840,
       "width": 600
      }
     },
     "output_type": "display_data"
    }
   ],
   "source": [
    "dfsimple <- read_excel(\"../../results/dfsimple.xlsx\",sheet=1)\n",
    "dfsimple[is.na(dfsimple)] <- 0\n",
    "clusters.wa <- cutree(hc.ward2,3)     \n",
    "dfsimple$clusters <- cutree(hc.ward2,3)\n",
    "write_xlsx(dfsimple , '../../results/dfsimple.xlsx')\n",
    "\n",
    "# Set1 easy to see'#E41A1C','#377EB8','#4DAF4A','#984EA3','#FF7F00'\n",
    "brewer.pal(n = 6, name = \"Set1\") # Best color scheme is Set1 \n",
    "\n",
    "dend <- as.dendrogram(hc.ward2 )\n",
    "dend <- color_branches(dend, k=3, col = c('#984EA3','#377EB8', '#4DAF4A'))\n",
    "labels(dend) <- df.wa$Country[hc.ward2$order]\n",
    "#sizing\n",
    "options(repr.plot.width=10, repr.plot.height=14)\n",
    "par(mar = c(1,1,1,10))\n",
    "\n",
    "\n",
    "png(\n",
    "  \"dendrogram.png\",\n",
    "  width     = 10,\n",
    "  height    = 10,\n",
    "  units     = \"in\",\n",
    "  res       = 700,\n",
    "  #pointsize = 6\n",
    ")\n",
    "\n",
    "dend %>% set(\"branches_k_color\", \n",
    "             value = c('#E41A1C','#377EB8', '#4DAF4A'), k = 3) %>% plot(horiz = TRUE, axes = FALSE)   \n",
    "\n",
    "dev.off()\n",
    "\n"
   ]
  },
  {
   "cell_type": "code",
   "execution_count": null,
   "metadata": {},
   "outputs": [],
   "source": []
  }
 ],
 "metadata": {
  "kernelspec": {
   "display_name": "R",
   "language": "R",
   "name": "ir"
  },
  "language_info": {
   "codemirror_mode": "r",
   "file_extension": ".r",
   "mimetype": "text/x-r-source",
   "name": "R",
   "pygments_lexer": "r",
   "version": "4.0.2"
  }
 },
 "nbformat": 4,
 "nbformat_minor": 4
}
