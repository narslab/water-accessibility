{
 "cells": [
  {
   "cell_type": "code",
   "execution_count": 1,
   "metadata": {},
   "outputs": [
    {
     "name": "stderr",
     "output_type": "stream",
     "text": [
      "Warning message:\n",
      "\"package 'randomForest' was built under R version 4.0.3\"\n",
      "randomForest 4.6-14\n",
      "\n",
      "Type rfNews() to see new features/changes/bug fixes.\n",
      "\n",
      "Warning message:\n",
      "\"package 'tidyverse' was built under R version 4.0.3\"\n",
      "-- \u001b[1mAttaching packages\u001b[22m --------------------------------------- tidyverse 1.3.0 --\n",
      "\n",
      "\u001b[32mv\u001b[39m \u001b[34mggplot2\u001b[39m 3.3.2     \u001b[32mv\u001b[39m \u001b[34mpurrr  \u001b[39m 0.3.4\n",
      "\u001b[32mv\u001b[39m \u001b[34mtibble \u001b[39m 3.0.3     \u001b[32mv\u001b[39m \u001b[34mdplyr  \u001b[39m 1.0.2\n",
      "\u001b[32mv\u001b[39m \u001b[34mtidyr  \u001b[39m 1.1.2     \u001b[32mv\u001b[39m \u001b[34mstringr\u001b[39m 1.4.0\n",
      "\u001b[32mv\u001b[39m \u001b[34mreadr  \u001b[39m 1.4.0     \u001b[32mv\u001b[39m \u001b[34mforcats\u001b[39m 0.5.0\n",
      "\n",
      "Warning message:\n",
      "\"package 'ggplot2' was built under R version 4.0.3\"\n",
      "-- \u001b[1mConflicts\u001b[22m ------------------------------------------ tidyverse_conflicts() --\n",
      "\u001b[31mx\u001b[39m \u001b[34mdplyr\u001b[39m::\u001b[32mcombine()\u001b[39m  masks \u001b[34mrandomForest\u001b[39m::combine()\n",
      "\u001b[31mx\u001b[39m \u001b[34mdplyr\u001b[39m::\u001b[32mfilter()\u001b[39m   masks \u001b[34mstats\u001b[39m::filter()\n",
      "\u001b[31mx\u001b[39m \u001b[34mdplyr\u001b[39m::\u001b[32mlag()\u001b[39m      masks \u001b[34mstats\u001b[39m::lag()\n",
      "\u001b[31mx\u001b[39m \u001b[34mggplot2\u001b[39m::\u001b[32mmargin()\u001b[39m masks \u001b[34mrandomForest\u001b[39m::margin()\n",
      "\n",
      "Warning message:\n",
      "\"package 'caret' was built under R version 4.0.3\"\n",
      "Loading required package: lattice\n",
      "\n",
      "\n",
      "Attaching package: 'caret'\n",
      "\n",
      "\n",
      "The following object is masked from 'package:purrr':\n",
      "\n",
      "    lift\n",
      "\n",
      "\n",
      "Warning message:\n",
      "\"package 'tree' was built under R version 4.0.3\"\n",
      "Registered S3 method overwritten by 'tree':\n",
      "  method     from\n",
      "  print.tree cli \n",
      "\n",
      "Loading required package: mvtnorm\n",
      "\n",
      "Loading required package: survival\n",
      "\n",
      "\n",
      "Attaching package: 'survival'\n",
      "\n",
      "\n",
      "The following object is masked from 'package:caret':\n",
      "\n",
      "    cluster\n",
      "\n",
      "\n",
      "Loading required package: TH.data\n",
      "\n",
      "Warning message:\n",
      "\"package 'TH.data' was built under R version 4.0.3\"\n",
      "Loading required package: MASS\n",
      "\n",
      "\n",
      "Attaching package: 'MASS'\n",
      "\n",
      "\n",
      "The following object is masked from 'package:dplyr':\n",
      "\n",
      "    select\n",
      "\n",
      "\n",
      "\n",
      "Attaching package: 'TH.data'\n",
      "\n",
      "\n",
      "The following object is masked from 'package:MASS':\n",
      "\n",
      "    geyser\n",
      "\n",
      "\n",
      "Warning message:\n",
      "\"package 'party' was built under R version 4.0.3\"\n",
      "Loading required package: grid\n",
      "\n",
      "Loading required package: modeltools\n",
      "\n",
      "Warning message:\n",
      "\"package 'modeltools' was built under R version 4.0.3\"\n",
      "Loading required package: stats4\n",
      "\n",
      "Loading required package: strucchange\n",
      "\n",
      "Warning message:\n",
      "\"package 'strucchange' was built under R version 4.0.3\"\n",
      "Loading required package: zoo\n",
      "\n",
      "\n",
      "Attaching package: 'zoo'\n",
      "\n",
      "\n",
      "The following objects are masked from 'package:base':\n",
      "\n",
      "    as.Date, as.Date.numeric\n",
      "\n",
      "\n",
      "Loading required package: sandwich\n",
      "\n",
      "Warning message:\n",
      "\"package 'sandwich' was built under R version 4.0.3\"\n",
      "\n",
      "Attaching package: 'strucchange'\n",
      "\n",
      "\n",
      "The following object is masked from 'package:stringr':\n",
      "\n",
      "    boundary\n",
      "\n",
      "\n"
     ]
    }
   ],
   "source": [
    "#install.packages('randomForest')\n",
    "library(readxl)\n",
    "library(randomForest)\n",
    "library(readxl)\n",
    "library(tidyverse)\n",
    "#install.packages('dplyr')\n",
    "library(dplyr)\n",
    "#install.packages('caret')\n",
    "library(Rcpp)\n",
    "library(caret)\n",
    "library(rpart)\n",
    "#install.packages('tree')\n",
    "library(tree)\n",
    "#install.packages('multcomp')\n",
    "library(multcomp)\n",
    "#install.packages('party')\n",
    "library(party)\n",
    "library(tree)\n"
   ]
  },
  {
   "cell_type": "markdown",
   "metadata": {},
   "source": [
    "# Classification"
   ]
  },
  {
   "cell_type": "code",
   "execution_count": 2,
   "metadata": {},
   "outputs": [],
   "source": [
    "df.wa = read_excel( \"../../results/df-water-access.xlsx\" ,sheet=1)\n",
    "df.explore =read_excel(\"../../results/df-water-explore.xlsx\" ,sheet=1)\n",
    "df.cluster = read_excel(\"../../results/dfcluster-rank.xlsx\" ,sheet=1)\n",
    "df.wb = read_excel(\"../../results/df-wb.xlsx\" ,sheet=1 )\n",
    "df.explore$clusters <- as.numeric(df.cluster$clusters)"
   ]
  },
  {
   "cell_type": "markdown",
   "metadata": {},
   "source": [
    "Matching country from world bank and data frame df.explore"
   ]
  },
  {
   "cell_type": "code",
   "execution_count": 3,
   "metadata": {},
   "outputs": [
    {
     "data": {
      "text/html": [
       "<style>\n",
       ".list-inline {list-style: none; margin:0; padding: 0}\n",
       ".list-inline>li {display: inline-block}\n",
       ".list-inline>li:not(:last-child)::after {content: \"\\00b7\"; padding: 0 .5ex}\n",
       "</style>\n",
       "<ol class=list-inline><li>'Afghanistan'</li><li>'Albania'</li><li>'Angola'</li><li>'Armenia'</li><li>'Azerbaijan'</li><li>'Bangladesh'</li><li>'Benin'</li><li>'Bolivia'</li><li>'Brazil'</li><li>'Burkina Faso'</li><li>'Burundi'</li><li>'Cambodia'</li><li>'Cameroon'</li><li>'Central African Republic'</li><li>'Chad'</li><li>'Colombia'</li><li>'Comoros'</li><li>'Congo'</li><li>'Congo Democratic Republic'</li><li>'Cote d\\'Ivoire'</li><li>'Dominican Republic'</li><li>'Egypt'</li><li>'Eritrea'</li><li>'Eswatini'</li><li>'Ethiopia'</li><li>'Gabon'</li><li>'Gambia'</li><li>'Ghana'</li><li>'Guatemala'</li><li>'Guinea'</li><li>'Guyana'</li><li>'Haiti'</li><li>'Honduras'</li><li>'India'</li><li>'Indonesia'</li><li>'Jordan'</li><li>'Kazakhstan'</li><li>'Kenya'</li><li>'Kyrgyz Republic'</li><li>'Lesotho'</li><li>'Liberia'</li><li>'Madagascar'</li><li>'Malawi'</li><li>'Maldives'</li><li>'Mali'</li><li>'Mauritania'</li><li>'Moldova'</li><li>'Morocco'</li><li>'Mozambique'</li><li>'Myanmar'</li><li>'Namibia'</li><li>'Nepal'</li><li>'Nicaragua'</li><li>'Niger'</li><li>'Nigeria'</li><li>'Pakistan'</li><li>'Papua New Guinea'</li><li>'Paraguay'</li><li>'Peru'</li><li>'Philippines'</li><li>'Rwanda'</li><li>'Sao Tome and Principe'</li><li>'Senegal'</li><li>'Sierra Leone'</li><li>'South Africa'</li><li>'Tajikistan'</li><li>'Tanzania'</li><li>'Timor-Leste'</li><li>'Togo'</li><li>'Turkey'</li><li>'Turkmenistan'</li><li>'Uganda'</li><li>'Ukraine'</li><li>'Uzbekistan'</li><li>'Vietnam'</li><li>'Yemen'</li><li>'Zambia'</li><li>'Zimbabwe'</li></ol>\n"
      ],
      "text/latex": [
       "\\begin{enumerate*}\n",
       "\\item 'Afghanistan'\n",
       "\\item 'Albania'\n",
       "\\item 'Angola'\n",
       "\\item 'Armenia'\n",
       "\\item 'Azerbaijan'\n",
       "\\item 'Bangladesh'\n",
       "\\item 'Benin'\n",
       "\\item 'Bolivia'\n",
       "\\item 'Brazil'\n",
       "\\item 'Burkina Faso'\n",
       "\\item 'Burundi'\n",
       "\\item 'Cambodia'\n",
       "\\item 'Cameroon'\n",
       "\\item 'Central African Republic'\n",
       "\\item 'Chad'\n",
       "\\item 'Colombia'\n",
       "\\item 'Comoros'\n",
       "\\item 'Congo'\n",
       "\\item 'Congo Democratic Republic'\n",
       "\\item 'Cote d\\textbackslash{}'Ivoire'\n",
       "\\item 'Dominican Republic'\n",
       "\\item 'Egypt'\n",
       "\\item 'Eritrea'\n",
       "\\item 'Eswatini'\n",
       "\\item 'Ethiopia'\n",
       "\\item 'Gabon'\n",
       "\\item 'Gambia'\n",
       "\\item 'Ghana'\n",
       "\\item 'Guatemala'\n",
       "\\item 'Guinea'\n",
       "\\item 'Guyana'\n",
       "\\item 'Haiti'\n",
       "\\item 'Honduras'\n",
       "\\item 'India'\n",
       "\\item 'Indonesia'\n",
       "\\item 'Jordan'\n",
       "\\item 'Kazakhstan'\n",
       "\\item 'Kenya'\n",
       "\\item 'Kyrgyz Republic'\n",
       "\\item 'Lesotho'\n",
       "\\item 'Liberia'\n",
       "\\item 'Madagascar'\n",
       "\\item 'Malawi'\n",
       "\\item 'Maldives'\n",
       "\\item 'Mali'\n",
       "\\item 'Mauritania'\n",
       "\\item 'Moldova'\n",
       "\\item 'Morocco'\n",
       "\\item 'Mozambique'\n",
       "\\item 'Myanmar'\n",
       "\\item 'Namibia'\n",
       "\\item 'Nepal'\n",
       "\\item 'Nicaragua'\n",
       "\\item 'Niger'\n",
       "\\item 'Nigeria'\n",
       "\\item 'Pakistan'\n",
       "\\item 'Papua New Guinea'\n",
       "\\item 'Paraguay'\n",
       "\\item 'Peru'\n",
       "\\item 'Philippines'\n",
       "\\item 'Rwanda'\n",
       "\\item 'Sao Tome and Principe'\n",
       "\\item 'Senegal'\n",
       "\\item 'Sierra Leone'\n",
       "\\item 'South Africa'\n",
       "\\item 'Tajikistan'\n",
       "\\item 'Tanzania'\n",
       "\\item 'Timor-Leste'\n",
       "\\item 'Togo'\n",
       "\\item 'Turkey'\n",
       "\\item 'Turkmenistan'\n",
       "\\item 'Uganda'\n",
       "\\item 'Ukraine'\n",
       "\\item 'Uzbekistan'\n",
       "\\item 'Vietnam'\n",
       "\\item 'Yemen'\n",
       "\\item 'Zambia'\n",
       "\\item 'Zimbabwe'\n",
       "\\end{enumerate*}\n"
      ],
      "text/markdown": [
       "1. 'Afghanistan'\n",
       "2. 'Albania'\n",
       "3. 'Angola'\n",
       "4. 'Armenia'\n",
       "5. 'Azerbaijan'\n",
       "6. 'Bangladesh'\n",
       "7. 'Benin'\n",
       "8. 'Bolivia'\n",
       "9. 'Brazil'\n",
       "10. 'Burkina Faso'\n",
       "11. 'Burundi'\n",
       "12. 'Cambodia'\n",
       "13. 'Cameroon'\n",
       "14. 'Central African Republic'\n",
       "15. 'Chad'\n",
       "16. 'Colombia'\n",
       "17. 'Comoros'\n",
       "18. 'Congo'\n",
       "19. 'Congo Democratic Republic'\n",
       "20. 'Cote d\\'Ivoire'\n",
       "21. 'Dominican Republic'\n",
       "22. 'Egypt'\n",
       "23. 'Eritrea'\n",
       "24. 'Eswatini'\n",
       "25. 'Ethiopia'\n",
       "26. 'Gabon'\n",
       "27. 'Gambia'\n",
       "28. 'Ghana'\n",
       "29. 'Guatemala'\n",
       "30. 'Guinea'\n",
       "31. 'Guyana'\n",
       "32. 'Haiti'\n",
       "33. 'Honduras'\n",
       "34. 'India'\n",
       "35. 'Indonesia'\n",
       "36. 'Jordan'\n",
       "37. 'Kazakhstan'\n",
       "38. 'Kenya'\n",
       "39. 'Kyrgyz Republic'\n",
       "40. 'Lesotho'\n",
       "41. 'Liberia'\n",
       "42. 'Madagascar'\n",
       "43. 'Malawi'\n",
       "44. 'Maldives'\n",
       "45. 'Mali'\n",
       "46. 'Mauritania'\n",
       "47. 'Moldova'\n",
       "48. 'Morocco'\n",
       "49. 'Mozambique'\n",
       "50. 'Myanmar'\n",
       "51. 'Namibia'\n",
       "52. 'Nepal'\n",
       "53. 'Nicaragua'\n",
       "54. 'Niger'\n",
       "55. 'Nigeria'\n",
       "56. 'Pakistan'\n",
       "57. 'Papua New Guinea'\n",
       "58. 'Paraguay'\n",
       "59. 'Peru'\n",
       "60. 'Philippines'\n",
       "61. 'Rwanda'\n",
       "62. 'Sao Tome and Principe'\n",
       "63. 'Senegal'\n",
       "64. 'Sierra Leone'\n",
       "65. 'South Africa'\n",
       "66. 'Tajikistan'\n",
       "67. 'Tanzania'\n",
       "68. 'Timor-Leste'\n",
       "69. 'Togo'\n",
       "70. 'Turkey'\n",
       "71. 'Turkmenistan'\n",
       "72. 'Uganda'\n",
       "73. 'Ukraine'\n",
       "74. 'Uzbekistan'\n",
       "75. 'Vietnam'\n",
       "76. 'Yemen'\n",
       "77. 'Zambia'\n",
       "78. 'Zimbabwe'\n",
       "\n",
       "\n"
      ],
      "text/plain": [
       " [1] \"Afghanistan\"               \"Albania\"                  \n",
       " [3] \"Angola\"                    \"Armenia\"                  \n",
       " [5] \"Azerbaijan\"                \"Bangladesh\"               \n",
       " [7] \"Benin\"                     \"Bolivia\"                  \n",
       " [9] \"Brazil\"                    \"Burkina Faso\"             \n",
       "[11] \"Burundi\"                   \"Cambodia\"                 \n",
       "[13] \"Cameroon\"                  \"Central African Republic\" \n",
       "[15] \"Chad\"                      \"Colombia\"                 \n",
       "[17] \"Comoros\"                   \"Congo\"                    \n",
       "[19] \"Congo Democratic Republic\" \"Cote d'Ivoire\"            \n",
       "[21] \"Dominican Republic\"        \"Egypt\"                    \n",
       "[23] \"Eritrea\"                   \"Eswatini\"                 \n",
       "[25] \"Ethiopia\"                  \"Gabon\"                    \n",
       "[27] \"Gambia\"                    \"Ghana\"                    \n",
       "[29] \"Guatemala\"                 \"Guinea\"                   \n",
       "[31] \"Guyana\"                    \"Haiti\"                    \n",
       "[33] \"Honduras\"                  \"India\"                    \n",
       "[35] \"Indonesia\"                 \"Jordan\"                   \n",
       "[37] \"Kazakhstan\"                \"Kenya\"                    \n",
       "[39] \"Kyrgyz Republic\"           \"Lesotho\"                  \n",
       "[41] \"Liberia\"                   \"Madagascar\"               \n",
       "[43] \"Malawi\"                    \"Maldives\"                 \n",
       "[45] \"Mali\"                      \"Mauritania\"               \n",
       "[47] \"Moldova\"                   \"Morocco\"                  \n",
       "[49] \"Mozambique\"                \"Myanmar\"                  \n",
       "[51] \"Namibia\"                   \"Nepal\"                    \n",
       "[53] \"Nicaragua\"                 \"Niger\"                    \n",
       "[55] \"Nigeria\"                   \"Pakistan\"                 \n",
       "[57] \"Papua New Guinea\"          \"Paraguay\"                 \n",
       "[59] \"Peru\"                      \"Philippines\"              \n",
       "[61] \"Rwanda\"                    \"Sao Tome and Principe\"    \n",
       "[63] \"Senegal\"                   \"Sierra Leone\"             \n",
       "[65] \"South Africa\"              \"Tajikistan\"               \n",
       "[67] \"Tanzania\"                  \"Timor-Leste\"              \n",
       "[69] \"Togo\"                      \"Turkey\"                   \n",
       "[71] \"Turkmenistan\"              \"Uganda\"                   \n",
       "[73] \"Ukraine\"                   \"Uzbekistan\"               \n",
       "[75] \"Vietnam\"                   \"Yemen\"                    \n",
       "[77] \"Zambia\"                    \"Zimbabwe\"                 "
      ]
     },
     "metadata": {},
     "output_type": "display_data"
    },
    {
     "data": {
      "text/html": [
       "<style>\n",
       ".list-inline {list-style: none; margin:0; padding: 0}\n",
       ".list-inline>li {display: inline-block}\n",
       ".list-inline>li:not(:last-child)::after {content: \"\\00b7\"; padding: 0 .5ex}\n",
       "</style>\n",
       "<ol class=list-inline><li>'Afghanistan'</li><li>'Albania'</li><li>'Algeria'</li><li>'American Samoa'</li><li>'Andorra'</li><li>'Angola'</li><li>'Antigua and Barbuda'</li><li>'Argentina'</li><li>'Armenia'</li><li>'Aruba'</li><li>'Australia'</li><li>'Austria'</li><li>'Azerbaijan'</li><li>'Bahamas, The'</li><li>'Bahrain'</li><li>'Bangladesh'</li><li>'Barbados'</li><li>'Belarus'</li><li>'Belgium'</li><li>'Belize'</li><li>'Benin'</li><li>'Bermuda'</li><li>'Bhutan'</li><li>'Bolivia'</li><li>'Bosnia and Herzegovina'</li><li>'Botswana'</li><li>'Brazil'</li><li>'British Virgin Islands'</li><li>'Brunei Darussalam'</li><li>'Bulgaria'</li><li>'Burkina Faso'</li><li>'Burundi'</li><li>'Cabo Verde'</li><li>'Cambodia'</li><li>'Cameroon'</li><li>'Canada'</li><li>'Cayman Islands'</li><li>'Central African Republic'</li><li>'Chad'</li><li>'Channel Islands'</li><li>'Chile'</li><li>'China'</li><li>'Colombia'</li><li>'Comoros'</li><li>'Congo, Dem. Rep.'</li><li>'Congo, Rep.'</li><li>'Costa Rica'</li><li>'Cote d\\'Ivoire'</li><li>'Croatia'</li><li>'Cuba'</li><li>'Curacao'</li><li>'Cyprus'</li><li>'Czech Republic'</li><li>'Denmark'</li><li>'Djibouti'</li><li>'Dominica'</li><li>'Dominican Republic'</li><li>'Ecuador'</li><li>'Egypt, Arab Rep.'</li><li>'El Salvador'</li><li>'Equatorial Guinea'</li><li>'Eritrea'</li><li>'Estonia'</li><li>'Eswatini'</li><li>'Ethiopia'</li><li>'Faroe Islands'</li><li>'Fiji'</li><li>'Finland'</li><li>'France'</li><li>'French Polynesia'</li><li>'Gabon'</li><li>'Gambia, The'</li><li>'Georgia'</li><li>'Germany'</li><li>'Ghana'</li><li>'Gibraltar'</li><li>'Greece'</li><li>'Greenland'</li><li>'Grenada'</li><li>'Guam'</li><li>'Guatemala'</li><li>'Guinea'</li><li>'Guinea-Bissau'</li><li>'Guyana'</li><li>'Haiti'</li><li>'Honduras'</li><li>'Hong Kong SAR, China'</li><li>'Hungary'</li><li>'Iceland'</li><li>'India'</li><li>'Indonesia'</li><li>'Iran, Islamic Rep.'</li><li>'Iraq'</li><li>'Ireland'</li><li>'Isle of Man'</li><li>'Israel'</li><li>'Italy'</li><li>'Jamaica'</li><li>'Japan'</li><li>'Jordan'</li><li>'Kazakhstan'</li><li>'Kenya'</li><li>'Kiribati'</li><li>'Korea, Dem. People’s Rep.'</li><li>'Korea, Rep.'</li><li>'Kosovo'</li><li>'Kuwait'</li><li>'Kyrgyz Republic'</li><li>'Lao PDR'</li><li>'Latvia'</li><li>'Lebanon'</li><li>'Lesotho'</li><li>'Liberia'</li><li>'Libya'</li><li>'Liechtenstein'</li><li>'Lithuania'</li><li>'Luxembourg'</li><li>'Macao SAR, China'</li><li>'Madagascar'</li><li>'Malawi'</li><li>'Malaysia'</li><li>'Maldives'</li><li>'Mali'</li><li>'Malta'</li><li>'Marshall Islands'</li><li>'Mauritania'</li><li>'Mauritius'</li><li>'Mexico'</li><li>'Micronesia, Fed. Sts.'</li><li>'Moldova'</li><li>'Monaco'</li><li>'Mongolia'</li><li>'Montenegro'</li><li>'Morocco'</li><li>'Mozambique'</li><li>'Myanmar'</li><li>'namibia'</li><li>'nauru'</li><li>'Nepal'</li><li>'Netherlands'</li><li>'New Caledonia'</li><li>'New Zealand'</li><li>'Nicaragua'</li><li>'Niger'</li><li>'Nigeria'</li><li>'North Macedonia'</li><li>'Northern Mariana Islands'</li><li>'Norway'</li><li>'Oman'</li><li>'Pakistan'</li><li>'Palau'</li><li>'Panama'</li><li>'Papua New Guinea'</li><li>'Paraguay'</li><li>'Peru'</li><li>'Philippines'</li><li>'Poland'</li><li>'Portugal'</li><li>'Puerto Rico'</li><li>'Qatar'</li><li>'Romania'</li><li>'Russian Federation'</li><li>'Rwanda'</li><li>'Samoa'</li><li>'San Marino'</li><li>'Sao Tome and Principe'</li><li>'Saudi Arabia'</li><li>'Senegal'</li><li>'Serbia'</li><li>'Seychelles'</li><li>'Sierra Leone'</li><li>'Singapore'</li><li>'Sint Maarten (Dutch part)'</li><li>'Slovak Republic'</li><li>'Slovenia'</li><li>'Solomon Islands'</li><li>'Somalia'</li><li>'South Africa'</li><li>'South Sudan'</li><li>'Spain'</li><li>'Sri Lanka'</li><li>'St. Kitts and Nevis'</li><li>'St. Lucia'</li><li>'St. Martin (French part)'</li><li>'St. Vincent and the Grenadines'</li><li>'Sudan'</li><li>'Suriname'</li><li>'Sweden'</li><li>'Switzerland'</li><li>'Syrian Arab Republic'</li><li>'Tajikistan'</li><li>'Tanzania'</li><li>'Thailand'</li><li>'Timor-Leste'</li><li>'Togo'</li><li>'Tonga'</li><li>'Trinidad and Tobago'</li><li>'Tunisia'</li><li>'Turkey'</li><li>'Turkmenistan'</li><li>'Turks and Caicos Islands'</li><li>'Tuvalu'</li><li>'Uganda'</li><li>'Ukraine'</li><li>'United Arab Emirates'</li><li>'United Kingdom'</li><li>'United States'</li><li>'Uruguay'</li><li>'Uzbekistan'</li><li>'Vanuatu'</li><li>'Venezuela, RB'</li><li>'Vietnam'</li><li>'Virgin Islands (U.S.)'</li><li>'West Bank and Gaza'</li><li>'Yemen, Rep.'</li><li>'Zambia'</li><li>'Zimbabwe'</li></ol>\n"
      ],
      "text/latex": [
       "\\begin{enumerate*}\n",
       "\\item 'Afghanistan'\n",
       "\\item 'Albania'\n",
       "\\item 'Algeria'\n",
       "\\item 'American Samoa'\n",
       "\\item 'Andorra'\n",
       "\\item 'Angola'\n",
       "\\item 'Antigua and Barbuda'\n",
       "\\item 'Argentina'\n",
       "\\item 'Armenia'\n",
       "\\item 'Aruba'\n",
       "\\item 'Australia'\n",
       "\\item 'Austria'\n",
       "\\item 'Azerbaijan'\n",
       "\\item 'Bahamas, The'\n",
       "\\item 'Bahrain'\n",
       "\\item 'Bangladesh'\n",
       "\\item 'Barbados'\n",
       "\\item 'Belarus'\n",
       "\\item 'Belgium'\n",
       "\\item 'Belize'\n",
       "\\item 'Benin'\n",
       "\\item 'Bermuda'\n",
       "\\item 'Bhutan'\n",
       "\\item 'Bolivia'\n",
       "\\item 'Bosnia and Herzegovina'\n",
       "\\item 'Botswana'\n",
       "\\item 'Brazil'\n",
       "\\item 'British Virgin Islands'\n",
       "\\item 'Brunei Darussalam'\n",
       "\\item 'Bulgaria'\n",
       "\\item 'Burkina Faso'\n",
       "\\item 'Burundi'\n",
       "\\item 'Cabo Verde'\n",
       "\\item 'Cambodia'\n",
       "\\item 'Cameroon'\n",
       "\\item 'Canada'\n",
       "\\item 'Cayman Islands'\n",
       "\\item 'Central African Republic'\n",
       "\\item 'Chad'\n",
       "\\item 'Channel Islands'\n",
       "\\item 'Chile'\n",
       "\\item 'China'\n",
       "\\item 'Colombia'\n",
       "\\item 'Comoros'\n",
       "\\item 'Congo, Dem. Rep.'\n",
       "\\item 'Congo, Rep.'\n",
       "\\item 'Costa Rica'\n",
       "\\item 'Cote d\\textbackslash{}'Ivoire'\n",
       "\\item 'Croatia'\n",
       "\\item 'Cuba'\n",
       "\\item 'Curacao'\n",
       "\\item 'Cyprus'\n",
       "\\item 'Czech Republic'\n",
       "\\item 'Denmark'\n",
       "\\item 'Djibouti'\n",
       "\\item 'Dominica'\n",
       "\\item 'Dominican Republic'\n",
       "\\item 'Ecuador'\n",
       "\\item 'Egypt, Arab Rep.'\n",
       "\\item 'El Salvador'\n",
       "\\item 'Equatorial Guinea'\n",
       "\\item 'Eritrea'\n",
       "\\item 'Estonia'\n",
       "\\item 'Eswatini'\n",
       "\\item 'Ethiopia'\n",
       "\\item 'Faroe Islands'\n",
       "\\item 'Fiji'\n",
       "\\item 'Finland'\n",
       "\\item 'France'\n",
       "\\item 'French Polynesia'\n",
       "\\item 'Gabon'\n",
       "\\item 'Gambia, The'\n",
       "\\item 'Georgia'\n",
       "\\item 'Germany'\n",
       "\\item 'Ghana'\n",
       "\\item 'Gibraltar'\n",
       "\\item 'Greece'\n",
       "\\item 'Greenland'\n",
       "\\item 'Grenada'\n",
       "\\item 'Guam'\n",
       "\\item 'Guatemala'\n",
       "\\item 'Guinea'\n",
       "\\item 'Guinea-Bissau'\n",
       "\\item 'Guyana'\n",
       "\\item 'Haiti'\n",
       "\\item 'Honduras'\n",
       "\\item 'Hong Kong SAR, China'\n",
       "\\item 'Hungary'\n",
       "\\item 'Iceland'\n",
       "\\item 'India'\n",
       "\\item 'Indonesia'\n",
       "\\item 'Iran, Islamic Rep.'\n",
       "\\item 'Iraq'\n",
       "\\item 'Ireland'\n",
       "\\item 'Isle of Man'\n",
       "\\item 'Israel'\n",
       "\\item 'Italy'\n",
       "\\item 'Jamaica'\n",
       "\\item 'Japan'\n",
       "\\item 'Jordan'\n",
       "\\item 'Kazakhstan'\n",
       "\\item 'Kenya'\n",
       "\\item 'Kiribati'\n",
       "\\item 'Korea, Dem. People’s Rep.'\n",
       "\\item 'Korea, Rep.'\n",
       "\\item 'Kosovo'\n",
       "\\item 'Kuwait'\n",
       "\\item 'Kyrgyz Republic'\n",
       "\\item 'Lao PDR'\n",
       "\\item 'Latvia'\n",
       "\\item 'Lebanon'\n",
       "\\item 'Lesotho'\n",
       "\\item 'Liberia'\n",
       "\\item 'Libya'\n",
       "\\item 'Liechtenstein'\n",
       "\\item 'Lithuania'\n",
       "\\item 'Luxembourg'\n",
       "\\item 'Macao SAR, China'\n",
       "\\item 'Madagascar'\n",
       "\\item 'Malawi'\n",
       "\\item 'Malaysia'\n",
       "\\item 'Maldives'\n",
       "\\item 'Mali'\n",
       "\\item 'Malta'\n",
       "\\item 'Marshall Islands'\n",
       "\\item 'Mauritania'\n",
       "\\item 'Mauritius'\n",
       "\\item 'Mexico'\n",
       "\\item 'Micronesia, Fed. Sts.'\n",
       "\\item 'Moldova'\n",
       "\\item 'Monaco'\n",
       "\\item 'Mongolia'\n",
       "\\item 'Montenegro'\n",
       "\\item 'Morocco'\n",
       "\\item 'Mozambique'\n",
       "\\item 'Myanmar'\n",
       "\\item 'namibia'\n",
       "\\item 'nauru'\n",
       "\\item 'Nepal'\n",
       "\\item 'Netherlands'\n",
       "\\item 'New Caledonia'\n",
       "\\item 'New Zealand'\n",
       "\\item 'Nicaragua'\n",
       "\\item 'Niger'\n",
       "\\item 'Nigeria'\n",
       "\\item 'North Macedonia'\n",
       "\\item 'Northern Mariana Islands'\n",
       "\\item 'Norway'\n",
       "\\item 'Oman'\n",
       "\\item 'Pakistan'\n",
       "\\item 'Palau'\n",
       "\\item 'Panama'\n",
       "\\item 'Papua New Guinea'\n",
       "\\item 'Paraguay'\n",
       "\\item 'Peru'\n",
       "\\item 'Philippines'\n",
       "\\item 'Poland'\n",
       "\\item 'Portugal'\n",
       "\\item 'Puerto Rico'\n",
       "\\item 'Qatar'\n",
       "\\item 'Romania'\n",
       "\\item 'Russian Federation'\n",
       "\\item 'Rwanda'\n",
       "\\item 'Samoa'\n",
       "\\item 'San Marino'\n",
       "\\item 'Sao Tome and Principe'\n",
       "\\item 'Saudi Arabia'\n",
       "\\item 'Senegal'\n",
       "\\item 'Serbia'\n",
       "\\item 'Seychelles'\n",
       "\\item 'Sierra Leone'\n",
       "\\item 'Singapore'\n",
       "\\item 'Sint Maarten (Dutch part)'\n",
       "\\item 'Slovak Republic'\n",
       "\\item 'Slovenia'\n",
       "\\item 'Solomon Islands'\n",
       "\\item 'Somalia'\n",
       "\\item 'South Africa'\n",
       "\\item 'South Sudan'\n",
       "\\item 'Spain'\n",
       "\\item 'Sri Lanka'\n",
       "\\item 'St. Kitts and Nevis'\n",
       "\\item 'St. Lucia'\n",
       "\\item 'St. Martin (French part)'\n",
       "\\item 'St. Vincent and the Grenadines'\n",
       "\\item 'Sudan'\n",
       "\\item 'Suriname'\n",
       "\\item 'Sweden'\n",
       "\\item 'Switzerland'\n",
       "\\item 'Syrian Arab Republic'\n",
       "\\item 'Tajikistan'\n",
       "\\item 'Tanzania'\n",
       "\\item 'Thailand'\n",
       "\\item 'Timor-Leste'\n",
       "\\item 'Togo'\n",
       "\\item 'Tonga'\n",
       "\\item 'Trinidad and Tobago'\n",
       "\\item 'Tunisia'\n",
       "\\item 'Turkey'\n",
       "\\item 'Turkmenistan'\n",
       "\\item 'Turks and Caicos Islands'\n",
       "\\item 'Tuvalu'\n",
       "\\item 'Uganda'\n",
       "\\item 'Ukraine'\n",
       "\\item 'United Arab Emirates'\n",
       "\\item 'United Kingdom'\n",
       "\\item 'United States'\n",
       "\\item 'Uruguay'\n",
       "\\item 'Uzbekistan'\n",
       "\\item 'Vanuatu'\n",
       "\\item 'Venezuela, RB'\n",
       "\\item 'Vietnam'\n",
       "\\item 'Virgin Islands (U.S.)'\n",
       "\\item 'West Bank and Gaza'\n",
       "\\item 'Yemen, Rep.'\n",
       "\\item 'Zambia'\n",
       "\\item 'Zimbabwe'\n",
       "\\end{enumerate*}\n"
      ],
      "text/markdown": [
       "1. 'Afghanistan'\n",
       "2. 'Albania'\n",
       "3. 'Algeria'\n",
       "4. 'American Samoa'\n",
       "5. 'Andorra'\n",
       "6. 'Angola'\n",
       "7. 'Antigua and Barbuda'\n",
       "8. 'Argentina'\n",
       "9. 'Armenia'\n",
       "10. 'Aruba'\n",
       "11. 'Australia'\n",
       "12. 'Austria'\n",
       "13. 'Azerbaijan'\n",
       "14. 'Bahamas, The'\n",
       "15. 'Bahrain'\n",
       "16. 'Bangladesh'\n",
       "17. 'Barbados'\n",
       "18. 'Belarus'\n",
       "19. 'Belgium'\n",
       "20. 'Belize'\n",
       "21. 'Benin'\n",
       "22. 'Bermuda'\n",
       "23. 'Bhutan'\n",
       "24. 'Bolivia'\n",
       "25. 'Bosnia and Herzegovina'\n",
       "26. 'Botswana'\n",
       "27. 'Brazil'\n",
       "28. 'British Virgin Islands'\n",
       "29. 'Brunei Darussalam'\n",
       "30. 'Bulgaria'\n",
       "31. 'Burkina Faso'\n",
       "32. 'Burundi'\n",
       "33. 'Cabo Verde'\n",
       "34. 'Cambodia'\n",
       "35. 'Cameroon'\n",
       "36. 'Canada'\n",
       "37. 'Cayman Islands'\n",
       "38. 'Central African Republic'\n",
       "39. 'Chad'\n",
       "40. 'Channel Islands'\n",
       "41. 'Chile'\n",
       "42. 'China'\n",
       "43. 'Colombia'\n",
       "44. 'Comoros'\n",
       "45. 'Congo, Dem. Rep.'\n",
       "46. 'Congo, Rep.'\n",
       "47. 'Costa Rica'\n",
       "48. 'Cote d\\'Ivoire'\n",
       "49. 'Croatia'\n",
       "50. 'Cuba'\n",
       "51. 'Curacao'\n",
       "52. 'Cyprus'\n",
       "53. 'Czech Republic'\n",
       "54. 'Denmark'\n",
       "55. 'Djibouti'\n",
       "56. 'Dominica'\n",
       "57. 'Dominican Republic'\n",
       "58. 'Ecuador'\n",
       "59. 'Egypt, Arab Rep.'\n",
       "60. 'El Salvador'\n",
       "61. 'Equatorial Guinea'\n",
       "62. 'Eritrea'\n",
       "63. 'Estonia'\n",
       "64. 'Eswatini'\n",
       "65. 'Ethiopia'\n",
       "66. 'Faroe Islands'\n",
       "67. 'Fiji'\n",
       "68. 'Finland'\n",
       "69. 'France'\n",
       "70. 'French Polynesia'\n",
       "71. 'Gabon'\n",
       "72. 'Gambia, The'\n",
       "73. 'Georgia'\n",
       "74. 'Germany'\n",
       "75. 'Ghana'\n",
       "76. 'Gibraltar'\n",
       "77. 'Greece'\n",
       "78. 'Greenland'\n",
       "79. 'Grenada'\n",
       "80. 'Guam'\n",
       "81. 'Guatemala'\n",
       "82. 'Guinea'\n",
       "83. 'Guinea-Bissau'\n",
       "84. 'Guyana'\n",
       "85. 'Haiti'\n",
       "86. 'Honduras'\n",
       "87. 'Hong Kong SAR, China'\n",
       "88. 'Hungary'\n",
       "89. 'Iceland'\n",
       "90. 'India'\n",
       "91. 'Indonesia'\n",
       "92. 'Iran, Islamic Rep.'\n",
       "93. 'Iraq'\n",
       "94. 'Ireland'\n",
       "95. 'Isle of Man'\n",
       "96. 'Israel'\n",
       "97. 'Italy'\n",
       "98. 'Jamaica'\n",
       "99. 'Japan'\n",
       "100. 'Jordan'\n",
       "101. 'Kazakhstan'\n",
       "102. 'Kenya'\n",
       "103. 'Kiribati'\n",
       "104. 'Korea, Dem. People’s Rep.'\n",
       "105. 'Korea, Rep.'\n",
       "106. 'Kosovo'\n",
       "107. 'Kuwait'\n",
       "108. 'Kyrgyz Republic'\n",
       "109. 'Lao PDR'\n",
       "110. 'Latvia'\n",
       "111. 'Lebanon'\n",
       "112. 'Lesotho'\n",
       "113. 'Liberia'\n",
       "114. 'Libya'\n",
       "115. 'Liechtenstein'\n",
       "116. 'Lithuania'\n",
       "117. 'Luxembourg'\n",
       "118. 'Macao SAR, China'\n",
       "119. 'Madagascar'\n",
       "120. 'Malawi'\n",
       "121. 'Malaysia'\n",
       "122. 'Maldives'\n",
       "123. 'Mali'\n",
       "124. 'Malta'\n",
       "125. 'Marshall Islands'\n",
       "126. 'Mauritania'\n",
       "127. 'Mauritius'\n",
       "128. 'Mexico'\n",
       "129. 'Micronesia, Fed. Sts.'\n",
       "130. 'Moldova'\n",
       "131. 'Monaco'\n",
       "132. 'Mongolia'\n",
       "133. 'Montenegro'\n",
       "134. 'Morocco'\n",
       "135. 'Mozambique'\n",
       "136. 'Myanmar'\n",
       "137. 'namibia'\n",
       "138. 'nauru'\n",
       "139. 'Nepal'\n",
       "140. 'Netherlands'\n",
       "141. 'New Caledonia'\n",
       "142. 'New Zealand'\n",
       "143. 'Nicaragua'\n",
       "144. 'Niger'\n",
       "145. 'Nigeria'\n",
       "146. 'North Macedonia'\n",
       "147. 'Northern Mariana Islands'\n",
       "148. 'Norway'\n",
       "149. 'Oman'\n",
       "150. 'Pakistan'\n",
       "151. 'Palau'\n",
       "152. 'Panama'\n",
       "153. 'Papua New Guinea'\n",
       "154. 'Paraguay'\n",
       "155. 'Peru'\n",
       "156. 'Philippines'\n",
       "157. 'Poland'\n",
       "158. 'Portugal'\n",
       "159. 'Puerto Rico'\n",
       "160. 'Qatar'\n",
       "161. 'Romania'\n",
       "162. 'Russian Federation'\n",
       "163. 'Rwanda'\n",
       "164. 'Samoa'\n",
       "165. 'San Marino'\n",
       "166. 'Sao Tome and Principe'\n",
       "167. 'Saudi Arabia'\n",
       "168. 'Senegal'\n",
       "169. 'Serbia'\n",
       "170. 'Seychelles'\n",
       "171. 'Sierra Leone'\n",
       "172. 'Singapore'\n",
       "173. 'Sint Maarten (Dutch part)'\n",
       "174. 'Slovak Republic'\n",
       "175. 'Slovenia'\n",
       "176. 'Solomon Islands'\n",
       "177. 'Somalia'\n",
       "178. 'South Africa'\n",
       "179. 'South Sudan'\n",
       "180. 'Spain'\n",
       "181. 'Sri Lanka'\n",
       "182. 'St. Kitts and Nevis'\n",
       "183. 'St. Lucia'\n",
       "184. 'St. Martin (French part)'\n",
       "185. 'St. Vincent and the Grenadines'\n",
       "186. 'Sudan'\n",
       "187. 'Suriname'\n",
       "188. 'Sweden'\n",
       "189. 'Switzerland'\n",
       "190. 'Syrian Arab Republic'\n",
       "191. 'Tajikistan'\n",
       "192. 'Tanzania'\n",
       "193. 'Thailand'\n",
       "194. 'Timor-Leste'\n",
       "195. 'Togo'\n",
       "196. 'Tonga'\n",
       "197. 'Trinidad and Tobago'\n",
       "198. 'Tunisia'\n",
       "199. 'Turkey'\n",
       "200. 'Turkmenistan'\n",
       "201. 'Turks and Caicos Islands'\n",
       "202. 'Tuvalu'\n",
       "203. 'Uganda'\n",
       "204. 'Ukraine'\n",
       "205. 'United Arab Emirates'\n",
       "206. 'United Kingdom'\n",
       "207. 'United States'\n",
       "208. 'Uruguay'\n",
       "209. 'Uzbekistan'\n",
       "210. 'Vanuatu'\n",
       "211. 'Venezuela, RB'\n",
       "212. 'Vietnam'\n",
       "213. 'Virgin Islands (U.S.)'\n",
       "214. 'West Bank and Gaza'\n",
       "215. 'Yemen, Rep.'\n",
       "216. 'Zambia'\n",
       "217. 'Zimbabwe'\n",
       "\n",
       "\n"
      ],
      "text/plain": [
       "  [1] \"Afghanistan\"                    \"Albania\"                       \n",
       "  [3] \"Algeria\"                        \"American Samoa\"                \n",
       "  [5] \"Andorra\"                        \"Angola\"                        \n",
       "  [7] \"Antigua and Barbuda\"            \"Argentina\"                     \n",
       "  [9] \"Armenia\"                        \"Aruba\"                         \n",
       " [11] \"Australia\"                      \"Austria\"                       \n",
       " [13] \"Azerbaijan\"                     \"Bahamas, The\"                  \n",
       " [15] \"Bahrain\"                        \"Bangladesh\"                    \n",
       " [17] \"Barbados\"                       \"Belarus\"                       \n",
       " [19] \"Belgium\"                        \"Belize\"                        \n",
       " [21] \"Benin\"                          \"Bermuda\"                       \n",
       " [23] \"Bhutan\"                         \"Bolivia\"                       \n",
       " [25] \"Bosnia and Herzegovina\"         \"Botswana\"                      \n",
       " [27] \"Brazil\"                         \"British Virgin Islands\"        \n",
       " [29] \"Brunei Darussalam\"              \"Bulgaria\"                      \n",
       " [31] \"Burkina Faso\"                   \"Burundi\"                       \n",
       " [33] \"Cabo Verde\"                     \"Cambodia\"                      \n",
       " [35] \"Cameroon\"                       \"Canada\"                        \n",
       " [37] \"Cayman Islands\"                 \"Central African Republic\"      \n",
       " [39] \"Chad\"                           \"Channel Islands\"               \n",
       " [41] \"Chile\"                          \"China\"                         \n",
       " [43] \"Colombia\"                       \"Comoros\"                       \n",
       " [45] \"Congo, Dem. Rep.\"               \"Congo, Rep.\"                   \n",
       " [47] \"Costa Rica\"                     \"Cote d'Ivoire\"                 \n",
       " [49] \"Croatia\"                        \"Cuba\"                          \n",
       " [51] \"Curacao\"                        \"Cyprus\"                        \n",
       " [53] \"Czech Republic\"                 \"Denmark\"                       \n",
       " [55] \"Djibouti\"                       \"Dominica\"                      \n",
       " [57] \"Dominican Republic\"             \"Ecuador\"                       \n",
       " [59] \"Egypt, Arab Rep.\"               \"El Salvador\"                   \n",
       " [61] \"Equatorial Guinea\"              \"Eritrea\"                       \n",
       " [63] \"Estonia\"                        \"Eswatini\"                      \n",
       " [65] \"Ethiopia\"                       \"Faroe Islands\"                 \n",
       " [67] \"Fiji\"                           \"Finland\"                       \n",
       " [69] \"France\"                         \"French Polynesia\"              \n",
       " [71] \"Gabon\"                          \"Gambia, The\"                   \n",
       " [73] \"Georgia\"                        \"Germany\"                       \n",
       " [75] \"Ghana\"                          \"Gibraltar\"                     \n",
       " [77] \"Greece\"                         \"Greenland\"                     \n",
       " [79] \"Grenada\"                        \"Guam\"                          \n",
       " [81] \"Guatemala\"                      \"Guinea\"                        \n",
       " [83] \"Guinea-Bissau\"                  \"Guyana\"                        \n",
       " [85] \"Haiti\"                          \"Honduras\"                      \n",
       " [87] \"Hong Kong SAR, China\"           \"Hungary\"                       \n",
       " [89] \"Iceland\"                        \"India\"                         \n",
       " [91] \"Indonesia\"                      \"Iran, Islamic Rep.\"            \n",
       " [93] \"Iraq\"                           \"Ireland\"                       \n",
       " [95] \"Isle of Man\"                    \"Israel\"                        \n",
       " [97] \"Italy\"                          \"Jamaica\"                       \n",
       " [99] \"Japan\"                          \"Jordan\"                        \n",
       "[101] \"Kazakhstan\"                     \"Kenya\"                         \n",
       "[103] \"Kiribati\"                       \"Korea, Dem. People’s Rep.\"     \n",
       "[105] \"Korea, Rep.\"                    \"Kosovo\"                        \n",
       "[107] \"Kuwait\"                         \"Kyrgyz Republic\"               \n",
       "[109] \"Lao PDR\"                        \"Latvia\"                        \n",
       "[111] \"Lebanon\"                        \"Lesotho\"                       \n",
       "[113] \"Liberia\"                        \"Libya\"                         \n",
       "[115] \"Liechtenstein\"                  \"Lithuania\"                     \n",
       "[117] \"Luxembourg\"                     \"Macao SAR, China\"              \n",
       "[119] \"Madagascar\"                     \"Malawi\"                        \n",
       "[121] \"Malaysia\"                       \"Maldives\"                      \n",
       "[123] \"Mali\"                           \"Malta\"                         \n",
       "[125] \"Marshall Islands\"               \"Mauritania\"                    \n",
       "[127] \"Mauritius\"                      \"Mexico\"                        \n",
       "[129] \"Micronesia, Fed. Sts.\"          \"Moldova\"                       \n",
       "[131] \"Monaco\"                         \"Mongolia\"                      \n",
       "[133] \"Montenegro\"                     \"Morocco\"                       \n",
       "[135] \"Mozambique\"                     \"Myanmar\"                       \n",
       "[137] \"namibia\"                        \"nauru\"                         \n",
       "[139] \"Nepal\"                          \"Netherlands\"                   \n",
       "[141] \"New Caledonia\"                  \"New Zealand\"                   \n",
       "[143] \"Nicaragua\"                      \"Niger\"                         \n",
       "[145] \"Nigeria\"                        \"North Macedonia\"               \n",
       "[147] \"Northern Mariana Islands\"       \"Norway\"                        \n",
       "[149] \"Oman\"                           \"Pakistan\"                      \n",
       "[151] \"Palau\"                          \"Panama\"                        \n",
       "[153] \"Papua New Guinea\"               \"Paraguay\"                      \n",
       "[155] \"Peru\"                           \"Philippines\"                   \n",
       "[157] \"Poland\"                         \"Portugal\"                      \n",
       "[159] \"Puerto Rico\"                    \"Qatar\"                         \n",
       "[161] \"Romania\"                        \"Russian Federation\"            \n",
       "[163] \"Rwanda\"                         \"Samoa\"                         \n",
       "[165] \"San Marino\"                     \"Sao Tome and Principe\"         \n",
       "[167] \"Saudi Arabia\"                   \"Senegal\"                       \n",
       "[169] \"Serbia\"                         \"Seychelles\"                    \n",
       "[171] \"Sierra Leone\"                   \"Singapore\"                     \n",
       "[173] \"Sint Maarten (Dutch part)\"      \"Slovak Republic\"               \n",
       "[175] \"Slovenia\"                       \"Solomon Islands\"               \n",
       "[177] \"Somalia\"                        \"South Africa\"                  \n",
       "[179] \"South Sudan\"                    \"Spain\"                         \n",
       "[181] \"Sri Lanka\"                      \"St. Kitts and Nevis\"           \n",
       "[183] \"St. Lucia\"                      \"St. Martin (French part)\"      \n",
       "[185] \"St. Vincent and the Grenadines\" \"Sudan\"                         \n",
       "[187] \"Suriname\"                       \"Sweden\"                        \n",
       "[189] \"Switzerland\"                    \"Syrian Arab Republic\"          \n",
       "[191] \"Tajikistan\"                     \"Tanzania\"                      \n",
       "[193] \"Thailand\"                       \"Timor-Leste\"                   \n",
       "[195] \"Togo\"                           \"Tonga\"                         \n",
       "[197] \"Trinidad and Tobago\"            \"Tunisia\"                       \n",
       "[199] \"Turkey\"                         \"Turkmenistan\"                  \n",
       "[201] \"Turks and Caicos Islands\"       \"Tuvalu\"                        \n",
       "[203] \"Uganda\"                         \"Ukraine\"                       \n",
       "[205] \"United Arab Emirates\"           \"United Kingdom\"                \n",
       "[207] \"United States\"                  \"Uruguay\"                       \n",
       "[209] \"Uzbekistan\"                     \"Vanuatu\"                       \n",
       "[211] \"Venezuela, RB\"                  \"Vietnam\"                       \n",
       "[213] \"Virgin Islands (U.S.)\"          \"West Bank and Gaza\"            \n",
       "[215] \"Yemen, Rep.\"                    \"Zambia\"                        \n",
       "[217] \"Zimbabwe\"                      "
      ]
     },
     "metadata": {},
     "output_type": "display_data"
    },
    {
     "data": {
      "text/html": [
       "<style>\n",
       ".list-inline {list-style: none; margin:0; padding: 0}\n",
       ".list-inline>li {display: inline-block}\n",
       ".list-inline>li:not(:last-child)::after {content: \"\\00b7\"; padding: 0 .5ex}\n",
       "</style>\n",
       "<ol class=list-inline><li>'Congo'</li><li>'Congo Democratic Republic'</li><li>'Egypt'</li><li>'Gambia'</li><li>'Namibia'</li><li>'Yemen'</li></ol>\n"
      ],
      "text/latex": [
       "\\begin{enumerate*}\n",
       "\\item 'Congo'\n",
       "\\item 'Congo Democratic Republic'\n",
       "\\item 'Egypt'\n",
       "\\item 'Gambia'\n",
       "\\item 'Namibia'\n",
       "\\item 'Yemen'\n",
       "\\end{enumerate*}\n"
      ],
      "text/markdown": [
       "1. 'Congo'\n",
       "2. 'Congo Democratic Republic'\n",
       "3. 'Egypt'\n",
       "4. 'Gambia'\n",
       "5. 'Namibia'\n",
       "6. 'Yemen'\n",
       "\n",
       "\n"
      ],
      "text/plain": [
       "[1] \"Congo\"                     \"Congo Democratic Republic\"\n",
       "[3] \"Egypt\"                     \"Gambia\"                   \n",
       "[5] \"Namibia\"                   \"Yemen\"                    "
      ]
     },
     "metadata": {},
     "output_type": "display_data"
    }
   ],
   "source": [
    "df.explore$Country\n",
    "df.wb$Country\n",
    "\n",
    "setdiff(df.explore$Country, df.wb$Country)"
   ]
  },
  {
   "cell_type": "code",
   "execution_count": 4,
   "metadata": {},
   "outputs": [],
   "source": [
    "# Correct the country names in DF\n",
    "\n",
    "df.wb [df.wb =='namibia'] = \"Namibia\"\n",
    "df.wb [df.wb =='Yemen, Rep.'] = \"Yemen\" \n",
    "df.wb [df.wb =='Gambia, The'] = \"Gambia\"\n",
    "df.wb [df.wb =='Egypt, Arab Rep.'] = \"Egypt\"\n",
    "df.wb [df.wb =='Congo, Dem. Rep.'] = \"Congo Democratic Republic\"\n",
    "df.wb [df.wb =='Congo, Rep.'] = \"Congo\"\n"
   ]
  },
  {
   "cell_type": "markdown",
   "metadata": {},
   "source": [
    "matching other exploatory data into the the data frame"
   ]
  },
  {
   "cell_type": "code",
   "execution_count": 5,
   "metadata": {},
   "outputs": [
    {
     "data": {
      "text/html": [
       "<style>\n",
       ".list-inline {list-style: none; margin:0; padding: 0}\n",
       ".list-inline>li {display: inline-block}\n",
       ".list-inline>li:not(:last-child)::after {content: \"\\00b7\"; padding: 0 .5ex}\n",
       "</style>\n",
       "<ol class=list-inline><li>'Afghanistan'</li><li>'Albania'</li><li>'Angola'</li><li>'Armenia'</li><li>'Azerbaijan'</li><li>'Bangladesh'</li><li>'Benin'</li><li>'Bolivia'</li><li>'Brazil'</li><li>'Burkina Faso'</li><li>'Burundi'</li><li>'Cambodia'</li><li>'Cameroon'</li><li>'Central African Republic'</li><li>'Chad'</li><li>'Colombia'</li><li>'Comoros'</li><li>'Congo'</li><li>'Congo Democratic Republic'</li><li>'Cote d\\'Ivoire'</li><li>'Dominican Republic'</li><li>'Egypt'</li><li>'Eritrea'</li><li>'Eswatini'</li><li>'Ethiopia'</li><li>'Gabon'</li><li>'Gambia'</li><li>'Ghana'</li><li>'Guatemala'</li><li>'Guinea'</li><li>'Guyana'</li><li>'Haiti'</li><li>'Honduras'</li><li>'India'</li><li>'Indonesia'</li><li>'Jordan'</li><li>'Kazakhstan'</li><li>'Kenya'</li><li>'Kyrgyz Republic'</li><li>'Lesotho'</li><li>'Liberia'</li><li>'Madagascar'</li><li>'Malawi'</li><li>'Maldives'</li><li>'Mali'</li><li>'Mauritania'</li><li>'Moldova'</li><li>'Morocco'</li><li>'Mozambique'</li><li>'Myanmar'</li><li>'Namibia'</li><li>'Nepal'</li><li>'Nicaragua'</li><li>'Niger'</li><li>'Nigeria'</li><li>'Pakistan'</li><li>'Papua New Guinea'</li><li>'Paraguay'</li><li>'Peru'</li><li>'Philippines'</li><li>'Rwanda'</li><li>'Sao Tome and Principe'</li><li>'Senegal'</li><li>'Sierra Leone'</li><li>'South Africa'</li><li>'Tajikistan'</li><li>'Tanzania'</li><li>'Timor-Leste'</li><li>'Togo'</li><li>'Turkey'</li><li>'Turkmenistan'</li><li>'Uganda'</li><li>'Ukraine'</li><li>'Uzbekistan'</li><li>'Vietnam'</li><li>'Yemen'</li><li>'Zambia'</li><li>'Zimbabwe'</li></ol>\n"
      ],
      "text/latex": [
       "\\begin{enumerate*}\n",
       "\\item 'Afghanistan'\n",
       "\\item 'Albania'\n",
       "\\item 'Angola'\n",
       "\\item 'Armenia'\n",
       "\\item 'Azerbaijan'\n",
       "\\item 'Bangladesh'\n",
       "\\item 'Benin'\n",
       "\\item 'Bolivia'\n",
       "\\item 'Brazil'\n",
       "\\item 'Burkina Faso'\n",
       "\\item 'Burundi'\n",
       "\\item 'Cambodia'\n",
       "\\item 'Cameroon'\n",
       "\\item 'Central African Republic'\n",
       "\\item 'Chad'\n",
       "\\item 'Colombia'\n",
       "\\item 'Comoros'\n",
       "\\item 'Congo'\n",
       "\\item 'Congo Democratic Republic'\n",
       "\\item 'Cote d\\textbackslash{}'Ivoire'\n",
       "\\item 'Dominican Republic'\n",
       "\\item 'Egypt'\n",
       "\\item 'Eritrea'\n",
       "\\item 'Eswatini'\n",
       "\\item 'Ethiopia'\n",
       "\\item 'Gabon'\n",
       "\\item 'Gambia'\n",
       "\\item 'Ghana'\n",
       "\\item 'Guatemala'\n",
       "\\item 'Guinea'\n",
       "\\item 'Guyana'\n",
       "\\item 'Haiti'\n",
       "\\item 'Honduras'\n",
       "\\item 'India'\n",
       "\\item 'Indonesia'\n",
       "\\item 'Jordan'\n",
       "\\item 'Kazakhstan'\n",
       "\\item 'Kenya'\n",
       "\\item 'Kyrgyz Republic'\n",
       "\\item 'Lesotho'\n",
       "\\item 'Liberia'\n",
       "\\item 'Madagascar'\n",
       "\\item 'Malawi'\n",
       "\\item 'Maldives'\n",
       "\\item 'Mali'\n",
       "\\item 'Mauritania'\n",
       "\\item 'Moldova'\n",
       "\\item 'Morocco'\n",
       "\\item 'Mozambique'\n",
       "\\item 'Myanmar'\n",
       "\\item 'Namibia'\n",
       "\\item 'Nepal'\n",
       "\\item 'Nicaragua'\n",
       "\\item 'Niger'\n",
       "\\item 'Nigeria'\n",
       "\\item 'Pakistan'\n",
       "\\item 'Papua New Guinea'\n",
       "\\item 'Paraguay'\n",
       "\\item 'Peru'\n",
       "\\item 'Philippines'\n",
       "\\item 'Rwanda'\n",
       "\\item 'Sao Tome and Principe'\n",
       "\\item 'Senegal'\n",
       "\\item 'Sierra Leone'\n",
       "\\item 'South Africa'\n",
       "\\item 'Tajikistan'\n",
       "\\item 'Tanzania'\n",
       "\\item 'Timor-Leste'\n",
       "\\item 'Togo'\n",
       "\\item 'Turkey'\n",
       "\\item 'Turkmenistan'\n",
       "\\item 'Uganda'\n",
       "\\item 'Ukraine'\n",
       "\\item 'Uzbekistan'\n",
       "\\item 'Vietnam'\n",
       "\\item 'Yemen'\n",
       "\\item 'Zambia'\n",
       "\\item 'Zimbabwe'\n",
       "\\end{enumerate*}\n"
      ],
      "text/markdown": [
       "1. 'Afghanistan'\n",
       "2. 'Albania'\n",
       "3. 'Angola'\n",
       "4. 'Armenia'\n",
       "5. 'Azerbaijan'\n",
       "6. 'Bangladesh'\n",
       "7. 'Benin'\n",
       "8. 'Bolivia'\n",
       "9. 'Brazil'\n",
       "10. 'Burkina Faso'\n",
       "11. 'Burundi'\n",
       "12. 'Cambodia'\n",
       "13. 'Cameroon'\n",
       "14. 'Central African Republic'\n",
       "15. 'Chad'\n",
       "16. 'Colombia'\n",
       "17. 'Comoros'\n",
       "18. 'Congo'\n",
       "19. 'Congo Democratic Republic'\n",
       "20. 'Cote d\\'Ivoire'\n",
       "21. 'Dominican Republic'\n",
       "22. 'Egypt'\n",
       "23. 'Eritrea'\n",
       "24. 'Eswatini'\n",
       "25. 'Ethiopia'\n",
       "26. 'Gabon'\n",
       "27. 'Gambia'\n",
       "28. 'Ghana'\n",
       "29. 'Guatemala'\n",
       "30. 'Guinea'\n",
       "31. 'Guyana'\n",
       "32. 'Haiti'\n",
       "33. 'Honduras'\n",
       "34. 'India'\n",
       "35. 'Indonesia'\n",
       "36. 'Jordan'\n",
       "37. 'Kazakhstan'\n",
       "38. 'Kenya'\n",
       "39. 'Kyrgyz Republic'\n",
       "40. 'Lesotho'\n",
       "41. 'Liberia'\n",
       "42. 'Madagascar'\n",
       "43. 'Malawi'\n",
       "44. 'Maldives'\n",
       "45. 'Mali'\n",
       "46. 'Mauritania'\n",
       "47. 'Moldova'\n",
       "48. 'Morocco'\n",
       "49. 'Mozambique'\n",
       "50. 'Myanmar'\n",
       "51. 'Namibia'\n",
       "52. 'Nepal'\n",
       "53. 'Nicaragua'\n",
       "54. 'Niger'\n",
       "55. 'Nigeria'\n",
       "56. 'Pakistan'\n",
       "57. 'Papua New Guinea'\n",
       "58. 'Paraguay'\n",
       "59. 'Peru'\n",
       "60. 'Philippines'\n",
       "61. 'Rwanda'\n",
       "62. 'Sao Tome and Principe'\n",
       "63. 'Senegal'\n",
       "64. 'Sierra Leone'\n",
       "65. 'South Africa'\n",
       "66. 'Tajikistan'\n",
       "67. 'Tanzania'\n",
       "68. 'Timor-Leste'\n",
       "69. 'Togo'\n",
       "70. 'Turkey'\n",
       "71. 'Turkmenistan'\n",
       "72. 'Uganda'\n",
       "73. 'Ukraine'\n",
       "74. 'Uzbekistan'\n",
       "75. 'Vietnam'\n",
       "76. 'Yemen'\n",
       "77. 'Zambia'\n",
       "78. 'Zimbabwe'\n",
       "\n",
       "\n"
      ],
      "text/plain": [
       " [1] \"Afghanistan\"               \"Albania\"                  \n",
       " [3] \"Angola\"                    \"Armenia\"                  \n",
       " [5] \"Azerbaijan\"                \"Bangladesh\"               \n",
       " [7] \"Benin\"                     \"Bolivia\"                  \n",
       " [9] \"Brazil\"                    \"Burkina Faso\"             \n",
       "[11] \"Burundi\"                   \"Cambodia\"                 \n",
       "[13] \"Cameroon\"                  \"Central African Republic\" \n",
       "[15] \"Chad\"                      \"Colombia\"                 \n",
       "[17] \"Comoros\"                   \"Congo\"                    \n",
       "[19] \"Congo Democratic Republic\" \"Cote d'Ivoire\"            \n",
       "[21] \"Dominican Republic\"        \"Egypt\"                    \n",
       "[23] \"Eritrea\"                   \"Eswatini\"                 \n",
       "[25] \"Ethiopia\"                  \"Gabon\"                    \n",
       "[27] \"Gambia\"                    \"Ghana\"                    \n",
       "[29] \"Guatemala\"                 \"Guinea\"                   \n",
       "[31] \"Guyana\"                    \"Haiti\"                    \n",
       "[33] \"Honduras\"                  \"India\"                    \n",
       "[35] \"Indonesia\"                 \"Jordan\"                   \n",
       "[37] \"Kazakhstan\"                \"Kenya\"                    \n",
       "[39] \"Kyrgyz Republic\"           \"Lesotho\"                  \n",
       "[41] \"Liberia\"                   \"Madagascar\"               \n",
       "[43] \"Malawi\"                    \"Maldives\"                 \n",
       "[45] \"Mali\"                      \"Mauritania\"               \n",
       "[47] \"Moldova\"                   \"Morocco\"                  \n",
       "[49] \"Mozambique\"                \"Myanmar\"                  \n",
       "[51] \"Namibia\"                   \"Nepal\"                    \n",
       "[53] \"Nicaragua\"                 \"Niger\"                    \n",
       "[55] \"Nigeria\"                   \"Pakistan\"                 \n",
       "[57] \"Papua New Guinea\"          \"Paraguay\"                 \n",
       "[59] \"Peru\"                      \"Philippines\"              \n",
       "[61] \"Rwanda\"                    \"Sao Tome and Principe\"    \n",
       "[63] \"Senegal\"                   \"Sierra Leone\"             \n",
       "[65] \"South Africa\"              \"Tajikistan\"               \n",
       "[67] \"Tanzania\"                  \"Timor-Leste\"              \n",
       "[69] \"Togo\"                      \"Turkey\"                   \n",
       "[71] \"Turkmenistan\"              \"Uganda\"                   \n",
       "[73] \"Ukraine\"                   \"Uzbekistan\"               \n",
       "[75] \"Vietnam\"                   \"Yemen\"                    \n",
       "[77] \"Zambia\"                    \"Zimbabwe\"                 "
      ]
     },
     "metadata": {},
     "output_type": "display_data"
    },
    {
     "data": {
      "text/plain": [
       "   Country               bicy             cart             mcyc      \n",
       " Length:78          Min.   : 0.000   Min.   : 0.000   Min.   : 0.00  \n",
       " Class :character   1st Qu.: 8.825   1st Qu.: 0.000   1st Qu.: 2.45  \n",
       " Mode  :character   Median :19.950   Median : 1.200   Median : 9.50  \n",
       "                    Mean   :22.240   Mean   : 4.428   Mean   :16.06  \n",
       "                    3rd Qu.:32.925   3rd Qu.: 3.525   3rd Qu.:19.68  \n",
       "                    Max.   :82.000   Max.   :41.500   Max.   :78.70  \n",
       "      pcar            boat             wigc           clusters    \n",
       " Min.   : 0.00   Min.   :0.0000   Min.   :0.0000   Min.   :1.000  \n",
       " 1st Qu.: 3.95   1st Qu.:0.0000   1st Qu.:0.0000   1st Qu.:1.000  \n",
       " Median : 8.95   Median :0.2000   Median :0.2000   Median :2.000  \n",
       " Mean   :12.45   Mean   :0.5346   Mean   :0.1987   Mean   :1.603  \n",
       " 3rd Qu.:18.18   3rd Qu.:0.5000   3rd Qu.:0.3000   3rd Qu.:2.000  \n",
       " Max.   :57.80   Max.   :5.9000   Max.   :0.5000   Max.   :3.000  \n",
       "      cgdp                tpop                upop            popd        \n",
       " Min.   :0.000e+00   Min.   :0.000e+00   Min.   : 0.00   Min.   :   0.00  \n",
       " 1st Qu.:1.099e+10   1st Qu.:6.358e+06   1st Qu.:30.58   1st Qu.:  33.99  \n",
       " Median :2.407e+10   Median :1.605e+07   Median :43.11   Median :  78.15  \n",
       " Mean   :1.435e+11   Mean   :5.252e+07   Mean   :45.39   Mean   : 144.58  \n",
       " 3rd Qu.:8.224e+10   3rd Qu.:3.689e+07   3rd Qu.:57.34   3rd Qu.: 141.49  \n",
       " Max.   :2.713e+12   Max.   :1.353e+09   Max.   :90.98   Max.   :1718.99  \n",
       "      land              lita            lity             mori       \n",
       " Min.   :    300   Min.   : 0.00   Min.   :0.0000   Min.   :  8.20  \n",
       " 1st Qu.:  97490   1st Qu.: 0.00   1st Qu.:0.0000   1st Qu.: 22.85  \n",
       " Median : 314035   Median :35.26   Median :0.6484   Median : 44.25  \n",
       " Mean   : 624594   Mean   :38.68   Mean   :0.4873   Mean   : 48.01  \n",
       " 3rd Qu.: 782505   3rd Qu.:78.55   3rd Qu.:0.9991   3rd Qu.: 65.00  \n",
       " Max.   :8358140   Max.   :99.99   Max.   :1.0472   Max.   :120.00  "
      ]
     },
     "metadata": {},
     "output_type": "display_data"
    }
   ],
   "source": [
    "df.exp <- merge(x = df.explore,\n",
    "              y = df.wb,\n",
    "              by = c(\"Country\"))\n",
    "\n",
    "\n",
    "df.exp <- df.exp[, c(1:8,12:19) ]\n",
    "df.exp$Country\n",
    "summary(df.exp)"
   ]
  },
  {
   "cell_type": "code",
   "execution_count": 6,
   "metadata": {},
   "outputs": [
    {
     "data": {
      "image/png": "[encoded data removed]",
      "text/plain": [
       "plot without title"
      ]
     },
     "metadata": {
      "image/png": {
       "height": 420,
       "width": 420
      }
     },
     "output_type": "display_data"
    }
   ],
   "source": [
    "model <- rpart(Country ~., data = df.exp)\n",
    "par(xpd = NA) # otherwise on some devices the text is clipped\n",
    "plot(model)\n",
    "text(model, digits = 3)"
   ]
  },
  {
   "cell_type": "markdown",
   "metadata": {},
   "source": [
    "The different rules in tree can be printed as follow:"
   ]
  },
  {
   "cell_type": "code",
   "execution_count": 7,
   "metadata": {},
   "outputs": [
    {
     "name": "stdout",
     "output_type": "stream",
     "text": [
      "n= 78 \n",
      "\n",
      "node), split, n, loss, yval, (yprob)\n",
      "      * denotes terminal node\n",
      "\n",
      " 1) root 78 77 Afghanistan (0.013 0.013 0.013 0.013 0.013 0.013 0.013 0.013 0.013 0.013 0.013 0.013 0.013 0.013 0.013 0.013 0.013 0.013 0.013 0.013 0.013 0.013 0.013 0.013 0.013 0.013 0.013 0.013 0.013 0.013 0.013 0.013 0.013 0.013 0.013 0.013 0.013 0.013 0.013 0.013 0.013 0.013 0.013 0.013 0.013 0.013 0.013 0.013 0.013 0.013 0.013 0.013 0.013 0.013 0.013 0.013 0.013 0.013 0.013 0.013 0.013 0.013 0.013 0.013 0.013 0.013 0.013 0.013 0.013 0.013 0.013 0.013 0.013 0.013 0.013 0.013 0.013 0.013)  \n",
      "   2) bicy< 11 25 24 Angola (0 0 0.04 0.04 0.04 0 0 0 0.04 0 0 0 0.04 0 0 0 0.04 0.04 0 0 0.04 0.04 0.04 0.04 0.04 0.04 0 0 0 0 0 0.04 0 0 0 0.04 0 0 0 0.04 0.04 0 0 0 0 0.04 0 0 0 0 0 0 0 0.04 0 0 0.04 0.04 0 0 0 0 0 0.04 0.04 0 0 0 0 0.04 0 0 0 0 0 0.04 0 0)  \n",
      "     4) bicy>=3.4 16 15 Angola (0 0 0.062 0.062 0.062 0 0 0 0 0 0 0 0.062 0 0 0 0.062 0.062 0 0 0 0.062 0.062 0.062 0 0.062 0 0 0 0 0 0.062 0 0 0 0 0 0 0 0 0 0 0 0 0 0 0 0 0 0 0 0 0 0.062 0 0 0.062 0 0 0 0 0 0 0.062 0.062 0 0 0 0 0 0 0 0 0 0 0.062 0 0) *\n",
      "     5) bicy< 3.4 9  8 Brazil (0 0 0 0 0 0 0 0 0.11 0 0 0 0 0 0 0 0 0 0 0 0.11 0 0 0 0.11 0 0 0 0 0 0 0 0 0 0 0.11 0 0 0 0.11 0.11 0 0 0 0 0.11 0 0 0 0 0 0 0 0 0 0 0 0.11 0 0 0 0 0 0 0 0 0 0 0 0.11 0 0 0 0 0 0 0 0) *\n",
      "   3) bicy>=11 53 52 Afghanistan (0.019 0.019 0 0 0 0.019 0.019 0.019 0 0.019 0.019 0.019 0 0.019 0.019 0.019 0 0 0.019 0.019 0 0 0 0 0 0 0.019 0.019 0.019 0.019 0.019 0 0.019 0.019 0.019 0 0.019 0.019 0.019 0 0 0.019 0.019 0.019 0.019 0 0.019 0.019 0.019 0.019 0.019 0.019 0.019 0 0.019 0.019 0 0 0.019 0.019 0.019 0.019 0.019 0 0 0.019 0.019 0.019 0.019 0 0.019 0.019 0.019 0.019 0.019 0 0.019 0.019)  \n",
      "     6) bicy>=25 31 30 Afghanistan (0.032 0.032 0 0 0 0.032 0 0.032 0 0.032 0 0.032 0 0 0.032 0.032 0 0 0 0.032 0 0 0 0 0 0 0.032 0 0.032 0 0.032 0 0.032 0.032 0.032 0 0 0 0 0 0 0 0.032 0.032 0.032 0 0.032 0.032 0.032 0.032 0 0.032 0.032 0 0 0 0 0 0 0 0 0 0 0 0 0.032 0.032 0 0.032 0 0 0.032 0.032 0 0.032 0 0.032 0)  \n",
      "      12) upop>=51 10  9 Albania (0 0.1 0 0 0 0 0 0.1 0 0 0 0 0 0 0 0.1 0 0 0 0 0 0 0 0 0 0 0.1 0 0.1 0 0 0 0.1 0 0.1 0 0 0 0 0 0 0 0 0 0 0 0 0.1 0 0 0 0 0.1 0 0 0 0 0 0 0 0 0 0 0 0 0 0 0 0 0 0 0 0.1 0 0 0 0 0) *\n",
      "      13) upop< 51 21 20 Afghanistan (0.048 0 0 0 0 0.048 0 0 0 0.048 0 0.048 0 0 0.048 0 0 0 0 0.048 0 0 0 0 0 0 0 0 0 0 0.048 0 0 0.048 0 0 0 0 0 0 0 0 0.048 0.048 0.048 0 0.048 0 0.048 0.048 0 0.048 0 0 0 0 0 0 0 0 0 0 0 0 0 0.048 0.048 0 0.048 0 0 0.048 0 0 0.048 0 0.048 0)  \n",
      "        26) lita>=38 9  8 Afghanistan (0.11 0 0 0 0 0.11 0 0 0 0.11 0 0 0 0 0 0 0 0 0 0.11 0 0 0 0 0 0 0 0 0 0 0 0 0 0.11 0 0 0 0 0 0 0 0 0 0 0 0 0 0 0 0 0 0.11 0 0 0 0 0 0 0 0 0 0 0 0 0 0 0 0 0 0 0 0.11 0 0 0.11 0 0.11 0) *\n",
      "        27) lita< 38 12 11 Cambodia (0 0 0 0 0 0 0 0 0 0 0 0.083 0 0 0.083 0 0 0 0 0 0 0 0 0 0 0 0 0 0 0 0.083 0 0 0 0 0 0 0 0 0 0 0 0.083 0.083 0.083 0 0.083 0 0.083 0.083 0 0 0 0 0 0 0 0 0 0 0 0 0 0 0 0.083 0.083 0 0.083 0 0 0 0 0 0 0 0 0) *\n",
      "     7) bicy< 25 22 21 Benin (0 0 0 0 0 0 0.045 0 0 0 0.045 0 0 0.045 0 0 0 0 0.045 0 0 0 0 0 0 0 0 0.045 0 0.045 0 0 0 0 0 0 0.045 0.045 0.045 0 0 0.045 0 0 0 0 0 0 0 0 0.045 0 0 0 0.045 0.045 0 0 0.045 0.045 0.045 0.045 0.045 0 0 0 0 0.045 0 0 0.045 0 0 0.045 0 0 0 0.045)  \n",
      "      14) bicy>=14 15 14 Benin (0 0 0 0 0 0 0.067 0 0 0 0.067 0 0 0 0 0 0 0 0.067 0 0 0 0 0 0 0 0 0.067 0 0.067 0 0 0 0 0 0 0.067 0.067 0.067 0 0 0.067 0 0 0 0 0 0 0 0 0 0 0 0 0 0.067 0 0 0.067 0.067 0 0 0 0 0 0 0 0.067 0 0 0 0 0 0.067 0 0 0 0.067) *\n",
      "      15) bicy< 14 7  6 Central African Republic (0 0 0 0 0 0 0 0 0 0 0 0 0 0.14 0 0 0 0 0 0 0 0 0 0 0 0 0 0 0 0 0 0 0 0 0 0 0 0 0 0 0 0 0 0 0 0 0 0 0 0 0.14 0 0 0 0.14 0 0 0 0 0 0.14 0.14 0.14 0 0 0 0 0 0 0 0.14 0 0 0 0 0 0 0) *\n"
     ]
    }
   ],
   "source": [
    "print(model, digits = 2)"
   ]
  },
  {
   "cell_type": "markdown",
   "metadata": {},
   "source": [
    "These rules are produced by repeatedly splitting the predictor variables, starting with the variable that has the highest association with the response variable. The process continues until some predetermined stopping criteria are met."
   ]
  },
  {
   "cell_type": "markdown",
   "metadata": {},
   "source": [
    "# Example of data set"
   ]
  },
  {
   "cell_type": "code",
   "execution_count": 8,
   "metadata": {},
   "outputs": [
    {
     "data": {
      "text/html": [
       "<table>\n",
       "<caption>A data.frame: 3 × 16</caption>\n",
       "<thead>\n",
       "\t<tr><th scope=col>Country</th><th scope=col>bicy</th><th scope=col>cart</th><th scope=col>mcyc</th><th scope=col>pcar</th><th scope=col>boat</th><th scope=col>wigc</th><th scope=col>clusters</th><th scope=col>cgdp</th><th scope=col>tpop</th><th scope=col>upop</th><th scope=col>popd</th><th scope=col>land</th><th scope=col>lita</th><th scope=col>lity</th><th scope=col>mori</th></tr>\n",
       "\t<tr><th scope=col>&lt;chr&gt;</th><th scope=col>&lt;dbl&gt;</th><th scope=col>&lt;dbl&gt;</th><th scope=col>&lt;dbl&gt;</th><th scope=col>&lt;dbl&gt;</th><th scope=col>&lt;dbl&gt;</th><th scope=col>&lt;dbl&gt;</th><th scope=col>&lt;dbl&gt;</th><th scope=col>&lt;dbl&gt;</th><th scope=col>&lt;dbl&gt;</th><th scope=col>&lt;dbl&gt;</th><th scope=col>&lt;dbl&gt;</th><th scope=col>&lt;dbl&gt;</th><th scope=col>&lt;dbl&gt;</th><th scope=col>&lt;dbl&gt;</th><th scope=col>&lt;dbl&gt;</th></tr>\n",
       "</thead>\n",
       "<tbody>\n",
       "\t<tr><td>Uzbekistan</td><td>20.0</td><td>0.0</td><td>10.2</td><td>21.2</td><td>0.0</td><td>0.0</td><td>2</td><td>50392607758</td><td>32956100</td><td>50.478</td><td> 77.470851</td><td>425400</td><td>99.99289</td><td>1</td><td>18.4</td></tr>\n",
       "\t<tr><td>Guyana    </td><td>52.1</td><td>1.1</td><td> 8.9</td><td>17.2</td><td>3.7</td><td>0.0</td><td>2</td><td> 4787635821</td><td>  779004</td><td>26.606</td><td>  3.957348</td><td>196850</td><td> 0.00000</td><td>0</td><td>30.3</td></tr>\n",
       "\t<tr><td>Guatemala </td><td>29.4</td><td>0.5</td><td>19.8</td><td>19.8</td><td>0.4</td><td>0.3</td><td>2</td><td>73118147941</td><td>16346950</td><td>51.054</td><td>152.547126</td><td>107160</td><td> 0.00000</td><td>0</td><td>25.4</td></tr>\n",
       "</tbody>\n",
       "</table>\n"
      ],
      "text/latex": [
       "A data.frame: 3 × 16\n",
       "\\begin{tabular}{llllllllllllllll}\n",
       " Country & bicy & cart & mcyc & pcar & boat & wigc & clusters & cgdp & tpop & upop & popd & land & lita & lity & mori\\\\\n",
       " <chr> & <dbl> & <dbl> & <dbl> & <dbl> & <dbl> & <dbl> & <dbl> & <dbl> & <dbl> & <dbl> & <dbl> & <dbl> & <dbl> & <dbl> & <dbl>\\\\\n",
       "\\hline\n",
       "\t Uzbekistan & 20.0 & 0.0 & 10.2 & 21.2 & 0.0 & 0.0 & 2 & 50392607758 & 32956100 & 50.478 &  77.470851 & 425400 & 99.99289 & 1 & 18.4\\\\\n",
       "\t Guyana     & 52.1 & 1.1 &  8.9 & 17.2 & 3.7 & 0.0 & 2 &  4787635821 &   779004 & 26.606 &   3.957348 & 196850 &  0.00000 & 0 & 30.3\\\\\n",
       "\t Guatemala  & 29.4 & 0.5 & 19.8 & 19.8 & 0.4 & 0.3 & 2 & 73118147941 & 16346950 & 51.054 & 152.547126 & 107160 &  0.00000 & 0 & 25.4\\\\\n",
       "\\end{tabular}\n"
      ],
      "text/markdown": [
       "\n",
       "A data.frame: 3 × 16\n",
       "\n",
       "| Country &lt;chr&gt; | bicy &lt;dbl&gt; | cart &lt;dbl&gt; | mcyc &lt;dbl&gt; | pcar &lt;dbl&gt; | boat &lt;dbl&gt; | wigc &lt;dbl&gt; | clusters &lt;dbl&gt; | cgdp &lt;dbl&gt; | tpop &lt;dbl&gt; | upop &lt;dbl&gt; | popd &lt;dbl&gt; | land &lt;dbl&gt; | lita &lt;dbl&gt; | lity &lt;dbl&gt; | mori &lt;dbl&gt; |\n",
       "|---|---|---|---|---|---|---|---|---|---|---|---|---|---|---|---|\n",
       "| Uzbekistan | 20.0 | 0.0 | 10.2 | 21.2 | 0.0 | 0.0 | 2 | 50392607758 | 32956100 | 50.478 |  77.470851 | 425400 | 99.99289 | 1 | 18.4 |\n",
       "| Guyana     | 52.1 | 1.1 |  8.9 | 17.2 | 3.7 | 0.0 | 2 |  4787635821 |   779004 | 26.606 |   3.957348 | 196850 |  0.00000 | 0 | 30.3 |\n",
       "| Guatemala  | 29.4 | 0.5 | 19.8 | 19.8 | 0.4 | 0.3 | 2 | 73118147941 | 16346950 | 51.054 | 152.547126 | 107160 |  0.00000 | 0 | 25.4 |\n",
       "\n"
      ],
      "text/plain": [
       "  Country    bicy cart mcyc pcar boat wigc clusters cgdp        tpop     upop  \n",
       "1 Uzbekistan 20.0 0.0  10.2 21.2 0.0  0.0  2        50392607758 32956100 50.478\n",
       "2 Guyana     52.1 1.1   8.9 17.2 3.7  0.0  2         4787635821   779004 26.606\n",
       "3 Guatemala  29.4 0.5  19.8 19.8 0.4  0.3  2        73118147941 16346950 51.054\n",
       "  popd       land   lita     lity mori\n",
       "1  77.470851 425400 99.99289 1    18.4\n",
       "2   3.957348 196850  0.00000 0    30.3\n",
       "3 152.547126 107160  0.00000 0    25.4"
      ]
     },
     "metadata": {},
     "output_type": "display_data"
    }
   ],
   "source": [
    "# Inspect the data\n",
    "sample_n(df.exp, 3)\n",
    "# Split the data into training and test set\n",
    "set.seed(123)\n",
    "training.samples <- df.exp$clusters %>% \n",
    "  createDataPartition(p = 0.8, list = FALSE)\n",
    "train.data  <- df.exp[training.samples, ]\n",
    "test.data <- df.exp[-training.samples, ]\n",
    "\n",
    "\n"
   ]
  },
  {
   "cell_type": "markdown",
   "metadata": {},
   "source": [
    "Fully grown trees\n",
    "Here, we’ll create a fully grown tree showing all predictor variables in the data set.\n"
   ]
  },
  {
   "cell_type": "code",
   "execution_count": 9,
   "metadata": {},
   "outputs": [
    {
     "data": {
      "image/png": "[encoded data removed]",
      "text/plain": [
       "plot without title"
      ]
     },
     "metadata": {
      "image/png": {
       "height": 420,
       "width": 420
      }
     },
     "output_type": "display_data"
    }
   ],
   "source": [
    "# Build the model\n",
    "set.seed(123)\n",
    "model1 <- rpart(Country ~., data = train.data, method = \"class\")\n",
    "# Plot the trees\n",
    "par(xpd = NA) # Avoid clipping the text in some device\n",
    "plot(model1)\n",
    "text(model1, digits = 3)"
   ]
  },
  {
   "cell_type": "code",
   "execution_count": 10,
   "metadata": {},
   "outputs": [
    {
     "data": {
      "text/html": [
       "<style>\n",
       ".dl-inline {width: auto; margin:0; padding: 0}\n",
       ".dl-inline>dt, .dl-inline>dd {float: none; width: auto; display: inline-block}\n",
       ".dl-inline>dt::after {content: \":\\0020\"; padding-right: .5ex}\n",
       ".dl-inline>dt:not(:first-of-type) {padding-left: .5ex}\n",
       "</style><dl class=dl-inline><dt>3</dt><dd>Azerbaijan</dd><dt>4</dt><dd>Central African Republic</dd><dt>13</dt><dd>Central African Republic</dd><dt>18</dt><dd>Azerbaijan</dd><dt>22</dt><dd>Azerbaijan</dd><dt>24</dt><dd>Central African Republic</dd></dl>\n",
       "\n",
       "<details>\n",
       "\t<summary style=display:list-item;cursor:pointer>\n",
       "\t\t<strong>Levels</strong>:\n",
       "\t</summary>\n",
       "\t<style>\n",
       "\t.list-inline {list-style: none; margin:0; padding: 0}\n",
       "\t.list-inline>li {display: inline-block}\n",
       "\t.list-inline>li:not(:last-child)::after {content: \"\\00b7\"; padding: 0 .5ex}\n",
       "\t</style>\n",
       "\t<ol class=list-inline><li>'Afghanistan'</li><li>'Albania'</li><li>'Azerbaijan'</li><li>'Bangladesh'</li><li>'Benin'</li><li>'Bolivia'</li><li>'Brazil'</li><li>'Burkina Faso'</li><li>'Burundi'</li><li>'Cambodia'</li><li>'Central African Republic'</li><li>'Chad'</li><li>'Colombia'</li><li>'Comoros'</li><li>'Congo Democratic Republic'</li><li>'Cote d\\'Ivoire'</li><li>'Dominican Republic'</li><li>'Eritrea'</li><li>'Ethiopia'</li><li>'Gambia'</li><li>'Ghana'</li><li>'Guatemala'</li><li>'Guinea'</li><li>'Guyana'</li><li>'Honduras'</li><li>'India'</li><li>'Indonesia'</li><li>'Kazakhstan'</li><li>'Kenya'</li><li>'Kyrgyz Republic'</li><li>'Lesotho'</li><li>'Liberia'</li><li>'Madagascar'</li><li>'Malawi'</li><li>'Maldives'</li><li>'Mali'</li><li>'Mauritania'</li><li>'Morocco'</li><li>'Myanmar'</li><li>'Namibia'</li><li>'Nepal'</li><li>'Niger'</li><li>'Nigeria'</li><li>'Pakistan'</li><li>'Papua New Guinea'</li><li>'Paraguay'</li><li>'Peru'</li><li>'Philippines'</li><li>'Sao Tome and Principe'</li><li>'Senegal'</li><li>'Sierra Leone'</li><li>'South Africa'</li><li>'Tajikistan'</li><li>'Tanzania'</li><li>'Togo'</li><li>'Turkmenistan'</li><li>'Uganda'</li><li>'Ukraine'</li><li>'Uzbekistan'</li><li>'Vietnam'</li><li>'Yemen'</li><li>'Zambia'</li><li>'Zimbabwe'</li></ol>\n",
       "</details>"
      ],
      "text/latex": [
       "\\begin{description*}\n",
       "\\item[3] Azerbaijan\n",
       "\\item[4] Central African Republic\n",
       "\\item[13] Central African Republic\n",
       "\\item[18] Azerbaijan\n",
       "\\item[22] Azerbaijan\n",
       "\\item[24] Central African Republic\n",
       "\\end{description*}\n",
       "\n",
       "\\emph{Levels}: \\begin{enumerate*}\n",
       "\\item 'Afghanistan'\n",
       "\\item 'Albania'\n",
       "\\item 'Azerbaijan'\n",
       "\\item 'Bangladesh'\n",
       "\\item 'Benin'\n",
       "\\item 'Bolivia'\n",
       "\\item 'Brazil'\n",
       "\\item 'Burkina Faso'\n",
       "\\item 'Burundi'\n",
       "\\item 'Cambodia'\n",
       "\\item 'Central African Republic'\n",
       "\\item 'Chad'\n",
       "\\item 'Colombia'\n",
       "\\item 'Comoros'\n",
       "\\item 'Congo Democratic Republic'\n",
       "\\item 'Cote d\\textbackslash{}'Ivoire'\n",
       "\\item 'Dominican Republic'\n",
       "\\item 'Eritrea'\n",
       "\\item 'Ethiopia'\n",
       "\\item 'Gambia'\n",
       "\\item 'Ghana'\n",
       "\\item 'Guatemala'\n",
       "\\item 'Guinea'\n",
       "\\item 'Guyana'\n",
       "\\item 'Honduras'\n",
       "\\item 'India'\n",
       "\\item 'Indonesia'\n",
       "\\item 'Kazakhstan'\n",
       "\\item 'Kenya'\n",
       "\\item 'Kyrgyz Republic'\n",
       "\\item 'Lesotho'\n",
       "\\item 'Liberia'\n",
       "\\item 'Madagascar'\n",
       "\\item 'Malawi'\n",
       "\\item 'Maldives'\n",
       "\\item 'Mali'\n",
       "\\item 'Mauritania'\n",
       "\\item 'Morocco'\n",
       "\\item 'Myanmar'\n",
       "\\item 'Namibia'\n",
       "\\item 'Nepal'\n",
       "\\item 'Niger'\n",
       "\\item 'Nigeria'\n",
       "\\item 'Pakistan'\n",
       "\\item 'Papua New Guinea'\n",
       "\\item 'Paraguay'\n",
       "\\item 'Peru'\n",
       "\\item 'Philippines'\n",
       "\\item 'Sao Tome and Principe'\n",
       "\\item 'Senegal'\n",
       "\\item 'Sierra Leone'\n",
       "\\item 'South Africa'\n",
       "\\item 'Tajikistan'\n",
       "\\item 'Tanzania'\n",
       "\\item 'Togo'\n",
       "\\item 'Turkmenistan'\n",
       "\\item 'Uganda'\n",
       "\\item 'Ukraine'\n",
       "\\item 'Uzbekistan'\n",
       "\\item 'Vietnam'\n",
       "\\item 'Yemen'\n",
       "\\item 'Zambia'\n",
       "\\item 'Zimbabwe'\n",
       "\\end{enumerate*}\n"
      ],
      "text/markdown": [
       "3\n",
       ":   Azerbaijan4\n",
       ":   Central African Republic13\n",
       ":   Central African Republic18\n",
       ":   Azerbaijan22\n",
       ":   Azerbaijan24\n",
       ":   Central African Republic\n",
       "\n",
       "\n",
       "**Levels**: 1. 'Afghanistan'\n",
       "2. 'Albania'\n",
       "3. 'Azerbaijan'\n",
       "4. 'Bangladesh'\n",
       "5. 'Benin'\n",
       "6. 'Bolivia'\n",
       "7. 'Brazil'\n",
       "8. 'Burkina Faso'\n",
       "9. 'Burundi'\n",
       "10. 'Cambodia'\n",
       "11. 'Central African Republic'\n",
       "12. 'Chad'\n",
       "13. 'Colombia'\n",
       "14. 'Comoros'\n",
       "15. 'Congo Democratic Republic'\n",
       "16. 'Cote d\\'Ivoire'\n",
       "17. 'Dominican Republic'\n",
       "18. 'Eritrea'\n",
       "19. 'Ethiopia'\n",
       "20. 'Gambia'\n",
       "21. 'Ghana'\n",
       "22. 'Guatemala'\n",
       "23. 'Guinea'\n",
       "24. 'Guyana'\n",
       "25. 'Honduras'\n",
       "26. 'India'\n",
       "27. 'Indonesia'\n",
       "28. 'Kazakhstan'\n",
       "29. 'Kenya'\n",
       "30. 'Kyrgyz Republic'\n",
       "31. 'Lesotho'\n",
       "32. 'Liberia'\n",
       "33. 'Madagascar'\n",
       "34. 'Malawi'\n",
       "35. 'Maldives'\n",
       "36. 'Mali'\n",
       "37. 'Mauritania'\n",
       "38. 'Morocco'\n",
       "39. 'Myanmar'\n",
       "40. 'Namibia'\n",
       "41. 'Nepal'\n",
       "42. 'Niger'\n",
       "43. 'Nigeria'\n",
       "44. 'Pakistan'\n",
       "45. 'Papua New Guinea'\n",
       "46. 'Paraguay'\n",
       "47. 'Peru'\n",
       "48. 'Philippines'\n",
       "49. 'Sao Tome and Principe'\n",
       "50. 'Senegal'\n",
       "51. 'Sierra Leone'\n",
       "52. 'South Africa'\n",
       "53. 'Tajikistan'\n",
       "54. 'Tanzania'\n",
       "55. 'Togo'\n",
       "56. 'Turkmenistan'\n",
       "57. 'Uganda'\n",
       "58. 'Ukraine'\n",
       "59. 'Uzbekistan'\n",
       "60. 'Vietnam'\n",
       "61. 'Yemen'\n",
       "62. 'Zambia'\n",
       "63. 'Zimbabwe'\n",
       "\n",
       "\n"
      ],
      "text/plain": [
       "                       3                        4                       13 \n",
       "              Azerbaijan Central African Republic Central African Republic \n",
       "                      18                       22                       24 \n",
       "              Azerbaijan               Azerbaijan Central African Republic \n",
       "63 Levels: Afghanistan Albania Azerbaijan Bangladesh Benin Bolivia ... Zimbabwe"
      ]
     },
     "metadata": {},
     "output_type": "display_data"
    }
   ],
   "source": [
    "# Make predictions on the test data\n",
    "predicted.classes <- model1 %>% \n",
    "  predict(test.data, type = \"class\")\n",
    "head(predicted.classes)"
   ]
  },
  {
   "cell_type": "code",
   "execution_count": 11,
   "metadata": {},
   "outputs": [
    {
     "data": {
      "text/html": [
       "0"
      ],
      "text/latex": [
       "0"
      ],
      "text/markdown": [
       "0"
      ],
      "text/plain": [
       "[1] 0"
      ]
     },
     "metadata": {},
     "output_type": "display_data"
    }
   ],
   "source": [
    "# Compute model accuracy rate on test data\n",
    "mean(predicted.classes == test.data$Country)\n",
    "# Zero is not good, something went wrong, ask the professor for help potentially. "
   ]
  },
  {
   "cell_type": "markdown",
   "metadata": {},
   "source": [
    "# Pruning the tree"
   ]
  },
  {
   "cell_type": "code",
   "execution_count": 12,
   "metadata": {},
   "outputs": [
    {
     "name": "stderr",
     "output_type": "stream",
     "text": [
      "Warning message in nominalTrainWorkflow(x = x, y = y, wts = weights, info = trainInfo, :\n",
      "\"There were missing values in resampled performance measures.\"\n"
     ]
    },
    {
     "data": {
      "image/png": "[encoded data removed]",
      "text/plain": [
       "plot without title"
      ]
     },
     "metadata": {
      "image/png": {
       "height": 420,
       "width": 420
      }
     },
     "output_type": "display_data"
    }
   ],
   "source": [
    "# Fit the model on the training set\n",
    "set.seed(123)\n",
    "model2 <- train(\n",
    "  clusters ~., data = train.data, method = \"rpart\",\n",
    "  trControl = trainControl(\"cv\", number = 10),\n",
    "  tuneLength = 10\n",
    "  )\n",
    "# Plot model accuracy vs different values of\n",
    "# cp (complexity parameter)\n",
    "plot(model2)"
   ]
  },
  {
   "cell_type": "markdown",
   "metadata": {},
   "source": [
    "RMSE is computed as RMSE = mean((observeds - predicteds)^2) %>% sqrt(). The lower the RMSE, the better the model."
   ]
  },
  {
   "cell_type": "code",
   "execution_count": 13,
   "metadata": {},
   "outputs": [
    {
     "data": {
      "text/html": [
       "<table>\n",
       "<caption>A data.frame: 1 × 1</caption>\n",
       "<thead>\n",
       "\t<tr><th></th><th scope=col>cp</th></tr>\n",
       "\t<tr><th></th><th scope=col>&lt;dbl&gt;</th></tr>\n",
       "</thead>\n",
       "<tbody>\n",
       "\t<tr><th scope=row>2</th><td>0.0660509</td></tr>\n",
       "</tbody>\n",
       "</table>\n"
      ],
      "text/latex": [
       "A data.frame: 1 × 1\n",
       "\\begin{tabular}{r|l}\n",
       "  & cp\\\\\n",
       "  & <dbl>\\\\\n",
       "\\hline\n",
       "\t2 & 0.0660509\\\\\n",
       "\\end{tabular}\n"
      ],
      "text/markdown": [
       "\n",
       "A data.frame: 1 × 1\n",
       "\n",
       "| <!--/--> | cp &lt;dbl&gt; |\n",
       "|---|---|\n",
       "| 2 | 0.0660509 |\n",
       "\n"
      ],
      "text/plain": [
       "  cp       \n",
       "2 0.0660509"
      ]
     },
     "metadata": {},
     "output_type": "display_data"
    }
   ],
   "source": [
    "# Print the best tuning parameter cp that\n",
    "# maximizes the model accuracy\n",
    "model2$bestTune"
   ]
  },
  {
   "cell_type": "code",
   "execution_count": 14,
   "metadata": {},
   "outputs": [
    {
     "data": {
      "image/png": "[encoded data removed]",
      "text/plain": [
       "plot without title"
      ]
     },
     "metadata": {
      "image/png": {
       "height": 420,
       "width": 420
      }
     },
     "output_type": "display_data"
    }
   ],
   "source": [
    "# Plot the final tree model\n",
    "par(xpd = NA) # Avoid clipping the text in some device\n",
    "plot(model2$finalModel)\n",
    "text(model2$finalModel,  digits = 3)"
   ]
  },
  {
   "cell_type": "code",
   "execution_count": 15,
   "metadata": {},
   "outputs": [
    {
     "data": {
      "text/plain": [
       "n= 63 \n",
       "\n",
       "node), split, n, deviance, yval\n",
       "      * denotes terminal node\n",
       "\n",
       "1) root 63 27.079370 1.603175  \n",
       "  2) mori>=43.6 33  3.515152 1.121212 *\n",
       "  3) mori< 43.6 30  7.466667 2.133333  \n",
       "    6) mori>=27.8 12  1.666667 1.833333 *\n",
       "    7) mori< 27.8 18  4.000000 2.333333 *"
      ]
     },
     "metadata": {},
     "output_type": "display_data"
    }
   ],
   "source": [
    "# Decision rules in the model\n",
    "model2$finalModel"
   ]
  },
  {
   "cell_type": "markdown",
   "metadata": {},
   "source": [
    "# Make predictions on the test data\n",
    "predicted.classes <- model2 %>% predict(test.data)\n",
    "# Compute model accuracy rate on test data\n",
    "mean(predicted.classes == test.data$Country)\n",
    "# Must understand what these function of codes actually implment. "
   ]
  },
  {
   "cell_type": "markdown",
   "metadata": {},
   "source": [
    "# Create the regression tree"
   ]
  },
  {
   "cell_type": "code",
   "execution_count": 16,
   "metadata": {},
   "outputs": [
    {
     "name": "stderr",
     "output_type": "stream",
     "text": [
      "Warning message in nominalTrainWorkflow(x = x, y = y, wts = weights, info = trainInfo, :\n",
      "\"There were missing values in resampled performance measures.\"\n"
     ]
    },
    {
     "data": {
      "text/html": [
       "<table>\n",
       "<caption>A data.frame: 1 × 1</caption>\n",
       "<thead>\n",
       "\t<tr><th></th><th scope=col>cp</th></tr>\n",
       "\t<tr><th></th><th scope=col>&lt;dbl&gt;</th></tr>\n",
       "</thead>\n",
       "<tbody>\n",
       "\t<tr><th scope=row>3</th><td>0.07382981</td></tr>\n",
       "</tbody>\n",
       "</table>\n"
      ],
      "text/latex": [
       "A data.frame: 1 × 1\n",
       "\\begin{tabular}{r|l}\n",
       "  & cp\\\\\n",
       "  & <dbl>\\\\\n",
       "\\hline\n",
       "\t3 & 0.07382981\\\\\n",
       "\\end{tabular}\n"
      ],
      "text/markdown": [
       "\n",
       "A data.frame: 1 × 1\n",
       "\n",
       "| <!--/--> | cp &lt;dbl&gt; |\n",
       "|---|---|\n",
       "| 3 | 0.07382981 |\n",
       "\n"
      ],
      "text/plain": [
       "  cp        \n",
       "3 0.07382981"
      ]
     },
     "metadata": {},
     "output_type": "display_data"
    },
    {
     "data": {
      "image/png": "[encoded data removed]",
      "text/plain": [
       "plot without title"
      ]
     },
     "metadata": {
      "image/png": {
       "height": 420,
       "width": 420
      }
     },
     "output_type": "display_data"
    }
   ],
   "source": [
    "# Fit the model on the training set\n",
    "set.seed(123)\n",
    "model <- train(\n",
    "  bicy ~., data = train.data, method = \"rpart\",\n",
    "  trControl = trainControl(\"cv\", number = 10),\n",
    "  tuneLength = 10\n",
    "  )\n",
    "# Plot model error vs different values of\n",
    "# cp (complexity parameter)\n",
    "plot(model)\n",
    "# Print the best tuning parameter cp that\n",
    "# minimize the model RMSE\n",
    "model$bestTune"
   ]
  },
  {
   "cell_type": "markdown",
   "metadata": {},
   "source": [
    "Here, the best cp value is the one that minimize the prediction error RMSE (root mean squared error)."
   ]
  },
  {
   "cell_type": "code",
   "execution_count": 17,
   "metadata": {},
   "outputs": [
    {
     "data": {
      "image/png": "[encoded data removed]",
      "text/plain": [
       "plot without title"
      ]
     },
     "metadata": {
      "image/png": {
       "height": 420,
       "width": 420
      }
     },
     "output_type": "display_data"
    }
   ],
   "source": [
    "# Plot the final tree model\n",
    "par(xpd = NA) # Avoid clipping the text in some device\n",
    "plot(model$finalModel)\n",
    "text(model$finalModel, digits = 3)"
   ]
  },
  {
   "cell_type": "markdown",
   "metadata": {},
   "source": [
    "# Decision rules in the model\n",
    "model$finalModel\n",
    "# Make predictions on the test data\n",
    "predictions <- model %>% predict(test.data)\n",
    "head(predictions)\n",
    "# Compute the prediction error RMSE\n",
    "RMSE(predictions, test.data$Country)"
   ]
  },
  {
   "cell_type": "markdown",
   "metadata": {},
   "source": [
    "# Conditionnal inference tree"
   ]
  },
  {
   "cell_type": "code",
   "execution_count": 18,
   "metadata": {},
   "outputs": [
    {
     "name": "stderr",
     "output_type": "stream",
     "text": [
      "Warning message in nominalTrainWorkflow(x = x, y = y, wts = weights, info = trainInfo, :\n",
      "\"There were missing values in resampled performance measures.\"\n"
     ]
    },
    {
     "data": {
      "image/png": "[encoded data removed]",
      "text/plain": [
       "plot without title"
      ]
     },
     "metadata": {
      "image/png": {
       "height": 420,
       "width": 420
      }
     },
     "output_type": "display_data"
    }
   ],
   "source": [
    "set.seed(123)\n",
    "model <- train(\n",
    "  bicy ~., data = train.data, method = \"ctree2\",\n",
    "  trControl = trainControl(\"cv\", number = 10),\n",
    "  tuneGrid = expand.grid(maxdepth = 3, mincriterion = 0.95 )\n",
    "  )\n",
    "plot(model$finalModel)"
   ]
  },
  {
   "cell_type": "markdown",
   "metadata": {},
   "source": [
    "Reference: http://www.sthda.com/english/articles/35-statistical-machine-learning-essentials/141-cart-model-decision-tree-essentials/"
   ]
  },
  {
   "cell_type": "markdown",
   "metadata": {},
   "source": [
    "# Fitting Classification Trees"
   ]
  },
  {
   "cell_type": "markdown",
   "metadata": {},
   "source": [
    "Reference: https://static1.squarespace.com/static/5ff2adbe3fe4fe33db902812/t/6009dd9fa7bc363aa822d2c7/1611259312432/ISLR+Seventh+Printing.pdf (338)\n",
    "https://www.datacamp.com/community/tutorials/decision-trees-R\n",
    "Random Forest:\n",
    "https://cran.r-project.org/web/packages/randomForest/randomForest.pdf"
   ]
  },
  {
   "cell_type": "code",
   "execution_count": 19,
   "metadata": {},
   "outputs": [
    {
     "data": {
      "text/html": [
       "<style>\n",
       ".list-inline {list-style: none; margin:0; padding: 0}\n",
       ".list-inline>li {display: inline-block}\n",
       ".list-inline>li:not(:last-child)::after {content: \"\\00b7\"; padding: 0 .5ex}\n",
       "</style>\n",
       "<ol class=list-inline><li>'Country'</li><li>'bicy'</li><li>'cart'</li><li>'mcyc'</li><li>'pcar'</li><li>'boat'</li><li>'wigc'</li><li>'clusters'</li><li>'cgdp'</li><li>'tpop'</li><li>'upop'</li><li>'popd'</li><li>'land'</li><li>'lita'</li><li>'lity'</li><li>'mori'</li></ol>\n"
      ],
      "text/latex": [
       "\\begin{enumerate*}\n",
       "\\item 'Country'\n",
       "\\item 'bicy'\n",
       "\\item 'cart'\n",
       "\\item 'mcyc'\n",
       "\\item 'pcar'\n",
       "\\item 'boat'\n",
       "\\item 'wigc'\n",
       "\\item 'clusters'\n",
       "\\item 'cgdp'\n",
       "\\item 'tpop'\n",
       "\\item 'upop'\n",
       "\\item 'popd'\n",
       "\\item 'land'\n",
       "\\item 'lita'\n",
       "\\item 'lity'\n",
       "\\item 'mori'\n",
       "\\end{enumerate*}\n"
      ],
      "text/markdown": [
       "1. 'Country'\n",
       "2. 'bicy'\n",
       "3. 'cart'\n",
       "4. 'mcyc'\n",
       "5. 'pcar'\n",
       "6. 'boat'\n",
       "7. 'wigc'\n",
       "8. 'clusters'\n",
       "9. 'cgdp'\n",
       "10. 'tpop'\n",
       "11. 'upop'\n",
       "12. 'popd'\n",
       "13. 'land'\n",
       "14. 'lita'\n",
       "15. 'lity'\n",
       "16. 'mori'\n",
       "\n",
       "\n"
      ],
      "text/plain": [
       " [1] \"Country\"  \"bicy\"     \"cart\"     \"mcyc\"     \"pcar\"     \"boat\"    \n",
       " [7] \"wigc\"     \"clusters\" \"cgdp\"     \"tpop\"     \"upop\"     \"popd\"    \n",
       "[13] \"land\"     \"lita\"     \"lity\"     \"mori\"    "
      ]
     },
     "metadata": {},
     "output_type": "display_data"
    }
   ],
   "source": [
    "names(df.exp)"
   ]
  },
  {
   "cell_type": "code",
   "execution_count": 20,
   "metadata": {},
   "outputs": [
    {
     "ename": "ERROR",
     "evalue": "Error in hist.default(df.exp$acar): 'x' must be numeric\n",
     "output_type": "error",
     "traceback": [
      "Error in hist.default(df.exp$acar): 'x' must be numeric\nTraceback:\n",
      "1. hist(df.exp$acar)",
      "2. hist.default(df.exp$acar)",
      "3. stop(\"'x' must be numeric\")"
     ]
    }
   ],
   "source": [
    "hist(df.exp$acar)\n",
    "hist(df.exp$clusters)"
   ]
  },
  {
   "cell_type": "code",
   "execution_count": null,
   "metadata": {},
   "outputs": [],
   "source": [
    "#High = ifelse(df$acar <= 10 , \"No\", \"Yes\")\n",
    "#df = data.frame(df, High)"
   ]
  },
  {
   "cell_type": "code",
   "execution_count": null,
   "metadata": {},
   "outputs": [],
   "source": [
    "tree.wa = tree(clusters ~ . - Country  , data = df.exp)\n",
    "head(df.exp)\n",
    "# We must figure out the NAs introduced by coercion meaning before preceeding this sections"
   ]
  },
  {
   "cell_type": "code",
   "execution_count": null,
   "metadata": {},
   "outputs": [],
   "source": [
    "summary(tree.wa)"
   ]
  },
  {
   "cell_type": "code",
   "execution_count": null,
   "metadata": {},
   "outputs": [],
   "source": [
    "plot(tree.wa)\n",
    "text(tree.wa, pretty = 0)"
   ]
  },
  {
   "cell_type": "code",
   "execution_count": null,
   "metadata": {},
   "outputs": [],
   "source": [
    "tree.wa"
   ]
  },
  {
   "cell_type": "markdown",
   "metadata": {},
   "source": [
    "Training Session"
   ]
  },
  {
   "cell_type": "code",
   "execution_count": null,
   "metadata": {},
   "outputs": [],
   "source": [
    "set.seed(101)\n",
    "train=sample(1:nrow(df.exp), 59)"
   ]
  },
  {
   "cell_type": "code",
   "execution_count": null,
   "metadata": {},
   "outputs": [],
   "source": [
    "tree.wa = tree(clusters ~ . - Country  , data = df.exp)\n",
    "plot(tree.wa)\n",
    "text(tree.wa, pretty=0)"
   ]
  },
  {
   "cell_type": "markdown",
   "metadata": {},
   "source": [
    "tree.pred = predict(tree.wa, df.exp[-train,], type=\"class\")"
   ]
  },
  {
   "cell_type": "markdown",
   "metadata": {},
   "source": [
    "Finally, we use the data.frame() function to merge High with the rest of\n",
    "the borehole (bore) data."
   ]
  },
  {
   "cell_type": "markdown",
   "metadata": {},
   "source": [
    "set.seed(2)\n",
    "train=sample(1:nrow(df.exp), 78)\n",
    "df.test= df.exp[-train,]\n",
    "High.test= df.exp$clusters[-train]\n",
    "tree.df =tree(clusters ~ . - Country ,df.exp,subset=train)\n",
    "summary(tree.df)\n",
    "tree.pred=predict(tree.df,df.test,type=\"class\")\n",
    "table(tree.pred,High.test)\n",
    "plot(tree.df)\n",
    "# Unsure what trees cannot handle multiple responses mean"
   ]
  },
  {
   "cell_type": "markdown",
   "metadata": {},
   "source": [
    "# Random Forest"
   ]
  },
  {
   "cell_type": "markdown",
   "metadata": {},
   "source": [
    "To prepare data for random forest, let's set the seed and create a sample training set of 300 observations."
   ]
  },
  {
   "cell_type": "code",
   "execution_count": null,
   "metadata": {},
   "outputs": [],
   "source": [
    "set.seed(101)\n",
    "train = sample(1:nrow(df.exp), 78)\n",
    "head(train)"
   ]
  },
  {
   "cell_type": "code",
   "execution_count": null,
   "metadata": {},
   "outputs": [],
   "source": [
    "rf.water = randomForest(acar~., data = df.exp, subset = train)\n",
    "rf.water"
   ]
  },
  {
   "cell_type": "code",
   "execution_count": null,
   "metadata": {},
   "outputs": [],
   "source": [
    "oob.err = double(13)\n",
    "test.err = double(13)\n",
    "for(mtry in 1:13){\n",
    "  fit = randomForest(acar~., data = df.exp, subset=train, mtry=mtry, ntree = 350)\n",
    "  oob.err[mtry] = fit$mse[350]\n",
    "  pred = predict(fit, df.exp[-train,])\n",
    "  test.err[mtry] = with(df.exp[-train,], mean( (acar-pred)^2 ))\n",
    "}"
   ]
  },
  {
   "cell_type": "code",
   "execution_count": null,
   "metadata": {},
   "outputs": [],
   "source": [
    "matplot(1:mtry, cbind(test.err, oob.err), pch = 23, col = c(\"red\", \"blue\"), type = \"b\", ylab=\"Mean Squared Error\")\n",
    "legend(\"topright\", legend = c(\"OOB\", \"Test\"), pch = 23, col = c(\"red\", \"blue\"))"
   ]
  },
  {
   "cell_type": "markdown",
   "metadata": {},
   "source": [
    "Printing out the random forest gives its summary: the # of trees (500 were grown), the mean squared residuals (MSR), and the percentage of variance explained. The MSR and % variance explained are based on the out-of-bag estimates, a very clever device in random forests to get honest error estimates."
   ]
  }
 ],
 "metadata": {
  "kernelspec": {
   "display_name": "R",
   "language": "R",
   "name": "ir"
  },
  "language_info": {
   "codemirror_mode": "r",
   "file_extension": ".r",
   "mimetype": "text/x-r-source",
   "name": "R",
   "pygments_lexer": "r",
   "version": "4.0.2"
  }
 },
 "nbformat": 4,
 "nbformat_minor": 4
}
