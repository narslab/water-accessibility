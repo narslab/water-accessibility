{
 "cells": [
  {
   "cell_type": "code",
   "execution_count": 59,
   "metadata": {},
   "outputs": [],
   "source": [
    "#install.packages('randomForest')\n",
    "library(randomForest)\n",
    "library(readxl)\n",
    "library(tidyverse)\n",
    "#install.packages('caret')\n",
    "library(Rcpp)\n",
    "library(caret)\n",
    "library(rpart)\n",
    "#install.packages('tree')\n",
    "library(tree)\n",
    "#install.packages('multcomp')\n",
    "library(multcomp)\n",
    "#install.packages('party')\n",
    "library(party)\n",
    "library(tree)\n"
   ]
  },
  {
   "cell_type": "markdown",
   "metadata": {},
   "source": [
    "# Classification"
   ]
  },
  {
   "cell_type": "code",
   "execution_count": 60,
   "metadata": {},
   "outputs": [
    {
     "data": {
      "text/html": [
       "<table>\n",
       "<caption>A data.frame: 6 × 32</caption>\n",
       "<thead>\n",
       "\t<tr><th></th><th scope=col>Country</th><th scope=col>Year</th><th scope=col>Survey</th><th scope=col>imws</th><th scope=col>phom</th><th scope=col>pipy</th><th scope=col>ptap</th><th scope=col>bore</th><th scope=col>pwel</th><th scope=col>pspr</th><th scope=col>...</th><th scope=col>watp</th><th scope=col>tles</th><th scope=col>tmor</th><th scope=col>bicy</th><th scope=col>acar</th><th scope=col>mcyc</th><th scope=col>pcar</th><th scope=col>boat</th><th scope=col>wigc</th><th scope=col>clusters</th></tr>\n",
       "\t<tr><th></th><th scope=col>&lt;chr&gt;</th><th scope=col>&lt;int&gt;</th><th scope=col>&lt;chr&gt;</th><th scope=col>&lt;dbl&gt;</th><th scope=col>&lt;dbl&gt;</th><th scope=col>&lt;dbl&gt;</th><th scope=col>&lt;dbl&gt;</th><th scope=col>&lt;dbl&gt;</th><th scope=col>&lt;dbl&gt;</th><th scope=col>&lt;dbl&gt;</th><th scope=col>...</th><th scope=col>&lt;dbl&gt;</th><th scope=col>&lt;dbl&gt;</th><th scope=col>&lt;dbl&gt;</th><th scope=col>&lt;dbl&gt;</th><th scope=col>&lt;dbl&gt;</th><th scope=col>&lt;dbl&gt;</th><th scope=col>&lt;dbl&gt;</th><th scope=col>&lt;dbl&gt;</th><th scope=col>&lt;dbl&gt;</th><th scope=col>&lt;int&gt;</th></tr>\n",
       "</thead>\n",
       "<tbody>\n",
       "\t<tr><th scope=row>1</th><td>Afghanistan</td><td>2015</td><td>DHS</td><td>71.2</td><td> 2.3</td><td> 4.8</td><td>14.2</td><td>20.1</td><td>18.5</td><td>4.7</td><td>...</td><td>45.3</td><td>45.2</td><td> 8.2</td><td>30.0</td><td>5.8</td><td>35.2</td><td>11.8</td><td>0.0</td><td>0.1</td><td>1</td></tr>\n",
       "\t<tr><th scope=row>2</th><td>Albania    </td><td>2018</td><td>DHS</td><td>98.4</td><td>48.8</td><td> 5.2</td><td> 2.4</td><td> 1.4</td><td> 4.1</td><td>2.5</td><td>...</td><td>77.9</td><td>20.6</td><td> 1.1</td><td>26.4</td><td>3.2</td><td> 9.6</td><td>37.0</td><td>0.7</td><td>0.1</td><td>2</td></tr>\n",
       "\t<tr><th scope=row>3</th><td>Angola     </td><td>2016</td><td>DHS</td><td>66.9</td><td> 4.3</td><td> 9.7</td><td>10.3</td><td> 1.9</td><td> 9.1</td><td>3.3</td><td>...</td><td>34.5</td><td>46.1</td><td>15.6</td><td> 4.6</td><td>1.3</td><td>17.8</td><td>10.9</td><td>0.4</td><td>0.3</td><td>3</td></tr>\n",
       "\t<tr><th scope=row>4</th><td>Armenia    </td><td>2016</td><td>DHS</td><td>99.9</td><td>88.3</td><td> 8.0</td><td> 0.5</td><td> 0.2</td><td> 0.2</td><td>1.0</td><td>...</td><td>97.6</td><td> 1.6</td><td> 0.1</td><td> 8.6</td><td>0.4</td><td> 0.2</td><td>39.2</td><td>0.3</td><td>0.1</td><td>2</td></tr>\n",
       "\t<tr><th scope=row>5</th><td>Azerbaijan </td><td>2006</td><td>DHS</td><td>90.6</td><td>34.0</td><td>19.7</td><td> 3.5</td><td> 9.3</td><td> 6.2</td><td>7.5</td><td>...</td><td>75.9</td><td>18.7</td><td> 4.4</td><td> 6.9</td><td>3.3</td><td> 1.1</td><td>20.4</td><td>0.1</td><td>0.0</td><td>4</td></tr>\n",
       "\t<tr><th scope=row>6</th><td>Bangladesh </td><td>2014</td><td>DHS</td><td>97.8</td><td> 4.3</td><td> 3.3</td><td> 2.7</td><td>86.4</td><td> 0.2</td><td>0.0</td><td>...</td><td>75.5</td><td>22.7</td><td> 1.6</td><td>25.1</td><td>0.0</td><td> 6.4</td><td> 0.8</td><td>0.0</td><td>0.3</td><td>1</td></tr>\n",
       "</tbody>\n",
       "</table>\n"
      ],
      "text/latex": [
       "A data.frame: 6 × 32\n",
       "\\begin{tabular}{r|lllllllllllllllllllll}\n",
       "  & Country & Year & Survey & imws & phom & pipy & ptap & bore & pwel & pspr & ... & watp & tles & tmor & bicy & acar & mcyc & pcar & boat & wigc & clusters\\\\\n",
       "  & <chr> & <int> & <chr> & <dbl> & <dbl> & <dbl> & <dbl> & <dbl> & <dbl> & <dbl> & ... & <dbl> & <dbl> & <dbl> & <dbl> & <dbl> & <dbl> & <dbl> & <dbl> & <dbl> & <int>\\\\\n",
       "\\hline\n",
       "\t1 & Afghanistan & 2015 & DHS & 71.2 &  2.3 &  4.8 & 14.2 & 20.1 & 18.5 & 4.7 & ... & 45.3 & 45.2 &  8.2 & 30.0 & 5.8 & 35.2 & 11.8 & 0.0 & 0.1 & 1\\\\\n",
       "\t2 & Albania     & 2018 & DHS & 98.4 & 48.8 &  5.2 &  2.4 &  1.4 &  4.1 & 2.5 & ... & 77.9 & 20.6 &  1.1 & 26.4 & 3.2 &  9.6 & 37.0 & 0.7 & 0.1 & 2\\\\\n",
       "\t3 & Angola      & 2016 & DHS & 66.9 &  4.3 &  9.7 & 10.3 &  1.9 &  9.1 & 3.3 & ... & 34.5 & 46.1 & 15.6 &  4.6 & 1.3 & 17.8 & 10.9 & 0.4 & 0.3 & 3\\\\\n",
       "\t4 & Armenia     & 2016 & DHS & 99.9 & 88.3 &  8.0 &  0.5 &  0.2 &  0.2 & 1.0 & ... & 97.6 &  1.6 &  0.1 &  8.6 & 0.4 &  0.2 & 39.2 & 0.3 & 0.1 & 2\\\\\n",
       "\t5 & Azerbaijan  & 2006 & DHS & 90.6 & 34.0 & 19.7 &  3.5 &  9.3 &  6.2 & 7.5 & ... & 75.9 & 18.7 &  4.4 &  6.9 & 3.3 &  1.1 & 20.4 & 0.1 & 0.0 & 4\\\\\n",
       "\t6 & Bangladesh  & 2014 & DHS & 97.8 &  4.3 &  3.3 &  2.7 & 86.4 &  0.2 & 0.0 & ... & 75.5 & 22.7 &  1.6 & 25.1 & 0.0 &  6.4 &  0.8 & 0.0 & 0.3 & 1\\\\\n",
       "\\end{tabular}\n"
      ],
      "text/markdown": [
       "\n",
       "A data.frame: 6 × 32\n",
       "\n",
       "| <!--/--> | Country &lt;chr&gt; | Year &lt;int&gt; | Survey &lt;chr&gt; | imws &lt;dbl&gt; | phom &lt;dbl&gt; | pipy &lt;dbl&gt; | ptap &lt;dbl&gt; | bore &lt;dbl&gt; | pwel &lt;dbl&gt; | pspr &lt;dbl&gt; | ... ... | watp &lt;dbl&gt; | tles &lt;dbl&gt; | tmor &lt;dbl&gt; | bicy &lt;dbl&gt; | acar &lt;dbl&gt; | mcyc &lt;dbl&gt; | pcar &lt;dbl&gt; | boat &lt;dbl&gt; | wigc &lt;dbl&gt; | clusters &lt;int&gt; |\n",
       "|---|---|---|---|---|---|---|---|---|---|---|---|---|---|---|---|---|---|---|---|---|---|\n",
       "| 1 | Afghanistan | 2015 | DHS | 71.2 |  2.3 |  4.8 | 14.2 | 20.1 | 18.5 | 4.7 | ... | 45.3 | 45.2 |  8.2 | 30.0 | 5.8 | 35.2 | 11.8 | 0.0 | 0.1 | 1 |\n",
       "| 2 | Albania     | 2018 | DHS | 98.4 | 48.8 |  5.2 |  2.4 |  1.4 |  4.1 | 2.5 | ... | 77.9 | 20.6 |  1.1 | 26.4 | 3.2 |  9.6 | 37.0 | 0.7 | 0.1 | 2 |\n",
       "| 3 | Angola      | 2016 | DHS | 66.9 |  4.3 |  9.7 | 10.3 |  1.9 |  9.1 | 3.3 | ... | 34.5 | 46.1 | 15.6 |  4.6 | 1.3 | 17.8 | 10.9 | 0.4 | 0.3 | 3 |\n",
       "| 4 | Armenia     | 2016 | DHS | 99.9 | 88.3 |  8.0 |  0.5 |  0.2 |  0.2 | 1.0 | ... | 97.6 |  1.6 |  0.1 |  8.6 | 0.4 |  0.2 | 39.2 | 0.3 | 0.1 | 2 |\n",
       "| 5 | Azerbaijan  | 2006 | DHS | 90.6 | 34.0 | 19.7 |  3.5 |  9.3 |  6.2 | 7.5 | ... | 75.9 | 18.7 |  4.4 |  6.9 | 3.3 |  1.1 | 20.4 | 0.1 | 0.0 | 4 |\n",
       "| 6 | Bangladesh  | 2014 | DHS | 97.8 |  4.3 |  3.3 |  2.7 | 86.4 |  0.2 | 0.0 | ... | 75.5 | 22.7 |  1.6 | 25.1 | 0.0 |  6.4 |  0.8 | 0.0 | 0.3 | 1 |\n",
       "\n"
      ],
      "text/plain": [
       "  Country     Year Survey imws phom pipy ptap bore pwel pspr ... watp tles tmor\n",
       "1 Afghanistan 2015 DHS    71.2  2.3  4.8 14.2 20.1 18.5 4.7  ... 45.3 45.2  8.2\n",
       "2 Albania     2018 DHS    98.4 48.8  5.2  2.4  1.4  4.1 2.5  ... 77.9 20.6  1.1\n",
       "3 Angola      2016 DHS    66.9  4.3  9.7 10.3  1.9  9.1 3.3  ... 34.5 46.1 15.6\n",
       "4 Armenia     2016 DHS    99.9 88.3  8.0  0.5  0.2  0.2 1.0  ... 97.6  1.6  0.1\n",
       "5 Azerbaijan  2006 DHS    90.6 34.0 19.7  3.5  9.3  6.2 7.5  ... 75.9 18.7  4.4\n",
       "6 Bangladesh  2014 DHS    97.8  4.3  3.3  2.7 86.4  0.2 0.0  ... 75.5 22.7  1.6\n",
       "  bicy acar mcyc pcar boat wigc clusters\n",
       "1 30.0 5.8  35.2 11.8 0.0  0.1  1       \n",
       "2 26.4 3.2   9.6 37.0 0.7  0.1  2       \n",
       "3  4.6 1.3  17.8 10.9 0.4  0.3  3       \n",
       "4  8.6 0.4   0.2 39.2 0.3  0.1  2       \n",
       "5  6.9 3.3   1.1 20.4 0.1  0.0  4       \n",
       "6 25.1 0.0   6.4  0.8 0.0  0.3  1       "
      ]
     },
     "metadata": {},
     "output_type": "display_data"
    },
    {
     "data": {
      "text/html": [
       "<table>\n",
       "<caption>A data.frame: 6 × 13</caption>\n",
       "<thead>\n",
       "\t<tr><th></th><th scope=col>X</th><th scope=col>Country</th><th scope=col>ptap</th><th scope=col>bore</th><th scope=col>pspr</th><th scope=col>uspr</th><th scope=col>pwel</th><th scope=col>uwel</th><th scope=col>surw</th><th scope=col>tles</th><th scope=col>tmor</th><th scope=col>rain</th><th scope=col>phom</th></tr>\n",
       "\t<tr><th></th><th scope=col>&lt;int&gt;</th><th scope=col>&lt;chr&gt;</th><th scope=col>&lt;dbl&gt;</th><th scope=col>&lt;dbl&gt;</th><th scope=col>&lt;dbl&gt;</th><th scope=col>&lt;dbl&gt;</th><th scope=col>&lt;dbl&gt;</th><th scope=col>&lt;dbl&gt;</th><th scope=col>&lt;dbl&gt;</th><th scope=col>&lt;dbl&gt;</th><th scope=col>&lt;dbl&gt;</th><th scope=col>&lt;dbl&gt;</th><th scope=col>&lt;dbl&gt;</th></tr>\n",
       "</thead>\n",
       "<tbody>\n",
       "\t<tr><th scope=row>1</th><td>1</td><td>Afghanistan</td><td>14.2</td><td>20.1</td><td>4.7</td><td>8.6</td><td>18.5</td><td>11.1</td><td> 7.3</td><td>45.2</td><td> 8.2</td><td>0.4</td><td> 2.3</td></tr>\n",
       "\t<tr><th scope=row>2</th><td>2</td><td>Albania    </td><td> 2.4</td><td> 1.4</td><td>2.5</td><td>0.8</td><td> 4.1</td><td> 0.8</td><td> 0.0</td><td>20.6</td><td> 1.1</td><td>0.0</td><td>48.8</td></tr>\n",
       "\t<tr><th scope=row>3</th><td>3</td><td>Angola     </td><td>10.3</td><td> 1.9</td><td>3.3</td><td>4.8</td><td> 9.1</td><td> 8.3</td><td>18.0</td><td>46.1</td><td>15.6</td><td>1.7</td><td> 4.3</td></tr>\n",
       "\t<tr><th scope=row>4</th><td>4</td><td>Armenia    </td><td> 0.5</td><td> 0.2</td><td>1.0</td><td>0.1</td><td> 0.2</td><td> 0.0</td><td> 0.0</td><td> 1.6</td><td> 0.1</td><td>0.0</td><td>88.3</td></tr>\n",
       "\t<tr><th scope=row>5</th><td>5</td><td>Azerbaijan </td><td> 3.5</td><td> 9.3</td><td>7.5</td><td>1.1</td><td> 6.2</td><td> 0.2</td><td> 7.0</td><td>18.7</td><td> 4.4</td><td>0.0</td><td>34.0</td></tr>\n",
       "\t<tr><th scope=row>6</th><td>6</td><td>Bangladesh </td><td> 2.7</td><td>86.4</td><td>0.0</td><td>0.3</td><td> 0.2</td><td> 0.6</td><td> 1.2</td><td>22.7</td><td> 1.6</td><td>0.4</td><td> 4.3</td></tr>\n",
       "</tbody>\n",
       "</table>\n"
      ],
      "text/latex": [
       "A data.frame: 6 × 13\n",
       "\\begin{tabular}{r|lllllllllllll}\n",
       "  & X & Country & ptap & bore & pspr & uspr & pwel & uwel & surw & tles & tmor & rain & phom\\\\\n",
       "  & <int> & <chr> & <dbl> & <dbl> & <dbl> & <dbl> & <dbl> & <dbl> & <dbl> & <dbl> & <dbl> & <dbl> & <dbl>\\\\\n",
       "\\hline\n",
       "\t1 & 1 & Afghanistan & 14.2 & 20.1 & 4.7 & 8.6 & 18.5 & 11.1 &  7.3 & 45.2 &  8.2 & 0.4 &  2.3\\\\\n",
       "\t2 & 2 & Albania     &  2.4 &  1.4 & 2.5 & 0.8 &  4.1 &  0.8 &  0.0 & 20.6 &  1.1 & 0.0 & 48.8\\\\\n",
       "\t3 & 3 & Angola      & 10.3 &  1.9 & 3.3 & 4.8 &  9.1 &  8.3 & 18.0 & 46.1 & 15.6 & 1.7 &  4.3\\\\\n",
       "\t4 & 4 & Armenia     &  0.5 &  0.2 & 1.0 & 0.1 &  0.2 &  0.0 &  0.0 &  1.6 &  0.1 & 0.0 & 88.3\\\\\n",
       "\t5 & 5 & Azerbaijan  &  3.5 &  9.3 & 7.5 & 1.1 &  6.2 &  0.2 &  7.0 & 18.7 &  4.4 & 0.0 & 34.0\\\\\n",
       "\t6 & 6 & Bangladesh  &  2.7 & 86.4 & 0.0 & 0.3 &  0.2 &  0.6 &  1.2 & 22.7 &  1.6 & 0.4 &  4.3\\\\\n",
       "\\end{tabular}\n"
      ],
      "text/markdown": [
       "\n",
       "A data.frame: 6 × 13\n",
       "\n",
       "| <!--/--> | X &lt;int&gt; | Country &lt;chr&gt; | ptap &lt;dbl&gt; | bore &lt;dbl&gt; | pspr &lt;dbl&gt; | uspr &lt;dbl&gt; | pwel &lt;dbl&gt; | uwel &lt;dbl&gt; | surw &lt;dbl&gt; | tles &lt;dbl&gt; | tmor &lt;dbl&gt; | rain &lt;dbl&gt; | phom &lt;dbl&gt; |\n",
       "|---|---|---|---|---|---|---|---|---|---|---|---|---|---|\n",
       "| 1 | 1 | Afghanistan | 14.2 | 20.1 | 4.7 | 8.6 | 18.5 | 11.1 |  7.3 | 45.2 |  8.2 | 0.4 |  2.3 |\n",
       "| 2 | 2 | Albania     |  2.4 |  1.4 | 2.5 | 0.8 |  4.1 |  0.8 |  0.0 | 20.6 |  1.1 | 0.0 | 48.8 |\n",
       "| 3 | 3 | Angola      | 10.3 |  1.9 | 3.3 | 4.8 |  9.1 |  8.3 | 18.0 | 46.1 | 15.6 | 1.7 |  4.3 |\n",
       "| 4 | 4 | Armenia     |  0.5 |  0.2 | 1.0 | 0.1 |  0.2 |  0.0 |  0.0 |  1.6 |  0.1 | 0.0 | 88.3 |\n",
       "| 5 | 5 | Azerbaijan  |  3.5 |  9.3 | 7.5 | 1.1 |  6.2 |  0.2 |  7.0 | 18.7 |  4.4 | 0.0 | 34.0 |\n",
       "| 6 | 6 | Bangladesh  |  2.7 | 86.4 | 0.0 | 0.3 |  0.2 |  0.6 |  1.2 | 22.7 |  1.6 | 0.4 |  4.3 |\n",
       "\n"
      ],
      "text/plain": [
       "  X Country     ptap bore pspr uspr pwel uwel surw tles tmor rain phom\n",
       "1 1 Afghanistan 14.2 20.1 4.7  8.6  18.5 11.1  7.3 45.2  8.2 0.4   2.3\n",
       "2 2 Albania      2.4  1.4 2.5  0.8   4.1  0.8  0.0 20.6  1.1 0.0  48.8\n",
       "3 3 Angola      10.3  1.9 3.3  4.8   9.1  8.3 18.0 46.1 15.6 1.7   4.3\n",
       "4 4 Armenia      0.5  0.2 1.0  0.1   0.2  0.0  0.0  1.6  0.1 0.0  88.3\n",
       "5 5 Azerbaijan   3.5  9.3 7.5  1.1   6.2  0.2  7.0 18.7  4.4 0.0  34.0\n",
       "6 6 Bangladesh   2.7 86.4 0.0  0.3   0.2  0.6  1.2 22.7  1.6 0.4   4.3"
      ]
     },
     "metadata": {},
     "output_type": "display_data"
    }
   ],
   "source": [
    "df.wa = read.csv(file = \"../../results/df-water-access.csv\")\n",
    "df.explore = read.csv(file = \"../../results/df-water-explore.csv\")\n",
    "df = read.csv(file = \"../../results/dfsimple.csv\")\n",
    "head(df)\n",
    "head(df.wa)"
   ]
  },
  {
   "cell_type": "code",
   "execution_count": 110,
   "metadata": {},
   "outputs": [
    {
     "data": {
      "image/png": "[encoded data removed]",
      "text/plain": [
       "plot without title"
      ]
     },
     "metadata": {
      "image/png": {
       "height": 420,
       "width": 420
      }
     },
     "output_type": "display_data"
    }
   ],
   "source": [
    "model <- rpart(Country ~., data = df)\n",
    "par(xpd = NA) # otherwise on some devices the text is clipped\n",
    "plot(model)\n",
    "text(model, digits = 3)"
   ]
  },
  {
   "cell_type": "markdown",
   "metadata": {},
   "source": [
    "The different rules in tree can be printed as follow:"
   ]
  },
  {
   "cell_type": "code",
   "execution_count": 62,
   "metadata": {},
   "outputs": [
    {
     "name": "stdout",
     "output_type": "stream",
     "text": [
      "n= 78 \n",
      "\n",
      "node), split, n, loss, yval, (yprob)\n",
      "      * denotes terminal node\n",
      "\n",
      " 1) root 78 77 Afghanistan (0.013 0.013 0.013 0.013 0.013 0.013 0.013 0.013 0.013 0.013 0.013 0.013 0.013 0.013 0.013 0.013 0.013 0.013 0.013 0.013 0.013 0.013 0.013 0.013 0.013 0.013 0.013 0.013 0.013 0.013 0.013 0.013 0.013 0.013 0.013 0.013 0.013 0.013 0.013 0.013 0.013 0.013 0.013 0.013 0.013 0.013 0.013 0.013 0.013 0.013 0.013 0.013 0.013 0.013 0.013 0.013 0.013 0.013 0.013 0.013 0.013 0.013 0.013 0.013 0.013 0.013 0.013 0.013 0.013 0.013 0.013 0.013 0.013 0.013 0.013 0.013 0.013 0.013)  \n",
      "   2) bore< 1.1 25 24 Armenia (0 0 0 0.04 0 0 0 0.04 0.04 0 0.04 0 0 0.04 0 0 0.04 0 0 0 0.04 0.04 0.04 0 0 0.04 0 0 0.04 0 0.04 0.04 0 0 0 0.04 0.04 0 0 0 0 0 0 0.04 0 0.04 0 0.04 0 0 0 0 0.04 0 0 0 0 0.04 0.04 0 0 0.04 0 0 0 0 0 0 0 0 0.04 0 0 0.04 0.04 0 0 0)  \n",
      "     4) Year>=2e+03 16 15 Armenia (0 0 0 0.062 0 0 0 0.062 0 0 0.062 0 0 0 0 0 0.062 0 0 0 0.062 0.062 0 0 0 0.062 0 0 0.062 0 0.062 0.062 0 0 0 0.062 0 0 0 0 0 0 0 0.062 0 0 0 0.062 0 0 0 0 0 0 0 0 0 0 0.062 0 0 0.062 0 0 0 0 0 0 0 0 0 0 0 0 0.062 0 0 0) *\n",
      "     5) Year< 2e+03 9  8 Brazil (0 0 0 0 0 0 0 0 0.11 0 0 0 0 0.11 0 0 0 0 0 0 0 0 0.11 0 0 0 0 0 0 0 0 0 0 0 0 0 0.11 0 0 0 0 0 0 0 0 0.11 0 0 0 0 0 0 0.11 0 0 0 0 0.11 0 0 0 0 0 0 0 0 0 0 0 0 0.11 0 0 0.11 0 0 0 0) *\n",
      "   3) bore>=1.1 53 52 Afghanistan (0.019 0.019 0.019 0 0.019 0.019 0.019 0 0 0.019 0 0.019 0.019 0 0.019 0.019 0 0.019 0.019 0.019 0 0 0 0.019 0.019 0 0.019 0.019 0 0.019 0 0 0.019 0.019 0.019 0 0 0.019 0.019 0.019 0.019 0.019 0.019 0 0.019 0 0.019 0 0.019 0.019 0.019 0.019 0 0.019 0.019 0.019 0.019 0 0 0.019 0.019 0 0.019 0.019 0.019 0.019 0.019 0.019 0.019 0.019 0 0.019 0.019 0 0 0.019 0.019 0.019)  \n",
      "     6) pwel>=4.2 31 30 Afghanistan (0.032 0 0.032 0 0.032 0 0.032 0 0 0.032 0 0 0 0 0.032 0 0 0.032 0 0.032 0 0 0 0.032 0.032 0 0.032 0 0 0.032 0 0 0 0 0.032 0 0 0.032 0 0 0.032 0.032 0.032 0 0.032 0 0.032 0 0.032 0.032 0 0 0 0.032 0.032 0 0 0 0 0 0 0 0 0.032 0 0 0.032 0.032 0.032 0 0 0.032 0.032 0 0 0 0.032 0.032)  \n",
      "      12) pspr>=3.2 10  9 Afghanistan (0.1 0 0.1 0 0.1 0 0 0 0 0 0 0 0 0 0 0 0 0.1 0 0 0 0 0 0 0.1 0 0 0 0 0 0 0 0 0 0.1 0 0 0.1 0 0 0 0.1 0 0 0 0 0 0 0 0 0 0 0 0 0 0 0 0 0 0 0 0 0 0 0 0 0 0.1 0 0 0 0.1 0 0 0 0 0 0) *\n",
      "      13) pspr< 3.2 21 20 Benin (0 0 0 0 0 0 0.048 0 0 0.048 0 0 0 0 0.048 0 0 0 0 0.048 0 0 0 0.048 0 0 0.048 0 0 0.048 0 0 0 0 0 0 0 0 0 0 0.048 0 0.048 0 0.048 0 0.048 0 0.048 0.048 0 0 0 0.048 0.048 0 0 0 0 0 0 0 0 0.048 0 0 0.048 0 0.048 0 0 0 0.048 0 0 0 0.048 0.048)  \n",
      "        26) pipy< 7.8 12 11 Benin (0 0 0 0 0 0 0.083 0 0 0 0 0 0 0 0.083 0 0 0 0 0 0 0 0 0 0 0 0 0 0 0.083 0 0 0 0 0 0 0 0 0 0 0.083 0 0.083 0 0.083 0 0.083 0 0 0.083 0 0 0 0.083 0.083 0 0 0 0 0 0 0 0 0.083 0 0 0 0 0.083 0 0 0 0 0 0 0 0 0) *\n",
      "        27) pipy>=7.8 9  8 Burkina Faso (0 0 0 0 0 0 0 0 0 0.11 0 0 0 0 0 0 0 0 0 0.11 0 0 0 0.11 0 0 0.11 0 0 0 0 0 0 0 0 0 0 0 0 0 0 0 0 0 0 0 0 0 0.11 0 0 0 0 0 0 0 0 0 0 0 0 0 0 0 0 0 0.11 0 0 0 0 0 0.11 0 0 0 0.11 0.11) *\n",
      "     7) pwel< 4.2 22 21 Albania (0 0.045 0 0 0 0.045 0 0 0 0 0 0.045 0.045 0 0 0.045 0 0 0.045 0 0 0 0 0 0 0 0 0.045 0 0 0 0 0.045 0.045 0 0 0 0 0.045 0.045 0 0 0 0 0 0 0 0 0 0 0.045 0.045 0 0 0 0.045 0.045 0 0 0.045 0.045 0 0.045 0 0.045 0.045 0 0 0 0.045 0 0 0 0 0 0.045 0 0)  \n",
      "      14) pwel>=3.2 7  6 Albania (0 0.14 0 0 0 0 0 0 0 0 0 0 0.14 0 0 0 0 0 0.14 0 0 0 0 0 0 0 0 0.14 0 0 0 0 0 0.14 0 0 0 0 0 0 0 0 0 0 0 0 0 0 0 0 0 0 0 0 0 0 0 0 0 0.14 0 0 0.14 0 0 0 0 0 0 0 0 0 0 0 0 0 0 0) *\n",
      "      15) pwel< 3.2 15 14 Bangladesh (0 0 0 0 0 0.067 0 0 0 0 0 0.067 0 0 0 0.067 0 0 0 0 0 0 0 0 0 0 0 0 0 0 0 0 0.067 0 0 0 0 0 0.067 0.067 0 0 0 0 0 0 0 0 0 0 0.067 0.067 0 0 0 0.067 0.067 0 0 0 0.067 0 0 0 0.067 0.067 0 0 0 0.067 0 0 0 0 0 0.067 0 0) *\n"
     ]
    }
   ],
   "source": [
    "print(model, digits = 2)"
   ]
  },
  {
   "cell_type": "markdown",
   "metadata": {},
   "source": [
    "These rules are produced by repeatedly splitting the predictor variables, starting with the variable that has the highest association with the response variable. The process continues until some predetermined stopping criteria are met."
   ]
  },
  {
   "cell_type": "markdown",
   "metadata": {},
   "source": [
    "# Example of data set"
   ]
  },
  {
   "cell_type": "code",
   "execution_count": 111,
   "metadata": {},
   "outputs": [
    {
     "data": {
      "text/html": [
       "<table>\n",
       "<caption>A data.frame: 3 × 34</caption>\n",
       "<thead>\n",
       "\t<tr><th scope=col>Country</th><th scope=col>Year</th><th scope=col>Survey</th><th scope=col>imws</th><th scope=col>phom</th><th scope=col>pipy</th><th scope=col>ptap</th><th scope=col>bore</th><th scope=col>pwel</th><th scope=col>pspr</th><th scope=col>...</th><th scope=col>tmor</th><th scope=col>bicy</th><th scope=col>acar</th><th scope=col>mcyc</th><th scope=col>pcar</th><th scope=col>boat</th><th scope=col>wigc</th><th scope=col>clusters</th><th scope=col>High</th><th scope=col>High.1</th></tr>\n",
       "\t<tr><th scope=col>&lt;chr&gt;</th><th scope=col>&lt;int&gt;</th><th scope=col>&lt;chr&gt;</th><th scope=col>&lt;dbl&gt;</th><th scope=col>&lt;dbl&gt;</th><th scope=col>&lt;dbl&gt;</th><th scope=col>&lt;dbl&gt;</th><th scope=col>&lt;dbl&gt;</th><th scope=col>&lt;dbl&gt;</th><th scope=col>&lt;dbl&gt;</th><th scope=col>...</th><th scope=col>&lt;dbl&gt;</th><th scope=col>&lt;dbl&gt;</th><th scope=col>&lt;dbl&gt;</th><th scope=col>&lt;dbl&gt;</th><th scope=col>&lt;dbl&gt;</th><th scope=col>&lt;dbl&gt;</th><th scope=col>&lt;dbl&gt;</th><th scope=col>&lt;int&gt;</th><th scope=col>&lt;chr&gt;</th><th scope=col>&lt;chr&gt;</th></tr>\n",
       "</thead>\n",
       "<tbody>\n",
       "\t<tr><td>Pakistan</td><td>2018</td><td>DHS</td><td>96.0</td><td>20.4</td><td>1.2</td><td> 6.5</td><td>54.5</td><td>2.0</td><td>1.2</td><td>...</td><td> 4.9</td><td>20.3</td><td>8.5</td><td>54.1</td><td>9.8</td><td>0.1</td><td>0.3</td><td>1</td><td>Yes</td><td>No</td></tr>\n",
       "\t<tr><td>Tanzania</td><td>2017</td><td>MIS</td><td>65.5</td><td> 6.7</td><td>8.4</td><td>17.2</td><td> 1.9</td><td>8.9</td><td>2.2</td><td>...</td><td>22.0</td><td>38.8</td><td>3.3</td><td>11.2</td><td>2.9</td><td>0.4</td><td>0.3</td><td>3</td><td>No </td><td>No</td></tr>\n",
       "\t<tr><td>Ghana   </td><td>2019</td><td>MIS</td><td>93.1</td><td> 2.7</td><td>5.4</td><td>14.6</td><td>19.4</td><td>4.1</td><td>0.1</td><td>...</td><td> 6.7</td><td>21.7</td><td>0.9</td><td>13.4</td><td>8.9</td><td>1.0</td><td>0.2</td><td>1</td><td>No </td><td>No</td></tr>\n",
       "</tbody>\n",
       "</table>\n"
      ],
      "text/latex": [
       "A data.frame: 3 × 34\n",
       "\\begin{tabular}{lllllllllllllllllllll}\n",
       " Country & Year & Survey & imws & phom & pipy & ptap & bore & pwel & pspr & ... & tmor & bicy & acar & mcyc & pcar & boat & wigc & clusters & High & High.1\\\\\n",
       " <chr> & <int> & <chr> & <dbl> & <dbl> & <dbl> & <dbl> & <dbl> & <dbl> & <dbl> & ... & <dbl> & <dbl> & <dbl> & <dbl> & <dbl> & <dbl> & <dbl> & <int> & <chr> & <chr>\\\\\n",
       "\\hline\n",
       "\t Pakistan & 2018 & DHS & 96.0 & 20.4 & 1.2 &  6.5 & 54.5 & 2.0 & 1.2 & ... &  4.9 & 20.3 & 8.5 & 54.1 & 9.8 & 0.1 & 0.3 & 1 & Yes & No\\\\\n",
       "\t Tanzania & 2017 & MIS & 65.5 &  6.7 & 8.4 & 17.2 &  1.9 & 8.9 & 2.2 & ... & 22.0 & 38.8 & 3.3 & 11.2 & 2.9 & 0.4 & 0.3 & 3 & No  & No\\\\\n",
       "\t Ghana    & 2019 & MIS & 93.1 &  2.7 & 5.4 & 14.6 & 19.4 & 4.1 & 0.1 & ... &  6.7 & 21.7 & 0.9 & 13.4 & 8.9 & 1.0 & 0.2 & 1 & No  & No\\\\\n",
       "\\end{tabular}\n"
      ],
      "text/markdown": [
       "\n",
       "A data.frame: 3 × 34\n",
       "\n",
       "| Country &lt;chr&gt; | Year &lt;int&gt; | Survey &lt;chr&gt; | imws &lt;dbl&gt; | phom &lt;dbl&gt; | pipy &lt;dbl&gt; | ptap &lt;dbl&gt; | bore &lt;dbl&gt; | pwel &lt;dbl&gt; | pspr &lt;dbl&gt; | ... ... | tmor &lt;dbl&gt; | bicy &lt;dbl&gt; | acar &lt;dbl&gt; | mcyc &lt;dbl&gt; | pcar &lt;dbl&gt; | boat &lt;dbl&gt; | wigc &lt;dbl&gt; | clusters &lt;int&gt; | High &lt;chr&gt; | High.1 &lt;chr&gt; |\n",
       "|---|---|---|---|---|---|---|---|---|---|---|---|---|---|---|---|---|---|---|---|---|\n",
       "| Pakistan | 2018 | DHS | 96.0 | 20.4 | 1.2 |  6.5 | 54.5 | 2.0 | 1.2 | ... |  4.9 | 20.3 | 8.5 | 54.1 | 9.8 | 0.1 | 0.3 | 1 | Yes | No |\n",
       "| Tanzania | 2017 | MIS | 65.5 |  6.7 | 8.4 | 17.2 |  1.9 | 8.9 | 2.2 | ... | 22.0 | 38.8 | 3.3 | 11.2 | 2.9 | 0.4 | 0.3 | 3 | No  | No |\n",
       "| Ghana    | 2019 | MIS | 93.1 |  2.7 | 5.4 | 14.6 | 19.4 | 4.1 | 0.1 | ... |  6.7 | 21.7 | 0.9 | 13.4 | 8.9 | 1.0 | 0.2 | 1 | No  | No |\n",
       "\n"
      ],
      "text/plain": [
       "  Country  Year Survey imws phom pipy ptap bore pwel pspr ... tmor bicy acar\n",
       "1 Pakistan 2018 DHS    96.0 20.4 1.2   6.5 54.5 2.0  1.2  ...  4.9 20.3 8.5 \n",
       "2 Tanzania 2017 MIS    65.5  6.7 8.4  17.2  1.9 8.9  2.2  ... 22.0 38.8 3.3 \n",
       "3 Ghana    2019 MIS    93.1  2.7 5.4  14.6 19.4 4.1  0.1  ...  6.7 21.7 0.9 \n",
       "  mcyc pcar boat wigc clusters High High.1\n",
       "1 54.1 9.8  0.1  0.3  1        Yes  No    \n",
       "2 11.2 2.9  0.4  0.3  3        No   No    \n",
       "3 13.4 8.9  1.0  0.2  1        No   No    "
      ]
     },
     "metadata": {},
     "output_type": "display_data"
    }
   ],
   "source": [
    "# Inspect the data\n",
    "sample_n(df, 3)\n",
    "# Split the data into training and test set\n",
    "set.seed(123)\n",
    "training.samples <- df$clusters %>% \n",
    "  createDataPartition(p = 0.8, list = FALSE)\n",
    "train.data  <- df[training.samples, ]\n",
    "test.data <- df[-training.samples, ]\n",
    "\n",
    "\n"
   ]
  },
  {
   "cell_type": "markdown",
   "metadata": {},
   "source": [
    "Fully grown trees\n",
    "Here, we’ll create a fully grown tree showing all predictor variables in the data set.\n"
   ]
  },
  {
   "cell_type": "code",
   "execution_count": null,
   "metadata": {},
   "outputs": [],
   "source": [
    "# Build the model\n",
    "set.seed(123)\n",
    "model1 <- rpart(Country ~., data = train.data, method = \"class\")\n",
    "# Plot the trees\n",
    "par(xpd = NA) # Avoid clipping the text in some device\n",
    "plot(model1)\n",
    "text(model1, digits = 3)"
   ]
  },
  {
   "cell_type": "code",
   "execution_count": 86,
   "metadata": {},
   "outputs": [
    {
     "data": {
      "text/html": [
       "<style>\n",
       ".dl-inline {width: auto; margin:0; padding: 0}\n",
       ".dl-inline>dt, .dl-inline>dd {float: none; width: auto; display: inline-block}\n",
       ".dl-inline>dt::after {content: \":\\0020\"; padding-right: .5ex}\n",
       ".dl-inline>dt:not(:first-of-type) {padding-left: .5ex}\n",
       "</style><dl class=dl-inline><dt>4</dt><dd>Albania</dd><dt>5</dt><dd>Albania</dd><dt>14</dt><dd>Brazil</dd><dt>31</dt><dd>Albania</dd><dt>35</dt><dd>Albania</dd><dt>37</dt><dd>Brazil</dd></dl>\n",
       "\n",
       "<details>\n",
       "\t<summary style=display:list-item;cursor:pointer>\n",
       "\t\t<strong>Levels</strong>:\n",
       "\t</summary>\n",
       "\t<style>\n",
       "\t.list-inline {list-style: none; margin:0; padding: 0}\n",
       "\t.list-inline>li {display: inline-block}\n",
       "\t.list-inline>li:not(:last-child)::after {content: \"\\00b7\"; padding: 0 .5ex}\n",
       "\t</style>\n",
       "\t<ol class=list-inline><li>'Afghanistan'</li><li>'Albania'</li><li>'Angola'</li><li>'Bangladesh'</li><li>'Benin'</li><li>'Bolivia'</li><li>'Brazil'</li><li>'Burkina Faso'</li><li>'Burundi'</li><li>'Cambodia'</li><li>'Cameroon'</li><li>'Chad'</li><li>'Colombia'</li><li>'Comoros'</li><li>'Congo'</li><li>'Congo Democratic Republic'</li><li>'Cote d\\'Ivoire'</li><li>'Dominican Republic'</li><li>'Egypt'</li><li>'Eritrea'</li><li>'Eswatini'</li><li>'Ethiopia'</li><li>'Gabon'</li><li>'Gambia'</li><li>'Ghana'</li><li>'Guatemala'</li><li>'Guinea'</li><li>'Haiti'</li><li>'Honduras'</li><li>'India'</li><li>'Jordan'</li><li>'Kenya'</li><li>'Kyrgyz Republic'</li><li>'Liberia'</li><li>'Malawi'</li><li>'Maldives'</li><li>'Mali'</li><li>'Mauritania'</li><li>'Morocco'</li><li>'Mozambique'</li><li>'Namibia'</li><li>'Nicaragua'</li><li>'Niger'</li><li>'Nigeria'</li><li>'Pakistan'</li><li>'Papua New Guinea'</li><li>'Paraguay'</li><li>'Philippines'</li><li>'Rwanda'</li><li>'Sao Tome and Principe'</li><li>'Senegal'</li><li>'Sierra Leone'</li><li>'South Africa'</li><li>'Tanzania'</li><li>'Timor-Leste'</li><li>'Togo'</li><li>'Turkey'</li><li>'Turkmenistan'</li><li>'Uganda'</li><li>'Ukraine'</li><li>'Uzbekistan'</li><li>'Vietnam'</li><li>'Zambia'</li><li>'Zimbabwe'</li></ol>\n",
       "</details>"
      ],
      "text/latex": [
       "\\begin{description*}\n",
       "\\item[4] Albania\n",
       "\\item[5] Albania\n",
       "\\item[14] Brazil\n",
       "\\item[31] Albania\n",
       "\\item[35] Albania\n",
       "\\item[37] Brazil\n",
       "\\end{description*}\n",
       "\n",
       "\\emph{Levels}: \\begin{enumerate*}\n",
       "\\item 'Afghanistan'\n",
       "\\item 'Albania'\n",
       "\\item 'Angola'\n",
       "\\item 'Bangladesh'\n",
       "\\item 'Benin'\n",
       "\\item 'Bolivia'\n",
       "\\item 'Brazil'\n",
       "\\item 'Burkina Faso'\n",
       "\\item 'Burundi'\n",
       "\\item 'Cambodia'\n",
       "\\item 'Cameroon'\n",
       "\\item 'Chad'\n",
       "\\item 'Colombia'\n",
       "\\item 'Comoros'\n",
       "\\item 'Congo'\n",
       "\\item 'Congo Democratic Republic'\n",
       "\\item 'Cote d\\textbackslash{}'Ivoire'\n",
       "\\item 'Dominican Republic'\n",
       "\\item 'Egypt'\n",
       "\\item 'Eritrea'\n",
       "\\item 'Eswatini'\n",
       "\\item 'Ethiopia'\n",
       "\\item 'Gabon'\n",
       "\\item 'Gambia'\n",
       "\\item 'Ghana'\n",
       "\\item 'Guatemala'\n",
       "\\item 'Guinea'\n",
       "\\item 'Haiti'\n",
       "\\item 'Honduras'\n",
       "\\item 'India'\n",
       "\\item 'Jordan'\n",
       "\\item 'Kenya'\n",
       "\\item 'Kyrgyz Republic'\n",
       "\\item 'Liberia'\n",
       "\\item 'Malawi'\n",
       "\\item 'Maldives'\n",
       "\\item 'Mali'\n",
       "\\item 'Mauritania'\n",
       "\\item 'Morocco'\n",
       "\\item 'Mozambique'\n",
       "\\item 'Namibia'\n",
       "\\item 'Nicaragua'\n",
       "\\item 'Niger'\n",
       "\\item 'Nigeria'\n",
       "\\item 'Pakistan'\n",
       "\\item 'Papua New Guinea'\n",
       "\\item 'Paraguay'\n",
       "\\item 'Philippines'\n",
       "\\item 'Rwanda'\n",
       "\\item 'Sao Tome and Principe'\n",
       "\\item 'Senegal'\n",
       "\\item 'Sierra Leone'\n",
       "\\item 'South Africa'\n",
       "\\item 'Tanzania'\n",
       "\\item 'Timor-Leste'\n",
       "\\item 'Togo'\n",
       "\\item 'Turkey'\n",
       "\\item 'Turkmenistan'\n",
       "\\item 'Uganda'\n",
       "\\item 'Ukraine'\n",
       "\\item 'Uzbekistan'\n",
       "\\item 'Vietnam'\n",
       "\\item 'Zambia'\n",
       "\\item 'Zimbabwe'\n",
       "\\end{enumerate*}\n"
      ],
      "text/markdown": [
       "4\n",
       ":   Albania5\n",
       ":   Albania14\n",
       ":   Brazil31\n",
       ":   Albania35\n",
       ":   Albania37\n",
       ":   Brazil\n",
       "\n",
       "\n",
       "**Levels**: 1. 'Afghanistan'\n",
       "2. 'Albania'\n",
       "3. 'Angola'\n",
       "4. 'Bangladesh'\n",
       "5. 'Benin'\n",
       "6. 'Bolivia'\n",
       "7. 'Brazil'\n",
       "8. 'Burkina Faso'\n",
       "9. 'Burundi'\n",
       "10. 'Cambodia'\n",
       "11. 'Cameroon'\n",
       "12. 'Chad'\n",
       "13. 'Colombia'\n",
       "14. 'Comoros'\n",
       "15. 'Congo'\n",
       "16. 'Congo Democratic Republic'\n",
       "17. 'Cote d\\'Ivoire'\n",
       "18. 'Dominican Republic'\n",
       "19. 'Egypt'\n",
       "20. 'Eritrea'\n",
       "21. 'Eswatini'\n",
       "22. 'Ethiopia'\n",
       "23. 'Gabon'\n",
       "24. 'Gambia'\n",
       "25. 'Ghana'\n",
       "26. 'Guatemala'\n",
       "27. 'Guinea'\n",
       "28. 'Haiti'\n",
       "29. 'Honduras'\n",
       "30. 'India'\n",
       "31. 'Jordan'\n",
       "32. 'Kenya'\n",
       "33. 'Kyrgyz Republic'\n",
       "34. 'Liberia'\n",
       "35. 'Malawi'\n",
       "36. 'Maldives'\n",
       "37. 'Mali'\n",
       "38. 'Mauritania'\n",
       "39. 'Morocco'\n",
       "40. 'Mozambique'\n",
       "41. 'Namibia'\n",
       "42. 'Nicaragua'\n",
       "43. 'Niger'\n",
       "44. 'Nigeria'\n",
       "45. 'Pakistan'\n",
       "46. 'Papua New Guinea'\n",
       "47. 'Paraguay'\n",
       "48. 'Philippines'\n",
       "49. 'Rwanda'\n",
       "50. 'Sao Tome and Principe'\n",
       "51. 'Senegal'\n",
       "52. 'Sierra Leone'\n",
       "53. 'South Africa'\n",
       "54. 'Tanzania'\n",
       "55. 'Timor-Leste'\n",
       "56. 'Togo'\n",
       "57. 'Turkey'\n",
       "58. 'Turkmenistan'\n",
       "59. 'Uganda'\n",
       "60. 'Ukraine'\n",
       "61. 'Uzbekistan'\n",
       "62. 'Vietnam'\n",
       "63. 'Zambia'\n",
       "64. 'Zimbabwe'\n",
       "\n",
       "\n"
      ],
      "text/plain": [
       "      4       5      14      31      35      37 \n",
       "Albania Albania  Brazil Albania Albania  Brazil \n",
       "64 Levels: Afghanistan Albania Angola Bangladesh Benin Bolivia ... Zimbabwe"
      ]
     },
     "metadata": {},
     "output_type": "display_data"
    }
   ],
   "source": [
    "# Make predictions on the test data\n",
    "predicted.classes <- model1 %>% \n",
    "  predict(test.data, type = \"class\")\n",
    "head(predicted.classes)"
   ]
  },
  {
   "cell_type": "code",
   "execution_count": 87,
   "metadata": {},
   "outputs": [
    {
     "data": {
      "text/html": [
       "0"
      ],
      "text/latex": [
       "0"
      ],
      "text/markdown": [
       "0"
      ],
      "text/plain": [
       "[1] 0"
      ]
     },
     "metadata": {},
     "output_type": "display_data"
    }
   ],
   "source": [
    "# Compute model accuracy rate on test data\n",
    "mean(predicted.classes == test.data$Country)\n",
    "# Zero is not good, something went wrong, ask the professor for help potentially. "
   ]
  },
  {
   "cell_type": "markdown",
   "metadata": {},
   "source": [
    "# Pruning the tree"
   ]
  },
  {
   "cell_type": "code",
   "execution_count": 91,
   "metadata": {},
   "outputs": [
    {
     "name": "stderr",
     "output_type": "stream",
     "text": [
      "Warning message in nominalTrainWorkflow(x = x, y = y, wts = weights, info = trainInfo, :\n",
      "\"There were missing values in resampled performance measures.\"\n"
     ]
    },
    {
     "data": {
      "image/png": "[encoded data removed]",
      "text/plain": [
       "plot without title"
      ]
     },
     "metadata": {
      "image/png": {
       "height": 420,
       "width": 420
      }
     },
     "output_type": "display_data"
    }
   ],
   "source": [
    "# Fit the model on the training set\n",
    "set.seed(123)\n",
    "model2 <- train(\n",
    "  acar ~., data = train.data, method = \"rpart\",\n",
    "  trControl = trainControl(\"cv\", number = 10),\n",
    "  tuneLength = 10\n",
    "  )\n",
    "# Plot model accuracy vs different values of\n",
    "# cp (complexity parameter)\n",
    "plot(model2)"
   ]
  },
  {
   "cell_type": "markdown",
   "metadata": {},
   "source": [
    "RMSE is computed as RMSE = mean((observeds - predicteds)^2) %>% sqrt(). The lower the RMSE, the better the model."
   ]
  },
  {
   "cell_type": "code",
   "execution_count": 92,
   "metadata": {},
   "outputs": [
    {
     "data": {
      "text/html": [
       "<table>\n",
       "<caption>A data.frame: 1 × 1</caption>\n",
       "<thead>\n",
       "\t<tr><th></th><th scope=col>cp</th></tr>\n",
       "\t<tr><th></th><th scope=col>&lt;dbl&gt;</th></tr>\n",
       "</thead>\n",
       "<tbody>\n",
       "\t<tr><th scope=row>6</th><td>0.1490167</td></tr>\n",
       "</tbody>\n",
       "</table>\n"
      ],
      "text/latex": [
       "A data.frame: 1 × 1\n",
       "\\begin{tabular}{r|l}\n",
       "  & cp\\\\\n",
       "  & <dbl>\\\\\n",
       "\\hline\n",
       "\t6 & 0.1490167\\\\\n",
       "\\end{tabular}\n"
      ],
      "text/markdown": [
       "\n",
       "A data.frame: 1 × 1\n",
       "\n",
       "| <!--/--> | cp &lt;dbl&gt; |\n",
       "|---|---|\n",
       "| 6 | 0.1490167 |\n",
       "\n"
      ],
      "text/plain": [
       "  cp       \n",
       "6 0.1490167"
      ]
     },
     "metadata": {},
     "output_type": "display_data"
    }
   ],
   "source": [
    "# Print the best tuning parameter cp that\n",
    "# maximizes the model accuracy\n",
    "model2$bestTune"
   ]
  },
  {
   "cell_type": "code",
   "execution_count": 93,
   "metadata": {},
   "outputs": [
    {
     "data": {
      "image/png": "[encoded data removed]",
      "text/plain": [
       "plot without title"
      ]
     },
     "metadata": {
      "image/png": {
       "height": 420,
       "width": 420
      }
     },
     "output_type": "display_data"
    }
   ],
   "source": [
    "# Plot the final tree model\n",
    "par(xpd = NA) # Avoid clipping the text in some device\n",
    "plot(model2$finalModel)\n",
    "text(model2$finalModel,  digits = 3)"
   ]
  },
  {
   "cell_type": "code",
   "execution_count": 94,
   "metadata": {},
   "outputs": [
    {
     "data": {
      "text/plain": [
       "n= 64 \n",
       "\n",
       "node), split, n, deviance, yval\n",
       "      * denotes terminal node\n",
       "\n",
       "1) root 64 4422.469  4.271875  \n",
       "  2) bicy< 40.85 57 1514.613  2.763158 *\n",
       "  3) bicy>=40.85 7 1721.617 16.557140 *"
      ]
     },
     "metadata": {},
     "output_type": "display_data"
    }
   ],
   "source": [
    "# Decision rules in the model\n",
    "model2$finalModel"
   ]
  },
  {
   "cell_type": "markdown",
   "metadata": {},
   "source": [
    "# Make predictions on the test data\n",
    "predicted.classes <- model2 %>% predict(test.data)\n",
    "# Compute model accuracy rate on test data\n",
    "mean(predicted.classes == test.data$Country)\n",
    "# Must understand what these function of codes actually implment. "
   ]
  },
  {
   "cell_type": "markdown",
   "metadata": {},
   "source": [
    "# Create the regression tree"
   ]
  },
  {
   "cell_type": "code",
   "execution_count": 95,
   "metadata": {},
   "outputs": [
    {
     "name": "stderr",
     "output_type": "stream",
     "text": [
      "Warning message in nominalTrainWorkflow(x = x, y = y, wts = weights, info = trainInfo, :\n",
      "\"There were missing values in resampled performance measures.\"\n"
     ]
    },
    {
     "data": {
      "text/html": [
       "<table>\n",
       "<caption>A data.frame: 1 × 1</caption>\n",
       "<thead>\n",
       "\t<tr><th></th><th scope=col>cp</th></tr>\n",
       "\t<tr><th></th><th scope=col>&lt;dbl&gt;</th></tr>\n",
       "</thead>\n",
       "<tbody>\n",
       "\t<tr><th scope=row>6</th><td>0.1490167</td></tr>\n",
       "</tbody>\n",
       "</table>\n"
      ],
      "text/latex": [
       "A data.frame: 1 × 1\n",
       "\\begin{tabular}{r|l}\n",
       "  & cp\\\\\n",
       "  & <dbl>\\\\\n",
       "\\hline\n",
       "\t6 & 0.1490167\\\\\n",
       "\\end{tabular}\n"
      ],
      "text/markdown": [
       "\n",
       "A data.frame: 1 × 1\n",
       "\n",
       "| <!--/--> | cp &lt;dbl&gt; |\n",
       "|---|---|\n",
       "| 6 | 0.1490167 |\n",
       "\n"
      ],
      "text/plain": [
       "  cp       \n",
       "6 0.1490167"
      ]
     },
     "metadata": {},
     "output_type": "display_data"
    },
    {
     "data": {
      "image/png": "[encoded data removed]",
      "text/plain": [
       "plot without title"
      ]
     },
     "metadata": {
      "image/png": {
       "height": 420,
       "width": 420
      }
     },
     "output_type": "display_data"
    }
   ],
   "source": [
    "# Fit the model on the training set\n",
    "set.seed(123)\n",
    "model <- train(\n",
    "  acar ~., data = train.data, method = \"rpart\",\n",
    "  trControl = trainControl(\"cv\", number = 10),\n",
    "  tuneLength = 10\n",
    "  )\n",
    "# Plot model error vs different values of\n",
    "# cp (complexity parameter)\n",
    "plot(model)\n",
    "# Print the best tuning parameter cp that\n",
    "# minimize the model RMSE\n",
    "model$bestTune"
   ]
  },
  {
   "cell_type": "markdown",
   "metadata": {},
   "source": [
    "Here, the best cp value is the one that minimize the prediction error RMSE (root mean squared error)."
   ]
  },
  {
   "cell_type": "code",
   "execution_count": 72,
   "metadata": {},
   "outputs": [
    {
     "data": {
      "image/png": "[encoded data removed]",
      "text/plain": [
       "plot without title"
      ]
     },
     "metadata": {
      "image/png": {
       "height": 420,
       "width": 420
      }
     },
     "output_type": "display_data"
    }
   ],
   "source": [
    "# Plot the final tree model\n",
    "par(xpd = NA) # Avoid clipping the text in some device\n",
    "plot(model$finalModel)\n",
    "text(model$finalModel, digits = 3)"
   ]
  },
  {
   "cell_type": "markdown",
   "metadata": {},
   "source": [
    "# Decision rules in the model\n",
    "model$finalModel\n",
    "# Make predictions on the test data\n",
    "predictions <- model %>% predict(test.data)\n",
    "head(predictions)\n",
    "# Compute the prediction error RMSE\n",
    "RMSE(predictions, test.data$Country)"
   ]
  },
  {
   "cell_type": "markdown",
   "metadata": {},
   "source": [
    "# Conditionnal inference tree"
   ]
  },
  {
   "cell_type": "code",
   "execution_count": 97,
   "metadata": {},
   "outputs": [
    {
     "name": "stderr",
     "output_type": "stream",
     "text": [
      "Warning message in nominalTrainWorkflow(x = x, y = y, wts = weights, info = trainInfo, :\n",
      "\"There were missing values in resampled performance measures.\"\n"
     ]
    },
    {
     "data": {
      "image/png": "[encoded data removed]",
      "text/plain": [
       "plot without title"
      ]
     },
     "metadata": {
      "image/png": {
       "height": 420,
       "width": 420
      }
     },
     "output_type": "display_data"
    }
   ],
   "source": [
    "set.seed(123)\n",
    "model <- train(\n",
    "  acar ~., data = train.data, method = \"ctree2\",\n",
    "  trControl = trainControl(\"cv\", number = 10),\n",
    "  tuneGrid = expand.grid(maxdepth = 3, mincriterion = 0.95 )\n",
    "  )\n",
    "plot(model$finalModel)"
   ]
  },
  {
   "cell_type": "markdown",
   "metadata": {},
   "source": [
    "Reference: http://www.sthda.com/english/articles/35-statistical-machine-learning-essentials/141-cart-model-decision-tree-essentials/"
   ]
  },
  {
   "cell_type": "markdown",
   "metadata": {},
   "source": [
    "# Fitting Classification Trees"
   ]
  },
  {
   "cell_type": "markdown",
   "metadata": {},
   "source": [
    "Reference: https://static1.squarespace.com/static/5ff2adbe3fe4fe33db902812/t/6009dd9fa7bc363aa822d2c7/1611259312432/ISLR+Seventh+Printing.pdf (338)"
   ]
  },
  {
   "cell_type": "code",
   "execution_count": 74,
   "metadata": {},
   "outputs": [
    {
     "data": {
      "text/html": [
       "<style>\n",
       ".list-inline {list-style: none; margin:0; padding: 0}\n",
       ".list-inline>li {display: inline-block}\n",
       ".list-inline>li:not(:last-child)::after {content: \"\\00b7\"; padding: 0 .5ex}\n",
       "</style>\n",
       "<ol class=list-inline><li>'Country'</li><li>'Year'</li><li>'Survey'</li><li>'imws'</li><li>'phom'</li><li>'pipy'</li><li>'ptap'</li><li>'bore'</li><li>'pwel'</li><li>'pspr'</li><li>'rain'</li><li>'truc'</li><li>'ctan'</li><li>'bott'</li><li>'uiws'</li><li>'uwel'</li><li>'uspr'</li><li>'surw'</li><li>'othw'</li><li>'iwsp'</li><li>'basw'</li><li>'liws'</li><li>'watp'</li><li>'tles'</li><li>'tmor'</li><li>'bicy'</li><li>'acar'</li><li>'mcyc'</li><li>'pcar'</li><li>'boat'</li><li>'wigc'</li><li>'clusters'</li></ol>\n"
      ],
      "text/latex": [
       "\\begin{enumerate*}\n",
       "\\item 'Country'\n",
       "\\item 'Year'\n",
       "\\item 'Survey'\n",
       "\\item 'imws'\n",
       "\\item 'phom'\n",
       "\\item 'pipy'\n",
       "\\item 'ptap'\n",
       "\\item 'bore'\n",
       "\\item 'pwel'\n",
       "\\item 'pspr'\n",
       "\\item 'rain'\n",
       "\\item 'truc'\n",
       "\\item 'ctan'\n",
       "\\item 'bott'\n",
       "\\item 'uiws'\n",
       "\\item 'uwel'\n",
       "\\item 'uspr'\n",
       "\\item 'surw'\n",
       "\\item 'othw'\n",
       "\\item 'iwsp'\n",
       "\\item 'basw'\n",
       "\\item 'liws'\n",
       "\\item 'watp'\n",
       "\\item 'tles'\n",
       "\\item 'tmor'\n",
       "\\item 'bicy'\n",
       "\\item 'acar'\n",
       "\\item 'mcyc'\n",
       "\\item 'pcar'\n",
       "\\item 'boat'\n",
       "\\item 'wigc'\n",
       "\\item 'clusters'\n",
       "\\end{enumerate*}\n"
      ],
      "text/markdown": [
       "1. 'Country'\n",
       "2. 'Year'\n",
       "3. 'Survey'\n",
       "4. 'imws'\n",
       "5. 'phom'\n",
       "6. 'pipy'\n",
       "7. 'ptap'\n",
       "8. 'bore'\n",
       "9. 'pwel'\n",
       "10. 'pspr'\n",
       "11. 'rain'\n",
       "12. 'truc'\n",
       "13. 'ctan'\n",
       "14. 'bott'\n",
       "15. 'uiws'\n",
       "16. 'uwel'\n",
       "17. 'uspr'\n",
       "18. 'surw'\n",
       "19. 'othw'\n",
       "20. 'iwsp'\n",
       "21. 'basw'\n",
       "22. 'liws'\n",
       "23. 'watp'\n",
       "24. 'tles'\n",
       "25. 'tmor'\n",
       "26. 'bicy'\n",
       "27. 'acar'\n",
       "28. 'mcyc'\n",
       "29. 'pcar'\n",
       "30. 'boat'\n",
       "31. 'wigc'\n",
       "32. 'clusters'\n",
       "\n",
       "\n"
      ],
      "text/plain": [
       " [1] \"Country\"  \"Year\"     \"Survey\"   \"imws\"     \"phom\"     \"pipy\"    \n",
       " [7] \"ptap\"     \"bore\"     \"pwel\"     \"pspr\"     \"rain\"     \"truc\"    \n",
       "[13] \"ctan\"     \"bott\"     \"uiws\"     \"uwel\"     \"uspr\"     \"surw\"    \n",
       "[19] \"othw\"     \"iwsp\"     \"basw\"     \"liws\"     \"watp\"     \"tles\"    \n",
       "[25] \"tmor\"     \"bicy\"     \"acar\"     \"mcyc\"     \"pcar\"     \"boat\"    \n",
       "[31] \"wigc\"     \"clusters\""
      ]
     },
     "metadata": {},
     "output_type": "display_data"
    }
   ],
   "source": [
    "names(df)"
   ]
  },
  {
   "cell_type": "code",
   "execution_count": 98,
   "metadata": {},
   "outputs": [
    {
     "data": {
      "image/png": "[encoded data removed]",
      "text/plain": [
       "Plot with title \"Histogram of df$acar\""
      ]
     },
     "metadata": {
      "image/png": {
       "height": 420,
       "width": 420
      }
     },
     "output_type": "display_data"
    }
   ],
   "source": [
    "hist(df$acar)"
   ]
  },
  {
   "cell_type": "code",
   "execution_count": 99,
   "metadata": {},
   "outputs": [],
   "source": [
    "High = ifelse(df$acar <= 10 , \"No\", \"Yes\")\n",
    "df = data.frame(df, High)"
   ]
  },
  {
   "cell_type": "code",
   "execution_count": 100,
   "metadata": {},
   "outputs": [
    {
     "name": "stderr",
     "output_type": "stream",
     "text": [
      "Warning message in tree(High ~ . - acar, data = df):\n",
      "\"NAs introduced by coercion\"\n",
      "Warning message in tree(High ~ . - acar, data = df):\n",
      "\"NAs introduced by coercion\"\n"
     ]
    },
    {
     "data": {
      "text/html": [
       "<table>\n",
       "<caption>A data.frame: 6 × 34</caption>\n",
       "<thead>\n",
       "\t<tr><th></th><th scope=col>Country</th><th scope=col>Year</th><th scope=col>Survey</th><th scope=col>imws</th><th scope=col>phom</th><th scope=col>pipy</th><th scope=col>ptap</th><th scope=col>bore</th><th scope=col>pwel</th><th scope=col>pspr</th><th scope=col>...</th><th scope=col>tmor</th><th scope=col>bicy</th><th scope=col>acar</th><th scope=col>mcyc</th><th scope=col>pcar</th><th scope=col>boat</th><th scope=col>wigc</th><th scope=col>clusters</th><th scope=col>High</th><th scope=col>High.1</th></tr>\n",
       "\t<tr><th></th><th scope=col>&lt;chr&gt;</th><th scope=col>&lt;int&gt;</th><th scope=col>&lt;chr&gt;</th><th scope=col>&lt;dbl&gt;</th><th scope=col>&lt;dbl&gt;</th><th scope=col>&lt;dbl&gt;</th><th scope=col>&lt;dbl&gt;</th><th scope=col>&lt;dbl&gt;</th><th scope=col>&lt;dbl&gt;</th><th scope=col>&lt;dbl&gt;</th><th scope=col>...</th><th scope=col>&lt;dbl&gt;</th><th scope=col>&lt;dbl&gt;</th><th scope=col>&lt;dbl&gt;</th><th scope=col>&lt;dbl&gt;</th><th scope=col>&lt;dbl&gt;</th><th scope=col>&lt;dbl&gt;</th><th scope=col>&lt;dbl&gt;</th><th scope=col>&lt;int&gt;</th><th scope=col>&lt;chr&gt;</th><th scope=col>&lt;chr&gt;</th></tr>\n",
       "</thead>\n",
       "<tbody>\n",
       "\t<tr><th scope=row>1</th><td>Afghanistan</td><td>2015</td><td>DHS</td><td>71.2</td><td> 2.3</td><td> 4.8</td><td>14.2</td><td>20.1</td><td>18.5</td><td>4.7</td><td>...</td><td> 8.2</td><td>30.0</td><td>5.8</td><td>35.2</td><td>11.8</td><td>0.0</td><td>0.1</td><td>1</td><td>No </td><td>No</td></tr>\n",
       "\t<tr><th scope=row>2</th><td>Albania    </td><td>2018</td><td>DHS</td><td>98.4</td><td>48.8</td><td> 5.2</td><td> 2.4</td><td> 1.4</td><td> 4.1</td><td>2.5</td><td>...</td><td> 1.1</td><td>26.4</td><td>3.2</td><td> 9.6</td><td>37.0</td><td>0.7</td><td>0.1</td><td>2</td><td>No </td><td>No</td></tr>\n",
       "\t<tr><th scope=row>3</th><td>Angola     </td><td>2016</td><td>DHS</td><td>66.9</td><td> 4.3</td><td> 9.7</td><td>10.3</td><td> 1.9</td><td> 9.1</td><td>3.3</td><td>...</td><td>15.6</td><td> 4.6</td><td>1.3</td><td>17.8</td><td>10.9</td><td>0.4</td><td>0.3</td><td>3</td><td>No </td><td>No</td></tr>\n",
       "\t<tr><th scope=row>4</th><td>Armenia    </td><td>2016</td><td>DHS</td><td>99.9</td><td>88.3</td><td> 8.0</td><td> 0.5</td><td> 0.2</td><td> 0.2</td><td>1.0</td><td>...</td><td> 0.1</td><td> 8.6</td><td>0.4</td><td> 0.2</td><td>39.2</td><td>0.3</td><td>0.1</td><td>2</td><td>No </td><td>No</td></tr>\n",
       "\t<tr><th scope=row>5</th><td>Azerbaijan </td><td>2006</td><td>DHS</td><td>90.6</td><td>34.0</td><td>19.7</td><td> 3.5</td><td> 9.3</td><td> 6.2</td><td>7.5</td><td>...</td><td> 4.4</td><td> 6.9</td><td>3.3</td><td> 1.1</td><td>20.4</td><td>0.1</td><td>0.0</td><td>4</td><td>No </td><td>No</td></tr>\n",
       "\t<tr><th scope=row>6</th><td>Bangladesh </td><td>2014</td><td>DHS</td><td>97.8</td><td> 4.3</td><td> 3.3</td><td> 2.7</td><td>86.4</td><td> 0.2</td><td>0.0</td><td>...</td><td> 1.6</td><td>25.1</td><td>0.0</td><td> 6.4</td><td> 0.8</td><td>0.0</td><td>0.3</td><td>1</td><td>Yes</td><td>No</td></tr>\n",
       "</tbody>\n",
       "</table>\n"
      ],
      "text/latex": [
       "A data.frame: 6 × 34\n",
       "\\begin{tabular}{r|lllllllllllllllllllll}\n",
       "  & Country & Year & Survey & imws & phom & pipy & ptap & bore & pwel & pspr & ... & tmor & bicy & acar & mcyc & pcar & boat & wigc & clusters & High & High.1\\\\\n",
       "  & <chr> & <int> & <chr> & <dbl> & <dbl> & <dbl> & <dbl> & <dbl> & <dbl> & <dbl> & ... & <dbl> & <dbl> & <dbl> & <dbl> & <dbl> & <dbl> & <dbl> & <int> & <chr> & <chr>\\\\\n",
       "\\hline\n",
       "\t1 & Afghanistan & 2015 & DHS & 71.2 &  2.3 &  4.8 & 14.2 & 20.1 & 18.5 & 4.7 & ... &  8.2 & 30.0 & 5.8 & 35.2 & 11.8 & 0.0 & 0.1 & 1 & No  & No\\\\\n",
       "\t2 & Albania     & 2018 & DHS & 98.4 & 48.8 &  5.2 &  2.4 &  1.4 &  4.1 & 2.5 & ... &  1.1 & 26.4 & 3.2 &  9.6 & 37.0 & 0.7 & 0.1 & 2 & No  & No\\\\\n",
       "\t3 & Angola      & 2016 & DHS & 66.9 &  4.3 &  9.7 & 10.3 &  1.9 &  9.1 & 3.3 & ... & 15.6 &  4.6 & 1.3 & 17.8 & 10.9 & 0.4 & 0.3 & 3 & No  & No\\\\\n",
       "\t4 & Armenia     & 2016 & DHS & 99.9 & 88.3 &  8.0 &  0.5 &  0.2 &  0.2 & 1.0 & ... &  0.1 &  8.6 & 0.4 &  0.2 & 39.2 & 0.3 & 0.1 & 2 & No  & No\\\\\n",
       "\t5 & Azerbaijan  & 2006 & DHS & 90.6 & 34.0 & 19.7 &  3.5 &  9.3 &  6.2 & 7.5 & ... &  4.4 &  6.9 & 3.3 &  1.1 & 20.4 & 0.1 & 0.0 & 4 & No  & No\\\\\n",
       "\t6 & Bangladesh  & 2014 & DHS & 97.8 &  4.3 &  3.3 &  2.7 & 86.4 &  0.2 & 0.0 & ... &  1.6 & 25.1 & 0.0 &  6.4 &  0.8 & 0.0 & 0.3 & 1 & Yes & No\\\\\n",
       "\\end{tabular}\n"
      ],
      "text/markdown": [
       "\n",
       "A data.frame: 6 × 34\n",
       "\n",
       "| <!--/--> | Country &lt;chr&gt; | Year &lt;int&gt; | Survey &lt;chr&gt; | imws &lt;dbl&gt; | phom &lt;dbl&gt; | pipy &lt;dbl&gt; | ptap &lt;dbl&gt; | bore &lt;dbl&gt; | pwel &lt;dbl&gt; | pspr &lt;dbl&gt; | ... ... | tmor &lt;dbl&gt; | bicy &lt;dbl&gt; | acar &lt;dbl&gt; | mcyc &lt;dbl&gt; | pcar &lt;dbl&gt; | boat &lt;dbl&gt; | wigc &lt;dbl&gt; | clusters &lt;int&gt; | High &lt;chr&gt; | High.1 &lt;chr&gt; |\n",
       "|---|---|---|---|---|---|---|---|---|---|---|---|---|---|---|---|---|---|---|---|---|---|\n",
       "| 1 | Afghanistan | 2015 | DHS | 71.2 |  2.3 |  4.8 | 14.2 | 20.1 | 18.5 | 4.7 | ... |  8.2 | 30.0 | 5.8 | 35.2 | 11.8 | 0.0 | 0.1 | 1 | No  | No |\n",
       "| 2 | Albania     | 2018 | DHS | 98.4 | 48.8 |  5.2 |  2.4 |  1.4 |  4.1 | 2.5 | ... |  1.1 | 26.4 | 3.2 |  9.6 | 37.0 | 0.7 | 0.1 | 2 | No  | No |\n",
       "| 3 | Angola      | 2016 | DHS | 66.9 |  4.3 |  9.7 | 10.3 |  1.9 |  9.1 | 3.3 | ... | 15.6 |  4.6 | 1.3 | 17.8 | 10.9 | 0.4 | 0.3 | 3 | No  | No |\n",
       "| 4 | Armenia     | 2016 | DHS | 99.9 | 88.3 |  8.0 |  0.5 |  0.2 |  0.2 | 1.0 | ... |  0.1 |  8.6 | 0.4 |  0.2 | 39.2 | 0.3 | 0.1 | 2 | No  | No |\n",
       "| 5 | Azerbaijan  | 2006 | DHS | 90.6 | 34.0 | 19.7 |  3.5 |  9.3 |  6.2 | 7.5 | ... |  4.4 |  6.9 | 3.3 |  1.1 | 20.4 | 0.1 | 0.0 | 4 | No  | No |\n",
       "| 6 | Bangladesh  | 2014 | DHS | 97.8 |  4.3 |  3.3 |  2.7 | 86.4 |  0.2 | 0.0 | ... |  1.6 | 25.1 | 0.0 |  6.4 |  0.8 | 0.0 | 0.3 | 1 | Yes | No |\n",
       "\n"
      ],
      "text/plain": [
       "  Country     Year Survey imws phom pipy ptap bore pwel pspr ... tmor bicy acar\n",
       "1 Afghanistan 2015 DHS    71.2  2.3  4.8 14.2 20.1 18.5 4.7  ...  8.2 30.0 5.8 \n",
       "2 Albania     2018 DHS    98.4 48.8  5.2  2.4  1.4  4.1 2.5  ...  1.1 26.4 3.2 \n",
       "3 Angola      2016 DHS    66.9  4.3  9.7 10.3  1.9  9.1 3.3  ... 15.6  4.6 1.3 \n",
       "4 Armenia     2016 DHS    99.9 88.3  8.0  0.5  0.2  0.2 1.0  ...  0.1  8.6 0.4 \n",
       "5 Azerbaijan  2006 DHS    90.6 34.0 19.7  3.5  9.3  6.2 7.5  ...  4.4  6.9 3.3 \n",
       "6 Bangladesh  2014 DHS    97.8  4.3  3.3  2.7 86.4  0.2 0.0  ...  1.6 25.1 0.0 \n",
       "  mcyc pcar boat wigc clusters High High.1\n",
       "1 35.2 11.8 0.0  0.1  1        No   No    \n",
       "2  9.6 37.0 0.7  0.1  2        No   No    \n",
       "3 17.8 10.9 0.4  0.3  3        No   No    \n",
       "4  0.2 39.2 0.3  0.1  2        No   No    \n",
       "5  1.1 20.4 0.1  0.0  4        No   No    \n",
       "6  6.4  0.8 0.0  0.3  1        Yes  No    "
      ]
     },
     "metadata": {},
     "output_type": "display_data"
    }
   ],
   "source": [
    "tree.df = tree(High~.-acar, data=df)\n",
    "head(df)\n",
    "# We must figure out the NAs introduced by coercion meaning before preceeding this sections"
   ]
  },
  {
   "cell_type": "markdown",
   "metadata": {},
   "source": [
    "Finally, we use the data.frame() function to merge High with the rest of\n",
    "the borehole (bore) data."
   ]
  },
  {
   "cell_type": "markdown",
   "metadata": {},
   "source": [
    "# define function that reruns factor() for the right columns\n",
    "rerun_factor <- function(x) {\n",
    "  if (is.factor(x)) return(factor(x))\n",
    "  return(x)\n",
    "}\n",
    "\n",
    "# run on all columns of your data\n",
    "df <- as.data.frame(lapply(df, rerun_factor))"
   ]
  },
  {
   "cell_type": "code",
   "execution_count": 101,
   "metadata": {},
   "outputs": [
    {
     "name": "stderr",
     "output_type": "stream",
     "text": [
      "Warning message in tree(High ~ . - acar, df, subset = train):\n",
      "\"NAs introduced by coercion\"\n",
      "Warning message in tree(High ~ . - acar, df, subset = train):\n",
      "\"NAs introduced by coercion\"\n"
     ]
    },
    {
     "ename": "ERROR",
     "evalue": "Error in y - frame$yval[object$where]: non-numeric argument to binary operator\n",
     "output_type": "error",
     "traceback": [
      "Error in y - frame$yval[object$where]: non-numeric argument to binary operator\nTraceback:\n",
      "1. summary(tree.df)",
      "2. summary(tree.df)",
      "3. summary.tree(tree.df)",
      "4. residuals(object)",
      "5. residuals.tree(object)"
     ]
    }
   ],
   "source": [
    "set.seed(2)\n",
    "train=sample(1:nrow(df), 78)\n",
    "df.test=df[-train,]\n",
    "High.test=High[-train]\n",
    "tree.df =tree(High~.-acar,df,subset=train)\n",
    "summary(tree.df)\n",
    "tree.pred=predict(tree.df,df.test,type=\"class\")\n",
    "table(tree.pred,High.test)\n",
    "plot(tree.df)\n",
    "# Unsure what trees cannot handle multiple responses mean"
   ]
  },
  {
   "cell_type": "markdown",
   "metadata": {},
   "source": [
    "# Random Forest"
   ]
  },
  {
   "cell_type": "markdown",
   "metadata": {},
   "source": [
    "To prepare data for random forest, let's set the seed and create a sample training set of 300 observations."
   ]
  },
  {
   "cell_type": "code",
   "execution_count": 102,
   "metadata": {},
   "outputs": [
    {
     "data": {
      "text/html": [
       "<style>\n",
       ".list-inline {list-style: none; margin:0; padding: 0}\n",
       ".list-inline>li {display: inline-block}\n",
       ".list-inline>li:not(:last-child)::after {content: \"\\00b7\"; padding: 0 .5ex}\n",
       "</style>\n",
       "<ol class=list-inline><li>73</li><li>57</li><li>46</li><li>58</li><li>61</li><li>60</li></ol>\n"
      ],
      "text/latex": [
       "\\begin{enumerate*}\n",
       "\\item 73\n",
       "\\item 57\n",
       "\\item 46\n",
       "\\item 58\n",
       "\\item 61\n",
       "\\item 60\n",
       "\\end{enumerate*}\n"
      ],
      "text/markdown": [
       "1. 73\n",
       "2. 57\n",
       "3. 46\n",
       "4. 58\n",
       "5. 61\n",
       "6. 60\n",
       "\n",
       "\n"
      ],
      "text/plain": [
       "[1] 73 57 46 58 61 60"
      ]
     },
     "metadata": {},
     "output_type": "display_data"
    }
   ],
   "source": [
    "set.seed(101)\n",
    "train = sample(1:nrow(df), 78)\n",
    "head(train)"
   ]
  },
  {
   "cell_type": "code",
   "execution_count": 103,
   "metadata": {},
   "outputs": [
    {
     "data": {
      "text/plain": [
       "\n",
       "Call:\n",
       " randomForest(formula = acar ~ ., data = df, subset = train) \n",
       "               Type of random forest: regression\n",
       "                     Number of trees: 500\n",
       "No. of variables tried at each split: 11\n",
       "\n",
       "          Mean of squared residuals: 27.41572\n",
       "                    % Var explained: 59.4"
      ]
     },
     "metadata": {},
     "output_type": "display_data"
    }
   ],
   "source": [
    "rf.water = randomForest(acar~., data = df, subset = train)\n",
    "rf.water"
   ]
  },
  {
   "cell_type": "markdown",
   "metadata": {},
   "source": [
    "Printing out the random forest gives its summary: the # of trees (500 were grown), the mean squared residuals (MSR), and the percentage of variance explained. The MSR and % variance explained are based on the out-of-bag estimates, a very clever device in random forests to get honest error estimates."
   ]
  },
  {
   "cell_type": "code",
   "execution_count": 108,
   "metadata": {},
   "outputs": [
    {
     "data": {
      "text/html": [
       "<table>\n",
       "<caption>A data.frame: 1 × 1</caption>\n",
       "<thead>\n",
       "\t<tr><th scope=col>n</th></tr>\n",
       "\t<tr><th scope=col>&lt;int&gt;</th></tr>\n",
       "</thead>\n",
       "<tbody>\n",
       "\t<tr><td>78</td></tr>\n",
       "</tbody>\n",
       "</table>\n"
      ],
      "text/latex": [
       "A data.frame: 1 × 1\n",
       "\\begin{tabular}{l}\n",
       " n\\\\\n",
       " <int>\\\\\n",
       "\\hline\n",
       "\t 78\\\\\n",
       "\\end{tabular}\n"
      ],
      "text/markdown": [
       "\n",
       "A data.frame: 1 × 1\n",
       "\n",
       "| n &lt;int&gt; |\n",
       "|---|\n",
       "| 78 |\n",
       "\n"
      ],
      "text/plain": [
       "  n \n",
       "1 78"
      ]
     },
     "metadata": {},
     "output_type": "display_data"
    },
    {
     "data": {
      "text/html": [
       "<table>\n",
       "<caption>A data.frame: 6 × 34</caption>\n",
       "<thead>\n",
       "\t<tr><th></th><th scope=col>Country</th><th scope=col>Year</th><th scope=col>Survey</th><th scope=col>imws</th><th scope=col>phom</th><th scope=col>pipy</th><th scope=col>ptap</th><th scope=col>bore</th><th scope=col>pwel</th><th scope=col>pspr</th><th scope=col>...</th><th scope=col>tmor</th><th scope=col>bicy</th><th scope=col>acar</th><th scope=col>mcyc</th><th scope=col>pcar</th><th scope=col>boat</th><th scope=col>wigc</th><th scope=col>clusters</th><th scope=col>High</th><th scope=col>High.1</th></tr>\n",
       "\t<tr><th></th><th scope=col>&lt;chr&gt;</th><th scope=col>&lt;int&gt;</th><th scope=col>&lt;chr&gt;</th><th scope=col>&lt;dbl&gt;</th><th scope=col>&lt;dbl&gt;</th><th scope=col>&lt;dbl&gt;</th><th scope=col>&lt;dbl&gt;</th><th scope=col>&lt;dbl&gt;</th><th scope=col>&lt;dbl&gt;</th><th scope=col>&lt;dbl&gt;</th><th scope=col>...</th><th scope=col>&lt;dbl&gt;</th><th scope=col>&lt;dbl&gt;</th><th scope=col>&lt;dbl&gt;</th><th scope=col>&lt;dbl&gt;</th><th scope=col>&lt;dbl&gt;</th><th scope=col>&lt;dbl&gt;</th><th scope=col>&lt;dbl&gt;</th><th scope=col>&lt;int&gt;</th><th scope=col>&lt;chr&gt;</th><th scope=col>&lt;chr&gt;</th></tr>\n",
       "</thead>\n",
       "<tbody>\n",
       "\t<tr><th scope=row>1</th><td>Afghanistan</td><td>2015</td><td>DHS</td><td>71.2</td><td> 2.3</td><td> 4.8</td><td>14.2</td><td>20.1</td><td>18.5</td><td>4.7</td><td>...</td><td> 8.2</td><td>30.0</td><td>5.8</td><td>35.2</td><td>11.8</td><td>0.0</td><td>0.1</td><td>1</td><td>No </td><td>No</td></tr>\n",
       "\t<tr><th scope=row>2</th><td>Albania    </td><td>2018</td><td>DHS</td><td>98.4</td><td>48.8</td><td> 5.2</td><td> 2.4</td><td> 1.4</td><td> 4.1</td><td>2.5</td><td>...</td><td> 1.1</td><td>26.4</td><td>3.2</td><td> 9.6</td><td>37.0</td><td>0.7</td><td>0.1</td><td>2</td><td>No </td><td>No</td></tr>\n",
       "\t<tr><th scope=row>3</th><td>Angola     </td><td>2016</td><td>DHS</td><td>66.9</td><td> 4.3</td><td> 9.7</td><td>10.3</td><td> 1.9</td><td> 9.1</td><td>3.3</td><td>...</td><td>15.6</td><td> 4.6</td><td>1.3</td><td>17.8</td><td>10.9</td><td>0.4</td><td>0.3</td><td>3</td><td>No </td><td>No</td></tr>\n",
       "\t<tr><th scope=row>4</th><td>Armenia    </td><td>2016</td><td>DHS</td><td>99.9</td><td>88.3</td><td> 8.0</td><td> 0.5</td><td> 0.2</td><td> 0.2</td><td>1.0</td><td>...</td><td> 0.1</td><td> 8.6</td><td>0.4</td><td> 0.2</td><td>39.2</td><td>0.3</td><td>0.1</td><td>2</td><td>No </td><td>No</td></tr>\n",
       "\t<tr><th scope=row>5</th><td>Azerbaijan </td><td>2006</td><td>DHS</td><td>90.6</td><td>34.0</td><td>19.7</td><td> 3.5</td><td> 9.3</td><td> 6.2</td><td>7.5</td><td>...</td><td> 4.4</td><td> 6.9</td><td>3.3</td><td> 1.1</td><td>20.4</td><td>0.1</td><td>0.0</td><td>4</td><td>No </td><td>No</td></tr>\n",
       "\t<tr><th scope=row>6</th><td>Bangladesh </td><td>2014</td><td>DHS</td><td>97.8</td><td> 4.3</td><td> 3.3</td><td> 2.7</td><td>86.4</td><td> 0.2</td><td>0.0</td><td>...</td><td> 1.6</td><td>25.1</td><td>0.0</td><td> 6.4</td><td> 0.8</td><td>0.0</td><td>0.3</td><td>1</td><td>Yes</td><td>No</td></tr>\n",
       "</tbody>\n",
       "</table>\n"
      ],
      "text/latex": [
       "A data.frame: 6 × 34\n",
       "\\begin{tabular}{r|lllllllllllllllllllll}\n",
       "  & Country & Year & Survey & imws & phom & pipy & ptap & bore & pwel & pspr & ... & tmor & bicy & acar & mcyc & pcar & boat & wigc & clusters & High & High.1\\\\\n",
       "  & <chr> & <int> & <chr> & <dbl> & <dbl> & <dbl> & <dbl> & <dbl> & <dbl> & <dbl> & ... & <dbl> & <dbl> & <dbl> & <dbl> & <dbl> & <dbl> & <dbl> & <int> & <chr> & <chr>\\\\\n",
       "\\hline\n",
       "\t1 & Afghanistan & 2015 & DHS & 71.2 &  2.3 &  4.8 & 14.2 & 20.1 & 18.5 & 4.7 & ... &  8.2 & 30.0 & 5.8 & 35.2 & 11.8 & 0.0 & 0.1 & 1 & No  & No\\\\\n",
       "\t2 & Albania     & 2018 & DHS & 98.4 & 48.8 &  5.2 &  2.4 &  1.4 &  4.1 & 2.5 & ... &  1.1 & 26.4 & 3.2 &  9.6 & 37.0 & 0.7 & 0.1 & 2 & No  & No\\\\\n",
       "\t3 & Angola      & 2016 & DHS & 66.9 &  4.3 &  9.7 & 10.3 &  1.9 &  9.1 & 3.3 & ... & 15.6 &  4.6 & 1.3 & 17.8 & 10.9 & 0.4 & 0.3 & 3 & No  & No\\\\\n",
       "\t4 & Armenia     & 2016 & DHS & 99.9 & 88.3 &  8.0 &  0.5 &  0.2 &  0.2 & 1.0 & ... &  0.1 &  8.6 & 0.4 &  0.2 & 39.2 & 0.3 & 0.1 & 2 & No  & No\\\\\n",
       "\t5 & Azerbaijan  & 2006 & DHS & 90.6 & 34.0 & 19.7 &  3.5 &  9.3 &  6.2 & 7.5 & ... &  4.4 &  6.9 & 3.3 &  1.1 & 20.4 & 0.1 & 0.0 & 4 & No  & No\\\\\n",
       "\t6 & Bangladesh  & 2014 & DHS & 97.8 &  4.3 &  3.3 &  2.7 & 86.4 &  0.2 & 0.0 & ... &  1.6 & 25.1 & 0.0 &  6.4 &  0.8 & 0.0 & 0.3 & 1 & Yes & No\\\\\n",
       "\\end{tabular}\n"
      ],
      "text/markdown": [
       "\n",
       "A data.frame: 6 × 34\n",
       "\n",
       "| <!--/--> | Country &lt;chr&gt; | Year &lt;int&gt; | Survey &lt;chr&gt; | imws &lt;dbl&gt; | phom &lt;dbl&gt; | pipy &lt;dbl&gt; | ptap &lt;dbl&gt; | bore &lt;dbl&gt; | pwel &lt;dbl&gt; | pspr &lt;dbl&gt; | ... ... | tmor &lt;dbl&gt; | bicy &lt;dbl&gt; | acar &lt;dbl&gt; | mcyc &lt;dbl&gt; | pcar &lt;dbl&gt; | boat &lt;dbl&gt; | wigc &lt;dbl&gt; | clusters &lt;int&gt; | High &lt;chr&gt; | High.1 &lt;chr&gt; |\n",
       "|---|---|---|---|---|---|---|---|---|---|---|---|---|---|---|---|---|---|---|---|---|---|\n",
       "| 1 | Afghanistan | 2015 | DHS | 71.2 |  2.3 |  4.8 | 14.2 | 20.1 | 18.5 | 4.7 | ... |  8.2 | 30.0 | 5.8 | 35.2 | 11.8 | 0.0 | 0.1 | 1 | No  | No |\n",
       "| 2 | Albania     | 2018 | DHS | 98.4 | 48.8 |  5.2 |  2.4 |  1.4 |  4.1 | 2.5 | ... |  1.1 | 26.4 | 3.2 |  9.6 | 37.0 | 0.7 | 0.1 | 2 | No  | No |\n",
       "| 3 | Angola      | 2016 | DHS | 66.9 |  4.3 |  9.7 | 10.3 |  1.9 |  9.1 | 3.3 | ... | 15.6 |  4.6 | 1.3 | 17.8 | 10.9 | 0.4 | 0.3 | 3 | No  | No |\n",
       "| 4 | Armenia     | 2016 | DHS | 99.9 | 88.3 |  8.0 |  0.5 |  0.2 |  0.2 | 1.0 | ... |  0.1 |  8.6 | 0.4 |  0.2 | 39.2 | 0.3 | 0.1 | 2 | No  | No |\n",
       "| 5 | Azerbaijan  | 2006 | DHS | 90.6 | 34.0 | 19.7 |  3.5 |  9.3 |  6.2 | 7.5 | ... |  4.4 |  6.9 | 3.3 |  1.1 | 20.4 | 0.1 | 0.0 | 4 | No  | No |\n",
       "| 6 | Bangladesh  | 2014 | DHS | 97.8 |  4.3 |  3.3 |  2.7 | 86.4 |  0.2 | 0.0 | ... |  1.6 | 25.1 | 0.0 |  6.4 |  0.8 | 0.0 | 0.3 | 1 | Yes | No |\n",
       "\n"
      ],
      "text/plain": [
       "  Country     Year Survey imws phom pipy ptap bore pwel pspr ... tmor bicy acar\n",
       "1 Afghanistan 2015 DHS    71.2  2.3  4.8 14.2 20.1 18.5 4.7  ...  8.2 30.0 5.8 \n",
       "2 Albania     2018 DHS    98.4 48.8  5.2  2.4  1.4  4.1 2.5  ...  1.1 26.4 3.2 \n",
       "3 Angola      2016 DHS    66.9  4.3  9.7 10.3  1.9  9.1 3.3  ... 15.6  4.6 1.3 \n",
       "4 Armenia     2016 DHS    99.9 88.3  8.0  0.5  0.2  0.2 1.0  ...  0.1  8.6 0.4 \n",
       "5 Azerbaijan  2006 DHS    90.6 34.0 19.7  3.5  9.3  6.2 7.5  ...  4.4  6.9 3.3 \n",
       "6 Bangladesh  2014 DHS    97.8  4.3  3.3  2.7 86.4  0.2 0.0  ...  1.6 25.1 0.0 \n",
       "  mcyc pcar boat wigc clusters High High.1\n",
       "1 35.2 11.8 0.0  0.1  1        No   No    \n",
       "2  9.6 37.0 0.7  0.1  2        No   No    \n",
       "3 17.8 10.9 0.4  0.3  3        No   No    \n",
       "4  0.2 39.2 0.3  0.1  2        No   No    \n",
       "5  1.1 20.4 0.1  0.0  4        No   No    \n",
       "6  6.4  0.8 0.0  0.3  1        Yes  No    "
      ]
     },
     "metadata": {},
     "output_type": "display_data"
    }
   ],
   "source": [
    "count(df)\n",
    "head(df)"
   ]
  }
 ],
 "metadata": {
  "kernelspec": {
   "display_name": "R",
   "language": "R",
   "name": "ir"
  },
  "language_info": {
   "codemirror_mode": "r",
   "file_extension": ".r",
   "mimetype": "text/x-r-source",
   "name": "R",
   "pygments_lexer": "r",
   "version": "4.0.2"
  }
 },
 "nbformat": 4,
 "nbformat_minor": 4
}
