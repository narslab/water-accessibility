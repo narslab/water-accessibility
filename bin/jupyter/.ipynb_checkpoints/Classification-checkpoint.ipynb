{
 "cells": [
  {
   "cell_type": "code",
   "execution_count": 2,
   "metadata": {},
   "outputs": [
    {
     "name": "stderr",
     "output_type": "stream",
     "text": [
      "Warning message:\n",
      "\"package 'randomForest' was built under R version 4.0.3\"\n",
      "randomForest 4.6-14\n",
      "\n",
      "Type rfNews() to see new features/changes/bug fixes.\n",
      "\n",
      "Warning message:\n",
      "\"package 'tidyverse' was built under R version 4.0.3\"\n",
      "-- \u001b[1mAttaching packages\u001b[22m ------------------------------------------------------------------------------- tidyverse 1.3.0 --\n",
      "\n",
      "\u001b[32mv\u001b[39m \u001b[34mggplot2\u001b[39m 3.3.3     \u001b[32mv\u001b[39m \u001b[34mpurrr  \u001b[39m 0.3.4\n",
      "\u001b[32mv\u001b[39m \u001b[34mtibble \u001b[39m 3.0.6     \u001b[32mv\u001b[39m \u001b[34mdplyr  \u001b[39m 1.0.4\n",
      "\u001b[32mv\u001b[39m \u001b[34mtidyr  \u001b[39m 1.1.2     \u001b[32mv\u001b[39m \u001b[34mstringr\u001b[39m 1.4.0\n",
      "\u001b[32mv\u001b[39m \u001b[34mreadr  \u001b[39m 1.4.0     \u001b[32mv\u001b[39m \u001b[34mforcats\u001b[39m 0.5.1\n",
      "\n",
      "Warning message:\n",
      "\"package 'ggplot2' was built under R version 4.0.3\"\n",
      "Warning message:\n",
      "\"package 'tibble' was built under R version 4.0.3\"\n",
      "Warning message:\n",
      "\"package 'dplyr' was built under R version 4.0.3\"\n",
      "Warning message:\n",
      "\"package 'forcats' was built under R version 4.0.3\"\n",
      "-- \u001b[1mConflicts\u001b[22m ---------------------------------------------------------------------------------- tidyverse_conflicts() --\n",
      "\u001b[31mx\u001b[39m \u001b[34mdplyr\u001b[39m::\u001b[32mcombine()\u001b[39m  masks \u001b[34mrandomForest\u001b[39m::combine()\n",
      "\u001b[31mx\u001b[39m \u001b[34mdplyr\u001b[39m::\u001b[32mfilter()\u001b[39m   masks \u001b[34mstats\u001b[39m::filter()\n",
      "\u001b[31mx\u001b[39m \u001b[34mdplyr\u001b[39m::\u001b[32mlag()\u001b[39m      masks \u001b[34mstats\u001b[39m::lag()\n",
      "\u001b[31mx\u001b[39m \u001b[34mggplot2\u001b[39m::\u001b[32mmargin()\u001b[39m masks \u001b[34mrandomForest\u001b[39m::margin()\n",
      "\n",
      "Warning message:\n",
      "\"package 'Rcpp' was built under R version 4.0.3\"\n",
      "Warning message:\n",
      "\"package 'caret' was built under R version 4.0.3\"\n",
      "Loading required package: lattice\n",
      "\n",
      "\n",
      "Attaching package: 'caret'\n",
      "\n",
      "\n",
      "The following object is masked from 'package:purrr':\n",
      "\n",
      "    lift\n",
      "\n",
      "\n",
      "Warning message:\n",
      "\"package 'tree' was built under R version 4.0.3\"\n",
      "Registered S3 method overwritten by 'tree':\n",
      "  method     from\n",
      "  print.tree cli \n",
      "\n",
      "Loading required package: mvtnorm\n",
      "\n",
      "Loading required package: survival\n",
      "\n",
      "\n",
      "Attaching package: 'survival'\n",
      "\n",
      "\n",
      "The following object is masked from 'package:caret':\n",
      "\n",
      "    cluster\n",
      "\n",
      "\n",
      "Loading required package: TH.data\n",
      "\n",
      "Warning message:\n",
      "\"package 'TH.data' was built under R version 4.0.3\"\n",
      "Loading required package: MASS\n",
      "\n",
      "\n",
      "Attaching package: 'MASS'\n",
      "\n",
      "\n",
      "The following object is masked from 'package:dplyr':\n",
      "\n",
      "    select\n",
      "\n",
      "\n",
      "\n",
      "Attaching package: 'TH.data'\n",
      "\n",
      "\n",
      "The following object is masked from 'package:MASS':\n",
      "\n",
      "    geyser\n",
      "\n",
      "\n",
      "Warning message:\n",
      "\"package 'party' was built under R version 4.0.3\"\n",
      "Loading required package: grid\n",
      "\n",
      "Loading required package: modeltools\n",
      "\n",
      "Warning message:\n",
      "\"package 'modeltools' was built under R version 4.0.3\"\n",
      "Loading required package: stats4\n",
      "\n",
      "Loading required package: strucchange\n",
      "\n",
      "Warning message:\n",
      "\"package 'strucchange' was built under R version 4.0.3\"\n",
      "Loading required package: zoo\n",
      "\n",
      "\n",
      "Attaching package: 'zoo'\n",
      "\n",
      "\n",
      "The following objects are masked from 'package:base':\n",
      "\n",
      "    as.Date, as.Date.numeric\n",
      "\n",
      "\n",
      "Loading required package: sandwich\n",
      "\n",
      "Warning message:\n",
      "\"package 'sandwich' was built under R version 4.0.3\"\n",
      "\n",
      "Attaching package: 'strucchange'\n",
      "\n",
      "\n",
      "The following object is masked from 'package:stringr':\n",
      "\n",
      "    boundary\n",
      "\n",
      "\n",
      "Warning message:\n",
      "\"package 'writexl' was built under R version 4.0.3\"\n"
     ]
    }
   ],
   "source": [
    "#install.packages('randomForest')\n",
    "library(readxl)\n",
    "library(randomForest)\n",
    "library(readxl)\n",
    "library(tidyverse)\n",
    "#install.packages('dplyr')\n",
    "library(dplyr)\n",
    "#install.packages('caret')\n",
    "library(Rcpp)\n",
    "library(caret)\n",
    "library(rpart)\n",
    "#install.packages('tree')\n",
    "library(tree)\n",
    "#install.packages('multcomp')\n",
    "library(multcomp)\n",
    "#install.packages('party')\n",
    "library(party)\n",
    "library(tree)\n",
    "library(writexl)"
   ]
  },
  {
   "cell_type": "markdown",
   "metadata": {},
   "source": [
    "# Classification"
   ]
  },
  {
   "cell_type": "code",
   "execution_count": 3,
   "metadata": {},
   "outputs": [
    {
     "data": {
      "text/html": [
       "<table class=\"dataframe\">\n",
       "<caption>A tibble: 6 × 14</caption>\n",
       "<thead>\n",
       "\t<tr><th scope=col>Country</th><th scope=col>cgdp</th><th scope=col>tpop</th><th scope=col>upop</th><th scope=col>popd</th><th scope=col>land</th><th scope=col>lita</th><th scope=col>lity</th><th scope=col>mori</th><th scope=col>rifr</th><th scope=col>cotw</th><th scope=col>moru</th><th scope=col>ppfg</th><th scope=col>prec</th></tr>\n",
       "\t<tr><th scope=col>&lt;chr&gt;</th><th scope=col>&lt;dbl&gt;</th><th scope=col>&lt;dbl&gt;</th><th scope=col>&lt;dbl&gt;</th><th scope=col>&lt;dbl&gt;</th><th scope=col>&lt;dbl&gt;</th><th scope=col>&lt;dbl&gt;</th><th scope=col>&lt;dbl&gt;</th><th scope=col>&lt;dbl&gt;</th><th scope=col>&lt;dbl&gt;</th><th scope=col>&lt;dbl&gt;</th><th scope=col>&lt;dbl&gt;</th><th scope=col>&lt;dbl&gt;</th><th scope=col>&lt;dbl&gt;</th></tr>\n",
       "</thead>\n",
       "<tbody>\n",
       "\t<tr><td>Afghanistan</td><td> 18353881130</td><td> 37172386</td><td>25.495</td><td>  56.93776</td><td> 652860</td><td>43.01972</td><td>0.75933</td><td>62.5</td><td>1299.0269</td><td>      NA</td><td>13.9</td><td>0.70</td><td> 327</td></tr>\n",
       "\t<tr><td>Albania    </td><td> 15147020535</td><td>  2866376</td><td>60.319</td><td> 104.61226</td><td>  27400</td><td>98.14115</td><td>1.00582</td><td> 9.5</td><td>9361.5460</td><td>59.95146</td><td> 0.2</td><td>1.36</td><td>1485</td></tr>\n",
       "\t<tr><td>Angola     </td><td>101353230785</td><td> 30809762</td><td>65.514</td><td>  24.71305</td><td>1246700</td><td> 0.00000</td><td>0.00000</td><td>77.7</td><td>4963.6533</td><td>43.98964</td><td>48.8</td><td>0.97</td><td>1010</td></tr>\n",
       "\t<tr><td>Armenia    </td><td> 12457941907</td><td>  2951776</td><td>63.149</td><td> 103.68022</td><td>  28470</td><td> 0.00000</td><td>0.00000</td><td>12.4</td><td>2329.1833</td><td>27.77778</td><td> 0.2</td><td>0.77</td><td> 562</td></tr>\n",
       "\t<tr><td>Azerbaijan </td><td> 47112941176</td><td>  9939771</td><td>55.680</td><td> 120.23432</td><td>  82670</td><td> 0.00000</td><td>0.00000</td><td>21.6</td><td> 823.5207</td><td>24.48847</td><td> 1.1</td><td>0.56</td><td> 447</td></tr>\n",
       "\t<tr><td>Bangladesh </td><td>274039092455</td><td>161356039</td><td>36.632</td><td>1239.57931</td><td> 130170</td><td>73.91220</td><td>1.03276</td><td>32.3</td><td> 657.6039</td><td>14.19624</td><td>11.9</td><td>1.12</td><td>2666</td></tr>\n",
       "</tbody>\n",
       "</table>\n"
      ],
      "text/latex": [
       "A tibble: 6 × 14\n",
       "\\begin{tabular}{llllllllllllll}\n",
       " Country & cgdp & tpop & upop & popd & land & lita & lity & mori & rifr & cotw & moru & ppfg & prec\\\\\n",
       " <chr> & <dbl> & <dbl> & <dbl> & <dbl> & <dbl> & <dbl> & <dbl> & <dbl> & <dbl> & <dbl> & <dbl> & <dbl> & <dbl>\\\\\n",
       "\\hline\n",
       "\t Afghanistan &  18353881130 &  37172386 & 25.495 &   56.93776 &  652860 & 43.01972 & 0.75933 & 62.5 & 1299.0269 &       NA & 13.9 & 0.70 &  327\\\\\n",
       "\t Albania     &  15147020535 &   2866376 & 60.319 &  104.61226 &   27400 & 98.14115 & 1.00582 &  9.5 & 9361.5460 & 59.95146 &  0.2 & 1.36 & 1485\\\\\n",
       "\t Angola      & 101353230785 &  30809762 & 65.514 &   24.71305 & 1246700 &  0.00000 & 0.00000 & 77.7 & 4963.6533 & 43.98964 & 48.8 & 0.97 & 1010\\\\\n",
       "\t Armenia     &  12457941907 &   2951776 & 63.149 &  103.68022 &   28470 &  0.00000 & 0.00000 & 12.4 & 2329.1833 & 27.77778 &  0.2 & 0.77 &  562\\\\\n",
       "\t Azerbaijan  &  47112941176 &   9939771 & 55.680 &  120.23432 &   82670 &  0.00000 & 0.00000 & 21.6 &  823.5207 & 24.48847 &  1.1 & 0.56 &  447\\\\\n",
       "\t Bangladesh  & 274039092455 & 161356039 & 36.632 & 1239.57931 &  130170 & 73.91220 & 1.03276 & 32.3 &  657.6039 & 14.19624 & 11.9 & 1.12 & 2666\\\\\n",
       "\\end{tabular}\n"
      ],
      "text/markdown": [
       "\n",
       "A tibble: 6 × 14\n",
       "\n",
       "| Country &lt;chr&gt; | cgdp &lt;dbl&gt; | tpop &lt;dbl&gt; | upop &lt;dbl&gt; | popd &lt;dbl&gt; | land &lt;dbl&gt; | lita &lt;dbl&gt; | lity &lt;dbl&gt; | mori &lt;dbl&gt; | rifr &lt;dbl&gt; | cotw &lt;dbl&gt; | moru &lt;dbl&gt; | ppfg &lt;dbl&gt; | prec &lt;dbl&gt; |\n",
       "|---|---|---|---|---|---|---|---|---|---|---|---|---|---|\n",
       "| Afghanistan |  18353881130 |  37172386 | 25.495 |   56.93776 |  652860 | 43.01972 | 0.75933 | 62.5 | 1299.0269 |       NA | 13.9 | 0.70 |  327 |\n",
       "| Albania     |  15147020535 |   2866376 | 60.319 |  104.61226 |   27400 | 98.14115 | 1.00582 |  9.5 | 9361.5460 | 59.95146 |  0.2 | 1.36 | 1485 |\n",
       "| Angola      | 101353230785 |  30809762 | 65.514 |   24.71305 | 1246700 |  0.00000 | 0.00000 | 77.7 | 4963.6533 | 43.98964 | 48.8 | 0.97 | 1010 |\n",
       "| Armenia     |  12457941907 |   2951776 | 63.149 |  103.68022 |   28470 |  0.00000 | 0.00000 | 12.4 | 2329.1833 | 27.77778 |  0.2 | 0.77 |  562 |\n",
       "| Azerbaijan  |  47112941176 |   9939771 | 55.680 |  120.23432 |   82670 |  0.00000 | 0.00000 | 21.6 |  823.5207 | 24.48847 |  1.1 | 0.56 |  447 |\n",
       "| Bangladesh  | 274039092455 | 161356039 | 36.632 | 1239.57931 |  130170 | 73.91220 | 1.03276 | 32.3 |  657.6039 | 14.19624 | 11.9 | 1.12 | 2666 |\n",
       "\n"
      ],
      "text/plain": [
       "  Country     cgdp         tpop      upop   popd       land    lita     lity   \n",
       "1 Afghanistan  18353881130  37172386 25.495   56.93776  652860 43.01972 0.75933\n",
       "2 Albania      15147020535   2866376 60.319  104.61226   27400 98.14115 1.00582\n",
       "3 Angola      101353230785  30809762 65.514   24.71305 1246700  0.00000 0.00000\n",
       "4 Armenia      12457941907   2951776 63.149  103.68022   28470  0.00000 0.00000\n",
       "5 Azerbaijan   47112941176   9939771 55.680  120.23432   82670  0.00000 0.00000\n",
       "6 Bangladesh  274039092455 161356039 36.632 1239.57931  130170 73.91220 1.03276\n",
       "  mori rifr      cotw     moru ppfg prec\n",
       "1 62.5 1299.0269       NA 13.9 0.70  327\n",
       "2  9.5 9361.5460 59.95146  0.2 1.36 1485\n",
       "3 77.7 4963.6533 43.98964 48.8 0.97 1010\n",
       "4 12.4 2329.1833 27.77778  0.2 0.77  562\n",
       "5 21.6  823.5207 24.48847  1.1 0.56  447\n",
       "6 32.3  657.6039 14.19624 11.9 1.12 2666"
      ]
     },
     "metadata": {},
     "output_type": "display_data"
    }
   ],
   "source": [
    "df.wa = read_excel( \"../../results/df-water-access.xlsx\" ,sheet=1)\n",
    "df.explore =read_excel(\"../../results/df-water-explore.xlsx\" ,sheet=1)\n",
    "df.cluster = read_excel(\"../../results/dfsimple.xlsx\" ,sheet=1)\n",
    "df.wb = read_excel(\"../../results/df-wb.xlsx\" ,sheet=1 )\n",
    "df.explore$clusters <- as.factor(df.cluster$clusters)\n",
    "head(df.wb)\n",
    "\n"
   ]
  },
  {
   "cell_type": "markdown",
   "metadata": {},
   "source": [
    "Matching country from world bank and data frame df.explore"
   ]
  },
  {
   "cell_type": "markdown",
   "metadata": {},
   "source": [
    "matching other exploatory data into the the data frame"
   ]
  },
  {
   "cell_type": "code",
   "execution_count": 4,
   "metadata": {},
   "outputs": [
    {
     "data": {
      "text/html": [
       "<table class=\"dataframe\">\n",
       "<caption>A data.frame: 6 × 17</caption>\n",
       "<thead>\n",
       "\t<tr><th></th><th scope=col>Country</th><th scope=col>bicy</th><th scope=col>cart</th><th scope=col>mcyc</th><th scope=col>pcar</th><th scope=col>boat</th><th scope=col>wigc</th><th scope=col>clusters</th><th scope=col>upop</th><th scope=col>popd</th><th scope=col>land</th><th scope=col>lita</th><th scope=col>lity</th><th scope=col>mori</th><th scope=col>rifr</th><th scope=col>cotw</th><th scope=col>moru</th></tr>\n",
       "\t<tr><th></th><th scope=col>&lt;chr&gt;</th><th scope=col>&lt;dbl&gt;</th><th scope=col>&lt;dbl&gt;</th><th scope=col>&lt;dbl&gt;</th><th scope=col>&lt;dbl&gt;</th><th scope=col>&lt;dbl&gt;</th><th scope=col>&lt;dbl&gt;</th><th scope=col>&lt;fct&gt;</th><th scope=col>&lt;dbl&gt;</th><th scope=col>&lt;dbl&gt;</th><th scope=col>&lt;dbl&gt;</th><th scope=col>&lt;dbl&gt;</th><th scope=col>&lt;dbl&gt;</th><th scope=col>&lt;dbl&gt;</th><th scope=col>&lt;dbl&gt;</th><th scope=col>&lt;dbl&gt;</th><th scope=col>&lt;dbl&gt;</th></tr>\n",
       "</thead>\n",
       "<tbody>\n",
       "\t<tr><th scope=row>1</th><td>Afghanistan</td><td>30.0</td><td>5.8</td><td>35.2</td><td>11.8</td><td>0.0</td><td>0.1</td><td>1</td><td>25.495</td><td>  56.93776</td><td> 652860</td><td>43.01972</td><td>0.75933</td><td>62.5</td><td>1299.0269</td><td>      NA</td><td>13.9</td></tr>\n",
       "\t<tr><th scope=row>2</th><td>Albania    </td><td>26.4</td><td>3.2</td><td> 9.6</td><td>37.0</td><td>0.7</td><td>0.1</td><td>2</td><td>60.319</td><td> 104.61226</td><td>  27400</td><td>98.14115</td><td>1.00582</td><td> 9.5</td><td>9361.5460</td><td>59.95146</td><td> 0.2</td></tr>\n",
       "\t<tr><th scope=row>3</th><td>Angola     </td><td> 4.6</td><td>1.3</td><td>17.8</td><td>10.9</td><td>0.4</td><td>0.3</td><td>1</td><td>65.514</td><td>  24.71305</td><td>1246700</td><td> 0.00000</td><td>0.00000</td><td>77.7</td><td>4963.6533</td><td>43.98964</td><td>48.8</td></tr>\n",
       "\t<tr><th scope=row>4</th><td>Armenia    </td><td> 8.6</td><td>0.4</td><td> 0.2</td><td>39.2</td><td>0.3</td><td>0.1</td><td>2</td><td>63.149</td><td> 103.68022</td><td>  28470</td><td> 0.00000</td><td>0.00000</td><td>12.4</td><td>2329.1833</td><td>27.77778</td><td> 0.2</td></tr>\n",
       "\t<tr><th scope=row>5</th><td>Azerbaijan </td><td> 6.9</td><td>3.3</td><td> 1.1</td><td>20.4</td><td>0.1</td><td>0.0</td><td>3</td><td>55.680</td><td> 120.23432</td><td>  82670</td><td> 0.00000</td><td>0.00000</td><td>21.6</td><td> 823.5207</td><td>24.48847</td><td> 1.1</td></tr>\n",
       "\t<tr><th scope=row>6</th><td>Bangladesh </td><td>25.1</td><td>0.0</td><td> 6.4</td><td> 0.8</td><td>0.0</td><td>0.3</td><td>1</td><td>36.632</td><td>1239.57931</td><td> 130170</td><td>73.91220</td><td>1.03276</td><td>32.3</td><td> 657.6039</td><td>14.19624</td><td>11.9</td></tr>\n",
       "</tbody>\n",
       "</table>\n"
      ],
      "text/latex": [
       "A data.frame: 6 × 17\n",
       "\\begin{tabular}{r|lllllllllllllllll}\n",
       "  & Country & bicy & cart & mcyc & pcar & boat & wigc & clusters & upop & popd & land & lita & lity & mori & rifr & cotw & moru\\\\\n",
       "  & <chr> & <dbl> & <dbl> & <dbl> & <dbl> & <dbl> & <dbl> & <fct> & <dbl> & <dbl> & <dbl> & <dbl> & <dbl> & <dbl> & <dbl> & <dbl> & <dbl>\\\\\n",
       "\\hline\n",
       "\t1 & Afghanistan & 30.0 & 5.8 & 35.2 & 11.8 & 0.0 & 0.1 & 1 & 25.495 &   56.93776 &  652860 & 43.01972 & 0.75933 & 62.5 & 1299.0269 &       NA & 13.9\\\\\n",
       "\t2 & Albania     & 26.4 & 3.2 &  9.6 & 37.0 & 0.7 & 0.1 & 2 & 60.319 &  104.61226 &   27400 & 98.14115 & 1.00582 &  9.5 & 9361.5460 & 59.95146 &  0.2\\\\\n",
       "\t3 & Angola      &  4.6 & 1.3 & 17.8 & 10.9 & 0.4 & 0.3 & 1 & 65.514 &   24.71305 & 1246700 &  0.00000 & 0.00000 & 77.7 & 4963.6533 & 43.98964 & 48.8\\\\\n",
       "\t4 & Armenia     &  8.6 & 0.4 &  0.2 & 39.2 & 0.3 & 0.1 & 2 & 63.149 &  103.68022 &   28470 &  0.00000 & 0.00000 & 12.4 & 2329.1833 & 27.77778 &  0.2\\\\\n",
       "\t5 & Azerbaijan  &  6.9 & 3.3 &  1.1 & 20.4 & 0.1 & 0.0 & 3 & 55.680 &  120.23432 &   82670 &  0.00000 & 0.00000 & 21.6 &  823.5207 & 24.48847 &  1.1\\\\\n",
       "\t6 & Bangladesh  & 25.1 & 0.0 &  6.4 &  0.8 & 0.0 & 0.3 & 1 & 36.632 & 1239.57931 &  130170 & 73.91220 & 1.03276 & 32.3 &  657.6039 & 14.19624 & 11.9\\\\\n",
       "\\end{tabular}\n"
      ],
      "text/markdown": [
       "\n",
       "A data.frame: 6 × 17\n",
       "\n",
       "| <!--/--> | Country &lt;chr&gt; | bicy &lt;dbl&gt; | cart &lt;dbl&gt; | mcyc &lt;dbl&gt; | pcar &lt;dbl&gt; | boat &lt;dbl&gt; | wigc &lt;dbl&gt; | clusters &lt;fct&gt; | upop &lt;dbl&gt; | popd &lt;dbl&gt; | land &lt;dbl&gt; | lita &lt;dbl&gt; | lity &lt;dbl&gt; | mori &lt;dbl&gt; | rifr &lt;dbl&gt; | cotw &lt;dbl&gt; | moru &lt;dbl&gt; |\n",
       "|---|---|---|---|---|---|---|---|---|---|---|---|---|---|---|---|---|---|\n",
       "| 1 | Afghanistan | 30.0 | 5.8 | 35.2 | 11.8 | 0.0 | 0.1 | 1 | 25.495 |   56.93776 |  652860 | 43.01972 | 0.75933 | 62.5 | 1299.0269 |       NA | 13.9 |\n",
       "| 2 | Albania     | 26.4 | 3.2 |  9.6 | 37.0 | 0.7 | 0.1 | 2 | 60.319 |  104.61226 |   27400 | 98.14115 | 1.00582 |  9.5 | 9361.5460 | 59.95146 |  0.2 |\n",
       "| 3 | Angola      |  4.6 | 1.3 | 17.8 | 10.9 | 0.4 | 0.3 | 1 | 65.514 |   24.71305 | 1246700 |  0.00000 | 0.00000 | 77.7 | 4963.6533 | 43.98964 | 48.8 |\n",
       "| 4 | Armenia     |  8.6 | 0.4 |  0.2 | 39.2 | 0.3 | 0.1 | 2 | 63.149 |  103.68022 |   28470 |  0.00000 | 0.00000 | 12.4 | 2329.1833 | 27.77778 |  0.2 |\n",
       "| 5 | Azerbaijan  |  6.9 | 3.3 |  1.1 | 20.4 | 0.1 | 0.0 | 3 | 55.680 |  120.23432 |   82670 |  0.00000 | 0.00000 | 21.6 |  823.5207 | 24.48847 |  1.1 |\n",
       "| 6 | Bangladesh  | 25.1 | 0.0 |  6.4 |  0.8 | 0.0 | 0.3 | 1 | 36.632 | 1239.57931 |  130170 | 73.91220 | 1.03276 | 32.3 |  657.6039 | 14.19624 | 11.9 |\n",
       "\n"
      ],
      "text/plain": [
       "  Country     bicy cart mcyc pcar boat wigc clusters upop   popd       land   \n",
       "1 Afghanistan 30.0 5.8  35.2 11.8 0.0  0.1  1        25.495   56.93776  652860\n",
       "2 Albania     26.4 3.2   9.6 37.0 0.7  0.1  2        60.319  104.61226   27400\n",
       "3 Angola       4.6 1.3  17.8 10.9 0.4  0.3  1        65.514   24.71305 1246700\n",
       "4 Armenia      8.6 0.4   0.2 39.2 0.3  0.1  2        63.149  103.68022   28470\n",
       "5 Azerbaijan   6.9 3.3   1.1 20.4 0.1  0.0  3        55.680  120.23432   82670\n",
       "6 Bangladesh  25.1 0.0   6.4  0.8 0.0  0.3  1        36.632 1239.57931  130170\n",
       "  lita     lity    mori rifr      cotw     moru\n",
       "1 43.01972 0.75933 62.5 1299.0269       NA 13.9\n",
       "2 98.14115 1.00582  9.5 9361.5460 59.95146  0.2\n",
       "3  0.00000 0.00000 77.7 4963.6533 43.98964 48.8\n",
       "4  0.00000 0.00000 12.4 2329.1833 27.77778  0.2\n",
       "5  0.00000 0.00000 21.6  823.5207 24.48847  1.1\n",
       "6 73.91220 1.03276 32.3  657.6039 14.19624 11.9"
      ]
     },
     "metadata": {},
     "output_type": "display_data"
    },
    {
     "data": {
      "text/plain": [
       "   Country               bicy            cart             mcyc      \n",
       " Length:73          Min.   : 0.00   Min.   : 0.000   Min.   : 0.00  \n",
       " Class :character   1st Qu.: 9.50   1st Qu.: 0.100   1st Qu.: 2.60  \n",
       " Mode  :character   Median :20.70   Median : 1.300   Median : 9.60  \n",
       "                    Mean   :23.14   Mean   : 4.732   Mean   :16.84  \n",
       "                    3rd Qu.:33.50   3rd Qu.: 4.200   3rd Qu.:21.40  \n",
       "                    Max.   :82.00   Max.   :41.500   Max.   :78.70  \n",
       "                                                                    \n",
       "      pcar            boat             wigc        clusters      upop      \n",
       " Min.   : 0.80   Min.   :0.0000   Min.   :0.0000   1:40     Min.   : 0.00  \n",
       " 1st Qu.: 4.10   1st Qu.:0.0000   1st Qu.:0.1000   2:11     1st Qu.:29.36  \n",
       " Median : 8.90   Median :0.3000   Median :0.2000   3:14     Median :42.63  \n",
       " Mean   :12.21   Mean   :0.5712   Mean   :0.2123   4: 8     Mean   :44.43  \n",
       " 3rd Qu.:17.10   3rd Qu.:0.6000   3rd Qu.:0.3000            3rd Qu.:56.37  \n",
       " Max.   :57.80   Max.   :5.9000   Max.   :0.5000            Max.   :90.98  \n",
       "                                                                           \n",
       "      popd              land              lita            lity       \n",
       " Min.   :   0.00   Min.   :    300   Min.   : 0.00   Min.   :0.0000  \n",
       " 1st Qu.:  37.51   1st Qu.:  94280   1st Qu.: 0.00   1st Qu.:0.0000  \n",
       " Median :  82.24   Median : 273600   Median : 0.00   Median :0.0000  \n",
       " Mean   : 152.64   Mean   : 496093   Mean   :35.52   Mean   :0.4575  \n",
       " 3rd Qu.: 147.75   3rd Qu.: 770880   3rd Qu.:76.53   3rd Qu.:0.9940  \n",
       " Max.   :1718.99   Max.   :2973190   Max.   :99.59   Max.   :1.0472  \n",
       "                                                                     \n",
       "      mori             rifr                cotw            moru       \n",
       " Min.   :  8.20   Min.   :    10.37   Min.   :11.41   Min.   :  0.10  \n",
       " 1st Qu.: 27.00   1st Qu.:   913.40   1st Qu.:27.04   1st Qu.:  3.60  \n",
       " Median : 45.60   Median :  2329.18   Median :35.39   Median : 19.30  \n",
       " Mean   : 48.86   Mean   : 13214.27   Mean   :38.88   Mean   : 24.99  \n",
       " 3rd Qu.: 65.10   3rd Qu.:  7894.23   3rd Qu.:49.88   3rd Qu.: 41.60  \n",
       " Max.   :120.00   Max.   :310879.09   Max.   :96.78   Max.   :101.00  \n",
       "                                      NA's   :22                      "
      ]
     },
     "metadata": {},
     "output_type": "display_data"
    }
   ],
   "source": [
    "df.exp <- merge(x = df.explore,\n",
    "              y = df.wb,\n",
    "              by = c(\"Country\"))\n",
    "\n",
    "\n",
    "df.exp <- df.exp[, c(1:8,11:19) ]\n",
    "head(df.exp)\n",
    "summary(df.exp)\n",
    "write_xlsx(df.exp , '../../results/df-exp.xlsx')"
   ]
  },
  {
   "cell_type": "code",
   "execution_count": 5,
   "metadata": {},
   "outputs": [
    {
     "data": {
      "image/png": "[encoded data removed]",
      "text/plain": [
       "plot without title"
      ]
     },
     "metadata": {
      "image/png": {
       "height": 420,
       "width": 420
      }
     },
     "output_type": "display_data"
    }
   ],
   "source": [
    "model <- rpart(Country ~., data = df.exp)\n",
    "par(xpd = NA) # otherwise on some devices the text is clipped\n",
    "plot(model)\n",
    "text(model, digits = 3)"
   ]
  },
  {
   "cell_type": "markdown",
   "metadata": {},
   "source": [
    "The different rules in tree can be printed as follow:"
   ]
  },
  {
   "cell_type": "code",
   "execution_count": 6,
   "metadata": {},
   "outputs": [
    {
     "name": "stdout",
     "output_type": "stream",
     "text": [
      "n= 73 \n",
      "\n",
      "node), split, n, loss, yval, (yprob)\n",
      "      * denotes terminal node\n",
      "\n",
      " 1) root 73 72 Afghanistan (0.014 0.014 0.014 0.014 0.014 0.014 0.014 0.014 0.014 0.014 0.014 0.014 0.014 0.014 0.014 0.014 0.014 0.014 0.014 0.014 0.014 0.014 0.014 0.014 0.014 0.014 0.014 0.014 0.014 0.014 0.014 0.014 0.014 0.014 0.014 0.014 0.014 0.014 0.014 0.014 0.014 0.014 0.014 0.014 0.014 0.014 0.014 0.014 0.014 0.014 0.014 0.014 0.014 0.014 0.014 0.014 0.014 0.014 0.014 0.014 0.014 0.014 0.014 0.014 0.014 0.014 0.014 0.014 0.014 0.014 0.014 0.014 0.014)  \n",
      "   2) bicy< 4.2 8  7 Dominican Republic (0 0 0 0 0 0 0 0 0 0 0 0 0 0 0 0 0 0 0.12 0 0 0 0.12 0.12 0 0 0 0 0 0 0 0 0 0.12 0 0 0.12 0.12 0 0 0 0 0.12 0 0 0 0 0 0 0 0 0 0 0 0 0 0 0 0 0 0 0 0 0 0 0.12 0 0 0 0 0 0 0) *\n",
      "   3) bicy>=4.2 65 64 Afghanistan (0.015 0.015 0.015 0.015 0.015 0.015 0.015 0.015 0.015 0.015 0.015 0.015 0.015 0.015 0.015 0.015 0.015 0.015 0 0.015 0.015 0.015 0 0 0.015 0.015 0.015 0.015 0.015 0.015 0.015 0.015 0.015 0 0.015 0.015 0 0 0.015 0.015 0.015 0.015 0 0.015 0.015 0.015 0.015 0.015 0.015 0.015 0.015 0.015 0.015 0.015 0.015 0.015 0.015 0.015 0.015 0.015 0.015 0.015 0.015 0.015 0.015 0 0.015 0.015 0.015 0.015 0.015 0.015 0.015)  \n",
      "     6) cotw>=35 33 32 Albania (0 0.03 0.03 0 0 0 0.03 0.03 0 0.03 0.03 0.03 0 0.03 0 0.03 0.03 0 0 0 0 0 0 0 0 0.03 0.03 0.03 0 0.03 0.03 0 0 0 0.03 0 0 0 0 0.03 0 0 0 0 0 0.03 0.03 0.03 0.03 0.03 0.03 0.03 0 0.03 0.03 0 0.03 0 0.03 0.03 0 0 0.03 0 0.03 0 0 0.03 0 0 0 0.03 0)  \n",
      "      12) pcar>=11 8  7 Albania (0 0.12 0.12 0 0 0 0 0.12 0 0 0.12 0 0 0.12 0 0 0 0 0 0 0 0 0 0 0 0 0.12 0 0 0 0.12 0 0 0 0 0 0 0 0 0 0 0 0 0 0 0 0 0.12 0 0 0 0 0 0 0 0 0 0 0 0 0 0 0 0 0 0 0 0 0 0 0 0 0) *\n",
      "      13) pcar< 11 25 24 Benin (0 0 0 0 0 0 0.04 0 0 0.04 0 0.04 0 0 0 0.04 0.04 0 0 0 0 0 0 0 0 0.04 0 0.04 0 0.04 0 0 0 0 0.04 0 0 0 0 0.04 0 0 0 0 0 0.04 0.04 0 0.04 0.04 0.04 0.04 0 0.04 0.04 0 0.04 0 0.04 0.04 0 0 0.04 0 0.04 0 0 0.04 0 0 0 0.04 0)  \n",
      "        26) cotw>=55 13 12 Benin (0 0 0 0 0 0 0.077 0 0 0.077 0 0 0 0 0 0.077 0.077 0 0 0 0 0 0 0 0 0.077 0 0 0 0 0 0 0 0 0 0 0 0 0 0.077 0 0 0 0 0 0.077 0 0 0 0 0.077 0 0 0 0 0 0.077 0 0 0.077 0 0 0.077 0 0.077 0 0 0.077 0 0 0 0 0) *\n",
      "        27) cotw< 55 12 11 Cameroon (0 0 0 0 0 0 0 0 0 0 0 0.083 0 0 0 0 0 0 0 0 0 0 0 0 0 0 0 0.083 0 0.083 0 0 0 0 0.083 0 0 0 0 0 0 0 0 0 0 0 0.083 0 0.083 0.083 0 0.083 0 0.083 0.083 0 0 0 0.083 0 0 0 0 0 0 0 0 0 0 0 0 0.083 0) *\n",
      "     7) cotw< 35 32 31 Afghanistan (0.031 0 0 0.031 0.031 0.031 0 0 0.031 0 0 0 0.031 0 0.031 0 0 0.031 0 0.031 0.031 0.031 0 0 0.031 0 0 0 0.031 0 0 0.031 0.031 0 0 0.031 0 0 0.031 0 0.031 0.031 0 0.031 0.031 0 0 0 0 0 0 0 0.031 0 0 0.031 0 0.031 0 0 0.031 0.031 0 0.031 0 0 0.031 0 0.031 0.031 0.031 0 0.031)  \n",
      "      14) lity>=1 7  6 Bangladesh (0 0 0 0 0 0.14 0 0 0 0 0 0 0 0 0.14 0 0 0 0 0 0 0.14 0 0 0 0 0 0 0 0 0 0 0.14 0 0 0.14 0 0 0 0 0 0 0 0 0 0 0 0 0 0 0 0 0 0 0 0 0 0.14 0 0 0 0 0 0.14 0 0 0 0 0 0 0 0 0) *\n",
      "      15) lity< 1 25 24 Afghanistan (0.04 0 0 0.04 0.04 0 0 0 0.04 0 0 0 0.04 0 0 0 0 0.04 0 0.04 0.04 0 0 0 0.04 0 0 0 0.04 0 0 0.04 0 0 0 0 0 0 0.04 0 0.04 0.04 0 0.04 0.04 0 0 0 0 0 0 0 0.04 0 0 0.04 0 0 0 0 0.04 0.04 0 0 0 0 0.04 0 0.04 0.04 0.04 0 0.04)  \n",
      "        30) cotw>=25 11 10 Armenia (0 0 0 0.091 0 0 0 0 0 0 0 0 0 0 0 0 0 0.091 0 0 0.091 0 0 0 0 0 0 0 0.091 0 0 0 0 0 0 0 0 0 0 0 0.091 0 0 0.091 0.091 0 0 0 0 0 0 0 0.091 0 0 0.091 0 0 0 0 0 0.091 0 0 0 0 0 0 0 0 0.091 0 0) *\n",
      "        31) cotw< 25 14 13 Afghanistan (0.071 0 0 0 0.071 0 0 0 0.071 0 0 0 0.071 0 0 0 0 0 0 0.071 0 0 0 0 0.071 0 0 0 0 0 0 0.071 0 0 0 0 0 0 0.071 0 0 0.071 0 0 0 0 0 0 0 0 0 0 0 0 0 0 0 0 0 0 0.071 0 0 0 0 0 0.071 0 0.071 0.071 0 0 0.071) *\n"
     ]
    }
   ],
   "source": [
    "print(model, digits = 2)"
   ]
  },
  {
   "cell_type": "markdown",
   "metadata": {},
   "source": [
    "These rules are produced by repeatedly splitting the predictor variables, starting with the variable that has the highest association with the response variable. The process continues until some predetermined stopping criteria are met."
   ]
  },
  {
   "cell_type": "markdown",
   "metadata": {},
   "source": [
    "# Example of data set"
   ]
  },
  {
   "cell_type": "code",
   "execution_count": 7,
   "metadata": {},
   "outputs": [
    {
     "data": {
      "text/html": [
       "<table class=\"dataframe\">\n",
       "<caption>A data.frame: 3 × 17</caption>\n",
       "<thead>\n",
       "\t<tr><th scope=col>Country</th><th scope=col>bicy</th><th scope=col>cart</th><th scope=col>mcyc</th><th scope=col>pcar</th><th scope=col>boat</th><th scope=col>wigc</th><th scope=col>clusters</th><th scope=col>upop</th><th scope=col>popd</th><th scope=col>land</th><th scope=col>lita</th><th scope=col>lity</th><th scope=col>mori</th><th scope=col>rifr</th><th scope=col>cotw</th><th scope=col>moru</th></tr>\n",
       "\t<tr><th scope=col>&lt;chr&gt;</th><th scope=col>&lt;dbl&gt;</th><th scope=col>&lt;dbl&gt;</th><th scope=col>&lt;dbl&gt;</th><th scope=col>&lt;dbl&gt;</th><th scope=col>&lt;dbl&gt;</th><th scope=col>&lt;dbl&gt;</th><th scope=col>&lt;fct&gt;</th><th scope=col>&lt;dbl&gt;</th><th scope=col>&lt;dbl&gt;</th><th scope=col>&lt;dbl&gt;</th><th scope=col>&lt;dbl&gt;</th><th scope=col>&lt;dbl&gt;</th><th scope=col>&lt;dbl&gt;</th><th scope=col>&lt;dbl&gt;</th><th scope=col>&lt;dbl&gt;</th><th scope=col>&lt;dbl&gt;</th></tr>\n",
       "</thead>\n",
       "<tbody>\n",
       "\t<tr><td>Timor-Leste</td><td>14.6</td><td>0.8</td><td>31.8</td><td>4.9</td><td>0.6</td><td>0.2</td><td>3</td><td>30.578</td><td> 85.27048</td><td> 14870</td><td>68.06683</td><td>1.02590</td><td>45.6</td><td> 6607.623</td><td>      NA</td><td> 9.9</td></tr>\n",
       "\t<tr><td>Madagascar </td><td>17.6</td><td>8.6</td><td> 4.7</td><td>1.4</td><td>0.4</td><td>0.2</td><td>1</td><td>37.191</td><td> 45.13986</td><td>581800</td><td>74.80432</td><td>0.98725</td><td>52.3</td><td>13179.229</td><td>      NA</td><td>30.2</td></tr>\n",
       "\t<tr><td>Vietnam    </td><td>77.4</td><td>4.2</td><td>55.9</td><td>1.0</td><td>5.9</td><td>0.0</td><td>3</td><td>35.919</td><td>308.12525</td><td>310070</td><td>95.00038</td><td>0.99891</td><td>20.4</td><td> 3799.289</td><td>22.28037</td><td> 1.6</td></tr>\n",
       "</tbody>\n",
       "</table>\n"
      ],
      "text/latex": [
       "A data.frame: 3 × 17\n",
       "\\begin{tabular}{lllllllllllllllll}\n",
       " Country & bicy & cart & mcyc & pcar & boat & wigc & clusters & upop & popd & land & lita & lity & mori & rifr & cotw & moru\\\\\n",
       " <chr> & <dbl> & <dbl> & <dbl> & <dbl> & <dbl> & <dbl> & <fct> & <dbl> & <dbl> & <dbl> & <dbl> & <dbl> & <dbl> & <dbl> & <dbl> & <dbl>\\\\\n",
       "\\hline\n",
       "\t Timor-Leste & 14.6 & 0.8 & 31.8 & 4.9 & 0.6 & 0.2 & 3 & 30.578 &  85.27048 &  14870 & 68.06683 & 1.02590 & 45.6 &  6607.623 &       NA &  9.9\\\\\n",
       "\t Madagascar  & 17.6 & 8.6 &  4.7 & 1.4 & 0.4 & 0.2 & 1 & 37.191 &  45.13986 & 581800 & 74.80432 & 0.98725 & 52.3 & 13179.229 &       NA & 30.2\\\\\n",
       "\t Vietnam     & 77.4 & 4.2 & 55.9 & 1.0 & 5.9 & 0.0 & 3 & 35.919 & 308.12525 & 310070 & 95.00038 & 0.99891 & 20.4 &  3799.289 & 22.28037 &  1.6\\\\\n",
       "\\end{tabular}\n"
      ],
      "text/markdown": [
       "\n",
       "A data.frame: 3 × 17\n",
       "\n",
       "| Country &lt;chr&gt; | bicy &lt;dbl&gt; | cart &lt;dbl&gt; | mcyc &lt;dbl&gt; | pcar &lt;dbl&gt; | boat &lt;dbl&gt; | wigc &lt;dbl&gt; | clusters &lt;fct&gt; | upop &lt;dbl&gt; | popd &lt;dbl&gt; | land &lt;dbl&gt; | lita &lt;dbl&gt; | lity &lt;dbl&gt; | mori &lt;dbl&gt; | rifr &lt;dbl&gt; | cotw &lt;dbl&gt; | moru &lt;dbl&gt; |\n",
       "|---|---|---|---|---|---|---|---|---|---|---|---|---|---|---|---|---|\n",
       "| Timor-Leste | 14.6 | 0.8 | 31.8 | 4.9 | 0.6 | 0.2 | 3 | 30.578 |  85.27048 |  14870 | 68.06683 | 1.02590 | 45.6 |  6607.623 |       NA |  9.9 |\n",
       "| Madagascar  | 17.6 | 8.6 |  4.7 | 1.4 | 0.4 | 0.2 | 1 | 37.191 |  45.13986 | 581800 | 74.80432 | 0.98725 | 52.3 | 13179.229 |       NA | 30.2 |\n",
       "| Vietnam     | 77.4 | 4.2 | 55.9 | 1.0 | 5.9 | 0.0 | 3 | 35.919 | 308.12525 | 310070 | 95.00038 | 0.99891 | 20.4 |  3799.289 | 22.28037 |  1.6 |\n",
       "\n"
      ],
      "text/plain": [
       "  Country     bicy cart mcyc pcar boat wigc clusters upop   popd      land  \n",
       "1 Timor-Leste 14.6 0.8  31.8 4.9  0.6  0.2  3        30.578  85.27048  14870\n",
       "2 Madagascar  17.6 8.6   4.7 1.4  0.4  0.2  1        37.191  45.13986 581800\n",
       "3 Vietnam     77.4 4.2  55.9 1.0  5.9  0.0  3        35.919 308.12525 310070\n",
       "  lita     lity    mori rifr      cotw     moru\n",
       "1 68.06683 1.02590 45.6  6607.623       NA  9.9\n",
       "2 74.80432 0.98725 52.3 13179.229       NA 30.2\n",
       "3 95.00038 0.99891 20.4  3799.289 22.28037  1.6"
      ]
     },
     "metadata": {},
     "output_type": "display_data"
    }
   ],
   "source": [
    "# Inspect the data\n",
    "sample_n(df.exp, 3)\n",
    "# Split the data into training and test set\n",
    "set.seed(123)\n",
    "training.samples <- df.exp$clusters %>% \n",
    "  createDataPartition(p = 0.8, list = FALSE)\n",
    "train.data  <- df.exp[training.samples, ]\n",
    "test.data <- df.exp[-training.samples, ]\n",
    "\n",
    "\n"
   ]
  },
  {
   "cell_type": "markdown",
   "metadata": {},
   "source": [
    "Fully grown trees\n",
    "Here, we’ll create a fully grown tree showing all predictor variables in the data set.\n"
   ]
  },
  {
   "cell_type": "code",
   "execution_count": 8,
   "metadata": {},
   "outputs": [
    {
     "data": {
      "image/png": "[encoded data removed]",
      "text/plain": [
       "plot without title"
      ]
     },
     "metadata": {
      "image/png": {
       "height": 420,
       "width": 420
      }
     },
     "output_type": "display_data"
    }
   ],
   "source": [
    "# Build the model\n",
    "set.seed(123)\n",
    "model1 <- rpart(Country ~., data = train.data, method = \"class\")\n",
    "# Plot the trees\n",
    "par(xpd = NA) # Avoid clipping the text in some device\n",
    "plot(model1)\n",
    "text(model1, digits = 3)"
   ]
  },
  {
   "cell_type": "code",
   "execution_count": 9,
   "metadata": {},
   "outputs": [
    {
     "data": {
      "text/html": [
       "<style>\n",
       ".dl-inline {width: auto; margin:0; padding: 0}\n",
       ".dl-inline>dt, .dl-inline>dd {float: none; width: auto; display: inline-block}\n",
       ".dl-inline>dt::after {content: \":\\0020\"; padding-right: .5ex}\n",
       ".dl-inline>dt:not(:first-of-type) {padding-left: .5ex}\n",
       "</style><dl class=dl-inline><dt>1</dt><dd>Bangladesh</dd><dt>3</dt><dd>Armenia</dd><dt>10</dt><dd>Benin</dd><dt>20</dt><dd>Armenia</dd><dt>24</dt><dd>Albania</dd><dt>26</dt><dd>Albania</dd></dl>\n",
       "\n",
       "<details>\n",
       "\t<summary style=display:list-item;cursor:pointer>\n",
       "\t\t<strong>Levels</strong>:\n",
       "\t</summary>\n",
       "\t<style>\n",
       "\t.list-inline {list-style: none; margin:0; padding: 0}\n",
       "\t.list-inline>li {display: inline-block}\n",
       "\t.list-inline>li:not(:last-child)::after {content: \"\\00b7\"; padding: 0 .5ex}\n",
       "\t</style>\n",
       "\t<ol class=list-inline><li>'Albania'</li><li>'Armenia'</li><li>'Azerbaijan'</li><li>'Bangladesh'</li><li>'Benin'</li><li>'Bolivia'</li><li>'Burkina Faso'</li><li>'Cambodia'</li><li>'Cameroon'</li><li>'Chad'</li><li>'Colombia'</li><li>'Comoros'</li><li>'Congo'</li><li>'Congo Democratic Republic'</li><li>'Cote d\\'Ivoire'</li><li>'Dominican Republic'</li><li>'Eritrea'</li><li>'Eswatini'</li><li>'Ethiopia'</li><li>'Gambia'</li><li>'Guinea'</li><li>'Guyana'</li><li>'Honduras'</li><li>'India'</li><li>'Indonesia'</li><li>'Kenya'</li><li>'Kyrgyz Republic'</li><li>'Liberia'</li><li>'Madagascar'</li><li>'Malawi'</li><li>'Maldives'</li><li>'Mauritania'</li><li>'Moldova'</li><li>'Morocco'</li><li>'Mozambique'</li><li>'Myanmar'</li><li>'Namibia'</li><li>'Nepal'</li><li>'Nicaragua'</li><li>'Nigeria'</li><li>'Pakistan'</li><li>'Papua New Guinea'</li><li>'Peru'</li><li>'Philippines'</li><li>'Rwanda'</li><li>'Sao Tome and Principe'</li><li>'Senegal'</li><li>'Sierra Leone'</li><li>'South Africa'</li><li>'Tanzania'</li><li>'Timor-Leste'</li><li>'Togo'</li><li>'Turkey'</li><li>'Turkmenistan'</li><li>'Uganda'</li><li>'Ukraine'</li><li>'Vietnam'</li><li>'Yemen'</li><li>'Zambia'</li><li>'Zimbabwe'</li></ol>\n",
       "</details>"
      ],
      "text/latex": [
       "\\begin{description*}\n",
       "\\item[1] Bangladesh\n",
       "\\item[3] Armenia\n",
       "\\item[10] Benin\n",
       "\\item[20] Armenia\n",
       "\\item[24] Albania\n",
       "\\item[26] Albania\n",
       "\\end{description*}\n",
       "\n",
       "\\emph{Levels}: \\begin{enumerate*}\n",
       "\\item 'Albania'\n",
       "\\item 'Armenia'\n",
       "\\item 'Azerbaijan'\n",
       "\\item 'Bangladesh'\n",
       "\\item 'Benin'\n",
       "\\item 'Bolivia'\n",
       "\\item 'Burkina Faso'\n",
       "\\item 'Cambodia'\n",
       "\\item 'Cameroon'\n",
       "\\item 'Chad'\n",
       "\\item 'Colombia'\n",
       "\\item 'Comoros'\n",
       "\\item 'Congo'\n",
       "\\item 'Congo Democratic Republic'\n",
       "\\item 'Cote d\\textbackslash{}'Ivoire'\n",
       "\\item 'Dominican Republic'\n",
       "\\item 'Eritrea'\n",
       "\\item 'Eswatini'\n",
       "\\item 'Ethiopia'\n",
       "\\item 'Gambia'\n",
       "\\item 'Guinea'\n",
       "\\item 'Guyana'\n",
       "\\item 'Honduras'\n",
       "\\item 'India'\n",
       "\\item 'Indonesia'\n",
       "\\item 'Kenya'\n",
       "\\item 'Kyrgyz Republic'\n",
       "\\item 'Liberia'\n",
       "\\item 'Madagascar'\n",
       "\\item 'Malawi'\n",
       "\\item 'Maldives'\n",
       "\\item 'Mauritania'\n",
       "\\item 'Moldova'\n",
       "\\item 'Morocco'\n",
       "\\item 'Mozambique'\n",
       "\\item 'Myanmar'\n",
       "\\item 'Namibia'\n",
       "\\item 'Nepal'\n",
       "\\item 'Nicaragua'\n",
       "\\item 'Nigeria'\n",
       "\\item 'Pakistan'\n",
       "\\item 'Papua New Guinea'\n",
       "\\item 'Peru'\n",
       "\\item 'Philippines'\n",
       "\\item 'Rwanda'\n",
       "\\item 'Sao Tome and Principe'\n",
       "\\item 'Senegal'\n",
       "\\item 'Sierra Leone'\n",
       "\\item 'South Africa'\n",
       "\\item 'Tanzania'\n",
       "\\item 'Timor-Leste'\n",
       "\\item 'Togo'\n",
       "\\item 'Turkey'\n",
       "\\item 'Turkmenistan'\n",
       "\\item 'Uganda'\n",
       "\\item 'Ukraine'\n",
       "\\item 'Vietnam'\n",
       "\\item 'Yemen'\n",
       "\\item 'Zambia'\n",
       "\\item 'Zimbabwe'\n",
       "\\end{enumerate*}\n"
      ],
      "text/markdown": [
       "1\n",
       ":   Bangladesh3\n",
       ":   Armenia10\n",
       ":   Benin20\n",
       ":   Armenia24\n",
       ":   Albania26\n",
       ":   Albania\n",
       "\n",
       "\n",
       "**Levels**: 1. 'Albania'\n",
       "2. 'Armenia'\n",
       "3. 'Azerbaijan'\n",
       "4. 'Bangladesh'\n",
       "5. 'Benin'\n",
       "6. 'Bolivia'\n",
       "7. 'Burkina Faso'\n",
       "8. 'Cambodia'\n",
       "9. 'Cameroon'\n",
       "10. 'Chad'\n",
       "11. 'Colombia'\n",
       "12. 'Comoros'\n",
       "13. 'Congo'\n",
       "14. 'Congo Democratic Republic'\n",
       "15. 'Cote d\\'Ivoire'\n",
       "16. 'Dominican Republic'\n",
       "17. 'Eritrea'\n",
       "18. 'Eswatini'\n",
       "19. 'Ethiopia'\n",
       "20. 'Gambia'\n",
       "21. 'Guinea'\n",
       "22. 'Guyana'\n",
       "23. 'Honduras'\n",
       "24. 'India'\n",
       "25. 'Indonesia'\n",
       "26. 'Kenya'\n",
       "27. 'Kyrgyz Republic'\n",
       "28. 'Liberia'\n",
       "29. 'Madagascar'\n",
       "30. 'Malawi'\n",
       "31. 'Maldives'\n",
       "32. 'Mauritania'\n",
       "33. 'Moldova'\n",
       "34. 'Morocco'\n",
       "35. 'Mozambique'\n",
       "36. 'Myanmar'\n",
       "37. 'Namibia'\n",
       "38. 'Nepal'\n",
       "39. 'Nicaragua'\n",
       "40. 'Nigeria'\n",
       "41. 'Pakistan'\n",
       "42. 'Papua New Guinea'\n",
       "43. 'Peru'\n",
       "44. 'Philippines'\n",
       "45. 'Rwanda'\n",
       "46. 'Sao Tome and Principe'\n",
       "47. 'Senegal'\n",
       "48. 'Sierra Leone'\n",
       "49. 'South Africa'\n",
       "50. 'Tanzania'\n",
       "51. 'Timor-Leste'\n",
       "52. 'Togo'\n",
       "53. 'Turkey'\n",
       "54. 'Turkmenistan'\n",
       "55. 'Uganda'\n",
       "56. 'Ukraine'\n",
       "57. 'Vietnam'\n",
       "58. 'Yemen'\n",
       "59. 'Zambia'\n",
       "60. 'Zimbabwe'\n",
       "\n",
       "\n"
      ],
      "text/plain": [
       "         1          3         10         20         24         26 \n",
       "Bangladesh    Armenia      Benin    Armenia    Albania    Albania \n",
       "60 Levels: Albania Armenia Azerbaijan Bangladesh Benin Bolivia ... Zimbabwe"
      ]
     },
     "metadata": {},
     "output_type": "display_data"
    }
   ],
   "source": [
    "# Make predictions on the test data\n",
    "predicted.classes <- model1 %>% \n",
    "  predict(test.data, type = \"class\")\n",
    "head(predicted.classes)"
   ]
  },
  {
   "cell_type": "code",
   "execution_count": 10,
   "metadata": {},
   "outputs": [
    {
     "data": {
      "text/html": [
       "0"
      ],
      "text/latex": [
       "0"
      ],
      "text/markdown": [
       "0"
      ],
      "text/plain": [
       "[1] 0"
      ]
     },
     "metadata": {},
     "output_type": "display_data"
    }
   ],
   "source": [
    "# Compute model accuracy rate on test data\n",
    "mean(predicted.classes == test.data$Country)\n",
    "# Zero is not good, something went wrong, ask the professor for help potentially. "
   ]
  },
  {
   "cell_type": "markdown",
   "metadata": {},
   "source": [
    "# Pruning the tree"
   ]
  },
  {
   "cell_type": "code",
   "execution_count": 11,
   "metadata": {},
   "outputs": [
    {
     "ename": "ERROR",
     "evalue": "Error in na.fail.default(structure(list(clusters = structure(c(2L, 2L, : missing values in object\n",
     "output_type": "error",
     "traceback": [
      "Error in na.fail.default(structure(list(clusters = structure(c(2L, 2L, : missing values in object\nTraceback:\n",
      "1. train(clusters ~ ., data = train.data, method = \"rpart\", trControl = trainControl(\"cv\", \n .     number = 10), tuneLength = 10)",
      "2. train.formula(clusters ~ ., data = train.data, method = \"rpart\", \n .     trControl = trainControl(\"cv\", number = 10), tuneLength = 10)",
      "3. eval.parent(m)",
      "4. eval(expr, p)",
      "5. eval(expr, p)",
      "6. stats::model.frame(form = clusters ~ ., data = train.data, na.action = na.fail)",
      "7. model.frame.default(form = clusters ~ ., data = train.data, na.action = na.fail)",
      "8. (new(\"standardGeneric\", .Data = function (object, ...) \n . standardGeneric(\"na.fail\"), generic = structure(\"na.fail\", package = \"stats\"), \n .     package = \"stats\", group = list(), valueClass = character(0), \n .     signature = \"object\", default = new(\"derivedDefaultMethod\", \n .         .Data = function (object, ...) \n .         UseMethod(\"na.fail\"), target = new(\"signature\", .Data = \"ANY\", \n .             names = \"object\", package = \"methods\"), defined = new(\"signature\", \n .             .Data = \"ANY\", names = \"object\", package = \"methods\"), \n .         generic = structure(\"na.fail\", package = \"stats\")), skeleton = (new(\"derivedDefaultMethod\", \n .         .Data = function (object, ...) \n .         UseMethod(\"na.fail\"), target = new(\"signature\", .Data = \"ANY\", \n .             names = \"object\", package = \"methods\"), defined = new(\"signature\", \n .             .Data = \"ANY\", names = \"object\", package = \"methods\"), \n .         generic = structure(\"na.fail\", package = \"stats\")))(object, \n .         ...)))(structure(list(clusters = structure(c(2L, 2L, \n . 3L, 1L, 1L, 3L, 1L, 4L, 1L, 1L, 2L, 3L, 1L, 1L, 1L, 4L, 1L, 1L, \n . 1L, 1L, 1L, 4L, 2L, 1L, 4L, 3L, 3L, 1L, 1L, 1L, 4L, 1L, 2L, 2L, \n . 1L, 1L, 3L, 1L, 3L, 1L, 1L, 1L, 2L, 4L, 1L, 1L, 3L, 1L, 3L, 1L, \n . 3L, 1L, 2L, 3L, 1L, 2L, 3L, 4L, 1L, 1L), .Label = c(\"1\", \"2\", \n . \"3\", \"4\"), class = \"factor\"), Country = c(\"Albania\", \"Armenia\", \n . \"Azerbaijan\", \"Bangladesh\", \"Benin\", \"Bolivia\", \"Burkina Faso\", \n . \"Cambodia\", \"Cameroon\", \"Chad\", \"Colombia\", \"Comoros\", \"Congo\", \n . \"Congo Democratic Republic\", \"Cote d'Ivoire\", \"Dominican Republic\", \n . \"Eritrea\", \"Eswatini\", \"Ethiopia\", \"Gambia\", \"Guinea\", \"Guyana\", \n . \"Honduras\", \"India\", \"Indonesia\", \"Kenya\", \"Kyrgyz Republic\", \n . \"Liberia\", \"Madagascar\", \"Malawi\", \"Maldives\", \"Mauritania\", \n . \"Moldova\", \"Morocco\", \"Mozambique\", \"Myanmar\", \"Namibia\", \"Nepal\", \n . \"Nicaragua\", \"Nigeria\", \"Pakistan\", \"Papua New Guinea\", \"Peru\", \n . \"Philippines\", \"Rwanda\", \"Sao Tome and Principe\", \"Senegal\", \n . \"Sierra Leone\", \"South Africa\", \"Tanzania\", \"Timor-Leste\", \"Togo\", \n . \"Turkey\", \"Turkmenistan\", \"Uganda\", \"Ukraine\", \"Vietnam\", \"Yemen\", \n . \"Zambia\", \"Zimbabwe\"), bicy = c(26.4, 8.6, 6.9, 25.1, 19.4, 36.6, \n . 82, 64.2, 10.7, 26.1, 33.5, 5.1, 5.3, 24.1, 39.2, 2.4, 10.5, \n . 9.5, 2.3, 47, 23.4, 52.1, 33.3, 52.1, 39.3, 19.9, 24.4, 3, 17.6, \n . 35.7, 41.3, 0, 27.2, 25.4, 28.8, 42.2, 13.5, 37.3, 25.7, 12.5, \n . 20.3, 10.3, 17.6, 19.4, 12.1, 13.6, 12.7, 7.3, 7.8, 38.8, 14.6, \n . 25.4, 0, 13.1, 31.8, 40.4, 77.4, 10.5, 37.8, 23.2), cart = c(3.2, \n . 0.4, 3.3, 0, 3.2, 0, 38.6, 12.3, 1.3, 10.6, 0, 0.4, 0, 0.1, 1.6, \n . 0, 0, 2.1, 1.6, 15.7, 2.7, 1.1, 1.4, 3.6, 0.2, 2.2, 8.9, 0, 8.6, \n . 2, 0, 0, 0, 0, 1.3, 16, 7, 3, 0, 3.1, 8.5, 0.4, 1, 1.9, 0, 0, \n . 24.1, 0.3, 1.1, 3.3, 0.8, 1.1, 0, 0, 0.6, 2.1, 4.2, 1.3, 4.7, \n . 20.7), mcyc = c(9.6, 0.2, 1.1, 6.4, 56.1, 6.5, 58.2, 68, 21.4, \n . 15.9, 26.9, 5.5, 4.8, 5.1, 19.3, 28.7, 0.2, 0.9, 1.1, 7.1, 26.6, \n . 8.9, 10.2, 37.7, 78.7, 9.5, 1.2, 6.8, 4.7, 2.8, 59.9, 0, 5.8, \n . 11.3, 9.5, 50.2, 1.8, 18.6, 2.1, 27.5, 54.1, 0.6, 12.8, 35.6, \n . 1.5, 7.3, 12.5, 10.3, 2.4, 11.2, 31.8, 36.8, 6.7, 17.8, 12.6, \n . 8.9, 55.9, 12.7, 2.6, 1.7), pcar = c(37, 39.2, 20.4, 0.8, 4.2, \n . 15.6, 3, 14.1, 6.7, 2, 17.1, 11.5, 4.1, 1.4, 3.3, 18.5, 3.3, \n . 18.5, 0.8, 11.2, 7.2, 17.2, 19.6, 6, 12.6, 6.2, 46.2, 5, 1.4, \n . 2.2, 5.3, 7.5, 22.5, 14.1, 4.3, 5.1, 26.7, 3.3, 10, 9.3, 9.8, \n . 5.1, 10.4, 9.9, 1.3, 5.7, 9, 2.4, 28.7, 2.9, 4.9, 3.9, 37.6, \n . 29, 3.2, 26.4, 1, 20.9, 6.7, 12.2), boat = c(0.7, 0.3, 0.1, 0, \n . 0.2, 0, 0, 4.1, 0.2, 0.1, 0, 1, 0.3, 0, 0, 0, 0, 0, 0.2, 0.4, \n . 0.2, 3.7, 0.4, 0, 0.8, 0.4, 0.1, 0, 0.4, 0.3, 3.5, 0, 0, 0, 0.4, \n . 0.9, 0.5, 0, 0, 0.6, 0.1, 2.2, 0.3, 1.7, 0, 0.4, 1.7, 0.7, 0.6, \n . 0.4, 0.6, 0.2, 0, 0, 0.5, 1.3, 5.9, 0.8, 0.3, 0.5), wigc = c(0.1, \n . 0.1, 0, 0.3, 0.3, 0, 0.2, 0.2, 0.4, 0.1, 0.1, 0.2, 0.3, 0.4, \n . 0.3, 0.2, 0, 0, 0.2, 0.2, 0.4, 0, 0.3, 0.2, 0.1, 0.3, 0.2, 0.2, \n . 0.2, 0.5, 0, 0, 0, 0, 0.4, 0.3, 0.4, 0.3, 0, 0.3, 0.3, 0.5, 0, \n . 0.2, 0.3, 0, 0.3, 0.3, 0.2, 0.3, 0.2, 0.5, 0.2, 0, 0.3, 0, 0, \n . 0.2, 0.4, 0.4), upop = c(60.319, 63.149, 55.68, 36.632, 47.312, \n . 69.425, 29.358, 23.388, 56.374, 23.059, 80.778, 28.965, 66.916, \n . 44.46, 50.779, 81.074, 0, 23.799, 20.763, 61.27, 36.14, 26.606, \n . 57.096, 34.03, 55.325, 27.03, 36.351, 51.151, 37.191, 16.937, \n . 39.808, 53.672, 42.629, 62.453, 35.988, 30.579, 50.032, 19.74, \n . 58.522, 50.344, 36.666, 13.169, 77.907, 46.907, 17.211, 72.803, \n . 47.192, 42.055, 66.355, 33.776, 30.578, 41.702, 75.143, 51.593, \n . 23.774, 69.352, 35.919, 36.642, 43.521, 32.209), popd = c(104.612262773723, \n . 103.680224798033, 120.23431716463, 1239.57931166936, 101.853919829727, \n . 10.4801458506416, 72.1912828947368, 92.0564128710628, 53.3439889149796, \n . 12.2917336404066, 44.7598521856692, 447.244477540227, 15.3568462664715, \n . 37.0825923557045, 78.8340534591195, 219.97857586421, 0, 66.0576162790698, \n . 109.224559, 225.30652173913, 50.5222122741332, 3.95734823469647, \n . 85.6870319063366, 454.938072575247, 147.75219008926, 90.2994166637383, \n . 32.9655891553702, 50.0309073920266, 45.1398556204881, 192.440761561307, \n . 1718.98666666667, 4.27216357815077, 94.2644302783293, 80.7285189334528, \n . 37.508535313716, 82.2386154835549, 2.97374558175127, 195.939107080572, \n . 53.7270483629716, 215.064988965381, 275.289318700706, 19.0043633794109, \n . 24.99160625, 357.688305329175, 498.659870287799, 219.820833333333, \n . 82.3474783150678, 105.987170961485, 47.6301197767684, 63.5790787988259, \n . 85.270477471419, 145.046773303916, 106.960128893104, 12.4505947694337, \n . 213.061734490325, 77.0296708039151, 308.125245912213, 53.9778529083092, \n . 23.3414789007116, 37.3245909267158), land = c(27400, 28470, 82670, \n . 130170, 112760, 1083300, 273600, 176520, 472710, 1259200, 1109500, \n . 1861.00006103516, 341500, 2267050, 318000, 48310, 101000, 17200, \n . 1e+06, 10120, 245720, 196850, 111890, 2973190, 1811570, 569140, \n . 191800, 96320, 581800, 94280, 300, 1030700, 32890, 446300, 786380, \n . 653080, 823290, 143350, 120340, 910770, 770880, 452860, 1280000, \n . 298170, 24670, 960, 192530, 72180, 1213090, 885800, 14870, 54390, \n . 769630, 469930, 200520, 579290, 310070, 527970, 743390, 386850\n . ), lita = c(98.1411514282227, 0, 0, 73.9122009277344, 42.3624000549316, \n . 0, 41.2244491577148, 0, 77.0710372924805, 0, 95.0925064086914, \n . 58.8170204162598, 80.2987594604492, 0, 47.1653518676758, 0, 76.5705184936523, \n . 88.4193801879883, 0, 0, 0, 0, 87.2052383422852, 74.3729934692383, \n . 95.658561706543, 81.5349731445313, 99.5859985351563, 0, 74.8043212890625, \n . 0, 0, 0, 0, 73.7500076293945, 0, 0, 91.5272674560547, 67.9084320068359, \n . 0, 62.0160102844238, 0, 0, 94.4082717895508, 0, 73.2155914306641, \n . 92.8166427612305, 0, 43.2063293457031, 0, 0, 68.0668334960938, \n . 0, 0, 0, 76.5274963378906, 0, 95.0003814697266, 0, 86.7479629516602, \n . 0), lity = c(1.00582003593445, 0, 0, 1.03276002407074, 0.744589984416962, \n . 0, 0.884769976139069, 0, 0.939469993114471, 0, 1.00440001487732, \n . 1.00080001354218, 0.922670006752014, 0, 0.830529987812042, 0, \n . 0.988229990005493, 1.02479994297028, 0, 0, 0, 0, 1.03354001045227, \n . 0.969640016555786, 0.999790012836456, 1.00556004047394, 1.00119996070862, \n . 0, 0.987249970436096, 0, 0, 0, 0, 0.993470013141632, 0, 0, 1.02172005176544, \n . 0.966489970684052, 0, 0.836749970912933, 0, 0, 0.998870015144348, \n . 0, 1.04718005657196, 1.00144994258881, 0, 0.888390004634857, \n . 0, 0, 1.02590000629425, 0, 0, 0, 1.01249003410339, 0, 0.998910009860992, \n . 0, 0.989939987659454, 0), mori = c(9.5, 12.4, 21.6, 32.3, 92.8, \n . 27, 90.7, 27.6, 77.5, 117.7, 14.2, 65.1, 49.3, 87.6, 82.4, 28.8, \n . 41.9, 55.3, 53.1, 53.7, 101.1, 30.3, 17.4, 36.3, 24.8, 44.6, \n . 19.2, 86.4, 52.3, 43.9, 8.2, 75.3, 14.7, 22.2, 77, 46.4, 43.3, \n . 31.9, 17.3, 120, 69.4, 46.3, 13.7, 28, 35.9, 30.9, 47, 113.5, \n . 35, 51.8, 45.6, 69.1, 10.7, 42.4, 48, 8.6, 20.4, 58.5, 63.3, \n . 55.9), rifr = c(9361.54604018783, 2329.18331885022, 823.520684373596, \n . 657.603870739053, 921.683398352281, 27115.5149526653, 651.269475301882, \n . 7533.06773127361, 11112.8999397339, 998.883048974637, 43856.2020357292, \n . 1474.39709445479, 43438.2595580803, 11056.6789441668, 3144.35181482992, \n . 2235.29983598606, 820.418817946427, 2347.18200351544, 1146.61628271813, \n . 1355.07842742245, 18727.9278732805, 310879.091252688, 9615.00424275584, \n . 1080.18560233086, 7629.06248238448, 412.174290467347, 7894.22735632926, \n . 42533.0290236884, 13179.2289095185, 913.399123725401, 60.4348894645872, \n . 93.4017719250152, 587.988057309236, 815.035001256559, 3500.99394369934, \n . 18788.9004467581, 2563.88591873064, 7174.10903863898, 24464.1420987634, \n . 1157.83604759704, 264.554481642867, 94927.3817380813, 52187.5238616402, \n . 4554.38941212284, 792.926296165317, 10526.8749185133, 1673.21891845075, \n . 21366.2915502593, 785.958693554898, 1536.66296733351, 6607.62301721038, \n . 1493.80234397072, 2798.94826621307, 244.022363911507, 947.465123869525, \n . 1229.05654741956, 3799.28919675605, 75.4450693252168, 4758.60239017122, \n . 861.151899538834), cotw = c(59.9514563106796, 27.7777777777778, \n . 24.4884702825593, 14.19624217119, 67.595818815331, 40.7103825136612, \n . NA, 63.6065573770492, 53.8079470198676, NA, 41.2, NA, 76.5151515151515, \n . 96.7811158798283, 31.1229946524064, 26.3239875389408, 30.3571428571429, \n . NA, 46.8784227820372, NA, NA, NA, 39.5428571428571, 11.4786078913882, \n . 30.8065883215357, 52.8744939271255, 27.7511961722488, NA, NA, \n . NA, NA, NA, 24.6896551724138, 28.8457917529655, 56.8475452196382, \n . 36.6053169734151, 55.4317548746518, 44.0134907251265, 41.6299559471366, \n . 35.3889627659575, 28.9310921923888, NA, 40.30131826742, 27.8340821230801, \n . NA, NA, 38.8535031847134, NA, 12.0492946475524, 57.5699132111861, \n . NA, 77.3255813953488, 19.833284490899, 17.5522388059701, NA, \n . 11.4103322905217, 22.2803712232224, 34.6298031865042, 35.1097178683386, \n . 22.2802436901654), moru = c(0.2, 0.2, 1.1, 11.9, 59.7, 5.6, 49.6, \n . 6.5, 45.2, 101, 0.8, 50.7, 38.7, 59.8, 47.2, 2.2, 45.6, 27.9, \n . 43.7, 29.7, 44.6, 3.6, 3.6, 18.6, 7.1, 51.2, 0.8, 41.5, 30.2, \n . 28.3, 0.3, 38.6, 0.1, 1.9, 27.6, 12.6, 18.3, 19.8, 2.2, 68.6, \n . 19.6, 16.3, 1.3, 4.2, 19.3, 11.4, 23.9, 81.3, 13.7, 38.4, 9.9, \n . 41.6, 0.3, 4, 31.6, 0.3, 1.6, 10.2, 34.9, 24.6)), class = \"data.frame\", row.names = c(2L, \n . 4L, 5L, 6L, 7L, 8L, 9L, 11L, 12L, 13L, 14L, 15L, 16L, 17L, 18L, \n . 19L, 21L, 22L, 23L, 25L, 28L, 29L, 31L, 32L, 33L, 35L, 36L, 38L, \n . 39L, 40L, 41L, 43L, 44L, 45L, 46L, 47L, 48L, 49L, 50L, 52L, 53L, \n . 54L, 55L, 56L, 57L, 58L, 59L, 60L, 61L, 63L, 64L, 65L, 66L, 67L, \n . 68L, 69L, 70L, 71L, 72L, 73L), terms = clusters ~ Country + bicy + \n .     cart + mcyc + pcar + boat + wigc + upop + popd + land + lita + \n .     lity + mori + rifr + cotw + moru))",
      "9. (new(\"standardGeneric\", .Data = function (object, ...) \n . standardGeneric(\"na.fail\"), generic = structure(\"na.fail\", package = \"stats\"), \n .     package = \"stats\", group = list(), valueClass = character(0), \n .     signature = \"object\", default = new(\"derivedDefaultMethod\", \n .         .Data = function (object, ...) \n .         UseMethod(\"na.fail\"), target = new(\"signature\", .Data = \"ANY\", \n .             names = \"object\", package = \"methods\"), defined = new(\"signature\", \n .             .Data = \"ANY\", names = \"object\", package = \"methods\"), \n .         generic = structure(\"na.fail\", package = \"stats\")), skeleton = (new(\"derivedDefaultMethod\", \n .         .Data = function (object, ...) \n .         UseMethod(\"na.fail\"), target = new(\"signature\", .Data = \"ANY\", \n .             names = \"object\", package = \"methods\"), defined = new(\"signature\", \n .             .Data = \"ANY\", names = \"object\", package = \"methods\"), \n .         generic = structure(\"na.fail\", package = \"stats\")))(object, \n .         ...)))(structure(list(clusters = structure(c(2L, 2L, \n . 3L, 1L, 1L, 3L, 1L, 4L, 1L, 1L, 2L, 3L, 1L, 1L, 1L, 4L, 1L, 1L, \n . 1L, 1L, 1L, 4L, 2L, 1L, 4L, 3L, 3L, 1L, 1L, 1L, 4L, 1L, 2L, 2L, \n . 1L, 1L, 3L, 1L, 3L, 1L, 1L, 1L, 2L, 4L, 1L, 1L, 3L, 1L, 3L, 1L, \n . 3L, 1L, 2L, 3L, 1L, 2L, 3L, 4L, 1L, 1L), .Label = c(\"1\", \"2\", \n . \"3\", \"4\"), class = \"factor\"), Country = c(\"Albania\", \"Armenia\", \n . \"Azerbaijan\", \"Bangladesh\", \"Benin\", \"Bolivia\", \"Burkina Faso\", \n . \"Cambodia\", \"Cameroon\", \"Chad\", \"Colombia\", \"Comoros\", \"Congo\", \n . \"Congo Democratic Republic\", \"Cote d'Ivoire\", \"Dominican Republic\", \n . \"Eritrea\", \"Eswatini\", \"Ethiopia\", \"Gambia\", \"Guinea\", \"Guyana\", \n . \"Honduras\", \"India\", \"Indonesia\", \"Kenya\", \"Kyrgyz Republic\", \n . \"Liberia\", \"Madagascar\", \"Malawi\", \"Maldives\", \"Mauritania\", \n . \"Moldova\", \"Morocco\", \"Mozambique\", \"Myanmar\", \"Namibia\", \"Nepal\", \n . \"Nicaragua\", \"Nigeria\", \"Pakistan\", \"Papua New Guinea\", \"Peru\", \n . \"Philippines\", \"Rwanda\", \"Sao Tome and Principe\", \"Senegal\", \n . \"Sierra Leone\", \"South Africa\", \"Tanzania\", \"Timor-Leste\", \"Togo\", \n . \"Turkey\", \"Turkmenistan\", \"Uganda\", \"Ukraine\", \"Vietnam\", \"Yemen\", \n . \"Zambia\", \"Zimbabwe\"), bicy = c(26.4, 8.6, 6.9, 25.1, 19.4, 36.6, \n . 82, 64.2, 10.7, 26.1, 33.5, 5.1, 5.3, 24.1, 39.2, 2.4, 10.5, \n . 9.5, 2.3, 47, 23.4, 52.1, 33.3, 52.1, 39.3, 19.9, 24.4, 3, 17.6, \n . 35.7, 41.3, 0, 27.2, 25.4, 28.8, 42.2, 13.5, 37.3, 25.7, 12.5, \n . 20.3, 10.3, 17.6, 19.4, 12.1, 13.6, 12.7, 7.3, 7.8, 38.8, 14.6, \n . 25.4, 0, 13.1, 31.8, 40.4, 77.4, 10.5, 37.8, 23.2), cart = c(3.2, \n . 0.4, 3.3, 0, 3.2, 0, 38.6, 12.3, 1.3, 10.6, 0, 0.4, 0, 0.1, 1.6, \n . 0, 0, 2.1, 1.6, 15.7, 2.7, 1.1, 1.4, 3.6, 0.2, 2.2, 8.9, 0, 8.6, \n . 2, 0, 0, 0, 0, 1.3, 16, 7, 3, 0, 3.1, 8.5, 0.4, 1, 1.9, 0, 0, \n . 24.1, 0.3, 1.1, 3.3, 0.8, 1.1, 0, 0, 0.6, 2.1, 4.2, 1.3, 4.7, \n . 20.7), mcyc = c(9.6, 0.2, 1.1, 6.4, 56.1, 6.5, 58.2, 68, 21.4, \n . 15.9, 26.9, 5.5, 4.8, 5.1, 19.3, 28.7, 0.2, 0.9, 1.1, 7.1, 26.6, \n . 8.9, 10.2, 37.7, 78.7, 9.5, 1.2, 6.8, 4.7, 2.8, 59.9, 0, 5.8, \n . 11.3, 9.5, 50.2, 1.8, 18.6, 2.1, 27.5, 54.1, 0.6, 12.8, 35.6, \n . 1.5, 7.3, 12.5, 10.3, 2.4, 11.2, 31.8, 36.8, 6.7, 17.8, 12.6, \n . 8.9, 55.9, 12.7, 2.6, 1.7), pcar = c(37, 39.2, 20.4, 0.8, 4.2, \n . 15.6, 3, 14.1, 6.7, 2, 17.1, 11.5, 4.1, 1.4, 3.3, 18.5, 3.3, \n . 18.5, 0.8, 11.2, 7.2, 17.2, 19.6, 6, 12.6, 6.2, 46.2, 5, 1.4, \n . 2.2, 5.3, 7.5, 22.5, 14.1, 4.3, 5.1, 26.7, 3.3, 10, 9.3, 9.8, \n . 5.1, 10.4, 9.9, 1.3, 5.7, 9, 2.4, 28.7, 2.9, 4.9, 3.9, 37.6, \n . 29, 3.2, 26.4, 1, 20.9, 6.7, 12.2), boat = c(0.7, 0.3, 0.1, 0, \n . 0.2, 0, 0, 4.1, 0.2, 0.1, 0, 1, 0.3, 0, 0, 0, 0, 0, 0.2, 0.4, \n . 0.2, 3.7, 0.4, 0, 0.8, 0.4, 0.1, 0, 0.4, 0.3, 3.5, 0, 0, 0, 0.4, \n . 0.9, 0.5, 0, 0, 0.6, 0.1, 2.2, 0.3, 1.7, 0, 0.4, 1.7, 0.7, 0.6, \n . 0.4, 0.6, 0.2, 0, 0, 0.5, 1.3, 5.9, 0.8, 0.3, 0.5), wigc = c(0.1, \n . 0.1, 0, 0.3, 0.3, 0, 0.2, 0.2, 0.4, 0.1, 0.1, 0.2, 0.3, 0.4, \n . 0.3, 0.2, 0, 0, 0.2, 0.2, 0.4, 0, 0.3, 0.2, 0.1, 0.3, 0.2, 0.2, \n . 0.2, 0.5, 0, 0, 0, 0, 0.4, 0.3, 0.4, 0.3, 0, 0.3, 0.3, 0.5, 0, \n . 0.2, 0.3, 0, 0.3, 0.3, 0.2, 0.3, 0.2, 0.5, 0.2, 0, 0.3, 0, 0, \n . 0.2, 0.4, 0.4), upop = c(60.319, 63.149, 55.68, 36.632, 47.312, \n . 69.425, 29.358, 23.388, 56.374, 23.059, 80.778, 28.965, 66.916, \n . 44.46, 50.779, 81.074, 0, 23.799, 20.763, 61.27, 36.14, 26.606, \n . 57.096, 34.03, 55.325, 27.03, 36.351, 51.151, 37.191, 16.937, \n . 39.808, 53.672, 42.629, 62.453, 35.988, 30.579, 50.032, 19.74, \n . 58.522, 50.344, 36.666, 13.169, 77.907, 46.907, 17.211, 72.803, \n . 47.192, 42.055, 66.355, 33.776, 30.578, 41.702, 75.143, 51.593, \n . 23.774, 69.352, 35.919, 36.642, 43.521, 32.209), popd = c(104.612262773723, \n . 103.680224798033, 120.23431716463, 1239.57931166936, 101.853919829727, \n . 10.4801458506416, 72.1912828947368, 92.0564128710628, 53.3439889149796, \n . 12.2917336404066, 44.7598521856692, 447.244477540227, 15.3568462664715, \n . 37.0825923557045, 78.8340534591195, 219.97857586421, 0, 66.0576162790698, \n . 109.224559, 225.30652173913, 50.5222122741332, 3.95734823469647, \n . 85.6870319063366, 454.938072575247, 147.75219008926, 90.2994166637383, \n . 32.9655891553702, 50.0309073920266, 45.1398556204881, 192.440761561307, \n . 1718.98666666667, 4.27216357815077, 94.2644302783293, 80.7285189334528, \n . 37.508535313716, 82.2386154835549, 2.97374558175127, 195.939107080572, \n . 53.7270483629716, 215.064988965381, 275.289318700706, 19.0043633794109, \n . 24.99160625, 357.688305329175, 498.659870287799, 219.820833333333, \n . 82.3474783150678, 105.987170961485, 47.6301197767684, 63.5790787988259, \n . 85.270477471419, 145.046773303916, 106.960128893104, 12.4505947694337, \n . 213.061734490325, 77.0296708039151, 308.125245912213, 53.9778529083092, \n . 23.3414789007116, 37.3245909267158), land = c(27400, 28470, 82670, \n . 130170, 112760, 1083300, 273600, 176520, 472710, 1259200, 1109500, \n . 1861.00006103516, 341500, 2267050, 318000, 48310, 101000, 17200, \n . 1e+06, 10120, 245720, 196850, 111890, 2973190, 1811570, 569140, \n . 191800, 96320, 581800, 94280, 300, 1030700, 32890, 446300, 786380, \n . 653080, 823290, 143350, 120340, 910770, 770880, 452860, 1280000, \n . 298170, 24670, 960, 192530, 72180, 1213090, 885800, 14870, 54390, \n . 769630, 469930, 200520, 579290, 310070, 527970, 743390, 386850\n . ), lita = c(98.1411514282227, 0, 0, 73.9122009277344, 42.3624000549316, \n . 0, 41.2244491577148, 0, 77.0710372924805, 0, 95.0925064086914, \n . 58.8170204162598, 80.2987594604492, 0, 47.1653518676758, 0, 76.5705184936523, \n . 88.4193801879883, 0, 0, 0, 0, 87.2052383422852, 74.3729934692383, \n . 95.658561706543, 81.5349731445313, 99.5859985351563, 0, 74.8043212890625, \n . 0, 0, 0, 0, 73.7500076293945, 0, 0, 91.5272674560547, 67.9084320068359, \n . 0, 62.0160102844238, 0, 0, 94.4082717895508, 0, 73.2155914306641, \n . 92.8166427612305, 0, 43.2063293457031, 0, 0, 68.0668334960938, \n . 0, 0, 0, 76.5274963378906, 0, 95.0003814697266, 0, 86.7479629516602, \n . 0), lity = c(1.00582003593445, 0, 0, 1.03276002407074, 0.744589984416962, \n . 0, 0.884769976139069, 0, 0.939469993114471, 0, 1.00440001487732, \n . 1.00080001354218, 0.922670006752014, 0, 0.830529987812042, 0, \n . 0.988229990005493, 1.02479994297028, 0, 0, 0, 0, 1.03354001045227, \n . 0.969640016555786, 0.999790012836456, 1.00556004047394, 1.00119996070862, \n . 0, 0.987249970436096, 0, 0, 0, 0, 0.993470013141632, 0, 0, 1.02172005176544, \n . 0.966489970684052, 0, 0.836749970912933, 0, 0, 0.998870015144348, \n . 0, 1.04718005657196, 1.00144994258881, 0, 0.888390004634857, \n . 0, 0, 1.02590000629425, 0, 0, 0, 1.01249003410339, 0, 0.998910009860992, \n . 0, 0.989939987659454, 0), mori = c(9.5, 12.4, 21.6, 32.3, 92.8, \n . 27, 90.7, 27.6, 77.5, 117.7, 14.2, 65.1, 49.3, 87.6, 82.4, 28.8, \n . 41.9, 55.3, 53.1, 53.7, 101.1, 30.3, 17.4, 36.3, 24.8, 44.6, \n . 19.2, 86.4, 52.3, 43.9, 8.2, 75.3, 14.7, 22.2, 77, 46.4, 43.3, \n . 31.9, 17.3, 120, 69.4, 46.3, 13.7, 28, 35.9, 30.9, 47, 113.5, \n . 35, 51.8, 45.6, 69.1, 10.7, 42.4, 48, 8.6, 20.4, 58.5, 63.3, \n . 55.9), rifr = c(9361.54604018783, 2329.18331885022, 823.520684373596, \n . 657.603870739053, 921.683398352281, 27115.5149526653, 651.269475301882, \n . 7533.06773127361, 11112.8999397339, 998.883048974637, 43856.2020357292, \n . 1474.39709445479, 43438.2595580803, 11056.6789441668, 3144.35181482992, \n . 2235.29983598606, 820.418817946427, 2347.18200351544, 1146.61628271813, \n . 1355.07842742245, 18727.9278732805, 310879.091252688, 9615.00424275584, \n . 1080.18560233086, 7629.06248238448, 412.174290467347, 7894.22735632926, \n . 42533.0290236884, 13179.2289095185, 913.399123725401, 60.4348894645872, \n . 93.4017719250152, 587.988057309236, 815.035001256559, 3500.99394369934, \n . 18788.9004467581, 2563.88591873064, 7174.10903863898, 24464.1420987634, \n . 1157.83604759704, 264.554481642867, 94927.3817380813, 52187.5238616402, \n . 4554.38941212284, 792.926296165317, 10526.8749185133, 1673.21891845075, \n . 21366.2915502593, 785.958693554898, 1536.66296733351, 6607.62301721038, \n . 1493.80234397072, 2798.94826621307, 244.022363911507, 947.465123869525, \n . 1229.05654741956, 3799.28919675605, 75.4450693252168, 4758.60239017122, \n . 861.151899538834), cotw = c(59.9514563106796, 27.7777777777778, \n . 24.4884702825593, 14.19624217119, 67.595818815331, 40.7103825136612, \n . NA, 63.6065573770492, 53.8079470198676, NA, 41.2, NA, 76.5151515151515, \n . 96.7811158798283, 31.1229946524064, 26.3239875389408, 30.3571428571429, \n . NA, 46.8784227820372, NA, NA, NA, 39.5428571428571, 11.4786078913882, \n . 30.8065883215357, 52.8744939271255, 27.7511961722488, NA, NA, \n . NA, NA, NA, 24.6896551724138, 28.8457917529655, 56.8475452196382, \n . 36.6053169734151, 55.4317548746518, 44.0134907251265, 41.6299559471366, \n . 35.3889627659575, 28.9310921923888, NA, 40.30131826742, 27.8340821230801, \n . NA, NA, 38.8535031847134, NA, 12.0492946475524, 57.5699132111861, \n . NA, 77.3255813953488, 19.833284490899, 17.5522388059701, NA, \n . 11.4103322905217, 22.2803712232224, 34.6298031865042, 35.1097178683386, \n . 22.2802436901654), moru = c(0.2, 0.2, 1.1, 11.9, 59.7, 5.6, 49.6, \n . 6.5, 45.2, 101, 0.8, 50.7, 38.7, 59.8, 47.2, 2.2, 45.6, 27.9, \n . 43.7, 29.7, 44.6, 3.6, 3.6, 18.6, 7.1, 51.2, 0.8, 41.5, 30.2, \n . 28.3, 0.3, 38.6, 0.1, 1.9, 27.6, 12.6, 18.3, 19.8, 2.2, 68.6, \n . 19.6, 16.3, 1.3, 4.2, 19.3, 11.4, 23.9, 81.3, 13.7, 38.4, 9.9, \n . 41.6, 0.3, 4, 31.6, 0.3, 1.6, 10.2, 34.9, 24.6)), class = \"data.frame\", row.names = c(2L, \n . 4L, 5L, 6L, 7L, 8L, 9L, 11L, 12L, 13L, 14L, 15L, 16L, 17L, 18L, \n . 19L, 21L, 22L, 23L, 25L, 28L, 29L, 31L, 32L, 33L, 35L, 36L, 38L, \n . 39L, 40L, 41L, 43L, 44L, 45L, 46L, 47L, 48L, 49L, 50L, 52L, 53L, \n . 54L, 55L, 56L, 57L, 58L, 59L, 60L, 61L, 63L, 64L, 65L, 66L, 67L, \n . 68L, 69L, 70L, 71L, 72L, 73L), terms = clusters ~ Country + bicy + \n .     cart + mcyc + pcar + boat + wigc + upop + popd + land + lita + \n .     lity + mori + rifr + cotw + moru))",
      "10. na.fail.default(structure(list(clusters = structure(c(2L, 2L, \n  . 3L, 1L, 1L, 3L, 1L, 4L, 1L, 1L, 2L, 3L, 1L, 1L, 1L, 4L, 1L, 1L, \n  . 1L, 1L, 1L, 4L, 2L, 1L, 4L, 3L, 3L, 1L, 1L, 1L, 4L, 1L, 2L, 2L, \n  . 1L, 1L, 3L, 1L, 3L, 1L, 1L, 1L, 2L, 4L, 1L, 1L, 3L, 1L, 3L, 1L, \n  . 3L, 1L, 2L, 3L, 1L, 2L, 3L, 4L, 1L, 1L), .Label = c(\"1\", \"2\", \n  . \"3\", \"4\"), class = \"factor\"), Country = c(\"Albania\", \"Armenia\", \n  . \"Azerbaijan\", \"Bangladesh\", \"Benin\", \"Bolivia\", \"Burkina Faso\", \n  . \"Cambodia\", \"Cameroon\", \"Chad\", \"Colombia\", \"Comoros\", \"Congo\", \n  . \"Congo Democratic Republic\", \"Cote d'Ivoire\", \"Dominican Republic\", \n  . \"Eritrea\", \"Eswatini\", \"Ethiopia\", \"Gambia\", \"Guinea\", \"Guyana\", \n  . \"Honduras\", \"India\", \"Indonesia\", \"Kenya\", \"Kyrgyz Republic\", \n  . \"Liberia\", \"Madagascar\", \"Malawi\", \"Maldives\", \"Mauritania\", \n  . \"Moldova\", \"Morocco\", \"Mozambique\", \"Myanmar\", \"Namibia\", \"Nepal\", \n  . \"Nicaragua\", \"Nigeria\", \"Pakistan\", \"Papua New Guinea\", \"Peru\", \n  . \"Philippines\", \"Rwanda\", \"Sao Tome and Principe\", \"Senegal\", \n  . \"Sierra Leone\", \"South Africa\", \"Tanzania\", \"Timor-Leste\", \"Togo\", \n  . \"Turkey\", \"Turkmenistan\", \"Uganda\", \"Ukraine\", \"Vietnam\", \"Yemen\", \n  . \"Zambia\", \"Zimbabwe\"), bicy = c(26.4, 8.6, 6.9, 25.1, 19.4, 36.6, \n  . 82, 64.2, 10.7, 26.1, 33.5, 5.1, 5.3, 24.1, 39.2, 2.4, 10.5, \n  . 9.5, 2.3, 47, 23.4, 52.1, 33.3, 52.1, 39.3, 19.9, 24.4, 3, 17.6, \n  . 35.7, 41.3, 0, 27.2, 25.4, 28.8, 42.2, 13.5, 37.3, 25.7, 12.5, \n  . 20.3, 10.3, 17.6, 19.4, 12.1, 13.6, 12.7, 7.3, 7.8, 38.8, 14.6, \n  . 25.4, 0, 13.1, 31.8, 40.4, 77.4, 10.5, 37.8, 23.2), cart = c(3.2, \n  . 0.4, 3.3, 0, 3.2, 0, 38.6, 12.3, 1.3, 10.6, 0, 0.4, 0, 0.1, 1.6, \n  . 0, 0, 2.1, 1.6, 15.7, 2.7, 1.1, 1.4, 3.6, 0.2, 2.2, 8.9, 0, 8.6, \n  . 2, 0, 0, 0, 0, 1.3, 16, 7, 3, 0, 3.1, 8.5, 0.4, 1, 1.9, 0, 0, \n  . 24.1, 0.3, 1.1, 3.3, 0.8, 1.1, 0, 0, 0.6, 2.1, 4.2, 1.3, 4.7, \n  . 20.7), mcyc = c(9.6, 0.2, 1.1, 6.4, 56.1, 6.5, 58.2, 68, 21.4, \n  . 15.9, 26.9, 5.5, 4.8, 5.1, 19.3, 28.7, 0.2, 0.9, 1.1, 7.1, 26.6, \n  . 8.9, 10.2, 37.7, 78.7, 9.5, 1.2, 6.8, 4.7, 2.8, 59.9, 0, 5.8, \n  . 11.3, 9.5, 50.2, 1.8, 18.6, 2.1, 27.5, 54.1, 0.6, 12.8, 35.6, \n  . 1.5, 7.3, 12.5, 10.3, 2.4, 11.2, 31.8, 36.8, 6.7, 17.8, 12.6, \n  . 8.9, 55.9, 12.7, 2.6, 1.7), pcar = c(37, 39.2, 20.4, 0.8, 4.2, \n  . 15.6, 3, 14.1, 6.7, 2, 17.1, 11.5, 4.1, 1.4, 3.3, 18.5, 3.3, \n  . 18.5, 0.8, 11.2, 7.2, 17.2, 19.6, 6, 12.6, 6.2, 46.2, 5, 1.4, \n  . 2.2, 5.3, 7.5, 22.5, 14.1, 4.3, 5.1, 26.7, 3.3, 10, 9.3, 9.8, \n  . 5.1, 10.4, 9.9, 1.3, 5.7, 9, 2.4, 28.7, 2.9, 4.9, 3.9, 37.6, \n  . 29, 3.2, 26.4, 1, 20.9, 6.7, 12.2), boat = c(0.7, 0.3, 0.1, 0, \n  . 0.2, 0, 0, 4.1, 0.2, 0.1, 0, 1, 0.3, 0, 0, 0, 0, 0, 0.2, 0.4, \n  . 0.2, 3.7, 0.4, 0, 0.8, 0.4, 0.1, 0, 0.4, 0.3, 3.5, 0, 0, 0, 0.4, \n  . 0.9, 0.5, 0, 0, 0.6, 0.1, 2.2, 0.3, 1.7, 0, 0.4, 1.7, 0.7, 0.6, \n  . 0.4, 0.6, 0.2, 0, 0, 0.5, 1.3, 5.9, 0.8, 0.3, 0.5), wigc = c(0.1, \n  . 0.1, 0, 0.3, 0.3, 0, 0.2, 0.2, 0.4, 0.1, 0.1, 0.2, 0.3, 0.4, \n  . 0.3, 0.2, 0, 0, 0.2, 0.2, 0.4, 0, 0.3, 0.2, 0.1, 0.3, 0.2, 0.2, \n  . 0.2, 0.5, 0, 0, 0, 0, 0.4, 0.3, 0.4, 0.3, 0, 0.3, 0.3, 0.5, 0, \n  . 0.2, 0.3, 0, 0.3, 0.3, 0.2, 0.3, 0.2, 0.5, 0.2, 0, 0.3, 0, 0, \n  . 0.2, 0.4, 0.4), upop = c(60.319, 63.149, 55.68, 36.632, 47.312, \n  . 69.425, 29.358, 23.388, 56.374, 23.059, 80.778, 28.965, 66.916, \n  . 44.46, 50.779, 81.074, 0, 23.799, 20.763, 61.27, 36.14, 26.606, \n  . 57.096, 34.03, 55.325, 27.03, 36.351, 51.151, 37.191, 16.937, \n  . 39.808, 53.672, 42.629, 62.453, 35.988, 30.579, 50.032, 19.74, \n  . 58.522, 50.344, 36.666, 13.169, 77.907, 46.907, 17.211, 72.803, \n  . 47.192, 42.055, 66.355, 33.776, 30.578, 41.702, 75.143, 51.593, \n  . 23.774, 69.352, 35.919, 36.642, 43.521, 32.209), popd = c(104.612262773723, \n  . 103.680224798033, 120.23431716463, 1239.57931166936, 101.853919829727, \n  . 10.4801458506416, 72.1912828947368, 92.0564128710628, 53.3439889149796, \n  . 12.2917336404066, 44.7598521856692, 447.244477540227, 15.3568462664715, \n  . 37.0825923557045, 78.8340534591195, 219.97857586421, 0, 66.0576162790698, \n  . 109.224559, 225.30652173913, 50.5222122741332, 3.95734823469647, \n  . 85.6870319063366, 454.938072575247, 147.75219008926, 90.2994166637383, \n  . 32.9655891553702, 50.0309073920266, 45.1398556204881, 192.440761561307, \n  . 1718.98666666667, 4.27216357815077, 94.2644302783293, 80.7285189334528, \n  . 37.508535313716, 82.2386154835549, 2.97374558175127, 195.939107080572, \n  . 53.7270483629716, 215.064988965381, 275.289318700706, 19.0043633794109, \n  . 24.99160625, 357.688305329175, 498.659870287799, 219.820833333333, \n  . 82.3474783150678, 105.987170961485, 47.6301197767684, 63.5790787988259, \n  . 85.270477471419, 145.046773303916, 106.960128893104, 12.4505947694337, \n  . 213.061734490325, 77.0296708039151, 308.125245912213, 53.9778529083092, \n  . 23.3414789007116, 37.3245909267158), land = c(27400, 28470, 82670, \n  . 130170, 112760, 1083300, 273600, 176520, 472710, 1259200, 1109500, \n  . 1861.00006103516, 341500, 2267050, 318000, 48310, 101000, 17200, \n  . 1e+06, 10120, 245720, 196850, 111890, 2973190, 1811570, 569140, \n  . 191800, 96320, 581800, 94280, 300, 1030700, 32890, 446300, 786380, \n  . 653080, 823290, 143350, 120340, 910770, 770880, 452860, 1280000, \n  . 298170, 24670, 960, 192530, 72180, 1213090, 885800, 14870, 54390, \n  . 769630, 469930, 200520, 579290, 310070, 527970, 743390, 386850\n  . ), lita = c(98.1411514282227, 0, 0, 73.9122009277344, 42.3624000549316, \n  . 0, 41.2244491577148, 0, 77.0710372924805, 0, 95.0925064086914, \n  . 58.8170204162598, 80.2987594604492, 0, 47.1653518676758, 0, 76.5705184936523, \n  . 88.4193801879883, 0, 0, 0, 0, 87.2052383422852, 74.3729934692383, \n  . 95.658561706543, 81.5349731445313, 99.5859985351563, 0, 74.8043212890625, \n  . 0, 0, 0, 0, 73.7500076293945, 0, 0, 91.5272674560547, 67.9084320068359, \n  . 0, 62.0160102844238, 0, 0, 94.4082717895508, 0, 73.2155914306641, \n  . 92.8166427612305, 0, 43.2063293457031, 0, 0, 68.0668334960938, \n  . 0, 0, 0, 76.5274963378906, 0, 95.0003814697266, 0, 86.7479629516602, \n  . 0), lity = c(1.00582003593445, 0, 0, 1.03276002407074, 0.744589984416962, \n  . 0, 0.884769976139069, 0, 0.939469993114471, 0, 1.00440001487732, \n  . 1.00080001354218, 0.922670006752014, 0, 0.830529987812042, 0, \n  . 0.988229990005493, 1.02479994297028, 0, 0, 0, 0, 1.03354001045227, \n  . 0.969640016555786, 0.999790012836456, 1.00556004047394, 1.00119996070862, \n  . 0, 0.987249970436096, 0, 0, 0, 0, 0.993470013141632, 0, 0, 1.02172005176544, \n  . 0.966489970684052, 0, 0.836749970912933, 0, 0, 0.998870015144348, \n  . 0, 1.04718005657196, 1.00144994258881, 0, 0.888390004634857, \n  . 0, 0, 1.02590000629425, 0, 0, 0, 1.01249003410339, 0, 0.998910009860992, \n  . 0, 0.989939987659454, 0), mori = c(9.5, 12.4, 21.6, 32.3, 92.8, \n  . 27, 90.7, 27.6, 77.5, 117.7, 14.2, 65.1, 49.3, 87.6, 82.4, 28.8, \n  . 41.9, 55.3, 53.1, 53.7, 101.1, 30.3, 17.4, 36.3, 24.8, 44.6, \n  . 19.2, 86.4, 52.3, 43.9, 8.2, 75.3, 14.7, 22.2, 77, 46.4, 43.3, \n  . 31.9, 17.3, 120, 69.4, 46.3, 13.7, 28, 35.9, 30.9, 47, 113.5, \n  . 35, 51.8, 45.6, 69.1, 10.7, 42.4, 48, 8.6, 20.4, 58.5, 63.3, \n  . 55.9), rifr = c(9361.54604018783, 2329.18331885022, 823.520684373596, \n  . 657.603870739053, 921.683398352281, 27115.5149526653, 651.269475301882, \n  . 7533.06773127361, 11112.8999397339, 998.883048974637, 43856.2020357292, \n  . 1474.39709445479, 43438.2595580803, 11056.6789441668, 3144.35181482992, \n  . 2235.29983598606, 820.418817946427, 2347.18200351544, 1146.61628271813, \n  . 1355.07842742245, 18727.9278732805, 310879.091252688, 9615.00424275584, \n  . 1080.18560233086, 7629.06248238448, 412.174290467347, 7894.22735632926, \n  . 42533.0290236884, 13179.2289095185, 913.399123725401, 60.4348894645872, \n  . 93.4017719250152, 587.988057309236, 815.035001256559, 3500.99394369934, \n  . 18788.9004467581, 2563.88591873064, 7174.10903863898, 24464.1420987634, \n  . 1157.83604759704, 264.554481642867, 94927.3817380813, 52187.5238616402, \n  . 4554.38941212284, 792.926296165317, 10526.8749185133, 1673.21891845075, \n  . 21366.2915502593, 785.958693554898, 1536.66296733351, 6607.62301721038, \n  . 1493.80234397072, 2798.94826621307, 244.022363911507, 947.465123869525, \n  . 1229.05654741956, 3799.28919675605, 75.4450693252168, 4758.60239017122, \n  . 861.151899538834), cotw = c(59.9514563106796, 27.7777777777778, \n  . 24.4884702825593, 14.19624217119, 67.595818815331, 40.7103825136612, \n  . NA, 63.6065573770492, 53.8079470198676, NA, 41.2, NA, 76.5151515151515, \n  . 96.7811158798283, 31.1229946524064, 26.3239875389408, 30.3571428571429, \n  . NA, 46.8784227820372, NA, NA, NA, 39.5428571428571, 11.4786078913882, \n  . 30.8065883215357, 52.8744939271255, 27.7511961722488, NA, NA, \n  . NA, NA, NA, 24.6896551724138, 28.8457917529655, 56.8475452196382, \n  . 36.6053169734151, 55.4317548746518, 44.0134907251265, 41.6299559471366, \n  . 35.3889627659575, 28.9310921923888, NA, 40.30131826742, 27.8340821230801, \n  . NA, NA, 38.8535031847134, NA, 12.0492946475524, 57.5699132111861, \n  . NA, 77.3255813953488, 19.833284490899, 17.5522388059701, NA, \n  . 11.4103322905217, 22.2803712232224, 34.6298031865042, 35.1097178683386, \n  . 22.2802436901654), moru = c(0.2, 0.2, 1.1, 11.9, 59.7, 5.6, 49.6, \n  . 6.5, 45.2, 101, 0.8, 50.7, 38.7, 59.8, 47.2, 2.2, 45.6, 27.9, \n  . 43.7, 29.7, 44.6, 3.6, 3.6, 18.6, 7.1, 51.2, 0.8, 41.5, 30.2, \n  . 28.3, 0.3, 38.6, 0.1, 1.9, 27.6, 12.6, 18.3, 19.8, 2.2, 68.6, \n  . 19.6, 16.3, 1.3, 4.2, 19.3, 11.4, 23.9, 81.3, 13.7, 38.4, 9.9, \n  . 41.6, 0.3, 4, 31.6, 0.3, 1.6, 10.2, 34.9, 24.6)), class = \"data.frame\", row.names = c(2L, \n  . 4L, 5L, 6L, 7L, 8L, 9L, 11L, 12L, 13L, 14L, 15L, 16L, 17L, 18L, \n  . 19L, 21L, 22L, 23L, 25L, 28L, 29L, 31L, 32L, 33L, 35L, 36L, 38L, \n  . 39L, 40L, 41L, 43L, 44L, 45L, 46L, 47L, 48L, 49L, 50L, 52L, 53L, \n  . 54L, 55L, 56L, 57L, 58L, 59L, 60L, 61L, 63L, 64L, 65L, 66L, 67L, \n  . 68L, 69L, 70L, 71L, 72L, 73L), terms = clusters ~ Country + bicy + \n  .     cart + mcyc + pcar + boat + wigc + upop + popd + land + lita + \n  .     lity + mori + rifr + cotw + moru))",
      "11. stop(\"missing values in object\")"
     ]
    }
   ],
   "source": [
    "# Fit the model on the training set\n",
    "set.seed(123)\n",
    "model2 <- train(\n",
    "  clusters ~., data = train.data, method = \"rpart\",\n",
    "  trControl = trainControl(\"cv\", number = 10),\n",
    "  tuneLength = 10\n",
    "  )\n",
    "# Plot model accuracy vs different values of\n",
    "# cp (complexity parameter)\n",
    "plot(model2)"
   ]
  },
  {
   "cell_type": "markdown",
   "metadata": {},
   "source": [
    "RMSE is computed as RMSE = mean((observeds - predicteds)^2) %>% sqrt(). The lower the RMSE, the better the model."
   ]
  },
  {
   "cell_type": "code",
   "execution_count": 12,
   "metadata": {},
   "outputs": [
    {
     "ename": "ERROR",
     "evalue": "Error in eval(expr, envir, enclos): object 'model2' not found\n",
     "output_type": "error",
     "traceback": [
      "Error in eval(expr, envir, enclos): object 'model2' not found\nTraceback:\n"
     ]
    }
   ],
   "source": [
    "# Print the best tuning parameter cp that\n",
    "# maximizes the model accuracy\n",
    "model2$bestTune"
   ]
  },
  {
   "cell_type": "code",
   "execution_count": null,
   "metadata": {},
   "outputs": [],
   "source": [
    "# Plot the final tree model\n",
    "par(xpd = NA) # Avoid clipping the text in some device\n",
    "plot(model2$finalModel)\n",
    "text(model2$finalModel,  digits = 3)"
   ]
  },
  {
   "cell_type": "code",
   "execution_count": null,
   "metadata": {},
   "outputs": [],
   "source": [
    "# Decision rules in the model\n",
    "model2$finalModel"
   ]
  },
  {
   "cell_type": "markdown",
   "metadata": {},
   "source": [
    "# Make predictions on the test data\n",
    "predicted.classes <- model2 %>% predict(test.data)\n",
    "# Compute model accuracy rate on test data\n",
    "mean(predicted.classes == test.data$Country)\n",
    "# Must understand what these function of codes actually implment. "
   ]
  },
  {
   "cell_type": "markdown",
   "metadata": {},
   "source": [
    "# Create the regression tree"
   ]
  },
  {
   "cell_type": "code",
   "execution_count": null,
   "metadata": {},
   "outputs": [],
   "source": [
    "# Fit the model on the training set\n",
    "set.seed(123)\n",
    "model <- train(\n",
    "  bicy ~., data = train.data, method = \"rpart\",\n",
    "  trControl = trainControl(\"cv\", number = 10),\n",
    "  tuneLength = 10\n",
    "  )\n",
    "# Plot model error vs different values of\n",
    "# cp (complexity parameter)\n",
    "plot(model)\n",
    "# Print the best tuning parameter cp that\n",
    "# minimize the model RMSE\n",
    "model$bestTune"
   ]
  },
  {
   "cell_type": "markdown",
   "metadata": {},
   "source": [
    "Here, the best cp value is the one that minimize the prediction error RMSE (root mean squared error)."
   ]
  },
  {
   "cell_type": "code",
   "execution_count": null,
   "metadata": {},
   "outputs": [],
   "source": [
    "# Plot the final tree model\n",
    "par(xpd = NA) # Avoid clipping the text in some device\n",
    "plot(model$finalModel)\n",
    "text(model$finalModel, digits = 3)"
   ]
  },
  {
   "cell_type": "markdown",
   "metadata": {},
   "source": [
    "# Decision rules in the model\n",
    "model$finalModel\n",
    "# Make predictions on the test data\n",
    "predictions <- model %>% predict(test.data)\n",
    "head(predictions)\n",
    "# Compute the prediction error RMSE\n",
    "RMSE(predictions, test.data$Country)"
   ]
  },
  {
   "cell_type": "markdown",
   "metadata": {},
   "source": [
    "# Conditionnal inference tree"
   ]
  },
  {
   "cell_type": "code",
   "execution_count": null,
   "metadata": {},
   "outputs": [],
   "source": [
    "set.seed(123)\n",
    "model <- train(\n",
    "  bicy ~., data = train.data, method = \"ctree2\",\n",
    "  trControl = trainControl(\"cv\", number = 10),\n",
    "  tuneGrid = expand.grid(maxdepth = 3, mincriterion = 0.95 )\n",
    "  )\n",
    "plot(model$finalModel)"
   ]
  },
  {
   "cell_type": "markdown",
   "metadata": {},
   "source": [
    "Reference: http://www.sthda.com/english/articles/35-statistical-machine-learning-essentials/141-cart-model-decision-tree-essentials/"
   ]
  },
  {
   "cell_type": "markdown",
   "metadata": {},
   "source": [
    "# Fitting Classification Trees"
   ]
  },
  {
   "cell_type": "markdown",
   "metadata": {},
   "source": [
    "Reference: https://static1.squarespace.com/static/5ff2adbe3fe4fe33db902812/t/6009dd9fa7bc363aa822d2c7/1611259312432/ISLR+Seventh+Printing.pdf (338)\n",
    "https://www.datacamp.com/community/tutorials/decision-trees-R\n",
    "Random Forest:\n",
    "https://cran.r-project.org/web/packages/randomForest/randomForest.pdf"
   ]
  },
  {
   "cell_type": "code",
   "execution_count": null,
   "metadata": {},
   "outputs": [],
   "source": [
    "names(df.exp)"
   ]
  },
  {
   "cell_type": "code",
   "execution_count": null,
   "metadata": {},
   "outputs": [],
   "source": [
    "hist(df.exp$cart)\n",
    "hist(df.exp$clusters)"
   ]
  },
  {
   "cell_type": "code",
   "execution_count": null,
   "metadata": {},
   "outputs": [],
   "source": [
    "#High = ifelse(df$acar <= 10 , \"No\", \"Yes\")\n",
    "#df = data.frame(df, High)"
   ]
  },
  {
   "cell_type": "code",
   "execution_count": null,
   "metadata": {},
   "outputs": [],
   "source": [
    "tree.wa = tree(clusters ~ . - Country  , data = df.exp)\n",
    "head(df.exp)\n",
    "# We must figure out the NAs introduced by coercion meaning before preceeding this sections"
   ]
  },
  {
   "cell_type": "code",
   "execution_count": null,
   "metadata": {},
   "outputs": [],
   "source": [
    "summary(tree.wa)"
   ]
  },
  {
   "cell_type": "code",
   "execution_count": null,
   "metadata": {},
   "outputs": [],
   "source": [
    "plot(tree.wa)\n",
    "text(tree.wa, pretty = 0)"
   ]
  },
  {
   "cell_type": "code",
   "execution_count": null,
   "metadata": {},
   "outputs": [],
   "source": [
    "tree.wa"
   ]
  },
  {
   "cell_type": "markdown",
   "metadata": {},
   "source": [
    "Training Session"
   ]
  },
  {
   "cell_type": "code",
   "execution_count": null,
   "metadata": {},
   "outputs": [],
   "source": [
    "set.seed(101)\n",
    "train=sample(1:nrow(df.exp), 59)"
   ]
  },
  {
   "cell_type": "code",
   "execution_count": null,
   "metadata": {},
   "outputs": [],
   "source": [
    "tree.wa = tree(clusters ~ . - Country  , data = df.exp)\n",
    "plot(tree.wa)\n",
    "text(tree.wa, pretty=0)"
   ]
  },
  {
   "cell_type": "markdown",
   "metadata": {},
   "source": [
    "tree.pred = predict(tree.wa, df.exp[-train,], type=\"class\")"
   ]
  },
  {
   "cell_type": "markdown",
   "metadata": {},
   "source": [
    "Finally, we use the data.frame() function to merge High with the rest of\n",
    "the borehole (bore) data."
   ]
  },
  {
   "cell_type": "markdown",
   "metadata": {},
   "source": [
    "set.seed(2)\n",
    "train=sample(1:nrow(df.exp), 78)\n",
    "df.test= df.exp[-train,]\n",
    "High.test= df.exp$clusters[-train]\n",
    "tree.df =tree(clusters ~ . - Country ,df.exp,subset=train)\n",
    "summary(tree.df)\n",
    "tree.pred=predict(tree.df,df.test,type=\"class\")\n",
    "table(tree.pred,High.test)\n",
    "plot(tree.df)\n",
    "# Unsure what trees cannot handle multiple responses mean"
   ]
  },
  {
   "cell_type": "markdown",
   "metadata": {},
   "source": [
    "# Random Forest"
   ]
  },
  {
   "cell_type": "markdown",
   "metadata": {},
   "source": [
    "To prepare data for random forest, let's set the seed and create a sample training set of 300 observations."
   ]
  },
  {
   "cell_type": "code",
   "execution_count": null,
   "metadata": {},
   "outputs": [],
   "source": [
    "set.seed(101)\n",
    "train = sample(1:nrow(df.exp), 73)\n",
    "head(train)"
   ]
  },
  {
   "cell_type": "code",
   "execution_count": null,
   "metadata": {},
   "outputs": [],
   "source": [
    "rf.water = randomForest(cart~., data = df.exp, subset = train)\n",
    "rf.water"
   ]
  },
  {
   "cell_type": "code",
   "execution_count": null,
   "metadata": {},
   "outputs": [],
   "source": [
    "oob.err = double(13)\n",
    "test.err = double(13)\n",
    "for(mtry in 1:13){\n",
    "  fit = randomForest(cart~., data = df.exp, subset=train, mtry=mtry, ntree = 350)\n",
    "  oob.err[mtry] = fit$mse[350]\n",
    "  pred = predict(fit, df.exp[-train,])\n",
    "  test.err[mtry] = with(df.exp[-train,], mean( (cart-pred)^2 ))\n",
    "}"
   ]
  },
  {
   "cell_type": "code",
   "execution_count": null,
   "metadata": {},
   "outputs": [],
   "source": [
    "matplot(1:mtry, cbind(test.err, oob.err), pch = 23, col = c(\"red\", \"blue\"), type = \"b\", ylab=\"Mean Squared Error\")\n",
    "legend(\"topright\", legend = c(\"OOB\", \"Test\"), pch = 23, col = c(\"red\", \"blue\"))"
   ]
  },
  {
   "cell_type": "markdown",
   "metadata": {},
   "source": [
    "Printing out the random forest gives its summary: the # of trees (500 were grown), the mean squared residuals (MSR), and the percentage of variance explained. The MSR and % variance explained are based on the out-of-bag estimates, a very clever device in random forests to get honest error estimates."
   ]
  }
 ],
 "metadata": {
  "kernelspec": {
   "display_name": "R",
   "language": "R",
   "name": "ir"
  },
  "language_info": {
   "codemirror_mode": "r",
   "file_extension": ".r",
   "mimetype": "text/x-r-source",
   "name": "R",
   "pygments_lexer": "r",
   "version": "4.0.2"
  }
 },
 "nbformat": 4,
 "nbformat_minor": 4
}
