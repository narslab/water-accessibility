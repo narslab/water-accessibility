{
 "cells": [
  {
   "cell_type": "code",
   "execution_count": 113,
   "metadata": {},
   "outputs": [],
   "source": [
    "library(readxl)\n",
    "library(ggplot2)\n",
    "library(\"FactoMineR\")\n",
    "library(tidyverse) #data Manipulation\n",
    "library(cluster) #Clustering algorithms\n",
    "library(factoextra)#Clustering Algorithms & Visualization\n",
    "library(gridExtra)\n",
    "#install.packages(\"dendextend\")\n",
    "#install.packages(\"ggplot2\")\n",
    "#install.packages(\"rlang\")\n",
    "library(dendextend) # For fancy deprograms\n",
    "library(rlang) # clustering cutting\n",
    "library(\"np\") #npreg: you may need to install it\n",
    "library(PerformanceAnalytics)\n",
    "library(psych)\n",
    "#install.packages('fmsb')\n",
    "library(fmsb) #For Spider Plots\n",
    "#install.packages('countrycode')\n",
    "library(countrycode)\n",
    "#install.packages(c('hrbrthemes','viridis'))\n",
    "#library(hrbrthemes)\n",
    "#library(viridis)\n",
    "#install.packages('GGally')\n",
    "library(GGally)\n",
    "library(dplyr)\n",
    "library(ggmap)\n",
    "library(leaflet)\n",
    "library(htmltools)\n",
    "\n",
    "library(dplyr) #getMap()\n",
    "library(rgeos)\n",
    "#install.packages('rworldmap')\n",
    "library(rworldmap) #joinCountryData2Map\n",
    "library(grid)\n",
    "library(tidyr)\n",
    "#install.packages(c(\"cowplot\", \"googleway\", \"ggplot2\", \"ggrepel\", \"ggspatial\", \"sf\", \"rnaturalearth\", \"rnaturalearthdata\"))\n",
    "library(\"sf\")\n",
    "library(\"rnaturalearth\")\n",
    "library(\"rnaturalearthdata\")\n",
    "#install.packages('writexl')\n",
    "library(writexl)"
   ]
  },
  {
   "cell_type": "code",
   "execution_count": 159,
   "metadata": {},
   "outputs": [],
   "source": [
    "df.water.access <- read_excel(\"../../results/df-water-access.xlsx\",sheet=1)\n",
    "dfsimple <- read_excel(\"../../results/dfsimple.xlsx\",sheet=1)\n",
    "df.wa <- df.water.access[,c(1:18)]"
   ]
  },
  {
   "cell_type": "code",
   "execution_count": 160,
   "metadata": {},
   "outputs": [
    {
     "data": {
      "text/plain": [
       "   Country               phom            pipy            ptap      \n",
       " Length:73          Min.   : 0.00   Min.   : 0.00   Min.   : 0.00  \n",
       " Class :character   1st Qu.: 2.70   1st Qu.: 3.30   1st Qu.: 3.00  \n",
       " Mode  :character   Median : 8.30   Median : 6.60   Median :10.30  \n",
       "                    Mean   :18.31   Mean   :11.59   Mean   :12.01  \n",
       "                    3rd Qu.:25.40   3rd Qu.:19.70   3rd Qu.:17.70  \n",
       "                    Max.   :90.60   Max.   :54.10   Max.   :57.70  \n",
       "      bore            pwel             pspr             rain       \n",
       " Min.   : 0.00   Min.   : 0.000   Min.   : 0.000   Min.   : 0.000  \n",
       " 1st Qu.: 0.60   1st Qu.: 1.500   1st Qu.: 0.100   1st Qu.: 0.000  \n",
       " Median : 5.70   Median : 4.100   Median : 0.800   Median : 0.300  \n",
       " Mean   :13.43   Mean   : 6.747   Mean   : 3.342   Mean   : 2.742  \n",
       " 3rd Qu.:22.90   3rd Qu.: 9.000   3rd Qu.: 4.200   3rd Qu.: 1.700  \n",
       " Max.   :86.40   Max.   :48.100   Max.   :47.900   Max.   :46.700  \n",
       "      uwel             uspr             truc             ctan       \n",
       " Min.   : 0.000   Min.   : 0.000   Min.   : 0.000   Min.   :0.0000  \n",
       " 1st Qu.: 0.700   1st Qu.: 0.100   1st Qu.: 0.100   1st Qu.:0.0000  \n",
       " Median : 4.200   Median : 1.200   Median : 0.300   Median :0.1000  \n",
       " Mean   : 6.892   Mean   : 3.889   Mean   : 1.449   Mean   :0.5466  \n",
       " 3rd Qu.:10.700   3rd Qu.: 3.300   3rd Qu.: 1.300   3rd Qu.:0.5000  \n",
       " Max.   :33.000   Max.   :36.300   Max.   :14.100   Max.   :6.1000  \n",
       "      bott             othw             surw             tles      \n",
       " Min.   : 0.000   Min.   :0.0000   Min.   : 0.000   Min.   : 0.00  \n",
       " 1st Qu.: 0.100   1st Qu.:0.0000   1st Qu.: 1.200   1st Qu.:14.90  \n",
       " Median : 0.600   Median :0.1000   Median : 4.400   Median :36.80  \n",
       " Mean   : 6.716   Mean   :0.4466   Mean   : 5.282   Mean   :33.06  \n",
       " 3rd Qu.: 3.800   3rd Qu.:0.5000   3rd Qu.: 7.600   3rd Qu.:49.90  \n",
       " Max.   :77.800   Max.   :4.6000   Max.   :19.200   Max.   :73.90  \n",
       "      tmor             watp      \n",
       " Min.   : 0.000   Min.   : 0.00  \n",
       " 1st Qu.: 1.200   1st Qu.:26.90  \n",
       " Median : 6.700   Median :44.20  \n",
       " Mean   : 9.677   Mean   :49.38  \n",
       " 3rd Qu.:13.200   3rd Qu.:76.10  \n",
       " Max.   :49.300   Max.   :99.30  "
      ]
     },
     "metadata": {},
     "output_type": "display_data"
    },
    {
     "data": {
      "text/html": [
       "<table class=\"dataframe\">\n",
       "<caption>A tibble: 6 × 18</caption>\n",
       "<thead>\n",
       "\t<tr><th scope=col>Country</th><th scope=col>phom</th><th scope=col>pipy</th><th scope=col>ptap</th><th scope=col>bore</th><th scope=col>pwel</th><th scope=col>pspr</th><th scope=col>rain</th><th scope=col>uwel</th><th scope=col>uspr</th><th scope=col>truc</th><th scope=col>ctan</th><th scope=col>bott</th><th scope=col>othw</th><th scope=col>surw</th><th scope=col>tles</th><th scope=col>tmor</th><th scope=col>watp</th></tr>\n",
       "\t<tr><th scope=col>&lt;chr&gt;</th><th scope=col>&lt;dbl&gt;</th><th scope=col>&lt;dbl&gt;</th><th scope=col>&lt;dbl&gt;</th><th scope=col>&lt;dbl&gt;</th><th scope=col>&lt;dbl&gt;</th><th scope=col>&lt;dbl&gt;</th><th scope=col>&lt;dbl&gt;</th><th scope=col>&lt;dbl&gt;</th><th scope=col>&lt;dbl&gt;</th><th scope=col>&lt;dbl&gt;</th><th scope=col>&lt;dbl&gt;</th><th scope=col>&lt;dbl&gt;</th><th scope=col>&lt;dbl&gt;</th><th scope=col>&lt;dbl&gt;</th><th scope=col>&lt;dbl&gt;</th><th scope=col>&lt;dbl&gt;</th><th scope=col>&lt;dbl&gt;</th></tr>\n",
       "</thead>\n",
       "<tbody>\n",
       "\t<tr><td>Afghanistan</td><td> 2.3</td><td> 4.8</td><td>14.2</td><td>20.1</td><td>18.5</td><td>4.7</td><td>0.4</td><td>11.1</td><td>8.6</td><td> 1.5</td><td>4.4</td><td> 0.2</td><td>1.7</td><td> 7.3</td><td>45.2</td><td> 8.2</td><td>45.3</td></tr>\n",
       "\t<tr><td>Albania    </td><td>48.8</td><td> 5.2</td><td> 2.4</td><td> 1.4</td><td> 4.1</td><td>2.5</td><td>0.0</td><td> 0.8</td><td>0.8</td><td>14.1</td><td>0.2</td><td>19.6</td><td>0.1</td><td> 0.0</td><td>20.6</td><td> 1.1</td><td>77.9</td></tr>\n",
       "\t<tr><td>Angola     </td><td> 4.3</td><td> 9.7</td><td>10.3</td><td> 1.9</td><td> 9.1</td><td>3.3</td><td>1.7</td><td> 8.3</td><td>4.8</td><td> 9.7</td><td>4.3</td><td> 1.2</td><td>1.8</td><td>18.0</td><td>46.1</td><td>15.6</td><td>34.5</td></tr>\n",
       "\t<tr><td>Armenia    </td><td>88.3</td><td> 8.0</td><td> 0.5</td><td> 0.2</td><td> 0.2</td><td>1.0</td><td>0.0</td><td> 0.0</td><td>0.1</td><td> 1.5</td><td>0.0</td><td> 0.0</td><td>0.0</td><td> 0.0</td><td> 1.6</td><td> 0.1</td><td>97.6</td></tr>\n",
       "\t<tr><td>Azerbaijan </td><td>34.0</td><td>19.7</td><td> 3.5</td><td> 9.3</td><td> 6.2</td><td>7.5</td><td>0.0</td><td> 0.2</td><td>1.1</td><td> 9.5</td><td>0.7</td><td> 0.1</td><td>1.1</td><td> 7.0</td><td>18.7</td><td> 4.4</td><td>75.9</td></tr>\n",
       "\t<tr><td>Bangladesh </td><td> 4.3</td><td> 3.3</td><td> 2.7</td><td>86.4</td><td> 0.2</td><td>0.0</td><td>0.4</td><td> 0.6</td><td>0.3</td><td> 0.0</td><td>0.1</td><td> 0.3</td><td>0.1</td><td> 1.2</td><td>22.7</td><td> 1.6</td><td>75.5</td></tr>\n",
       "</tbody>\n",
       "</table>\n"
      ],
      "text/latex": [
       "A tibble: 6 × 18\n",
       "\\begin{tabular}{llllllllllllllllll}\n",
       " Country & phom & pipy & ptap & bore & pwel & pspr & rain & uwel & uspr & truc & ctan & bott & othw & surw & tles & tmor & watp\\\\\n",
       " <chr> & <dbl> & <dbl> & <dbl> & <dbl> & <dbl> & <dbl> & <dbl> & <dbl> & <dbl> & <dbl> & <dbl> & <dbl> & <dbl> & <dbl> & <dbl> & <dbl> & <dbl>\\\\\n",
       "\\hline\n",
       "\t Afghanistan &  2.3 &  4.8 & 14.2 & 20.1 & 18.5 & 4.7 & 0.4 & 11.1 & 8.6 &  1.5 & 4.4 &  0.2 & 1.7 &  7.3 & 45.2 &  8.2 & 45.3\\\\\n",
       "\t Albania     & 48.8 &  5.2 &  2.4 &  1.4 &  4.1 & 2.5 & 0.0 &  0.8 & 0.8 & 14.1 & 0.2 & 19.6 & 0.1 &  0.0 & 20.6 &  1.1 & 77.9\\\\\n",
       "\t Angola      &  4.3 &  9.7 & 10.3 &  1.9 &  9.1 & 3.3 & 1.7 &  8.3 & 4.8 &  9.7 & 4.3 &  1.2 & 1.8 & 18.0 & 46.1 & 15.6 & 34.5\\\\\n",
       "\t Armenia     & 88.3 &  8.0 &  0.5 &  0.2 &  0.2 & 1.0 & 0.0 &  0.0 & 0.1 &  1.5 & 0.0 &  0.0 & 0.0 &  0.0 &  1.6 &  0.1 & 97.6\\\\\n",
       "\t Azerbaijan  & 34.0 & 19.7 &  3.5 &  9.3 &  6.2 & 7.5 & 0.0 &  0.2 & 1.1 &  9.5 & 0.7 &  0.1 & 1.1 &  7.0 & 18.7 &  4.4 & 75.9\\\\\n",
       "\t Bangladesh  &  4.3 &  3.3 &  2.7 & 86.4 &  0.2 & 0.0 & 0.4 &  0.6 & 0.3 &  0.0 & 0.1 &  0.3 & 0.1 &  1.2 & 22.7 &  1.6 & 75.5\\\\\n",
       "\\end{tabular}\n"
      ],
      "text/markdown": [
       "\n",
       "A tibble: 6 × 18\n",
       "\n",
       "| Country &lt;chr&gt; | phom &lt;dbl&gt; | pipy &lt;dbl&gt; | ptap &lt;dbl&gt; | bore &lt;dbl&gt; | pwel &lt;dbl&gt; | pspr &lt;dbl&gt; | rain &lt;dbl&gt; | uwel &lt;dbl&gt; | uspr &lt;dbl&gt; | truc &lt;dbl&gt; | ctan &lt;dbl&gt; | bott &lt;dbl&gt; | othw &lt;dbl&gt; | surw &lt;dbl&gt; | tles &lt;dbl&gt; | tmor &lt;dbl&gt; | watp &lt;dbl&gt; |\n",
       "|---|---|---|---|---|---|---|---|---|---|---|---|---|---|---|---|---|---|\n",
       "| Afghanistan |  2.3 |  4.8 | 14.2 | 20.1 | 18.5 | 4.7 | 0.4 | 11.1 | 8.6 |  1.5 | 4.4 |  0.2 | 1.7 |  7.3 | 45.2 |  8.2 | 45.3 |\n",
       "| Albania     | 48.8 |  5.2 |  2.4 |  1.4 |  4.1 | 2.5 | 0.0 |  0.8 | 0.8 | 14.1 | 0.2 | 19.6 | 0.1 |  0.0 | 20.6 |  1.1 | 77.9 |\n",
       "| Angola      |  4.3 |  9.7 | 10.3 |  1.9 |  9.1 | 3.3 | 1.7 |  8.3 | 4.8 |  9.7 | 4.3 |  1.2 | 1.8 | 18.0 | 46.1 | 15.6 | 34.5 |\n",
       "| Armenia     | 88.3 |  8.0 |  0.5 |  0.2 |  0.2 | 1.0 | 0.0 |  0.0 | 0.1 |  1.5 | 0.0 |  0.0 | 0.0 |  0.0 |  1.6 |  0.1 | 97.6 |\n",
       "| Azerbaijan  | 34.0 | 19.7 |  3.5 |  9.3 |  6.2 | 7.5 | 0.0 |  0.2 | 1.1 |  9.5 | 0.7 |  0.1 | 1.1 |  7.0 | 18.7 |  4.4 | 75.9 |\n",
       "| Bangladesh  |  4.3 |  3.3 |  2.7 | 86.4 |  0.2 | 0.0 | 0.4 |  0.6 | 0.3 |  0.0 | 0.1 |  0.3 | 0.1 |  1.2 | 22.7 |  1.6 | 75.5 |\n",
       "\n"
      ],
      "text/plain": [
       "  Country     phom pipy ptap bore pwel pspr rain uwel uspr truc ctan bott othw\n",
       "1 Afghanistan  2.3  4.8 14.2 20.1 18.5 4.7  0.4  11.1 8.6   1.5 4.4   0.2 1.7 \n",
       "2 Albania     48.8  5.2  2.4  1.4  4.1 2.5  0.0   0.8 0.8  14.1 0.2  19.6 0.1 \n",
       "3 Angola       4.3  9.7 10.3  1.9  9.1 3.3  1.7   8.3 4.8   9.7 4.3   1.2 1.8 \n",
       "4 Armenia     88.3  8.0  0.5  0.2  0.2 1.0  0.0   0.0 0.1   1.5 0.0   0.0 0.0 \n",
       "5 Azerbaijan  34.0 19.7  3.5  9.3  6.2 7.5  0.0   0.2 1.1   9.5 0.7   0.1 1.1 \n",
       "6 Bangladesh   4.3  3.3  2.7 86.4  0.2 0.0  0.4   0.6 0.3   0.0 0.1   0.3 0.1 \n",
       "  surw tles tmor watp\n",
       "1  7.3 45.2  8.2 45.3\n",
       "2  0.0 20.6  1.1 77.9\n",
       "3 18.0 46.1 15.6 34.5\n",
       "4  0.0  1.6  0.1 97.6\n",
       "5  7.0 18.7  4.4 75.9\n",
       "6  1.2 22.7  1.6 75.5"
      ]
     },
     "metadata": {},
     "output_type": "display_data"
    },
    {
     "ename": "ERROR",
     "evalue": "Error: Can't subset columns that don't exist.\n\u001b[31mx\u001b[39m Locations 19, 20, 21, and 22 don't exist.\n\u001b[34mi\u001b[39m There are only 18 columns.\n",
     "output_type": "error",
     "traceback": [
      "Error: Can't subset columns that don't exist.\n\u001b[31mx\u001b[39m Locations 19, 20, 21, and 22 don't exist.\n\u001b[34mi\u001b[39m There are only 18 columns.\nTraceback:\n",
      "1. chart.Correlation(df.wa[, 11:22], histogram = TRUE, pch = 19, \n .     tl.cex = 0.7)",
      "2. checkData(R, method = \"matrix\")",
      "3. as.matrix(x, ncol = NCOL(x))",
      "4. df.wa[, 11:22]",
      "5. `[.tbl_df`(df.wa, , 11:22)",
      "6. vectbl_as_col_location(j, length(xo), names(xo), j_arg = j_arg, \n .     assign = FALSE)",
      "7. subclass_col_index_errors(vec_as_location(j, n, names), j_arg = j_arg, \n .     assign = assign)",
      "8. withCallingHandlers(expr, vctrs_error_subscript = function(cnd) {\n .     cnd$subscript_arg <- j_arg\n .     cnd$subscript_elt <- \"column\"\n .     if (isTRUE(assign) && !isTRUE(cnd$subscript_action %in% c(\"negate\"))) {\n .         cnd$subscript_action <- \"assign\"\n .     }\n .     cnd_signal(cnd)\n . })",
      "9. vec_as_location(j, n, names)",
      "10. (function () \n  . stop_subscript_oob(i = i, subscript_type = subscript_type, size = size, \n  .     subscript_action = subscript_action, subscript_arg = subscript_arg))()",
      "11. stop_subscript_oob(i = i, subscript_type = subscript_type, size = size, \n  .     subscript_action = subscript_action, subscript_arg = subscript_arg)",
      "12. stop_subscript(class = \"vctrs_error_subscript_oob\", i = i, subscript_type = subscript_type, \n  .     ...)",
      "13. abort(class = c(class, \"vctrs_error_subscript\"), i = i, ...)",
      "14. signal_abort(cnd)",
      "15. signalCondition(cnd)",
      "16. (function (cnd) \n  . {\n  .     cnd$subscript_arg <- j_arg\n  .     cnd$subscript_elt <- \"column\"\n  .     if (isTRUE(assign) && !isTRUE(cnd$subscript_action %in% c(\"negate\"))) {\n  .         cnd$subscript_action <- \"assign\"\n  .     }\n  .     cnd_signal(cnd)\n  . })(structure(list(message = \"\", trace = structure(list(calls = list(\n  .     IRkernel::main(), kernel$run(), IRkernel:::handle_shell(), \n  .     executor$execute(msg), base::tryCatch(evaluate(request$content$code, \n  .         envir = .GlobalEnv, output_handler = oh, stop_on_error = 1L), \n  .         interrupt = function(cond) {\n  .             log_debug(\"Interrupt during execution\")\n  .             interrupted <<- TRUE\n  .         }, error = .self$handle_error), base:::tryCatchList(expr, \n  .         classes, parentenv, handlers), base:::tryCatchOne(tryCatchList(expr, \n  .         names[-nh], parentenv, handlers[-nh]), names[nh], parentenv, \n  .         handlers[[nh]]), base:::doTryCatch(return(expr), name, \n  .         parentenv, handler), base:::tryCatchList(expr, names[-nh], \n  .         parentenv, handlers[-nh]), base:::tryCatchOne(expr, names, \n  .         parentenv, handlers[[1L]]), base:::doTryCatch(return(expr), \n  .         name, parentenv, handler), evaluate::evaluate(request$content$code, \n  .         envir = .GlobalEnv, output_handler = oh, stop_on_error = 1L), \n  .     evaluate:::evaluate_call(expr, parsed$src[[i]], envir = envir, \n  .         enclos = enclos, debug = debug, last = i == length(out), \n  .         use_try = stop_on_error != 2L, keep_warning = keep_warning, \n  .         keep_message = keep_message, output_handler = output_handler, \n  .         include_timing = include_timing), evaluate:::timing_fn(handle(ev <- withCallingHandlers(withVisible(eval(expr, \n  .         envir, enclos)), warning = wHandler, error = eHandler, \n  .         message = mHandler))), evaluate:::handle(ev <- withCallingHandlers(withVisible(eval(expr, \n  .         envir, enclos)), warning = wHandler, error = eHandler, \n  .         message = mHandler)), base::try(f, silent = TRUE), base::tryCatch(expr, \n  .         error = function(e) {\n  .             call <- conditionCall(e)\n  .             if (!is.null(call)) {\n  .                 if (identical(call[[1L]], quote(doTryCatch))) \n  .                   call <- sys.call(-4L)\n  .                 dcall <- deparse(call)[1L]\n  .                 prefix <- paste(\"Error in\", dcall, \": \")\n  .                 LONG <- 75L\n  .                 sm <- strsplit(conditionMessage(e), \"\\n\")[[1L]]\n  .                 w <- 14L + nchar(dcall, type = \"w\") + nchar(sm[1L], \n  .                   type = \"w\")\n  .                 if (is.na(w)) \n  .                   w <- 14L + nchar(dcall, type = \"b\") + nchar(sm[1L], \n  .                     type = \"b\")\n  .                 if (w > LONG) \n  .                   prefix <- paste0(prefix, \"\\n  \")\n  .             }\n  .             else prefix <- \"Error : \"\n  .             msg <- paste0(prefix, conditionMessage(e), \"\\n\")\n  .             .Internal(seterrmessage(msg[1L]))\n  .             if (!silent && isTRUE(getOption(\"show.error.messages\"))) {\n  .                 cat(msg, file = outFile)\n  .                 .Internal(printDeferredWarnings())\n  .             }\n  .             invisible(structure(msg, class = \"try-error\", condition = e))\n  .         }), base:::tryCatchList(expr, classes, parentenv, handlers), \n  .     base:::tryCatchOne(expr, names, parentenv, handlers[[1L]]), \n  .     base:::doTryCatch(return(expr), name, parentenv, handler), \n  .     base::withCallingHandlers(withVisible(eval(expr, envir, enclos)), \n  .         warning = wHandler, error = eHandler, message = mHandler), \n  .     base::withVisible(eval(expr, envir, enclos)), base::eval(expr, \n  .         envir, enclos), base::eval(expr, envir, enclos), PerformanceAnalytics::chart.Correlation(df.wa[, \n  .         11:22], histogram = TRUE, pch = 19, tl.cex = 0.7), PerformanceAnalytics::checkData(R, \n  .         method = \"matrix\"), base::as.matrix(x, ncol = NCOL(x)), \n  .     df.wa[, 11:22], tibble:::`[.tbl_df`(df.wa, , 11:22), tibble:::vectbl_as_col_location(j, \n  .         length(xo), names(xo), j_arg = j_arg, assign = FALSE), \n  .     tibble:::subclass_col_index_errors(vec_as_location(j, n, \n  .         names), j_arg = j_arg, assign = assign), base::withCallingHandlers(expr, \n  .         vctrs_error_subscript = function(cnd) {\n  .             cnd$subscript_arg <- j_arg\n  .             cnd$subscript_elt <- \"column\"\n  .             if (isTRUE(assign) && !isTRUE(cnd$subscript_action %in% \n  .                 c(\"negate\"))) {\n  .                 cnd$subscript_action <- \"assign\"\n  .             }\n  .             cnd_signal(cnd)\n  .         }), vctrs::vec_as_location(j, n, names), (function () \n  .     stop_subscript_oob(i = i, subscript_type = subscript_type, \n  .         size = size, subscript_action = subscript_action, subscript_arg = subscript_arg))(), \n  .     vctrs:::stop_subscript_oob(i = i, subscript_type = subscript_type, \n  .         size = size, subscript_action = subscript_action, subscript_arg = subscript_arg), \n  .     vctrs:::stop_subscript(class = \"vctrs_error_subscript_oob\", \n  .         i = i, subscript_type = subscript_type, ...)), parents = c(0L, \n  . 1L, 2L, 3L, 4L, 5L, 6L, 7L, 6L, 9L, 10L, 4L, 12L, 13L, 13L, 15L, \n  . 16L, 17L, 18L, 19L, 13L, 13L, 13L, 23L, 0L, 25L, 26L, 0L, 0L, \n  . 29L, 30L, 31L, 30L, 33L, 34L, 35L), indices = 1:36), class = \"rlang_trace\", version = 1L), \n  .     parent = NULL, i = 11:22, subscript_type = \"numeric\", size = 18L, \n  .     subscript_action = NULL, subscript_arg = \"\"), class = c(\"vctrs_error_subscript_oob\", \n  . \"vctrs_error_subscript\", \"rlang_error\", \"error\", \"condition\")))",
      "17. cnd_signal(cnd)",
      "18. rlang:::signal_abort(x)"
     ]
    },
    {
     "data": {
      "image/png": "[encoded data removed]",
      "text/plain": [
       "Plot with title \"\""
      ]
     },
     "metadata": {
      "image/png": {
       "height": 1020,
       "width": 1020
      }
     },
     "output_type": "display_data"
    }
   ],
   "source": [
    "summary(df.wa)\n",
    "head(df.wa)\n",
    "chart.Correlation(df.wa[,2:10], histogram=TRUE, pch=19 , tl.cex = .7 )\n",
    "chart.Correlation(df.wa[,11:18], histogram=TRUE, pch=19 , tl.cex = .7 )"
   ]
  },
  {
   "cell_type": "markdown",
   "metadata": {},
   "source": [
    "# Spider Plots of the variables"
   ]
  },
  {
   "cell_type": "code",
   "execution_count": null,
   "metadata": {},
   "outputs": [],
   "source": [
    "# Create data: Water Accessibility Aggregate\n",
    "df.wa <- df.wa[,c(2:18)]\n",
    "head(df.wa)\n",
    "df.wa.aggregate <- aggregate(df.wa, list(clusters=dfsimple$clusters), mean)\n",
    "df.wa.aggregate <- df.wa.aggregate[,1:18]\n",
    "df.wa.aggregate"
   ]
  },
  {
   "cell_type": "markdown",
   "metadata": {},
   "source": [
    "# Extract table of cluster centroids."
   ]
  },
  {
   "cell_type": "code",
   "execution_count": null,
   "metadata": {},
   "outputs": [],
   "source": [
    "centroid <- apply(df.wa.aggregate, 1, function(x) sqrt(sum(x^2)) ) #How close is each country to the centroid of the cluster\n",
    "centroid\n",
    "old.par <- par(mar = c(0, 0, 0, 0))\n",
    "par(old.par)\n",
    "\n",
    "bp <- barplot(centroid,\n",
    "        main = \"Centroid of the Clusters\", xlab = \"Clusters\", ylab = \"fitness of Centroid\",\n",
    "        col = c(\"#1b9e77\",\"#d95f02\",\"#7570b3\"),\n",
    "        ylim = c(0, 200), names.arg = c(\"A\", \"B\", \"C\"))\n",
    "text(bp, 0, round(centroid, 1),cex=1,pos=3)\n",
    "options(repr.plot.width=17, repr.plot.height=17)\n",
    "barplot(as.matrix(df.wa.aggregate[,c(2:18)]),\n",
    "        beside = TRUE,\n",
    "        main = \"Typology average of Clusters\", xlab = \"Water variables\", ylab = \"Average\",\n",
    "        col = c(\"#1b9e77\",\"#d95f02\",\"#7570b3\"),\n",
    "        legend = c(\"A\", \"B\", \"C\"), \n",
    "        args.legend = list(title = \"Clusters\", x = \"topright\", cex = .7), ylim = c(0, 100))\n",
    "                  \n",
    "\n",
    "\n",
    "centroiddf.wa <- apply(df.wa, 1, function(x) sqrt(sum(x^2)) ) #How close is each country to the cen-troid of the cluster\n",
    "head(centroiddf.wa)\n"
   ]
  },
  {
   "cell_type": "code",
   "execution_count": null,
   "metadata": {},
   "outputs": [],
   "source": [
    "centroiddf.wa\n",
    "str(centroiddf.wa)"
   ]
  },
  {
   "cell_type": "markdown",
   "metadata": {},
   "source": [
    "# Radar Plot for the aggregated data"
   ]
  },
  {
   "cell_type": "code",
   "execution_count": null,
   "metadata": {},
   "outputs": [],
   "source": [
    "# To use the fmsb package, I have to add 2 lines to the data frame: the max and min of each topic to show on the plot!\n",
    "#max.aggregate = apply(df.wa.aggregate,2,max)\n",
    "#apply(df.wa.aggregate,2,min)\n",
    "#max.aggregate\n",
    "#norm.df.wa <- sweep(df.wa.aggregate, 2, max.aggregate, FUN = '/')\n",
    "\n",
    "data.spider <- rbind(rep(100,50) , rep(0,10) , df.wa.aggregate[,c(2:18)])\n",
    "\n",
    "head(data.spider,7)\n",
    "colnames(data.spider) <- c(\n",
    "                            \n",
    "    \"Piped Into Dwelling\",\n",
    "    'Piped Into Yard',\n",
    "    \"Public Tap\" ,\n",
    "    \"Borehole\" , \n",
    "     \"Protected Well\" ,\n",
    "       \"Protected Spring\", \n",
    "    \"Rainwater\" ,\n",
    "    \n",
    "    \"Unprotected Well Water\", \n",
    "    \"Unprotected Spring\", \n",
    "    'Tanker Truck',\n",
    "    'Cart With Tank',\n",
    "    'Bottled Water',\n",
    "    'Other Water Source',\n",
    "    \"Surface Water\" ,\n",
    "     \"Water 30 minutes or < away round trip\" , \n",
    "    \"Water > 30 minutes away round trip\" , \n",
    "    'Water on Premise')                       \n",
    "options(repr.plot.width=17, repr.plot.height=17)\n",
    "par(mar = c(1,1,1,1))\n",
    "par(cex=1)\n",
    "\n",
    "# The default radar chart for First Cluster\n",
    "r.c. <- radarchart(data.spider,\n",
    "           #custom polygon\n",
    "           pcol= c(\"#1b9e77\",\"#d95f02\",\"#7570b3\") ,\n",
    "           plwd=4 , plty=1,\n",
    "           #custom the grid\n",
    "           cglcol=\"grey\", cglty=1, axislabcol=\"grey\", caxislabels= seq(0,100,25), cglwd=0.8, axistype = 4,\n",
    "           title = 'Cluster Centroid',\n",
    "           vlcex=1,\n",
    "           calcex = 1 ,\n",
    "                   \n",
    "           )"
   ]
  },
  {
   "cell_type": "markdown",
   "metadata": {},
   "source": [
    "# Box Plot of Water Accessibility Variables (Violin Plots)"
   ]
  },
  {
   "cell_type": "code",
   "execution_count": null,
   "metadata": {},
   "outputs": [],
   "source": [
    "df.wa.aggregate <- aggregate(df.wa, list(clusters=dfsimple$clusters), mean)\n",
    "df.wa.aggregate <- df.wa.aggregate[,2:18]\n",
    "df.wa.aggregate\n",
    "rownames(df.wa.aggregate) <- c('A','B','C')\n",
    "\n",
    "data_wa_one <- df.wa.aggregate[  , 1:10]\n",
    "\n",
    "df.wa.aggregate <- as.factor(df.wa.aggregate[,])\n",
    "sapply(df.wa.aggregate, class)\n",
    "\n",
    "\n",
    "options(repr.plot.width=17, repr.plot.height=17)\n",
    "par(mar = c(1,1,1,1))\n",
    "par(cex=5)\n",
    "\n",
    "p <- data_wa_one %>% \n",
    "    gather(key=\"MesureType\", value=\"Val\") %>%\n",
    "    ggplot( aes(x=MesureType, y=Val, fill=MesureType)) +\n",
    "    geom_violin(trim=FALSE, width=1.5, size=.3) + \n",
    "    \n",
    "    stat_summary(fun.data=mean_sdl, geom=\"pointrange\", color=\"red\") + \n",
    "    scale_color_brewer(palette=\"Dark2\") +\n",
    "    xlab('water accessibility') +\n",
    "    geom_dotplot(binaxis='y', stackdir='center', dotsize=.3) +\n",
    "    guides(fill =guide_legend(\"water accessibility type\"))\n",
    "p <- p + theme_grey(base_size = 22)\n",
    "p \n",
    "\n",
    "\n"
   ]
  },
  {
   "cell_type": "code",
   "execution_count": null,
   "metadata": {},
   "outputs": [],
   "source": [
    "df.wa.aggregate <- aggregate(df.wa, list(clusters=dfsimple$clusters), mean)\n",
    "df.wa.aggregate <- df.wa.aggregate[,2:18]\n",
    "df.wa.aggregate\n",
    "rownames(df.wa.aggregate) <- c('A','B','C')\n",
    "\n",
    "data_wa_one <- df.wa.aggregate[  , 11:17]\n",
    "\n",
    "df.wa.aggregate <- as.factor(df.wa.aggregate[,])\n",
    "sapply(df.wa.aggregate, class)\n",
    "\n",
    "\n",
    "options(repr.plot.width=17, repr.plot.height=17)\n",
    "par(mar = c(1,1,1,1))\n",
    "par(cex=5)\n",
    "\n",
    "p <- data_wa_one %>% \n",
    "    gather(key=\"MesureType\", value=\"Val\") %>%\n",
    "    ggplot( aes(x=MesureType, y=Val, fill=MesureType)) +\n",
    "    geom_violin(trim=FALSE, scale = \"width\"  , size=.3, adjust = .75) + \n",
    "    stat_summary(fun.data=mean_sdl, geom=\"pointrange\", color=\"red\") + \n",
    "    scale_color_brewer(palette=\"Dark2\") +\n",
    "    xlab('water accessibility') +\n",
    "    geom_dotplot(binaxis='y', stackdir='center', dotsize=.3) +\n",
    "    guides(fill =guide_legend(\"water accessibility type\"))\n",
    "p <- p + theme_grey(base_size = 22)\n",
    "p \n",
    "\n",
    "\n"
   ]
  },
  {
   "cell_type": "markdown",
   "metadata": {},
   "source": [
    "# Country's Centroids Rankings Demo"
   ]
  },
  {
   "cell_type": "code",
   "execution_count": null,
   "metadata": {},
   "outputs": [],
   "source": [
    "#data_wa$cluster <- cutree(hc.ward2,4) \n",
    "df.wa \n",
    "hc.ward2=hclust(dist(df.wa), method =\"ward.D2\")\n",
    "df.wa$clusters <- cutree(hc.ward2,3)\n",
    "df.wa$clusters <- as.factor(df.wa$clusters)\n",
    "\n",
    "p <- ggplot(df.wa, aes(clusters, ptap, color = clusters, fill = clusters)) +\n",
    "  geom_point(alpha = 0.6) +\n",
    "  geom_jitter() +\n",
    "  geom_point() +\n",
    "  ggtitle(\"Distribution of clusters by NARS Lab\") +\n",
    "  scale_color_manual(values=c(\"#1b9e77\",\"#d95f02\",\"#7570b3\")) \n",
    "p <- p + theme_grey(base_size = 22) \n",
    "p \n",
    "\n",
    "table(df.wa$clusters)\n",
    "\n",
    "#Group by the cluster assignment and calculate averages\n",
    "df3_clus_avg <- df.wa %>%\n",
    "  group_by(clusters) %>%\n",
    "  summarize_if(is.numeric, mean, na.rm=TRUE)\n",
    "\n",
    "\n",
    "df3_clus_avg \n",
    "\n",
    "sapply(df3_clus_avg, class)\n",
    "#Create a parallel coordinate plot of the values:\n",
    "ggparcoord <- ggparcoord(df3_clus_avg, columns = c(2:18), \n",
    "           groupColumn = \"clusters\", scale = \"globalminmax\", order = \"skewness\") +\n",
    "  theme(axis.text.x = element_text(angle = 45, vjust = 1, hjust = 1)) + geom_point(color = \"#00AFBB\") \n",
    "    \n",
    "#make a dot plot\n",
    "countries3_gathered <- df.wa %>% gather(Measure, Ranking, ptap:watp) \n",
    "\n",
    "g <- ggplot(countries3_gathered, aes(Measure, Ranking, color = clusters )) +\n",
    "  geom_point(alpha = 0.3) +\n",
    "  geom_jitter() +\n",
    "  theme(axis.text.x = element_text(angle = 45, vjust = 1, hjust = 1)) +\n",
    "  ggtitle(\"Distribution of clusters per measure - 3 clusters\") \n",
    "   \n",
    "g <- g + theme_grey(base_size = 22) +  scale_color_manual(values=c(\"#1b9e77\",\"#d95f02\",\"#7570b3\")) \n",
    "g \n",
    "countries3_gathered %>% \n",
    "\n",
    "ggplot(aes(clusters, Ranking, col = clusters)) +\n",
    "  geom_point(alpha = 0.3) +\n",
    "  geom_jitter() +\n",
    "  theme(axis.text.x = element_text(angle = 45, vjust = 1, hjust = 1)) +\n",
    "  ggtitle(\"Distribution of 3 clusters - facetted by measure\") +\n",
    "  facet_wrap(~Measure) +\n",
    " theme_grey(base_size = 22) +  \n",
    "scale_color_manual(values=c(\"#1b9e77\",\"#d95f02\",\"#7570b3\"))\n",
    "# set the set factor as for the clusters\n"
   ]
  },
  {
   "cell_type": "markdown",
   "metadata": {},
   "source": [
    "# Rank Countries"
   ]
  },
  {
   "cell_type": "code",
   "execution_count": null,
   "metadata": {},
   "outputs": [],
   "source": [
    "df = read_excel( \"../../results/df-water-access.xlsx\")\n",
    "count(df)"
   ]
  },
  {
   "cell_type": "code",
   "execution_count": null,
   "metadata": {},
   "outputs": [],
   "source": [
    "head(df) # clean df at next save (2 cluster columns - only 1 needed; etc) #df also needs to be only water accessibility variables"
   ]
  },
  {
   "cell_type": "code",
   "execution_count": null,
   "metadata": {},
   "outputs": [],
   "source": [
    "df[\"norm\"] <- apply(df[3:13], 1, function(x) sqrt(sum(x^2)) ) #assuming columns 5:10 are the water accessibility variables\n",
    "# Ideally, df should just be the countries and the water access. variables ONLY. This, way, the code should then be:\n",
    "# df[\"norm\"] <- apply(df, 1, function(x) sqrt(sum(x^2)) )"
   ]
  },
  {
   "cell_type": "code",
   "execution_count": null,
   "metadata": {},
   "outputs": [],
   "source": [
    "df[\"distToCentroid\"] = 0 # initialize"
   ]
  },
  {
   "cell_type": "code",
   "execution_count": null,
   "metadata": {},
   "outputs": [],
   "source": [
    "df.wa$clusters <- as.numeric(df.wa$clusters)\n",
    "head(df.wa)\n",
    "#Turn into numeric to find centroids"
   ]
  },
  {
   "cell_type": "code",
   "execution_count": null,
   "metadata": {},
   "outputs": [],
   "source": [
    "# assuming centroiddf.wa is your vector of cluster centroids\n",
    "\n",
    "# copied this from your earlier notebook\n",
    "df.wa.aggregate <- aggregate(df.wa, list(clusters=dfsimple$clusters), mean)\n",
    "df.wa.aggregate <- df.wa.aggregate[,1:18]\n",
    "centroiddf.wa <- apply(df.wa.aggregate, 1, function(x) sqrt(sum(x^2)) ) #How close is each country to the cen-troid of the cluster\n",
    "\n",
    "head(centroiddf.wa)       \n",
    "                       \n",
    "                       \n",
    "df$clusters <- dfsimple$clusters                      \n",
    "head(df)"
   ]
  },
  {
   "cell_type": "code",
   "execution_count": null,
   "metadata": {},
   "outputs": [],
   "source": [
    "# Then here, you compute the distance to centroid cluster by cluster\n",
    "df[df$clusters == 1, \"distToCentroid\"] = abs(df[df$clusters == 1, \"norm\"] - centroiddf.wa[1])\n",
    "df[df$clusters == 2, \"distToCentroid\"] = abs(df[df$clusters == 2, \"norm\"] - centroiddf.wa[2])\n",
    "df[df$clusters == 3, \"distToCentroid\"] = abs(df[df$clusters == 3, \"norm\"] - centroiddf.wa[3])\n",
    "#df[df$clusters == 4, \"distToCentroid\"] = abs(df[df$clusters == 4, \"norm\"] - centroiddf.wa[4])\n",
    "                       \n",
    "\n",
    "head(df)\n",
    "write_xlsx(df , '../../results/dfcluster-rank.xlsx')"
   ]
  },
  {
   "cell_type": "code",
   "execution_count": null,
   "metadata": {},
   "outputs": [],
   "source": [
    "# You can then sort each subset by the size of \"distToCentroid\"\n",
    "df %>% \n",
    "  arrange_at(\"Country\", desc) %>%\n",
    "  arrange_at(\"distToCentroid\") %>%\n",
    "  select(1, 20, 21)"
   ]
  },
  {
   "cell_type": "code",
   "execution_count": null,
   "metadata": {},
   "outputs": [],
   "source": [
    "#Cluster 1\n",
    "df %>%\n",
    "  filter(clusters == 1) %>%\n",
    "  select(Country) %>%\n",
    "  head(7)"
   ]
  },
  {
   "cell_type": "code",
   "execution_count": null,
   "metadata": {},
   "outputs": [],
   "source": [
    "#Cluster 2\n",
    "df %>%\n",
    "  filter(clusters == 2) %>%\n",
    "  select(Country) %>%\n",
    "  head(7)"
   ]
  },
  {
   "cell_type": "code",
   "execution_count": null,
   "metadata": {},
   "outputs": [],
   "source": [
    "#Cluster 3\n",
    "df %>%\n",
    "  filter(clusters == 3) %>%\n",
    "  select(Country) %>%\n",
    "  head(7)"
   ]
  },
  {
   "cell_type": "markdown",
   "metadata": {},
   "source": [
    "#Cluster 4\n",
    "df %>%\n",
    "  filter(clusters == 4) %>%\n",
    "  select(Country) %>%\n",
    "  head(7)"
   ]
  },
  {
   "cell_type": "code",
   "execution_count": null,
   "metadata": {},
   "outputs": [],
   "source": [
    "# You can then sort each subset by the size of \"distToCentroid\"\n",
    "df1 = df %>% \n",
    "  arrange_at(\"Country\", desc) %>%\n",
    "   arrange_at(\"distToCentroid\") %>%\n",
    "    arrange_at(\"clusters\") %>%\n",
    "  select(1, 20, 21)\n",
    "\n"
   ]
  },
  {
   "cell_type": "code",
   "execution_count": null,
   "metadata": {},
   "outputs": [],
   "source": [
    "head(df1)\n",
    "cluster.one <- subset(df1, clusters == 1 )\n",
    "cluster.two <- subset(df1, clusters == 2 )\n",
    "cluster.three <- subset(df1, clusters == 3 )\n",
    "#cluster.four <- subset(df1, clusters == 4 )\n",
    "head(cluster.one)\n",
    "summary(cluster.one)"
   ]
  },
  {
   "cell_type": "code",
   "execution_count": null,
   "metadata": {},
   "outputs": [],
   "source": [
    "cluster.one %>% \n",
    "  arrange_at(\"Country\", desc) %>%\n",
    "   arrange_at(\"distToCentroid\") %>%\n",
    "    arrange_at(\"clusters\") %>%\n",
    "  select(1:3)\n",
    "cluster.two %>% \n",
    "  arrange_at(\"Country\", desc) %>%\n",
    "   arrange_at(\"distToCentroid\") %>%\n",
    "    arrange_at(\"clusters\") %>%\n",
    "  select(1:3)\n",
    "cluster.three %>% \n",
    "  arrange_at(\"Country\", desc) %>%\n",
    "   arrange_at(\"distToCentroid\") %>%\n",
    "    arrange_at(\"clusters\") %>%\n",
    "  select(1:3)\n",
    "# cluster.four %>% \n",
    "#  arrange_at(\"Country\", desc) %>%\n",
    "#   arrange_at(\"distToCentroid\") %>%\n",
    "#    arrange_at(\"clusters\") %>%\n",
    "#  select(1:3)"
   ]
  },
  {
   "cell_type": "markdown",
   "metadata": {},
   "source": [
    "# World Map"
   ]
  },
  {
   "cell_type": "code",
   "execution_count": null,
   "metadata": {},
   "outputs": [],
   "source": [
    "df = read_excel('../../results/dfcluster-rank.xlsx') #change name of file to sth descriptive (e.g. country-clusters)\n",
    "head(df)"
   ]
  },
  {
   "cell_type": "code",
   "execution_count": null,
   "metadata": {},
   "outputs": [],
   "source": [
    "df = df[, c(1,21)] # select only country name and cluster number\n",
    "head(df)"
   ]
  },
  {
   "cell_type": "code",
   "execution_count": null,
   "metadata": {},
   "outputs": [],
   "source": [
    "colnames(df) = c('region', 'value') # change column names for ggplot\n",
    "dim(df)\n",
    "head(df)"
   ]
  },
  {
   "cell_type": "code",
   "execution_count": null,
   "metadata": {},
   "outputs": [],
   "source": [
    "# This is to convert country names in df to match those in the worldMap dataframe\n",
    "coords <- joinCountryData2Map(df, joinCode = \"NAME\", nameJoinColumn = \"region\")\n",
    "coords = data.frame(coords)\n",
    "colnames(coords) = tolower(colnames(coords))\n",
    "colnames(coords)\n",
    "coords = drop_na(coords, value)\n",
    "coords$name"
   ]
  },
  {
   "cell_type": "code",
   "execution_count": null,
   "metadata": {},
   "outputs": [],
   "source": [
    "setdiff(df$region,coords$name)"
   ]
  },
  {
   "cell_type": "code",
   "execution_count": null,
   "metadata": {},
   "outputs": [],
   "source": [
    "# Correct the country names in DF\n",
    "df[df=='Timor-Leste'] = \"East Timor\"\n",
    "df[df=='Central African Republic'] = \"Central African Rep.\"\n",
    "df[df=='Cote d\\'Ivoire'] = \"Ivory Coast\"\n",
    "df[df=='Dominican Republic'] = \"Dominican Rep.\"\n",
    "df[df=='Kyrgyz Republic'] = \"Kyrgyzstan\"\n",
    "df[df=='Eswatini'] = \"Swaziland\"\n",
    "df[df=='Congo'] = \"Congo (Brazzaville)\"\n",
    "df[df=='Congo Democratic Republic'] = \"Congo (Kinshasa)\""
   ]
  },
  {
   "cell_type": "code",
   "execution_count": null,
   "metadata": {},
   "outputs": [],
   "source": [
    "# Get world map data (lat/long)\n",
    "countrynames = df$region\n",
    "worldMap <- getMap()\n",
    "country_indices <- which(worldMap$NAME%in%countrynames)"
   ]
  },
  {
   "cell_type": "code",
   "execution_count": null,
   "metadata": {},
   "outputs": [],
   "source": [
    "# Get coordinates for all countries to plot base map\n",
    "allCoords <- lapply(seq(1,243), function(i){\n",
    "  dfn <- data.frame(worldMap@polygons[[i]]@Polygons[[1]]@coords)\n",
    "  dfn$region =as.character(worldMap$NAME[i])\n",
    "  colnames(dfn) <- list(\"long\", \"lat\", \"region\")\n",
    "  return(dfn)\n",
    "})\n",
    "allCoords <- do.call(\"rbind\", allCoords)\n"
   ]
  },
  {
   "cell_type": "code",
   "execution_count": null,
   "metadata": {},
   "outputs": [],
   "source": [
    "# Get coordinates strictly for those in water accessibility dataset\n",
    "waterCoords <- lapply(country_indices, function(i){\n",
    "  dfn <- data.frame(worldMap@polygons[[i]]@Polygons[[1]]@coords)\n",
    "  dfn$region =as.character(worldMap$NAME[i])\n",
    "  colnames(dfn) <- list(\"long\", \"lat\", \"region\")\n",
    "  return(dfn)\n",
    "})\n",
    "\n",
    "waterCoords <- do.call(\"rbind\", waterCoords)\n",
    "waterCoords$value <- df$value[match(waterCoords$region,df$region)]\n",
    "waterCoords$value <- factor(waterCoords$value)"
   ]
  },
  {
   "cell_type": "code",
   "execution_count": null,
   "metadata": {},
   "outputs": [],
   "source": [
    "# Plot\n",
    "options(repr.plot.width=17, repr.plot.height=17)\n",
    "par(mar = c(1,1,1,1))\n",
    "par(cex=1)\n",
    "ggplot() +\n",
    "    geom_sf(color = \"black\", fill= 'antiquewhite') +\n",
    "    xlab(\"Longitude\") + ylab(\"Latitude\") +\n",
    "    geom_polygon(data= allCoords, mapping = aes(x =long, y=lat,group = region),color=\"grey\",fill=NA) + \n",
    "    geom_polygon( data = waterCoords, mapping = aes(x =long, y=lat,group = region, fill=value), size=.3,color=\"black\") +\n",
    "    expand_limits(x = waterCoords$long, y = waterCoords$lat)  + \n",
    "    scale_fill_brewer(palette='Dark2', name=\"Water Accessibility Typologies\", na.value=\"grey\", labels = c(\"A\", \"B\", \"C\")) +  #labels = c())+\n",
    "    ggtitle(\"World Map\", subtitle = paste0(\"(\", length(unique(df$region)), \" Countries)\")) +\n",
    "    theme_minimal() +\n",
    "    theme(legend.position = \"bottom\",\n",
    "        axis.ticks = element_blank(), \n",
    "        axis.title = element_blank(), \n",
    "        axis.text =  element_blank()) \n",
    "#     #guides(fill = guide_colorbar(barwidth = 10, barheight = .5))\n"
   ]
  },
  {
   "cell_type": "markdown",
   "metadata": {},
   "source": [
    "#Ref: https://egallic.fr/en/european-map-using-r/"
   ]
  }
 ],
 "metadata": {
  "kernelspec": {
   "display_name": "R",
   "language": "R",
   "name": "ir"
  },
  "language_info": {
   "codemirror_mode": "r",
   "file_extension": ".r",
   "mimetype": "text/x-r-source",
   "name": "R",
   "pygments_lexer": "r",
   "version": "4.0.2"
  }
 },
 "nbformat": 4,
 "nbformat_minor": 4
}
