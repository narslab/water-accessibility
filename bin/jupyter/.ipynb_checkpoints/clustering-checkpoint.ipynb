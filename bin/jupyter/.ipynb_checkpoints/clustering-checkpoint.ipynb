{
 "cells": [
  {
   "cell_type": "markdown",
   "metadata": {},
   "source": [
    "# Clustering"
   ]
  },
  {
   "cell_type": "code",
   "execution_count": 1,
   "metadata": {},
   "outputs": [
    {
     "name": "stderr",
     "output_type": "stream",
     "text": [
      "Warning message:\n",
      "\"package 'tidyverse' was built under R version 4.0.3\"\n",
      "-- \u001b[1mAttaching packages\u001b[22m --------------------------------------- tidyverse 1.3.0 --\n",
      "\n",
      "\u001b[32mv\u001b[39m \u001b[34mggplot2\u001b[39m 3.3.2     \u001b[32mv\u001b[39m \u001b[34mpurrr  \u001b[39m 0.3.4\n",
      "\u001b[32mv\u001b[39m \u001b[34mtibble \u001b[39m 3.0.3     \u001b[32mv\u001b[39m \u001b[34mdplyr  \u001b[39m 1.0.2\n",
      "\u001b[32mv\u001b[39m \u001b[34mtidyr  \u001b[39m 1.1.2     \u001b[32mv\u001b[39m \u001b[34mstringr\u001b[39m 1.4.0\n",
      "\u001b[32mv\u001b[39m \u001b[34mreadr  \u001b[39m 1.4.0     \u001b[32mv\u001b[39m \u001b[34mforcats\u001b[39m 0.5.0\n",
      "\n",
      "Warning message:\n",
      "\"package 'ggplot2' was built under R version 4.0.3\"\n",
      "-- \u001b[1mConflicts\u001b[22m ------------------------------------------ tidyverse_conflicts() --\n",
      "\u001b[31mx\u001b[39m \u001b[34mdplyr\u001b[39m::\u001b[32mfilter()\u001b[39m masks \u001b[34mstats\u001b[39m::filter()\n",
      "\u001b[31mx\u001b[39m \u001b[34mdplyr\u001b[39m::\u001b[32mlag()\u001b[39m    masks \u001b[34mstats\u001b[39m::lag()\n",
      "\n",
      "Warning message:\n",
      "\"package 'factoextra' was built under R version 4.0.3\"\n",
      "Welcome! Want to learn more? See two factoextra-related books at https://goo.gl/ve3WBa\n",
      "\n",
      "\n",
      "Attaching package: 'gridExtra'\n",
      "\n",
      "\n",
      "The following object is masked from 'package:dplyr':\n",
      "\n",
      "    combine\n",
      "\n",
      "\n",
      "Warning message:\n",
      "\"package 'dendextend' was built under R version 4.0.3\"\n",
      "\n",
      "---------------------\n",
      "Welcome to dendextend version 1.14.0\n",
      "Type citation('dendextend') for how to cite the package.\n",
      "\n",
      "Type browseVignettes(package = 'dendextend') for the package vignette.\n",
      "The github page is: https://github.com/talgalili/dendextend/\n",
      "\n",
      "Suggestions and bug-reports can be submitted at: https://github.com/talgalili/dendextend/issues\n",
      "Or contact: <tal.galili@gmail.com>\n",
      "\n",
      "\tTo suppress this message use:  suppressPackageStartupMessages(library(dendextend))\n",
      "---------------------\n",
      "\n",
      "\n",
      "\n",
      "Attaching package: 'dendextend'\n",
      "\n",
      "\n",
      "The following object is masked from 'package:stats':\n",
      "\n",
      "    cutree\n",
      "\n",
      "\n",
      "Warning message:\n",
      "\"package 'rlang' was built under R version 4.0.3\"\n",
      "\n",
      "Attaching package: 'rlang'\n",
      "\n",
      "\n",
      "The following objects are masked from 'package:purrr':\n",
      "\n",
      "    %@%, as_function, flatten, flatten_chr, flatten_dbl, flatten_int,\n",
      "    flatten_lgl, flatten_raw, invoke, list_along, modify, prepend,\n",
      "    splice\n",
      "\n",
      "\n",
      "Warning message:\n",
      "\"package 'NbClust' was built under R version 4.0.3\"\n"
     ]
    }
   ],
   "source": [
    "library(readxl)\n",
    "library(tidyverse) #data Manipulation\n",
    "library(cluster) #Clustering algorithms\n",
    "library(factoextra)#Clustering Algorithms & Visualization\n",
    "library(gridExtra)\n",
    "#install.packages(\"dendextend\")\n",
    "#install.packages(\"ggplot2\")\n",
    "#install.packages(\"rlang\")\n",
    "library(dendextend) # For fancy deprograms\n",
    "library(rlang) # clustering cutting\n",
    "#install.packages('NbClust')\n",
    "library(NbClust)"
   ]
  },
  {
   "cell_type": "code",
   "execution_count": 2,
   "metadata": {},
   "outputs": [
    {
     "data": {
      "text/html": [
       "<table>\n",
       "<caption>A tibble: 6 × 31</caption>\n",
       "<thead>\n",
       "\t<tr><th scope=col>Country</th><th scope=col>Year</th><th scope=col>Survey</th><th scope=col>imws</th><th scope=col>phom</th><th scope=col>pipy</th><th scope=col>ptap</th><th scope=col>bore</th><th scope=col>pwel</th><th scope=col>pspr</th><th scope=col>...</th><th scope=col>liws</th><th scope=col>watp</th><th scope=col>tles</th><th scope=col>tmor</th><th scope=col>bicy</th><th scope=col>acar</th><th scope=col>mcyc</th><th scope=col>pcar</th><th scope=col>boat</th><th scope=col>wigc</th></tr>\n",
       "\t<tr><th scope=col>&lt;chr&gt;</th><th scope=col>&lt;dbl&gt;</th><th scope=col>&lt;chr&gt;</th><th scope=col>&lt;dbl&gt;</th><th scope=col>&lt;dbl&gt;</th><th scope=col>&lt;dbl&gt;</th><th scope=col>&lt;dbl&gt;</th><th scope=col>&lt;dbl&gt;</th><th scope=col>&lt;dbl&gt;</th><th scope=col>&lt;dbl&gt;</th><th scope=col>...</th><th scope=col>&lt;dbl&gt;</th><th scope=col>&lt;dbl&gt;</th><th scope=col>&lt;dbl&gt;</th><th scope=col>&lt;dbl&gt;</th><th scope=col>&lt;dbl&gt;</th><th scope=col>&lt;dbl&gt;</th><th scope=col>&lt;dbl&gt;</th><th scope=col>&lt;dbl&gt;</th><th scope=col>&lt;dbl&gt;</th><th scope=col>&lt;dbl&gt;</th></tr>\n",
       "</thead>\n",
       "<tbody>\n",
       "\t<tr><td>Afghanistan</td><td>2015</td><td>DHS</td><td>71.2</td><td> 2.3</td><td> 4.8</td><td>14.2</td><td>20.1</td><td>18.5</td><td>4.7</td><td>...</td><td>5.0</td><td>45.3</td><td>45.2</td><td> 8.2</td><td>30.0</td><td>5.8</td><td>35.2</td><td>11.8</td><td>0.0</td><td>0.1</td></tr>\n",
       "\t<tr><td>Albania    </td><td>2018</td><td>DHS</td><td>98.4</td><td>48.8</td><td> 5.2</td><td> 2.4</td><td> 1.4</td><td> 4.1</td><td>2.5</td><td>...</td><td>0.9</td><td>77.9</td><td>20.6</td><td> 1.1</td><td>26.4</td><td>3.2</td><td> 9.6</td><td>37.0</td><td>0.7</td><td>0.1</td></tr>\n",
       "\t<tr><td>Angola     </td><td>2016</td><td>DHS</td><td>66.9</td><td> 4.3</td><td> 9.7</td><td>10.3</td><td> 1.9</td><td> 9.1</td><td>3.3</td><td>...</td><td>7.5</td><td>34.5</td><td>46.1</td><td>15.6</td><td> 4.6</td><td>1.3</td><td>17.8</td><td>10.9</td><td>0.4</td><td>0.3</td></tr>\n",
       "\t<tr><td>Armenia    </td><td>2016</td><td>DHS</td><td>99.9</td><td>88.3</td><td> 8.0</td><td> 0.5</td><td> 0.2</td><td> 0.2</td><td>1.0</td><td>...</td><td>0.1</td><td>97.6</td><td> 1.6</td><td> 0.1</td><td> 8.6</td><td>0.4</td><td> 0.2</td><td>39.2</td><td>0.3</td><td>0.1</td></tr>\n",
       "\t<tr><td>Azerbaijan </td><td>2006</td><td>DHS</td><td>90.6</td><td>34.0</td><td>19.7</td><td> 3.5</td><td> 9.3</td><td> 6.2</td><td>7.5</td><td>...</td><td>3.4</td><td>75.9</td><td>18.7</td><td> 4.4</td><td> 6.9</td><td>3.3</td><td> 1.1</td><td>20.4</td><td>0.1</td><td>0.0</td></tr>\n",
       "\t<tr><td>Bangladesh </td><td>2014</td><td>DHS</td><td>97.8</td><td> 4.3</td><td> 3.3</td><td> 2.7</td><td>86.4</td><td> 0.2</td><td>0.0</td><td>...</td><td>1.3</td><td>75.5</td><td>22.7</td><td> 1.6</td><td>25.1</td><td>0.0</td><td> 6.4</td><td> 0.8</td><td>0.0</td><td>0.3</td></tr>\n",
       "</tbody>\n",
       "</table>\n"
      ],
      "text/latex": [
       "A tibble: 6 × 31\n",
       "\\begin{tabular}{lllllllllllllllllllll}\n",
       " Country & Year & Survey & imws & phom & pipy & ptap & bore & pwel & pspr & ... & liws & watp & tles & tmor & bicy & acar & mcyc & pcar & boat & wigc\\\\\n",
       " <chr> & <dbl> & <chr> & <dbl> & <dbl> & <dbl> & <dbl> & <dbl> & <dbl> & <dbl> & ... & <dbl> & <dbl> & <dbl> & <dbl> & <dbl> & <dbl> & <dbl> & <dbl> & <dbl> & <dbl>\\\\\n",
       "\\hline\n",
       "\t Afghanistan & 2015 & DHS & 71.2 &  2.3 &  4.8 & 14.2 & 20.1 & 18.5 & 4.7 & ... & 5.0 & 45.3 & 45.2 &  8.2 & 30.0 & 5.8 & 35.2 & 11.8 & 0.0 & 0.1\\\\\n",
       "\t Albania     & 2018 & DHS & 98.4 & 48.8 &  5.2 &  2.4 &  1.4 &  4.1 & 2.5 & ... & 0.9 & 77.9 & 20.6 &  1.1 & 26.4 & 3.2 &  9.6 & 37.0 & 0.7 & 0.1\\\\\n",
       "\t Angola      & 2016 & DHS & 66.9 &  4.3 &  9.7 & 10.3 &  1.9 &  9.1 & 3.3 & ... & 7.5 & 34.5 & 46.1 & 15.6 &  4.6 & 1.3 & 17.8 & 10.9 & 0.4 & 0.3\\\\\n",
       "\t Armenia     & 2016 & DHS & 99.9 & 88.3 &  8.0 &  0.5 &  0.2 &  0.2 & 1.0 & ... & 0.1 & 97.6 &  1.6 &  0.1 &  8.6 & 0.4 &  0.2 & 39.2 & 0.3 & 0.1\\\\\n",
       "\t Azerbaijan  & 2006 & DHS & 90.6 & 34.0 & 19.7 &  3.5 &  9.3 &  6.2 & 7.5 & ... & 3.4 & 75.9 & 18.7 &  4.4 &  6.9 & 3.3 &  1.1 & 20.4 & 0.1 & 0.0\\\\\n",
       "\t Bangladesh  & 2014 & DHS & 97.8 &  4.3 &  3.3 &  2.7 & 86.4 &  0.2 & 0.0 & ... & 1.3 & 75.5 & 22.7 &  1.6 & 25.1 & 0.0 &  6.4 &  0.8 & 0.0 & 0.3\\\\\n",
       "\\end{tabular}\n"
      ],
      "text/markdown": [
       "\n",
       "A tibble: 6 × 31\n",
       "\n",
       "| Country &lt;chr&gt; | Year &lt;dbl&gt; | Survey &lt;chr&gt; | imws &lt;dbl&gt; | phom &lt;dbl&gt; | pipy &lt;dbl&gt; | ptap &lt;dbl&gt; | bore &lt;dbl&gt; | pwel &lt;dbl&gt; | pspr &lt;dbl&gt; | ... ... | liws &lt;dbl&gt; | watp &lt;dbl&gt; | tles &lt;dbl&gt; | tmor &lt;dbl&gt; | bicy &lt;dbl&gt; | acar &lt;dbl&gt; | mcyc &lt;dbl&gt; | pcar &lt;dbl&gt; | boat &lt;dbl&gt; | wigc &lt;dbl&gt; |\n",
       "|---|---|---|---|---|---|---|---|---|---|---|---|---|---|---|---|---|---|---|---|---|\n",
       "| Afghanistan | 2015 | DHS | 71.2 |  2.3 |  4.8 | 14.2 | 20.1 | 18.5 | 4.7 | ... | 5.0 | 45.3 | 45.2 |  8.2 | 30.0 | 5.8 | 35.2 | 11.8 | 0.0 | 0.1 |\n",
       "| Albania     | 2018 | DHS | 98.4 | 48.8 |  5.2 |  2.4 |  1.4 |  4.1 | 2.5 | ... | 0.9 | 77.9 | 20.6 |  1.1 | 26.4 | 3.2 |  9.6 | 37.0 | 0.7 | 0.1 |\n",
       "| Angola      | 2016 | DHS | 66.9 |  4.3 |  9.7 | 10.3 |  1.9 |  9.1 | 3.3 | ... | 7.5 | 34.5 | 46.1 | 15.6 |  4.6 | 1.3 | 17.8 | 10.9 | 0.4 | 0.3 |\n",
       "| Armenia     | 2016 | DHS | 99.9 | 88.3 |  8.0 |  0.5 |  0.2 |  0.2 | 1.0 | ... | 0.1 | 97.6 |  1.6 |  0.1 |  8.6 | 0.4 |  0.2 | 39.2 | 0.3 | 0.1 |\n",
       "| Azerbaijan  | 2006 | DHS | 90.6 | 34.0 | 19.7 |  3.5 |  9.3 |  6.2 | 7.5 | ... | 3.4 | 75.9 | 18.7 |  4.4 |  6.9 | 3.3 |  1.1 | 20.4 | 0.1 | 0.0 |\n",
       "| Bangladesh  | 2014 | DHS | 97.8 |  4.3 |  3.3 |  2.7 | 86.4 |  0.2 | 0.0 | ... | 1.3 | 75.5 | 22.7 |  1.6 | 25.1 | 0.0 |  6.4 |  0.8 | 0.0 | 0.3 |\n",
       "\n"
      ],
      "text/plain": [
       "  Country     Year Survey imws phom pipy ptap bore pwel pspr ... liws watp tles\n",
       "1 Afghanistan 2015 DHS    71.2  2.3  4.8 14.2 20.1 18.5 4.7  ... 5.0  45.3 45.2\n",
       "2 Albania     2018 DHS    98.4 48.8  5.2  2.4  1.4  4.1 2.5  ... 0.9  77.9 20.6\n",
       "3 Angola      2016 DHS    66.9  4.3  9.7 10.3  1.9  9.1 3.3  ... 7.5  34.5 46.1\n",
       "4 Armenia     2016 DHS    99.9 88.3  8.0  0.5  0.2  0.2 1.0  ... 0.1  97.6  1.6\n",
       "5 Azerbaijan  2006 DHS    90.6 34.0 19.7  3.5  9.3  6.2 7.5  ... 3.4  75.9 18.7\n",
       "6 Bangladesh  2014 DHS    97.8  4.3  3.3  2.7 86.4  0.2 0.0  ... 1.3  75.5 22.7\n",
       "  tmor bicy acar mcyc pcar boat wigc\n",
       "1  8.2 30.0 5.8  35.2 11.8 0.0  0.1 \n",
       "2  1.1 26.4 3.2   9.6 37.0 0.7  0.1 \n",
       "3 15.6  4.6 1.3  17.8 10.9 0.4  0.3 \n",
       "4  0.1  8.6 0.4   0.2 39.2 0.3  0.1 \n",
       "5  4.4  6.9 3.3   1.1 20.4 0.1  0.0 \n",
       "6  1.6 25.1 0.0   6.4  0.8 0.0  0.3 "
      ]
     },
     "metadata": {},
     "output_type": "display_data"
    }
   ],
   "source": [
    "dfsimple <- read_excel(\"C:/Users/hichul/Desktop/2020-2021/Fall of 2020/Independent Study/water-accessibility/results/dfsimple.xlsx\",sheet=1)\n",
    "head(dfsimple)"
   ]
  },
  {
   "cell_type": "code",
   "execution_count": 3,
   "metadata": {},
   "outputs": [
    {
     "data": {
      "text/html": [
       "<table>\n",
       "<caption>A tibble: 6 × 11</caption>\n",
       "<thead>\n",
       "\t<tr><th scope=col>ptap</th><th scope=col>bore</th><th scope=col>pspr</th><th scope=col>uspr</th><th scope=col>pwel</th><th scope=col>uwel</th><th scope=col>surw</th><th scope=col>tles</th><th scope=col>tmor</th><th scope=col>rain</th><th scope=col>phom</th></tr>\n",
       "\t<tr><th scope=col>&lt;dbl&gt;</th><th scope=col>&lt;dbl&gt;</th><th scope=col>&lt;dbl&gt;</th><th scope=col>&lt;dbl&gt;</th><th scope=col>&lt;dbl&gt;</th><th scope=col>&lt;dbl&gt;</th><th scope=col>&lt;dbl&gt;</th><th scope=col>&lt;dbl&gt;</th><th scope=col>&lt;dbl&gt;</th><th scope=col>&lt;dbl&gt;</th><th scope=col>&lt;dbl&gt;</th></tr>\n",
       "</thead>\n",
       "<tbody>\n",
       "\t<tr><td>14.2</td><td>20.1</td><td>4.7</td><td>8.6</td><td>18.5</td><td>11.1</td><td> 7.3</td><td>45.2</td><td> 8.2</td><td>0.4</td><td> 2.3</td></tr>\n",
       "\t<tr><td> 2.4</td><td> 1.4</td><td>2.5</td><td>0.8</td><td> 4.1</td><td> 0.8</td><td> 0.0</td><td>20.6</td><td> 1.1</td><td>0.0</td><td>48.8</td></tr>\n",
       "\t<tr><td>10.3</td><td> 1.9</td><td>3.3</td><td>4.8</td><td> 9.1</td><td> 8.3</td><td>18.0</td><td>46.1</td><td>15.6</td><td>1.7</td><td> 4.3</td></tr>\n",
       "\t<tr><td> 0.5</td><td> 0.2</td><td>1.0</td><td>0.1</td><td> 0.2</td><td> 0.0</td><td> 0.0</td><td> 1.6</td><td> 0.1</td><td>0.0</td><td>88.3</td></tr>\n",
       "\t<tr><td> 3.5</td><td> 9.3</td><td>7.5</td><td>1.1</td><td> 6.2</td><td> 0.2</td><td> 7.0</td><td>18.7</td><td> 4.4</td><td>0.0</td><td>34.0</td></tr>\n",
       "\t<tr><td> 2.7</td><td>86.4</td><td>0.0</td><td>0.3</td><td> 0.2</td><td> 0.6</td><td> 1.2</td><td>22.7</td><td> 1.6</td><td>0.4</td><td> 4.3</td></tr>\n",
       "</tbody>\n",
       "</table>\n"
      ],
      "text/latex": [
       "A tibble: 6 × 11\n",
       "\\begin{tabular}{lllllllllll}\n",
       " ptap & bore & pspr & uspr & pwel & uwel & surw & tles & tmor & rain & phom\\\\\n",
       " <dbl> & <dbl> & <dbl> & <dbl> & <dbl> & <dbl> & <dbl> & <dbl> & <dbl> & <dbl> & <dbl>\\\\\n",
       "\\hline\n",
       "\t 14.2 & 20.1 & 4.7 & 8.6 & 18.5 & 11.1 &  7.3 & 45.2 &  8.2 & 0.4 &  2.3\\\\\n",
       "\t  2.4 &  1.4 & 2.5 & 0.8 &  4.1 &  0.8 &  0.0 & 20.6 &  1.1 & 0.0 & 48.8\\\\\n",
       "\t 10.3 &  1.9 & 3.3 & 4.8 &  9.1 &  8.3 & 18.0 & 46.1 & 15.6 & 1.7 &  4.3\\\\\n",
       "\t  0.5 &  0.2 & 1.0 & 0.1 &  0.2 &  0.0 &  0.0 &  1.6 &  0.1 & 0.0 & 88.3\\\\\n",
       "\t  3.5 &  9.3 & 7.5 & 1.1 &  6.2 &  0.2 &  7.0 & 18.7 &  4.4 & 0.0 & 34.0\\\\\n",
       "\t  2.7 & 86.4 & 0.0 & 0.3 &  0.2 &  0.6 &  1.2 & 22.7 &  1.6 & 0.4 &  4.3\\\\\n",
       "\\end{tabular}\n"
      ],
      "text/markdown": [
       "\n",
       "A tibble: 6 × 11\n",
       "\n",
       "| ptap &lt;dbl&gt; | bore &lt;dbl&gt; | pspr &lt;dbl&gt; | uspr &lt;dbl&gt; | pwel &lt;dbl&gt; | uwel &lt;dbl&gt; | surw &lt;dbl&gt; | tles &lt;dbl&gt; | tmor &lt;dbl&gt; | rain &lt;dbl&gt; | phom &lt;dbl&gt; |\n",
       "|---|---|---|---|---|---|---|---|---|---|---|\n",
       "| 14.2 | 20.1 | 4.7 | 8.6 | 18.5 | 11.1 |  7.3 | 45.2 |  8.2 | 0.4 |  2.3 |\n",
       "|  2.4 |  1.4 | 2.5 | 0.8 |  4.1 |  0.8 |  0.0 | 20.6 |  1.1 | 0.0 | 48.8 |\n",
       "| 10.3 |  1.9 | 3.3 | 4.8 |  9.1 |  8.3 | 18.0 | 46.1 | 15.6 | 1.7 |  4.3 |\n",
       "|  0.5 |  0.2 | 1.0 | 0.1 |  0.2 |  0.0 |  0.0 |  1.6 |  0.1 | 0.0 | 88.3 |\n",
       "|  3.5 |  9.3 | 7.5 | 1.1 |  6.2 |  0.2 |  7.0 | 18.7 |  4.4 | 0.0 | 34.0 |\n",
       "|  2.7 | 86.4 | 0.0 | 0.3 |  0.2 |  0.6 |  1.2 | 22.7 |  1.6 | 0.4 |  4.3 |\n",
       "\n"
      ],
      "text/plain": [
       "  ptap bore pspr uspr pwel uwel surw tles tmor rain phom\n",
       "1 14.2 20.1 4.7  8.6  18.5 11.1  7.3 45.2  8.2 0.4   2.3\n",
       "2  2.4  1.4 2.5  0.8   4.1  0.8  0.0 20.6  1.1 0.0  48.8\n",
       "3 10.3  1.9 3.3  4.8   9.1  8.3 18.0 46.1 15.6 1.7   4.3\n",
       "4  0.5  0.2 1.0  0.1   0.2  0.0  0.0  1.6  0.1 0.0  88.3\n",
       "5  3.5  9.3 7.5  1.1   6.2  0.2  7.0 18.7  4.4 0.0  34.0\n",
       "6  2.7 86.4 0.0  0.3   0.2  0.6  1.2 22.7  1.6 0.4   4.3"
      ]
     },
     "metadata": {},
     "output_type": "display_data"
    },
    {
     "data": {
      "text/html": [
       "<style>\n",
       ".dl-inline {width: auto; margin:0; padding: 0}\n",
       ".dl-inline>dt, .dl-inline>dd {float: none; width: auto; display: inline-block}\n",
       ".dl-inline>dt::after {content: \":\\0020\"; padding-right: .5ex}\n",
       ".dl-inline>dt:not(:first-of-type) {padding-left: .5ex}\n",
       "</style><dl class=dl-inline><dt>ptap</dt><dd>'numeric'</dd><dt>bore</dt><dd>'numeric'</dd><dt>pspr</dt><dd>'numeric'</dd><dt>uspr</dt><dd>'numeric'</dd><dt>pwel</dt><dd>'numeric'</dd><dt>uwel</dt><dd>'numeric'</dd><dt>surw</dt><dd>'numeric'</dd><dt>tles</dt><dd>'numeric'</dd><dt>tmor</dt><dd>'numeric'</dd><dt>rain</dt><dd>'numeric'</dd><dt>phom</dt><dd>'numeric'</dd></dl>\n"
      ],
      "text/latex": [
       "\\begin{description*}\n",
       "\\item[ptap] 'numeric'\n",
       "\\item[bore] 'numeric'\n",
       "\\item[pspr] 'numeric'\n",
       "\\item[uspr] 'numeric'\n",
       "\\item[pwel] 'numeric'\n",
       "\\item[uwel] 'numeric'\n",
       "\\item[surw] 'numeric'\n",
       "\\item[tles] 'numeric'\n",
       "\\item[tmor] 'numeric'\n",
       "\\item[rain] 'numeric'\n",
       "\\item[phom] 'numeric'\n",
       "\\end{description*}\n"
      ],
      "text/markdown": [
       "ptap\n",
       ":   'numeric'bore\n",
       ":   'numeric'pspr\n",
       ":   'numeric'uspr\n",
       ":   'numeric'pwel\n",
       ":   'numeric'uwel\n",
       ":   'numeric'surw\n",
       ":   'numeric'tles\n",
       ":   'numeric'tmor\n",
       ":   'numeric'rain\n",
       ":   'numeric'phom\n",
       ":   'numeric'\n",
       "\n"
      ],
      "text/plain": [
       "     ptap      bore      pspr      uspr      pwel      uwel      surw      tles \n",
       "\"numeric\" \"numeric\" \"numeric\" \"numeric\" \"numeric\" \"numeric\" \"numeric\" \"numeric\" \n",
       "     tmor      rain      phom \n",
       "\"numeric\" \"numeric\" \"numeric\" "
      ]
     },
     "metadata": {},
     "output_type": "display_data"
    }
   ],
   "source": [
    "df.wa <- dfsimple[,c('ptap','bore','pspr', 'uspr', 'pwel', 'uwel','surw','tles','tmor','rain','phom' )]\n",
    "head(df.wa)\n",
    "sapply(df.wa, class)"
   ]
  },
  {
   "cell_type": "markdown",
   "metadata": {},
   "source": [
    "To apply clustering, we want to only use water accessibility variables"
   ]
  },
  {
   "cell_type": "code",
   "execution_count": 4,
   "metadata": {},
   "outputs": [],
   "source": [
    "write.csv(df.wa , '../../results/df-water-access.csv')"
   ]
  },
  {
   "cell_type": "code",
   "execution_count": null,
   "metadata": {},
   "outputs": [],
   "source": [
    "df.explore <- dfsimple[,c('imws','pipy','truc', 'ctan', 'bott', 'uiws','othw','iwsp','basw','liws','watp','bicy','acar','mcyc',\n",
    "                         'pcar',\n",
    "                         'boat',\n",
    "                         'wigc')]\n",
    "head(df.explore)"
   ]
  }
 ],
 "metadata": {
  "kernelspec": {
   "display_name": "R",
   "language": "R",
   "name": "ir"
  },
  "language_info": {
   "codemirror_mode": "r",
   "file_extension": ".r",
   "mimetype": "text/x-r-source",
   "name": "R",
   "pygments_lexer": "r",
   "version": "4.0.2"
  }
 },
 "nbformat": 4,
 "nbformat_minor": 4
}
