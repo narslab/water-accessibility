{
 "cells": [
  {
   "cell_type": "code",
   "execution_count": 55,
   "metadata": {
    "scrolled": false
   },
   "outputs": [],
   "source": [
    "#install.packages(c(\"FactoMineR\", \"factoextra\"))\n",
    "library(\"FactoMineR\")\n",
    "library(\"factoextra\")\n",
    "library(readxl)\n",
    "library(dplyr)\n",
    "library(psych)\n",
    "#install.packages(\"GPArotation\")\n",
    "library(GPArotation)\n",
    "#install.packages(\"psy\")\n",
    "library(psy)\n",
    "#install.packages(\"nFactors\")\n",
    "library(nFactors)\n",
    "library(mvtnorm) # col.norm\n",
    "library(tilting) # col.norm\n",
    "library(corrplot)\n",
    "library(writexl)\n",
    "#install.packages(\"scales\")\n",
    "library(scales)\n",
    "#install.packages(\"Rcsdp\")\n",
    "library(Rcsdp)\n",
    "#install.packages('reshape2')\n",
    "library(reshape2)\n",
    "library(ggplot2)"
   ]
  },
  {
   "cell_type": "code",
   "execution_count": 7,
   "metadata": {},
   "outputs": [
    {
     "data": {
      "text/html": [
       "<table class=\"dataframe\">\n",
       "<caption>A tibble: 6 × 18</caption>\n",
       "<thead>\n",
       "\t<tr><th scope=col>Country</th><th scope=col>phom</th><th scope=col>pipy</th><th scope=col>ptap</th><th scope=col>bore</th><th scope=col>pwel</th><th scope=col>pspr</th><th scope=col>rain</th><th scope=col>uwel</th><th scope=col>uspr</th><th scope=col>truc</th><th scope=col>ctan</th><th scope=col>bott</th><th scope=col>othw</th><th scope=col>surw</th><th scope=col>tles</th><th scope=col>tmor</th><th scope=col>watp</th></tr>\n",
       "\t<tr><th scope=col>&lt;chr&gt;</th><th scope=col>&lt;dbl&gt;</th><th scope=col>&lt;dbl&gt;</th><th scope=col>&lt;dbl&gt;</th><th scope=col>&lt;dbl&gt;</th><th scope=col>&lt;dbl&gt;</th><th scope=col>&lt;dbl&gt;</th><th scope=col>&lt;dbl&gt;</th><th scope=col>&lt;dbl&gt;</th><th scope=col>&lt;dbl&gt;</th><th scope=col>&lt;dbl&gt;</th><th scope=col>&lt;dbl&gt;</th><th scope=col>&lt;dbl&gt;</th><th scope=col>&lt;dbl&gt;</th><th scope=col>&lt;dbl&gt;</th><th scope=col>&lt;dbl&gt;</th><th scope=col>&lt;dbl&gt;</th><th scope=col>&lt;dbl&gt;</th></tr>\n",
       "</thead>\n",
       "<tbody>\n",
       "\t<tr><td>Afghanistan</td><td> 2.3</td><td> 4.8</td><td>14.2</td><td>20.1</td><td>18.5</td><td>4.7</td><td>0.4</td><td>11.1</td><td>8.6</td><td> 1.5</td><td>4.4</td><td> 0.2</td><td>1.7</td><td> 7.3</td><td>45.2</td><td> 8.2</td><td>45.3</td></tr>\n",
       "\t<tr><td>Albania    </td><td>48.8</td><td> 5.2</td><td> 2.4</td><td> 1.4</td><td> 4.1</td><td>2.5</td><td>0.0</td><td> 0.8</td><td>0.8</td><td>14.1</td><td>0.2</td><td>19.6</td><td>0.1</td><td> 0.0</td><td>20.6</td><td> 1.1</td><td>77.9</td></tr>\n",
       "\t<tr><td>Angola     </td><td> 4.3</td><td> 9.7</td><td>10.3</td><td> 1.9</td><td> 9.1</td><td>3.3</td><td>1.7</td><td> 8.3</td><td>4.8</td><td> 9.7</td><td>4.3</td><td> 1.2</td><td>1.8</td><td>18.0</td><td>46.1</td><td>15.6</td><td>34.5</td></tr>\n",
       "\t<tr><td>Armenia    </td><td>88.3</td><td> 8.0</td><td> 0.5</td><td> 0.2</td><td> 0.2</td><td>1.0</td><td>0.0</td><td> 0.0</td><td>0.1</td><td> 1.5</td><td>0.0</td><td> 0.0</td><td>0.0</td><td> 0.0</td><td> 1.6</td><td> 0.1</td><td>97.6</td></tr>\n",
       "\t<tr><td>Azerbaijan </td><td>34.0</td><td>19.7</td><td> 3.5</td><td> 9.3</td><td> 6.2</td><td>7.5</td><td>0.0</td><td> 0.2</td><td>1.1</td><td> 9.5</td><td>0.7</td><td> 0.1</td><td>1.1</td><td> 7.0</td><td>18.7</td><td> 4.4</td><td>75.9</td></tr>\n",
       "\t<tr><td>Bangladesh </td><td> 4.3</td><td> 3.3</td><td> 2.7</td><td>86.4</td><td> 0.2</td><td>0.0</td><td>0.4</td><td> 0.6</td><td>0.3</td><td> 0.0</td><td>0.1</td><td> 0.3</td><td>0.1</td><td> 1.2</td><td>22.7</td><td> 1.6</td><td>75.5</td></tr>\n",
       "</tbody>\n",
       "</table>\n"
      ],
      "text/latex": [
       "A tibble: 6 × 18\n",
       "\\begin{tabular}{llllllllllllllllll}\n",
       " Country & phom & pipy & ptap & bore & pwel & pspr & rain & uwel & uspr & truc & ctan & bott & othw & surw & tles & tmor & watp\\\\\n",
       " <chr> & <dbl> & <dbl> & <dbl> & <dbl> & <dbl> & <dbl> & <dbl> & <dbl> & <dbl> & <dbl> & <dbl> & <dbl> & <dbl> & <dbl> & <dbl> & <dbl> & <dbl>\\\\\n",
       "\\hline\n",
       "\t Afghanistan &  2.3 &  4.8 & 14.2 & 20.1 & 18.5 & 4.7 & 0.4 & 11.1 & 8.6 &  1.5 & 4.4 &  0.2 & 1.7 &  7.3 & 45.2 &  8.2 & 45.3\\\\\n",
       "\t Albania     & 48.8 &  5.2 &  2.4 &  1.4 &  4.1 & 2.5 & 0.0 &  0.8 & 0.8 & 14.1 & 0.2 & 19.6 & 0.1 &  0.0 & 20.6 &  1.1 & 77.9\\\\\n",
       "\t Angola      &  4.3 &  9.7 & 10.3 &  1.9 &  9.1 & 3.3 & 1.7 &  8.3 & 4.8 &  9.7 & 4.3 &  1.2 & 1.8 & 18.0 & 46.1 & 15.6 & 34.5\\\\\n",
       "\t Armenia     & 88.3 &  8.0 &  0.5 &  0.2 &  0.2 & 1.0 & 0.0 &  0.0 & 0.1 &  1.5 & 0.0 &  0.0 & 0.0 &  0.0 &  1.6 &  0.1 & 97.6\\\\\n",
       "\t Azerbaijan  & 34.0 & 19.7 &  3.5 &  9.3 &  6.2 & 7.5 & 0.0 &  0.2 & 1.1 &  9.5 & 0.7 &  0.1 & 1.1 &  7.0 & 18.7 &  4.4 & 75.9\\\\\n",
       "\t Bangladesh  &  4.3 &  3.3 &  2.7 & 86.4 &  0.2 & 0.0 & 0.4 &  0.6 & 0.3 &  0.0 & 0.1 &  0.3 & 0.1 &  1.2 & 22.7 &  1.6 & 75.5\\\\\n",
       "\\end{tabular}\n"
      ],
      "text/markdown": [
       "\n",
       "A tibble: 6 × 18\n",
       "\n",
       "| Country &lt;chr&gt; | phom &lt;dbl&gt; | pipy &lt;dbl&gt; | ptap &lt;dbl&gt; | bore &lt;dbl&gt; | pwel &lt;dbl&gt; | pspr &lt;dbl&gt; | rain &lt;dbl&gt; | uwel &lt;dbl&gt; | uspr &lt;dbl&gt; | truc &lt;dbl&gt; | ctan &lt;dbl&gt; | bott &lt;dbl&gt; | othw &lt;dbl&gt; | surw &lt;dbl&gt; | tles &lt;dbl&gt; | tmor &lt;dbl&gt; | watp &lt;dbl&gt; |\n",
       "|---|---|---|---|---|---|---|---|---|---|---|---|---|---|---|---|---|---|\n",
       "| Afghanistan |  2.3 |  4.8 | 14.2 | 20.1 | 18.5 | 4.7 | 0.4 | 11.1 | 8.6 |  1.5 | 4.4 |  0.2 | 1.7 |  7.3 | 45.2 |  8.2 | 45.3 |\n",
       "| Albania     | 48.8 |  5.2 |  2.4 |  1.4 |  4.1 | 2.5 | 0.0 |  0.8 | 0.8 | 14.1 | 0.2 | 19.6 | 0.1 |  0.0 | 20.6 |  1.1 | 77.9 |\n",
       "| Angola      |  4.3 |  9.7 | 10.3 |  1.9 |  9.1 | 3.3 | 1.7 |  8.3 | 4.8 |  9.7 | 4.3 |  1.2 | 1.8 | 18.0 | 46.1 | 15.6 | 34.5 |\n",
       "| Armenia     | 88.3 |  8.0 |  0.5 |  0.2 |  0.2 | 1.0 | 0.0 |  0.0 | 0.1 |  1.5 | 0.0 |  0.0 | 0.0 |  0.0 |  1.6 |  0.1 | 97.6 |\n",
       "| Azerbaijan  | 34.0 | 19.7 |  3.5 |  9.3 |  6.2 | 7.5 | 0.0 |  0.2 | 1.1 |  9.5 | 0.7 |  0.1 | 1.1 |  7.0 | 18.7 |  4.4 | 75.9 |\n",
       "| Bangladesh  |  4.3 |  3.3 |  2.7 | 86.4 |  0.2 | 0.0 | 0.4 |  0.6 | 0.3 |  0.0 | 0.1 |  0.3 | 0.1 |  1.2 | 22.7 |  1.6 | 75.5 |\n",
       "\n"
      ],
      "text/plain": [
       "  Country     phom pipy ptap bore pwel pspr rain uwel uspr truc ctan bott othw\n",
       "1 Afghanistan  2.3  4.8 14.2 20.1 18.5 4.7  0.4  11.1 8.6   1.5 4.4   0.2 1.7 \n",
       "2 Albania     48.8  5.2  2.4  1.4  4.1 2.5  0.0   0.8 0.8  14.1 0.2  19.6 0.1 \n",
       "3 Angola       4.3  9.7 10.3  1.9  9.1 3.3  1.7   8.3 4.8   9.7 4.3   1.2 1.8 \n",
       "4 Armenia     88.3  8.0  0.5  0.2  0.2 1.0  0.0   0.0 0.1   1.5 0.0   0.0 0.0 \n",
       "5 Azerbaijan  34.0 19.7  3.5  9.3  6.2 7.5  0.0   0.2 1.1   9.5 0.7   0.1 1.1 \n",
       "6 Bangladesh   4.3  3.3  2.7 86.4  0.2 0.0  0.4   0.6 0.3   0.0 0.1   0.3 0.1 \n",
       "  surw tles tmor watp\n",
       "1  7.3 45.2  8.2 45.3\n",
       "2  0.0 20.6  1.1 77.9\n",
       "3 18.0 46.1 15.6 34.5\n",
       "4  0.0  1.6  0.1 97.6\n",
       "5  7.0 18.7  4.4 75.9\n",
       "6  1.2 22.7  1.6 75.5"
      ]
     },
     "metadata": {},
     "output_type": "display_data"
    }
   ],
   "source": [
    "df.wa <- read_excel(\"../../results/df-water-access.xlsx\",sheet=1)\n",
    "df.wa.nocountry <- df.wa[,c(2:18)]\n",
    "head(df.wa)"
   ]
  },
  {
   "cell_type": "markdown",
   "metadata": {},
   "source": [
    "# Factor Analysis"
   ]
  },
  {
   "cell_type": "markdown",
   "metadata": {},
   "source": [
    "sources: http://www.di.fc.ul.pt/~jpn/r/factoranalysis/factoranalysis.html"
   ]
  },
  {
   "cell_type": "code",
   "execution_count": 5,
   "metadata": {
    "scrolled": false
   },
   "outputs": [
    {
     "data": {
      "text/plain": [
       "Importance of components:\n",
       "                          Comp.1    Comp.2     Comp.3     Comp.4     Comp.5\n",
       "Standard deviation     2.1306056 1.3634837 1.29778602 1.19416869 1.09637759\n",
       "Proportion of Variance 0.2670282 0.1093581 0.09907344 0.08388464 0.07070846\n",
       "Cumulative Proportion  0.2670282 0.3763863 0.47545978 0.55934442 0.63005288\n",
       "                           Comp.6     Comp.7     Comp.8    Comp.9    Comp.10\n",
       "Standard deviation     0.99851459 0.99230650 0.95128241 0.9075667 0.80357634\n",
       "Proportion of Variance 0.05864891 0.05792189 0.05323166 0.0484516 0.03798441\n",
       "Cumulative Proportion  0.68870179 0.74662368 0.79985534 0.8483069 0.88629135\n",
       "                          Comp.11    Comp.12    Comp.13    Comp.14    Comp.15\n",
       "Standard deviation     0.68852496 0.64449468 0.59008870 0.52902160 0.47384234\n",
       "Proportion of Variance 0.02788627 0.02443373 0.02048263 0.01646258 0.01320745\n",
       "Cumulative Proportion  0.91417762 0.93861135 0.95909398 0.97555656 0.98876400\n",
       "                           Comp.16     Comp.17\n",
       "Standard deviation     0.353133857 0.257504221\n",
       "Proportion of Variance 0.007335501 0.003900496\n",
       "Cumulative Proportion  0.996099504 1.000000000"
      ]
     },
     "metadata": {},
     "output_type": "display_data"
    },
    {
     "data": {
      "text/plain": [
       "\n",
       "Loadings:\n",
       "     Comp.1 Comp.2 Comp.3 Comp.4 Comp.5 Comp.6 Comp.7 Comp.8 Comp.9 Comp.10\n",
       "phom  0.321  0.105  0.150  0.112  0.414                0.287  0.259  0.217 \n",
       "pipy         0.425  0.299        -0.441 -0.129  0.142  0.177 -0.302        \n",
       "ptap -0.265  0.382  0.234        -0.138         0.226 -0.238               \n",
       "bore -0.136 -0.418  0.155 -0.367        -0.299 -0.333 -0.208  0.164 -0.317 \n",
       "pwel -0.178 -0.337  0.118  0.324  0.107  0.148  0.397  0.296        -0.357 \n",
       "pspr -0.166  0.326 -0.425         0.271 -0.116  0.200 -0.107        -0.317 \n",
       "rain  0.120        -0.320        -0.364  0.676 -0.162 -0.151 -0.138 -0.161 \n",
       "uwel -0.279 -0.277  0.247  0.169         0.193  0.115 -0.131         0.508 \n",
       "uspr -0.255  0.198 -0.446                              0.229  0.141  0.134 \n",
       "truc                       0.531  0.249 -0.104 -0.369 -0.312 -0.496 -0.152 \n",
       "ctan        -0.191 -0.235  0.431 -0.400 -0.434  0.244                      \n",
       "bott  0.271 -0.176 -0.381        -0.114 -0.113  0.274 -0.278         0.301 \n",
       "othw         0.228  0.138  0.401 -0.220  0.158 -0.176 -0.215  0.691 -0.218 \n",
       "surw -0.239        -0.165  0.189 -0.231        -0.493  0.458         0.189 \n",
       "tles -0.413                             -0.192                0.158  0.104 \n",
       "tmor -0.352                0.142  0.185               -0.376         0.194 \n",
       "watp  0.383                             -0.265 -0.134 -0.137         0.246 \n",
       "     Comp.11 Comp.12 Comp.13 Comp.14 Comp.15 Comp.16 Comp.17\n",
       "phom  0.108   0.301                   0.234   0.242   0.502 \n",
       "pipy  0.252  -0.266  -0.252                   0.143   0.357 \n",
       "ptap -0.355   0.252   0.437           0.276  -0.329   0.173 \n",
       "bore  0.120                           0.186  -0.174   0.437 \n",
       "pwel -0.272  -0.371                   0.314                 \n",
       "pspr          0.243  -0.555  -0.202          -0.101   0.124 \n",
       "rain          0.145          -0.149   0.266   0.187   0.163 \n",
       "uwel  0.180          -0.368  -0.383  -0.116  -0.238   0.175 \n",
       "uspr  0.316  -0.441   0.381  -0.255          -0.200   0.215 \n",
       "truc                  0.115  -0.201  -0.156           0.212 \n",
       "ctan  0.337   0.370   0.162           0.156                 \n",
       "bott -0.398  -0.228           0.247  -0.212           0.406 \n",
       "othw         -0.189  -0.116          -0.147                 \n",
       "surw -0.356   0.135  -0.233   0.271   0.141  -0.162         \n",
       "tles -0.248                  -0.292           0.755         \n",
       "tmor  0.297  -0.182  -0.120   0.560   0.360   0.182         \n",
       "watp -0.108  -0.279  -0.157  -0.361   0.615          -0.221 \n",
       "\n",
       "               Comp.1 Comp.2 Comp.3 Comp.4 Comp.5 Comp.6 Comp.7 Comp.8 Comp.9\n",
       "SS loadings     1.000  1.000  1.000  1.000  1.000  1.000  1.000  1.000  1.000\n",
       "Proportion Var  0.059  0.059  0.059  0.059  0.059  0.059  0.059  0.059  0.059\n",
       "Cumulative Var  0.059  0.118  0.176  0.235  0.294  0.353  0.412  0.471  0.529\n",
       "               Comp.10 Comp.11 Comp.12 Comp.13 Comp.14 Comp.15 Comp.16 Comp.17\n",
       "SS loadings      1.000   1.000   1.000   1.000   1.000   1.000   1.000   1.000\n",
       "Proportion Var   0.059   0.059   0.059   0.059   0.059   0.059   0.059   0.059\n",
       "Cumulative Var   0.588   0.647   0.706   0.765   0.824   0.882   0.941   1.000"
      ]
     },
     "metadata": {},
     "output_type": "display_data"
    },
    {
     "data": {
      "image/png": "[encoded data removed]",
      "text/plain": [
       "Plot with title \"fit\""
      ]
     },
     "metadata": {
      "image/png": {
       "height": 420,
       "width": 420
      }
     },
     "output_type": "display_data"
    },
    {
     "data": {
      "image/png": "[encoded data removed]",
      "text/plain": [
       "Plot with title \"Scree Plot\""
      ]
     },
     "metadata": {
      "image/png": {
       "height": 420,
       "width": 420
      }
     },
     "output_type": "display_data"
    }
   ],
   "source": [
    "# Pricipal Components Analysis\n",
    "# entering raw data and extracting PCs\n",
    "# from the correlation matrix\n",
    "fit <- princomp(df.wa[,c(2:18)], cor=TRUE)\n",
    "summary(fit) # print variance accounted for\n",
    "loadings(fit) # pc loadings\n",
    "plot(fit,type=\"lines\") # scree plot\n",
    "\n",
    "n.factors = 7\n",
    "fit <- factanal(df.wa[,c(2:18)], \n",
    "                n.factors ,                # number of factors to extract\n",
    "                scores=c(\"Bartlett\"),\n",
    "                rotation=\"promax\")\n",
    "scree.plot(fit$correlation)"
   ]
  },
  {
   "cell_type": "code",
   "execution_count": 20,
   "metadata": {
    "scrolled": false
   },
   "outputs": [
    {
     "name": "stdout",
     "output_type": "stream",
     "text": [
      "\n",
      "Loadings:\n",
      "     ML1   ML6   ML3   ML5   ML2   ML7   ML4  \n",
      "pwel  0.72                                    \n",
      "uwel  0.92 -0.36                              \n",
      "watp -0.62 -0.24              0.21            \n",
      "pspr -0.25  0.90                              \n",
      "uspr        0.72                    0.43      \n",
      "phom              0.52 -0.49 -0.27            \n",
      "bore       -0.43 -1.04       -0.34        0.24\n",
      "pipy -0.36 -0.23        0.87                  \n",
      "ptap  0.26        0.22  0.52              0.28\n",
      "bott                   -0.22  0.86 -0.32      \n",
      "surw                                0.70      \n",
      "tles  0.21                          0.37  0.61\n",
      "rain                          0.22       -0.45\n",
      "truc                                     -0.30\n",
      "ctan                          0.42            \n",
      "othw              0.28                        \n",
      "tmor  0.50  0.39                              \n",
      "\n",
      "                ML1  ML6  ML3  ML5  ML2  ML7  ML4\n",
      "SS loadings    2.42 2.01 1.61 1.42 1.26 1.00 0.91\n",
      "Proportion Var 0.14 0.12 0.09 0.08 0.07 0.06 0.05\n",
      "Cumulative Var 0.14 0.26 0.36 0.44 0.51 0.57 0.63\n"
     ]
    }
   ],
   "source": [
    "solution <- fa(df.wa.nocountry, nfactors = 7, rotate = \"promax\", fm = \"ml\", scores=\"tenBerge\", impute =\"mean\", max.iter = 1000 )\n",
    "scores.seven.factors = solution$scores\n",
    "scores.seven.factors = as.data.frame.matrix(scores.seven.factors) #df.wa multiply by scores matrix\n",
    "write_xlsx(scores.seven.factors, '../../results/scores-7-factors.xlsx')\n",
    "print(solution$loadings, digits=2, cutoff=.2, sort=TRUE) #sort out by the low numbers"
   ]
  },
  {
   "cell_type": "markdown",
   "metadata": {},
   "source": [
    "# A bar graph of factor loadings"
   ]
  },
  {
   "cell_type": "code",
   "execution_count": 73,
   "metadata": {
    "scrolled": false
   },
   "outputs": [
    {
     "data": {
      "image/png": "[encoded data removed]",
      "text/plain": [
       "plot without title"
      ]
     },
     "metadata": {
      "image/png": {
       "height": 420,
       "width": 900
      }
     },
     "output_type": "display_data"
    }
   ],
   "source": [
    "df.wa <- read_excel(\"../../results/factor-7-loadings.xlsx\",sheet=1)\n",
    "df.wa <- df.wa %>% \n",
    "  rename(\n",
    "      dugwell = ML1,\n",
    "      cheap_commercial = ML2,\n",
    "      piped_home = ML3,\n",
    "      thirthy_min_less_travel= ML4,\n",
    "      piped_yard_tap = ML5,\n",
    "      spring = ML6,\n",
    "      surface_water = ML7\n",
    "     )\n",
    "df.wa <- as.data.frame(df.wa)\n",
    "write_xlsx(df.wa , '../../results/factor-7-loadings.xlsx')\n",
    "\n",
    "loadings.m <- melt(df.wa, id=\"ws\", \n",
    "                   measure=c(    \n",
    "        'dugwell',\n",
    "   'cheap_commercial' ,\n",
    "      'piped_home' ,\n",
    "      'thirthy_min_less_travel',\n",
    "      'piped_yard_tap' ,\n",
    "      'spring',\n",
    "      'surface_water' ), \n",
    "                   variable.name=\"Factor\", value.name=\"Loading\")\n",
    "\n",
    "#size of the plot \n",
    "options(repr.plot.width=15, repr.plot.height=7)\n",
    "par(mar = c(1,1,1,1))\n",
    "par(cex=1)\n",
    "\n",
    "#For each ws (water sources), plot the loading as length and fill color of a bar\n",
    "# note that the length will be the absolute value of the loading but the \n",
    "# fill color will be the signed value, more on this below\n",
    "ggplot(data = loadings.m, aes(x = ws, y = abs(Loading), fill=Loading)) + \n",
    "  facet_wrap(~ Factor, nrow=1) + #place the factors in separate facets\n",
    "  geom_bar(stat=\"identity\") + #make the bars\n",
    "  coord_flip() + #flip the axes so the test names can be horizontal  \n",
    "  #define the fill color gradient: blue=positive, red=negative\n",
    "  scale_fill_gradient2(name = \"Loading\", \n",
    "                       high = \"blue\", mid = \"white\", low = \"red\", \n",
    "                       midpoint=0, guide=F) +\n",
    "  ylab(\"Loading Strength\") + #improve y-axis label\n",
    "  theme_bw(base_size=10) #use a black-and0white theme with set font size"
   ]
  },
  {
   "cell_type": "markdown",
   "metadata": {},
   "source": [
    "# For Loop for FA"
   ]
  },
  {
   "cell_type": "code",
   "execution_count": null,
   "metadata": {
    "scrolled": true
   },
   "outputs": [],
   "source": [
    "#For loop for factors of 3-5 fm = \"minchi\"\n",
    "for (i in 4:7) {\n",
    "iteration <- fa(df.wa.nocountry, nfactors = i, rotate = \"promax\", fm = \"minchi\" , scores= \"tenBerge\", impute =\"mean\", max.iter = 1000)\n",
    "    #print(iteration$loadings, digits=2, cutoff=.2, sort=TRUE)\n",
    "    print(iteration$BIC)\n",
    "    print(iteration$TLI)\n",
    "    print(iteration$rms)\n",
    "    print(iteration$STATISTIC)\n",
    "    print(iteration$PVAL)\n",
    "    \n",
    "    \n",
    "    print(iteration$objective)\n",
    "    print(iteration$EBIC )\n",
    "    print(iteration$dof)\n",
    "    print(iteration$chi)\n",
    "    \n",
    "    print(iteration$RMSEA)\n",
    "} \n"
   ]
  },
  {
   "cell_type": "markdown",
   "metadata": {},
   "source": [
    "\"none\", \"varimax\", \"quartimax\", \"bentlerT\", \"equamax\", \"varimin\", \"geominT\" and \"bifactor\" are orthogonal rotations. \"Promax\", \"promax\", \"oblimin\", \"simplimax\", \"bentlerQ, \"geominQ\" and \"biquartimin\" and \"cluster\" are possible oblique transformations of the solution. = rotation varimin = correction"
   ]
  },
  {
   "cell_type": "markdown",
   "metadata": {},
   "source": [
    "Factoring method fm=\"minres\" will do a minimum residual as will fm=\"uls\".  fm=\"ols\" differs very slightly from \"minres\". fm=\"wls\" will do a weighted least squares (WLS) solution, fm=\"gls\" does a generalized weighted least squares (GLS), fm=\"pa\" will do the principal factor solution, fm=\"ml\" will do a maximum likelihood factor analysis. fm=\"minchi\" will minimize the sample size weighted chi square when treating pairwise correlations with different number of subjects per pair. fm =\"minrank\" will do a minimum rank factor analysis. \"old.min\" will do minimal residual the way it was done prior to April, 2017 (see discussion below). fm=\"alpha\" will do alpha factor analysis as described in Kaiser and Coffey (1965)\n",
    "Correction WLS and GLS, minrank, old.min\n",
    "Correct for Oblimin works with minrank and old.min, ml, minchi,  = fm works with"
   ]
  },
  {
   "cell_type": "code",
   "execution_count": null,
   "metadata": {
    "scrolled": true
   },
   "outputs": [],
   "source": [
    "#For loop for factors of 2-6 fm = \"minrank\" \n",
    "for (i in 4:7) {\n",
    "iteration <- fa(df.wa.nocountry, nfactors = i, rotate = \"promax\", fm = \"minrank\" , scores= \"tenBerge\", impute =\"mean\", max.iter = 1000)\n",
    "    print(iteration$BIC)\n",
    "    print(iteration$TLI)\n",
    "    print(iteration$rms)\n",
    "    print(iteration$STATISTIC)\n",
    "    print(iteration$PVAL)\n",
    "    \n",
    "    \n",
    "    print(iteration$objective)\n",
    "    print(iteration$EBIC )\n",
    "    print(iteration$dof)\n",
    "    print(iteration$chi)\n",
    "    \n",
    "    print(iteration$RMSEA)\n",
    "} \n"
   ]
  },
  {
   "cell_type": "code",
   "execution_count": null,
   "metadata": {
    "scrolled": true
   },
   "outputs": [],
   "source": [
    "#For loop for factors of 2-6 fm = \"minrank\" \n",
    "for (i in 4:7) {\n",
    "iteration <- fa(df.wa.nocountry, nfactors = i, rotate = \"promax\", fm = \"minrank\" , scores= \"tenBerge\", impute =\"mean\", max.iter = 1000)\n",
    "    print(iteration$loadings, digits=2, cutoff=.2, sort=TRUE)}"
   ]
  },
  {
   "cell_type": "code",
   "execution_count": null,
   "metadata": {
    "scrolled": true
   },
   "outputs": [],
   "source": [
    "#For loop for factors of 2-10 fm = \"ml\"\n",
    "for (i in 4:7) {\n",
    "iteration <- fa(df.wa.nocountry, nfactors = i, rotate = \"promax\", fm = \"ml\" , scores= \"tenBerge\", impute =\"mean\", max.iter = 1000)\n",
    "    print(iteration$BIC) \n",
    "    print(iteration$TLI)\n",
    "    print(iteration$rms)\n",
    "    print(iteration$STATISTIC)\n",
    "    print(iteration$PVAL)\n",
    "    \n",
    "    \n",
    "    print(iteration$objective)\n",
    "    print(iteration$EBIC )\n",
    "    print(iteration$dof)\n",
    "    print(iteration$chi)\n",
    "    \n",
    "     print(iteration$values)\n",
    "    \n",
    "    print(iteration$RMSEA)\n",
    "} "
   ]
  },
  {
   "cell_type": "code",
   "execution_count": null,
   "metadata": {
    "scrolled": true
   },
   "outputs": [],
   "source": [
    "# possible oblique transformations of the solution for better interpreation\n",
    "for (i in 2:7) {\n",
    "iteration <- fa(df.wa.nocountry, nfactors = i, rotate = \"oblimin\", fm = \"ml\" , scores= \"tenBerge\", impute =\"mean\", max.iter = 1000)\n",
    "    print(iteration$loadings, digits=2, cutoff=.2, sort=TRUE)}\n",
    "for (i in 2:7) {\n",
    "iteration <- fa(df.wa.nocountry, nfactors = i, rotate = \"bentlerQ\", fm = \"ml\" , scores= \"tenBerge\", impute =\"mean\", max.iter = 2000)\n",
    "    print(iteration$loadings, digits=2, cutoff=.2, sort=TRUE)}\n",
    "for (i in 2:7) {\n",
    "iteration <- fa(df.wa.nocountry, nfactors = i, rotate = \"promax\", fm = \"ml\" , scores= \"tenBerge\", impute =\"mean\", max.iter = 1000)\n",
    "    print(iteration$loadings, digits=2, cutoff=.2, sort=TRUE)}\n",
    "#  are orthogonal rotations for stronger interpreation\n",
    "for (i in 2:7) {\n",
    "iteration <- fa(df.wa.nocountry, nfactors = i, rotate = \"varimax\", fm = \"ml\" , scores= \"tenBerge\", impute =\"mean\", max.iter = 1000)\n",
    "    print(iteration$loadings, digits=2, cutoff=.2, sort=TRUE)}\n",
    "for (i in 2:7) {\n",
    "iteration <- fa(df.wa.nocountry, nfactors = i, rotate = \"bentlerT\", fm = \"ml\" , scores= \"tenBerge\", impute =\"mean\", max.iter = 1000)\n",
    "    print(iteration$loadings, digits=2, cutoff=.2, sort=TRUE)}\n",
    "for (i in 2:7) {\n",
    "iteration <- fa(df.wa.nocountry, nfactors = i, rotate = \"geominT\", fm = \"ml\" , scores= \"tenBerge\", impute =\"mean\", max.iter = 1000)\n",
    "    print(iteration$loadings, digits=2, cutoff=.2, sort=TRUE)}"
   ]
  },
  {
   "cell_type": "markdown",
   "metadata": {},
   "source": [
    "# New FA 7 data frame"
   ]
  },
  {
   "cell_type": "code",
   "execution_count": null,
   "metadata": {
    "scrolled": false
   },
   "outputs": [],
   "source": [
    "df.wa.nocountry <- df.wa[,c(2:18)]\n",
    "df.wa.nocountry <- as.matrix(df.wa.nocountry)\n",
    "scores <- as.matrix(scores.seven.factors)\n",
    "df.seven.scores <-  scores\n",
    "df.seven.scores = as.data.frame(apply(as.matrix(df.seven.scores[,c(1:7)]), 2, rescale))\n",
    "df.seven.scores <- cbind(df.wa,df.seven.scores)\n",
    "df.seven.scores <- df.seven.scores[,c(1,19:25)]\n",
    "head(df.seven.scores,7)\n",
    "summary(df.seven.scores)\n",
    "write_xlsx(df.seven.scores, '../../results/df-seven-scores.xlsx')"
   ]
  },
  {
   "cell_type": "markdown",
   "metadata": {},
   "source": [
    "# Six factors - ml - promax"
   ]
  },
  {
   "cell_type": "code",
   "execution_count": null,
   "metadata": {},
   "outputs": [],
   "source": [
    "solution.six <- fa(df.wa.nocountry, nfactors = 6, rotate = \"promax\", fm = \"ml\", scores=\"tenBerge\", impute =\"mean\", max.iter = 1000 )\n",
    "scores.six.factors = solution.six$scores\n",
    "scores.six.factors = as.data.frame.matrix(scores.six.factors) #df.wa multiply by scores matrix\n",
    "write_xlsx(scores.six.factors, '../../results/scores-6-factors.xlsx')\n",
    "print(solution.six$loadings, digits=2, cutoff=.2, sort=TRUE) #sort out by the low numbers\n",
    "df.wa.nocountry <- df.wa[,c(2:18)]\n",
    "df.wa.nocountry <- as.matrix(df.wa.nocountry)\n",
    "scores <- as.matrix(scores.six.factors)\n",
    "df.six.scores <-  scores\n",
    "df.six.scores = as.data.frame(apply(as.matrix(df.six.scores[,c(1:6)]), 2, rescale))\n",
    "df.six.scores <- cbind(df.wa,df.six.scores)\n",
    "df.six.scores <- df.six.scores[,c(1,19:24)]\n",
    "head(df.six.scores,7)\n",
    "summary(df.six.scores)\n",
    "write_xlsx(df.six.scores, '../../results/df-six-scores.xlsx')"
   ]
  },
  {
   "cell_type": "markdown",
   "metadata": {},
   "source": [
    "# Five factors - ml - promax"
   ]
  },
  {
   "cell_type": "code",
   "execution_count": null,
   "metadata": {},
   "outputs": [],
   "source": [
    "solution.five <- fa(df.wa.nocountry, nfactors = 5, rotate = \"promax\", fm = \"ml\", scores=\"tenBerge\", impute =\"mean\", max.iter = 1000 )\n",
    "scores.five.factors = solution.five$scores\n",
    "scores.five.factors = as.data.frame.matrix(scores.five.factors) #df.wa multiply by scores matrix\n",
    "write_xlsx(scores.five.factors, '../../results/scores-5-factors.xlsx')\n",
    "print(solution$loadings, digits=2, cutoff=.2, sort=TRUE) #sort out by the low numbers\n",
    "df.wa.nocountry <- df.wa[,c(2:18)]\n",
    "df.wa.nocountry <- as.matrix(df.wa.nocountry)\n",
    "scores <- as.matrix(scores.five.factors)\n",
    "df.five.scores <-  scores\n",
    "df.five.scores = as.data.frame(apply(as.matrix(df.five.scores[,c(1:5)]), 2, rescale))\n",
    "df.five.scores <- cbind(df.wa,df.five.scores)\n",
    "df.five.scores <- df.five.scores[,c(1,19:23)]\n",
    "head(df.five.scores,7)\n",
    "summary(df.five.scores)\n",
    "write_xlsx(df.five.scores, '../../results/df-five-scores.xlsx')"
   ]
  },
  {
   "cell_type": "markdown",
   "metadata": {},
   "source": [
    "# Determining the Number of Factors to Extract"
   ]
  },
  {
   "cell_type": "markdown",
   "metadata": {},
   "source": [
    "simple = five factors"
   ]
  },
  {
   "cell_type": "code",
   "execution_count": null,
   "metadata": {
    "scrolled": false
   },
   "outputs": [],
   "source": [
    "df.wa <- read_excel(\"../../results/df-water-access.xlsx\",sheet=1)\n",
    "df.wa.nocountry <- df.wa[,c(2:18)]\n",
    "\n",
    "options(repr.plot.width=10, repr.plot.height=10)\n",
    "ev <- eigen(cor(df.wa.nocountry)) # get eigenvalues\n",
    "ap <- parallel(subject=nrow(df.wa.nocountry),var=ncol(df.wa.nocountry), rep=100, cent=.05)\n",
    "nS <- nScree(x=ev$values, aparallel=ap$eigen$qevpea)\n",
    "plotnScree(nS)\n",
    "\n",
    "scree(df.wa.nocountry,factors=TRUE,pc=TRUE,main=\"Scree plot\",hline=NULL,add=FALSE) "
   ]
  },
  {
   "cell_type": "code",
   "execution_count": null,
   "metadata": {
    "scrolled": true
   },
   "outputs": [],
   "source": [
    "solution.mr <- fa(r = cor(df.wa.nocountry), nfactors = 5, rotate = \"oblimin\", fm = \"minrank\" , scores= \"tenBerge\" , impute =\"mean\", max.iter = 1000)"
   ]
  },
  {
   "cell_type": "code",
   "execution_count": null,
   "metadata": {
    "scrolled": false
   },
   "outputs": [],
   "source": [
    "fa.diagram(solution.mr)"
   ]
  },
  {
   "cell_type": "markdown",
   "metadata": {},
   "source": [
    "# FA"
   ]
  },
  {
   "cell_type": "markdown",
   "metadata": {},
   "source": [
    "The goal of this study is to analyze the characteristics of water accessibility"
   ]
  },
  {
   "cell_type": "markdown",
   "metadata": {},
   "source": [
    "sources: http://www.sthda.com/english/articles/31-principal-component-methods-in-r-practical-guide/115-famd-factor-analysis-of-mixed-data-in-r-essentials/"
   ]
  },
  {
   "cell_type": "code",
   "execution_count": null,
   "metadata": {
    "scrolled": true
   },
   "outputs": [],
   "source": [
    "df.wa <- read_excel(\"../../results/df-water-access.xlsx\",sheet=1)\n",
    "\n"
   ]
  },
  {
   "cell_type": "code",
   "execution_count": null,
   "metadata": {
    "scrolled": true
   },
   "outputs": [],
   "source": [
    "res.famd <- FAMD(df.wa, graph = FALSE)\n",
    "print(res.famd)"
   ]
  },
  {
   "cell_type": "markdown",
   "metadata": {},
   "source": [
    "# Eigenvalues / Variances"
   ]
  },
  {
   "cell_type": "code",
   "execution_count": null,
   "metadata": {
    "scrolled": true
   },
   "outputs": [],
   "source": [
    "eig.val <- get_eigenvalue(res.famd)\n",
    "head(eig.val)"
   ]
  },
  {
   "cell_type": "code",
   "execution_count": null,
   "metadata": {
    "scrolled": true
   },
   "outputs": [],
   "source": [
    "options(repr.plot.width=10, repr.plot.height=10)\n",
    "fviz_screeplot(res.famd)"
   ]
  },
  {
   "cell_type": "markdown",
   "metadata": {},
   "source": [
    "#  All variables"
   ]
  },
  {
   "cell_type": "code",
   "execution_count": null,
   "metadata": {
    "scrolled": true
   },
   "outputs": [],
   "source": [
    "var <- get_famd_var(res.famd)\n",
    "var"
   ]
  },
  {
   "cell_type": "code",
   "execution_count": null,
   "metadata": {
    "scrolled": true
   },
   "outputs": [],
   "source": [
    "# Coordinates of variables\n",
    "head(var$coord,7)\n",
    "# Cos2: quality of representation on the factore map\n",
    "head(var$cos2,7)\n",
    "# Contributions to the  dimensions\n",
    "head(var$contrib,7)"
   ]
  },
  {
   "cell_type": "code",
   "execution_count": null,
   "metadata": {
    "scrolled": false
   },
   "outputs": [],
   "source": [
    "# Plot of variables\n",
    "fviz_famd_var(res.famd, repel = TRUE)\n",
    "# Contribution to the first dimension\n",
    "fviz_contrib(res.famd, \"var\", axes = 1)\n",
    "# Contribution to the second dimension\n",
    "fviz_contrib(res.famd, \"var\", axes = 2)"
   ]
  },
  {
   "cell_type": "markdown",
   "metadata": {},
   "source": [
    "The red dashed line on the graph above indicates the expected average value, If the contributions were uniform."
   ]
  },
  {
   "cell_type": "markdown",
   "metadata": {},
   "source": [
    "From the plots above, it can be seen that:\n",
    "\n",
    "variables that contribute the most to the first dimension are: iwsp and watp.\n",
    "\n",
    "variables that contribute the most to the second dimension are: basw and ptap."
   ]
  },
  {
   "cell_type": "markdown",
   "metadata": {},
   "source": [
    "# Quantitative variables"
   ]
  },
  {
   "cell_type": "code",
   "execution_count": null,
   "metadata": {
    "scrolled": true
   },
   "outputs": [],
   "source": [
    "quanti.var <- get_famd_var(res.famd, \"quanti.var\")\n",
    "quanti.var "
   ]
  },
  {
   "cell_type": "code",
   "execution_count": null,
   "metadata": {
    "scrolled": true
   },
   "outputs": [],
   "source": [
    "fviz_famd_var(res.famd, \"quanti.var\", col.var = \"contrib\", \n",
    "             gradient.cols = c(\"#00AFBB\", \"#E7B800\", \"#FC4E07\"),\n",
    "             repel = TRUE)"
   ]
  },
  {
   "cell_type": "code",
   "execution_count": null,
   "metadata": {
    "scrolled": true
   },
   "outputs": [],
   "source": [
    "# Color by cos2 values: quality on the factor map\n",
    "fviz_famd_var(res.famd, \"quanti.var\", col.var = \"cos2\",\n",
    "             gradient.cols = c(\"#00AFBB\", \"#E7B800\", \"#FC4E07\"), \n",
    "             repel = TRUE)"
   ]
  },
  {
   "cell_type": "markdown",
   "metadata": {},
   "source": [
    "# Graph of qualitative variables"
   ]
  },
  {
   "cell_type": "code",
   "execution_count": null,
   "metadata": {
    "scrolled": true
   },
   "outputs": [],
   "source": [
    "fviz_famd_var(res.famd, \"quali.var\", col.var = \"contrib\", \n",
    "             gradient.cols = c(\"#00AFBB\", \"#E7B800\", \"#FC4E07\")\n",
    "             )"
   ]
  },
  {
   "cell_type": "markdown",
   "metadata": {},
   "source": [
    "# Graph of individuals"
   ]
  },
  {
   "cell_type": "code",
   "execution_count": null,
   "metadata": {
    "scrolled": true
   },
   "outputs": [],
   "source": [
    "ind <- get_famd_ind(res.famd)\n",
    "ind"
   ]
  },
  {
   "cell_type": "code",
   "execution_count": null,
   "metadata": {
    "scrolled": true
   },
   "outputs": [],
   "source": [
    "fviz_famd_ind(res.famd, col.ind = \"cos2\", \n",
    "             gradient.cols = c(\"#00AFBB\", \"#E7B800\", \"#FC4E07\"),\n",
    "             repel = TRUE)"
   ]
  },
  {
   "cell_type": "markdown",
   "metadata": {},
   "source": [
    "The factor analysis of mixed data (FAMD) makes it possible to analyze a data set, in which individuals are described by both qualitative and quantitative variables."
   ]
  },
  {
   "cell_type": "code",
   "execution_count": null,
   "metadata": {
    "scrolled": true
   },
   "outputs": [],
   "source": [
    "result <- PCA(df.wa[,(2:18)])\n",
    "result"
   ]
  },
  {
   "cell_type": "markdown",
   "metadata": {},
   "source": [
    "# PCA"
   ]
  },
  {
   "cell_type": "code",
   "execution_count": null,
   "metadata": {
    "scrolled": true
   },
   "outputs": [],
   "source": [
    "head(df.wa.nocountry,7)"
   ]
  },
  {
   "cell_type": "code",
   "execution_count": null,
   "metadata": {
    "scrolled": true
   },
   "outputs": [],
   "source": [
    "# PCA Scree plot without standardizing data\n",
    "hpca_dfsimple <- prcomp(df.wa.nocountry, scale=FALSE) # Scale to 0 to 1 # We can extract the information summarized above (and much more) # from the attributes of the object hpca_dfsimple\n",
    "\n",
    "standard_deviation_of_each_component <- hpca_dfsimple$sdev\n",
    "var_per_dim <- standard_deviation_of_each_component^2\n",
    "var_tot <- sum(var_per_dim)\n",
    "var_tot\n",
    "var_per_dim/var_tot\n",
    "\n",
    "var_prop <- var_per_dim / sum(var_per_dim)\n",
    "var_prop\n",
    "\n",
    "cum_var <- cumsum(var_prop)\n",
    "cum_var\n",
    "plot(cum_var,xlab=\"Principal component\", \n",
    "     ylab=\"Proportion of variance explained\", ylim=c(0,1), type='b')\n",
    "\n",
    "apply(df.wa.nocountry, 2, mean)\n",
    "apply(df.wa.nocountry, 2, var)\n",
    "\n"
   ]
  },
  {
   "cell_type": "code",
   "execution_count": null,
   "metadata": {
    "scrolled": true
   },
   "outputs": [],
   "source": [
    "hpca_cor <- prcomp(df.wa.nocountry, scale=TRUE) #Using the correlation matrix to obtain the eigenvalue #Single decomposition of the variance matrix.\n",
    "standard_deviation_of_each_component <- hpca_cor$sdev\n",
    "var_per_dim <- standard_deviation_of_each_component^2\n",
    "var_tot <- sum(var_per_dim)\n",
    "var_prop <- var_per_dim / sum(var_per_dim)\n",
    "cum_var <- cumsum(var_prop)\n",
    "plot(cum_var,xlab=\"Principal component\", \n",
    "     ylab=\"Proportion of variance explained\", ylim=c(0,1), type='b')\n",
    "eigenvectors <- hpca_cor$rotation\n",
    "col.norm(eigenvectors)\n",
    "eigenvectors\n",
    "\n",
    "PC_contr <- eigenvectors[,c(\"PC1\")] # Let us plot the contribution of the original dimension to the 1st PCA # PC_contr\n",
    "ord <- order( -abs(PC_contr) )# We order by the magnitude of the contribution # We use the - sign because we want a descending order\n",
    "PC_contr <- PC_contr[ord] #PC_contr"
   ]
  },
  {
   "cell_type": "code",
   "execution_count": null,
   "metadata": {
    "scrolled": true
   },
   "outputs": [],
   "source": [
    "PC_contr1 <- PC_contr[1:7] # We just select the 7 highest contributing dimensions (highest loading)\n",
    "PC_contr1\n",
    "barplot(PC_contr1, main=\"Contribution to the 1st component\", xlab=\"Original Dimensions\") \n",
    "\n",
    "# Second principal component vector\n",
    "PC_contr <- eigenvectors[,c(\"PC2\")] # We order by the magnitude of the contribution\n",
    "ord <- order( -abs(PC_contr) ) # We use the - sign because we want a descending order\n",
    "PC_contr <- PC_contr[ord]\n",
    "PC_contr2 <- PC_contr[1:7]\n",
    "options(repr.plot.width=12, repr.plot.height=5)\n",
    "barplot(PC_contr2, main=\"Contribution to the 2nd component\",xlab=\"Original Dimensions\") \n",
    "# Third principal component vector\n",
    "PC_contr <- eigenvectors[,c(\"PC3\")]\n",
    "ord <- order( -abs(PC_contr) )\n",
    "PC_contr <- PC_contr[ord]\n",
    "PC_contr3 <- PC_contr[1:7]\n",
    "options(repr.plot.width=12, repr.plot.height=8)\n",
    "barplot(PC_contr3, main=\"Contribution to the 3rd component\",xlab=\"Original Dimensions\") \n",
    "# 4 principal component vector\n",
    "PC_contr <- eigenvectors[,c(\"PC4\")]\n",
    "ord <- order( -abs(PC_contr) )\n",
    "PC_contr <- PC_contr[ord]\n",
    "PC_contr4 <- PC_contr[1:7]\n",
    "options(repr.plot.width=12, repr.plot.height=8)\n",
    "barplot(PC_contr4, main=\"Contribution to the 4th component\",xlab=\"Original Dimensions\") \n",
    "# 5 principal component vector\n",
    "PC_contr <- eigenvectors[,c(\"PC5\")]\n",
    "ord <- order( -abs(PC_contr) )\n",
    "PC_contr <- PC_contr[ord]\n",
    "PC_contr5 <- PC_contr[1:7]\n",
    "options(repr.plot.width=12, repr.plot.height=8)\n",
    "barplot(PC_contr5, main=\"Contribution to the 5th component\",xlab=\"Original Dimensions\") \n",
    "# 6 principal component vector\n",
    "PC_contr <- eigenvectors[,c(\"PC6\")]\n",
    "ord <- order( -abs(PC_contr) )\n",
    "PC_contr <- PC_contr[ord]\n",
    "PC_contr6 <- PC_contr[1:7]\n",
    "options(repr.plot.width=12, repr.plot.height=8)\n",
    "barplot(PC_contr6, main=\"Contribution to the 6th component\",xlab=\"Original Dimensions\") \n",
    "# 7 principal component vector\n",
    "PC_contr <- eigenvectors[,c(\"PC7\")]\n",
    "ord <- order( -abs(PC_contr) )\n",
    "PC_contr <- PC_contr[ord]\n",
    "PC_contr7 <- PC_contr[1:7]\n",
    "options(repr.plot.width=12, repr.plot.height=8)\n",
    "barplot(PC_contr7, main=\"Contribution to the 7th component\",xlab=\"Original Dimensions\")"
   ]
  },
  {
   "cell_type": "code",
   "execution_count": null,
   "metadata": {
    "scrolled": false
   },
   "outputs": [],
   "source": [
    "res.pca <- PCA(df.wa.nocountry, graph = FALSE)\n",
    "print(res.pca)\n",
    "eig.val <- get_eigenvalue(res.pca) #The object that is created using the function PCA() contains many information found in many different lists and matrices. These values are described in the next section.\n",
    "head(eig.val,7)\n",
    "#An eigenvalue > 1 indicates that PCs account for more variance than accounted by one of the original variables in\n",
    "#standardized data. This is commonly used as a cutoff point for which PCs are retained. This holds true only when\n",
    "#the data are standardized.\n",
    "fviz_eig(res.pca, addlabels = TRUE, ylim = c(0, 76))\n",
    "var <- get_pca_var(res.pca)\n",
    "var\n",
    "# Coordinates\n",
    "head(var$coord, 17)\n",
    "# Cos2: quality on the factor map\n",
    "head(var$cos2,17)\n",
    "# Contributions to the principal components\n",
    "head(var$contrib, 17)\n",
    "#For all the 17 variables.\n",
    "fviz_pca_var(res.pca, col.var = \"black\")\n",
    "#The plot above is also known as variable correlation plots. It shows the relationships between all variables. It can be interpreted as follow:\n",
    "#Positively correlated variables are grouped together.\n",
    "#Negatively correlated variables are positioned on opposite sides of the plot origin (opposed quadrants).\n",
    "#The distance between variables and the origin measures the quality of the variables on the factor map. Variables that\n",
    "#are away from the origin are well represented on the factor map.\n",
    "corrplot(var$cos2, is.corr=FALSE, tl.cex = 1 )\n",
    "# Total cos2 of variables on Dim.1 and Dim.2\n",
    "fviz_cos2(res.pca, choice = \"var\", axes = 1:2, tl.cex = 1)\n",
    "#A high cos2 indicates a good representation of the variable on the principal component. In this case the variable is\n",
    "#positioned close to the circumference of the correlation circle.\n",
    "#A low cos2 indicates that the variable is not perfectly represented by the PCs.\n",
    "#In this case the variable is close to the center of the circle.\n",
    "#The cos2 values are used to estimate the quality of the representation\n",
    "#The closer a variable is to the circle of correlations,\n",
    "#the better its representation on the factor map (and the more important it is to interpret these components)\n",
    "#Variables that are closed to the center of the plot are less important for the first components.\n",
    "# Color by cos2 values: quality on the factor map\n",
    "fviz_pca_var(res.pca, col.var = \"cos2\",\n",
    "             gradient.cols = c(\"#00AFBB\", \"#E7B800\", \"#FC4E07\"), \n",
    "             repel = TRUE # Avoid text overlapping, \n",
    "    )\n",
    "#variables with low cos2 values will be colored in \"white\"\n",
    "#variables with mid cos2 values will be colored in \"blue\"\n",
    "#variables with high cos2 values will be colored in red\n",
    "corrplot(var$contrib, is.corr=FALSE,tl.cex = 1) \n",
    "#The larger the value of the contribution, the more the variable contributes to the component.\n",
    "# Contributions of variables to PC1\n",
    "fviz_contrib(res.pca, choice = \"var\", axes = 1, top = 10)\n",
    "# Contributions of variables to PC2\n",
    "fviz_contrib(res.pca, choice = \"var\", axes = 2, top = 10)\n",
    "# Contributions of variables to PC3\n",
    "fviz_contrib(res.pca, choice = \"var\", axes = 3, top = 10)\n",
    "# Contributions of variables to PC4\n",
    "fviz_contrib(res.pca, choice = \"var\", axes = 4, top = 10)\n",
    "# Contributions of variables to PC5\n",
    "fviz_contrib(res.pca, choice = \"var\", axes = 5, top = 10)\n",
    "fviz_contrib(res.pca, choice = \"var\", axes = 1:2, top = 10)\n",
    "#It can be seen that the variables H IWS P and H W - contribute the most to the dimensions 1 and 2.\n",
    "fviz_pca_var(res.pca, col.var = \"contrib\",\n",
    "             gradient.cols = c(\"#00AFBB\", \"#E7B800\", \"#FC4E07\")\n",
    ")\n",
    "res.desc <- dimdesc(res.pca, axes = c(1,2), proba = 0.05)\n",
    "# Description of dimension 1\n",
    "res.desc$Dim.1\n",
    "res.desc$Dim.2\n",
    "ind <- get_pca_ind(res.pca)\n",
    "# Coordinates of individuals\n",
    "head(ind$coord)\n",
    "# Quality of individuals\n",
    "head(ind$cos2)\n",
    "# Contributions of individuals\n",
    "fviz_pca_ind(res.pca, col.ind = \"cos2\", pointsize = \"cos2\",\n",
    "             gradient.cols = c(\"#00AFBB\", \"#E7B800\", \"#FC4E07\"),\n",
    "             repel = TRUE # Avoid text overlapping (slow if many points)\n",
    ")\n",
    "# Total contribution on PC1 and PC2\n",
    "fviz_contrib(res.pca, choice = \"ind\", axes = 1:2, tl.cex = .5)"
   ]
  },
  {
   "cell_type": "code",
   "execution_count": null,
   "metadata": {
    "scrolled": false
   },
   "outputs": [],
   "source": []
  }
 ],
 "metadata": {
  "kernelspec": {
   "display_name": "R",
   "language": "R",
   "name": "ir"
  },
  "language_info": {
   "codemirror_mode": "r",
   "file_extension": ".r",
   "mimetype": "text/x-r-source",
   "name": "R",
   "pygments_lexer": "r",
   "version": "4.0.2"
  }
 },
 "nbformat": 4,
 "nbformat_minor": 4
}
