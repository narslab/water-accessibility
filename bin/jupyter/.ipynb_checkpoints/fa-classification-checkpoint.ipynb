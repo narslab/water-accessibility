{
 "cells": [
  {
   "cell_type": "code",
   "execution_count": 245,
   "metadata": {},
   "outputs": [],
   "source": [
    "#install.packages('randomForest')\n",
    "library(readxl)\n",
    "library(randomForest)\n",
    "library(readxl)\n",
    "library(tidyverse)\n",
    "#install.packages('dplyr')\n",
    "library(dplyr)\n",
    "#install.packages('caret')\n",
    "library(Rcpp)\n",
    "library(caret)\n",
    "library(rpart)\n",
    "#install.packages('tree')\n",
    "library(tree)\n",
    "#install.packages('multcomp')\n",
    "library(multcomp)\n",
    "#install.packages('party')\n",
    "library(party)\n",
    "library(tree)\n",
    "#install.packages('Metrics')\n",
    "library(Metrics)\n",
    "#install.packages('reprtree')\n",
    "#devtools::install_github(\"MI2DataLab/randomForestExplainer\")\n",
    "#install.packages('randomForestExplainer')\n",
    "library(randomForestExplainer)\n",
    "\n"
   ]
  },
  {
   "cell_type": "markdown",
   "metadata": {},
   "source": [
    "# FA (weighted) Classifcation"
   ]
  },
  {
   "cell_type": "code",
   "execution_count": 246,
   "metadata": {},
   "outputs": [],
   "source": [
    "df.wa = read_excel( \"../../results/df-water-access.xlsx\" ,sheet=1)\n",
    "df.exp =read_excel(\"../../results/df-water-explore.xlsx\" ,sheet=1)\n",
    "df.cluster = read_excel(\"../../results/df-fa-cluster-rank.xlsx\" ,sheet=1)\n",
    "df.wb = read_excel(\"../../results/df-wb.xlsx\" ,sheet=1 )\n",
    "df.exp$clusters <- as.factor(df.cluster$clusters)\n"
   ]
  },
  {
   "cell_type": "code",
   "execution_count": 247,
   "metadata": {},
   "outputs": [
    {
     "data": {
      "text/html": [
       "<table class=\"dataframe\">\n",
       "<caption>A data.frame: 6 × 21</caption>\n",
       "<thead>\n",
       "\t<tr><th></th><th scope=col>Country</th><th scope=col>bicy</th><th scope=col>cart</th><th scope=col>mcyc</th><th scope=col>pcar</th><th scope=col>boat</th><th scope=col>wigc</th><th scope=col>clusters</th><th scope=col>cgdp</th><th scope=col>tpop</th><th scope=col>...</th><th scope=col>popd</th><th scope=col>land</th><th scope=col>lita</th><th scope=col>lity</th><th scope=col>mori</th><th scope=col>rifr</th><th scope=col>cotw</th><th scope=col>moru</th><th scope=col>ppfg</th><th scope=col>prec</th></tr>\n",
       "\t<tr><th></th><th scope=col>&lt;chr&gt;</th><th scope=col>&lt;dbl&gt;</th><th scope=col>&lt;dbl&gt;</th><th scope=col>&lt;dbl&gt;</th><th scope=col>&lt;dbl&gt;</th><th scope=col>&lt;dbl&gt;</th><th scope=col>&lt;dbl&gt;</th><th scope=col>&lt;fct&gt;</th><th scope=col>&lt;dbl&gt;</th><th scope=col>&lt;dbl&gt;</th><th scope=col>...</th><th scope=col>&lt;dbl&gt;</th><th scope=col>&lt;dbl&gt;</th><th scope=col>&lt;dbl&gt;</th><th scope=col>&lt;dbl&gt;</th><th scope=col>&lt;dbl&gt;</th><th scope=col>&lt;dbl&gt;</th><th scope=col>&lt;dbl&gt;</th><th scope=col>&lt;dbl&gt;</th><th scope=col>&lt;dbl&gt;</th><th scope=col>&lt;dbl&gt;</th></tr>\n",
       "</thead>\n",
       "<tbody>\n",
       "\t<tr><th scope=row>1</th><td>Afghanistan</td><td>30.0</td><td>5.8</td><td>35.2</td><td>11.8</td><td>0.0</td><td>0.1</td><td>1</td><td> 18353881130</td><td> 37172386</td><td>...</td><td>  56.93776</td><td> 652860</td><td>43.01972</td><td>0.75933</td><td>62.5</td><td>1299.0269</td><td> 0.00000</td><td>13.9</td><td>0.70</td><td> 327</td></tr>\n",
       "\t<tr><th scope=row>2</th><td>Albania    </td><td>26.4</td><td>3.2</td><td> 9.6</td><td>37.0</td><td>0.7</td><td>0.1</td><td>2</td><td> 15147020535</td><td>  2866376</td><td>...</td><td> 104.61226</td><td>  27400</td><td>98.14115</td><td>1.00582</td><td> 9.5</td><td>9361.5460</td><td>59.95146</td><td> 0.2</td><td>1.36</td><td>1485</td></tr>\n",
       "\t<tr><th scope=row>3</th><td>Angola     </td><td> 4.6</td><td>1.3</td><td>17.8</td><td>10.9</td><td>0.4</td><td>0.3</td><td>1</td><td>101353230785</td><td> 30809762</td><td>...</td><td>  24.71305</td><td>1246700</td><td> 0.00000</td><td>0.00000</td><td>77.7</td><td>4963.6533</td><td>43.98964</td><td>48.8</td><td>0.97</td><td>1010</td></tr>\n",
       "\t<tr><th scope=row>4</th><td>Armenia    </td><td> 8.6</td><td>0.4</td><td> 0.2</td><td>39.2</td><td>0.3</td><td>0.1</td><td>2</td><td> 12457941907</td><td>  2951776</td><td>...</td><td> 103.68022</td><td>  28470</td><td> 0.00000</td><td>0.00000</td><td>12.4</td><td>2329.1833</td><td>27.77778</td><td> 0.2</td><td>0.77</td><td> 562</td></tr>\n",
       "\t<tr><th scope=row>5</th><td>Azerbaijan </td><td> 6.9</td><td>3.3</td><td> 1.1</td><td>20.4</td><td>0.1</td><td>0.0</td><td>3</td><td> 47112941176</td><td>  9939771</td><td>...</td><td> 120.23432</td><td>  82670</td><td> 0.00000</td><td>0.00000</td><td>21.6</td><td> 823.5207</td><td>24.48847</td><td> 1.1</td><td>0.56</td><td> 447</td></tr>\n",
       "\t<tr><th scope=row>6</th><td>Bangladesh </td><td>25.1</td><td>0.0</td><td> 6.4</td><td> 0.8</td><td>0.0</td><td>0.3</td><td>1</td><td>274039092455</td><td>161356039</td><td>...</td><td>1239.57931</td><td> 130170</td><td>73.91220</td><td>1.03276</td><td>32.3</td><td> 657.6039</td><td>14.19624</td><td>11.9</td><td>1.12</td><td>2666</td></tr>\n",
       "</tbody>\n",
       "</table>\n"
      ],
      "text/latex": [
       "A data.frame: 6 × 21\n",
       "\\begin{tabular}{r|lllllllllllllllllllll}\n",
       "  & Country & bicy & cart & mcyc & pcar & boat & wigc & clusters & cgdp & tpop & ... & popd & land & lita & lity & mori & rifr & cotw & moru & ppfg & prec\\\\\n",
       "  & <chr> & <dbl> & <dbl> & <dbl> & <dbl> & <dbl> & <dbl> & <fct> & <dbl> & <dbl> & ... & <dbl> & <dbl> & <dbl> & <dbl> & <dbl> & <dbl> & <dbl> & <dbl> & <dbl> & <dbl>\\\\\n",
       "\\hline\n",
       "\t1 & Afghanistan & 30.0 & 5.8 & 35.2 & 11.8 & 0.0 & 0.1 & 1 &  18353881130 &  37172386 & ... &   56.93776 &  652860 & 43.01972 & 0.75933 & 62.5 & 1299.0269 &  0.00000 & 13.9 & 0.70 &  327\\\\\n",
       "\t2 & Albania     & 26.4 & 3.2 &  9.6 & 37.0 & 0.7 & 0.1 & 2 &  15147020535 &   2866376 & ... &  104.61226 &   27400 & 98.14115 & 1.00582 &  9.5 & 9361.5460 & 59.95146 &  0.2 & 1.36 & 1485\\\\\n",
       "\t3 & Angola      &  4.6 & 1.3 & 17.8 & 10.9 & 0.4 & 0.3 & 1 & 101353230785 &  30809762 & ... &   24.71305 & 1246700 &  0.00000 & 0.00000 & 77.7 & 4963.6533 & 43.98964 & 48.8 & 0.97 & 1010\\\\\n",
       "\t4 & Armenia     &  8.6 & 0.4 &  0.2 & 39.2 & 0.3 & 0.1 & 2 &  12457941907 &   2951776 & ... &  103.68022 &   28470 &  0.00000 & 0.00000 & 12.4 & 2329.1833 & 27.77778 &  0.2 & 0.77 &  562\\\\\n",
       "\t5 & Azerbaijan  &  6.9 & 3.3 &  1.1 & 20.4 & 0.1 & 0.0 & 3 &  47112941176 &   9939771 & ... &  120.23432 &   82670 &  0.00000 & 0.00000 & 21.6 &  823.5207 & 24.48847 &  1.1 & 0.56 &  447\\\\\n",
       "\t6 & Bangladesh  & 25.1 & 0.0 &  6.4 &  0.8 & 0.0 & 0.3 & 1 & 274039092455 & 161356039 & ... & 1239.57931 &  130170 & 73.91220 & 1.03276 & 32.3 &  657.6039 & 14.19624 & 11.9 & 1.12 & 2666\\\\\n",
       "\\end{tabular}\n"
      ],
      "text/markdown": [
       "\n",
       "A data.frame: 6 × 21\n",
       "\n",
       "| <!--/--> | Country &lt;chr&gt; | bicy &lt;dbl&gt; | cart &lt;dbl&gt; | mcyc &lt;dbl&gt; | pcar &lt;dbl&gt; | boat &lt;dbl&gt; | wigc &lt;dbl&gt; | clusters &lt;fct&gt; | cgdp &lt;dbl&gt; | tpop &lt;dbl&gt; | ... ... | popd &lt;dbl&gt; | land &lt;dbl&gt; | lita &lt;dbl&gt; | lity &lt;dbl&gt; | mori &lt;dbl&gt; | rifr &lt;dbl&gt; | cotw &lt;dbl&gt; | moru &lt;dbl&gt; | ppfg &lt;dbl&gt; | prec &lt;dbl&gt; |\n",
       "|---|---|---|---|---|---|---|---|---|---|---|---|---|---|---|---|---|---|---|---|---|---|\n",
       "| 1 | Afghanistan | 30.0 | 5.8 | 35.2 | 11.8 | 0.0 | 0.1 | 1 |  18353881130 |  37172386 | ... |   56.93776 |  652860 | 43.01972 | 0.75933 | 62.5 | 1299.0269 |  0.00000 | 13.9 | 0.70 |  327 |\n",
       "| 2 | Albania     | 26.4 | 3.2 |  9.6 | 37.0 | 0.7 | 0.1 | 2 |  15147020535 |   2866376 | ... |  104.61226 |   27400 | 98.14115 | 1.00582 |  9.5 | 9361.5460 | 59.95146 |  0.2 | 1.36 | 1485 |\n",
       "| 3 | Angola      |  4.6 | 1.3 | 17.8 | 10.9 | 0.4 | 0.3 | 1 | 101353230785 |  30809762 | ... |   24.71305 | 1246700 |  0.00000 | 0.00000 | 77.7 | 4963.6533 | 43.98964 | 48.8 | 0.97 | 1010 |\n",
       "| 4 | Armenia     |  8.6 | 0.4 |  0.2 | 39.2 | 0.3 | 0.1 | 2 |  12457941907 |   2951776 | ... |  103.68022 |   28470 |  0.00000 | 0.00000 | 12.4 | 2329.1833 | 27.77778 |  0.2 | 0.77 |  562 |\n",
       "| 5 | Azerbaijan  |  6.9 | 3.3 |  1.1 | 20.4 | 0.1 | 0.0 | 3 |  47112941176 |   9939771 | ... |  120.23432 |   82670 |  0.00000 | 0.00000 | 21.6 |  823.5207 | 24.48847 |  1.1 | 0.56 |  447 |\n",
       "| 6 | Bangladesh  | 25.1 | 0.0 |  6.4 |  0.8 | 0.0 | 0.3 | 1 | 274039092455 | 161356039 | ... | 1239.57931 |  130170 | 73.91220 | 1.03276 | 32.3 |  657.6039 | 14.19624 | 11.9 | 1.12 | 2666 |\n",
       "\n"
      ],
      "text/plain": [
       "  Country     bicy cart mcyc pcar boat wigc clusters cgdp         tpop      ...\n",
       "1 Afghanistan 30.0 5.8  35.2 11.8 0.0  0.1  1         18353881130  37172386 ...\n",
       "2 Albania     26.4 3.2   9.6 37.0 0.7  0.1  2         15147020535   2866376 ...\n",
       "3 Angola       4.6 1.3  17.8 10.9 0.4  0.3  1        101353230785  30809762 ...\n",
       "4 Armenia      8.6 0.4   0.2 39.2 0.3  0.1  2         12457941907   2951776 ...\n",
       "5 Azerbaijan   6.9 3.3   1.1 20.4 0.1  0.0  3         47112941176   9939771 ...\n",
       "6 Bangladesh  25.1 0.0   6.4  0.8 0.0  0.3  1        274039092455 161356039 ...\n",
       "  popd       land    lita     lity    mori rifr      cotw     moru ppfg prec\n",
       "1   56.93776  652860 43.01972 0.75933 62.5 1299.0269  0.00000 13.9 0.70  327\n",
       "2  104.61226   27400 98.14115 1.00582  9.5 9361.5460 59.95146  0.2 1.36 1485\n",
       "3   24.71305 1246700  0.00000 0.00000 77.7 4963.6533 43.98964 48.8 0.97 1010\n",
       "4  103.68022   28470  0.00000 0.00000 12.4 2329.1833 27.77778  0.2 0.77  562\n",
       "5  120.23432   82670  0.00000 0.00000 21.6  823.5207 24.48847  1.1 0.56  447\n",
       "6 1239.57931  130170 73.91220 1.03276 32.3  657.6039 14.19624 11.9 1.12 2666"
      ]
     },
     "metadata": {},
     "output_type": "display_data"
    },
    {
     "data": {
      "text/html": [
       "<table class=\"dataframe\">\n",
       "<caption>A data.frame: 1 × 1</caption>\n",
       "<thead>\n",
       "\t<tr><th scope=col>n</th></tr>\n",
       "\t<tr><th scope=col>&lt;int&gt;</th></tr>\n",
       "</thead>\n",
       "<tbody>\n",
       "\t<tr><td>73</td></tr>\n",
       "</tbody>\n",
       "</table>\n"
      ],
      "text/latex": [
       "A data.frame: 1 × 1\n",
       "\\begin{tabular}{l}\n",
       " n\\\\\n",
       " <int>\\\\\n",
       "\\hline\n",
       "\t 73\\\\\n",
       "\\end{tabular}\n"
      ],
      "text/markdown": [
       "\n",
       "A data.frame: 1 × 1\n",
       "\n",
       "| n &lt;int&gt; |\n",
       "|---|\n",
       "| 73 |\n",
       "\n"
      ],
      "text/plain": [
       "  n \n",
       "1 73"
      ]
     },
     "metadata": {},
     "output_type": "display_data"
    }
   ],
   "source": [
    "df <- merge(x = df.exp,\n",
    "              y = df.wb,\n",
    "              by = c(\"Country\"))\n",
    "\n",
    "head(df)\n",
    "count(df)"
   ]
  },
  {
   "cell_type": "code",
   "execution_count": 248,
   "metadata": {},
   "outputs": [
    {
     "data": {
      "text/html": [
       "<table class=\"dataframe\">\n",
       "<caption>A data.frame: 6 × 20</caption>\n",
       "<thead>\n",
       "\t<tr><th></th><th scope=col>Country</th><th scope=col>bicy</th><th scope=col>cart</th><th scope=col>mcyc</th><th scope=col>pcar</th><th scope=col>boat</th><th scope=col>wigc</th><th scope=col>clusters</th><th scope=col>cgdp</th><th scope=col>tpop</th><th scope=col>upop</th><th scope=col>popd</th><th scope=col>land</th><th scope=col>lita</th><th scope=col>lity</th><th scope=col>rifr</th><th scope=col>cotw</th><th scope=col>moru</th><th scope=col>ppfg</th><th scope=col>prec</th></tr>\n",
       "\t<tr><th></th><th scope=col>&lt;chr&gt;</th><th scope=col>&lt;dbl&gt;</th><th scope=col>&lt;dbl&gt;</th><th scope=col>&lt;dbl&gt;</th><th scope=col>&lt;dbl&gt;</th><th scope=col>&lt;dbl&gt;</th><th scope=col>&lt;dbl&gt;</th><th scope=col>&lt;fct&gt;</th><th scope=col>&lt;dbl&gt;</th><th scope=col>&lt;dbl&gt;</th><th scope=col>&lt;dbl&gt;</th><th scope=col>&lt;dbl&gt;</th><th scope=col>&lt;dbl&gt;</th><th scope=col>&lt;dbl&gt;</th><th scope=col>&lt;dbl&gt;</th><th scope=col>&lt;dbl&gt;</th><th scope=col>&lt;dbl&gt;</th><th scope=col>&lt;dbl&gt;</th><th scope=col>&lt;dbl&gt;</th><th scope=col>&lt;dbl&gt;</th></tr>\n",
       "</thead>\n",
       "<tbody>\n",
       "\t<tr><th scope=row>1</th><td>Afghanistan</td><td>30.0</td><td>5.8</td><td>35.2</td><td>11.8</td><td>0.0</td><td>0.1</td><td>1</td><td> 18353881130</td><td> 37172386</td><td>25.495</td><td>  56.93776</td><td> 652860</td><td>43.01972</td><td>0.75933</td><td>1299.0269</td><td> 0.00000</td><td>13.9</td><td>0.70</td><td> 327</td></tr>\n",
       "\t<tr><th scope=row>2</th><td>Albania    </td><td>26.4</td><td>3.2</td><td> 9.6</td><td>37.0</td><td>0.7</td><td>0.1</td><td>2</td><td> 15147020535</td><td>  2866376</td><td>60.319</td><td> 104.61226</td><td>  27400</td><td>98.14115</td><td>1.00582</td><td>9361.5460</td><td>59.95146</td><td> 0.2</td><td>1.36</td><td>1485</td></tr>\n",
       "\t<tr><th scope=row>3</th><td>Angola     </td><td> 4.6</td><td>1.3</td><td>17.8</td><td>10.9</td><td>0.4</td><td>0.3</td><td>1</td><td>101353230785</td><td> 30809762</td><td>65.514</td><td>  24.71305</td><td>1246700</td><td> 0.00000</td><td>0.00000</td><td>4963.6533</td><td>43.98964</td><td>48.8</td><td>0.97</td><td>1010</td></tr>\n",
       "\t<tr><th scope=row>4</th><td>Armenia    </td><td> 8.6</td><td>0.4</td><td> 0.2</td><td>39.2</td><td>0.3</td><td>0.1</td><td>2</td><td> 12457941907</td><td>  2951776</td><td>63.149</td><td> 103.68022</td><td>  28470</td><td> 0.00000</td><td>0.00000</td><td>2329.1833</td><td>27.77778</td><td> 0.2</td><td>0.77</td><td> 562</td></tr>\n",
       "\t<tr><th scope=row>5</th><td>Azerbaijan </td><td> 6.9</td><td>3.3</td><td> 1.1</td><td>20.4</td><td>0.1</td><td>0.0</td><td>3</td><td> 47112941176</td><td>  9939771</td><td>55.680</td><td> 120.23432</td><td>  82670</td><td> 0.00000</td><td>0.00000</td><td> 823.5207</td><td>24.48847</td><td> 1.1</td><td>0.56</td><td> 447</td></tr>\n",
       "\t<tr><th scope=row>6</th><td>Bangladesh </td><td>25.1</td><td>0.0</td><td> 6.4</td><td> 0.8</td><td>0.0</td><td>0.3</td><td>1</td><td>274039092455</td><td>161356039</td><td>36.632</td><td>1239.57931</td><td> 130170</td><td>73.91220</td><td>1.03276</td><td> 657.6039</td><td>14.19624</td><td>11.9</td><td>1.12</td><td>2666</td></tr>\n",
       "</tbody>\n",
       "</table>\n"
      ],
      "text/latex": [
       "A data.frame: 6 × 20\n",
       "\\begin{tabular}{r|llllllllllllllllllll}\n",
       "  & Country & bicy & cart & mcyc & pcar & boat & wigc & clusters & cgdp & tpop & upop & popd & land & lita & lity & rifr & cotw & moru & ppfg & prec\\\\\n",
       "  & <chr> & <dbl> & <dbl> & <dbl> & <dbl> & <dbl> & <dbl> & <fct> & <dbl> & <dbl> & <dbl> & <dbl> & <dbl> & <dbl> & <dbl> & <dbl> & <dbl> & <dbl> & <dbl> & <dbl>\\\\\n",
       "\\hline\n",
       "\t1 & Afghanistan & 30.0 & 5.8 & 35.2 & 11.8 & 0.0 & 0.1 & 1 &  18353881130 &  37172386 & 25.495 &   56.93776 &  652860 & 43.01972 & 0.75933 & 1299.0269 &  0.00000 & 13.9 & 0.70 &  327\\\\\n",
       "\t2 & Albania     & 26.4 & 3.2 &  9.6 & 37.0 & 0.7 & 0.1 & 2 &  15147020535 &   2866376 & 60.319 &  104.61226 &   27400 & 98.14115 & 1.00582 & 9361.5460 & 59.95146 &  0.2 & 1.36 & 1485\\\\\n",
       "\t3 & Angola      &  4.6 & 1.3 & 17.8 & 10.9 & 0.4 & 0.3 & 1 & 101353230785 &  30809762 & 65.514 &   24.71305 & 1246700 &  0.00000 & 0.00000 & 4963.6533 & 43.98964 & 48.8 & 0.97 & 1010\\\\\n",
       "\t4 & Armenia     &  8.6 & 0.4 &  0.2 & 39.2 & 0.3 & 0.1 & 2 &  12457941907 &   2951776 & 63.149 &  103.68022 &   28470 &  0.00000 & 0.00000 & 2329.1833 & 27.77778 &  0.2 & 0.77 &  562\\\\\n",
       "\t5 & Azerbaijan  &  6.9 & 3.3 &  1.1 & 20.4 & 0.1 & 0.0 & 3 &  47112941176 &   9939771 & 55.680 &  120.23432 &   82670 &  0.00000 & 0.00000 &  823.5207 & 24.48847 &  1.1 & 0.56 &  447\\\\\n",
       "\t6 & Bangladesh  & 25.1 & 0.0 &  6.4 &  0.8 & 0.0 & 0.3 & 1 & 274039092455 & 161356039 & 36.632 & 1239.57931 &  130170 & 73.91220 & 1.03276 &  657.6039 & 14.19624 & 11.9 & 1.12 & 2666\\\\\n",
       "\\end{tabular}\n"
      ],
      "text/markdown": [
       "\n",
       "A data.frame: 6 × 20\n",
       "\n",
       "| <!--/--> | Country &lt;chr&gt; | bicy &lt;dbl&gt; | cart &lt;dbl&gt; | mcyc &lt;dbl&gt; | pcar &lt;dbl&gt; | boat &lt;dbl&gt; | wigc &lt;dbl&gt; | clusters &lt;fct&gt; | cgdp &lt;dbl&gt; | tpop &lt;dbl&gt; | upop &lt;dbl&gt; | popd &lt;dbl&gt; | land &lt;dbl&gt; | lita &lt;dbl&gt; | lity &lt;dbl&gt; | rifr &lt;dbl&gt; | cotw &lt;dbl&gt; | moru &lt;dbl&gt; | ppfg &lt;dbl&gt; | prec &lt;dbl&gt; |\n",
       "|---|---|---|---|---|---|---|---|---|---|---|---|---|---|---|---|---|---|---|---|---|\n",
       "| 1 | Afghanistan | 30.0 | 5.8 | 35.2 | 11.8 | 0.0 | 0.1 | 1 |  18353881130 |  37172386 | 25.495 |   56.93776 |  652860 | 43.01972 | 0.75933 | 1299.0269 |  0.00000 | 13.9 | 0.70 |  327 |\n",
       "| 2 | Albania     | 26.4 | 3.2 |  9.6 | 37.0 | 0.7 | 0.1 | 2 |  15147020535 |   2866376 | 60.319 |  104.61226 |   27400 | 98.14115 | 1.00582 | 9361.5460 | 59.95146 |  0.2 | 1.36 | 1485 |\n",
       "| 3 | Angola      |  4.6 | 1.3 | 17.8 | 10.9 | 0.4 | 0.3 | 1 | 101353230785 |  30809762 | 65.514 |   24.71305 | 1246700 |  0.00000 | 0.00000 | 4963.6533 | 43.98964 | 48.8 | 0.97 | 1010 |\n",
       "| 4 | Armenia     |  8.6 | 0.4 |  0.2 | 39.2 | 0.3 | 0.1 | 2 |  12457941907 |   2951776 | 63.149 |  103.68022 |   28470 |  0.00000 | 0.00000 | 2329.1833 | 27.77778 |  0.2 | 0.77 |  562 |\n",
       "| 5 | Azerbaijan  |  6.9 | 3.3 |  1.1 | 20.4 | 0.1 | 0.0 | 3 |  47112941176 |   9939771 | 55.680 |  120.23432 |   82670 |  0.00000 | 0.00000 |  823.5207 | 24.48847 |  1.1 | 0.56 |  447 |\n",
       "| 6 | Bangladesh  | 25.1 | 0.0 |  6.4 |  0.8 | 0.0 | 0.3 | 1 | 274039092455 | 161356039 | 36.632 | 1239.57931 |  130170 | 73.91220 | 1.03276 |  657.6039 | 14.19624 | 11.9 | 1.12 | 2666 |\n",
       "\n"
      ],
      "text/plain": [
       "  Country     bicy cart mcyc pcar boat wigc clusters cgdp         tpop     \n",
       "1 Afghanistan 30.0 5.8  35.2 11.8 0.0  0.1  1         18353881130  37172386\n",
       "2 Albania     26.4 3.2   9.6 37.0 0.7  0.1  2         15147020535   2866376\n",
       "3 Angola       4.6 1.3  17.8 10.9 0.4  0.3  1        101353230785  30809762\n",
       "4 Armenia      8.6 0.4   0.2 39.2 0.3  0.1  2         12457941907   2951776\n",
       "5 Azerbaijan   6.9 3.3   1.1 20.4 0.1  0.0  3         47112941176   9939771\n",
       "6 Bangladesh  25.1 0.0   6.4  0.8 0.0  0.3  1        274039092455 161356039\n",
       "  upop   popd       land    lita     lity    rifr      cotw     moru ppfg prec\n",
       "1 25.495   56.93776  652860 43.01972 0.75933 1299.0269  0.00000 13.9 0.70  327\n",
       "2 60.319  104.61226   27400 98.14115 1.00582 9361.5460 59.95146  0.2 1.36 1485\n",
       "3 65.514   24.71305 1246700  0.00000 0.00000 4963.6533 43.98964 48.8 0.97 1010\n",
       "4 63.149  103.68022   28470  0.00000 0.00000 2329.1833 27.77778  0.2 0.77  562\n",
       "5 55.680  120.23432   82670  0.00000 0.00000  823.5207 24.48847  1.1 0.56  447\n",
       "6 36.632 1239.57931  130170 73.91220 1.03276  657.6039 14.19624 11.9 1.12 2666"
      ]
     },
     "metadata": {},
     "output_type": "display_data"
    }
   ],
   "source": [
    "df <- df[, c(1:15,17:21)]\n",
    "head(df)"
   ]
  },
  {
   "cell_type": "markdown",
   "metadata": {},
   "source": [
    "ReScaling in Billions for GDP"
   ]
  },
  {
   "cell_type": "code",
   "execution_count": 249,
   "metadata": {},
   "outputs": [],
   "source": [
    "df$cgdp <- paste(format(round(df$cgdp / 1e9, 1), trim = TRUE))"
   ]
  },
  {
   "cell_type": "code",
   "execution_count": 250,
   "metadata": {},
   "outputs": [],
   "source": [
    "df$tpop <- paste(format(round(df$tpop / 1e6, 1), trim = TRUE)) # tpop in millions\n",
    "df$land <- paste(format(round(df$land / 1e3, 1), trim = TRUE)) # land in thousands (sq. km)\n"
   ]
  },
  {
   "cell_type": "code",
   "execution_count": 251,
   "metadata": {},
   "outputs": [
    {
     "name": "stdout",
     "output_type": "stream",
     "text": [
      "'data.frame':\t73 obs. of  20 variables:\n",
      " $ Country : chr  \"Afghanistan\" \"Albania\" \"Angola\" \"Armenia\" ...\n",
      " $ bicy    : num  30 26.4 4.6 8.6 6.9 25.1 19.4 36.6 82 20.7 ...\n",
      " $ cart    : num  5.8 3.2 1.3 0.4 3.3 0 3.2 0 38.6 0.2 ...\n",
      " $ mcyc    : num  35.2 9.6 17.8 0.2 1.1 6.4 56.1 6.5 58.2 2.2 ...\n",
      " $ pcar    : num  11.8 37 10.9 39.2 20.4 0.8 4.2 15.6 3 1.1 ...\n",
      " $ boat    : num  0 0.7 0.4 0.3 0.1 0 0.2 0 0 0.2 ...\n",
      " $ wigc    : num  0.1 0.1 0.3 0.1 0 0.3 0.3 0 0.2 0.3 ...\n",
      " $ clusters: Factor w/ 3 levels \"1\",\"2\",\"3\": 1 2 1 2 3 1 1 3 1 1 ...\n",
      " $ cgdp    : num  18.4 15.1 101.4 12.5 47.1 ...\n",
      " $ tpop    : num  37.2 2.9 30.8 3 9.9 ...\n",
      " $ upop    : num  25.5 60.3 65.5 63.1 55.7 ...\n",
      " $ popd    : num  56.9 104.6 24.7 103.7 120.2 ...\n",
      " $ land    : num  652.9 27.4 1246.7 28.5 82.7 ...\n",
      " $ lita    : num  43 98.1 0 0 0 ...\n",
      " $ lity    : num  0.759 1.006 0 0 0 ...\n",
      " $ rifr    : num  1299 9362 4964 2329 824 ...\n",
      " $ cotw    : num  0 60 44 27.8 24.5 ...\n",
      " $ moru    : num  13.9 0.2 48.8 0.2 1.1 11.9 59.7 5.6 49.6 65.4 ...\n",
      " $ ppfg    : num  0.7 1.36 0.97 0.77 0.56 1.12 0.72 0.71 0.98 1.21 ...\n",
      " $ prec    : num  0.3 1.5 1 0.6 0.4 2.7 1 1.1 0.7 1.3 ...\n"
     ]
    },
    {
     "data": {
      "text/html": [
       "<table class=\"dataframe\">\n",
       "<caption>A data.frame: 6 × 20</caption>\n",
       "<thead>\n",
       "\t<tr><th></th><th scope=col>Country</th><th scope=col>bicy</th><th scope=col>cart</th><th scope=col>mcyc</th><th scope=col>pcar</th><th scope=col>boat</th><th scope=col>wigc</th><th scope=col>clusters</th><th scope=col>cgdp</th><th scope=col>tpop</th><th scope=col>upop</th><th scope=col>popd</th><th scope=col>land</th><th scope=col>lita</th><th scope=col>lity</th><th scope=col>rifr</th><th scope=col>cotw</th><th scope=col>moru</th><th scope=col>ppfg</th><th scope=col>prec</th></tr>\n",
       "\t<tr><th></th><th scope=col>&lt;chr&gt;</th><th scope=col>&lt;dbl&gt;</th><th scope=col>&lt;dbl&gt;</th><th scope=col>&lt;dbl&gt;</th><th scope=col>&lt;dbl&gt;</th><th scope=col>&lt;dbl&gt;</th><th scope=col>&lt;dbl&gt;</th><th scope=col>&lt;fct&gt;</th><th scope=col>&lt;dbl&gt;</th><th scope=col>&lt;dbl&gt;</th><th scope=col>&lt;dbl&gt;</th><th scope=col>&lt;dbl&gt;</th><th scope=col>&lt;dbl&gt;</th><th scope=col>&lt;dbl&gt;</th><th scope=col>&lt;dbl&gt;</th><th scope=col>&lt;dbl&gt;</th><th scope=col>&lt;dbl&gt;</th><th scope=col>&lt;dbl&gt;</th><th scope=col>&lt;dbl&gt;</th><th scope=col>&lt;dbl&gt;</th></tr>\n",
       "</thead>\n",
       "<tbody>\n",
       "\t<tr><th scope=row>1</th><td>Afghanistan</td><td>30.0</td><td>5.8</td><td>35.2</td><td>11.8</td><td>0.0</td><td>0.1</td><td>1</td><td> 18.4</td><td> 37.2</td><td>25.495</td><td>  56.93776</td><td> 652.9</td><td>43.01972</td><td>0.75933</td><td>1299.0269</td><td> 0.00000</td><td>13.9</td><td>0.70</td><td>0.3</td></tr>\n",
       "\t<tr><th scope=row>2</th><td>Albania    </td><td>26.4</td><td>3.2</td><td> 9.6</td><td>37.0</td><td>0.7</td><td>0.1</td><td>2</td><td> 15.1</td><td>  2.9</td><td>60.319</td><td> 104.61226</td><td>  27.4</td><td>98.14115</td><td>1.00582</td><td>9361.5460</td><td>59.95146</td><td> 0.2</td><td>1.36</td><td>1.5</td></tr>\n",
       "\t<tr><th scope=row>3</th><td>Angola     </td><td> 4.6</td><td>1.3</td><td>17.8</td><td>10.9</td><td>0.4</td><td>0.3</td><td>1</td><td>101.4</td><td> 30.8</td><td>65.514</td><td>  24.71305</td><td>1246.7</td><td> 0.00000</td><td>0.00000</td><td>4963.6533</td><td>43.98964</td><td>48.8</td><td>0.97</td><td>1.0</td></tr>\n",
       "\t<tr><th scope=row>4</th><td>Armenia    </td><td> 8.6</td><td>0.4</td><td> 0.2</td><td>39.2</td><td>0.3</td><td>0.1</td><td>2</td><td> 12.5</td><td>  3.0</td><td>63.149</td><td> 103.68022</td><td>  28.5</td><td> 0.00000</td><td>0.00000</td><td>2329.1833</td><td>27.77778</td><td> 0.2</td><td>0.77</td><td>0.6</td></tr>\n",
       "\t<tr><th scope=row>5</th><td>Azerbaijan </td><td> 6.9</td><td>3.3</td><td> 1.1</td><td>20.4</td><td>0.1</td><td>0.0</td><td>3</td><td> 47.1</td><td>  9.9</td><td>55.680</td><td> 120.23432</td><td>  82.7</td><td> 0.00000</td><td>0.00000</td><td> 823.5207</td><td>24.48847</td><td> 1.1</td><td>0.56</td><td>0.4</td></tr>\n",
       "\t<tr><th scope=row>6</th><td>Bangladesh </td><td>25.1</td><td>0.0</td><td> 6.4</td><td> 0.8</td><td>0.0</td><td>0.3</td><td>1</td><td>274.0</td><td>161.4</td><td>36.632</td><td>1239.57931</td><td> 130.2</td><td>73.91220</td><td>1.03276</td><td> 657.6039</td><td>14.19624</td><td>11.9</td><td>1.12</td><td>2.7</td></tr>\n",
       "</tbody>\n",
       "</table>\n"
      ],
      "text/latex": [
       "A data.frame: 6 × 20\n",
       "\\begin{tabular}{r|llllllllllllllllllll}\n",
       "  & Country & bicy & cart & mcyc & pcar & boat & wigc & clusters & cgdp & tpop & upop & popd & land & lita & lity & rifr & cotw & moru & ppfg & prec\\\\\n",
       "  & <chr> & <dbl> & <dbl> & <dbl> & <dbl> & <dbl> & <dbl> & <fct> & <dbl> & <dbl> & <dbl> & <dbl> & <dbl> & <dbl> & <dbl> & <dbl> & <dbl> & <dbl> & <dbl> & <dbl>\\\\\n",
       "\\hline\n",
       "\t1 & Afghanistan & 30.0 & 5.8 & 35.2 & 11.8 & 0.0 & 0.1 & 1 &  18.4 &  37.2 & 25.495 &   56.93776 &  652.9 & 43.01972 & 0.75933 & 1299.0269 &  0.00000 & 13.9 & 0.70 & 0.3\\\\\n",
       "\t2 & Albania     & 26.4 & 3.2 &  9.6 & 37.0 & 0.7 & 0.1 & 2 &  15.1 &   2.9 & 60.319 &  104.61226 &   27.4 & 98.14115 & 1.00582 & 9361.5460 & 59.95146 &  0.2 & 1.36 & 1.5\\\\\n",
       "\t3 & Angola      &  4.6 & 1.3 & 17.8 & 10.9 & 0.4 & 0.3 & 1 & 101.4 &  30.8 & 65.514 &   24.71305 & 1246.7 &  0.00000 & 0.00000 & 4963.6533 & 43.98964 & 48.8 & 0.97 & 1.0\\\\\n",
       "\t4 & Armenia     &  8.6 & 0.4 &  0.2 & 39.2 & 0.3 & 0.1 & 2 &  12.5 &   3.0 & 63.149 &  103.68022 &   28.5 &  0.00000 & 0.00000 & 2329.1833 & 27.77778 &  0.2 & 0.77 & 0.6\\\\\n",
       "\t5 & Azerbaijan  &  6.9 & 3.3 &  1.1 & 20.4 & 0.1 & 0.0 & 3 &  47.1 &   9.9 & 55.680 &  120.23432 &   82.7 &  0.00000 & 0.00000 &  823.5207 & 24.48847 &  1.1 & 0.56 & 0.4\\\\\n",
       "\t6 & Bangladesh  & 25.1 & 0.0 &  6.4 &  0.8 & 0.0 & 0.3 & 1 & 274.0 & 161.4 & 36.632 & 1239.57931 &  130.2 & 73.91220 & 1.03276 &  657.6039 & 14.19624 & 11.9 & 1.12 & 2.7\\\\\n",
       "\\end{tabular}\n"
      ],
      "text/markdown": [
       "\n",
       "A data.frame: 6 × 20\n",
       "\n",
       "| <!--/--> | Country &lt;chr&gt; | bicy &lt;dbl&gt; | cart &lt;dbl&gt; | mcyc &lt;dbl&gt; | pcar &lt;dbl&gt; | boat &lt;dbl&gt; | wigc &lt;dbl&gt; | clusters &lt;fct&gt; | cgdp &lt;dbl&gt; | tpop &lt;dbl&gt; | upop &lt;dbl&gt; | popd &lt;dbl&gt; | land &lt;dbl&gt; | lita &lt;dbl&gt; | lity &lt;dbl&gt; | rifr &lt;dbl&gt; | cotw &lt;dbl&gt; | moru &lt;dbl&gt; | ppfg &lt;dbl&gt; | prec &lt;dbl&gt; |\n",
       "|---|---|---|---|---|---|---|---|---|---|---|---|---|---|---|---|---|---|---|---|---|\n",
       "| 1 | Afghanistan | 30.0 | 5.8 | 35.2 | 11.8 | 0.0 | 0.1 | 1 |  18.4 |  37.2 | 25.495 |   56.93776 |  652.9 | 43.01972 | 0.75933 | 1299.0269 |  0.00000 | 13.9 | 0.70 | 0.3 |\n",
       "| 2 | Albania     | 26.4 | 3.2 |  9.6 | 37.0 | 0.7 | 0.1 | 2 |  15.1 |   2.9 | 60.319 |  104.61226 |   27.4 | 98.14115 | 1.00582 | 9361.5460 | 59.95146 |  0.2 | 1.36 | 1.5 |\n",
       "| 3 | Angola      |  4.6 | 1.3 | 17.8 | 10.9 | 0.4 | 0.3 | 1 | 101.4 |  30.8 | 65.514 |   24.71305 | 1246.7 |  0.00000 | 0.00000 | 4963.6533 | 43.98964 | 48.8 | 0.97 | 1.0 |\n",
       "| 4 | Armenia     |  8.6 | 0.4 |  0.2 | 39.2 | 0.3 | 0.1 | 2 |  12.5 |   3.0 | 63.149 |  103.68022 |   28.5 |  0.00000 | 0.00000 | 2329.1833 | 27.77778 |  0.2 | 0.77 | 0.6 |\n",
       "| 5 | Azerbaijan  |  6.9 | 3.3 |  1.1 | 20.4 | 0.1 | 0.0 | 3 |  47.1 |   9.9 | 55.680 |  120.23432 |   82.7 |  0.00000 | 0.00000 |  823.5207 | 24.48847 |  1.1 | 0.56 | 0.4 |\n",
       "| 6 | Bangladesh  | 25.1 | 0.0 |  6.4 |  0.8 | 0.0 | 0.3 | 1 | 274.0 | 161.4 | 36.632 | 1239.57931 |  130.2 | 73.91220 | 1.03276 |  657.6039 | 14.19624 | 11.9 | 1.12 | 2.7 |\n",
       "\n"
      ],
      "text/plain": [
       "  Country     bicy cart mcyc pcar boat wigc clusters cgdp  tpop  upop  \n",
       "1 Afghanistan 30.0 5.8  35.2 11.8 0.0  0.1  1         18.4  37.2 25.495\n",
       "2 Albania     26.4 3.2   9.6 37.0 0.7  0.1  2         15.1   2.9 60.319\n",
       "3 Angola       4.6 1.3  17.8 10.9 0.4  0.3  1        101.4  30.8 65.514\n",
       "4 Armenia      8.6 0.4   0.2 39.2 0.3  0.1  2         12.5   3.0 63.149\n",
       "5 Azerbaijan   6.9 3.3   1.1 20.4 0.1  0.0  3         47.1   9.9 55.680\n",
       "6 Bangladesh  25.1 0.0   6.4  0.8 0.0  0.3  1        274.0 161.4 36.632\n",
       "  popd       land   lita     lity    rifr      cotw     moru ppfg prec\n",
       "1   56.93776  652.9 43.01972 0.75933 1299.0269  0.00000 13.9 0.70 0.3 \n",
       "2  104.61226   27.4 98.14115 1.00582 9361.5460 59.95146  0.2 1.36 1.5 \n",
       "3   24.71305 1246.7  0.00000 0.00000 4963.6533 43.98964 48.8 0.97 1.0 \n",
       "4  103.68022   28.5  0.00000 0.00000 2329.1833 27.77778  0.2 0.77 0.6 \n",
       "5  120.23432   82.7  0.00000 0.00000  823.5207 24.48847  1.1 0.56 0.4 \n",
       "6 1239.57931  130.2 73.91220 1.03276  657.6039 14.19624 11.9 1.12 2.7 "
      ]
     },
     "metadata": {},
     "output_type": "display_data"
    }
   ],
   "source": [
    "df$prec <- paste(format(round(df$prec / 1e3, 1), trim = TRUE)) # Preciptiation depth in thousands of mm\n",
    "df$cgdp <- as.numeric(df$cgdp)\n",
    "df$tpop <- as.numeric(df$tpop)\n",
    "df$land <- as.numeric(df$land)\n",
    "df$prec <- as.numeric(df$prec)\n",
    "str(df)\n",
    "head(df)"
   ]
  },
  {
   "cell_type": "code",
   "execution_count": 252,
   "metadata": {},
   "outputs": [
    {
     "data": {
      "image/png": "[encoded data removed]",
      "text/plain": [
       "Plot with title \"Histogram of df$cart\""
      ]
     },
     "metadata": {
      "image/png": {
       "height": 420,
       "width": 420
      }
     },
     "output_type": "display_data"
    }
   ],
   "source": [
    "hist(df$cart)"
   ]
  },
  {
   "cell_type": "code",
   "execution_count": 253,
   "metadata": {},
   "outputs": [],
   "source": [
    "tree.wa = tree(clusters ~ . - Country  , data = df)"
   ]
  },
  {
   "cell_type": "code",
   "execution_count": 254,
   "metadata": {},
   "outputs": [
    {
     "data": {
      "text/plain": [
       "\n",
       "Classification tree:\n",
       "tree(formula = clusters ~ . - Country, data = df)\n",
       "Variables actually used in tree construction:\n",
       "[1] \"moru\" \"tpop\" \"ppfg\" \"cotw\" \"bicy\"\n",
       "Number of terminal nodes:  9 \n",
       "Residual mean deviance:  0.4429 = 28.35 / 64 \n",
       "Misclassification error rate: 0.09589 = 7 / 73 "
      ]
     },
     "metadata": {},
     "output_type": "display_data"
    }
   ],
   "source": [
    "summary(tree.wa) "
   ]
  },
  {
   "cell_type": "code",
   "execution_count": 255,
   "metadata": {},
   "outputs": [
    {
     "data": {
      "image/png": "[encoded data removed]",
      "text/plain": [
       "plot without title"
      ]
     },
     "metadata": {
      "image/png": {
       "height": 420,
       "width": 420
      }
     },
     "output_type": "display_data"
    }
   ],
   "source": [
    "plot(tree.wa)\n",
    "text(tree.wa, pretty = 0) #population density High density for six cluster group."
   ]
  },
  {
   "cell_type": "code",
   "execution_count": 256,
   "metadata": {},
   "outputs": [
    {
     "data": {
      "text/plain": [
       "node), split, n, deviance, yval, (yprob)\n",
       "      * denotes terminal node\n",
       "\n",
       " 1) root 73 154.300 1 ( 0.4658 0.2329 0.3014 )  \n",
       "   2) moru < 11.65 28  37.520 2 ( 0.0000 0.6071 0.3929 )  \n",
       "     4) moru < 0.7 7   0.000 2 ( 0.0000 1.0000 0.0000 ) *\n",
       "     5) moru > 0.7 21  29.060 3 ( 0.0000 0.4762 0.5238 )  \n",
       "      10) tpop < 9.35 7   0.000 3 ( 0.0000 0.0000 1.0000 ) *\n",
       "      11) tpop > 9.35 14  16.750 2 ( 0.0000 0.7143 0.2857 )  \n",
       "        22) ppfg < 0.83 7   9.561 3 ( 0.0000 0.4286 0.5714 ) *\n",
       "        23) ppfg > 0.83 7   0.000 2 ( 0.0000 1.0000 0.0000 ) *\n",
       "   3) moru > 11.65 45  50.050 1 ( 0.7556 0.0000 0.2444 )  \n",
       "     6) tpop < 3.4 7   5.742 3 ( 0.1429 0.0000 0.8571 ) *\n",
       "     7) tpop > 3.4 38  29.590 1 ( 0.8684 0.0000 0.1316 )  \n",
       "      14) ppfg < 0.915 16   0.000 1 ( 1.0000 0.0000 0.0000 ) *\n",
       "      15) ppfg > 0.915 22  23.580 1 ( 0.7727 0.0000 0.2273 )  \n",
       "        30) cotw < 11.764 10   0.000 1 ( 1.0000 0.0000 0.0000 ) *\n",
       "        31) cotw > 11.764 12  16.300 1 ( 0.5833 0.0000 0.4167 )  \n",
       "          62) bicy < 20.8 6   7.638 3 ( 0.3333 0.0000 0.6667 ) *\n",
       "          63) bicy > 20.8 6   5.407 1 ( 0.8333 0.0000 0.1667 ) *"
      ]
     },
     "metadata": {},
     "output_type": "display_data"
    }
   ],
   "source": [
    "tree.wa"
   ]
  },
  {
   "cell_type": "code",
   "execution_count": 257,
   "metadata": {},
   "outputs": [
    {
     "data": {
      "text/html": [
       "<style>\n",
       ".list-inline {list-style: none; margin:0; padding: 0}\n",
       ".list-inline>li {display: inline-block}\n",
       ".list-inline>li:not(:last-child)::after {content: \"\\00b7\"; padding: 0 .5ex}\n",
       "</style>\n",
       "<ol class=list-inline><li>73</li><li>57</li><li>46</li><li>58</li><li>61</li><li>60</li></ol>\n"
      ],
      "text/latex": [
       "\\begin{enumerate*}\n",
       "\\item 73\n",
       "\\item 57\n",
       "\\item 46\n",
       "\\item 58\n",
       "\\item 61\n",
       "\\item 60\n",
       "\\end{enumerate*}\n"
      ],
      "text/markdown": [
       "1. 73\n",
       "2. 57\n",
       "3. 46\n",
       "4. 58\n",
       "5. 61\n",
       "6. 60\n",
       "\n",
       "\n"
      ],
      "text/plain": [
       "[1] 73 57 46 58 61 60"
      ]
     },
     "metadata": {},
     "output_type": "display_data"
    }
   ],
   "source": [
    "set.seed(101)\n",
    "train = sample(1:nrow(df), 50)\n",
    "head(train)"
   ]
  },
  {
   "cell_type": "code",
   "execution_count": 258,
   "metadata": {},
   "outputs": [
    {
     "data": {
      "image/png": "[encoded data removed]",
      "text/plain": [
       "plot without title"
      ]
     },
     "metadata": {
      "image/png": {
       "height": 420,
       "width": 420
      }
     },
     "output_type": "display_data"
    }
   ],
   "source": [
    "tree.wa = tree(clusters ~ . - Country  , data = df , subset=train)\n",
    "plot(tree.wa)\n",
    "text(tree.wa, pretty = 0)"
   ]
  },
  {
   "cell_type": "code",
   "execution_count": 259,
   "metadata": {},
   "outputs": [
    {
     "data": {
      "text/plain": [
       "\n",
       "Classification tree:\n",
       "tree(formula = clusters ~ . - Country, data = df, subset = train)\n",
       "Variables actually used in tree construction:\n",
       "[1] \"moru\" \"tpop\" \"popd\" \"bicy\" \"pcar\" \"prec\"\n",
       "Number of terminal nodes:  7 \n",
       "Residual mean deviance:  0.5985 = 25.74 / 43 \n",
       "Misclassification error rate: 0.12 = 6 / 50 "
      ]
     },
     "metadata": {},
     "output_type": "display_data"
    }
   ],
   "source": [
    "summary(tree.wa)"
   ]
  },
  {
   "cell_type": "code",
   "execution_count": 260,
   "metadata": {},
   "outputs": [
    {
     "data": {
      "text/html": [
       "<style>\n",
       ".list-inline {list-style: none; margin:0; padding: 0}\n",
       ".list-inline>li {display: inline-block}\n",
       ".list-inline>li:not(:last-child)::after {content: \"\\00b7\"; padding: 0 .5ex}\n",
       "</style>\n",
       "<ol class=list-inline><li>3</li><li>2</li><li>2</li><li>1</li><li>2</li><li>1</li><li>3</li><li>1</li><li>1</li><li>2</li><li>3</li><li>1</li><li>2</li><li>3</li><li>1</li><li>1</li><li>1</li><li>1</li><li>1</li><li>2</li><li>1</li><li>3</li><li>1</li></ol>\n",
       "\n",
       "<details>\n",
       "\t<summary style=display:list-item;cursor:pointer>\n",
       "\t\t<strong>Levels</strong>:\n",
       "\t</summary>\n",
       "\t<style>\n",
       "\t.list-inline {list-style: none; margin:0; padding: 0}\n",
       "\t.list-inline>li {display: inline-block}\n",
       "\t.list-inline>li:not(:last-child)::after {content: \"\\00b7\"; padding: 0 .5ex}\n",
       "\t</style>\n",
       "\t<ol class=list-inline><li>'1'</li><li>'2'</li><li>'3'</li></ol>\n",
       "</details>"
      ],
      "text/latex": [
       "\\begin{enumerate*}\n",
       "\\item 3\n",
       "\\item 2\n",
       "\\item 2\n",
       "\\item 1\n",
       "\\item 2\n",
       "\\item 1\n",
       "\\item 3\n",
       "\\item 1\n",
       "\\item 1\n",
       "\\item 2\n",
       "\\item 3\n",
       "\\item 1\n",
       "\\item 2\n",
       "\\item 3\n",
       "\\item 1\n",
       "\\item 1\n",
       "\\item 1\n",
       "\\item 1\n",
       "\\item 1\n",
       "\\item 2\n",
       "\\item 1\n",
       "\\item 3\n",
       "\\item 1\n",
       "\\end{enumerate*}\n",
       "\n",
       "\\emph{Levels}: \\begin{enumerate*}\n",
       "\\item '1'\n",
       "\\item '2'\n",
       "\\item '3'\n",
       "\\end{enumerate*}\n"
      ],
      "text/markdown": [
       "1. 3\n",
       "2. 2\n",
       "3. 2\n",
       "4. 1\n",
       "5. 2\n",
       "6. 1\n",
       "7. 3\n",
       "8. 1\n",
       "9. 1\n",
       "10. 2\n",
       "11. 3\n",
       "12. 1\n",
       "13. 2\n",
       "14. 3\n",
       "15. 1\n",
       "16. 1\n",
       "17. 1\n",
       "18. 1\n",
       "19. 1\n",
       "20. 2\n",
       "21. 1\n",
       "22. 3\n",
       "23. 1\n",
       "\n",
       "\n",
       "\n",
       "**Levels**: 1. '1'\n",
       "2. '2'\n",
       "3. '3'\n",
       "\n",
       "\n"
      ],
      "text/plain": [
       " [1] 3 2 2 1 2 1 3 1 1 2 3 1 2 3 1 1 1 1 1 2 1 3 1\n",
       "Levels: 1 2 3"
      ]
     },
     "metadata": {},
     "output_type": "display_data"
    }
   ],
   "source": [
    "tree.pred = predict(tree.wa, df[-train,], type=\"class\")\n",
    "tree.pred"
   ]
  },
  {
   "cell_type": "code",
   "execution_count": 261,
   "metadata": {},
   "outputs": [
    {
     "data": {
      "text/html": [
       "<style>\n",
       ".list-inline {list-style: none; margin:0; padding: 0}\n",
       ".list-inline>li {display: inline-block}\n",
       ".list-inline>li:not(:last-child)::after {content: \"\\00b7\"; padding: 0 .5ex}\n",
       "</style>\n",
       "<ol class=list-inline><li>73</li><li>57</li><li>46</li><li>58</li><li>61</li><li>60</li></ol>\n"
      ],
      "text/latex": [
       "\\begin{enumerate*}\n",
       "\\item 73\n",
       "\\item 57\n",
       "\\item 46\n",
       "\\item 58\n",
       "\\item 61\n",
       "\\item 60\n",
       "\\end{enumerate*}\n"
      ],
      "text/markdown": [
       "1. 73\n",
       "2. 57\n",
       "3. 46\n",
       "4. 58\n",
       "5. 61\n",
       "6. 60\n",
       "\n",
       "\n"
      ],
      "text/plain": [
       "[1] 73 57 46 58 61 60"
      ]
     },
     "metadata": {},
     "output_type": "display_data"
    }
   ],
   "source": [
    "set.seed(101)\n",
    "train = sample(1:nrow(df), 50)\n",
    "head(train)"
   ]
  },
  {
   "cell_type": "code",
   "execution_count": 262,
   "metadata": {},
   "outputs": [
    {
     "name": "stdout",
     "output_type": "stream",
     "text": [
      "\n",
      "Call:\n",
      " randomForest(formula = clusters ~ . - Country, data = df, ntree = 500,      mtry = 18, subset = train) \n",
      "               Type of random forest: classification\n",
      "                     Number of trees: 500\n",
      "No. of variables tried at each split: 18\n",
      "\n",
      "        OOB estimate of  error rate: 36%\n",
      "Confusion matrix:\n",
      "   1 2 3 class.error\n",
      "1 20 1 3   0.1666667\n",
      "2  0 7 5   0.4166667\n",
      "3  4 5 5   0.6428571\n"
     ]
    }
   ],
   "source": [
    "rf.water = randomForest(clusters~. -Country, data = df ,subset=train, ntree=500,mtry=18)\n",
    "print(rf.water)"
   ]
  },
  {
   "cell_type": "markdown",
   "metadata": {},
   "source": [
    "Printing out the random forest gives its summary: the # of trees (500 were grown), the mean squared residuals (MSR), and the percentage of variance explained. The MSR and % variance explained are based on the out-of-bag estimates, a very clever device in random forests to get honest error estimates."
   ]
  },
  {
   "cell_type": "markdown",
   "metadata": {},
   "source": [
    "oob.err = double(20)\n",
    "test.err = double(20)\n",
    "head(oob.err)"
   ]
  },
  {
   "cell_type": "markdown",
   "metadata": {},
   "source": [
    "\n",
    "for(mtry in 1:20){\n",
    "  fit = randomForest(clusters~. -Country, data = df, subset=train, mtry=mtry, ntree = 250)\n",
    "  oob.err[mtry] = fit$mse[250]\n",
    "  pred = predict(fit, df[-train,])\n",
    "  test.err[mtry] = with(df[-train,], mean( (clusters-pred)^2 ))\n",
    "}"
   ]
  },
  {
   "cell_type": "markdown",
   "metadata": {},
   "source": [
    "matplot(1:mtry, cbind(test.err, oob.err), pch = 23, col = c(\"red\", \"blue\"), type = \"b\", ylab=\"Mean Squared Error\")\n",
    "legend(\"topright\", legend = c(\"OOB\", \"Test\"), pch = 23, col = c(\"red\", \"blue\"))"
   ]
  },
  {
   "cell_type": "code",
   "execution_count": 263,
   "metadata": {},
   "outputs": [
    {
     "data": {
      "text/plain": [
       "                Length Class  Mode     \n",
       "call               6   -none- call     \n",
       "type               1   -none- character\n",
       "predicted         50   factor numeric  \n",
       "err.rate        2000   -none- numeric  \n",
       "confusion         12   -none- numeric  \n",
       "votes            150   matrix numeric  \n",
       "oob.times         50   -none- numeric  \n",
       "classes            3   -none- character\n",
       "importance        18   -none- numeric  \n",
       "importanceSD       0   -none- NULL     \n",
       "localImportance    0   -none- NULL     \n",
       "proximity          0   -none- NULL     \n",
       "ntree              1   -none- numeric  \n",
       "mtry               1   -none- numeric  \n",
       "forest            14   -none- list     \n",
       "y                 50   factor numeric  \n",
       "test               0   -none- NULL     \n",
       "inbag              0   -none- NULL     \n",
       "terms              3   terms  call     "
      ]
     },
     "metadata": {},
     "output_type": "display_data"
    }
   ],
   "source": [
    "summary(rf.water)"
   ]
  },
  {
   "cell_type": "markdown",
   "metadata": {},
   "source": [
    "The MeanDecreaseGini measures the Gini importance = how important the features are over all splits done in the tree/forest - whereas for each individual split the Gini importance indicates how much the Gini criterion = \"unequality/heterogeneity\" was reduced using this split.\n",
    "mori, upop, pcar popd, mcyc important and contributed most to obtaining such splits, so they are considered more important."
   ]
  },
  {
   "cell_type": "code",
   "execution_count": 264,
   "metadata": {},
   "outputs": [
    {
     "data": {
      "text/html": [
       "<table class=\"dataframe\">\n",
       "<caption>A matrix: 18 × 1 of type dbl</caption>\n",
       "<thead>\n",
       "\t<tr><th></th><th scope=col>MeanDecreaseGini</th></tr>\n",
       "</thead>\n",
       "<tbody>\n",
       "\t<tr><th scope=row>bicy</th><td> 0.4338502</td></tr>\n",
       "\t<tr><th scope=row>cart</th><td> 0.8800893</td></tr>\n",
       "\t<tr><th scope=row>mcyc</th><td> 1.2130126</td></tr>\n",
       "\t<tr><th scope=row>pcar</th><td> 2.7169705</td></tr>\n",
       "\t<tr><th scope=row>boat</th><td> 1.1583814</td></tr>\n",
       "\t<tr><th scope=row>wigc</th><td> 0.4629330</td></tr>\n",
       "\t<tr><th scope=row>cgdp</th><td> 0.6905675</td></tr>\n",
       "\t<tr><th scope=row>tpop</th><td> 2.5661660</td></tr>\n",
       "\t<tr><th scope=row>upop</th><td> 1.7684660</td></tr>\n",
       "\t<tr><th scope=row>popd</th><td> 0.7741677</td></tr>\n",
       "\t<tr><th scope=row>land</th><td> 0.7521699</td></tr>\n",
       "\t<tr><th scope=row>lita</th><td> 1.1190101</td></tr>\n",
       "\t<tr><th scope=row>lity</th><td> 0.6808524</td></tr>\n",
       "\t<tr><th scope=row>rifr</th><td> 0.7180159</td></tr>\n",
       "\t<tr><th scope=row>cotw</th><td> 0.5255035</td></tr>\n",
       "\t<tr><th scope=row>moru</th><td>13.3597312</td></tr>\n",
       "\t<tr><th scope=row>ppfg</th><td> 0.7255084</td></tr>\n",
       "\t<tr><th scope=row>prec</th><td> 0.4759643</td></tr>\n",
       "</tbody>\n",
       "</table>\n"
      ],
      "text/latex": [
       "A matrix: 18 × 1 of type dbl\n",
       "\\begin{tabular}{r|l}\n",
       "  & MeanDecreaseGini\\\\\n",
       "\\hline\n",
       "\tbicy &  0.4338502\\\\\n",
       "\tcart &  0.8800893\\\\\n",
       "\tmcyc &  1.2130126\\\\\n",
       "\tpcar &  2.7169705\\\\\n",
       "\tboat &  1.1583814\\\\\n",
       "\twigc &  0.4629330\\\\\n",
       "\tcgdp &  0.6905675\\\\\n",
       "\ttpop &  2.5661660\\\\\n",
       "\tupop &  1.7684660\\\\\n",
       "\tpopd &  0.7741677\\\\\n",
       "\tland &  0.7521699\\\\\n",
       "\tlita &  1.1190101\\\\\n",
       "\tlity &  0.6808524\\\\\n",
       "\trifr &  0.7180159\\\\\n",
       "\tcotw &  0.5255035\\\\\n",
       "\tmoru & 13.3597312\\\\\n",
       "\tppfg &  0.7255084\\\\\n",
       "\tprec &  0.4759643\\\\\n",
       "\\end{tabular}\n"
      ],
      "text/markdown": [
       "\n",
       "A matrix: 18 × 1 of type dbl\n",
       "\n",
       "| <!--/--> | MeanDecreaseGini |\n",
       "|---|---|\n",
       "| bicy |  0.4338502 |\n",
       "| cart |  0.8800893 |\n",
       "| mcyc |  1.2130126 |\n",
       "| pcar |  2.7169705 |\n",
       "| boat |  1.1583814 |\n",
       "| wigc |  0.4629330 |\n",
       "| cgdp |  0.6905675 |\n",
       "| tpop |  2.5661660 |\n",
       "| upop |  1.7684660 |\n",
       "| popd |  0.7741677 |\n",
       "| land |  0.7521699 |\n",
       "| lita |  1.1190101 |\n",
       "| lity |  0.6808524 |\n",
       "| rifr |  0.7180159 |\n",
       "| cotw |  0.5255035 |\n",
       "| moru | 13.3597312 |\n",
       "| ppfg |  0.7255084 |\n",
       "| prec |  0.4759643 |\n",
       "\n"
      ],
      "text/plain": [
       "     MeanDecreaseGini\n",
       "bicy  0.4338502      \n",
       "cart  0.8800893      \n",
       "mcyc  1.2130126      \n",
       "pcar  2.7169705      \n",
       "boat  1.1583814      \n",
       "wigc  0.4629330      \n",
       "cgdp  0.6905675      \n",
       "tpop  2.5661660      \n",
       "upop  1.7684660      \n",
       "popd  0.7741677      \n",
       "land  0.7521699      \n",
       "lita  1.1190101      \n",
       "lity  0.6808524      \n",
       "rifr  0.7180159      \n",
       "cotw  0.5255035      \n",
       "moru 13.3597312      \n",
       "ppfg  0.7255084      \n",
       "prec  0.4759643      "
      ]
     },
     "metadata": {},
     "output_type": "display_data"
    }
   ],
   "source": [
    "importance <- importance(rf.water, sort = TRUE)\n",
    "importance"
   ]
  },
  {
   "cell_type": "code",
   "execution_count": 265,
   "metadata": {},
   "outputs": [
    {
     "data": {
      "image/png": "[encoded data removed]",
      "text/plain": [
       "Plot with title \"rf.water\""
      ]
     },
     "metadata": {
      "image/png": {
       "height": 420,
       "width": 420
      }
     },
     "output_type": "display_data"
    }
   ],
   "source": [
    "# create an importance plot\n",
    "varImpPlot(rf.water, sort=TRUE, n.var=min(30, nrow(rf.water$importance)),\n",
    "           type=NULL, class=NULL, scale=TRUE )\n",
    "\n",
    "\n"
   ]
  },
  {
   "cell_type": "code",
   "execution_count": 266,
   "metadata": {},
   "outputs": [
    {
     "data": {
      "image/png": "[encoded data removed]"
     },
     "metadata": {
      "image/png": {
       "height": 420,
       "width": 420
      }
     },
     "output_type": "display_data"
    }
   ],
   "source": [
    "plot(randomForest(clusters~. -Country, data = df ,ntree=500, subset=train, keep.forest=FALSE, mtry=18) )\n"
   ]
  },
  {
   "cell_type": "markdown",
   "metadata": {},
   "source": [
    "# randomForestExplainer"
   ]
  },
  {
   "cell_type": "code",
   "execution_count": 267,
   "metadata": {},
   "outputs": [],
   "source": [
    "rf.water = randomForest(clusters~. -Country, data = df ,ntree=500, subset=train, mtry=18, localImp = TRUE)"
   ]
  },
  {
   "cell_type": "code",
   "execution_count": 268,
   "metadata": {},
   "outputs": [
    {
     "data": {
      "text/html": [
       "<table class=\"dataframe\">\n",
       "<caption>A data.frame: 10 × 3</caption>\n",
       "<thead>\n",
       "\t<tr><th></th><th scope=col>tree</th><th scope=col>variable</th><th scope=col>minimal_depth</th></tr>\n",
       "\t<tr><th></th><th scope=col>&lt;int&gt;</th><th scope=col>&lt;chr&gt;</th><th scope=col>&lt;dbl&gt;</th></tr>\n",
       "</thead>\n",
       "<tbody>\n",
       "\t<tr><th scope=row>1</th><td>1</td><td>cgdp</td><td>2</td></tr>\n",
       "\t<tr><th scope=row>2</th><td>1</td><td>land</td><td>3</td></tr>\n",
       "\t<tr><th scope=row>3</th><td>1</td><td>lita</td><td>3</td></tr>\n",
       "\t<tr><th scope=row>4</th><td>1</td><td>moru</td><td>0</td></tr>\n",
       "\t<tr><th scope=row>5</th><td>1</td><td>popd</td><td>2</td></tr>\n",
       "\t<tr><th scope=row>6</th><td>1</td><td>rifr</td><td>2</td></tr>\n",
       "\t<tr><th scope=row>7</th><td>1</td><td>tpop</td><td>1</td></tr>\n",
       "\t<tr><th scope=row>8</th><td>1</td><td>upop</td><td>1</td></tr>\n",
       "\t<tr><th scope=row>9</th><td>2</td><td>boat</td><td>3</td></tr>\n",
       "\t<tr><th scope=row>10</th><td>2</td><td>cart</td><td>2</td></tr>\n",
       "</tbody>\n",
       "</table>\n"
      ],
      "text/latex": [
       "A data.frame: 10 × 3\n",
       "\\begin{tabular}{r|lll}\n",
       "  & tree & variable & minimal\\_depth\\\\\n",
       "  & <int> & <chr> & <dbl>\\\\\n",
       "\\hline\n",
       "\t1 & 1 & cgdp & 2\\\\\n",
       "\t2 & 1 & land & 3\\\\\n",
       "\t3 & 1 & lita & 3\\\\\n",
       "\t4 & 1 & moru & 0\\\\\n",
       "\t5 & 1 & popd & 2\\\\\n",
       "\t6 & 1 & rifr & 2\\\\\n",
       "\t7 & 1 & tpop & 1\\\\\n",
       "\t8 & 1 & upop & 1\\\\\n",
       "\t9 & 2 & boat & 3\\\\\n",
       "\t10 & 2 & cart & 2\\\\\n",
       "\\end{tabular}\n"
      ],
      "text/markdown": [
       "\n",
       "A data.frame: 10 × 3\n",
       "\n",
       "| <!--/--> | tree &lt;int&gt; | variable &lt;chr&gt; | minimal_depth &lt;dbl&gt; |\n",
       "|---|---|---|---|\n",
       "| 1 | 1 | cgdp | 2 |\n",
       "| 2 | 1 | land | 3 |\n",
       "| 3 | 1 | lita | 3 |\n",
       "| 4 | 1 | moru | 0 |\n",
       "| 5 | 1 | popd | 2 |\n",
       "| 6 | 1 | rifr | 2 |\n",
       "| 7 | 1 | tpop | 1 |\n",
       "| 8 | 1 | upop | 1 |\n",
       "| 9 | 2 | boat | 3 |\n",
       "| 10 | 2 | cart | 2 |\n",
       "\n"
      ],
      "text/plain": [
       "   tree variable minimal_depth\n",
       "1  1    cgdp     2            \n",
       "2  1    land     3            \n",
       "3  1    lita     3            \n",
       "4  1    moru     0            \n",
       "5  1    popd     2            \n",
       "6  1    rifr     2            \n",
       "7  1    tpop     1            \n",
       "8  1    upop     1            \n",
       "9  2    boat     3            \n",
       "10 2    cart     2            "
      ]
     },
     "metadata": {},
     "output_type": "display_data"
    }
   ],
   "source": [
    "min_depth_frame <- min_depth_distribution(rf.water)\n",
    "save(min_depth_frame, file = \"min_depth_frame.rda\")\n",
    "load(\"min_depth_frame.rda\")\n",
    "head(min_depth_frame, n = 10)"
   ]
  },
  {
   "cell_type": "code",
   "execution_count": 269,
   "metadata": {},
   "outputs": [
    {
     "data": {
      "image/png": "[encoded data removed]",
      "text/plain": [
       "plot without title"
      ]
     },
     "metadata": {
      "image/png": {
       "height": 420,
       "width": 420
      }
     },
     "output_type": "display_data"
    }
   ],
   "source": [
    "plot_min_depth_distribution(min_depth_frame)"
   ]
  },
  {
   "cell_type": "markdown",
   "metadata": {},
   "source": [
    "The function plot_min_depth_distribution offers three possibilities when it comes to calculating the mean minimal depth, which differ in he way they treat missing values that appear when a variable is not used for splitting in a tree. They can be described as follows:"
   ]
  },
  {
   "cell_type": "code",
   "execution_count": 270,
   "metadata": {},
   "outputs": [
    {
     "data": {
      "image/png": "[encoded data removed]",
      "text/plain": [
       "plot without title"
      ]
     },
     "metadata": {
      "image/png": {
       "height": 420,
       "width": 420
      }
     },
     "output_type": "display_data"
    }
   ],
   "source": [
    "plot_min_depth_distribution(min_depth_frame, mean_sample = \"relevant_trees\", k = 15)"
   ]
  },
  {
   "cell_type": "markdown",
   "metadata": {},
   "source": [
    "Clearly, using only relevant trees for calculating the mean does not change it for variables that have no missing values. Also, in this case the change does not influence the ordering of variables, but of course this usually not the case in more complex examples.\n",
    "\n",
    "Regardless of the exact parameters used in plot_min_depth_distribution, looking at the whole distribution of minimal depth offers a lot more insight into the role that a predictor plays in a forest in contrast to looking only at the mean, especially as it can be calculated in more than one way. Additionally, the function allows us to specify the maximum number of variables plotted k, whether the values of mean minimal depth should be scaled to the [0,1] interval (mean_scale, logical), the number of digits to round the mean to for display (mean_round) and the title of the plot (main)."
   ]
  },
  {
   "cell_type": "code",
   "execution_count": 271,
   "metadata": {},
   "outputs": [
    {
     "data": {
      "text/html": [
       "<table class=\"dataframe\">\n",
       "<caption>A data.frame: 18 × 8</caption>\n",
       "<thead>\n",
       "\t<tr><th scope=col>variable</th><th scope=col>mean_min_depth</th><th scope=col>no_of_nodes</th><th scope=col>accuracy_decrease</th><th scope=col>gini_decrease</th><th scope=col>no_of_trees</th><th scope=col>times_a_root</th><th scope=col>p_value</th></tr>\n",
       "\t<tr><th scope=col>&lt;fct&gt;</th><th scope=col>&lt;dbl&gt;</th><th scope=col>&lt;int&gt;</th><th scope=col>&lt;dbl&gt;</th><th scope=col>&lt;dbl&gt;</th><th scope=col>&lt;int&gt;</th><th scope=col>&lt;dbl&gt;</th><th scope=col>&lt;dbl&gt;</th></tr>\n",
       "</thead>\n",
       "<tbody>\n",
       "\t<tr><td>bicy</td><td>3.4232965</td><td> 98</td><td>-0.0008599639</td><td> 0.4742538</td><td> 93</td><td>  0</td><td> 1.000000e+00</td></tr>\n",
       "\t<tr><td>boat</td><td>3.0458241</td><td>211</td><td> 0.0038765349</td><td> 0.9814443</td><td>185</td><td>  0</td><td> 4.634092e-03</td></tr>\n",
       "\t<tr><td>cart</td><td>3.3400204</td><td>110</td><td> 0.0024483425</td><td> 0.5911925</td><td>104</td><td>  0</td><td> 1.000000e+00</td></tr>\n",
       "\t<tr><td>cgdp</td><td>3.3726053</td><td> 94</td><td> 0.0022337380</td><td> 0.7119859</td><td> 87</td><td>  0</td><td> 1.000000e+00</td></tr>\n",
       "\t<tr><td>cotw</td><td>3.4200736</td><td> 85</td><td>-0.0018866821</td><td> 0.5348254</td><td> 81</td><td>  0</td><td> 1.000000e+00</td></tr>\n",
       "\t<tr><td>land</td><td>3.2427812</td><td>143</td><td> 0.0016363897</td><td> 0.7259157</td><td>129</td><td>  0</td><td> 9.963112e-01</td></tr>\n",
       "\t<tr><td>lita</td><td>2.9225153</td><td>192</td><td> 0.0126414233</td><td> 1.2048665</td><td>184</td><td>  0</td><td> 1.172654e-01</td></tr>\n",
       "\t<tr><td>lity</td><td>3.1650716</td><td>142</td><td> 0.0091530061</td><td> 0.7940905</td><td>129</td><td>  0</td><td> 9.971295e-01</td></tr>\n",
       "\t<tr><td>mcyc</td><td>3.1160859</td><td>169</td><td> 0.0005997028</td><td> 1.2788739</td><td>156</td><td>  0</td><td> 7.199323e-01</td></tr>\n",
       "\t<tr><td>moru</td><td>0.1002045</td><td>655</td><td> 0.1855924601</td><td>13.4310800</td><td>489</td><td>452</td><td>1.218635e-185</td></tr>\n",
       "\t<tr><td>pcar</td><td>2.3982781</td><td>303</td><td> 0.0285967752</td><td> 3.0852198</td><td>260</td><td> 42</td><td> 1.776980e-19</td></tr>\n",
       "\t<tr><td>popd</td><td>3.2507035</td><td>153</td><td> 0.0030059074</td><td> 0.8184185</td><td>142</td><td>  0</td><td> 9.685456e-01</td></tr>\n",
       "\t<tr><td>ppfg</td><td>3.3568139</td><td>102</td><td>-0.0033634030</td><td> 0.7493827</td><td> 98</td><td>  0</td><td> 1.000000e+00</td></tr>\n",
       "\t<tr><td>prec</td><td>3.4094151</td><td> 94</td><td> 0.0014249293</td><td> 0.5065072</td><td> 87</td><td>  0</td><td> 1.000000e+00</td></tr>\n",
       "\t<tr><td>rifr</td><td>3.2994724</td><td>130</td><td>-0.0013835162</td><td> 0.7197315</td><td>118</td><td>  0</td><td> 9.999190e-01</td></tr>\n",
       "\t<tr><td>tpop</td><td>2.6782536</td><td>236</td><td> 0.0066286204</td><td> 2.4179089</td><td>206</td><td>  1</td><td> 5.372412e-06</td></tr>\n",
       "\t<tr><td>upop</td><td>2.8678691</td><td>226</td><td> 0.0071670068</td><td> 1.8341568</td><td>195</td><td>  1</td><td> 1.123937e-04</td></tr>\n",
       "\t<tr><td>wigc</td><td>3.6176401</td><td> 27</td><td> 0.0001655806</td><td> 0.1861461</td><td> 26</td><td>  4</td><td> 1.000000e+00</td></tr>\n",
       "</tbody>\n",
       "</table>\n"
      ],
      "text/latex": [
       "A data.frame: 18 × 8\n",
       "\\begin{tabular}{llllllll}\n",
       " variable & mean\\_min\\_depth & no\\_of\\_nodes & accuracy\\_decrease & gini\\_decrease & no\\_of\\_trees & times\\_a\\_root & p\\_value\\\\\n",
       " <fct> & <dbl> & <int> & <dbl> & <dbl> & <int> & <dbl> & <dbl>\\\\\n",
       "\\hline\n",
       "\t bicy & 3.4232965 &  98 & -0.0008599639 &  0.4742538 &  93 &   0 &  1.000000e+00\\\\\n",
       "\t boat & 3.0458241 & 211 &  0.0038765349 &  0.9814443 & 185 &   0 &  4.634092e-03\\\\\n",
       "\t cart & 3.3400204 & 110 &  0.0024483425 &  0.5911925 & 104 &   0 &  1.000000e+00\\\\\n",
       "\t cgdp & 3.3726053 &  94 &  0.0022337380 &  0.7119859 &  87 &   0 &  1.000000e+00\\\\\n",
       "\t cotw & 3.4200736 &  85 & -0.0018866821 &  0.5348254 &  81 &   0 &  1.000000e+00\\\\\n",
       "\t land & 3.2427812 & 143 &  0.0016363897 &  0.7259157 & 129 &   0 &  9.963112e-01\\\\\n",
       "\t lita & 2.9225153 & 192 &  0.0126414233 &  1.2048665 & 184 &   0 &  1.172654e-01\\\\\n",
       "\t lity & 3.1650716 & 142 &  0.0091530061 &  0.7940905 & 129 &   0 &  9.971295e-01\\\\\n",
       "\t mcyc & 3.1160859 & 169 &  0.0005997028 &  1.2788739 & 156 &   0 &  7.199323e-01\\\\\n",
       "\t moru & 0.1002045 & 655 &  0.1855924601 & 13.4310800 & 489 & 452 & 1.218635e-185\\\\\n",
       "\t pcar & 2.3982781 & 303 &  0.0285967752 &  3.0852198 & 260 &  42 &  1.776980e-19\\\\\n",
       "\t popd & 3.2507035 & 153 &  0.0030059074 &  0.8184185 & 142 &   0 &  9.685456e-01\\\\\n",
       "\t ppfg & 3.3568139 & 102 & -0.0033634030 &  0.7493827 &  98 &   0 &  1.000000e+00\\\\\n",
       "\t prec & 3.4094151 &  94 &  0.0014249293 &  0.5065072 &  87 &   0 &  1.000000e+00\\\\\n",
       "\t rifr & 3.2994724 & 130 & -0.0013835162 &  0.7197315 & 118 &   0 &  9.999190e-01\\\\\n",
       "\t tpop & 2.6782536 & 236 &  0.0066286204 &  2.4179089 & 206 &   1 &  5.372412e-06\\\\\n",
       "\t upop & 2.8678691 & 226 &  0.0071670068 &  1.8341568 & 195 &   1 &  1.123937e-04\\\\\n",
       "\t wigc & 3.6176401 &  27 &  0.0001655806 &  0.1861461 &  26 &   4 &  1.000000e+00\\\\\n",
       "\\end{tabular}\n"
      ],
      "text/markdown": [
       "\n",
       "A data.frame: 18 × 8\n",
       "\n",
       "| variable &lt;fct&gt; | mean_min_depth &lt;dbl&gt; | no_of_nodes &lt;int&gt; | accuracy_decrease &lt;dbl&gt; | gini_decrease &lt;dbl&gt; | no_of_trees &lt;int&gt; | times_a_root &lt;dbl&gt; | p_value &lt;dbl&gt; |\n",
       "|---|---|---|---|---|---|---|---|\n",
       "| bicy | 3.4232965 |  98 | -0.0008599639 |  0.4742538 |  93 |   0 |  1.000000e+00 |\n",
       "| boat | 3.0458241 | 211 |  0.0038765349 |  0.9814443 | 185 |   0 |  4.634092e-03 |\n",
       "| cart | 3.3400204 | 110 |  0.0024483425 |  0.5911925 | 104 |   0 |  1.000000e+00 |\n",
       "| cgdp | 3.3726053 |  94 |  0.0022337380 |  0.7119859 |  87 |   0 |  1.000000e+00 |\n",
       "| cotw | 3.4200736 |  85 | -0.0018866821 |  0.5348254 |  81 |   0 |  1.000000e+00 |\n",
       "| land | 3.2427812 | 143 |  0.0016363897 |  0.7259157 | 129 |   0 |  9.963112e-01 |\n",
       "| lita | 2.9225153 | 192 |  0.0126414233 |  1.2048665 | 184 |   0 |  1.172654e-01 |\n",
       "| lity | 3.1650716 | 142 |  0.0091530061 |  0.7940905 | 129 |   0 |  9.971295e-01 |\n",
       "| mcyc | 3.1160859 | 169 |  0.0005997028 |  1.2788739 | 156 |   0 |  7.199323e-01 |\n",
       "| moru | 0.1002045 | 655 |  0.1855924601 | 13.4310800 | 489 | 452 | 1.218635e-185 |\n",
       "| pcar | 2.3982781 | 303 |  0.0285967752 |  3.0852198 | 260 |  42 |  1.776980e-19 |\n",
       "| popd | 3.2507035 | 153 |  0.0030059074 |  0.8184185 | 142 |   0 |  9.685456e-01 |\n",
       "| ppfg | 3.3568139 | 102 | -0.0033634030 |  0.7493827 |  98 |   0 |  1.000000e+00 |\n",
       "| prec | 3.4094151 |  94 |  0.0014249293 |  0.5065072 |  87 |   0 |  1.000000e+00 |\n",
       "| rifr | 3.2994724 | 130 | -0.0013835162 |  0.7197315 | 118 |   0 |  9.999190e-01 |\n",
       "| tpop | 2.6782536 | 236 |  0.0066286204 |  2.4179089 | 206 |   1 |  5.372412e-06 |\n",
       "| upop | 2.8678691 | 226 |  0.0071670068 |  1.8341568 | 195 |   1 |  1.123937e-04 |\n",
       "| wigc | 3.6176401 |  27 |  0.0001655806 |  0.1861461 |  26 |   4 |  1.000000e+00 |\n",
       "\n"
      ],
      "text/plain": [
       "   variable mean_min_depth no_of_nodes accuracy_decrease gini_decrease\n",
       "1  bicy     3.4232965       98         -0.0008599639      0.4742538   \n",
       "2  boat     3.0458241      211          0.0038765349      0.9814443   \n",
       "3  cart     3.3400204      110          0.0024483425      0.5911925   \n",
       "4  cgdp     3.3726053       94          0.0022337380      0.7119859   \n",
       "5  cotw     3.4200736       85         -0.0018866821      0.5348254   \n",
       "6  land     3.2427812      143          0.0016363897      0.7259157   \n",
       "7  lita     2.9225153      192          0.0126414233      1.2048665   \n",
       "8  lity     3.1650716      142          0.0091530061      0.7940905   \n",
       "9  mcyc     3.1160859      169          0.0005997028      1.2788739   \n",
       "10 moru     0.1002045      655          0.1855924601     13.4310800   \n",
       "11 pcar     2.3982781      303          0.0285967752      3.0852198   \n",
       "12 popd     3.2507035      153          0.0030059074      0.8184185   \n",
       "13 ppfg     3.3568139      102         -0.0033634030      0.7493827   \n",
       "14 prec     3.4094151       94          0.0014249293      0.5065072   \n",
       "15 rifr     3.2994724      130         -0.0013835162      0.7197315   \n",
       "16 tpop     2.6782536      236          0.0066286204      2.4179089   \n",
       "17 upop     2.8678691      226          0.0071670068      1.8341568   \n",
       "18 wigc     3.6176401       27          0.0001655806      0.1861461   \n",
       "   no_of_trees times_a_root p_value      \n",
       "1   93           0           1.000000e+00\n",
       "2  185           0           4.634092e-03\n",
       "3  104           0           1.000000e+00\n",
       "4   87           0           1.000000e+00\n",
       "5   81           0           1.000000e+00\n",
       "6  129           0           9.963112e-01\n",
       "7  184           0           1.172654e-01\n",
       "8  129           0           9.971295e-01\n",
       "9  156           0           7.199323e-01\n",
       "10 489         452          1.218635e-185\n",
       "11 260          42           1.776980e-19\n",
       "12 142           0           9.685456e-01\n",
       "13  98           0           1.000000e+00\n",
       "14  87           0           1.000000e+00\n",
       "15 118           0           9.999190e-01\n",
       "16 206           1           5.372412e-06\n",
       "17 195           1           1.123937e-04\n",
       "18  26           4           1.000000e+00"
      ]
     },
     "metadata": {},
     "output_type": "display_data"
    }
   ],
   "source": [
    "importance_frame <- measure_importance(rf.water)\n",
    "save(importance_frame, file = \"importance_frame.rda\")\n",
    "load(\"importance_frame.rda\")\n",
    "importance_frame"
   ]
  },
  {
   "cell_type": "markdown",
   "metadata": {},
   "source": [
    "accuracy_decrease (classification) – mean decrease of prediction accuracy after Xj is permuted,\n",
    "\n",
    "gini_decrease (classification) – mean decrease in the Gini index of node impurity (i.e. increase of node purity) by splits on Xj,\n",
    "\n",
    "mse_increase (regression) – mean increase of mean squared error after Xj is permuted,\n",
    "\n",
    "node_purity_increase (regression) – mean node purity increase by splits on Xj, as measured by the decrease in sum of squares,\n",
    "\n",
    "mean_minimal_depth – mean minimal depth calculated in one of three ways specified by the parameter mean_sample,\n",
    "\n",
    "no_of_trees – total number of trees in which a split on Xj occurs,\n",
    "\n",
    "no_of_nodes – total number of nodes that use Xj for splitting (it is usually equal to no_of_trees if trees are shallow),\n",
    "\n",
    "times_a_root – total number of trees in which Xj is used for splitting the root node (i.e., the whole sample is divided into two based on the value of Xj),\n",
    "\n",
    "p_value – p-value for the one-sided binomial test using the following distribution:"
   ]
  },
  {
   "cell_type": "code",
   "execution_count": 272,
   "metadata": {},
   "outputs": [
    {
     "name": "stderr",
     "output_type": "stream",
     "text": [
      "Warning message:\n",
      "\"ggrepel: 5 unlabeled data points (too many overlaps). Consider increasing max.overlaps\"\n"
     ]
    },
    {
     "data": {
      "image/png": "[encoded data removed]",
      "text/plain": [
       "plot without title"
      ]
     },
     "metadata": {
      "image/png": {
       "height": 420,
       "width": 420
      }
     },
     "output_type": "display_data"
    }
   ],
   "source": [
    "plot_multi_way_importance(importance_frame, size_measure = \"no_of_nodes\")"
   ]
  },
  {
   "cell_type": "code",
   "execution_count": 273,
   "metadata": {},
   "outputs": [
    {
     "data": {
      "image/png": "[encoded data removed]",
      "text/plain": [
       "plot without title"
      ]
     },
     "metadata": {
      "image/png": {
       "height": 420,
       "width": 420
      }
     },
     "output_type": "display_data"
    }
   ],
   "source": [
    "plot_importance_ggpairs(importance_frame)"
   ]
  },
  {
   "cell_type": "markdown",
   "metadata": {},
   "source": [
    "We can see that all depicted measures are highly correlated (of course the correlation of any measure with mean minimal depth is negative as the latter is lowest for best variables), but some less than others. Moreover, regardless of which measures we compare, there always seem to be two points that stand out and these most likely correspond to lstat and rm (to now for sure we could just examine the importance_frame)."
   ]
  },
  {
   "cell_type": "code",
   "execution_count": 274,
   "metadata": {},
   "outputs": [
    {
     "name": "stderr",
     "output_type": "stream",
     "text": [
      "`geom_smooth()` using formula 'y ~ x'\n",
      "\n",
      "`geom_smooth()` using formula 'y ~ x'\n",
      "\n",
      "`geom_smooth()` using formula 'y ~ x'\n",
      "\n",
      "`geom_smooth()` using formula 'y ~ x'\n",
      "\n",
      "`geom_smooth()` using formula 'y ~ x'\n",
      "\n",
      "`geom_smooth()` using formula 'y ~ x'\n",
      "\n",
      "`geom_smooth()` using formula 'y ~ x'\n",
      "\n",
      "`geom_smooth()` using formula 'y ~ x'\n",
      "\n",
      "`geom_smooth()` using formula 'y ~ x'\n",
      "\n",
      "`geom_smooth()` using formula 'y ~ x'\n",
      "\n"
     ]
    },
    {
     "data": {
      "image/png": "[encoded data removed]",
      "text/plain": [
       "plot without title"
      ]
     },
     "metadata": {
      "image/png": {
       "height": 420,
       "width": 420
      }
     },
     "output_type": "display_data"
    }
   ],
   "source": [
    "plot_importance_rankings(importance_frame)"
   ]
  },
  {
   "cell_type": "markdown",
   "metadata": {},
   "source": [
    "The above density estimates show that skewness was eliminated for all of our importance measures (this is not always the case, e.g., when ties in rankings are frequent, and this is likely for discrete importance measures such as times_a_root, then the distribution of the ranking will also be skewed)."
   ]
  },
  {
   "cell_type": "markdown",
   "metadata": {},
   "source": [
    "# Variable interactions"
   ]
  },
  {
   "cell_type": "code",
   "execution_count": 275,
   "metadata": {},
   "outputs": [],
   "source": [
    "# (vars <- important_variables(forest, k = 5, measures = c(\"mean_min_depth\", \"no_of_trees\"))) # gives the same result as below but takes longer\n",
    "vars <- important_variables(importance_frame, k = 5, measures = c(\"mean_min_depth\", \"no_of_trees\"))"
   ]
  },
  {
   "cell_type": "code",
   "execution_count": 276,
   "metadata": {},
   "outputs": [
    {
     "data": {
      "text/html": [
       "<table class=\"dataframe\">\n",
       "<caption>A data.frame: 6 × 6</caption>\n",
       "<thead>\n",
       "\t<tr><th></th><th scope=col>variable</th><th scope=col>root_variable</th><th scope=col>mean_min_depth</th><th scope=col>occurrences</th><th scope=col>interaction</th><th scope=col>uncond_mean_min_depth</th></tr>\n",
       "\t<tr><th></th><th scope=col>&lt;chr&gt;</th><th scope=col>&lt;fct&gt;</th><th scope=col>&lt;dbl&gt;</th><th scope=col>&lt;int&gt;</th><th scope=col>&lt;chr&gt;</th><th scope=col>&lt;dbl&gt;</th></tr>\n",
       "</thead>\n",
       "<tbody>\n",
       "\t<tr><th scope=row>58</th><td>tpop</td><td>pcar</td><td>1.510870</td><td>184</td><td>pcar:tpop</td><td>2.976456</td></tr>\n",
       "\t<tr><th scope=row>38</th><td>mcyc</td><td>pcar</td><td>1.675057</td><td>177</td><td>pcar:mcyc</td><td>2.606684</td></tr>\n",
       "\t<tr><th scope=row>3</th><td>bicy</td><td>pcar</td><td>1.618707</td><td>175</td><td>pcar:bicy</td><td>3.383509</td></tr>\n",
       "\t<tr><th scope=row>63</th><td>upop</td><td>pcar</td><td>1.801201</td><td>170</td><td>pcar:upop</td><td>2.770737</td></tr>\n",
       "\t<tr><th scope=row>43</th><td>pcar</td><td>pcar</td><td>1.909611</td><td>167</td><td>pcar:pcar</td><td>2.489035</td></tr>\n",
       "\t<tr><th scope=row>23</th><td>land</td><td>pcar</td><td>1.889588</td><td>166</td><td>pcar:land</td><td>3.341772</td></tr>\n",
       "</tbody>\n",
       "</table>\n"
      ],
      "text/latex": [
       "A data.frame: 6 × 6\n",
       "\\begin{tabular}{r|llllll}\n",
       "  & variable & root\\_variable & mean\\_min\\_depth & occurrences & interaction & uncond\\_mean\\_min\\_depth\\\\\n",
       "  & <chr> & <fct> & <dbl> & <int> & <chr> & <dbl>\\\\\n",
       "\\hline\n",
       "\t58 & tpop & pcar & 1.510870 & 184 & pcar:tpop & 2.976456\\\\\n",
       "\t38 & mcyc & pcar & 1.675057 & 177 & pcar:mcyc & 2.606684\\\\\n",
       "\t3 & bicy & pcar & 1.618707 & 175 & pcar:bicy & 3.383509\\\\\n",
       "\t63 & upop & pcar & 1.801201 & 170 & pcar:upop & 2.770737\\\\\n",
       "\t43 & pcar & pcar & 1.909611 & 167 & pcar:pcar & 2.489035\\\\\n",
       "\t23 & land & pcar & 1.889588 & 166 & pcar:land & 3.341772\\\\\n",
       "\\end{tabular}\n"
      ],
      "text/markdown": [
       "\n",
       "A data.frame: 6 × 6\n",
       "\n",
       "| <!--/--> | variable &lt;chr&gt; | root_variable &lt;fct&gt; | mean_min_depth &lt;dbl&gt; | occurrences &lt;int&gt; | interaction &lt;chr&gt; | uncond_mean_min_depth &lt;dbl&gt; |\n",
       "|---|---|---|---|---|---|---|\n",
       "| 58 | tpop | pcar | 1.510870 | 184 | pcar:tpop | 2.976456 |\n",
       "| 38 | mcyc | pcar | 1.675057 | 177 | pcar:mcyc | 2.606684 |\n",
       "| 3 | bicy | pcar | 1.618707 | 175 | pcar:bicy | 3.383509 |\n",
       "| 63 | upop | pcar | 1.801201 | 170 | pcar:upop | 2.770737 |\n",
       "| 43 | pcar | pcar | 1.909611 | 167 | pcar:pcar | 2.489035 |\n",
       "| 23 | land | pcar | 1.889588 | 166 | pcar:land | 3.341772 |\n",
       "\n"
      ],
      "text/plain": [
       "   variable root_variable mean_min_depth occurrences interaction\n",
       "58 tpop     pcar          1.510870       184         pcar:tpop  \n",
       "38 mcyc     pcar          1.675057       177         pcar:mcyc  \n",
       "3  bicy     pcar          1.618707       175         pcar:bicy  \n",
       "63 upop     pcar          1.801201       170         pcar:upop  \n",
       "43 pcar     pcar          1.909611       167         pcar:pcar  \n",
       "23 land     pcar          1.889588       166         pcar:land  \n",
       "   uncond_mean_min_depth\n",
       "58 2.976456             \n",
       "38 2.606684             \n",
       "3  3.383509             \n",
       "63 2.770737             \n",
       "43 2.489035             \n",
       "23 3.341772             "
      ]
     },
     "metadata": {},
     "output_type": "display_data"
    }
   ],
   "source": [
    "#interactions_frame <- min_depth_interactions(rf.water, vars)\n",
    "#save(interactions_frame, file = \"interactions_frame.rda\")\n",
    "load(\"interactions_frame.rda\")\n",
    "head(interactions_frame[order(interactions_frame$occurrences, decreasing = TRUE), ])"
   ]
  },
  {
   "cell_type": "code",
   "execution_count": 277,
   "metadata": {},
   "outputs": [
    {
     "data": {
      "image/png": "[encoded data removed]",
      "text/plain": [
       "plot without title"
      ]
     },
     "metadata": {
      "image/png": {
       "height": 420,
       "width": 420
      }
     },
     "output_type": "display_data"
    }
   ],
   "source": [
    "plot_min_depth_interactions(interactions_frame)"
   ]
  },
  {
   "cell_type": "markdown",
   "metadata": {},
   "source": [
    "Note that the interactions are ordered by decreasing number of occurrences – the most frequent one, pcar:tpop, is also the one with minimal mean conditional minimal depth. Remarkably, the unconditional mean minimal depth of pcar in the forest is almost equal to its mean minimal depth across maximal subtrees with tpop as the root variable."
   ]
  },
  {
   "cell_type": "code",
   "execution_count": 278,
   "metadata": {},
   "outputs": [
    {
     "data": {
      "image/png": "[encoded data removed]",
      "text/plain": [
       "plot without title"
      ]
     },
     "metadata": {
      "image/png": {
       "height": 420,
       "width": 420
      }
     },
     "output_type": "display_data"
    }
   ],
   "source": [
    "#interactions_frame <- min_depth_interactions(rf.water, vars, mean_sample = \"relevant_trees\", uncond_mean_sample = \"relevant_trees\")\n",
    "#save(interactions_frame, file = \"interactions_frame_relevant.rda\")\n",
    "load(\"interactions_frame_relevant.rda\")\n",
    "plot_min_depth_interactions(interactions_frame)"
   ]
  },
  {
   "cell_type": "markdown",
   "metadata": {},
   "source": [
    "Comparing this plot with the previous one we see that removing penalization of missing values lowers the mean conditional minimal depth of all interactions except the most frequent one."
   ]
  },
  {
   "cell_type": "code",
   "execution_count": 279,
   "metadata": {},
   "outputs": [],
   "source": [
    "df.ctree <- df[,c(2:20)]"
   ]
  },
  {
   "cell_type": "code",
   "execution_count": 280,
   "metadata": {},
   "outputs": [],
   "source": [
    "ctree.wa <- ctree( clusters ~. , data =df.ctree , subset = train)"
   ]
  },
  {
   "cell_type": "code",
   "execution_count": 281,
   "metadata": {},
   "outputs": [
    {
     "data": {
      "image/png": "[encoded data removed]",
      "text/plain": [
       "plot without title"
      ]
     },
     "metadata": {
      "image/png": {
       "height": 420,
       "width": 420
      }
     },
     "output_type": "display_data"
    }
   ],
   "source": [
    "plot(ctree.wa) #view the decision tree"
   ]
  },
  {
   "cell_type": "markdown",
   "metadata": {},
   "source": [
    "# Confusion Matrix"
   ]
  },
  {
   "cell_type": "markdown",
   "metadata": {},
   "source": [
    "df$pred <- predict(rf.water , df)\n",
    "df$pred <- as.factor(df$pred)\n",
    "confusionMatrix(df$pred, df$clusters)"
   ]
  },
  {
   "cell_type": "markdown",
   "metadata": {},
   "source": [
    "pred <- predict(object = rf.water,\n",
    "            newdata = df,\n",
    "            type = \"prob\")\n",
    "for (i in 1:5) {\n",
    "auc <-    auc(actual = df$clusters, \n",
    "    predicted = pred[,i])\n",
    "print(auc(actual = df$clusters, \n",
    "    predicted = pred[,i]))\n",
    "    }"
   ]
  },
  {
   "cell_type": "markdown",
   "metadata": {},
   "source": [
    "AUC is intended to determine the degree of separability, or the ability to correct predict class. The higher the AUC the better. 1 would be perfect, and .5 would be random."
   ]
  }
 ],
 "metadata": {
  "kernelspec": {
   "display_name": "R",
   "language": "R",
   "name": "ir"
  },
  "language_info": {
   "codemirror_mode": "r",
   "file_extension": ".r",
   "mimetype": "text/x-r-source",
   "name": "R",
   "pygments_lexer": "r",
   "version": "4.0.2"
  }
 },
 "nbformat": 4,
 "nbformat_minor": 4
}
