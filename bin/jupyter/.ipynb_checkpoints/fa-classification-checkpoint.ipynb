{
 "cells": [
  {
   "cell_type": "code",
   "execution_count": 134,
   "metadata": {},
   "outputs": [],
   "source": [
    "#install.packages('randomForest')\n",
    "library(readxl)\n",
    "library(randomForest)\n",
    "library(readxl)\n",
    "library(tidyverse)\n",
    "#install.packages('dplyr')\n",
    "library(dplyr)\n",
    "#install.packages('caret')\n",
    "library(Rcpp)\n",
    "library(caret)\n",
    "library(rpart)\n",
    "#install.packages('tree')\n",
    "library(tree)\n",
    "#install.packages('multcomp')\n",
    "library(multcomp)\n",
    "#install.packages('party')\n",
    "library(party)\n",
    "library(tree)\n"
   ]
  },
  {
   "cell_type": "markdown",
   "metadata": {},
   "source": [
    "# FA (weighted) Classifcation"
   ]
  },
  {
   "cell_type": "code",
   "execution_count": 135,
   "metadata": {},
   "outputs": [],
   "source": [
    "df.wa = read_excel( \"../../results/df-water-access.xlsx\" ,sheet=1)\n",
    "df.exp =read_excel(\"../../results/df-water-explore.xlsx\" ,sheet=1)\n",
    "df.cluster = read_excel(\"../../results/df-fa-cluster-rank.xlsx\" ,sheet=1)\n",
    "df.wb = read_excel(\"../../results/df-wb.xlsx\" ,sheet=1 )\n",
    "df.exp$clusters <- as.factor(df.cluster$clusters)\n"
   ]
  },
  {
   "cell_type": "code",
   "execution_count": 136,
   "metadata": {},
   "outputs": [
    {
     "data": {
      "text/html": [
       "<table class=\"dataframe\">\n",
       "<caption>A tibble: 6 × 12</caption>\n",
       "<thead>\n",
       "\t<tr><th scope=col>Country</th><th scope=col>Year.y</th><th scope=col>Time Code</th><th scope=col>cgdp</th><th scope=col>tpop</th><th scope=col>upop</th><th scope=col>popd</th><th scope=col>land</th><th scope=col>lita</th><th scope=col>lity</th><th scope=col>mori</th><th scope=col>prec</th></tr>\n",
       "\t<tr><th scope=col>&lt;chr&gt;</th><th scope=col>&lt;dbl&gt;</th><th scope=col>&lt;chr&gt;</th><th scope=col>&lt;dbl&gt;</th><th scope=col>&lt;dbl&gt;</th><th scope=col>&lt;dbl&gt;</th><th scope=col>&lt;dbl&gt;</th><th scope=col>&lt;dbl&gt;</th><th scope=col>&lt;dbl&gt;</th><th scope=col>&lt;dbl&gt;</th><th scope=col>&lt;dbl&gt;</th><th scope=col>&lt;dbl&gt;</th></tr>\n",
       "</thead>\n",
       "<tbody>\n",
       "\t<tr><td>Afghanistan</td><td>2018</td><td>YR2018</td><td> 18353881130</td><td> 37172386</td><td>25.495</td><td>  56.93776</td><td> 652860</td><td>43.01972</td><td>0.75933</td><td>62.5</td><td> 327</td></tr>\n",
       "\t<tr><td>Albania    </td><td>2018</td><td>YR2018</td><td> 15147020535</td><td>  2866376</td><td>60.319</td><td> 104.61226</td><td>  27400</td><td>98.14115</td><td>1.00582</td><td> 9.5</td><td>1485</td></tr>\n",
       "\t<tr><td>Angola     </td><td>2018</td><td>YR2018</td><td>101353230785</td><td> 30809762</td><td>65.514</td><td>  24.71305</td><td>1246700</td><td> 0.00000</td><td>0.00000</td><td>77.7</td><td>1010</td></tr>\n",
       "\t<tr><td>Armenia    </td><td>2018</td><td>YR2018</td><td> 12457941907</td><td>  2951776</td><td>63.149</td><td> 103.68022</td><td>  28470</td><td> 0.00000</td><td>0.00000</td><td>12.4</td><td> 562</td></tr>\n",
       "\t<tr><td>Azerbaijan </td><td>2018</td><td>YR2018</td><td> 47112941176</td><td>  9939771</td><td>55.680</td><td> 120.23432</td><td>  82670</td><td> 0.00000</td><td>0.00000</td><td>21.6</td><td> 447</td></tr>\n",
       "\t<tr><td>Bangladesh </td><td>2018</td><td>YR2018</td><td>274039092455</td><td>161356039</td><td>36.632</td><td>1239.57931</td><td> 130170</td><td>73.91220</td><td>1.03276</td><td>32.3</td><td>2666</td></tr>\n",
       "</tbody>\n",
       "</table>\n"
      ],
      "text/latex": [
       "A tibble: 6 × 12\n",
       "\\begin{tabular}{llllllllllll}\n",
       " Country & Year.y & Time Code & cgdp & tpop & upop & popd & land & lita & lity & mori & prec\\\\\n",
       " <chr> & <dbl> & <chr> & <dbl> & <dbl> & <dbl> & <dbl> & <dbl> & <dbl> & <dbl> & <dbl> & <dbl>\\\\\n",
       "\\hline\n",
       "\t Afghanistan & 2018 & YR2018 &  18353881130 &  37172386 & 25.495 &   56.93776 &  652860 & 43.01972 & 0.75933 & 62.5 &  327\\\\\n",
       "\t Albania     & 2018 & YR2018 &  15147020535 &   2866376 & 60.319 &  104.61226 &   27400 & 98.14115 & 1.00582 &  9.5 & 1485\\\\\n",
       "\t Angola      & 2018 & YR2018 & 101353230785 &  30809762 & 65.514 &   24.71305 & 1246700 &  0.00000 & 0.00000 & 77.7 & 1010\\\\\n",
       "\t Armenia     & 2018 & YR2018 &  12457941907 &   2951776 & 63.149 &  103.68022 &   28470 &  0.00000 & 0.00000 & 12.4 &  562\\\\\n",
       "\t Azerbaijan  & 2018 & YR2018 &  47112941176 &   9939771 & 55.680 &  120.23432 &   82670 &  0.00000 & 0.00000 & 21.6 &  447\\\\\n",
       "\t Bangladesh  & 2018 & YR2018 & 274039092455 & 161356039 & 36.632 & 1239.57931 &  130170 & 73.91220 & 1.03276 & 32.3 & 2666\\\\\n",
       "\\end{tabular}\n"
      ],
      "text/markdown": [
       "\n",
       "A tibble: 6 × 12\n",
       "\n",
       "| Country &lt;chr&gt; | Year.y &lt;dbl&gt; | Time Code &lt;chr&gt; | cgdp &lt;dbl&gt; | tpop &lt;dbl&gt; | upop &lt;dbl&gt; | popd &lt;dbl&gt; | land &lt;dbl&gt; | lita &lt;dbl&gt; | lity &lt;dbl&gt; | mori &lt;dbl&gt; | prec &lt;dbl&gt; |\n",
       "|---|---|---|---|---|---|---|---|---|---|---|---|\n",
       "| Afghanistan | 2018 | YR2018 |  18353881130 |  37172386 | 25.495 |   56.93776 |  652860 | 43.01972 | 0.75933 | 62.5 |  327 |\n",
       "| Albania     | 2018 | YR2018 |  15147020535 |   2866376 | 60.319 |  104.61226 |   27400 | 98.14115 | 1.00582 |  9.5 | 1485 |\n",
       "| Angola      | 2018 | YR2018 | 101353230785 |  30809762 | 65.514 |   24.71305 | 1246700 |  0.00000 | 0.00000 | 77.7 | 1010 |\n",
       "| Armenia     | 2018 | YR2018 |  12457941907 |   2951776 | 63.149 |  103.68022 |   28470 |  0.00000 | 0.00000 | 12.4 |  562 |\n",
       "| Azerbaijan  | 2018 | YR2018 |  47112941176 |   9939771 | 55.680 |  120.23432 |   82670 |  0.00000 | 0.00000 | 21.6 |  447 |\n",
       "| Bangladesh  | 2018 | YR2018 | 274039092455 | 161356039 | 36.632 | 1239.57931 |  130170 | 73.91220 | 1.03276 | 32.3 | 2666 |\n",
       "\n"
      ],
      "text/plain": [
       "  Country     Year.y Time Code cgdp         tpop      upop   popd       land   \n",
       "1 Afghanistan 2018   YR2018     18353881130  37172386 25.495   56.93776  652860\n",
       "2 Albania     2018   YR2018     15147020535   2866376 60.319  104.61226   27400\n",
       "3 Angola      2018   YR2018    101353230785  30809762 65.514   24.71305 1246700\n",
       "4 Armenia     2018   YR2018     12457941907   2951776 63.149  103.68022   28470\n",
       "5 Azerbaijan  2018   YR2018     47112941176   9939771 55.680  120.23432   82670\n",
       "6 Bangladesh  2018   YR2018    274039092455 161356039 36.632 1239.57931  130170\n",
       "  lita     lity    mori prec\n",
       "1 43.01972 0.75933 62.5  327\n",
       "2 98.14115 1.00582  9.5 1485\n",
       "3  0.00000 0.00000 77.7 1010\n",
       "4  0.00000 0.00000 12.4  562\n",
       "5  0.00000 0.00000 21.6  447\n",
       "6 73.91220 1.03276 32.3 2666"
      ]
     },
     "metadata": {},
     "output_type": "display_data"
    },
    {
     "data": {
      "text/html": [
       "<table class=\"dataframe\">\n",
       "<caption>A data.frame: 6 × 17</caption>\n",
       "<thead>\n",
       "\t<tr><th></th><th scope=col>Country</th><th scope=col>bicy</th><th scope=col>cart</th><th scope=col>mcyc</th><th scope=col>pcar</th><th scope=col>boat</th><th scope=col>wigc</th><th scope=col>clusters</th><th scope=col>cgdp</th><th scope=col>tpop</th><th scope=col>upop</th><th scope=col>popd</th><th scope=col>land</th><th scope=col>lita</th><th scope=col>lity</th><th scope=col>mori</th><th scope=col>prec</th></tr>\n",
       "\t<tr><th></th><th scope=col>&lt;chr&gt;</th><th scope=col>&lt;dbl&gt;</th><th scope=col>&lt;dbl&gt;</th><th scope=col>&lt;dbl&gt;</th><th scope=col>&lt;dbl&gt;</th><th scope=col>&lt;dbl&gt;</th><th scope=col>&lt;dbl&gt;</th><th scope=col>&lt;fct&gt;</th><th scope=col>&lt;dbl&gt;</th><th scope=col>&lt;dbl&gt;</th><th scope=col>&lt;dbl&gt;</th><th scope=col>&lt;dbl&gt;</th><th scope=col>&lt;dbl&gt;</th><th scope=col>&lt;dbl&gt;</th><th scope=col>&lt;dbl&gt;</th><th scope=col>&lt;dbl&gt;</th><th scope=col>&lt;dbl&gt;</th></tr>\n",
       "</thead>\n",
       "<tbody>\n",
       "\t<tr><th scope=row>1</th><td>Afghanistan</td><td>30.0</td><td>5.8</td><td>35.2</td><td>11.8</td><td>0.0</td><td>0.1</td><td>1</td><td> 18353881130</td><td> 37172386</td><td>25.495</td><td>  56.93776</td><td> 652860</td><td>43.01972</td><td>0.75933</td><td>62.5</td><td> 327</td></tr>\n",
       "\t<tr><th scope=row>2</th><td>Albania    </td><td>26.4</td><td>3.2</td><td> 9.6</td><td>37.0</td><td>0.7</td><td>0.1</td><td>2</td><td> 15147020535</td><td>  2866376</td><td>60.319</td><td> 104.61226</td><td>  27400</td><td>98.14115</td><td>1.00582</td><td> 9.5</td><td>1485</td></tr>\n",
       "\t<tr><th scope=row>3</th><td>Angola     </td><td> 4.6</td><td>1.3</td><td>17.8</td><td>10.9</td><td>0.4</td><td>0.3</td><td>1</td><td>101353230785</td><td> 30809762</td><td>65.514</td><td>  24.71305</td><td>1246700</td><td> 0.00000</td><td>0.00000</td><td>77.7</td><td>1010</td></tr>\n",
       "\t<tr><th scope=row>4</th><td>Armenia    </td><td> 8.6</td><td>0.4</td><td> 0.2</td><td>39.2</td><td>0.3</td><td>0.1</td><td>3</td><td> 12457941907</td><td>  2951776</td><td>63.149</td><td> 103.68022</td><td>  28470</td><td> 0.00000</td><td>0.00000</td><td>12.4</td><td> 562</td></tr>\n",
       "\t<tr><th scope=row>5</th><td>Azerbaijan </td><td> 6.9</td><td>3.3</td><td> 1.1</td><td>20.4</td><td>0.1</td><td>0.0</td><td>2</td><td> 47112941176</td><td>  9939771</td><td>55.680</td><td> 120.23432</td><td>  82670</td><td> 0.00000</td><td>0.00000</td><td>21.6</td><td> 447</td></tr>\n",
       "\t<tr><th scope=row>6</th><td>Bangladesh </td><td>25.1</td><td>0.0</td><td> 6.4</td><td> 0.8</td><td>0.0</td><td>0.3</td><td>2</td><td>274039092455</td><td>161356039</td><td>36.632</td><td>1239.57931</td><td> 130170</td><td>73.91220</td><td>1.03276</td><td>32.3</td><td>2666</td></tr>\n",
       "</tbody>\n",
       "</table>\n"
      ],
      "text/latex": [
       "A data.frame: 6 × 17\n",
       "\\begin{tabular}{r|lllllllllllllllll}\n",
       "  & Country & bicy & cart & mcyc & pcar & boat & wigc & clusters & cgdp & tpop & upop & popd & land & lita & lity & mori & prec\\\\\n",
       "  & <chr> & <dbl> & <dbl> & <dbl> & <dbl> & <dbl> & <dbl> & <fct> & <dbl> & <dbl> & <dbl> & <dbl> & <dbl> & <dbl> & <dbl> & <dbl> & <dbl>\\\\\n",
       "\\hline\n",
       "\t1 & Afghanistan & 30.0 & 5.8 & 35.2 & 11.8 & 0.0 & 0.1 & 1 &  18353881130 &  37172386 & 25.495 &   56.93776 &  652860 & 43.01972 & 0.75933 & 62.5 &  327\\\\\n",
       "\t2 & Albania     & 26.4 & 3.2 &  9.6 & 37.0 & 0.7 & 0.1 & 2 &  15147020535 &   2866376 & 60.319 &  104.61226 &   27400 & 98.14115 & 1.00582 &  9.5 & 1485\\\\\n",
       "\t3 & Angola      &  4.6 & 1.3 & 17.8 & 10.9 & 0.4 & 0.3 & 1 & 101353230785 &  30809762 & 65.514 &   24.71305 & 1246700 &  0.00000 & 0.00000 & 77.7 & 1010\\\\\n",
       "\t4 & Armenia     &  8.6 & 0.4 &  0.2 & 39.2 & 0.3 & 0.1 & 3 &  12457941907 &   2951776 & 63.149 &  103.68022 &   28470 &  0.00000 & 0.00000 & 12.4 &  562\\\\\n",
       "\t5 & Azerbaijan  &  6.9 & 3.3 &  1.1 & 20.4 & 0.1 & 0.0 & 2 &  47112941176 &   9939771 & 55.680 &  120.23432 &   82670 &  0.00000 & 0.00000 & 21.6 &  447\\\\\n",
       "\t6 & Bangladesh  & 25.1 & 0.0 &  6.4 &  0.8 & 0.0 & 0.3 & 2 & 274039092455 & 161356039 & 36.632 & 1239.57931 &  130170 & 73.91220 & 1.03276 & 32.3 & 2666\\\\\n",
       "\\end{tabular}\n"
      ],
      "text/markdown": [
       "\n",
       "A data.frame: 6 × 17\n",
       "\n",
       "| <!--/--> | Country &lt;chr&gt; | bicy &lt;dbl&gt; | cart &lt;dbl&gt; | mcyc &lt;dbl&gt; | pcar &lt;dbl&gt; | boat &lt;dbl&gt; | wigc &lt;dbl&gt; | clusters &lt;fct&gt; | cgdp &lt;dbl&gt; | tpop &lt;dbl&gt; | upop &lt;dbl&gt; | popd &lt;dbl&gt; | land &lt;dbl&gt; | lita &lt;dbl&gt; | lity &lt;dbl&gt; | mori &lt;dbl&gt; | prec &lt;dbl&gt; |\n",
       "|---|---|---|---|---|---|---|---|---|---|---|---|---|---|---|---|---|---|\n",
       "| 1 | Afghanistan | 30.0 | 5.8 | 35.2 | 11.8 | 0.0 | 0.1 | 1 |  18353881130 |  37172386 | 25.495 |   56.93776 |  652860 | 43.01972 | 0.75933 | 62.5 |  327 |\n",
       "| 2 | Albania     | 26.4 | 3.2 |  9.6 | 37.0 | 0.7 | 0.1 | 2 |  15147020535 |   2866376 | 60.319 |  104.61226 |   27400 | 98.14115 | 1.00582 |  9.5 | 1485 |\n",
       "| 3 | Angola      |  4.6 | 1.3 | 17.8 | 10.9 | 0.4 | 0.3 | 1 | 101353230785 |  30809762 | 65.514 |   24.71305 | 1246700 |  0.00000 | 0.00000 | 77.7 | 1010 |\n",
       "| 4 | Armenia     |  8.6 | 0.4 |  0.2 | 39.2 | 0.3 | 0.1 | 3 |  12457941907 |   2951776 | 63.149 |  103.68022 |   28470 |  0.00000 | 0.00000 | 12.4 |  562 |\n",
       "| 5 | Azerbaijan  |  6.9 | 3.3 |  1.1 | 20.4 | 0.1 | 0.0 | 2 |  47112941176 |   9939771 | 55.680 |  120.23432 |   82670 |  0.00000 | 0.00000 | 21.6 |  447 |\n",
       "| 6 | Bangladesh  | 25.1 | 0.0 |  6.4 |  0.8 | 0.0 | 0.3 | 2 | 274039092455 | 161356039 | 36.632 | 1239.57931 |  130170 | 73.91220 | 1.03276 | 32.3 | 2666 |\n",
       "\n"
      ],
      "text/plain": [
       "  Country     bicy cart mcyc pcar boat wigc clusters cgdp         tpop     \n",
       "1 Afghanistan 30.0 5.8  35.2 11.8 0.0  0.1  1         18353881130  37172386\n",
       "2 Albania     26.4 3.2   9.6 37.0 0.7  0.1  2         15147020535   2866376\n",
       "3 Angola       4.6 1.3  17.8 10.9 0.4  0.3  1        101353230785  30809762\n",
       "4 Armenia      8.6 0.4   0.2 39.2 0.3  0.1  3         12457941907   2951776\n",
       "5 Azerbaijan   6.9 3.3   1.1 20.4 0.1  0.0  2         47112941176   9939771\n",
       "6 Bangladesh  25.1 0.0   6.4  0.8 0.0  0.3  2        274039092455 161356039\n",
       "  upop   popd       land    lita     lity    mori prec\n",
       "1 25.495   56.93776  652860 43.01972 0.75933 62.5  327\n",
       "2 60.319  104.61226   27400 98.14115 1.00582  9.5 1485\n",
       "3 65.514   24.71305 1246700  0.00000 0.00000 77.7 1010\n",
       "4 63.149  103.68022   28470  0.00000 0.00000 12.4  562\n",
       "5 55.680  120.23432   82670  0.00000 0.00000 21.6  447\n",
       "6 36.632 1239.57931  130170 73.91220 1.03276 32.3 2666"
      ]
     },
     "metadata": {},
     "output_type": "display_data"
    }
   ],
   "source": [
    "head(df.wb)\n",
    "df <- merge(x = df.exp,\n",
    "              y = df.wb,\n",
    "              by = c(\"Country\"))\n",
    "\n",
    "\n",
    "df <- df[, c(1:8,11:19)]\n",
    "head(df)\n"
   ]
  },
  {
   "cell_type": "code",
   "execution_count": 137,
   "metadata": {},
   "outputs": [
    {
     "data": {
      "image/png": "[encoded data removed]",
      "text/plain": [
       "Plot with title \"Histogram of df$cart\""
      ]
     },
     "metadata": {
      "image/png": {
       "height": 420,
       "width": 420
      }
     },
     "output_type": "display_data"
    }
   ],
   "source": [
    "hist(df$cart)"
   ]
  },
  {
   "cell_type": "code",
   "execution_count": 138,
   "metadata": {},
   "outputs": [],
   "source": [
    "tree.wa = tree(clusters ~ . - Country  , data = df)"
   ]
  },
  {
   "cell_type": "code",
   "execution_count": 139,
   "metadata": {},
   "outputs": [
    {
     "data": {
      "text/plain": [
       "\n",
       "Classification tree:\n",
       "tree(formula = clusters ~ . - Country, data = df)\n",
       "Variables actually used in tree construction:\n",
       "[1] \"mori\" \"prec\" \"bicy\" \"pcar\" \"popd\" \"upop\"\n",
       "Number of terminal nodes:  11 \n",
       "Residual mean deviance:  0.7865 = 48.76 / 62 \n",
       "Misclassification error rate: 0.137 = 10 / 73 "
      ]
     },
     "metadata": {},
     "output_type": "display_data"
    }
   ],
   "source": [
    "summary(tree.wa) "
   ]
  },
  {
   "cell_type": "code",
   "execution_count": 140,
   "metadata": {},
   "outputs": [
    {
     "data": {
      "image/png": "[encoded data removed]",
      "text/plain": [
       "plot without title"
      ]
     },
     "metadata": {
      "image/png": {
       "height": 420,
       "width": 420
      }
     },
     "output_type": "display_data"
    }
   ],
   "source": [
    "plot(tree.wa)\n",
    "text(tree.wa, pretty = 0) #population density High density for six cluster group."
   ]
  },
  {
   "cell_type": "code",
   "execution_count": 141,
   "metadata": {},
   "outputs": [
    {
     "data": {
      "text/plain": [
       "node), split, n, deviance, yval, (yprob)\n",
       "      * denotes terminal node\n",
       "\n",
       "  1) root 73 189.300 1 ( 0.34247 0.32877 0.23288 0.09589 )  \n",
       "    2) mori < 35.45 28  49.840 3 ( 0.07143 0.39286 0.53571 0.00000 )  \n",
       "      4) mori < 30.6 23  38.720 3 ( 0.08696 0.26087 0.65217 0.00000 )  \n",
       "        8) prec < 1611.5 12  22.040 2 ( 0.08333 0.50000 0.41667 0.00000 )  \n",
       "         16) bicy < 16.5 6   5.407 3 ( 0.00000 0.16667 0.83333 0.00000 ) *\n",
       "         17) bicy > 16.5 6   5.407 2 ( 0.16667 0.83333 0.00000 0.00000 ) *\n",
       "        9) prec > 1611.5 11   6.702 3 ( 0.09091 0.00000 0.90909 0.00000 ) *\n",
       "      5) mori > 30.6 5   0.000 2 ( 0.00000 1.00000 0.00000 0.00000 ) *\n",
       "    3) mori > 35.45 45 101.700 1 ( 0.51111 0.28889 0.04444 0.15556 )  \n",
       "      6) pcar < 1.7 5   0.000 4 ( 0.00000 0.00000 0.00000 1.00000 ) *\n",
       "      7) pcar > 1.7 40  78.640 1 ( 0.57500 0.32500 0.05000 0.05000 )  \n",
       "       14) pcar < 13.6 35  55.820 1 ( 0.65714 0.28571 0.00000 0.05714 )  \n",
       "         28) popd < 220.186 30  38.340 1 ( 0.76667 0.20000 0.00000 0.03333 )  \n",
       "           56) mori < 50.55 10  18.870 2 ( 0.40000 0.50000 0.00000 0.10000 )  \n",
       "            112) upop < 28.804 5   9.503 1 ( 0.60000 0.20000 0.00000 0.20000 ) *\n",
       "            113) upop > 28.804 5   5.004 2 ( 0.20000 0.80000 0.00000 0.00000 ) *\n",
       "           57) mori > 50.55 20   7.941 1 ( 0.95000 0.05000 0.00000 0.00000 )  \n",
       "            114) bicy < 7.95 5   5.004 1 ( 0.80000 0.20000 0.00000 0.00000 ) *\n",
       "            115) bicy > 7.95 15   0.000 1 ( 1.00000 0.00000 0.00000 0.00000 ) *\n",
       "         29) popd > 220.186 5   5.004 2 ( 0.00000 0.80000 0.00000 0.20000 ) *\n",
       "       15) pcar > 13.6 5   6.730 2 ( 0.00000 0.60000 0.40000 0.00000 ) *"
      ]
     },
     "metadata": {},
     "output_type": "display_data"
    }
   ],
   "source": [
    "tree.wa"
   ]
  },
  {
   "cell_type": "code",
   "execution_count": 142,
   "metadata": {},
   "outputs": [
    {
     "data": {
      "text/html": [
       "<style>\n",
       ".list-inline {list-style: none; margin:0; padding: 0}\n",
       ".list-inline>li {display: inline-block}\n",
       ".list-inline>li:not(:last-child)::after {content: \"\\00b7\"; padding: 0 .5ex}\n",
       "</style>\n",
       "<ol class=list-inline><li>73</li><li>57</li><li>46</li><li>58</li><li>61</li><li>60</li></ol>\n"
      ],
      "text/latex": [
       "\\begin{enumerate*}\n",
       "\\item 73\n",
       "\\item 57\n",
       "\\item 46\n",
       "\\item 58\n",
       "\\item 61\n",
       "\\item 60\n",
       "\\end{enumerate*}\n"
      ],
      "text/markdown": [
       "1. 73\n",
       "2. 57\n",
       "3. 46\n",
       "4. 58\n",
       "5. 61\n",
       "6. 60\n",
       "\n",
       "\n"
      ],
      "text/plain": [
       "[1] 73 57 46 58 61 60"
      ]
     },
     "metadata": {},
     "output_type": "display_data"
    }
   ],
   "source": [
    "set.seed(101)\n",
    "train = sample(1:nrow(df), 73)\n",
    "head(train)"
   ]
  },
  {
   "cell_type": "code",
   "execution_count": 143,
   "metadata": {},
   "outputs": [
    {
     "data": {
      "text/plain": [
       "\n",
       "Call:\n",
       " randomForest(formula = clusters ~ . - Country, data = df, subset = train) \n",
       "               Type of random forest: classification\n",
       "                     Number of trees: 500\n",
       "No. of variables tried at each split: 3\n",
       "\n",
       "        OOB estimate of  error rate: 41.1%\n",
       "Confusion matrix:\n",
       "   1  2  3 4 class.error\n",
       "1 20  3  2 0   0.2000000\n",
       "2  5 12  6 1   0.5000000\n",
       "3  1  6 10 0   0.4117647\n",
       "4  5  1  0 1   0.8571429"
      ]
     },
     "metadata": {},
     "output_type": "display_data"
    }
   ],
   "source": [
    "rf.water = randomForest(clusters~. -Country, data = df, subset = train)\n",
    "rf.water"
   ]
  },
  {
   "cell_type": "markdown",
   "metadata": {},
   "source": [
    "oob.err = double(13)\n",
    "test.err = double(13)\n",
    "for(mtry in 1:13){\n",
    "  fit = randomForest(clusters~. -Country, data = df, subset=train, mtry=mtry, ntree = 350)\n",
    "  oob.err[mtry] = fit$mse[350]\n",
    "  pred = predict(fit, df[-train,])\n",
    "  test.err[mtry] = with(df[-train,], mean( (clusters-pred)^2 ))\n",
    "}"
   ]
  },
  {
   "cell_type": "markdown",
   "metadata": {},
   "source": [
    "matplot(1:mtry, cbind(test.err, oob.err), pch = 23, col = c(\"red\", \"blue\"), type = \"b\", ylab=\"Mean Squared Error\")\n",
    "legend(\"topright\", legend = c(\"OOB\", \"Test\"), pch = 23, col = c(\"red\", \"blue\"))"
   ]
  },
  {
   "cell_type": "code",
   "execution_count": 146,
   "metadata": {},
   "outputs": [
    {
     "data": {
      "text/plain": [
       "                Length Class  Mode     \n",
       "call               4   -none- call     \n",
       "type               1   -none- character\n",
       "predicted         73   factor numeric  \n",
       "err.rate        2500   -none- numeric  \n",
       "confusion         20   -none- numeric  \n",
       "votes            292   matrix numeric  \n",
       "oob.times         73   -none- numeric  \n",
       "classes            4   -none- character\n",
       "importance        15   -none- numeric  \n",
       "importanceSD       0   -none- NULL     \n",
       "localImportance    0   -none- NULL     \n",
       "proximity          0   -none- NULL     \n",
       "ntree              1   -none- numeric  \n",
       "mtry               1   -none- numeric  \n",
       "forest            14   -none- list     \n",
       "y                 73   factor numeric  \n",
       "test               0   -none- NULL     \n",
       "inbag              0   -none- NULL     \n",
       "terms              3   terms  call     "
      ]
     },
     "metadata": {},
     "output_type": "display_data"
    }
   ],
   "source": [
    "summary(rf.water)"
   ]
  },
  {
   "cell_type": "code",
   "execution_count": 147,
   "metadata": {},
   "outputs": [
    {
     "data": {
      "text/html": [
       "<table class=\"dataframe\">\n",
       "<caption>A matrix: 15 × 1 of type dbl</caption>\n",
       "<thead>\n",
       "\t<tr><th></th><th scope=col>MeanDecreaseGini</th></tr>\n",
       "</thead>\n",
       "<tbody>\n",
       "\t<tr><th scope=row>bicy</th><td>2.779155</td></tr>\n",
       "\t<tr><th scope=row>cart</th><td>2.945206</td></tr>\n",
       "\t<tr><th scope=row>mcyc</th><td>3.601441</td></tr>\n",
       "\t<tr><th scope=row>pcar</th><td>6.211381</td></tr>\n",
       "\t<tr><th scope=row>boat</th><td>1.793616</td></tr>\n",
       "\t<tr><th scope=row>wigc</th><td>1.867876</td></tr>\n",
       "\t<tr><th scope=row>cgdp</th><td>2.767997</td></tr>\n",
       "\t<tr><th scope=row>tpop</th><td>3.154892</td></tr>\n",
       "\t<tr><th scope=row>upop</th><td>3.642563</td></tr>\n",
       "\t<tr><th scope=row>popd</th><td>3.089806</td></tr>\n",
       "\t<tr><th scope=row>land</th><td>2.719403</td></tr>\n",
       "\t<tr><th scope=row>lita</th><td>2.265098</td></tr>\n",
       "\t<tr><th scope=row>lity</th><td>2.453521</td></tr>\n",
       "\t<tr><th scope=row>mori</th><td>8.056908</td></tr>\n",
       "\t<tr><th scope=row>prec</th><td>3.896315</td></tr>\n",
       "</tbody>\n",
       "</table>\n"
      ],
      "text/latex": [
       "A matrix: 15 × 1 of type dbl\n",
       "\\begin{tabular}{r|l}\n",
       "  & MeanDecreaseGini\\\\\n",
       "\\hline\n",
       "\tbicy & 2.779155\\\\\n",
       "\tcart & 2.945206\\\\\n",
       "\tmcyc & 3.601441\\\\\n",
       "\tpcar & 6.211381\\\\\n",
       "\tboat & 1.793616\\\\\n",
       "\twigc & 1.867876\\\\\n",
       "\tcgdp & 2.767997\\\\\n",
       "\ttpop & 3.154892\\\\\n",
       "\tupop & 3.642563\\\\\n",
       "\tpopd & 3.089806\\\\\n",
       "\tland & 2.719403\\\\\n",
       "\tlita & 2.265098\\\\\n",
       "\tlity & 2.453521\\\\\n",
       "\tmori & 8.056908\\\\\n",
       "\tprec & 3.896315\\\\\n",
       "\\end{tabular}\n"
      ],
      "text/markdown": [
       "\n",
       "A matrix: 15 × 1 of type dbl\n",
       "\n",
       "| <!--/--> | MeanDecreaseGini |\n",
       "|---|---|\n",
       "| bicy | 2.779155 |\n",
       "| cart | 2.945206 |\n",
       "| mcyc | 3.601441 |\n",
       "| pcar | 6.211381 |\n",
       "| boat | 1.793616 |\n",
       "| wigc | 1.867876 |\n",
       "| cgdp | 2.767997 |\n",
       "| tpop | 3.154892 |\n",
       "| upop | 3.642563 |\n",
       "| popd | 3.089806 |\n",
       "| land | 2.719403 |\n",
       "| lita | 2.265098 |\n",
       "| lity | 2.453521 |\n",
       "| mori | 8.056908 |\n",
       "| prec | 3.896315 |\n",
       "\n"
      ],
      "text/plain": [
       "     MeanDecreaseGini\n",
       "bicy 2.779155        \n",
       "cart 2.945206        \n",
       "mcyc 3.601441        \n",
       "pcar 6.211381        \n",
       "boat 1.793616        \n",
       "wigc 1.867876        \n",
       "cgdp 2.767997        \n",
       "tpop 3.154892        \n",
       "upop 3.642563        \n",
       "popd 3.089806        \n",
       "land 2.719403        \n",
       "lita 2.265098        \n",
       "lity 2.453521        \n",
       "mori 8.056908        \n",
       "prec 3.896315        "
      ]
     },
     "metadata": {},
     "output_type": "display_data"
    }
   ],
   "source": [
    "importance(rf.water, sort = TRUE)"
   ]
  },
  {
   "cell_type": "code",
   "execution_count": 148,
   "metadata": {},
   "outputs": [
    {
     "ename": "ERROR",
     "evalue": "Error in xy.coords(x, y, recycle = TRUE, setLab = FALSE): 'x' is a list, but does not have components 'x' and 'y'\n",
     "output_type": "error",
     "traceback": [
      "Error in xy.coords(x, y, recycle = TRUE, setLab = FALSE): 'x' is a list, but does not have components 'x' and 'y'\nTraceback:\n",
      "1. text(rf.water, pretty = 0)",
      "2. text.default(rf.water, pretty = 0)",
      "3. xy.coords(x, y, recycle = TRUE, setLab = FALSE)",
      "4. stop(\"'x' is a list, but does not have components 'x' and 'y'\")"
     ]
    },
    {
     "data": {
      "image/png": "[encoded data removed]",
      "text/plain": [
       "Plot with title \"rf.water\""
      ]
     },
     "metadata": {
      "image/png": {
       "height": 420,
       "width": 420
      }
     },
     "output_type": "display_data"
    }
   ],
   "source": [
    "plot(rf.water)\n",
    "text(rf.water, pretty = 0)"
   ]
  },
  {
   "cell_type": "code",
   "execution_count": null,
   "metadata": {},
   "outputs": [],
   "source": []
  }
 ],
 "metadata": {
  "kernelspec": {
   "display_name": "R",
   "language": "R",
   "name": "ir"
  },
  "language_info": {
   "codemirror_mode": "r",
   "file_extension": ".r",
   "mimetype": "text/x-r-source",
   "name": "R",
   "pygments_lexer": "r",
   "version": "4.0.2"
  }
 },
 "nbformat": 4,
 "nbformat_minor": 4
}
