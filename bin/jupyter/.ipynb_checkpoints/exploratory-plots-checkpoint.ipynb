{
 "cells": [
  {
   "cell_type": "code",
   "execution_count": 3,
   "id": "883554b9-c026-4108-9d4a-0beb92a6c6c1",
   "metadata": {
    "collapsed": true,
    "jupyter": {
     "outputs_hidden": true
    },
    "tags": []
   },
   "outputs": [
    {
     "name": "stderr",
     "output_type": "stream",
     "text": [
      "Loading required package: ggplot2\n",
      "\n",
      "Registered S3 method overwritten by 'GGally':\n",
      "  method from   \n",
      "  +.gg   ggplot2\n",
      "\n",
      "\n",
      "Attaching package: ‘dplyr’\n",
      "\n",
      "\n",
      "The following objects are masked from ‘package:stats’:\n",
      "\n",
      "    filter, lag\n",
      "\n",
      "\n",
      "The following objects are masked from ‘package:base’:\n",
      "\n",
      "    intersect, setdiff, setequal, union\n",
      "\n",
      "\n",
      "\n",
      "Attaching package: ‘psych’\n",
      "\n",
      "\n",
      "The following objects are masked from ‘package:scales’:\n",
      "\n",
      "    alpha, rescale\n",
      "\n",
      "\n",
      "The following objects are masked from ‘package:ggplot2’:\n",
      "\n",
      "    %+%, alpha\n",
      "\n",
      "\n"
     ]
    },
    {
     "ename": "ERROR",
     "evalue": "Error in library(pastecs): there is no package called ‘pastecs’\n",
     "output_type": "error",
     "traceback": [
      "Error in library(pastecs): there is no package called ‘pastecs’\nTraceback:\n",
      "1. library(pastecs)"
     ]
    }
   ],
   "source": [
    "library(GGally)\n",
    "library(readxl)\n",
    "library(dplyr)\n",
    "library(\"tibble\")\n",
    "library(tidyr)\n",
    "library(scales)\n",
    "library(psych)\n",
    "library(pastecs)"
   ]
  },
  {
   "cell_type": "code",
   "execution_count": 38,
   "id": "4f16796c-e5b4-40e5-8bc3-ff257e33ed97",
   "metadata": {},
   "outputs": [
    {
     "data": {
      "text/html": [
       "<table class=\"dataframe\">\n",
       "<caption>A data.frame: 6 × 14</caption>\n",
       "<thead>\n",
       "\t<tr><th></th><th scope=col>Country</th><th scope=col>bicy</th><th scope=col>cart</th><th scope=col>mcyc</th><th scope=col>pcar</th><th scope=col>boat</th><th scope=col>wigc</th><th scope=col>cgdp</th><th scope=col>tpop</th><th scope=col>upop</th><th scope=col>popd</th><th scope=col>land</th><th scope=col>rifr</th><th scope=col>prec</th></tr>\n",
       "\t<tr><th></th><th scope=col>&lt;chr&gt;</th><th scope=col>&lt;dbl&gt;</th><th scope=col>&lt;dbl&gt;</th><th scope=col>&lt;dbl&gt;</th><th scope=col>&lt;dbl&gt;</th><th scope=col>&lt;dbl&gt;</th><th scope=col>&lt;dbl&gt;</th><th scope=col>&lt;dbl&gt;</th><th scope=col>&lt;dbl&gt;</th><th scope=col>&lt;dbl&gt;</th><th scope=col>&lt;dbl&gt;</th><th scope=col>&lt;dbl&gt;</th><th scope=col>&lt;dbl&gt;</th><th scope=col>&lt;dbl&gt;</th></tr>\n",
       "</thead>\n",
       "<tbody>\n",
       "\t<tr><th scope=row>1</th><td>Afghanistan</td><td>30.0</td><td>5.8</td><td>35.2</td><td>11.8</td><td>0.0</td><td>0.1</td><td> 18353881130</td><td> 37172386</td><td>25.495</td><td>  56.93776</td><td> 652860</td><td>1299.0269</td><td> 327</td></tr>\n",
       "\t<tr><th scope=row>2</th><td>Albania    </td><td>26.4</td><td>3.2</td><td> 9.6</td><td>37.0</td><td>0.7</td><td>0.1</td><td> 15147020535</td><td>  2866376</td><td>60.319</td><td> 104.61226</td><td>  27400</td><td>9361.5460</td><td>1485</td></tr>\n",
       "\t<tr><th scope=row>3</th><td>Angola     </td><td> 4.6</td><td>1.3</td><td>17.8</td><td>10.9</td><td>0.4</td><td>0.3</td><td>101353230785</td><td> 30809762</td><td>65.514</td><td>  24.71305</td><td>1246700</td><td>4963.6533</td><td>1010</td></tr>\n",
       "\t<tr><th scope=row>4</th><td>Armenia    </td><td> 8.6</td><td>0.4</td><td> 0.2</td><td>39.2</td><td>0.3</td><td>0.1</td><td> 12457941907</td><td>  2951776</td><td>63.149</td><td> 103.68022</td><td>  28470</td><td>2329.1833</td><td> 562</td></tr>\n",
       "\t<tr><th scope=row>5</th><td>Azerbaijan </td><td> 6.9</td><td>3.3</td><td> 1.1</td><td>20.4</td><td>0.1</td><td>0.0</td><td> 47112941176</td><td>  9939771</td><td>55.680</td><td> 120.23432</td><td>  82670</td><td> 823.5207</td><td> 447</td></tr>\n",
       "\t<tr><th scope=row>6</th><td>Bangladesh </td><td>25.1</td><td>0.0</td><td> 6.4</td><td> 0.8</td><td>0.0</td><td>0.3</td><td>274039092455</td><td>161356039</td><td>36.632</td><td>1239.57931</td><td> 130170</td><td> 657.6039</td><td>2666</td></tr>\n",
       "</tbody>\n",
       "</table>\n"
      ],
      "text/latex": [
       "A data.frame: 6 × 14\n",
       "\\begin{tabular}{r|llllllllllllll}\n",
       "  & Country & bicy & cart & mcyc & pcar & boat & wigc & cgdp & tpop & upop & popd & land & rifr & prec\\\\\n",
       "  & <chr> & <dbl> & <dbl> & <dbl> & <dbl> & <dbl> & <dbl> & <dbl> & <dbl> & <dbl> & <dbl> & <dbl> & <dbl> & <dbl>\\\\\n",
       "\\hline\n",
       "\t1 & Afghanistan & 30.0 & 5.8 & 35.2 & 11.8 & 0.0 & 0.1 &  18353881130 &  37172386 & 25.495 &   56.93776 &  652860 & 1299.0269 &  327\\\\\n",
       "\t2 & Albania     & 26.4 & 3.2 &  9.6 & 37.0 & 0.7 & 0.1 &  15147020535 &   2866376 & 60.319 &  104.61226 &   27400 & 9361.5460 & 1485\\\\\n",
       "\t3 & Angola      &  4.6 & 1.3 & 17.8 & 10.9 & 0.4 & 0.3 & 101353230785 &  30809762 & 65.514 &   24.71305 & 1246700 & 4963.6533 & 1010\\\\\n",
       "\t4 & Armenia     &  8.6 & 0.4 &  0.2 & 39.2 & 0.3 & 0.1 &  12457941907 &   2951776 & 63.149 &  103.68022 &   28470 & 2329.1833 &  562\\\\\n",
       "\t5 & Azerbaijan  &  6.9 & 3.3 &  1.1 & 20.4 & 0.1 & 0.0 &  47112941176 &   9939771 & 55.680 &  120.23432 &   82670 &  823.5207 &  447\\\\\n",
       "\t6 & Bangladesh  & 25.1 & 0.0 &  6.4 &  0.8 & 0.0 & 0.3 & 274039092455 & 161356039 & 36.632 & 1239.57931 &  130170 &  657.6039 & 2666\\\\\n",
       "\\end{tabular}\n"
      ],
      "text/markdown": [
       "\n",
       "A data.frame: 6 × 14\n",
       "\n",
       "| <!--/--> | Country &lt;chr&gt; | bicy &lt;dbl&gt; | cart &lt;dbl&gt; | mcyc &lt;dbl&gt; | pcar &lt;dbl&gt; | boat &lt;dbl&gt; | wigc &lt;dbl&gt; | cgdp &lt;dbl&gt; | tpop &lt;dbl&gt; | upop &lt;dbl&gt; | popd &lt;dbl&gt; | land &lt;dbl&gt; | rifr &lt;dbl&gt; | prec &lt;dbl&gt; |\n",
       "|---|---|---|---|---|---|---|---|---|---|---|---|---|---|---|\n",
       "| 1 | Afghanistan | 30.0 | 5.8 | 35.2 | 11.8 | 0.0 | 0.1 |  18353881130 |  37172386 | 25.495 |   56.93776 |  652860 | 1299.0269 |  327 |\n",
       "| 2 | Albania     | 26.4 | 3.2 |  9.6 | 37.0 | 0.7 | 0.1 |  15147020535 |   2866376 | 60.319 |  104.61226 |   27400 | 9361.5460 | 1485 |\n",
       "| 3 | Angola      |  4.6 | 1.3 | 17.8 | 10.9 | 0.4 | 0.3 | 101353230785 |  30809762 | 65.514 |   24.71305 | 1246700 | 4963.6533 | 1010 |\n",
       "| 4 | Armenia     |  8.6 | 0.4 |  0.2 | 39.2 | 0.3 | 0.1 |  12457941907 |   2951776 | 63.149 |  103.68022 |   28470 | 2329.1833 |  562 |\n",
       "| 5 | Azerbaijan  |  6.9 | 3.3 |  1.1 | 20.4 | 0.1 | 0.0 |  47112941176 |   9939771 | 55.680 |  120.23432 |   82670 |  823.5207 |  447 |\n",
       "| 6 | Bangladesh  | 25.1 | 0.0 |  6.4 |  0.8 | 0.0 | 0.3 | 274039092455 | 161356039 | 36.632 | 1239.57931 |  130170 |  657.6039 | 2666 |\n",
       "\n"
      ],
      "text/plain": [
       "  Country     bicy cart mcyc pcar boat wigc cgdp         tpop      upop  \n",
       "1 Afghanistan 30.0 5.8  35.2 11.8 0.0  0.1   18353881130  37172386 25.495\n",
       "2 Albania     26.4 3.2   9.6 37.0 0.7  0.1   15147020535   2866376 60.319\n",
       "3 Angola       4.6 1.3  17.8 10.9 0.4  0.3  101353230785  30809762 65.514\n",
       "4 Armenia      8.6 0.4   0.2 39.2 0.3  0.1   12457941907   2951776 63.149\n",
       "5 Azerbaijan   6.9 3.3   1.1 20.4 0.1  0.0   47112941176   9939771 55.680\n",
       "6 Bangladesh  25.1 0.0   6.4  0.8 0.0  0.3  274039092455 161356039 36.632\n",
       "  popd       land    rifr      prec\n",
       "1   56.93776  652860 1299.0269  327\n",
       "2  104.61226   27400 9361.5460 1485\n",
       "3   24.71305 1246700 4963.6533 1010\n",
       "4  103.68022   28470 2329.1833  562\n",
       "5  120.23432   82670  823.5207  447\n",
       "6 1239.57931  130170  657.6039 2666"
      ]
     },
     "metadata": {},
     "output_type": "display_data"
    }
   ],
   "source": [
    "df.wa = read_excel( \"../../results/df-water-access.xlsx\" ,sheet=1)\n",
    "df.exp =read_excel(\"../../results/df-water-explore.xlsx\" ,sheet=1)\n",
    "df.cluster = read_excel(\"../../results/df-fa-seven-cluster-rank.xlsx\" ,sheet=1)\n",
    "df.wb = read_excel(\"../../results/df-wb.xlsx\" ,sheet=1 )\n",
    "#df.exp$clusters <- as.factor(df.cluster$clusters)\n",
    "df <- merge(x = df.exp,\n",
    "              y = df.wb,\n",
    "              by = c(\"Country\"))\n",
    "\n",
    "df <- df[, c(1:12, 16,20)]\n",
    "head(df)\n",
    "df$gdpp <- df$cgdp/df$tpop  ## GDP per capita\n",
    "df <- subset(df, select = -cgdp)\n",
    "\n",
    "#scaling the world bank data similar to DHS aggregation out of 100\n",
    "# df.wb <- df[,c(9:15)]\n",
    "# df.wb <- data.frame(lapply(df.wb, function(x) scale(x, center = FALSE, scale = max(x, na.rm = TRUE)/100)))\n",
    "# df.scale <- cbind(df, df.wb)\n",
    "# df.scale <- df.scale[,c(1:8,15:21)]\n"
   ]
  },
  {
   "cell_type": "code",
   "execution_count": 39,
   "id": "74926ebb-e60e-4aa2-8a23-e61abb464983",
   "metadata": {
    "tags": []
   },
   "outputs": [],
   "source": [
    "df <- df %>% \n",
    "  rename(\n",
    "    'Bicycle (%)' = bicy ,\n",
    "     'A Cart (%)' = cart,\n",
    "     'M-cycle (%)' = mcyc,\n",
    "      'Car (%)'=pcar,\n",
    "      'Boat (%)'=boat,\n",
    "     'Gini' =wigc,\n",
    "      'GDP p.c. ($)'= gdpp,\n",
    "      'Pop'=tpop,\n",
    "      'Urban Pop (%)'=upop,\n",
    "     'Pop Den (/sq. km)' =popd,\n",
    "      'Area (sq. km)'=land,\n",
    "      'RW (p.c. cu. m)'=rifr,\n",
    "     'Prec (mm/yr)' =prec\n",
    "    )\n",
    "df = df[, c(1, 1+order(names(df)[2:14]))]"
   ]
  },
  {
   "cell_type": "code",
   "execution_count": 43,
   "id": "529b3c1b-3563-4f31-b19a-e79aaa69709f",
   "metadata": {},
   "outputs": [],
   "source": []
  },
  {
   "cell_type": "code",
   "execution_count": 44,
   "id": "9ac858eb-6381-4644-a447-2909a7fb7074",
   "metadata": {
    "collapsed": true,
    "jupyter": {
     "outputs_hidden": true
    },
    "tags": []
   },
   "outputs": [
    {
     "data": {
      "text/html": [
       "<table class=\"dataframe\">\n",
       "<caption>A data.frame: 6 × 14</caption>\n",
       "<thead>\n",
       "\t<tr><th></th><th scope=col>Country</th><th scope=col>A Cart (%)</th><th scope=col>Area (sq. km)</th><th scope=col>Bicycle (%)</th><th scope=col>Boat (%)</th><th scope=col>Car (%)</th><th scope=col>GDP p.c. ($)</th><th scope=col>Gini</th><th scope=col>M-cycle (%)</th><th scope=col>Pop</th><th scope=col>Pop Den (/sq. km)</th><th scope=col>Prec (mm/yr)</th><th scope=col>RW (p.c. cu. m)</th><th scope=col>Urban Pop (%)</th></tr>\n",
       "\t<tr><th></th><th scope=col>&lt;chr&gt;</th><th scope=col>&lt;dbl&gt;</th><th scope=col>&lt;dbl&gt;</th><th scope=col>&lt;dbl&gt;</th><th scope=col>&lt;dbl&gt;</th><th scope=col>&lt;dbl&gt;</th><th scope=col>&lt;dbl&gt;</th><th scope=col>&lt;dbl&gt;</th><th scope=col>&lt;dbl&gt;</th><th scope=col>&lt;dbl&gt;</th><th scope=col>&lt;dbl&gt;</th><th scope=col>&lt;dbl&gt;</th><th scope=col>&lt;dbl&gt;</th><th scope=col>&lt;dbl&gt;</th></tr>\n",
       "</thead>\n",
       "<tbody>\n",
       "\t<tr><th scope=row>1</th><td>Afghanistan</td><td>5.8</td><td> 652860</td><td>30.0</td><td>0.0</td><td>11.8</td><td> 493.7504</td><td>0.1</td><td>35.2</td><td> 37172386</td><td>  56.93776</td><td> 327</td><td>1299.0269</td><td>25.495</td></tr>\n",
       "\t<tr><th scope=row>2</th><td>Albania    </td><td>3.2</td><td>  27400</td><td>26.4</td><td>0.7</td><td>37.0</td><td>5284.3802</td><td>0.1</td><td> 9.6</td><td>  2866376</td><td> 104.61226</td><td>1485</td><td>9361.5460</td><td>60.319</td></tr>\n",
       "\t<tr><th scope=row>3</th><td>Angola     </td><td>1.3</td><td>1246700</td><td> 4.6</td><td>0.4</td><td>10.9</td><td>3289.6467</td><td>0.3</td><td>17.8</td><td> 30809762</td><td>  24.71305</td><td>1010</td><td>4963.6533</td><td>65.514</td></tr>\n",
       "\t<tr><th scope=row>4</th><td>Armenia    </td><td>0.4</td><td>  28470</td><td> 8.6</td><td>0.3</td><td>39.2</td><td>4220.4903</td><td>0.1</td><td> 0.2</td><td>  2951776</td><td> 103.68022</td><td> 562</td><td>2329.1833</td><td>63.149</td></tr>\n",
       "\t<tr><th scope=row>5</th><td>Azerbaijan </td><td>3.3</td><td>  82670</td><td> 6.9</td><td>0.1</td><td>20.4</td><td>4739.8417</td><td>0.0</td><td> 1.1</td><td>  9939771</td><td> 120.23432</td><td> 447</td><td> 823.5207</td><td>55.680</td></tr>\n",
       "\t<tr><th scope=row>6</th><td>Bangladesh </td><td>0.0</td><td> 130170</td><td>25.1</td><td>0.0</td><td> 0.8</td><td>1698.3504</td><td>0.3</td><td> 6.4</td><td>161356039</td><td>1239.57931</td><td>2666</td><td> 657.6039</td><td>36.632</td></tr>\n",
       "</tbody>\n",
       "</table>\n"
      ],
      "text/latex": [
       "A data.frame: 6 × 14\n",
       "\\begin{tabular}{r|llllllllllllll}\n",
       "  & Country & A Cart (\\%) & Area (sq. km) & Bicycle (\\%) & Boat (\\%) & Car (\\%) & GDP p.c. (\\$) & Gini & M-cycle (\\%) & Pop & Pop Den (/sq. km) & Prec (mm/yr) & RW (p.c. cu. m) & Urban Pop (\\%)\\\\\n",
       "  & <chr> & <dbl> & <dbl> & <dbl> & <dbl> & <dbl> & <dbl> & <dbl> & <dbl> & <dbl> & <dbl> & <dbl> & <dbl> & <dbl>\\\\\n",
       "\\hline\n",
       "\t1 & Afghanistan & 5.8 &  652860 & 30.0 & 0.0 & 11.8 &  493.7504 & 0.1 & 35.2 &  37172386 &   56.93776 &  327 & 1299.0269 & 25.495\\\\\n",
       "\t2 & Albania     & 3.2 &   27400 & 26.4 & 0.7 & 37.0 & 5284.3802 & 0.1 &  9.6 &   2866376 &  104.61226 & 1485 & 9361.5460 & 60.319\\\\\n",
       "\t3 & Angola      & 1.3 & 1246700 &  4.6 & 0.4 & 10.9 & 3289.6467 & 0.3 & 17.8 &  30809762 &   24.71305 & 1010 & 4963.6533 & 65.514\\\\\n",
       "\t4 & Armenia     & 0.4 &   28470 &  8.6 & 0.3 & 39.2 & 4220.4903 & 0.1 &  0.2 &   2951776 &  103.68022 &  562 & 2329.1833 & 63.149\\\\\n",
       "\t5 & Azerbaijan  & 3.3 &   82670 &  6.9 & 0.1 & 20.4 & 4739.8417 & 0.0 &  1.1 &   9939771 &  120.23432 &  447 &  823.5207 & 55.680\\\\\n",
       "\t6 & Bangladesh  & 0.0 &  130170 & 25.1 & 0.0 &  0.8 & 1698.3504 & 0.3 &  6.4 & 161356039 & 1239.57931 & 2666 &  657.6039 & 36.632\\\\\n",
       "\\end{tabular}\n"
      ],
      "text/markdown": [
       "\n",
       "A data.frame: 6 × 14\n",
       "\n",
       "| <!--/--> | Country &lt;chr&gt; | A Cart (%) &lt;dbl&gt; | Area (sq. km) &lt;dbl&gt; | Bicycle (%) &lt;dbl&gt; | Boat (%) &lt;dbl&gt; | Car (%) &lt;dbl&gt; | GDP p.c. ($) &lt;dbl&gt; | Gini &lt;dbl&gt; | M-cycle (%) &lt;dbl&gt; | Pop &lt;dbl&gt; | Pop Den (/sq. km) &lt;dbl&gt; | Prec (mm/yr) &lt;dbl&gt; | RW (p.c. cu. m) &lt;dbl&gt; | Urban Pop (%) &lt;dbl&gt; |\n",
       "|---|---|---|---|---|---|---|---|---|---|---|---|---|---|---|\n",
       "| 1 | Afghanistan | 5.8 |  652860 | 30.0 | 0.0 | 11.8 |  493.7504 | 0.1 | 35.2 |  37172386 |   56.93776 |  327 | 1299.0269 | 25.495 |\n",
       "| 2 | Albania     | 3.2 |   27400 | 26.4 | 0.7 | 37.0 | 5284.3802 | 0.1 |  9.6 |   2866376 |  104.61226 | 1485 | 9361.5460 | 60.319 |\n",
       "| 3 | Angola      | 1.3 | 1246700 |  4.6 | 0.4 | 10.9 | 3289.6467 | 0.3 | 17.8 |  30809762 |   24.71305 | 1010 | 4963.6533 | 65.514 |\n",
       "| 4 | Armenia     | 0.4 |   28470 |  8.6 | 0.3 | 39.2 | 4220.4903 | 0.1 |  0.2 |   2951776 |  103.68022 |  562 | 2329.1833 | 63.149 |\n",
       "| 5 | Azerbaijan  | 3.3 |   82670 |  6.9 | 0.1 | 20.4 | 4739.8417 | 0.0 |  1.1 |   9939771 |  120.23432 |  447 |  823.5207 | 55.680 |\n",
       "| 6 | Bangladesh  | 0.0 |  130170 | 25.1 | 0.0 |  0.8 | 1698.3504 | 0.3 |  6.4 | 161356039 | 1239.57931 | 2666 |  657.6039 | 36.632 |\n",
       "\n"
      ],
      "text/plain": [
       "  Country     A Cart (%) Area (sq. km) Bicycle (%) Boat (%) Car (%)\n",
       "1 Afghanistan 5.8         652860       30.0        0.0      11.8   \n",
       "2 Albania     3.2          27400       26.4        0.7      37.0   \n",
       "3 Angola      1.3        1246700        4.6        0.4      10.9   \n",
       "4 Armenia     0.4          28470        8.6        0.3      39.2   \n",
       "5 Azerbaijan  3.3          82670        6.9        0.1      20.4   \n",
       "6 Bangladesh  0.0         130170       25.1        0.0       0.8   \n",
       "  GDP p.c. ($) Gini M-cycle (%) Pop       Pop Den (/sq. km) Prec (mm/yr)\n",
       "1  493.7504    0.1  35.2         37172386   56.93776         327        \n",
       "2 5284.3802    0.1   9.6          2866376  104.61226        1485        \n",
       "3 3289.6467    0.3  17.8         30809762   24.71305        1010        \n",
       "4 4220.4903    0.1   0.2          2951776  103.68022         562        \n",
       "5 4739.8417    0.0   1.1          9939771  120.23432         447        \n",
       "6 1698.3504    0.3   6.4        161356039 1239.57931        2666        \n",
       "  RW (p.c. cu. m) Urban Pop (%)\n",
       "1 1299.0269       25.495       \n",
       "2 9361.5460       60.319       \n",
       "3 4963.6533       65.514       \n",
       "4 2329.1833       63.149       \n",
       "5  823.5207       55.680       \n",
       "6  657.6039       36.632       "
      ]
     },
     "metadata": {},
     "output_type": "display_data"
    },
    {
     "name": "stderr",
     "output_type": "stream",
     "text": [
      "`stat_bin()` using `bins = 30`. Pick better value with `binwidth`.\n",
      "\n",
      "Warning message in ggally_statistic(data = data, mapping = mapping, na.rm = na.rm, :\n",
      "“Removing 1 row that contained a missing value”\n",
      "`stat_bin()` using `bins = 30`. Pick better value with `binwidth`.\n",
      "\n",
      "Warning message in ggally_statistic(data = data, mapping = mapping, na.rm = na.rm, :\n",
      "“Removing 1 row that contained a missing value”\n",
      "`stat_bin()` using `bins = 30`. Pick better value with `binwidth`.\n",
      "\n",
      "Warning message in ggally_statistic(data = data, mapping = mapping, na.rm = na.rm, :\n",
      "“Removing 1 row that contained a missing value”\n",
      "`stat_bin()` using `bins = 30`. Pick better value with `binwidth`.\n",
      "\n",
      "Warning message in ggally_statistic(data = data, mapping = mapping, na.rm = na.rm, :\n",
      "“Removing 1 row that contained a missing value”\n",
      "`stat_bin()` using `bins = 30`. Pick better value with `binwidth`.\n",
      "\n",
      "Warning message in ggally_statistic(data = data, mapping = mapping, na.rm = na.rm, :\n",
      "“Removing 1 row that contained a missing value”\n",
      "Warning message:\n",
      "“Removed 1 rows containing missing values (geom_point).”\n",
      "Warning message:\n",
      "“Removed 1 rows containing missing values (geom_point).”\n",
      "Warning message:\n",
      "“Removed 1 rows containing missing values (geom_point).”\n",
      "Warning message:\n",
      "“Removed 1 rows containing missing values (geom_point).”\n",
      "Warning message:\n",
      "“Removed 1 rows containing missing values (geom_point).”\n",
      "`stat_bin()` using `bins = 30`. Pick better value with `binwidth`.\n",
      "\n",
      "Warning message:\n",
      "“Removed 1 rows containing non-finite values (stat_bin).”\n",
      "Warning message in ggally_statistic(data = data, mapping = mapping, na.rm = na.rm, :\n",
      "“Removing 1 row that contained a missing value”\n",
      "Warning message in ggally_statistic(data = data, mapping = mapping, na.rm = na.rm, :\n",
      "“Removing 1 row that contained a missing value”\n",
      "Warning message in ggally_statistic(data = data, mapping = mapping, na.rm = na.rm, :\n",
      "“Removing 1 row that contained a missing value”\n",
      "Warning message in ggally_statistic(data = data, mapping = mapping, na.rm = na.rm, :\n",
      "“Removing 1 row that contained a missing value”\n",
      "Warning message in ggally_statistic(data = data, mapping = mapping, na.rm = na.rm, :\n",
      "“Removing 1 row that contained a missing value”\n",
      "Warning message in ggally_statistic(data = data, mapping = mapping, na.rm = na.rm, :\n",
      "“Removing 1 row that contained a missing value”\n",
      "Warning message in ggally_statistic(data = data, mapping = mapping, na.rm = na.rm, :\n",
      "“Removing 1 row that contained a missing value”\n",
      "Warning message:\n",
      "“Removed 1 rows containing missing values (geom_point).”\n",
      "`stat_bin()` using `bins = 30`. Pick better value with `binwidth`.\n",
      "\n",
      "Warning message:\n",
      "“Removed 1 rows containing missing values (geom_point).”\n",
      "`stat_bin()` using `bins = 30`. Pick better value with `binwidth`.\n",
      "\n",
      "Warning message:\n",
      "“Removed 1 rows containing missing values (geom_point).”\n",
      "`stat_bin()` using `bins = 30`. Pick better value with `binwidth`.\n",
      "\n",
      "Warning message:\n",
      "“Removed 1 rows containing missing values (geom_point).”\n",
      "`stat_bin()` using `bins = 30`. Pick better value with `binwidth`.\n",
      "\n",
      "Warning message:\n",
      "“Removed 1 rows containing missing values (geom_point).”\n",
      "`stat_bin()` using `bins = 30`. Pick better value with `binwidth`.\n",
      "\n",
      "Warning message:\n",
      "“Removed 1 rows containing missing values (geom_point).”\n",
      "`stat_bin()` using `bins = 30`. Pick better value with `binwidth`.\n",
      "\n",
      "Warning message:\n",
      "“Removed 1 rows containing missing values (geom_point).”\n",
      "`stat_bin()` using `bins = 30`. Pick better value with `binwidth`.\n",
      "\n"
     ]
    },
    {
     "data": {
      "text/html": [
       "<strong>png:</strong> 2"
      ],
      "text/latex": [
       "\\textbf{png:} 2"
      ],
      "text/markdown": [
       "**png:** 2"
      ],
      "text/plain": [
       "png \n",
       "  2 "
      ]
     },
     "metadata": {},
     "output_type": "display_data"
    }
   ],
   "source": [
    "#Data Anaylsis for 13 explnatory variables with ggpairs\n",
    "options(repr.plot.width=14, repr.plot.height=14)\n",
    "par(mar = c(1,1,1,4), cex.axis = 1, cex.lab = .8) \n",
    "\n",
    "pdf(file = \"../../docs/manuscript/pdf-image/matrix-plot-explanatory-variables.pdf\"\n",
    "  ,\n",
    "  width     = 10,\n",
    "  height    = 10 )\n",
    "\n",
    "ggpairs(df, columns = 2:14, diag = list(continuous = \"barDiag\")) +\n",
    " theme(axis.text.x = element_text(size = 6, angle = 90)) + \n",
    " theme(strip.text.x = element_text(size = 7, angle = 45) , strip.text.y = element_text(size = 7, angle = 45)) \n",
    "dev.off()"
   ]
  }
 ],
 "metadata": {
  "kernelspec": {
   "display_name": "R",
   "language": "R",
   "name": "ir"
  },
  "language_info": {
   "codemirror_mode": "r",
   "file_extension": ".r",
   "mimetype": "text/x-r-source",
   "name": "R",
   "pygments_lexer": "r",
   "version": "4.1.2"
  }
 },
 "nbformat": 4,
 "nbformat_minor": 5
}
