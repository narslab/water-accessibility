{
 "cells": [
  {
   "cell_type": "code",
   "execution_count": 28,
   "metadata": {},
   "outputs": [],
   "source": [
    "library(readxl)\n",
    "library(ggplot2)\n",
    "library(writexl)\n",
    "library(dplyr)\n",
    "#install.packages(\"gridExtra\")\n",
    "library(gridExtra)\n",
    "library(ggrepel)"
   ]
  },
  {
   "cell_type": "code",
   "execution_count": 29,
   "metadata": {},
   "outputs": [
    {
     "data": {
      "text/html": [
       "<table class=\"dataframe\">\n",
       "<caption>A data.frame: 6 × 12</caption>\n",
       "<thead>\n",
       "\t<tr><th></th><th scope=col>Country</th><th scope=col>clusters</th><th scope=col>pcar</th><th scope=col>cgdp</th><th scope=col>popd</th><th scope=col>Far.away.Dugwell</th><th scope=col>Spring</th><th scope=col>Piped.to.homes</th><th scope=col>Piped.to.Yard.and.Tap</th><th scope=col>Package.Water</th><th scope=col>Near.by.Surface</th><th scope=col>Near.by.borehole</th></tr>\n",
       "\t<tr><th></th><th scope=col>&lt;chr&gt;</th><th scope=col>&lt;fct&gt;</th><th scope=col>&lt;dbl&gt;</th><th scope=col>&lt;dbl&gt;</th><th scope=col>&lt;dbl&gt;</th><th scope=col>&lt;dbl&gt;</th><th scope=col>&lt;dbl&gt;</th><th scope=col>&lt;dbl&gt;</th><th scope=col>&lt;dbl&gt;</th><th scope=col>&lt;dbl&gt;</th><th scope=col>&lt;dbl&gt;</th><th scope=col>&lt;dbl&gt;</th></tr>\n",
       "</thead>\n",
       "<tbody>\n",
       "\t<tr><th scope=row>1</th><td>Afghanistan</td><td>Off-premise</td><td>11.8</td><td> 18353881130</td><td>  56.93776</td><td>0.572418217</td><td>0.27948505</td><td>0.4740642</td><td>0.48905269</td><td>0.3327190</td><td>0.6406390</td><td>0.5244550</td></tr>\n",
       "\t<tr><th scope=row>2</th><td>Albania    </td><td>Market     </td><td>37.0</td><td> 15147020535</td><td> 104.61226</td><td>0.173347287</td><td>0.16631234</td><td>0.7812555</td><td>0.21604457</td><td>0.3179487</td><td>0.2668756</td><td>0.5813036</td></tr>\n",
       "\t<tr><th scope=row>3</th><td>Angola     </td><td>Off-premise</td><td>10.9</td><td>101353230785</td><td>  24.71305</td><td>0.555402896</td><td>0.26567935</td><td>0.6221088</td><td>0.51799504</td><td>0.4010244</td><td>0.8739405</td><td>0.4280040</td></tr>\n",
       "\t<tr><th scope=row>4</th><td>Armenia    </td><td>Piping     </td><td>39.2</td><td> 12457941907</td><td> 103.68022</td><td>0.006249719</td><td>0.01802207</td><td>0.9992766</td><td>0.05567089</td><td>0.0000000</td><td>0.1978413</td><td>0.5088645</td></tr>\n",
       "\t<tr><th scope=row>5</th><td>Azerbaijan </td><td>Piping     </td><td>20.4</td><td> 47112941176</td><td> 120.23432</td><td>0.172305543</td><td>0.17209406</td><td>0.6946237</td><td>0.41693952</td><td>0.2060016</td><td>0.4634648</td><td>0.4247652</td></tr>\n",
       "\t<tr><th scope=row>6</th><td>Bangladesh </td><td>Market     </td><td> 0.8</td><td>274039092455</td><td>1239.57931</td><td>0.116506831</td><td>0.08746231</td><td>0.0000000</td><td>0.29168400</td><td>0.1829046</td><td>0.1907371</td><td>0.5876124</td></tr>\n",
       "</tbody>\n",
       "</table>\n"
      ],
      "text/latex": [
       "A data.frame: 6 × 12\n",
       "\\begin{tabular}{r|llllllllllll}\n",
       "  & Country & clusters & pcar & cgdp & popd & Far.away.Dugwell & Spring & Piped.to.homes & Piped.to.Yard.and.Tap & Package.Water & Near.by.Surface & Near.by.borehole\\\\\n",
       "  & <chr> & <fct> & <dbl> & <dbl> & <dbl> & <dbl> & <dbl> & <dbl> & <dbl> & <dbl> & <dbl> & <dbl>\\\\\n",
       "\\hline\n",
       "\t1 & Afghanistan & Off-premise & 11.8 &  18353881130 &   56.93776 & 0.572418217 & 0.27948505 & 0.4740642 & 0.48905269 & 0.3327190 & 0.6406390 & 0.5244550\\\\\n",
       "\t2 & Albania     & Market      & 37.0 &  15147020535 &  104.61226 & 0.173347287 & 0.16631234 & 0.7812555 & 0.21604457 & 0.3179487 & 0.2668756 & 0.5813036\\\\\n",
       "\t3 & Angola      & Off-premise & 10.9 & 101353230785 &   24.71305 & 0.555402896 & 0.26567935 & 0.6221088 & 0.51799504 & 0.4010244 & 0.8739405 & 0.4280040\\\\\n",
       "\t4 & Armenia     & Piping      & 39.2 &  12457941907 &  103.68022 & 0.006249719 & 0.01802207 & 0.9992766 & 0.05567089 & 0.0000000 & 0.1978413 & 0.5088645\\\\\n",
       "\t5 & Azerbaijan  & Piping      & 20.4 &  47112941176 &  120.23432 & 0.172305543 & 0.17209406 & 0.6946237 & 0.41693952 & 0.2060016 & 0.4634648 & 0.4247652\\\\\n",
       "\t6 & Bangladesh  & Market      &  0.8 & 274039092455 & 1239.57931 & 0.116506831 & 0.08746231 & 0.0000000 & 0.29168400 & 0.1829046 & 0.1907371 & 0.5876124\\\\\n",
       "\\end{tabular}\n"
      ],
      "text/markdown": [
       "\n",
       "A data.frame: 6 × 12\n",
       "\n",
       "| <!--/--> | Country &lt;chr&gt; | clusters &lt;fct&gt; | pcar &lt;dbl&gt; | cgdp &lt;dbl&gt; | popd &lt;dbl&gt; | Far.away.Dugwell &lt;dbl&gt; | Spring &lt;dbl&gt; | Piped.to.homes &lt;dbl&gt; | Piped.to.Yard.and.Tap &lt;dbl&gt; | Package.Water &lt;dbl&gt; | Near.by.Surface &lt;dbl&gt; | Near.by.borehole &lt;dbl&gt; |\n",
       "|---|---|---|---|---|---|---|---|---|---|---|---|---|\n",
       "| 1 | Afghanistan | Off-premise | 11.8 |  18353881130 |   56.93776 | 0.572418217 | 0.27948505 | 0.4740642 | 0.48905269 | 0.3327190 | 0.6406390 | 0.5244550 |\n",
       "| 2 | Albania     | Market      | 37.0 |  15147020535 |  104.61226 | 0.173347287 | 0.16631234 | 0.7812555 | 0.21604457 | 0.3179487 | 0.2668756 | 0.5813036 |\n",
       "| 3 | Angola      | Off-premise | 10.9 | 101353230785 |   24.71305 | 0.555402896 | 0.26567935 | 0.6221088 | 0.51799504 | 0.4010244 | 0.8739405 | 0.4280040 |\n",
       "| 4 | Armenia     | Piping      | 39.2 |  12457941907 |  103.68022 | 0.006249719 | 0.01802207 | 0.9992766 | 0.05567089 | 0.0000000 | 0.1978413 | 0.5088645 |\n",
       "| 5 | Azerbaijan  | Piping      | 20.4 |  47112941176 |  120.23432 | 0.172305543 | 0.17209406 | 0.6946237 | 0.41693952 | 0.2060016 | 0.4634648 | 0.4247652 |\n",
       "| 6 | Bangladesh  | Market      |  0.8 | 274039092455 | 1239.57931 | 0.116506831 | 0.08746231 | 0.0000000 | 0.29168400 | 0.1829046 | 0.1907371 | 0.5876124 |\n",
       "\n"
      ],
      "text/plain": [
       "  Country     clusters    pcar cgdp         popd       Far.away.Dugwell\n",
       "1 Afghanistan Off-premise 11.8  18353881130   56.93776 0.572418217     \n",
       "2 Albania     Market      37.0  15147020535  104.61226 0.173347287     \n",
       "3 Angola      Off-premise 10.9 101353230785   24.71305 0.555402896     \n",
       "4 Armenia     Piping      39.2  12457941907  103.68022 0.006249719     \n",
       "5 Azerbaijan  Piping      20.4  47112941176  120.23432 0.172305543     \n",
       "6 Bangladesh  Market       0.8 274039092455 1239.57931 0.116506831     \n",
       "  Spring     Piped.to.homes Piped.to.Yard.and.Tap Package.Water Near.by.Surface\n",
       "1 0.27948505 0.4740642      0.48905269            0.3327190     0.6406390      \n",
       "2 0.16631234 0.7812555      0.21604457            0.3179487     0.2668756      \n",
       "3 0.26567935 0.6221088      0.51799504            0.4010244     0.8739405      \n",
       "4 0.01802207 0.9992766      0.05567089            0.0000000     0.1978413      \n",
       "5 0.17209406 0.6946237      0.41693952            0.2060016     0.4634648      \n",
       "6 0.08746231 0.0000000      0.29168400            0.1829046     0.1907371      \n",
       "  Near.by.borehole\n",
       "1 0.5244550       \n",
       "2 0.5813036       \n",
       "3 0.4280040       \n",
       "4 0.5088645       \n",
       "5 0.4247652       \n",
       "6 0.5876124       "
      ]
     },
     "metadata": {},
     "output_type": "display_data"
    }
   ],
   "source": [
    "df.class = read_excel(\"../../results/class.xlsx\" ,sheet=1 )\n",
    "df.scale = read_excel(\"../../results/class-scale.xlsx\" ,sheet=1 )\n",
    "df.wa = read_excel( \"../../results/df-water-access.xlsx\" ,sheet=1)\n",
    "df.fa <- read_excel(\"../../results/df-seven-scores.xlsx\",sheet=1)\n",
    "df.fa <- df.fa %>% \n",
    "  rename(\n",
    "      'Far.away.Dugwell' = ML1,\n",
    "      'Package.Water'= ML2,\n",
    "      'Piped.to.homes'= ML3,\n",
    "      'Near.by.borehole'= ML4,\n",
    "      'Piped.to.Yard.and.Tap' = ML5,\n",
    "      'Spring' = ML6,\n",
    "      'Near.by.Surface'= ML7\n",
    "     )\n",
    "df <- merge(x = df.class,\n",
    "              y = df.fa,\n",
    "              by = c(\"Country\"))\n",
    "df$clusters <- as.factor(df$clusters)\n",
    "\n",
    "df <- df[,c(1,8,5,9, 12, 16:22 )] # 3 important explnatory variables from classification decision tree\n",
    "head(df)\n"
   ]
  },
  {
   "cell_type": "markdown",
   "metadata": {},
   "source": [
    "# Scatter Analysis PCAR"
   ]
  },
  {
   "cell_type": "code",
   "execution_count": null,
   "metadata": {
    "scrolled": false
   },
   "outputs": [
    {
     "name": "stderr",
     "output_type": "stream",
     "text": [
      "Warning message:\n",
      "\"Duplicated aesthetics after name standardisation: size\"\n"
     ]
    }
   ],
   "source": [
    "spd <- ggplot(df, aes(x=pcar, y= Far.away.Dugwell, color=clusters)) +\n",
    "  geom_point() + \n",
    "  scale_color_manual(values=c('#377EB8','#E41A1C','#4DAF4A'))+ \n",
    "  labs(title=,\n",
    "       x=\"Private Car Ownership (Percent)\", y = \"Far-away Dugwell (scaled)\") +\n",
    "  geom_text_repel(\n",
    "   aes(label= Country), size = 3,\n",
    "force_pull   = 0, # do not pull toward data points\n",
    "  verbose = TRUE,\n",
    "  seed = 123,\n",
    "  max.time = 1000,\n",
    "  max.iter = Inf,\n",
    "      , max.overlaps = Inf)\n",
    "\n",
    "sps <- ggplot(df, aes(x=pcar, y= Spring, color=clusters)) +\n",
    "  geom_point() + \n",
    "  scale_color_manual(values=c('#377EB8','#E41A1C','#4DAF4A'))+ \n",
    "  labs(title=,\n",
    "       x=\"Private Car Ownership (Percent)\", y = \"Spring (scaled)\")  \n",
    "spp <- ggplot(df, aes(x=pcar, y= Piped.to.homes, color=clusters)) +\n",
    "  geom_point() + \n",
    "  scale_color_manual(values=c('#377EB8','#E41A1C','#4DAF4A'))+ \n",
    "  labs(title=,\n",
    "       x=\"Private Car Ownership (Percent)\", y = \"Piped to Dwelling Place (scaled)\")  \n",
    "spy <- ggplot(df, aes(x=pcar, y= Piped.to.Yard.and.Tap, color=clusters)) +\n",
    "  geom_point() + \n",
    "  scale_color_manual(values=c('#377EB8','#E41A1C','#4DAF4A'))+ \n",
    "  labs(title=,\n",
    "       x=\"Private Car Ownership (Percent)\", y = \"Piped to Yard and Tap (scaled)\")  \n",
    "sppw <- ggplot(df, aes(x=pcar, y= Package.Water, color=clusters)) +\n",
    "  geom_point() + \n",
    "  scale_color_manual(values=c('#377EB8','#E41A1C','#4DAF4A'))+ \n",
    "  labs(\n",
    "       x=\"Private Car Ownership (Aggregation)\", y = \"Package Water (scaled)\") \n",
    "spns <- ggplot(df, aes(x=pcar, y= Near.by.Surface, color=clusters)) +\n",
    "  geom_point() + \n",
    "  scale_color_manual(values=c('#377EB8','#E41A1C','#4DAF4A'))+ \n",
    "  labs(title=,\n",
    "       x=\"Private Car Ownership (Percent)\", y = \"Near-by Surface Water (scaled)\") \n",
    "spb <- ggplot(df, aes(x=pcar, y= Near.by.borehole, color=clusters)) +\n",
    "  geom_point() + \n",
    "  scale_color_manual(values=c('#377EB8','#E41A1C','#4DAF4A'))+ \n",
    "  labs(title=,\n",
    "       x=\"Private Car Ownership (Percent)\", y = \"Near-by Borehole (scaled)\") \n",
    "\n",
    "grid.arrange(spd,sps,spp,spy , ncol=2, nrow=2, widths=c(5, 5), heights=c(5, 5)) "
   ]
  },
  {
   "cell_type": "code",
   "execution_count": 55,
   "metadata": {},
   "outputs": [
    {
     "name": "stdout",
     "output_type": "stream",
     "text": [
      "1.00s elapsed for 2850 iterations, 197 overlaps. Consider increasing 'max.time'.\n"
     ]
    },
    {
     "data": {
      "text/html": [
       "<strong>png:</strong> 2"
      ],
      "text/latex": [
       "\\textbf{png:} 2"
      ],
      "text/markdown": [
       "**png:** 2"
      ],
      "text/plain": [
       "png \n",
       "  2 "
      ]
     },
     "metadata": {},
     "output_type": "display_data"
    },
    {
     "data": {
      "text/html": [
       "<strong>png:</strong> 2"
      ],
      "text/latex": [
       "\\textbf{png:} 2"
      ],
      "text/markdown": [
       "**png:** 2"
      ],
      "text/plain": [
       "png \n",
       "  2 "
      ]
     },
     "metadata": {},
     "output_type": "display_data"
    }
   ],
   "source": [
    " \n",
    "options(repr.plot.width=14, repr.plot.height=14)\n",
    "par(mar = c(1,1,1,1))\n",
    "par(cex=1.4)\n",
    "\n",
    "png(\n",
    "  \"scatter-pcar-1.png\",\n",
    "  width     = 10,\n",
    "  height    = 10,\n",
    "  units     = \"in\",\n",
    "  res       = 700,\n",
    "  #pointsize = 6\n",
    ")\n",
    "grid.arrange(spd,sps,spp,spy , ncol=2, nrow=2, widths=c(5, 5), heights=c(5, 5))  \n",
    "dev.off()\n",
    "\n",
    "\n",
    "\n",
    "png(\n",
    "  \"scatter-pcar-2.png\",\n",
    "  width     = 10,\n",
    "  height    = 10,\n",
    "  units     = \"in\",\n",
    "  res       = 700,\n",
    "  #pointsize = 6\n",
    ")\n",
    "grid.arrange(sppw,spns,spb,  ncol=2, nrow=2, widths=c(5, 5), heights=c(5, 5))  \n",
    "dev.off()"
   ]
  },
  {
   "cell_type": "markdown",
   "metadata": {},
   "source": [
    "# Scatter Analysis CGDP"
   ]
  },
  {
   "cell_type": "code",
   "execution_count": null,
   "metadata": {},
   "outputs": [],
   "source": [
    "spd <- ggplot(df, aes(x=log(cgdp), y= Far.away.Dugwell, color=clusters)) +\n",
    "  geom_point() + \n",
    "  scale_color_manual(values=c('#377EB8','#E41A1C','#4DAF4A'))+ \n",
    "  labs(title=,\n",
    "       x=\"GDP (current US $) \", y = \"Far-away Dugwell (scaled)\")\n",
    "#+ geom_text_repel(\n",
    "#    label= df$Country, \n",
    "#    nudge_x = 0.07, nudge_y = 0.07, \n",
    "#    check_overlap = FALSE, size = 3,\n",
    "#  angle = 45)\n",
    "sps <- ggplot(df, aes(x=log(cgdp), y= Spring, color=clusters)) +\n",
    "  geom_point() + \n",
    "  scale_color_manual(values=c('#377EB8','#E41A1C','#4DAF4A'))+ \n",
    "  labs(title=,\n",
    "       x=\"GDP (current US $) \", y = \"Spring (scaled)\")  \n",
    "spp <- ggplot(df, aes(x=log(cgdp), y= Piped.to.homes, color=clusters)) +\n",
    "  geom_point() + \n",
    "  scale_color_manual(values=c('#377EB8','#E41A1C','#4DAF4A'))+ \n",
    "  labs(title=,\n",
    "       x=\"GDP (current US $)\", y = \"Piped to Dwelling Place (scaled)\")  \n",
    "spy <- ggplot(df, aes(x=log(cgdp), y= Piped.to.Yard.and.Tap, color=clusters)) +\n",
    "  geom_point() + \n",
    "  scale_color_manual(values=c('#377EB8','#E41A1C','#4DAF4A'))+ \n",
    "  labs(title=,\n",
    "       x=\"GDP (current US $)\", y = \"Piped to Yard and Tap (scaled)\")  \n",
    "sppw <- ggplot(df, aes(x=log(cgdp), y= Package.Water, color=clusters)) +\n",
    "  geom_point() + \n",
    "  scale_color_manual(values=c('#377EB8','#E41A1C','#4DAF4A'))+ \n",
    "  labs(title=,\n",
    "       x=\"GDP (current US $)\", y = \"Package Water (scaled)\") \n",
    "spns <- ggplot(df, aes(x=log(cgdp), y= Near.by.Surface, color=clusters)) +\n",
    "  geom_point() + \n",
    "  scale_color_manual(values=c('#377EB8','#E41A1C','#4DAF4A'))+ \n",
    "  labs(title=,\n",
    "       x=\"GDP (current US $)\", y = \"Near-by Surface Water (scaled)\") \n",
    "spb <- ggplot(df, aes(x=log(cgdp), y= Near.by.borehole, color=clusters)) +\n",
    "  geom_point() + \n",
    "  scale_color_manual(values=c('#377EB8','#E41A1C','#4DAF4A'))+ \n",
    "  labs(title=,\n",
    "       x=\"GDP (current US $)\", y = \"Near-by Borehole (scaled)\") \n",
    "\n",
    "options(repr.plot.width=14, repr.plot.height=14)\n",
    "par(mar = c(1,1,1,1))\n",
    "par(cex=1.4)\n",
    "\n",
    "png(\n",
    "  \"scatter-cgdp-1.png\",\n",
    "  width     = 10,\n",
    "  height    = 10,\n",
    "  units     = \"in\",\n",
    "  res       = 700,\n",
    "  #pointsize = 6\n",
    ")\n",
    "grid.arrange(spd,sps,spp,spy , ncol=2, nrow=2, widths=c(5, 5), heights=c(5, 5))  \n",
    "dev.off()\n",
    "\n",
    "png(\n",
    "  \"scatter-cgdp-2.png\",\n",
    "  width     = 10,\n",
    "  height    = 10,\n",
    "  units     = \"in\",\n",
    "  res       = 700,\n",
    "  #pointsize = 6\n",
    ")\n",
    "grid.arrange(sppw,spns,spb,  ncol=2, nrow=2, widths=c(5, 5), heights=c(5, 5))  \n",
    "dev.off()"
   ]
  },
  {
   "cell_type": "markdown",
   "metadata": {},
   "source": [
    "# Scatter popd"
   ]
  },
  {
   "cell_type": "code",
   "execution_count": null,
   "metadata": {},
   "outputs": [],
   "source": [
    "spd <- ggplot(df, aes(x=popd, y= Far.away.Dugwell, color=clusters)) +\n",
    "  geom_point() + \n",
    "  scale_color_manual(values=c('#377EB8','#E41A1C','#4DAF4A'))+ \n",
    "  labs(title=,\n",
    "       x=\"Population Density (people per sq. km of land area)\", y = \"Far-away Dugwell (scaled)\")\n",
    "#+ geom_text_repel(\n",
    "#    label= df$Country, \n",
    "#    nudge_x = 0.07, nudge_y = 0.07, \n",
    "#    check_overlap = FALSE, size = 3,\n",
    "#  angle = 45)\n",
    "sps <- ggplot(df, aes(x=popd, y= Spring, color=clusters)) +\n",
    "  geom_point() + \n",
    "  scale_color_manual(values=c('#377EB8','#E41A1C','#4DAF4A'))+ \n",
    "  labs(title=,\n",
    "       x=\"Population Density (people per sq. km of land area)\", y = \"Spring (scaled)\")  \n",
    "spp <- ggplot(df, aes(x=cgdp, y= Piped.to.homes, color=clusters)) +\n",
    "  geom_point() + \n",
    "  scale_color_manual(values=c('#377EB8','#E41A1C','#4DAF4A'))+ \n",
    "  labs(title=,\n",
    "       x=\"Population Density (people per sq. km of land area)\", y = \"Piped to Dwelling Place (scaled)\")  \n",
    "spy <- ggplot(df, aes(x=popd, y= Piped.to.Yard.and.Tap, color=clusters)) +\n",
    "  geom_point() + \n",
    "  scale_color_manual(values=c('#377EB8','#E41A1C','#4DAF4A'))+ \n",
    "  labs(title=,\n",
    "       x=\"Population Density (people per sq. km of land area)\", y = \"Piped to Yard and Tap (scaled)\")  \n",
    "sppw <- ggplot(df, aes(x=popd, y= Package.Water, color=clusters)) +\n",
    "  geom_point() + \n",
    "  scale_color_manual(values=c('#377EB8','#E41A1C','#4DAF4A'))+ \n",
    "  labs(title=,\n",
    "       x=\"Population Density (people per sq. km of land area)\", y = \"Package Water (scaled)\") \n",
    "spns <- ggplot(df, aes(x=popd, y= Near.by.Surface, color=clusters)) +\n",
    "  geom_point() + \n",
    "  scale_color_manual(values=c('#377EB8','#E41A1C','#4DAF4A'))+ \n",
    "  labs(title=,\n",
    "       x=\"Population Density (people per sq. km of land area)\", y = \"Near-by Surface Water (scaled)\") \n",
    "spb <- ggplot(df, aes(x=popd, y= Near.by.borehole, color=clusters)) +\n",
    "  geom_point() + \n",
    "  scale_color_manual(values=c('#377EB8','#E41A1C','#4DAF4A'))+ \n",
    "  labs(title=,\n",
    "       x=\"Population Density (people per sq. km of land area)\", y = \"Near-by Borehole (scaled)\") \n",
    "\n",
    "options(repr.plot.width=14, repr.plot.height=14)\n",
    "par(mar = c(1,1,1,1))\n",
    "par(cex=1.4)\n",
    "\n",
    "png(\n",
    "  \"scatter-popd-1.png\",\n",
    "  width     = 10,\n",
    "  height    = 10,\n",
    "  units     = \"in\",\n",
    "  res       = 700,\n",
    "  #pointsize = 6\n",
    ")\n",
    "grid.arrange(spd,sps,spp,spy , ncol=2, nrow=2, widths=c(5, 5), heights=c(5, 5))  \n",
    "dev.off()\n",
    "\n",
    "png(\n",
    "  \"scatter-popd-2.png\",\n",
    "  width     = 10,\n",
    "  height    = 10,\n",
    "  units     = \"in\",\n",
    "  res       = 700,\n",
    "  #pointsize = 6\n",
    ")\n",
    "grid.arrange(sppw,spns,spb,  ncol=2, nrow=2, widths=c(5, 5), heights=c(5, 5))  \n",
    "dev.off()"
   ]
  },
  {
   "cell_type": "markdown",
   "metadata": {},
   "source": [
    "# unimproved or improved comparison"
   ]
  },
  {
   "cell_type": "code",
   "execution_count": null,
   "metadata": {
    "scrolled": false
   },
   "outputs": [],
   "source": [
    "df.pro = read_excel(\"../../results/dfsimple.xlsx\" ,sheet=1 )\n",
    "df.pro <- df.pro[,c(1,4,15)]\n",
    "df <- merge(x = df.class,\n",
    "              y = df.pro,\n",
    "              by = c(\"Country\"))\n",
    "df$clusters <- as.factor(df$clusters)\n",
    "df <- df[,c(1,8,5,6,9,13,12,16:17)]\n",
    "head(df)\n",
    "\n",
    "sp.pcar.imws <- ggplot(df, aes(x=pcar, y= imws, color=clusters)) +\n",
    "  geom_point() + \n",
    "  scale_color_manual(values=c('#377EB8','#E41A1C','#4DAF4A'))+ \n",
    "  labs(title=,\n",
    "       x=\"Private Car Ownership (Percent)\", y = \"Households using an improved water source (Percent)\")\n",
    "\n",
    "sp.cgdp.imws <- ggplot(df, aes(x=log(cgdp), y= imws, color=clusters)) +\n",
    "  geom_point() + \n",
    "  scale_color_manual(values=c('#377EB8','#E41A1C','#4DAF4A'))+ \n",
    "  labs(title=,\n",
    "       x=\"GDP (current US $)\", y = \"Households using an improved water source (Percent)\")\n",
    "\n",
    "sp.popd.imws <- ggplot(df, aes(x=popd, y= imws, color=clusters)) +\n",
    "  geom_point() + \n",
    "  scale_color_manual(values=c('#377EB8','#E41A1C','#4DAF4A'))+ \n",
    "  labs(title=,\n",
    "       x=\"Population Density (people per sq. km of land area)\", y = \"Households using an improved water source (Percent)\")\n",
    "sp.boat.imws <- ggplot(df, aes(x=boat, y= imws, color=clusters)) +\n",
    "  geom_point() + \n",
    "  scale_color_manual(values=c('#377EB8','#E41A1C','#4DAF4A'))+ \n",
    "  labs(title=,\n",
    "       x=\"Private Boat Ownership (Percent)\", y = \"Households using an improved water source (Percent)\")\n",
    "\n",
    "options(repr.plot.width=14, repr.plot.height=14)\n",
    "par(mar = c(1,1,1,1))\n",
    "par(cex=1.4)\n",
    "\n",
    "png(\n",
    "  \"scatter-improve-importance.png\",\n",
    "  width     = 10,\n",
    "  height    = 10,\n",
    "  units     = \"in\",\n",
    "  res       = 700,\n",
    "  #pointsize = 6\n",
    ")\n",
    "grid.arrange(sp.pcar.imws, sp.cgdp.imws ,sp.popd.imws,sp.boat.imws ,ncol=2, nrow=2, widths=c(5,5), heights=c(5,5))  \n",
    "dev.off()\n",
    "\n"
   ]
  },
  {
   "cell_type": "code",
   "execution_count": null,
   "metadata": {},
   "outputs": [],
   "source": []
  }
 ],
 "metadata": {
  "kernelspec": {
   "display_name": "R",
   "language": "R",
   "name": "ir"
  },
  "language_info": {
   "codemirror_mode": "r",
   "file_extension": ".r",
   "mimetype": "text/x-r-source",
   "name": "R",
   "pygments_lexer": "r",
   "version": "4.0.2"
  }
 },
 "nbformat": 4,
 "nbformat_minor": 4
}
