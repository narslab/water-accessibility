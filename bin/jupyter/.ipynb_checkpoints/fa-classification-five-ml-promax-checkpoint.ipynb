{
 "cells": [
  {
   "cell_type": "code",
   "execution_count": 19,
   "metadata": {},
   "outputs": [
    {
     "name": "stderr",
     "output_type": "stream",
     "text": [
      "Installing package into 'C:/Users/hichul/Documents/R/win-library/4.0'\n",
      "(as 'lib' is unspecified)\n",
      "\n"
     ]
    },
    {
     "name": "stdout",
     "output_type": "stream",
     "text": [
      "package 'scales' successfully unpacked and MD5 sums checked\n",
      "\n",
      "The downloaded binary packages are in\n",
      "\tC:\\Users\\hichul\\AppData\\Local\\Temp\\RtmpiuVOXP\\downloaded_packages\n"
     ]
    },
    {
     "name": "stderr",
     "output_type": "stream",
     "text": [
      "Warning message:\n",
      "\"package 'scales' was built under R version 4.0.4\"\n",
      "\n",
      "Attaching package: 'scales'\n",
      "\n",
      "\n",
      "The following object is masked from 'package:purrr':\n",
      "\n",
      "    discard\n",
      "\n",
      "\n",
      "The following object is masked from 'package:readr':\n",
      "\n",
      "    col_factor\n",
      "\n",
      "\n"
     ]
    }
   ],
   "source": [
    "#install.packages('randomForest')\n",
    "library(readxl)\n",
    "library(randomForest)\n",
    "library(readxl)\n",
    "library(tidyverse)\n",
    "#install.packages('dplyr')\n",
    "library(dplyr)\n",
    "#install.packages('caret')\n",
    "library(Rcpp)\n",
    "library(caret)\n",
    "library(rpart)\n",
    "#install.packages('tree')\n",
    "library(tree)\n",
    "#install.packages('multcomp')\n",
    "library(multcomp)\n",
    "#install.packages('party')\n",
    "library(party)\n",
    "library(tree)\n",
    "#install.packages('Metrics')\n",
    "library(Metrics)\n",
    "#install.packages('reprtree')\n",
    "#devtools::install_github(\"MI2DataLab/randomForestExplainer\")\n",
    "#install.packages('randomForestExplainer')\n",
    "library(randomForestExplainer)\n",
    "#install.packages(\"scales\")\n",
    "library(scales)\n"
   ]
  },
  {
   "cell_type": "markdown",
   "metadata": {},
   "source": [
    "# FA (weighted) Classifcation"
   ]
  },
  {
   "cell_type": "code",
   "execution_count": 90,
   "metadata": {},
   "outputs": [
    {
     "data": {
      "text/html": [
       "<table class=\"dataframe\">\n",
       "<caption>A data.frame: 6 × 21</caption>\n",
       "<thead>\n",
       "\t<tr><th></th><th scope=col>Country</th><th scope=col>bicy</th><th scope=col>cart</th><th scope=col>mcyc</th><th scope=col>pcar</th><th scope=col>boat</th><th scope=col>wigc</th><th scope=col>clusters</th><th scope=col>cgdp</th><th scope=col>tpop</th><th scope=col>...</th><th scope=col>popd</th><th scope=col>land</th><th scope=col>lita</th><th scope=col>lity</th><th scope=col>mori</th><th scope=col>rifr</th><th scope=col>cotw</th><th scope=col>moru</th><th scope=col>ppfg</th><th scope=col>prec</th></tr>\n",
       "\t<tr><th></th><th scope=col>&lt;chr&gt;</th><th scope=col>&lt;dbl&gt;</th><th scope=col>&lt;dbl&gt;</th><th scope=col>&lt;dbl&gt;</th><th scope=col>&lt;dbl&gt;</th><th scope=col>&lt;dbl&gt;</th><th scope=col>&lt;dbl&gt;</th><th scope=col>&lt;fct&gt;</th><th scope=col>&lt;dbl&gt;</th><th scope=col>&lt;dbl&gt;</th><th scope=col>...</th><th scope=col>&lt;dbl&gt;</th><th scope=col>&lt;dbl&gt;</th><th scope=col>&lt;dbl&gt;</th><th scope=col>&lt;dbl&gt;</th><th scope=col>&lt;dbl&gt;</th><th scope=col>&lt;dbl&gt;</th><th scope=col>&lt;dbl&gt;</th><th scope=col>&lt;dbl&gt;</th><th scope=col>&lt;dbl&gt;</th><th scope=col>&lt;dbl&gt;</th></tr>\n",
       "</thead>\n",
       "<tbody>\n",
       "\t<tr><th scope=row>1</th><td>Afghanistan</td><td>30.0</td><td>5.8</td><td>35.2</td><td>11.8</td><td>0.0</td><td>0.1</td><td>1</td><td> 18353881130</td><td> 37172386</td><td>...</td><td>  56.93776</td><td> 652860</td><td>43.01972</td><td>0.75933</td><td>62.5</td><td>1299.0269</td><td> 0.00000</td><td>13.9</td><td>0.70</td><td> 327</td></tr>\n",
       "\t<tr><th scope=row>2</th><td>Albania    </td><td>26.4</td><td>3.2</td><td> 9.6</td><td>37.0</td><td>0.7</td><td>0.1</td><td>2</td><td> 15147020535</td><td>  2866376</td><td>...</td><td> 104.61226</td><td>  27400</td><td>98.14115</td><td>1.00582</td><td> 9.5</td><td>9361.5460</td><td>59.95146</td><td> 0.2</td><td>1.36</td><td>1485</td></tr>\n",
       "\t<tr><th scope=row>3</th><td>Angola     </td><td> 4.6</td><td>1.3</td><td>17.8</td><td>10.9</td><td>0.4</td><td>0.3</td><td>1</td><td>101353230785</td><td> 30809762</td><td>...</td><td>  24.71305</td><td>1246700</td><td> 0.00000</td><td>0.00000</td><td>77.7</td><td>4963.6533</td><td>43.98964</td><td>48.8</td><td>0.97</td><td>1010</td></tr>\n",
       "\t<tr><th scope=row>4</th><td>Armenia    </td><td> 8.6</td><td>0.4</td><td> 0.2</td><td>39.2</td><td>0.3</td><td>0.1</td><td>2</td><td> 12457941907</td><td>  2951776</td><td>...</td><td> 103.68022</td><td>  28470</td><td> 0.00000</td><td>0.00000</td><td>12.4</td><td>2329.1833</td><td>27.77778</td><td> 0.2</td><td>0.77</td><td> 562</td></tr>\n",
       "\t<tr><th scope=row>5</th><td>Azerbaijan </td><td> 6.9</td><td>3.3</td><td> 1.1</td><td>20.4</td><td>0.1</td><td>0.0</td><td>3</td><td> 47112941176</td><td>  9939771</td><td>...</td><td> 120.23432</td><td>  82670</td><td> 0.00000</td><td>0.00000</td><td>21.6</td><td> 823.5207</td><td>24.48847</td><td> 1.1</td><td>0.56</td><td> 447</td></tr>\n",
       "\t<tr><th scope=row>6</th><td>Bangladesh </td><td>25.1</td><td>0.0</td><td> 6.4</td><td> 0.8</td><td>0.0</td><td>0.3</td><td>1</td><td>274039092455</td><td>161356039</td><td>...</td><td>1239.57931</td><td> 130170</td><td>73.91220</td><td>1.03276</td><td>32.3</td><td> 657.6039</td><td>14.19624</td><td>11.9</td><td>1.12</td><td>2666</td></tr>\n",
       "</tbody>\n",
       "</table>\n"
      ],
      "text/latex": [
       "A data.frame: 6 × 21\n",
       "\\begin{tabular}{r|lllllllllllllllllllll}\n",
       "  & Country & bicy & cart & mcyc & pcar & boat & wigc & clusters & cgdp & tpop & ... & popd & land & lita & lity & mori & rifr & cotw & moru & ppfg & prec\\\\\n",
       "  & <chr> & <dbl> & <dbl> & <dbl> & <dbl> & <dbl> & <dbl> & <fct> & <dbl> & <dbl> & ... & <dbl> & <dbl> & <dbl> & <dbl> & <dbl> & <dbl> & <dbl> & <dbl> & <dbl> & <dbl>\\\\\n",
       "\\hline\n",
       "\t1 & Afghanistan & 30.0 & 5.8 & 35.2 & 11.8 & 0.0 & 0.1 & 1 &  18353881130 &  37172386 & ... &   56.93776 &  652860 & 43.01972 & 0.75933 & 62.5 & 1299.0269 &  0.00000 & 13.9 & 0.70 &  327\\\\\n",
       "\t2 & Albania     & 26.4 & 3.2 &  9.6 & 37.0 & 0.7 & 0.1 & 2 &  15147020535 &   2866376 & ... &  104.61226 &   27400 & 98.14115 & 1.00582 &  9.5 & 9361.5460 & 59.95146 &  0.2 & 1.36 & 1485\\\\\n",
       "\t3 & Angola      &  4.6 & 1.3 & 17.8 & 10.9 & 0.4 & 0.3 & 1 & 101353230785 &  30809762 & ... &   24.71305 & 1246700 &  0.00000 & 0.00000 & 77.7 & 4963.6533 & 43.98964 & 48.8 & 0.97 & 1010\\\\\n",
       "\t4 & Armenia     &  8.6 & 0.4 &  0.2 & 39.2 & 0.3 & 0.1 & 2 &  12457941907 &   2951776 & ... &  103.68022 &   28470 &  0.00000 & 0.00000 & 12.4 & 2329.1833 & 27.77778 &  0.2 & 0.77 &  562\\\\\n",
       "\t5 & Azerbaijan  &  6.9 & 3.3 &  1.1 & 20.4 & 0.1 & 0.0 & 3 &  47112941176 &   9939771 & ... &  120.23432 &   82670 &  0.00000 & 0.00000 & 21.6 &  823.5207 & 24.48847 &  1.1 & 0.56 &  447\\\\\n",
       "\t6 & Bangladesh  & 25.1 & 0.0 &  6.4 &  0.8 & 0.0 & 0.3 & 1 & 274039092455 & 161356039 & ... & 1239.57931 &  130170 & 73.91220 & 1.03276 & 32.3 &  657.6039 & 14.19624 & 11.9 & 1.12 & 2666\\\\\n",
       "\\end{tabular}\n"
      ],
      "text/markdown": [
       "\n",
       "A data.frame: 6 × 21\n",
       "\n",
       "| <!--/--> | Country &lt;chr&gt; | bicy &lt;dbl&gt; | cart &lt;dbl&gt; | mcyc &lt;dbl&gt; | pcar &lt;dbl&gt; | boat &lt;dbl&gt; | wigc &lt;dbl&gt; | clusters &lt;fct&gt; | cgdp &lt;dbl&gt; | tpop &lt;dbl&gt; | ... ... | popd &lt;dbl&gt; | land &lt;dbl&gt; | lita &lt;dbl&gt; | lity &lt;dbl&gt; | mori &lt;dbl&gt; | rifr &lt;dbl&gt; | cotw &lt;dbl&gt; | moru &lt;dbl&gt; | ppfg &lt;dbl&gt; | prec &lt;dbl&gt; |\n",
       "|---|---|---|---|---|---|---|---|---|---|---|---|---|---|---|---|---|---|---|---|---|---|\n",
       "| 1 | Afghanistan | 30.0 | 5.8 | 35.2 | 11.8 | 0.0 | 0.1 | 1 |  18353881130 |  37172386 | ... |   56.93776 |  652860 | 43.01972 | 0.75933 | 62.5 | 1299.0269 |  0.00000 | 13.9 | 0.70 |  327 |\n",
       "| 2 | Albania     | 26.4 | 3.2 |  9.6 | 37.0 | 0.7 | 0.1 | 2 |  15147020535 |   2866376 | ... |  104.61226 |   27400 | 98.14115 | 1.00582 |  9.5 | 9361.5460 | 59.95146 |  0.2 | 1.36 | 1485 |\n",
       "| 3 | Angola      |  4.6 | 1.3 | 17.8 | 10.9 | 0.4 | 0.3 | 1 | 101353230785 |  30809762 | ... |   24.71305 | 1246700 |  0.00000 | 0.00000 | 77.7 | 4963.6533 | 43.98964 | 48.8 | 0.97 | 1010 |\n",
       "| 4 | Armenia     |  8.6 | 0.4 |  0.2 | 39.2 | 0.3 | 0.1 | 2 |  12457941907 |   2951776 | ... |  103.68022 |   28470 |  0.00000 | 0.00000 | 12.4 | 2329.1833 | 27.77778 |  0.2 | 0.77 |  562 |\n",
       "| 5 | Azerbaijan  |  6.9 | 3.3 |  1.1 | 20.4 | 0.1 | 0.0 | 3 |  47112941176 |   9939771 | ... |  120.23432 |   82670 |  0.00000 | 0.00000 | 21.6 |  823.5207 | 24.48847 |  1.1 | 0.56 |  447 |\n",
       "| 6 | Bangladesh  | 25.1 | 0.0 |  6.4 |  0.8 | 0.0 | 0.3 | 1 | 274039092455 | 161356039 | ... | 1239.57931 |  130170 | 73.91220 | 1.03276 | 32.3 |  657.6039 | 14.19624 | 11.9 | 1.12 | 2666 |\n",
       "\n"
      ],
      "text/plain": [
       "  Country     bicy cart mcyc pcar boat wigc clusters cgdp         tpop      ...\n",
       "1 Afghanistan 30.0 5.8  35.2 11.8 0.0  0.1  1         18353881130  37172386 ...\n",
       "2 Albania     26.4 3.2   9.6 37.0 0.7  0.1  2         15147020535   2866376 ...\n",
       "3 Angola       4.6 1.3  17.8 10.9 0.4  0.3  1        101353230785  30809762 ...\n",
       "4 Armenia      8.6 0.4   0.2 39.2 0.3  0.1  2         12457941907   2951776 ...\n",
       "5 Azerbaijan   6.9 3.3   1.1 20.4 0.1  0.0  3         47112941176   9939771 ...\n",
       "6 Bangladesh  25.1 0.0   6.4  0.8 0.0  0.3  1        274039092455 161356039 ...\n",
       "  popd       land    lita     lity    mori rifr      cotw     moru ppfg prec\n",
       "1   56.93776  652860 43.01972 0.75933 62.5 1299.0269  0.00000 13.9 0.70  327\n",
       "2  104.61226   27400 98.14115 1.00582  9.5 9361.5460 59.95146  0.2 1.36 1485\n",
       "3   24.71305 1246700  0.00000 0.00000 77.7 4963.6533 43.98964 48.8 0.97 1010\n",
       "4  103.68022   28470  0.00000 0.00000 12.4 2329.1833 27.77778  0.2 0.77  562\n",
       "5  120.23432   82670  0.00000 0.00000 21.6  823.5207 24.48847  1.1 0.56  447\n",
       "6 1239.57931  130170 73.91220 1.03276 32.3  657.6039 14.19624 11.9 1.12 2666"
      ]
     },
     "metadata": {},
     "output_type": "display_data"
    },
    {
     "data": {
      "text/html": [
       "<table class=\"dataframe\">\n",
       "<caption>A data.frame: 1 × 1</caption>\n",
       "<thead>\n",
       "\t<tr><th scope=col>n</th></tr>\n",
       "\t<tr><th scope=col>&lt;int&gt;</th></tr>\n",
       "</thead>\n",
       "<tbody>\n",
       "\t<tr><td>73</td></tr>\n",
       "</tbody>\n",
       "</table>\n"
      ],
      "text/latex": [
       "A data.frame: 1 × 1\n",
       "\\begin{tabular}{l}\n",
       " n\\\\\n",
       " <int>\\\\\n",
       "\\hline\n",
       "\t 73\\\\\n",
       "\\end{tabular}\n"
      ],
      "text/markdown": [
       "\n",
       "A data.frame: 1 × 1\n",
       "\n",
       "| n &lt;int&gt; |\n",
       "|---|\n",
       "| 73 |\n",
       "\n"
      ],
      "text/plain": [
       "  n \n",
       "1 73"
      ]
     },
     "metadata": {},
     "output_type": "display_data"
    },
    {
     "data": {
      "text/html": [
       "<table class=\"dataframe\">\n",
       "<caption>A data.frame: 6 × 6</caption>\n",
       "<thead>\n",
       "\t<tr><th></th><th scope=col>Country</th><th scope=col>bicy</th><th scope=col>cart</th><th scope=col>mcyc</th><th scope=col>pcar</th><th scope=col>boat</th></tr>\n",
       "\t<tr><th></th><th scope=col>&lt;chr&gt;</th><th scope=col>&lt;dbl&gt;</th><th scope=col>&lt;dbl&gt;</th><th scope=col>&lt;dbl&gt;</th><th scope=col>&lt;dbl&gt;</th><th scope=col>&lt;dbl&gt;</th></tr>\n",
       "</thead>\n",
       "<tbody>\n",
       "\t<tr><th scope=row>1</th><td>Afghanistan</td><td>30.0</td><td>5.8</td><td>35.2</td><td>11.8</td><td>0.0</td></tr>\n",
       "\t<tr><th scope=row>2</th><td>Albania    </td><td>26.4</td><td>3.2</td><td> 9.6</td><td>37.0</td><td>0.7</td></tr>\n",
       "\t<tr><th scope=row>3</th><td>Angola     </td><td> 4.6</td><td>1.3</td><td>17.8</td><td>10.9</td><td>0.4</td></tr>\n",
       "\t<tr><th scope=row>4</th><td>Armenia    </td><td> 8.6</td><td>0.4</td><td> 0.2</td><td>39.2</td><td>0.3</td></tr>\n",
       "\t<tr><th scope=row>5</th><td>Azerbaijan </td><td> 6.9</td><td>3.3</td><td> 1.1</td><td>20.4</td><td>0.1</td></tr>\n",
       "\t<tr><th scope=row>6</th><td>Bangladesh </td><td>25.1</td><td>0.0</td><td> 6.4</td><td> 0.8</td><td>0.0</td></tr>\n",
       "</tbody>\n",
       "</table>\n"
      ],
      "text/latex": [
       "A data.frame: 6 × 6\n",
       "\\begin{tabular}{r|llllll}\n",
       "  & Country & bicy & cart & mcyc & pcar & boat\\\\\n",
       "  & <chr> & <dbl> & <dbl> & <dbl> & <dbl> & <dbl>\\\\\n",
       "\\hline\n",
       "\t1 & Afghanistan & 30.0 & 5.8 & 35.2 & 11.8 & 0.0\\\\\n",
       "\t2 & Albania     & 26.4 & 3.2 &  9.6 & 37.0 & 0.7\\\\\n",
       "\t3 & Angola      &  4.6 & 1.3 & 17.8 & 10.9 & 0.4\\\\\n",
       "\t4 & Armenia     &  8.6 & 0.4 &  0.2 & 39.2 & 0.3\\\\\n",
       "\t5 & Azerbaijan  &  6.9 & 3.3 &  1.1 & 20.4 & 0.1\\\\\n",
       "\t6 & Bangladesh  & 25.1 & 0.0 &  6.4 &  0.8 & 0.0\\\\\n",
       "\\end{tabular}\n"
      ],
      "text/markdown": [
       "\n",
       "A data.frame: 6 × 6\n",
       "\n",
       "| <!--/--> | Country &lt;chr&gt; | bicy &lt;dbl&gt; | cart &lt;dbl&gt; | mcyc &lt;dbl&gt; | pcar &lt;dbl&gt; | boat &lt;dbl&gt; |\n",
       "|---|---|---|---|---|---|---|\n",
       "| 1 | Afghanistan | 30.0 | 5.8 | 35.2 | 11.8 | 0.0 |\n",
       "| 2 | Albania     | 26.4 | 3.2 |  9.6 | 37.0 | 0.7 |\n",
       "| 3 | Angola      |  4.6 | 1.3 | 17.8 | 10.9 | 0.4 |\n",
       "| 4 | Armenia     |  8.6 | 0.4 |  0.2 | 39.2 | 0.3 |\n",
       "| 5 | Azerbaijan  |  6.9 | 3.3 |  1.1 | 20.4 | 0.1 |\n",
       "| 6 | Bangladesh  | 25.1 | 0.0 |  6.4 |  0.8 | 0.0 |\n",
       "\n"
      ],
      "text/plain": [
       "  Country     bicy cart mcyc pcar boat\n",
       "1 Afghanistan 30.0 5.8  35.2 11.8 0.0 \n",
       "2 Albania     26.4 3.2   9.6 37.0 0.7 \n",
       "3 Angola       4.6 1.3  17.8 10.9 0.4 \n",
       "4 Armenia      8.6 0.4   0.2 39.2 0.3 \n",
       "5 Azerbaijan   6.9 3.3   1.1 20.4 0.1 \n",
       "6 Bangladesh  25.1 0.0   6.4  0.8 0.0 "
      ]
     },
     "metadata": {},
     "output_type": "display_data"
    },
    {
     "data": {
      "image/png": "[encoded data removed]",
      "text/plain": [
       "Plot with title \"Histogram of df$cart\""
      ]
     },
     "metadata": {
      "image/png": {
       "height": 420,
       "width": 420
      }
     },
     "output_type": "display_data"
    }
   ],
   "source": [
    "df.wa = read_excel( \"../../results/df-water-access.xlsx\" ,sheet=1)\n",
    "df.exp =read_excel(\"../../results/df-water-explore.xlsx\" ,sheet=1)\n",
    "df.cluster = read_excel(\"../../results/df-fa-five-cluster-rank.xlsx\" ,sheet=1)\n",
    "df.wb = read_excel(\"../../results/df-wb.xlsx\" ,sheet=1 )\n",
    "df.exp$clusters <- as.factor(df.cluster$clusters)\n",
    "df <- merge(x = df.exp,\n",
    "              y = df.wb,\n",
    "              by = c(\"Country\"))\n",
    "\n",
    "head(df)\n",
    "count(df)\n",
    "df <- df[, c(1:13, 17,21)]\n",
    "\n",
    "# ReScaling in 0 to 1 for all the necessary data\n",
    "#df.scale = as.data.frame(apply(as.matrix(df[, c(2:7, 9:15)]), 2, rescale))\n",
    "#df <- cbind(df,df.scale)\n",
    "#df <- df[,c(1,8,16:28)]\n",
    "#head(df)\n",
    "\n",
    "df.a <- df[, c(1:6)]\n",
    "head(df.a)\n",
    "\n",
    "hist(df$cart)"
   ]
  },
  {
   "cell_type": "markdown",
   "metadata": {},
   "source": [
    "# Tree"
   ]
  },
  {
   "cell_type": "code",
   "execution_count": 91,
   "metadata": {},
   "outputs": [
    {
     "data": {
      "text/plain": [
       "\n",
       "Classification tree:\n",
       "tree(formula = clusters ~ . - Country, data = df)\n",
       "Variables actually used in tree construction:\n",
       "[1] \"pcar\" \"boat\" \"cgdp\" \"cart\" \"mcyc\" \"popd\" \"upop\"\n",
       "Number of terminal nodes:  9 \n",
       "Residual mean deviance:  0.8571 = 54.85 / 64 \n",
       "Misclassification error rate: 0.1781 = 13 / 73 "
      ]
     },
     "metadata": {},
     "output_type": "display_data"
    },
    {
     "data": {
      "text/plain": [
       "node), split, n, deviance, yval, (yprob)\n",
       "      * denotes terminal node\n",
       "\n",
       " 1) root 73 171.400 1 ( 0.54795 0.15068 0.19178 0.10959 )  \n",
       "   2) pcar < 12.4 49  68.590 1 ( 0.79592 0.04082 0.12245 0.04082 )  \n",
       "     4) boat < 0.95 42  37.390 1 ( 0.88095 0.04762 0.07143 0.00000 )  \n",
       "       8) cgdp < 1.61699e+011 36  20.650 1 ( 0.91667 0.00000 0.08333 0.00000 )  \n",
       "        16) pcar < 4.6 19   0.000 1 ( 1.00000 0.00000 0.00000 0.00000 ) *\n",
       "        17) pcar > 4.6 17  15.840 1 ( 0.82353 0.00000 0.17647 0.00000 )  \n",
       "          34) cart < 2.45 9  11.460 1 ( 0.66667 0.00000 0.33333 0.00000 ) *\n",
       "          35) cart > 2.45 8   0.000 1 ( 1.00000 0.00000 0.00000 0.00000 ) *\n",
       "       9) cgdp > 1.61699e+011 6   7.638 1 ( 0.66667 0.33333 0.00000 0.00000 ) *\n",
       "     5) boat > 0.95 7  15.110 3 ( 0.28571 0.00000 0.42857 0.28571 ) *\n",
       "   3) pcar > 12.4 24  58.220 2 ( 0.04167 0.37500 0.33333 0.25000 )  \n",
       "     6) mcyc < 6.6 11  18.920 3 ( 0.09091 0.27273 0.63636 0.00000 )  \n",
       "      12) popd < 65.8152 6   0.000 3 ( 0.00000 0.00000 1.00000 0.00000 ) *\n",
       "      13) popd > 65.8152 5   9.503 2 ( 0.20000 0.60000 0.20000 0.00000 ) *\n",
       "     7) mcyc > 6.6 13  23.690 4 ( 0.00000 0.46154 0.07692 0.46154 )  \n",
       "      14) upop < 56.2105 6   5.407 4 ( 0.00000 0.00000 0.16667 0.83333 ) *\n",
       "      15) upop > 56.2105 7   5.742 2 ( 0.00000 0.85714 0.00000 0.14286 ) *"
      ]
     },
     "metadata": {},
     "output_type": "display_data"
    },
    {
     "data": {
      "image/png": "[encoded data removed]",
      "text/plain": [
       "plot without title"
      ]
     },
     "metadata": {
      "image/png": {
       "height": 420,
       "width": 420
      }
     },
     "output_type": "display_data"
    }
   ],
   "source": [
    "tree.wa = tree(clusters ~ . - Country  , data = df)\n",
    "summary(tree.wa) \n",
    "plot(tree.wa)\n",
    "text(tree.wa, pretty = 0) #population density High density for six cluster group.\n",
    "tree.wa"
   ]
  },
  {
   "cell_type": "markdown",
   "metadata": {},
   "source": [
    "# Random Forest"
   ]
  },
  {
   "cell_type": "code",
   "execution_count": 92,
   "metadata": {
    "scrolled": false
   },
   "outputs": [
    {
     "name": "stdout",
     "output_type": "stream",
     "text": [
      "\n",
      "Call:\n",
      " randomForest(formula = clusters ~ . - Country, data = df, ntree = 200,      mtry = 13) \n",
      "               Type of random forest: classification\n",
      "                     Number of trees: 200\n",
      "No. of variables tried at each split: 13\n",
      "\n",
      "        OOB estimate of  error rate: 32.88%\n",
      "Confusion matrix:\n",
      "   1 2 3 4 class.error\n",
      "1 38 0 2 0   0.0500000\n",
      "2  2 6 1 2   0.4545455\n",
      "3  6 3 4 1   0.7142857\n",
      "4  1 2 4 1   0.8750000\n"
     ]
    },
    {
     "data": {
      "text/plain": [
       "                Length Class  Mode     \n",
       "call               5   -none- call     \n",
       "type               1   -none- character\n",
       "predicted         73   factor numeric  \n",
       "err.rate        1000   -none- numeric  \n",
       "confusion         20   -none- numeric  \n",
       "votes            292   matrix numeric  \n",
       "oob.times         73   -none- numeric  \n",
       "classes            4   -none- character\n",
       "importance        13   -none- numeric  \n",
       "importanceSD       0   -none- NULL     \n",
       "localImportance    0   -none- NULL     \n",
       "proximity          0   -none- NULL     \n",
       "ntree              1   -none- numeric  \n",
       "mtry               1   -none- numeric  \n",
       "forest            14   -none- list     \n",
       "y                 73   factor numeric  \n",
       "test               0   -none- NULL     \n",
       "inbag              0   -none- NULL     \n",
       "terms              3   terms  call     "
      ]
     },
     "metadata": {},
     "output_type": "display_data"
    },
    {
     "data": {
      "text/html": [
       "<table class=\"dataframe\">\n",
       "<caption>A matrix: 13 × 1 of type dbl</caption>\n",
       "<thead>\n",
       "\t<tr><th></th><th scope=col>MeanDecreaseGini</th></tr>\n",
       "</thead>\n",
       "<tbody>\n",
       "\t<tr><th scope=row>bicy</th><td> 0.9736532</td></tr>\n",
       "\t<tr><th scope=row>cart</th><td> 1.3163721</td></tr>\n",
       "\t<tr><th scope=row>mcyc</th><td> 4.9960516</td></tr>\n",
       "\t<tr><th scope=row>pcar</th><td>14.7920207</td></tr>\n",
       "\t<tr><th scope=row>boat</th><td> 4.5727085</td></tr>\n",
       "\t<tr><th scope=row>wigc</th><td> 0.9784745</td></tr>\n",
       "\t<tr><th scope=row>cgdp</th><td> 1.6782250</td></tr>\n",
       "\t<tr><th scope=row>tpop</th><td> 1.1452035</td></tr>\n",
       "\t<tr><th scope=row>upop</th><td> 3.3119755</td></tr>\n",
       "\t<tr><th scope=row>popd</th><td> 4.2452015</td></tr>\n",
       "\t<tr><th scope=row>land</th><td> 1.6407107</td></tr>\n",
       "\t<tr><th scope=row>rifr</th><td> 3.0348160</td></tr>\n",
       "\t<tr><th scope=row>prec</th><td> 2.7841763</td></tr>\n",
       "</tbody>\n",
       "</table>\n"
      ],
      "text/latex": [
       "A matrix: 13 × 1 of type dbl\n",
       "\\begin{tabular}{r|l}\n",
       "  & MeanDecreaseGini\\\\\n",
       "\\hline\n",
       "\tbicy &  0.9736532\\\\\n",
       "\tcart &  1.3163721\\\\\n",
       "\tmcyc &  4.9960516\\\\\n",
       "\tpcar & 14.7920207\\\\\n",
       "\tboat &  4.5727085\\\\\n",
       "\twigc &  0.9784745\\\\\n",
       "\tcgdp &  1.6782250\\\\\n",
       "\ttpop &  1.1452035\\\\\n",
       "\tupop &  3.3119755\\\\\n",
       "\tpopd &  4.2452015\\\\\n",
       "\tland &  1.6407107\\\\\n",
       "\trifr &  3.0348160\\\\\n",
       "\tprec &  2.7841763\\\\\n",
       "\\end{tabular}\n"
      ],
      "text/markdown": [
       "\n",
       "A matrix: 13 × 1 of type dbl\n",
       "\n",
       "| <!--/--> | MeanDecreaseGini |\n",
       "|---|---|\n",
       "| bicy |  0.9736532 |\n",
       "| cart |  1.3163721 |\n",
       "| mcyc |  4.9960516 |\n",
       "| pcar | 14.7920207 |\n",
       "| boat |  4.5727085 |\n",
       "| wigc |  0.9784745 |\n",
       "| cgdp |  1.6782250 |\n",
       "| tpop |  1.1452035 |\n",
       "| upop |  3.3119755 |\n",
       "| popd |  4.2452015 |\n",
       "| land |  1.6407107 |\n",
       "| rifr |  3.0348160 |\n",
       "| prec |  2.7841763 |\n",
       "\n"
      ],
      "text/plain": [
       "     MeanDecreaseGini\n",
       "bicy  0.9736532      \n",
       "cart  1.3163721      \n",
       "mcyc  4.9960516      \n",
       "pcar 14.7920207      \n",
       "boat  4.5727085      \n",
       "wigc  0.9784745      \n",
       "cgdp  1.6782250      \n",
       "tpop  1.1452035      \n",
       "upop  3.3119755      \n",
       "popd  4.2452015      \n",
       "land  1.6407107      \n",
       "rifr  3.0348160      \n",
       "prec  2.7841763      "
      ]
     },
     "metadata": {},
     "output_type": "display_data"
    },
    {
     "data": {
      "image/png": "[encoded data removed]",
      "text/plain": [
       "Plot with title \"rf.water\""
      ]
     },
     "metadata": {
      "image/png": {
       "height": 420,
       "width": 420
      }
     },
     "output_type": "display_data"
    },
    {
     "data": {
      "image/png": "[encoded data removed]"
     },
     "metadata": {
      "image/png": {
       "height": 420,
       "width": 420
      }
     },
     "output_type": "display_data"
    }
   ],
   "source": [
    "rf.water = randomForest(clusters~. -Country, data = df , ntree= 200,mtry=13)\n",
    "print(rf.water)\n",
    "\n",
    "summary(rf.water)\n",
    "\n",
    "importance <- importance(rf.water, sort = TRUE)\n",
    "importance\n",
    "\n",
    "# create an importance plot\n",
    "varImpPlot(rf.water, sort=TRUE, n.var=min(30, nrow(rf.water$importance)),\n",
    "           type=NULL, class=NULL, scale=TRUE )\n",
    "#plot\n",
    "plot(randomForest(clusters~. -Country, data = df ,ntree=200,  keep.forest=FALSE, mtry=13) )"
   ]
  },
  {
   "cell_type": "markdown",
   "metadata": {},
   "source": [
    "The MeanDecreaseGini measures the Gini importance = how important the features are over all splits done in the tree/forest - whereas for each individual split the Gini importance indicates how much the Gini criterion = \"unequality/heterogeneity\" was reduced using this split.\n",
    "mori, upop, pcar popd, mcyc important and contributed most to obtaining such splits, so they are considered more important."
   ]
  }
 ],
 "metadata": {
  "kernelspec": {
   "display_name": "R",
   "language": "R",
   "name": "ir"
  },
  "language_info": {
   "codemirror_mode": "r",
   "file_extension": ".r",
   "mimetype": "text/x-r-source",
   "name": "R",
   "pygments_lexer": "r",
   "version": "4.0.2"
  }
 },
 "nbformat": 4,
 "nbformat_minor": 4
}
