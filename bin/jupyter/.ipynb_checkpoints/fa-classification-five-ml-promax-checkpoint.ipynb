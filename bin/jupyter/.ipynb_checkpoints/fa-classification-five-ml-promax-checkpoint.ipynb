{
 "cells": [
  {
   "cell_type": "code",
   "execution_count": 19,
   "metadata": {},
   "outputs": [
    {
     "name": "stderr",
     "output_type": "stream",
     "text": [
      "Installing package into 'C:/Users/hichul/Documents/R/win-library/4.0'\n",
      "(as 'lib' is unspecified)\n",
      "\n"
     ]
    },
    {
     "name": "stdout",
     "output_type": "stream",
     "text": [
      "package 'scales' successfully unpacked and MD5 sums checked\n",
      "\n",
      "The downloaded binary packages are in\n",
      "\tC:\\Users\\hichul\\AppData\\Local\\Temp\\RtmpiuVOXP\\downloaded_packages\n"
     ]
    },
    {
     "name": "stderr",
     "output_type": "stream",
     "text": [
      "Warning message:\n",
      "\"package 'scales' was built under R version 4.0.4\"\n",
      "\n",
      "Attaching package: 'scales'\n",
      "\n",
      "\n",
      "The following object is masked from 'package:purrr':\n",
      "\n",
      "    discard\n",
      "\n",
      "\n",
      "The following object is masked from 'package:readr':\n",
      "\n",
      "    col_factor\n",
      "\n",
      "\n"
     ]
    }
   ],
   "source": [
    "#install.packages('randomForest')\n",
    "library(readxl)\n",
    "library(randomForest)\n",
    "library(readxl)\n",
    "library(tidyverse)\n",
    "#install.packages('dplyr')\n",
    "library(dplyr)\n",
    "#install.packages('caret')\n",
    "library(Rcpp)\n",
    "library(caret)\n",
    "library(rpart)\n",
    "#install.packages('tree')\n",
    "library(tree)\n",
    "#install.packages('multcomp')\n",
    "library(multcomp)\n",
    "#install.packages('party')\n",
    "library(party)\n",
    "library(tree)\n",
    "#install.packages('Metrics')\n",
    "library(Metrics)\n",
    "#install.packages('reprtree')\n",
    "#devtools::install_github(\"MI2DataLab/randomForestExplainer\")\n",
    "#install.packages('randomForestExplainer')\n",
    "library(randomForestExplainer)\n",
    "#install.packages(\"scales\")\n",
    "library(scales)\n"
   ]
  },
  {
   "cell_type": "markdown",
   "metadata": {},
   "source": [
    "# FA (weighted) Classifcation"
   ]
  },
  {
   "cell_type": "code",
   "execution_count": 70,
   "metadata": {},
   "outputs": [
    {
     "data": {
      "text/html": [
       "<table class=\"dataframe\">\n",
       "<caption>A data.frame: 6 × 21</caption>\n",
       "<thead>\n",
       "\t<tr><th></th><th scope=col>Country</th><th scope=col>bicy</th><th scope=col>cart</th><th scope=col>mcyc</th><th scope=col>pcar</th><th scope=col>boat</th><th scope=col>wigc</th><th scope=col>clusters</th><th scope=col>cgdp</th><th scope=col>tpop</th><th scope=col>...</th><th scope=col>popd</th><th scope=col>land</th><th scope=col>lita</th><th scope=col>lity</th><th scope=col>mori</th><th scope=col>rifr</th><th scope=col>cotw</th><th scope=col>moru</th><th scope=col>ppfg</th><th scope=col>prec</th></tr>\n",
       "\t<tr><th></th><th scope=col>&lt;chr&gt;</th><th scope=col>&lt;dbl&gt;</th><th scope=col>&lt;dbl&gt;</th><th scope=col>&lt;dbl&gt;</th><th scope=col>&lt;dbl&gt;</th><th scope=col>&lt;dbl&gt;</th><th scope=col>&lt;dbl&gt;</th><th scope=col>&lt;fct&gt;</th><th scope=col>&lt;dbl&gt;</th><th scope=col>&lt;dbl&gt;</th><th scope=col>...</th><th scope=col>&lt;dbl&gt;</th><th scope=col>&lt;dbl&gt;</th><th scope=col>&lt;dbl&gt;</th><th scope=col>&lt;dbl&gt;</th><th scope=col>&lt;dbl&gt;</th><th scope=col>&lt;dbl&gt;</th><th scope=col>&lt;dbl&gt;</th><th scope=col>&lt;dbl&gt;</th><th scope=col>&lt;dbl&gt;</th><th scope=col>&lt;dbl&gt;</th></tr>\n",
       "</thead>\n",
       "<tbody>\n",
       "\t<tr><th scope=row>1</th><td>Afghanistan</td><td>30.0</td><td>5.8</td><td>35.2</td><td>11.8</td><td>0.0</td><td>0.1</td><td>1</td><td> 18353881130</td><td> 37172386</td><td>...</td><td>  56.93776</td><td> 652860</td><td>43.01972</td><td>0.75933</td><td>62.5</td><td>1299.0269</td><td> 0.00000</td><td>13.9</td><td>0.70</td><td> 327</td></tr>\n",
       "\t<tr><th scope=row>2</th><td>Albania    </td><td>26.4</td><td>3.2</td><td> 9.6</td><td>37.0</td><td>0.7</td><td>0.1</td><td>2</td><td> 15147020535</td><td>  2866376</td><td>...</td><td> 104.61226</td><td>  27400</td><td>98.14115</td><td>1.00582</td><td> 9.5</td><td>9361.5460</td><td>59.95146</td><td> 0.2</td><td>1.36</td><td>1485</td></tr>\n",
       "\t<tr><th scope=row>3</th><td>Angola     </td><td> 4.6</td><td>1.3</td><td>17.8</td><td>10.9</td><td>0.4</td><td>0.3</td><td>1</td><td>101353230785</td><td> 30809762</td><td>...</td><td>  24.71305</td><td>1246700</td><td> 0.00000</td><td>0.00000</td><td>77.7</td><td>4963.6533</td><td>43.98964</td><td>48.8</td><td>0.97</td><td>1010</td></tr>\n",
       "\t<tr><th scope=row>4</th><td>Armenia    </td><td> 8.6</td><td>0.4</td><td> 0.2</td><td>39.2</td><td>0.3</td><td>0.1</td><td>2</td><td> 12457941907</td><td>  2951776</td><td>...</td><td> 103.68022</td><td>  28470</td><td> 0.00000</td><td>0.00000</td><td>12.4</td><td>2329.1833</td><td>27.77778</td><td> 0.2</td><td>0.77</td><td> 562</td></tr>\n",
       "\t<tr><th scope=row>5</th><td>Azerbaijan </td><td> 6.9</td><td>3.3</td><td> 1.1</td><td>20.4</td><td>0.1</td><td>0.0</td><td>3</td><td> 47112941176</td><td>  9939771</td><td>...</td><td> 120.23432</td><td>  82670</td><td> 0.00000</td><td>0.00000</td><td>21.6</td><td> 823.5207</td><td>24.48847</td><td> 1.1</td><td>0.56</td><td> 447</td></tr>\n",
       "\t<tr><th scope=row>6</th><td>Bangladesh </td><td>25.1</td><td>0.0</td><td> 6.4</td><td> 0.8</td><td>0.0</td><td>0.3</td><td>1</td><td>274039092455</td><td>161356039</td><td>...</td><td>1239.57931</td><td> 130170</td><td>73.91220</td><td>1.03276</td><td>32.3</td><td> 657.6039</td><td>14.19624</td><td>11.9</td><td>1.12</td><td>2666</td></tr>\n",
       "</tbody>\n",
       "</table>\n"
      ],
      "text/latex": [
       "A data.frame: 6 × 21\n",
       "\\begin{tabular}{r|lllllllllllllllllllll}\n",
       "  & Country & bicy & cart & mcyc & pcar & boat & wigc & clusters & cgdp & tpop & ... & popd & land & lita & lity & mori & rifr & cotw & moru & ppfg & prec\\\\\n",
       "  & <chr> & <dbl> & <dbl> & <dbl> & <dbl> & <dbl> & <dbl> & <fct> & <dbl> & <dbl> & ... & <dbl> & <dbl> & <dbl> & <dbl> & <dbl> & <dbl> & <dbl> & <dbl> & <dbl> & <dbl>\\\\\n",
       "\\hline\n",
       "\t1 & Afghanistan & 30.0 & 5.8 & 35.2 & 11.8 & 0.0 & 0.1 & 1 &  18353881130 &  37172386 & ... &   56.93776 &  652860 & 43.01972 & 0.75933 & 62.5 & 1299.0269 &  0.00000 & 13.9 & 0.70 &  327\\\\\n",
       "\t2 & Albania     & 26.4 & 3.2 &  9.6 & 37.0 & 0.7 & 0.1 & 2 &  15147020535 &   2866376 & ... &  104.61226 &   27400 & 98.14115 & 1.00582 &  9.5 & 9361.5460 & 59.95146 &  0.2 & 1.36 & 1485\\\\\n",
       "\t3 & Angola      &  4.6 & 1.3 & 17.8 & 10.9 & 0.4 & 0.3 & 1 & 101353230785 &  30809762 & ... &   24.71305 & 1246700 &  0.00000 & 0.00000 & 77.7 & 4963.6533 & 43.98964 & 48.8 & 0.97 & 1010\\\\\n",
       "\t4 & Armenia     &  8.6 & 0.4 &  0.2 & 39.2 & 0.3 & 0.1 & 2 &  12457941907 &   2951776 & ... &  103.68022 &   28470 &  0.00000 & 0.00000 & 12.4 & 2329.1833 & 27.77778 &  0.2 & 0.77 &  562\\\\\n",
       "\t5 & Azerbaijan  &  6.9 & 3.3 &  1.1 & 20.4 & 0.1 & 0.0 & 3 &  47112941176 &   9939771 & ... &  120.23432 &   82670 &  0.00000 & 0.00000 & 21.6 &  823.5207 & 24.48847 &  1.1 & 0.56 &  447\\\\\n",
       "\t6 & Bangladesh  & 25.1 & 0.0 &  6.4 &  0.8 & 0.0 & 0.3 & 1 & 274039092455 & 161356039 & ... & 1239.57931 &  130170 & 73.91220 & 1.03276 & 32.3 &  657.6039 & 14.19624 & 11.9 & 1.12 & 2666\\\\\n",
       "\\end{tabular}\n"
      ],
      "text/markdown": [
       "\n",
       "A data.frame: 6 × 21\n",
       "\n",
       "| <!--/--> | Country &lt;chr&gt; | bicy &lt;dbl&gt; | cart &lt;dbl&gt; | mcyc &lt;dbl&gt; | pcar &lt;dbl&gt; | boat &lt;dbl&gt; | wigc &lt;dbl&gt; | clusters &lt;fct&gt; | cgdp &lt;dbl&gt; | tpop &lt;dbl&gt; | ... ... | popd &lt;dbl&gt; | land &lt;dbl&gt; | lita &lt;dbl&gt; | lity &lt;dbl&gt; | mori &lt;dbl&gt; | rifr &lt;dbl&gt; | cotw &lt;dbl&gt; | moru &lt;dbl&gt; | ppfg &lt;dbl&gt; | prec &lt;dbl&gt; |\n",
       "|---|---|---|---|---|---|---|---|---|---|---|---|---|---|---|---|---|---|---|---|---|---|\n",
       "| 1 | Afghanistan | 30.0 | 5.8 | 35.2 | 11.8 | 0.0 | 0.1 | 1 |  18353881130 |  37172386 | ... |   56.93776 |  652860 | 43.01972 | 0.75933 | 62.5 | 1299.0269 |  0.00000 | 13.9 | 0.70 |  327 |\n",
       "| 2 | Albania     | 26.4 | 3.2 |  9.6 | 37.0 | 0.7 | 0.1 | 2 |  15147020535 |   2866376 | ... |  104.61226 |   27400 | 98.14115 | 1.00582 |  9.5 | 9361.5460 | 59.95146 |  0.2 | 1.36 | 1485 |\n",
       "| 3 | Angola      |  4.6 | 1.3 | 17.8 | 10.9 | 0.4 | 0.3 | 1 | 101353230785 |  30809762 | ... |   24.71305 | 1246700 |  0.00000 | 0.00000 | 77.7 | 4963.6533 | 43.98964 | 48.8 | 0.97 | 1010 |\n",
       "| 4 | Armenia     |  8.6 | 0.4 |  0.2 | 39.2 | 0.3 | 0.1 | 2 |  12457941907 |   2951776 | ... |  103.68022 |   28470 |  0.00000 | 0.00000 | 12.4 | 2329.1833 | 27.77778 |  0.2 | 0.77 |  562 |\n",
       "| 5 | Azerbaijan  |  6.9 | 3.3 |  1.1 | 20.4 | 0.1 | 0.0 | 3 |  47112941176 |   9939771 | ... |  120.23432 |   82670 |  0.00000 | 0.00000 | 21.6 |  823.5207 | 24.48847 |  1.1 | 0.56 |  447 |\n",
       "| 6 | Bangladesh  | 25.1 | 0.0 |  6.4 |  0.8 | 0.0 | 0.3 | 1 | 274039092455 | 161356039 | ... | 1239.57931 |  130170 | 73.91220 | 1.03276 | 32.3 |  657.6039 | 14.19624 | 11.9 | 1.12 | 2666 |\n",
       "\n"
      ],
      "text/plain": [
       "  Country     bicy cart mcyc pcar boat wigc clusters cgdp         tpop      ...\n",
       "1 Afghanistan 30.0 5.8  35.2 11.8 0.0  0.1  1         18353881130  37172386 ...\n",
       "2 Albania     26.4 3.2   9.6 37.0 0.7  0.1  2         15147020535   2866376 ...\n",
       "3 Angola       4.6 1.3  17.8 10.9 0.4  0.3  1        101353230785  30809762 ...\n",
       "4 Armenia      8.6 0.4   0.2 39.2 0.3  0.1  2         12457941907   2951776 ...\n",
       "5 Azerbaijan   6.9 3.3   1.1 20.4 0.1  0.0  3         47112941176   9939771 ...\n",
       "6 Bangladesh  25.1 0.0   6.4  0.8 0.0  0.3  1        274039092455 161356039 ...\n",
       "  popd       land    lita     lity    mori rifr      cotw     moru ppfg prec\n",
       "1   56.93776  652860 43.01972 0.75933 62.5 1299.0269  0.00000 13.9 0.70  327\n",
       "2  104.61226   27400 98.14115 1.00582  9.5 9361.5460 59.95146  0.2 1.36 1485\n",
       "3   24.71305 1246700  0.00000 0.00000 77.7 4963.6533 43.98964 48.8 0.97 1010\n",
       "4  103.68022   28470  0.00000 0.00000 12.4 2329.1833 27.77778  0.2 0.77  562\n",
       "5  120.23432   82670  0.00000 0.00000 21.6  823.5207 24.48847  1.1 0.56  447\n",
       "6 1239.57931  130170 73.91220 1.03276 32.3  657.6039 14.19624 11.9 1.12 2666"
      ]
     },
     "metadata": {},
     "output_type": "display_data"
    },
    {
     "data": {
      "text/html": [
       "<table class=\"dataframe\">\n",
       "<caption>A data.frame: 1 × 1</caption>\n",
       "<thead>\n",
       "\t<tr><th scope=col>n</th></tr>\n",
       "\t<tr><th scope=col>&lt;int&gt;</th></tr>\n",
       "</thead>\n",
       "<tbody>\n",
       "\t<tr><td>73</td></tr>\n",
       "</tbody>\n",
       "</table>\n"
      ],
      "text/latex": [
       "A data.frame: 1 × 1\n",
       "\\begin{tabular}{l}\n",
       " n\\\\\n",
       " <int>\\\\\n",
       "\\hline\n",
       "\t 73\\\\\n",
       "\\end{tabular}\n"
      ],
      "text/markdown": [
       "\n",
       "A data.frame: 1 × 1\n",
       "\n",
       "| n &lt;int&gt; |\n",
       "|---|\n",
       "| 73 |\n",
       "\n"
      ],
      "text/plain": [
       "  n \n",
       "1 73"
      ]
     },
     "metadata": {},
     "output_type": "display_data"
    },
    {
     "data": {
      "text/html": [
       "<table class=\"dataframe\">\n",
       "<caption>A data.frame: 6 × 15</caption>\n",
       "<thead>\n",
       "\t<tr><th></th><th scope=col>Country</th><th scope=col>clusters</th><th scope=col>bicy</th><th scope=col>cart</th><th scope=col>mcyc</th><th scope=col>pcar</th><th scope=col>boat</th><th scope=col>wigc</th><th scope=col>cgdp</th><th scope=col>tpop</th><th scope=col>upop</th><th scope=col>popd</th><th scope=col>land</th><th scope=col>rifr</th><th scope=col>prec</th></tr>\n",
       "\t<tr><th></th><th scope=col>&lt;chr&gt;</th><th scope=col>&lt;fct&gt;</th><th scope=col>&lt;dbl&gt;</th><th scope=col>&lt;dbl&gt;</th><th scope=col>&lt;dbl&gt;</th><th scope=col>&lt;dbl&gt;</th><th scope=col>&lt;dbl&gt;</th><th scope=col>&lt;dbl&gt;</th><th scope=col>&lt;dbl&gt;</th><th scope=col>&lt;dbl&gt;</th><th scope=col>&lt;dbl&gt;</th><th scope=col>&lt;dbl&gt;</th><th scope=col>&lt;dbl&gt;</th><th scope=col>&lt;dbl&gt;</th><th scope=col>&lt;dbl&gt;</th></tr>\n",
       "</thead>\n",
       "<tbody>\n",
       "\t<tr><th scope=row>1</th><td>Afghanistan</td><td>1</td><td>0.36585366</td><td>0.139759036</td><td>0.447268107</td><td>0.1929825</td><td>0.00000000</td><td>0.2</td><td>0.006764749</td><td>0.027481820</td><td>0.2802295</td><td>0.03312286</td><td>0.219503581</td><td>0.004145345</td><td>0.08654751</td></tr>\n",
       "\t<tr><th scope=row>2</th><td>Albania    </td><td>2</td><td>0.32195122</td><td>0.077108434</td><td>0.121982211</td><td>0.6350877</td><td>0.11864407</td><td>0.2</td><td>0.005582786</td><td>0.002119133</td><td>0.6629992</td><td>0.06085694</td><td>0.009115709</td><td>0.030080791</td><td>0.44967074</td></tr>\n",
       "\t<tr><th scope=row>3</th><td>Angola     </td><td>1</td><td>0.05609756</td><td>0.031325301</td><td>0.226175349</td><td>0.1771930</td><td>0.06779661</td><td>0.6</td><td>0.037356087</td><td>0.022777885</td><td>0.7201002</td><td>0.01437652</td><td>0.419255337</td><td>0.015933685</td><td>0.30072123</td></tr>\n",
       "\t<tr><th scope=row>4</th><td>Armenia    </td><td>2</td><td>0.10487805</td><td>0.009638554</td><td>0.002541296</td><td>0.6736842</td><td>0.05084746</td><td>0.2</td><td>0.004591664</td><td>0.002182270</td><td>0.6941052</td><td>0.06031473</td><td>0.009475628</td><td>0.007459144</td><td>0.16023832</td></tr>\n",
       "\t<tr><th scope=row>5</th><td>Azerbaijan </td><td>3</td><td>0.08414634</td><td>0.079518072</td><td>0.013977128</td><td>0.3438596</td><td>0.01694915</td><td>0.0</td><td>0.017364569</td><td>0.007348546</td><td>0.6120094</td><td>0.06994488</td><td>0.027707046</td><td>0.002615740</td><td>0.12417686</td></tr>\n",
       "\t<tr><th scope=row>6</th><td>Bangladesh </td><td>1</td><td>0.30609756</td><td>0.000000000</td><td>0.081321474</td><td>0.0000000</td><td>0.00000000</td><td>0.6</td><td>0.101003473</td><td>0.119291714</td><td>0.4026424</td><td>0.72111049</td><td>0.043684765</td><td>0.002082020</td><td>0.82000627</td></tr>\n",
       "</tbody>\n",
       "</table>\n"
      ],
      "text/latex": [
       "A data.frame: 6 × 15\n",
       "\\begin{tabular}{r|lllllllllllllll}\n",
       "  & Country & clusters & bicy & cart & mcyc & pcar & boat & wigc & cgdp & tpop & upop & popd & land & rifr & prec\\\\\n",
       "  & <chr> & <fct> & <dbl> & <dbl> & <dbl> & <dbl> & <dbl> & <dbl> & <dbl> & <dbl> & <dbl> & <dbl> & <dbl> & <dbl> & <dbl>\\\\\n",
       "\\hline\n",
       "\t1 & Afghanistan & 1 & 0.36585366 & 0.139759036 & 0.447268107 & 0.1929825 & 0.00000000 & 0.2 & 0.006764749 & 0.027481820 & 0.2802295 & 0.03312286 & 0.219503581 & 0.004145345 & 0.08654751\\\\\n",
       "\t2 & Albania     & 2 & 0.32195122 & 0.077108434 & 0.121982211 & 0.6350877 & 0.11864407 & 0.2 & 0.005582786 & 0.002119133 & 0.6629992 & 0.06085694 & 0.009115709 & 0.030080791 & 0.44967074\\\\\n",
       "\t3 & Angola      & 1 & 0.05609756 & 0.031325301 & 0.226175349 & 0.1771930 & 0.06779661 & 0.6 & 0.037356087 & 0.022777885 & 0.7201002 & 0.01437652 & 0.419255337 & 0.015933685 & 0.30072123\\\\\n",
       "\t4 & Armenia     & 2 & 0.10487805 & 0.009638554 & 0.002541296 & 0.6736842 & 0.05084746 & 0.2 & 0.004591664 & 0.002182270 & 0.6941052 & 0.06031473 & 0.009475628 & 0.007459144 & 0.16023832\\\\\n",
       "\t5 & Azerbaijan  & 3 & 0.08414634 & 0.079518072 & 0.013977128 & 0.3438596 & 0.01694915 & 0.0 & 0.017364569 & 0.007348546 & 0.6120094 & 0.06994488 & 0.027707046 & 0.002615740 & 0.12417686\\\\\n",
       "\t6 & Bangladesh  & 1 & 0.30609756 & 0.000000000 & 0.081321474 & 0.0000000 & 0.00000000 & 0.6 & 0.101003473 & 0.119291714 & 0.4026424 & 0.72111049 & 0.043684765 & 0.002082020 & 0.82000627\\\\\n",
       "\\end{tabular}\n"
      ],
      "text/markdown": [
       "\n",
       "A data.frame: 6 × 15\n",
       "\n",
       "| <!--/--> | Country &lt;chr&gt; | clusters &lt;fct&gt; | bicy &lt;dbl&gt; | cart &lt;dbl&gt; | mcyc &lt;dbl&gt; | pcar &lt;dbl&gt; | boat &lt;dbl&gt; | wigc &lt;dbl&gt; | cgdp &lt;dbl&gt; | tpop &lt;dbl&gt; | upop &lt;dbl&gt; | popd &lt;dbl&gt; | land &lt;dbl&gt; | rifr &lt;dbl&gt; | prec &lt;dbl&gt; |\n",
       "|---|---|---|---|---|---|---|---|---|---|---|---|---|---|---|---|\n",
       "| 1 | Afghanistan | 1 | 0.36585366 | 0.139759036 | 0.447268107 | 0.1929825 | 0.00000000 | 0.2 | 0.006764749 | 0.027481820 | 0.2802295 | 0.03312286 | 0.219503581 | 0.004145345 | 0.08654751 |\n",
       "| 2 | Albania     | 2 | 0.32195122 | 0.077108434 | 0.121982211 | 0.6350877 | 0.11864407 | 0.2 | 0.005582786 | 0.002119133 | 0.6629992 | 0.06085694 | 0.009115709 | 0.030080791 | 0.44967074 |\n",
       "| 3 | Angola      | 1 | 0.05609756 | 0.031325301 | 0.226175349 | 0.1771930 | 0.06779661 | 0.6 | 0.037356087 | 0.022777885 | 0.7201002 | 0.01437652 | 0.419255337 | 0.015933685 | 0.30072123 |\n",
       "| 4 | Armenia     | 2 | 0.10487805 | 0.009638554 | 0.002541296 | 0.6736842 | 0.05084746 | 0.2 | 0.004591664 | 0.002182270 | 0.6941052 | 0.06031473 | 0.009475628 | 0.007459144 | 0.16023832 |\n",
       "| 5 | Azerbaijan  | 3 | 0.08414634 | 0.079518072 | 0.013977128 | 0.3438596 | 0.01694915 | 0.0 | 0.017364569 | 0.007348546 | 0.6120094 | 0.06994488 | 0.027707046 | 0.002615740 | 0.12417686 |\n",
       "| 6 | Bangladesh  | 1 | 0.30609756 | 0.000000000 | 0.081321474 | 0.0000000 | 0.00000000 | 0.6 | 0.101003473 | 0.119291714 | 0.4026424 | 0.72111049 | 0.043684765 | 0.002082020 | 0.82000627 |\n",
       "\n"
      ],
      "text/plain": [
       "  Country     clusters bicy       cart        mcyc        pcar      boat      \n",
       "1 Afghanistan 1        0.36585366 0.139759036 0.447268107 0.1929825 0.00000000\n",
       "2 Albania     2        0.32195122 0.077108434 0.121982211 0.6350877 0.11864407\n",
       "3 Angola      1        0.05609756 0.031325301 0.226175349 0.1771930 0.06779661\n",
       "4 Armenia     2        0.10487805 0.009638554 0.002541296 0.6736842 0.05084746\n",
       "5 Azerbaijan  3        0.08414634 0.079518072 0.013977128 0.3438596 0.01694915\n",
       "6 Bangladesh  1        0.30609756 0.000000000 0.081321474 0.0000000 0.00000000\n",
       "  wigc cgdp        tpop        upop      popd       land        rifr       \n",
       "1 0.2  0.006764749 0.027481820 0.2802295 0.03312286 0.219503581 0.004145345\n",
       "2 0.2  0.005582786 0.002119133 0.6629992 0.06085694 0.009115709 0.030080791\n",
       "3 0.6  0.037356087 0.022777885 0.7201002 0.01437652 0.419255337 0.015933685\n",
       "4 0.2  0.004591664 0.002182270 0.6941052 0.06031473 0.009475628 0.007459144\n",
       "5 0.0  0.017364569 0.007348546 0.6120094 0.06994488 0.027707046 0.002615740\n",
       "6 0.6  0.101003473 0.119291714 0.4026424 0.72111049 0.043684765 0.002082020\n",
       "  prec      \n",
       "1 0.08654751\n",
       "2 0.44967074\n",
       "3 0.30072123\n",
       "4 0.16023832\n",
       "5 0.12417686\n",
       "6 0.82000627"
      ]
     },
     "metadata": {},
     "output_type": "display_data"
    },
    {
     "data": {
      "text/html": [
       "<table class=\"dataframe\">\n",
       "<caption>A data.frame: 6 × 6</caption>\n",
       "<thead>\n",
       "\t<tr><th></th><th scope=col>Country</th><th scope=col>clusters</th><th scope=col>bicy</th><th scope=col>cart</th><th scope=col>mcyc</th><th scope=col>pcar</th></tr>\n",
       "\t<tr><th></th><th scope=col>&lt;chr&gt;</th><th scope=col>&lt;fct&gt;</th><th scope=col>&lt;dbl&gt;</th><th scope=col>&lt;dbl&gt;</th><th scope=col>&lt;dbl&gt;</th><th scope=col>&lt;dbl&gt;</th></tr>\n",
       "</thead>\n",
       "<tbody>\n",
       "\t<tr><th scope=row>1</th><td>Afghanistan</td><td>1</td><td>0.36585366</td><td>0.139759036</td><td>0.447268107</td><td>0.1929825</td></tr>\n",
       "\t<tr><th scope=row>2</th><td>Albania    </td><td>2</td><td>0.32195122</td><td>0.077108434</td><td>0.121982211</td><td>0.6350877</td></tr>\n",
       "\t<tr><th scope=row>3</th><td>Angola     </td><td>1</td><td>0.05609756</td><td>0.031325301</td><td>0.226175349</td><td>0.1771930</td></tr>\n",
       "\t<tr><th scope=row>4</th><td>Armenia    </td><td>2</td><td>0.10487805</td><td>0.009638554</td><td>0.002541296</td><td>0.6736842</td></tr>\n",
       "\t<tr><th scope=row>5</th><td>Azerbaijan </td><td>3</td><td>0.08414634</td><td>0.079518072</td><td>0.013977128</td><td>0.3438596</td></tr>\n",
       "\t<tr><th scope=row>6</th><td>Bangladesh </td><td>1</td><td>0.30609756</td><td>0.000000000</td><td>0.081321474</td><td>0.0000000</td></tr>\n",
       "</tbody>\n",
       "</table>\n"
      ],
      "text/latex": [
       "A data.frame: 6 × 6\n",
       "\\begin{tabular}{r|llllll}\n",
       "  & Country & clusters & bicy & cart & mcyc & pcar\\\\\n",
       "  & <chr> & <fct> & <dbl> & <dbl> & <dbl> & <dbl>\\\\\n",
       "\\hline\n",
       "\t1 & Afghanistan & 1 & 0.36585366 & 0.139759036 & 0.447268107 & 0.1929825\\\\\n",
       "\t2 & Albania     & 2 & 0.32195122 & 0.077108434 & 0.121982211 & 0.6350877\\\\\n",
       "\t3 & Angola      & 1 & 0.05609756 & 0.031325301 & 0.226175349 & 0.1771930\\\\\n",
       "\t4 & Armenia     & 2 & 0.10487805 & 0.009638554 & 0.002541296 & 0.6736842\\\\\n",
       "\t5 & Azerbaijan  & 3 & 0.08414634 & 0.079518072 & 0.013977128 & 0.3438596\\\\\n",
       "\t6 & Bangladesh  & 1 & 0.30609756 & 0.000000000 & 0.081321474 & 0.0000000\\\\\n",
       "\\end{tabular}\n"
      ],
      "text/markdown": [
       "\n",
       "A data.frame: 6 × 6\n",
       "\n",
       "| <!--/--> | Country &lt;chr&gt; | clusters &lt;fct&gt; | bicy &lt;dbl&gt; | cart &lt;dbl&gt; | mcyc &lt;dbl&gt; | pcar &lt;dbl&gt; |\n",
       "|---|---|---|---|---|---|---|\n",
       "| 1 | Afghanistan | 1 | 0.36585366 | 0.139759036 | 0.447268107 | 0.1929825 |\n",
       "| 2 | Albania     | 2 | 0.32195122 | 0.077108434 | 0.121982211 | 0.6350877 |\n",
       "| 3 | Angola      | 1 | 0.05609756 | 0.031325301 | 0.226175349 | 0.1771930 |\n",
       "| 4 | Armenia     | 2 | 0.10487805 | 0.009638554 | 0.002541296 | 0.6736842 |\n",
       "| 5 | Azerbaijan  | 3 | 0.08414634 | 0.079518072 | 0.013977128 | 0.3438596 |\n",
       "| 6 | Bangladesh  | 1 | 0.30609756 | 0.000000000 | 0.081321474 | 0.0000000 |\n",
       "\n"
      ],
      "text/plain": [
       "  Country     clusters bicy       cart        mcyc        pcar     \n",
       "1 Afghanistan 1        0.36585366 0.139759036 0.447268107 0.1929825\n",
       "2 Albania     2        0.32195122 0.077108434 0.121982211 0.6350877\n",
       "3 Angola      1        0.05609756 0.031325301 0.226175349 0.1771930\n",
       "4 Armenia     2        0.10487805 0.009638554 0.002541296 0.6736842\n",
       "5 Azerbaijan  3        0.08414634 0.079518072 0.013977128 0.3438596\n",
       "6 Bangladesh  1        0.30609756 0.000000000 0.081321474 0.0000000"
      ]
     },
     "metadata": {},
     "output_type": "display_data"
    },
    {
     "data": {
      "image/png": "[encoded data removed]",
      "text/plain": [
       "Plot with title \"Histogram of df$cart\""
      ]
     },
     "metadata": {
      "image/png": {
       "height": 420,
       "width": 420
      }
     },
     "output_type": "display_data"
    }
   ],
   "source": [
    "df.wa = read_excel( \"../../results/df-water-access.xlsx\" ,sheet=1)\n",
    "df.exp =read_excel(\"../../results/df-water-explore.xlsx\" ,sheet=1)\n",
    "df.cluster = read_excel(\"../../results/df-fa-five-cluster-rank.xlsx\" ,sheet=1)\n",
    "df.wb = read_excel(\"../../results/df-wb.xlsx\" ,sheet=1 )\n",
    "df.exp$clusters <- as.factor(df.cluster$clusters)\n",
    "df <- merge(x = df.exp,\n",
    "              y = df.wb,\n",
    "              by = c(\"Country\"))\n",
    "\n",
    "head(df)\n",
    "count(df)\n",
    "df <- df[, c(1:13, 17,21)]\n",
    "\n",
    "# ReScaling in 0 to 1 for all the necessary data\n",
    "df.scale = as.data.frame(apply(as.matrix(df[, c(2:7, 9:15)]), 2, rescale))\n",
    "df <- cbind(df,df.scale)\n",
    "df <- df[,c(1,8,16:28)]\n",
    "head(df)\n",
    "\n",
    "df.a <- df[, c(1:6)]\n",
    "head(df.a)\n",
    "\n",
    "hist(df$cart)"
   ]
  },
  {
   "cell_type": "markdown",
   "metadata": {},
   "source": [
    "# Tree"
   ]
  },
  {
   "cell_type": "code",
   "execution_count": 73,
   "metadata": {},
   "outputs": [
    {
     "data": {
      "text/plain": [
       "\n",
       "Classification tree:\n",
       "tree(formula = clusters ~ . - Country, data = df)\n",
       "Variables actually used in tree construction:\n",
       "[1] \"pcar\" \"boat\" \"cgdp\" \"cart\" \"mcyc\" \"popd\" \"upop\"\n",
       "Number of terminal nodes:  9 \n",
       "Residual mean deviance:  0.8571 = 54.85 / 64 \n",
       "Misclassification error rate: 0.1781 = 13 / 73 "
      ]
     },
     "metadata": {},
     "output_type": "display_data"
    },
    {
     "data": {
      "text/plain": [
       "node), split, n, deviance, yval, (yprob)\n",
       "      * denotes terminal node\n",
       "\n",
       " 1) root 73 171.400 1 ( 0.54795 0.15068 0.19178 0.10959 )  \n",
       "   2) pcar < 0.203509 49  68.590 1 ( 0.79592 0.04082 0.12245 0.04082 )  \n",
       "     4) boat < 0.161017 42  37.390 1 ( 0.88095 0.04762 0.07143 0.00000 )  \n",
       "       8) cgdp < 0.059598 36  20.650 1 ( 0.91667 0.00000 0.08333 0.00000 )  \n",
       "        16) pcar < 0.0666667 19   0.000 1 ( 1.00000 0.00000 0.00000 0.00000 ) *\n",
       "        17) pcar > 0.0666667 17  15.840 1 ( 0.82353 0.00000 0.17647 0.00000 )  \n",
       "          34) cart < 0.0590361 9  11.460 1 ( 0.66667 0.00000 0.33333 0.00000 ) *\n",
       "          35) cart > 0.0590361 8   0.000 1 ( 1.00000 0.00000 0.00000 0.00000 ) *\n",
       "       9) cgdp > 0.059598 6   7.638 1 ( 0.66667 0.33333 0.00000 0.00000 ) *\n",
       "     5) boat > 0.161017 7  15.110 3 ( 0.28571 0.00000 0.42857 0.28571 ) *\n",
       "   3) pcar > 0.203509 24  58.220 2 ( 0.04167 0.37500 0.33333 0.25000 )  \n",
       "     6) mcyc < 0.0838628 11  18.920 3 ( 0.09091 0.27273 0.63636 0.00000 )  \n",
       "      12) popd < 0.0382872 6   0.000 3 ( 0.00000 0.00000 1.00000 0.00000 ) *\n",
       "      13) popd > 0.0382872 5   9.503 2 ( 0.20000 0.60000 0.20000 0.00000 ) *\n",
       "     7) mcyc > 0.0838628 13  23.690 4 ( 0.00000 0.46154 0.07692 0.46154 )  \n",
       "      14) upop < 0.61784 6   5.407 4 ( 0.00000 0.00000 0.16667 0.83333 ) *\n",
       "      15) upop > 0.61784 7   5.742 2 ( 0.00000 0.85714 0.00000 0.14286 ) *"
      ]
     },
     "metadata": {},
     "output_type": "display_data"
    },
    {
     "data": {
      "image/png": "[encoded data removed]",
      "text/plain": [
       "plot without title"
      ]
     },
     "metadata": {
      "image/png": {
       "height": 420,
       "width": 420
      }
     },
     "output_type": "display_data"
    }
   ],
   "source": [
    "tree.wa = tree(clusters ~ . - Country  , data = df)\n",
    "summary(tree.wa) \n",
    "plot(tree.wa)\n",
    "text(tree.wa, pretty = 0) #population density High density for six cluster group.\n",
    "tree.wa"
   ]
  },
  {
   "cell_type": "markdown",
   "metadata": {},
   "source": [
    "# Random Forest"
   ]
  },
  {
   "cell_type": "code",
   "execution_count": 78,
   "metadata": {
    "scrolled": false
   },
   "outputs": [
    {
     "name": "stdout",
     "output_type": "stream",
     "text": [
      "\n",
      "Call:\n",
      " randomForest(formula = clusters ~ . - Country, data = df, ntree = 200,      mtry = 5) \n",
      "               Type of random forest: classification\n",
      "                     Number of trees: 200\n",
      "No. of variables tried at each split: 5\n",
      "\n",
      "        OOB estimate of  error rate: 36.99%\n",
      "Confusion matrix:\n",
      "   1 2 3 4 class.error\n",
      "1 37 0 3 0   0.0750000\n",
      "2  2 5 2 2   0.5454545\n",
      "3  5 4 3 2   0.7857143\n",
      "4  2 2 3 1   0.8750000\n"
     ]
    },
    {
     "data": {
      "text/plain": [
       "                Length Class  Mode     \n",
       "call               5   -none- call     \n",
       "type               1   -none- character\n",
       "predicted         73   factor numeric  \n",
       "err.rate        1000   -none- numeric  \n",
       "confusion         20   -none- numeric  \n",
       "votes            292   matrix numeric  \n",
       "oob.times         73   -none- numeric  \n",
       "classes            4   -none- character\n",
       "importance        13   -none- numeric  \n",
       "importanceSD       0   -none- NULL     \n",
       "localImportance    0   -none- NULL     \n",
       "proximity          0   -none- NULL     \n",
       "ntree              1   -none- numeric  \n",
       "mtry               1   -none- numeric  \n",
       "forest            14   -none- list     \n",
       "y                 73   factor numeric  \n",
       "test               0   -none- NULL     \n",
       "inbag              0   -none- NULL     \n",
       "terms              3   terms  call     "
      ]
     },
     "metadata": {},
     "output_type": "display_data"
    },
    {
     "data": {
      "text/html": [
       "<table class=\"dataframe\">\n",
       "<caption>A matrix: 13 × 1 of type dbl</caption>\n",
       "<thead>\n",
       "\t<tr><th></th><th scope=col>MeanDecreaseGini</th></tr>\n",
       "</thead>\n",
       "<tbody>\n",
       "\t<tr><th scope=row>bicy</th><td> 1.680468</td></tr>\n",
       "\t<tr><th scope=row>cart</th><td> 1.595374</td></tr>\n",
       "\t<tr><th scope=row>mcyc</th><td> 3.508374</td></tr>\n",
       "\t<tr><th scope=row>pcar</th><td>11.565421</td></tr>\n",
       "\t<tr><th scope=row>boat</th><td> 4.021563</td></tr>\n",
       "\t<tr><th scope=row>wigc</th><td> 2.725421</td></tr>\n",
       "\t<tr><th scope=row>cgdp</th><td> 2.517385</td></tr>\n",
       "\t<tr><th scope=row>tpop</th><td> 2.385258</td></tr>\n",
       "\t<tr><th scope=row>upop</th><td> 4.294838</td></tr>\n",
       "\t<tr><th scope=row>popd</th><td> 3.576003</td></tr>\n",
       "\t<tr><th scope=row>land</th><td> 1.855052</td></tr>\n",
       "\t<tr><th scope=row>rifr</th><td> 2.379315</td></tr>\n",
       "\t<tr><th scope=row>prec</th><td> 3.515119</td></tr>\n",
       "</tbody>\n",
       "</table>\n"
      ],
      "text/latex": [
       "A matrix: 13 × 1 of type dbl\n",
       "\\begin{tabular}{r|l}\n",
       "  & MeanDecreaseGini\\\\\n",
       "\\hline\n",
       "\tbicy &  1.680468\\\\\n",
       "\tcart &  1.595374\\\\\n",
       "\tmcyc &  3.508374\\\\\n",
       "\tpcar & 11.565421\\\\\n",
       "\tboat &  4.021563\\\\\n",
       "\twigc &  2.725421\\\\\n",
       "\tcgdp &  2.517385\\\\\n",
       "\ttpop &  2.385258\\\\\n",
       "\tupop &  4.294838\\\\\n",
       "\tpopd &  3.576003\\\\\n",
       "\tland &  1.855052\\\\\n",
       "\trifr &  2.379315\\\\\n",
       "\tprec &  3.515119\\\\\n",
       "\\end{tabular}\n"
      ],
      "text/markdown": [
       "\n",
       "A matrix: 13 × 1 of type dbl\n",
       "\n",
       "| <!--/--> | MeanDecreaseGini |\n",
       "|---|---|\n",
       "| bicy |  1.680468 |\n",
       "| cart |  1.595374 |\n",
       "| mcyc |  3.508374 |\n",
       "| pcar | 11.565421 |\n",
       "| boat |  4.021563 |\n",
       "| wigc |  2.725421 |\n",
       "| cgdp |  2.517385 |\n",
       "| tpop |  2.385258 |\n",
       "| upop |  4.294838 |\n",
       "| popd |  3.576003 |\n",
       "| land |  1.855052 |\n",
       "| rifr |  2.379315 |\n",
       "| prec |  3.515119 |\n",
       "\n"
      ],
      "text/plain": [
       "     MeanDecreaseGini\n",
       "bicy  1.680468       \n",
       "cart  1.595374       \n",
       "mcyc  3.508374       \n",
       "pcar 11.565421       \n",
       "boat  4.021563       \n",
       "wigc  2.725421       \n",
       "cgdp  2.517385       \n",
       "tpop  2.385258       \n",
       "upop  4.294838       \n",
       "popd  3.576003       \n",
       "land  1.855052       \n",
       "rifr  2.379315       \n",
       "prec  3.515119       "
      ]
     },
     "metadata": {},
     "output_type": "display_data"
    },
    {
     "data": {
      "image/png": "[encoded data removed]",
      "text/plain": [
       "Plot with title \"rf.water\""
      ]
     },
     "metadata": {
      "image/png": {
       "height": 420,
       "width": 420
      }
     },
     "output_type": "display_data"
    },
    {
     "data": {
      "image/png": "[encoded data removed]"
     },
     "metadata": {
      "image/png": {
       "height": 420,
       "width": 420
      }
     },
     "output_type": "display_data"
    }
   ],
   "source": [
    "rf.water = randomForest(clusters~. -Country, data = df , ntree= 200,mtry=5)\n",
    "print(rf.water)\n",
    "\n",
    "summary(rf.water)\n",
    "\n",
    "importance <- importance(rf.water, sort = TRUE)\n",
    "importance\n",
    "\n",
    "# create an importance plot\n",
    "varImpPlot(rf.water, sort=TRUE, n.var=min(30, nrow(rf.water$importance)),\n",
    "           type=NULL, class=NULL, scale=TRUE )\n",
    "#plot\n",
    "plot(randomForest(clusters~. -Country, data = df ,ntree=250,  keep.forest=FALSE, mtry=5) )"
   ]
  },
  {
   "cell_type": "markdown",
   "metadata": {},
   "source": [
    "The MeanDecreaseGini measures the Gini importance = how important the features are over all splits done in the tree/forest - whereas for each individual split the Gini importance indicates how much the Gini criterion = \"unequality/heterogeneity\" was reduced using this split.\n",
    "mori, upop, pcar popd, mcyc important and contributed most to obtaining such splits, so they are considered more important."
   ]
  }
 ],
 "metadata": {
  "kernelspec": {
   "display_name": "R",
   "language": "R",
   "name": "ir"
  },
  "language_info": {
   "codemirror_mode": "r",
   "file_extension": ".r",
   "mimetype": "text/x-r-source",
   "name": "R",
   "pygments_lexer": "r",
   "version": "4.0.2"
  }
 },
 "nbformat": 4,
 "nbformat_minor": 4
}
