{
 "cells": [
  {
   "cell_type": "code",
   "execution_count": 42,
   "metadata": {},
   "outputs": [],
   "source": [
    "#install.packages('randomForest')\n",
    "library(readxl)\n",
    "library(randomForest)\n",
    "library(readxl)\n",
    "library(tidyverse)\n",
    "#install.packages('dplyr')\n",
    "library(dplyr)\n",
    "#install.packages('caret')\n",
    "library(Rcpp)\n",
    "library(caret)\n",
    "library(rpart)\n",
    "#install.packages('tree')\n",
    "library(tree)\n",
    "#install.packages('multcomp')\n",
    "library(multcomp)\n",
    "#install.packages('party')\n",
    "library(party)\n",
    "library(tree)\n",
    "library(writexl)"
   ]
  },
  {
   "cell_type": "markdown",
   "metadata": {},
   "source": [
    "# Classification"
   ]
  },
  {
   "cell_type": "code",
   "execution_count": 43,
   "metadata": {},
   "outputs": [
    {
     "data": {
      "text/html": [
       "<table class=\"dataframe\">\n",
       "<caption>A tibble: 6 × 18</caption>\n",
       "<thead>\n",
       "\t<tr><th scope=col>Country</th><th scope=col>phom</th><th scope=col>pipy</th><th scope=col>ptap</th><th scope=col>bore</th><th scope=col>pwel</th><th scope=col>pspr</th><th scope=col>rain</th><th scope=col>uwel</th><th scope=col>uspr</th><th scope=col>truc</th><th scope=col>ctan</th><th scope=col>bott</th><th scope=col>othw</th><th scope=col>surw</th><th scope=col>tles</th><th scope=col>tmor</th><th scope=col>watp</th></tr>\n",
       "\t<tr><th scope=col>&lt;chr&gt;</th><th scope=col>&lt;dbl&gt;</th><th scope=col>&lt;dbl&gt;</th><th scope=col>&lt;dbl&gt;</th><th scope=col>&lt;dbl&gt;</th><th scope=col>&lt;dbl&gt;</th><th scope=col>&lt;dbl&gt;</th><th scope=col>&lt;dbl&gt;</th><th scope=col>&lt;dbl&gt;</th><th scope=col>&lt;dbl&gt;</th><th scope=col>&lt;dbl&gt;</th><th scope=col>&lt;dbl&gt;</th><th scope=col>&lt;dbl&gt;</th><th scope=col>&lt;dbl&gt;</th><th scope=col>&lt;dbl&gt;</th><th scope=col>&lt;dbl&gt;</th><th scope=col>&lt;dbl&gt;</th><th scope=col>&lt;dbl&gt;</th></tr>\n",
       "</thead>\n",
       "<tbody>\n",
       "\t<tr><td>Afghanistan</td><td> 2.3</td><td> 4.8</td><td>14.2</td><td>20.1</td><td>18.5</td><td>4.7</td><td>0.4</td><td>11.1</td><td>8.6</td><td> 1.5</td><td>4.4</td><td> 0.2</td><td>1.7</td><td> 7.3</td><td>45.2</td><td> 8.2</td><td>45.3</td></tr>\n",
       "\t<tr><td>Albania    </td><td>48.8</td><td> 5.2</td><td> 2.4</td><td> 1.4</td><td> 4.1</td><td>2.5</td><td>0.0</td><td> 0.8</td><td>0.8</td><td>14.1</td><td>0.2</td><td>19.6</td><td>0.1</td><td> 0.0</td><td>20.6</td><td> 1.1</td><td>77.9</td></tr>\n",
       "\t<tr><td>Angola     </td><td> 4.3</td><td> 9.7</td><td>10.3</td><td> 1.9</td><td> 9.1</td><td>3.3</td><td>1.7</td><td> 8.3</td><td>4.8</td><td> 9.7</td><td>4.3</td><td> 1.2</td><td>1.8</td><td>18.0</td><td>46.1</td><td>15.6</td><td>34.5</td></tr>\n",
       "\t<tr><td>Armenia    </td><td>88.3</td><td> 8.0</td><td> 0.5</td><td> 0.2</td><td> 0.2</td><td>1.0</td><td>0.0</td><td> 0.0</td><td>0.1</td><td> 1.5</td><td>0.0</td><td> 0.0</td><td>0.0</td><td> 0.0</td><td> 1.6</td><td> 0.1</td><td>97.6</td></tr>\n",
       "\t<tr><td>Azerbaijan </td><td>34.0</td><td>19.7</td><td> 3.5</td><td> 9.3</td><td> 6.2</td><td>7.5</td><td>0.0</td><td> 0.2</td><td>1.1</td><td> 9.5</td><td>0.7</td><td> 0.1</td><td>1.1</td><td> 7.0</td><td>18.7</td><td> 4.4</td><td>75.9</td></tr>\n",
       "\t<tr><td>Bangladesh </td><td> 4.3</td><td> 3.3</td><td> 2.7</td><td>86.4</td><td> 0.2</td><td>0.0</td><td>0.4</td><td> 0.6</td><td>0.3</td><td> 0.0</td><td>0.1</td><td> 0.3</td><td>0.1</td><td> 1.2</td><td>22.7</td><td> 1.6</td><td>75.5</td></tr>\n",
       "</tbody>\n",
       "</table>\n"
      ],
      "text/latex": [
       "A tibble: 6 × 18\n",
       "\\begin{tabular}{llllllllllllllllll}\n",
       " Country & phom & pipy & ptap & bore & pwel & pspr & rain & uwel & uspr & truc & ctan & bott & othw & surw & tles & tmor & watp\\\\\n",
       " <chr> & <dbl> & <dbl> & <dbl> & <dbl> & <dbl> & <dbl> & <dbl> & <dbl> & <dbl> & <dbl> & <dbl> & <dbl> & <dbl> & <dbl> & <dbl> & <dbl> & <dbl>\\\\\n",
       "\\hline\n",
       "\t Afghanistan &  2.3 &  4.8 & 14.2 & 20.1 & 18.5 & 4.7 & 0.4 & 11.1 & 8.6 &  1.5 & 4.4 &  0.2 & 1.7 &  7.3 & 45.2 &  8.2 & 45.3\\\\\n",
       "\t Albania     & 48.8 &  5.2 &  2.4 &  1.4 &  4.1 & 2.5 & 0.0 &  0.8 & 0.8 & 14.1 & 0.2 & 19.6 & 0.1 &  0.0 & 20.6 &  1.1 & 77.9\\\\\n",
       "\t Angola      &  4.3 &  9.7 & 10.3 &  1.9 &  9.1 & 3.3 & 1.7 &  8.3 & 4.8 &  9.7 & 4.3 &  1.2 & 1.8 & 18.0 & 46.1 & 15.6 & 34.5\\\\\n",
       "\t Armenia     & 88.3 &  8.0 &  0.5 &  0.2 &  0.2 & 1.0 & 0.0 &  0.0 & 0.1 &  1.5 & 0.0 &  0.0 & 0.0 &  0.0 &  1.6 &  0.1 & 97.6\\\\\n",
       "\t Azerbaijan  & 34.0 & 19.7 &  3.5 &  9.3 &  6.2 & 7.5 & 0.0 &  0.2 & 1.1 &  9.5 & 0.7 &  0.1 & 1.1 &  7.0 & 18.7 &  4.4 & 75.9\\\\\n",
       "\t Bangladesh  &  4.3 &  3.3 &  2.7 & 86.4 &  0.2 & 0.0 & 0.4 &  0.6 & 0.3 &  0.0 & 0.1 &  0.3 & 0.1 &  1.2 & 22.7 &  1.6 & 75.5\\\\\n",
       "\\end{tabular}\n"
      ],
      "text/markdown": [
       "\n",
       "A tibble: 6 × 18\n",
       "\n",
       "| Country &lt;chr&gt; | phom &lt;dbl&gt; | pipy &lt;dbl&gt; | ptap &lt;dbl&gt; | bore &lt;dbl&gt; | pwel &lt;dbl&gt; | pspr &lt;dbl&gt; | rain &lt;dbl&gt; | uwel &lt;dbl&gt; | uspr &lt;dbl&gt; | truc &lt;dbl&gt; | ctan &lt;dbl&gt; | bott &lt;dbl&gt; | othw &lt;dbl&gt; | surw &lt;dbl&gt; | tles &lt;dbl&gt; | tmor &lt;dbl&gt; | watp &lt;dbl&gt; |\n",
       "|---|---|---|---|---|---|---|---|---|---|---|---|---|---|---|---|---|---|\n",
       "| Afghanistan |  2.3 |  4.8 | 14.2 | 20.1 | 18.5 | 4.7 | 0.4 | 11.1 | 8.6 |  1.5 | 4.4 |  0.2 | 1.7 |  7.3 | 45.2 |  8.2 | 45.3 |\n",
       "| Albania     | 48.8 |  5.2 |  2.4 |  1.4 |  4.1 | 2.5 | 0.0 |  0.8 | 0.8 | 14.1 | 0.2 | 19.6 | 0.1 |  0.0 | 20.6 |  1.1 | 77.9 |\n",
       "| Angola      |  4.3 |  9.7 | 10.3 |  1.9 |  9.1 | 3.3 | 1.7 |  8.3 | 4.8 |  9.7 | 4.3 |  1.2 | 1.8 | 18.0 | 46.1 | 15.6 | 34.5 |\n",
       "| Armenia     | 88.3 |  8.0 |  0.5 |  0.2 |  0.2 | 1.0 | 0.0 |  0.0 | 0.1 |  1.5 | 0.0 |  0.0 | 0.0 |  0.0 |  1.6 |  0.1 | 97.6 |\n",
       "| Azerbaijan  | 34.0 | 19.7 |  3.5 |  9.3 |  6.2 | 7.5 | 0.0 |  0.2 | 1.1 |  9.5 | 0.7 |  0.1 | 1.1 |  7.0 | 18.7 |  4.4 | 75.9 |\n",
       "| Bangladesh  |  4.3 |  3.3 |  2.7 | 86.4 |  0.2 | 0.0 | 0.4 |  0.6 | 0.3 |  0.0 | 0.1 |  0.3 | 0.1 |  1.2 | 22.7 |  1.6 | 75.5 |\n",
       "\n"
      ],
      "text/plain": [
       "  Country     phom pipy ptap bore pwel pspr rain uwel uspr truc ctan bott othw\n",
       "1 Afghanistan  2.3  4.8 14.2 20.1 18.5 4.7  0.4  11.1 8.6   1.5 4.4   0.2 1.7 \n",
       "2 Albania     48.8  5.2  2.4  1.4  4.1 2.5  0.0   0.8 0.8  14.1 0.2  19.6 0.1 \n",
       "3 Angola       4.3  9.7 10.3  1.9  9.1 3.3  1.7   8.3 4.8   9.7 4.3   1.2 1.8 \n",
       "4 Armenia     88.3  8.0  0.5  0.2  0.2 1.0  0.0   0.0 0.1   1.5 0.0   0.0 0.0 \n",
       "5 Azerbaijan  34.0 19.7  3.5  9.3  6.2 7.5  0.0   0.2 1.1   9.5 0.7   0.1 1.1 \n",
       "6 Bangladesh   4.3  3.3  2.7 86.4  0.2 0.0  0.4   0.6 0.3   0.0 0.1   0.3 0.1 \n",
       "  surw tles tmor watp\n",
       "1  7.3 45.2  8.2 45.3\n",
       "2  0.0 20.6  1.1 77.9\n",
       "3 18.0 46.1 15.6 34.5\n",
       "4  0.0  1.6  0.1 97.6\n",
       "5  7.0 18.7  4.4 75.9\n",
       "6  1.2 22.7  1.6 75.5"
      ]
     },
     "metadata": {},
     "output_type": "display_data"
    },
    {
     "data": {
      "text/html": [
       "<style>\n",
       ".list-inline {list-style: none; margin:0; padding: 0}\n",
       ".list-inline>li {display: inline-block}\n",
       ".list-inline>li:not(:last-child)::after {content: \"\\00b7\"; padding: 0 .5ex}\n",
       "</style>\n",
       "<ol class=list-inline><li>1</li><li>2</li><li>1</li><li>2</li><li>3</li><li>3</li><li>1</li><li>3</li><li>1</li><li>1</li><li>4</li><li>1</li><li>1</li><li>2</li><li>3</li><li>1</li><li>1</li><li>1</li><li>3</li><li>2</li><li>1</li><li>1</li><li>1</li><li>3</li><li>1</li><li>1</li><li>3</li><li>1</li><li>3</li><li>1</li><li>2</li><li>3</li><li>3</li><li>2</li><li>1</li><li>3</li><li>1</li><li>1</li><li>1</li><li>1</li><li>3</li><li>1</li><li>1</li><li>4</li><li>4</li><li>1</li><li>1</li><li>3</li><li>3</li><li>3</li><li>1</li><li>1</li><li>3</li><li>1</li><li>2</li><li>3</li><li>1</li><li>1</li><li>3</li><li>1</li><li>3</li><li>3</li><li>1</li><li>3</li><li>1</li><li>2</li><li>3</li><li>1</li><li>4</li><li>4</li><li>3</li><li>1</li><li>1</li></ol>\n"
      ],
      "text/latex": [
       "\\begin{enumerate*}\n",
       "\\item 1\n",
       "\\item 2\n",
       "\\item 1\n",
       "\\item 2\n",
       "\\item 3\n",
       "\\item 3\n",
       "\\item 1\n",
       "\\item 3\n",
       "\\item 1\n",
       "\\item 1\n",
       "\\item 4\n",
       "\\item 1\n",
       "\\item 1\n",
       "\\item 2\n",
       "\\item 3\n",
       "\\item 1\n",
       "\\item 1\n",
       "\\item 1\n",
       "\\item 3\n",
       "\\item 2\n",
       "\\item 1\n",
       "\\item 1\n",
       "\\item 1\n",
       "\\item 3\n",
       "\\item 1\n",
       "\\item 1\n",
       "\\item 3\n",
       "\\item 1\n",
       "\\item 3\n",
       "\\item 1\n",
       "\\item 2\n",
       "\\item 3\n",
       "\\item 3\n",
       "\\item 2\n",
       "\\item 1\n",
       "\\item 3\n",
       "\\item 1\n",
       "\\item 1\n",
       "\\item 1\n",
       "\\item 1\n",
       "\\item 3\n",
       "\\item 1\n",
       "\\item 1\n",
       "\\item 4\n",
       "\\item 4\n",
       "\\item 1\n",
       "\\item 1\n",
       "\\item 3\n",
       "\\item 3\n",
       "\\item 3\n",
       "\\item 1\n",
       "\\item 1\n",
       "\\item 3\n",
       "\\item 1\n",
       "\\item 2\n",
       "\\item 3\n",
       "\\item 1\n",
       "\\item 1\n",
       "\\item 3\n",
       "\\item 1\n",
       "\\item 3\n",
       "\\item 3\n",
       "\\item 1\n",
       "\\item 3\n",
       "\\item 1\n",
       "\\item 2\n",
       "\\item 3\n",
       "\\item 1\n",
       "\\item 4\n",
       "\\item 4\n",
       "\\item 3\n",
       "\\item 1\n",
       "\\item 1\n",
       "\\end{enumerate*}\n"
      ],
      "text/markdown": [
       "1. 1\n",
       "2. 2\n",
       "3. 1\n",
       "4. 2\n",
       "5. 3\n",
       "6. 3\n",
       "7. 1\n",
       "8. 3\n",
       "9. 1\n",
       "10. 1\n",
       "11. 4\n",
       "12. 1\n",
       "13. 1\n",
       "14. 2\n",
       "15. 3\n",
       "16. 1\n",
       "17. 1\n",
       "18. 1\n",
       "19. 3\n",
       "20. 2\n",
       "21. 1\n",
       "22. 1\n",
       "23. 1\n",
       "24. 3\n",
       "25. 1\n",
       "26. 1\n",
       "27. 3\n",
       "28. 1\n",
       "29. 3\n",
       "30. 1\n",
       "31. 2\n",
       "32. 3\n",
       "33. 3\n",
       "34. 2\n",
       "35. 1\n",
       "36. 3\n",
       "37. 1\n",
       "38. 1\n",
       "39. 1\n",
       "40. 1\n",
       "41. 3\n",
       "42. 1\n",
       "43. 1\n",
       "44. 4\n",
       "45. 4\n",
       "46. 1\n",
       "47. 1\n",
       "48. 3\n",
       "49. 3\n",
       "50. 3\n",
       "51. 1\n",
       "52. 1\n",
       "53. 3\n",
       "54. 1\n",
       "55. 2\n",
       "56. 3\n",
       "57. 1\n",
       "58. 1\n",
       "59. 3\n",
       "60. 1\n",
       "61. 3\n",
       "62. 3\n",
       "63. 1\n",
       "64. 3\n",
       "65. 1\n",
       "66. 2\n",
       "67. 3\n",
       "68. 1\n",
       "69. 4\n",
       "70. 4\n",
       "71. 3\n",
       "72. 1\n",
       "73. 1\n",
       "\n",
       "\n"
      ],
      "text/plain": [
       " [1] 1 2 1 2 3 3 1 3 1 1 4 1 1 2 3 1 1 1 3 2 1 1 1 3 1 1 3 1 3 1 2 3 3 2 1 3 1 1\n",
       "[39] 1 1 3 1 1 4 4 1 1 3 3 3 1 1 3 1 2 3 1 1 3 1 3 3 1 3 1 2 3 1 4 4 3 1 1"
      ]
     },
     "metadata": {},
     "output_type": "display_data"
    }
   ],
   "source": [
    "df.wa = read_excel( \"../../results/df-water-access.xlsx\" ,sheet=1)\n",
    "df.explore =read_excel(\"../../results/df-water-explore.xlsx\" ,sheet=1)\n",
    "df.cluster = read_excel(\"../../results/dfcluster-rank.xlsx\" ,sheet=1)\n",
    "df.wb = read_excel(\"../../results/df-wb.xlsx\" ,sheet=1 )\n",
    "df.explore$clusters <- as.numeric(df.cluster$clusters)\n",
    "head(df.wa)\n",
    "df.explore$clusters\n"
   ]
  },
  {
   "cell_type": "markdown",
   "metadata": {},
   "source": [
    "Matching country from world bank and data frame df.explore"
   ]
  },
  {
   "cell_type": "code",
   "execution_count": 44,
   "metadata": {},
   "outputs": [
    {
     "data": {
      "text/html": [
       "<style>\n",
       ".list-inline {list-style: none; margin:0; padding: 0}\n",
       ".list-inline>li {display: inline-block}\n",
       ".list-inline>li:not(:last-child)::after {content: \"\\00b7\"; padding: 0 .5ex}\n",
       "</style>\n",
       "<ol class=list-inline><li>'Afghanistan'</li><li>'Albania'</li><li>'Angola'</li><li>'Armenia'</li><li>'Azerbaijan'</li><li>'Bangladesh'</li><li>'Benin'</li><li>'Bolivia'</li><li>'Burkina Faso'</li><li>'Burundi'</li><li>'Cambodia'</li><li>'Cameroon'</li><li>'Chad'</li><li>'Colombia'</li><li>'Comoros'</li><li>'Congo'</li><li>'Congo Democratic Republic'</li><li>'Cote d\\'Ivoire'</li><li>'Dominican Republic'</li><li>'Egypt'</li><li>'Eritrea'</li><li>'Eswatini'</li><li>'Ethiopia'</li><li>'Gabon'</li><li>'Gambia'</li><li>'Ghana'</li><li>'Guatemala'</li><li>'Guinea'</li><li>'Guyana'</li><li>'Haiti'</li><li>'Honduras'</li><li>'India'</li><li>'Indonesia'</li><li>'Jordan'</li><li>'Kenya'</li><li>'Kyrgyz Republic'</li><li>'Lesotho'</li><li>'Liberia'</li><li>'Madagascar'</li><li>'Malawi'</li><li>'Maldives'</li><li>'Mali'</li><li>'Mauritania'</li><li>'Moldova'</li><li>'Morocco'</li><li>'Mozambique'</li><li>'Myanmar'</li><li>'Namibia'</li><li>'Nepal'</li><li>'Nicaragua'</li><li>'Niger'</li><li>'Nigeria'</li><li>'Pakistan'</li><li>'Papua New Guinea'</li><li>'Peru'</li><li>'Philippines'</li><li>'Rwanda'</li><li>'Sao Tome and Principe'</li><li>'Senegal'</li><li>'Sierra Leone'</li><li>'South Africa'</li><li>'Tajikistan'</li><li>'Tanzania'</li><li>'Timor-Leste'</li><li>'Togo'</li><li>'Turkey'</li><li>'Turkmenistan'</li><li>'Uganda'</li><li>'Ukraine'</li><li>'Vietnam'</li><li>'Yemen'</li><li>'Zambia'</li><li>'Zimbabwe'</li></ol>\n"
      ],
      "text/latex": [
       "\\begin{enumerate*}\n",
       "\\item 'Afghanistan'\n",
       "\\item 'Albania'\n",
       "\\item 'Angola'\n",
       "\\item 'Armenia'\n",
       "\\item 'Azerbaijan'\n",
       "\\item 'Bangladesh'\n",
       "\\item 'Benin'\n",
       "\\item 'Bolivia'\n",
       "\\item 'Burkina Faso'\n",
       "\\item 'Burundi'\n",
       "\\item 'Cambodia'\n",
       "\\item 'Cameroon'\n",
       "\\item 'Chad'\n",
       "\\item 'Colombia'\n",
       "\\item 'Comoros'\n",
       "\\item 'Congo'\n",
       "\\item 'Congo Democratic Republic'\n",
       "\\item 'Cote d\\textbackslash{}'Ivoire'\n",
       "\\item 'Dominican Republic'\n",
       "\\item 'Egypt'\n",
       "\\item 'Eritrea'\n",
       "\\item 'Eswatini'\n",
       "\\item 'Ethiopia'\n",
       "\\item 'Gabon'\n",
       "\\item 'Gambia'\n",
       "\\item 'Ghana'\n",
       "\\item 'Guatemala'\n",
       "\\item 'Guinea'\n",
       "\\item 'Guyana'\n",
       "\\item 'Haiti'\n",
       "\\item 'Honduras'\n",
       "\\item 'India'\n",
       "\\item 'Indonesia'\n",
       "\\item 'Jordan'\n",
       "\\item 'Kenya'\n",
       "\\item 'Kyrgyz Republic'\n",
       "\\item 'Lesotho'\n",
       "\\item 'Liberia'\n",
       "\\item 'Madagascar'\n",
       "\\item 'Malawi'\n",
       "\\item 'Maldives'\n",
       "\\item 'Mali'\n",
       "\\item 'Mauritania'\n",
       "\\item 'Moldova'\n",
       "\\item 'Morocco'\n",
       "\\item 'Mozambique'\n",
       "\\item 'Myanmar'\n",
       "\\item 'Namibia'\n",
       "\\item 'Nepal'\n",
       "\\item 'Nicaragua'\n",
       "\\item 'Niger'\n",
       "\\item 'Nigeria'\n",
       "\\item 'Pakistan'\n",
       "\\item 'Papua New Guinea'\n",
       "\\item 'Peru'\n",
       "\\item 'Philippines'\n",
       "\\item 'Rwanda'\n",
       "\\item 'Sao Tome and Principe'\n",
       "\\item 'Senegal'\n",
       "\\item 'Sierra Leone'\n",
       "\\item 'South Africa'\n",
       "\\item 'Tajikistan'\n",
       "\\item 'Tanzania'\n",
       "\\item 'Timor-Leste'\n",
       "\\item 'Togo'\n",
       "\\item 'Turkey'\n",
       "\\item 'Turkmenistan'\n",
       "\\item 'Uganda'\n",
       "\\item 'Ukraine'\n",
       "\\item 'Vietnam'\n",
       "\\item 'Yemen'\n",
       "\\item 'Zambia'\n",
       "\\item 'Zimbabwe'\n",
       "\\end{enumerate*}\n"
      ],
      "text/markdown": [
       "1. 'Afghanistan'\n",
       "2. 'Albania'\n",
       "3. 'Angola'\n",
       "4. 'Armenia'\n",
       "5. 'Azerbaijan'\n",
       "6. 'Bangladesh'\n",
       "7. 'Benin'\n",
       "8. 'Bolivia'\n",
       "9. 'Burkina Faso'\n",
       "10. 'Burundi'\n",
       "11. 'Cambodia'\n",
       "12. 'Cameroon'\n",
       "13. 'Chad'\n",
       "14. 'Colombia'\n",
       "15. 'Comoros'\n",
       "16. 'Congo'\n",
       "17. 'Congo Democratic Republic'\n",
       "18. 'Cote d\\'Ivoire'\n",
       "19. 'Dominican Republic'\n",
       "20. 'Egypt'\n",
       "21. 'Eritrea'\n",
       "22. 'Eswatini'\n",
       "23. 'Ethiopia'\n",
       "24. 'Gabon'\n",
       "25. 'Gambia'\n",
       "26. 'Ghana'\n",
       "27. 'Guatemala'\n",
       "28. 'Guinea'\n",
       "29. 'Guyana'\n",
       "30. 'Haiti'\n",
       "31. 'Honduras'\n",
       "32. 'India'\n",
       "33. 'Indonesia'\n",
       "34. 'Jordan'\n",
       "35. 'Kenya'\n",
       "36. 'Kyrgyz Republic'\n",
       "37. 'Lesotho'\n",
       "38. 'Liberia'\n",
       "39. 'Madagascar'\n",
       "40. 'Malawi'\n",
       "41. 'Maldives'\n",
       "42. 'Mali'\n",
       "43. 'Mauritania'\n",
       "44. 'Moldova'\n",
       "45. 'Morocco'\n",
       "46. 'Mozambique'\n",
       "47. 'Myanmar'\n",
       "48. 'Namibia'\n",
       "49. 'Nepal'\n",
       "50. 'Nicaragua'\n",
       "51. 'Niger'\n",
       "52. 'Nigeria'\n",
       "53. 'Pakistan'\n",
       "54. 'Papua New Guinea'\n",
       "55. 'Peru'\n",
       "56. 'Philippines'\n",
       "57. 'Rwanda'\n",
       "58. 'Sao Tome and Principe'\n",
       "59. 'Senegal'\n",
       "60. 'Sierra Leone'\n",
       "61. 'South Africa'\n",
       "62. 'Tajikistan'\n",
       "63. 'Tanzania'\n",
       "64. 'Timor-Leste'\n",
       "65. 'Togo'\n",
       "66. 'Turkey'\n",
       "67. 'Turkmenistan'\n",
       "68. 'Uganda'\n",
       "69. 'Ukraine'\n",
       "70. 'Vietnam'\n",
       "71. 'Yemen'\n",
       "72. 'Zambia'\n",
       "73. 'Zimbabwe'\n",
       "\n",
       "\n"
      ],
      "text/plain": [
       " [1] \"Afghanistan\"               \"Albania\"                  \n",
       " [3] \"Angola\"                    \"Armenia\"                  \n",
       " [5] \"Azerbaijan\"                \"Bangladesh\"               \n",
       " [7] \"Benin\"                     \"Bolivia\"                  \n",
       " [9] \"Burkina Faso\"              \"Burundi\"                  \n",
       "[11] \"Cambodia\"                  \"Cameroon\"                 \n",
       "[13] \"Chad\"                      \"Colombia\"                 \n",
       "[15] \"Comoros\"                   \"Congo\"                    \n",
       "[17] \"Congo Democratic Republic\" \"Cote d'Ivoire\"            \n",
       "[19] \"Dominican Republic\"        \"Egypt\"                    \n",
       "[21] \"Eritrea\"                   \"Eswatini\"                 \n",
       "[23] \"Ethiopia\"                  \"Gabon\"                    \n",
       "[25] \"Gambia\"                    \"Ghana\"                    \n",
       "[27] \"Guatemala\"                 \"Guinea\"                   \n",
       "[29] \"Guyana\"                    \"Haiti\"                    \n",
       "[31] \"Honduras\"                  \"India\"                    \n",
       "[33] \"Indonesia\"                 \"Jordan\"                   \n",
       "[35] \"Kenya\"                     \"Kyrgyz Republic\"          \n",
       "[37] \"Lesotho\"                   \"Liberia\"                  \n",
       "[39] \"Madagascar\"                \"Malawi\"                   \n",
       "[41] \"Maldives\"                  \"Mali\"                     \n",
       "[43] \"Mauritania\"                \"Moldova\"                  \n",
       "[45] \"Morocco\"                   \"Mozambique\"               \n",
       "[47] \"Myanmar\"                   \"Namibia\"                  \n",
       "[49] \"Nepal\"                     \"Nicaragua\"                \n",
       "[51] \"Niger\"                     \"Nigeria\"                  \n",
       "[53] \"Pakistan\"                  \"Papua New Guinea\"         \n",
       "[55] \"Peru\"                      \"Philippines\"              \n",
       "[57] \"Rwanda\"                    \"Sao Tome and Principe\"    \n",
       "[59] \"Senegal\"                   \"Sierra Leone\"             \n",
       "[61] \"South Africa\"              \"Tajikistan\"               \n",
       "[63] \"Tanzania\"                  \"Timor-Leste\"              \n",
       "[65] \"Togo\"                      \"Turkey\"                   \n",
       "[67] \"Turkmenistan\"              \"Uganda\"                   \n",
       "[69] \"Ukraine\"                   \"Vietnam\"                  \n",
       "[71] \"Yemen\"                     \"Zambia\"                   \n",
       "[73] \"Zimbabwe\"                 "
      ]
     },
     "metadata": {},
     "output_type": "display_data"
    },
    {
     "data": {
      "text/html": [
       "<style>\n",
       ".list-inline {list-style: none; margin:0; padding: 0}\n",
       ".list-inline>li {display: inline-block}\n",
       ".list-inline>li:not(:last-child)::after {content: \"\\00b7\"; padding: 0 .5ex}\n",
       "</style>\n",
       "<ol class=list-inline><li>'Afghanistan'</li><li>'Albania'</li><li>'Algeria'</li><li>'American Samoa'</li><li>'Andorra'</li><li>'Angola'</li><li>'Antigua and Barbuda'</li><li>'Argentina'</li><li>'Armenia'</li><li>'Aruba'</li><li>'Australia'</li><li>'Austria'</li><li>'Azerbaijan'</li><li>'Bahamas, The'</li><li>'Bahrain'</li><li>'Bangladesh'</li><li>'Barbados'</li><li>'Belarus'</li><li>'Belgium'</li><li>'Belize'</li><li>'Benin'</li><li>'Bermuda'</li><li>'Bhutan'</li><li>'Bolivia'</li><li>'Bosnia and Herzegovina'</li><li>'Botswana'</li><li>'Brazil'</li><li>'British Virgin Islands'</li><li>'Brunei Darussalam'</li><li>'Bulgaria'</li><li>'Burkina Faso'</li><li>'Burundi'</li><li>'Cabo Verde'</li><li>'Cambodia'</li><li>'Cameroon'</li><li>'Canada'</li><li>'Cayman Islands'</li><li>'Central African Republic'</li><li>'Chad'</li><li>'Channel Islands'</li><li>'Chile'</li><li>'China'</li><li>'Colombia'</li><li>'Comoros'</li><li>'Congo, Dem. Rep.'</li><li>'Congo, Rep.'</li><li>'Costa Rica'</li><li>'Cote d\\'Ivoire'</li><li>'Croatia'</li><li>'Cuba'</li><li>'Curacao'</li><li>'Cyprus'</li><li>'Czech Republic'</li><li>'Denmark'</li><li>'Djibouti'</li><li>'Dominica'</li><li>'Dominican Republic'</li><li>'Ecuador'</li><li>'Egypt, Arab Rep.'</li><li>'El Salvador'</li><li>'Equatorial Guinea'</li><li>'Eritrea'</li><li>'Estonia'</li><li>'Eswatini'</li><li>'Ethiopia'</li><li>'Faroe Islands'</li><li>'Fiji'</li><li>'Finland'</li><li>'France'</li><li>'French Polynesia'</li><li>'Gabon'</li><li>'Gambia, The'</li><li>'Georgia'</li><li>'Germany'</li><li>'Ghana'</li><li>'Gibraltar'</li><li>'Greece'</li><li>'Greenland'</li><li>'Grenada'</li><li>'Guam'</li><li>'Guatemala'</li><li>'Guinea'</li><li>'Guinea-Bissau'</li><li>'Guyana'</li><li>'Haiti'</li><li>'Honduras'</li><li>'Hong Kong SAR, China'</li><li>'Hungary'</li><li>'Iceland'</li><li>'India'</li><li>'Indonesia'</li><li>'Iran, Islamic Rep.'</li><li>'Iraq'</li><li>'Ireland'</li><li>'Isle of Man'</li><li>'Israel'</li><li>'Italy'</li><li>'Jamaica'</li><li>'Japan'</li><li>'Jordan'</li><li>'Kazakhstan'</li><li>'Kenya'</li><li>'Kiribati'</li><li>'Korea, Dem. People’s Rep.'</li><li>'Korea, Rep.'</li><li>'Kosovo'</li><li>'Kuwait'</li><li>'Kyrgyz Republic'</li><li>'Lao PDR'</li><li>'Latvia'</li><li>'Lebanon'</li><li>'Lesotho'</li><li>'Liberia'</li><li>'Libya'</li><li>'Liechtenstein'</li><li>'Lithuania'</li><li>'Luxembourg'</li><li>'Macao SAR, China'</li><li>'Madagascar'</li><li>'Malawi'</li><li>'Malaysia'</li><li>'Maldives'</li><li>'Mali'</li><li>'Malta'</li><li>'Marshall Islands'</li><li>'Mauritania'</li><li>'Mauritius'</li><li>'Mexico'</li><li>'Micronesia, Fed. Sts.'</li><li>'Moldova'</li><li>'Monaco'</li><li>'Mongolia'</li><li>'Montenegro'</li><li>'Morocco'</li><li>'Mozambique'</li><li>'Myanmar'</li><li>'namibia'</li><li>'nauru'</li><li>'Nepal'</li><li>'Netherlands'</li><li>'New Caledonia'</li><li>'New Zealand'</li><li>'Nicaragua'</li><li>'Niger'</li><li>'Nigeria'</li><li>'North Macedonia'</li><li>'Northern Mariana Islands'</li><li>'Norway'</li><li>'Oman'</li><li>'Pakistan'</li><li>'Palau'</li><li>'Panama'</li><li>'Papua New Guinea'</li><li>'Paraguay'</li><li>'Peru'</li><li>'Philippines'</li><li>'Poland'</li><li>'Portugal'</li><li>'Puerto Rico'</li><li>'Qatar'</li><li>'Romania'</li><li>'Russian Federation'</li><li>'Rwanda'</li><li>'Samoa'</li><li>'San Marino'</li><li>'Sao Tome and Principe'</li><li>'Saudi Arabia'</li><li>'Senegal'</li><li>'Serbia'</li><li>'Seychelles'</li><li>'Sierra Leone'</li><li>'Singapore'</li><li>'Sint Maarten (Dutch part)'</li><li>'Slovak Republic'</li><li>'Slovenia'</li><li>'Solomon Islands'</li><li>'Somalia'</li><li>'South Africa'</li><li>'South Sudan'</li><li>'Spain'</li><li>'Sri Lanka'</li><li>'St. Kitts and Nevis'</li><li>'St. Lucia'</li><li>'St. Martin (French part)'</li><li>'St. Vincent and the Grenadines'</li><li>'Sudan'</li><li>'Suriname'</li><li>'Sweden'</li><li>'Switzerland'</li><li>'Syrian Arab Republic'</li><li>'Tajikistan'</li><li>'Tanzania'</li><li>'Thailand'</li><li>'Timor-Leste'</li><li>'Togo'</li><li>'Tonga'</li><li>'Trinidad and Tobago'</li><li>'Tunisia'</li><li>'Turkey'</li><li>'Turkmenistan'</li><li>'Turks and Caicos Islands'</li><li>'Tuvalu'</li><li>'Uganda'</li><li>'Ukraine'</li><li>'United Arab Emirates'</li><li>'United Kingdom'</li><li>'United States'</li><li>'Uruguay'</li><li>'Uzbekistan'</li><li>'Vanuatu'</li><li>'Venezuela, RB'</li><li>'Vietnam'</li><li>'Virgin Islands (U.S.)'</li><li>'West Bank and Gaza'</li><li>'Yemen, Rep.'</li><li>'Zambia'</li><li>'Zimbabwe'</li></ol>\n"
      ],
      "text/latex": [
       "\\begin{enumerate*}\n",
       "\\item 'Afghanistan'\n",
       "\\item 'Albania'\n",
       "\\item 'Algeria'\n",
       "\\item 'American Samoa'\n",
       "\\item 'Andorra'\n",
       "\\item 'Angola'\n",
       "\\item 'Antigua and Barbuda'\n",
       "\\item 'Argentina'\n",
       "\\item 'Armenia'\n",
       "\\item 'Aruba'\n",
       "\\item 'Australia'\n",
       "\\item 'Austria'\n",
       "\\item 'Azerbaijan'\n",
       "\\item 'Bahamas, The'\n",
       "\\item 'Bahrain'\n",
       "\\item 'Bangladesh'\n",
       "\\item 'Barbados'\n",
       "\\item 'Belarus'\n",
       "\\item 'Belgium'\n",
       "\\item 'Belize'\n",
       "\\item 'Benin'\n",
       "\\item 'Bermuda'\n",
       "\\item 'Bhutan'\n",
       "\\item 'Bolivia'\n",
       "\\item 'Bosnia and Herzegovina'\n",
       "\\item 'Botswana'\n",
       "\\item 'Brazil'\n",
       "\\item 'British Virgin Islands'\n",
       "\\item 'Brunei Darussalam'\n",
       "\\item 'Bulgaria'\n",
       "\\item 'Burkina Faso'\n",
       "\\item 'Burundi'\n",
       "\\item 'Cabo Verde'\n",
       "\\item 'Cambodia'\n",
       "\\item 'Cameroon'\n",
       "\\item 'Canada'\n",
       "\\item 'Cayman Islands'\n",
       "\\item 'Central African Republic'\n",
       "\\item 'Chad'\n",
       "\\item 'Channel Islands'\n",
       "\\item 'Chile'\n",
       "\\item 'China'\n",
       "\\item 'Colombia'\n",
       "\\item 'Comoros'\n",
       "\\item 'Congo, Dem. Rep.'\n",
       "\\item 'Congo, Rep.'\n",
       "\\item 'Costa Rica'\n",
       "\\item 'Cote d\\textbackslash{}'Ivoire'\n",
       "\\item 'Croatia'\n",
       "\\item 'Cuba'\n",
       "\\item 'Curacao'\n",
       "\\item 'Cyprus'\n",
       "\\item 'Czech Republic'\n",
       "\\item 'Denmark'\n",
       "\\item 'Djibouti'\n",
       "\\item 'Dominica'\n",
       "\\item 'Dominican Republic'\n",
       "\\item 'Ecuador'\n",
       "\\item 'Egypt, Arab Rep.'\n",
       "\\item 'El Salvador'\n",
       "\\item 'Equatorial Guinea'\n",
       "\\item 'Eritrea'\n",
       "\\item 'Estonia'\n",
       "\\item 'Eswatini'\n",
       "\\item 'Ethiopia'\n",
       "\\item 'Faroe Islands'\n",
       "\\item 'Fiji'\n",
       "\\item 'Finland'\n",
       "\\item 'France'\n",
       "\\item 'French Polynesia'\n",
       "\\item 'Gabon'\n",
       "\\item 'Gambia, The'\n",
       "\\item 'Georgia'\n",
       "\\item 'Germany'\n",
       "\\item 'Ghana'\n",
       "\\item 'Gibraltar'\n",
       "\\item 'Greece'\n",
       "\\item 'Greenland'\n",
       "\\item 'Grenada'\n",
       "\\item 'Guam'\n",
       "\\item 'Guatemala'\n",
       "\\item 'Guinea'\n",
       "\\item 'Guinea-Bissau'\n",
       "\\item 'Guyana'\n",
       "\\item 'Haiti'\n",
       "\\item 'Honduras'\n",
       "\\item 'Hong Kong SAR, China'\n",
       "\\item 'Hungary'\n",
       "\\item 'Iceland'\n",
       "\\item 'India'\n",
       "\\item 'Indonesia'\n",
       "\\item 'Iran, Islamic Rep.'\n",
       "\\item 'Iraq'\n",
       "\\item 'Ireland'\n",
       "\\item 'Isle of Man'\n",
       "\\item 'Israel'\n",
       "\\item 'Italy'\n",
       "\\item 'Jamaica'\n",
       "\\item 'Japan'\n",
       "\\item 'Jordan'\n",
       "\\item 'Kazakhstan'\n",
       "\\item 'Kenya'\n",
       "\\item 'Kiribati'\n",
       "\\item 'Korea, Dem. People’s Rep.'\n",
       "\\item 'Korea, Rep.'\n",
       "\\item 'Kosovo'\n",
       "\\item 'Kuwait'\n",
       "\\item 'Kyrgyz Republic'\n",
       "\\item 'Lao PDR'\n",
       "\\item 'Latvia'\n",
       "\\item 'Lebanon'\n",
       "\\item 'Lesotho'\n",
       "\\item 'Liberia'\n",
       "\\item 'Libya'\n",
       "\\item 'Liechtenstein'\n",
       "\\item 'Lithuania'\n",
       "\\item 'Luxembourg'\n",
       "\\item 'Macao SAR, China'\n",
       "\\item 'Madagascar'\n",
       "\\item 'Malawi'\n",
       "\\item 'Malaysia'\n",
       "\\item 'Maldives'\n",
       "\\item 'Mali'\n",
       "\\item 'Malta'\n",
       "\\item 'Marshall Islands'\n",
       "\\item 'Mauritania'\n",
       "\\item 'Mauritius'\n",
       "\\item 'Mexico'\n",
       "\\item 'Micronesia, Fed. Sts.'\n",
       "\\item 'Moldova'\n",
       "\\item 'Monaco'\n",
       "\\item 'Mongolia'\n",
       "\\item 'Montenegro'\n",
       "\\item 'Morocco'\n",
       "\\item 'Mozambique'\n",
       "\\item 'Myanmar'\n",
       "\\item 'namibia'\n",
       "\\item 'nauru'\n",
       "\\item 'Nepal'\n",
       "\\item 'Netherlands'\n",
       "\\item 'New Caledonia'\n",
       "\\item 'New Zealand'\n",
       "\\item 'Nicaragua'\n",
       "\\item 'Niger'\n",
       "\\item 'Nigeria'\n",
       "\\item 'North Macedonia'\n",
       "\\item 'Northern Mariana Islands'\n",
       "\\item 'Norway'\n",
       "\\item 'Oman'\n",
       "\\item 'Pakistan'\n",
       "\\item 'Palau'\n",
       "\\item 'Panama'\n",
       "\\item 'Papua New Guinea'\n",
       "\\item 'Paraguay'\n",
       "\\item 'Peru'\n",
       "\\item 'Philippines'\n",
       "\\item 'Poland'\n",
       "\\item 'Portugal'\n",
       "\\item 'Puerto Rico'\n",
       "\\item 'Qatar'\n",
       "\\item 'Romania'\n",
       "\\item 'Russian Federation'\n",
       "\\item 'Rwanda'\n",
       "\\item 'Samoa'\n",
       "\\item 'San Marino'\n",
       "\\item 'Sao Tome and Principe'\n",
       "\\item 'Saudi Arabia'\n",
       "\\item 'Senegal'\n",
       "\\item 'Serbia'\n",
       "\\item 'Seychelles'\n",
       "\\item 'Sierra Leone'\n",
       "\\item 'Singapore'\n",
       "\\item 'Sint Maarten (Dutch part)'\n",
       "\\item 'Slovak Republic'\n",
       "\\item 'Slovenia'\n",
       "\\item 'Solomon Islands'\n",
       "\\item 'Somalia'\n",
       "\\item 'South Africa'\n",
       "\\item 'South Sudan'\n",
       "\\item 'Spain'\n",
       "\\item 'Sri Lanka'\n",
       "\\item 'St. Kitts and Nevis'\n",
       "\\item 'St. Lucia'\n",
       "\\item 'St. Martin (French part)'\n",
       "\\item 'St. Vincent and the Grenadines'\n",
       "\\item 'Sudan'\n",
       "\\item 'Suriname'\n",
       "\\item 'Sweden'\n",
       "\\item 'Switzerland'\n",
       "\\item 'Syrian Arab Republic'\n",
       "\\item 'Tajikistan'\n",
       "\\item 'Tanzania'\n",
       "\\item 'Thailand'\n",
       "\\item 'Timor-Leste'\n",
       "\\item 'Togo'\n",
       "\\item 'Tonga'\n",
       "\\item 'Trinidad and Tobago'\n",
       "\\item 'Tunisia'\n",
       "\\item 'Turkey'\n",
       "\\item 'Turkmenistan'\n",
       "\\item 'Turks and Caicos Islands'\n",
       "\\item 'Tuvalu'\n",
       "\\item 'Uganda'\n",
       "\\item 'Ukraine'\n",
       "\\item 'United Arab Emirates'\n",
       "\\item 'United Kingdom'\n",
       "\\item 'United States'\n",
       "\\item 'Uruguay'\n",
       "\\item 'Uzbekistan'\n",
       "\\item 'Vanuatu'\n",
       "\\item 'Venezuela, RB'\n",
       "\\item 'Vietnam'\n",
       "\\item 'Virgin Islands (U.S.)'\n",
       "\\item 'West Bank and Gaza'\n",
       "\\item 'Yemen, Rep.'\n",
       "\\item 'Zambia'\n",
       "\\item 'Zimbabwe'\n",
       "\\end{enumerate*}\n"
      ],
      "text/markdown": [
       "1. 'Afghanistan'\n",
       "2. 'Albania'\n",
       "3. 'Algeria'\n",
       "4. 'American Samoa'\n",
       "5. 'Andorra'\n",
       "6. 'Angola'\n",
       "7. 'Antigua and Barbuda'\n",
       "8. 'Argentina'\n",
       "9. 'Armenia'\n",
       "10. 'Aruba'\n",
       "11. 'Australia'\n",
       "12. 'Austria'\n",
       "13. 'Azerbaijan'\n",
       "14. 'Bahamas, The'\n",
       "15. 'Bahrain'\n",
       "16. 'Bangladesh'\n",
       "17. 'Barbados'\n",
       "18. 'Belarus'\n",
       "19. 'Belgium'\n",
       "20. 'Belize'\n",
       "21. 'Benin'\n",
       "22. 'Bermuda'\n",
       "23. 'Bhutan'\n",
       "24. 'Bolivia'\n",
       "25. 'Bosnia and Herzegovina'\n",
       "26. 'Botswana'\n",
       "27. 'Brazil'\n",
       "28. 'British Virgin Islands'\n",
       "29. 'Brunei Darussalam'\n",
       "30. 'Bulgaria'\n",
       "31. 'Burkina Faso'\n",
       "32. 'Burundi'\n",
       "33. 'Cabo Verde'\n",
       "34. 'Cambodia'\n",
       "35. 'Cameroon'\n",
       "36. 'Canada'\n",
       "37. 'Cayman Islands'\n",
       "38. 'Central African Republic'\n",
       "39. 'Chad'\n",
       "40. 'Channel Islands'\n",
       "41. 'Chile'\n",
       "42. 'China'\n",
       "43. 'Colombia'\n",
       "44. 'Comoros'\n",
       "45. 'Congo, Dem. Rep.'\n",
       "46. 'Congo, Rep.'\n",
       "47. 'Costa Rica'\n",
       "48. 'Cote d\\'Ivoire'\n",
       "49. 'Croatia'\n",
       "50. 'Cuba'\n",
       "51. 'Curacao'\n",
       "52. 'Cyprus'\n",
       "53. 'Czech Republic'\n",
       "54. 'Denmark'\n",
       "55. 'Djibouti'\n",
       "56. 'Dominica'\n",
       "57. 'Dominican Republic'\n",
       "58. 'Ecuador'\n",
       "59. 'Egypt, Arab Rep.'\n",
       "60. 'El Salvador'\n",
       "61. 'Equatorial Guinea'\n",
       "62. 'Eritrea'\n",
       "63. 'Estonia'\n",
       "64. 'Eswatini'\n",
       "65. 'Ethiopia'\n",
       "66. 'Faroe Islands'\n",
       "67. 'Fiji'\n",
       "68. 'Finland'\n",
       "69. 'France'\n",
       "70. 'French Polynesia'\n",
       "71. 'Gabon'\n",
       "72. 'Gambia, The'\n",
       "73. 'Georgia'\n",
       "74. 'Germany'\n",
       "75. 'Ghana'\n",
       "76. 'Gibraltar'\n",
       "77. 'Greece'\n",
       "78. 'Greenland'\n",
       "79. 'Grenada'\n",
       "80. 'Guam'\n",
       "81. 'Guatemala'\n",
       "82. 'Guinea'\n",
       "83. 'Guinea-Bissau'\n",
       "84. 'Guyana'\n",
       "85. 'Haiti'\n",
       "86. 'Honduras'\n",
       "87. 'Hong Kong SAR, China'\n",
       "88. 'Hungary'\n",
       "89. 'Iceland'\n",
       "90. 'India'\n",
       "91. 'Indonesia'\n",
       "92. 'Iran, Islamic Rep.'\n",
       "93. 'Iraq'\n",
       "94. 'Ireland'\n",
       "95. 'Isle of Man'\n",
       "96. 'Israel'\n",
       "97. 'Italy'\n",
       "98. 'Jamaica'\n",
       "99. 'Japan'\n",
       "100. 'Jordan'\n",
       "101. 'Kazakhstan'\n",
       "102. 'Kenya'\n",
       "103. 'Kiribati'\n",
       "104. 'Korea, Dem. People’s Rep.'\n",
       "105. 'Korea, Rep.'\n",
       "106. 'Kosovo'\n",
       "107. 'Kuwait'\n",
       "108. 'Kyrgyz Republic'\n",
       "109. 'Lao PDR'\n",
       "110. 'Latvia'\n",
       "111. 'Lebanon'\n",
       "112. 'Lesotho'\n",
       "113. 'Liberia'\n",
       "114. 'Libya'\n",
       "115. 'Liechtenstein'\n",
       "116. 'Lithuania'\n",
       "117. 'Luxembourg'\n",
       "118. 'Macao SAR, China'\n",
       "119. 'Madagascar'\n",
       "120. 'Malawi'\n",
       "121. 'Malaysia'\n",
       "122. 'Maldives'\n",
       "123. 'Mali'\n",
       "124. 'Malta'\n",
       "125. 'Marshall Islands'\n",
       "126. 'Mauritania'\n",
       "127. 'Mauritius'\n",
       "128. 'Mexico'\n",
       "129. 'Micronesia, Fed. Sts.'\n",
       "130. 'Moldova'\n",
       "131. 'Monaco'\n",
       "132. 'Mongolia'\n",
       "133. 'Montenegro'\n",
       "134. 'Morocco'\n",
       "135. 'Mozambique'\n",
       "136. 'Myanmar'\n",
       "137. 'namibia'\n",
       "138. 'nauru'\n",
       "139. 'Nepal'\n",
       "140. 'Netherlands'\n",
       "141. 'New Caledonia'\n",
       "142. 'New Zealand'\n",
       "143. 'Nicaragua'\n",
       "144. 'Niger'\n",
       "145. 'Nigeria'\n",
       "146. 'North Macedonia'\n",
       "147. 'Northern Mariana Islands'\n",
       "148. 'Norway'\n",
       "149. 'Oman'\n",
       "150. 'Pakistan'\n",
       "151. 'Palau'\n",
       "152. 'Panama'\n",
       "153. 'Papua New Guinea'\n",
       "154. 'Paraguay'\n",
       "155. 'Peru'\n",
       "156. 'Philippines'\n",
       "157. 'Poland'\n",
       "158. 'Portugal'\n",
       "159. 'Puerto Rico'\n",
       "160. 'Qatar'\n",
       "161. 'Romania'\n",
       "162. 'Russian Federation'\n",
       "163. 'Rwanda'\n",
       "164. 'Samoa'\n",
       "165. 'San Marino'\n",
       "166. 'Sao Tome and Principe'\n",
       "167. 'Saudi Arabia'\n",
       "168. 'Senegal'\n",
       "169. 'Serbia'\n",
       "170. 'Seychelles'\n",
       "171. 'Sierra Leone'\n",
       "172. 'Singapore'\n",
       "173. 'Sint Maarten (Dutch part)'\n",
       "174. 'Slovak Republic'\n",
       "175. 'Slovenia'\n",
       "176. 'Solomon Islands'\n",
       "177. 'Somalia'\n",
       "178. 'South Africa'\n",
       "179. 'South Sudan'\n",
       "180. 'Spain'\n",
       "181. 'Sri Lanka'\n",
       "182. 'St. Kitts and Nevis'\n",
       "183. 'St. Lucia'\n",
       "184. 'St. Martin (French part)'\n",
       "185. 'St. Vincent and the Grenadines'\n",
       "186. 'Sudan'\n",
       "187. 'Suriname'\n",
       "188. 'Sweden'\n",
       "189. 'Switzerland'\n",
       "190. 'Syrian Arab Republic'\n",
       "191. 'Tajikistan'\n",
       "192. 'Tanzania'\n",
       "193. 'Thailand'\n",
       "194. 'Timor-Leste'\n",
       "195. 'Togo'\n",
       "196. 'Tonga'\n",
       "197. 'Trinidad and Tobago'\n",
       "198. 'Tunisia'\n",
       "199. 'Turkey'\n",
       "200. 'Turkmenistan'\n",
       "201. 'Turks and Caicos Islands'\n",
       "202. 'Tuvalu'\n",
       "203. 'Uganda'\n",
       "204. 'Ukraine'\n",
       "205. 'United Arab Emirates'\n",
       "206. 'United Kingdom'\n",
       "207. 'United States'\n",
       "208. 'Uruguay'\n",
       "209. 'Uzbekistan'\n",
       "210. 'Vanuatu'\n",
       "211. 'Venezuela, RB'\n",
       "212. 'Vietnam'\n",
       "213. 'Virgin Islands (U.S.)'\n",
       "214. 'West Bank and Gaza'\n",
       "215. 'Yemen, Rep.'\n",
       "216. 'Zambia'\n",
       "217. 'Zimbabwe'\n",
       "\n",
       "\n"
      ],
      "text/plain": [
       "  [1] \"Afghanistan\"                    \"Albania\"                       \n",
       "  [3] \"Algeria\"                        \"American Samoa\"                \n",
       "  [5] \"Andorra\"                        \"Angola\"                        \n",
       "  [7] \"Antigua and Barbuda\"            \"Argentina\"                     \n",
       "  [9] \"Armenia\"                        \"Aruba\"                         \n",
       " [11] \"Australia\"                      \"Austria\"                       \n",
       " [13] \"Azerbaijan\"                     \"Bahamas, The\"                  \n",
       " [15] \"Bahrain\"                        \"Bangladesh\"                    \n",
       " [17] \"Barbados\"                       \"Belarus\"                       \n",
       " [19] \"Belgium\"                        \"Belize\"                        \n",
       " [21] \"Benin\"                          \"Bermuda\"                       \n",
       " [23] \"Bhutan\"                         \"Bolivia\"                       \n",
       " [25] \"Bosnia and Herzegovina\"         \"Botswana\"                      \n",
       " [27] \"Brazil\"                         \"British Virgin Islands\"        \n",
       " [29] \"Brunei Darussalam\"              \"Bulgaria\"                      \n",
       " [31] \"Burkina Faso\"                   \"Burundi\"                       \n",
       " [33] \"Cabo Verde\"                     \"Cambodia\"                      \n",
       " [35] \"Cameroon\"                       \"Canada\"                        \n",
       " [37] \"Cayman Islands\"                 \"Central African Republic\"      \n",
       " [39] \"Chad\"                           \"Channel Islands\"               \n",
       " [41] \"Chile\"                          \"China\"                         \n",
       " [43] \"Colombia\"                       \"Comoros\"                       \n",
       " [45] \"Congo, Dem. Rep.\"               \"Congo, Rep.\"                   \n",
       " [47] \"Costa Rica\"                     \"Cote d'Ivoire\"                 \n",
       " [49] \"Croatia\"                        \"Cuba\"                          \n",
       " [51] \"Curacao\"                        \"Cyprus\"                        \n",
       " [53] \"Czech Republic\"                 \"Denmark\"                       \n",
       " [55] \"Djibouti\"                       \"Dominica\"                      \n",
       " [57] \"Dominican Republic\"             \"Ecuador\"                       \n",
       " [59] \"Egypt, Arab Rep.\"               \"El Salvador\"                   \n",
       " [61] \"Equatorial Guinea\"              \"Eritrea\"                       \n",
       " [63] \"Estonia\"                        \"Eswatini\"                      \n",
       " [65] \"Ethiopia\"                       \"Faroe Islands\"                 \n",
       " [67] \"Fiji\"                           \"Finland\"                       \n",
       " [69] \"France\"                         \"French Polynesia\"              \n",
       " [71] \"Gabon\"                          \"Gambia, The\"                   \n",
       " [73] \"Georgia\"                        \"Germany\"                       \n",
       " [75] \"Ghana\"                          \"Gibraltar\"                     \n",
       " [77] \"Greece\"                         \"Greenland\"                     \n",
       " [79] \"Grenada\"                        \"Guam\"                          \n",
       " [81] \"Guatemala\"                      \"Guinea\"                        \n",
       " [83] \"Guinea-Bissau\"                  \"Guyana\"                        \n",
       " [85] \"Haiti\"                          \"Honduras\"                      \n",
       " [87] \"Hong Kong SAR, China\"           \"Hungary\"                       \n",
       " [89] \"Iceland\"                        \"India\"                         \n",
       " [91] \"Indonesia\"                      \"Iran, Islamic Rep.\"            \n",
       " [93] \"Iraq\"                           \"Ireland\"                       \n",
       " [95] \"Isle of Man\"                    \"Israel\"                        \n",
       " [97] \"Italy\"                          \"Jamaica\"                       \n",
       " [99] \"Japan\"                          \"Jordan\"                        \n",
       "[101] \"Kazakhstan\"                     \"Kenya\"                         \n",
       "[103] \"Kiribati\"                       \"Korea, Dem. People’s Rep.\"     \n",
       "[105] \"Korea, Rep.\"                    \"Kosovo\"                        \n",
       "[107] \"Kuwait\"                         \"Kyrgyz Republic\"               \n",
       "[109] \"Lao PDR\"                        \"Latvia\"                        \n",
       "[111] \"Lebanon\"                        \"Lesotho\"                       \n",
       "[113] \"Liberia\"                        \"Libya\"                         \n",
       "[115] \"Liechtenstein\"                  \"Lithuania\"                     \n",
       "[117] \"Luxembourg\"                     \"Macao SAR, China\"              \n",
       "[119] \"Madagascar\"                     \"Malawi\"                        \n",
       "[121] \"Malaysia\"                       \"Maldives\"                      \n",
       "[123] \"Mali\"                           \"Malta\"                         \n",
       "[125] \"Marshall Islands\"               \"Mauritania\"                    \n",
       "[127] \"Mauritius\"                      \"Mexico\"                        \n",
       "[129] \"Micronesia, Fed. Sts.\"          \"Moldova\"                       \n",
       "[131] \"Monaco\"                         \"Mongolia\"                      \n",
       "[133] \"Montenegro\"                     \"Morocco\"                       \n",
       "[135] \"Mozambique\"                     \"Myanmar\"                       \n",
       "[137] \"namibia\"                        \"nauru\"                         \n",
       "[139] \"Nepal\"                          \"Netherlands\"                   \n",
       "[141] \"New Caledonia\"                  \"New Zealand\"                   \n",
       "[143] \"Nicaragua\"                      \"Niger\"                         \n",
       "[145] \"Nigeria\"                        \"North Macedonia\"               \n",
       "[147] \"Northern Mariana Islands\"       \"Norway\"                        \n",
       "[149] \"Oman\"                           \"Pakistan\"                      \n",
       "[151] \"Palau\"                          \"Panama\"                        \n",
       "[153] \"Papua New Guinea\"               \"Paraguay\"                      \n",
       "[155] \"Peru\"                           \"Philippines\"                   \n",
       "[157] \"Poland\"                         \"Portugal\"                      \n",
       "[159] \"Puerto Rico\"                    \"Qatar\"                         \n",
       "[161] \"Romania\"                        \"Russian Federation\"            \n",
       "[163] \"Rwanda\"                         \"Samoa\"                         \n",
       "[165] \"San Marino\"                     \"Sao Tome and Principe\"         \n",
       "[167] \"Saudi Arabia\"                   \"Senegal\"                       \n",
       "[169] \"Serbia\"                         \"Seychelles\"                    \n",
       "[171] \"Sierra Leone\"                   \"Singapore\"                     \n",
       "[173] \"Sint Maarten (Dutch part)\"      \"Slovak Republic\"               \n",
       "[175] \"Slovenia\"                       \"Solomon Islands\"               \n",
       "[177] \"Somalia\"                        \"South Africa\"                  \n",
       "[179] \"South Sudan\"                    \"Spain\"                         \n",
       "[181] \"Sri Lanka\"                      \"St. Kitts and Nevis\"           \n",
       "[183] \"St. Lucia\"                      \"St. Martin (French part)\"      \n",
       "[185] \"St. Vincent and the Grenadines\" \"Sudan\"                         \n",
       "[187] \"Suriname\"                       \"Sweden\"                        \n",
       "[189] \"Switzerland\"                    \"Syrian Arab Republic\"          \n",
       "[191] \"Tajikistan\"                     \"Tanzania\"                      \n",
       "[193] \"Thailand\"                       \"Timor-Leste\"                   \n",
       "[195] \"Togo\"                           \"Tonga\"                         \n",
       "[197] \"Trinidad and Tobago\"            \"Tunisia\"                       \n",
       "[199] \"Turkey\"                         \"Turkmenistan\"                  \n",
       "[201] \"Turks and Caicos Islands\"       \"Tuvalu\"                        \n",
       "[203] \"Uganda\"                         \"Ukraine\"                       \n",
       "[205] \"United Arab Emirates\"           \"United Kingdom\"                \n",
       "[207] \"United States\"                  \"Uruguay\"                       \n",
       "[209] \"Uzbekistan\"                     \"Vanuatu\"                       \n",
       "[211] \"Venezuela, RB\"                  \"Vietnam\"                       \n",
       "[213] \"Virgin Islands (U.S.)\"          \"West Bank and Gaza\"            \n",
       "[215] \"Yemen, Rep.\"                    \"Zambia\"                        \n",
       "[217] \"Zimbabwe\"                      "
      ]
     },
     "metadata": {},
     "output_type": "display_data"
    },
    {
     "data": {
      "text/html": [
       "<style>\n",
       ".list-inline {list-style: none; margin:0; padding: 0}\n",
       ".list-inline>li {display: inline-block}\n",
       ".list-inline>li:not(:last-child)::after {content: \"\\00b7\"; padding: 0 .5ex}\n",
       "</style>\n",
       "<ol class=list-inline><li>'Congo'</li><li>'Congo Democratic Republic'</li><li>'Egypt'</li><li>'Gambia'</li><li>'Namibia'</li><li>'Yemen'</li></ol>\n"
      ],
      "text/latex": [
       "\\begin{enumerate*}\n",
       "\\item 'Congo'\n",
       "\\item 'Congo Democratic Republic'\n",
       "\\item 'Egypt'\n",
       "\\item 'Gambia'\n",
       "\\item 'Namibia'\n",
       "\\item 'Yemen'\n",
       "\\end{enumerate*}\n"
      ],
      "text/markdown": [
       "1. 'Congo'\n",
       "2. 'Congo Democratic Republic'\n",
       "3. 'Egypt'\n",
       "4. 'Gambia'\n",
       "5. 'Namibia'\n",
       "6. 'Yemen'\n",
       "\n",
       "\n"
      ],
      "text/plain": [
       "[1] \"Congo\"                     \"Congo Democratic Republic\"\n",
       "[3] \"Egypt\"                     \"Gambia\"                   \n",
       "[5] \"Namibia\"                   \"Yemen\"                    "
      ]
     },
     "metadata": {},
     "output_type": "display_data"
    }
   ],
   "source": [
    "df.explore$Country\n",
    "df.wb$Country\n",
    "\n",
    "setdiff(df.explore$Country, df.wb$Country)"
   ]
  },
  {
   "cell_type": "code",
   "execution_count": 45,
   "metadata": {},
   "outputs": [],
   "source": [
    "# Correct the country names in DF\n",
    "\n",
    "df.wb [df.wb =='namibia'] = \"Namibia\"\n",
    "df.wb [df.wb =='Yemen, Rep.'] = \"Yemen\" \n",
    "df.wb [df.wb =='Gambia, The'] = \"Gambia\"\n",
    "df.wb [df.wb =='Egypt, Arab Rep.'] = \"Egypt\"\n",
    "df.wb [df.wb =='Congo, Dem. Rep.'] = \"Congo Democratic Republic\"\n",
    "df.wb [df.wb =='Congo, Rep.'] = \"Congo\"\n"
   ]
  },
  {
   "cell_type": "markdown",
   "metadata": {},
   "source": [
    "matching other exploatory data into the the data frame"
   ]
  },
  {
   "cell_type": "code",
   "execution_count": 46,
   "metadata": {},
   "outputs": [
    {
     "data": {
      "text/html": [
       "<style>\n",
       ".list-inline {list-style: none; margin:0; padding: 0}\n",
       ".list-inline>li {display: inline-block}\n",
       ".list-inline>li:not(:last-child)::after {content: \"\\00b7\"; padding: 0 .5ex}\n",
       "</style>\n",
       "<ol class=list-inline><li>'Afghanistan'</li><li>'Albania'</li><li>'Angola'</li><li>'Armenia'</li><li>'Azerbaijan'</li><li>'Bangladesh'</li><li>'Benin'</li><li>'Bolivia'</li><li>'Burkina Faso'</li><li>'Burundi'</li><li>'Cambodia'</li><li>'Cameroon'</li><li>'Chad'</li><li>'Colombia'</li><li>'Comoros'</li><li>'Congo'</li><li>'Congo Democratic Republic'</li><li>'Cote d\\'Ivoire'</li><li>'Dominican Republic'</li><li>'Egypt'</li><li>'Eritrea'</li><li>'Eswatini'</li><li>'Ethiopia'</li><li>'Gabon'</li><li>'Gambia'</li><li>'Ghana'</li><li>'Guatemala'</li><li>'Guinea'</li><li>'Guyana'</li><li>'Haiti'</li><li>'Honduras'</li><li>'India'</li><li>'Indonesia'</li><li>'Jordan'</li><li>'Kenya'</li><li>'Kyrgyz Republic'</li><li>'Lesotho'</li><li>'Liberia'</li><li>'Madagascar'</li><li>'Malawi'</li><li>'Maldives'</li><li>'Mali'</li><li>'Mauritania'</li><li>'Moldova'</li><li>'Morocco'</li><li>'Mozambique'</li><li>'Myanmar'</li><li>'Namibia'</li><li>'Nepal'</li><li>'Nicaragua'</li><li>'Niger'</li><li>'Nigeria'</li><li>'Pakistan'</li><li>'Papua New Guinea'</li><li>'Peru'</li><li>'Philippines'</li><li>'Rwanda'</li><li>'Sao Tome and Principe'</li><li>'Senegal'</li><li>'Sierra Leone'</li><li>'South Africa'</li><li>'Tajikistan'</li><li>'Tanzania'</li><li>'Timor-Leste'</li><li>'Togo'</li><li>'Turkey'</li><li>'Turkmenistan'</li><li>'Uganda'</li><li>'Ukraine'</li><li>'Vietnam'</li><li>'Yemen'</li><li>'Zambia'</li><li>'Zimbabwe'</li></ol>\n"
      ],
      "text/latex": [
       "\\begin{enumerate*}\n",
       "\\item 'Afghanistan'\n",
       "\\item 'Albania'\n",
       "\\item 'Angola'\n",
       "\\item 'Armenia'\n",
       "\\item 'Azerbaijan'\n",
       "\\item 'Bangladesh'\n",
       "\\item 'Benin'\n",
       "\\item 'Bolivia'\n",
       "\\item 'Burkina Faso'\n",
       "\\item 'Burundi'\n",
       "\\item 'Cambodia'\n",
       "\\item 'Cameroon'\n",
       "\\item 'Chad'\n",
       "\\item 'Colombia'\n",
       "\\item 'Comoros'\n",
       "\\item 'Congo'\n",
       "\\item 'Congo Democratic Republic'\n",
       "\\item 'Cote d\\textbackslash{}'Ivoire'\n",
       "\\item 'Dominican Republic'\n",
       "\\item 'Egypt'\n",
       "\\item 'Eritrea'\n",
       "\\item 'Eswatini'\n",
       "\\item 'Ethiopia'\n",
       "\\item 'Gabon'\n",
       "\\item 'Gambia'\n",
       "\\item 'Ghana'\n",
       "\\item 'Guatemala'\n",
       "\\item 'Guinea'\n",
       "\\item 'Guyana'\n",
       "\\item 'Haiti'\n",
       "\\item 'Honduras'\n",
       "\\item 'India'\n",
       "\\item 'Indonesia'\n",
       "\\item 'Jordan'\n",
       "\\item 'Kenya'\n",
       "\\item 'Kyrgyz Republic'\n",
       "\\item 'Lesotho'\n",
       "\\item 'Liberia'\n",
       "\\item 'Madagascar'\n",
       "\\item 'Malawi'\n",
       "\\item 'Maldives'\n",
       "\\item 'Mali'\n",
       "\\item 'Mauritania'\n",
       "\\item 'Moldova'\n",
       "\\item 'Morocco'\n",
       "\\item 'Mozambique'\n",
       "\\item 'Myanmar'\n",
       "\\item 'Namibia'\n",
       "\\item 'Nepal'\n",
       "\\item 'Nicaragua'\n",
       "\\item 'Niger'\n",
       "\\item 'Nigeria'\n",
       "\\item 'Pakistan'\n",
       "\\item 'Papua New Guinea'\n",
       "\\item 'Peru'\n",
       "\\item 'Philippines'\n",
       "\\item 'Rwanda'\n",
       "\\item 'Sao Tome and Principe'\n",
       "\\item 'Senegal'\n",
       "\\item 'Sierra Leone'\n",
       "\\item 'South Africa'\n",
       "\\item 'Tajikistan'\n",
       "\\item 'Tanzania'\n",
       "\\item 'Timor-Leste'\n",
       "\\item 'Togo'\n",
       "\\item 'Turkey'\n",
       "\\item 'Turkmenistan'\n",
       "\\item 'Uganda'\n",
       "\\item 'Ukraine'\n",
       "\\item 'Vietnam'\n",
       "\\item 'Yemen'\n",
       "\\item 'Zambia'\n",
       "\\item 'Zimbabwe'\n",
       "\\end{enumerate*}\n"
      ],
      "text/markdown": [
       "1. 'Afghanistan'\n",
       "2. 'Albania'\n",
       "3. 'Angola'\n",
       "4. 'Armenia'\n",
       "5. 'Azerbaijan'\n",
       "6. 'Bangladesh'\n",
       "7. 'Benin'\n",
       "8. 'Bolivia'\n",
       "9. 'Burkina Faso'\n",
       "10. 'Burundi'\n",
       "11. 'Cambodia'\n",
       "12. 'Cameroon'\n",
       "13. 'Chad'\n",
       "14. 'Colombia'\n",
       "15. 'Comoros'\n",
       "16. 'Congo'\n",
       "17. 'Congo Democratic Republic'\n",
       "18. 'Cote d\\'Ivoire'\n",
       "19. 'Dominican Republic'\n",
       "20. 'Egypt'\n",
       "21. 'Eritrea'\n",
       "22. 'Eswatini'\n",
       "23. 'Ethiopia'\n",
       "24. 'Gabon'\n",
       "25. 'Gambia'\n",
       "26. 'Ghana'\n",
       "27. 'Guatemala'\n",
       "28. 'Guinea'\n",
       "29. 'Guyana'\n",
       "30. 'Haiti'\n",
       "31. 'Honduras'\n",
       "32. 'India'\n",
       "33. 'Indonesia'\n",
       "34. 'Jordan'\n",
       "35. 'Kenya'\n",
       "36. 'Kyrgyz Republic'\n",
       "37. 'Lesotho'\n",
       "38. 'Liberia'\n",
       "39. 'Madagascar'\n",
       "40. 'Malawi'\n",
       "41. 'Maldives'\n",
       "42. 'Mali'\n",
       "43. 'Mauritania'\n",
       "44. 'Moldova'\n",
       "45. 'Morocco'\n",
       "46. 'Mozambique'\n",
       "47. 'Myanmar'\n",
       "48. 'Namibia'\n",
       "49. 'Nepal'\n",
       "50. 'Nicaragua'\n",
       "51. 'Niger'\n",
       "52. 'Nigeria'\n",
       "53. 'Pakistan'\n",
       "54. 'Papua New Guinea'\n",
       "55. 'Peru'\n",
       "56. 'Philippines'\n",
       "57. 'Rwanda'\n",
       "58. 'Sao Tome and Principe'\n",
       "59. 'Senegal'\n",
       "60. 'Sierra Leone'\n",
       "61. 'South Africa'\n",
       "62. 'Tajikistan'\n",
       "63. 'Tanzania'\n",
       "64. 'Timor-Leste'\n",
       "65. 'Togo'\n",
       "66. 'Turkey'\n",
       "67. 'Turkmenistan'\n",
       "68. 'Uganda'\n",
       "69. 'Ukraine'\n",
       "70. 'Vietnam'\n",
       "71. 'Yemen'\n",
       "72. 'Zambia'\n",
       "73. 'Zimbabwe'\n",
       "\n",
       "\n"
      ],
      "text/plain": [
       " [1] \"Afghanistan\"               \"Albania\"                  \n",
       " [3] \"Angola\"                    \"Armenia\"                  \n",
       " [5] \"Azerbaijan\"                \"Bangladesh\"               \n",
       " [7] \"Benin\"                     \"Bolivia\"                  \n",
       " [9] \"Burkina Faso\"              \"Burundi\"                  \n",
       "[11] \"Cambodia\"                  \"Cameroon\"                 \n",
       "[13] \"Chad\"                      \"Colombia\"                 \n",
       "[15] \"Comoros\"                   \"Congo\"                    \n",
       "[17] \"Congo Democratic Republic\" \"Cote d'Ivoire\"            \n",
       "[19] \"Dominican Republic\"        \"Egypt\"                    \n",
       "[21] \"Eritrea\"                   \"Eswatini\"                 \n",
       "[23] \"Ethiopia\"                  \"Gabon\"                    \n",
       "[25] \"Gambia\"                    \"Ghana\"                    \n",
       "[27] \"Guatemala\"                 \"Guinea\"                   \n",
       "[29] \"Guyana\"                    \"Haiti\"                    \n",
       "[31] \"Honduras\"                  \"India\"                    \n",
       "[33] \"Indonesia\"                 \"Jordan\"                   \n",
       "[35] \"Kenya\"                     \"Kyrgyz Republic\"          \n",
       "[37] \"Lesotho\"                   \"Liberia\"                  \n",
       "[39] \"Madagascar\"                \"Malawi\"                   \n",
       "[41] \"Maldives\"                  \"Mali\"                     \n",
       "[43] \"Mauritania\"                \"Moldova\"                  \n",
       "[45] \"Morocco\"                   \"Mozambique\"               \n",
       "[47] \"Myanmar\"                   \"Namibia\"                  \n",
       "[49] \"Nepal\"                     \"Nicaragua\"                \n",
       "[51] \"Niger\"                     \"Nigeria\"                  \n",
       "[53] \"Pakistan\"                  \"Papua New Guinea\"         \n",
       "[55] \"Peru\"                      \"Philippines\"              \n",
       "[57] \"Rwanda\"                    \"Sao Tome and Principe\"    \n",
       "[59] \"Senegal\"                   \"Sierra Leone\"             \n",
       "[61] \"South Africa\"              \"Tajikistan\"               \n",
       "[63] \"Tanzania\"                  \"Timor-Leste\"              \n",
       "[65] \"Togo\"                      \"Turkey\"                   \n",
       "[67] \"Turkmenistan\"              \"Uganda\"                   \n",
       "[69] \"Ukraine\"                   \"Vietnam\"                  \n",
       "[71] \"Yemen\"                     \"Zambia\"                   \n",
       "[73] \"Zimbabwe\"                 "
      ]
     },
     "metadata": {},
     "output_type": "display_data"
    },
    {
     "data": {
      "text/plain": [
       "   Country               bicy            cart             mcyc      \n",
       " Length:73          Min.   : 0.00   Min.   : 0.000   Min.   : 0.00  \n",
       " Class :character   1st Qu.: 9.50   1st Qu.: 0.100   1st Qu.: 2.60  \n",
       " Mode  :character   Median :20.70   Median : 1.300   Median : 9.60  \n",
       "                    Mean   :23.14   Mean   : 4.732   Mean   :16.84  \n",
       "                    3rd Qu.:33.50   3rd Qu.: 4.200   3rd Qu.:21.40  \n",
       "                    Max.   :82.00   Max.   :41.500   Max.   :78.70  \n",
       "      pcar            boat             wigc           clusters    \n",
       " Min.   : 0.80   Min.   :0.0000   Min.   :0.0000   Min.   :1.000  \n",
       " 1st Qu.: 4.10   1st Qu.:0.0000   1st Qu.:0.1000   1st Qu.:1.000  \n",
       " Median : 8.90   Median :0.3000   Median :0.2000   Median :1.000  \n",
       " Mean   :12.21   Mean   :0.5712   Mean   :0.2123   Mean   :1.945  \n",
       " 3rd Qu.:17.10   3rd Qu.:0.6000   3rd Qu.:0.3000   3rd Qu.:3.000  \n",
       " Max.   :57.80   Max.   :5.9000   Max.   :0.5000   Max.   :4.000  \n",
       "      cgdp                tpop                upop            popd        \n",
       " Min.   :0.000e+00   Min.   :0.000e+00   Min.   : 0.00   Min.   :   0.00  \n",
       " 1st Qu.:1.091e+10   1st Qu.:6.323e+06   1st Qu.:29.36   1st Qu.:  37.51  \n",
       " Median :2.349e+10   Median :1.585e+07   Median :42.63   Median :  82.24  \n",
       " Mean   :1.237e+11   Mean   :5.239e+07   Mean   :44.43   Mean   : 152.64  \n",
       " 3rd Qu.:7.617e+10   3rd Qu.:3.717e+07   3rd Qu.:56.37   3rd Qu.: 147.75  \n",
       " Max.   :2.713e+12   Max.   :1.353e+09   Max.   :90.98   Max.   :1718.99  \n",
       "      land              lita            lity             mori       \n",
       " Min.   :    300   Min.   : 0.00   Min.   :0.0000   Min.   :  8.20  \n",
       " 1st Qu.:  94280   1st Qu.: 0.00   1st Qu.:0.0000   1st Qu.: 27.00  \n",
       " Median : 273600   Median : 0.00   Median :0.0000   Median : 45.60  \n",
       " Mean   : 496093   Mean   :35.52   Mean   :0.4575   Mean   : 48.86  \n",
       " 3rd Qu.: 770880   3rd Qu.:76.53   3rd Qu.:0.9940   3rd Qu.: 65.10  \n",
       " Max.   :2973190   Max.   :99.59   Max.   :1.0472   Max.   :120.00  "
      ]
     },
     "metadata": {},
     "output_type": "display_data"
    }
   ],
   "source": [
    "df.exp <- merge(x = df.explore,\n",
    "              y = df.wb,\n",
    "              by = c(\"Country\"))\n",
    "\n",
    "\n",
    "df.exp <- df.exp[, c(1:8,12:19) ]\n",
    "df.exp$Country\n",
    "summary(df.exp)\n",
    "write_xlsx(df.exp , '../../results/df-exp.xlsx')"
   ]
  },
  {
   "cell_type": "code",
   "execution_count": 47,
   "metadata": {},
   "outputs": [
    {
     "data": {
      "image/png": "[encoded data removed]",
      "text/plain": [
       "plot without title"
      ]
     },
     "metadata": {
      "image/png": {
       "height": 420,
       "width": 420
      }
     },
     "output_type": "display_data"
    }
   ],
   "source": [
    "model <- rpart(Country ~., data = df.exp)\n",
    "par(xpd = NA) # otherwise on some devices the text is clipped\n",
    "plot(model)\n",
    "text(model, digits = 3)"
   ]
  },
  {
   "cell_type": "markdown",
   "metadata": {},
   "source": [
    "The different rules in tree can be printed as follow:"
   ]
  },
  {
   "cell_type": "code",
   "execution_count": 48,
   "metadata": {},
   "outputs": [
    {
     "name": "stdout",
     "output_type": "stream",
     "text": [
      "n= 73 \n",
      "\n",
      "node), split, n, loss, yval, (yprob)\n",
      "      * denotes terminal node\n",
      "\n",
      " 1) root 73 72 Afghanistan (0.014 0.014 0.014 0.014 0.014 0.014 0.014 0.014 0.014 0.014 0.014 0.014 0.014 0.014 0.014 0.014 0.014 0.014 0.014 0.014 0.014 0.014 0.014 0.014 0.014 0.014 0.014 0.014 0.014 0.014 0.014 0.014 0.014 0.014 0.014 0.014 0.014 0.014 0.014 0.014 0.014 0.014 0.014 0.014 0.014 0.014 0.014 0.014 0.014 0.014 0.014 0.014 0.014 0.014 0.014 0.014 0.014 0.014 0.014 0.014 0.014 0.014 0.014 0.014 0.014 0.014 0.014 0.014 0.014 0.014 0.014 0.014 0.014)  \n",
      "   2) bicy< 4.2 8  7 Dominican Republic (0 0 0 0 0 0 0 0 0 0 0 0 0 0 0 0 0 0 0.12 0 0 0 0.12 0.12 0 0 0 0 0 0 0 0 0 0.12 0 0 0.12 0.12 0 0 0 0 0.12 0 0 0 0 0 0 0 0 0 0 0 0 0 0 0 0 0 0 0 0 0 0 0.12 0 0 0 0 0 0 0) *\n",
      "   3) bicy>=4.2 65 64 Afghanistan (0.015 0.015 0.015 0.015 0.015 0.015 0.015 0.015 0.015 0.015 0.015 0.015 0.015 0.015 0.015 0.015 0.015 0.015 0 0.015 0.015 0.015 0 0 0.015 0.015 0.015 0.015 0.015 0.015 0.015 0.015 0.015 0 0.015 0.015 0 0 0.015 0.015 0.015 0.015 0 0.015 0.015 0.015 0.015 0.015 0.015 0.015 0.015 0.015 0.015 0.015 0.015 0.015 0.015 0.015 0.015 0.015 0.015 0.015 0.015 0.015 0.015 0 0.015 0.015 0.015 0.015 0.015 0.015 0.015)  \n",
      "     6) bicy< 11 14 13 Angola (0 0 0.071 0.071 0.071 0 0 0 0 0 0 0 0 0 0.071 0.071 0 0 0 0.071 0.071 0.071 0 0 0 0 0 0 0 0.071 0 0 0 0 0 0 0 0 0 0 0 0 0 0 0 0 0 0 0 0 0.071 0 0 0.071 0 0 0 0 0 0.071 0.071 0 0 0 0 0 0 0 0 0 0.071 0 0) *\n",
      "     7) bicy>=11 51 50 Afghanistan (0.02 0.02 0 0 0 0.02 0.02 0.02 0.02 0.02 0.02 0.02 0.02 0.02 0 0 0.02 0.02 0 0 0 0 0 0 0.02 0.02 0.02 0.02 0.02 0 0.02 0.02 0.02 0 0.02 0.02 0 0 0.02 0.02 0.02 0.02 0 0.02 0.02 0.02 0.02 0.02 0.02 0.02 0 0.02 0.02 0 0.02 0.02 0.02 0.02 0.02 0 0 0.02 0.02 0.02 0.02 0 0.02 0.02 0.02 0.02 0 0.02 0.02)  \n",
      "      14) bicy>=39 12 11 Burkina Faso (0 0 0 0 0 0 0 0 0.083 0 0.083 0 0 0 0 0 0 0.083 0 0 0 0 0 0 0.083 0 0 0 0.083 0 0 0.083 0.083 0 0 0 0 0 0 0 0.083 0.083 0 0 0 0 0.083 0 0 0 0 0 0 0 0 0 0 0 0 0 0 0 0 0 0 0 0 0 0.083 0.083 0 0 0) *\n",
      "      15) bicy< 39 39 38 Afghanistan (0.026 0.026 0 0 0 0.026 0.026 0.026 0 0.026 0 0.026 0.026 0.026 0 0 0.026 0 0 0 0 0 0 0 0 0.026 0.026 0.026 0 0 0.026 0 0 0 0.026 0.026 0 0 0.026 0.026 0 0 0 0.026 0.026 0.026 0 0.026 0.026 0.026 0 0.026 0.026 0 0.026 0.026 0.026 0.026 0.026 0 0 0.026 0.026 0.026 0.026 0 0.026 0.026 0 0 0 0.026 0.026)  \n",
      "        30) mori>=52 14 13 Afghanistan (0.071 0 0 0 0 0 0.071 0 0 0.071 0 0.071 0.071 0 0 0 0.071 0 0 0 0 0 0 0 0 0 0 0.071 0 0 0 0 0 0 0 0 0 0 0.071 0 0 0 0 0 0 0.071 0 0 0 0 0 0.071 0.071 0 0 0 0 0 0 0 0 0 0 0 0.071 0 0 0 0 0 0 0.071 0.071) *\n",
      "        31) mori< 52 25 24 Albania (0 0.04 0 0 0 0.04 0 0.04 0 0 0 0 0 0.04 0 0 0 0 0 0 0 0 0 0 0 0.04 0.04 0 0 0 0.04 0 0 0 0.04 0.04 0 0 0 0.04 0 0 0 0.04 0.04 0 0 0.04 0.04 0.04 0 0 0 0 0.04 0.04 0.04 0.04 0.04 0 0 0.04 0.04 0.04 0 0 0.04 0.04 0 0 0 0 0)  \n",
      "          62) mori< 28 10  9 Albania (0 0.1 0 0 0 0 0 0.1 0 0 0 0 0 0.1 0 0 0 0 0 0 0 0 0 0 0 0 0.1 0 0 0 0.1 0 0 0 0 0.1 0 0 0 0 0 0 0 0.1 0.1 0 0 0 0 0.1 0 0 0 0 0.1 0 0 0 0 0 0 0 0 0 0 0 0 0 0 0 0 0 0) *\n",
      "          63) mori>=28 15 14 Bangladesh (0 0 0 0 0 0.067 0 0 0 0 0 0 0 0 0 0 0 0 0 0 0 0 0 0 0 0.067 0 0 0 0 0 0 0 0 0.067 0 0 0 0 0.067 0 0 0 0 0 0 0 0.067 0.067 0 0 0 0 0 0 0.067 0.067 0.067 0.067 0 0 0.067 0.067 0.067 0 0 0.067 0.067 0 0 0 0 0) *\n"
     ]
    }
   ],
   "source": [
    "print(model, digits = 2)"
   ]
  },
  {
   "cell_type": "markdown",
   "metadata": {},
   "source": [
    "These rules are produced by repeatedly splitting the predictor variables, starting with the variable that has the highest association with the response variable. The process continues until some predetermined stopping criteria are met."
   ]
  },
  {
   "cell_type": "markdown",
   "metadata": {},
   "source": [
    "# Example of data set"
   ]
  },
  {
   "cell_type": "code",
   "execution_count": 49,
   "metadata": {},
   "outputs": [
    {
     "data": {
      "text/html": [
       "<table class=\"dataframe\">\n",
       "<caption>A data.frame: 3 × 16</caption>\n",
       "<thead>\n",
       "\t<tr><th scope=col>Country</th><th scope=col>bicy</th><th scope=col>cart</th><th scope=col>mcyc</th><th scope=col>pcar</th><th scope=col>boat</th><th scope=col>wigc</th><th scope=col>clusters</th><th scope=col>cgdp</th><th scope=col>tpop</th><th scope=col>upop</th><th scope=col>popd</th><th scope=col>land</th><th scope=col>lita</th><th scope=col>lity</th><th scope=col>mori</th></tr>\n",
       "\t<tr><th scope=col>&lt;chr&gt;</th><th scope=col>&lt;dbl&gt;</th><th scope=col>&lt;dbl&gt;</th><th scope=col>&lt;dbl&gt;</th><th scope=col>&lt;dbl&gt;</th><th scope=col>&lt;dbl&gt;</th><th scope=col>&lt;dbl&gt;</th><th scope=col>&lt;dbl&gt;</th><th scope=col>&lt;dbl&gt;</th><th scope=col>&lt;dbl&gt;</th><th scope=col>&lt;dbl&gt;</th><th scope=col>&lt;dbl&gt;</th><th scope=col>&lt;dbl&gt;</th><th scope=col>&lt;dbl&gt;</th><th scope=col>&lt;dbl&gt;</th><th scope=col>&lt;dbl&gt;</th></tr>\n",
       "</thead>\n",
       "<tbody>\n",
       "\t<tr><td>Albania                  </td><td>26.4</td><td>3.2</td><td>9.6</td><td>37.0</td><td>0.7</td><td>0.1</td><td>2</td><td>15147020535</td><td> 2866376</td><td>60.319</td><td>104.61226</td><td>  27400</td><td>98.14115</td><td>1.00582</td><td> 9.5</td></tr>\n",
       "\t<tr><td>Madagascar               </td><td>17.6</td><td>8.6</td><td>4.7</td><td> 1.4</td><td>0.4</td><td>0.2</td><td>1</td><td>13853433948</td><td>26262368</td><td>37.191</td><td> 45.13986</td><td> 581800</td><td>74.80432</td><td>0.98725</td><td>52.3</td></tr>\n",
       "\t<tr><td>Congo Democratic Republic</td><td>24.1</td><td>0.1</td><td>5.1</td><td> 1.4</td><td>0.0</td><td>0.4</td><td>1</td><td>46831342213</td><td>84068091</td><td>44.460</td><td> 37.08259</td><td>2267050</td><td> 0.00000</td><td>0.00000</td><td>87.6</td></tr>\n",
       "</tbody>\n",
       "</table>\n"
      ],
      "text/latex": [
       "A data.frame: 3 × 16\n",
       "\\begin{tabular}{llllllllllllllll}\n",
       " Country & bicy & cart & mcyc & pcar & boat & wigc & clusters & cgdp & tpop & upop & popd & land & lita & lity & mori\\\\\n",
       " <chr> & <dbl> & <dbl> & <dbl> & <dbl> & <dbl> & <dbl> & <dbl> & <dbl> & <dbl> & <dbl> & <dbl> & <dbl> & <dbl> & <dbl> & <dbl>\\\\\n",
       "\\hline\n",
       "\t Albania                   & 26.4 & 3.2 & 9.6 & 37.0 & 0.7 & 0.1 & 2 & 15147020535 &  2866376 & 60.319 & 104.61226 &   27400 & 98.14115 & 1.00582 &  9.5\\\\\n",
       "\t Madagascar                & 17.6 & 8.6 & 4.7 &  1.4 & 0.4 & 0.2 & 1 & 13853433948 & 26262368 & 37.191 &  45.13986 &  581800 & 74.80432 & 0.98725 & 52.3\\\\\n",
       "\t Congo Democratic Republic & 24.1 & 0.1 & 5.1 &  1.4 & 0.0 & 0.4 & 1 & 46831342213 & 84068091 & 44.460 &  37.08259 & 2267050 &  0.00000 & 0.00000 & 87.6\\\\\n",
       "\\end{tabular}\n"
      ],
      "text/markdown": [
       "\n",
       "A data.frame: 3 × 16\n",
       "\n",
       "| Country &lt;chr&gt; | bicy &lt;dbl&gt; | cart &lt;dbl&gt; | mcyc &lt;dbl&gt; | pcar &lt;dbl&gt; | boat &lt;dbl&gt; | wigc &lt;dbl&gt; | clusters &lt;dbl&gt; | cgdp &lt;dbl&gt; | tpop &lt;dbl&gt; | upop &lt;dbl&gt; | popd &lt;dbl&gt; | land &lt;dbl&gt; | lita &lt;dbl&gt; | lity &lt;dbl&gt; | mori &lt;dbl&gt; |\n",
       "|---|---|---|---|---|---|---|---|---|---|---|---|---|---|---|---|\n",
       "| Albania                   | 26.4 | 3.2 | 9.6 | 37.0 | 0.7 | 0.1 | 2 | 15147020535 |  2866376 | 60.319 | 104.61226 |   27400 | 98.14115 | 1.00582 |  9.5 |\n",
       "| Madagascar                | 17.6 | 8.6 | 4.7 |  1.4 | 0.4 | 0.2 | 1 | 13853433948 | 26262368 | 37.191 |  45.13986 |  581800 | 74.80432 | 0.98725 | 52.3 |\n",
       "| Congo Democratic Republic | 24.1 | 0.1 | 5.1 |  1.4 | 0.0 | 0.4 | 1 | 46831342213 | 84068091 | 44.460 |  37.08259 | 2267050 |  0.00000 | 0.00000 | 87.6 |\n",
       "\n"
      ],
      "text/plain": [
       "  Country                   bicy cart mcyc pcar boat wigc clusters cgdp       \n",
       "1 Albania                   26.4 3.2  9.6  37.0 0.7  0.1  2        15147020535\n",
       "2 Madagascar                17.6 8.6  4.7   1.4 0.4  0.2  1        13853433948\n",
       "3 Congo Democratic Republic 24.1 0.1  5.1   1.4 0.0  0.4  1        46831342213\n",
       "  tpop     upop   popd      land    lita     lity    mori\n",
       "1  2866376 60.319 104.61226   27400 98.14115 1.00582  9.5\n",
       "2 26262368 37.191  45.13986  581800 74.80432 0.98725 52.3\n",
       "3 84068091 44.460  37.08259 2267050  0.00000 0.00000 87.6"
      ]
     },
     "metadata": {},
     "output_type": "display_data"
    }
   ],
   "source": [
    "# Inspect the data\n",
    "sample_n(df.exp, 3)\n",
    "# Split the data into training and test set\n",
    "set.seed(123)\n",
    "training.samples <- df.exp$clusters %>% \n",
    "  createDataPartition(p = 0.8, list = FALSE)\n",
    "train.data  <- df.exp[training.samples, ]\n",
    "test.data <- df.exp[-training.samples, ]\n",
    "\n",
    "\n"
   ]
  },
  {
   "cell_type": "markdown",
   "metadata": {},
   "source": [
    "Fully grown trees\n",
    "Here, we’ll create a fully grown tree showing all predictor variables in the data set.\n"
   ]
  },
  {
   "cell_type": "code",
   "execution_count": 50,
   "metadata": {},
   "outputs": [
    {
     "data": {
      "image/png": "[encoded data removed]",
      "text/plain": [
       "plot without title"
      ]
     },
     "metadata": {
      "image/png": {
       "height": 420,
       "width": 420
      }
     },
     "output_type": "display_data"
    }
   ],
   "source": [
    "# Build the model\n",
    "set.seed(123)\n",
    "model1 <- rpart(Country ~., data = train.data, method = \"class\")\n",
    "# Plot the trees\n",
    "par(xpd = NA) # Avoid clipping the text in some device\n",
    "plot(model1)\n",
    "text(model1, digits = 3)"
   ]
  },
  {
   "cell_type": "code",
   "execution_count": 51,
   "metadata": {},
   "outputs": [
    {
     "data": {
      "text/html": [
       "<style>\n",
       ".dl-inline {width: auto; margin:0; padding: 0}\n",
       ".dl-inline>dt, .dl-inline>dd {float: none; width: auto; display: inline-block}\n",
       ".dl-inline>dt::after {content: \":\\0020\"; padding-right: .5ex}\n",
       ".dl-inline>dt:not(:first-of-type) {padding-left: .5ex}\n",
       "</style><dl class=dl-inline><dt>3</dt><dd>Comoros</dd><dt>4</dt><dd>Azerbaijan</dd><dt>11</dt><dd>Afghanistan</dd><dt>12</dt><dd>Azerbaijan</dd><dt>17</dt><dd>Albania</dd><dt>21</dt><dd>Azerbaijan</dd></dl>\n",
       "\n",
       "<details>\n",
       "\t<summary style=display:list-item;cursor:pointer>\n",
       "\t\t<strong>Levels</strong>:\n",
       "\t</summary>\n",
       "\t<style>\n",
       "\t.list-inline {list-style: none; margin:0; padding: 0}\n",
       "\t.list-inline>li {display: inline-block}\n",
       "\t.list-inline>li:not(:last-child)::after {content: \"\\00b7\"; padding: 0 .5ex}\n",
       "\t</style>\n",
       "\t<ol class=list-inline><li>'Afghanistan'</li><li>'Albania'</li><li>'Azerbaijan'</li><li>'Bangladesh'</li><li>'Benin'</li><li>'Bolivia'</li><li>'Burkina Faso'</li><li>'Burundi'</li><li>'Chad'</li><li>'Colombia'</li><li>'Comoros'</li><li>'Congo'</li><li>'Cote d\\'Ivoire'</li><li>'Dominican Republic'</li><li>'Egypt'</li><li>'Eswatini'</li><li>'Gabon'</li><li>'Ghana'</li><li>'Guatemala'</li><li>'Guinea'</li><li>'Guyana'</li><li>'Haiti'</li><li>'India'</li><li>'Indonesia'</li><li>'Kenya'</li><li>'Kyrgyz Republic'</li><li>'Lesotho'</li><li>'Liberia'</li><li>'Madagascar'</li><li>'Mali'</li><li>'Mauritania'</li><li>'Moldova'</li><li>'Morocco'</li><li>'Mozambique'</li><li>'Namibia'</li><li>'Nepal'</li><li>'Nicaragua'</li><li>'Niger'</li><li>'Nigeria'</li><li>'Pakistan'</li><li>'Papua New Guinea'</li><li>'Peru'</li><li>'Philippines'</li><li>'Rwanda'</li><li>'Sao Tome and Principe'</li><li>'Senegal'</li><li>'Sierra Leone'</li><li>'South Africa'</li><li>'Tajikistan'</li><li>'Tanzania'</li><li>'Timor-Leste'</li><li>'Togo'</li><li>'Turkey'</li><li>'Turkmenistan'</li><li>'Uganda'</li><li>'Ukraine'</li><li>'Vietnam'</li><li>'Yemen'</li><li>'Zambia'</li></ol>\n",
       "</details>"
      ],
      "text/latex": [
       "\\begin{description*}\n",
       "\\item[3] Comoros\n",
       "\\item[4] Azerbaijan\n",
       "\\item[11] Afghanistan\n",
       "\\item[12] Azerbaijan\n",
       "\\item[17] Albania\n",
       "\\item[21] Azerbaijan\n",
       "\\end{description*}\n",
       "\n",
       "\\emph{Levels}: \\begin{enumerate*}\n",
       "\\item 'Afghanistan'\n",
       "\\item 'Albania'\n",
       "\\item 'Azerbaijan'\n",
       "\\item 'Bangladesh'\n",
       "\\item 'Benin'\n",
       "\\item 'Bolivia'\n",
       "\\item 'Burkina Faso'\n",
       "\\item 'Burundi'\n",
       "\\item 'Chad'\n",
       "\\item 'Colombia'\n",
       "\\item 'Comoros'\n",
       "\\item 'Congo'\n",
       "\\item 'Cote d\\textbackslash{}'Ivoire'\n",
       "\\item 'Dominican Republic'\n",
       "\\item 'Egypt'\n",
       "\\item 'Eswatini'\n",
       "\\item 'Gabon'\n",
       "\\item 'Ghana'\n",
       "\\item 'Guatemala'\n",
       "\\item 'Guinea'\n",
       "\\item 'Guyana'\n",
       "\\item 'Haiti'\n",
       "\\item 'India'\n",
       "\\item 'Indonesia'\n",
       "\\item 'Kenya'\n",
       "\\item 'Kyrgyz Republic'\n",
       "\\item 'Lesotho'\n",
       "\\item 'Liberia'\n",
       "\\item 'Madagascar'\n",
       "\\item 'Mali'\n",
       "\\item 'Mauritania'\n",
       "\\item 'Moldova'\n",
       "\\item 'Morocco'\n",
       "\\item 'Mozambique'\n",
       "\\item 'Namibia'\n",
       "\\item 'Nepal'\n",
       "\\item 'Nicaragua'\n",
       "\\item 'Niger'\n",
       "\\item 'Nigeria'\n",
       "\\item 'Pakistan'\n",
       "\\item 'Papua New Guinea'\n",
       "\\item 'Peru'\n",
       "\\item 'Philippines'\n",
       "\\item 'Rwanda'\n",
       "\\item 'Sao Tome and Principe'\n",
       "\\item 'Senegal'\n",
       "\\item 'Sierra Leone'\n",
       "\\item 'South Africa'\n",
       "\\item 'Tajikistan'\n",
       "\\item 'Tanzania'\n",
       "\\item 'Timor-Leste'\n",
       "\\item 'Togo'\n",
       "\\item 'Turkey'\n",
       "\\item 'Turkmenistan'\n",
       "\\item 'Uganda'\n",
       "\\item 'Ukraine'\n",
       "\\item 'Vietnam'\n",
       "\\item 'Yemen'\n",
       "\\item 'Zambia'\n",
       "\\end{enumerate*}\n"
      ],
      "text/markdown": [
       "3\n",
       ":   Comoros4\n",
       ":   Azerbaijan11\n",
       ":   Afghanistan12\n",
       ":   Azerbaijan17\n",
       ":   Albania21\n",
       ":   Azerbaijan\n",
       "\n",
       "\n",
       "**Levels**: 1. 'Afghanistan'\n",
       "2. 'Albania'\n",
       "3. 'Azerbaijan'\n",
       "4. 'Bangladesh'\n",
       "5. 'Benin'\n",
       "6. 'Bolivia'\n",
       "7. 'Burkina Faso'\n",
       "8. 'Burundi'\n",
       "9. 'Chad'\n",
       "10. 'Colombia'\n",
       "11. 'Comoros'\n",
       "12. 'Congo'\n",
       "13. 'Cote d\\'Ivoire'\n",
       "14. 'Dominican Republic'\n",
       "15. 'Egypt'\n",
       "16. 'Eswatini'\n",
       "17. 'Gabon'\n",
       "18. 'Ghana'\n",
       "19. 'Guatemala'\n",
       "20. 'Guinea'\n",
       "21. 'Guyana'\n",
       "22. 'Haiti'\n",
       "23. 'India'\n",
       "24. 'Indonesia'\n",
       "25. 'Kenya'\n",
       "26. 'Kyrgyz Republic'\n",
       "27. 'Lesotho'\n",
       "28. 'Liberia'\n",
       "29. 'Madagascar'\n",
       "30. 'Mali'\n",
       "31. 'Mauritania'\n",
       "32. 'Moldova'\n",
       "33. 'Morocco'\n",
       "34. 'Mozambique'\n",
       "35. 'Namibia'\n",
       "36. 'Nepal'\n",
       "37. 'Nicaragua'\n",
       "38. 'Niger'\n",
       "39. 'Nigeria'\n",
       "40. 'Pakistan'\n",
       "41. 'Papua New Guinea'\n",
       "42. 'Peru'\n",
       "43. 'Philippines'\n",
       "44. 'Rwanda'\n",
       "45. 'Sao Tome and Principe'\n",
       "46. 'Senegal'\n",
       "47. 'Sierra Leone'\n",
       "48. 'South Africa'\n",
       "49. 'Tajikistan'\n",
       "50. 'Tanzania'\n",
       "51. 'Timor-Leste'\n",
       "52. 'Togo'\n",
       "53. 'Turkey'\n",
       "54. 'Turkmenistan'\n",
       "55. 'Uganda'\n",
       "56. 'Ukraine'\n",
       "57. 'Vietnam'\n",
       "58. 'Yemen'\n",
       "59. 'Zambia'\n",
       "\n",
       "\n"
      ],
      "text/plain": [
       "          3           4          11          12          17          21 \n",
       "    Comoros  Azerbaijan Afghanistan  Azerbaijan     Albania  Azerbaijan \n",
       "59 Levels: Afghanistan Albania Azerbaijan Bangladesh Benin ... Zambia"
      ]
     },
     "metadata": {},
     "output_type": "display_data"
    }
   ],
   "source": [
    "# Make predictions on the test data\n",
    "predicted.classes <- model1 %>% \n",
    "  predict(test.data, type = \"class\")\n",
    "head(predicted.classes)"
   ]
  },
  {
   "cell_type": "code",
   "execution_count": 52,
   "metadata": {},
   "outputs": [
    {
     "data": {
      "text/html": [
       "0"
      ],
      "text/latex": [
       "0"
      ],
      "text/markdown": [
       "0"
      ],
      "text/plain": [
       "[1] 0"
      ]
     },
     "metadata": {},
     "output_type": "display_data"
    }
   ],
   "source": [
    "# Compute model accuracy rate on test data\n",
    "mean(predicted.classes == test.data$Country)\n",
    "# Zero is not good, something went wrong, ask the professor for help potentially. "
   ]
  },
  {
   "cell_type": "markdown",
   "metadata": {},
   "source": [
    "# Pruning the tree"
   ]
  },
  {
   "cell_type": "code",
   "execution_count": 53,
   "metadata": {},
   "outputs": [
    {
     "name": "stderr",
     "output_type": "stream",
     "text": [
      "Warning message in nominalTrainWorkflow(x = x, y = y, wts = weights, info = trainInfo, :\n",
      "\"There were missing values in resampled performance measures.\"\n"
     ]
    },
    {
     "data": {
      "image/png": "[encoded data removed]",
      "text/plain": [
       "plot without title"
      ]
     },
     "metadata": {
      "image/png": {
       "height": 420,
       "width": 420
      }
     },
     "output_type": "display_data"
    }
   ],
   "source": [
    "# Fit the model on the training set\n",
    "set.seed(123)\n",
    "model2 <- train(\n",
    "  clusters ~., data = train.data, method = \"rpart\",\n",
    "  trControl = trainControl(\"cv\", number = 10),\n",
    "  tuneLength = 10\n",
    "  )\n",
    "# Plot model accuracy vs different values of\n",
    "# cp (complexity parameter)\n",
    "plot(model2)"
   ]
  },
  {
   "cell_type": "markdown",
   "metadata": {},
   "source": [
    "RMSE is computed as RMSE = mean((observeds - predicteds)^2) %>% sqrt(). The lower the RMSE, the better the model."
   ]
  },
  {
   "cell_type": "code",
   "execution_count": 54,
   "metadata": {},
   "outputs": [
    {
     "data": {
      "text/html": [
       "<table class=\"dataframe\">\n",
       "<caption>A data.frame: 1 × 1</caption>\n",
       "<thead>\n",
       "\t<tr><th></th><th scope=col>cp</th></tr>\n",
       "\t<tr><th></th><th scope=col>&lt;dbl&gt;</th></tr>\n",
       "</thead>\n",
       "<tbody>\n",
       "\t<tr><th scope=row>9</th><td>0.4455872</td></tr>\n",
       "</tbody>\n",
       "</table>\n"
      ],
      "text/latex": [
       "A data.frame: 1 × 1\n",
       "\\begin{tabular}{r|l}\n",
       "  & cp\\\\\n",
       "  & <dbl>\\\\\n",
       "\\hline\n",
       "\t9 & 0.4455872\\\\\n",
       "\\end{tabular}\n"
      ],
      "text/markdown": [
       "\n",
       "A data.frame: 1 × 1\n",
       "\n",
       "| <!--/--> | cp &lt;dbl&gt; |\n",
       "|---|---|\n",
       "| 9 | 0.4455872 |\n",
       "\n"
      ],
      "text/plain": [
       "  cp       \n",
       "9 0.4455872"
      ]
     },
     "metadata": {},
     "output_type": "display_data"
    }
   ],
   "source": [
    "# Print the best tuning parameter cp that\n",
    "# maximizes the model accuracy\n",
    "model2$bestTune"
   ]
  },
  {
   "cell_type": "code",
   "execution_count": 55,
   "metadata": {},
   "outputs": [
    {
     "data": {
      "image/png": "[encoded data removed]",
      "text/plain": [
       "plot without title"
      ]
     },
     "metadata": {
      "image/png": {
       "height": 420,
       "width": 420
      }
     },
     "output_type": "display_data"
    }
   ],
   "source": [
    "# Plot the final tree model\n",
    "par(xpd = NA) # Avoid clipping the text in some device\n",
    "plot(model2$finalModel)\n",
    "text(model2$finalModel,  digits = 3)"
   ]
  },
  {
   "cell_type": "code",
   "execution_count": 56,
   "metadata": {},
   "outputs": [
    {
     "data": {
      "text/plain": [
       "n= 59 \n",
       "\n",
       "node), split, n, deviance, yval\n",
       "      * denotes terminal node\n",
       "\n",
       "1) root 59 65.93220 2.033898  \n",
       "  2) mori>=44.1 31 16.77419 1.322581 *\n",
       "  3) mori< 44.1 28 16.10714 2.821429 *"
      ]
     },
     "metadata": {},
     "output_type": "display_data"
    }
   ],
   "source": [
    "# Decision rules in the model\n",
    "model2$finalModel"
   ]
  },
  {
   "cell_type": "markdown",
   "metadata": {},
   "source": [
    "# Make predictions on the test data\n",
    "predicted.classes <- model2 %>% predict(test.data)\n",
    "# Compute model accuracy rate on test data\n",
    "mean(predicted.classes == test.data$Country)\n",
    "# Must understand what these function of codes actually implment. "
   ]
  },
  {
   "cell_type": "markdown",
   "metadata": {},
   "source": [
    "# Create the regression tree"
   ]
  },
  {
   "cell_type": "code",
   "execution_count": 57,
   "metadata": {},
   "outputs": [
    {
     "name": "stderr",
     "output_type": "stream",
     "text": [
      "Warning message in nominalTrainWorkflow(x = x, y = y, wts = weights, info = trainInfo, :\n",
      "\"There were missing values in resampled performance measures.\"\n"
     ]
    },
    {
     "data": {
      "text/html": [
       "<table class=\"dataframe\">\n",
       "<caption>A data.frame: 1 × 1</caption>\n",
       "<thead>\n",
       "\t<tr><th></th><th scope=col>cp</th></tr>\n",
       "\t<tr><th></th><th scope=col>&lt;dbl&gt;</th></tr>\n",
       "</thead>\n",
       "<tbody>\n",
       "\t<tr><th scope=row>6</th><td>0.166018</td></tr>\n",
       "</tbody>\n",
       "</table>\n"
      ],
      "text/latex": [
       "A data.frame: 1 × 1\n",
       "\\begin{tabular}{r|l}\n",
       "  & cp\\\\\n",
       "  & <dbl>\\\\\n",
       "\\hline\n",
       "\t6 & 0.166018\\\\\n",
       "\\end{tabular}\n"
      ],
      "text/markdown": [
       "\n",
       "A data.frame: 1 × 1\n",
       "\n",
       "| <!--/--> | cp &lt;dbl&gt; |\n",
       "|---|---|\n",
       "| 6 | 0.166018 |\n",
       "\n"
      ],
      "text/plain": [
       "  cp      \n",
       "6 0.166018"
      ]
     },
     "metadata": {},
     "output_type": "display_data"
    },
    {
     "data": {
      "image/png": "[encoded data removed]",
      "text/plain": [
       "plot without title"
      ]
     },
     "metadata": {
      "image/png": {
       "height": 420,
       "width": 420
      }
     },
     "output_type": "display_data"
    }
   ],
   "source": [
    "# Fit the model on the training set\n",
    "set.seed(123)\n",
    "model <- train(\n",
    "  bicy ~., data = train.data, method = \"rpart\",\n",
    "  trControl = trainControl(\"cv\", number = 10),\n",
    "  tuneLength = 10\n",
    "  )\n",
    "# Plot model error vs different values of\n",
    "# cp (complexity parameter)\n",
    "plot(model)\n",
    "# Print the best tuning parameter cp that\n",
    "# minimize the model RMSE\n",
    "model$bestTune"
   ]
  },
  {
   "cell_type": "markdown",
   "metadata": {},
   "source": [
    "Here, the best cp value is the one that minimize the prediction error RMSE (root mean squared error)."
   ]
  },
  {
   "cell_type": "code",
   "execution_count": 58,
   "metadata": {},
   "outputs": [
    {
     "data": {
      "image/png": "[encoded data removed]",
      "text/plain": [
       "plot without title"
      ]
     },
     "metadata": {
      "image/png": {
       "height": 420,
       "width": 420
      }
     },
     "output_type": "display_data"
    }
   ],
   "source": [
    "# Plot the final tree model\n",
    "par(xpd = NA) # Avoid clipping the text in some device\n",
    "plot(model$finalModel)\n",
    "text(model$finalModel, digits = 3)"
   ]
  },
  {
   "cell_type": "markdown",
   "metadata": {},
   "source": [
    "# Decision rules in the model\n",
    "model$finalModel\n",
    "# Make predictions on the test data\n",
    "predictions <- model %>% predict(test.data)\n",
    "head(predictions)\n",
    "# Compute the prediction error RMSE\n",
    "RMSE(predictions, test.data$Country)"
   ]
  },
  {
   "cell_type": "markdown",
   "metadata": {},
   "source": [
    "# Conditionnal inference tree"
   ]
  },
  {
   "cell_type": "code",
   "execution_count": 59,
   "metadata": {},
   "outputs": [
    {
     "name": "stderr",
     "output_type": "stream",
     "text": [
      "Warning message in nominalTrainWorkflow(x = x, y = y, wts = weights, info = trainInfo, :\n",
      "\"There were missing values in resampled performance measures.\"\n"
     ]
    },
    {
     "data": {
      "image/png": "[encoded data removed]",
      "text/plain": [
       "plot without title"
      ]
     },
     "metadata": {
      "image/png": {
       "height": 420,
       "width": 420
      }
     },
     "output_type": "display_data"
    }
   ],
   "source": [
    "set.seed(123)\n",
    "model <- train(\n",
    "  bicy ~., data = train.data, method = \"ctree2\",\n",
    "  trControl = trainControl(\"cv\", number = 10),\n",
    "  tuneGrid = expand.grid(maxdepth = 3, mincriterion = 0.95 )\n",
    "  )\n",
    "plot(model$finalModel)"
   ]
  },
  {
   "cell_type": "markdown",
   "metadata": {},
   "source": [
    "Reference: http://www.sthda.com/english/articles/35-statistical-machine-learning-essentials/141-cart-model-decision-tree-essentials/"
   ]
  },
  {
   "cell_type": "markdown",
   "metadata": {},
   "source": [
    "# Fitting Classification Trees"
   ]
  },
  {
   "cell_type": "markdown",
   "metadata": {},
   "source": [
    "Reference: https://static1.squarespace.com/static/5ff2adbe3fe4fe33db902812/t/6009dd9fa7bc363aa822d2c7/1611259312432/ISLR+Seventh+Printing.pdf (338)\n",
    "https://www.datacamp.com/community/tutorials/decision-trees-R\n",
    "Random Forest:\n",
    "https://cran.r-project.org/web/packages/randomForest/randomForest.pdf"
   ]
  },
  {
   "cell_type": "code",
   "execution_count": 60,
   "metadata": {},
   "outputs": [
    {
     "data": {
      "text/html": [
       "<style>\n",
       ".list-inline {list-style: none; margin:0; padding: 0}\n",
       ".list-inline>li {display: inline-block}\n",
       ".list-inline>li:not(:last-child)::after {content: \"\\00b7\"; padding: 0 .5ex}\n",
       "</style>\n",
       "<ol class=list-inline><li>'Country'</li><li>'bicy'</li><li>'cart'</li><li>'mcyc'</li><li>'pcar'</li><li>'boat'</li><li>'wigc'</li><li>'clusters'</li><li>'cgdp'</li><li>'tpop'</li><li>'upop'</li><li>'popd'</li><li>'land'</li><li>'lita'</li><li>'lity'</li><li>'mori'</li></ol>\n"
      ],
      "text/latex": [
       "\\begin{enumerate*}\n",
       "\\item 'Country'\n",
       "\\item 'bicy'\n",
       "\\item 'cart'\n",
       "\\item 'mcyc'\n",
       "\\item 'pcar'\n",
       "\\item 'boat'\n",
       "\\item 'wigc'\n",
       "\\item 'clusters'\n",
       "\\item 'cgdp'\n",
       "\\item 'tpop'\n",
       "\\item 'upop'\n",
       "\\item 'popd'\n",
       "\\item 'land'\n",
       "\\item 'lita'\n",
       "\\item 'lity'\n",
       "\\item 'mori'\n",
       "\\end{enumerate*}\n"
      ],
      "text/markdown": [
       "1. 'Country'\n",
       "2. 'bicy'\n",
       "3. 'cart'\n",
       "4. 'mcyc'\n",
       "5. 'pcar'\n",
       "6. 'boat'\n",
       "7. 'wigc'\n",
       "8. 'clusters'\n",
       "9. 'cgdp'\n",
       "10. 'tpop'\n",
       "11. 'upop'\n",
       "12. 'popd'\n",
       "13. 'land'\n",
       "14. 'lita'\n",
       "15. 'lity'\n",
       "16. 'mori'\n",
       "\n",
       "\n"
      ],
      "text/plain": [
       " [1] \"Country\"  \"bicy\"     \"cart\"     \"mcyc\"     \"pcar\"     \"boat\"    \n",
       " [7] \"wigc\"     \"clusters\" \"cgdp\"     \"tpop\"     \"upop\"     \"popd\"    \n",
       "[13] \"land\"     \"lita\"     \"lity\"     \"mori\"    "
      ]
     },
     "metadata": {},
     "output_type": "display_data"
    }
   ],
   "source": [
    "names(df.exp)"
   ]
  },
  {
   "cell_type": "code",
   "execution_count": 61,
   "metadata": {},
   "outputs": [
    {
     "data": {
      "image/png": "[encoded data removed]",
      "text/plain": [
       "Plot with title \"Histogram of df.exp$cart\""
      ]
     },
     "metadata": {
      "image/png": {
       "height": 420,
       "width": 420
      }
     },
     "output_type": "display_data"
    },
    {
     "data": {
      "image/png": "[encoded data removed]",
      "text/plain": [
       "Plot with title \"Histogram of df.exp$clusters\""
      ]
     },
     "metadata": {
      "image/png": {
       "height": 420,
       "width": 420
      }
     },
     "output_type": "display_data"
    }
   ],
   "source": [
    "hist(df.exp$cart)\n",
    "hist(df.exp$clusters)"
   ]
  },
  {
   "cell_type": "code",
   "execution_count": 62,
   "metadata": {},
   "outputs": [],
   "source": [
    "#High = ifelse(df$acar <= 10 , \"No\", \"Yes\")\n",
    "#df = data.frame(df, High)"
   ]
  },
  {
   "cell_type": "code",
   "execution_count": 63,
   "metadata": {},
   "outputs": [
    {
     "data": {
      "text/html": [
       "<table class=\"dataframe\">\n",
       "<caption>A data.frame: 6 × 16</caption>\n",
       "<thead>\n",
       "\t<tr><th></th><th scope=col>Country</th><th scope=col>bicy</th><th scope=col>cart</th><th scope=col>mcyc</th><th scope=col>pcar</th><th scope=col>boat</th><th scope=col>wigc</th><th scope=col>clusters</th><th scope=col>cgdp</th><th scope=col>tpop</th><th scope=col>upop</th><th scope=col>popd</th><th scope=col>land</th><th scope=col>lita</th><th scope=col>lity</th><th scope=col>mori</th></tr>\n",
       "\t<tr><th></th><th scope=col>&lt;chr&gt;</th><th scope=col>&lt;dbl&gt;</th><th scope=col>&lt;dbl&gt;</th><th scope=col>&lt;dbl&gt;</th><th scope=col>&lt;dbl&gt;</th><th scope=col>&lt;dbl&gt;</th><th scope=col>&lt;dbl&gt;</th><th scope=col>&lt;dbl&gt;</th><th scope=col>&lt;dbl&gt;</th><th scope=col>&lt;dbl&gt;</th><th scope=col>&lt;dbl&gt;</th><th scope=col>&lt;dbl&gt;</th><th scope=col>&lt;dbl&gt;</th><th scope=col>&lt;dbl&gt;</th><th scope=col>&lt;dbl&gt;</th><th scope=col>&lt;dbl&gt;</th></tr>\n",
       "</thead>\n",
       "<tbody>\n",
       "\t<tr><th scope=row>1</th><td>Afghanistan</td><td>30.0</td><td>5.8</td><td>35.2</td><td>11.8</td><td>0.0</td><td>0.1</td><td>1</td><td> 18353881130</td><td> 37172386</td><td>25.495</td><td>  56.93776</td><td> 652860</td><td>43.01972</td><td>0.75933</td><td>62.5</td></tr>\n",
       "\t<tr><th scope=row>2</th><td>Albania    </td><td>26.4</td><td>3.2</td><td> 9.6</td><td>37.0</td><td>0.7</td><td>0.1</td><td>2</td><td> 15147020535</td><td>  2866376</td><td>60.319</td><td> 104.61226</td><td>  27400</td><td>98.14115</td><td>1.00582</td><td> 9.5</td></tr>\n",
       "\t<tr><th scope=row>3</th><td>Angola     </td><td> 4.6</td><td>1.3</td><td>17.8</td><td>10.9</td><td>0.4</td><td>0.3</td><td>1</td><td>101353230785</td><td> 30809762</td><td>65.514</td><td>  24.71305</td><td>1246700</td><td> 0.00000</td><td>0.00000</td><td>77.7</td></tr>\n",
       "\t<tr><th scope=row>4</th><td>Armenia    </td><td> 8.6</td><td>0.4</td><td> 0.2</td><td>39.2</td><td>0.3</td><td>0.1</td><td>2</td><td> 12457941907</td><td>  2951776</td><td>63.149</td><td> 103.68022</td><td>  28470</td><td> 0.00000</td><td>0.00000</td><td>12.4</td></tr>\n",
       "\t<tr><th scope=row>5</th><td>Azerbaijan </td><td> 6.9</td><td>3.3</td><td> 1.1</td><td>20.4</td><td>0.1</td><td>0.0</td><td>3</td><td> 47112941176</td><td>  9939771</td><td>55.680</td><td> 120.23432</td><td>  82670</td><td> 0.00000</td><td>0.00000</td><td>21.6</td></tr>\n",
       "\t<tr><th scope=row>6</th><td>Bangladesh </td><td>25.1</td><td>0.0</td><td> 6.4</td><td> 0.8</td><td>0.0</td><td>0.3</td><td>3</td><td>274039092455</td><td>161356039</td><td>36.632</td><td>1239.57931</td><td> 130170</td><td>73.91220</td><td>1.03276</td><td>32.3</td></tr>\n",
       "</tbody>\n",
       "</table>\n"
      ],
      "text/latex": [
       "A data.frame: 6 × 16\n",
       "\\begin{tabular}{r|llllllllllllllll}\n",
       "  & Country & bicy & cart & mcyc & pcar & boat & wigc & clusters & cgdp & tpop & upop & popd & land & lita & lity & mori\\\\\n",
       "  & <chr> & <dbl> & <dbl> & <dbl> & <dbl> & <dbl> & <dbl> & <dbl> & <dbl> & <dbl> & <dbl> & <dbl> & <dbl> & <dbl> & <dbl> & <dbl>\\\\\n",
       "\\hline\n",
       "\t1 & Afghanistan & 30.0 & 5.8 & 35.2 & 11.8 & 0.0 & 0.1 & 1 &  18353881130 &  37172386 & 25.495 &   56.93776 &  652860 & 43.01972 & 0.75933 & 62.5\\\\\n",
       "\t2 & Albania     & 26.4 & 3.2 &  9.6 & 37.0 & 0.7 & 0.1 & 2 &  15147020535 &   2866376 & 60.319 &  104.61226 &   27400 & 98.14115 & 1.00582 &  9.5\\\\\n",
       "\t3 & Angola      &  4.6 & 1.3 & 17.8 & 10.9 & 0.4 & 0.3 & 1 & 101353230785 &  30809762 & 65.514 &   24.71305 & 1246700 &  0.00000 & 0.00000 & 77.7\\\\\n",
       "\t4 & Armenia     &  8.6 & 0.4 &  0.2 & 39.2 & 0.3 & 0.1 & 2 &  12457941907 &   2951776 & 63.149 &  103.68022 &   28470 &  0.00000 & 0.00000 & 12.4\\\\\n",
       "\t5 & Azerbaijan  &  6.9 & 3.3 &  1.1 & 20.4 & 0.1 & 0.0 & 3 &  47112941176 &   9939771 & 55.680 &  120.23432 &   82670 &  0.00000 & 0.00000 & 21.6\\\\\n",
       "\t6 & Bangladesh  & 25.1 & 0.0 &  6.4 &  0.8 & 0.0 & 0.3 & 3 & 274039092455 & 161356039 & 36.632 & 1239.57931 &  130170 & 73.91220 & 1.03276 & 32.3\\\\\n",
       "\\end{tabular}\n"
      ],
      "text/markdown": [
       "\n",
       "A data.frame: 6 × 16\n",
       "\n",
       "| <!--/--> | Country &lt;chr&gt; | bicy &lt;dbl&gt; | cart &lt;dbl&gt; | mcyc &lt;dbl&gt; | pcar &lt;dbl&gt; | boat &lt;dbl&gt; | wigc &lt;dbl&gt; | clusters &lt;dbl&gt; | cgdp &lt;dbl&gt; | tpop &lt;dbl&gt; | upop &lt;dbl&gt; | popd &lt;dbl&gt; | land &lt;dbl&gt; | lita &lt;dbl&gt; | lity &lt;dbl&gt; | mori &lt;dbl&gt; |\n",
       "|---|---|---|---|---|---|---|---|---|---|---|---|---|---|---|---|---|\n",
       "| 1 | Afghanistan | 30.0 | 5.8 | 35.2 | 11.8 | 0.0 | 0.1 | 1 |  18353881130 |  37172386 | 25.495 |   56.93776 |  652860 | 43.01972 | 0.75933 | 62.5 |\n",
       "| 2 | Albania     | 26.4 | 3.2 |  9.6 | 37.0 | 0.7 | 0.1 | 2 |  15147020535 |   2866376 | 60.319 |  104.61226 |   27400 | 98.14115 | 1.00582 |  9.5 |\n",
       "| 3 | Angola      |  4.6 | 1.3 | 17.8 | 10.9 | 0.4 | 0.3 | 1 | 101353230785 |  30809762 | 65.514 |   24.71305 | 1246700 |  0.00000 | 0.00000 | 77.7 |\n",
       "| 4 | Armenia     |  8.6 | 0.4 |  0.2 | 39.2 | 0.3 | 0.1 | 2 |  12457941907 |   2951776 | 63.149 |  103.68022 |   28470 |  0.00000 | 0.00000 | 12.4 |\n",
       "| 5 | Azerbaijan  |  6.9 | 3.3 |  1.1 | 20.4 | 0.1 | 0.0 | 3 |  47112941176 |   9939771 | 55.680 |  120.23432 |   82670 |  0.00000 | 0.00000 | 21.6 |\n",
       "| 6 | Bangladesh  | 25.1 | 0.0 |  6.4 |  0.8 | 0.0 | 0.3 | 3 | 274039092455 | 161356039 | 36.632 | 1239.57931 |  130170 | 73.91220 | 1.03276 | 32.3 |\n",
       "\n"
      ],
      "text/plain": [
       "  Country     bicy cart mcyc pcar boat wigc clusters cgdp         tpop     \n",
       "1 Afghanistan 30.0 5.8  35.2 11.8 0.0  0.1  1         18353881130  37172386\n",
       "2 Albania     26.4 3.2   9.6 37.0 0.7  0.1  2         15147020535   2866376\n",
       "3 Angola       4.6 1.3  17.8 10.9 0.4  0.3  1        101353230785  30809762\n",
       "4 Armenia      8.6 0.4   0.2 39.2 0.3  0.1  2         12457941907   2951776\n",
       "5 Azerbaijan   6.9 3.3   1.1 20.4 0.1  0.0  3         47112941176   9939771\n",
       "6 Bangladesh  25.1 0.0   6.4  0.8 0.0  0.3  3        274039092455 161356039\n",
       "  upop   popd       land    lita     lity    mori\n",
       "1 25.495   56.93776  652860 43.01972 0.75933 62.5\n",
       "2 60.319  104.61226   27400 98.14115 1.00582  9.5\n",
       "3 65.514   24.71305 1246700  0.00000 0.00000 77.7\n",
       "4 63.149  103.68022   28470  0.00000 0.00000 12.4\n",
       "5 55.680  120.23432   82670  0.00000 0.00000 21.6\n",
       "6 36.632 1239.57931  130170 73.91220 1.03276 32.3"
      ]
     },
     "metadata": {},
     "output_type": "display_data"
    }
   ],
   "source": [
    "tree.wa = tree(clusters ~ . - Country  , data = df.exp)\n",
    "head(df.exp)\n",
    "# We must figure out the NAs introduced by coercion meaning before preceeding this sections"
   ]
  },
  {
   "cell_type": "code",
   "execution_count": 64,
   "metadata": {},
   "outputs": [
    {
     "data": {
      "text/plain": [
       "\n",
       "Regression tree:\n",
       "tree(formula = clusters ~ . - Country, data = df.exp)\n",
       "Variables actually used in tree construction:\n",
       "[1] \"mori\" \"bicy\" \"pcar\" \"lity\" \"boat\"\n",
       "Number of terminal nodes:  7 \n",
       "Residual mean deviance:  0.2936 = 19.38 / 66 \n",
       "Distribution of residuals:\n",
       "    Min.  1st Qu.   Median     Mean  3rd Qu.     Max. \n",
       "-0.88890 -0.11110 -0.06667  0.00000  0.33330  1.93300 "
      ]
     },
     "metadata": {},
     "output_type": "display_data"
    }
   ],
   "source": [
    "summary(tree.wa)"
   ]
  },
  {
   "cell_type": "code",
   "execution_count": 65,
   "metadata": {},
   "outputs": [
    {
     "data": {
      "image/png": "[encoded data removed]",
      "text/plain": [
       "plot without title"
      ]
     },
     "metadata": {
      "image/png": {
       "height": 420,
       "width": 420
      }
     },
     "output_type": "display_data"
    }
   ],
   "source": [
    "plot(tree.wa)\n",
    "text(tree.wa, pretty = 0)"
   ]
  },
  {
   "cell_type": "code",
   "execution_count": 66,
   "metadata": {},
   "outputs": [
    {
     "data": {
      "text/plain": [
       "node), split, n, deviance, yval\n",
       "      * denotes terminal node\n",
       "\n",
       " 1) root 73 79.7800 1.945  \n",
       "   2) mori < 43.75 34 22.6200 2.735  \n",
       "     4) bicy < 18.5 14  8.3570 2.214  \n",
       "       8) pcar < 12.7 5  1.2000 1.400 *\n",
       "       9) pcar > 12.7 9  2.0000 2.667 *\n",
       "     5) bicy > 18.5 20  7.8000 3.100  \n",
       "      10) lity < 1.00049 15  3.3330 3.333  \n",
       "        20) mori < 23.5 6  1.3330 3.667 *\n",
       "        21) mori > 23.5 9  0.8889 3.111 *\n",
       "      11) lity > 1.00049 5  1.2000 2.400 *\n",
       "   3) mori > 43.75 39 17.4400 1.256  \n",
       "     6) boat < 0.55 30  3.8670 1.067 *\n",
       "     7) boat > 0.55 9  8.8890 1.889 *"
      ]
     },
     "metadata": {},
     "output_type": "display_data"
    }
   ],
   "source": [
    "tree.wa"
   ]
  },
  {
   "cell_type": "markdown",
   "metadata": {},
   "source": [
    "Training Session"
   ]
  },
  {
   "cell_type": "code",
   "execution_count": 67,
   "metadata": {},
   "outputs": [],
   "source": [
    "set.seed(101)\n",
    "train=sample(1:nrow(df.exp), 59)"
   ]
  },
  {
   "cell_type": "code",
   "execution_count": 68,
   "metadata": {},
   "outputs": [
    {
     "data": {
      "image/png": "[encoded data removed]",
      "text/plain": [
       "plot without title"
      ]
     },
     "metadata": {
      "image/png": {
       "height": 420,
       "width": 420
      }
     },
     "output_type": "display_data"
    }
   ],
   "source": [
    "tree.wa = tree(clusters ~ . - Country  , data = df.exp)\n",
    "plot(tree.wa)\n",
    "text(tree.wa, pretty=0)"
   ]
  },
  {
   "cell_type": "markdown",
   "metadata": {},
   "source": [
    "tree.pred = predict(tree.wa, df.exp[-train,], type=\"class\")"
   ]
  },
  {
   "cell_type": "markdown",
   "metadata": {},
   "source": [
    "Finally, we use the data.frame() function to merge High with the rest of\n",
    "the borehole (bore) data."
   ]
  },
  {
   "cell_type": "markdown",
   "metadata": {},
   "source": [
    "set.seed(2)\n",
    "train=sample(1:nrow(df.exp), 78)\n",
    "df.test= df.exp[-train,]\n",
    "High.test= df.exp$clusters[-train]\n",
    "tree.df =tree(clusters ~ . - Country ,df.exp,subset=train)\n",
    "summary(tree.df)\n",
    "tree.pred=predict(tree.df,df.test,type=\"class\")\n",
    "table(tree.pred,High.test)\n",
    "plot(tree.df)\n",
    "# Unsure what trees cannot handle multiple responses mean"
   ]
  },
  {
   "cell_type": "markdown",
   "metadata": {},
   "source": [
    "# Random Forest"
   ]
  },
  {
   "cell_type": "markdown",
   "metadata": {},
   "source": [
    "To prepare data for random forest, let's set the seed and create a sample training set of 300 observations."
   ]
  },
  {
   "cell_type": "code",
   "execution_count": 69,
   "metadata": {},
   "outputs": [
    {
     "data": {
      "text/html": [
       "<style>\n",
       ".list-inline {list-style: none; margin:0; padding: 0}\n",
       ".list-inline>li {display: inline-block}\n",
       ".list-inline>li:not(:last-child)::after {content: \"\\00b7\"; padding: 0 .5ex}\n",
       "</style>\n",
       "<ol class=list-inline><li>73</li><li>57</li><li>46</li><li>58</li><li>61</li><li>60</li></ol>\n"
      ],
      "text/latex": [
       "\\begin{enumerate*}\n",
       "\\item 73\n",
       "\\item 57\n",
       "\\item 46\n",
       "\\item 58\n",
       "\\item 61\n",
       "\\item 60\n",
       "\\end{enumerate*}\n"
      ],
      "text/markdown": [
       "1. 73\n",
       "2. 57\n",
       "3. 46\n",
       "4. 58\n",
       "5. 61\n",
       "6. 60\n",
       "\n",
       "\n"
      ],
      "text/plain": [
       "[1] 73 57 46 58 61 60"
      ]
     },
     "metadata": {},
     "output_type": "display_data"
    }
   ],
   "source": [
    "set.seed(101)\n",
    "train = sample(1:nrow(df.exp), 73)\n",
    "head(train)"
   ]
  },
  {
   "cell_type": "code",
   "execution_count": 74,
   "metadata": {},
   "outputs": [
    {
     "data": {
      "text/plain": [
       "\n",
       "Call:\n",
       " randomForest(formula = cart ~ ., data = df.exp, subset = train) \n",
       "               Type of random forest: regression\n",
       "                     Number of trees: 500\n",
       "No. of variables tried at each split: 5\n",
       "\n",
       "          Mean of squared residuals: 65.95636\n",
       "                    % Var explained: 6.73"
      ]
     },
     "metadata": {},
     "output_type": "display_data"
    }
   ],
   "source": [
    "rf.water = randomForest(cart~., data = df.exp, subset = train)\n",
    "rf.water"
   ]
  },
  {
   "cell_type": "code",
   "execution_count": 71,
   "metadata": {},
   "outputs": [],
   "source": [
    "oob.err = double(13)\n",
    "test.err = double(13)\n",
    "for(mtry in 1:13){\n",
    "  fit = randomForest(cart~., data = df.exp, subset=train, mtry=mtry, ntree = 350)\n",
    "  oob.err[mtry] = fit$mse[350]\n",
    "  pred = predict(fit, df.exp[-train,])\n",
    "  test.err[mtry] = with(df.exp[-train,], mean( (cart-pred)^2 ))\n",
    "}"
   ]
  },
  {
   "cell_type": "code",
   "execution_count": 72,
   "metadata": {},
   "outputs": [
    {
     "data": {
      "image/png": "[encoded data removed]",
      "text/plain": [
       "plot without title"
      ]
     },
     "metadata": {
      "image/png": {
       "height": 420,
       "width": 420
      }
     },
     "output_type": "display_data"
    }
   ],
   "source": [
    "matplot(1:mtry, cbind(test.err, oob.err), pch = 23, col = c(\"red\", \"blue\"), type = \"b\", ylab=\"Mean Squared Error\")\n",
    "legend(\"topright\", legend = c(\"OOB\", \"Test\"), pch = 23, col = c(\"red\", \"blue\"))"
   ]
  },
  {
   "cell_type": "markdown",
   "metadata": {},
   "source": [
    "Printing out the random forest gives its summary: the # of trees (500 were grown), the mean squared residuals (MSR), and the percentage of variance explained. The MSR and % variance explained are based on the out-of-bag estimates, a very clever device in random forests to get honest error estimates."
   ]
  }
 ],
 "metadata": {
  "kernelspec": {
   "display_name": "R",
   "language": "R",
   "name": "ir"
  },
  "language_info": {
   "codemirror_mode": "r",
   "file_extension": ".r",
   "mimetype": "text/x-r-source",
   "name": "R",
   "pygments_lexer": "r",
   "version": "4.0.2"
  }
 },
 "nbformat": 4,
 "nbformat_minor": 4
}
