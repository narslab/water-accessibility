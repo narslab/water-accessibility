{
 "cells": [
  {
   "cell_type": "code",
   "execution_count": 1,
   "metadata": {},
   "outputs": [
    {
     "name": "stderr",
     "output_type": "stream",
     "text": [
      "Warning message:\n",
      "\"package 'randomForest' was built under R version 4.0.3\"\n",
      "randomForest 4.6-14\n",
      "\n",
      "Type rfNews() to see new features/changes/bug fixes.\n",
      "\n",
      "Warning message:\n",
      "\"package 'tidyverse' was built under R version 4.0.3\"\n",
      "-- \u001b[1mAttaching packages\u001b[22m --------------------------------------- tidyverse 1.3.0 --\n",
      "\n",
      "\u001b[32mv\u001b[39m \u001b[34mggplot2\u001b[39m 3.3.2     \u001b[32mv\u001b[39m \u001b[34mpurrr  \u001b[39m 0.3.4\n",
      "\u001b[32mv\u001b[39m \u001b[34mtibble \u001b[39m 3.0.3     \u001b[32mv\u001b[39m \u001b[34mdplyr  \u001b[39m 1.0.2\n",
      "\u001b[32mv\u001b[39m \u001b[34mtidyr  \u001b[39m 1.1.2     \u001b[32mv\u001b[39m \u001b[34mstringr\u001b[39m 1.4.0\n",
      "\u001b[32mv\u001b[39m \u001b[34mreadr  \u001b[39m 1.4.0     \u001b[32mv\u001b[39m \u001b[34mforcats\u001b[39m 0.5.0\n",
      "\n",
      "Warning message:\n",
      "\"package 'ggplot2' was built under R version 4.0.3\"\n",
      "-- \u001b[1mConflicts\u001b[22m ------------------------------------------ tidyverse_conflicts() --\n",
      "\u001b[31mx\u001b[39m \u001b[34mdplyr\u001b[39m::\u001b[32mcombine()\u001b[39m  masks \u001b[34mrandomForest\u001b[39m::combine()\n",
      "\u001b[31mx\u001b[39m \u001b[34mdplyr\u001b[39m::\u001b[32mfilter()\u001b[39m   masks \u001b[34mstats\u001b[39m::filter()\n",
      "\u001b[31mx\u001b[39m \u001b[34mdplyr\u001b[39m::\u001b[32mlag()\u001b[39m      masks \u001b[34mstats\u001b[39m::lag()\n",
      "\u001b[31mx\u001b[39m \u001b[34mggplot2\u001b[39m::\u001b[32mmargin()\u001b[39m masks \u001b[34mrandomForest\u001b[39m::margin()\n",
      "\n",
      "Warning message:\n",
      "\"package 'caret' was built under R version 4.0.3\"\n",
      "Loading required package: lattice\n",
      "\n",
      "\n",
      "Attaching package: 'caret'\n",
      "\n",
      "\n",
      "The following object is masked from 'package:purrr':\n",
      "\n",
      "    lift\n",
      "\n",
      "\n",
      "Warning message:\n",
      "\"package 'tree' was built under R version 4.0.3\"\n",
      "Registered S3 method overwritten by 'tree':\n",
      "  method     from\n",
      "  print.tree cli \n",
      "\n",
      "Loading required package: mvtnorm\n",
      "\n",
      "Loading required package: survival\n",
      "\n",
      "\n",
      "Attaching package: 'survival'\n",
      "\n",
      "\n",
      "The following object is masked from 'package:caret':\n",
      "\n",
      "    cluster\n",
      "\n",
      "\n",
      "Loading required package: TH.data\n",
      "\n",
      "Warning message:\n",
      "\"package 'TH.data' was built under R version 4.0.3\"\n",
      "Loading required package: MASS\n",
      "\n",
      "\n",
      "Attaching package: 'MASS'\n",
      "\n",
      "\n",
      "The following object is masked from 'package:dplyr':\n",
      "\n",
      "    select\n",
      "\n",
      "\n",
      "\n",
      "Attaching package: 'TH.data'\n",
      "\n",
      "\n",
      "The following object is masked from 'package:MASS':\n",
      "\n",
      "    geyser\n",
      "\n",
      "\n",
      "Warning message:\n",
      "\"package 'party' was built under R version 4.0.3\"\n",
      "Loading required package: grid\n",
      "\n",
      "Loading required package: modeltools\n",
      "\n",
      "Warning message:\n",
      "\"package 'modeltools' was built under R version 4.0.3\"\n",
      "Loading required package: stats4\n",
      "\n",
      "Loading required package: strucchange\n",
      "\n",
      "Warning message:\n",
      "\"package 'strucchange' was built under R version 4.0.3\"\n",
      "Loading required package: zoo\n",
      "\n",
      "\n",
      "Attaching package: 'zoo'\n",
      "\n",
      "\n",
      "The following objects are masked from 'package:base':\n",
      "\n",
      "    as.Date, as.Date.numeric\n",
      "\n",
      "\n",
      "Loading required package: sandwich\n",
      "\n",
      "Warning message:\n",
      "\"package 'sandwich' was built under R version 4.0.3\"\n",
      "\n",
      "Attaching package: 'strucchange'\n",
      "\n",
      "\n",
      "The following object is masked from 'package:stringr':\n",
      "\n",
      "    boundary\n",
      "\n",
      "\n"
     ]
    }
   ],
   "source": [
    "#install.packages('randomForest')\n",
    "library(randomForest)\n",
    "library(readxl)\n",
    "library(tidyverse)\n",
    "#install.packages('caret')\n",
    "library(Rcpp)\n",
    "library(caret)\n",
    "library(rpart)\n",
    "#install.packages('tree')\n",
    "library(tree)\n",
    "#install.packages('multcomp')\n",
    "library(multcomp)\n",
    "#install.packages('party')\n",
    "library(party)\n",
    "library(tree)\n"
   ]
  },
  {
   "cell_type": "markdown",
   "metadata": {},
   "source": [
    "# Classification"
   ]
  },
  {
   "cell_type": "code",
   "execution_count": 25,
   "metadata": {},
   "outputs": [
    {
     "data": {
      "text/html": [
       "<table>\n",
       "<caption>A data.frame: 6 × 13</caption>\n",
       "<thead>\n",
       "\t<tr><th></th><th scope=col>X</th><th scope=col>Country</th><th scope=col>ptap</th><th scope=col>bore</th><th scope=col>pspr</th><th scope=col>uspr</th><th scope=col>pwel</th><th scope=col>uwel</th><th scope=col>surw</th><th scope=col>tles</th><th scope=col>tmor</th><th scope=col>rain</th><th scope=col>phom</th></tr>\n",
       "\t<tr><th></th><th scope=col>&lt;int&gt;</th><th scope=col>&lt;chr&gt;</th><th scope=col>&lt;dbl&gt;</th><th scope=col>&lt;dbl&gt;</th><th scope=col>&lt;dbl&gt;</th><th scope=col>&lt;dbl&gt;</th><th scope=col>&lt;dbl&gt;</th><th scope=col>&lt;dbl&gt;</th><th scope=col>&lt;dbl&gt;</th><th scope=col>&lt;dbl&gt;</th><th scope=col>&lt;dbl&gt;</th><th scope=col>&lt;dbl&gt;</th><th scope=col>&lt;dbl&gt;</th></tr>\n",
       "</thead>\n",
       "<tbody>\n",
       "\t<tr><th scope=row>1</th><td>1</td><td>Afghanistan</td><td>14.2</td><td>20.1</td><td>4.7</td><td>8.6</td><td>18.5</td><td>11.1</td><td> 7.3</td><td>45.2</td><td> 8.2</td><td>0.4</td><td> 2.3</td></tr>\n",
       "\t<tr><th scope=row>2</th><td>2</td><td>Albania    </td><td> 2.4</td><td> 1.4</td><td>2.5</td><td>0.8</td><td> 4.1</td><td> 0.8</td><td> 0.0</td><td>20.6</td><td> 1.1</td><td>0.0</td><td>48.8</td></tr>\n",
       "\t<tr><th scope=row>3</th><td>3</td><td>Angola     </td><td>10.3</td><td> 1.9</td><td>3.3</td><td>4.8</td><td> 9.1</td><td> 8.3</td><td>18.0</td><td>46.1</td><td>15.6</td><td>1.7</td><td> 4.3</td></tr>\n",
       "\t<tr><th scope=row>4</th><td>4</td><td>Armenia    </td><td> 0.5</td><td> 0.2</td><td>1.0</td><td>0.1</td><td> 0.2</td><td> 0.0</td><td> 0.0</td><td> 1.6</td><td> 0.1</td><td>0.0</td><td>88.3</td></tr>\n",
       "\t<tr><th scope=row>5</th><td>5</td><td>Azerbaijan </td><td> 3.5</td><td> 9.3</td><td>7.5</td><td>1.1</td><td> 6.2</td><td> 0.2</td><td> 7.0</td><td>18.7</td><td> 4.4</td><td>0.0</td><td>34.0</td></tr>\n",
       "\t<tr><th scope=row>6</th><td>6</td><td>Bangladesh </td><td> 2.7</td><td>86.4</td><td>0.0</td><td>0.3</td><td> 0.2</td><td> 0.6</td><td> 1.2</td><td>22.7</td><td> 1.6</td><td>0.4</td><td> 4.3</td></tr>\n",
       "</tbody>\n",
       "</table>\n"
      ],
      "text/latex": [
       "A data.frame: 6 × 13\n",
       "\\begin{tabular}{r|lllllllllllll}\n",
       "  & X & Country & ptap & bore & pspr & uspr & pwel & uwel & surw & tles & tmor & rain & phom\\\\\n",
       "  & <int> & <chr> & <dbl> & <dbl> & <dbl> & <dbl> & <dbl> & <dbl> & <dbl> & <dbl> & <dbl> & <dbl> & <dbl>\\\\\n",
       "\\hline\n",
       "\t1 & 1 & Afghanistan & 14.2 & 20.1 & 4.7 & 8.6 & 18.5 & 11.1 &  7.3 & 45.2 &  8.2 & 0.4 &  2.3\\\\\n",
       "\t2 & 2 & Albania     &  2.4 &  1.4 & 2.5 & 0.8 &  4.1 &  0.8 &  0.0 & 20.6 &  1.1 & 0.0 & 48.8\\\\\n",
       "\t3 & 3 & Angola      & 10.3 &  1.9 & 3.3 & 4.8 &  9.1 &  8.3 & 18.0 & 46.1 & 15.6 & 1.7 &  4.3\\\\\n",
       "\t4 & 4 & Armenia     &  0.5 &  0.2 & 1.0 & 0.1 &  0.2 &  0.0 &  0.0 &  1.6 &  0.1 & 0.0 & 88.3\\\\\n",
       "\t5 & 5 & Azerbaijan  &  3.5 &  9.3 & 7.5 & 1.1 &  6.2 &  0.2 &  7.0 & 18.7 &  4.4 & 0.0 & 34.0\\\\\n",
       "\t6 & 6 & Bangladesh  &  2.7 & 86.4 & 0.0 & 0.3 &  0.2 &  0.6 &  1.2 & 22.7 &  1.6 & 0.4 &  4.3\\\\\n",
       "\\end{tabular}\n"
      ],
      "text/markdown": [
       "\n",
       "A data.frame: 6 × 13\n",
       "\n",
       "| <!--/--> | X &lt;int&gt; | Country &lt;chr&gt; | ptap &lt;dbl&gt; | bore &lt;dbl&gt; | pspr &lt;dbl&gt; | uspr &lt;dbl&gt; | pwel &lt;dbl&gt; | uwel &lt;dbl&gt; | surw &lt;dbl&gt; | tles &lt;dbl&gt; | tmor &lt;dbl&gt; | rain &lt;dbl&gt; | phom &lt;dbl&gt; |\n",
       "|---|---|---|---|---|---|---|---|---|---|---|---|---|---|\n",
       "| 1 | 1 | Afghanistan | 14.2 | 20.1 | 4.7 | 8.6 | 18.5 | 11.1 |  7.3 | 45.2 |  8.2 | 0.4 |  2.3 |\n",
       "| 2 | 2 | Albania     |  2.4 |  1.4 | 2.5 | 0.8 |  4.1 |  0.8 |  0.0 | 20.6 |  1.1 | 0.0 | 48.8 |\n",
       "| 3 | 3 | Angola      | 10.3 |  1.9 | 3.3 | 4.8 |  9.1 |  8.3 | 18.0 | 46.1 | 15.6 | 1.7 |  4.3 |\n",
       "| 4 | 4 | Armenia     |  0.5 |  0.2 | 1.0 | 0.1 |  0.2 |  0.0 |  0.0 |  1.6 |  0.1 | 0.0 | 88.3 |\n",
       "| 5 | 5 | Azerbaijan  |  3.5 |  9.3 | 7.5 | 1.1 |  6.2 |  0.2 |  7.0 | 18.7 |  4.4 | 0.0 | 34.0 |\n",
       "| 6 | 6 | Bangladesh  |  2.7 | 86.4 | 0.0 | 0.3 |  0.2 |  0.6 |  1.2 | 22.7 |  1.6 | 0.4 |  4.3 |\n",
       "\n"
      ],
      "text/plain": [
       "  X Country     ptap bore pspr uspr pwel uwel surw tles tmor rain phom\n",
       "1 1 Afghanistan 14.2 20.1 4.7  8.6  18.5 11.1  7.3 45.2  8.2 0.4   2.3\n",
       "2 2 Albania      2.4  1.4 2.5  0.8   4.1  0.8  0.0 20.6  1.1 0.0  48.8\n",
       "3 3 Angola      10.3  1.9 3.3  4.8   9.1  8.3 18.0 46.1 15.6 1.7   4.3\n",
       "4 4 Armenia      0.5  0.2 1.0  0.1   0.2  0.0  0.0  1.6  0.1 0.0  88.3\n",
       "5 5 Azerbaijan   3.5  9.3 7.5  1.1   6.2  0.2  7.0 18.7  4.4 0.0  34.0\n",
       "6 6 Bangladesh   2.7 86.4 0.0  0.3   0.2  0.6  1.2 22.7  1.6 0.4   4.3"
      ]
     },
     "metadata": {},
     "output_type": "display_data"
    },
    {
     "data": {
      "text/html": [
       "<table>\n",
       "<caption>A data.frame: 6 × 20</caption>\n",
       "<thead>\n",
       "\t<tr><th></th><th scope=col>X</th><th scope=col>Country</th><th scope=col>imws</th><th scope=col>pipy</th><th scope=col>truc</th><th scope=col>ctan</th><th scope=col>bott</th><th scope=col>uiws</th><th scope=col>othw</th><th scope=col>iwsp</th><th scope=col>basw</th><th scope=col>liws</th><th scope=col>watp</th><th scope=col>bicy</th><th scope=col>acar</th><th scope=col>mcyc</th><th scope=col>pcar</th><th scope=col>boat</th><th scope=col>wigc</th><th scope=col>clusters</th></tr>\n",
       "\t<tr><th></th><th scope=col>&lt;int&gt;</th><th scope=col>&lt;chr&gt;</th><th scope=col>&lt;dbl&gt;</th><th scope=col>&lt;dbl&gt;</th><th scope=col>&lt;dbl&gt;</th><th scope=col>&lt;dbl&gt;</th><th scope=col>&lt;dbl&gt;</th><th scope=col>&lt;dbl&gt;</th><th scope=col>&lt;dbl&gt;</th><th scope=col>&lt;dbl&gt;</th><th scope=col>&lt;dbl&gt;</th><th scope=col>&lt;dbl&gt;</th><th scope=col>&lt;dbl&gt;</th><th scope=col>&lt;dbl&gt;</th><th scope=col>&lt;dbl&gt;</th><th scope=col>&lt;dbl&gt;</th><th scope=col>&lt;dbl&gt;</th><th scope=col>&lt;dbl&gt;</th><th scope=col>&lt;dbl&gt;</th><th scope=col>&lt;fct&gt;</th></tr>\n",
       "</thead>\n",
       "<tbody>\n",
       "\t<tr><th scope=row>1</th><td>1</td><td>Afghanistan</td><td>71.2</td><td> 4.8</td><td> 1.5</td><td>4.4</td><td> 0.2</td><td>28.7</td><td>1.7</td><td>35.4</td><td>65.3</td><td>5.0</td><td>45.3</td><td>30.0</td><td>5.8</td><td>35.2</td><td>11.8</td><td>0.0</td><td>0.1</td><td>1</td></tr>\n",
       "\t<tr><th scope=row>2</th><td>2</td><td>Albania    </td><td>98.4</td><td> 5.2</td><td>14.1</td><td>0.2</td><td>19.6</td><td> 1.6</td><td>0.1</td><td>77.0</td><td>97.0</td><td>0.9</td><td>77.9</td><td>26.4</td><td>3.2</td><td> 9.6</td><td>37.0</td><td>0.7</td><td>0.1</td><td>2</td></tr>\n",
       "\t<tr><th scope=row>3</th><td>3</td><td>Angola     </td><td>66.9</td><td> 9.7</td><td> 9.7</td><td>4.3</td><td> 1.2</td><td>33.1</td><td>1.8</td><td>32.6</td><td>57.0</td><td>7.5</td><td>34.5</td><td> 4.6</td><td>1.3</td><td>17.8</td><td>10.9</td><td>0.4</td><td>0.3</td><td>3</td></tr>\n",
       "\t<tr><th scope=row>4</th><td>4</td><td>Armenia    </td><td>99.9</td><td> 8.0</td><td> 1.5</td><td>0.0</td><td> 0.0</td><td> 0.1</td><td>0.0</td><td>97.6</td><td>99.1</td><td>0.1</td><td>97.6</td><td> 8.6</td><td>0.4</td><td> 0.2</td><td>39.2</td><td>0.3</td><td>0.1</td><td>2</td></tr>\n",
       "\t<tr><th scope=row>5</th><td>5</td><td>Azerbaijan </td><td>90.6</td><td>19.7</td><td> 9.5</td><td>0.7</td><td> 0.1</td><td> 9.4</td><td>1.1</td><td>71.2</td><td>86.4</td><td>3.4</td><td>75.9</td><td> 6.9</td><td>3.3</td><td> 1.1</td><td>20.4</td><td>0.1</td><td>0.0</td><td>4</td></tr>\n",
       "\t<tr><th scope=row>6</th><td>6</td><td>Bangladesh </td><td>97.8</td><td> 3.3</td><td> 0.0</td><td>0.1</td><td> 0.3</td><td> 2.2</td><td>0.1</td><td>75.1</td><td>96.4</td><td>1.3</td><td>75.5</td><td>25.1</td><td>0.0</td><td> 6.4</td><td> 0.8</td><td>0.0</td><td>0.3</td><td>1</td></tr>\n",
       "</tbody>\n",
       "</table>\n"
      ],
      "text/latex": [
       "A data.frame: 6 × 20\n",
       "\\begin{tabular}{r|llllllllllllllllllll}\n",
       "  & X & Country & imws & pipy & truc & ctan & bott & uiws & othw & iwsp & basw & liws & watp & bicy & acar & mcyc & pcar & boat & wigc & clusters\\\\\n",
       "  & <int> & <chr> & <dbl> & <dbl> & <dbl> & <dbl> & <dbl> & <dbl> & <dbl> & <dbl> & <dbl> & <dbl> & <dbl> & <dbl> & <dbl> & <dbl> & <dbl> & <dbl> & <dbl> & <fct>\\\\\n",
       "\\hline\n",
       "\t1 & 1 & Afghanistan & 71.2 &  4.8 &  1.5 & 4.4 &  0.2 & 28.7 & 1.7 & 35.4 & 65.3 & 5.0 & 45.3 & 30.0 & 5.8 & 35.2 & 11.8 & 0.0 & 0.1 & 1\\\\\n",
       "\t2 & 2 & Albania     & 98.4 &  5.2 & 14.1 & 0.2 & 19.6 &  1.6 & 0.1 & 77.0 & 97.0 & 0.9 & 77.9 & 26.4 & 3.2 &  9.6 & 37.0 & 0.7 & 0.1 & 2\\\\\n",
       "\t3 & 3 & Angola      & 66.9 &  9.7 &  9.7 & 4.3 &  1.2 & 33.1 & 1.8 & 32.6 & 57.0 & 7.5 & 34.5 &  4.6 & 1.3 & 17.8 & 10.9 & 0.4 & 0.3 & 3\\\\\n",
       "\t4 & 4 & Armenia     & 99.9 &  8.0 &  1.5 & 0.0 &  0.0 &  0.1 & 0.0 & 97.6 & 99.1 & 0.1 & 97.6 &  8.6 & 0.4 &  0.2 & 39.2 & 0.3 & 0.1 & 2\\\\\n",
       "\t5 & 5 & Azerbaijan  & 90.6 & 19.7 &  9.5 & 0.7 &  0.1 &  9.4 & 1.1 & 71.2 & 86.4 & 3.4 & 75.9 &  6.9 & 3.3 &  1.1 & 20.4 & 0.1 & 0.0 & 4\\\\\n",
       "\t6 & 6 & Bangladesh  & 97.8 &  3.3 &  0.0 & 0.1 &  0.3 &  2.2 & 0.1 & 75.1 & 96.4 & 1.3 & 75.5 & 25.1 & 0.0 &  6.4 &  0.8 & 0.0 & 0.3 & 1\\\\\n",
       "\\end{tabular}\n"
      ],
      "text/markdown": [
       "\n",
       "A data.frame: 6 × 20\n",
       "\n",
       "| <!--/--> | X &lt;int&gt; | Country &lt;chr&gt; | imws &lt;dbl&gt; | pipy &lt;dbl&gt; | truc &lt;dbl&gt; | ctan &lt;dbl&gt; | bott &lt;dbl&gt; | uiws &lt;dbl&gt; | othw &lt;dbl&gt; | iwsp &lt;dbl&gt; | basw &lt;dbl&gt; | liws &lt;dbl&gt; | watp &lt;dbl&gt; | bicy &lt;dbl&gt; | acar &lt;dbl&gt; | mcyc &lt;dbl&gt; | pcar &lt;dbl&gt; | boat &lt;dbl&gt; | wigc &lt;dbl&gt; | clusters &lt;fct&gt; |\n",
       "|---|---|---|---|---|---|---|---|---|---|---|---|---|---|---|---|---|---|---|---|---|\n",
       "| 1 | 1 | Afghanistan | 71.2 |  4.8 |  1.5 | 4.4 |  0.2 | 28.7 | 1.7 | 35.4 | 65.3 | 5.0 | 45.3 | 30.0 | 5.8 | 35.2 | 11.8 | 0.0 | 0.1 | 1 |\n",
       "| 2 | 2 | Albania     | 98.4 |  5.2 | 14.1 | 0.2 | 19.6 |  1.6 | 0.1 | 77.0 | 97.0 | 0.9 | 77.9 | 26.4 | 3.2 |  9.6 | 37.0 | 0.7 | 0.1 | 2 |\n",
       "| 3 | 3 | Angola      | 66.9 |  9.7 |  9.7 | 4.3 |  1.2 | 33.1 | 1.8 | 32.6 | 57.0 | 7.5 | 34.5 |  4.6 | 1.3 | 17.8 | 10.9 | 0.4 | 0.3 | 3 |\n",
       "| 4 | 4 | Armenia     | 99.9 |  8.0 |  1.5 | 0.0 |  0.0 |  0.1 | 0.0 | 97.6 | 99.1 | 0.1 | 97.6 |  8.6 | 0.4 |  0.2 | 39.2 | 0.3 | 0.1 | 2 |\n",
       "| 5 | 5 | Azerbaijan  | 90.6 | 19.7 |  9.5 | 0.7 |  0.1 |  9.4 | 1.1 | 71.2 | 86.4 | 3.4 | 75.9 |  6.9 | 3.3 |  1.1 | 20.4 | 0.1 | 0.0 | 4 |\n",
       "| 6 | 6 | Bangladesh  | 97.8 |  3.3 |  0.0 | 0.1 |  0.3 |  2.2 | 0.1 | 75.1 | 96.4 | 1.3 | 75.5 | 25.1 | 0.0 |  6.4 |  0.8 | 0.0 | 0.3 | 1 |\n",
       "\n"
      ],
      "text/plain": [
       "  X Country     imws pipy truc ctan bott uiws othw iwsp basw liws watp bicy\n",
       "1 1 Afghanistan 71.2  4.8  1.5 4.4   0.2 28.7 1.7  35.4 65.3 5.0  45.3 30.0\n",
       "2 2 Albania     98.4  5.2 14.1 0.2  19.6  1.6 0.1  77.0 97.0 0.9  77.9 26.4\n",
       "3 3 Angola      66.9  9.7  9.7 4.3   1.2 33.1 1.8  32.6 57.0 7.5  34.5  4.6\n",
       "4 4 Armenia     99.9  8.0  1.5 0.0   0.0  0.1 0.0  97.6 99.1 0.1  97.6  8.6\n",
       "5 5 Azerbaijan  90.6 19.7  9.5 0.7   0.1  9.4 1.1  71.2 86.4 3.4  75.9  6.9\n",
       "6 6 Bangladesh  97.8  3.3  0.0 0.1   0.3  2.2 0.1  75.1 96.4 1.3  75.5 25.1\n",
       "  acar mcyc pcar boat wigc clusters\n",
       "1 5.8  35.2 11.8 0.0  0.1  1       \n",
       "2 3.2   9.6 37.0 0.7  0.1  2       \n",
       "3 1.3  17.8 10.9 0.4  0.3  3       \n",
       "4 0.4   0.2 39.2 0.3  0.1  2       \n",
       "5 3.3   1.1 20.4 0.1  0.0  4       \n",
       "6 0.0   6.4  0.8 0.0  0.3  1       "
      ]
     },
     "metadata": {},
     "output_type": "display_data"
    }
   ],
   "source": [
    "df.wa = read.csv(file = \"../../results/df-water-access.csv\")\n",
    "df.explore = read.csv(file = \"../../results/df-water-explore.csv\")\n",
    "df = read.csv(file = \"../../results/dfsimple.csv\")\n",
    "head(df.wa)\n",
    "df.explore$clusters <- as.factor(df$clusters)\n",
    "head(df.explore)"
   ]
  },
  {
   "cell_type": "code",
   "execution_count": 3,
   "metadata": {},
   "outputs": [
    {
     "data": {
      "image/png": "[encoded data removed]",
      "text/plain": [
       "plot without title"
      ]
     },
     "metadata": {
      "image/png": {
       "height": 420,
       "width": 420
      }
     },
     "output_type": "display_data"
    }
   ],
   "source": [
    "model <- rpart(Country ~., data = df)\n",
    "par(xpd = NA) # otherwise on some devices the text is clipped\n",
    "plot(model)\n",
    "text(model, digits = 3)"
   ]
  },
  {
   "cell_type": "markdown",
   "metadata": {},
   "source": [
    "The different rules in tree can be printed as follow:"
   ]
  },
  {
   "cell_type": "code",
   "execution_count": 4,
   "metadata": {},
   "outputs": [
    {
     "name": "stdout",
     "output_type": "stream",
     "text": [
      "n= 78 \n",
      "\n",
      "node), split, n, loss, yval, (yprob)\n",
      "      * denotes terminal node\n",
      "\n",
      " 1) root 78 77 Afghanistan (0.013 0.013 0.013 0.013 0.013 0.013 0.013 0.013 0.013 0.013 0.013 0.013 0.013 0.013 0.013 0.013 0.013 0.013 0.013 0.013 0.013 0.013 0.013 0.013 0.013 0.013 0.013 0.013 0.013 0.013 0.013 0.013 0.013 0.013 0.013 0.013 0.013 0.013 0.013 0.013 0.013 0.013 0.013 0.013 0.013 0.013 0.013 0.013 0.013 0.013 0.013 0.013 0.013 0.013 0.013 0.013 0.013 0.013 0.013 0.013 0.013 0.013 0.013 0.013 0.013 0.013 0.013 0.013 0.013 0.013 0.013 0.013 0.013 0.013 0.013 0.013 0.013 0.013)  \n",
      "   2) bore< 1.1 25 24 Armenia (0 0 0 0.04 0 0 0 0.04 0.04 0 0.04 0 0 0.04 0 0 0.04 0 0 0 0.04 0.04 0.04 0 0 0.04 0 0 0.04 0 0.04 0.04 0 0 0 0.04 0.04 0 0 0 0 0 0 0.04 0 0.04 0 0.04 0 0 0 0 0.04 0 0 0 0 0.04 0.04 0 0 0.04 0 0 0 0 0 0 0 0 0.04 0 0 0.04 0.04 0 0 0)  \n",
      "     4) Year>=2e+03 16 15 Armenia (0 0 0 0.062 0 0 0 0.062 0 0 0.062 0 0 0 0 0 0.062 0 0 0 0.062 0.062 0 0 0 0.062 0 0 0.062 0 0.062 0.062 0 0 0 0.062 0 0 0 0 0 0 0 0.062 0 0 0 0.062 0 0 0 0 0 0 0 0 0 0 0.062 0 0 0.062 0 0 0 0 0 0 0 0 0 0 0 0 0.062 0 0 0) *\n",
      "     5) Year< 2e+03 9  8 Brazil (0 0 0 0 0 0 0 0 0.11 0 0 0 0 0.11 0 0 0 0 0 0 0 0 0.11 0 0 0 0 0 0 0 0 0 0 0 0 0 0.11 0 0 0 0 0 0 0 0 0.11 0 0 0 0 0 0 0.11 0 0 0 0 0.11 0 0 0 0 0 0 0 0 0 0 0 0 0.11 0 0 0.11 0 0 0 0) *\n",
      "   3) bore>=1.1 53 52 Afghanistan (0.019 0.019 0.019 0 0.019 0.019 0.019 0 0 0.019 0 0.019 0.019 0 0.019 0.019 0 0.019 0.019 0.019 0 0 0 0.019 0.019 0 0.019 0.019 0 0.019 0 0 0.019 0.019 0.019 0 0 0.019 0.019 0.019 0.019 0.019 0.019 0 0.019 0 0.019 0 0.019 0.019 0.019 0.019 0 0.019 0.019 0.019 0.019 0 0 0.019 0.019 0 0.019 0.019 0.019 0.019 0.019 0.019 0.019 0.019 0 0.019 0.019 0 0 0.019 0.019 0.019)  \n",
      "     6) pwel>=4.2 31 30 Afghanistan (0.032 0 0.032 0 0.032 0 0.032 0 0 0.032 0 0 0 0 0.032 0 0 0.032 0 0.032 0 0 0 0.032 0.032 0 0.032 0 0 0.032 0 0 0 0 0.032 0 0 0.032 0 0 0.032 0.032 0.032 0 0.032 0 0.032 0 0.032 0.032 0 0 0 0.032 0.032 0 0 0 0 0 0 0 0 0.032 0 0 0.032 0.032 0.032 0 0 0.032 0.032 0 0 0 0.032 0.032)  \n",
      "      12) pspr>=3.2 10  9 Afghanistan (0.1 0 0.1 0 0.1 0 0 0 0 0 0 0 0 0 0 0 0 0.1 0 0 0 0 0 0 0.1 0 0 0 0 0 0 0 0 0 0.1 0 0 0.1 0 0 0 0.1 0 0 0 0 0 0 0 0 0 0 0 0 0 0 0 0 0 0 0 0 0 0 0 0 0 0.1 0 0 0 0.1 0 0 0 0 0 0) *\n",
      "      13) pspr< 3.2 21 20 Benin (0 0 0 0 0 0 0.048 0 0 0.048 0 0 0 0 0.048 0 0 0 0 0.048 0 0 0 0.048 0 0 0.048 0 0 0.048 0 0 0 0 0 0 0 0 0 0 0.048 0 0.048 0 0.048 0 0.048 0 0.048 0.048 0 0 0 0.048 0.048 0 0 0 0 0 0 0 0 0.048 0 0 0.048 0 0.048 0 0 0 0.048 0 0 0 0.048 0.048)  \n",
      "        26) pipy< 7.8 12 11 Benin (0 0 0 0 0 0 0.083 0 0 0 0 0 0 0 0.083 0 0 0 0 0 0 0 0 0 0 0 0 0 0 0.083 0 0 0 0 0 0 0 0 0 0 0.083 0 0.083 0 0.083 0 0.083 0 0 0.083 0 0 0 0.083 0.083 0 0 0 0 0 0 0 0 0.083 0 0 0 0 0.083 0 0 0 0 0 0 0 0 0) *\n",
      "        27) pipy>=7.8 9  8 Burkina Faso (0 0 0 0 0 0 0 0 0 0.11 0 0 0 0 0 0 0 0 0 0.11 0 0 0 0.11 0 0 0.11 0 0 0 0 0 0 0 0 0 0 0 0 0 0 0 0 0 0 0 0 0 0.11 0 0 0 0 0 0 0 0 0 0 0 0 0 0 0 0 0 0.11 0 0 0 0 0 0.11 0 0 0 0.11 0.11) *\n",
      "     7) pwel< 4.2 22 21 Albania (0 0.045 0 0 0 0.045 0 0 0 0 0 0.045 0.045 0 0 0.045 0 0 0.045 0 0 0 0 0 0 0 0 0.045 0 0 0 0 0.045 0.045 0 0 0 0 0.045 0.045 0 0 0 0 0 0 0 0 0 0 0.045 0.045 0 0 0 0.045 0.045 0 0 0.045 0.045 0 0.045 0 0.045 0.045 0 0 0 0.045 0 0 0 0 0 0.045 0 0)  \n",
      "      14) pwel>=3.2 7  6 Albania (0 0.14 0 0 0 0 0 0 0 0 0 0 0.14 0 0 0 0 0 0.14 0 0 0 0 0 0 0 0 0.14 0 0 0 0 0 0.14 0 0 0 0 0 0 0 0 0 0 0 0 0 0 0 0 0 0 0 0 0 0 0 0 0 0.14 0 0 0.14 0 0 0 0 0 0 0 0 0 0 0 0 0 0 0) *\n",
      "      15) pwel< 3.2 15 14 Bangladesh (0 0 0 0 0 0.067 0 0 0 0 0 0.067 0 0 0 0.067 0 0 0 0 0 0 0 0 0 0 0 0 0 0 0 0 0.067 0 0 0 0 0 0.067 0.067 0 0 0 0 0 0 0 0 0 0 0.067 0.067 0 0 0 0.067 0.067 0 0 0 0.067 0 0 0 0.067 0.067 0 0 0 0.067 0 0 0 0 0 0.067 0 0) *\n"
     ]
    }
   ],
   "source": [
    "print(model, digits = 2)"
   ]
  },
  {
   "cell_type": "markdown",
   "metadata": {},
   "source": [
    "These rules are produced by repeatedly splitting the predictor variables, starting with the variable that has the highest association with the response variable. The process continues until some predetermined stopping criteria are met."
   ]
  },
  {
   "cell_type": "markdown",
   "metadata": {},
   "source": [
    "# Example of data set"
   ]
  },
  {
   "cell_type": "code",
   "execution_count": 5,
   "metadata": {},
   "outputs": [
    {
     "data": {
      "text/html": [
       "<table>\n",
       "<caption>A data.frame: 3 × 32</caption>\n",
       "<thead>\n",
       "\t<tr><th scope=col>Country</th><th scope=col>Year</th><th scope=col>Survey</th><th scope=col>imws</th><th scope=col>phom</th><th scope=col>pipy</th><th scope=col>ptap</th><th scope=col>bore</th><th scope=col>pwel</th><th scope=col>pspr</th><th scope=col>...</th><th scope=col>watp</th><th scope=col>tles</th><th scope=col>tmor</th><th scope=col>bicy</th><th scope=col>acar</th><th scope=col>mcyc</th><th scope=col>pcar</th><th scope=col>boat</th><th scope=col>wigc</th><th scope=col>clusters</th></tr>\n",
       "\t<tr><th scope=col>&lt;chr&gt;</th><th scope=col>&lt;int&gt;</th><th scope=col>&lt;chr&gt;</th><th scope=col>&lt;dbl&gt;</th><th scope=col>&lt;dbl&gt;</th><th scope=col>&lt;dbl&gt;</th><th scope=col>&lt;dbl&gt;</th><th scope=col>&lt;dbl&gt;</th><th scope=col>&lt;dbl&gt;</th><th scope=col>&lt;dbl&gt;</th><th scope=col>...</th><th scope=col>&lt;dbl&gt;</th><th scope=col>&lt;dbl&gt;</th><th scope=col>&lt;dbl&gt;</th><th scope=col>&lt;dbl&gt;</th><th scope=col>&lt;dbl&gt;</th><th scope=col>&lt;dbl&gt;</th><th scope=col>&lt;dbl&gt;</th><th scope=col>&lt;dbl&gt;</th><th scope=col>&lt;dbl&gt;</th><th scope=col>&lt;fct&gt;</th></tr>\n",
       "</thead>\n",
       "<tbody>\n",
       "\t<tr><td>Niger </td><td>2012</td><td>DHS</td><td>67.1</td><td>2.7</td><td> 4.5</td><td>24.5</td><td>14.8</td><td>20.4</td><td>0.1</td><td>...</td><td>10.7</td><td>54.4</td><td>33.2</td><td> 8.6</td><td>21.5</td><td>10.9</td><td> 2.0</td><td>0.0</td><td>0.5</td><td>1</td></tr>\n",
       "\t<tr><td>Malawi</td><td>2017</td><td>MIS</td><td>86.3</td><td>3.7</td><td> 5.8</td><td>13.6</td><td>55.4</td><td> 5.5</td><td>0.2</td><td>...</td><td>14.4</td><td>70.2</td><td>12.4</td><td>35.7</td><td> 2.0</td><td> 2.8</td><td> 2.2</td><td>0.3</td><td>0.5</td><td>1</td></tr>\n",
       "\t<tr><td>Gambia</td><td>2013</td><td>DHS</td><td>91.0</td><td>3.4</td><td>38.2</td><td>32.8</td><td> 8.8</td><td> 7.4</td><td>0.0</td><td>...</td><td>46.1</td><td>48.7</td><td> 4.5</td><td>47.0</td><td>15.7</td><td> 7.1</td><td>11.2</td><td>0.4</td><td>0.2</td><td>3</td></tr>\n",
       "</tbody>\n",
       "</table>\n"
      ],
      "text/latex": [
       "A data.frame: 3 × 32\n",
       "\\begin{tabular}{lllllllllllllllllllll}\n",
       " Country & Year & Survey & imws & phom & pipy & ptap & bore & pwel & pspr & ... & watp & tles & tmor & bicy & acar & mcyc & pcar & boat & wigc & clusters\\\\\n",
       " <chr> & <int> & <chr> & <dbl> & <dbl> & <dbl> & <dbl> & <dbl> & <dbl> & <dbl> & ... & <dbl> & <dbl> & <dbl> & <dbl> & <dbl> & <dbl> & <dbl> & <dbl> & <dbl> & <fct>\\\\\n",
       "\\hline\n",
       "\t Niger  & 2012 & DHS & 67.1 & 2.7 &  4.5 & 24.5 & 14.8 & 20.4 & 0.1 & ... & 10.7 & 54.4 & 33.2 &  8.6 & 21.5 & 10.9 &  2.0 & 0.0 & 0.5 & 1\\\\\n",
       "\t Malawi & 2017 & MIS & 86.3 & 3.7 &  5.8 & 13.6 & 55.4 &  5.5 & 0.2 & ... & 14.4 & 70.2 & 12.4 & 35.7 &  2.0 &  2.8 &  2.2 & 0.3 & 0.5 & 1\\\\\n",
       "\t Gambia & 2013 & DHS & 91.0 & 3.4 & 38.2 & 32.8 &  8.8 &  7.4 & 0.0 & ... & 46.1 & 48.7 &  4.5 & 47.0 & 15.7 &  7.1 & 11.2 & 0.4 & 0.2 & 3\\\\\n",
       "\\end{tabular}\n"
      ],
      "text/markdown": [
       "\n",
       "A data.frame: 3 × 32\n",
       "\n",
       "| Country &lt;chr&gt; | Year &lt;int&gt; | Survey &lt;chr&gt; | imws &lt;dbl&gt; | phom &lt;dbl&gt; | pipy &lt;dbl&gt; | ptap &lt;dbl&gt; | bore &lt;dbl&gt; | pwel &lt;dbl&gt; | pspr &lt;dbl&gt; | ... ... | watp &lt;dbl&gt; | tles &lt;dbl&gt; | tmor &lt;dbl&gt; | bicy &lt;dbl&gt; | acar &lt;dbl&gt; | mcyc &lt;dbl&gt; | pcar &lt;dbl&gt; | boat &lt;dbl&gt; | wigc &lt;dbl&gt; | clusters &lt;fct&gt; |\n",
       "|---|---|---|---|---|---|---|---|---|---|---|---|---|---|---|---|---|---|---|---|---|\n",
       "| Niger  | 2012 | DHS | 67.1 | 2.7 |  4.5 | 24.5 | 14.8 | 20.4 | 0.1 | ... | 10.7 | 54.4 | 33.2 |  8.6 | 21.5 | 10.9 |  2.0 | 0.0 | 0.5 | 1 |\n",
       "| Malawi | 2017 | MIS | 86.3 | 3.7 |  5.8 | 13.6 | 55.4 |  5.5 | 0.2 | ... | 14.4 | 70.2 | 12.4 | 35.7 |  2.0 |  2.8 |  2.2 | 0.3 | 0.5 | 1 |\n",
       "| Gambia | 2013 | DHS | 91.0 | 3.4 | 38.2 | 32.8 |  8.8 |  7.4 | 0.0 | ... | 46.1 | 48.7 |  4.5 | 47.0 | 15.7 |  7.1 | 11.2 | 0.4 | 0.2 | 3 |\n",
       "\n"
      ],
      "text/plain": [
       "  Country Year Survey imws phom pipy ptap bore pwel pspr ... watp tles tmor\n",
       "1 Niger   2012 DHS    67.1 2.7   4.5 24.5 14.8 20.4 0.1  ... 10.7 54.4 33.2\n",
       "2 Malawi  2017 MIS    86.3 3.7   5.8 13.6 55.4  5.5 0.2  ... 14.4 70.2 12.4\n",
       "3 Gambia  2013 DHS    91.0 3.4  38.2 32.8  8.8  7.4 0.0  ... 46.1 48.7  4.5\n",
       "  bicy acar mcyc pcar boat wigc clusters\n",
       "1  8.6 21.5 10.9  2.0 0.0  0.5  1       \n",
       "2 35.7  2.0  2.8  2.2 0.3  0.5  1       \n",
       "3 47.0 15.7  7.1 11.2 0.4  0.2  3       "
      ]
     },
     "metadata": {},
     "output_type": "display_data"
    }
   ],
   "source": [
    "# Inspect the data\n",
    "sample_n(df, 3)\n",
    "# Split the data into training and test set\n",
    "set.seed(123)\n",
    "training.samples <- df$clusters %>% \n",
    "  createDataPartition(p = 0.8, list = FALSE)\n",
    "train.data  <- df[training.samples, ]\n",
    "test.data <- df[-training.samples, ]\n",
    "\n",
    "\n"
   ]
  },
  {
   "cell_type": "markdown",
   "metadata": {},
   "source": [
    "Fully grown trees\n",
    "Here, we’ll create a fully grown tree showing all predictor variables in the data set.\n"
   ]
  },
  {
   "cell_type": "code",
   "execution_count": 6,
   "metadata": {},
   "outputs": [
    {
     "data": {
      "image/png": "[encoded data removed]",
      "text/plain": [
       "plot without title"
      ]
     },
     "metadata": {
      "image/png": {
       "height": 420,
       "width": 420
      }
     },
     "output_type": "display_data"
    }
   ],
   "source": [
    "# Build the model\n",
    "set.seed(123)\n",
    "model1 <- rpart(Country ~., data = train.data, method = \"class\")\n",
    "# Plot the trees\n",
    "par(xpd = NA) # Avoid clipping the text in some device\n",
    "plot(model1)\n",
    "text(model1, digits = 3)"
   ]
  },
  {
   "cell_type": "code",
   "execution_count": 7,
   "metadata": {},
   "outputs": [
    {
     "data": {
      "text/html": [
       "<style>\n",
       ".dl-inline {width: auto; margin:0; padding: 0}\n",
       ".dl-inline>dt, .dl-inline>dd {float: none; width: auto; display: inline-block}\n",
       ".dl-inline>dt::after {content: \":\\0020\"; padding-right: .5ex}\n",
       ".dl-inline>dt:not(:first-of-type) {padding-left: .5ex}\n",
       "</style><dl class=dl-inline><dt>3</dt><dd>Afghanistan</dd><dt>6</dt><dd>Burkina Faso</dd><dt>11</dt><dd>Burkina Faso</dd><dt>12</dt><dd>Burkina Faso</dd><dt>22</dt><dd>Albania</dd><dt>25</dt><dd>Comoros</dd></dl>\n",
       "\n",
       "<details>\n",
       "\t<summary style=display:list-item;cursor:pointer>\n",
       "\t\t<strong>Levels</strong>:\n",
       "\t</summary>\n",
       "\t<style>\n",
       "\t.list-inline {list-style: none; margin:0; padding: 0}\n",
       "\t.list-inline>li {display: inline-block}\n",
       "\t.list-inline>li:not(:last-child)::after {content: \"\\00b7\"; padding: 0 .5ex}\n",
       "\t</style>\n",
       "\t<ol class=list-inline><li>'Afghanistan'</li><li>'Albania'</li><li>'Armenia'</li><li>'Azerbaijan'</li><li>'Benin'</li><li>'Bolivia'</li><li>'Brazil'</li><li>'Burkina Faso'</li><li>'Cameroon'</li><li>'Central African Republic'</li><li>'Chad'</li><li>'Colombia'</li><li>'Comoros'</li><li>'Congo'</li><li>'Congo Democratic Republic'</li><li>'Cote d\\'Ivoire'</li><li>'Dominican Republic'</li><li>'Eritrea'</li><li>'Eswatini'</li><li>'Gabon'</li><li>'Gambia'</li><li>'Guatemala'</li><li>'Guinea'</li><li>'Guyana'</li><li>'Haiti'</li><li>'Honduras'</li><li>'India'</li><li>'Indonesia'</li><li>'Jordan'</li><li>'Kazakhstan'</li><li>'Kenya'</li><li>'Lesotho'</li><li>'Liberia'</li><li>'Madagascar'</li><li>'Malawi'</li><li>'Maldives'</li><li>'Mauritania'</li><li>'Moldova'</li><li>'Morocco'</li><li>'Mozambique'</li><li>'Myanmar'</li><li>'Namibia'</li><li>'Nepal'</li><li>'Nicaragua'</li><li>'Niger'</li><li>'Pakistan'</li><li>'Papua New Guinea'</li><li>'Peru'</li><li>'Philippines'</li><li>'Rwanda'</li><li>'Sao Tome and Principe'</li><li>'Senegal'</li><li>'South Africa'</li><li>'Tajikistan'</li><li>'Tanzania'</li><li>'Togo'</li><li>'Turkey'</li><li>'Turkmenistan'</li><li>'Uganda'</li><li>'Ukraine'</li><li>'Vietnam'</li><li>'Yemen'</li><li>'Zambia'</li><li>'Zimbabwe'</li></ol>\n",
       "</details>"
      ],
      "text/latex": [
       "\\begin{description*}\n",
       "\\item[3] Afghanistan\n",
       "\\item[6] Burkina Faso\n",
       "\\item[11] Burkina Faso\n",
       "\\item[12] Burkina Faso\n",
       "\\item[22] Albania\n",
       "\\item[25] Comoros\n",
       "\\end{description*}\n",
       "\n",
       "\\emph{Levels}: \\begin{enumerate*}\n",
       "\\item 'Afghanistan'\n",
       "\\item 'Albania'\n",
       "\\item 'Armenia'\n",
       "\\item 'Azerbaijan'\n",
       "\\item 'Benin'\n",
       "\\item 'Bolivia'\n",
       "\\item 'Brazil'\n",
       "\\item 'Burkina Faso'\n",
       "\\item 'Cameroon'\n",
       "\\item 'Central African Republic'\n",
       "\\item 'Chad'\n",
       "\\item 'Colombia'\n",
       "\\item 'Comoros'\n",
       "\\item 'Congo'\n",
       "\\item 'Congo Democratic Republic'\n",
       "\\item 'Cote d\\textbackslash{}'Ivoire'\n",
       "\\item 'Dominican Republic'\n",
       "\\item 'Eritrea'\n",
       "\\item 'Eswatini'\n",
       "\\item 'Gabon'\n",
       "\\item 'Gambia'\n",
       "\\item 'Guatemala'\n",
       "\\item 'Guinea'\n",
       "\\item 'Guyana'\n",
       "\\item 'Haiti'\n",
       "\\item 'Honduras'\n",
       "\\item 'India'\n",
       "\\item 'Indonesia'\n",
       "\\item 'Jordan'\n",
       "\\item 'Kazakhstan'\n",
       "\\item 'Kenya'\n",
       "\\item 'Lesotho'\n",
       "\\item 'Liberia'\n",
       "\\item 'Madagascar'\n",
       "\\item 'Malawi'\n",
       "\\item 'Maldives'\n",
       "\\item 'Mauritania'\n",
       "\\item 'Moldova'\n",
       "\\item 'Morocco'\n",
       "\\item 'Mozambique'\n",
       "\\item 'Myanmar'\n",
       "\\item 'Namibia'\n",
       "\\item 'Nepal'\n",
       "\\item 'Nicaragua'\n",
       "\\item 'Niger'\n",
       "\\item 'Pakistan'\n",
       "\\item 'Papua New Guinea'\n",
       "\\item 'Peru'\n",
       "\\item 'Philippines'\n",
       "\\item 'Rwanda'\n",
       "\\item 'Sao Tome and Principe'\n",
       "\\item 'Senegal'\n",
       "\\item 'South Africa'\n",
       "\\item 'Tajikistan'\n",
       "\\item 'Tanzania'\n",
       "\\item 'Togo'\n",
       "\\item 'Turkey'\n",
       "\\item 'Turkmenistan'\n",
       "\\item 'Uganda'\n",
       "\\item 'Ukraine'\n",
       "\\item 'Vietnam'\n",
       "\\item 'Yemen'\n",
       "\\item 'Zambia'\n",
       "\\item 'Zimbabwe'\n",
       "\\end{enumerate*}\n"
      ],
      "text/markdown": [
       "3\n",
       ":   Afghanistan6\n",
       ":   Burkina Faso11\n",
       ":   Burkina Faso12\n",
       ":   Burkina Faso22\n",
       ":   Albania25\n",
       ":   Comoros\n",
       "\n",
       "\n",
       "**Levels**: 1. 'Afghanistan'\n",
       "2. 'Albania'\n",
       "3. 'Armenia'\n",
       "4. 'Azerbaijan'\n",
       "5. 'Benin'\n",
       "6. 'Bolivia'\n",
       "7. 'Brazil'\n",
       "8. 'Burkina Faso'\n",
       "9. 'Cameroon'\n",
       "10. 'Central African Republic'\n",
       "11. 'Chad'\n",
       "12. 'Colombia'\n",
       "13. 'Comoros'\n",
       "14. 'Congo'\n",
       "15. 'Congo Democratic Republic'\n",
       "16. 'Cote d\\'Ivoire'\n",
       "17. 'Dominican Republic'\n",
       "18. 'Eritrea'\n",
       "19. 'Eswatini'\n",
       "20. 'Gabon'\n",
       "21. 'Gambia'\n",
       "22. 'Guatemala'\n",
       "23. 'Guinea'\n",
       "24. 'Guyana'\n",
       "25. 'Haiti'\n",
       "26. 'Honduras'\n",
       "27. 'India'\n",
       "28. 'Indonesia'\n",
       "29. 'Jordan'\n",
       "30. 'Kazakhstan'\n",
       "31. 'Kenya'\n",
       "32. 'Lesotho'\n",
       "33. 'Liberia'\n",
       "34. 'Madagascar'\n",
       "35. 'Malawi'\n",
       "36. 'Maldives'\n",
       "37. 'Mauritania'\n",
       "38. 'Moldova'\n",
       "39. 'Morocco'\n",
       "40. 'Mozambique'\n",
       "41. 'Myanmar'\n",
       "42. 'Namibia'\n",
       "43. 'Nepal'\n",
       "44. 'Nicaragua'\n",
       "45. 'Niger'\n",
       "46. 'Pakistan'\n",
       "47. 'Papua New Guinea'\n",
       "48. 'Peru'\n",
       "49. 'Philippines'\n",
       "50. 'Rwanda'\n",
       "51. 'Sao Tome and Principe'\n",
       "52. 'Senegal'\n",
       "53. 'South Africa'\n",
       "54. 'Tajikistan'\n",
       "55. 'Tanzania'\n",
       "56. 'Togo'\n",
       "57. 'Turkey'\n",
       "58. 'Turkmenistan'\n",
       "59. 'Uganda'\n",
       "60. 'Ukraine'\n",
       "61. 'Vietnam'\n",
       "62. 'Yemen'\n",
       "63. 'Zambia'\n",
       "64. 'Zimbabwe'\n",
       "\n",
       "\n"
      ],
      "text/plain": [
       "           3            6           11           12           22           25 \n",
       " Afghanistan Burkina Faso Burkina Faso Burkina Faso      Albania      Comoros \n",
       "64 Levels: Afghanistan Albania Armenia Azerbaijan Benin Bolivia ... Zimbabwe"
      ]
     },
     "metadata": {},
     "output_type": "display_data"
    }
   ],
   "source": [
    "# Make predictions on the test data\n",
    "predicted.classes <- model1 %>% \n",
    "  predict(test.data, type = \"class\")\n",
    "head(predicted.classes)"
   ]
  },
  {
   "cell_type": "code",
   "execution_count": 8,
   "metadata": {},
   "outputs": [
    {
     "data": {
      "text/html": [
       "0"
      ],
      "text/latex": [
       "0"
      ],
      "text/markdown": [
       "0"
      ],
      "text/plain": [
       "[1] 0"
      ]
     },
     "metadata": {},
     "output_type": "display_data"
    }
   ],
   "source": [
    "# Compute model accuracy rate on test data\n",
    "mean(predicted.classes == test.data$Country)\n",
    "# Zero is not good, something went wrong, ask the professor for help potentially. "
   ]
  },
  {
   "cell_type": "markdown",
   "metadata": {},
   "source": [
    "# Pruning the tree"
   ]
  },
  {
   "cell_type": "code",
   "execution_count": 9,
   "metadata": {},
   "outputs": [
    {
     "name": "stderr",
     "output_type": "stream",
     "text": [
      "Warning message in nominalTrainWorkflow(x = x, y = y, wts = weights, info = trainInfo, :\n",
      "\"There were missing values in resampled performance measures.\"\n"
     ]
    },
    {
     "data": {
      "image/png": "[encoded data removed]",
      "text/plain": [
       "plot without title"
      ]
     },
     "metadata": {
      "image/png": {
       "height": 420,
       "width": 420
      }
     },
     "output_type": "display_data"
    }
   ],
   "source": [
    "# Fit the model on the training set\n",
    "set.seed(123)\n",
    "model2 <- train(\n",
    "  acar ~., data = train.data, method = \"rpart\",\n",
    "  trControl = trainControl(\"cv\", number = 10),\n",
    "  tuneLength = 10\n",
    "  )\n",
    "# Plot model accuracy vs different values of\n",
    "# cp (complexity parameter)\n",
    "plot(model2)"
   ]
  },
  {
   "cell_type": "markdown",
   "metadata": {},
   "source": [
    "RMSE is computed as RMSE = mean((observeds - predicteds)^2) %>% sqrt(). The lower the RMSE, the better the model."
   ]
  },
  {
   "cell_type": "code",
   "execution_count": 10,
   "metadata": {},
   "outputs": [
    {
     "data": {
      "text/html": [
       "<table>\n",
       "<caption>A data.frame: 1 × 1</caption>\n",
       "<thead>\n",
       "\t<tr><th></th><th scope=col>cp</th></tr>\n",
       "\t<tr><th></th><th scope=col>&lt;dbl&gt;</th></tr>\n",
       "</thead>\n",
       "<tbody>\n",
       "\t<tr><th scope=row>7</th><td>0.1460321</td></tr>\n",
       "</tbody>\n",
       "</table>\n"
      ],
      "text/latex": [
       "A data.frame: 1 × 1\n",
       "\\begin{tabular}{r|l}\n",
       "  & cp\\\\\n",
       "  & <dbl>\\\\\n",
       "\\hline\n",
       "\t7 & 0.1460321\\\\\n",
       "\\end{tabular}\n"
      ],
      "text/markdown": [
       "\n",
       "A data.frame: 1 × 1\n",
       "\n",
       "| <!--/--> | cp &lt;dbl&gt; |\n",
       "|---|---|\n",
       "| 7 | 0.1460321 |\n",
       "\n"
      ],
      "text/plain": [
       "  cp       \n",
       "7 0.1460321"
      ]
     },
     "metadata": {},
     "output_type": "display_data"
    }
   ],
   "source": [
    "# Print the best tuning parameter cp that\n",
    "# maximizes the model accuracy\n",
    "model2$bestTune"
   ]
  },
  {
   "cell_type": "code",
   "execution_count": 11,
   "metadata": {},
   "outputs": [
    {
     "data": {
      "image/png": "[encoded data removed]",
      "text/plain": [
       "plot without title"
      ]
     },
     "metadata": {
      "image/png": {
       "height": 420,
       "width": 420
      }
     },
     "output_type": "display_data"
    }
   ],
   "source": [
    "# Plot the final tree model\n",
    "par(xpd = NA) # Avoid clipping the text in some device\n",
    "plot(model2$finalModel)\n",
    "text(model2$finalModel,  digits = 3)"
   ]
  },
  {
   "cell_type": "code",
   "execution_count": 12,
   "metadata": {},
   "outputs": [
    {
     "data": {
      "text/plain": [
       "n= 64 \n",
       "\n",
       "node), split, n, deviance, yval\n",
       "      * denotes terminal node\n",
       "\n",
       "1) root 64 3668.59700  4.2140620  \n",
       "  2) bore< 2.85 31   35.27548  0.5580645 *\n",
       "  3) bore>=2.85 33 2829.72200  7.6484850  \n",
       "    6) rain>=0.15 16  217.76000  3.0000000 *\n",
       "    7) rain< 0.15 17 1940.83100 12.0235300 *"
      ]
     },
     "metadata": {},
     "output_type": "display_data"
    }
   ],
   "source": [
    "# Decision rules in the model\n",
    "model2$finalModel"
   ]
  },
  {
   "cell_type": "markdown",
   "metadata": {},
   "source": [
    "# Make predictions on the test data\n",
    "predicted.classes <- model2 %>% predict(test.data)\n",
    "# Compute model accuracy rate on test data\n",
    "mean(predicted.classes == test.data$Country)\n",
    "# Must understand what these function of codes actually implment. "
   ]
  },
  {
   "cell_type": "markdown",
   "metadata": {},
   "source": [
    "# Create the regression tree"
   ]
  },
  {
   "cell_type": "code",
   "execution_count": 13,
   "metadata": {},
   "outputs": [
    {
     "name": "stderr",
     "output_type": "stream",
     "text": [
      "Warning message in nominalTrainWorkflow(x = x, y = y, wts = weights, info = trainInfo, :\n",
      "\"There were missing values in resampled performance measures.\"\n"
     ]
    },
    {
     "data": {
      "text/html": [
       "<table>\n",
       "<caption>A data.frame: 1 × 1</caption>\n",
       "<thead>\n",
       "\t<tr><th></th><th scope=col>cp</th></tr>\n",
       "\t<tr><th></th><th scope=col>&lt;dbl&gt;</th></tr>\n",
       "</thead>\n",
       "<tbody>\n",
       "\t<tr><th scope=row>7</th><td>0.1460321</td></tr>\n",
       "</tbody>\n",
       "</table>\n"
      ],
      "text/latex": [
       "A data.frame: 1 × 1\n",
       "\\begin{tabular}{r|l}\n",
       "  & cp\\\\\n",
       "  & <dbl>\\\\\n",
       "\\hline\n",
       "\t7 & 0.1460321\\\\\n",
       "\\end{tabular}\n"
      ],
      "text/markdown": [
       "\n",
       "A data.frame: 1 × 1\n",
       "\n",
       "| <!--/--> | cp &lt;dbl&gt; |\n",
       "|---|---|\n",
       "| 7 | 0.1460321 |\n",
       "\n"
      ],
      "text/plain": [
       "  cp       \n",
       "7 0.1460321"
      ]
     },
     "metadata": {},
     "output_type": "display_data"
    },
    {
     "data": {
      "image/png": "[encoded data removed]",
      "text/plain": [
       "plot without title"
      ]
     },
     "metadata": {
      "image/png": {
       "height": 420,
       "width": 420
      }
     },
     "output_type": "display_data"
    }
   ],
   "source": [
    "# Fit the model on the training set\n",
    "set.seed(123)\n",
    "model <- train(\n",
    "  acar ~., data = train.data, method = \"rpart\",\n",
    "  trControl = trainControl(\"cv\", number = 10),\n",
    "  tuneLength = 10\n",
    "  )\n",
    "# Plot model error vs different values of\n",
    "# cp (complexity parameter)\n",
    "plot(model)\n",
    "# Print the best tuning parameter cp that\n",
    "# minimize the model RMSE\n",
    "model$bestTune"
   ]
  },
  {
   "cell_type": "markdown",
   "metadata": {},
   "source": [
    "Here, the best cp value is the one that minimize the prediction error RMSE (root mean squared error)."
   ]
  },
  {
   "cell_type": "code",
   "execution_count": 14,
   "metadata": {},
   "outputs": [
    {
     "data": {
      "image/png": "[encoded data removed]",
      "text/plain": [
       "plot without title"
      ]
     },
     "metadata": {
      "image/png": {
       "height": 420,
       "width": 420
      }
     },
     "output_type": "display_data"
    }
   ],
   "source": [
    "# Plot the final tree model\n",
    "par(xpd = NA) # Avoid clipping the text in some device\n",
    "plot(model$finalModel)\n",
    "text(model$finalModel, digits = 3)"
   ]
  },
  {
   "cell_type": "markdown",
   "metadata": {},
   "source": [
    "# Decision rules in the model\n",
    "model$finalModel\n",
    "# Make predictions on the test data\n",
    "predictions <- model %>% predict(test.data)\n",
    "head(predictions)\n",
    "# Compute the prediction error RMSE\n",
    "RMSE(predictions, test.data$Country)"
   ]
  },
  {
   "cell_type": "markdown",
   "metadata": {},
   "source": [
    "# Conditionnal inference tree"
   ]
  },
  {
   "cell_type": "code",
   "execution_count": 15,
   "metadata": {},
   "outputs": [
    {
     "data": {
      "image/png": "[encoded data removed]",
      "text/plain": [
       "plot without title"
      ]
     },
     "metadata": {
      "image/png": {
       "height": 420,
       "width": 420
      }
     },
     "output_type": "display_data"
    }
   ],
   "source": [
    "set.seed(123)\n",
    "model <- train(\n",
    "  clusters ~., data = train.data, method = \"ctree2\",\n",
    "  trControl = trainControl(\"cv\", number = 10),\n",
    "  tuneGrid = expand.grid(maxdepth = 3, mincriterion = 0.95 )\n",
    "  )\n",
    "plot(model$finalModel)"
   ]
  },
  {
   "cell_type": "markdown",
   "metadata": {},
   "source": [
    "Reference: http://www.sthda.com/english/articles/35-statistical-machine-learning-essentials/141-cart-model-decision-tree-essentials/"
   ]
  },
  {
   "cell_type": "markdown",
   "metadata": {},
   "source": [
    "# Fitting Classification Trees"
   ]
  },
  {
   "cell_type": "markdown",
   "metadata": {},
   "source": [
    "Reference: https://static1.squarespace.com/static/5ff2adbe3fe4fe33db902812/t/6009dd9fa7bc363aa822d2c7/1611259312432/ISLR+Seventh+Printing.pdf (338)\n",
    "https://www.datacamp.com/community/tutorials/decision-trees-R\n",
    "Random Forest:\n",
    "https://cran.r-project.org/web/packages/randomForest/randomForest.pdf"
   ]
  },
  {
   "cell_type": "code",
   "execution_count": 26,
   "metadata": {},
   "outputs": [
    {
     "data": {
      "text/html": [
       "<style>\n",
       ".list-inline {list-style: none; margin:0; padding: 0}\n",
       ".list-inline>li {display: inline-block}\n",
       ".list-inline>li:not(:last-child)::after {content: \"\\00b7\"; padding: 0 .5ex}\n",
       "</style>\n",
       "<ol class=list-inline><li>'X'</li><li>'Country'</li><li>'imws'</li><li>'pipy'</li><li>'truc'</li><li>'ctan'</li><li>'bott'</li><li>'uiws'</li><li>'othw'</li><li>'iwsp'</li><li>'basw'</li><li>'liws'</li><li>'watp'</li><li>'bicy'</li><li>'acar'</li><li>'mcyc'</li><li>'pcar'</li><li>'boat'</li><li>'wigc'</li><li>'clusters'</li></ol>\n"
      ],
      "text/latex": [
       "\\begin{enumerate*}\n",
       "\\item 'X'\n",
       "\\item 'Country'\n",
       "\\item 'imws'\n",
       "\\item 'pipy'\n",
       "\\item 'truc'\n",
       "\\item 'ctan'\n",
       "\\item 'bott'\n",
       "\\item 'uiws'\n",
       "\\item 'othw'\n",
       "\\item 'iwsp'\n",
       "\\item 'basw'\n",
       "\\item 'liws'\n",
       "\\item 'watp'\n",
       "\\item 'bicy'\n",
       "\\item 'acar'\n",
       "\\item 'mcyc'\n",
       "\\item 'pcar'\n",
       "\\item 'boat'\n",
       "\\item 'wigc'\n",
       "\\item 'clusters'\n",
       "\\end{enumerate*}\n"
      ],
      "text/markdown": [
       "1. 'X'\n",
       "2. 'Country'\n",
       "3. 'imws'\n",
       "4. 'pipy'\n",
       "5. 'truc'\n",
       "6. 'ctan'\n",
       "7. 'bott'\n",
       "8. 'uiws'\n",
       "9. 'othw'\n",
       "10. 'iwsp'\n",
       "11. 'basw'\n",
       "12. 'liws'\n",
       "13. 'watp'\n",
       "14. 'bicy'\n",
       "15. 'acar'\n",
       "16. 'mcyc'\n",
       "17. 'pcar'\n",
       "18. 'boat'\n",
       "19. 'wigc'\n",
       "20. 'clusters'\n",
       "\n",
       "\n"
      ],
      "text/plain": [
       " [1] \"X\"        \"Country\"  \"imws\"     \"pipy\"     \"truc\"     \"ctan\"    \n",
       " [7] \"bott\"     \"uiws\"     \"othw\"     \"iwsp\"     \"basw\"     \"liws\"    \n",
       "[13] \"watp\"     \"bicy\"     \"acar\"     \"mcyc\"     \"pcar\"     \"boat\"    \n",
       "[19] \"wigc\"     \"clusters\""
      ]
     },
     "metadata": {},
     "output_type": "display_data"
    }
   ],
   "source": [
    "names(df.explore)"
   ]
  },
  {
   "cell_type": "code",
   "execution_count": 17,
   "metadata": {},
   "outputs": [
    {
     "ename": "ERROR",
     "evalue": "Error in hist.default(df$clusters): 'x' must be numeric\n",
     "output_type": "error",
     "traceback": [
      "Error in hist.default(df$clusters): 'x' must be numeric\nTraceback:\n",
      "1. hist(df$clusters)",
      "2. hist.default(df$clusters)",
      "3. stop(\"'x' must be numeric\")"
     ]
    },
    {
     "data": {
      "image/png": "[encoded data removed]",
      "text/plain": [
       "Plot with title \"Histogram of df$acar\""
      ]
     },
     "metadata": {
      "image/png": {
       "height": 420,
       "width": 420
      }
     },
     "output_type": "display_data"
    }
   ],
   "source": [
    "hist(df$acar)\n",
    "hist(df$clusters)"
   ]
  },
  {
   "cell_type": "code",
   "execution_count": 18,
   "metadata": {},
   "outputs": [],
   "source": [
    "#High = ifelse(df$acar <= 10 , \"No\", \"Yes\")\n",
    "#df = data.frame(df, High)"
   ]
  },
  {
   "cell_type": "code",
   "execution_count": 33,
   "metadata": {},
   "outputs": [
    {
     "data": {
      "text/html": [
       "<table>\n",
       "<caption>A data.frame: 6 × 20</caption>\n",
       "<thead>\n",
       "\t<tr><th></th><th scope=col>X</th><th scope=col>Country</th><th scope=col>imws</th><th scope=col>pipy</th><th scope=col>truc</th><th scope=col>ctan</th><th scope=col>bott</th><th scope=col>uiws</th><th scope=col>othw</th><th scope=col>iwsp</th><th scope=col>basw</th><th scope=col>liws</th><th scope=col>watp</th><th scope=col>bicy</th><th scope=col>acar</th><th scope=col>mcyc</th><th scope=col>pcar</th><th scope=col>boat</th><th scope=col>wigc</th><th scope=col>clusters</th></tr>\n",
       "\t<tr><th></th><th scope=col>&lt;int&gt;</th><th scope=col>&lt;chr&gt;</th><th scope=col>&lt;dbl&gt;</th><th scope=col>&lt;dbl&gt;</th><th scope=col>&lt;dbl&gt;</th><th scope=col>&lt;dbl&gt;</th><th scope=col>&lt;dbl&gt;</th><th scope=col>&lt;dbl&gt;</th><th scope=col>&lt;dbl&gt;</th><th scope=col>&lt;dbl&gt;</th><th scope=col>&lt;dbl&gt;</th><th scope=col>&lt;dbl&gt;</th><th scope=col>&lt;dbl&gt;</th><th scope=col>&lt;dbl&gt;</th><th scope=col>&lt;dbl&gt;</th><th scope=col>&lt;dbl&gt;</th><th scope=col>&lt;dbl&gt;</th><th scope=col>&lt;dbl&gt;</th><th scope=col>&lt;dbl&gt;</th><th scope=col>&lt;fct&gt;</th></tr>\n",
       "</thead>\n",
       "<tbody>\n",
       "\t<tr><th scope=row>1</th><td>1</td><td>Afghanistan</td><td>71.2</td><td> 4.8</td><td> 1.5</td><td>4.4</td><td> 0.2</td><td>28.7</td><td>1.7</td><td>35.4</td><td>65.3</td><td>5.0</td><td>45.3</td><td>30.0</td><td>5.8</td><td>35.2</td><td>11.8</td><td>0.0</td><td>0.1</td><td>1</td></tr>\n",
       "\t<tr><th scope=row>2</th><td>2</td><td>Albania    </td><td>98.4</td><td> 5.2</td><td>14.1</td><td>0.2</td><td>19.6</td><td> 1.6</td><td>0.1</td><td>77.0</td><td>97.0</td><td>0.9</td><td>77.9</td><td>26.4</td><td>3.2</td><td> 9.6</td><td>37.0</td><td>0.7</td><td>0.1</td><td>2</td></tr>\n",
       "\t<tr><th scope=row>3</th><td>3</td><td>Angola     </td><td>66.9</td><td> 9.7</td><td> 9.7</td><td>4.3</td><td> 1.2</td><td>33.1</td><td>1.8</td><td>32.6</td><td>57.0</td><td>7.5</td><td>34.5</td><td> 4.6</td><td>1.3</td><td>17.8</td><td>10.9</td><td>0.4</td><td>0.3</td><td>3</td></tr>\n",
       "\t<tr><th scope=row>4</th><td>4</td><td>Armenia    </td><td>99.9</td><td> 8.0</td><td> 1.5</td><td>0.0</td><td> 0.0</td><td> 0.1</td><td>0.0</td><td>97.6</td><td>99.1</td><td>0.1</td><td>97.6</td><td> 8.6</td><td>0.4</td><td> 0.2</td><td>39.2</td><td>0.3</td><td>0.1</td><td>2</td></tr>\n",
       "\t<tr><th scope=row>5</th><td>5</td><td>Azerbaijan </td><td>90.6</td><td>19.7</td><td> 9.5</td><td>0.7</td><td> 0.1</td><td> 9.4</td><td>1.1</td><td>71.2</td><td>86.4</td><td>3.4</td><td>75.9</td><td> 6.9</td><td>3.3</td><td> 1.1</td><td>20.4</td><td>0.1</td><td>0.0</td><td>4</td></tr>\n",
       "\t<tr><th scope=row>6</th><td>6</td><td>Bangladesh </td><td>97.8</td><td> 3.3</td><td> 0.0</td><td>0.1</td><td> 0.3</td><td> 2.2</td><td>0.1</td><td>75.1</td><td>96.4</td><td>1.3</td><td>75.5</td><td>25.1</td><td>0.0</td><td> 6.4</td><td> 0.8</td><td>0.0</td><td>0.3</td><td>1</td></tr>\n",
       "</tbody>\n",
       "</table>\n"
      ],
      "text/latex": [
       "A data.frame: 6 × 20\n",
       "\\begin{tabular}{r|llllllllllllllllllll}\n",
       "  & X & Country & imws & pipy & truc & ctan & bott & uiws & othw & iwsp & basw & liws & watp & bicy & acar & mcyc & pcar & boat & wigc & clusters\\\\\n",
       "  & <int> & <chr> & <dbl> & <dbl> & <dbl> & <dbl> & <dbl> & <dbl> & <dbl> & <dbl> & <dbl> & <dbl> & <dbl> & <dbl> & <dbl> & <dbl> & <dbl> & <dbl> & <dbl> & <fct>\\\\\n",
       "\\hline\n",
       "\t1 & 1 & Afghanistan & 71.2 &  4.8 &  1.5 & 4.4 &  0.2 & 28.7 & 1.7 & 35.4 & 65.3 & 5.0 & 45.3 & 30.0 & 5.8 & 35.2 & 11.8 & 0.0 & 0.1 & 1\\\\\n",
       "\t2 & 2 & Albania     & 98.4 &  5.2 & 14.1 & 0.2 & 19.6 &  1.6 & 0.1 & 77.0 & 97.0 & 0.9 & 77.9 & 26.4 & 3.2 &  9.6 & 37.0 & 0.7 & 0.1 & 2\\\\\n",
       "\t3 & 3 & Angola      & 66.9 &  9.7 &  9.7 & 4.3 &  1.2 & 33.1 & 1.8 & 32.6 & 57.0 & 7.5 & 34.5 &  4.6 & 1.3 & 17.8 & 10.9 & 0.4 & 0.3 & 3\\\\\n",
       "\t4 & 4 & Armenia     & 99.9 &  8.0 &  1.5 & 0.0 &  0.0 &  0.1 & 0.0 & 97.6 & 99.1 & 0.1 & 97.6 &  8.6 & 0.4 &  0.2 & 39.2 & 0.3 & 0.1 & 2\\\\\n",
       "\t5 & 5 & Azerbaijan  & 90.6 & 19.7 &  9.5 & 0.7 &  0.1 &  9.4 & 1.1 & 71.2 & 86.4 & 3.4 & 75.9 &  6.9 & 3.3 &  1.1 & 20.4 & 0.1 & 0.0 & 4\\\\\n",
       "\t6 & 6 & Bangladesh  & 97.8 &  3.3 &  0.0 & 0.1 &  0.3 &  2.2 & 0.1 & 75.1 & 96.4 & 1.3 & 75.5 & 25.1 & 0.0 &  6.4 &  0.8 & 0.0 & 0.3 & 1\\\\\n",
       "\\end{tabular}\n"
      ],
      "text/markdown": [
       "\n",
       "A data.frame: 6 × 20\n",
       "\n",
       "| <!--/--> | X &lt;int&gt; | Country &lt;chr&gt; | imws &lt;dbl&gt; | pipy &lt;dbl&gt; | truc &lt;dbl&gt; | ctan &lt;dbl&gt; | bott &lt;dbl&gt; | uiws &lt;dbl&gt; | othw &lt;dbl&gt; | iwsp &lt;dbl&gt; | basw &lt;dbl&gt; | liws &lt;dbl&gt; | watp &lt;dbl&gt; | bicy &lt;dbl&gt; | acar &lt;dbl&gt; | mcyc &lt;dbl&gt; | pcar &lt;dbl&gt; | boat &lt;dbl&gt; | wigc &lt;dbl&gt; | clusters &lt;fct&gt; |\n",
       "|---|---|---|---|---|---|---|---|---|---|---|---|---|---|---|---|---|---|---|---|---|\n",
       "| 1 | 1 | Afghanistan | 71.2 |  4.8 |  1.5 | 4.4 |  0.2 | 28.7 | 1.7 | 35.4 | 65.3 | 5.0 | 45.3 | 30.0 | 5.8 | 35.2 | 11.8 | 0.0 | 0.1 | 1 |\n",
       "| 2 | 2 | Albania     | 98.4 |  5.2 | 14.1 | 0.2 | 19.6 |  1.6 | 0.1 | 77.0 | 97.0 | 0.9 | 77.9 | 26.4 | 3.2 |  9.6 | 37.0 | 0.7 | 0.1 | 2 |\n",
       "| 3 | 3 | Angola      | 66.9 |  9.7 |  9.7 | 4.3 |  1.2 | 33.1 | 1.8 | 32.6 | 57.0 | 7.5 | 34.5 |  4.6 | 1.3 | 17.8 | 10.9 | 0.4 | 0.3 | 3 |\n",
       "| 4 | 4 | Armenia     | 99.9 |  8.0 |  1.5 | 0.0 |  0.0 |  0.1 | 0.0 | 97.6 | 99.1 | 0.1 | 97.6 |  8.6 | 0.4 |  0.2 | 39.2 | 0.3 | 0.1 | 2 |\n",
       "| 5 | 5 | Azerbaijan  | 90.6 | 19.7 |  9.5 | 0.7 |  0.1 |  9.4 | 1.1 | 71.2 | 86.4 | 3.4 | 75.9 |  6.9 | 3.3 |  1.1 | 20.4 | 0.1 | 0.0 | 4 |\n",
       "| 6 | 6 | Bangladesh  | 97.8 |  3.3 |  0.0 | 0.1 |  0.3 |  2.2 | 0.1 | 75.1 | 96.4 | 1.3 | 75.5 | 25.1 | 0.0 |  6.4 |  0.8 | 0.0 | 0.3 | 1 |\n",
       "\n"
      ],
      "text/plain": [
       "  X Country     imws pipy truc ctan bott uiws othw iwsp basw liws watp bicy\n",
       "1 1 Afghanistan 71.2  4.8  1.5 4.4   0.2 28.7 1.7  35.4 65.3 5.0  45.3 30.0\n",
       "2 2 Albania     98.4  5.2 14.1 0.2  19.6  1.6 0.1  77.0 97.0 0.9  77.9 26.4\n",
       "3 3 Angola      66.9  9.7  9.7 4.3   1.2 33.1 1.8  32.6 57.0 7.5  34.5  4.6\n",
       "4 4 Armenia     99.9  8.0  1.5 0.0   0.0  0.1 0.0  97.6 99.1 0.1  97.6  8.6\n",
       "5 5 Azerbaijan  90.6 19.7  9.5 0.7   0.1  9.4 1.1  71.2 86.4 3.4  75.9  6.9\n",
       "6 6 Bangladesh  97.8  3.3  0.0 0.1   0.3  2.2 0.1  75.1 96.4 1.3  75.5 25.1\n",
       "  acar mcyc pcar boat wigc clusters\n",
       "1 5.8  35.2 11.8 0.0  0.1  1       \n",
       "2 3.2   9.6 37.0 0.7  0.1  2       \n",
       "3 1.3  17.8 10.9 0.4  0.3  3       \n",
       "4 0.4   0.2 39.2 0.3  0.1  2       \n",
       "5 3.3   1.1 20.4 0.1  0.0  4       \n",
       "6 0.0   6.4  0.8 0.0  0.3  1       "
      ]
     },
     "metadata": {},
     "output_type": "display_data"
    }
   ],
   "source": [
    "tree.wa = tree(clusters ~ . -X - Country  , data = df.explore)\n",
    "head(df.explore)\n",
    "# We must figure out the NAs introduced by coercion meaning before preceeding this sections"
   ]
  },
  {
   "cell_type": "code",
   "execution_count": 31,
   "metadata": {},
   "outputs": [
    {
     "data": {
      "text/plain": [
       "\n",
       "Classification tree:\n",
       "tree(formula = clusters ~ . - X - Country, data = df.explore)\n",
       "Variables actually used in tree construction:\n",
       "[1] \"pcar\" \"liws\" \"mcyc\" \"basw\" \"truc\" \"pipy\" \"bicy\" \"ctan\" \"othw\"\n",
       "Number of terminal nodes:  11 \n",
       "Residual mean deviance:  0.6957 = 46.62 / 67 \n",
       "Misclassification error rate: 0.141 = 11 / 78 "
      ]
     },
     "metadata": {},
     "output_type": "display_data"
    }
   ],
   "source": [
    "summary(tree.wa)"
   ]
  },
  {
   "cell_type": "code",
   "execution_count": 32,
   "metadata": {},
   "outputs": [
    {
     "data": {
      "image/png": "[encoded data removed]",
      "text/plain": [
       "plot without title"
      ]
     },
     "metadata": {
      "image/png": {
       "height": 420,
       "width": 420
      }
     },
     "output_type": "display_data"
    }
   ],
   "source": [
    "plot(tree.wa)\n",
    "text(tree.wa, pretty = 0)"
   ]
  },
  {
   "cell_type": "code",
   "execution_count": 22,
   "metadata": {},
   "outputs": [
    {
     "data": {
      "text/plain": [
       "node), split, n, deviance, yval, (yprob)\n",
       "      * denotes terminal node\n",
       "\n",
       " 1) root 78 213.900 1 ( 0.28205 0.17949 0.25641 0.28205 )  \n",
       "   2) tles < 30.65 39  77.400 4 ( 0.07692 0.35897 0.02564 0.53846 )  \n",
       "     4) phom < 38.15 25  26.480 4 ( 0.12000 0.00000 0.04000 0.84000 )  \n",
       "       8) bore < 15.1 20   7.941 4 ( 0.00000 0.00000 0.05000 0.95000 )  \n",
       "        16) imws < 72.45 5   5.004 4 ( 0.00000 0.00000 0.20000 0.80000 ) *\n",
       "        17) imws > 72.45 15   0.000 4 ( 0.00000 0.00000 0.00000 1.00000 ) *\n",
       "       9) bore > 15.1 5   6.730 1 ( 0.60000 0.00000 0.00000 0.40000 ) *\n",
       "     5) phom > 38.15 14   0.000 2 ( 0.00000 1.00000 0.00000 0.00000 ) *\n",
       "   3) tles > 30.65 39  61.980 1 ( 0.48718 0.00000 0.48718 0.02564 )  \n",
       "     6) bore < 11.55 18   7.724 3 ( 0.00000 0.00000 0.94444 0.05556 )  \n",
       "      12) imws < 81.05 13   0.000 3 ( 0.00000 0.00000 1.00000 0.00000 ) *\n",
       "      13) imws > 81.05 5   5.004 3 ( 0.00000 0.00000 0.80000 0.20000 ) *\n",
       "     7) bore > 11.55 21  13.210 1 ( 0.90476 0.00000 0.09524 0.00000 )  \n",
       "      14) imws < 70.85 5   6.730 1 ( 0.60000 0.00000 0.40000 0.00000 ) *\n",
       "      15) imws > 70.85 16   0.000 1 ( 1.00000 0.00000 0.00000 0.00000 ) *"
      ]
     },
     "metadata": {},
     "output_type": "display_data"
    }
   ],
   "source": [
    "tree.wa"
   ]
  },
  {
   "cell_type": "markdown",
   "metadata": {},
   "source": [
    "Training Session"
   ]
  },
  {
   "cell_type": "code",
   "execution_count": null,
   "metadata": {},
   "outputs": [],
   "source": [
    "set.seed(101)\n",
    "train=sample(1:nrow(df), 59)"
   ]
  },
  {
   "cell_type": "code",
   "execution_count": null,
   "metadata": {},
   "outputs": [],
   "source": [
    "tree.wa = tree(clusters ~ . - Country - Year - Survey , data = df)\n",
    "plot(tree.wa)\n",
    "text(tree.wa, pretty=0)"
   ]
  },
  {
   "cell_type": "code",
   "execution_count": null,
   "metadata": {},
   "outputs": [],
   "source": [
    "tree.pred = predict(tree.wa, df[-train,], type=\"class\")"
   ]
  },
  {
   "cell_type": "markdown",
   "metadata": {},
   "source": [
    "Finally, we use the data.frame() function to merge High with the rest of\n",
    "the borehole (bore) data."
   ]
  },
  {
   "cell_type": "markdown",
   "metadata": {},
   "source": [
    "# define function that reruns factor() for the right columns\n",
    "rerun_factor <- function(x) {\n",
    "  if (is.factor(x)) return(factor(x))\n",
    "  return(x)\n",
    "}\n",
    "\n",
    "# run on all columns of your data\n",
    "df <- as.data.frame(lapply(df, rerun_factor))"
   ]
  },
  {
   "cell_type": "code",
   "execution_count": null,
   "metadata": {},
   "outputs": [],
   "source": [
    "set.seed(2)\n",
    "train=sample(1:nrow(df), 78)\n",
    "df.test=df[-train,]\n",
    "High.test=High[-train]\n",
    "tree.df =tree(clusters ~ . - Country - Year - survey,df,subset=train)\n",
    "summary(tree.df)\n",
    "tree.pred=predict(tree.df,df.test,type=\"class\")\n",
    "table(tree.pred,High.test)\n",
    "plot(tree.df)\n",
    "# Unsure what trees cannot handle multiple responses mean"
   ]
  },
  {
   "cell_type": "markdown",
   "metadata": {},
   "source": [
    "# Random Forest"
   ]
  },
  {
   "cell_type": "markdown",
   "metadata": {},
   "source": [
    "To prepare data for random forest, let's set the seed and create a sample training set of 300 observations."
   ]
  },
  {
   "cell_type": "code",
   "execution_count": null,
   "metadata": {},
   "outputs": [],
   "source": [
    "set.seed(101)\n",
    "train = sample(1:nrow(df), 78)\n",
    "head(train)"
   ]
  },
  {
   "cell_type": "code",
   "execution_count": null,
   "metadata": {},
   "outputs": [],
   "source": [
    "rf.water = randomForest(acar~., data = df, subset = train)\n",
    "rf.water"
   ]
  },
  {
   "cell_type": "markdown",
   "metadata": {},
   "source": [
    "Printing out the random forest gives its summary: the # of trees (500 were grown), the mean squared residuals (MSR), and the percentage of variance explained. The MSR and % variance explained are based on the out-of-bag estimates, a very clever device in random forests to get honest error estimates."
   ]
  },
  {
   "cell_type": "code",
   "execution_count": null,
   "metadata": {},
   "outputs": [],
   "source": [
    "count(df)\n",
    "head(df)"
   ]
  }
 ],
 "metadata": {
  "kernelspec": {
   "display_name": "R",
   "language": "R",
   "name": "ir"
  },
  "language_info": {
   "codemirror_mode": "r",
   "file_extension": ".r",
   "mimetype": "text/x-r-source",
   "name": "R",
   "pygments_lexer": "r",
   "version": "4.0.2"
  }
 },
 "nbformat": 4,
 "nbformat_minor": 4
}
