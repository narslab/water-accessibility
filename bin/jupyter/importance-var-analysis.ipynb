{
 "cells": [
  {
   "cell_type": "code",
   "execution_count": 1,
   "metadata": {},
   "outputs": [
    {
     "name": "stderr",
     "output_type": "stream",
     "text": [
      "Warning message:\n",
      "\"package 'ggplot2' was built under R version 4.0.3\"\n",
      "Warning message:\n",
      "\"package 'writexl' was built under R version 4.0.5\"\n",
      "Warning message:\n",
      "\"package 'dplyr' was built under R version 4.0.5\"\n",
      "\n",
      "Attaching package: 'dplyr'\n",
      "\n",
      "\n",
      "The following objects are masked from 'package:stats':\n",
      "\n",
      "    filter, lag\n",
      "\n",
      "\n",
      "The following objects are masked from 'package:base':\n",
      "\n",
      "    intersect, setdiff, setequal, union\n",
      "\n",
      "\n",
      "Warning message:\n",
      "\"package 'gridExtra' was built under R version 4.0.5\"\n",
      "\n",
      "Attaching package: 'gridExtra'\n",
      "\n",
      "\n",
      "The following object is masked from 'package:dplyr':\n",
      "\n",
      "    combine\n",
      "\n",
      "\n",
      "Warning message:\n",
      "\"package 'ggrepel' was built under R version 4.0.3\"\n"
     ]
    }
   ],
   "source": [
    "library(readxl)\n",
    "library(ggplot2)\n",
    "library(writexl)\n",
    "library(dplyr)\n",
    "#install.packages(\"gridExtra\")\n",
    "library(gridExtra)\n",
    "library(ggrepel)"
   ]
  },
  {
   "cell_type": "code",
   "execution_count": 2,
   "metadata": {},
   "outputs": [
    {
     "data": {
      "text/html": [
       "<table class=\"dataframe\">\n",
       "<caption>A data.frame: 6 × 12</caption>\n",
       "<thead>\n",
       "\t<tr><th></th><th scope=col>Country</th><th scope=col>clusters</th><th scope=col>pcar</th><th scope=col>cgdp</th><th scope=col>popd</th><th scope=col>Far.away.Dugwell</th><th scope=col>Spring</th><th scope=col>Piped.to.homes</th><th scope=col>Piped.to.Yard.and.Tap</th><th scope=col>Package.Water</th><th scope=col>Near.by.Surface</th><th scope=col>Near.by.borehole</th></tr>\n",
       "\t<tr><th></th><th scope=col>&lt;chr&gt;</th><th scope=col>&lt;fct&gt;</th><th scope=col>&lt;dbl&gt;</th><th scope=col>&lt;dbl&gt;</th><th scope=col>&lt;dbl&gt;</th><th scope=col>&lt;dbl&gt;</th><th scope=col>&lt;dbl&gt;</th><th scope=col>&lt;dbl&gt;</th><th scope=col>&lt;dbl&gt;</th><th scope=col>&lt;dbl&gt;</th><th scope=col>&lt;dbl&gt;</th><th scope=col>&lt;dbl&gt;</th></tr>\n",
       "</thead>\n",
       "<tbody>\n",
       "\t<tr><th scope=row>1</th><td>Afghanistan</td><td>Decentralized</td><td>11.8</td><td> 18353881130</td><td>  56.93776</td><td>0.572418217</td><td>0.27948505</td><td>0.4740642</td><td>0.48905269</td><td>0.3327190</td><td>0.6406390</td><td>0.5244550</td></tr>\n",
       "\t<tr><th scope=row>2</th><td>Albania    </td><td>Hybrid       </td><td>37.0</td><td> 15147020535</td><td> 104.61226</td><td>0.173347287</td><td>0.16631234</td><td>0.7812555</td><td>0.21604457</td><td>0.3179487</td><td>0.2668756</td><td>0.5813036</td></tr>\n",
       "\t<tr><th scope=row>3</th><td>Angola     </td><td>Decentralized</td><td>10.9</td><td>101353230785</td><td>  24.71305</td><td>0.555402896</td><td>0.26567935</td><td>0.6221088</td><td>0.51799504</td><td>0.4010244</td><td>0.8739405</td><td>0.4280040</td></tr>\n",
       "\t<tr><th scope=row>4</th><td>Armenia    </td><td>Centralized  </td><td>39.2</td><td> 12457941907</td><td> 103.68022</td><td>0.006249719</td><td>0.01802207</td><td>0.9992766</td><td>0.05567089</td><td>0.0000000</td><td>0.1978413</td><td>0.5088645</td></tr>\n",
       "\t<tr><th scope=row>5</th><td>Azerbaijan </td><td>Centralized  </td><td>20.4</td><td> 47112941176</td><td> 120.23432</td><td>0.172305543</td><td>0.17209406</td><td>0.6946237</td><td>0.41693952</td><td>0.2060016</td><td>0.4634648</td><td>0.4247652</td></tr>\n",
       "\t<tr><th scope=row>6</th><td>Bangladesh </td><td>Hybrid       </td><td> 0.8</td><td>274039092455</td><td>1239.57931</td><td>0.116506831</td><td>0.08746231</td><td>0.0000000</td><td>0.29168400</td><td>0.1829046</td><td>0.1907371</td><td>0.5876124</td></tr>\n",
       "</tbody>\n",
       "</table>\n"
      ],
      "text/latex": [
       "A data.frame: 6 × 12\n",
       "\\begin{tabular}{r|llllllllllll}\n",
       "  & Country & clusters & pcar & cgdp & popd & Far.away.Dugwell & Spring & Piped.to.homes & Piped.to.Yard.and.Tap & Package.Water & Near.by.Surface & Near.by.borehole\\\\\n",
       "  & <chr> & <fct> & <dbl> & <dbl> & <dbl> & <dbl> & <dbl> & <dbl> & <dbl> & <dbl> & <dbl> & <dbl>\\\\\n",
       "\\hline\n",
       "\t1 & Afghanistan & Decentralized & 11.8 &  18353881130 &   56.93776 & 0.572418217 & 0.27948505 & 0.4740642 & 0.48905269 & 0.3327190 & 0.6406390 & 0.5244550\\\\\n",
       "\t2 & Albania     & Hybrid        & 37.0 &  15147020535 &  104.61226 & 0.173347287 & 0.16631234 & 0.7812555 & 0.21604457 & 0.3179487 & 0.2668756 & 0.5813036\\\\\n",
       "\t3 & Angola      & Decentralized & 10.9 & 101353230785 &   24.71305 & 0.555402896 & 0.26567935 & 0.6221088 & 0.51799504 & 0.4010244 & 0.8739405 & 0.4280040\\\\\n",
       "\t4 & Armenia     & Centralized   & 39.2 &  12457941907 &  103.68022 & 0.006249719 & 0.01802207 & 0.9992766 & 0.05567089 & 0.0000000 & 0.1978413 & 0.5088645\\\\\n",
       "\t5 & Azerbaijan  & Centralized   & 20.4 &  47112941176 &  120.23432 & 0.172305543 & 0.17209406 & 0.6946237 & 0.41693952 & 0.2060016 & 0.4634648 & 0.4247652\\\\\n",
       "\t6 & Bangladesh  & Hybrid        &  0.8 & 274039092455 & 1239.57931 & 0.116506831 & 0.08746231 & 0.0000000 & 0.29168400 & 0.1829046 & 0.1907371 & 0.5876124\\\\\n",
       "\\end{tabular}\n"
      ],
      "text/markdown": [
       "\n",
       "A data.frame: 6 × 12\n",
       "\n",
       "| <!--/--> | Country &lt;chr&gt; | clusters &lt;fct&gt; | pcar &lt;dbl&gt; | cgdp &lt;dbl&gt; | popd &lt;dbl&gt; | Far.away.Dugwell &lt;dbl&gt; | Spring &lt;dbl&gt; | Piped.to.homes &lt;dbl&gt; | Piped.to.Yard.and.Tap &lt;dbl&gt; | Package.Water &lt;dbl&gt; | Near.by.Surface &lt;dbl&gt; | Near.by.borehole &lt;dbl&gt; |\n",
       "|---|---|---|---|---|---|---|---|---|---|---|---|---|\n",
       "| 1 | Afghanistan | Decentralized | 11.8 |  18353881130 |   56.93776 | 0.572418217 | 0.27948505 | 0.4740642 | 0.48905269 | 0.3327190 | 0.6406390 | 0.5244550 |\n",
       "| 2 | Albania     | Hybrid        | 37.0 |  15147020535 |  104.61226 | 0.173347287 | 0.16631234 | 0.7812555 | 0.21604457 | 0.3179487 | 0.2668756 | 0.5813036 |\n",
       "| 3 | Angola      | Decentralized | 10.9 | 101353230785 |   24.71305 | 0.555402896 | 0.26567935 | 0.6221088 | 0.51799504 | 0.4010244 | 0.8739405 | 0.4280040 |\n",
       "| 4 | Armenia     | Centralized   | 39.2 |  12457941907 |  103.68022 | 0.006249719 | 0.01802207 | 0.9992766 | 0.05567089 | 0.0000000 | 0.1978413 | 0.5088645 |\n",
       "| 5 | Azerbaijan  | Centralized   | 20.4 |  47112941176 |  120.23432 | 0.172305543 | 0.17209406 | 0.6946237 | 0.41693952 | 0.2060016 | 0.4634648 | 0.4247652 |\n",
       "| 6 | Bangladesh  | Hybrid        |  0.8 | 274039092455 | 1239.57931 | 0.116506831 | 0.08746231 | 0.0000000 | 0.29168400 | 0.1829046 | 0.1907371 | 0.5876124 |\n",
       "\n"
      ],
      "text/plain": [
       "  Country     clusters      pcar cgdp         popd       Far.away.Dugwell\n",
       "1 Afghanistan Decentralized 11.8  18353881130   56.93776 0.572418217     \n",
       "2 Albania     Hybrid        37.0  15147020535  104.61226 0.173347287     \n",
       "3 Angola      Decentralized 10.9 101353230785   24.71305 0.555402896     \n",
       "4 Armenia     Centralized   39.2  12457941907  103.68022 0.006249719     \n",
       "5 Azerbaijan  Centralized   20.4  47112941176  120.23432 0.172305543     \n",
       "6 Bangladesh  Hybrid         0.8 274039092455 1239.57931 0.116506831     \n",
       "  Spring     Piped.to.homes Piped.to.Yard.and.Tap Package.Water Near.by.Surface\n",
       "1 0.27948505 0.4740642      0.48905269            0.3327190     0.6406390      \n",
       "2 0.16631234 0.7812555      0.21604457            0.3179487     0.2668756      \n",
       "3 0.26567935 0.6221088      0.51799504            0.4010244     0.8739405      \n",
       "4 0.01802207 0.9992766      0.05567089            0.0000000     0.1978413      \n",
       "5 0.17209406 0.6946237      0.41693952            0.2060016     0.4634648      \n",
       "6 0.08746231 0.0000000      0.29168400            0.1829046     0.1907371      \n",
       "  Near.by.borehole\n",
       "1 0.5244550       \n",
       "2 0.5813036       \n",
       "3 0.4280040       \n",
       "4 0.5088645       \n",
       "5 0.4247652       \n",
       "6 0.5876124       "
      ]
     },
     "metadata": {},
     "output_type": "display_data"
    }
   ],
   "source": [
    "df.class = read_excel(\"../../results/class.xlsx\" ,sheet=1 )\n",
    "df.scale = read_excel(\"../../results/class-scale.xlsx\" ,sheet=1 )\n",
    "df.wa = read_excel( \"../../results/df-water-access.xlsx\" ,sheet=1)\n",
    "df.fa <- read_excel(\"../../results/df-seven-scores.xlsx\",sheet=1)\n",
    "df.fa <- df.fa %>% \n",
    "  rename(\n",
    "      'Far.away.Dugwell' = ML1,\n",
    "      'Package.Water'= ML2,\n",
    "      'Piped.to.homes'= ML3,\n",
    "      'Near.by.borehole'= ML4,\n",
    "      'Piped.to.Yard.and.Tap' = ML5,\n",
    "      'Spring' = ML6,\n",
    "      'Near.by.Surface'= ML7\n",
    "     )\n",
    "df <- merge(x = df.class,\n",
    "              y = df.fa,\n",
    "              by = c(\"Country\"))\n",
    "df$clusters <- as.factor(df$clusters)\n",
    "\n",
    "df <- df[,c(1,8,5,9, 12, 16:22 )] # 3 important explnatory variables from classification decision tree\n",
    "head(df)\n"
   ]
  },
  {
   "cell_type": "markdown",
   "metadata": {},
   "source": [
    "# Scatter Analysis PCAR"
   ]
  },
  {
   "cell_type": "code",
   "execution_count": 3,
   "metadata": {
    "scrolled": false
   },
   "outputs": [],
   "source": [
    "# '#E41A1C':RED,'#377EB8':BLUE, '#4DAF4A':GREEN (Alphabatical order of cluster)\n",
    "\n",
    "\n",
    "spd <- ggplot(df, aes(x=pcar, y= Far.away.Dugwell, color=clusters)) +\n",
    "  geom_point() + \n",
    "  scale_color_manual(values=c( '#4DAF4A', '#E41A1C', '#377EB8'))+ \n",
    "  labs(title=,\n",
    "       x=\"Private Car Ownership (Percent)\", y = \"Far Well (scaled)\") +\n",
    "  geom_text_repel(\n",
    "   aes(label= Country), size = 2.5,\n",
    "     force= 1,\n",
    "      force_pull = 1,\n",
    "      angle = 0,\n",
    "      fontface = 2,\n",
    "      segment.linetype = 5,\n",
    "    max.overlaps = Inf) + theme(legend.position = \"none\") \n",
    "\n",
    "sps <- ggplot(df, aes(x=pcar, y= Spring, color=clusters)) +\n",
    "  geom_point() + \n",
    "  scale_color_manual(values=c('#4DAF4A', '#E41A1C', '#377EB8'))+ \n",
    "  labs(title=,\n",
    "       x=\"Private Car Ownership (Percent)\", y = \"Far Spring (scaled)\")  +\n",
    "  geom_text_repel(\n",
    "   aes(label= Country), size = 2.5,\n",
    "     force= 1,\n",
    "      force_pull = 1,\n",
    "      angle = 0,\n",
    "      fontface = 2,\n",
    "      segment.linetype = 5,\n",
    "    max.overlaps = Inf) + theme(legend.position = \"none\") \n",
    "\n",
    "spp <- ggplot(df, aes(x=pcar, y= Piped.to.homes, color=clusters)) +\n",
    "  geom_point() + \n",
    "  scale_color_manual(values=c('#4DAF4A', '#E41A1C', '#377EB8'))+ \n",
    "  labs(title=,\n",
    "       x=\"Private Car Ownership (Percent)\", y = \"Piped Indoors (scaled)\")  +\n",
    "  geom_text_repel(\n",
    "   aes(label= Country), size = 2.5,\n",
    "     force= 1,\n",
    "      force_pull = 1,\n",
    "      angle = 0,\n",
    "      fontface = 2,\n",
    "      segment.linetype = 5,\n",
    "    max.overlaps = Inf)+ theme(legend.position = \"none\") \n",
    "\n",
    "spy <- ggplot(df, aes(x=pcar, y= Piped.to.Yard.and.Tap, color=clusters)) +\n",
    "  geom_point() + \n",
    "  scale_color_manual(values=c('#4DAF4A', '#E41A1C', '#377EB8'))+ \n",
    "  labs(title=,\n",
    "       x=\"Private Car Ownership (Percent)\", y = \"Piped Outdoors (scaled)\")  +\n",
    "  geom_text_repel(\n",
    "   aes(label= Country), size = 2.5,\n",
    "     force= 1,\n",
    "      force_pull = 1,\n",
    "      angle = 0,\n",
    "      fontface = 2,\n",
    "      segment.linetype = 5,\n",
    "    max.overlaps = Inf)+ theme(legend.position = \"none\") \n",
    "\n",
    "sppw <- ggplot(df, aes(x=pcar, y= Package.Water, color=clusters)) +\n",
    "  geom_point() + \n",
    "  scale_color_manual(values=c('#4DAF4A', '#E41A1C', '#377EB8'))+ \n",
    "  labs(\n",
    "       x=\"Private Car Ownership (Aggregation)\", y = \"Vended (scaled)\") +\n",
    "  geom_text_repel(\n",
    "   aes(label= Country), size = 2.5,\n",
    "     force= 1,\n",
    "      force_pull = 1,\n",
    "      angle = 0,\n",
    "      fontface = 2,\n",
    "      segment.linetype = 5,\n",
    "    max.overlaps = Inf)+ theme(legend.position = \"none\")  \n",
    "\n",
    "spns <- ggplot(df, aes(x=pcar, y= Near.by.Surface, color=clusters)) +\n",
    "  geom_point() + \n",
    "  scale_color_manual(values=c('#4DAF4A', '#E41A1C', '#377EB8'))+ \n",
    "  labs(title=,\n",
    "       x=\"Private Car Ownership (Percent)\", y = \"Nearby Surface (scaled)\") +\n",
    "  geom_text_repel(\n",
    "   aes(label= Country), size = 2.5,\n",
    "     force= 1,\n",
    "      force_pull = 1,\n",
    "      angle = 0,\n",
    "      fontface = 2,\n",
    "      segment.linetype = 5,\n",
    "    max.overlaps = Inf) + theme(legend.position = \"none\") \n",
    "\n",
    "spb <- ggplot(df, aes(x=pcar, y= Near.by.borehole, color=clusters)) +\n",
    "  geom_point() + \n",
    "  scale_color_manual(values=c('#4DAF4A', '#E41A1C', '#377EB8'))+ \n",
    "  labs(title=,\n",
    "       x=\"Private Car Ownership (Percent)\", y = \"Nearby Improved (scaled)\") +\n",
    "  geom_text_repel(\n",
    "   aes(label= Country), size = 2.5,\n",
    "     force= 1,\n",
    "      force_pull = 1,\n",
    "      angle = 0,\n",
    "      fontface = 2,\n",
    "      segment.linetype = 5,\n",
    "    max.overlaps = Inf) + theme(legend.position = \"none\") \n",
    "\n",
    "options(repr.plot.width=14, repr.plot.height=14)\n",
    " "
   ]
  },
  {
   "cell_type": "code",
   "execution_count": 4,
   "metadata": {},
   "outputs": [
    {
     "data": {
      "text/html": [
       "<strong>png:</strong> 2"
      ],
      "text/latex": [
       "\\textbf{png:} 2"
      ],
      "text/markdown": [
       "**png:** 2"
      ],
      "text/plain": [
       "png \n",
       "  2 "
      ]
     },
     "metadata": {},
     "output_type": "display_data"
    },
    {
     "data": {
      "text/html": [
       "<strong>png:</strong> 2"
      ],
      "text/latex": [
       "\\textbf{png:} 2"
      ],
      "text/markdown": [
       "**png:** 2"
      ],
      "text/plain": [
       "png \n",
       "  2 "
      ]
     },
     "metadata": {},
     "output_type": "display_data"
    }
   ],
   "source": [
    " \n",
    "options(repr.plot.width=14, repr.plot.height=14)\n",
    "par(mar = c(1,1,1,1))\n",
    "par(cex=1.4)\n",
    "\n",
    "\n",
    "png(\n",
    "  \"scatter-pcar-2.png\",\n",
    "  width     = 14,\n",
    "  height    = 14,\n",
    "  units     = \"in\",\n",
    "  res       = 700,\n",
    "  #pointsize = 6\n",
    ")\n",
    "pdf(file = \"../../docs/manuscript/pdf-image/scatter-pcar-2.pdf\"\n",
    "  ,\n",
    "  width     = 14,\n",
    "  height    = 14 )\n",
    "\n",
    "grid.arrange(sppw,spns,spb,  ncol=2, nrow=2, widths=c(5, 5), heights=c(5, 5))  \n",
    "dev.off()\n",
    "\n",
    "png(\n",
    "  \"scatter-pcar-1.png\",\n",
    "  width     = 14,\n",
    "  height    = 14,\n",
    "  units     = \"in\",\n",
    "  res       = 700,\n",
    "  #pointsize = 6\n",
    ")\n",
    "pdf(file = \"../../docs/manuscript/pdf-image/scatter-pcar-1.pdf\"\n",
    "  ,\n",
    "  width     = 14,\n",
    "  height    = 14 )\n",
    "grid.arrange(spd,sps,spp,spy , ncol=2, nrow=2, widths=c(5, 5), heights=c(5, 5))  \n",
    "dev.off()"
   ]
  },
  {
   "cell_type": "markdown",
   "metadata": {},
   "source": [
    "# Scatter Analysis CGDP"
   ]
  },
  {
   "cell_type": "code",
   "execution_count": 5,
   "metadata": {},
   "outputs": [
    {
     "data": {
      "text/html": [
       "<strong>png:</strong> 2"
      ],
      "text/latex": [
       "\\textbf{png:} 2"
      ],
      "text/markdown": [
       "**png:** 2"
      ],
      "text/plain": [
       "png \n",
       "  2 "
      ]
     },
     "metadata": {},
     "output_type": "display_data"
    },
    {
     "data": {
      "text/html": [
       "<strong>png:</strong> 2"
      ],
      "text/latex": [
       "\\textbf{png:} 2"
      ],
      "text/markdown": [
       "**png:** 2"
      ],
      "text/plain": [
       "png \n",
       "  2 "
      ]
     },
     "metadata": {},
     "output_type": "display_data"
    }
   ],
   "source": [
    "spd <- ggplot(df, aes(x=log(cgdp), y= Far.away.Dugwell, color=clusters)) +\n",
    "  geom_point() + \n",
    "  scale_color_manual(values=c('#4DAF4A', '#E41A1C', '#377EB8'))+ \n",
    "  labs(title=,\n",
    "       x=\"GDP (current US $) \", y = \"Faraway Well (scaled)\")+\n",
    "  geom_text_repel(\n",
    "   aes(label= Country), size = 2.5,\n",
    "     force= 1,\n",
    "      force_pull = 1,\n",
    "      angle = 0,\n",
    "      fontface = 2,\n",
    "      segment.linetype = 5,\n",
    "    max.overlaps = Inf) + theme(legend.position = \"none\") \n",
    "\n",
    "sps <- ggplot(df, aes(x=log(cgdp), y= Spring, color=clusters)) +\n",
    "  geom_point() + \n",
    "  scale_color_manual(values=c('#4DAF4A', '#E41A1C', '#377EB8'))+ \n",
    "  labs(title=,\n",
    "       x=\"GDP (current US $) \", y = \"Far Spring (scaled)\")  +\n",
    "  geom_text_repel(\n",
    "   aes(label= Country), size = 2.5,\n",
    "     force= 1,\n",
    "      force_pull = 1,\n",
    "      angle = 0,\n",
    "      fontface = 2,\n",
    "      segment.linetype = 5,\n",
    "    max.overlaps = Inf) + theme(legend.position = \"none\") \n",
    "\n",
    "spp <- ggplot(df, aes(x=log(cgdp), y= Piped.to.homes, color=clusters)) +\n",
    "  geom_point() + \n",
    "  scale_color_manual(values=c('#4DAF4A', '#E41A1C', '#377EB8'))+ \n",
    "  labs(title=,\n",
    "       x=\"GDP (current US $)\", y = \"Piped Indoors (scaled)\") +\n",
    "  geom_text_repel(\n",
    "   aes(label= Country), size = 2.5,\n",
    "     force= 1,\n",
    "      force_pull = 1,\n",
    "      angle = 0,\n",
    "      fontface = 2,\n",
    "      segment.linetype = 5,\n",
    "    max.overlaps = Inf) + theme(legend.position = \"none\") \n",
    "\n",
    "spy <- ggplot(df, aes(x=log(cgdp), y= Piped.to.Yard.and.Tap, color=clusters)) +\n",
    "  geom_point() + \n",
    "  scale_color_manual(values=c('#4DAF4A', '#E41A1C', '#377EB8'))+ \n",
    "  labs(title=,\n",
    "       x=\"GDP (current US $)\", y = \"Piped Outdoors (scaled)\")  +\n",
    "  geom_text_repel(\n",
    "   aes(label= Country), size = 2.5,\n",
    "     force= 1,\n",
    "      force_pull = 1,\n",
    "      angle = 0,\n",
    "      fontface = 2,\n",
    "      segment.linetype = 5,\n",
    "    max.overlaps = Inf) + theme(legend.position = \"none\") \n",
    "\n",
    "sppw <- ggplot(df, aes(x=log(cgdp), y= Package.Water, color=clusters)) +\n",
    "  geom_point() + \n",
    "  scale_color_manual(values=c('#4DAF4A', '#E41A1C', '#377EB8'))+ \n",
    "  labs(title=,\n",
    "       x=\"GDP (current US $)\", y = \"Vended (scaled)\") +\n",
    "  geom_text_repel(\n",
    "   aes(label= Country), size = 2.5,\n",
    "     force= 1,\n",
    "      force_pull = 1,\n",
    "      angle = 0,\n",
    "      fontface = 2,\n",
    "      segment.linetype = 5,\n",
    "    max.overlaps = Inf) + theme(legend.position = \"none\") \n",
    "\n",
    "spns <- ggplot(df, aes(x=log(cgdp), y= Near.by.Surface, color=clusters)) +\n",
    "  geom_point() + \n",
    "  scale_color_manual(values=c('#4DAF4A', '#E41A1C', '#377EB8'))+ \n",
    "  labs(title=,\n",
    "       x=\"GDP (current US $)\", y = \"Nearby Surface (scaled)\") +\n",
    "  geom_text_repel(\n",
    "   aes(label= Country), size = 2.5,\n",
    "     force= 1,\n",
    "      force_pull = 1,\n",
    "      angle = 0,\n",
    "      fontface = 2,\n",
    "      segment.linetype = 5,\n",
    "    max.overlaps = Inf) + theme(legend.position = \"none\") \n",
    "\n",
    "spb <- ggplot(df, aes(x=log(cgdp), y= Near.by.borehole, color=clusters)) +\n",
    "  geom_point() + \n",
    "  scale_color_manual(values=c('#4DAF4A', '#E41A1C', '#377EB8'))+ \n",
    "  labs(title=,\n",
    "       x=\"GDP (current US $)\", y = \"Nearby Improved (scaled)\") +\n",
    "  geom_text_repel(\n",
    "   aes(label= Country), size = 2.5,\n",
    "     force= 1,\n",
    "      force_pull = 1,\n",
    "      angle = 0,\n",
    "      fontface = 2,\n",
    "      segment.linetype = 5,\n",
    "    max.overlaps = Inf) + theme(legend.position = \"none\") \n",
    "\n",
    "options(repr.plot.width=14, repr.plot.height=14)\n",
    "par(mar = c(1,1,1,1))\n",
    "par(cex=1.4)\n",
    "\n",
    "png(\n",
    "  \"scatter-cgdp-1.png\",\n",
    "  width     = 10,\n",
    "  height    = 10,\n",
    "  units     = \"in\",\n",
    "  res       = 700,\n",
    "  #pointsize = 6\n",
    ")\n",
    "\n",
    "pdf(file = \"../../docs/manuscript/pdf-image/scatter-cgdp-1.pdf\"\n",
    "  ,\n",
    "  width     = 14,\n",
    "  height    = 14 )\n",
    "\n",
    "grid.arrange(spd,sps,spp,spy , ncol=2, nrow=2, widths=c(5, 5), heights=c(5, 5))  \n",
    "dev.off()\n",
    "\n",
    "png(\n",
    "  \"scatter-cgdp-2.png\",\n",
    "  width     = 10,\n",
    "  height    = 10,\n",
    "  units     = \"in\",\n",
    "  res       = 700,\n",
    "  #pointsize = 6\n",
    ")\n",
    "\n",
    "pdf(file = \"../../docs/manuscript/pdf-image/scatter-cgdp-2.pdf\"\n",
    "  ,\n",
    "  width     = 14,\n",
    "  height    = 14 )\n",
    "\n",
    "grid.arrange(sppw,spns,spb,  ncol=2, nrow=2, widths=c(5, 5), heights=c(5, 5))  \n",
    "dev.off()"
   ]
  },
  {
   "cell_type": "markdown",
   "metadata": {},
   "source": [
    "# Scatter popd"
   ]
  },
  {
   "cell_type": "code",
   "execution_count": 6,
   "metadata": {},
   "outputs": [
    {
     "data": {
      "text/html": [
       "<strong>png:</strong> 2"
      ],
      "text/latex": [
       "\\textbf{png:} 2"
      ],
      "text/markdown": [
       "**png:** 2"
      ],
      "text/plain": [
       "png \n",
       "  2 "
      ]
     },
     "metadata": {},
     "output_type": "display_data"
    },
    {
     "data": {
      "text/html": [
       "<strong>png:</strong> 2"
      ],
      "text/latex": [
       "\\textbf{png:} 2"
      ],
      "text/markdown": [
       "**png:** 2"
      ],
      "text/plain": [
       "png \n",
       "  2 "
      ]
     },
     "metadata": {},
     "output_type": "display_data"
    }
   ],
   "source": [
    "spd <- ggplot(df, aes(x=popd, y= Far.away.Dugwell, color=clusters)) +\n",
    "  geom_point() + \n",
    "  scale_color_manual(values=c('#4DAF4A', '#E41A1C', '#377EB8'))+ \n",
    "  labs(title=,\n",
    "       x=\"Population Density (people / sq. km of land area)\", y = \"Far Well (scaled)\")+\n",
    "  geom_text_repel(\n",
    "   aes(label= Country), size = 2.5,\n",
    "     force= 1,\n",
    "      force_pull = 1,\n",
    "      angle = 0,\n",
    "      fontface = 2,\n",
    "      segment.linetype = 5,\n",
    "    max.overlaps = Inf) + theme(legend.position = \"none\") \n",
    "\n",
    "\n",
    "sps <- ggplot(df, aes(x=popd, y= Spring, color=clusters)) +\n",
    "  geom_point() + \n",
    "  scale_color_manual(values=c('#4DAF4A', '#E41A1C', '#377EB8'))+ \n",
    "  labs(title=,\n",
    "       x=\"Population Density (people / sq. km of land area)\", y = \"Far Spring (scaled)\")  +\n",
    "  geom_text_repel(\n",
    "   aes(label= Country), size = 2.5,\n",
    "     force= 1,\n",
    "      force_pull = 1,\n",
    "      angle = 0,\n",
    "      fontface = 2,\n",
    "      segment.linetype = 5,\n",
    "    max.overlaps = Inf) + theme(legend.position = \"none\") \n",
    "\n",
    "spp <- ggplot(df, aes(x=cgdp, y= Piped.to.homes, color=clusters)) +\n",
    "  geom_point() + \n",
    "  scale_color_manual(values=c('#4DAF4A', '#E41A1C', '#377EB8'))+ \n",
    "  labs(title=,\n",
    "       x=\"Population Density (people / sq. km of land area)\", y = \"Piped Indoors (scaled)\")  +\n",
    "  geom_text_repel(\n",
    "   aes(label= Country), size = 2.5,\n",
    "     force= 1,\n",
    "      force_pull = 1,\n",
    "      angle = 0,\n",
    "      fontface = 2,\n",
    "      segment.linetype = 5,\n",
    "    max.overlaps = Inf) + theme(legend.position = \"none\") \n",
    "\n",
    "spy <- ggplot(df, aes(x=popd, y= Piped.to.Yard.and.Tap, color=clusters)) +\n",
    "  geom_point() + \n",
    "  scale_color_manual(values=c('#4DAF4A', '#E41A1C', '#377EB8'))+ \n",
    "  labs(title=,\n",
    "       x=\"Population Density (people / sq. km of land area)\", y = \"Piped Outdoors (scaled)\")  +\n",
    "  geom_text_repel(\n",
    "   aes(label= Country), size = 2.5,\n",
    "     force= 1,\n",
    "      force_pull = 1,\n",
    "      angle = 0,\n",
    "      fontface = 2,\n",
    "      segment.linetype = 5,\n",
    "    max.overlaps = Inf) + theme(legend.position = \"none\") \n",
    "\n",
    "sppw <- ggplot(df, aes(x=popd, y= Package.Water, color=clusters)) +\n",
    "  geom_point() + \n",
    "  scale_color_manual(values=c('#4DAF4A', '#E41A1C', '#377EB8'))+ \n",
    "  labs(title=,\n",
    "       x=\"Population Density (people/ sq. km of land area)\", y = \"Vended (scaled)\") +\n",
    "  geom_text_repel(\n",
    "   aes(label= Country), size = 2.5,\n",
    "     force= 1,\n",
    "      force_pull = 1,\n",
    "      angle = 0,\n",
    "      fontface = 2,\n",
    "      segment.linetype = 5,\n",
    "    max.overlaps = Inf) + theme(legend.position = \"none\") \n",
    "\n",
    "spns <- ggplot(df, aes(x=popd, y= Near.by.Surface, color=clusters)) +\n",
    "  geom_point() + \n",
    "  scale_color_manual(values=c('#4DAF4A', '#E41A1C', '#377EB8'))+ \n",
    "  labs(title=,\n",
    "       x=\"Population Density (people / sq. km of land area)\", y = \"Nearby Surface (scaled)\") +\n",
    "  geom_text_repel(\n",
    "   aes(label= Country), size = 2.5,\n",
    "     force= 1,\n",
    "      force_pull = 1,\n",
    "      angle = 0,\n",
    "      fontface = 2,\n",
    "      segment.linetype = 5,\n",
    "    max.overlaps = Inf) + theme(legend.position = \"none\") \n",
    "\n",
    "spb <- ggplot(df, aes(x=popd, y= Near.by.borehole, color=clusters)) +\n",
    "  geom_point() + \n",
    "  scale_color_manual(values=c('#4DAF4A', '#E41A1C', '#377EB8'))+ \n",
    "  labs(title=,\n",
    "       x=\"Population Density (people / sq. km of land area)\", y = \"Nearby Improved (scaled)\") +\n",
    "  geom_text_repel(\n",
    "   aes(label= Country), size = 2.5,\n",
    "     force= 1,\n",
    "      force_pull = 1,\n",
    "      angle = 0,\n",
    "      fontface = 2,\n",
    "      segment.linetype = 5,\n",
    "    max.overlaps = Inf) + theme(legend.position = \"none\") \n",
    "\n",
    "\n",
    "options(repr.plot.width=14, repr.plot.height=14)\n",
    "par(mar = c(1,1,1,1))\n",
    "par(cex=1.4)\n",
    "\n",
    "png(\n",
    "  \"scatter-popd-1.png\",\n",
    "  width     = 10,\n",
    "  height    = 10,\n",
    "  units     = \"in\",\n",
    "  res       = 700,\n",
    "  #pointsize = 6\n",
    ")\n",
    "pdf(file = \"../../docs/manuscript/pdf-image/scatter-popd-1.pdf\"\n",
    "  ,\n",
    "  width     = 14,\n",
    "  height    = 14 )\n",
    "\n",
    "grid.arrange(spd,sps,spp,spy , ncol=2, nrow=2, widths=c(5, 5), heights=c(5, 5))  \n",
    "dev.off()\n",
    "\n",
    "png(\n",
    "  \"scatter-popd-2.png\",\n",
    "  width     = 10,\n",
    "  height    = 10,\n",
    "  units     = \"in\",\n",
    "  res       = 700,\n",
    "  #pointsize = 6\n",
    ")\n",
    "pdf(file = \"../../docs/manuscript/pdf-image/scatter-popd-2.pdf\"\n",
    "  ,\n",
    "  width     = 14,\n",
    "  height    = 14 )\n",
    "grid.arrange(sppw,spns,spb,  ncol=2, nrow=2, widths=c(5, 5), heights=c(5, 5))  \n",
    "dev.off()"
   ]
  },
  {
   "cell_type": "markdown",
   "metadata": {},
   "source": [
    "# unimproved or improved comparison"
   ]
  },
  {
   "cell_type": "code",
   "execution_count": 7,
   "metadata": {
    "scrolled": false
   },
   "outputs": [
    {
     "data": {
      "text/html": [
       "<strong>png:</strong> 2"
      ],
      "text/latex": [
       "\\textbf{png:} 2"
      ],
      "text/markdown": [
       "**png:** 2"
      ],
      "text/plain": [
       "png \n",
       "  2 "
      ]
     },
     "metadata": {},
     "output_type": "display_data"
    }
   ],
   "source": [
    "df.pro = read_excel(\"../../results/dfsimple.xlsx\" ,sheet=1 )\n",
    "df.pro <- df.pro[,c(1,4,15)]\n",
    "df <- merge(x = df.class,\n",
    "              y = df.pro,\n",
    "              by = c(\"Country\"))\n",
    "df$clusters <- as.factor(df$clusters)\n",
    "df <- df[,c(1,8,5,6,9,13,12,16:17)]\n",
    "\n",
    "sp.pcar.imws <- ggplot(df, aes(x=pcar, y= imws, color=clusters)) +\n",
    "  geom_point() + \n",
    "  scale_color_manual(values=c('#4DAF4A', '#E41A1C', '#377EB8'))+ \n",
    "  labs(title=,\n",
    "       x=\"Private Car Ownership (Percent)\", y = \"Improved Households (Percent)\")+\n",
    "  geom_text_repel(\n",
    "   aes(label= Country), size = 2.5,\n",
    "     force= 1,\n",
    "      force_pull = 1,\n",
    "      angle = 0,\n",
    "      fontface = 2,\n",
    "      segment.linetype = 5,\n",
    "    max.overlaps = Inf) + theme(legend.position = \"none\") \n",
    "\n",
    "sp.cgdp.imws <- ggplot(df, aes(x=log(cgdp), y= imws, color=clusters)) +\n",
    "  geom_point() + \n",
    "  scale_color_manual(values=c('#4DAF4A', '#E41A1C', '#377EB8'))+ \n",
    "  labs(title=,\n",
    "       x=\"GDP (current US $)\", y = \"Improved Households (Percent)\")+\n",
    "  geom_text_repel(\n",
    "   aes(label= Country), size = 2.5,\n",
    "     force= 1,\n",
    "      force_pull = 1,\n",
    "      angle = 0,\n",
    "      fontface = 2,\n",
    "      segment.linetype = 5,\n",
    "    max.overlaps = Inf) + theme(legend.position = \"none\") \n",
    "\n",
    "sp.popd.imws <- ggplot(df, aes(x=popd, y= imws, color=clusters)) +\n",
    "  geom_point() + \n",
    "  scale_color_manual(values=c('#4DAF4A', '#E41A1C', '#377EB8'))+ \n",
    "  labs(title=,\n",
    "       x=\"Population Density (people/sq. km of land area)\", y = \"Improved Households (Percent)\")+\n",
    "  geom_text_repel(\n",
    "   aes(label= Country), size = 2.5,\n",
    "     force= 1,\n",
    "      force_pull = 1,\n",
    "      angle = 0,\n",
    "      fontface = 2,\n",
    "      segment.linetype = 5,\n",
    "    max.overlaps = Inf) + theme(legend.position = \"none\") \n",
    "\n",
    "sp.boat.imws <- ggplot(df, aes(x=boat, y= imws, color=clusters)) +\n",
    "  geom_point() + \n",
    "  scale_color_manual(values=c('#4DAF4A', '#E41A1C', '#377EB8'))+ \n",
    "  labs(title=,\n",
    "       x=\"Private Boat Ownership (Percent)\", y = \"Improved Households (Percent)\")+\n",
    "  geom_text_repel(\n",
    "   aes(label= Country), size = 2.5,\n",
    "     force= 1,\n",
    "      force_pull = 1,\n",
    "      angle = 0,\n",
    "      fontface = 2,\n",
    "      segment.linetype = 5,\n",
    "    max.overlaps = Inf) + theme(legend.position = \"none\") \n",
    "\n",
    "\n",
    "options(repr.plot.width=14, repr.plot.height=14)\n",
    "par(mar = c(1,1,1,1))\n",
    "par(cex=1.4)\n",
    "\n",
    "png(\n",
    "  \"scatter-improve-importance.png\",\n",
    "  width     = 10,\n",
    "  height    = 10,\n",
    "  units     = \"in\",\n",
    "  res       = 700,\n",
    "  #pointsize = 6\n",
    ")\n",
    "\n",
    "pdf(file = \"../../docs/manuscript/pdf-image/scatter-improve-importance.pdf\"\n",
    "  ,\n",
    "  width     = 14,\n",
    "  height    = 14 )\n",
    "\n",
    "\n",
    "grid.arrange(sp.pcar.imws, sp.cgdp.imws ,sp.popd.imws,sp.boat.imws ,ncol=2, nrow=2, widths=c(5,5), heights=c(5,5))  \n",
    "dev.off()\n",
    "\n"
   ]
  },
  {
   "cell_type": "markdown",
   "metadata": {},
   "source": [
    "# Transportation"
   ]
  },
  {
   "cell_type": "code",
   "execution_count": 8,
   "metadata": {},
   "outputs": [
    {
     "data": {
      "text/html": [
       "<table class=\"dataframe\">\n",
       "<caption>A data.frame: 6 × 16</caption>\n",
       "<thead>\n",
       "\t<tr><th></th><th scope=col>Country</th><th scope=col>bicy</th><th scope=col>cart</th><th scope=col>mcyc</th><th scope=col>pcar</th><th scope=col>boat</th><th scope=col>wigc</th><th scope=col>clusters</th><th scope=col>cgdp</th><th scope=col>tpop</th><th scope=col>upop</th><th scope=col>popd</th><th scope=col>land</th><th scope=col>rifr</th><th scope=col>prec</th><th scope=col>imws</th></tr>\n",
       "\t<tr><th></th><th scope=col>&lt;chr&gt;</th><th scope=col>&lt;dbl&gt;</th><th scope=col>&lt;dbl&gt;</th><th scope=col>&lt;dbl&gt;</th><th scope=col>&lt;dbl&gt;</th><th scope=col>&lt;dbl&gt;</th><th scope=col>&lt;dbl&gt;</th><th scope=col>&lt;chr&gt;</th><th scope=col>&lt;dbl&gt;</th><th scope=col>&lt;dbl&gt;</th><th scope=col>&lt;dbl&gt;</th><th scope=col>&lt;dbl&gt;</th><th scope=col>&lt;dbl&gt;</th><th scope=col>&lt;dbl&gt;</th><th scope=col>&lt;dbl&gt;</th><th scope=col>&lt;dbl&gt;</th></tr>\n",
       "</thead>\n",
       "<tbody>\n",
       "\t<tr><th scope=row>1</th><td>Afghanistan</td><td>30.0</td><td>5.8</td><td>35.2</td><td>11.8</td><td>0.0</td><td>0.1</td><td>Decentralized</td><td> 18353881130</td><td> 37172386</td><td>25.495</td><td>  56.93776</td><td> 652860</td><td>1299.0269</td><td> 327</td><td>71.2</td></tr>\n",
       "\t<tr><th scope=row>2</th><td>Albania    </td><td>26.4</td><td>3.2</td><td> 9.6</td><td>37.0</td><td>0.7</td><td>0.1</td><td>Hybrid       </td><td> 15147020535</td><td>  2866376</td><td>60.319</td><td> 104.61226</td><td>  27400</td><td>9361.5460</td><td>1485</td><td>98.4</td></tr>\n",
       "\t<tr><th scope=row>3</th><td>Angola     </td><td> 4.6</td><td>1.3</td><td>17.8</td><td>10.9</td><td>0.4</td><td>0.3</td><td>Decentralized</td><td>101353230785</td><td> 30809762</td><td>65.514</td><td>  24.71305</td><td>1246700</td><td>4963.6533</td><td>1010</td><td>66.9</td></tr>\n",
       "\t<tr><th scope=row>4</th><td>Armenia    </td><td> 8.6</td><td>0.4</td><td> 0.2</td><td>39.2</td><td>0.3</td><td>0.1</td><td>Centralized  </td><td> 12457941907</td><td>  2951776</td><td>63.149</td><td> 103.68022</td><td>  28470</td><td>2329.1833</td><td> 562</td><td>99.9</td></tr>\n",
       "\t<tr><th scope=row>5</th><td>Azerbaijan </td><td> 6.9</td><td>3.3</td><td> 1.1</td><td>20.4</td><td>0.1</td><td>0.0</td><td>Centralized  </td><td> 47112941176</td><td>  9939771</td><td>55.680</td><td> 120.23432</td><td>  82670</td><td> 823.5207</td><td> 447</td><td>90.6</td></tr>\n",
       "\t<tr><th scope=row>6</th><td>Bangladesh </td><td>25.1</td><td>0.0</td><td> 6.4</td><td> 0.8</td><td>0.0</td><td>0.3</td><td>Hybrid       </td><td>274039092455</td><td>161356039</td><td>36.632</td><td>1239.57931</td><td> 130170</td><td> 657.6039</td><td>2666</td><td>97.8</td></tr>\n",
       "</tbody>\n",
       "</table>\n"
      ],
      "text/latex": [
       "A data.frame: 6 × 16\n",
       "\\begin{tabular}{r|llllllllllllllll}\n",
       "  & Country & bicy & cart & mcyc & pcar & boat & wigc & clusters & cgdp & tpop & upop & popd & land & rifr & prec & imws\\\\\n",
       "  & <chr> & <dbl> & <dbl> & <dbl> & <dbl> & <dbl> & <dbl> & <chr> & <dbl> & <dbl> & <dbl> & <dbl> & <dbl> & <dbl> & <dbl> & <dbl>\\\\\n",
       "\\hline\n",
       "\t1 & Afghanistan & 30.0 & 5.8 & 35.2 & 11.8 & 0.0 & 0.1 & Decentralized &  18353881130 &  37172386 & 25.495 &   56.93776 &  652860 & 1299.0269 &  327 & 71.2\\\\\n",
       "\t2 & Albania     & 26.4 & 3.2 &  9.6 & 37.0 & 0.7 & 0.1 & Hybrid        &  15147020535 &   2866376 & 60.319 &  104.61226 &   27400 & 9361.5460 & 1485 & 98.4\\\\\n",
       "\t3 & Angola      &  4.6 & 1.3 & 17.8 & 10.9 & 0.4 & 0.3 & Decentralized & 101353230785 &  30809762 & 65.514 &   24.71305 & 1246700 & 4963.6533 & 1010 & 66.9\\\\\n",
       "\t4 & Armenia     &  8.6 & 0.4 &  0.2 & 39.2 & 0.3 & 0.1 & Centralized   &  12457941907 &   2951776 & 63.149 &  103.68022 &   28470 & 2329.1833 &  562 & 99.9\\\\\n",
       "\t5 & Azerbaijan  &  6.9 & 3.3 &  1.1 & 20.4 & 0.1 & 0.0 & Centralized   &  47112941176 &   9939771 & 55.680 &  120.23432 &   82670 &  823.5207 &  447 & 90.6\\\\\n",
       "\t6 & Bangladesh  & 25.1 & 0.0 &  6.4 &  0.8 & 0.0 & 0.3 & Hybrid        & 274039092455 & 161356039 & 36.632 & 1239.57931 &  130170 &  657.6039 & 2666 & 97.8\\\\\n",
       "\\end{tabular}\n"
      ],
      "text/markdown": [
       "\n",
       "A data.frame: 6 × 16\n",
       "\n",
       "| <!--/--> | Country &lt;chr&gt; | bicy &lt;dbl&gt; | cart &lt;dbl&gt; | mcyc &lt;dbl&gt; | pcar &lt;dbl&gt; | boat &lt;dbl&gt; | wigc &lt;dbl&gt; | clusters &lt;chr&gt; | cgdp &lt;dbl&gt; | tpop &lt;dbl&gt; | upop &lt;dbl&gt; | popd &lt;dbl&gt; | land &lt;dbl&gt; | rifr &lt;dbl&gt; | prec &lt;dbl&gt; | imws &lt;dbl&gt; |\n",
       "|---|---|---|---|---|---|---|---|---|---|---|---|---|---|---|---|---|\n",
       "| 1 | Afghanistan | 30.0 | 5.8 | 35.2 | 11.8 | 0.0 | 0.1 | Decentralized |  18353881130 |  37172386 | 25.495 |   56.93776 |  652860 | 1299.0269 |  327 | 71.2 |\n",
       "| 2 | Albania     | 26.4 | 3.2 |  9.6 | 37.0 | 0.7 | 0.1 | Hybrid        |  15147020535 |   2866376 | 60.319 |  104.61226 |   27400 | 9361.5460 | 1485 | 98.4 |\n",
       "| 3 | Angola      |  4.6 | 1.3 | 17.8 | 10.9 | 0.4 | 0.3 | Decentralized | 101353230785 |  30809762 | 65.514 |   24.71305 | 1246700 | 4963.6533 | 1010 | 66.9 |\n",
       "| 4 | Armenia     |  8.6 | 0.4 |  0.2 | 39.2 | 0.3 | 0.1 | Centralized   |  12457941907 |   2951776 | 63.149 |  103.68022 |   28470 | 2329.1833 |  562 | 99.9 |\n",
       "| 5 | Azerbaijan  |  6.9 | 3.3 |  1.1 | 20.4 | 0.1 | 0.0 | Centralized   |  47112941176 |   9939771 | 55.680 |  120.23432 |   82670 |  823.5207 |  447 | 90.6 |\n",
       "| 6 | Bangladesh  | 25.1 | 0.0 |  6.4 |  0.8 | 0.0 | 0.3 | Hybrid        | 274039092455 | 161356039 | 36.632 | 1239.57931 |  130170 |  657.6039 | 2666 | 97.8 |\n",
       "\n"
      ],
      "text/plain": [
       "  Country     bicy cart mcyc pcar boat wigc clusters      cgdp        \n",
       "1 Afghanistan 30.0 5.8  35.2 11.8 0.0  0.1  Decentralized  18353881130\n",
       "2 Albania     26.4 3.2   9.6 37.0 0.7  0.1  Hybrid         15147020535\n",
       "3 Angola       4.6 1.3  17.8 10.9 0.4  0.3  Decentralized 101353230785\n",
       "4 Armenia      8.6 0.4   0.2 39.2 0.3  0.1  Centralized    12457941907\n",
       "5 Azerbaijan   6.9 3.3   1.1 20.4 0.1  0.0  Centralized    47112941176\n",
       "6 Bangladesh  25.1 0.0   6.4  0.8 0.0  0.3  Hybrid        274039092455\n",
       "  tpop      upop   popd       land    rifr      prec imws\n",
       "1  37172386 25.495   56.93776  652860 1299.0269  327 71.2\n",
       "2   2866376 60.319  104.61226   27400 9361.5460 1485 98.4\n",
       "3  30809762 65.514   24.71305 1246700 4963.6533 1010 66.9\n",
       "4   2951776 63.149  103.68022   28470 2329.1833  562 99.9\n",
       "5   9939771 55.680  120.23432   82670  823.5207  447 90.6\n",
       "6 161356039 36.632 1239.57931  130170  657.6039 2666 97.8"
      ]
     },
     "metadata": {},
     "output_type": "display_data"
    }
   ],
   "source": [
    "df.veh = read_excel(\"../../results/dfsimple.xlsx\" ,sheet=1 )\n",
    "df.veh <- df.veh[,c(1,4)]\n",
    "df <- merge(x = df.class,\n",
    "              y = df.veh,\n",
    "              by = c(\"Country\"))\n",
    "head(df)"
   ]
  },
  {
   "cell_type": "code",
   "execution_count": 9,
   "metadata": {},
   "outputs": [
    {
     "data": {
      "image/png": "[encoded data removed]",
      "text/plain": [
       "plot without title"
      ]
     },
     "metadata": {
      "image/png": {
       "height": 840,
       "width": 840
      }
     },
     "output_type": "display_data"
    }
   ],
   "source": [
    "# '#E41A1C' - Red '#4DAF4A', - green  '#377EB8' - blue\n",
    "sp.bicy.imws <- ggplot(df, aes(x=bicy, y= imws, color=clusters)) +\n",
    "  geom_point() + \n",
    "  scale_color_manual(values=c('#4DAF4A','#377EB8','#E41A1C'))+ \n",
    "  labs(title=,\n",
    "       x=\"Private Bicycle Ownership (Percent)\", y = \"Households using an improved water source (Percent)\")+\n",
    "  geom_text_repel(\n",
    "   aes(label= Country), size = 2.5,\n",
    "     force= 1,\n",
    "      force_pull = 1,\n",
    "      angle = 0,\n",
    "      fontface = 2,\n",
    "      segment.linetype = 5,\n",
    "    max.overlaps = Inf) + theme(legend.position = \"none\") \n",
    "\n",
    "sp.mcyc.imws <- ggplot(df, aes(x=mcyc, y= imws, color=clusters)) +\n",
    "  geom_point() + \n",
    "  scale_color_manual(values=c('#4DAF4A','#377EB8','#E41A1C'))+ \n",
    "  labs(title=,\n",
    "       x=\"Private Motorcycle Ownership (Percent)\", y = \"Households using an improved water source (Percent)\")+\n",
    "  geom_text_repel(\n",
    "   aes(label= Country), size = 2.5,\n",
    "     force= 1,\n",
    "      force_pull = 1,\n",
    "      angle = 0,\n",
    "      fontface = 2,\n",
    "      segment.linetype = 5,\n",
    "    max.overlaps = Inf) + theme(legend.position = \"none\") \n",
    "\n",
    "sp.cart.imws <- ggplot(df, aes(x=cart, y= imws, color=clusters)) +\n",
    "  geom_point() + \n",
    "  scale_color_manual(values=c('#4DAF4A','#377EB8','#E41A1C'))+ \n",
    "  labs(title=,\n",
    "       x=\"Private Animal Drawn Cart Ownership (Percent)\", y = \"Households using an improved water source (Percent)\")+\n",
    "  geom_text_repel(\n",
    "   aes(label= Country), size = 2.5,\n",
    "     force= 1,\n",
    "      force_pull = 1,\n",
    "      angle = 0,\n",
    "      fontface = 2,\n",
    "      segment.linetype = 5,\n",
    "    max.overlaps = Inf) + theme(legend.position = \"none\") \n",
    "\n",
    "grid.arrange(sp.bicy.imws, sp.mcyc.imws ,sp.cart.imws ,ncol=2, nrow=2, widths=c(5,5), heights=c(5,5))"
   ]
  },
  {
   "cell_type": "code",
   "execution_count": null,
   "metadata": {},
   "outputs": [],
   "source": []
  }
 ],
 "metadata": {
  "kernelspec": {
   "display_name": "R",
   "language": "R",
   "name": "ir"
  },
  "language_info": {
   "codemirror_mode": "r",
   "file_extension": ".r",
   "mimetype": "text/x-r-source",
   "name": "R",
   "pygments_lexer": "r",
   "version": "4.0.2"
  }
 },
 "nbformat": 4,
 "nbformat_minor": 4
}
