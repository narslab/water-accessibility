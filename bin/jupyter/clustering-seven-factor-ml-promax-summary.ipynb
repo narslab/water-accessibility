{
 "cells": [
  {
   "cell_type": "code",
   "execution_count": 110,
   "metadata": {},
   "outputs": [],
   "source": [
    "library(readxl)\n",
    "library(tidyverse) #data Manipulation\n",
    "library(magrittr)\n",
    "library(cluster) #Clustering algorithms\n",
    "#install.packages('cluster.datasets')\n",
    "library(cluster.datasets)\n",
    "library(cowplot)\n",
    "#install.packages('clValid')\n",
    "library(clValid)\n",
    "#install.packages('ggfortify')\n",
    "library(ggfortify)\n",
    "#install.packages('clustree')\n",
    "library(clustree)\n",
    "library(factoextra)#Clustering Algorithms & Visualization\n",
    "library(FactoMineR)\n",
    "library(gridExtra)\n",
    "library(corrplot)\n",
    "#install.packages(\"dendextend\")\n",
    "#install.packages(\"ggplot2\")\n",
    "#install.packages(\"rlang\")\n",
    "library(dendextend) # For fancy deprograms\n",
    "library(rlang) # clustering cutting\n",
    "#install.packages('NbClust')\n",
    "library(NbClust)\n",
    "#install.packages('writexl')\n",
    "library(writexl)\n",
    "library(GGally)\n",
    "#install.packages('ggiraphExtra')\n",
    "library(ggiraphExtra)\n",
    "library(knitr)\n",
    "library(kableExtra)\n",
    "library(\"RColorBrewer\")\n",
    "\n",
    "#for typology analysis\n",
    "library(readxl)\n",
    "library(ggplot2)\n",
    "library(\"FactoMineR\")\n",
    "library(tidyverse) #data Manipulation\n",
    "library(cluster) #Clustering algorithms\n",
    "library(factoextra)#Clustering Algorithms & Visualization\n",
    "library(gridExtra)\n",
    "#install.packages(\"dendextend\")\n",
    "#install.packages(\"ggplot2\")\n",
    "#install.packages(\"rlang\")\n",
    "library(dendextend) # For fancy deprograms\n",
    "library(rlang) # clustering cutting\n",
    "library(\"np\") #npreg: you may need to install it\n",
    "library(PerformanceAnalytics)\n",
    "library(psych)\n",
    "#install.packages('fmsb')\n",
    "library(fmsb) #For Spider Plots\n",
    "#install.packages('countrycode')\n",
    "library(countrycode)\n",
    "#install.packages(c('hrbrthemes','viridis'))\n",
    "#library(hrbrthemes)\n",
    "#library(viridis)\n",
    "#install.packages('GGally')\n",
    "library(GGally)\n",
    "library(dplyr)\n",
    "library(ggmap)\n",
    "library(leaflet)\n",
    "library(htmltools)\n",
    "library(dplyr) #getMap()\n",
    "library(rgeos)\n",
    "#install.packages('rworldmap')\n",
    "library(rworldmap) #joinCountryData2Map\n",
    "library(grid)\n",
    "library(tidyr)\n",
    "#install.packages(c(\"cowplot\", \"googleway\", \"ggplot2\", \"ggrepel\", \"ggspatial\", \"sf\", \"rnaturalearth\", \"rnaturalearthdata\"))\n",
    "library(\"sf\")\n",
    "library(\"rnaturalearth\")\n",
    "library(\"rnaturalearthdata\")\n",
    "#install.packages('writexl')\n",
    "library(writexl)\n",
    "library(\"RColorBrewer\")\n",
    "\n",
    "#install.packages('randomForest')\n",
    "library(readxl)\n",
    "library(randomForest)\n",
    "library(readxl)\n",
    "library(tidyverse)\n",
    "#install.packages('dplyr')\n",
    "library(dplyr)\n",
    "#install.packages('caret')\n",
    "library(Rcpp)\n",
    "library(caret)\n",
    "library(rpart)\n",
    "#install.packages('tree')\n",
    "library(tree)\n",
    "#install.packages('multcomp')\n",
    "library(multcomp)\n",
    "#install.packages('party')\n",
    "library(party)\n",
    "library(tree)\n",
    "#install.packages('Metrics')\n",
    "library(Metrics)\n",
    "#install.packages('reprtree')\n",
    "#devtools::install_github(\"MI2DataLab/randomForestExplainer\")\n",
    "#install.packages('randomForestExplainer')\n",
    "library(randomForestExplainer)\n",
    "#install.packages(\"scales\")\n",
    "library(scales)\n"
   ]
  },
  {
   "cell_type": "markdown",
   "metadata": {},
   "source": [
    "# Optimization Clustering"
   ]
  },
  {
   "cell_type": "code",
   "execution_count": 115,
   "metadata": {
    "scrolled": false
   },
   "outputs": [
    {
     "data": {
      "text/html": [
       "<table class=\"dataframe\">\n",
       "<caption>A tibble: 7 × 8</caption>\n",
       "<thead>\n",
       "\t<tr><th scope=col>Country</th><th scope=col>dugwell</th><th scope=col>spring</th><th scope=col>piped_home</th><th scope=col>piped_yard_tap</th><th scope=col>cheap_commercial</th><th scope=col>surface_water</th><th scope=col>thirthy_min_less_travel</th></tr>\n",
       "\t<tr><th scope=col>&lt;chr&gt;</th><th scope=col>&lt;dbl&gt;</th><th scope=col>&lt;dbl&gt;</th><th scope=col>&lt;dbl&gt;</th><th scope=col>&lt;dbl&gt;</th><th scope=col>&lt;dbl&gt;</th><th scope=col>&lt;dbl&gt;</th><th scope=col>&lt;dbl&gt;</th></tr>\n",
       "</thead>\n",
       "<tbody>\n",
       "\t<tr><td>Afghanistan</td><td>0.572418217</td><td>0.27948505</td><td>0.4740642</td><td>0.48905269</td><td>0.3327190</td><td>0.6406390</td><td>0.5244550</td></tr>\n",
       "\t<tr><td>Albania    </td><td>0.173347287</td><td>0.16631234</td><td>0.7812555</td><td>0.21604457</td><td>0.3179487</td><td>0.2668756</td><td>0.5813036</td></tr>\n",
       "\t<tr><td>Angola     </td><td>0.555402896</td><td>0.26567935</td><td>0.6221088</td><td>0.51799504</td><td>0.4010244</td><td>0.8739405</td><td>0.4280040</td></tr>\n",
       "\t<tr><td>Armenia    </td><td>0.006249719</td><td>0.01802207</td><td>0.9992766</td><td>0.05567089</td><td>0.0000000</td><td>0.1978413</td><td>0.5088645</td></tr>\n",
       "\t<tr><td>Azerbaijan </td><td>0.172305543</td><td>0.17209406</td><td>0.6946237</td><td>0.41693952</td><td>0.2060016</td><td>0.4634648</td><td>0.4247652</td></tr>\n",
       "\t<tr><td>Bangladesh </td><td>0.116506831</td><td>0.08746231</td><td>0.0000000</td><td>0.29168400</td><td>0.1829046</td><td>0.1907371</td><td>0.5876124</td></tr>\n",
       "\t<tr><td>Benin      </td><td>0.637942432</td><td>0.21134166</td><td>0.4559905</td><td>0.49267200</td><td>0.2827230</td><td>0.4847495</td><td>0.6788342</td></tr>\n",
       "</tbody>\n",
       "</table>\n"
      ],
      "text/latex": [
       "A tibble: 7 × 8\n",
       "\\begin{tabular}{llllllll}\n",
       " Country & dugwell & spring & piped\\_home & piped\\_yard\\_tap & cheap\\_commercial & surface\\_water & thirthy\\_min\\_less\\_travel\\\\\n",
       " <chr> & <dbl> & <dbl> & <dbl> & <dbl> & <dbl> & <dbl> & <dbl>\\\\\n",
       "\\hline\n",
       "\t Afghanistan & 0.572418217 & 0.27948505 & 0.4740642 & 0.48905269 & 0.3327190 & 0.6406390 & 0.5244550\\\\\n",
       "\t Albania     & 0.173347287 & 0.16631234 & 0.7812555 & 0.21604457 & 0.3179487 & 0.2668756 & 0.5813036\\\\\n",
       "\t Angola      & 0.555402896 & 0.26567935 & 0.6221088 & 0.51799504 & 0.4010244 & 0.8739405 & 0.4280040\\\\\n",
       "\t Armenia     & 0.006249719 & 0.01802207 & 0.9992766 & 0.05567089 & 0.0000000 & 0.1978413 & 0.5088645\\\\\n",
       "\t Azerbaijan  & 0.172305543 & 0.17209406 & 0.6946237 & 0.41693952 & 0.2060016 & 0.4634648 & 0.4247652\\\\\n",
       "\t Bangladesh  & 0.116506831 & 0.08746231 & 0.0000000 & 0.29168400 & 0.1829046 & 0.1907371 & 0.5876124\\\\\n",
       "\t Benin       & 0.637942432 & 0.21134166 & 0.4559905 & 0.49267200 & 0.2827230 & 0.4847495 & 0.6788342\\\\\n",
       "\\end{tabular}\n"
      ],
      "text/markdown": [
       "\n",
       "A tibble: 7 × 8\n",
       "\n",
       "| Country &lt;chr&gt; | dugwell &lt;dbl&gt; | spring &lt;dbl&gt; | piped_home &lt;dbl&gt; | piped_yard_tap &lt;dbl&gt; | cheap_commercial &lt;dbl&gt; | surface_water &lt;dbl&gt; | thirthy_min_less_travel &lt;dbl&gt; |\n",
       "|---|---|---|---|---|---|---|---|\n",
       "| Afghanistan | 0.572418217 | 0.27948505 | 0.4740642 | 0.48905269 | 0.3327190 | 0.6406390 | 0.5244550 |\n",
       "| Albania     | 0.173347287 | 0.16631234 | 0.7812555 | 0.21604457 | 0.3179487 | 0.2668756 | 0.5813036 |\n",
       "| Angola      | 0.555402896 | 0.26567935 | 0.6221088 | 0.51799504 | 0.4010244 | 0.8739405 | 0.4280040 |\n",
       "| Armenia     | 0.006249719 | 0.01802207 | 0.9992766 | 0.05567089 | 0.0000000 | 0.1978413 | 0.5088645 |\n",
       "| Azerbaijan  | 0.172305543 | 0.17209406 | 0.6946237 | 0.41693952 | 0.2060016 | 0.4634648 | 0.4247652 |\n",
       "| Bangladesh  | 0.116506831 | 0.08746231 | 0.0000000 | 0.29168400 | 0.1829046 | 0.1907371 | 0.5876124 |\n",
       "| Benin       | 0.637942432 | 0.21134166 | 0.4559905 | 0.49267200 | 0.2827230 | 0.4847495 | 0.6788342 |\n",
       "\n"
      ],
      "text/plain": [
       "  Country     dugwell     spring     piped_home piped_yard_tap cheap_commercial\n",
       "1 Afghanistan 0.572418217 0.27948505 0.4740642  0.48905269     0.3327190       \n",
       "2 Albania     0.173347287 0.16631234 0.7812555  0.21604457     0.3179487       \n",
       "3 Angola      0.555402896 0.26567935 0.6221088  0.51799504     0.4010244       \n",
       "4 Armenia     0.006249719 0.01802207 0.9992766  0.05567089     0.0000000       \n",
       "5 Azerbaijan  0.172305543 0.17209406 0.6946237  0.41693952     0.2060016       \n",
       "6 Bangladesh  0.116506831 0.08746231 0.0000000  0.29168400     0.1829046       \n",
       "7 Benin       0.637942432 0.21134166 0.4559905  0.49267200     0.2827230       \n",
       "  surface_water thirthy_min_less_travel\n",
       "1 0.6406390     0.5244550              \n",
       "2 0.2668756     0.5813036              \n",
       "3 0.8739405     0.4280040              \n",
       "4 0.1978413     0.5088645              \n",
       "5 0.4634648     0.4247652              \n",
       "6 0.1907371     0.5876124              \n",
       "7 0.4847495     0.6788342              "
      ]
     },
     "metadata": {},
     "output_type": "display_data"
    },
    {
     "data": {
      "text/plain": [
       "   Country             dugwell           spring         piped_home    \n",
       " Length:73          Min.   :0.0000   Min.   :0.0000   Min.   :0.0000  \n",
       " Class :character   1st Qu.:0.1733   1st Qu.:0.1649   1st Qu.:0.4645  \n",
       " Mode  :character   Median :0.4295   Median :0.2146   Median :0.5688  \n",
       "                    Mean   :0.3889   Mean   :0.2571   Mean   :0.5841  \n",
       "                    3rd Qu.:0.5554   3rd Qu.:0.3083   3rd Qu.:0.7118  \n",
       "                    Max.   :1.0000   Max.   :1.0000   Max.   :1.0000  \n",
       " piped_yard_tap   cheap_commercial surface_water    thirthy_min_less_travel\n",
       " Min.   :0.0000   Min.   :0.0000   Min.   :0.0000   Min.   :0.0000         \n",
       " 1st Qu.:0.3541   1st Qu.:0.2178   1st Qu.:0.2499   1st Qu.:0.4500         \n",
       " Median :0.4891   Median :0.2774   Median :0.3684   Median :0.5759         \n",
       " Mean   :0.4636   Mean   :0.2970   Mean   :0.3939   Mean   :0.5628         \n",
       " 3rd Qu.:0.5929   3rd Qu.:0.3286   3rd Qu.:0.5159   3rd Qu.:0.6788         \n",
       " Max.   :1.0000   Max.   :1.0000   Max.   :1.0000   Max.   :1.0000         "
      ]
     },
     "metadata": {},
     "output_type": "display_data"
    },
    {
     "data": {
      "image/png": "[encoded data removed]",
      "text/plain": [
       "Plot with title \"Countries\""
      ]
     },
     "metadata": {
      "image/png": {
       "height": 420,
       "width": 900
      }
     },
     "output_type": "display_data"
    },
    {
     "name": "stdout",
     "output_type": "stream",
     "text": [
      "*** : The Hubert index is a graphical method of determining the number of clusters.\n",
      "                In the plot of Hubert index, we seek a significant knee that corresponds to a \n",
      "                significant increase of the value of the measure i.e the significant peak in Hubert\n",
      "                index second differences plot. \n",
      " \n"
     ]
    },
    {
     "data": {
      "image/png": "[encoded data removed]",
      "text/plain": [
       "plot without title"
      ]
     },
     "metadata": {
      "image/png": {
       "height": 420,
       "width": 900
      }
     },
     "output_type": "display_data"
    },
    {
     "name": "stdout",
     "output_type": "stream",
     "text": [
      "*** : The D index is a graphical method of determining the number of clusters. \n",
      "                In the plot of D index, we seek a significant knee (the significant peak in Dindex\n",
      "                second differences plot) that corresponds to a significant increase of the value of\n",
      "                the measure. \n",
      " \n",
      "******************************************************************* \n",
      "* Among all indices:                                                \n",
      "* 7 proposed 3 as the best number of clusters \n",
      "* 4 proposed 4 as the best number of clusters \n",
      "* 3 proposed 5 as the best number of clusters \n",
      "* 3 proposed 6 as the best number of clusters \n",
      "* 10 proposed 7 as the best number of clusters \n",
      "\n",
      "                   ***** Conclusion *****                            \n",
      " \n",
      "* According to the majority rule, the best number of clusters is  7 \n",
      " \n",
      " \n",
      "******************************************************************* \n"
     ]
    },
    {
     "name": "stderr",
     "output_type": "stream",
     "text": [
      "Warning message in if (class(best_nc) == \"numeric\") print(best_nc) else if (class(best_nc) == :\n",
      "\"the condition has length > 1 and only the first element will be used\"\n",
      "Warning message in if (class(best_nc) == \"matrix\") .viz_NbClust(x, print.summary, :\n",
      "\"the condition has length > 1 and only the first element will be used\"\n",
      "Warning message in if (class(best_nc) == \"numeric\") print(best_nc) else if (class(best_nc) == :\n",
      "\"the condition has length > 1 and only the first element will be used\"\n",
      "Warning message in if (class(best_nc) == \"matrix\") {:\n",
      "\"the condition has length > 1 and only the first element will be used\"\n"
     ]
    },
    {
     "name": "stdout",
     "output_type": "stream",
     "text": [
      "Among all indices: \n",
      "===================\n",
      "* 2 proposed  0 as the best number of clusters\n",
      "* 1 proposed  2 as the best number of clusters\n",
      "* 7 proposed  3 as the best number of clusters\n",
      "* 4 proposed  4 as the best number of clusters\n",
      "* 3 proposed  5 as the best number of clusters\n",
      "* 3 proposed  6 as the best number of clusters\n",
      "* 10 proposed  7 as the best number of clusters\n",
      "\n",
      "Conclusion\n",
      "=========================\n",
      "* According to the majority rule, the best number of clusters is  7 .\n",
      "\n"
     ]
    },
    {
     "data": {
      "image/png": "[encoded data removed]",
      "text/plain": [
       "plot without title"
      ]
     },
     "metadata": {
      "image/png": {
       "height": 420,
       "width": 900
      }
     },
     "output_type": "display_data"
    },
    {
     "data": {
      "text/html": [
       "<table class=\"dataframe\">\n",
       "<caption>A matrix: 7 × 2 of type int</caption>\n",
       "<thead>\n",
       "\t<tr><th></th><th scope=col>row</th><th scope=col>col</th></tr>\n",
       "</thead>\n",
       "<tbody>\n",
       "\t<tr><th scope=row>Number_clusters</th><td>1</td><td> 2</td></tr>\n",
       "\t<tr><th scope=row>Number_clusters</th><td>1</td><td> 4</td></tr>\n",
       "\t<tr><th scope=row>Number_clusters</th><td>1</td><td>14</td></tr>\n",
       "\t<tr><th scope=row>Number_clusters</th><td>1</td><td>15</td></tr>\n",
       "\t<tr><th scope=row>Number_clusters</th><td>1</td><td>17</td></tr>\n",
       "\t<tr><th scope=row>Number_clusters</th><td>1</td><td>20</td></tr>\n",
       "\t<tr><th scope=row>Number_clusters</th><td>1</td><td>22</td></tr>\n",
       "</tbody>\n",
       "</table>\n"
      ],
      "text/latex": [
       "A matrix: 7 × 2 of type int\n",
       "\\begin{tabular}{r|ll}\n",
       "  & row & col\\\\\n",
       "\\hline\n",
       "\tNumber\\_clusters & 1 &  2\\\\\n",
       "\tNumber\\_clusters & 1 &  4\\\\\n",
       "\tNumber\\_clusters & 1 & 14\\\\\n",
       "\tNumber\\_clusters & 1 & 15\\\\\n",
       "\tNumber\\_clusters & 1 & 17\\\\\n",
       "\tNumber\\_clusters & 1 & 20\\\\\n",
       "\tNumber\\_clusters & 1 & 22\\\\\n",
       "\\end{tabular}\n"
      ],
      "text/markdown": [
       "\n",
       "A matrix: 7 × 2 of type int\n",
       "\n",
       "| <!--/--> | row | col |\n",
       "|---|---|---|\n",
       "| Number_clusters | 1 |  2 |\n",
       "| Number_clusters | 1 |  4 |\n",
       "| Number_clusters | 1 | 14 |\n",
       "| Number_clusters | 1 | 15 |\n",
       "| Number_clusters | 1 | 17 |\n",
       "| Number_clusters | 1 | 20 |\n",
       "| Number_clusters | 1 | 22 |\n",
       "\n"
      ],
      "text/plain": [
       "                row col\n",
       "Number_clusters 1    2 \n",
       "Number_clusters 1    4 \n",
       "Number_clusters 1   14 \n",
       "Number_clusters 1   15 \n",
       "Number_clusters 1   17 \n",
       "Number_clusters 1   20 \n",
       "Number_clusters 1   22 "
      ]
     },
     "metadata": {},
     "output_type": "display_data"
    },
    {
     "data": {
      "text/html": [
       "<ol>\n",
       "\t<li><table class=\"dataframe\">\n",
       "<caption>A matrix: 2 × 30 of type dbl</caption>\n",
       "<thead>\n",
       "\t<tr><th></th><th scope=col>KL</th><th scope=col>CH</th><th scope=col>Hartigan</th><th scope=col>CCC</th><th scope=col>Scott</th><th scope=col>Marriot</th><th scope=col>TrCovW</th><th scope=col>TraceW</th><th scope=col>Friedman</th><th scope=col>Rubin</th><th scope=col>...</th><th scope=col>Frey</th><th scope=col>McClain</th><th scope=col>Gamma</th><th scope=col>Gplus</th><th scope=col>Tau</th><th scope=col>Dunn</th><th scope=col>Hubert</th><th scope=col>SDindex</th><th scope=col>Dindex</th><th scope=col>SDbw</th></tr>\n",
       "</thead>\n",
       "<tbody>\n",
       "\t<tr><th scope=row>Number_clusters</th><td>6.0000</td><td> 3.000</td><td>6.0000</td><td>3.0000</td><td> 7.0000</td><td> 5.0000</td><td>4.0000</td><td>5.0000</td><td> 7.000</td><td>6.0000</td><td>...</td><td> 2</td><td>3.0000</td><td>7.0000</td><td> 7.000</td><td>  4.0000</td><td>5.0000</td><td>0</td><td>7.0000</td><td>0</td><td>7.0000</td></tr>\n",
       "\t<tr><th scope=row>Value_Index</th><td>1.1396</td><td>23.663</td><td>1.0645</td><td>8.6425</td><td>94.8835</td><td>21.3329</td><td>0.7158</td><td>0.2327</td><td>36.022</td><td>0.0462</td><td>...</td><td>NA</td><td>1.1244</td><td>0.7877</td><td>47.511</td><td>378.5274</td><td>0.2622</td><td>0</td><td>5.9121</td><td>0</td><td>0.3923</td></tr>\n",
       "</tbody>\n",
       "</table>\n",
       "</li>\n",
       "</ol>\n"
      ],
      "text/latex": [
       "\\begin{enumerate}\n",
       "\\item A matrix: 2 × 30 of type dbl\n",
       "\\begin{tabular}{r|lllllllllllllllllllll}\n",
       "  & KL & CH & Hartigan & CCC & Scott & Marriot & TrCovW & TraceW & Friedman & Rubin & ... & Frey & McClain & Gamma & Gplus & Tau & Dunn & Hubert & SDindex & Dindex & SDbw\\\\\n",
       "\\hline\n",
       "\tNumber\\_clusters & 6.0000 &  3.000 & 6.0000 & 3.0000 &  7.0000 &  5.0000 & 4.0000 & 5.0000 &  7.000 & 6.0000 & ... &  2 & 3.0000 & 7.0000 &  7.000 &   4.0000 & 5.0000 & 0 & 7.0000 & 0 & 7.0000\\\\\n",
       "\tValue\\_Index & 1.1396 & 23.663 & 1.0645 & 8.6425 & 94.8835 & 21.3329 & 0.7158 & 0.2327 & 36.022 & 0.0462 & ... & NA & 1.1244 & 0.7877 & 47.511 & 378.5274 & 0.2622 & 0 & 5.9121 & 0 & 0.3923\\\\\n",
       "\\end{tabular}\n",
       "\n",
       "\\end{enumerate}\n"
      ],
      "text/markdown": [
       "1. \n",
       "A matrix: 2 × 30 of type dbl\n",
       "\n",
       "| <!--/--> | KL | CH | Hartigan | CCC | Scott | Marriot | TrCovW | TraceW | Friedman | Rubin | ... | Frey | McClain | Gamma | Gplus | Tau | Dunn | Hubert | SDindex | Dindex | SDbw |\n",
       "|---|---|---|---|---|---|---|---|---|---|---|---|---|---|---|---|---|---|---|---|---|---|\n",
       "| Number_clusters | 6.0000 |  3.000 | 6.0000 | 3.0000 |  7.0000 |  5.0000 | 4.0000 | 5.0000 |  7.000 | 6.0000 | ... |  2 | 3.0000 | 7.0000 |  7.000 |   4.0000 | 5.0000 | 0 | 7.0000 | 0 | 7.0000 |\n",
       "| Value_Index | 1.1396 | 23.663 | 1.0645 | 8.6425 | 94.8835 | 21.3329 | 0.7158 | 0.2327 | 36.022 | 0.0462 | ... | NA | 1.1244 | 0.7877 | 47.511 | 378.5274 | 0.2622 | 0 | 5.9121 | 0 | 0.3923 |\n",
       "\n",
       "\n",
       "\n",
       "\n"
      ],
      "text/plain": [
       "[[1]]\n",
       "                    KL     CH Hartigan    CCC   Scott Marriot TrCovW TraceW\n",
       "Number_clusters 6.0000  3.000   6.0000 3.0000  7.0000  5.0000 4.0000 5.0000\n",
       "Value_Index     1.1396 23.663   1.0645 8.6425 94.8835 21.3329 0.7158 0.2327\n",
       "                Friedman  Rubin Cindex    DB Silhouette   Duda PseudoT2  Beale\n",
       "Number_clusters    7.000 6.0000 7.0000 7.000     7.0000 3.0000    3.000 4.0000\n",
       "Value_Index       36.022 0.0462 0.3571 1.183     0.2853 0.6357   11.461 1.3306\n",
       "                Ratkowsky   Ball PtBiserial     Gap Frey McClain  Gamma  Gplus\n",
       "Number_clusters    3.0000 4.0000     7.0000  3.0000    2  3.0000 7.0000  7.000\n",
       "Value_Index        0.3495 1.3044     0.5666 -0.9487   NA  1.1244 0.7877 47.511\n",
       "                     Tau   Dunn Hubert SDindex Dindex   SDbw\n",
       "Number_clusters   4.0000 5.0000      0  7.0000      0 7.0000\n",
       "Value_Index     378.5274 0.2622      0  5.9121      0 0.3923\n"
      ]
     },
     "metadata": {},
     "output_type": "display_data"
    },
    {
     "data": {
      "text/html": [
       "<ol>\n",
       "\t<li><table class=\"dataframe\">\n",
       "<caption>A matrix: 2 × 7 of type dbl</caption>\n",
       "<thead>\n",
       "\t<tr><th></th><th scope=col>Scott</th><th scope=col>Marriot</th><th scope=col>TrCovW</th><th scope=col>TraceW</th><th scope=col>Ratkowsky</th><th scope=col>Ball</th><th scope=col>Tau</th></tr>\n",
       "</thead>\n",
       "<tbody>\n",
       "\t<tr><th scope=row>Number_clusters</th><td> 7.0000</td><td> 5.0000</td><td>4.0000</td><td>5.0000</td><td>3.0000</td><td>4.0000</td><td>  4.0000</td></tr>\n",
       "\t<tr><th scope=row>Value_Index</th><td>94.8835</td><td>21.3329</td><td>0.7158</td><td>0.2327</td><td>0.3495</td><td>1.3044</td><td>378.5274</td></tr>\n",
       "</tbody>\n",
       "</table>\n",
       "</li>\n",
       "</ol>\n"
      ],
      "text/latex": [
       "\\begin{enumerate}\n",
       "\\item A matrix: 2 × 7 of type dbl\n",
       "\\begin{tabular}{r|lllllll}\n",
       "  & Scott & Marriot & TrCovW & TraceW & Ratkowsky & Ball & Tau\\\\\n",
       "\\hline\n",
       "\tNumber\\_clusters &  7.0000 &  5.0000 & 4.0000 & 5.0000 & 3.0000 & 4.0000 &   4.0000\\\\\n",
       "\tValue\\_Index & 94.8835 & 21.3329 & 0.7158 & 0.2327 & 0.3495 & 1.3044 & 378.5274\\\\\n",
       "\\end{tabular}\n",
       "\n",
       "\\end{enumerate}\n"
      ],
      "text/markdown": [
       "1. \n",
       "A matrix: 2 × 7 of type dbl\n",
       "\n",
       "| <!--/--> | Scott | Marriot | TrCovW | TraceW | Ratkowsky | Ball | Tau |\n",
       "|---|---|---|---|---|---|---|---|\n",
       "| Number_clusters |  7.0000 |  5.0000 | 4.0000 | 5.0000 | 3.0000 | 4.0000 |   4.0000 |\n",
       "| Value_Index | 94.8835 | 21.3329 | 0.7158 | 0.2327 | 0.3495 | 1.3044 | 378.5274 |\n",
       "\n",
       "\n",
       "\n",
       "\n"
      ],
      "text/plain": [
       "[[1]]\n",
       "                  Scott Marriot TrCovW TraceW Ratkowsky   Ball      Tau\n",
       "Number_clusters  7.0000  5.0000 4.0000 5.0000    3.0000 4.0000   4.0000\n",
       "Value_Index     94.8835 21.3329 0.7158 0.2327    0.3495 1.3044 378.5274\n"
      ]
     },
     "metadata": {},
     "output_type": "display_data"
    },
    {
     "data": {
      "text/html": [
       "<ol>\n",
       "\t<li><table class=\"dataframe\">\n",
       "<caption>A matrix: 5 × 7 of type dbl</caption>\n",
       "<thead>\n",
       "\t<tr><th></th><th scope=col>Scott</th><th scope=col>Marriot</th><th scope=col>TrCovW</th><th scope=col>TraceW</th><th scope=col>Ratkowsky</th><th scope=col>Ball</th><th scope=col>Tau</th></tr>\n",
       "</thead>\n",
       "<tbody>\n",
       "\t<tr><th scope=row>3</th><td>517.0165</td><td>106.0904</td><td>3.5901</td><td>11.5193</td><td>0.3495</td><td>3.8398</td><td>370.3607</td></tr>\n",
       "\t<tr><th scope=row>4</th><td>576.6895</td><td> 83.2808</td><td>2.8743</td><td>10.1416</td><td>0.3334</td><td>2.5354</td><td>378.5274</td></tr>\n",
       "\t<tr><th scope=row>5</th><td>653.9166</td><td> 45.1776</td><td>2.2740</td><td> 8.8331</td><td>0.3222</td><td>1.7666</td><td>363.8006</td></tr>\n",
       "\t<tr><th scope=row>6</th><td>714.4043</td><td> 28.4073</td><td>1.7526</td><td> 7.7574</td><td>0.3092</td><td>1.2929</td><td>355.5244</td></tr>\n",
       "\t<tr><th scope=row>7</th><td>809.2878</td><td> 10.5399</td><td>1.4981</td><td> 6.8963</td><td>0.3015</td><td>0.9852</td><td>352.4787</td></tr>\n",
       "</tbody>\n",
       "</table>\n",
       "</li>\n",
       "</ol>\n"
      ],
      "text/latex": [
       "\\begin{enumerate}\n",
       "\\item A matrix: 5 × 7 of type dbl\n",
       "\\begin{tabular}{r|lllllll}\n",
       "  & Scott & Marriot & TrCovW & TraceW & Ratkowsky & Ball & Tau\\\\\n",
       "\\hline\n",
       "\t3 & 517.0165 & 106.0904 & 3.5901 & 11.5193 & 0.3495 & 3.8398 & 370.3607\\\\\n",
       "\t4 & 576.6895 &  83.2808 & 2.8743 & 10.1416 & 0.3334 & 2.5354 & 378.5274\\\\\n",
       "\t5 & 653.9166 &  45.1776 & 2.2740 &  8.8331 & 0.3222 & 1.7666 & 363.8006\\\\\n",
       "\t6 & 714.4043 &  28.4073 & 1.7526 &  7.7574 & 0.3092 & 1.2929 & 355.5244\\\\\n",
       "\t7 & 809.2878 &  10.5399 & 1.4981 &  6.8963 & 0.3015 & 0.9852 & 352.4787\\\\\n",
       "\\end{tabular}\n",
       "\n",
       "\\end{enumerate}\n"
      ],
      "text/markdown": [
       "1. \n",
       "A matrix: 5 × 7 of type dbl\n",
       "\n",
       "| <!--/--> | Scott | Marriot | TrCovW | TraceW | Ratkowsky | Ball | Tau |\n",
       "|---|---|---|---|---|---|---|---|\n",
       "| 3 | 517.0165 | 106.0904 | 3.5901 | 11.5193 | 0.3495 | 3.8398 | 370.3607 |\n",
       "| 4 | 576.6895 |  83.2808 | 2.8743 | 10.1416 | 0.3334 | 2.5354 | 378.5274 |\n",
       "| 5 | 653.9166 |  45.1776 | 2.2740 |  8.8331 | 0.3222 | 1.7666 | 363.8006 |\n",
       "| 6 | 714.4043 |  28.4073 | 1.7526 |  7.7574 | 0.3092 | 1.2929 | 355.5244 |\n",
       "| 7 | 809.2878 |  10.5399 | 1.4981 |  6.8963 | 0.3015 | 0.9852 | 352.4787 |\n",
       "\n",
       "\n",
       "\n",
       "\n"
      ],
      "text/plain": [
       "[[1]]\n",
       "     Scott  Marriot TrCovW  TraceW Ratkowsky   Ball      Tau\n",
       "3 517.0165 106.0904 3.5901 11.5193    0.3495 3.8398 370.3607\n",
       "4 576.6895  83.2808 2.8743 10.1416    0.3334 2.5354 378.5274\n",
       "5 653.9166  45.1776 2.2740  8.8331    0.3222 1.7666 363.8006\n",
       "6 714.4043  28.4073 1.7526  7.7574    0.3092 1.2929 355.5244\n",
       "7 809.2878  10.5399 1.4981  6.8963    0.3015 0.9852 352.4787\n"
      ]
     },
     "metadata": {},
     "output_type": "display_data"
    },
    {
     "data": {
      "image/png": "[encoded data removed]",
      "text/plain": [
       "plot without title"
      ]
     },
     "metadata": {
      "image/png": {
       "height": 420,
       "width": 900
      }
     },
     "output_type": "display_data"
    }
   ],
   "source": [
    "df.wa <- read_excel(\"../../results/df-seven-scores.xlsx\",sheet=1)\n",
    "head(df.wa,7)\n",
    "summary(df.wa)\n",
    "#Clustering using the optimal method\n",
    "df <- df.wa[,c(2:8)]\n",
    "hc.ward2=hclust(dist(df), method =\"ward.D2\")\n",
    "\n",
    "options(repr.plot.width=15, repr.plot.height=7)\n",
    "plot(hc.ward2, main=\"Countries\", xlab=\"\", \n",
    "     ylab=\"\", cex=.9, labels=df.wa$Country)\n",
    "\n",
    "#best cuts\n",
    "optimald2 = NbClust(data= df, distance = \"euclidean\", min.nc = 3, max.nc = 7, method = \"ward.D2\", index = \"alllong\" ,alphaBeale = 0.1)\n",
    "factoextra::fviz_nbclust(optimald2) + theme_minimal() + ggtitle(\"NbClust's optimal number of clusters\")\n",
    "\n",
    "#Show the indices to verify the best cuts\n",
    "which(optimald2$Best.nc == 3, arr.ind=TRUE)\n",
    "list(optimald2$Best.nc)\n",
    "list(optimald2$Best.nc[,c(5:8,17,18,25)])\n",
    "#list(optimald$Best.nc)\n",
    "#list(optimalcomplete$Best.nc)\n",
    "#list(optimal.kmeans$Best.nc)\n",
    "list(optimald2$All.index[,c(5:8,17,18,25)])\n",
    "\n"
   ]
  },
  {
   "cell_type": "code",
   "execution_count": 112,
   "metadata": {},
   "outputs": [
    {
     "data": {
      "image/png": "[encoded data removed]",
      "text/plain": [
       "plot without title"
      ]
     },
     "metadata": {
      "image/png": {
       "height": 420,
       "width": 900
      }
     },
     "output_type": "display_data"
    }
   ],
   "source": [
    "set.seed(123)\n",
    "gap_stat <- clusGap(df.wa[,c(2:8)], hcut, hc_method =\"ward.D2\" ,\n",
    "                   K.max = 10, B = 1000,  method = 'Tibs2001SEmax')\n",
    "fviz_gap_stat(gap_stat)\n",
    "\n"
   ]
  },
  {
   "cell_type": "code",
   "execution_count": 113,
   "metadata": {
    "scrolled": false
   },
   "outputs": [
    {
     "data": {
      "text/html": [
       "<style>\n",
       ".list-inline {list-style: none; margin:0; padding: 0}\n",
       ".list-inline>li {display: inline-block}\n",
       ".list-inline>li:not(:last-child)::after {content: \"\\00b7\"; padding: 0 .5ex}\n",
       "</style>\n",
       "<ol class=list-inline><li>'#1B9E77'</li><li>'#D95F02'</li><li>'#7570B3'</li></ol>\n"
      ],
      "text/latex": [
       "\\begin{enumerate*}\n",
       "\\item '\\#1B9E77'\n",
       "\\item '\\#D95F02'\n",
       "\\item '\\#7570B3'\n",
       "\\end{enumerate*}\n"
      ],
      "text/markdown": [
       "1. '#1B9E77'\n",
       "2. '#D95F02'\n",
       "3. '#7570B3'\n",
       "\n",
       "\n"
      ],
      "text/plain": [
       "[1] \"#1B9E77\" \"#D95F02\" \"#7570B3\""
      ]
     },
     "metadata": {},
     "output_type": "display_data"
    },
    {
     "data": {
      "image/png": "[encoded data removed]",
      "text/plain": [
       "plot without title"
      ]
     },
     "metadata": {
      "image/png": {
       "height": 780,
       "width": 600
      }
     },
     "output_type": "display_data"
    }
   ],
   "source": [
    "#clustering with 6 cuts\n",
    "\n",
    "# Set1 easy to see'#E41A1C','#377EB8','#4DAF4A','#984EA3','#FF7F00'\n",
    "brewer.pal(n = 3, name = \"Dark2\") # Best color scheme is Set1 \n",
    "#Dark2 with 2 color schemes: '#1B9E77','#D95F02'\n",
    "\n",
    "dend <- as.dendrogram(hc.ward2 )\n",
    "dend <- color_branches(dend, k=3, col = c('#E41A1C','#377EB8','#4DAF4A'))\n",
    "labels(dend) <- df.wa$Country[hc.ward2$order]\n",
    "\n",
    "options(repr.plot.width=10, repr.plot.height=13)\n",
    "par(mar = c(7,7,7,10))\n",
    "\n",
    "dend %>% set(\"branches_k_color\", \n",
    "             value = c('#E41A1C','#377EB8','#4DAF4A'), k = 3) %>% plot(horiz = TRUE)\n",
    "dend %>% rect.dendrogram(k = 3, horiz = TRUE, border = 8, lty = 5, lwd = 2)\n"
   ]
  },
  {
   "cell_type": "markdown",
   "metadata": {},
   "source": [
    "# Typology Analysis"
   ]
  },
  {
   "cell_type": "code",
   "execution_count": 114,
   "metadata": {
    "scrolled": false
   },
   "outputs": [
    {
     "ename": "ERROR",
     "evalue": "Error: Can't rename columns that don't exist.\n\u001b[31mx\u001b[39m Column `ML1` doesn't exist.\n",
     "output_type": "error",
     "traceback": [
      "Error: Can't rename columns that don't exist.\n\u001b[31mx\u001b[39m Column `ML1` doesn't exist.\nTraceback:\n",
      "1. df %>% rename(dugwell = ML1, cheap_commercial = ML2, piped_home = ML3, \n .     thirthy_min_less_travel = ML4, piped_yard_tap = ML5, spring = ML6, \n .     surface_water = ML7)",
      "2. rename(., dugwell = ML1, cheap_commercial = ML2, piped_home = ML3, \n .     thirthy_min_less_travel = ML4, piped_yard_tap = ML5, spring = ML6, \n .     surface_water = ML7)",
      "3. rename.data.frame(., dugwell = ML1, cheap_commercial = ML2, piped_home = ML3, \n .     thirthy_min_less_travel = ML4, piped_yard_tap = ML5, spring = ML6, \n .     surface_water = ML7)",
      "4. tidyselect::eval_rename(expr(c(...)), .data)",
      "5. rename_impl(data, names(data), as_quosure(expr, env), strict = strict, \n .     name_spec = name_spec)",
      "6. eval_select_impl(x, names, {\n .     {\n .         sel\n .     }\n . }, strict = strict, name_spec = name_spec, type = \"rename\")",
      "7. with_subscript_errors(vars_select_eval(vars, expr, strict, data = x, \n .     name_spec = name_spec, uniquely_named = uniquely_named, allow_rename = allow_rename, \n .     type = type), type = type)",
      "8. tryCatch(instrument_base_errors(expr), vctrs_error_subscript = function(cnd) {\n .     cnd$subscript_action <- subscript_action(type)\n .     cnd$subscript_elt <- \"column\"\n .     cnd_signal(cnd)\n . })",
      "9. tryCatchList(expr, classes, parentenv, handlers)",
      "10. tryCatchOne(expr, names, parentenv, handlers[[1L]])",
      "11. value[[3L]](cond)",
      "12. cnd_signal(cnd)",
      "13. rlang:::signal_abort(x)"
     ]
    }
   ],
   "source": [
    "df.wa.fa <- read_excel(\"../../results/df-seven-scores.xlsx\",sheet=1)\n",
    "dfsimple <- read_excel(\"../../results/dfsimple.xlsx\",sheet=1)\n",
    "dfsimple$clusters <- cutree(hc.ward2,3)\n",
    "df <- df.wa.fa[,c(2:8)]\n",
    "\n",
    "df <- df %>% \n",
    "  rename(\n",
    "      dugwell = ML1,\n",
    "      cheap_commercial = ML2,\n",
    "      piped_home = ML3,\n",
    "      thirthy_min_less_travel= ML4,\n",
    "      piped_yard_tap = ML5,\n",
    "      spring = ML6,\n",
    "      surface_water = ML7\n",
    "     )\n",
    "\n",
    "#sizing of the plot\n",
    "options(repr.plot.width=10, repr.plot.height=10)                  \n",
    "old.par <- par(mar = c(0, 0, 0, 0))\n",
    "par(old.par)\n",
    "summary(df)\n",
    "head(df)\n",
    "\n",
    "chart.Correlation(df, histogram=TRUE, pch=19 , tl.cex = .7 )\n",
    "# Create data: Water Accessibility Aggregate\n",
    "df.wa.aggregate <- aggregate(df, list(clusters=dfsimple$clusters), mean)\n",
    "df.wa.avg <- df.wa.aggregate[,1:8]\n",
    "df.wa.avg\n",
    "\n",
    "# Set1 easy to see '#E41A1C','#377EB8','#4DAF4A','#984EA3','#FF7F00','#FFFF33'\n",
    "#brewer.pal(n = 5, name = \"Set1\") # Best color scheme is Set1 \n",
    "\n",
    "#barplots to recognize the distribution\n",
    "centroid <- apply(df.wa.aggregate, 1, function(x) sqrt(sum(x^2)) ) #How close is each country to the centroid of the cluster\n",
    "\n",
    "bp <- barplot(centroid,\n",
    "        main = \"Centroid of the Clusters\", xlab = \"Clusters\", ylab = \"fitness of Centroid\",\n",
    "        col = c('#E41A1C','#377EB8','#4DAF4A'),\n",
    "        ylim = c(0, 10), names.arg = c(\"30 Minute Less to Water\", \"Cheap Commerical Water\", \"Piped to Dwelling\"))\n",
    "text(bp, 0, round(centroid, 1),cex=1,pos=3)\n",
    "options(repr.plot.width=17, repr.plot.height=17)\n",
    "barplot(as.matrix(df.wa.avg[,c(2:8)]),\n",
    "        beside = TRUE,\n",
    "        main = \"Typology average of Clusters\", xlab = \"Water variables\", ylab = \"Factor Weight\",\n",
    "        col = c('#E41A1C','#377EB8','#4DAF4A'),\n",
    "        legend = c(\"30 Minute Less to Water\", \"Cheap Commerical Water\", \"Piped to Dwelling\"), \n",
    "        args.legend = list(title = \"Clusters\", x = \"topright\", cex = .7), ylim = c(0, 1))\n",
    "                  \n",
    "\n",
    "\n",
    "centroiddf.wa <- apply(df, 1, function(x) sqrt(sum(x^2)) ) #How close is each country to the cen-troid of the cluster\n"
   ]
  },
  {
   "cell_type": "markdown",
   "metadata": {},
   "source": [
    "# Spider plot"
   ]
  },
  {
   "cell_type": "code",
   "execution_count": null,
   "metadata": {},
   "outputs": [],
   "source": [
    "data.spider <- rbind(rep(1,1) , rep(0,1) , df.wa.avg[,c(2:8)])\n",
    "colnames(data.spider) <- c(      \n",
    "   \"dugwell\",\n",
    "\"spring\",\n",
    "\"piped to home\",\n",
    "    'piped to yard or tap',\n",
    "    'cheap commerical water',\n",
    "    \"surface water\",\n",
    "    'less than 30 min travel'\n",
    ")                \n",
    "options(repr.plot.width=21, repr.plot.height=17)\n",
    "par(mar = c(1,1,1,1))\n",
    "par(cex=1.4)\n",
    "\n",
    "# The default radar chart for First Cluster\n",
    "r.c. <- radarchart(data.spider,\n",
    "           #custom polygon\n",
    "           pcol= c('#E41A1C','#377EB8','#4DAF4A') ,\n",
    "           plwd=4 , plty=1,\n",
    "           #custom the grid\n",
    "           cglcol=\"grey\", cglty=1, axislabcol=\"grey\", caxislabels= seq(0,1,.2), cglwd=0.8, axistype = 4,\n",
    "           title = 'Cluster Centroid',\n",
    "           vlcex=1,\n",
    "           calcex = 1 ,\n",
    "                   \n",
    "           )"
   ]
  },
  {
   "cell_type": "markdown",
   "metadata": {},
   "source": [
    "# cluster rankings (centroid)"
   ]
  },
  {
   "cell_type": "code",
   "execution_count": null,
   "metadata": {
    "scrolled": false
   },
   "outputs": [],
   "source": [
    "df.wa <- read_excel(\"../../results/df-seven-scores.xlsx\",sheet=1)\n",
    "df.wa <- df.wa %>% \n",
    "  rename(\n",
    "      dugwell = ML1,\n",
    "      cheap_commercial = ML2,\n",
    "      piped_home = ML3,\n",
    "      thirthy_min_less_travel= ML4,\n",
    "      piped_yard_tap = ML5,\n",
    "      spring = ML6,\n",
    "      surface_water = ML7\n",
    "     )\n",
    "# clean df at next save (2 cluster columns - only 1 needed; etc) #df also needs to be only water accessibility variables\n",
    "\n",
    "df.wa[\"norm\"] <- apply(df.wa[2:8], 1, function(x) sqrt(sum(x^2)) ) #assuming columns 5:10 are the water accessibility variables\n",
    "# Ideally, df should just be the countries and the water access. variables ONLY. This, way, the code should then be:\n",
    "# df[\"norm\"] <- apply(df, 1, function(x) sqrt(sum(x^2)) )\n",
    "                       \n",
    "df.wa[\"distToCentroid\"] = 0 # initialize\n",
    "                       \n",
    "df.wa$clusters <- as.factor(dfsimple$clusters)\n",
    "#Turn into numeric to find centroids\n",
    "                       \n",
    "# assuming centroiddf.wa is your vector of cluster centroids\n",
    "\n",
    "# copied this from your earlier notebook\n",
    "head(df.wa)                       \n",
    "df.wa.aggregate <- aggregate(df.wa[,c(2:8)], list(clusters=dfsimple$clusters), mean)\n",
    "                       head(df.wa.aggregate)\n",
    "df.wa.aggregate <- df.wa.aggregate[,c(1:7)]\n",
    "centroiddf.wa <- apply(df.wa.aggregate, 1, function(x) sqrt(sum(x^2)) ) #How close is each country to the cen-troid of the cluster\n",
    "\n",
    "head(centroiddf.wa)       \n",
    "                       \n",
    "                       \n",
    "df.wa$clusters <- dfsimple$clusters                      \n",
    "df <- df.wa\n",
    "                       \n",
    "# Then here, you compute the distance to centroid cluster by cluster\n",
    "df[df$clusters == 1, \"distToCentroid\"] = abs(df[df$clusters == 1, \"norm\"] - centroiddf.wa[1])\n",
    "df[df$clusters == 2, \"distToCentroid\"] = abs(df[df$clusters == 2, \"norm\"] - centroiddf.wa[2])\n",
    "df[df$clusters == 3, \"distToCentroid\"] = abs(df[df$clusters == 3, \"norm\"] - centroiddf.wa[3])\n",
    "df[df$clusters == 4, \"distToCentroid\"] = abs(df[df$clusters == 4, \"norm\"] - centroiddf.wa[4])\n",
    "df[df$clusters == 5, \"distToCentroid\"] = abs(df[df$clusters == 5, \"norm\"] - centroiddf.wa[5])\n",
    "df[df$clusters == 6, \"distToCentroid\"] = abs(df[df$clusters == 6, \"norm\"] - centroiddf.wa[6])                       \n",
    "\n",
    "head(df,7)\n",
    "write_xlsx(df , '../../results/df-fa-seven-cluster-rank.xlsx')\n",
    "# You can then sort each subset by the size of \"distToCentroid\"\n",
    "\n",
    "df1 = df %>% \n",
    "dplyr:: arrange_at(\"Country\", desc) %>%\n",
    " dplyr:: arrange_at(\"distToCentroid\") %>%\n",
    " dplyr::arrange_at(\"clusters\") %>%\n",
    " dplyr:: select(1, 10, 11)\n",
    "\n",
    "#head(df1)\n",
    "cluster.one <- subset(df1, clusters == 1 )\n",
    "cluster.two <- subset(df1, clusters == 2 )\n",
    "cluster.three <- subset(df1, clusters == 3 )\n",
    "cluster.four <- subset(df1, clusters == 4 )\n",
    "cluster.five <- subset(df1, clusters == 5 )\n",
    "cluster.six <- subset(df1, clusters == 6 )\n",
    "\n",
    "head(cluster.one)\n",
    "summary(cluster.one)\n",
    "                       \n",
    "cluster.one %>% \n",
    " dplyr:: arrange_at(\"Country\", desc) %>%\n",
    " dplyr::  arrange_at(\"distToCentroid\") %>%\n",
    " dplyr::   arrange_at(\"clusters\") %>%\n",
    " dplyr:: select(1:3)\n",
    "cluster.two %>% \n",
    " dplyr:: arrange_at(\"Country\", desc) %>%\n",
    " dplyr::  arrange_at(\"distToCentroid\") %>%\n",
    "  dplyr::  arrange_at(\"clusters\") %>%\n",
    "  dplyr::select(1:3)\n",
    "cluster.three %>% \n",
    "  dplyr::arrange_at(\"Country\", desc) %>%\n",
    "  dplyr:: arrange_at(\"distToCentroid\") %>%\n",
    "   dplyr:: arrange_at(\"clusters\") %>%\n",
    " dplyr:: select(1:3)\n",
    "cluster.four %>% \n",
    " dplyr:: arrange_at(\"Country\", desc) %>%\n",
    "  dplyr:: arrange_at(\"distToCentroid\") %>%\n",
    "  dplyr:: arrange_at(\"clusters\") %>%\n",
    " dplyr::select(1:3)\n",
    "cluster.five %>% \n",
    "dplyr:: arrange_at(\"Country\", desc) %>%\n",
    "dplyr:: arrange_at(\"distToCentroid\") %>%\n",
    "dplyr:: arrange_at(\"clusters\") %>%\n",
    "dplyr:: select(1:3)\n",
    "cluster.six %>% \n",
    "  dplyr::arrange_at(\"Country\", desc) %>%\n",
    "   dplyr::arrange_at(\"distToCentroid\") %>%\n",
    "   dplyr::arrange_at(\"clusters\") %>%\n",
    " dplyr::select(1:3)"
   ]
  },
  {
   "cell_type": "markdown",
   "metadata": {},
   "source": [
    "# World Map"
   ]
  },
  {
   "cell_type": "code",
   "execution_count": null,
   "metadata": {
    "scrolled": false
   },
   "outputs": [],
   "source": [
    "df = read_excel('../../results/df-fa-seven-cluster-rank.xlsx') #change name of file to sth descriptive (e.g. country-clusters)\n",
    "head(df)\n",
    "df = df[, c(1,11)] # select only country name and cluster number\n",
    "head(df,7)\n",
    "colnames(df) = c('region', 'value') # change column names for ggplot\n",
    "dim(df)\n",
    "head(df)\n",
    "# This is to convert country names in df to match those in the worldMap dataframe\n",
    "coords <- joinCountryData2Map(df, joinCode = \"NAME\", nameJoinColumn = \"region\")\n",
    "coords = data.frame(coords)\n",
    "colnames(coords) = tolower(colnames(coords))\n",
    "colnames(coords)\n",
    "coords = drop_na(coords, value)\n",
    "coords$name\n",
    "setdiff(df$region,coords$name)\n",
    "\n",
    "# Correct the country names in DF\n",
    "df[df=='Timor-Leste'] = \"East Timor\"\n",
    "df[df=='Central African Republic'] = \"Central African Rep.\"\n",
    "df[df=='Cote d\\'Ivoire'] = \"Ivory Coast\"\n",
    "df[df=='Dominican Republic'] = \"Dominican Rep.\"\n",
    "df[df=='Kyrgyz Republic'] = \"Kyrgyzstan\"\n",
    "df[df=='Eswatini'] = \"Swaziland\"\n",
    "df[df=='Congo'] = \"Congo (Brazzaville)\"\n",
    "df[df=='Congo Democratic Republic'] = \"Congo (Kinshasa)\"\n",
    "\n",
    "# Get world map data (lat/long)\n",
    "countrynames = df$region\n",
    "worldMap <- getMap()\n",
    "country_indices <- which(worldMap$NAME%in%countrynames)\n",
    "\n",
    "# Get coordinates for all countries to plot base map\n",
    "allCoords <- lapply(seq(1,243), function(i){\n",
    "  dfn <- data.frame(worldMap@polygons[[i]]@Polygons[[1]]@coords)\n",
    "  dfn$region =as.character(worldMap$NAME[i])\n",
    "  colnames(dfn) <- list(\"long\", \"lat\", \"region\")\n",
    "  return(dfn)\n",
    "})\n",
    "allCoords <- do.call(\"rbind\", allCoords)\n",
    "\n",
    "# Get coordinates strictly for those in water accessibility dataset\n",
    "waterCoords <- lapply(country_indices, function(i){\n",
    "  dfn <- data.frame(worldMap@polygons[[i]]@Polygons[[1]]@coords)\n",
    "  dfn$region =as.character(worldMap$NAME[i])\n",
    "  colnames(dfn) <- list(\"long\", \"lat\", \"region\")\n",
    "  return(dfn)\n",
    "})\n",
    "\n",
    "waterCoords <- do.call(\"rbind\", waterCoords)\n",
    "waterCoords$value <- df$value[match(waterCoords$region,df$region)]\n",
    "waterCoords$value <- factor(waterCoords$value)\n",
    "\n",
    "# Plot\n",
    "options(repr.plot.width=17, repr.plot.height=17)\n",
    "par(mar = c(1,1,1,1))\n",
    "par(cex=1)\n",
    "ggplot() +\n",
    "    geom_sf(color = \"black\", fill= 'antiquewhite') +\n",
    "    xlab(\"Longitude\") + ylab(\"Latitude\") +\n",
    "    geom_polygon(data= allCoords, mapping = aes(x =long, y=lat,group = region),color=\"grey\",fill=NA) + \n",
    "    geom_polygon( data = waterCoords, mapping = aes(x =long, y=lat,group = region, fill=value), size=.3,color=\"black\") +\n",
    "    expand_limits(x = waterCoords$long, y = waterCoords$lat)  + \n",
    "    scale_fill_brewer(palette='Set1', name=\"Water Accessibility Typologies\", na.value=\"grey\", labels = c(\n",
    "    \"30 Minute Less to Water\", \"Cheap Commerical Water\", \"Piped to Dwelling\")) +  #labels = c())+\n",
    "    ggtitle(\"World Map\", subtitle = paste0(\"(\", length(unique(df$region)), \" Countries)\")) +\n",
    "    theme_minimal() +\n",
    "    theme(legend.position = \"bottom\",\n",
    "        axis.ticks = element_blank(), \n",
    "        axis.title = element_blank(), \n",
    "        axis.text =  element_blank()) \n",
    "#     #guides(fill = guide_colorbar(barwidth = 10, barheight = .5))\n"
   ]
  },
  {
   "cell_type": "markdown",
   "metadata": {},
   "source": [
    "# Classification"
   ]
  },
  {
   "cell_type": "code",
   "execution_count": null,
   "metadata": {
    "scrolled": false
   },
   "outputs": [],
   "source": [
    "df.wa = read_excel( \"../../results/df-water-access.xlsx\" ,sheet=1)\n",
    "df.exp =read_excel(\"../../results/df-water-explore.xlsx\" ,sheet=1)\n",
    "df.cluster = read_excel(\"../../results/df-fa-seven-cluster-rank.xlsx\" ,sheet=1)\n",
    "df.wb = read_excel(\"../../results/df-wb.xlsx\" ,sheet=1 )\n",
    "df.exp$clusters <- as.factor(df.cluster$clusters)\n",
    "df <- merge(x = df.exp,\n",
    "              y = df.wb,\n",
    "              by = c(\"Country\"))\n",
    "\n",
    "head(df)\n",
    "count(df)\n",
    "df <- df[, c(1:13, 17,21)]\n",
    "\n",
    "# ReScaling in 0 to 1 for all the necessary data\n",
    "#df.scale = as.data.frame(apply(as.matrix(df[, c(2:7, 9:15)]), 2, rescale))\n",
    "#df <- cbind(df,df.scale)\n",
    "#df <- df[,c(1,8,16:28)]\n",
    "#head(df)\n",
    "\n",
    "df.a <- df[, c(1:6,8)]\n",
    "head(df.a)\n",
    "#size of the plot \n",
    "options(repr.plot.width=7, repr.plot.height=7)\n",
    "par(mar = c(1,1,1,1))\n",
    "par(cex=1)\n",
    "hist(df$cart)\n",
    "#Tree plot\n",
    "tree.wa = tree(clusters ~ . - Country  , data = df)\n",
    "summary(tree.wa) \n",
    "plot(tree.wa)\n",
    "text(tree.wa, pretty = 0) #population density High density for six cluster group.\n",
    "tree.wa\n",
    "\n",
    "# rf\n",
    "rf.water = randomForest(clusters~. -Country, data = df , ntree= 200,mtry=13)\n",
    "print(rf.water)\n",
    "\n",
    "summary(rf.water)\n",
    "\n",
    "importance <- importance(rf.water, sort = TRUE)\n",
    "importance\n",
    "\n",
    "# create an importance plot\n",
    "varImpPlot(rf.water, sort=TRUE, n.var=min(30, nrow(rf.water$importance)),\n",
    "           type=NULL, class=NULL, scale=TRUE )\n",
    "#plot\n",
    "plot(randomForest(clusters~. -Country, data = df ,ntree=200,  keep.forest=FALSE, mtry=4) )"
   ]
  },
  {
   "cell_type": "code",
   "execution_count": null,
   "metadata": {},
   "outputs": [],
   "source": []
  }
 ],
 "metadata": {
  "kernelspec": {
   "display_name": "R",
   "language": "R",
   "name": "ir"
  },
  "language_info": {
   "codemirror_mode": "r",
   "file_extension": ".r",
   "mimetype": "text/x-r-source",
   "name": "R",
   "pygments_lexer": "r",
   "version": "4.0.2"
  }
 },
 "nbformat": 4,
 "nbformat_minor": 4
}
